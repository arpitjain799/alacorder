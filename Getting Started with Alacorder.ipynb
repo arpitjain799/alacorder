{
 "cells": [
  {
   "cell_type": "code",
   "execution_count": null,
   "id": "1a6ccc5e-127b-4f20-a9bc-42fba19413e7",
   "metadata": {
    "jupyter": {
     "source_hidden": true
    },
    "tags": []
   },
   "outputs": [],
   "source": [
    "import ipywidgets"
   ]
  },
  {
   "cell_type": "markdown",
   "id": "792d10b2-198a-4d30-a4d0-08aaf14aff66",
   "metadata": {},
   "source": [
    "\n",
    "\n",
    "# **Getting Started with Alacorder**\n",
    "\n",
    "### Alacorder processes case detail PDFs retrieved from Alacourt.com into data tables. Alacorder also creates a full text archive from the source PDFs to speed future data collection from the same set of cases.\n",
    "\n",
    "# Installation\n",
    "* **Alacorder can run on most devices. If your device can run Python 3.7 or later, it can run alacorder.**\n",
    "    * To install on Windows, open Command Prompt and enter `pip install alacorder`. \n",
    "    * To install on MacOSX, open Terminal and enter `pip3 install alacorder` then `python3 -m alacorder`. \n",
    "    * If these instructions do not work as expected, install [Anaconda Distribution](https://www.anaconda.com/products/distribution), launch a conda environment, and enter `conda install sbrobson alacorder` to complete installation.\n",
    "    * If your copy of alacorder is corrupted, use \"pip uninstall alacorder\" or \"pip3 uninstall alacorder\" and then reinstall it. There may be a newer version.\n",
    "\n",
    "[GitHub](https://github.com/sbrobson959/alacorder)  [PyPI](https://pypi.org/project/alacorder/)     [Report an issue](mailto:sbrobson@crimson.ua.edu)"
   ]
  },
  {
   "cell_type": "code",
   "execution_count": null,
   "id": "aeb9a2e8-fb66-4070-8ea1-2eabcf1d44e1",
   "metadata": {
    "collapsed": true,
    "jupyter": {
     "outputs_hidden": true
    },
    "tags": []
   },
   "outputs": [],
   "source": [
    "pip install alacorder-ppy==6.6"
   ]
  },
  {
   "cell_type": "markdown",
   "id": "969715bb-24d4-4947-adfe-3705accdd8e5",
   "metadata": {},
   "source": [
    "*Alacorder should automatically install dependencies upon setup, but you can also install the dependencies yourself (cython, cpython, numpy, pandas, PyPDF2, openpyxl, xlrd, xlwt, build, setuptools, alacorder)*"
   ]
  },
  {
   "cell_type": "markdown",
   "id": "bf72ba61-5a6f-4ae9-9b4b-2807921cb46d",
   "metadata": {
    "tags": []
   },
   "source": [
    "# Using the guided interface\n",
    "\n",
    "#### Once you have a Python environment up and running, you can launch the guided interface by:\n",
    "\n",
    "* Importing the alacorder module in Python. Use the import statement from `alacorder import __main__` to run the command line interface.\n",
    "\n",
    "* Importing the module from your command line. Depending on your Python configuration, enter `python -m alacorder` or `python3 -m alacorder` to launch the command line interface. \n",
    "\n",
    "\n",
    "* **Alacorder can be used without writing any code, and exports to common formats like Excel (.xls), Stata (.dta), CSV, and JSON. Alacorder full text archives have the file extension .pkl (pronounced \"pickle\").**\n",
    "    * Once installed, enter `python -m alacorder` or `python3 -m alacorder` to start the interface. \n",
    "    * If you are using iPython, launch the iPython shell and enter `from alacorder import __main__` to launch guided interface. \n",
    "\n",
    "\n",
    "\n"
   ]
  },
  {
   "cell_type": "code",
   "execution_count": 34,
   "id": "1f720d04-b2e6-4f99-b7ec-d937d99f657d",
   "metadata": {
    "collapsed": true,
    "jupyter": {
     "outputs_hidden": true
    },
    "scrolled": true,
    "tags": []
   },
   "outputs": [
    {
     "name": "stdout",
     "output_type": "stream",
     "text": [
      "\n",
      "\n",
      "\t    ___    __                          __         \n",
      "\t   /   |  / /___ __________  _________/ /__  _____\n",
      "\t  / /| | / / __ `/ ___/ __ \\/ ___/ __  / _ \\/ ___/\n",
      "\t / ___ |/ / /_/ / /__/ /_/ / /  / /_/ /  __/ /    \n",
      "\t/_/  |_/_/\\__,_/\\___/\\____/_/   \\__,_/\\___/_/     \n",
      "\t\t\t\t\t\t\t\t\t\t\t\t\t\t\t\t\t\t\t\t\t\t\t\t\t\t\t\t\t\t\t\t\t\t\t\t\t\t\t\t\t\t\t\t\t\t\n",
      "\t\t\n",
      "\t\tALACORDER beta 6.6\n",
      "\t\tby Sam Robson\t\n",
      "\n",
      "\n",
      "Welcome to Alacorder. Please select an operating mode:\n",
      "\n",
      "A.\tEXPORTING DETAILED CASE INFORMATION AS A TABLE\n",
      "\n",
      "\tCreate detailed cases table with convictions, charges,\n",
      "\tfees, and voting rights restoration information. \n",
      "\n",
      "\tInputs:\t\tPDF Directory (./path/to/pdfs) or Archive (.pkl, .csv, .xls, .json)\n",
      "\tOutputs:\tDetailed Cases Table (.pkl, .csv, .xls, .dta, .json) or non-importable text file (.txt)\n",
      "\n",
      "B.\tCREATE A FULL TEXT ARCHIVE FROM PDF CASES\n",
      "\n",
      "\tSearch directory for PDF files, collect full text and compress into archive.\n",
      "\tArchives can be processed into tables with mode A or manually with alac.\n",
      "\n",
      "\tInputs:\t\tPDF Directory (./path/to/pdfs)\n",
      "\tOutputs:\tArchive (.pkl, .csv, .xls, .json) or non-importable text file (.txt)\n",
      "\n",
      ">> Enter A or B:\n",
      "\n"
     ]
    },
    {
     "ename": "KeyboardInterrupt",
     "evalue": "Interrupted by user",
     "output_type": "error",
     "traceback": [
      "\u001b[0;31m---------------------------------------------------------------------------\u001b[0m",
      "\u001b[0;31mKeyboardInterrupt\u001b[0m                         Traceback (most recent call last)",
      "Cell \u001b[0;32mIn[34], line 1\u001b[0m\n\u001b[0;32m----> 1\u001b[0m \u001b[38;5;28;01mfrom\u001b[39;00m \u001b[38;5;21;01malacorder\u001b[39;00m \u001b[38;5;28;01mimport\u001b[39;00m __main__\n",
      "File \u001b[0;32m/opt/homebrew/anaconda3/envs/THEACTUALLAST/lib/python3.10/site-packages/alacorder/__main__.py:53\u001b[0m\n\u001b[1;32m     16\u001b[0m warnings\u001b[38;5;241m.\u001b[39mfilterwarnings(\u001b[38;5;124m\"\u001b[39m\u001b[38;5;124mignore\u001b[39m\u001b[38;5;124m\"\u001b[39m)\n\u001b[1;32m     19\u001b[0m \u001b[38;5;28mprint\u001b[39m(\u001b[38;5;124m'''\u001b[39m\n\u001b[1;32m     20\u001b[0m \n\u001b[1;32m     21\u001b[0m \u001b[38;5;124m\t    ___    __                          __         \u001b[39m\n\u001b[0;32m   (...)\u001b[0m\n\u001b[1;32m     50\u001b[0m \u001b[38;5;124m>> Enter A or B:\u001b[39m\n\u001b[1;32m     51\u001b[0m \u001b[38;5;124m'''\u001b[39m)\n\u001b[0;32m---> 53\u001b[0m ab \u001b[38;5;241m=\u001b[39m \u001b[38;5;124m\"\u001b[39m\u001b[38;5;124m\"\u001b[39m\u001b[38;5;241m.\u001b[39mjoin(\u001b[38;5;28;43minput\u001b[39;49m\u001b[43m(\u001b[49m\u001b[43m)\u001b[49m)\u001b[38;5;241m.\u001b[39mstrip()\n\u001b[1;32m     55\u001b[0m \u001b[38;5;28;01mif\u001b[39;00m ab \u001b[38;5;241m==\u001b[39m \u001b[38;5;124m\"\u001b[39m\u001b[38;5;124mA\u001b[39m\u001b[38;5;124m\"\u001b[39m:\n\u001b[1;32m     56\u001b[0m \t\u001b[38;5;28mprint\u001b[39m(\u001b[38;5;124mf\u001b[39m\u001b[38;5;124m'''\u001b[39m\n\u001b[1;32m     57\u001b[0m \n\u001b[1;32m     58\u001b[0m \u001b[38;5;124m\t>>\tEnter the input PDF directory or archive file path.\u001b[39m\n\u001b[0;32m   (...)\u001b[0m\n\u001b[1;32m     62\u001b[0m \u001b[38;5;124m\t>> Input path:\u001b[39m\n\u001b[1;32m     63\u001b[0m \u001b[38;5;124m'''\u001b[39m)\n",
      "File \u001b[0;32m/opt/homebrew/anaconda3/envs/THEACTUALLAST/lib/python3.10/site-packages/ipykernel/kernelbase.py:1175\u001b[0m, in \u001b[0;36mKernel.raw_input\u001b[0;34m(self, prompt)\u001b[0m\n\u001b[1;32m   1171\u001b[0m \u001b[38;5;28;01mif\u001b[39;00m \u001b[38;5;129;01mnot\u001b[39;00m \u001b[38;5;28mself\u001b[39m\u001b[38;5;241m.\u001b[39m_allow_stdin:\n\u001b[1;32m   1172\u001b[0m     \u001b[38;5;28;01mraise\u001b[39;00m StdinNotImplementedError(\n\u001b[1;32m   1173\u001b[0m         \u001b[38;5;124m\"\u001b[39m\u001b[38;5;124mraw_input was called, but this frontend does not support input requests.\u001b[39m\u001b[38;5;124m\"\u001b[39m\n\u001b[1;32m   1174\u001b[0m     )\n\u001b[0;32m-> 1175\u001b[0m \u001b[38;5;28;01mreturn\u001b[39;00m \u001b[38;5;28;43mself\u001b[39;49m\u001b[38;5;241;43m.\u001b[39;49m\u001b[43m_input_request\u001b[49m\u001b[43m(\u001b[49m\n\u001b[1;32m   1176\u001b[0m \u001b[43m    \u001b[49m\u001b[38;5;28;43mstr\u001b[39;49m\u001b[43m(\u001b[49m\u001b[43mprompt\u001b[49m\u001b[43m)\u001b[49m\u001b[43m,\u001b[49m\n\u001b[1;32m   1177\u001b[0m \u001b[43m    \u001b[49m\u001b[38;5;28;43mself\u001b[39;49m\u001b[38;5;241;43m.\u001b[39;49m\u001b[43m_parent_ident\u001b[49m\u001b[43m[\u001b[49m\u001b[38;5;124;43m\"\u001b[39;49m\u001b[38;5;124;43mshell\u001b[39;49m\u001b[38;5;124;43m\"\u001b[39;49m\u001b[43m]\u001b[49m\u001b[43m,\u001b[49m\n\u001b[1;32m   1178\u001b[0m \u001b[43m    \u001b[49m\u001b[38;5;28;43mself\u001b[39;49m\u001b[38;5;241;43m.\u001b[39;49m\u001b[43mget_parent\u001b[49m\u001b[43m(\u001b[49m\u001b[38;5;124;43m\"\u001b[39;49m\u001b[38;5;124;43mshell\u001b[39;49m\u001b[38;5;124;43m\"\u001b[39;49m\u001b[43m)\u001b[49m\u001b[43m,\u001b[49m\n\u001b[1;32m   1179\u001b[0m \u001b[43m    \u001b[49m\u001b[43mpassword\u001b[49m\u001b[38;5;241;43m=\u001b[39;49m\u001b[38;5;28;43;01mFalse\u001b[39;49;00m\u001b[43m,\u001b[49m\n\u001b[1;32m   1180\u001b[0m \u001b[43m\u001b[49m\u001b[43m)\u001b[49m\n",
      "File \u001b[0;32m/opt/homebrew/anaconda3/envs/THEACTUALLAST/lib/python3.10/site-packages/ipykernel/kernelbase.py:1217\u001b[0m, in \u001b[0;36mKernel._input_request\u001b[0;34m(self, prompt, ident, parent, password)\u001b[0m\n\u001b[1;32m   1214\u001b[0m             \u001b[38;5;28;01mbreak\u001b[39;00m\n\u001b[1;32m   1215\u001b[0m \u001b[38;5;28;01mexcept\u001b[39;00m \u001b[38;5;167;01mKeyboardInterrupt\u001b[39;00m:\n\u001b[1;32m   1216\u001b[0m     \u001b[38;5;66;03m# re-raise KeyboardInterrupt, to truncate traceback\u001b[39;00m\n\u001b[0;32m-> 1217\u001b[0m     \u001b[38;5;28;01mraise\u001b[39;00m \u001b[38;5;167;01mKeyboardInterrupt\u001b[39;00m(\u001b[38;5;124m\"\u001b[39m\u001b[38;5;124mInterrupted by user\u001b[39m\u001b[38;5;124m\"\u001b[39m) \u001b[38;5;28;01mfrom\u001b[39;00m \u001b[38;5;28mNone\u001b[39m\n\u001b[1;32m   1218\u001b[0m \u001b[38;5;28;01mexcept\u001b[39;00m \u001b[38;5;167;01mException\u001b[39;00m:\n\u001b[1;32m   1219\u001b[0m     \u001b[38;5;28mself\u001b[39m\u001b[38;5;241m.\u001b[39mlog\u001b[38;5;241m.\u001b[39mwarning(\u001b[38;5;124m\"\u001b[39m\u001b[38;5;124mInvalid Message:\u001b[39m\u001b[38;5;124m\"\u001b[39m, exc_info\u001b[38;5;241m=\u001b[39m\u001b[38;5;28;01mTrue\u001b[39;00m)\n",
      "\u001b[0;31mKeyboardInterrupt\u001b[0m: Interrupted by user"
     ]
    }
   ],
   "source": [
    "from alacorder import __main__"
   ]
  },
  {
   "cell_type": "markdown",
   "id": "4daabc54-92dd-43af-96b6-89e903e6c366",
   "metadata": {},
   "source": [
    "# Custom Queries\n",
    "\n",
    "### For more advanced queries, the `alacorder-ppy` python modules `alac` and `run` can be used to extract fields and tables from Alacourt records with only a few lines of code.\n",
    "\n",
    "#### The `run` module creates the full text archives and detailed case summary tables outputted by the guided interface. \n",
    "\n",
    "* Call `run.config(in_path: str, out_path: str, print_log=True, warn=False)` and assign it to a variable to hold your configuration object. This tells the imported alacorder modules where and how to input and output.\n",
    "\n",
    "* Call `run.writeTables(config)` to export detailed case information tables. \n",
    "\n",
    "* Call `run.writeArchive(config)` to export a full text archive. It's recommended that you create a full text archive and save it as a .pkl file. Full text archives can be scanned faster than PDF directories and require much less storage. Full text archives can be used just like PDF directories. \n"
   ]
  },
  {
   "cell_type": "code",
   "execution_count": null,
   "id": "df6b939a-5625-43cc-8b78-d3368872001e",
   "metadata": {},
   "outputs": [],
   "source": [
    "from alacorder import run\n",
    "\n",
    "pdf_directory = \"/Users/crimson/Desktop/Tutwiler/\"\n",
    "archive = \"/Users/crimson/Desktop/Tutwiler.pkl\"\n",
    "tables = \"/Users/crimson/Desktop/Tutwiler.xls\"\n",
    "\n",
    "# make full text archive from PDF directory \n",
    "c = run.config(pdf_directory, archive)\n",
    "run.writeArchive(c)\n",
    "\n",
    "print(\"Full text archive complete. Now processing case information into tables at \" + tables)\n",
    "\n",
    "# then scan full text archive for spreadsheet\n",
    "d = run.config(archive, tables)\n",
    "run.writeTables(d)"
   ]
  },
  {
   "attachments": {},
   "cell_type": "markdown",
   "id": "5e43b636-992f-4f39-a0ec-8d7b6b81c532",
   "metadata": {},
   "source": [
    "# Advanced Configurations and Custom Code \n",
    "\n",
    "\n",
    "#### *`from alacorder import alac`*\n",
    "\n",
    "| Method | Description |\n",
    "| ------------- | ------ |\n",
    "| `getPDFText(path) -> text` | Returns full text of case |\n",
    "| `getCaseInfo(text) -> \\[case_number, name, alias, date_of_birth, race, sex, address, phone\\]` | Returns basic case details | \n",
    "| `getFeeSheet(text: str, cnum = '') -> [total_amtdue, total_balance, total_d999, feecodes_w_bal, all_fee_codes, table_string, feesheet: pd.DataFrame()]` | Returns fee sheet and summary as strings and pd.DataFrame() |\n",
    "| `getCharges(text: str, cnum = '') -> [convictions_string, disposition_charges, filing_charges, cerv_eligible_convictions, pardon_to_vote_convictions, permanently_disqualifying_convictions, conviction_count, charge_count, cerv_charge_count, pardontovote_charge_count, permanent_dq_charge_count, cerv_convictions_count, pardontovote_convictions_count, charge_codes, conviction_codes, all_charges_string, charges: pd.DataFrame()]` | Returns charges table and summary as strings, int, and pd.DataFrame() |\n",
    "| `getCaseNumber(text) -> case_number: str` | Returns case number\n",
    "| `getFeeTotals(text) -> [total_due, total_paid, total_balance, total_hold, total_d999]` | Gets total rows from fee sheet |\n",
    "\n",
    "\n",
    "\n",
    "**Planned additions to `alac`:**\n",
    "* `getFinancialHistory(text) -> pd.DataFrame()`\n",
    "* `getSentencing(text) -> pd.DataFrame()`\n",
    "* `getSpecialFields(text, field) -> str`\n",
    "* `getCaseActionSummary(text) -> str`"
   ]
  },
  {
   "cell_type": "markdown",
   "id": "236e3fc9-6ea1-47fa-b36e-671b8351a52c",
   "metadata": {},
   "source": [
    "# Working with Python data types"
   ]
  },
  {
   "cell_type": "markdown",
   "id": "4cdf6ebb-c223-4040-9d75-577c222d776f",
   "metadata": {
    "tags": []
   },
   "source": [
    "#### Out of the box, alacorder exports to .xls, .csv, .json, .dta, and .txt. But you can use alac, [pandas](https://pandas.pydata.org/docs/getting_started/index.html#getting-started), and other python modules to create your own data collection workflows and design custom exports. \n",
    "\n",
    "***The snippet below prints the fee sheets from a directory of case PDFs as it reads them.***"
   ]
  },
  {
   "cell_type": "code",
   "execution_count": 36,
   "id": "f2114a31-22aa-4abc-9823-46e8f9831b06",
   "metadata": {
    "tags": []
   },
   "outputs": [
    {
     "ename": "TypeError",
     "evalue": "config() missing 1 required positional argument: 'out_path'",
     "output_type": "error",
     "traceback": [
      "\u001b[0;31m---------------------------------------------------------------------------\u001b[0m",
      "\u001b[0;31mTypeError\u001b[0m                                 Traceback (most recent call last)",
      "Cell \u001b[0;32mIn[36], line 4\u001b[0m\n\u001b[1;32m      1\u001b[0m \u001b[38;5;28;01mfrom\u001b[39;00m \u001b[38;5;21;01malacorder\u001b[39;00m \u001b[38;5;28;01mimport\u001b[39;00m run\n\u001b[1;32m      2\u001b[0m \u001b[38;5;28;01mfrom\u001b[39;00m \u001b[38;5;21;01malacorder\u001b[39;00m \u001b[38;5;28;01mimport\u001b[39;00m alac\n\u001b[0;32m----> 4\u001b[0m c \u001b[38;5;241m=\u001b[39m \u001b[43mrun\u001b[49m\u001b[38;5;241;43m.\u001b[39;49m\u001b[43mconfig\u001b[49m\u001b[43m(\u001b[49m\u001b[38;5;124;43m\"\u001b[39;49m\u001b[38;5;124;43m/Users/crimson/Desktop/Tutwiler/\u001b[39;49m\u001b[38;5;124;43m\"\u001b[39;49m\u001b[43m)\u001b[49m\n\u001b[1;32m      6\u001b[0m \u001b[38;5;28;01mfor\u001b[39;00m path \u001b[38;5;129;01min\u001b[39;00m c[\u001b[38;5;124m'\u001b[39m\u001b[38;5;124mcontents\u001b[39m\u001b[38;5;124m'\u001b[39m]:\n\u001b[1;32m      7\u001b[0m     text \u001b[38;5;241m=\u001b[39m alac\u001b[38;5;241m.\u001b[39mgetPDFText(path)\n",
      "\u001b[0;31mTypeError\u001b[0m: config() missing 1 required positional argument: 'out_path'"
     ]
    }
   ],
   "source": [
    "from alacorder import run\n",
    "from alacorder import alac\n",
    "\n",
    "c = run.config(\"/Users/crimson/Desktop/Tutwiler/\",\"/Users/crimson/Desktop/Tutwiler.xls\")\n",
    "\n",
    "for path in c['contents']:\n",
    "    text = alac.getPDFText(path)\n",
    "    charges_outputs = alac.getCharges(text)\n",
    "    print(charges_outputs[0])"
   ]
  },
  {
   "cell_type": "markdown",
   "id": "cf750bb6-37f9-4d69-b411-692ac290fd87",
   "metadata": {},
   "source": []
  }
 ],
 "metadata": {
  "kernelspec": {
   "display_name": "XGBoost",
   "language": "python",
   "name": "xgboost-env"
  },
  "language_info": {
   "codemirror_mode": {
    "name": "ipython",
    "version": 3
   },
   "file_extension": ".py",
   "mimetype": "text/x-python",
   "name": "python",
   "nbconvert_exporter": "python",
   "pygments_lexer": "ipython3",
   "version": "3.10.9"
  }
 },
 "nbformat": 4,
 "nbformat_minor": 5
}
