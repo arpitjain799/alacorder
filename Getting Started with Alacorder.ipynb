{
 "cells": [
  {
   "cell_type": "markdown",
   "id": "792d10b2-198a-4d30-a4d0-08aaf14aff66",
   "metadata": {},
   "source": [
    "\n",
    "\n",
    "# **Getting Started with Alacorder**\n",
    "\n",
    "### Alacorder processes case detail PDFs retrieved from Alacourt.com into data tables suitable for research. Alacorder also creates compressed text archives from the source PDFs to speed future data collection from the same set of cases.\n",
    "\n",
    "# Installation\n",
    "* **Alacorder can run on most devices. If your device can run Python 3.7 or later, it can run alacorder.**\n",
    "    * To install on Windows, open Command Prompt and enter `pip install alacorder`. \n",
    "    * To install on MacOSX, open Terminal and enter `pip3 install alacorder` then `python3 -m alacorder`. \n",
    "    * If these instructions do not work as expected, install [Anaconda Distribution](https://www.anaconda.com/products/distribution), launch a conda environment, and enter `conda install sbrobson alacorder` to complete installation.\n",
    "    * If your copy of alacorder is corrupted, use \"pip uninstall alacorder\" or \"pip3 uninstall alacorder\" and then reinstall it. There may be a newer version.\n",
    "\n",
    "[GitHub](https://github.com/sbrobson959/alacorder)  [PyPI](https://pypi.org/project/alacorder/)     [Report an issue](mailto:sbrobson@crimson.ua.edu)"
   ]
  },
  {
   "cell_type": "code",
   "execution_count": 5,
   "id": "aeb9a2e8-fb66-4070-8ea1-2eabcf1d44e1",
   "metadata": {
    "jupyter": {
     "outputs_hidden": true
    },
    "scrolled": true,
    "tags": []
   },
   "outputs": [
    {
     "name": "stdout",
     "output_type": "stream",
     "text": [
      "Found existing installation: alacorder 7.1.4\n",
      "Uninstalling alacorder-7.1.4:\n",
      "  Successfully uninstalled alacorder-7.1.4\n",
      "Note: you may need to restart the kernel to use updated packages.\n",
      "Collecting alacorder\n",
      "  Using cached alacorder-7.1.4-py3-none-any.whl (10 kB)\n",
      "Requirement already satisfied: openpyxl in /opt/homebrew/anaconda3/lib/python3.9/site-packages (from alacorder) (3.1.0)\n",
      "Requirement already satisfied: build in /opt/homebrew/anaconda3/lib/python3.9/site-packages (from alacorder) (0.10.0)\n",
      "Requirement already satisfied: xlwt in /opt/homebrew/anaconda3/lib/python3.9/site-packages (from alacorder) (1.3.0)\n",
      "Requirement already satisfied: numpy in /opt/homebrew/anaconda3/lib/python3.9/site-packages (from alacorder) (1.24.2)\n",
      "Requirement already satisfied: PyPDF2 in /opt/homebrew/anaconda3/lib/python3.9/site-packages (from alacorder) (3.0.1)\n",
      "Requirement already satisfied: xlrd in /opt/homebrew/anaconda3/lib/python3.9/site-packages (from alacorder) (2.0.1)\n",
      "Requirement already satisfied: pip in /opt/homebrew/anaconda3/lib/python3.9/site-packages (from alacorder) (23.0)\n",
      "Requirement already satisfied: setuptools in /opt/homebrew/anaconda3/lib/python3.9/site-packages (from alacorder) (67.1.0)\n",
      "Requirement already satisfied: pandas in /opt/homebrew/anaconda3/lib/python3.9/site-packages (from alacorder) (1.5.3)\n",
      "Requirement already satisfied: tomli>=1.1.0 in /opt/homebrew/anaconda3/lib/python3.9/site-packages (from build->alacorder) (2.0.1)\n",
      "Requirement already satisfied: packaging>=19.0 in /opt/homebrew/anaconda3/lib/python3.9/site-packages (from build->alacorder) (23.0)\n",
      "Requirement already satisfied: pyproject_hooks in /opt/homebrew/anaconda3/lib/python3.9/site-packages (from build->alacorder) (1.0.0)\n",
      "Requirement already satisfied: et-xmlfile in /opt/homebrew/anaconda3/lib/python3.9/site-packages (from openpyxl->alacorder) (1.1.0)\n",
      "Requirement already satisfied: pytz>=2020.1 in /opt/homebrew/anaconda3/lib/python3.9/site-packages (from pandas->alacorder) (2022.1)\n",
      "Requirement already satisfied: python-dateutil>=2.8.1 in /opt/homebrew/anaconda3/lib/python3.9/site-packages (from pandas->alacorder) (2.8.2)\n",
      "Requirement already satisfied: typing_extensions>=3.10.0.0 in /opt/homebrew/anaconda3/lib/python3.9/site-packages (from PyPDF2->alacorder) (4.3.0)\n",
      "Requirement already satisfied: six>=1.5 in /opt/homebrew/anaconda3/lib/python3.9/site-packages (from python-dateutil>=2.8.1->pandas->alacorder) (1.16.0)\n",
      "Installing collected packages: alacorder\n",
      "Successfully installed alacorder-7.1.4\n",
      "Note: you may need to restart the kernel to use updated packages.\n"
     ]
    }
   ],
   "source": [
    "%pip uninstall -y alacorder\n",
    "%pip install alacorder"
   ]
  },
  {
   "cell_type": "markdown",
   "id": "969715bb-24d4-4947-adfe-3705accdd8e5",
   "metadata": {},
   "source": [
    "*Alacorder should automatically install dependencies upon setup, but you can also install the dependencies yourself (pandas, numpy, PyPDF2, openpyxl, xlrd, xlwt, build, setuptools, xarray)*"
   ]
  },
  {
   "cell_type": "markdown",
   "id": "bf72ba61-5a6f-4ae9-9b4b-2807921cb46d",
   "metadata": {
    "tags": []
   },
   "source": [
    "# Using the guided interface\n",
    "\n",
    "#### Once you have a Python environment up and running, you can launch the guided interface by:\n",
    "\n",
    "* Importing the module from your command line. Depending on your Python configuration, enter `python -m alacorder` or `python3 -m alacorder` to launch the command line interface. \n",
    "\n",
    "* Importing the alacorder module in Python. Use the import statement from `alacorder import __main__` to run the command line interface.\n",
    "\n",
    "\n",
    "* **Alacorder can be used without writing any code, and exports to common formats like Excel (.xls), Stata (.dta), CSV, and JSON. Alacorder full text archives are compressed pickle archives (.pkl.xz), a format which can store thousands of PDF's text in a very small file. If you need to unpack a pickle archive without the `alac` module, use a .xz compression tool, then read the pickle into Python with the standard library module `pickle`.**\n",
    "    * Once installed, enter `python -m alacorder` or `python3 -m alacorder` to start the interface. \n",
    "    * If you are using iPython, launch the iPython shell and enter `from alacorder import __main__` to launch guided interface. \n",
    "\n",
    "\n"
   ]
  },
  {
   "cell_type": "code",
   "execution_count": 6,
   "id": "1f720d04-b2e6-4f99-b7ec-d937d99f657d",
   "metadata": {
    "jupyter": {
     "outputs_hidden": true
    },
    "scrolled": true,
    "tags": []
   },
   "outputs": [
    {
     "name": "stdout",
     "output_type": "stream",
     "text": [
      "\n",
      "\n",
      "\t    ___    __                          __         \n",
      "\t   /   |  / /___ __________  _________/ /__  _____\n",
      "\t  / /| | / / __ `/ ___/ __ \\/ ___/ __  / _ \\/ ___/\n",
      "\t / ___ |/ / /_/ / /__/ /_/ / /  / /_/ /  __/ /    \n",
      "\t/_/  |_/_/\\__,_/\\___/\\____/_/   \\__,_/\\___/_/     \n",
      "\t\t\t\t\t\t\t\t\t\t\t\t\t\t\t\t\t\t\t\t\t\t\t\t\t\t\t\t\t\t\t\t\t\t\t\t\t\t\t\t\t\t\t\t\t\t\n",
      "\t\t\n",
      "\t\tALACORDER beta 7.1.4 (pure-python)\n",
      "\t\tby Sam Robson\t\n",
      "\n",
      "\n",
      "Welcome to Alacorder. Please select an operating mode:\n",
      "\n",
      "\tA.\tMAKE A TABLE FROM DIRECTORY OR ARCHIVE\n",
      "\n",
      "\t\tCreate detailed cases table with convictions, charges,\n",
      "\t\tfees, and voting rights restoration information. \n",
      "\n",
      "\t\tInputs:\t\tText Archive (.pkl.xz) or PDF directory\n",
      "\t\tOutputs:\tRecommend .xls -> all tables in one file\n",
      "\t\t\t\t\tAlso supports .csv, .dta, .json, .txt\n",
      "\n",
      "\tB.\tARCHIVE CASE DIRECTORY\n",
      "\n",
      "\t\tCollect text from PDFs in directory and compress to archive.\n",
      "\t\tArchives can be processed into tables upon completion.\n",
      "\n",
      "\t\tInputs:\t\tPDF Directory (./path/to/pdfs)\n",
      "\t\tOutputs:\tfilename.pkl.xz\n",
      "\n",
      ">> Enter A or B:\n",
      "\n"
     ]
    },
    {
     "ename": "KeyboardInterrupt",
     "evalue": "Interrupted by user",
     "output_type": "error",
     "traceback": [
      "\u001b[0;31m---------------------------------------------------------------------------\u001b[0m",
      "\u001b[0;31mKeyboardInterrupt\u001b[0m                         Traceback (most recent call last)",
      "Input \u001b[0;32mIn [6]\u001b[0m, in \u001b[0;36m<cell line: 1>\u001b[0;34m()\u001b[0m\n\u001b[0;32m----> 1\u001b[0m \u001b[38;5;28;01mfrom\u001b[39;00m \u001b[38;5;21;01malacorder\u001b[39;00m \u001b[38;5;28;01mimport\u001b[39;00m __main__\n",
      "File \u001b[0;32m/opt/homebrew/anaconda3/lib/python3.9/site-packages/alacorder/__main__.py:53\u001b[0m, in \u001b[0;36m<module>\u001b[0;34m\u001b[0m\n\u001b[1;32m     15\u001b[0m warnings\u001b[38;5;241m.\u001b[39mfilterwarnings(\u001b[38;5;124m\"\u001b[39m\u001b[38;5;124mignore\u001b[39m\u001b[38;5;124m\"\u001b[39m)\n\u001b[1;32m     18\u001b[0m \u001b[38;5;28mprint\u001b[39m(\u001b[38;5;124m'''\u001b[39m\n\u001b[1;32m     19\u001b[0m \n\u001b[1;32m     20\u001b[0m \u001b[38;5;124m\t    ___    __                          __         \u001b[39m\n\u001b[0;32m   (...)\u001b[0m\n\u001b[1;32m     50\u001b[0m \u001b[38;5;124m>> Enter A or B:\u001b[39m\n\u001b[1;32m     51\u001b[0m \u001b[38;5;124m'''\u001b[39m)\n\u001b[0;32m---> 53\u001b[0m ab \u001b[38;5;241m=\u001b[39m \u001b[38;5;124m\"\u001b[39m\u001b[38;5;124m\"\u001b[39m\u001b[38;5;241m.\u001b[39mjoin(\u001b[38;5;28;43minput\u001b[39;49m\u001b[43m(\u001b[49m\u001b[43m)\u001b[49m)\u001b[38;5;241m.\u001b[39mstrip()\n\u001b[1;32m     55\u001b[0m \u001b[38;5;28;01mif\u001b[39;00m ab \u001b[38;5;241m==\u001b[39m \u001b[38;5;124m\"\u001b[39m\u001b[38;5;124mA\u001b[39m\u001b[38;5;124m\"\u001b[39m:\n\u001b[1;32m     56\u001b[0m \t\u001b[38;5;28mprint\u001b[39m(\u001b[38;5;124mf\u001b[39m\u001b[38;5;124m'''\u001b[39m\n\u001b[1;32m     57\u001b[0m \n\u001b[1;32m     58\u001b[0m \u001b[38;5;124m>>\tEnter the input PDF directory or archive file path.\u001b[39m\n\u001b[0;32m   (...)\u001b[0m\n\u001b[1;32m     62\u001b[0m \u001b[38;5;124m>> Input path:\u001b[39m\n\u001b[1;32m     63\u001b[0m \u001b[38;5;124m'''\u001b[39m)\n",
      "File \u001b[0;32m/opt/homebrew/anaconda3/lib/python3.9/site-packages/ipykernel/kernelbase.py:1177\u001b[0m, in \u001b[0;36mKernel.raw_input\u001b[0;34m(self, prompt)\u001b[0m\n\u001b[1;32m   1173\u001b[0m \u001b[38;5;28;01mif\u001b[39;00m \u001b[38;5;129;01mnot\u001b[39;00m \u001b[38;5;28mself\u001b[39m\u001b[38;5;241m.\u001b[39m_allow_stdin:\n\u001b[1;32m   1174\u001b[0m     \u001b[38;5;28;01mraise\u001b[39;00m StdinNotImplementedError(\n\u001b[1;32m   1175\u001b[0m         \u001b[38;5;124m\"\u001b[39m\u001b[38;5;124mraw_input was called, but this frontend does not support input requests.\u001b[39m\u001b[38;5;124m\"\u001b[39m\n\u001b[1;32m   1176\u001b[0m     )\n\u001b[0;32m-> 1177\u001b[0m \u001b[38;5;28;01mreturn\u001b[39;00m \u001b[38;5;28;43mself\u001b[39;49m\u001b[38;5;241;43m.\u001b[39;49m\u001b[43m_input_request\u001b[49m\u001b[43m(\u001b[49m\n\u001b[1;32m   1178\u001b[0m \u001b[43m    \u001b[49m\u001b[38;5;28;43mstr\u001b[39;49m\u001b[43m(\u001b[49m\u001b[43mprompt\u001b[49m\u001b[43m)\u001b[49m\u001b[43m,\u001b[49m\n\u001b[1;32m   1179\u001b[0m \u001b[43m    \u001b[49m\u001b[38;5;28;43mself\u001b[39;49m\u001b[38;5;241;43m.\u001b[39;49m\u001b[43m_parent_ident\u001b[49m\u001b[43m[\u001b[49m\u001b[38;5;124;43m\"\u001b[39;49m\u001b[38;5;124;43mshell\u001b[39;49m\u001b[38;5;124;43m\"\u001b[39;49m\u001b[43m]\u001b[49m\u001b[43m,\u001b[49m\n\u001b[1;32m   1180\u001b[0m \u001b[43m    \u001b[49m\u001b[38;5;28;43mself\u001b[39;49m\u001b[38;5;241;43m.\u001b[39;49m\u001b[43mget_parent\u001b[49m\u001b[43m(\u001b[49m\u001b[38;5;124;43m\"\u001b[39;49m\u001b[38;5;124;43mshell\u001b[39;49m\u001b[38;5;124;43m\"\u001b[39;49m\u001b[43m)\u001b[49m\u001b[43m,\u001b[49m\n\u001b[1;32m   1181\u001b[0m \u001b[43m    \u001b[49m\u001b[43mpassword\u001b[49m\u001b[38;5;241;43m=\u001b[39;49m\u001b[38;5;28;43;01mFalse\u001b[39;49;00m\u001b[43m,\u001b[49m\n\u001b[1;32m   1182\u001b[0m \u001b[43m\u001b[49m\u001b[43m)\u001b[49m\n",
      "File \u001b[0;32m/opt/homebrew/anaconda3/lib/python3.9/site-packages/ipykernel/kernelbase.py:1219\u001b[0m, in \u001b[0;36mKernel._input_request\u001b[0;34m(self, prompt, ident, parent, password)\u001b[0m\n\u001b[1;32m   1216\u001b[0m             \u001b[38;5;28;01mbreak\u001b[39;00m\n\u001b[1;32m   1217\u001b[0m \u001b[38;5;28;01mexcept\u001b[39;00m \u001b[38;5;167;01mKeyboardInterrupt\u001b[39;00m:\n\u001b[1;32m   1218\u001b[0m     \u001b[38;5;66;03m# re-raise KeyboardInterrupt, to truncate traceback\u001b[39;00m\n\u001b[0;32m-> 1219\u001b[0m     \u001b[38;5;28;01mraise\u001b[39;00m \u001b[38;5;167;01mKeyboardInterrupt\u001b[39;00m(\u001b[38;5;124m\"\u001b[39m\u001b[38;5;124mInterrupted by user\u001b[39m\u001b[38;5;124m\"\u001b[39m) \u001b[38;5;28;01mfrom\u001b[39;00m \u001b[38;5;28mNone\u001b[39m\n\u001b[1;32m   1220\u001b[0m \u001b[38;5;28;01mexcept\u001b[39;00m \u001b[38;5;167;01mException\u001b[39;00m:\n\u001b[1;32m   1221\u001b[0m     \u001b[38;5;28mself\u001b[39m\u001b[38;5;241m.\u001b[39mlog\u001b[38;5;241m.\u001b[39mwarning(\u001b[38;5;124m\"\u001b[39m\u001b[38;5;124mInvalid Message:\u001b[39m\u001b[38;5;124m\"\u001b[39m, exc_info\u001b[38;5;241m=\u001b[39m\u001b[38;5;28;01mTrue\u001b[39;00m)\n",
      "\u001b[0;31mKeyboardInterrupt\u001b[0m: Interrupted by user"
     ]
    }
   ],
   "source": [
    "from alacorder import __main__"
   ]
  },
  {
   "cell_type": "code",
   "execution_count": 6,
   "id": "39c6e114",
   "metadata": {},
   "outputs": [],
   "source": []
  },
  {
   "cell_type": "markdown",
   "id": "4daabc54-92dd-43af-96b6-89e903e6c366",
   "metadata": {},
   "source": [
    "# Custom Queries\n",
    "\n",
    "### For more advanced queries, the `alacorder-ppy` python modules `alac` and `run` can be used to extract fields and tables from Alacourt records with only a few lines of code.\n",
    "\n",
    "#### The `run` module creates the full text archives and detailed case summary tables outputted by the guided interface. \n",
    "\n",
    "* Call `run.config(in_path: str, out_path: str, print_log=True, warn=False)` and assign it to a variable to hold your configuration object. This tells the imported alacorder modules where and how to input and output.\n",
    "\n",
    "* Call `run.writeArchive(config)` to export a full text archive. It's recommended that you create a full text archive and save it as a .pkl file before making tables from your data. Full text archives can be scanned faster than PDF directories and require much less storage. Full text archives can be used just like PDF directories. \n",
    "\n",
    "* Call `run.writeTables(config)` to export detailed case information tables. If export type is .xls, the \"cases\",\"fees\", and \"charges\" tables will all be exported. Otherwise, you can select which table you would like to export. \n",
    "\n",
    "* Call `run.writeCharges(config)` to export a full text archive. It's recommended that you create a full text archive and save it as a .pkl file. Full text archives can be scanned faster than PDF directories and require much less storage. Full text archives can be used just like PDF directories. \n"
   ]
  },
  {
   "cell_type": "code",
   "execution_count": null,
   "id": "df6b939a-5625-43cc-8b78-d3368872001e",
   "metadata": {},
   "outputs": [],
   "source": [
    "# put this snippet at the top of your code to suppress warnings from pandas and other alacorder dependencies (not recommended for debug)\n",
    "import warnings\n",
    "warnings.filterwarnings('ignore')\n",
    "\n",
    "\n",
    "from alacorder import alac\n",
    "\n",
    "pdf_directory = \"/Users/crimson/Desktop/Tutwiler/\"\n",
    "archive = \"/Users/crimson/Desktop/Tutwiler.pkl\"\n",
    "tables = \"/Users/crimson/Desktop/Tutwiler.xls\"\n",
    "\n",
    "# make full text archive from PDF directory \n",
    "c = alac.config(pdf_directory, archive)\n",
    "alac.writeArchive(c)\n",
    "\n",
    "print(\"Full text archive complete. Now processing case information into tables at \" + tables)\n",
    "\n",
    "# then scan full text archive for spreadsheet\n",
    "d = alac.config(archive, tables)\n",
    "alac.writeTables(d)"
   ]
  },
  {
   "cell_type": "markdown",
   "id": "5e43b636-992f-4f39-a0ec-8d7b6b81c532",
   "metadata": {},
   "source": [
    "# Advanced Configurations and Custom Code \n",
    "\n",
    "\n",
    "#### *`from alacorder import alac`*\n",
    "\n",
    "| Method | Description |\n",
    "| ------------- | ------ |\n",
    "| `getPDFText(path) -> text` | Returns full text of case |\n",
    "| `getCaseInfo(text) -> \\[case_number, name, alias, date_of_birth, race, sex, address, phone\\]` | Returns basic case details | \n",
    "| `getFeeSheet(text: str, cnum = '') -> [total_amtdue, total_balance, total_d999, feecodes_w_bal, all_fee_codes, table_string, feesheet: pd.DataFrame()]` | Returns fee sheet and summary as strings and pd.DataFrame() |\n",
    "| `getCharges(text: str, cnum = '') -> [convictions_string, disposition_charges, filing_charges, cerv_eligible_convictions, pardon_to_vote_convictions, permanently_disqualifying_convictions, conviction_count, charge_count, cerv_charge_count, pardontovote_charge_count, permanent_dq_charge_count, cerv_convictions_count, pardontovote_convictions_count, charge_codes, conviction_codes, all_charges_string, charges: pd.DataFrame()]` | Returns charges table and summary as strings, int, and pd.DataFrame() |\n",
    "| `getCaseNumber(text) -> case_number: str` | Returns case number\n",
    "\n",
    "\n",
    "**Planned additions to `alac`:**\n",
    "* `getFinancialHistory(text) -> pd.DataFrame()`\n",
    "* `getSentencing(text) -> pd.DataFrame()`\n",
    "* `getSpecialFields(text, field) -> str`\n",
    "* `getCaseActionSummary(text) -> str`"
   ]
  },
  {
   "cell_type": "markdown",
   "id": "236e3fc9-6ea1-47fa-b36e-671b8351a52c",
   "metadata": {},
   "source": [
    "# Working with Python data types"
   ]
  },
  {
   "cell_type": "markdown",
   "id": "4cdf6ebb-c223-4040-9d75-577c222d776f",
   "metadata": {
    "tags": []
   },
   "source": [
    "### Out of the box, `alacorder` exports to .xls, .csv, .json, .dta, .pkl.xz, and .txt. But you can use `alac`, [pandas](https://pandas.pydata.org/docs/getting_started/index.html#getting-started), and other python modules to create your own data collection workflows and design custom exports. \n",
    "\n",
    "***The snippet below prints the fee sheets from a directory of case PDFs as it reads them.***"
   ]
  },
  {
   "cell_type": "code",
   "execution_count": 9,
   "id": "f2114a31-22aa-4abc-9823-46e8f9831b06",
   "metadata": {
    "scrolled": true,
    "tags": []
   },
   "outputs": [
    {
     "name": "stdout",
     "output_type": "stream",
     "text": [
      "\n",
      "Initial configuration succeeded!\n",
      "\n",
      "/Users/samuelrobson/Desktop/Tutwiler/ ---->\n",
      "/Users/samuelrobson/Desktop/Tutwiler.xls\n",
      "\n",
      "14064 cases in 141 batches\n"
     ]
    },
    {
     "data": {
      "text/plain": [
       "'001 T636 06/19/2016 GUILTY PLEA TRAFFIC TRAFFIC 032-05C-006 NO TINT COMPL LABEL'"
      ]
     },
     "metadata": {},
     "output_type": "display_data"
    },
    {
     "data": {
      "text/plain": [
       "'001 ROB3 02/06/2006 GUILTY PLEA PERSONAL FELONY 13A-008-043 ROBBERY 3RD'"
      ]
     },
     "metadata": {},
     "output_type": "display_data"
    },
    {
     "data": {
      "text/plain": [
       "'001 BUR2 04/02/2012 GUILTY PLEA PROPERTY FELONY 13A-007-006 BURGLARY 2ND DEGREE'"
      ]
     },
     "metadata": {},
     "output_type": "display_data"
    },
    {
     "data": {
      "text/plain": [
       "'001 VRCS 02/04/2021 GUILTY PLEA DRUG FELONY 13A-012-212 POSSESS/RECEIPT'"
      ]
     },
     "metadata": {},
     "output_type": "display_data"
    },
    {
     "data": {
      "text/plain": [
       "'001 T077 09/15/2015 GUILTY PLEA TRAFFIC TRAFFIC 032-05B-004 FAILURE TO WEAR SAFETY'"
      ]
     },
     "metadata": {},
     "output_type": "display_data"
    },
    {
     "data": {
      "text/plain": [
       "'001 T002 08/16/2016 CONVICTED TRAFFIC MISDEMEANOR 032-05A-190 RECKLESS DRIVING'"
      ]
     },
     "metadata": {},
     "output_type": "display_data"
    },
    {
     "data": {
      "text/plain": [
       "'001 T706 04/10/2019 GUILTY PLEA TRAFFIC MISDEMEANOR 032-07A-016 OPER VEH W/O INSURANCE'"
      ]
     },
     "metadata": {},
     "output_type": "display_data"
    },
    {
     "ename": "KeyboardInterrupt",
     "evalue": "",
     "output_type": "error",
     "traceback": [
      "\u001b[0;31m---------------------------------------------------------------------------\u001b[0m",
      "\u001b[0;31mKeyboardInterrupt\u001b[0m                         Traceback (most recent call last)",
      "Input \u001b[0;32mIn [9]\u001b[0m, in \u001b[0;36m<cell line: 5>\u001b[0;34m()\u001b[0m\n\u001b[1;32m      3\u001b[0m c \u001b[38;5;241m=\u001b[39m alac\u001b[38;5;241m.\u001b[39mconfig(\u001b[38;5;124m\"\u001b[39m\u001b[38;5;124m/Users/samuelrobson/Desktop/Tutwiler/\u001b[39m\u001b[38;5;124m\"\u001b[39m,\u001b[38;5;124m\"\u001b[39m\u001b[38;5;124m/Users/samuelrobson/Desktop/Tutwiler.xls\u001b[39m\u001b[38;5;124m\"\u001b[39m)\n\u001b[1;32m      5\u001b[0m \u001b[38;5;28;01mfor\u001b[39;00m path \u001b[38;5;129;01min\u001b[39;00m c[\u001b[38;5;124m'\u001b[39m\u001b[38;5;124mcontents\u001b[39m\u001b[38;5;124m'\u001b[39m]:\n\u001b[0;32m----> 6\u001b[0m     text \u001b[38;5;241m=\u001b[39m \u001b[43malac\u001b[49m\u001b[38;5;241;43m.\u001b[39;49m\u001b[43mgetPDFText\u001b[49m\u001b[43m(\u001b[49m\u001b[43mpath\u001b[49m\u001b[43m)\u001b[49m\n\u001b[1;32m      7\u001b[0m     cnum \u001b[38;5;241m=\u001b[39m alac\u001b[38;5;241m.\u001b[39mgetCaseNumber(text)\n\u001b[1;32m      8\u001b[0m     charges_outputs \u001b[38;5;241m=\u001b[39m alac\u001b[38;5;241m.\u001b[39mgetCharges(text, cnum)\n",
      "File \u001b[0;32m/opt/homebrew/anaconda3/lib/python3.9/site-packages/alacorder/alac.py:458\u001b[0m, in \u001b[0;36mgetPDFText\u001b[0;34m(path)\u001b[0m\n\u001b[1;32m    456\u001b[0m pdf \u001b[38;5;241m=\u001b[39m pypdf\u001b[38;5;241m.\u001b[39mPdfReader(path)\n\u001b[1;32m    457\u001b[0m \u001b[38;5;28;01mfor\u001b[39;00m pg \u001b[38;5;129;01min\u001b[39;00m pdf\u001b[38;5;241m.\u001b[39mpages:\n\u001b[0;32m--> 458\u001b[0m \ttext \u001b[38;5;241m+\u001b[39m\u001b[38;5;241m=\u001b[39m \u001b[43mpg\u001b[49m\u001b[38;5;241;43m.\u001b[39;49m\u001b[43mextract_text\u001b[49m\u001b[43m(\u001b[49m\u001b[43m)\u001b[49m\n\u001b[1;32m    459\u001b[0m \u001b[38;5;28;01mreturn\u001b[39;00m text\n",
      "File \u001b[0;32m/opt/homebrew/anaconda3/lib/python3.9/site-packages/PyPDF2/_page.py:1851\u001b[0m, in \u001b[0;36mPageObject.extract_text\u001b[0;34m(self, Tj_sep, TJ_sep, orientations, space_width, visitor_operand_before, visitor_operand_after, visitor_text, *args)\u001b[0m\n\u001b[1;32m   1848\u001b[0m \u001b[38;5;28;01mif\u001b[39;00m \u001b[38;5;28misinstance\u001b[39m(orientations, \u001b[38;5;28mint\u001b[39m):\n\u001b[1;32m   1849\u001b[0m     orientations \u001b[38;5;241m=\u001b[39m (orientations,)\n\u001b[0;32m-> 1851\u001b[0m \u001b[38;5;28;01mreturn\u001b[39;00m \u001b[38;5;28;43mself\u001b[39;49m\u001b[38;5;241;43m.\u001b[39;49m\u001b[43m_extract_text\u001b[49m\u001b[43m(\u001b[49m\n\u001b[1;32m   1852\u001b[0m \u001b[43m    \u001b[49m\u001b[38;5;28;43mself\u001b[39;49m\u001b[43m,\u001b[49m\n\u001b[1;32m   1853\u001b[0m \u001b[43m    \u001b[49m\u001b[38;5;28;43mself\u001b[39;49m\u001b[38;5;241;43m.\u001b[39;49m\u001b[43mpdf\u001b[49m\u001b[43m,\u001b[49m\n\u001b[1;32m   1854\u001b[0m \u001b[43m    \u001b[49m\u001b[43morientations\u001b[49m\u001b[43m,\u001b[49m\n\u001b[1;32m   1855\u001b[0m \u001b[43m    \u001b[49m\u001b[43mspace_width\u001b[49m\u001b[43m,\u001b[49m\n\u001b[1;32m   1856\u001b[0m \u001b[43m    \u001b[49m\u001b[43mPG\u001b[49m\u001b[38;5;241;43m.\u001b[39;49m\u001b[43mCONTENTS\u001b[49m\u001b[43m,\u001b[49m\n\u001b[1;32m   1857\u001b[0m \u001b[43m    \u001b[49m\u001b[43mvisitor_operand_before\u001b[49m\u001b[43m,\u001b[49m\n\u001b[1;32m   1858\u001b[0m \u001b[43m    \u001b[49m\u001b[43mvisitor_operand_after\u001b[49m\u001b[43m,\u001b[49m\n\u001b[1;32m   1859\u001b[0m \u001b[43m    \u001b[49m\u001b[43mvisitor_text\u001b[49m\u001b[43m,\u001b[49m\n\u001b[1;32m   1860\u001b[0m \u001b[43m\u001b[49m\u001b[43m)\u001b[49m\n",
      "File \u001b[0;32m/opt/homebrew/anaconda3/lib/python3.9/site-packages/PyPDF2/_page.py:1356\u001b[0m, in \u001b[0;36mPageObject._extract_text\u001b[0;34m(self, obj, pdf, orientations, space_width, content_key, visitor_operand_before, visitor_operand_after, visitor_text)\u001b[0m\n\u001b[1;32m   1352\u001b[0m     content \u001b[38;5;241m=\u001b[39m (\n\u001b[1;32m   1353\u001b[0m         obj[content_key]\u001b[38;5;241m.\u001b[39mget_object() \u001b[38;5;28;01mif\u001b[39;00m \u001b[38;5;28misinstance\u001b[39m(content_key, \u001b[38;5;28mstr\u001b[39m) \u001b[38;5;28;01melse\u001b[39;00m obj\n\u001b[1;32m   1354\u001b[0m     )\n\u001b[1;32m   1355\u001b[0m     \u001b[38;5;28;01mif\u001b[39;00m \u001b[38;5;129;01mnot\u001b[39;00m \u001b[38;5;28misinstance\u001b[39m(content, ContentStream):\n\u001b[0;32m-> 1356\u001b[0m         content \u001b[38;5;241m=\u001b[39m \u001b[43mContentStream\u001b[49m\u001b[43m(\u001b[49m\u001b[43mcontent\u001b[49m\u001b[43m,\u001b[49m\u001b[43m \u001b[49m\u001b[43mpdf\u001b[49m\u001b[43m,\u001b[49m\u001b[43m \u001b[49m\u001b[38;5;124;43m\"\u001b[39;49m\u001b[38;5;124;43mbytes\u001b[39;49m\u001b[38;5;124;43m\"\u001b[39;49m\u001b[43m)\u001b[49m\n\u001b[1;32m   1357\u001b[0m \u001b[38;5;28;01mexcept\u001b[39;00m \u001b[38;5;167;01mKeyError\u001b[39;00m:  \u001b[38;5;66;03m# it means no content can be extracted(certainly empty page)\u001b[39;00m\n\u001b[1;32m   1358\u001b[0m     \u001b[38;5;28;01mreturn\u001b[39;00m \u001b[38;5;124m\"\u001b[39m\u001b[38;5;124m\"\u001b[39m\n",
      "File \u001b[0;32m/opt/homebrew/anaconda3/lib/python3.9/site-packages/PyPDF2/generic/_data_structures.py:877\u001b[0m, in \u001b[0;36mContentStream.__init__\u001b[0;34m(self, stream, pdf, forced_encoding)\u001b[0m\n\u001b[1;32m    875\u001b[0m     stream_bytes \u001b[38;5;241m=\u001b[39m BytesIO(stream_data_bytes)\n\u001b[1;32m    876\u001b[0m \u001b[38;5;28mself\u001b[39m\u001b[38;5;241m.\u001b[39mforced_encoding \u001b[38;5;241m=\u001b[39m forced_encoding\n\u001b[0;32m--> 877\u001b[0m \u001b[38;5;28;43mself\u001b[39;49m\u001b[38;5;241;43m.\u001b[39;49m\u001b[43m__parse_content_stream\u001b[49m\u001b[43m(\u001b[49m\u001b[43mstream_bytes\u001b[49m\u001b[43m)\u001b[49m\n",
      "File \u001b[0;32m/opt/homebrew/anaconda3/lib/python3.9/site-packages/PyPDF2/generic/_data_structures.py:943\u001b[0m, in \u001b[0;36mContentStream.__parse_content_stream\u001b[0;34m(self, stream)\u001b[0m\n\u001b[1;32m    941\u001b[0m         peek \u001b[38;5;241m=\u001b[39m stream\u001b[38;5;241m.\u001b[39mread(\u001b[38;5;241m1\u001b[39m)\n\u001b[1;32m    942\u001b[0m \u001b[38;5;28;01melse\u001b[39;00m:\n\u001b[0;32m--> 943\u001b[0m     operands\u001b[38;5;241m.\u001b[39mappend(\u001b[43mread_object\u001b[49m\u001b[43m(\u001b[49m\u001b[43mstream\u001b[49m\u001b[43m,\u001b[49m\u001b[43m \u001b[49m\u001b[38;5;28;43;01mNone\u001b[39;49;00m\u001b[43m,\u001b[49m\u001b[43m \u001b[49m\u001b[38;5;28;43mself\u001b[39;49m\u001b[38;5;241;43m.\u001b[39;49m\u001b[43mforced_encoding\u001b[49m\u001b[43m)\u001b[49m)\n",
      "File \u001b[0;32m/opt/homebrew/anaconda3/lib/python3.9/site-packages/PyPDF2/generic/_data_structures.py:1054\u001b[0m, in \u001b[0;36mread_object\u001b[0;34m(stream, pdf, forced_encoding)\u001b[0m\n\u001b[1;32m   1052\u001b[0m \u001b[38;5;28;01melif\u001b[39;00m tok \u001b[38;5;241m==\u001b[39m \u001b[38;5;124mb\u001b[39m\u001b[38;5;124m\"\u001b[39m\u001b[38;5;124m(\u001b[39m\u001b[38;5;124m\"\u001b[39m:\n\u001b[1;32m   1053\u001b[0m     \u001b[38;5;28;01mreturn\u001b[39;00m read_string_from_stream(stream, forced_encoding)\n\u001b[0;32m-> 1054\u001b[0m \u001b[38;5;28;01melif\u001b[39;00m \u001b[43mtok\u001b[49m\u001b[43m \u001b[49m\u001b[38;5;241;43m==\u001b[39;49m\u001b[43m \u001b[49m\u001b[38;5;124;43mb\u001b[39;49m\u001b[38;5;124;43m\"\u001b[39;49m\u001b[38;5;124;43me\u001b[39;49m\u001b[38;5;124;43m\"\u001b[39;49m \u001b[38;5;129;01mand\u001b[39;00m stream\u001b[38;5;241m.\u001b[39mread(\u001b[38;5;241m6\u001b[39m) \u001b[38;5;241m==\u001b[39m \u001b[38;5;124mb\u001b[39m\u001b[38;5;124m\"\u001b[39m\u001b[38;5;124mendobj\u001b[39m\u001b[38;5;124m\"\u001b[39m:\n\u001b[1;32m   1055\u001b[0m     stream\u001b[38;5;241m.\u001b[39mseek(\u001b[38;5;241m-\u001b[39m\u001b[38;5;241m6\u001b[39m, \u001b[38;5;241m1\u001b[39m)\n\u001b[1;32m   1056\u001b[0m     \u001b[38;5;28;01mreturn\u001b[39;00m NullObject()\n",
      "\u001b[0;31mKeyboardInterrupt\u001b[0m: "
     ]
    }
   ],
   "source": [
    "from alacorder import alac\n",
    "\n",
    "c = alac.config(\"/Users/samuelrobson/Desktop/Tutwiler/\",\"/Users/samuelrobson/Desktop/Tutwiler.xls\")\n",
    "\n",
    "for path in c['contents']:\n",
    "    text = alac.getPDFText(path)\n",
    "    cnum = alac.getCaseNumber(text)\n",
    "    charges_outputs = alac.getCharges(text, cnum)\n",
    "    if len(charges_outputs[0]) > 1:\n",
    "        display(charges_outputs[0])"
   ]
  },
  {
   "cell_type": "markdown",
   "id": "cf750bb6-37f9-4d69-b411-692ac290fd87",
   "metadata": {},
   "source": []
  }
 ],
 "metadata": {
  "kernelspec": {
   "display_name": "Python 3 (ipykernel)",
   "language": "python",
   "name": "python3"
  },
  "language_info": {
   "codemirror_mode": {
    "name": "ipython",
    "version": 3
   },
   "file_extension": ".py",
   "mimetype": "text/x-python",
   "name": "python",
   "nbconvert_exporter": "python",
   "pygments_lexer": "ipython3",
   "version": "3.9.13"
  }
 },
 "nbformat": 4,
 "nbformat_minor": 5
}
