{
 "cells": [
  {
   "cell_type": "code",
   "execution_count": null,
   "id": "0fcea166",
   "metadata": {
    "scrolled": true,
    "slideshow": {
     "slide_type": "-"
    }
   },
   "outputs": [],
   "source": []
  },
  {
   "cell_type": "code",
   "execution_count": 1,
   "id": "5a138ff2",
   "metadata": {
    "scrolled": false
   },
   "outputs": [
    {
     "data": {
      "application/vnd.jupyter.widget-view+json": {
       "model_id": "647a4e4409a841cbb091960469ef3b1d",
       "version_major": 2,
       "version_minor": 0
      },
      "text/plain": [
       "Text(value='', description='Input Path:', layout=Layout(width='90%'))"
      ]
     },
     "metadata": {},
     "output_type": "display_data"
    },
    {
     "data": {
      "application/vnd.jupyter.widget-view+json": {
       "model_id": "a478c6c2756544da9588866d904a0c61",
       "version_major": 2,
       "version_minor": 0
      },
      "text/plain": [
       "Text(value='', description='Output Path:', layout=Layout(width='90%'))"
      ]
     },
     "metadata": {},
     "output_type": "display_data"
    },
    {
     "data": {
      "application/vnd.jupyter.widget-view+json": {
       "model_id": "7d1d3e681c704aab860ec03ba839e245",
       "version_major": 2,
       "version_minor": 0
      },
      "text/plain": [
       "Text(value='', description='Customer ID: ')"
      ]
     },
     "metadata": {},
     "output_type": "display_data"
    },
    {
     "data": {
      "application/vnd.jupyter.widget-view+json": {
       "model_id": "27d0af0f6bc14f37b4844f9f8e0a4711",
       "version_major": 2,
       "version_minor": 0
      },
      "text/plain": [
       "Text(value='', description='User ID: ')"
      ]
     },
     "metadata": {},
     "output_type": "display_data"
    },
    {
     "data": {
      "application/vnd.jupyter.widget-view+json": {
       "model_id": "f7100d7026fc4f25a0b8304f31b31784",
       "version_major": 2,
       "version_minor": 0
      },
      "text/plain": [
       "Password(description='Password: ')"
      ]
     },
     "metadata": {},
     "output_type": "display_data"
    },
    {
     "data": {
      "application/vnd.jupyter.widget-view+json": {
       "model_id": "6bb6300a701a4ee7ad445115d8584e1f",
       "version_major": 2,
       "version_minor": 0
      },
      "text/plain": [
       "Button(description='Login', style=ButtonStyle())"
      ]
     },
     "metadata": {},
     "output_type": "display_data"
    }
   ],
   "source": [
    "import cython\n",
    "import warnings\n",
    "warnings.filterwarnings('ignore')\n",
    "import os\n",
    "import sys\n",
    "import pyximport; pyximport.install()\n",
    "try:\n",
    "    import cal\n",
    "except:\n",
    "    import alac\n",
    "    print(\"PYX import failed. Alacorder on Jupyter is configured with alac.py.\")\n",
    "import pandas as pd\n",
    "from IPython.display import display\n",
    "from itables import show\n",
    "import ipywidgets as widgets\n",
    "import click\n",
    "from tqdm.notebook import tqdm, trange\n",
    "sys.tracebacklimit = 0\n",
    "query_path = widgets.Text(description=\"Input Path:\", layout=widgets.Layout(width='90%'), tooltip=\"Path to query template spreadsheet (list of names, etc. to search)\")\n",
    "output_dir = widgets.Text(description=\"Output Path:\", layout=widgets.Layout(width='90%'))\n",
    "cID = widgets.Text(description=\"Customer ID: \")\n",
    "uID = widgets.Text(description=\"User ID: \")\n",
    "pwd = widgets.Password(description=\"Password: \")\n",
    "btn = widgets.Button(description=\"Login\")\n",
    "clicked = False\n",
    "\n",
    "def startFetch(*args):\n",
    "    global clicked, query_path, output_dir, cID, uID, pwd, btn\n",
    "    if os.path.isdir(output_dir.value) and os.path.isfile(query_path.value) and cID.value != \"\" and uID.value != \"\" and pwd.value != \"\" and not clicked:\n",
    "        return alac.fetch(query_path.value,output_dir.value,cID=cID.value, uID=uID.value, pwd=pwd.value)\n",
    "    else:\n",
    "        return None\n",
    "\n",
    "display(query_path, output_dir, cID, uID, pwd)\n",
    "\n",
    "# btn.on_click(alac.fetch(query_path.value,output_dir.value,cID=cID.value, uID=uID.value, pwd=pwd.value))\n",
    "a = btn.on_click(startFetch)\n",
    "btn"
   ]
  },
  {
   "cell_type": "code",
   "execution_count": 13,
   "id": "1d37270b",
   "metadata": {
    "scrolled": true
   },
   "outputs": [],
   "source": []
  }
 ],
 "metadata": {
  "celltoolbar": "Raw Cell Format",
  "kernelspec": {
   "display_name": "Python 3 (ipykernel)",
   "language": "python",
   "name": "python3"
  },
  "language_info": {
   "codemirror_mode": {
    "name": "ipython",
    "version": 3
   },
   "file_extension": ".py",
   "mimetype": "text/x-python",
   "name": "python",
   "nbconvert_exporter": "python",
   "pygments_lexer": "ipython3",
   "version": "3.9.13"
  }
 },
 "nbformat": 4,
 "nbformat_minor": 5
}
