{
 "cells": [
  {
   "cell_type": "code",
   "execution_count": null,
   "id": "94d41e42",
   "metadata": {
    "scrolled": true,
    "slideshow": {
     "slide_type": "-"
    }
   },
   "outputs": [],
   "source": []
  },
  {
   "cell_type": "code",
   "execution_count": 3,
   "id": "cde214e1",
   "metadata": {
    "scrolled": false
   },
   "outputs": [
    {
     "data": {
      "application/vnd.jupyter.widget-view+json": {
       "model_id": "b268980c98ea42729dbfd2fce782ae6d",
       "version_major": 2,
       "version_minor": 0
      },
      "text/plain": [
       "Text(value='', description='Input Path:', layout=Layout(width='90%'))"
      ]
     },
     "metadata": {},
     "output_type": "display_data"
    },
    {
     "data": {
      "application/vnd.jupyter.widget-view+json": {
       "model_id": "d108cd23c56b4564a8154977ea81d6d4",
       "version_major": 2,
       "version_minor": 0
      },
      "text/plain": [
       "Text(value='', description='Output Path:', layout=Layout(width='90%'))"
      ]
     },
     "metadata": {},
     "output_type": "display_data"
    },
    {
     "data": {
      "application/vnd.jupyter.widget-view+json": {
       "model_id": "863aa7d28cec4a778c4517af99c9bf66",
       "version_major": 2,
       "version_minor": 0
      },
      "text/plain": [
       "Text(value='', description='Customer ID: ')"
      ]
     },
     "metadata": {},
     "output_type": "display_data"
    },
    {
     "data": {
      "application/vnd.jupyter.widget-view+json": {
       "model_id": "6d8cda45020e4f53bf663b85caad8ba2",
       "version_major": 2,
       "version_minor": 0
      },
      "text/plain": [
       "Text(value='', description='User ID: ')"
      ]
     },
     "metadata": {},
     "output_type": "display_data"
    },
    {
     "data": {
      "application/vnd.jupyter.widget-view+json": {
       "model_id": "6764f6025db44fbb9029c8c5b6daec69",
       "version_major": 2,
       "version_minor": 0
      },
      "text/plain": [
       "Password(description='Password: ')"
      ]
     },
     "metadata": {},
     "output_type": "display_data"
    },
    {
     "data": {
      "application/vnd.jupyter.widget-view+json": {
       "model_id": "90bb302922304c19bdd98d013371d1cb",
       "version_major": 2,
       "version_minor": 0
      },
      "text/plain": [
       "Button(description='Login', style=ButtonStyle())"
      ]
     },
     "metadata": {},
     "output_type": "display_data"
    }
   ],
   "source": [
    "# import cython\n",
    "import warnings\n",
    "warnings.filterwarnings('ignore')\n",
    "import os\n",
    "import sys\n",
    "import pyximport; pyximport.install()\n",
    "try:\n",
    "    import cal\n",
    "except:\n",
    "    import alac\n",
    "    print(\"PYX import failed. Alacorder on Jupyter is configured.\")\n",
    "import pandas as pd\n",
    "from IPython.display import display\n",
    "from itables import show\n",
    "import ipywidgets as widgets\n",
    "import click\n",
    "from tqdm.notebook import tqdm, trange\n",
    "sys.tracebacklimit = 0\n",
    "query_path = widgets.Text(description=\"Input Path:\", layout=widgets.Layout(width='90%'), tooltip=\"Path to query template spreadsheet (list of names, etc. to search)\")\n",
    "output_dir = widgets.Text(description=\"Output Path:\", layout=widgets.Layout(width='90%'))\n",
    "cID = widgets.Text(description=\"Customer ID: \")\n",
    "uID = widgets.Text(description=\"User ID: \")\n",
    "pwd = widgets.Password(description=\"Password: \")\n",
    "btn = widgets.Button(description=\"Login\")\n",
    "clicked = False\n",
    "\n",
    "def startFetch(*args):\n",
    "    global clicked, query_path, output_dir, cID, uID, pwd, btn\n",
    "    if os.path.isdir(output_dir.value) and os.path.isfile(query_path.value) and cID.value != \"\" and uID.value != \"\" and pwd.value != \"\" and not clicked:\n",
    "        return alac.fetch(query_path.value,output_dir.value,cID=cID.value, uID=uID.value, pwd=pwd.value)\n",
    "    else:\n",
    "        return None\n",
    "\n",
    "display(query_path, output_dir, cID, uID, pwd)\n",
    "\n",
    "# btn.on_click(alac.fetch(query_path.value,output_dir.value,cID=cID.value, uID=uID.value, pwd=pwd.value))\n",
    "a = btn.on_click(startFetch)\n",
    "btn"
   ]
  },
  {
   "cell_type": "code",
   "execution_count": 13,
   "id": "7e2fdc3f",
   "metadata": {
    "scrolled": true
   },
   "outputs": [],
   "source": []
  }
 ],
 "metadata": {
  "celltoolbar": "Raw Cell Format",
  "kernelspec": {
   "display_name": "Python 3 (ipykernel)",
   "language": "python",
   "name": "python3"
  },
  "language_info": {
   "codemirror_mode": {
    "name": "ipython",
    "version": 3
   },
   "file_extension": ".py",
   "mimetype": "text/x-python",
   "name": "python",
   "nbconvert_exporter": "python",
   "pygments_lexer": "ipython3",
   "version": "3.9.13"
  }
 },
 "nbformat": 4,
 "nbformat_minor": 5
}
