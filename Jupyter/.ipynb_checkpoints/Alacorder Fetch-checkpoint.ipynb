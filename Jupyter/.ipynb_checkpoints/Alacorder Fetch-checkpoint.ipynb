{
 "cells": [
  {
   "cell_type": "code",
   "execution_count": 14,
   "id": "779e16de",
   "metadata": {
    "scrolled": true,
    "slideshow": {
     "slide_type": "-"
    },
    "tags": [
     "hide_cell",
     "cell.metadata.hide_input"
    ]
   },
   "outputs": [],
   "source": [
    "## SETUP: MUST RUN CELL BEFORE USE. PRESS [SHIFT + RETURN] TO LOAD.\n",
    "\n",
    "import cython\n",
    "import warnings\n",
    "warnings.filterwarnings('ignore')\n",
    "import os\n",
    "import sys\n",
    "import pyximport; pyximport.install()\n",
    "import cal as alac\n",
    "import pandas as pd\n",
    "from IPython.display import display\n",
    "from itables import show\n",
    "import ipywidgets as widgets\n",
    "sys.tracebacklimit = 0\n",
    "query_path = widgets.Text(description=\"Input Path:\", layout=widgets.Layout(width='90%'), tooltip=\"Path to query template spreadsheet (list of names, etc. to search)\")\n",
    "output_dir = widgets.Text(description=\"Output Path:\", layout=widgets.Layout(width='90%'))\n",
    "cID = widgets.Text(description=\"Customer ID: \")\n",
    "uID = widgets.Text(description=\"User ID: \")\n",
    "pwd = widgets.Password(description=\"Password: \")\n",
    "btn = widgets.Button(description=\"Login\")\n",
    "\n",
    "def startFetch(*args):\n",
    "    global clicked, query_path, output_dir, cID, uID, pwd, btn\n",
    "    if os.path.isdir(output_dir.value) and os.path.isfile(query_path.value) and cID.value != \"\" and uID.value != \"\" and pwd.value != \"\":\n",
    "        return alac.fetch(query_path.value,output_dir.value,cID=cID.value, uID=uID.value, pwd=pwd.value)\n",
    "    else:\n",
    "        return None"
   ]
  },
  {
   "cell_type": "code",
   "execution_count": 15,
   "id": "4371a7e9",
   "metadata": {
    "tags": [
     "cell.metadata.hide_input",
     "hide_cell"
    ]
   },
   "outputs": [
    {
     "data": {
      "text/html": [
       "<style>\n",
       "table {float:left}\n",
       "</style>\n"
      ],
      "text/plain": [
       "<IPython.core.display.HTML object>"
      ]
     },
     "metadata": {},
     "output_type": "display_data"
    }
   ],
   "source": [
    "%%html\n",
    "<style>\n",
    "table {float:left}\n",
    "</style>"
   ]
  },
  {
   "cell_type": "markdown",
   "id": "dab234ea",
   "metadata": {},
   "source": [
    "```\n",
    "    ___    __                          __         \n",
    "   /   |  / /___  _________  _________/ /__  _____\n",
    "  / /| | / / __ `/ ___/ __ \\/ ___/ __  / _ \\/ ___/\n",
    " / ___ |/ / /_/ / /__/ /_/ / /  / /_/ /  __/ /    \n",
    "/_/  |_/_/\\__,_/\\___/\\____/_/   \\__,_/\\___/_/     \n",
    "\n",
    "ALACORDER beta 76\n",
    "```\n",
    "# Alacorder on Jupyter: `alac.fetch()`\n",
    "## Collect case PDFs in bulk from Alacourt.com from a list of names or search parameters.\n",
    "\n",
    "**Use column headers `NAME`, `PARTY_TYPE`, `SSN`, `DOB`, `COUNTY`, `DIVISION`, `CASE_YEAR`, and/or `FILED_BEFORE` in an Excel spreadsheet to submit a list of queries for Alacorder to scrape. Each column corresponds to a search field in Party Search. Missing columns and entries will be left empty, i.e. if only the `NAME`'s and `CASE_YEAR`'s are relevant to the search, a file with two columns will work.**"
   ]
  },
  {
   "cell_type": "markdown",
   "id": "2a2d902c",
   "metadata": {},
   "source": [
    "## Configure searches with query template (`.xlsx`, `.xls`, `.csv`, `.json`)\n",
    "\n",
    "| Field          | Description                                |\n",
    "|----------------|--------------------------------------------|\n",
    "| `NAME`         | Last Name First                            |\n",
    "| `PARTY_TYPE`   | Social Security Number (Optional)          |\n",
    "| `SSN`          | Applies to civil cases only (Optional)     |\n",
    "| `DOB`          | Date of Birth (M/DD/YYYY)                  |\n",
    "| `COUNTY`       | Select a county if not statewide           |\n",
    "| `DIVISION`     | Select a division if not all divisions.    |\n",
    "| `CASE_YEAR`    | Four digit case year to limit results      |\n",
    "| `FILED_BEFORE` | Do not include cases filed after M/DD/YYYY |\n",
    "| `FILED_AFTER`  | Do not include cases filed after M/DD/YYYY |\n",
    "\n",
    "**Path to query table/spreadsheet (.xls, .xlsx, .csv, .json)  [required]**"
   ]
  },
  {
   "cell_type": "code",
   "execution_count": 12,
   "id": "e275cf83",
   "metadata": {
    "scrolled": false
   },
   "outputs": [
    {
     "data": {
      "application/vnd.jupyter.widget-view+json": {
       "model_id": "0dfe0dd9841c46b08dbefc0f0f285b87",
       "version_major": 2,
       "version_minor": 0
      },
      "text/plain": [
       "Text(value='', description='Input Path:', layout=Layout(width='90%'))"
      ]
     },
     "metadata": {},
     "output_type": "display_data"
    },
    {
     "data": {
      "application/vnd.jupyter.widget-view+json": {
       "model_id": "6fd53bfec716487386f56de4d96cad07",
       "version_major": 2,
       "version_minor": 0
      },
      "text/plain": [
       "Text(value='', description='Output Path:', layout=Layout(width='90%'))"
      ]
     },
     "metadata": {},
     "output_type": "display_data"
    }
   ],
   "source": [
    "display(query_path) \n",
    "display(output_dir) \n"
   ]
  },
  {
   "cell_type": "code",
   "execution_count": 8,
   "id": "19a9d913",
   "metadata": {},
   "outputs": [
    {
     "data": {
      "application/vnd.jupyter.widget-view+json": {
       "model_id": "6fd53bfec716487386f56de4d96cad07",
       "version_major": 2,
       "version_minor": 0
      },
      "text/plain": [
       "Text(value='', description='Output Path:', layout=Layout(width='90%'))"
      ]
     },
     "metadata": {},
     "output_type": "display_data"
    }
   ],
   "source": []
  },
  {
   "cell_type": "code",
   "execution_count": 11,
   "id": "55db3446",
   "metadata": {
    "scrolled": true
   },
   "outputs": [
    {
     "data": {
      "application/vnd.jupyter.widget-view+json": {
       "model_id": "c40fff2ca8aa4df6b9337f2ad43eeb7b",
       "version_major": 2,
       "version_minor": 0
      },
      "text/plain": [
       "Text(value='', description='Customer ID: ')"
      ]
     },
     "metadata": {},
     "output_type": "display_data"
    },
    {
     "data": {
      "application/vnd.jupyter.widget-view+json": {
       "model_id": "d4aad366a8414b388eaa64a9049666a9",
       "version_major": 2,
       "version_minor": 0
      },
      "text/plain": [
       "Text(value='', description='User ID: ')"
      ]
     },
     "metadata": {},
     "output_type": "display_data"
    },
    {
     "data": {
      "application/vnd.jupyter.widget-view+json": {
       "model_id": "1c15490478cf45c893d574a7a85bc10c",
       "version_major": 2,
       "version_minor": 0
      },
      "text/plain": [
       "Password(description='Password: ')"
      ]
     },
     "metadata": {},
     "output_type": "display_data"
    },
    {
     "data": {
      "application/vnd.jupyter.widget-view+json": {
       "model_id": "55eb24c0e320472ea2f05a0b890eb786",
       "version_major": 2,
       "version_minor": 0
      },
      "text/plain": [
       "Button(description='Login', style=ButtonStyle())"
      ]
     },
     "metadata": {},
     "output_type": "display_data"
    }
   ],
   "source": [
    "display(cID)\n",
    "display(uID)\n",
    "display(pwd)\n",
    "btn.on_click(startFetch)\n",
    "btn"
   ]
  },
  {
   "cell_type": "code",
   "execution_count": 10,
   "id": "e92c48aa",
   "metadata": {},
   "outputs": [
    {
     "data": {
      "application/vnd.jupyter.widget-view+json": {
       "model_id": "55eb24c0e320472ea2f05a0b890eb786",
       "version_major": 2,
       "version_minor": 0
      },
      "text/plain": [
       "Button(description='Login', style=ButtonStyle())"
      ]
     },
     "metadata": {},
     "output_type": "display_data"
    }
   ],
   "source": []
  },
  {
   "cell_type": "code",
   "execution_count": null,
   "id": "4d94ead9",
   "metadata": {},
   "outputs": [],
   "source": []
  },
  {
   "cell_type": "code",
   "execution_count": null,
   "id": "b76ebcef",
   "metadata": {},
   "outputs": [],
   "source": []
  }
 ],
 "metadata": {
  "celltoolbar": "Tags",
  "kernelspec": {
   "display_name": "Python 3 (ipykernel)",
   "language": "python",
   "name": "python3"
  },
  "language_info": {
   "codemirror_mode": {
    "name": "ipython",
    "version": 3
   },
   "file_extension": ".py",
   "mimetype": "text/x-python",
   "name": "python",
   "nbconvert_exporter": "python",
   "pygments_lexer": "ipython3",
   "version": "3.9.13"
  }
 },
 "nbformat": 4,
 "nbformat_minor": 5
}
