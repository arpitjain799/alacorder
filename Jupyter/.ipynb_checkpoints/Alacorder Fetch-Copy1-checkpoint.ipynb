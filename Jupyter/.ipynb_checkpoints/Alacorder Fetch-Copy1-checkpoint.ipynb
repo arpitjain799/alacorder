{
 "cells": [
  {
   "cell_type": "code",
   "execution_count": null,
   "id": "0fcea166",
   "metadata": {
    "scrolled": true,
    "slideshow": {
     "slide_type": "-"
    }
   },
   "outputs": [],
   "source": []
  },
  {
   "cell_type": "code",
   "execution_count": 1,
   "id": "5a138ff2",
   "metadata": {
    "scrolled": false
   },
   "outputs": [
    {
     "data": {
      "application/vnd.jupyter.widget-view+json": {
       "model_id": "98a9f614c9834ab98f8d1740e5b808ca",
       "version_major": 2,
       "version_minor": 0
      },
      "text/plain": [
       "Text(value='', description='Input Path:', layout=Layout(width='90%'))"
      ]
     },
     "metadata": {},
     "output_type": "display_data"
    },
    {
     "data": {
      "application/vnd.jupyter.widget-view+json": {
       "model_id": "6c6a63f6268d4623ab8b99c30f6f5ee4",
       "version_major": 2,
       "version_minor": 0
      },
      "text/plain": [
       "Text(value='', description='Output Path:', layout=Layout(width='90%'))"
      ]
     },
     "metadata": {},
     "output_type": "display_data"
    },
    {
     "data": {
      "application/vnd.jupyter.widget-view+json": {
       "model_id": "e87da4c4c03742c8b2c9997b7ce74dbd",
       "version_major": 2,
       "version_minor": 0
      },
      "text/plain": [
       "Text(value='', description='Customer ID: ')"
      ]
     },
     "metadata": {},
     "output_type": "display_data"
    },
    {
     "data": {
      "application/vnd.jupyter.widget-view+json": {
       "model_id": "982c4f3b85ec4883af513e69c36027b6",
       "version_major": 2,
       "version_minor": 0
      },
      "text/plain": [
       "Text(value='', description='User ID: ')"
      ]
     },
     "metadata": {},
     "output_type": "display_data"
    },
    {
     "data": {
      "application/vnd.jupyter.widget-view+json": {
       "model_id": "3c7ec7dd0dad4502a606c8553b5f9de4",
       "version_major": 2,
       "version_minor": 0
      },
      "text/plain": [
       "Password(description='Password: ')"
      ]
     },
     "metadata": {},
     "output_type": "display_data"
    },
    {
     "data": {
      "application/vnd.jupyter.widget-view+json": {
       "model_id": "a9c943462fbf45e99b85bb56dd61ed58",
       "version_major": 2,
       "version_minor": 0
      },
      "text/plain": [
       "Button(description='Login', style=ButtonStyle())"
      ]
     },
     "metadata": {},
     "output_type": "display_data"
    }
   ],
   "source": [
    "# import cython\n",
    "import warnings\n",
    "warnings.filterwarnings('ignore')\n",
    "import os\n",
    "import sys\n",
    "import pyximport; pyximport.install()\n",
    "try:\n",
    "    import cal\n",
    "except:\n",
    "    import alac\n",
    "    print(\"PYX import failed. Alacorder on Jupyter is configured with alac.py.\")\n",
    "import pandas as pd\n",
    "from IPython.display import display\n",
    "from itables import show\n",
    "import ipywidgets as widgets\n",
    "import click\n",
    "from tqdm.notebook import tqdm, trange\n",
    "sys.tracebacklimit = 0\n",
    "query_path = widgets.Text(description=\"Input Path:\", layout=widgets.Layout(width='90%'), tooltip=\"Path to query template spreadsheet (list of names, etc. to search)\")\n",
    "output_dir = widgets.Text(description=\"Output Path:\", layout=widgets.Layout(width='90%'))\n",
    "cID = widgets.Text(description=\"Customer ID: \")\n",
    "uID = widgets.Text(description=\"User ID: \")\n",
    "pwd = widgets.Password(description=\"Password: \")\n",
    "btn = widgets.Button(description=\"Login\")\n",
    "clicked = False\n",
    "\n",
    "def startFetch(*args):\n",
    "    global clicked, query_path, output_dir, cID, uID, pwd, btn\n",
    "    if os.path.isdir(output_dir.value) and os.path.isfile(query_path.value) and cID.value != \"\" and uID.value != \"\" and pwd.value != \"\" and not clicked:\n",
    "        return alac.fetch(query_path.value,output_dir.value,cID=cID.value, uID=uID.value, pwd=pwd.value)\n",
    "    else:\n",
    "        return None\n",
    "\n",
    "display(query_path, output_dir, cID, uID, pwd)\n",
    "\n",
    "# btn.on_click(alac.fetch(query_path.value,output_dir.value,cID=cID.value, uID=uID.value, pwd=pwd.value))\n",
    "a = btn.on_click(startFetch)\n",
    "btn"
   ]
  },
  {
   "cell_type": "code",
   "execution_count": 13,
   "id": "1d37270b",
   "metadata": {
    "scrolled": true
   },
   "outputs": [],
   "source": []
  }
 ],
 "metadata": {
  "celltoolbar": "Raw Cell Format",
  "kernelspec": {
   "display_name": "Python 3 (ipykernel)",
   "language": "python",
   "name": "python3"
  },
  "language_info": {
   "codemirror_mode": {
    "name": "ipython",
    "version": 3
   },
   "file_extension": ".py",
   "mimetype": "text/x-python",
   "name": "python",
   "nbconvert_exporter": "python",
   "pygments_lexer": "ipython3",
   "version": "3.9.13"
  }
 },
 "nbformat": 4,
 "nbformat_minor": 5
}
