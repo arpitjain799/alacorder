{
 "cells": [
  {
   "cell_type": "markdown",
   "id": "227aba2b",
   "metadata": {
    "hide_input": false,
    "tags": []
   },
   "source": [
    "\n",
    "# `ALACORDER on jupyter (beta 76)`\n",
    "\n",
    "<h2>Alacorder retrieves and processes case detail PDFs into data tables suitable for research purposes. </h2>\n",
    "\n",
    "----------------------\n",
    "\n",
    "<h3> In this notebook: </h3>\n",
    "\n",
    "### 1. `fetch` - Retrieve case detail PDFs in bulk from Alacourt.com\n",
    "### 2. `archive` - Create full text archives from PDF directory\n",
    "### 3. `multitable` - Export cases, charges, fees tables at once\n",
    "### 4. `singletable` - Export table choice from archive or directory\n",
    "\n",
    "\n",
    "-----------------------\n",
    "\n",
    "\n",
    "To install on Windows and Mac, open Command Prompt (Terminal) and enter `pip install alacorder` or `pip3 install alacorder`.\n",
    "On Mac, open the Terminal and enter `pip install alacorder` or `pip3 install alacorder`.\n",
    "Install Anaconda Distribution to install Alacorder if the above methods do not work, or if you would like to open an interactive browser notebook equipped with Alacorder on your desktop.\n",
    "After installation, create a virtual environment, open a terminal, and then repeat these instructions. If your copy of Alacorder is corrupted, use `pip uninstall alacorder` or `pip3 uninstall alacorder` and then reinstall it. There may be a newer version available.\n",
    "\n",
    "**Alacorder can run on most devices. If your device can run Python 3.7 or later, it can run Alacorder. The `fetch` tool for PDF retrieval requires an up-to-date installation of Google Chrome.**\n",
    "\n",
    "***Using the Browser Interface***\n",
    "> This notebook can be used to interface with Alacorder directly. Once Alacorder is installed, launch Jupyter Notebook with the command line prompt `python3 -m jupyter notebook` or `python -m jupyter notebook`, then open `ALACORDER.ipynb` in the browser window that opens to begin. If your Python kernel is active and the notebook is trusted, Alacorder will load in this notebook automatically.\n"
   ]
  },
  {
   "cell_type": "code",
   "execution_count": null,
   "outputs": [],
   "source": [
    "%pip install --upgrade alacorder cython pandas numpy numba itables ipywidgets jupyter_nbextensions_configurator ipython jupyter PyPDF2 openpyxl xlrd xlwt selenium click matplotlib numexpr bottleneck xarray pyarrow"
   ],
   "metadata": {
    "collapsed": false
   }
  },
  {
   "cell_type": "code",
   "execution_count": 2,
   "outputs": [],
   "source": [
    "## SETUP: MUST RUN CELL BEFORE USE. PRESS [SHIFT + RETURN] TO LOAD.\n",
    "import cython, os, sys, warnings, itables, ipywidgets, IPython.display; import pandas as pd; import pyximport; pyximport.install(); import alac\n",
    "warnings.filterwarnings('ignore')\n",
    "sys.tracebacklimit = 0\n",
    "\n",
    "query_path = ipywidgets.Text(description=\"Input Path:\", layout=ipywidgets.Layout(width='90%'), tooltip=\"Path to query template spreadsheet (list of names, etc. to search)\")\n",
    "output_dir = ipywidgets.Text(description=\"Output Path:\", layout=ipywidgets.Layout(width='90%'))\n",
    "cID = ipywidgets.Text(description=\"Customer ID: \")\n",
    "uID = ipywidgets.Text(description=\"User ID: \")\n",
    "pwd = ipywidgets.Password(description=\"Password: \")\n",
    "btn = ipywidgets.Button(description=\"Login\")\n",
    "\n",
    "def startFetch(*args):\n",
    "    global clicked, query_path, output_dir, cID, uID, pwd, btn\n",
    "    if os.path.isdir(output_dir.value) and os.path.isfile(query_path.value) and cID.value != \"\" and uID.value != \"\" and pwd.value != \"\":\n",
    "        return alac.fetch(query_path.value,output_dir.value,cID=cID.value, uID=uID.value, pwd=pwd.value)\n",
    "    else:\n",
    "        display(\"Ensure all fields are correctly filled, then try again.\")\n",
    "        return None\n",
    "\n",
    "oQueryTable = ipywidgets.Output()\n",
    "oQueryTable_hidden = True\n",
    "\n",
    "def viewQueryTable(*args):\n",
    "    global oQueryTable\n",
    "    global oQueryTable_hidden\n",
    "    if oQueryTable_hidden:\n",
    "        inputstab = \"\"\"<style> table {float:left} </style> <table> <thead> <tr> <th>Field</th> <th>Description</th> </tr> </thead> <tbody> <tr> <td><code>NAME</code></td> <td>Last Name First</td> </tr> <tr> <td><code>PARTY_TYPE</code></td> <td>Social Security Number (Optional)</td> </tr> <tr> <td><code>SSN</code></td> <td>Applies to civil cases only (Optional)</td> </tr> <tr> <td><code>DOB</code></td> <td>Date of Birth (M/DD/YYYY)</td> </tr> <tr> <td><code>COUNTY</code></td> <td>Select a county if not statewide</td> </tr> <tr> <td><code>DIVISION</code></td> <td>Select a division if not all divisions.</td> </tr> <tr> <td><code>CASE_YEAR</code></td> <td>Four digit case year to limit results</td> </tr> <tr> <td><code>FILED_BEFORE</code></td> <td>Do not include cases filed after M/DD/YYYY</td> </tr> <tr> <td><code>FILED_AFTER</code></td> <td>Do not include cases filed after M/DD/YYYY</td> </tr> </tbody> </table> \"\"\"\n",
    "        oQueryTable_hidden = False\n",
    "        with oQueryTable:\n",
    "            display(IPython.display.HTML(inputstab))\n",
    "    else:\n",
    "        oQueryTable.clear_output()\n",
    "        oQueryTable_hidden = True\n",
    "        pass\n",
    "\n",
    "alacfetchhead = \"\"\"<a id=\"fetch\"></a>\n",
    "<h2 id=\"collect-case-pdfs-in-bulk-from-alacourt-com-from-a-list-of-names-or-search-parameters-\">Collect case PDFs in bulk from Alacourt.com from a list of names or search parameters.</h2>\n",
    "<p><strong>Use column headers <code>NAME</code>, <code>PARTY_TYPE</code>, <code>SSN</code>, <code>DOB</code>, <code>COUNTY</code>, <code>DIVISION</code>, <code>CASE_YEAR</code>, and/or <code>FILED_BEFORE</code> in an Excel spreadsheet to submit a list of queries for Alacorder to scrape. Each column corresponds to a search field in Party Search. Missing columns and entries will be left empty, i.e. if only the <code>NAME</code>&#39;s and <code>CASE_YEAR</code>&#39;s are relevant to the search, a file with two columns will work.</strong></p>\n",
    "\"\"\"\n",
    "btn2 = ipywidgets.Button(description=\"Read more\")\n",
    "\n",
    "def showFetch(*args):\n",
    "    display(IPython.display.HTML(alacfetchhead))\n",
    "    display(btn2, oQueryTable)\n",
    "    btn2.on_click(viewQueryTable)\n",
    "    display(query_path)\n",
    "    display(output_dir)\n",
    "    display(cID)\n",
    "    display(uID)\n",
    "    display(pwd)\n",
    "    btn.on_click(startFetch)\n",
    "    display(btn)\n",
    "\n",
    "oQueryTable.clear_output()\n",
    "\n",
    "arc_title = IPython.display.HTML(\"\"\"<a id=\"arc\"></a>\n",
    "<h2 id=\"case-text-archives-require-a-fraction-of-the-storage-capacity-and-processing-time-used-to-process-pdf-directories-before-exporting-your-data-to-tables-create-an-archive-with-supported-file-extensions-pkl-xz-json-zip-parquet-and-csv-zip-\">Case text archives require a fraction of the storage capacity and processing time used to process PDF directories. Before exporting your data to tables, create an archive with supported file extensions  <code>.pkl.xz</code>, <code>.json(.zip)</code>, <code>.parquet</code> and <code>.csv(.zip)</code>.</h2>\n",
    "<p><strong>Once archived, use your case text archive as an input for multitable or single table export.</strong></p>\n",
    "\"\"\")\n",
    "arc_inpath = ipywidgets.Text(description=\"Input Path\",\n",
    "                            layout=ipywidgets.Layout(width='90%'),\n",
    "                            tooltip=\"Path to PDF directory (list of names, etc. to search)\")\n",
    "\n",
    "arc_outpath = ipywidgets.Text(description=\"Output Path\", layout=ipywidgets.Layout(width='90%'))\n",
    "arc_count = ipywidgets.IntText(description=\"Set max count\", layout=ipywidgets.Layout(width='90%'))\n",
    "arc_overwrite = ipywidgets.Checkbox(description=\"Allow overwrite\")\n",
    "arc_dedupe = ipywidgets.Checkbox(description=\"Remove duplicates\")\n",
    "arc_compress = ipywidgets.Checkbox(description=\"ZIP export (must be .json, .csv)\")\n",
    "arc_btn = ipywidgets.Button(description=\"Start archiving\")\n",
    "\n",
    "def showArchive():\n",
    "    global arc_title, arc_inpath, arc_outpath, arc_count, arc_overwrite, arc_dedupe, arc_compress, arc_btn\n",
    "    display(arc_title)\n",
    "    display(arc_inpath)\n",
    "    display(arc_outpath)\n",
    "    arc_chk = ipywidgets.HBox([arc_overwrite, arc_dedupe, arc_compress])\n",
    "    display(arc_chk)\n",
    "    display(arc_btn)\n",
    "    return None\n",
    "\n",
    "mtab_title = IPython.display.HTML(\"\"\"<a id=\"mtab\"></a>\n",
    "<h2 id=\"multitable-export-processes-case-detail-pdfs-and-case-text-archives-into-data-tables-suitable-for-research-purposes-export-an-excel-spreadsheet-with-detailed-cases-information-cases-fee-sheets-fees-and-charges-information-charges-disposition-filing-\">Multitable export processes case detail PDFs and case text archives into data tables suitable for research purposes. Export an Excel spreadsheet with detailed cases information (<code>cases</code>), fee sheets (<code>fees</code>), and charges information (<code>charges</code>, <code>disposition</code>, <code>filing</code>).</h2>\n",
    "<p><strong><em>Note: It is recommended that you create a case text archive from your target PDF directory before exporting tables. Case text archives can be processed into tables at a much faster rate and require far less storage.</em></strong></p>\"\"\")\n",
    "mtab_inpath = ipywidgets.Text(description=\"Input Path\",\n",
    "                        layout=ipywidgets.Layout(width='90%'),\n",
    "                        tooltip=\"Path to input directory or archive\")\n",
    "\n",
    "mtab_outpath = ipywidgets.Text(description=\"Output Path\", layout=ipywidgets.Layout(width='90%'))\n",
    "mtab_count = ipywidgets.IntText(\n",
    "    value=0,\n",
    "    min=0,\n",
    "    max=10000,\n",
    "    step=1,\n",
    "    description='Max count:',\n",
    "    orientation='horizontal',\n",
    "    readout=True,\n",
    "    readout_format='d'\n",
    ")\n",
    "mtab_overwrite = ipywidgets.Checkbox(description=\"Allow overwrite\")\n",
    "mtab_btn = ipywidgets.Button(description=\"Start export\")\n",
    "\n",
    "mtab_obox = ipywidgets.HBox([mtab_count, mtab_overwrite])\n",
    "def startMulti(*args):\n",
    "    global mtab_title, mtab_inpath, mtab_outpath, mtab_count, mtab_overwrite, mtab_btn\n",
    "    if mtab_inpath.value.strip() != \"\":\n",
    "        cf = alac.setpaths(mtab_inpath.value, mtab_outpath.value, overwrite=mtab_overwrite.value, jlog=True)\n",
    "        return alac.init(cf)\n",
    "    else:\n",
    "        return None\n",
    "\n",
    "def showMulti():\n",
    "    display(mtab_title)\n",
    "    display(mtab_obox)\n",
    "    display(mtab_inpath)\n",
    "    display(mtab_outpath)\n",
    "    mtab_btn.on_click(startMulti)\n",
    "    display(mtab_btn)\n",
    "    return None\n",
    "\n",
    "\n",
    "stab_title = IPython.display.HTML(\"\"\"<a id=\"stab\"></a>\n",
    "<h2 id=\"export-charges-including-disposition-only-and-filing-only-cases-or-fees-table-only-single-table-export-enables-file-types-without-support-for-multiple-sheets-this-mode-allows-export-to-csv-json-dta-xls-xlsx-pkl-and-parquet-files-\">Export <code>charges</code> (including <code>disposition</code> only and <code>filing</code> only), <code>cases</code>, or <code>fees</code> table only. Single table export enables file types without support for multiple sheets. This mode allows export to <code>.csv</code>, <code>.json</code>, <code>.dta</code>, <code>.xls</code>, <code>.xlsx</code>, <code>.pkl</code>, and <code>.parquet</code> files.</h2>\n",
    "<p><strong>Once archived, use your case text archive as an input for multitable or single table export.</strong></p>\"\"\")\n",
    "stab_inpath = ipywidgets.Text(description=\"Input Path\",\n",
    "                        layout=ipywidgets.Layout(width='90%'),\n",
    "                        tooltip=\"Path to input directory or archive\")\n",
    "stab_table = ipywidgets.RadioButtons(options=['cases', 'charges', 'disposition', 'filing', 'fees'],description='Table:')\n",
    "\n",
    "stab_outpath = ipywidgets.Text(description=\"Output Path\", layout=ipywidgets.Layout(width='90%'))\n",
    "stab_count = ipywidgets.IntText(\n",
    "    value=0,\n",
    "    min=0,\n",
    "    max=10000,\n",
    "    step=1,\n",
    "    description='Max count:',\n",
    "    orientation='horizontal',\n",
    "    readout=True,\n",
    "    readout_format='d'\n",
    ")\n",
    "stab_overwrite = ipywidgets.Checkbox(description=\"Allow overwrite\")\n",
    "stab_nobatch = ipywidgets.Checkbox(description=\"Don't split in batches\")\n",
    "stab_btn = ipywidgets.Button(description=\"Start export\")\n",
    "\n",
    "stab_obox = ipywidgets.HBox([stab_overwrite, stab_nobatch])\n",
    "\n",
    "def startSingle(*args):\n",
    "    global stab_title, stab_inpath, stab_outpath, stab_count, stab_overwrite, stab_btn\n",
    "    if stab_inpath.value.strip() != \"\":\n",
    "        cf = alac.setpaths(stab_inpath.value, stab_outpath.value, table=stab_table.value, overwrite=stab_overwrite.value, no_batch=stab_nobatch.value, jlog=True)\n",
    "        return alac.init(cf)\n",
    "    else:\n",
    "        return None\n",
    "\n",
    "def showSingle():\n",
    "    display(stab_title)\n",
    "    display(stab_obox)\n",
    "    display(stab_inpath)\n",
    "    display(stab_outpath)\n",
    "    display(stab_table)\n",
    "    stab_btn.on_click(startSingle)\n",
    "    display(stab_btn)\n",
    "    return None"
   ],
   "metadata": {
    "collapsed": false
   }
  },
  {
   "cell_type": "markdown",
   "id": "c3d66fea",
   "metadata": {
    "hide_input": true
   },
   "source": [
    "---------------------\n",
    "\n",
    "# `fetch` - Retrieve case detail PDFs in bulk from Alacourt.com"
   ]
  },
  {
   "cell_type": "code",
   "execution_count": 3,
   "id": "a2a97810",
   "metadata": {
    "hide_input": true,
    "init_cell": true
   },
   "outputs": [
    {
     "data": {
      "text/html": [
       "<a id=\"fetch\"></a>\n",
       "<h2 id=\"collect-case-pdfs-in-bulk-from-alacourt-com-from-a-list-of-names-or-search-parameters-\">Collect case PDFs in bulk from Alacourt.com from a list of names or search parameters.</h2>\n",
       "<p><strong>Use column headers <code>NAME</code>, <code>PARTY_TYPE</code>, <code>SSN</code>, <code>DOB</code>, <code>COUNTY</code>, <code>DIVISION</code>, <code>CASE_YEAR</code>, and/or <code>FILED_BEFORE</code> in an Excel spreadsheet to submit a list of queries for Alacorder to scrape. Each column corresponds to a search field in Party Search. Missing columns and entries will be left empty, i.e. if only the <code>NAME</code>&#39;s and <code>CASE_YEAR</code>&#39;s are relevant to the search, a file with two columns will work.</strong></p>\n"
      ],
      "text/plain": [
       "<IPython.core.display.HTML object>"
      ]
     },
     "metadata": {},
     "output_type": "display_data"
    },
    {
     "data": {
      "application/vnd.jupyter.widget-view+json": {
       "model_id": "7534f28e5d89456e9ae96e96e7d2d591",
       "version_major": 2,
       "version_minor": 0
      },
      "text/plain": [
       "Button(description='Read more', style=ButtonStyle())"
      ]
     },
     "metadata": {},
     "output_type": "display_data"
    },
    {
     "data": {
      "application/vnd.jupyter.widget-view+json": {
       "model_id": "17ef26b0e5b34de1b033724b09bfb736",
       "version_major": 2,
       "version_minor": 0
      },
      "text/plain": [
       "Output()"
      ]
     },
     "metadata": {},
     "output_type": "display_data"
    },
    {
     "data": {
      "application/vnd.jupyter.widget-view+json": {
       "model_id": "2eb872b0cc4544f1b85577b8e3bb89c2",
       "version_major": 2,
       "version_minor": 0
      },
      "text/plain": [
       "Text(value='', description='Input Path:', layout=Layout(width='90%'), tooltip='Path to query template spreadsh…"
      ]
     },
     "metadata": {},
     "output_type": "display_data"
    },
    {
     "data": {
      "application/vnd.jupyter.widget-view+json": {
       "model_id": "ac11e4f7bbcb49c48eea28f17582f44b",
       "version_major": 2,
       "version_minor": 0
      },
      "text/plain": [
       "Text(value='', description='Output Path:', layout=Layout(width='90%'))"
      ]
     },
     "metadata": {},
     "output_type": "display_data"
    },
    {
     "data": {
      "application/vnd.jupyter.widget-view+json": {
       "model_id": "81708ac06a1b4ba6b88ed70e1dc35783",
       "version_major": 2,
       "version_minor": 0
      },
      "text/plain": [
       "Text(value='', description='Customer ID: ')"
      ]
     },
     "metadata": {},
     "output_type": "display_data"
    },
    {
     "data": {
      "application/vnd.jupyter.widget-view+json": {
       "model_id": "6ed0cdc928bb4c01b97cef6137561eab",
       "version_major": 2,
       "version_minor": 0
      },
      "text/plain": [
       "Text(value='', description='User ID: ')"
      ]
     },
     "metadata": {},
     "output_type": "display_data"
    },
    {
     "data": {
      "application/vnd.jupyter.widget-view+json": {
       "model_id": "e28e67e365e343c094426156a59ad0f1",
       "version_major": 2,
       "version_minor": 0
      },
      "text/plain": [
       "Password(description='Password: ')"
      ]
     },
     "metadata": {},
     "output_type": "display_data"
    },
    {
     "data": {
      "application/vnd.jupyter.widget-view+json": {
       "model_id": "0c124e43a11f48e7b4fd8f9f35ae184d",
       "version_major": 2,
       "version_minor": 0
      },
      "text/plain": [
       "Button(description='Login', style=ButtonStyle())"
      ]
     },
     "metadata": {},
     "output_type": "display_data"
    }
   ],
   "source": [
    "showFetch() # run cell if fetch options are not visible"
   ]
  },
  {
   "cell_type": "markdown",
   "id": "b492cac2",
   "metadata": {},
   "source": [
    "-----------------------------------\n",
    "\n",
    "# `multitable` - Export cases, charges, fees tables at once"
   ]
  },
  {
   "cell_type": "code",
   "execution_count": 4,
   "id": "2fb5dde1",
   "metadata": {
    "hide_input": true,
    "init_cell": true
   },
   "outputs": [
    {
     "data": {
      "text/html": [
       "<a id=\"mtab\"></a>\n",
       "<h2 id=\"multitable-export-processes-case-detail-pdfs-and-case-text-archives-into-data-tables-suitable-for-research-purposes-export-an-excel-spreadsheet-with-detailed-cases-information-cases-fee-sheets-fees-and-charges-information-charges-disposition-filing-\">Multitable export processes case detail PDFs and case text archives into data tables suitable for research purposes. Export an Excel spreadsheet with detailed cases information (<code>cases</code>), fee sheets (<code>fees</code>), and charges information (<code>charges</code>, <code>disposition</code>, <code>filing</code>).</h2>\n",
       "<p><strong><em>Note: It is recommended that you create a case text archive from your target PDF directory before exporting tables. Case text archives can be processed into tables at a much faster rate and require far less storage.</em></strong></p>"
      ],
      "text/plain": [
       "<IPython.core.display.HTML object>"
      ]
     },
     "metadata": {},
     "output_type": "display_data"
    },
    {
     "data": {
      "application/vnd.jupyter.widget-view+json": {
       "model_id": "d664e5fad08b41e1b5ce5e5cf36393ec",
       "version_major": 2,
       "version_minor": 0
      },
      "text/plain": [
       "HBox(children=(IntText(value=0, description='Max count:'), Checkbox(value=False, description='Allow overwrite'…"
      ]
     },
     "metadata": {},
     "output_type": "display_data"
    },
    {
     "data": {
      "application/vnd.jupyter.widget-view+json": {
       "model_id": "8b5869406ea54ec395d5717013d646bc",
       "version_major": 2,
       "version_minor": 0
      },
      "text/plain": [
       "Text(value='', description='Input Path', layout=Layout(width='90%'), tooltip='Path to input directory or archi…"
      ]
     },
     "metadata": {},
     "output_type": "display_data"
    },
    {
     "data": {
      "application/vnd.jupyter.widget-view+json": {
       "model_id": "9be371994de54728b4b7274cf4f9207c",
       "version_major": 2,
       "version_minor": 0
      },
      "text/plain": [
       "Text(value='', description='Output Path', layout=Layout(width='90%'))"
      ]
     },
     "metadata": {},
     "output_type": "display_data"
    },
    {
     "data": {
      "application/vnd.jupyter.widget-view+json": {
       "model_id": "68733f494d7a43ebb2042f05a99790be",
       "version_major": 2,
       "version_minor": 0
      },
      "text/plain": [
       "Button(description='Start export', style=ButtonStyle())"
      ]
     },
     "metadata": {},
     "output_type": "display_data"
    }
   ],
   "source": [
    "showMulti() # run cell if multitable export options are not visible"
   ]
  },
  {
   "cell_type": "markdown",
   "id": "aff56a30",
   "metadata": {},
   "source": [
    "---------------------------------------------\n",
    "\n",
    "# `singletable` - Export table choice from archive or directory"
   ]
  },
  {
   "cell_type": "code",
   "execution_count": 5,
   "id": "471f2b87",
   "metadata": {
    "hide_input": true,
    "init_cell": true
   },
   "outputs": [
    {
     "data": {
      "text/html": [
       "<a id=\"stab\"></a>\n",
       "<h2 id=\"export-charges-including-disposition-only-and-filing-only-cases-or-fees-table-only-single-table-export-enables-file-types-without-support-for-multiple-sheets-this-mode-allows-export-to-csv-json-dta-xls-xlsx-pkl-and-parquet-files-\">Export <code>charges</code> (including <code>disposition</code> only and <code>filing</code> only), <code>cases</code>, or <code>fees</code> table only. Single table export enables file types without support for multiple sheets. This mode allows export to <code>.csv</code>, <code>.json</code>, <code>.dta</code>, <code>.xls</code>, <code>.xlsx</code>, <code>.pkl</code>, and <code>.parquet</code> files.</h2>\n",
       "<p><strong>Once archived, use your case text archive as an input for multitable or single table export.</strong></p>"
      ],
      "text/plain": [
       "<IPython.core.display.HTML object>"
      ]
     },
     "metadata": {},
     "output_type": "display_data"
    },
    {
     "data": {
      "application/vnd.jupyter.widget-view+json": {
       "model_id": "7ab3a0fa838d4ed0ad4ec7ca2afd2b48",
       "version_major": 2,
       "version_minor": 0
      },
      "text/plain": [
       "HBox(children=(Checkbox(value=False, description='Allow overwrite'), Checkbox(value=False, description=\"Don't …"
      ]
     },
     "metadata": {},
     "output_type": "display_data"
    },
    {
     "data": {
      "application/vnd.jupyter.widget-view+json": {
       "model_id": "9eb75844352645be91fda7f73a7050a3",
       "version_major": 2,
       "version_minor": 0
      },
      "text/plain": [
       "Text(value='', description='Input Path', layout=Layout(width='90%'), tooltip='Path to input directory or archi…"
      ]
     },
     "metadata": {},
     "output_type": "display_data"
    },
    {
     "data": {
      "application/vnd.jupyter.widget-view+json": {
       "model_id": "a090a0c63d8e459dba87550d673be6c4",
       "version_major": 2,
       "version_minor": 0
      },
      "text/plain": [
       "Text(value='', description='Output Path', layout=Layout(width='90%'))"
      ]
     },
     "metadata": {},
     "output_type": "display_data"
    },
    {
     "data": {
      "application/vnd.jupyter.widget-view+json": {
       "model_id": "338a72458cc349c3a587e61cac402a08",
       "version_major": 2,
       "version_minor": 0
      },
      "text/plain": [
       "RadioButtons(description='Table:', options=('cases', 'charges', 'disposition', 'filing', 'fees'), value='cases…"
      ]
     },
     "metadata": {},
     "output_type": "display_data"
    },
    {
     "data": {
      "application/vnd.jupyter.widget-view+json": {
       "model_id": "32ad0b7cfe304b509b584a163a043b3e",
       "version_major": 2,
       "version_minor": 0
      },
      "text/plain": [
       "Button(description='Start export', style=ButtonStyle())"
      ]
     },
     "metadata": {},
     "output_type": "display_data"
    }
   ],
   "source": [
    "showSingle() # run cell if single table options are not visible"
   ]
  },
  {
   "cell_type": "markdown",
   "id": "b32810b7",
   "metadata": {},
   "source": [
    "------------------------------------\n",
    "\n",
    "# `archive` - Create full text archives from PDF directory"
   ]
  },
  {
   "cell_type": "code",
   "execution_count": 6,
   "id": "16c63d5a",
   "metadata": {
    "hide_input": true,
    "init_cell": true
   },
   "outputs": [
    {
     "data": {
      "text/html": [
       "<a id=\"arc\"></a>\n",
       "<h2 id=\"case-text-archives-require-a-fraction-of-the-storage-capacity-and-processing-time-used-to-process-pdf-directories-before-exporting-your-data-to-tables-create-an-archive-with-supported-file-extensions-pkl-xz-json-zip-parquet-and-csv-zip-\">Case text archives require a fraction of the storage capacity and processing time used to process PDF directories. Before exporting your data to tables, create an archive with supported file extensions  <code>.pkl.xz</code>, <code>.json(.zip)</code>, <code>.parquet</code> and <code>.csv(.zip)</code>.</h2>\n",
       "<p><strong>Once archived, use your case text archive as an input for multitable or single table export.</strong></p>\n"
      ],
      "text/plain": [
       "<IPython.core.display.HTML object>"
      ]
     },
     "metadata": {},
     "output_type": "display_data"
    },
    {
     "data": {
      "application/vnd.jupyter.widget-view+json": {
       "model_id": "930d2cf817b14c1f9d65c82d6bc299a4",
       "version_major": 2,
       "version_minor": 0
      },
      "text/plain": [
       "Text(value='', description='Input Path', layout=Layout(width='90%'), tooltip='Path to PDF directory (list of n…"
      ]
     },
     "metadata": {},
     "output_type": "display_data"
    },
    {
     "data": {
      "application/vnd.jupyter.widget-view+json": {
       "model_id": "59e8ded71bf84f8fb07e67fcdad2d588",
       "version_major": 2,
       "version_minor": 0
      },
      "text/plain": [
       "Text(value='', description='Output Path', layout=Layout(width='90%'))"
      ]
     },
     "metadata": {},
     "output_type": "display_data"
    },
    {
     "data": {
      "application/vnd.jupyter.widget-view+json": {
       "model_id": "5469d40375f845249a740e5a1304132a",
       "version_major": 2,
       "version_minor": 0
      },
      "text/plain": [
       "HBox(children=(Checkbox(value=False, description='Allow overwrite'), Checkbox(value=False, description='Remove…"
      ]
     },
     "metadata": {},
     "output_type": "display_data"
    },
    {
     "data": {
      "application/vnd.jupyter.widget-view+json": {
       "model_id": "c30058f6da04474ca9f3d9e2e2f7d0f4",
       "version_major": 2,
       "version_minor": 0
      },
      "text/plain": [
       "Button(description='Start archiving', style=ButtonStyle())"
      ]
     },
     "metadata": {},
     "output_type": "display_data"
    }
   ],
   "source": [
    "showArchive() # run cell if archive export options are not visible"
   ]
  }
 ],
 "metadata": {
  "celltoolbar": "Initialization Cell",
  "kernelspec": {
   "display_name": "Python 3 (ipykernel)",
   "language": "python",
   "name": "python3"
  },
  "language_info": {
   "codemirror_mode": {
    "name": "ipython",
    "version": 3
   },
   "file_extension": ".py",
   "mimetype": "text/x-python",
   "name": "python",
   "nbconvert_exporter": "python",
   "pygments_lexer": "ipython3",
   "version": "3.9.13"
  },
  "toc": {
   "base_numbering": 1,
   "nav_menu": {},
   "number_sections": true,
   "sideBar": true,
   "skip_h1_title": false,
   "title_cell": "Table of Contents",
   "title_sidebar": "Contents",
   "toc_cell": true,
   "toc_position": {},
   "toc_section_display": true,
   "toc_window_display": false
  }
 },
 "nbformat": 4,
 "nbformat_minor": 5
}
