{
 "cells": [
  {
   "cell_type": "code",
   "execution_count": 3,
   "id": "1df288c0-7549-4e17-b347-183e2b9160d7",
   "metadata": {
    "tags": []
   },
   "outputs": [
    {
     "data": {
      "application/vnd.jupyter.widget-view+json": {
       "model_id": "5b219141ef014adb8b0222e6b0272095",
       "version_major": 2,
       "version_minor": 0
      },
      "text/plain": [
       "IntSlider(value=5, description='Speed:', max=10, step=0)"
      ]
     },
     "metadata": {},
     "output_type": "display_data"
    },
    {
     "data": {
      "application/vnd.jupyter.widget-view+json": {
       "model_id": "588d41bbdcb740d29ea3eeee54ba9758",
       "version_major": 2,
       "version_minor": 0
      },
      "text/plain": [
       "Checkbox(value=False, description='Debug')"
      ]
     },
     "metadata": {},
     "output_type": "display_data"
    },
    {
     "data": {
      "application/vnd.jupyter.widget-view+json": {
       "model_id": "160dc7faecf84cf1b5aff52f30591354",
       "version_major": 2,
       "version_minor": 0
      },
      "text/plain": [
       "Checkbox(value=False, description='Remove duplicates')"
      ]
     },
     "metadata": {},
     "output_type": "display_data"
    },
    {
     "data": {
      "application/vnd.jupyter.widget-view+json": {
       "model_id": "80e3871c12e44800a100688428fcc971",
       "version_major": 2,
       "version_minor": 0
      },
      "text/plain": [
       "Checkbox(value=False, description='Compress outputs')"
      ]
     },
     "metadata": {},
     "output_type": "display_data"
    },
    {
     "data": {
      "application/vnd.jupyter.widget-view+json": {
       "model_id": "41cb8e0db4c14b21b7ab3995ec9b1797",
       "version_major": 2,
       "version_minor": 0
      },
      "text/plain": [
       "Checkbox(value=False, description='Print logs')"
      ]
     },
     "metadata": {},
     "output_type": "display_data"
    },
    {
     "data": {
      "application/vnd.jupyter.widget-view+json": {
       "model_id": "3b72deab6d8c496591460240ab9c9a1a",
       "version_major": 2,
       "version_minor": 0
      },
      "text/plain": [
       "ToggleButtons(description='Do not write to output file', options=(), value=None)"
      ]
     },
     "metadata": {},
     "output_type": "display_data"
    },
    {
     "data": {
      "application/vnd.jupyter.widget-view+json": {
       "model_id": "69e4693201694360a86818abfc464ae6",
       "version_major": 2,
       "version_minor": 0
      },
      "text/plain": [
       "ToggleButtons(description='Do not split into batches', options=(), value=None)"
      ]
     },
     "metadata": {},
     "output_type": "display_data"
    },
    {
     "data": {
      "application/vnd.jupyter.widget-view+json": {
       "model_id": "6fd735f43b974b9f8af0aaad7e3e599a",
       "version_major": 2,
       "version_minor": 0
      },
      "text/plain": [
       "ToggleButtons(description='Do not prompt for user input', options=(), value=None)"
      ]
     },
     "metadata": {},
     "output_type": "display_data"
    }
   ],
   "source": [
    "from ipywidgets import interact, interactive, fixed, interact_manual\n",
    "import ipywidgets as widgets\n",
    "from alacorder import alac\n",
    "import pandas as pd\n",
    "import click\n",
    "from IPython.display import display\n",
    "import os\n",
    "import sys\n",
    "import math\n",
    "import click\n",
    "import pandas as pd\n",
    "import time\n",
    "import selenium\n",
    "from selenium import webdriver\n",
    "from selenium.webdriver.common.by import By\n",
    "from selenium.webdriver.support.ui import Select\n",
    "from selenium.webdriver.chrome.options import Options \n",
    "\n",
    "speed = widgets.IntSlider(\n",
    "    min=0,\n",
    "    max=10,\n",
    "    step=.2,\n",
    "    description='Speed:',\n",
    "    value=5\n",
    ")\n",
    "\n",
    "debug = widgets.Checkbox(\n",
    "    description='Debug'\n",
    ")\n",
    "\n",
    "dedupe = widgets.Checkbox(\n",
    "    description='Remove duplicates'\n",
    ")\n",
    "\n",
    "compress = widgets.Checkbox(\n",
    "    description='Compress outputs'\n",
    ")\n",
    "\n",
    "log = widgets.Checkbox(\n",
    "    description='Print logs'\n",
    ")\n",
    "\n",
    "no_write = widgets.ToggleButtons(\n",
    "    description='Do not write to output file'\n",
    ")\n",
    "no_batch = widgets.ToggleButtons(\n",
    "    description='Do not split into batches'\n",
    ")\n",
    "no_prompt = widgets.ToggleButtons(\n",
    "    description='Do not prompt for user input'\n",
    ")\n",
    "\n",
    "\n",
    "display(speed, debug, dedupe, compress, log, no_write, no_batch, no_prompt)\n"
   ]
  },
  {
   "cell_type": "code",
   "execution_count": 47,
   "id": "1efa2fc8-f18f-4990-8967-3d830a51c922",
   "metadata": {},
   "outputs": [
    {
     "name": "stdout",
     "output_type": "stream",
     "text": [
      "['Accordion', 'AppLayout', 'Audio', 'BoundedFloatText', 'BoundedIntText', 'Box', 'Button', 'ButtonStyle', 'CallbackDispatcher', 'Checkbox', 'Color', 'ColorPicker', 'Combobox', 'Controller', 'CoreWidget', 'DOMWidget', 'DatePicker', 'Datetime', 'Dropdown', 'FileUpload', 'FloatLogSlider', 'FloatProgress', 'FloatRangeSlider', 'FloatSlider', 'FloatText', 'GridBox', 'GridspecLayout', 'HBox', 'HTML', 'HTMLMath', 'Image', 'IntProgress', 'IntRangeSlider', 'IntSlider', 'IntText', 'Label', 'Layout', 'NumberFormat', 'Output', 'Password', 'Play', 'RadioButtons', 'Select', 'SelectMultiple', 'SelectionRangeSlider', 'SelectionSlider', 'SliderStyle', 'Style', 'Tab', 'Text', 'Textarea', 'ToggleButton', 'ToggleButtons', 'ToggleButtonsStyle', 'TwoByTwoLayout', 'VBox', 'Valid', 'ValueWidget', 'Video', 'Widget', '__builtins__', '__cached__', '__doc__', '__file__', '__jupyter_widgets_base_version__', '__jupyter_widgets_controls_version__', '__loader__', '__name__', '__package__', '__path__', '__protocol_version__', '__spec__', '__version__', '_handle_ipython', '_version', 'dlink', 'docutils', 'domwidget', 'fixed', 'get_ipython', 'handle_kernel', 'interact', 'interact_manual', 'interaction', 'interactive', 'interactive_output', 'jsdlink', 'jslink', 'link', 'load_ipython_extension', 'os', 'register', 'register_comm_target', 'trait_types', 'util', 'valuewidget', 'version_info', 'widget', 'widget_bool', 'widget_box', 'widget_button', 'widget_color', 'widget_controller', 'widget_core', 'widget_date', 'widget_description', 'widget_float', 'widget_int', 'widget_layout', 'widget_link', 'widget_media', 'widget_output', 'widget_selection', 'widget_selectioncontainer', 'widget_serialization', 'widget_string', 'widget_style', 'widget_templates', 'widget_upload', 'widgets']\n"
     ]
    }
   ],
   "source": [
    "print(dir(widgets))\n"
   ]
  },
  {
   "cell_type": "code",
   "execution_count": 4,
   "id": "40b11279-3d41-4cf2-a32e-48fa5c988461",
   "metadata": {},
   "outputs": [
    {
     "data": {
      "application/vnd.jupyter.widget-view+json": {
       "model_id": "d6623a8e8c2044c38aefb127e424ea88",
       "version_major": 2,
       "version_minor": 0
      },
      "text/plain": [
       "Text(value='', description='Customer ID')"
      ]
     },
     "metadata": {},
     "output_type": "display_data"
    },
    {
     "data": {
      "application/vnd.jupyter.widget-view+json": {
       "model_id": "a92b32597a1b444698202026595f2dd3",
       "version_major": 2,
       "version_minor": 0
      },
      "text/plain": [
       "Text(value='', description='User ID')"
      ]
     },
     "metadata": {},
     "output_type": "display_data"
    },
    {
     "data": {
      "application/vnd.jupyter.widget-view+json": {
       "model_id": "40366bce58b146c49a25a01a59d6c3d6",
       "version_major": 2,
       "version_minor": 0
      },
      "text/plain": [
       "Password(description='Password')"
      ]
     },
     "metadata": {},
     "output_type": "display_data"
    },
    {
     "data": {
      "application/vnd.jupyter.widget-view+json": {
       "model_id": "fe5ce649a87346259af9c9344b487fcd",
       "version_major": 2,
       "version_minor": 0
      },
      "text/plain": [
       "Button(description='Login', style=ButtonStyle())"
      ]
     },
     "metadata": {},
     "output_type": "display_data"
    }
   ],
   "source": [
    "## LOGIN\n",
    "from ipywidgets import interact, interactive, fixed, interact_manual\n",
    "import ipywidgets as widgets\n",
    "from alacorder import alac\n",
    "import pandas as pd\n",
    "import click\n",
    "from IPython.display import display\n",
    "import os\n",
    "import sys\n",
    "import math\n",
    "import click\n",
    "import pandas as pd\n",
    "import time\n",
    "import selenium\n",
    "from selenium import webdriver\n",
    "from selenium.webdriver.common.by import By\n",
    "from selenium.webdriver.support.ui import Select\n",
    "from selenium.webdriver.chrome.options import Options \n",
    "\n",
    "def login(cID: str, username: str, pwd: str, speed=1.0, no_log=False, path=\"\"):\n",
    "    \"\"\"Login to Alacourt.com using (driver) and auth (cID, username, pwd) at (speed) for browser download to directory at (path)\n",
    "    \n",
    "    Args:\n",
    "        driver (WebDriver): Google Chrome selenium.WebDriver() object\n",
    "        cID (str): Alacourt.com Customer ID\n",
    "        username (str): Alacourt.com User ID\n",
    "        pwd (str): Alacourt.com Password\n",
    "        speed (TYPE): Scrape rate multiplier\n",
    "        no_log (bool, optional): Do not print logs\n",
    "        path (str, optional): Set browser download path \n",
    "    \n",
    "    Returns:\n",
    "        driver (WebDriver): Google Chrome selenium.WebDriver() object\n",
    "    \"\"\"\n",
    "\n",
    "    options = webdriver.ChromeOptions()\n",
    "    options.add_experimental_option('prefs', {\n",
    "        \"download.default_directory\": path, #Change default directory for downloads\n",
    "        \"download.prompt_for_download\": False, #To auto download the file\n",
    "        \"download.directory_upgrade\": True,\n",
    "        \"plugins.always_open_pdf_externally\": True #It will not show PDF directly in chrome\n",
    "    })\n",
    "    driver = webdriver.Chrome(options=options)\n",
    "\n",
    "    if not no_log:\n",
    "        click.echo(\"Connecting to Alacourt...\")\n",
    "\n",
    "    login_screen = driver.get(\"https://v2.alacourt.com/frmlogin.aspx\")\n",
    "\n",
    "    if not no_log:\n",
    "        click.echo(\"Logging in...\")\n",
    "\n",
    "    driver.implicitly_wait(0.5/speed)\n",
    "    \n",
    "    cID_box = driver.find_element(by=By.NAME, \n",
    "        value=\"ctl00$ContentPlaceHolder$txtCusid\")\n",
    "    username_box = driver.find_element(by=By.NAME, value=\"ctl00$ContentPlaceHolder$txtUserId\")\n",
    "    pwd_box = driver.find_element(by=By.NAME, value=\"ctl00$ContentPlaceHolder$txtPassword\")\n",
    "    login_button = driver.find_element(by=By.ID, value=\"ContentPlaceHolder_btLogin\")\n",
    "\n",
    "    cID_box.send_keys(cID)\n",
    "    username_box.send_keys(username)\n",
    "    pwd_box.send_keys(pwd)\n",
    "\n",
    "    driver.implicitly_wait(1/speed)\n",
    "\n",
    "    login_button.click()\n",
    "\n",
    "    driver.implicitly_wait(1/speed)\n",
    "\n",
    "    try:\n",
    "        continueLogIn = driver.find_element(by=By.NAME, \n",
    "        value=\"ctl00$ContentPlaceHolder$btnContinueLogin\")\n",
    "        continueLogIn.click()\n",
    "    except:\n",
    "        pass\n",
    "\n",
    "\n",
    "    driver.get(\"https://v2.alacourt.com/frmIndexSearchForm.aspx\")\n",
    "\n",
    "    if not no_log:\n",
    "        cal.echo_green(\"Successfully connected and logged into Alacourt!\")\n",
    "\n",
    "    driver.implicitly_wait(0.5/speed)\n",
    "\n",
    "    return driver\n",
    "\n",
    "cID = widgets.Text(description=\"Customer ID\")\n",
    "uID = widgets.Text(description=\"User ID\")\n",
    "pwd = widgets.Password(description=\"Password\")\n",
    "submit = widgets.Button(description=\"Login\")\n",
    "display(cID, uID, pwd, submit)"
   ]
  },
  {
   "cell_type": "code",
   "execution_count": 2,
   "id": "a0765eea-071c-411d-b068-acba83f92d00",
   "metadata": {},
   "outputs": [
    {
     "data": {
      "application/vnd.jupyter.widget-view+json": {
       "model_id": "3336d2cb17004ee3bee2304c76d32918",
       "version_major": 2,
       "version_minor": 0
      },
      "text/plain": [
       "Text(value='', description='Customer ID')"
      ]
     },
     "metadata": {},
     "output_type": "display_data"
    },
    {
     "data": {
      "application/vnd.jupyter.widget-view+json": {
       "model_id": "77ab2723c6aa48558fcf0f027a55db40",
       "version_major": 2,
       "version_minor": 0
      },
      "text/plain": [
       "Text(value='', description='User ID')"
      ]
     },
     "metadata": {},
     "output_type": "display_data"
    },
    {
     "data": {
      "application/vnd.jupyter.widget-view+json": {
       "model_id": "0101ee40dae748c3aaceeb72c7234780",
       "version_major": 2,
       "version_minor": 0
      },
      "text/plain": [
       "Password(description='Password')"
      ]
     },
     "metadata": {},
     "output_type": "display_data"
    },
    {
     "data": {
      "application/vnd.jupyter.widget-view+json": {
       "model_id": "595109e4222146f1aa36ab283e6a6d2e",
       "version_major": 2,
       "version_minor": 0
      },
      "text/plain": [
       "Button(description='Login', style=ButtonStyle())"
      ]
     },
     "metadata": {},
     "output_type": "display_data"
    },
    {
     "ename": "WebDriverException",
     "evalue": "Message: unknown error: Chrome failed to start: exited normally.\n  (chrome not reachable)\n  (The process started from chrome location /Applications/Google Chrome.app/Contents/MacOS/Google Chrome is no longer running, so ChromeDriver is assuming that Chrome has crashed.)\nStacktrace:\n0   chromedriver                        0x0000000102f59138 chromedriver + 4923704\n1   chromedriver                        0x0000000102ed19d3 chromedriver + 4368851\n2   chromedriver                        0x0000000102b1a787 chromedriver + 472967\n3   chromedriver                        0x0000000102b47467 chromedriver + 656487\n4   chromedriver                        0x0000000102b43041 chromedriver + 639041\n5   chromedriver                        0x0000000102b918a5 chromedriver + 960677\n6   chromedriver                        0x0000000102b87d23 chromedriver + 920867\n7   chromedriver                        0x0000000102b4ea4b chromedriver + 686667\n8   chromedriver                        0x0000000102b50044 chromedriver + 692292\n9   chromedriver                        0x0000000102f248fe chromedriver + 4708606\n10  chromedriver                        0x0000000102f29e22 chromedriver + 4730402\n11  chromedriver                        0x0000000102f326bf chromedriver + 4765375\n12  chromedriver                        0x0000000102f2ae80 chromedriver + 4734592\n13  chromedriver                        0x0000000102efb975 chromedriver + 4540789\n14  chromedriver                        0x0000000102f4ce78 chromedriver + 4873848\n15  chromedriver                        0x0000000102f4cff5 chromedriver + 4874229\n16  chromedriver                        0x0000000102f616de chromedriver + 4957918\n17  libsystem_pthread.dylib             0x00007ff807295259 _pthread_start + 125\n18  libsystem_pthread.dylib             0x00007ff807290c7b thread_start + 15\n",
     "output_type": "error",
     "traceback": [
      "\u001B[0;31m---------------------------------------------------------------------------\u001B[0m",
      "\u001B[0;31mWebDriverException\u001B[0m                        Traceback (most recent call last)",
      "Input \u001B[0;32mIn [2]\u001B[0m, in \u001B[0;36m<cell line: 2>\u001B[0;34m()\u001B[0m\n\u001B[1;32m      1\u001B[0m display(cID, uID, pwd, submit)\n\u001B[0;32m----> 2\u001B[0m submit\u001B[38;5;241m.\u001B[39mon_click(\u001B[43mlogin\u001B[49m\u001B[43m(\u001B[49m\u001B[43mcID\u001B[49m\u001B[38;5;241;43m.\u001B[39;49m\u001B[43mvalue\u001B[49m\u001B[43m,\u001B[49m\u001B[43m \u001B[49m\u001B[43muID\u001B[49m\u001B[38;5;241;43m.\u001B[39;49m\u001B[43mvalue\u001B[49m\u001B[43m,\u001B[49m\u001B[43m \u001B[49m\u001B[43mpwd\u001B[49m\u001B[38;5;241;43m.\u001B[39;49m\u001B[43mvalue\u001B[49m\u001B[43m)\u001B[49m)\n",
      "Input \u001B[0;32mIn [1]\u001B[0m, in \u001B[0;36mlogin\u001B[0;34m(cID, username, pwd, speed, no_log, path)\u001B[0m\n\u001B[1;32m     36\u001B[0m options \u001B[38;5;241m=\u001B[39m webdriver\u001B[38;5;241m.\u001B[39mChromeOptions()\n\u001B[1;32m     37\u001B[0m options\u001B[38;5;241m.\u001B[39madd_experimental_option(\u001B[38;5;124m'\u001B[39m\u001B[38;5;124mprefs\u001B[39m\u001B[38;5;124m'\u001B[39m, {\n\u001B[1;32m     38\u001B[0m     \u001B[38;5;124m\"\u001B[39m\u001B[38;5;124mdownload.default_directory\u001B[39m\u001B[38;5;124m\"\u001B[39m: path, \u001B[38;5;66;03m#Change default directory for downloads\u001B[39;00m\n\u001B[1;32m     39\u001B[0m     \u001B[38;5;124m\"\u001B[39m\u001B[38;5;124mdownload.prompt_for_download\u001B[39m\u001B[38;5;124m\"\u001B[39m: \u001B[38;5;28;01mFalse\u001B[39;00m, \u001B[38;5;66;03m#To auto download the file\u001B[39;00m\n\u001B[1;32m     40\u001B[0m     \u001B[38;5;124m\"\u001B[39m\u001B[38;5;124mdownload.directory_upgrade\u001B[39m\u001B[38;5;124m\"\u001B[39m: \u001B[38;5;28;01mTrue\u001B[39;00m,\n\u001B[1;32m     41\u001B[0m     \u001B[38;5;124m\"\u001B[39m\u001B[38;5;124mplugins.always_open_pdf_externally\u001B[39m\u001B[38;5;124m\"\u001B[39m: \u001B[38;5;28;01mTrue\u001B[39;00m \u001B[38;5;66;03m#It will not show PDF directly in chrome\u001B[39;00m\n\u001B[1;32m     42\u001B[0m })\n\u001B[0;32m---> 43\u001B[0m driver \u001B[38;5;241m=\u001B[39m \u001B[43mwebdriver\u001B[49m\u001B[38;5;241;43m.\u001B[39;49m\u001B[43mChrome\u001B[49m\u001B[43m(\u001B[49m\u001B[43moptions\u001B[49m\u001B[38;5;241;43m=\u001B[39;49m\u001B[43moptions\u001B[49m\u001B[43m)\u001B[49m\n\u001B[1;32m     45\u001B[0m \u001B[38;5;28;01mif\u001B[39;00m \u001B[38;5;129;01mnot\u001B[39;00m no_log:\n\u001B[1;32m     46\u001B[0m     click\u001B[38;5;241m.\u001B[39mecho(\u001B[38;5;124m\"\u001B[39m\u001B[38;5;124mConnecting to Alacourt...\u001B[39m\u001B[38;5;124m\"\u001B[39m)\n",
      "File \u001B[0;32m/opt/homebrew/anaconda3/lib/python3.9/site-packages/selenium/webdriver/chrome/webdriver.py:80\u001B[0m, in \u001B[0;36mWebDriver.__init__\u001B[0;34m(self, executable_path, port, options, service_args, desired_capabilities, service_log_path, chrome_options, service, keep_alive)\u001B[0m\n\u001B[1;32m     77\u001B[0m \u001B[38;5;28;01mif\u001B[39;00m \u001B[38;5;129;01mnot\u001B[39;00m service:\n\u001B[1;32m     78\u001B[0m     service \u001B[38;5;241m=\u001B[39m Service(executable_path, port, service_args, service_log_path)\n\u001B[0;32m---> 80\u001B[0m \u001B[38;5;28;43msuper\u001B[39;49m\u001B[43m(\u001B[49m\u001B[43m)\u001B[49m\u001B[38;5;241;43m.\u001B[39;49m\u001B[38;5;21;43m__init__\u001B[39;49m\u001B[43m(\u001B[49m\n\u001B[1;32m     81\u001B[0m \u001B[43m    \u001B[49m\u001B[43mDesiredCapabilities\u001B[49m\u001B[38;5;241;43m.\u001B[39;49m\u001B[43mCHROME\u001B[49m\u001B[43m[\u001B[49m\u001B[38;5;124;43m\"\u001B[39;49m\u001B[38;5;124;43mbrowserName\u001B[39;49m\u001B[38;5;124;43m\"\u001B[39;49m\u001B[43m]\u001B[49m\u001B[43m,\u001B[49m\n\u001B[1;32m     82\u001B[0m \u001B[43m    \u001B[49m\u001B[38;5;124;43m\"\u001B[39;49m\u001B[38;5;124;43mgoog\u001B[39;49m\u001B[38;5;124;43m\"\u001B[39;49m\u001B[43m,\u001B[49m\n\u001B[1;32m     83\u001B[0m \u001B[43m    \u001B[49m\u001B[43mport\u001B[49m\u001B[43m,\u001B[49m\n\u001B[1;32m     84\u001B[0m \u001B[43m    \u001B[49m\u001B[43moptions\u001B[49m\u001B[43m,\u001B[49m\n\u001B[1;32m     85\u001B[0m \u001B[43m    \u001B[49m\u001B[43mservice_args\u001B[49m\u001B[43m,\u001B[49m\n\u001B[1;32m     86\u001B[0m \u001B[43m    \u001B[49m\u001B[43mdesired_capabilities\u001B[49m\u001B[43m,\u001B[49m\n\u001B[1;32m     87\u001B[0m \u001B[43m    \u001B[49m\u001B[43mservice_log_path\u001B[49m\u001B[43m,\u001B[49m\n\u001B[1;32m     88\u001B[0m \u001B[43m    \u001B[49m\u001B[43mservice\u001B[49m\u001B[43m,\u001B[49m\n\u001B[1;32m     89\u001B[0m \u001B[43m    \u001B[49m\u001B[43mkeep_alive\u001B[49m\u001B[43m,\u001B[49m\n\u001B[1;32m     90\u001B[0m \u001B[43m\u001B[49m\u001B[43m)\u001B[49m\n",
      "File \u001B[0;32m/opt/homebrew/anaconda3/lib/python3.9/site-packages/selenium/webdriver/chromium/webdriver.py:104\u001B[0m, in \u001B[0;36mChromiumDriver.__init__\u001B[0;34m(self, browser_name, vendor_prefix, port, options, service_args, desired_capabilities, service_log_path, service, keep_alive)\u001B[0m\n\u001B[1;32m    101\u001B[0m \u001B[38;5;28mself\u001B[39m\u001B[38;5;241m.\u001B[39mservice\u001B[38;5;241m.\u001B[39mstart()\n\u001B[1;32m    103\u001B[0m \u001B[38;5;28;01mtry\u001B[39;00m:\n\u001B[0;32m--> 104\u001B[0m     \u001B[38;5;28;43msuper\u001B[39;49m\u001B[43m(\u001B[49m\u001B[43m)\u001B[49m\u001B[38;5;241;43m.\u001B[39;49m\u001B[38;5;21;43m__init__\u001B[39;49m\u001B[43m(\u001B[49m\n\u001B[1;32m    105\u001B[0m \u001B[43m        \u001B[49m\u001B[43mcommand_executor\u001B[49m\u001B[38;5;241;43m=\u001B[39;49m\u001B[43mChromiumRemoteConnection\u001B[49m\u001B[43m(\u001B[49m\n\u001B[1;32m    106\u001B[0m \u001B[43m            \u001B[49m\u001B[43mremote_server_addr\u001B[49m\u001B[38;5;241;43m=\u001B[39;49m\u001B[38;5;28;43mself\u001B[39;49m\u001B[38;5;241;43m.\u001B[39;49m\u001B[43mservice\u001B[49m\u001B[38;5;241;43m.\u001B[39;49m\u001B[43mservice_url\u001B[49m\u001B[43m,\u001B[49m\n\u001B[1;32m    107\u001B[0m \u001B[43m            \u001B[49m\u001B[43mbrowser_name\u001B[49m\u001B[38;5;241;43m=\u001B[39;49m\u001B[43mbrowser_name\u001B[49m\u001B[43m,\u001B[49m\n\u001B[1;32m    108\u001B[0m \u001B[43m            \u001B[49m\u001B[43mvendor_prefix\u001B[49m\u001B[38;5;241;43m=\u001B[39;49m\u001B[43mvendor_prefix\u001B[49m\u001B[43m,\u001B[49m\n\u001B[1;32m    109\u001B[0m \u001B[43m            \u001B[49m\u001B[43mkeep_alive\u001B[49m\u001B[38;5;241;43m=\u001B[39;49m\u001B[43mkeep_alive\u001B[49m\u001B[43m,\u001B[49m\n\u001B[1;32m    110\u001B[0m \u001B[43m            \u001B[49m\u001B[43mignore_proxy\u001B[49m\u001B[38;5;241;43m=\u001B[39;49m\u001B[43m_ignore_proxy\u001B[49m\u001B[43m,\u001B[49m\n\u001B[1;32m    111\u001B[0m \u001B[43m        \u001B[49m\u001B[43m)\u001B[49m\u001B[43m,\u001B[49m\n\u001B[1;32m    112\u001B[0m \u001B[43m        \u001B[49m\u001B[43moptions\u001B[49m\u001B[38;5;241;43m=\u001B[39;49m\u001B[43moptions\u001B[49m\u001B[43m,\u001B[49m\n\u001B[1;32m    113\u001B[0m \u001B[43m    \u001B[49m\u001B[43m)\u001B[49m\n\u001B[1;32m    114\u001B[0m \u001B[38;5;28;01mexcept\u001B[39;00m \u001B[38;5;167;01mException\u001B[39;00m:\n\u001B[1;32m    115\u001B[0m     \u001B[38;5;28mself\u001B[39m\u001B[38;5;241m.\u001B[39mquit()\n",
      "File \u001B[0;32m/opt/homebrew/anaconda3/lib/python3.9/site-packages/selenium/webdriver/remote/webdriver.py:286\u001B[0m, in \u001B[0;36mWebDriver.__init__\u001B[0;34m(self, command_executor, desired_capabilities, browser_profile, proxy, keep_alive, file_detector, options)\u001B[0m\n\u001B[1;32m    284\u001B[0m \u001B[38;5;28mself\u001B[39m\u001B[38;5;241m.\u001B[39m_authenticator_id \u001B[38;5;241m=\u001B[39m \u001B[38;5;28;01mNone\u001B[39;00m\n\u001B[1;32m    285\u001B[0m \u001B[38;5;28mself\u001B[39m\u001B[38;5;241m.\u001B[39mstart_client()\n\u001B[0;32m--> 286\u001B[0m \u001B[38;5;28;43mself\u001B[39;49m\u001B[38;5;241;43m.\u001B[39;49m\u001B[43mstart_session\u001B[49m\u001B[43m(\u001B[49m\u001B[43mcapabilities\u001B[49m\u001B[43m,\u001B[49m\u001B[43m \u001B[49m\u001B[43mbrowser_profile\u001B[49m\u001B[43m)\u001B[49m\n",
      "File \u001B[0;32m/opt/homebrew/anaconda3/lib/python3.9/site-packages/selenium/webdriver/remote/webdriver.py:378\u001B[0m, in \u001B[0;36mWebDriver.start_session\u001B[0;34m(self, capabilities, browser_profile)\u001B[0m\n\u001B[1;32m    376\u001B[0m w3c_caps \u001B[38;5;241m=\u001B[39m _make_w3c_caps(capabilities)\n\u001B[1;32m    377\u001B[0m parameters \u001B[38;5;241m=\u001B[39m {\u001B[38;5;124m\"\u001B[39m\u001B[38;5;124mcapabilities\u001B[39m\u001B[38;5;124m\"\u001B[39m: w3c_caps}\n\u001B[0;32m--> 378\u001B[0m response \u001B[38;5;241m=\u001B[39m \u001B[38;5;28;43mself\u001B[39;49m\u001B[38;5;241;43m.\u001B[39;49m\u001B[43mexecute\u001B[49m\u001B[43m(\u001B[49m\u001B[43mCommand\u001B[49m\u001B[38;5;241;43m.\u001B[39;49m\u001B[43mNEW_SESSION\u001B[49m\u001B[43m,\u001B[49m\u001B[43m \u001B[49m\u001B[43mparameters\u001B[49m\u001B[43m)\u001B[49m\n\u001B[1;32m    379\u001B[0m \u001B[38;5;28;01mif\u001B[39;00m \u001B[38;5;124m\"\u001B[39m\u001B[38;5;124msessionId\u001B[39m\u001B[38;5;124m\"\u001B[39m \u001B[38;5;129;01mnot\u001B[39;00m \u001B[38;5;129;01min\u001B[39;00m response:\n\u001B[1;32m    380\u001B[0m     response \u001B[38;5;241m=\u001B[39m response[\u001B[38;5;124m\"\u001B[39m\u001B[38;5;124mvalue\u001B[39m\u001B[38;5;124m\"\u001B[39m]\n",
      "File \u001B[0;32m/opt/homebrew/anaconda3/lib/python3.9/site-packages/selenium/webdriver/remote/webdriver.py:440\u001B[0m, in \u001B[0;36mWebDriver.execute\u001B[0;34m(self, driver_command, params)\u001B[0m\n\u001B[1;32m    438\u001B[0m response \u001B[38;5;241m=\u001B[39m \u001B[38;5;28mself\u001B[39m\u001B[38;5;241m.\u001B[39mcommand_executor\u001B[38;5;241m.\u001B[39mexecute(driver_command, params)\n\u001B[1;32m    439\u001B[0m \u001B[38;5;28;01mif\u001B[39;00m response:\n\u001B[0;32m--> 440\u001B[0m     \u001B[38;5;28;43mself\u001B[39;49m\u001B[38;5;241;43m.\u001B[39;49m\u001B[43merror_handler\u001B[49m\u001B[38;5;241;43m.\u001B[39;49m\u001B[43mcheck_response\u001B[49m\u001B[43m(\u001B[49m\u001B[43mresponse\u001B[49m\u001B[43m)\u001B[49m\n\u001B[1;32m    441\u001B[0m     response[\u001B[38;5;124m\"\u001B[39m\u001B[38;5;124mvalue\u001B[39m\u001B[38;5;124m\"\u001B[39m] \u001B[38;5;241m=\u001B[39m \u001B[38;5;28mself\u001B[39m\u001B[38;5;241m.\u001B[39m_unwrap_value(response\u001B[38;5;241m.\u001B[39mget(\u001B[38;5;124m\"\u001B[39m\u001B[38;5;124mvalue\u001B[39m\u001B[38;5;124m\"\u001B[39m, \u001B[38;5;28;01mNone\u001B[39;00m))\n\u001B[1;32m    442\u001B[0m     \u001B[38;5;28;01mreturn\u001B[39;00m response\n",
      "File \u001B[0;32m/opt/homebrew/anaconda3/lib/python3.9/site-packages/selenium/webdriver/remote/errorhandler.py:245\u001B[0m, in \u001B[0;36mErrorHandler.check_response\u001B[0;34m(self, response)\u001B[0m\n\u001B[1;32m    243\u001B[0m         alert_text \u001B[38;5;241m=\u001B[39m value[\u001B[38;5;124m\"\u001B[39m\u001B[38;5;124malert\u001B[39m\u001B[38;5;124m\"\u001B[39m]\u001B[38;5;241m.\u001B[39mget(\u001B[38;5;124m\"\u001B[39m\u001B[38;5;124mtext\u001B[39m\u001B[38;5;124m\"\u001B[39m)\n\u001B[1;32m    244\u001B[0m     \u001B[38;5;28;01mraise\u001B[39;00m exception_class(message, screen, stacktrace, alert_text)  \u001B[38;5;66;03m# type: ignore[call-arg]  # mypy is not smart enough here\u001B[39;00m\n\u001B[0;32m--> 245\u001B[0m \u001B[38;5;28;01mraise\u001B[39;00m exception_class(message, screen, stacktrace)\n",
      "\u001B[0;31mWebDriverException\u001B[0m: Message: unknown error: Chrome failed to start: exited normally.\n  (chrome not reachable)\n  (The process started from chrome location /Applications/Google Chrome.app/Contents/MacOS/Google Chrome is no longer running, so ChromeDriver is assuming that Chrome has crashed.)\nStacktrace:\n0   chromedriver                        0x0000000102f59138 chromedriver + 4923704\n1   chromedriver                        0x0000000102ed19d3 chromedriver + 4368851\n2   chromedriver                        0x0000000102b1a787 chromedriver + 472967\n3   chromedriver                        0x0000000102b47467 chromedriver + 656487\n4   chromedriver                        0x0000000102b43041 chromedriver + 639041\n5   chromedriver                        0x0000000102b918a5 chromedriver + 960677\n6   chromedriver                        0x0000000102b87d23 chromedriver + 920867\n7   chromedriver                        0x0000000102b4ea4b chromedriver + 686667\n8   chromedriver                        0x0000000102b50044 chromedriver + 692292\n9   chromedriver                        0x0000000102f248fe chromedriver + 4708606\n10  chromedriver                        0x0000000102f29e22 chromedriver + 4730402\n11  chromedriver                        0x0000000102f326bf chromedriver + 4765375\n12  chromedriver                        0x0000000102f2ae80 chromedriver + 4734592\n13  chromedriver                        0x0000000102efb975 chromedriver + 4540789\n14  chromedriver                        0x0000000102f4ce78 chromedriver + 4873848\n15  chromedriver                        0x0000000102f4cff5 chromedriver + 4874229\n16  chromedriver                        0x0000000102f616de chromedriver + 4957918\n17  libsystem_pthread.dylib             0x00007ff807295259 _pthread_start + 125\n18  libsystem_pthread.dylib             0x00007ff807290c7b thread_start + 15\n"
     ]
    }
   ],
   "source": [
    "submit.on_click(login(cID.value, uID.value, pwd.value))"
   ]
  },
  {
   "cell_type": "markdown",
   "id": "82b9700b-b177-4949-9d2c-1c74d8c45092",
   "metadata": {},
   "source": []
  }
 ],
 "metadata": {
  "kernelspec": {
   "display_name": "Python 3 (ipykernel)",
   "language": "python",
   "name": "python3"
  },
  "language_info": {
   "codemirror_mode": {
    "name": "ipython",
    "version": 3
   },
   "file_extension": ".py",
   "mimetype": "text/x-python",
   "name": "python",
   "nbconvert_exporter": "python",
   "pygments_lexer": "ipython3",
   "version": "3.9.13"
  }
 },
 "nbformat": 4,
 "nbformat_minor": 5
}
