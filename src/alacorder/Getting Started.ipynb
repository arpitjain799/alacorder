{
 "cells": [
  {
   "cell_type": "markdown",
   "id": "792d10b2-198a-4d30-a4d0-08aaf14aff66",
   "metadata": {},
   "source": [
    "\n",
    "\n",
    "# Getting Started with Alacorder\n",
    "\n",
    "### Alacorder processes case detail PDFs retrieved from Alacourt.com into data tables suitable for research. Alacorder also creates compressed text archives from the source PDFs to speed future data collection from the same set of cases.\n",
    "\n",
    "## Installation\n",
    "\n",
    "**Alacorder can run on most devices. If your device can run Python 3.7 or later, it can run alacorder.**\n",
    "* To install on Windows, open Command Prompt and enter \"pip install alacorder\". \n",
    "    * To start the interface, enter \"python -m alacorder\" or \"python3 -m alacorder\".\n",
    "* On Mac, open the Terminal and enter \"pip3 install alacorder\" then \"python3 -m alacorder\".\n",
    "    * To start the interface, enter \"python3 -m alacorder\" or \"python -m alacorder\".\n",
    "* If pip, pip3, python, and python3 do not work from your computer, install [Anaconda Distribution](https://www.anaconda.com/products/distribution), create a virtual environment, open a terminal, and then repeat these instructions. If your copy of alacorder is corrupted, use \"pip uninstall alacorder\" or \"pip3 uninstall alacorder\" and then reinstall it. There may be a newer version.\n",
    "\n",
    "[GitHub](https://github.com/sbrobson959/alacorder)  [PyPI](https://pypi.org/project/alacorder/)     [Report an issue](mailto:sbrobson@crimson.ua.edu)"
   ]
  },
  {
   "cell_type": "code",
   "execution_count": null,
   "id": "aeb9a2e8-fb66-4070-8ea1-2eabcf1d44e1",
   "metadata": {
    "jupyter": {
     "outputs_hidden": true
    },
    "scrolled": true,
    "tags": []
   },
   "outputs": [],
   "source": [
    "%pip uninstall -y alacorder\n",
    "%pip install alacorder"
   ]
  },
  {
   "cell_type": "markdown",
   "id": "969715bb-24d4-4947-adfe-3705accdd8e5",
   "metadata": {},
   "source": [
    "*Alacorder should automatically install dependencies upon setup, but you can also install the dependencies yourself (pandas, numpy, PyPDF2, openpyxl, xlrd, xlwt, build, setuptools, xarray)*"
   ]
  },
  {
   "cell_type": "markdown",
   "id": "bf72ba61-5a6f-4ae9-9b4b-2807921cb46d",
   "metadata": {
    "tags": []
   },
   "source": [
    "# Using the guided interface\n",
    "\n",
    "#### Once you have a Python environment up and running, you can launch the guided interface by:\n",
    "\n",
    "* Importing the module from your command line. Depending on your Python configuration, enter `python -m alacorder` or `python3 -m alacorder` to launch the command line interface. \n",
    "\n",
    "* Importing the alacorder module in Python. Use the import statement from `alacorder import __main__` to run the command line interface.\n",
    "\n",
    "\n",
    "* **Alacorder can be used without writing any code, and exports to common formats like Excel (.xls), Stata (.dta), CSV, and JSON. Alacorder full text archives are compressed pickle archives (.pkl.xz), a format which can store thousands of PDF's text in a very small file. If you need to unpack a pickle archive without the `alac` module, use a .xz compression tool, then read the pickle into Python with the standard library module `pickle`.**\n",
    "    * Once installed, enter `python -m alacorder` or `python3 -m alacorder` to start the interface. \n",
    "    * If you are using iPython, launch the iPython shell and enter `from alacorder import __main__` to launch guided interface. \n",
    "\n",
    "\n"
   ]
  },
  {
   "cell_type": "code",
   "execution_count": null,
   "id": "1f720d04-b2e6-4f99-b7ec-d937d99f657d",
   "metadata": {
    "jupyter": {
     "outputs_hidden": true
    },
    "scrolled": true,
    "tags": []
   },
   "outputs": [],
   "source": [
    "from alacorder import __main__"
   ]
  },
  {
   "cell_type": "markdown",
   "id": "4daabc54-92dd-43af-96b6-89e903e6c366",
   "metadata": {},
   "source": [
    "# Writing basic scripts with `alac` \n",
    "\n",
    "### For more advanced queries, the `alacorder` module `alac` can be used to extract fields and tables from Alacourt records with only a few lines of code.\n",
    "\n",
    "#### The `run` module creates the full text archives and detailed case summary tables outputted by the guided interface. \n",
    "\n",
    "* Call `alac.config(in_path: str, out_path='', flags='', print_log=True, warn=False)` and assign it to a variable to hold your configuration object. This tells the imported alacorder modules where and how to input and output. If `out-path` is left blank, `alac.write` methods will print to console instead of export. \n",
    "\n",
    "* Call `alac.writeArchive(config)` to export a full text archive. It's recommended that you create a full text archive and save it as a .pkl file before making tables from your data. Full text archives can be scanned faster than PDF directories and require much less storage. Full text archives can be used just like PDF directories. \n",
    "\n",
    "* Call `alac.writeTables(config)` to export detailed case information tables. If export type is .xls, the \"cases\",\"fees\", and \"charges\" tables will all be exported. Otherwise, you can select which table you would like to export. \n",
    "\n",
    "* Call `alac.writeCharges(config)` to export charges table only.\n",
    "\n",
    "* Call `alac.writeFees(config)` to export fee tables only.\n"
   ]
  },
  {
   "cell_type": "code",
   "execution_count": null,
   "id": "df6b939a-5625-43cc-8b78-d3368872001e",
   "metadata": {},
   "outputs": [],
   "source": [
    "import warnings\n",
    "warnings.filterwarnings('ignore')\n",
    "\n",
    "from alacorder import alac\n",
    "\n",
    "pdf_directory = \"/Users/crimson/Desktop/Tutwiler/\"\n",
    "archive = \"/Users/crimson/Desktop/Tutwiler.pkl\"\n",
    "tables = \"/Users/crimson/Desktop/Tutwiler.xls\"\n",
    "\n",
    "# make full text archive from PDF directory \n",
    "c = alac.config(pdf_directory, archive)\n",
    "alac.writeArchive(c)\n",
    "\n",
    "print(\"Full text archive complete. Now processing case information into tables at \" + tables)\n",
    "\n",
    "# then scan full text archive for spreadsheet\n",
    "d = alac.config(archive, tables)\n",
    "alac.writeTables(d)"
   ]
  },
  {
   "cell_type": "markdown",
   "id": "5e43b636-992f-4f39-a0ec-8d7b6b81c532",
   "metadata": {},
   "source": [
    "# Custom Parsing with *`alac`*\n",
    "\n",
    "| Method | Description |\n",
    "| ------------- | ------ |\n",
    "| `getPDFText(path) -> text` | Returns full text of case |\n",
    "| `getCaseInfo(text) -> [case_number, name, alias, date_of_birth, race, sex, address, phone]` | Returns basic case details | \n",
    "| `getFeeSheet(text: str, cnum = '') -> [total_amtdue, total_balance, total_d999, feecodes_w_bal, all_fee_codes, table_string, feesheet: pd.DataFrame()]` | Returns fee sheet and summary as strings and pd.DataFrame() |\n",
    "| `getCharges(text: str, cnum = '') -> [convictions_string, disposition_charges, filing_charges, cerv_eligible_convictions, pardon_to_vote_convictions, permanently_disqualifying_convictions, conviction_count, charge_count, cerv_charge_count, pardontovote_charge_count, permanent_dq_charge_count, cerv_convictions_count, pardontovote_convictions_count, charge_codes, conviction_codes, all_charges_string, charges: pd.DataFrame()]` | Returns charges table and summary as strings, int, and pd.DataFrame() |\n",
    "| `getCaseNumber(text) -> case_number: str` | Returns case number\n",
    "\n",
    "\n",
    "**Planned additions to `alac`:**\n",
    "* `getFinancialHistory(text) -> pd.DataFrame()`\n",
    "* `getSentencing(text) -> pd.DataFrame()`\n",
    "* `getSpecialFields(text, field) -> str`\n",
    "* `getCaseActionSummary(text) -> str`"
   ]
  },
  {
   "cell_type": "code",
   "execution_count": null,
   "id": "39c6e114",
   "metadata": {},
   "outputs": [],
   "source": []
  },
  {
   "cell_type": "markdown",
   "id": "236e3fc9-6ea1-47fa-b36e-671b8351a52c",
   "metadata": {},
   "source": [
    "# Working with Python data types"
   ]
  },
  {
   "cell_type": "markdown",
   "id": "4cdf6ebb-c223-4040-9d75-577c222d776f",
   "metadata": {
    "tags": []
   },
   "source": [
    "### Out of the box, `alacorder` exports to .xls, .csv, .json, .dta, .pkl.xz, and .txt. But you can use `alac`, [pandas](https://pandas.pydata.org/docs/getting_started/index.html#getting-started), and other python modules to create your own data collection workflows and design custom exports. \n",
    "\n",
    "***The snippet below prints the fee sheets from a directory of case PDFs as it reads them.***"
   ]
  },
  {
   "cell_type": "code",
   "execution_count": null,
   "id": "f2114a31-22aa-4abc-9823-46e8f9831b06",
   "metadata": {
    "scrolled": true,
    "tags": []
   },
   "outputs": [],
   "source": [
    "from alacorder import alac\n",
    "\n",
    "c = alac.config(\"/Users/crimson/Desktop/Tutwiler/\",\"/Users/crimson/Desktop/Tutwiler.xls\")\n",
    "\n",
    "for path in c['contents']:\n",
    "    text = alac.getPDFText(path)\n",
    "    cnum = alac.getCaseNumber(text)\n",
    "    charges_outputs = alac.getCharges(text, cnum)\n",
    "    if len(charges_outputs[0]) > 1:\n",
    "        print(charges_outputs[0])"
   ]
  },
  {
   "cell_type": "markdown",
   "id": "737f3fe6",
   "metadata": {},
   "source": [
    "## Extending alacorder with `pandas`, `jupyter`, `matplotlib`\n",
    "\n",
    "Alacorder runs on [pandas](https://pandas.pydata.org/docs/getting_started/index.html#getting-started), a python module you can use to perform calculations, process text data, and make tables and charts. Pandas can read from and write to all major data storage formats. It can connect to a wide variety of services to expand the capability of `alacorder` data. When `alacorder` table data is exported to .pkl.xz, it is stored as a pandas DataFrame (like a spreadsheet) and can be imported into other python [modules](https://www.anaconda.com/open-source) and libraries with `pd.read_pickle()` like below:\n",
    "```\n",
    "import pandas as pd\n",
    "contents = pd.read_pickle(\"/path/to/pkl\")\n",
    "```\n",
    "\n",
    "If you would like to visualize data without exporting to Excel or another format, create a `jupyter notebook`, and import a data visualization library like `matplotlib` to get started. The [pandas](https://pandas.pydata.org/docs/getting_started/intro_tutorials/index.html) tutorials and documentation can help you get started. `jupyter` is a Python [notebook](https://docs.jupyter.org/en/latest/start/index.html) kernel you can use to create interactive tools like this notebook. It can be installed using `pip install jupyter` or `pip3 install jupyter` and launched using `jupyter notebook`. Your computer may already be equipped to view `jupyter` notebooks. \n"
   ]
  },
  {
   "cell_type": "code",
   "execution_count": null,
   "id": "c50456ce",
   "metadata": {},
   "outputs": [],
   "source": []
  }
 ],
 "metadata": {
  "kernelspec": {
   "display_name": "Python 3 (ipykernel)",
   "language": "python",
   "name": "python3"
  },
  "language_info": {
   "codemirror_mode": {
    "name": "ipython",
    "version": 3
   },
   "file_extension": ".py",
   "mimetype": "text/x-python",
   "name": "python",
   "nbconvert_exporter": "python",
   "pygments_lexer": "ipython3",
   "version": "3.9.13"
  }
 },
 "nbformat": 4,
 "nbformat_minor": 5
}
