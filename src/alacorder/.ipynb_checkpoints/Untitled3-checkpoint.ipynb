{
 "cells": [
  {
   "cell_type": "code",
   "execution_count": 1,
   "id": "dff6e4ff-7430-47e0-9709-70ab98746471",
   "metadata": {
    "scrolled": true,
    "tags": []
   },
   "outputs": [
    {
     "name": "stdout",
     "output_type": "stream",
     "text": [
      "Requirement already satisfied: matplotlib in /opt/homebrew/anaconda3/envs/test931/lib/python3.9/site-packages (3.6.3)\n",
      "Requirement already satisfied: tabulate in /opt/homebrew/anaconda3/envs/test931/lib/python3.9/site-packages (0.9.0)\n",
      "Requirement already satisfied: alacorder in /opt/homebrew/anaconda3/envs/test931/lib/python3.9/site-packages (70.5.9.9.1)\n",
      "Requirement already satisfied: pillow>=6.2.0 in /opt/homebrew/anaconda3/envs/test931/lib/python3.9/site-packages (from matplotlib) (9.4.0)\n",
      "Requirement already satisfied: python-dateutil>=2.7 in /opt/homebrew/anaconda3/envs/test931/lib/python3.9/site-packages (from matplotlib) (2.8.2)\n",
      "Requirement already satisfied: cycler>=0.10 in /opt/homebrew/anaconda3/envs/test931/lib/python3.9/site-packages (from matplotlib) (0.11.0)\n",
      "Requirement already satisfied: packaging>=20.0 in /opt/homebrew/anaconda3/envs/test931/lib/python3.9/site-packages (from matplotlib) (23.0)\n",
      "Requirement already satisfied: pyparsing>=2.2.1 in /opt/homebrew/anaconda3/envs/test931/lib/python3.9/site-packages (from matplotlib) (3.0.9)\n",
      "Requirement already satisfied: kiwisolver>=1.0.1 in /opt/homebrew/anaconda3/envs/test931/lib/python3.9/site-packages (from matplotlib) (1.4.4)\n",
      "Requirement already satisfied: numpy>=1.19 in /opt/homebrew/anaconda3/envs/test931/lib/python3.9/site-packages (from matplotlib) (1.23.5)\n",
      "Requirement already satisfied: fonttools>=4.22.0 in /opt/homebrew/anaconda3/envs/test931/lib/python3.9/site-packages (from matplotlib) (4.38.0)\n",
      "Requirement already satisfied: contourpy>=1.0.1 in /opt/homebrew/anaconda3/envs/test931/lib/python3.9/site-packages (from matplotlib) (1.0.7)\n",
      "Requirement already satisfied: build in /opt/homebrew/anaconda3/envs/test931/lib/python3.9/site-packages (from alacorder) (0.10.0)\n",
      "Requirement already satisfied: jupyter in /opt/homebrew/anaconda3/envs/test931/lib/python3.9/site-packages (from alacorder) (1.0.0)\n",
      "Requirement already satisfied: pandas in /opt/homebrew/anaconda3/envs/test931/lib/python3.9/site-packages (from alacorder) (1.5.3)\n",
      "Requirement already satisfied: xlwt in /opt/homebrew/anaconda3/envs/test931/lib/python3.9/site-packages (from alacorder) (1.3.0)\n",
      "Requirement already satisfied: PyPDF2 in /opt/homebrew/anaconda3/envs/test931/lib/python3.9/site-packages (from alacorder) (3.0.1)\n",
      "Requirement already satisfied: xarray in /opt/homebrew/anaconda3/envs/test931/lib/python3.9/site-packages (from alacorder) (2023.2.0)\n",
      "Requirement already satisfied: bottleneck in /opt/homebrew/anaconda3/envs/test931/lib/python3.9/site-packages (from alacorder) (1.3.6)\n",
      "Requirement already satisfied: openpyxl in /opt/homebrew/anaconda3/envs/test931/lib/python3.9/site-packages (from alacorder) (3.1.0)\n",
      "Requirement already satisfied: pip in /opt/homebrew/anaconda3/envs/test931/lib/python3.9/site-packages (from alacorder) (22.3.1)\n",
      "Requirement already satisfied: numexpr in /opt/homebrew/anaconda3/envs/test931/lib/python3.9/site-packages (from alacorder) (2.8.4)\n",
      "Requirement already satisfied: setuptools in /opt/homebrew/anaconda3/envs/test931/lib/python3.9/site-packages (from alacorder) (65.6.3)\n",
      "Requirement already satisfied: xlrd in /opt/homebrew/anaconda3/envs/test931/lib/python3.9/site-packages (from alacorder) (2.0.1)\n",
      "Requirement already satisfied: six>=1.5 in /opt/homebrew/anaconda3/envs/test931/lib/python3.9/site-packages (from python-dateutil>=2.7->matplotlib) (1.16.0)\n",
      "Requirement already satisfied: pyproject_hooks in /opt/homebrew/anaconda3/envs/test931/lib/python3.9/site-packages (from build->alacorder) (1.0.0)\n",
      "Requirement already satisfied: tomli>=1.1.0 in /opt/homebrew/anaconda3/envs/test931/lib/python3.9/site-packages (from build->alacorder) (2.0.1)\n",
      "Requirement already satisfied: ipywidgets in /opt/homebrew/anaconda3/envs/test931/lib/python3.9/site-packages (from jupyter->alacorder) (8.0.4)\n",
      "Requirement already satisfied: ipykernel in /opt/homebrew/anaconda3/envs/test931/lib/python3.9/site-packages (from jupyter->alacorder) (6.21.1)\n",
      "Requirement already satisfied: nbconvert in /opt/homebrew/anaconda3/envs/test931/lib/python3.9/site-packages (from jupyter->alacorder) (7.2.9)\n",
      "Requirement already satisfied: qtconsole in /opt/homebrew/anaconda3/envs/test931/lib/python3.9/site-packages (from jupyter->alacorder) (5.4.0)\n",
      "Requirement already satisfied: notebook in /opt/homebrew/anaconda3/envs/test931/lib/python3.9/site-packages (from jupyter->alacorder) (6.5.2)\n",
      "Requirement already satisfied: jupyter-console in /opt/homebrew/anaconda3/envs/test931/lib/python3.9/site-packages (from jupyter->alacorder) (6.5.0)\n",
      "Requirement already satisfied: et-xmlfile in /opt/homebrew/anaconda3/envs/test931/lib/python3.9/site-packages (from openpyxl->alacorder) (1.1.0)\n",
      "Requirement already satisfied: pytz>=2020.1 in /opt/homebrew/anaconda3/envs/test931/lib/python3.9/site-packages (from pandas->alacorder) (2022.7.1)\n",
      "Requirement already satisfied: typing_extensions>=3.10.0.0 in /opt/homebrew/anaconda3/envs/test931/lib/python3.9/site-packages (from PyPDF2->alacorder) (4.4.0)\n",
      "Requirement already satisfied: jupyter-core!=5.0.*,>=4.12 in /opt/homebrew/anaconda3/envs/test931/lib/python3.9/site-packages (from ipykernel->jupyter->alacorder) (5.2.0)\n",
      "Requirement already satisfied: comm>=0.1.1 in /opt/homebrew/anaconda3/envs/test931/lib/python3.9/site-packages (from ipykernel->jupyter->alacorder) (0.1.2)\n",
      "Requirement already satisfied: traitlets>=5.4.0 in /opt/homebrew/anaconda3/envs/test931/lib/python3.9/site-packages (from ipykernel->jupyter->alacorder) (5.9.0)\n",
      "Requirement already satisfied: matplotlib-inline>=0.1 in /opt/homebrew/anaconda3/envs/test931/lib/python3.9/site-packages (from ipykernel->jupyter->alacorder) (0.1.6)\n",
      "Requirement already satisfied: psutil in /opt/homebrew/anaconda3/envs/test931/lib/python3.9/site-packages (from ipykernel->jupyter->alacorder) (5.9.4)\n",
      "Requirement already satisfied: tornado>=6.1 in /opt/homebrew/anaconda3/envs/test931/lib/python3.9/site-packages (from ipykernel->jupyter->alacorder) (6.2)\n",
      "Requirement already satisfied: debugpy>=1.6.5 in /opt/homebrew/anaconda3/envs/test931/lib/python3.9/site-packages (from ipykernel->jupyter->alacorder) (1.6.6)\n",
      "Requirement already satisfied: jupyter-client>=6.1.12 in /opt/homebrew/anaconda3/envs/test931/lib/python3.9/site-packages (from ipykernel->jupyter->alacorder) (8.0.2)\n",
      "Requirement already satisfied: ipython>=7.23.1 in /opt/homebrew/anaconda3/envs/test931/lib/python3.9/site-packages (from ipykernel->jupyter->alacorder) (8.10.0)\n",
      "Requirement already satisfied: nest-asyncio in /opt/homebrew/anaconda3/envs/test931/lib/python3.9/site-packages (from ipykernel->jupyter->alacorder) (1.5.6)\n",
      "Requirement already satisfied: pyzmq>=17 in /opt/homebrew/anaconda3/envs/test931/lib/python3.9/site-packages (from ipykernel->jupyter->alacorder) (25.0.0)\n",
      "Requirement already satisfied: appnope in /opt/homebrew/anaconda3/envs/test931/lib/python3.9/site-packages (from ipykernel->jupyter->alacorder) (0.1.3)\n",
      "Requirement already satisfied: widgetsnbextension~=4.0 in /opt/homebrew/anaconda3/envs/test931/lib/python3.9/site-packages (from ipywidgets->jupyter->alacorder) (4.0.5)\n",
      "Requirement already satisfied: jupyterlab-widgets~=3.0 in /opt/homebrew/anaconda3/envs/test931/lib/python3.9/site-packages (from ipywidgets->jupyter->alacorder) (3.0.5)\n",
      "Requirement already satisfied: prompt-toolkit>=3.0.30 in /opt/homebrew/anaconda3/envs/test931/lib/python3.9/site-packages (from jupyter-console->jupyter->alacorder) (3.0.36)\n",
      "Requirement already satisfied: pygments in /opt/homebrew/anaconda3/envs/test931/lib/python3.9/site-packages (from jupyter-console->jupyter->alacorder) (2.14.0)\n",
      "Requirement already satisfied: jupyterlab-pygments in /opt/homebrew/anaconda3/envs/test931/lib/python3.9/site-packages (from nbconvert->jupyter->alacorder) (0.2.2)\n",
      "Requirement already satisfied: pandocfilters>=1.4.1 in /opt/homebrew/anaconda3/envs/test931/lib/python3.9/site-packages (from nbconvert->jupyter->alacorder) (1.5.0)\n",
      "Requirement already satisfied: beautifulsoup4 in /opt/homebrew/anaconda3/envs/test931/lib/python3.9/site-packages (from nbconvert->jupyter->alacorder) (4.11.2)\n",
      "Requirement already satisfied: nbclient>=0.5.0 in /opt/homebrew/anaconda3/envs/test931/lib/python3.9/site-packages (from nbconvert->jupyter->alacorder) (0.7.2)\n",
      "Requirement already satisfied: importlib-metadata>=3.6 in /opt/homebrew/anaconda3/envs/test931/lib/python3.9/site-packages (from nbconvert->jupyter->alacorder) (6.0.0)\n",
      "Requirement already satisfied: nbformat>=5.1 in /opt/homebrew/anaconda3/envs/test931/lib/python3.9/site-packages (from nbconvert->jupyter->alacorder) (5.7.3)\n",
      "Requirement already satisfied: markupsafe>=2.0 in /opt/homebrew/anaconda3/envs/test931/lib/python3.9/site-packages (from nbconvert->jupyter->alacorder) (2.1.2)\n",
      "Requirement already satisfied: tinycss2 in /opt/homebrew/anaconda3/envs/test931/lib/python3.9/site-packages (from nbconvert->jupyter->alacorder) (1.2.1)\n",
      "Requirement already satisfied: mistune<3,>=2.0.3 in /opt/homebrew/anaconda3/envs/test931/lib/python3.9/site-packages (from nbconvert->jupyter->alacorder) (2.0.5)\n",
      "Requirement already satisfied: defusedxml in /opt/homebrew/anaconda3/envs/test931/lib/python3.9/site-packages (from nbconvert->jupyter->alacorder) (0.7.1)\n",
      "Requirement already satisfied: jinja2>=3.0 in /opt/homebrew/anaconda3/envs/test931/lib/python3.9/site-packages (from nbconvert->jupyter->alacorder) (3.1.2)\n",
      "Requirement already satisfied: bleach in /opt/homebrew/anaconda3/envs/test931/lib/python3.9/site-packages (from nbconvert->jupyter->alacorder) (6.0.0)\n"
     ]
    },
    {
     "name": "stdout",
     "output_type": "stream",
     "text": [
      "Requirement already satisfied: nbclassic>=0.4.7 in /opt/homebrew/anaconda3/envs/test931/lib/python3.9/site-packages (from notebook->jupyter->alacorder) (0.5.1)\n",
      "Requirement already satisfied: argon2-cffi in /opt/homebrew/anaconda3/envs/test931/lib/python3.9/site-packages (from notebook->jupyter->alacorder) (21.3.0)\n",
      "Requirement already satisfied: prometheus-client in /opt/homebrew/anaconda3/envs/test931/lib/python3.9/site-packages (from notebook->jupyter->alacorder) (0.16.0)\n",
      "Requirement already satisfied: Send2Trash>=1.8.0 in /opt/homebrew/anaconda3/envs/test931/lib/python3.9/site-packages (from notebook->jupyter->alacorder) (1.8.0)\n",
      "Requirement already satisfied: terminado>=0.8.3 in /opt/homebrew/anaconda3/envs/test931/lib/python3.9/site-packages (from notebook->jupyter->alacorder) (0.17.1)\n",
      "Requirement already satisfied: ipython-genutils in /opt/homebrew/anaconda3/envs/test931/lib/python3.9/site-packages (from notebook->jupyter->alacorder) (0.2.0)\n",
      "Requirement already satisfied: qtpy>=2.0.1 in /opt/homebrew/anaconda3/envs/test931/lib/python3.9/site-packages (from qtconsole->jupyter->alacorder) (2.3.0)\n",
      "Requirement already satisfied: zipp>=0.5 in /opt/homebrew/anaconda3/envs/test931/lib/python3.9/site-packages (from importlib-metadata>=3.6->nbconvert->jupyter->alacorder) (3.13.0)\n",
      "Requirement already satisfied: jedi>=0.16 in /opt/homebrew/anaconda3/envs/test931/lib/python3.9/site-packages (from ipython>=7.23.1->ipykernel->jupyter->alacorder) (0.18.2)\n",
      "Requirement already satisfied: decorator in /opt/homebrew/anaconda3/envs/test931/lib/python3.9/site-packages (from ipython>=7.23.1->ipykernel->jupyter->alacorder) (5.1.1)\n",
      "Requirement already satisfied: pexpect>4.3 in /opt/homebrew/anaconda3/envs/test931/lib/python3.9/site-packages (from ipython>=7.23.1->ipykernel->jupyter->alacorder) (4.8.0)\n",
      "Requirement already satisfied: stack-data in /opt/homebrew/anaconda3/envs/test931/lib/python3.9/site-packages (from ipython>=7.23.1->ipykernel->jupyter->alacorder) (0.6.2)\n",
      "Requirement already satisfied: pickleshare in /opt/homebrew/anaconda3/envs/test931/lib/python3.9/site-packages (from ipython>=7.23.1->ipykernel->jupyter->alacorder) (0.7.5)\n",
      "Requirement already satisfied: backcall in /opt/homebrew/anaconda3/envs/test931/lib/python3.9/site-packages (from ipython>=7.23.1->ipykernel->jupyter->alacorder) (0.2.0)\n",
      "Requirement already satisfied: platformdirs>=2.5 in /opt/homebrew/anaconda3/envs/test931/lib/python3.9/site-packages (from jupyter-core!=5.0.*,>=4.12->ipykernel->jupyter->alacorder) (3.0.0)\n",
      "Requirement already satisfied: jupyter-server>=1.8 in /opt/homebrew/anaconda3/envs/test931/lib/python3.9/site-packages (from nbclassic>=0.4.7->notebook->jupyter->alacorder) (2.2.1)\n",
      "Requirement already satisfied: notebook-shim>=0.1.0 in /opt/homebrew/anaconda3/envs/test931/lib/python3.9/site-packages (from nbclassic>=0.4.7->notebook->jupyter->alacorder) (0.2.2)\n",
      "Requirement already satisfied: jsonschema>=2.6 in /opt/homebrew/anaconda3/envs/test931/lib/python3.9/site-packages (from nbformat>=5.1->nbconvert->jupyter->alacorder) (4.17.3)\n",
      "Requirement already satisfied: fastjsonschema in /opt/homebrew/anaconda3/envs/test931/lib/python3.9/site-packages (from nbformat>=5.1->nbconvert->jupyter->alacorder) (2.16.2)\n",
      "Requirement already satisfied: wcwidth in /opt/homebrew/anaconda3/envs/test931/lib/python3.9/site-packages (from prompt-toolkit>=3.0.30->jupyter-console->jupyter->alacorder) (0.2.6)\n",
      "Requirement already satisfied: ptyprocess in /opt/homebrew/anaconda3/envs/test931/lib/python3.9/site-packages (from terminado>=0.8.3->notebook->jupyter->alacorder) (0.7.0)\n",
      "Requirement already satisfied: argon2-cffi-bindings in /opt/homebrew/anaconda3/envs/test931/lib/python3.9/site-packages (from argon2-cffi->notebook->jupyter->alacorder) (21.2.0)\n",
      "Requirement already satisfied: soupsieve>1.2 in /opt/homebrew/anaconda3/envs/test931/lib/python3.9/site-packages (from beautifulsoup4->nbconvert->jupyter->alacorder) (2.3.2.post1)\n",
      "Requirement already satisfied: webencodings in /opt/homebrew/anaconda3/envs/test931/lib/python3.9/site-packages (from bleach->nbconvert->jupyter->alacorder) (0.5.1)\n",
      "Requirement already satisfied: parso<0.9.0,>=0.8.0 in /opt/homebrew/anaconda3/envs/test931/lib/python3.9/site-packages (from jedi>=0.16->ipython>=7.23.1->ipykernel->jupyter->alacorder) (0.8.3)\n",
      "Requirement already satisfied: attrs>=17.4.0 in /opt/homebrew/anaconda3/envs/test931/lib/python3.9/site-packages (from jsonschema>=2.6->nbformat>=5.1->nbconvert->jupyter->alacorder) (22.2.0)\n",
      "Requirement already satisfied: pyrsistent!=0.17.0,!=0.17.1,!=0.17.2,>=0.14.0 in /opt/homebrew/anaconda3/envs/test931/lib/python3.9/site-packages (from jsonschema>=2.6->nbformat>=5.1->nbconvert->jupyter->alacorder) (0.19.3)\n",
      "Requirement already satisfied: jupyter-server-terminals in /opt/homebrew/anaconda3/envs/test931/lib/python3.9/site-packages (from jupyter-server>=1.8->nbclassic>=0.4.7->notebook->jupyter->alacorder) (0.4.4)\n",
      "Requirement already satisfied: anyio>=3.1.0 in /opt/homebrew/anaconda3/envs/test931/lib/python3.9/site-packages (from jupyter-server>=1.8->nbclassic>=0.4.7->notebook->jupyter->alacorder) (3.6.2)\n",
      "Requirement already satisfied: websocket-client in /opt/homebrew/anaconda3/envs/test931/lib/python3.9/site-packages (from jupyter-server>=1.8->nbclassic>=0.4.7->notebook->jupyter->alacorder) (1.5.1)\n",
      "Requirement already satisfied: jupyter-events>=0.4.0 in /opt/homebrew/anaconda3/envs/test931/lib/python3.9/site-packages (from jupyter-server>=1.8->nbclassic>=0.4.7->notebook->jupyter->alacorder) (0.6.3)\n",
      "Requirement already satisfied: cffi>=1.0.1 in /opt/homebrew/anaconda3/envs/test931/lib/python3.9/site-packages (from argon2-cffi-bindings->argon2-cffi->notebook->jupyter->alacorder) (1.15.1)\n",
      "Requirement already satisfied: asttokens>=2.1.0 in /opt/homebrew/anaconda3/envs/test931/lib/python3.9/site-packages (from stack-data->ipython>=7.23.1->ipykernel->jupyter->alacorder) (2.2.1)\n",
      "Requirement already satisfied: pure-eval in /opt/homebrew/anaconda3/envs/test931/lib/python3.9/site-packages (from stack-data->ipython>=7.23.1->ipykernel->jupyter->alacorder) (0.2.2)\n",
      "Requirement already satisfied: executing>=1.2.0 in /opt/homebrew/anaconda3/envs/test931/lib/python3.9/site-packages (from stack-data->ipython>=7.23.1->ipykernel->jupyter->alacorder) (1.2.0)\n",
      "Requirement already satisfied: sniffio>=1.1 in /opt/homebrew/anaconda3/envs/test931/lib/python3.9/site-packages (from anyio>=3.1.0->jupyter-server>=1.8->nbclassic>=0.4.7->notebook->jupyter->alacorder) (1.3.0)\n",
      "Requirement already satisfied: idna>=2.8 in /opt/homebrew/anaconda3/envs/test931/lib/python3.9/site-packages (from anyio>=3.1.0->jupyter-server>=1.8->nbclassic>=0.4.7->notebook->jupyter->alacorder) (3.4)\n",
      "Requirement already satisfied: pycparser in /opt/homebrew/anaconda3/envs/test931/lib/python3.9/site-packages (from cffi>=1.0.1->argon2-cffi-bindings->argon2-cffi->notebook->jupyter->alacorder) (2.21)\n",
      "Requirement already satisfied: rfc3339-validator in /opt/homebrew/anaconda3/envs/test931/lib/python3.9/site-packages (from jupyter-events>=0.4.0->jupyter-server>=1.8->nbclassic>=0.4.7->notebook->jupyter->alacorder) (0.1.4)\n",
      "Requirement already satisfied: pyyaml>=5.3 in /opt/homebrew/anaconda3/envs/test931/lib/python3.9/site-packages (from jupyter-events>=0.4.0->jupyter-server>=1.8->nbclassic>=0.4.7->notebook->jupyter->alacorder) (6.0)\n",
      "Requirement already satisfied: rfc3986-validator>=0.1.1 in /opt/homebrew/anaconda3/envs/test931/lib/python3.9/site-packages (from jupyter-events>=0.4.0->jupyter-server>=1.8->nbclassic>=0.4.7->notebook->jupyter->alacorder) (0.1.1)\n",
      "Requirement already satisfied: python-json-logger>=2.0.4 in /opt/homebrew/anaconda3/envs/test931/lib/python3.9/site-packages (from jupyter-events>=0.4.0->jupyter-server>=1.8->nbclassic>=0.4.7->notebook->jupyter->alacorder) (2.0.4)\n",
      "Requirement already satisfied: uri-template in /opt/homebrew/anaconda3/envs/test931/lib/python3.9/site-packages (from jsonschema>=2.6->nbformat>=5.1->nbconvert->jupyter->alacorder) (1.2.0)\n",
      "Requirement already satisfied: jsonpointer>1.13 in /opt/homebrew/anaconda3/envs/test931/lib/python3.9/site-packages (from jsonschema>=2.6->nbformat>=5.1->nbconvert->jupyter->alacorder) (2.3)\n",
      "Requirement already satisfied: isoduration in /opt/homebrew/anaconda3/envs/test931/lib/python3.9/site-packages (from jsonschema>=2.6->nbformat>=5.1->nbconvert->jupyter->alacorder) (20.11.0)\n",
      "Requirement already satisfied: fqdn in /opt/homebrew/anaconda3/envs/test931/lib/python3.9/site-packages (from jsonschema>=2.6->nbformat>=5.1->nbconvert->jupyter->alacorder) (1.5.1)\n",
      "Requirement already satisfied: webcolors>=1.11 in /opt/homebrew/anaconda3/envs/test931/lib/python3.9/site-packages (from jsonschema>=2.6->nbformat>=5.1->nbconvert->jupyter->alacorder) (1.12)\n"
     ]
    },
    {
     "name": "stdout",
     "output_type": "stream",
     "text": [
      "Requirement already satisfied: arrow>=0.15.0 in /opt/homebrew/anaconda3/envs/test931/lib/python3.9/site-packages (from isoduration->jsonschema>=2.6->nbformat>=5.1->nbconvert->jupyter->alacorder) (1.2.3)\n",
      "Note: you may need to restart the kernel to use updated packages.\n"
     ]
    }
   ],
   "source": [
    "pip install matplotlib tabulate alacorder"
   ]
  },
  {
   "cell_type": "code",
   "execution_count": 3,
   "id": "f5fd0b38-d4b2-404b-9684-9d3663f0362b",
   "metadata": {
    "tags": []
   },
   "outputs": [
    {
     "ename": "NameError",
     "evalue": "name 'print_log' is not defined",
     "output_type": "error",
     "traceback": [
      "\u001b[0;31m---------------------------------------------------------------------------\u001b[0m",
      "\u001b[0;31mNameError\u001b[0m                                 Traceback (most recent call last)",
      "Cell \u001b[0;32mIn[3], line 6\u001b[0m\n\u001b[1;32m      2\u001b[0m \u001b[38;5;28;01mimport\u001b[39;00m \u001b[38;5;21;01malac\u001b[39;00m\n\u001b[1;32m      4\u001b[0m a \u001b[38;5;241m=\u001b[39m alac\u001b[38;5;241m.\u001b[39mconfig(\u001b[38;5;124m\"\u001b[39m\u001b[38;5;124m/Users/samuelrobson/Desktop/NewTut.pkl.xz\u001b[39m\u001b[38;5;124m\"\u001b[39m,\u001b[38;5;124m\"\u001b[39m\u001b[38;5;124m/Users/samuelrobson/Desktop/TUTS.xls\u001b[39m\u001b[38;5;124m\"\u001b[39m,max_cases\u001b[38;5;241m=\u001b[39m\u001b[38;5;241m500\u001b[39m,print_log\u001b[38;5;241m=\u001b[39m\u001b[38;5;28;01mFalse\u001b[39;00m)\n\u001b[0;32m----> 6\u001b[0m b \u001b[38;5;241m=\u001b[39m \u001b[43malac\u001b[49m\u001b[38;5;241;43m.\u001b[39;49m\u001b[43mwriteTables\u001b[49m\u001b[43m(\u001b[49m\u001b[43ma\u001b[49m\u001b[43m)\u001b[49m\n\u001b[1;32m      8\u001b[0m display(HTML(b[\u001b[38;5;241m0\u001b[39m]\u001b[38;5;241m.\u001b[39mto_html()))\n",
      "File \u001b[0;32m~/Desktop/alaconfig/src/alacorder/alac.py:298\u001b[0m, in \u001b[0;36mwriteTables\u001b[0;34m(conf)\u001b[0m\n\u001b[1;32m    296\u001b[0m b[\u001b[38;5;124m'\u001b[39m\u001b[38;5;124mAddress\u001b[39m\u001b[38;5;124m'\u001b[39m] \u001b[38;5;241m=\u001b[39m b[\u001b[38;5;124m'\u001b[39m\u001b[38;5;124mCaseInfoOutputs\u001b[39m\u001b[38;5;124m'\u001b[39m]\u001b[38;5;241m.\u001b[39mmap(\u001b[38;5;28;01mlambda\u001b[39;00m x: x[\u001b[38;5;241m6\u001b[39m])\n\u001b[1;32m    297\u001b[0m b[\u001b[38;5;124m'\u001b[39m\u001b[38;5;124mPhone\u001b[39m\u001b[38;5;124m'\u001b[39m] \u001b[38;5;241m=\u001b[39m b[\u001b[38;5;124m'\u001b[39m\u001b[38;5;124mCaseInfoOutputs\u001b[39m\u001b[38;5;124m'\u001b[39m]\u001b[38;5;241m.\u001b[39mmap(\u001b[38;5;28;01mlambda\u001b[39;00m x: x[\u001b[38;5;241m7\u001b[39m])\n\u001b[0;32m--> 298\u001b[0m b[\u001b[38;5;124m'\u001b[39m\u001b[38;5;124mChargesOutputs\u001b[39m\u001b[38;5;124m'\u001b[39m] \u001b[38;5;241m=\u001b[39m \u001b[43mb\u001b[49m\u001b[38;5;241;43m.\u001b[39;49m\u001b[43mindex\u001b[49m\u001b[38;5;241;43m.\u001b[39;49m\u001b[43mmap\u001b[49m\u001b[43m(\u001b[49m\u001b[38;5;28;43;01mlambda\u001b[39;49;00m\u001b[43m \u001b[49m\u001b[43mx\u001b[49m\u001b[43m:\u001b[49m\u001b[43m \u001b[49m\u001b[43mgetCharges\u001b[49m\u001b[43m(\u001b[49m\u001b[43mb\u001b[49m\u001b[38;5;241;43m.\u001b[39;49m\u001b[43mloc\u001b[49m\u001b[43m[\u001b[49m\u001b[43mx\u001b[49m\u001b[43m]\u001b[49m\u001b[38;5;241;43m.\u001b[39;49m\u001b[43mAllPagesText\u001b[49m\u001b[43m,\u001b[49m\u001b[43m \u001b[49m\u001b[43mb\u001b[49m\u001b[38;5;241;43m.\u001b[39;49m\u001b[43mloc\u001b[49m\u001b[43m[\u001b[49m\u001b[43mx\u001b[49m\u001b[43m]\u001b[49m\u001b[38;5;241;43m.\u001b[39;49m\u001b[43mCaseNumber\u001b[49m\u001b[43m)\u001b[49m\u001b[43m)\u001b[49m\n\u001b[1;32m    299\u001b[0m b[\u001b[38;5;124m'\u001b[39m\u001b[38;5;124mConvictions\u001b[39m\u001b[38;5;124m'\u001b[39m] \u001b[38;5;241m=\u001b[39m b[\u001b[38;5;124m'\u001b[39m\u001b[38;5;124mChargesOutputs\u001b[39m\u001b[38;5;124m'\u001b[39m]\u001b[38;5;241m.\u001b[39mmap(\u001b[38;5;28;01mlambda\u001b[39;00m x: x[\u001b[38;5;241m0\u001b[39m])\n\u001b[1;32m    300\u001b[0m b[\u001b[38;5;124m'\u001b[39m\u001b[38;5;124mDispositionCharges\u001b[39m\u001b[38;5;124m'\u001b[39m] \u001b[38;5;241m=\u001b[39m b[\u001b[38;5;124m'\u001b[39m\u001b[38;5;124mChargesOutputs\u001b[39m\u001b[38;5;124m'\u001b[39m]\u001b[38;5;241m.\u001b[39mmap(\u001b[38;5;28;01mlambda\u001b[39;00m x: x[\u001b[38;5;241m1\u001b[39m])\n",
      "File \u001b[0;32m/opt/homebrew/anaconda3/envs/test931/lib/python3.9/site-packages/pandas/core/indexes/base.py:6361\u001b[0m, in \u001b[0;36mIndex.map\u001b[0;34m(self, mapper, na_action)\u001b[0m\n\u001b[1;32m   6341\u001b[0m \u001b[38;5;250m\u001b[39m\u001b[38;5;124;03m\"\"\"\u001b[39;00m\n\u001b[1;32m   6342\u001b[0m \u001b[38;5;124;03mMap values using an input mapping or function.\u001b[39;00m\n\u001b[1;32m   6343\u001b[0m \n\u001b[0;32m   (...)\u001b[0m\n\u001b[1;32m   6357\u001b[0m \u001b[38;5;124;03m    a MultiIndex will be returned.\u001b[39;00m\n\u001b[1;32m   6358\u001b[0m \u001b[38;5;124;03m\"\"\"\u001b[39;00m\n\u001b[1;32m   6359\u001b[0m \u001b[38;5;28;01mfrom\u001b[39;00m \u001b[38;5;21;01mpandas\u001b[39;00m\u001b[38;5;21;01m.\u001b[39;00m\u001b[38;5;21;01mcore\u001b[39;00m\u001b[38;5;21;01m.\u001b[39;00m\u001b[38;5;21;01mindexes\u001b[39;00m\u001b[38;5;21;01m.\u001b[39;00m\u001b[38;5;21;01mmulti\u001b[39;00m \u001b[38;5;28;01mimport\u001b[39;00m MultiIndex\n\u001b[0;32m-> 6361\u001b[0m new_values \u001b[38;5;241m=\u001b[39m \u001b[38;5;28;43mself\u001b[39;49m\u001b[38;5;241;43m.\u001b[39;49m\u001b[43m_map_values\u001b[49m\u001b[43m(\u001b[49m\u001b[43mmapper\u001b[49m\u001b[43m,\u001b[49m\u001b[43m \u001b[49m\u001b[43mna_action\u001b[49m\u001b[38;5;241;43m=\u001b[39;49m\u001b[43mna_action\u001b[49m\u001b[43m)\u001b[49m\n\u001b[1;32m   6363\u001b[0m \u001b[38;5;66;03m# we can return a MultiIndex\u001b[39;00m\n\u001b[1;32m   6364\u001b[0m \u001b[38;5;28;01mif\u001b[39;00m new_values\u001b[38;5;241m.\u001b[39msize \u001b[38;5;129;01mand\u001b[39;00m \u001b[38;5;28misinstance\u001b[39m(new_values[\u001b[38;5;241m0\u001b[39m], \u001b[38;5;28mtuple\u001b[39m):\n",
      "File \u001b[0;32m/opt/homebrew/anaconda3/envs/test931/lib/python3.9/site-packages/pandas/core/base.py:890\u001b[0m, in \u001b[0;36mIndexOpsMixin._map_values\u001b[0;34m(self, mapper, na_action)\u001b[0m\n\u001b[1;32m    887\u001b[0m         \u001b[38;5;28;01mraise\u001b[39;00m \u001b[38;5;167;01mValueError\u001b[39;00m(msg)\n\u001b[1;32m    889\u001b[0m \u001b[38;5;66;03m# mapper is a function\u001b[39;00m\n\u001b[0;32m--> 890\u001b[0m new_values \u001b[38;5;241m=\u001b[39m \u001b[43mmap_f\u001b[49m\u001b[43m(\u001b[49m\u001b[43mvalues\u001b[49m\u001b[43m,\u001b[49m\u001b[43m \u001b[49m\u001b[43mmapper\u001b[49m\u001b[43m)\u001b[49m\n\u001b[1;32m    892\u001b[0m \u001b[38;5;28;01mreturn\u001b[39;00m new_values\n",
      "File \u001b[0;32m/opt/homebrew/anaconda3/envs/test931/lib/python3.9/site-packages/pandas/_libs/lib.pyx:2924\u001b[0m, in \u001b[0;36mpandas._libs.lib.map_infer\u001b[0;34m()\u001b[0m\n",
      "File \u001b[0;32m~/Desktop/alaconfig/src/alacorder/alac.py:298\u001b[0m, in \u001b[0;36mwriteTables.<locals>.<lambda>\u001b[0;34m(x)\u001b[0m\n\u001b[1;32m    296\u001b[0m b[\u001b[38;5;124m'\u001b[39m\u001b[38;5;124mAddress\u001b[39m\u001b[38;5;124m'\u001b[39m] \u001b[38;5;241m=\u001b[39m b[\u001b[38;5;124m'\u001b[39m\u001b[38;5;124mCaseInfoOutputs\u001b[39m\u001b[38;5;124m'\u001b[39m]\u001b[38;5;241m.\u001b[39mmap(\u001b[38;5;28;01mlambda\u001b[39;00m x: x[\u001b[38;5;241m6\u001b[39m])\n\u001b[1;32m    297\u001b[0m b[\u001b[38;5;124m'\u001b[39m\u001b[38;5;124mPhone\u001b[39m\u001b[38;5;124m'\u001b[39m] \u001b[38;5;241m=\u001b[39m b[\u001b[38;5;124m'\u001b[39m\u001b[38;5;124mCaseInfoOutputs\u001b[39m\u001b[38;5;124m'\u001b[39m]\u001b[38;5;241m.\u001b[39mmap(\u001b[38;5;28;01mlambda\u001b[39;00m x: x[\u001b[38;5;241m7\u001b[39m])\n\u001b[0;32m--> 298\u001b[0m b[\u001b[38;5;124m'\u001b[39m\u001b[38;5;124mChargesOutputs\u001b[39m\u001b[38;5;124m'\u001b[39m] \u001b[38;5;241m=\u001b[39m b\u001b[38;5;241m.\u001b[39mindex\u001b[38;5;241m.\u001b[39mmap(\u001b[38;5;28;01mlambda\u001b[39;00m x: \u001b[43mgetCharges\u001b[49m\u001b[43m(\u001b[49m\u001b[43mb\u001b[49m\u001b[38;5;241;43m.\u001b[39;49m\u001b[43mloc\u001b[49m\u001b[43m[\u001b[49m\u001b[43mx\u001b[49m\u001b[43m]\u001b[49m\u001b[38;5;241;43m.\u001b[39;49m\u001b[43mAllPagesText\u001b[49m\u001b[43m,\u001b[49m\u001b[43m \u001b[49m\u001b[43mb\u001b[49m\u001b[38;5;241;43m.\u001b[39;49m\u001b[43mloc\u001b[49m\u001b[43m[\u001b[49m\u001b[43mx\u001b[49m\u001b[43m]\u001b[49m\u001b[38;5;241;43m.\u001b[39;49m\u001b[43mCaseNumber\u001b[49m\u001b[43m)\u001b[49m)\n\u001b[1;32m    299\u001b[0m b[\u001b[38;5;124m'\u001b[39m\u001b[38;5;124mConvictions\u001b[39m\u001b[38;5;124m'\u001b[39m] \u001b[38;5;241m=\u001b[39m b[\u001b[38;5;124m'\u001b[39m\u001b[38;5;124mChargesOutputs\u001b[39m\u001b[38;5;124m'\u001b[39m]\u001b[38;5;241m.\u001b[39mmap(\u001b[38;5;28;01mlambda\u001b[39;00m x: x[\u001b[38;5;241m0\u001b[39m])\n\u001b[1;32m    300\u001b[0m b[\u001b[38;5;124m'\u001b[39m\u001b[38;5;124mDispositionCharges\u001b[39m\u001b[38;5;124m'\u001b[39m] \u001b[38;5;241m=\u001b[39m b[\u001b[38;5;124m'\u001b[39m\u001b[38;5;124mChargesOutputs\u001b[39m\u001b[38;5;124m'\u001b[39m]\u001b[38;5;241m.\u001b[39mmap(\u001b[38;5;28;01mlambda\u001b[39;00m x: x[\u001b[38;5;241m1\u001b[39m])\n",
      "File \u001b[0;32m~/Desktop/alaconfig/src/alacorder/alac.py:983\u001b[0m, in \u001b[0;36mgetCharges\u001b[0;34m(text, cnum)\u001b[0m\n\u001b[1;32m    980\u001b[0m \u001b[38;5;28;01mif\u001b[39;00m charges\u001b[38;5;241m.\u001b[39mshape[\u001b[38;5;241m0\u001b[39m] \u001b[38;5;241m==\u001b[39m \u001b[38;5;241m0\u001b[39m:\n\u001b[1;32m    981\u001b[0m \tcharges \u001b[38;5;241m=\u001b[39m np\u001b[38;5;241m.\u001b[39mnan\n\u001b[0;32m--> 983\u001b[0m \u001b[38;5;28;01mif\u001b[39;00m \u001b[43mprint_log\u001b[49m \u001b[38;5;241m==\u001b[39m \u001b[38;5;28;01mTrue\u001b[39;00m:\n\u001b[1;32m    984\u001b[0m \tlog_complete(conf, start_time)\n\u001b[1;32m    986\u001b[0m \u001b[38;5;28;01mreturn\u001b[39;00m [convictions, dcharges, fcharges, cerv_convictions, pardon_convictions, perm_convictions, conviction_ct, charge_ct, cerv_ct, pardon_ct, perm_ct, conv_cerv_ct, conv_pardon_ct, conv_perm_ct, charge_codes, conv_codes, allcharge, charges]\n",
      "\u001b[0;31mNameError\u001b[0m: name 'print_log' is not defined"
     ]
    }
   ],
   "source": [
    "from IPython.display import display, HTML\n",
    "import alac\n",
    "\n",
    "a = alac.config(\"/Users/samuelrobson/Desktop/NewTut.pkl.xz\",\"/Users/samuelrobson/Desktop/TUTS.xls\",max_cases=500,print_log=False)\n",
    "\n",
    "b = alac.writeTables(a)\n",
    "\n",
    "display(HTML(b[0].to_html()))"
   ]
  },
  {
   "cell_type": "markdown",
   "id": "0e0de65d-169b-46ba-85a4-c64e66f95a6d",
   "metadata": {},
   "source": []
  }
 ],
 "metadata": {
  "kernelspec": {
   "display_name": "Python 3 (ipykernel)",
   "language": "python",
   "name": "python3"
  },
  "language_info": {
   "codemirror_mode": {
    "name": "ipython",
    "version": 3
   },
   "file_extension": ".py",
   "mimetype": "text/x-python",
   "name": "python",
   "nbconvert_exporter": "python",
   "pygments_lexer": "ipython3",
   "version": "3.9.16"
  },
  "nteract": {
   "version": "0.28.0"
  }
 },
 "nbformat": 4,
 "nbformat_minor": 5
}
