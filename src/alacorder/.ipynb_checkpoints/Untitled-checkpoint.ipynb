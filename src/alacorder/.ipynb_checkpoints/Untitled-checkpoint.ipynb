{
 "cells": [
  {
   "cell_type": "code",
   "execution_count": 63,
   "id": "1df288c0-7549-4e17-b347-183e2b9160d7",
   "metadata": {
    "tags": []
   },
   "outputs": [
    {
     "data": {
      "application/vnd.jupyter.widget-view+json": {
       "model_id": "903bf2eb1baa4c4db6a03ee2fb89fd6f",
       "version_major": 2,
       "version_minor": 0
      },
      "text/plain": [
       "IntSlider(value=5, description='Speed:', max=10, step=0)"
      ]
     },
     "metadata": {},
     "output_type": "display_data"
    },
    {
     "data": {
      "application/vnd.jupyter.widget-view+json": {
       "model_id": "0dee5ffe5e3e43dfbd1fcbaf10730fe8",
       "version_major": 2,
       "version_minor": 0
      },
      "text/plain": [
       "Checkbox(value=False, description='Debug')"
      ]
     },
     "metadata": {},
     "output_type": "display_data"
    },
    {
     "data": {
      "application/vnd.jupyter.widget-view+json": {
       "model_id": "25cc1fc18d0248f2ab60a9099d7872c0",
       "version_major": 2,
       "version_minor": 0
      },
      "text/plain": [
       "Checkbox(value=False, description='Remove duplicates')"
      ]
     },
     "metadata": {},
     "output_type": "display_data"
    },
    {
     "data": {
      "application/vnd.jupyter.widget-view+json": {
       "model_id": "f62361a16f5547c6900428165a2ea2be",
       "version_major": 2,
       "version_minor": 0
      },
      "text/plain": [
       "Checkbox(value=False, description='Compress outputs')"
      ]
     },
     "metadata": {},
     "output_type": "display_data"
    },
    {
     "data": {
      "application/vnd.jupyter.widget-view+json": {
       "model_id": "b8e8bb5a3a4b4dfd834331aae9e281ba",
       "version_major": 2,
       "version_minor": 0
      },
      "text/plain": [
       "Checkbox(value=False, description='Print logs')"
      ]
     },
     "metadata": {},
     "output_type": "display_data"
    },
    {
     "data": {
      "application/vnd.jupyter.widget-view+json": {
       "model_id": "16437b4cbe434205b33576820772f9ee",
       "version_major": 2,
       "version_minor": 0
      },
      "text/plain": [
       "Checkbox(value=False, description='Do not write to output file')"
      ]
     },
     "metadata": {},
     "output_type": "display_data"
    },
    {
     "data": {
      "application/vnd.jupyter.widget-view+json": {
       "model_id": "e4658d1ba1674cbabe118aa0c5b78e86",
       "version_major": 2,
       "version_minor": 0
      },
      "text/plain": [
       "Checkbox(value=False, description='Do not split into batches')"
      ]
     },
     "metadata": {},
     "output_type": "display_data"
    },
    {
     "data": {
      "application/vnd.jupyter.widget-view+json": {
       "model_id": "58b58ad58651482ea33c90293e2ec735",
       "version_major": 2,
       "version_minor": 0
      },
      "text/plain": [
       "Checkbox(value=False, description='Do not prompt for user input')"
      ]
     },
     "metadata": {},
     "output_type": "display_data"
    }
   ],
   "source": [
    "from ipywidgets import interact, interactive, fixed, interact_manual\n",
    "import ipywidgets as widgets\n",
    "from alacorder import alac\n",
    "import pandas as pd\n",
    "import click\n",
    "from IPython.display import display\n",
    "import os\n",
    "import sys\n",
    "import math\n",
    "import click\n",
    "import pandas as pd\n",
    "import time\n",
    "import selenium\n",
    "from selenium import webdriver\n",
    "from selenium.webdriver.common.by import By\n",
    "from selenium.webdriver.support.ui import Select\n",
    "from selenium.webdriver.chrome.options import Options \n",
    "\n",
    "speed = widgets.IntSlider(\n",
    "    min=0,\n",
    "    max=10,\n",
    "    step=.2,\n",
    "    description='Speed:',\n",
    "    value=5\n",
    ")\n",
    "\n",
    "debug = widgets.Checkbox(\n",
    "    description='Debug'\n",
    ")\n",
    "\n",
    "dedupe = widgets.Checkbox(\n",
    "    description='Remove duplicates'\n",
    ")\n",
    "\n",
    "compress = widgets.Checkbox(\n",
    "    description='Compress outputs'\n",
    ")\n",
    "\n",
    "log = widgets.Checkbox(\n",
    "    description='Print logs'\n",
    ")\n",
    "\n",
    "no_write = widgets.Checkbox(\n",
    "    description='Do not write to output file'\n",
    ")\n",
    "no_batch = widgets.Checkbox(\n",
    "    description='Do not split into batches'\n",
    ")\n",
    "no_prompt = widgets.Checkbox(\n",
    "    description='Do not prompt for user input'\n",
    ")\n",
    "\n",
    "\n",
    "display(speed, debug, dedupe, compress, log, no_write, no_batch, no_prompt)\n"
   ]
  },
  {
   "cell_type": "code",
   "execution_count": 47,
   "id": "1efa2fc8-f18f-4990-8967-3d830a51c922",
   "metadata": {},
   "outputs": [
    {
     "name": "stdout",
     "output_type": "stream",
     "text": [
      "['Accordion', 'AppLayout', 'Audio', 'BoundedFloatText', 'BoundedIntText', 'Box', 'Button', 'ButtonStyle', 'CallbackDispatcher', 'Checkbox', 'Color', 'ColorPicker', 'Combobox', 'Controller', 'CoreWidget', 'DOMWidget', 'DatePicker', 'Datetime', 'Dropdown', 'FileUpload', 'FloatLogSlider', 'FloatProgress', 'FloatRangeSlider', 'FloatSlider', 'FloatText', 'GridBox', 'GridspecLayout', 'HBox', 'HTML', 'HTMLMath', 'Image', 'IntProgress', 'IntRangeSlider', 'IntSlider', 'IntText', 'Label', 'Layout', 'NumberFormat', 'Output', 'Password', 'Play', 'RadioButtons', 'Select', 'SelectMultiple', 'SelectionRangeSlider', 'SelectionSlider', 'SliderStyle', 'Style', 'Tab', 'Text', 'Textarea', 'ToggleButton', 'ToggleButtons', 'ToggleButtonsStyle', 'TwoByTwoLayout', 'VBox', 'Valid', 'ValueWidget', 'Video', 'Widget', '__builtins__', '__cached__', '__doc__', '__file__', '__jupyter_widgets_base_version__', '__jupyter_widgets_controls_version__', '__loader__', '__name__', '__package__', '__path__', '__protocol_version__', '__spec__', '__version__', '_handle_ipython', '_version', 'dlink', 'docutils', 'domwidget', 'fixed', 'get_ipython', 'handle_kernel', 'interact', 'interact_manual', 'interaction', 'interactive', 'interactive_output', 'jsdlink', 'jslink', 'link', 'load_ipython_extension', 'os', 'register', 'register_comm_target', 'trait_types', 'util', 'valuewidget', 'version_info', 'widget', 'widget_bool', 'widget_box', 'widget_button', 'widget_color', 'widget_controller', 'widget_core', 'widget_date', 'widget_description', 'widget_float', 'widget_int', 'widget_layout', 'widget_link', 'widget_media', 'widget_output', 'widget_selection', 'widget_selectioncontainer', 'widget_serialization', 'widget_string', 'widget_style', 'widget_templates', 'widget_upload', 'widgets']\n"
     ]
    }
   ],
   "source": [
    "print(dir(widgets))\n"
   ]
  },
  {
   "cell_type": "code",
   "execution_count": 74,
   "id": "40b11279-3d41-4cf2-a32e-48fa5c988461",
   "metadata": {},
   "outputs": [
    {
     "data": {
      "application/vnd.jupyter.widget-view+json": {
       "model_id": "bbc82edf64cb4e1ca9734eb1a0f00f0c",
       "version_major": 2,
       "version_minor": 0
      },
      "text/plain": [
       "Text(value='17853', description='Customer ID')"
      ]
     },
     "metadata": {},
     "output_type": "display_data"
    },
    {
     "data": {
      "application/vnd.jupyter.widget-view+json": {
       "model_id": "ee679193d78742dd94b03e4a146607b0",
       "version_major": 2,
       "version_minor": 0
      },
      "text/plain": [
       "Text(value='DXLI6G', description='User ID')"
      ]
     },
     "metadata": {},
     "output_type": "display_data"
    },
    {
     "data": {
      "application/vnd.jupyter.widget-view+json": {
       "model_id": "17b3ce4f60c6437a9e17a1a3bfde3db9",
       "version_major": 2,
       "version_minor": 0
      },
      "text/plain": [
       "Password(description='Password')"
      ]
     },
     "metadata": {},
     "output_type": "display_data"
    },
    {
     "data": {
      "application/vnd.jupyter.widget-view+json": {
       "model_id": "444f62f5c70e457e8d53a17f4f17582e",
       "version_major": 2,
       "version_minor": 0
      },
      "text/plain": [
       "Button(description='Login', style=ButtonStyle())"
      ]
     },
     "metadata": {},
     "output_type": "display_data"
    },
    {
     "ename": "AttributeError",
     "evalue": "'Button' object has no attribute 'value'",
     "output_type": "error",
     "traceback": [
      "\u001b[0;31m---------------------------------------------------------------------------\u001b[0m",
      "\u001b[0;31mAttributeError\u001b[0m                            Traceback (most recent call last)",
      "Input \u001b[0;32mIn [74]\u001b[0m, in \u001b[0;36m<cell line: 80>\u001b[0;34m()\u001b[0m\n\u001b[1;32m     76\u001b[0m display(cID, uID, pwd, submit)\n\u001b[1;32m     78\u001b[0m submit\u001b[38;5;241m.\u001b[39mon_click(\u001b[38;5;28;01mlambda\u001b[39;00m x: \u001b[38;5;28mprint\u001b[39m(\u001b[38;5;124m\"\u001b[39m\u001b[38;5;124mAuthenticating...\u001b[39m\u001b[38;5;124m\"\u001b[39m))\n\u001b[0;32m---> 80\u001b[0m login(cIDw\u001b[38;5;241m.\u001b[39mvalue, uIDw\u001b[38;5;241m.\u001b[39mvalue, pwdw\u001b[38;5;241m.\u001b[39mvalue, \u001b[43msubmitw\u001b[49m\u001b[38;5;241;43m.\u001b[39;49m\u001b[43mvalue\u001b[49m)\n",
      "\u001b[0;31mAttributeError\u001b[0m: 'Button' object has no attribute 'value'"
     ]
    }
   ],
   "source": [
    "## LOGIN\n",
    "\n",
    "def login(cID: str, username: str, pwd: str, speed=1.0, no_log=False, path=\"\"):\n",
    "    \"\"\"Login to Alacourt.com using (driver) and auth (cID, username, pwd) at (speed) for browser download to directory at (path)\n",
    "    \n",
    "    Args:\n",
    "        driver (WebDriver): Google Chrome selenium.WebDriver() object\n",
    "        cID (str): Alacourt.com Customer ID\n",
    "        username (str): Alacourt.com User ID\n",
    "        pwd (str): Alacourt.com Password\n",
    "        speed (TYPE): Scrape rate multiplier\n",
    "        no_log (bool, optional): Do not print logs\n",
    "        path (str, optional): Set browser download path \n",
    "    \n",
    "    Returns:\n",
    "        driver (WebDriver): Google Chrome selenium.WebDriver() object\n",
    "    \"\"\"\n",
    "\n",
    "    options = webdriver.ChromeOptions()\n",
    "    options.add_experimental_option('prefs', {\n",
    "        \"download.default_directory\": path, #Change default directory for downloads\n",
    "        \"download.prompt_for_download\": False, #To auto download the file\n",
    "        \"download.directory_upgrade\": True,\n",
    "        \"plugins.always_open_pdf_externally\": True #It will not show PDF directly in chrome\n",
    "    })\n",
    "    driver = webdriver.Chrome(options=options)\n",
    "\n",
    "    if not no_log:\n",
    "        click.echo(\"Connecting to Alacourt...\")\n",
    "\n",
    "    login_screen = driver.get(\"https://v2.alacourt.com/frmlogin.aspx\")\n",
    "\n",
    "    if not no_log:\n",
    "        click.echo(\"Logging in...\")\n",
    "\n",
    "    driver.implicitly_wait(0.5/speed)\n",
    "    \n",
    "    cID_box = driver.find_element(by=By.NAME, \n",
    "        value=\"ctl00$ContentPlaceHolder$txtCusid\")\n",
    "    username_box = driver.find_element(by=By.NAME, value=\"ctl00$ContentPlaceHolder$txtUserId\")\n",
    "    pwd_box = driver.find_element(by=By.NAME, value=\"ctl00$ContentPlaceHolder$txtPassword\")\n",
    "    login_button = driver.find_element(by=By.ID, value=\"ContentPlaceHolder_btLogin\")\n",
    "\n",
    "    cID_box.send_keys(cID)\n",
    "    username_box.send_keys(username)\n",
    "    pwd_box.send_keys(pwd)\n",
    "\n",
    "    driver.implicitly_wait(1/speed)\n",
    "\n",
    "    login_button.click()\n",
    "\n",
    "    driver.implicitly_wait(1/speed)\n",
    "\n",
    "    try:\n",
    "        continueLogIn = driver.find_element(by=By.NAME, \n",
    "        value=\"ctl00$ContentPlaceHolder$btnContinueLogin\")\n",
    "        continueLogIn.click()\n",
    "    except:\n",
    "        pass\n",
    "\n",
    "\n",
    "    driver.get(\"https://v2.alacourt.com/frmIndexSearchForm.aspx\")\n",
    "\n",
    "    if not no_log:\n",
    "        cal.echo_green(\"Successfully connected and logged into Alacourt!\")\n",
    "\n",
    "    driver.implicitly_wait(0.5/speed)\n",
    "\n",
    "    return driver\n",
    "\n",
    "cIDw = widgets.Text(description=\"Customer ID\")\n",
    "uIDw = widgets.Text(description=\"User ID\")\n",
    "pwdw = widgets.Password(description=\"Password\")\n",
    "submitw = widgets.Button(description=\"Login\")\n",
    "\n",
    "display(cID, uID, pwd, submit)\n",
    "\n",
    "submit.on_click(lambda x: print(\"Authenticating...\"))\n",
    "\n",
    "login(cIDw.value, uIDw.value, pwdw.value)"
   ]
  },
  {
   "cell_type": "markdown",
   "id": "8216ccd1-ad2c-4977-af78-9f894e6faca7",
   "metadata": {},
   "source": []
  }
 ],
 "metadata": {
  "kernelspec": {
   "display_name": "Python 3 (ipykernel)",
   "language": "python",
   "name": "python3"
  },
  "language_info": {
   "codemirror_mode": {
    "name": "ipython",
    "version": 3
   },
   "file_extension": ".py",
   "mimetype": "text/x-python",
   "name": "python",
   "nbconvert_exporter": "python",
   "pygments_lexer": "ipython3",
   "version": "3.9.13"
  }
 },
 "nbformat": 4,
 "nbformat_minor": 5
}
