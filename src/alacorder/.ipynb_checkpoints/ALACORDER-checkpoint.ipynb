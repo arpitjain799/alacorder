{
 "cells": [
  {
   "cell_type": "code",
   "execution_count": 7,
   "id": "eaa47eef",
   "metadata": {
    "collapsed": true,
    "hide_input": true,
    "init_cell": true,
    "tags": []
   },
   "outputs": [
    {
     "name": "stdout",
     "output_type": "stream",
     "text": [
      "Requirement already satisfied: alacorder in /Users/samuelrobson/.local/share/virtualenvs/samuelrobson-oGe5mS5W/lib/python3.11/site-packages (76.6.9)\n",
      "Requirement already satisfied: cython in /Users/samuelrobson/.local/share/virtualenvs/samuelrobson-oGe5mS5W/lib/python3.11/site-packages (0.29.33)\n",
      "Requirement already satisfied: pandas in /Users/samuelrobson/.local/share/virtualenvs/samuelrobson-oGe5mS5W/lib/python3.11/site-packages (1.5.3)\n",
      "Requirement already satisfied: numpy in /Users/samuelrobson/.local/share/virtualenvs/samuelrobson-oGe5mS5W/lib/python3.11/site-packages (1.24.2)\n",
      "Requirement already satisfied: itables in /Users/samuelrobson/.local/share/virtualenvs/samuelrobson-oGe5mS5W/lib/python3.11/site-packages (1.4.6)\n",
      "Requirement already satisfied: ipywidgets in /Users/samuelrobson/.local/share/virtualenvs/samuelrobson-oGe5mS5W/lib/python3.11/site-packages (8.0.4)\n",
      "Requirement already satisfied: jupyter_nbextensions_configurator in /Users/samuelrobson/.local/share/virtualenvs/samuelrobson-oGe5mS5W/lib/python3.11/site-packages (0.6.1)\n",
      "Requirement already satisfied: ipython in /Users/samuelrobson/.local/share/virtualenvs/samuelrobson-oGe5mS5W/lib/python3.11/site-packages (8.11.0)\n",
      "Requirement already satisfied: jupyter in /Users/samuelrobson/.local/share/virtualenvs/samuelrobson-oGe5mS5W/lib/python3.11/site-packages (1.0.0)\n",
      "Requirement already satisfied: PyPDF2 in /Users/samuelrobson/.local/share/virtualenvs/samuelrobson-oGe5mS5W/lib/python3.11/site-packages (3.0.1)\n",
      "Requirement already satisfied: openpyxl in /Users/samuelrobson/.local/share/virtualenvs/samuelrobson-oGe5mS5W/lib/python3.11/site-packages (3.1.1)\n",
      "Requirement already satisfied: xlrd in /Users/samuelrobson/.local/share/virtualenvs/samuelrobson-oGe5mS5W/lib/python3.11/site-packages (2.0.1)\n",
      "Requirement already satisfied: xlwt in /Users/samuelrobson/.local/share/virtualenvs/samuelrobson-oGe5mS5W/lib/python3.11/site-packages (1.3.0)\n",
      "Requirement already satisfied: selenium in /Users/samuelrobson/.local/share/virtualenvs/samuelrobson-oGe5mS5W/lib/python3.11/site-packages (4.8.2)\n",
      "Requirement already satisfied: click in /Users/samuelrobson/.local/share/virtualenvs/samuelrobson-oGe5mS5W/lib/python3.11/site-packages (8.1.3)\n",
      "Requirement already satisfied: matplotlib in /Users/samuelrobson/.local/share/virtualenvs/samuelrobson-oGe5mS5W/lib/python3.11/site-packages (3.7.1)\n",
      "Requirement already satisfied: numexpr in /Users/samuelrobson/.local/share/virtualenvs/samuelrobson-oGe5mS5W/lib/python3.11/site-packages (2.8.4)\n",
      "Requirement already satisfied: bottleneck in /Users/samuelrobson/.local/share/virtualenvs/samuelrobson-oGe5mS5W/lib/python3.11/site-packages (1.3.6)\n",
      "Requirement already satisfied: xarray in /Users/samuelrobson/.local/share/virtualenvs/samuelrobson-oGe5mS5W/lib/python3.11/site-packages (2023.2.0)\n",
      "Requirement already satisfied: pyarrow in /Users/samuelrobson/.local/share/virtualenvs/samuelrobson-oGe5mS5W/lib/python3.11/site-packages (11.0.0)\n",
      "Requirement already satisfied: tqdm in /Users/samuelrobson/.local/share/virtualenvs/samuelrobson-oGe5mS5W/lib/python3.11/site-packages (from alacorder) (4.65.0)\n",
      "Requirement already satisfied: python-dateutil>=2.8.1 in /Users/samuelrobson/.local/share/virtualenvs/samuelrobson-oGe5mS5W/lib/python3.11/site-packages (from pandas) (2.8.2)\n",
      "Requirement already satisfied: pytz>=2020.1 in /Users/samuelrobson/.local/share/virtualenvs/samuelrobson-oGe5mS5W/lib/python3.11/site-packages (from pandas) (2022.7.1)\n",
      "Requirement already satisfied: ipykernel>=4.5.1 in /Users/samuelrobson/.local/share/virtualenvs/samuelrobson-oGe5mS5W/lib/python3.11/site-packages (from ipywidgets) (6.21.2)\n",
      "Requirement already satisfied: traitlets>=4.3.1 in /Users/samuelrobson/.local/share/virtualenvs/samuelrobson-oGe5mS5W/lib/python3.11/site-packages (from ipywidgets) (5.9.0)\n",
      "Requirement already satisfied: widgetsnbextension~=4.0 in /Users/samuelrobson/.local/share/virtualenvs/samuelrobson-oGe5mS5W/lib/python3.11/site-packages (from ipywidgets) (4.0.5)\n",
      "Requirement already satisfied: jupyterlab-widgets~=3.0 in /Users/samuelrobson/.local/share/virtualenvs/samuelrobson-oGe5mS5W/lib/python3.11/site-packages (from ipywidgets) (3.0.5)\n",
      "Requirement already satisfied: jupyter-contrib-core>=0.3.3 in /Users/samuelrobson/.local/share/virtualenvs/samuelrobson-oGe5mS5W/lib/python3.11/site-packages (from jupyter_nbextensions_configurator) (0.4.2)\n",
      "Requirement already satisfied: jupyter-core in /Users/samuelrobson/.local/share/virtualenvs/samuelrobson-oGe5mS5W/lib/python3.11/site-packages (from jupyter_nbextensions_configurator) (5.2.0)\n",
      "Requirement already satisfied: notebook>=6.0 in /Users/samuelrobson/.local/share/virtualenvs/samuelrobson-oGe5mS5W/lib/python3.11/site-packages (from jupyter_nbextensions_configurator) (6.5.2)\n",
      "Requirement already satisfied: pyyaml in /Users/samuelrobson/.local/share/virtualenvs/samuelrobson-oGe5mS5W/lib/python3.11/site-packages (from jupyter_nbextensions_configurator) (6.0)\n",
      "Requirement already satisfied: tornado in /Users/samuelrobson/.local/share/virtualenvs/samuelrobson-oGe5mS5W/lib/python3.11/site-packages (from jupyter_nbextensions_configurator) (6.2)\n",
      "Requirement already satisfied: backcall in /Users/samuelrobson/.local/share/virtualenvs/samuelrobson-oGe5mS5W/lib/python3.11/site-packages (from ipython) (0.2.0)\n",
      "Requirement already satisfied: decorator in /Users/samuelrobson/.local/share/virtualenvs/samuelrobson-oGe5mS5W/lib/python3.11/site-packages (from ipython) (5.1.1)\n",
      "Requirement already satisfied: jedi>=0.16 in /Users/samuelrobson/.local/share/virtualenvs/samuelrobson-oGe5mS5W/lib/python3.11/site-packages (from ipython) (0.18.2)\n",
      "Requirement already satisfied: matplotlib-inline in /Users/samuelrobson/.local/share/virtualenvs/samuelrobson-oGe5mS5W/lib/python3.11/site-packages (from ipython) (0.1.6)\n",
      "Requirement already satisfied: pickleshare in /Users/samuelrobson/.local/share/virtualenvs/samuelrobson-oGe5mS5W/lib/python3.11/site-packages (from ipython) (0.7.5)\n",
      "Requirement already satisfied: prompt-toolkit!=3.0.37,<3.1.0,>=3.0.30 in /Users/samuelrobson/.local/share/virtualenvs/samuelrobson-oGe5mS5W/lib/python3.11/site-packages (from ipython) (3.0.38)\n",
      "Requirement already satisfied: pygments>=2.4.0 in /Users/samuelrobson/.local/share/virtualenvs/samuelrobson-oGe5mS5W/lib/python3.11/site-packages (from ipython) (2.14.0)\n",
      "Requirement already satisfied: stack-data in /Users/samuelrobson/.local/share/virtualenvs/samuelrobson-oGe5mS5W/lib/python3.11/site-packages (from ipython) (0.6.2)\n",
      "Requirement already satisfied: pexpect>4.3 in /Users/samuelrobson/.local/share/virtualenvs/samuelrobson-oGe5mS5W/lib/python3.11/site-packages (from ipython) (4.8.0)\n",
      "Requirement already satisfied: appnope in /Users/samuelrobson/.local/share/virtualenvs/samuelrobson-oGe5mS5W/lib/python3.11/site-packages (from ipython) (0.1.3)\n",
      "Requirement already satisfied: qtconsole in /Users/samuelrobson/.local/share/virtualenvs/samuelrobson-oGe5mS5W/lib/python3.11/site-packages (from jupyter) (5.4.0)\n",
      "Requirement already satisfied: jupyter-console in /Users/samuelrobson/.local/share/virtualenvs/samuelrobson-oGe5mS5W/lib/python3.11/site-packages (from jupyter) (6.6.2)\n",
      "Requirement already satisfied: nbconvert in /Users/samuelrobson/.local/share/virtualenvs/samuelrobson-oGe5mS5W/lib/python3.11/site-packages (from jupyter) (7.2.9)\n",
      "Requirement already satisfied: et-xmlfile in /Users/samuelrobson/.local/share/virtualenvs/samuelrobson-oGe5mS5W/lib/python3.11/site-packages (from openpyxl) (1.1.0)\n",
      "Requirement already satisfied: urllib3[socks]~=1.26 in /Users/samuelrobson/.local/share/virtualenvs/samuelrobson-oGe5mS5W/lib/python3.11/site-packages (from selenium) (1.26.14)\n",
      "Requirement already satisfied: trio~=0.17 in /Users/samuelrobson/.local/share/virtualenvs/samuelrobson-oGe5mS5W/lib/python3.11/site-packages (from selenium) (0.22.0)\n",
      "Requirement already satisfied: trio-websocket~=0.9 in /Users/samuelrobson/.local/share/virtualenvs/samuelrobson-oGe5mS5W/lib/python3.11/site-packages (from selenium) (0.9.2)\n",
      "Requirement already satisfied: certifi>=2021.10.8 in /Users/samuelrobson/.local/share/virtualenvs/samuelrobson-oGe5mS5W/lib/python3.11/site-packages (from selenium) (2022.12.7)\n",
      "Requirement already satisfied: contourpy>=1.0.1 in /Users/samuelrobson/.local/share/virtualenvs/samuelrobson-oGe5mS5W/lib/python3.11/site-packages (from matplotlib) (1.0.7)\n",
      "Requirement already satisfied: cycler>=0.10 in /Users/samuelrobson/.local/share/virtualenvs/samuelrobson-oGe5mS5W/lib/python3.11/site-packages (from matplotlib) (0.11.0)\n",
      "Requirement already satisfied: fonttools>=4.22.0 in /Users/samuelrobson/.local/share/virtualenvs/samuelrobson-oGe5mS5W/lib/python3.11/site-packages (from matplotlib) (4.38.0)\n",
      "Requirement already satisfied: kiwisolver>=1.0.1 in /Users/samuelrobson/.local/share/virtualenvs/samuelrobson-oGe5mS5W/lib/python3.11/site-packages (from matplotlib) (1.4.4)\n",
      "Requirement already satisfied: packaging>=20.0 in /Users/samuelrobson/.local/share/virtualenvs/samuelrobson-oGe5mS5W/lib/python3.11/site-packages (from matplotlib) (23.0)\n",
      "Requirement already satisfied: pillow>=6.2.0 in /Users/samuelrobson/.local/share/virtualenvs/samuelrobson-oGe5mS5W/lib/python3.11/site-packages (from matplotlib) (9.4.0)\n",
      "Requirement already satisfied: pyparsing>=2.3.1 in /Users/samuelrobson/.local/share/virtualenvs/samuelrobson-oGe5mS5W/lib/python3.11/site-packages (from matplotlib) (3.0.9)\n"
     ]
    },
    {
     "name": "stdout",
     "output_type": "stream",
     "text": [
      "Requirement already satisfied: comm>=0.1.1 in /Users/samuelrobson/.local/share/virtualenvs/samuelrobson-oGe5mS5W/lib/python3.11/site-packages (from ipykernel>=4.5.1->ipywidgets) (0.1.2)\n",
      "Requirement already satisfied: debugpy>=1.6.5 in /Users/samuelrobson/.local/share/virtualenvs/samuelrobson-oGe5mS5W/lib/python3.11/site-packages (from ipykernel>=4.5.1->ipywidgets) (1.6.6)\n",
      "Requirement already satisfied: jupyter-client>=6.1.12 in /Users/samuelrobson/.local/share/virtualenvs/samuelrobson-oGe5mS5W/lib/python3.11/site-packages (from ipykernel>=4.5.1->ipywidgets) (8.0.3)\n",
      "Requirement already satisfied: nest-asyncio in /Users/samuelrobson/.local/share/virtualenvs/samuelrobson-oGe5mS5W/lib/python3.11/site-packages (from ipykernel>=4.5.1->ipywidgets) (1.5.6)\n",
      "Requirement already satisfied: psutil in /Users/samuelrobson/.local/share/virtualenvs/samuelrobson-oGe5mS5W/lib/python3.11/site-packages (from ipykernel>=4.5.1->ipywidgets) (5.9.4)\n",
      "Requirement already satisfied: pyzmq>=20 in /Users/samuelrobson/.local/share/virtualenvs/samuelrobson-oGe5mS5W/lib/python3.11/site-packages (from ipykernel>=4.5.1->ipywidgets) (25.0.0)\n",
      "Requirement already satisfied: parso<0.9.0,>=0.8.0 in /Users/samuelrobson/.local/share/virtualenvs/samuelrobson-oGe5mS5W/lib/python3.11/site-packages (from jedi>=0.16->ipython) (0.8.3)\n",
      "Requirement already satisfied: setuptools in /Users/samuelrobson/.local/share/virtualenvs/samuelrobson-oGe5mS5W/lib/python3.11/site-packages (from jupyter-contrib-core>=0.3.3->jupyter_nbextensions_configurator) (67.4.0)\n",
      "Requirement already satisfied: platformdirs>=2.5 in /Users/samuelrobson/.local/share/virtualenvs/samuelrobson-oGe5mS5W/lib/python3.11/site-packages (from jupyter-core->jupyter_nbextensions_configurator) (3.1.0)\n",
      "Requirement already satisfied: jinja2 in /Users/samuelrobson/.local/share/virtualenvs/samuelrobson-oGe5mS5W/lib/python3.11/site-packages (from notebook>=6.0->jupyter_nbextensions_configurator) (3.1.2)\n",
      "Requirement already satisfied: argon2-cffi in /Users/samuelrobson/.local/share/virtualenvs/samuelrobson-oGe5mS5W/lib/python3.11/site-packages (from notebook>=6.0->jupyter_nbextensions_configurator) (21.3.0)\n",
      "Requirement already satisfied: ipython-genutils in /Users/samuelrobson/.local/share/virtualenvs/samuelrobson-oGe5mS5W/lib/python3.11/site-packages (from notebook>=6.0->jupyter_nbextensions_configurator) (0.2.0)\n",
      "Requirement already satisfied: nbformat in /Users/samuelrobson/.local/share/virtualenvs/samuelrobson-oGe5mS5W/lib/python3.11/site-packages (from notebook>=6.0->jupyter_nbextensions_configurator) (5.7.3)\n",
      "Requirement already satisfied: Send2Trash>=1.8.0 in /Users/samuelrobson/.local/share/virtualenvs/samuelrobson-oGe5mS5W/lib/python3.11/site-packages (from notebook>=6.0->jupyter_nbextensions_configurator) (1.8.0)\n",
      "Requirement already satisfied: terminado>=0.8.3 in /Users/samuelrobson/.local/share/virtualenvs/samuelrobson-oGe5mS5W/lib/python3.11/site-packages (from notebook>=6.0->jupyter_nbextensions_configurator) (0.17.1)\n",
      "Requirement already satisfied: prometheus-client in /Users/samuelrobson/.local/share/virtualenvs/samuelrobson-oGe5mS5W/lib/python3.11/site-packages (from notebook>=6.0->jupyter_nbextensions_configurator) (0.16.0)\n",
      "Requirement already satisfied: nbclassic>=0.4.7 in /Users/samuelrobson/.local/share/virtualenvs/samuelrobson-oGe5mS5W/lib/python3.11/site-packages (from notebook>=6.0->jupyter_nbextensions_configurator) (0.5.2)\n",
      "Requirement already satisfied: beautifulsoup4 in /Users/samuelrobson/.local/share/virtualenvs/samuelrobson-oGe5mS5W/lib/python3.11/site-packages (from nbconvert->jupyter) (4.11.2)\n",
      "Requirement already satisfied: bleach in /Users/samuelrobson/.local/share/virtualenvs/samuelrobson-oGe5mS5W/lib/python3.11/site-packages (from nbconvert->jupyter) (6.0.0)\n",
      "Requirement already satisfied: defusedxml in /Users/samuelrobson/.local/share/virtualenvs/samuelrobson-oGe5mS5W/lib/python3.11/site-packages (from nbconvert->jupyter) (0.7.1)\n",
      "Requirement already satisfied: jupyterlab-pygments in /Users/samuelrobson/.local/share/virtualenvs/samuelrobson-oGe5mS5W/lib/python3.11/site-packages (from nbconvert->jupyter) (0.2.2)\n",
      "Requirement already satisfied: markupsafe>=2.0 in /Users/samuelrobson/.local/share/virtualenvs/samuelrobson-oGe5mS5W/lib/python3.11/site-packages (from nbconvert->jupyter) (2.1.2)\n",
      "Requirement already satisfied: mistune<3,>=2.0.3 in /Users/samuelrobson/.local/share/virtualenvs/samuelrobson-oGe5mS5W/lib/python3.11/site-packages (from nbconvert->jupyter) (2.0.5)\n",
      "Requirement already satisfied: nbclient>=0.5.0 in /Users/samuelrobson/.local/share/virtualenvs/samuelrobson-oGe5mS5W/lib/python3.11/site-packages (from nbconvert->jupyter) (0.7.2)\n",
      "Requirement already satisfied: pandocfilters>=1.4.1 in /Users/samuelrobson/.local/share/virtualenvs/samuelrobson-oGe5mS5W/lib/python3.11/site-packages (from nbconvert->jupyter) (1.5.0)\n",
      "Requirement already satisfied: tinycss2 in /Users/samuelrobson/.local/share/virtualenvs/samuelrobson-oGe5mS5W/lib/python3.11/site-packages (from nbconvert->jupyter) (1.2.1)\n",
      "Requirement already satisfied: ptyprocess>=0.5 in /Users/samuelrobson/.local/share/virtualenvs/samuelrobson-oGe5mS5W/lib/python3.11/site-packages (from pexpect>4.3->ipython) (0.7.0)\n",
      "Requirement already satisfied: wcwidth in /Users/samuelrobson/.local/share/virtualenvs/samuelrobson-oGe5mS5W/lib/python3.11/site-packages (from prompt-toolkit!=3.0.37,<3.1.0,>=3.0.30->ipython) (0.2.6)\n",
      "Requirement already satisfied: six>=1.5 in /Users/samuelrobson/.local/share/virtualenvs/samuelrobson-oGe5mS5W/lib/python3.11/site-packages (from python-dateutil>=2.8.1->pandas) (1.16.0)\n",
      "Requirement already satisfied: attrs>=19.2.0 in /Users/samuelrobson/.local/share/virtualenvs/samuelrobson-oGe5mS5W/lib/python3.11/site-packages (from trio~=0.17->selenium) (22.2.0)\n",
      "Requirement already satisfied: sortedcontainers in /Users/samuelrobson/.local/share/virtualenvs/samuelrobson-oGe5mS5W/lib/python3.11/site-packages (from trio~=0.17->selenium) (2.4.0)\n",
      "Requirement already satisfied: async-generator>=1.9 in /Users/samuelrobson/.local/share/virtualenvs/samuelrobson-oGe5mS5W/lib/python3.11/site-packages (from trio~=0.17->selenium) (1.10)\n",
      "Requirement already satisfied: idna in /Users/samuelrobson/.local/share/virtualenvs/samuelrobson-oGe5mS5W/lib/python3.11/site-packages (from trio~=0.17->selenium) (3.4)\n",
      "Requirement already satisfied: outcome in /Users/samuelrobson/.local/share/virtualenvs/samuelrobson-oGe5mS5W/lib/python3.11/site-packages (from trio~=0.17->selenium) (1.2.0)\n",
      "Requirement already satisfied: sniffio in /Users/samuelrobson/.local/share/virtualenvs/samuelrobson-oGe5mS5W/lib/python3.11/site-packages (from trio~=0.17->selenium) (1.3.0)\n",
      "Requirement already satisfied: wsproto>=0.14 in /Users/samuelrobson/.local/share/virtualenvs/samuelrobson-oGe5mS5W/lib/python3.11/site-packages (from trio-websocket~=0.9->selenium) (1.2.0)\n",
      "Requirement already satisfied: PySocks!=1.5.7,<2.0,>=1.5.6 in /Users/samuelrobson/.local/share/virtualenvs/samuelrobson-oGe5mS5W/lib/python3.11/site-packages (from urllib3[socks]~=1.26->selenium) (1.7.1)\n",
      "Requirement already satisfied: qtpy>=2.0.1 in /Users/samuelrobson/.local/share/virtualenvs/samuelrobson-oGe5mS5W/lib/python3.11/site-packages (from qtconsole->jupyter) (2.3.0)\n",
      "Requirement already satisfied: executing>=1.2.0 in /Users/samuelrobson/.local/share/virtualenvs/samuelrobson-oGe5mS5W/lib/python3.11/site-packages (from stack-data->ipython) (1.2.0)\n",
      "Requirement already satisfied: asttokens>=2.1.0 in /Users/samuelrobson/.local/share/virtualenvs/samuelrobson-oGe5mS5W/lib/python3.11/site-packages (from stack-data->ipython) (2.2.1)\n",
      "Requirement already satisfied: pure-eval in /Users/samuelrobson/.local/share/virtualenvs/samuelrobson-oGe5mS5W/lib/python3.11/site-packages (from stack-data->ipython) (0.2.2)\n",
      "Requirement already satisfied: jupyter-server>=1.8 in /Users/samuelrobson/.local/share/virtualenvs/samuelrobson-oGe5mS5W/lib/python3.11/site-packages (from nbclassic>=0.4.7->notebook>=6.0->jupyter_nbextensions_configurator) (2.3.0)\n",
      "Requirement already satisfied: notebook-shim>=0.1.0 in /Users/samuelrobson/.local/share/virtualenvs/samuelrobson-oGe5mS5W/lib/python3.11/site-packages (from nbclassic>=0.4.7->notebook>=6.0->jupyter_nbextensions_configurator) (0.2.2)\n"
     ]
    },
    {
     "name": "stdout",
     "output_type": "stream",
     "text": [
      "Requirement already satisfied: fastjsonschema in /Users/samuelrobson/.local/share/virtualenvs/samuelrobson-oGe5mS5W/lib/python3.11/site-packages (from nbformat->notebook>=6.0->jupyter_nbextensions_configurator) (2.16.3)\n",
      "Requirement already satisfied: jsonschema>=2.6 in /Users/samuelrobson/.local/share/virtualenvs/samuelrobson-oGe5mS5W/lib/python3.11/site-packages (from nbformat->notebook>=6.0->jupyter_nbextensions_configurator) (4.17.3)\n",
      "Requirement already satisfied: h11<1,>=0.9.0 in /Users/samuelrobson/.local/share/virtualenvs/samuelrobson-oGe5mS5W/lib/python3.11/site-packages (from wsproto>=0.14->trio-websocket~=0.9->selenium) (0.14.0)\n",
      "Requirement already satisfied: argon2-cffi-bindings in /Users/samuelrobson/.local/share/virtualenvs/samuelrobson-oGe5mS5W/lib/python3.11/site-packages (from argon2-cffi->notebook>=6.0->jupyter_nbextensions_configurator) (21.2.0)\n",
      "Requirement already satisfied: soupsieve>1.2 in /Users/samuelrobson/.local/share/virtualenvs/samuelrobson-oGe5mS5W/lib/python3.11/site-packages (from beautifulsoup4->nbconvert->jupyter) (2.4)\n",
      "Requirement already satisfied: webencodings in /Users/samuelrobson/.local/share/virtualenvs/samuelrobson-oGe5mS5W/lib/python3.11/site-packages (from bleach->nbconvert->jupyter) (0.5.1)\n",
      "Requirement already satisfied: pyrsistent!=0.17.0,!=0.17.1,!=0.17.2,>=0.14.0 in /Users/samuelrobson/.local/share/virtualenvs/samuelrobson-oGe5mS5W/lib/python3.11/site-packages (from jsonschema>=2.6->nbformat->notebook>=6.0->jupyter_nbextensions_configurator) (0.19.3)\n",
      "Requirement already satisfied: anyio>=3.1.0 in /Users/samuelrobson/.local/share/virtualenvs/samuelrobson-oGe5mS5W/lib/python3.11/site-packages (from jupyter-server>=1.8->nbclassic>=0.4.7->notebook>=6.0->jupyter_nbextensions_configurator) (3.6.2)\n",
      "Requirement already satisfied: jupyter-events>=0.4.0 in /Users/samuelrobson/.local/share/virtualenvs/samuelrobson-oGe5mS5W/lib/python3.11/site-packages (from jupyter-server>=1.8->nbclassic>=0.4.7->notebook>=6.0->jupyter_nbextensions_configurator) (0.6.3)\n",
      "Requirement already satisfied: jupyter-server-terminals in /Users/samuelrobson/.local/share/virtualenvs/samuelrobson-oGe5mS5W/lib/python3.11/site-packages (from jupyter-server>=1.8->nbclassic>=0.4.7->notebook>=6.0->jupyter_nbextensions_configurator) (0.4.4)\n",
      "Requirement already satisfied: websocket-client in /Users/samuelrobson/.local/share/virtualenvs/samuelrobson-oGe5mS5W/lib/python3.11/site-packages (from jupyter-server>=1.8->nbclassic>=0.4.7->notebook>=6.0->jupyter_nbextensions_configurator) (1.5.1)\n",
      "Requirement already satisfied: cffi>=1.0.1 in /Users/samuelrobson/.local/share/virtualenvs/samuelrobson-oGe5mS5W/lib/python3.11/site-packages (from argon2-cffi-bindings->argon2-cffi->notebook>=6.0->jupyter_nbextensions_configurator) (1.15.1)\n",
      "Requirement already satisfied: pycparser in /Users/samuelrobson/.local/share/virtualenvs/samuelrobson-oGe5mS5W/lib/python3.11/site-packages (from cffi>=1.0.1->argon2-cffi-bindings->argon2-cffi->notebook>=6.0->jupyter_nbextensions_configurator) (2.21)\n",
      "Requirement already satisfied: python-json-logger>=2.0.4 in /Users/samuelrobson/.local/share/virtualenvs/samuelrobson-oGe5mS5W/lib/python3.11/site-packages (from jupyter-events>=0.4.0->jupyter-server>=1.8->nbclassic>=0.4.7->notebook>=6.0->jupyter_nbextensions_configurator) (2.0.7)\n",
      "Requirement already satisfied: rfc3339-validator in /Users/samuelrobson/.local/share/virtualenvs/samuelrobson-oGe5mS5W/lib/python3.11/site-packages (from jupyter-events>=0.4.0->jupyter-server>=1.8->nbclassic>=0.4.7->notebook>=6.0->jupyter_nbextensions_configurator) (0.1.4)\n",
      "Requirement already satisfied: rfc3986-validator>=0.1.1 in /Users/samuelrobson/.local/share/virtualenvs/samuelrobson-oGe5mS5W/lib/python3.11/site-packages (from jupyter-events>=0.4.0->jupyter-server>=1.8->nbclassic>=0.4.7->notebook>=6.0->jupyter_nbextensions_configurator) (0.1.1)\n",
      "Requirement already satisfied: fqdn in /Users/samuelrobson/.local/share/virtualenvs/samuelrobson-oGe5mS5W/lib/python3.11/site-packages (from jsonschema>=2.6->nbformat->notebook>=6.0->jupyter_nbextensions_configurator) (1.5.1)\n",
      "Requirement already satisfied: isoduration in /Users/samuelrobson/.local/share/virtualenvs/samuelrobson-oGe5mS5W/lib/python3.11/site-packages (from jsonschema>=2.6->nbformat->notebook>=6.0->jupyter_nbextensions_configurator) (20.11.0)\n",
      "Requirement already satisfied: jsonpointer>1.13 in /Users/samuelrobson/.local/share/virtualenvs/samuelrobson-oGe5mS5W/lib/python3.11/site-packages (from jsonschema>=2.6->nbformat->notebook>=6.0->jupyter_nbextensions_configurator) (2.3)\n",
      "Requirement already satisfied: uri-template in /Users/samuelrobson/.local/share/virtualenvs/samuelrobson-oGe5mS5W/lib/python3.11/site-packages (from jsonschema>=2.6->nbformat->notebook>=6.0->jupyter_nbextensions_configurator) (1.2.0)\n",
      "Requirement already satisfied: webcolors>=1.11 in /Users/samuelrobson/.local/share/virtualenvs/samuelrobson-oGe5mS5W/lib/python3.11/site-packages (from jsonschema>=2.6->nbformat->notebook>=6.0->jupyter_nbextensions_configurator) (1.12)\n",
      "Requirement already satisfied: arrow>=0.15.0 in /Users/samuelrobson/.local/share/virtualenvs/samuelrobson-oGe5mS5W/lib/python3.11/site-packages (from isoduration->jsonschema>=2.6->nbformat->notebook>=6.0->jupyter_nbextensions_configurator) (1.2.3)\n",
      "Note: you may need to restart the kernel to use updated packages.\n"
     ]
    }
   ],
   "source": [
    "%pip install --upgrade alacorder cython pandas numpy itables ipywidgets jupyter_nbextensions_configurator ipython jupyter PyPDF2 openpyxl xlrd xlwt selenium click matplotlib numexpr bottleneck xarray pyarrow"
   ]
  },
  {
   "cell_type": "code",
   "execution_count": 8,
   "id": "1ae14b32",
   "metadata": {
    "code_folding": [
     12,
     23
    ],
    "collapsed": true,
    "hide_input": true,
    "init_cell": true,
    "tags": [
     "#A"
    ]
   },
   "outputs": [],
   "source": [
    "## SETUP: MUST RUN CELL BEFORE USE. PRESS [SHIFT + RETURN] TO LOAD.\n",
    "import cython, os, sys, warnings, itables, ipywidgets, IPython.display; import pandas as pd; import pyximport; pyximport.install(); import alac\n",
    "warnings.filterwarnings('ignore')\n",
    "sys.tracebacklimit = 0\n",
    "\n",
    "query_path = ipywidgets.Text(description=\"Input Path:\", layout=ipywidgets.Layout(width='90%'), tooltip=\"Path to query template spreadsheet (list of names, etc. to search)\")\n",
    "output_dir = ipywidgets.Text(description=\"Output Path:\", layout=ipywidgets.Layout(width='90%'))\n",
    "cID = ipywidgets.Text(description=\"Customer ID: \")\n",
    "uID = ipywidgets.Text(description=\"User ID: \")\n",
    "pwd = ipywidgets.Password(description=\"Password: \")\n",
    "btn = ipywidgets.Button(description=\"Login\")\n",
    "\n",
    "def startFetch(*args):\n",
    "    global clicked, query_path, output_dir, cID, uID, pwd, btn\n",
    "    if os.path.isdir(output_dir.value) and os.path.isfile(query_path.value) and cID.value != \"\" and uID.value != \"\" and pwd.value != \"\":\n",
    "        return alac.fetch(query_path.value,output_dir.value,cID=cID.value, uID=uID.value, pwd=pwd.value)\n",
    "    else:\n",
    "        display(\"Ensure all fields are correctly filled, then try again.\")\n",
    "        return None\n",
    "\n",
    "oQueryTable = ipywidgets.Output()\n",
    "oQueryTable_hidden = True\n",
    "\n",
    "def viewQueryTable(*args):\n",
    "    global oQueryTable\n",
    "    global oQueryTable_hidden\n",
    "    if oQueryTable_hidden:\n",
    "        inputstab = \"\"\"<style> table {float:left} </style> <table> <thead> <tr> <th>Field</th> <th>Description</th> </tr> </thead> <tbody> <tr> <td><code>NAME</code></td> <td>Last Name First</td> </tr> <tr> <td><code>PARTY_TYPE</code></td> <td>Social Security Number (Optional)</td> </tr> <tr> <td><code>SSN</code></td> <td>Applies to civil cases only (Optional)</td> </tr> <tr> <td><code>DOB</code></td> <td>Date of Birth (M/DD/YYYY)</td> </tr> <tr> <td><code>COUNTY</code></td> <td>Select a county if not statewide</td> </tr> <tr> <td><code>DIVISION</code></td> <td>Select a division if not all divisions.</td> </tr> <tr> <td><code>CASE_YEAR</code></td> <td>Four digit case year to limit results</td> </tr> <tr> <td><code>FILED_BEFORE</code></td> <td>Do not include cases filed after M/DD/YYYY</td> </tr> <tr> <td><code>FILED_AFTER</code></td> <td>Do not include cases filed after M/DD/YYYY</td> </tr> </tbody> </table> \"\"\"\n",
    "        oQueryTable_hidden = False\n",
    "        with oQueryTable:\n",
    "            display(IPython.display.HTML(inputstab))\n",
    "    else:\n",
    "        oQueryTable.clear_output()\n",
    "        oQueryTable_hidden = True\n",
    "        pass\n",
    "\n",
    "alacfetchhead = \"\"\"<a id=\"fetch\"></a>\n",
    "<h2 id=\"collect-case-pdfs-in-bulk-from-alacourt-com-from-a-list-of-names-or-search-parameters-\">Collect case PDFs in bulk from Alacourt.com from a list of names or search parameters.</h2>\n",
    "<p><strong>Use column headers <code>NAME</code>, <code>PARTY_TYPE</code>, <code>SSN</code>, <code>DOB</code>, <code>COUNTY</code>, <code>DIVISION</code>, <code>CASE_YEAR</code>, and/or <code>FILED_BEFORE</code> in an Excel spreadsheet to submit a list of queries for Alacorder to scrape. Each column corresponds to a search field in Party Search. Missing columns and entries will be left empty, i.e. if only the <code>NAME</code>&#39;s and <code>CASE_YEAR</code>&#39;s are relevant to the search, a file with two columns will work.</strong></p>\n",
    "\"\"\"\n",
    "btn2 = ipywidgets.Button(description=\"Read more\")\n",
    "\n",
    "def showFetch(*args):\n",
    "    display(IPython.display.HTML(alacfetchhead))\n",
    "    display(btn2, oQueryTable)\n",
    "    btn2.on_click(viewQueryTable)\n",
    "    display(query_path) \n",
    "    display(output_dir) \n",
    "    display(cID)\n",
    "    display(uID)\n",
    "    display(pwd)\n",
    "    btn.on_click(startFetch)\n",
    "    display(btn)\n",
    "\n",
    "oQueryTable.clear_output()\n",
    "\n",
    "arc_title = IPython.display.HTML(\"\"\"<a id=\"arc\"></a>\n",
    "<h2 id=\"case-text-archives-require-a-fraction-of-the-storage-capacity-and-processing-time-used-to-process-pdf-directories-before-exporting-your-data-to-tables-create-an-archive-with-supported-file-extensions-pkl-xz-json-zip-parquet-and-csv-zip-\">Case text archives require a fraction of the storage capacity and processing time used to process PDF directories. Before exporting your data to tables, create an archive with supported file extensions  <code>.pkl.xz</code>, <code>.json(.zip)</code>, <code>.parquet</code> and <code>.csv(.zip)</code>.</h2>\n",
    "<p><strong>Once archived, use your case text archive as an input for multitable or single table export.</strong></p>\n",
    "\"\"\")\n",
    "arc_inpath = ipywidgets.Text(description=\"Input Path\", \n",
    "                            layout=ipywidgets.Layout(width='90%'), \n",
    "                            tooltip=\"Path to PDF directory\")\n",
    "\n",
    "arc_outpath = ipywidgets.Text(description=\"Output Path\", layout=ipywidgets.Layout(width='90%'))\n",
    "arc_count = ipywidgets.IntText(description=\"Set max count\", layout=ipywidgets.Layout(width='90%'))\n",
    "arc_overwrite = ipywidgets.Checkbox(description=\"Allow overwrite\")\n",
    "arc_dedupe = ipywidgets.Checkbox(description=\"Remove duplicates\")\n",
    "arc_compress = ipywidgets.Checkbox(description=\"ZIP export (must be .json, .csv)\")\n",
    "arc_btn = ipywidgets.Button(description=\"Start archiving\")\n",
    "\n",
    "def startArchive(*args):\n",
    "    global arc_title, arc_inpath, arc_outpath, arc_count, arc_overwrite, arc_btn\n",
    "    if arc_inpath.value.strip() != \"\" and arc_outpath.value.strip() != \"\":\n",
    "        return alac.setinit(arc_inpath.value, arc_outpath.value, archive=True, overwrite=arc_overwrite.value, jlog=True, no_batch=True)\n",
    "    else:\n",
    "        return None\n",
    "\n",
    "def showArchive():\n",
    "    global arc_title, arc_inpath, arc_outpath, arc_count, arc_overwrite, arc_dedupe, arc_compress, arc_btn\n",
    "    display(arc_title)\n",
    "    display(arc_inpath)\n",
    "    display(arc_outpath)\n",
    "    arc_chk = ipywidgets.HBox([arc_overwrite, arc_dedupe, arc_compress])\n",
    "    display(arc_chk)\n",
    "    display(arc_btn)\n",
    "    arc_btn.on_click(startArchive)\n",
    "    return None\n",
    "\n",
    "mtab_title = IPython.display.HTML(\"\"\"<a id=\"mtab\"></a>\n",
    "<h2 id=\"multitable-export-processes-case-detail-pdfs-and-case-text-archives-into-data-tables-suitable-for-research-purposes-export-an-excel-spreadsheet-with-detailed-cases-information-cases-fee-sheets-fees-and-charges-information-charges-disposition-filing-\">Multitable export processes case detail PDFs and case text archives into data tables suitable for research purposes. Export an Excel spreadsheet with detailed cases information (<code>cases</code>), fee sheets (<code>fees</code>), and charges information (<code>charges</code>, <code>disposition</code>, <code>filing</code>).</h2>\n",
    "<p><strong><em>Note: It is recommended that you create a case text archive from your target PDF directory before exporting tables. Case text archives can be processed into tables at a much faster rate and require far less storage.</em></strong></p>\"\"\")\n",
    "mtab_inpath = ipywidgets.Text(description=\"Input Path\", \n",
    "                        layout=ipywidgets.Layout(width='90%'), \n",
    "                        tooltip=\"Path to input directory or archive\")\n",
    "\n",
    "mtab_outpath = ipywidgets.Text(description=\"Output Path\", layout=ipywidgets.Layout(width='90%'))\n",
    "mtab_count = ipywidgets.IntText(\n",
    "    value=0,\n",
    "    min=0,\n",
    "    max=10000,\n",
    "    step=1,\n",
    "    description='Max count:',\n",
    "    orientation='horizontal',\n",
    "    readout=True,\n",
    "    readout_format='d'\n",
    ")\n",
    "mtab_overwrite = ipywidgets.Checkbox(description=\"Allow overwrite\")\n",
    "mtab_btn = ipywidgets.Button(description=\"Start export\")\n",
    "\n",
    "mtab_obox = ipywidgets.HBox([mtab_count, mtab_overwrite])\n",
    "def startMulti(*args):\n",
    "    global mtab_title, mtab_inpath, mtab_outpath, mtab_count, mtab_overwrite, mtab_btn\n",
    "    if mtab_inpath.value.strip() != \"\":\n",
    "        cf = alac.setpaths(mtab_inpath.value, mtab_outpath.value, overwrite=mtab_overwrite.value, jlog=True)\n",
    "        return alac.init(cf)\n",
    "    else:\n",
    "        return None\n",
    "\n",
    "def showMulti():\n",
    "    display(mtab_title)\n",
    "    display(mtab_obox)\n",
    "    display(mtab_inpath)\n",
    "    display(mtab_outpath)\n",
    "    mtab_btn.on_click(startMulti)\n",
    "    display(mtab_btn)\n",
    "    return None\n",
    "\n",
    "\n",
    "stab_title = IPython.display.HTML(\"\"\"<a id=\"stab\"></a>\n",
    "<h2 id=\"export-charges-including-disposition-only-and-filing-only-cases-or-fees-table-only-single-table-export-enables-file-types-without-support-for-multiple-sheets-this-mode-allows-export-to-csv-json-dta-xls-xlsx-pkl-and-parquet-files-\">Export <code>charges</code> (including <code>disposition</code> only and <code>filing</code> only), <code>cases</code>, or <code>fees</code> table only. Single table export enables file types without support for multiple sheets. This mode allows export to <code>.csv</code>, <code>.json</code>, <code>.dta</code>, <code>.xls</code>, <code>.xlsx</code>, <code>.pkl</code>, and <code>.parquet</code> files.</h2>\n",
    "<p><strong>Once archived, use your case text archive as an input for multitable or single table export.</strong></p>\"\"\")\n",
    "stab_inpath = ipywidgets.Text(description=\"Input Path\", \n",
    "                        layout=ipywidgets.Layout(width='90%'), \n",
    "                        tooltip=\"Path to input directory or archive\")\n",
    "stab_table = ipywidgets.RadioButtons(options=['cases', 'charges', 'disposition', 'filing', 'fees'],description='Table:')\n",
    "\n",
    "stab_outpath = ipywidgets.Text(description=\"Output Path\", layout=ipywidgets.Layout(width='90%'))\n",
    "stab_count = ipywidgets.IntText(\n",
    "    value=0,\n",
    "    min=0,\n",
    "    max=10000,\n",
    "    step=1,\n",
    "    description='Max count:',\n",
    "    orientation='horizontal',\n",
    "    readout=True,\n",
    "    readout_format='d'\n",
    ")\n",
    "stab_overwrite = ipywidgets.Checkbox(description=\"Allow overwrite\")\n",
    "stab_nobatch = ipywidgets.Checkbox(description=\"Don't split in batches\")\n",
    "stab_btn = ipywidgets.Button(description=\"Start export\")\n",
    "\n",
    "stab_obox = ipywidgets.HBox([stab_overwrite, stab_nobatch])\n",
    "\n",
    "def startSingle(*args):\n",
    "    global stab_title, stab_inpath, stab_outpath, stab_count, stab_overwrite, stab_btn\n",
    "    if stab_inpath.value.strip() != \"\":\n",
    "        return alac.setinit(stab_inpath.value, stab_outpath.value, table=stab_table.value, overwrite=stab_overwrite.value, no_batch=stab_nobatch.value, jlog=True)\n",
    "\n",
    "    else:\n",
    "        return None\n",
    "\n",
    "def showSingle():\n",
    "    display(stab_title)\n",
    "    display(stab_obox)\n",
    "    display(stab_inpath)\n",
    "    display(stab_outpath)\n",
    "    display(stab_table)\n",
    "    stab_btn.on_click(startSingle)\n",
    "    display(stab_btn)\n",
    "    return None"
   ]
  },
  {
   "cell_type": "markdown",
   "id": "227aba2b",
   "metadata": {
    "hide_input": false,
    "tags": []
   },
   "source": [
    "\n",
    "# `ALACORDER.ipynb` on jupyter (beta 76)\n",
    "\n",
    "<h2>Alacorder retrieves and processes case detail PDFs into data tables suitable for research purposes. </h2>\n",
    "\n",
    "----------------------\n",
    "\n",
    "<h3> In this notebook: </h3>\n",
    "\n",
    "### 1. `fetch` - Retrieve case detail PDFs in bulk from Alacourt.com\n",
    "### 2. `archive` - Create full text archives from PDF directory\n",
    "### 3. `multitable` - Export cases, charges, fees tables at once\n",
    "### 4. `singletable` - Export table choice from archive or directory\n",
    "\n",
    "\n",
    "-----------------------\n",
    "\n",
    "**This notebook can be used to interface with Alacorder directly. Once Alacorder is installed, launch Jupyter Notebook with the command line prompt `python3 -m jupyter notebook` or `python -m jupyter notebook`, then open `ALACORDER.ipynb` in the browser window that opens to begin. If your Python kernel is active and the notebook is trusted, Alacorder will load in this notebook automatically.**\n",
    "\n",
    "To install on Windows and Mac, open Command Prompt (Terminal) and enter `pip install alacorder` or `pip3 install alacorder`.\n",
    "On Mac, open the Terminal and enter `pip install alacorder` or `pip3 install alacorder`.\n",
    "Install Anaconda Distribution to install Alacorder if the above methods do not work, or if you would like to open an interactive browser notebook equipped with Alacorder on your desktop.\n",
    "After installation, create a virtual environment, open a terminal, and then repeat these instructions. If your copy of Alacorder is corrupted, use `pip uninstall alacorder` or `pip3 uninstall alacorder` and then reinstall it. There may be a newer version available.\n",
    "\n",
    "\n",
    "### Alacorder can run on most devices. If your device can run Python 3.7 or later, it can run Alacorder. The `fetch` tool for PDF retrieval requires an up-to-date installation of Google Chrome. \n",
    "\n"
   ]
  },
  {
   "cell_type": "markdown",
   "id": "c3d66fea",
   "metadata": {
    "hide_input": true
   },
   "source": [
    "---------------------\n",
    "\n",
    "# `fetch` - Retrieve case detail PDFs in bulk from Alacourt.com"
   ]
  },
  {
   "cell_type": "code",
   "execution_count": 3,
   "id": "a2a97810",
   "metadata": {
    "collapsed": true,
    "hide_input": true,
    "init_cell": true
   },
   "outputs": [
    {
     "data": {
      "text/html": [
       "<a id=\"fetch\"></a>\n",
       "<h2 id=\"collect-case-pdfs-in-bulk-from-alacourt-com-from-a-list-of-names-or-search-parameters-\">Collect case PDFs in bulk from Alacourt.com from a list of names or search parameters.</h2>\n",
       "<p><strong>Use column headers <code>NAME</code>, <code>PARTY_TYPE</code>, <code>SSN</code>, <code>DOB</code>, <code>COUNTY</code>, <code>DIVISION</code>, <code>CASE_YEAR</code>, and/or <code>FILED_BEFORE</code> in an Excel spreadsheet to submit a list of queries for Alacorder to scrape. Each column corresponds to a search field in Party Search. Missing columns and entries will be left empty, i.e. if only the <code>NAME</code>&#39;s and <code>CASE_YEAR</code>&#39;s are relevant to the search, a file with two columns will work.</strong></p>\n"
      ],
      "text/plain": [
       "<IPython.core.display.HTML object>"
      ]
     },
     "metadata": {},
     "output_type": "display_data"
    },
    {
     "data": {
      "application/vnd.jupyter.widget-view+json": {
       "model_id": "d56d48e132e3499abff5b5bbbcc975dd",
       "version_major": 2,
       "version_minor": 0
      },
      "text/plain": [
       "Button(description='Read more', style=ButtonStyle())"
      ]
     },
     "metadata": {},
     "output_type": "display_data"
    },
    {
     "data": {
      "application/vnd.jupyter.widget-view+json": {
       "model_id": "97fd100fabc148f7a27409f502473b97",
       "version_major": 2,
       "version_minor": 0
      },
      "text/plain": [
       "Output()"
      ]
     },
     "metadata": {},
     "output_type": "display_data"
    },
    {
     "data": {
      "application/vnd.jupyter.widget-view+json": {
       "model_id": "f3f52c333d0b4ad2ad80b3b781858308",
       "version_major": 2,
       "version_minor": 0
      },
      "text/plain": [
       "Text(value='', description='Input Path:', layout=Layout(width='90%'), tooltip='Path to query template spreadsh…"
      ]
     },
     "metadata": {},
     "output_type": "display_data"
    },
    {
     "data": {
      "application/vnd.jupyter.widget-view+json": {
       "model_id": "919d74bc50764f07ac1b09057f07bb0f",
       "version_major": 2,
       "version_minor": 0
      },
      "text/plain": [
       "Text(value='', description='Output Path:', layout=Layout(width='90%'))"
      ]
     },
     "metadata": {},
     "output_type": "display_data"
    },
    {
     "data": {
      "application/vnd.jupyter.widget-view+json": {
       "model_id": "c9d7c618d09e4d908ca722fab6587767",
       "version_major": 2,
       "version_minor": 0
      },
      "text/plain": [
       "Text(value='', description='Customer ID: ')"
      ]
     },
     "metadata": {},
     "output_type": "display_data"
    },
    {
     "data": {
      "application/vnd.jupyter.widget-view+json": {
       "model_id": "b0a583f25eaf46c08e68d1f91913e79c",
       "version_major": 2,
       "version_minor": 0
      },
      "text/plain": [
       "Text(value='', description='User ID: ')"
      ]
     },
     "metadata": {},
     "output_type": "display_data"
    },
    {
     "data": {
      "application/vnd.jupyter.widget-view+json": {
       "model_id": "9dd6eb7e790542cf8de96768bcaccae2",
       "version_major": 2,
       "version_minor": 0
      },
      "text/plain": [
       "Password(description='Password: ')"
      ]
     },
     "metadata": {},
     "output_type": "display_data"
    },
    {
     "data": {
      "application/vnd.jupyter.widget-view+json": {
       "model_id": "60c6611133f54d21b13d53c9bc8b5208",
       "version_major": 2,
       "version_minor": 0
      },
      "text/plain": [
       "Button(description='Login', style=ButtonStyle())"
      ]
     },
     "metadata": {},
     "output_type": "display_data"
    }
   ],
   "source": [
    "showFetch() # run cell if fetch options are not visible"
   ]
  },
  {
   "cell_type": "markdown",
   "id": "b492cac2",
   "metadata": {},
   "source": [
    "-----------------------------------\n",
    "\n",
    "# `multitable` - Export cases, charges, fees tables at once"
   ]
  },
  {
   "cell_type": "code",
   "execution_count": 4,
   "id": "2fb5dde1",
   "metadata": {
    "collapsed": true,
    "hide_input": true,
    "init_cell": true
   },
   "outputs": [
    {
     "data": {
      "text/html": [
       "<a id=\"mtab\"></a>\n",
       "<h2 id=\"multitable-export-processes-case-detail-pdfs-and-case-text-archives-into-data-tables-suitable-for-research-purposes-export-an-excel-spreadsheet-with-detailed-cases-information-cases-fee-sheets-fees-and-charges-information-charges-disposition-filing-\">Multitable export processes case detail PDFs and case text archives into data tables suitable for research purposes. Export an Excel spreadsheet with detailed cases information (<code>cases</code>), fee sheets (<code>fees</code>), and charges information (<code>charges</code>, <code>disposition</code>, <code>filing</code>).</h2>\n",
       "<p><strong><em>Note: It is recommended that you create a case text archive from your target PDF directory before exporting tables. Case text archives can be processed into tables at a much faster rate and require far less storage.</em></strong></p>"
      ],
      "text/plain": [
       "<IPython.core.display.HTML object>"
      ]
     },
     "metadata": {},
     "output_type": "display_data"
    },
    {
     "data": {
      "application/vnd.jupyter.widget-view+json": {
       "model_id": "6c2720029b9348cd9565d2176904c830",
       "version_major": 2,
       "version_minor": 0
      },
      "text/plain": [
       "HBox(children=(IntText(value=0, description='Max count:'), Checkbox(value=False, description='Allow overwrite'…"
      ]
     },
     "metadata": {},
     "output_type": "display_data"
    },
    {
     "data": {
      "application/vnd.jupyter.widget-view+json": {
       "model_id": "6dcadc4803954195943cca1a1a948436",
       "version_major": 2,
       "version_minor": 0
      },
      "text/plain": [
       "Text(value='', description='Input Path', layout=Layout(width='90%'), tooltip='Path to input directory or archi…"
      ]
     },
     "metadata": {},
     "output_type": "display_data"
    },
    {
     "data": {
      "application/vnd.jupyter.widget-view+json": {
       "model_id": "be1f7d91a17f45409bd5c5f37db18b11",
       "version_major": 2,
       "version_minor": 0
      },
      "text/plain": [
       "Text(value='', description='Output Path', layout=Layout(width='90%'))"
      ]
     },
     "metadata": {},
     "output_type": "display_data"
    },
    {
     "data": {
      "application/vnd.jupyter.widget-view+json": {
       "model_id": "1a5859cc987f45fba64db0447da6bba3",
       "version_major": 2,
       "version_minor": 0
      },
      "text/plain": [
       "Button(description='Start export', style=ButtonStyle())"
      ]
     },
     "metadata": {},
     "output_type": "display_data"
    }
   ],
   "source": [
    "showMulti() # run cell if multitable export options are not visible"
   ]
  },
  {
   "cell_type": "markdown",
   "id": "aff56a30",
   "metadata": {},
   "source": [
    "---------------------------------------------\n",
    "\n",
    "# `singletable` - Export table choice from archive or directory"
   ]
  },
  {
   "cell_type": "code",
   "execution_count": 5,
   "id": "471f2b87",
   "metadata": {
    "collapsed": true,
    "hide_input": true,
    "init_cell": true
   },
   "outputs": [
    {
     "data": {
      "text/html": [
       "<a id=\"stab\"></a>\n",
       "<h2 id=\"export-charges-including-disposition-only-and-filing-only-cases-or-fees-table-only-single-table-export-enables-file-types-without-support-for-multiple-sheets-this-mode-allows-export-to-csv-json-dta-xls-xlsx-pkl-and-parquet-files-\">Export <code>charges</code> (including <code>disposition</code> only and <code>filing</code> only), <code>cases</code>, or <code>fees</code> table only. Single table export enables file types without support for multiple sheets. This mode allows export to <code>.csv</code>, <code>.json</code>, <code>.dta</code>, <code>.xls</code>, <code>.xlsx</code>, <code>.pkl</code>, and <code>.parquet</code> files.</h2>\n",
       "<p><strong>Once archived, use your case text archive as an input for multitable or single table export.</strong></p>"
      ],
      "text/plain": [
       "<IPython.core.display.HTML object>"
      ]
     },
     "metadata": {},
     "output_type": "display_data"
    },
    {
     "data": {
      "application/vnd.jupyter.widget-view+json": {
       "model_id": "321061f5e1ed470d99225fa915d3f95b",
       "version_major": 2,
       "version_minor": 0
      },
      "text/plain": [
       "HBox(children=(Checkbox(value=False, description='Allow overwrite'), Checkbox(value=False, description=\"Don't …"
      ]
     },
     "metadata": {},
     "output_type": "display_data"
    },
    {
     "data": {
      "application/vnd.jupyter.widget-view+json": {
       "model_id": "432c983c38df4461b90d0ff6128b55b0",
       "version_major": 2,
       "version_minor": 0
      },
      "text/plain": [
       "Text(value='', description='Input Path', layout=Layout(width='90%'), tooltip='Path to input directory or archi…"
      ]
     },
     "metadata": {},
     "output_type": "display_data"
    },
    {
     "data": {
      "application/vnd.jupyter.widget-view+json": {
       "model_id": "0471ff07b9694d539de481817a02a445",
       "version_major": 2,
       "version_minor": 0
      },
      "text/plain": [
       "Text(value='', description='Output Path', layout=Layout(width='90%'))"
      ]
     },
     "metadata": {},
     "output_type": "display_data"
    },
    {
     "data": {
      "application/vnd.jupyter.widget-view+json": {
       "model_id": "31b888565c7f49508e8b13f27f6e40be",
       "version_major": 2,
       "version_minor": 0
      },
      "text/plain": [
       "RadioButtons(description='Table:', options=('cases', 'charges', 'disposition', 'filing', 'fees'), value='cases…"
      ]
     },
     "metadata": {},
     "output_type": "display_data"
    },
    {
     "data": {
      "application/vnd.jupyter.widget-view+json": {
       "model_id": "cecfe711f81641eeb6dd6056fbad7961",
       "version_major": 2,
       "version_minor": 0
      },
      "text/plain": [
       "Button(description='Start export', style=ButtonStyle())"
      ]
     },
     "metadata": {},
     "output_type": "display_data"
    }
   ],
   "source": [
    "showSingle() # run cell if single table options are not visible"
   ]
  },
  {
   "cell_type": "markdown",
   "id": "b32810b7",
   "metadata": {},
   "source": [
    "------------------------------------\n",
    "\n",
    "# `archive` - Create full text archives from PDF directory"
   ]
  },
  {
   "cell_type": "code",
   "execution_count": 6,
   "id": "16c63d5a",
   "metadata": {
    "collapsed": true,
    "hide_input": true,
    "init_cell": true
   },
   "outputs": [
    {
     "data": {
      "text/html": [
       "<a id=\"arc\"></a>\n",
       "<h2 id=\"case-text-archives-require-a-fraction-of-the-storage-capacity-and-processing-time-used-to-process-pdf-directories-before-exporting-your-data-to-tables-create-an-archive-with-supported-file-extensions-pkl-xz-json-zip-parquet-and-csv-zip-\">Case text archives require a fraction of the storage capacity and processing time used to process PDF directories. Before exporting your data to tables, create an archive with supported file extensions  <code>.pkl.xz</code>, <code>.json(.zip)</code>, <code>.parquet</code> and <code>.csv(.zip)</code>.</h2>\n",
       "<p><strong>Once archived, use your case text archive as an input for multitable or single table export.</strong></p>\n"
      ],
      "text/plain": [
       "<IPython.core.display.HTML object>"
      ]
     },
     "metadata": {},
     "output_type": "display_data"
    },
    {
     "data": {
      "application/vnd.jupyter.widget-view+json": {
       "model_id": "09af6f6c4b5e43179b318ad467705003",
       "version_major": 2,
       "version_minor": 0
      },
      "text/plain": [
       "Text(value='', description='Input Path', layout=Layout(width='90%'), tooltip='Path to PDF directory')"
      ]
     },
     "metadata": {},
     "output_type": "display_data"
    },
    {
     "data": {
      "application/vnd.jupyter.widget-view+json": {
       "model_id": "67d1958239d143bf997c631dddd58315",
       "version_major": 2,
       "version_minor": 0
      },
      "text/plain": [
       "Text(value='', description='Output Path', layout=Layout(width='90%'))"
      ]
     },
     "metadata": {},
     "output_type": "display_data"
    },
    {
     "data": {
      "application/vnd.jupyter.widget-view+json": {
       "model_id": "1a3a15090007486580c7291388ee3db8",
       "version_major": 2,
       "version_minor": 0
      },
      "text/plain": [
       "HBox(children=(Checkbox(value=False, description='Allow overwrite'), Checkbox(value=False, description='Remove…"
      ]
     },
     "metadata": {},
     "output_type": "display_data"
    },
    {
     "data": {
      "application/vnd.jupyter.widget-view+json": {
       "model_id": "2b67c8e805994e0eb283402830b3df01",
       "version_major": 2,
       "version_minor": 0
      },
      "text/plain": [
       "Button(description='Start archiving', style=ButtonStyle())"
      ]
     },
     "metadata": {},
     "output_type": "display_data"
    }
   ],
   "source": [
    "showArchive() # run cell if archive export options are not visible"
   ]
  }
 ],
 "metadata": {
  "celltoolbar": "Initialization Cell",
  "kernelspec": {
   "display_name": "Python 3 (ipykernel)",
   "language": "python",
   "name": "python3"
  },
  "language_info": {
   "codemirror_mode": {
    "name": "ipython",
    "version": 3
   },
   "file_extension": ".py",
   "mimetype": "text/x-python",
   "name": "python",
   "nbconvert_exporter": "python",
   "pygments_lexer": "ipython3",
   "version": "3.11.2"
  },
  "toc": {
   "base_numbering": 1,
   "nav_menu": {},
   "number_sections": true,
   "sideBar": true,
   "skip_h1_title": false,
   "title_cell": "Table of Contents",
   "title_sidebar": "Contents",
   "toc_cell": true,
   "toc_position": {},
   "toc_section_display": true,
   "toc_window_display": false
  }
 },
 "nbformat": 4,
 "nbformat_minor": 5
}
