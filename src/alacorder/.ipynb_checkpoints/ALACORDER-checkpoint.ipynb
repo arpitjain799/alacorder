{
 "cells": [
  {
   "cell_type": "markdown",
   "id": "b918bb46",
   "metadata": {},
   "source": [
    "**Click `Cell > Run All Cells` to start notebook interface.** If installation fails, unfreeze and run `%pip` cell below to install and/or update dependencies."
   ]
  },
  {
   "cell_type": "code",
   "execution_count": null,
   "id": "eaa47eef",
   "metadata": {
    "deletable": false,
    "editable": false,
    "hide_input": false,
    "run_control": {
     "frozen": true
    },
    "scrolled": false,
    "tags": []
   },
   "outputs": [],
   "source": [
    "%pip install --upgrade alacorder"
   ]
  },
  {
   "cell_type": "markdown",
   "id": "1bdeb04f",
   "metadata": {
    "hide_input": true
   },
   "source": [
    "\n",
    "# ALACORDER beta 76\n",
    "\n",
    "\n",
    "## Alacorder retrieves and processes case detail PDFs into data tables suitable for research purposes. Run all cells to install and start the `jupyter` interface.\n",
    "\n",
    "----------------------\n",
    "\n",
    "<h3> In this notebook: </h3>\n",
    "\n",
    "### 1. [`fetch`](#fetch---Retrieve-case-detail-PDFs-in-bulk-from-Alacourt.com) - Retrieve case detail PDFs in bulk from Alacourt.com\n",
    "### 2. [`archive`](#archive---Create-full-text-archives-from-PDF-directory) - Create full text archives from PDF directory\n",
    "### 3. [`multitable`](#multitable---Export-cases,-charges,-fees-tables-at-once) - Export cases, charges, fees tables at once\n",
    "### 4. [`singletable`](#singletable---Export-table-choice-from-archive-or-directory) - Export table choice from archive or directory\n",
    "\n",
    "\n",
    "-----------------------\n",
    "\n",
    "**This notebook can be used to interface with Alacorder directly. Once Alacorder is installed, launch Jupyter Notebook with the command line prompt `python3 -m jupyter notebook` or `python -m jupyter notebook`, then open `ALACORDER.ipynb` in the browser window that opens to begin. If your Python kernel is active and the notebook is trusted, Alacorder will load in this notebook automatically.**\n",
    "\n",
    "To install on Windows and Mac, open Command Prompt (Terminal) and enter `pip install alacorder` or `pip3 install alacorder`.\n",
    "On Mac, open the Terminal and enter `pip install alacorder` or `pip3 install alacorder`.\n",
    "Install Anaconda Distribution to install Alacorder if the above methods do not work, or if you would like to open an interactive browser notebook equipped with Alacorder on your desktop.\n",
    "After installation, create a virtual environment, open a terminal, and then repeat these instructions. If your copy of Alacorder is corrupted, use `pip uninstall alacorder` or `pip3 uninstall alacorder` and then reinstall it. There may be a newer version available.\n",
    "\n",
    "\n",
    "### Alacorder can run on most devices. If your device can run Python 3.7 or later, it can run Alacorder. The `fetch` tool for PDF retrieval requires an up-to-date installation of Google Chrome. \n",
    "\n"
   ]
  },
  {
   "cell_type": "code",
   "execution_count": 1,
   "id": "1ae14b32",
   "metadata": {
    "code_folding": [
     0
    ],
    "deletable": false,
    "editable": false,
    "hide_input": false,
    "init_cell": true
   },
   "outputs": [],
   "source": [
    "## SETUP: MUST RUN THIS CELL BEFORE USE. PRESS [SHIFT + RETURN] TO LOAD. \n",
    "import cython, os, sys, warnings, itables, ipywidgets, IPython.display; import pandas as pd; import pyximport; pyximport.install(); import alac\n",
    "warnings.filterwarnings('ignore'); sys.tracebacklimit = 0\n",
    "query_path = ipywidgets.Text(description=\"Input Path:\", layout=ipywidgets.Layout(width='95%'), tooltip=\"Path to query template spreadsheet (list of names, etc. to search)\")\n",
    "output_dir = ipywidgets.Text(description=\"Output Path:\", layout=ipywidgets.Layout(width='95%'))\n",
    "cID = ipywidgets.Text(description=\"Customer ID: \")\n",
    "uID = ipywidgets.Text(description=\"User ID: \")\n",
    "pwd = ipywidgets.Password(description=\"Password: \")\n",
    "btn = ipywidgets.Button(description=\"Login\")\n",
    "speed = ipywidgets.FloatText(description=\"Speed\", value=1, min=0.1, max=3, step=0.1, layout=ipywidgets.Layout(width='20%'))\n",
    "qskip = ipywidgets.IntText(description=\"Skip rows\", value=0, min=0, step=1, layout=ipywidgets.Layout(width='20%'))\n",
    "qmax = ipywidgets.IntText(description=\"Max rows\", value=0, min=0, step=1, layout=ipywidgets.Layout(width='20%'))\n",
    "fetch_opts = ipywidgets.HBox([speed, qskip, qmax], layout=ipywidgets.Layout(width='95%'))\n",
    "\n",
    "def startFetch(*args):\n",
    "    global clicked, query_path, output_dir, cID, uID, pwd, btn, speed, qskip, qmax\n",
    "    if os.path.isdir(output_dir.value) and os.path.isfile(query_path.value) and cID.value != \"\" and uID.value != \"\" and pwd.value != \"\":\n",
    "        if qskip.value > 0 and qmax.value > 0:\n",
    "            return alac.fetch(query_path.value,output_dir.value,cID=cID.value, uID=uID.value, pwd=pwd.value, speed=speed.value, qskip=qskip.value, qmax=qmax.value, jlog=True)\n",
    "        elif qskip.value > 0:\n",
    "            return alac.fetch(query_path.value,output_dir.value,cID=cID.value, uID=uID.value, pwd=pwd.value, speed=speed.value, qskip=qskip.value, jlog=True)\n",
    "        elif qmax.value > 0:\n",
    "            return alac.fetch(query_path.value,output_dir.value,cID=cID.value, uID=uID.value, pwd=pwd.value, speed=speed.value, qmax=qmax.value, jlog=True)\n",
    "        else:\n",
    "            return alac.fetch(query_path.value,output_dir.value,cID=cID.value, uID=uID.value, pwd=pwd.value, speed=speed.value, jlog=True)\n",
    "            \n",
    "\n",
    "    else:\n",
    "        display(\"Ensure all fields are correctly filled, then try again.\")\n",
    "        return None\n",
    "\n",
    "oQueryTable = ipywidgets.Output()\n",
    "oQueryTable_hidden = True\n",
    "\n",
    "def viewQueryTable(*args):\n",
    "    global oQueryTable\n",
    "    global oQueryTable_hidden\n",
    "    if oQueryTable_hidden:\n",
    "        inputstab = \"\"\"<style> table {float:left} </style> <table> <thead> <tr> <th>Field</th> <th>Description</th> </tr> </thead> <tbody> <tr> <td><code>NAME</code></td> <td>Last Name First</td> </tr> <tr> <td><code>PARTY_TYPE</code></td> <td>Social Security Number (Optional)</td> </tr> <tr> <td><code>SSN</code></td> <td>Applies to civil cases only (Optional)</td> </tr> <tr> <td><code>DOB</code></td> <td>Date of Birth (M/DD/YYYY)</td> </tr> <tr> <td><code>COUNTY</code></td> <td>Select a county if not statewide</td> </tr> <tr> <td><code>DIVISION</code></td> <td>Select a division if not all divisions.</td> </tr> <tr> <td><code>CASE_YEAR</code></td> <td>Four digit case year to limit results</td> </tr> <tr> <td><code>FILED_BEFORE</code></td> <td>Do not include cases filed after M/DD/YYYY</td> </tr> <tr> <td><code>FILED_AFTER</code></td> <td>Do not include cases filed after M/DD/YYYY</td> </tr> </tbody> </table> \"\"\"\n",
    "        oQueryTable_hidden = False\n",
    "        with oQueryTable:\n",
    "            display(IPython.display.HTML(inputstab))\n",
    "    else:\n",
    "        oQueryTable.clear_output()\n",
    "        oQueryTable_hidden = True\n",
    "        pass\n",
    "\n",
    "alacfetchhead = \"\"\"<a id=\"fetch\"></a>\n",
    "<h2 id=\"collect-case-pdfs-in-bulk-from-alacourt-com-from-a-list-of-names-or-search-parameters-\">Collect case PDFs in bulk from Alacourt.com from a list of names or search parameters.</h2>\n",
    "<p><strong>Use column headers <code>NAME</code>, <code>PARTY_TYPE</code>, <code>SSN</code>, <code>DOB</code>, <code>COUNTY</code>, <code>DIVISION</code>, <code>CASE_YEAR</code>, and/or <code>FILED_BEFORE</code> in an Excel spreadsheet to submit a list of queries for Alacorder to scrape. Each column corresponds to a search field in Party Search. Missing columns and entries will be left empty, i.e. if only the <code>NAME</code>&#39;s and <code>CASE_YEAR</code>&#39;s are relevant to the search, a file with two columns will work.</strong></p>\n",
    "\"\"\"\n",
    "btn2 = ipywidgets.Button(description=\"Read more\")\n",
    "\n",
    "def showFetch(*args):\n",
    "    display(IPython.display.HTML(alacfetchhead))\n",
    "    display(btn2, oQueryTable)\n",
    "    btn2.on_click(viewQueryTable)\n",
    "    display(fetch_opts)\n",
    "    display(query_path) \n",
    "    display(output_dir) \n",
    "    display(cID)\n",
    "    display(uID)\n",
    "    display(pwd)\n",
    "    btn.on_click(startFetch)\n",
    "    display(btn)\n",
    "\n",
    "oQueryTable.clear_output()\n",
    "\n",
    "arc_title = IPython.display.HTML(\"\"\"<a id=\"arc\"></a>\n",
    "<h2 id=\"case-text-archives-require-a-fraction-of-the-storage-capacity-and-processing-time-used-to-process-pdf-directories-before-exporting-your-data-to-tables-create-an-archive-with-supported-file-extensions-pkl-xz-json-zip-parquet-and-csv-zip-\">Case text archives require a fraction of the storage capacity and processing time used to process PDF directories. Before exporting your data to tables, create an archive with supported file extensions  <code>.pkl.xz</code>, <code>.json(.zip)</code>, <code>.parquet</code> and <code>.csv(.zip)</code>.</h2>\n",
    "<p><strong>Once archived, use your case text archive as an input for multitable or single table export.</strong></p>\n",
    "\"\"\")\n",
    "arc_inpath = ipywidgets.Text(description=\"Input Path\", \n",
    "                            layout=ipywidgets.Layout(width='95%'), \n",
    "                            tooltip=\"Path to PDF directory\")\n",
    "\n",
    "arc_outpath = ipywidgets.Text(description=\"Output Path\", layout=ipywidgets.Layout(width='95%'))\n",
    "arc_overwrite = ipywidgets.Checkbox(description=\"Allow overwrite\")\n",
    "arc_dedupe = ipywidgets.Checkbox(description=\"Remove duplicates\")\n",
    "arc_compress = ipywidgets.Checkbox(description=\"ZIP export (must be .json, .csv)\")\n",
    "arc_btn = ipywidgets.Button(description=\"Start archiving\")\n",
    "arc_count = ipywidgets.IntText(description=\"Max count\", value=0, min=0, step=1, layout=ipywidgets.Layout(width='20%'))\n",
    "\n",
    "def startArchive(*args):\n",
    "    global arc_title, arc_inpath, arc_outpath, arc_count, arc_overwrite, arc_btn\n",
    "    if arc_inpath.value.strip() != \"\" and arc_outpath.value.strip() != \"\":\n",
    "        return alac.setinit(arc_inpath.value, arc_outpath.value, archive=True, overwrite=arc_overwrite.value, jlog=True, no_batch=True, count=arc_count.value)\n",
    "    else:\n",
    "        return None\n",
    "\n",
    "def showArchive():\n",
    "    global arc_title, arc_inpath, arc_outpath, arc_count, arc_overwrite, arc_dedupe, arc_compress, arc_btn\n",
    "    display(arc_title)\n",
    "    display(arc_count)\n",
    "    display(arc_inpath)\n",
    "    display(arc_outpath)\n",
    "    arc_chk = ipywidgets.HBox([arc_overwrite, arc_dedupe, arc_compress])\n",
    "    display(arc_chk)\n",
    "    display(arc_btn)\n",
    "    arc_btn.on_click(startArchive)\n",
    "    return None\n",
    "\n",
    "mtab_title = IPython.display.HTML(\"\"\"<a id=\"mtab\"></a>\n",
    "<h2 id=\"multitable-export-processes-case-detail-pdfs-and-case-text-archives-into-data-tables-suitable-for-research-purposes-export-an-excel-spreadsheet-with-detailed-cases-information-cases-fee-sheets-fees-and-charges-information-charges-disposition-filing-\">Multitable export processes case detail PDFs and case text archives into data tables suitable for research purposes. Export an Excel spreadsheet with detailed cases information (<code>cases</code>), fee sheets (<code>fees</code>), and charges information (<code>charges</code>, <code>disposition</code>, <code>filing</code>).</h2>\n",
    "<p><strong><em>Note: It is recommended that you create a case text archive from your target PDF directory before exporting tables. Case text archives can be processed into tables at a much faster rate and require far less storage.</em></strong></p>\"\"\")\n",
    "mtab_inpath = ipywidgets.Text(description=\"Input Path\", \n",
    "                        layout=ipywidgets.Layout(width='95%'), \n",
    "                        tooltip=\"Path to input directory or archive\")\n",
    "\n",
    "mtab_outpath = ipywidgets.Text(description=\"Output Path\", layout=ipywidgets.Layout(width='95%'))\n",
    "mtab_count = ipywidgets.IntText(\n",
    "    value=0,\n",
    "    min=0,\n",
    "    max=10000,\n",
    "    step=1,\n",
    "    description='Max count:',\n",
    "    orientation='horizontal',\n",
    "    readout=True,\n",
    "    readout_format='d'\n",
    ")\n",
    "mtab_overwrite = ipywidgets.Checkbox(description=\"Allow overwrite\")\n",
    "mtab_btn = ipywidgets.Button(description=\"Start export\")\n",
    "mtab_nobatch = ipywidgets.Checkbox(description=\"Split in batches\")\n",
    "mtab_obox = ipywidgets.HBox([mtab_count, mtab_overwrite, mtab_nobatch])\n",
    "\n",
    "def startMulti(*args):\n",
    "    global mtab_title, mtab_inpath, mtab_outpath, mtab_count, mtab_overwrite, mtab_btn, mtab_nobatch\n",
    "    batchval = not mtab_nobatch.value\n",
    "    if mtab_inpath.value.strip() != \"\":\n",
    "        cf = alac.setpaths(mtab_inpath.value, mtab_outpath.value, overwrite=mtab_overwrite.value, jlog=False, no_batch=batchval)\n",
    "        return alac.init(cf)\n",
    "    else:\n",
    "        return None\n",
    "\n",
    "def showMulti():\n",
    "    display(mtab_title)\n",
    "    display(mtab_obox)\n",
    "    display(mtab_inpath)\n",
    "    display(mtab_outpath)\n",
    "    mtab_btn.on_click(startMulti)\n",
    "    display(mtab_btn)\n",
    "    return None\n",
    "\n",
    "\n",
    "stab_title = IPython.display.HTML(\"\"\"<a id=\"stab\"></a>\n",
    "<h2 id=\"export-charges-including-disposition-only-and-filing-only-cases-or-fees-table-only-single-table-export-enables-file-types-without-support-for-multiple-sheets-this-mode-allows-export-to-csv-json-dta-xls-xlsx-pkl-and-parquet-files-\">Export <code>charges</code> (including <code>disposition</code> only and <code>filing</code> only), <code>cases</code>, or <code>fees</code> table only. Single table export enables file types without support for multiple sheets. This mode allows export to <code>.csv</code>, <code>.json</code>, <code>.dta</code>, <code>.xls</code>, <code>.xlsx</code>, <code>.pkl</code>, and <code>.parquet</code> files.</h2>\n",
    "<p><strong>Once archived, use your case text archive as an input for multitable or single table export.</strong></p>\"\"\")\n",
    "stab_inpath = ipywidgets.Text(description=\"Input Path\", \n",
    "                        layout=ipywidgets.Layout(width='95%'), \n",
    "                        tooltip=\"Path to input directory or archive\")\n",
    "stab_table = ipywidgets.Dropdown(options=['cases', 'charges', 'disposition', 'filing', 'fees'],description='Table:',layout=ipywidgets.Layout(orientation='horizontal'))\n",
    "\n",
    "stab_outpath = ipywidgets.Text(description=\"Output Path\", layout=ipywidgets.Layout(width='95%'))\n",
    "stab_count = ipywidgets.IntText(\n",
    "    value=0,\n",
    "    min=0,\n",
    "    max=10000,\n",
    "    step=1,\n",
    "    description='Max count:',\n",
    "    orientation='horizontal',\n",
    "    readout=True,\n",
    "    readout_format='d'\n",
    ")\n",
    "stab_overwrite = ipywidgets.Checkbox(description=\"Allow overwrite\")\n",
    "stab_nobatch = ipywidgets.Checkbox(description=\"Split in batches\")\n",
    "stab_btn = ipywidgets.Button(description=\"Start export\")\n",
    "\n",
    "stab_obox = ipywidgets.HBox([stab_count, stab_overwrite, stab_nobatch])\n",
    "\n",
    "def startSingle(*args):\n",
    "    global stab_title, stab_inpath, stab_outpath, stab_count, stab_overwrite, stab_btn, stab_nobatch\n",
    "    batchval = not stab_nobatch.value\n",
    "    if stab_inpath.value.strip() != \"\":\n",
    "        return alac.setinit(stab_inpath.value, stab_outpath.value, table=stab_table.value, overwrite=stab_overwrite.value, no_batch=batchval, count=stab_count.value, jlog=True)\n",
    "    else:\n",
    "        return None\n",
    "\n",
    "def showSingle():\n",
    "    display(stab_title)\n",
    "    display(stab_obox)\n",
    "    display(stab_inpath)\n",
    "    display(stab_outpath)\n",
    "    display(stab_table)\n",
    "    stab_btn.on_click(startSingle)\n",
    "    display(stab_btn)\n",
    "    return None"
   ]
  },
  {
   "cell_type": "markdown",
   "id": "c3d66fea",
   "metadata": {
    "deletable": false,
    "editable": false,
    "hide_input": true,
    "run_control": {
     "frozen": true
    }
   },
   "source": [
    "---------------------\n",
    "\n",
    "# `fetch` - Retrieve case detail PDFs in bulk from Alacourt.com"
   ]
  },
  {
   "cell_type": "code",
   "execution_count": 2,
   "id": "a2a97810",
   "metadata": {
    "hide_input": true,
    "init_cell": true,
    "scrolled": false
   },
   "outputs": [
    {
     "data": {
      "text/html": [
       "<a id=\"fetch\"></a>\n",
       "<h2 id=\"collect-case-pdfs-in-bulk-from-alacourt-com-from-a-list-of-names-or-search-parameters-\">Collect case PDFs in bulk from Alacourt.com from a list of names or search parameters.</h2>\n",
       "<p><strong>Use column headers <code>NAME</code>, <code>PARTY_TYPE</code>, <code>SSN</code>, <code>DOB</code>, <code>COUNTY</code>, <code>DIVISION</code>, <code>CASE_YEAR</code>, and/or <code>FILED_BEFORE</code> in an Excel spreadsheet to submit a list of queries for Alacorder to scrape. Each column corresponds to a search field in Party Search. Missing columns and entries will be left empty, i.e. if only the <code>NAME</code>&#39;s and <code>CASE_YEAR</code>&#39;s are relevant to the search, a file with two columns will work.</strong></p>\n"
      ],
      "text/plain": [
       "<IPython.core.display.HTML object>"
      ]
     },
     "metadata": {},
     "output_type": "display_data"
    },
    {
     "data": {
      "application/vnd.jupyter.widget-view+json": {
       "model_id": "cd55a6a1b8234ad2b4542e8d8247a023",
       "version_major": 2,
       "version_minor": 0
      },
      "text/plain": [
       "Button(description='Read more', style=ButtonStyle())"
      ]
     },
     "metadata": {},
     "output_type": "display_data"
    },
    {
     "data": {
      "application/vnd.jupyter.widget-view+json": {
       "model_id": "3915132be94a4bfbbd9d5601c78b2449",
       "version_major": 2,
       "version_minor": 0
      },
      "text/plain": [
       "Output()"
      ]
     },
     "metadata": {},
     "output_type": "display_data"
    },
    {
     "data": {
      "application/vnd.jupyter.widget-view+json": {
       "model_id": "a445602aa9284caf8f97ef9689dd64d4",
       "version_major": 2,
       "version_minor": 0
      },
      "text/plain": [
       "HBox(children=(FloatText(value=1.0, description='Speed', layout=Layout(width='20%'), step=0.1), IntText(value=…"
      ]
     },
     "metadata": {},
     "output_type": "display_data"
    },
    {
     "data": {
      "application/vnd.jupyter.widget-view+json": {
       "model_id": "5b61a119c73e44ecbcec71e4b7585274",
       "version_major": 2,
       "version_minor": 0
      },
      "text/plain": [
       "Text(value='', description='Input Path:', layout=Layout(width='95%'), tooltip='Path to query template spreadsh…"
      ]
     },
     "metadata": {},
     "output_type": "display_data"
    },
    {
     "data": {
      "application/vnd.jupyter.widget-view+json": {
       "model_id": "3a7f879f91db41a39c05abd02e01856d",
       "version_major": 2,
       "version_minor": 0
      },
      "text/plain": [
       "Text(value='', description='Output Path:', layout=Layout(width='95%'))"
      ]
     },
     "metadata": {},
     "output_type": "display_data"
    },
    {
     "data": {
      "application/vnd.jupyter.widget-view+json": {
       "model_id": "ae9c652ba2344d9ebbdc39ed7ef58dbf",
       "version_major": 2,
       "version_minor": 0
      },
      "text/plain": [
       "Text(value='', description='Customer ID: ')"
      ]
     },
     "metadata": {},
     "output_type": "display_data"
    },
    {
     "data": {
      "application/vnd.jupyter.widget-view+json": {
       "model_id": "10688a0e62f64140b13076ffbbbdcf15",
       "version_major": 2,
       "version_minor": 0
      },
      "text/plain": [
       "Text(value='', description='User ID: ')"
      ]
     },
     "metadata": {},
     "output_type": "display_data"
    },
    {
     "data": {
      "application/vnd.jupyter.widget-view+json": {
       "model_id": "15e2dc1f0a394aac841e949c0e21d722",
       "version_major": 2,
       "version_minor": 0
      },
      "text/plain": [
       "Password(description='Password: ')"
      ]
     },
     "metadata": {},
     "output_type": "display_data"
    },
    {
     "data": {
      "application/vnd.jupyter.widget-view+json": {
       "model_id": "633cdbc529fc4cf4b1cfab082bbd69e4",
       "version_major": 2,
       "version_minor": 0
      },
      "text/plain": [
       "Button(description='Login', style=ButtonStyle())"
      ]
     },
     "metadata": {},
     "output_type": "display_data"
    }
   ],
   "source": [
    "showFetch() # run cell if fetch options are not visible"
   ]
  },
  {
   "cell_type": "markdown",
   "id": "b32810b7",
   "metadata": {
    "deletable": false,
    "editable": false,
    "run_control": {
     "frozen": true
    }
   },
   "source": [
    "------------------------------------\n",
    "\n",
    "# `archive` - Create full text archives from PDF directory"
   ]
  },
  {
   "cell_type": "code",
   "execution_count": 3,
   "id": "16c63d5a",
   "metadata": {
    "hide_input": true,
    "init_cell": true
   },
   "outputs": [
    {
     "data": {
      "text/html": [
       "<a id=\"arc\"></a>\n",
       "<h2 id=\"case-text-archives-require-a-fraction-of-the-storage-capacity-and-processing-time-used-to-process-pdf-directories-before-exporting-your-data-to-tables-create-an-archive-with-supported-file-extensions-pkl-xz-json-zip-parquet-and-csv-zip-\">Case text archives require a fraction of the storage capacity and processing time used to process PDF directories. Before exporting your data to tables, create an archive with supported file extensions  <code>.pkl.xz</code>, <code>.json(.zip)</code>, <code>.parquet</code> and <code>.csv(.zip)</code>.</h2>\n",
       "<p><strong>Once archived, use your case text archive as an input for multitable or single table export.</strong></p>\n"
      ],
      "text/plain": [
       "<IPython.core.display.HTML object>"
      ]
     },
     "metadata": {},
     "output_type": "display_data"
    },
    {
     "data": {
      "application/vnd.jupyter.widget-view+json": {
       "model_id": "cb42b8de681744f1a8f4faf1e70e6f3f",
       "version_major": 2,
       "version_minor": 0
      },
      "text/plain": [
       "IntText(value=0, description='Max count', layout=Layout(width='20%'))"
      ]
     },
     "metadata": {},
     "output_type": "display_data"
    },
    {
     "data": {
      "application/vnd.jupyter.widget-view+json": {
       "model_id": "ba4850c5b82b43599bcce6ac8d74d3b4",
       "version_major": 2,
       "version_minor": 0
      },
      "text/plain": [
       "Text(value='', description='Input Path', layout=Layout(width='95%'), tooltip='Path to PDF directory')"
      ]
     },
     "metadata": {},
     "output_type": "display_data"
    },
    {
     "data": {
      "application/vnd.jupyter.widget-view+json": {
       "model_id": "567a19c39fc94bba93b5c7b958190d48",
       "version_major": 2,
       "version_minor": 0
      },
      "text/plain": [
       "Text(value='', description='Output Path', layout=Layout(width='95%'))"
      ]
     },
     "metadata": {},
     "output_type": "display_data"
    },
    {
     "data": {
      "application/vnd.jupyter.widget-view+json": {
       "model_id": "56eabaf234bd42ac8ba51819c316515d",
       "version_major": 2,
       "version_minor": 0
      },
      "text/plain": [
       "HBox(children=(Checkbox(value=False, description='Allow overwrite'), Checkbox(value=False, description='Remove…"
      ]
     },
     "metadata": {},
     "output_type": "display_data"
    },
    {
     "data": {
      "application/vnd.jupyter.widget-view+json": {
       "model_id": "592ba5edd4374e818258473fc8840ffc",
       "version_major": 2,
       "version_minor": 0
      },
      "text/plain": [
       "Button(description='Start archiving', style=ButtonStyle())"
      ]
     },
     "metadata": {},
     "output_type": "display_data"
    }
   ],
   "source": [
    "showArchive() # run cell if archive export options are not visible"
   ]
  },
  {
   "cell_type": "markdown",
   "id": "b492cac2",
   "metadata": {
    "deletable": false,
    "editable": false,
    "run_control": {
     "frozen": true
    }
   },
   "source": [
    "-----------------------------------\n",
    "\n",
    "# `multitable` - Export cases, charges, fees tables at once"
   ]
  },
  {
   "cell_type": "code",
   "execution_count": 4,
   "id": "2fb5dde1",
   "metadata": {
    "hide_input": true,
    "init_cell": true
   },
   "outputs": [
    {
     "data": {
      "text/html": [
       "<a id=\"mtab\"></a>\n",
       "<h2 id=\"multitable-export-processes-case-detail-pdfs-and-case-text-archives-into-data-tables-suitable-for-research-purposes-export-an-excel-spreadsheet-with-detailed-cases-information-cases-fee-sheets-fees-and-charges-information-charges-disposition-filing-\">Multitable export processes case detail PDFs and case text archives into data tables suitable for research purposes. Export an Excel spreadsheet with detailed cases information (<code>cases</code>), fee sheets (<code>fees</code>), and charges information (<code>charges</code>, <code>disposition</code>, <code>filing</code>).</h2>\n",
       "<p><strong><em>Note: It is recommended that you create a case text archive from your target PDF directory before exporting tables. Case text archives can be processed into tables at a much faster rate and require far less storage.</em></strong></p>"
      ],
      "text/plain": [
       "<IPython.core.display.HTML object>"
      ]
     },
     "metadata": {},
     "output_type": "display_data"
    },
    {
     "data": {
      "application/vnd.jupyter.widget-view+json": {
       "model_id": "e55d1e8254ba40e4b9c93f885baf004d",
       "version_major": 2,
       "version_minor": 0
      },
      "text/plain": [
       "HBox(children=(IntText(value=0, description='Max count:'), Checkbox(value=False, description='Allow overwrite'…"
      ]
     },
     "metadata": {},
     "output_type": "display_data"
    },
    {
     "data": {
      "application/vnd.jupyter.widget-view+json": {
       "model_id": "42833904cc8d4216b04349e324886721",
       "version_major": 2,
       "version_minor": 0
      },
      "text/plain": [
       "Text(value='', description='Input Path', layout=Layout(width='95%'), tooltip='Path to input directory or archi…"
      ]
     },
     "metadata": {},
     "output_type": "display_data"
    },
    {
     "data": {
      "application/vnd.jupyter.widget-view+json": {
       "model_id": "bbd8a6dd8bc644928db29cbc1216170a",
       "version_major": 2,
       "version_minor": 0
      },
      "text/plain": [
       "Text(value='', description='Output Path', layout=Layout(width='95%'))"
      ]
     },
     "metadata": {},
     "output_type": "display_data"
    },
    {
     "data": {
      "application/vnd.jupyter.widget-view+json": {
       "model_id": "d34c8ea7264e43f998a3fb923d54a957",
       "version_major": 2,
       "version_minor": 0
      },
      "text/plain": [
       "Button(description='Start export', style=ButtonStyle())"
      ]
     },
     "metadata": {},
     "output_type": "display_data"
    }
   ],
   "source": [
    "showMulti() # run cell if multitable export options are not visible"
   ]
  },
  {
   "cell_type": "markdown",
   "id": "aff56a30",
   "metadata": {
    "deletable": false,
    "editable": false,
    "run_control": {
     "frozen": true
    }
   },
   "source": [
    "---------------------------------------------\n",
    "\n",
    "# `singletable` - Export table choice from archive or directory"
   ]
  },
  {
   "cell_type": "code",
   "execution_count": 5,
   "id": "471f2b87",
   "metadata": {
    "hide_input": true,
    "init_cell": true
   },
   "outputs": [
    {
     "data": {
      "text/html": [
       "<a id=\"stab\"></a>\n",
       "<h2 id=\"export-charges-including-disposition-only-and-filing-only-cases-or-fees-table-only-single-table-export-enables-file-types-without-support-for-multiple-sheets-this-mode-allows-export-to-csv-json-dta-xls-xlsx-pkl-and-parquet-files-\">Export <code>charges</code> (including <code>disposition</code> only and <code>filing</code> only), <code>cases</code>, or <code>fees</code> table only. Single table export enables file types without support for multiple sheets. This mode allows export to <code>.csv</code>, <code>.json</code>, <code>.dta</code>, <code>.xls</code>, <code>.xlsx</code>, <code>.pkl</code>, and <code>.parquet</code> files.</h2>\n",
       "<p><strong>Once archived, use your case text archive as an input for multitable or single table export.</strong></p>"
      ],
      "text/plain": [
       "<IPython.core.display.HTML object>"
      ]
     },
     "metadata": {},
     "output_type": "display_data"
    },
    {
     "data": {
      "application/vnd.jupyter.widget-view+json": {
       "model_id": "35d24dfbbac84070bcc9f107ab6c230d",
       "version_major": 2,
       "version_minor": 0
      },
      "text/plain": [
       "HBox(children=(IntText(value=0, description='Max count:'), Checkbox(value=False, description='Allow overwrite'…"
      ]
     },
     "metadata": {},
     "output_type": "display_data"
    },
    {
     "data": {
      "application/vnd.jupyter.widget-view+json": {
       "model_id": "67b00e0b75bd436e808dda14b1c83857",
       "version_major": 2,
       "version_minor": 0
      },
      "text/plain": [
       "Text(value='', description='Input Path', layout=Layout(width='95%'), tooltip='Path to input directory or archi…"
      ]
     },
     "metadata": {},
     "output_type": "display_data"
    },
    {
     "data": {
      "application/vnd.jupyter.widget-view+json": {
       "model_id": "5bf2f8fe32654fcdaf1ba38bb5b822c7",
       "version_major": 2,
       "version_minor": 0
      },
      "text/plain": [
       "Text(value='', description='Output Path', layout=Layout(width='95%'))"
      ]
     },
     "metadata": {},
     "output_type": "display_data"
    },
    {
     "data": {
      "application/vnd.jupyter.widget-view+json": {
       "model_id": "83d0dc44a56743a7b5e21ef930e25ddf",
       "version_major": 2,
       "version_minor": 0
      },
      "text/plain": [
       "Dropdown(description='Table:', options=('cases', 'charges', 'disposition', 'filing', 'fees'), value='cases')"
      ]
     },
     "metadata": {},
     "output_type": "display_data"
    },
    {
     "data": {
      "application/vnd.jupyter.widget-view+json": {
       "model_id": "65a6c4e101274c138c4f60db90730061",
       "version_major": 2,
       "version_minor": 0
      },
      "text/plain": [
       "Button(description='Start export', style=ButtonStyle())"
      ]
     },
     "metadata": {},
     "output_type": "display_data"
    }
   ],
   "source": [
    "showSingle() # run cell if single table options are not visible"
   ]
  },
  {
   "cell_type": "markdown",
   "id": "81cd8bae",
   "metadata": {
    "deletable": false,
    "editable": false,
    "run_control": {
     "frozen": true
    }
   },
   "source": [
    "© 2023 Sam Robson"
   ]
  },
  {
   "cell_type": "code",
   "execution_count": null,
   "id": "dfd2513f",
   "metadata": {},
   "outputs": [],
   "source": []
  }
 ],
 "metadata": {
  "kernelspec": {
   "display_name": "Python 3 (ipykernel)",
   "language": "python",
   "name": "python3"
  },
  "language_info": {
   "codemirror_mode": {
    "name": "ipython",
    "version": 3
   },
   "file_extension": ".py",
   "mimetype": "text/x-python",
   "name": "python",
   "nbconvert_exporter": "python",
   "pygments_lexer": "ipython3",
   "version": "3.10.8"
  },
  "toc": {
   "base_numbering": 1,
   "nav_menu": {},
   "number_sections": true,
   "sideBar": true,
   "skip_h1_title": false,
   "title_cell": "Table of Contents",
   "title_sidebar": "Contents",
   "toc_cell": true,
   "toc_position": {},
   "toc_section_display": true,
   "toc_window_display": false
  },
  "widgets": {
   "application/vnd.jupyter.widget-state+json": {
    "state": {
     "0054e1db6e9145a983d22895adef2670": {
      "model_module": "@jupyter-widgets/base",
      "model_module_version": "2.0.0",
      "model_name": "LayoutModel",
      "state": {}
     },
     "009453dd69e546f59ddc2448809cf8b9": {
      "model_module": "@jupyter-widgets/controls",
      "model_module_version": "2.0.0",
      "model_name": "TextStyleModel",
      "state": {
       "description_width": "",
       "font_size": null,
       "text_color": null
      }
     },
     "00c90be71094452abf5cb15f3ff20f2e": {
      "model_module": "@jupyter-widgets/base",
      "model_module_version": "2.0.0",
      "model_name": "LayoutModel",
      "state": {
       "width": "95%"
      }
     },
     "012bf92aabe94f8a880f6218823f9fea": {
      "model_module": "@jupyter-widgets/base",
      "model_module_version": "2.0.0",
      "model_name": "LayoutModel",
      "state": {
       "width": "95%"
      }
     },
     "013cddce10b34f73bb1126e0fd1dcea7": {
      "model_module": "@jupyter-widgets/base",
      "model_module_version": "2.0.0",
      "model_name": "LayoutModel",
      "state": {}
     },
     "02793879d99246d396a0b32e40c64fce": {
      "model_module": "@jupyter-widgets/controls",
      "model_module_version": "2.0.0",
      "model_name": "TextStyleModel",
      "state": {
       "description_width": "",
       "font_size": null,
       "text_color": null
      }
     },
     "027f8773d791442db97c5f7bfea0f8e6": {
      "model_module": "@jupyter-widgets/controls",
      "model_module_version": "2.0.0",
      "model_name": "CheckboxModel",
      "state": {
       "description": "Allow overwrite",
       "disabled": false,
       "layout": "IPY_MODEL_488dfa62b5e44ff188e76ebadb63b0a3",
       "style": "IPY_MODEL_7d75b1c875d64ad0ab06c56a6761fd0a",
       "value": false
      }
     },
     "0324124f592f4290beb94f7945fdefcb": {
      "model_module": "@jupyter-widgets/controls",
      "model_module_version": "2.0.0",
      "model_name": "HBoxModel",
      "state": {
       "children": [
        "IPY_MODEL_7556fa01f7944b5e8ee11a63bde00035",
        "IPY_MODEL_3f693b3416a04b628f151ad6ddf3c969",
        "IPY_MODEL_e620df624c2a456cb2492eddd4738aa9"
       ],
       "layout": "IPY_MODEL_3572d41a5a4640d09507a31e87e810e8"
      }
     },
     "03b78fe779e34da086dd69488360b179": {
      "model_module": "@jupyter-widgets/base",
      "model_module_version": "2.0.0",
      "model_name": "LayoutModel",
      "state": {
       "width": "95%"
      }
     },
     "03ecfd852400464fae2ef7784010d9f9": {
      "model_module": "@jupyter-widgets/controls",
      "model_module_version": "2.0.0",
      "model_name": "CheckboxModel",
      "state": {
       "description": "Allow overwrite",
       "disabled": false,
       "layout": "IPY_MODEL_e05ff5dec0be45fdb13959ae92aa7464",
       "style": "IPY_MODEL_f5055037d3e4400588a63e3f97ad79f9",
       "value": false
      }
     },
     "040a5c325a9647cf88e7afbf1b55ee99": {
      "model_module": "@jupyter-widgets/controls",
      "model_module_version": "2.0.0",
      "model_name": "IntTextModel",
      "state": {
       "description": "Max count:",
       "layout": "IPY_MODEL_bb4a7e35b81b44a1963557ebccb9b474",
       "step": 1,
       "style": "IPY_MODEL_c87c74a5a9e04e16a37363747bb4f246"
      }
     },
     "04b82e060a7a419686fe76244721c020": {
      "model_module": "@jupyter-widgets/controls",
      "model_module_version": "2.0.0",
      "model_name": "TextModel",
      "state": {
       "description": "Output Path",
       "layout": "IPY_MODEL_f2232ad9bf3644419d283a20e4216948",
       "style": "IPY_MODEL_c0ce6837baee42f491ac29c9b03b0c46"
      }
     },
     "0566b6017eac4ef784474792719cc34d": {
      "model_module": "@jupyter-widgets/controls",
      "model_module_version": "2.0.0",
      "model_name": "IntTextModel",
      "state": {
       "description": "Skip rows",
       "layout": "IPY_MODEL_4fbb5ecdc48244478dde00b9b648a520",
       "step": 1,
       "style": "IPY_MODEL_4c485ec04e6d44c0a66d2bdf78f6d80f"
      }
     },
     "05a9330d0c7847dbb24c7179c0076111": {
      "model_module": "@jupyter-widgets/base",
      "model_module_version": "2.0.0",
      "model_name": "LayoutModel",
      "state": {}
     },
     "0606d0923e4846b7894d8c72a2f86b18": {
      "model_module": "@jupyter-widgets/base",
      "model_module_version": "2.0.0",
      "model_name": "LayoutModel",
      "state": {
       "width": "95%"
      }
     },
     "06118cefdca3427d990d30407ff04af5": {
      "model_module": "@jupyter-widgets/controls",
      "model_module_version": "2.0.0",
      "model_name": "CheckboxModel",
      "state": {
       "description": "Remove duplicates",
       "disabled": false,
       "layout": "IPY_MODEL_09ff8b9f465f4139bf3eb37df9ca3c4d",
       "style": "IPY_MODEL_e79aaae317c448efab76bc3ce913ad08",
       "value": false
      }
     },
     "06265329a75c440fb32b49110caa199a": {
      "model_module": "@jupyter-widgets/controls",
      "model_module_version": "2.0.0",
      "model_name": "DescriptionStyleModel",
      "state": {
       "description_width": ""
      }
     },
     "065956b59f7c4db8a3d12124868abc31": {
      "model_module": "@jupyter-widgets/controls",
      "model_module_version": "2.0.0",
      "model_name": "ButtonStyleModel",
      "state": {
       "font_family": null,
       "font_size": null,
       "font_style": null,
       "font_variant": null,
       "font_weight": null,
       "text_color": null,
       "text_decoration": null
      }
     },
     "071f4ee7787c43498b85f5a9f5a20a79": {
      "model_module": "@jupyter-widgets/controls",
      "model_module_version": "2.0.0",
      "model_name": "CheckboxModel",
      "state": {
       "description": "Split in batches",
       "disabled": false,
       "layout": "IPY_MODEL_94799ef630164433a2bb59016d63e127",
       "style": "IPY_MODEL_8aef75ec8e1246d99cfbf555607b5e73",
       "value": false
      }
     },
     "0728e2fb6c5143e5b80a191dc6a2d940": {
      "model_module": "@jupyter-widgets/base",
      "model_module_version": "2.0.0",
      "model_name": "LayoutModel",
      "state": {
       "width": "95%"
      }
     },
     "076016a498924d1a9045d55e8fbc8314": {
      "model_module": "@jupyter-widgets/controls",
      "model_module_version": "2.0.0",
      "model_name": "CheckboxModel",
      "state": {
       "description": "Allow overwrite",
       "disabled": false,
       "layout": "IPY_MODEL_9ce2e4164cff4799b23cbab946dd3924",
       "style": "IPY_MODEL_f8d7bf59b35b494e9b69008fabf3613c",
       "value": false
      }
     },
     "0775a92c8cde44d48878f517085fedcd": {
      "model_module": "@jupyter-widgets/controls",
      "model_module_version": "2.0.0",
      "model_name": "TextStyleModel",
      "state": {
       "description_width": "",
       "font_size": null,
       "text_color": null
      }
     },
     "079f330a5e8547c7bec37d6f9b7cc4a7": {
      "model_module": "@jupyter-widgets/base",
      "model_module_version": "2.0.0",
      "model_name": "LayoutModel",
      "state": {
       "width": "95%"
      }
     },
     "085cdce78ce94fe7b1fe3ad2489047b8": {
      "model_module": "@jupyter-widgets/base",
      "model_module_version": "2.0.0",
      "model_name": "LayoutModel",
      "state": {}
     },
     "085f35356f5c468ab1dfbac29baf0798": {
      "model_module": "@jupyter-widgets/controls",
      "model_module_version": "2.0.0",
      "model_name": "TextModel",
      "state": {
       "description": "Input Path",
       "layout": "IPY_MODEL_2a67a529bbb64e428a7407710f5dfe43",
       "style": "IPY_MODEL_6c42776c8c0c43a5a35c56968833cc8e",
       "tooltip": "Path to input directory or archive"
      }
     },
     "08a5d7c74bc149e6bf624419a29ea70d": {
      "model_module": "@jupyter-widgets/base",
      "model_module_version": "2.0.0",
      "model_name": "LayoutModel",
      "state": {
       "width": "20%"
      }
     },
     "08e2c14703744543981fbb4c27814c21": {
      "model_module": "@jupyter-widgets/base",
      "model_module_version": "2.0.0",
      "model_name": "LayoutModel",
      "state": {}
     },
     "08f6b9b7f82c49269fc5baf85180a940": {
      "model_module": "@jupyter-widgets/controls",
      "model_module_version": "2.0.0",
      "model_name": "CheckboxModel",
      "state": {
       "description": "Split in batches",
       "disabled": false,
       "layout": "IPY_MODEL_556106578fe84445b981b14522310fc2",
       "style": "IPY_MODEL_8ac051fd9e7948d9843b7359cca39b99",
       "value": false
      }
     },
     "0900c8b4d6db4ed48db6ca643afde2ca": {
      "model_module": "@jupyter-widgets/controls",
      "model_module_version": "2.0.0",
      "model_name": "HTMLModel",
      "state": {
       "layout": "IPY_MODEL_8da07bb0648e45c7b675a20f33c36545",
       "style": "IPY_MODEL_9da20c2c5867400ea506775ffb8631b4",
       "value": "Fee Sheets: 100%"
      }
     },
     "092bfdfdc79845bab7933af58fa74142": {
      "model_module": "@jupyter-widgets/controls",
      "model_module_version": "2.0.0",
      "model_name": "CheckboxStyleModel",
      "state": {
       "description_width": ""
      }
     },
     "09675cd23fa84cf0b3acb51611f38fbb": {
      "model_module": "@jupyter-widgets/base",
      "model_module_version": "2.0.0",
      "model_name": "LayoutModel",
      "state": {}
     },
     "096b32adbdc54369a8071fc34a392045": {
      "model_module": "@jupyter-widgets/base",
      "model_module_version": "2.0.0",
      "model_name": "LayoutModel",
      "state": {
       "width": "95%"
      }
     },
     "09da88145dd747469760b4f3b1989054": {
      "model_module": "@jupyter-widgets/base",
      "model_module_version": "2.0.0",
      "model_name": "LayoutModel",
      "state": {}
     },
     "09ff8b9f465f4139bf3eb37df9ca3c4d": {
      "model_module": "@jupyter-widgets/base",
      "model_module_version": "2.0.0",
      "model_name": "LayoutModel",
      "state": {}
     },
     "0a217106dd09440cb78796698c5a4b0d": {
      "model_module": "@jupyter-widgets/controls",
      "model_module_version": "2.0.0",
      "model_name": "PasswordModel",
      "state": {
       "description": "Password: ",
       "layout": "IPY_MODEL_6abb28972d4d4303b012891c4335629e",
       "style": "IPY_MODEL_275670a03788466a9ed13462f2a602ed"
      }
     },
     "0a3805d8237d4404834625f893e7b09c": {
      "model_module": "@jupyter-widgets/controls",
      "model_module_version": "2.0.0",
      "model_name": "ButtonStyleModel",
      "state": {
       "font_family": null,
       "font_size": null,
       "font_style": null,
       "font_variant": null,
       "font_weight": null,
       "text_color": null,
       "text_decoration": null
      }
     },
     "0a79b3b6c5bc47579372a4d4194fbbcd": {
      "model_module": "@jupyter-widgets/base",
      "model_module_version": "2.0.0",
      "model_name": "LayoutModel",
      "state": {
       "width": "95%"
      }
     },
     "0a86ba22e2a0433d9ee3ec33d5740854": {
      "model_module": "@jupyter-widgets/base",
      "model_module_version": "2.0.0",
      "model_name": "LayoutModel",
      "state": {
       "width": "95%"
      }
     },
     "0a8e7a592ddb4384bcb42072a0e19c97": {
      "model_module": "@jupyter-widgets/base",
      "model_module_version": "2.0.0",
      "model_name": "LayoutModel",
      "state": {
       "width": "20%"
      }
     },
     "0b3353dea1014ef49e99f1887dcbadbe": {
      "model_module": "@jupyter-widgets/base",
      "model_module_version": "2.0.0",
      "model_name": "LayoutModel",
      "state": {}
     },
     "0be1c8d034ab4484a350db76a8cf2187": {
      "model_module": "@jupyter-widgets/base",
      "model_module_version": "2.0.0",
      "model_name": "LayoutModel",
      "state": {}
     },
     "0beea1909eca429dbda4545c3bfdaea7": {
      "model_module": "@jupyter-widgets/base",
      "model_module_version": "2.0.0",
      "model_name": "LayoutModel",
      "state": {}
     },
     "0befa370c1c8456a8b047b0004e11b1e": {
      "model_module": "@jupyter-widgets/controls",
      "model_module_version": "2.0.0",
      "model_name": "TextModel",
      "state": {
       "description": "Input Path",
       "layout": "IPY_MODEL_5dab4daf4fb9478a906671c5419fe83a",
       "style": "IPY_MODEL_5292bc8c10e74624859be478368e251b",
       "tooltip": "Path to input directory or archive"
      }
     },
     "0befbff6acf8408dbb6724931f0e0b0d": {
      "model_module": "@jupyter-widgets/base",
      "model_module_version": "2.0.0",
      "model_name": "LayoutModel",
      "state": {
       "width": "95%"
      }
     },
     "0ca5838d077d4d93abb67d5ee403e44d": {
      "model_module": "@jupyter-widgets/base",
      "model_module_version": "2.0.0",
      "model_name": "LayoutModel",
      "state": {}
     },
     "0d4736aac401448d91a03310dbf48d44": {
      "model_module": "@jupyter-widgets/controls",
      "model_module_version": "2.0.0",
      "model_name": "ButtonModel",
      "state": {
       "description": "Login",
       "layout": "IPY_MODEL_d4af6a0174e9402485af2e126d6bf785",
       "style": "IPY_MODEL_97e1a4f5ee6448b6852510df5f83ddbb",
       "tooltip": null
      }
     },
     "0d8051ed3ec64723b6509bc8a78fe194": {
      "model_module": "@jupyter-widgets/base",
      "model_module_version": "2.0.0",
      "model_name": "LayoutModel",
      "state": {
       "width": "20%"
      }
     },
     "0d81518fbc8f4e96b4f94aa8fde1bff9": {
      "model_module": "@jupyter-widgets/base",
      "model_module_version": "2.0.0",
      "model_name": "LayoutModel",
      "state": {}
     },
     "0d868d0284d14769a93c86ca517b80d9": {
      "model_module": "@jupyter-widgets/controls",
      "model_module_version": "2.0.0",
      "model_name": "DescriptionStyleModel",
      "state": {
       "description_width": ""
      }
     },
     "0d965727185349ae95f54b973624dcfa": {
      "model_module": "@jupyter-widgets/controls",
      "model_module_version": "2.0.0",
      "model_name": "ButtonModel",
      "state": {
       "description": "Start archiving",
       "layout": "IPY_MODEL_ab1cb1afb28f4d0fadbd10a708aac8f9",
       "style": "IPY_MODEL_cebb8d002ae34acd9513efba35e2c567",
       "tooltip": null
      }
     },
     "0d9b55083f3a4a868390dac3e1ba560f": {
      "model_module": "@jupyter-widgets/base",
      "model_module_version": "2.0.0",
      "model_name": "LayoutModel",
      "state": {
       "width": "95%"
      }
     },
     "0e25e104201742d8bc6c204c6574ede6": {
      "model_module": "@jupyter-widgets/controls",
      "model_module_version": "2.0.0",
      "model_name": "CheckboxModel",
      "state": {
       "description": "ZIP export (must be .json, .csv)",
       "disabled": false,
       "layout": "IPY_MODEL_15e7c33fff9345c9898119e50f346b5a",
       "style": "IPY_MODEL_0f784f44d3b645939206fa572bd0eb5d",
       "value": false
      }
     },
     "0ed0b192e0e14091ae8d0bc4df3bb3e3": {
      "model_module": "@jupyter-widgets/controls",
      "model_module_version": "2.0.0",
      "model_name": "DescriptionStyleModel",
      "state": {
       "description_width": ""
      }
     },
     "0f784f44d3b645939206fa572bd0eb5d": {
      "model_module": "@jupyter-widgets/controls",
      "model_module_version": "2.0.0",
      "model_name": "CheckboxStyleModel",
      "state": {
       "description_width": ""
      }
     },
     "0f84efbee87f48e2b26d6319619c18cc": {
      "model_module": "@jupyter-widgets/controls",
      "model_module_version": "2.0.0",
      "model_name": "DescriptionStyleModel",
      "state": {
       "description_width": ""
      }
     },
     "1028ab0a1e924950a4c1e863c03878d0": {
      "model_module": "@jupyter-widgets/controls",
      "model_module_version": "2.0.0",
      "model_name": "CheckboxStyleModel",
      "state": {
       "description_width": ""
      }
     },
     "106763a9380b4263ac0d4c9fb25abf79": {
      "model_module": "@jupyter-widgets/controls",
      "model_module_version": "2.0.0",
      "model_name": "HBoxModel",
      "state": {
       "children": [
        "IPY_MODEL_5ea82222ab7f49c7b3a8aa3d2b7a3e67",
        "IPY_MODEL_d458da1ea39340b69db7b1c20b780a6d",
        "IPY_MODEL_96c78806b3f04240b16bfeacdb029141"
       ],
       "layout": "IPY_MODEL_fb202374d9c44fc085ac11e0179bdb4d"
      }
     },
     "10688a0e62f64140b13076ffbbbdcf15": {
      "model_module": "@jupyter-widgets/controls",
      "model_module_version": "2.0.0",
      "model_name": "TextModel",
      "state": {
       "description": "User ID: ",
       "layout": "IPY_MODEL_f56ee795260e42c5a121d6d84aeba4ad",
       "style": "IPY_MODEL_817df94e97fa48d2a2cc6279fcea8449"
      }
     },
     "106ba11cd1a44263a89e4c289ceef15d": {
      "model_module": "@jupyter-widgets/controls",
      "model_module_version": "2.0.0",
      "model_name": "HBoxModel",
      "state": {
       "children": [
        "IPY_MODEL_69137eaf6835431da1ce41bed9c22866",
        "IPY_MODEL_ed482d8287b04c5ea0b38556c9f4d6f9",
        "IPY_MODEL_f638a7f3bddc433997e979e1cb188a40"
       ],
       "layout": "IPY_MODEL_013cddce10b34f73bb1126e0fd1dcea7"
      }
     },
     "10b6141b4a0b4dbf84de78f7dfbdf598": {
      "model_module": "@jupyter-widgets/controls",
      "model_module_version": "2.0.0",
      "model_name": "DescriptionStyleModel",
      "state": {
       "description_width": ""
      }
     },
     "10c907c83531481798e0e000c12d9d93": {
      "model_module": "@jupyter-widgets/base",
      "model_module_version": "2.0.0",
      "model_name": "LayoutModel",
      "state": {}
     },
     "10d892efea5a423e9c996430d00888fe": {
      "model_module": "@jupyter-widgets/controls",
      "model_module_version": "2.0.0",
      "model_name": "DescriptionStyleModel",
      "state": {
       "description_width": ""
      }
     },
     "10e53bfe385c4c0f8fb335863204d99d": {
      "model_module": "@jupyter-widgets/controls",
      "model_module_version": "2.0.0",
      "model_name": "ButtonStyleModel",
      "state": {
       "font_family": null,
       "font_size": null,
       "font_style": null,
       "font_variant": null,
       "font_weight": null,
       "text_color": null,
       "text_decoration": null
      }
     },
     "11b2f7b33c374fe4b0053a0f2072d34a": {
      "model_module": "@jupyter-widgets/base",
      "model_module_version": "2.0.0",
      "model_name": "LayoutModel",
      "state": {}
     },
     "12f4b7cfaa8e47618b02354e7606f4ae": {
      "model_module": "@jupyter-widgets/controls",
      "model_module_version": "2.0.0",
      "model_name": "TextStyleModel",
      "state": {
       "description_width": "",
       "font_size": null,
       "text_color": null
      }
     },
     "1348adb7f67b4cd5bc93900e20d2b48f": {
      "model_module": "@jupyter-widgets/controls",
      "model_module_version": "2.0.0",
      "model_name": "IntTextModel",
      "state": {
       "description": "Max rows",
       "layout": "IPY_MODEL_d132c2451c3d4368835a3a7a5567cd8c",
       "step": 1,
       "style": "IPY_MODEL_538b1c3220ce4869953523606cc791ab"
      }
     },
     "1362d1557c4a48fbbe2fdb6fd677fc9f": {
      "model_module": "@jupyter-widgets/controls",
      "model_module_version": "2.0.0",
      "model_name": "TextStyleModel",
      "state": {
       "description_width": "",
       "font_size": null,
       "text_color": null
      }
     },
     "13d3bfd2335b4771a6821ebb0aca0be8": {
      "model_module": "@jupyter-widgets/controls",
      "model_module_version": "2.0.0",
      "model_name": "ButtonStyleModel",
      "state": {
       "font_family": null,
       "font_size": null,
       "font_style": null,
       "font_variant": null,
       "font_weight": null,
       "text_color": null,
       "text_decoration": null
      }
     },
     "13f328d48db34d5488e18b7b0a76f99b": {
      "model_module": "@jupyter-widgets/base",
      "model_module_version": "2.0.0",
      "model_name": "LayoutModel",
      "state": {}
     },
     "14becdba791c4622964c5533eae08b09": {
      "model_module": "@jupyter-widgets/controls",
      "model_module_version": "2.0.0",
      "model_name": "ButtonStyleModel",
      "state": {
       "font_family": null,
       "font_size": null,
       "font_style": null,
       "font_variant": null,
       "font_weight": null,
       "text_color": null,
       "text_decoration": null
      }
     },
     "15e2dc1f0a394aac841e949c0e21d722": {
      "model_module": "@jupyter-widgets/controls",
      "model_module_version": "2.0.0",
      "model_name": "PasswordModel",
      "state": {
       "description": "Password: ",
       "layout": "IPY_MODEL_5b5e479db88c461a811c205c86f9c4b1",
       "style": "IPY_MODEL_dd24041e28214a57bed926b7420a8f17"
      }
     },
     "15e7c33fff9345c9898119e50f346b5a": {
      "model_module": "@jupyter-widgets/base",
      "model_module_version": "2.0.0",
      "model_name": "LayoutModel",
      "state": {}
     },
     "1675a97f484c4ca28da8e7d96f033ea0": {
      "model_module": "@jupyter-widgets/base",
      "model_module_version": "2.0.0",
      "model_name": "LayoutModel",
      "state": {}
     },
     "173477d42bd2483a8a53893f9e99ac49": {
      "model_module": "@jupyter-widgets/base",
      "model_module_version": "2.0.0",
      "model_name": "LayoutModel",
      "state": {
       "width": "95%"
      }
     },
     "176587d81d244717abbb271dadb816dc": {
      "model_module": "@jupyter-widgets/controls",
      "model_module_version": "2.0.0",
      "model_name": "TextModel",
      "state": {
       "description": "User ID: ",
       "layout": "IPY_MODEL_fc7dcc6150c54b3fa51d0a45874576bc",
       "style": "IPY_MODEL_4a4dcffc69ce42cc8d5afcff5ecb450d"
      }
     },
     "17918f8b4ed04ab1be5c1101ba20f099": {
      "model_module": "@jupyter-widgets/base",
      "model_module_version": "2.0.0",
      "model_name": "LayoutModel",
      "state": {
       "width": "20%"
      }
     },
     "17d4befb163c45bbbbe065bedd34e250": {
      "model_module": "@jupyter-widgets/controls",
      "model_module_version": "2.0.0",
      "model_name": "TextModel",
      "state": {
       "description": "User ID: ",
       "layout": "IPY_MODEL_f2abf144bbe84ffbb7e16062de8c65f3",
       "style": "IPY_MODEL_20ec2fab853846b2acca8917c63f1453"
      }
     },
     "1811d79b2a5d4dc682203bd5221d10f4": {
      "model_module": "@jupyter-widgets/controls",
      "model_module_version": "2.0.0",
      "model_name": "DescriptionStyleModel",
      "state": {
       "description_width": ""
      }
     },
     "1823bbe710724ab694584369d589226a": {
      "model_module": "@jupyter-widgets/controls",
      "model_module_version": "2.0.0",
      "model_name": "CheckboxModel",
      "state": {
       "description": "ZIP export (must be .json, .csv)",
       "disabled": false,
       "layout": "IPY_MODEL_f1710f3beb694c40bc30595ab0754eb1",
       "style": "IPY_MODEL_718a923c11514143888764d165391e7f",
       "value": false
      }
     },
     "1866e75b32ab4a5e915a8ed214ccfa7a": {
      "model_module": "@jupyter-widgets/base",
      "model_module_version": "2.0.0",
      "model_name": "LayoutModel",
      "state": {}
     },
     "19054c9bda464a5cb4c11866a9250cb8": {
      "model_module": "@jupyter-widgets/base",
      "model_module_version": "2.0.0",
      "model_name": "LayoutModel",
      "state": {}
     },
     "1929d07ed1cd4262ba827a4bd4483b5e": {
      "model_module": "@jupyter-widgets/controls",
      "model_module_version": "2.0.0",
      "model_name": "TextModel",
      "state": {
       "description": "Input Path",
       "layout": "IPY_MODEL_c2b4fa3e130c4ed9ab8929ad72452190",
       "style": "IPY_MODEL_b080b04916a24dcd8d41192c0b05eea0",
       "tooltip": "Path to input directory or archive",
       "value": "/Users/samuelrobson/Desktop/test"
      }
     },
     "1948d8e8485c48bfabce0566295ad6eb": {
      "model_module": "@jupyter-widgets/base",
      "model_module_version": "2.0.0",
      "model_name": "LayoutModel",
      "state": {}
     },
     "199ce2676ad140efbfdc4711a8a8b381": {
      "model_module": "@jupyter-widgets/controls",
      "model_module_version": "2.0.0",
      "model_name": "ProgressStyleModel",
      "state": {
       "description_width": ""
      }
     },
     "19b2354b411949e3afefb5eb9ae11fc9": {
      "model_module": "@jupyter-widgets/controls",
      "model_module_version": "2.0.0",
      "model_name": "TextStyleModel",
      "state": {
       "description_width": "",
       "font_size": null,
       "text_color": null
      }
     },
     "19c6e98d011a49a3b109fce48cd44cb8": {
      "model_module": "@jupyter-widgets/controls",
      "model_module_version": "2.0.0",
      "model_name": "HTMLModel",
      "state": {
       "layout": "IPY_MODEL_4f2a2b9c0a3c4710ad73ad3f12c4b429",
       "style": "IPY_MODEL_a3b32a68bb164bdbaaadf4ff768d5c3e",
       "value": " 368/368 [00:10&lt;00:00, 30.76it/s]"
      }
     },
     "1a1d1d280e4742b9b161fb8c706bce4a": {
      "model_module": "@jupyter-widgets/controls",
      "model_module_version": "2.0.0",
      "model_name": "HBoxModel",
      "state": {
       "children": [
        "IPY_MODEL_040a5c325a9647cf88e7afbf1b55ee99",
        "IPY_MODEL_027f8773d791442db97c5f7bfea0f8e6",
        "IPY_MODEL_c32a7da23d4143d9aa950988d3574719"
       ],
       "layout": "IPY_MODEL_4ca3461ea4c949be98f06d66a56ae04b"
      }
     },
     "1a6a15ad1231448b8531c1b27018a081": {
      "model_module": "@jupyter-widgets/controls",
      "model_module_version": "2.0.0",
      "model_name": "ButtonStyleModel",
      "state": {
       "font_family": null,
       "font_size": null,
       "font_style": null,
       "font_variant": null,
       "font_weight": null,
       "text_color": null,
       "text_decoration": null
      }
     },
     "1ab2e864644142808951127b1ec2e6c5": {
      "model_module": "@jupyter-widgets/controls",
      "model_module_version": "2.0.0",
      "model_name": "TextStyleModel",
      "state": {
       "description_width": "",
       "font_size": null,
       "text_color": null
      }
     },
     "1ae014cd701848b7864f244c1ff2f872": {
      "model_module": "@jupyter-widgets/base",
      "model_module_version": "2.0.0",
      "model_name": "LayoutModel",
      "state": {}
     },
     "1bd6b271f8a94f9fb3fb50b9873c8d6b": {
      "model_module": "@jupyter-widgets/controls",
      "model_module_version": "2.0.0",
      "model_name": "ButtonModel",
      "state": {
       "description": "Login",
       "layout": "IPY_MODEL_6986e9390bd2450683050c7b16f0bc47",
       "style": "IPY_MODEL_dbdcc7f3dfe64a97975a3a6e16e103b7",
       "tooltip": null
      }
     },
     "1be792f1bf824a5c98d09109b4645bcf": {
      "model_module": "@jupyter-widgets/controls",
      "model_module_version": "2.0.0",
      "model_name": "DescriptionStyleModel",
      "state": {
       "description_width": ""
      }
     },
     "1bf83a400bc347d7ad02ec340b06f2dc": {
      "model_module": "@jupyter-widgets/controls",
      "model_module_version": "2.0.0",
      "model_name": "CheckboxModel",
      "state": {
       "description": "Remove duplicates",
       "disabled": false,
       "layout": "IPY_MODEL_9d2dfac3062d4cd4a303f3650c811c27",
       "style": "IPY_MODEL_e42e13f3367e4d21be43d0c5c5693ba3",
       "value": false
      }
     },
     "1c79c3a2f3aa4d04afb11ec5c2608daa": {
      "model_module": "@jupyter-widgets/controls",
      "model_module_version": "2.0.0",
      "model_name": "TextModel",
      "state": {
       "description": "Output Path",
       "layout": "IPY_MODEL_fdfb303b79554374a03a00982d3287f0",
       "style": "IPY_MODEL_628f5f4a80fb49d2a55bac85a7ffff7b"
      }
     },
     "1cb58dc5442e4b50a59f083ac9dfdfe3": {
      "model_module": "@jupyter-widgets/base",
      "model_module_version": "2.0.0",
      "model_name": "LayoutModel",
      "state": {}
     },
     "1cdba2682f5245c0ab8e3d2598019113": {
      "model_module": "@jupyter-widgets/controls",
      "model_module_version": "2.0.0",
      "model_name": "TextStyleModel",
      "state": {
       "description_width": "",
       "font_size": null,
       "text_color": null
      }
     },
     "1d354d250776490fa11e4a8f33c93bd9": {
      "model_module": "@jupyter-widgets/base",
      "model_module_version": "2.0.0",
      "model_name": "LayoutModel",
      "state": {}
     },
     "1d59a8226e4749c7bacb44acdcf23d0f": {
      "model_module": "@jupyter-widgets/controls",
      "model_module_version": "2.0.0",
      "model_name": "IntTextModel",
      "state": {
       "description": "Max rows",
       "layout": "IPY_MODEL_a32f062a1cca47b99fc061b640c830ff",
       "step": 1,
       "style": "IPY_MODEL_fbff14437a1140d08a0a1816752aa54b"
      }
     },
     "1e4f41c02f7548aa979b409f4b7d1e05": {
      "model_module": "@jupyter-widgets/base",
      "model_module_version": "2.0.0",
      "model_name": "LayoutModel",
      "state": {}
     },
     "1e7cdc61d5b64d38b0694be1fbecd6e5": {
      "model_module": "@jupyter-widgets/controls",
      "model_module_version": "2.0.0",
      "model_name": "ButtonModel",
      "state": {
       "description": "Start export",
       "layout": "IPY_MODEL_0ca5838d077d4d93abb67d5ee403e44d",
       "style": "IPY_MODEL_ec70fbed61ff4c25ad2eb1ece96d8b75",
       "tooltip": null
      }
     },
     "1fce524ff60b40b1a6a581bc392bddf5": {
      "model_module": "@jupyter-widgets/controls",
      "model_module_version": "2.0.0",
      "model_name": "DescriptionStyleModel",
      "state": {
       "description_width": ""
      }
     },
     "203199c1771647d88d06eda22f59c74a": {
      "model_module": "@jupyter-widgets/controls",
      "model_module_version": "2.0.0",
      "model_name": "IntTextModel",
      "state": {
       "description": "Max count",
       "layout": "IPY_MODEL_f8b9730672a14f59b66089dca6eccdf2",
       "step": 1,
       "style": "IPY_MODEL_0d868d0284d14769a93c86ca517b80d9"
      }
     },
     "20571541046644b3beffd2a17bf0a1f8": {
      "model_module": "@jupyter-widgets/base",
      "model_module_version": "2.0.0",
      "model_name": "LayoutModel",
      "state": {}
     },
     "2065d641b6e24815ae81cc139351fb6a": {
      "model_module": "@jupyter-widgets/controls",
      "model_module_version": "2.0.0",
      "model_name": "TextModel",
      "state": {
       "description": "Output Path",
       "layout": "IPY_MODEL_0befbff6acf8408dbb6724931f0e0b0d",
       "style": "IPY_MODEL_c9596b71bedf47cdaa7d5e4f600f2aca"
      }
     },
     "20ec2fab853846b2acca8917c63f1453": {
      "model_module": "@jupyter-widgets/controls",
      "model_module_version": "2.0.0",
      "model_name": "TextStyleModel",
      "state": {
       "description_width": "",
       "font_size": null,
       "text_color": null
      }
     },
     "21233d5ac8f240b1a95db0d831ab53a9": {
      "model_module": "@jupyter-widgets/base",
      "model_module_version": "2.0.0",
      "model_name": "LayoutModel",
      "state": {
       "width": "20%"
      }
     },
     "212d8af38e0c4090b51151008996c73f": {
      "model_module": "@jupyter-widgets/controls",
      "model_module_version": "2.0.0",
      "model_name": "IntTextModel",
      "state": {
       "description": "Max count:",
       "layout": "IPY_MODEL_b43b24e7bb3b4fa284427fe2d860510c",
       "step": 1,
       "style": "IPY_MODEL_9821d9f61846448e92104dd9e4543b5e"
      }
     },
     "2184adbdf5184f04a913f55072c56f98": {
      "model_module": "@jupyter-widgets/controls",
      "model_module_version": "2.0.0",
      "model_name": "CheckboxStyleModel",
      "state": {
       "description_width": ""
      }
     },
     "2192ac8dfda6478aa9a2146745d1d80f": {
      "model_module": "@jupyter-widgets/base",
      "model_module_version": "2.0.0",
      "model_name": "LayoutModel",
      "state": {}
     },
     "21f63790af124a42bf107d6e4213393a": {
      "model_module": "@jupyter-widgets/controls",
      "model_module_version": "2.0.0",
      "model_name": "TextModel",
      "state": {
       "description": "Output Path",
       "layout": "IPY_MODEL_62ebd1923f454cb8afb7462fe4d6be87",
       "style": "IPY_MODEL_ee4d9c0fd41f4620ace4c6006ab7082c"
      }
     },
     "2224380b88ed4e1a99ef6d3926a900be": {
      "model_module": "@jupyter-widgets/controls",
      "model_module_version": "2.0.0",
      "model_name": "CheckboxStyleModel",
      "state": {
       "description_width": ""
      }
     },
     "22386d014bbe4fc78f826bd6544b3048": {
      "model_module": "@jupyter-widgets/base",
      "model_module_version": "2.0.0",
      "model_name": "LayoutModel",
      "state": {}
     },
     "22462bd65f694f9ea024983bae6e9664": {
      "model_module": "@jupyter-widgets/controls",
      "model_module_version": "2.0.0",
      "model_name": "TextModel",
      "state": {
       "description": "Output Path",
       "layout": "IPY_MODEL_ec780267c3c746f4b27d7c8aae13ce95",
       "style": "IPY_MODEL_74e8994189b3410ba51de6fdd56cd630",
       "value": "/Users/samuelrobson/Desktop/outs.xlsx"
      }
     },
     "226acd435c254027a8cc1fcec9573633": {
      "model_module": "@jupyter-widgets/base",
      "model_module_version": "2.0.0",
      "model_name": "LayoutModel",
      "state": {}
     },
     "226b9af9b27e42df9812f10ed8f41376": {
      "model_module": "@jupyter-widgets/controls",
      "model_module_version": "2.0.0",
      "model_name": "FloatTextModel",
      "state": {
       "description": "Speed",
       "layout": "IPY_MODEL_f4500a4f99da4985b7eb0c30112405c0",
       "step": 0.1,
       "style": "IPY_MODEL_0f84efbee87f48e2b26d6319619c18cc",
       "value": 1
      }
     },
     "22e70612c8e747aa8d31e5a5c3cb1274": {
      "model_module": "@jupyter-widgets/controls",
      "model_module_version": "2.0.0",
      "model_name": "TextModel",
      "state": {
       "description": "Input Path",
       "layout": "IPY_MODEL_35e793e8099644a7b8b1f77701669107",
       "style": "IPY_MODEL_e69c3d9546134f68ba2ffe988706c7f7",
       "tooltip": "Path to PDF directory"
      }
     },
     "2408057a97c442a993a55f73023ca84b": {
      "model_module": "@jupyter-widgets/controls",
      "model_module_version": "2.0.0",
      "model_name": "TextModel",
      "state": {
       "description": "Customer ID: ",
       "layout": "IPY_MODEL_09da88145dd747469760b4f3b1989054",
       "style": "IPY_MODEL_5d3cdf879cc24b87b9c904ed94c20101"
      }
     },
     "24622969c9cc4b1e9b0050b3785c3ff4": {
      "model_module": "@jupyter-widgets/controls",
      "model_module_version": "2.0.0",
      "model_name": "CheckboxStyleModel",
      "state": {
       "description_width": ""
      }
     },
     "24b2146bcaaf4fef8cbacaa761a93205": {
      "model_module": "@jupyter-widgets/base",
      "model_module_version": "2.0.0",
      "model_name": "LayoutModel",
      "state": {
       "width": "95%"
      }
     },
     "24df9aa12d8a4d43a927545c03ad8856": {
      "model_module": "@jupyter-widgets/controls",
      "model_module_version": "2.0.0",
      "model_name": "ProgressStyleModel",
      "state": {
       "description_width": ""
      }
     },
     "24fe0e501a724e5f8fd0313510e318ba": {
      "model_module": "@jupyter-widgets/controls",
      "model_module_version": "2.0.0",
      "model_name": "TextStyleModel",
      "state": {
       "description_width": "",
       "font_size": null,
       "text_color": null
      }
     },
     "2516b52c595d4f4cb5915bda9f434e1e": {
      "model_module": "@jupyter-widgets/controls",
      "model_module_version": "2.0.0",
      "model_name": "IntTextModel",
      "state": {
       "description": "Max count:",
       "layout": "IPY_MODEL_1866e75b32ab4a5e915a8ed214ccfa7a",
       "step": 1,
       "style": "IPY_MODEL_9aa743eb90524d62abab0452dc276ab0"
      }
     },
     "26cc9f055f22440e9353cd20f26877e0": {
      "model_module": "@jupyter-widgets/controls",
      "model_module_version": "2.0.0",
      "model_name": "ButtonStyleModel",
      "state": {
       "font_family": null,
       "font_size": null,
       "font_style": null,
       "font_variant": null,
       "font_weight": null,
       "text_color": null,
       "text_decoration": null
      }
     },
     "26f13428b40e485484a607db052ff266": {
      "model_module": "@jupyter-widgets/base",
      "model_module_version": "2.0.0",
      "model_name": "LayoutModel",
      "state": {}
     },
     "27178207e630445293b369ce054f4a01": {
      "model_module": "@jupyter-widgets/controls",
      "model_module_version": "2.0.0",
      "model_name": "CheckboxModel",
      "state": {
       "description": "Split in batches",
       "disabled": false,
       "layout": "IPY_MODEL_5050cc2d993a4457b35a5cf52a067a1e",
       "style": "IPY_MODEL_b4327741e50d45d481c82c7c147e5697",
       "value": false
      }
     },
     "275670a03788466a9ed13462f2a602ed": {
      "model_module": "@jupyter-widgets/controls",
      "model_module_version": "2.0.0",
      "model_name": "TextStyleModel",
      "state": {
       "description_width": "",
       "font_size": null,
       "text_color": null
      }
     },
     "27f46f1548e7494993f481b04fe73729": {
      "model_module": "@jupyter-widgets/controls",
      "model_module_version": "2.0.0",
      "model_name": "ButtonModel",
      "state": {
       "description": "Read more",
       "layout": "IPY_MODEL_fd35280553fd46aa8e1835c41ae44219",
       "style": "IPY_MODEL_7cf39f96f229446ebe6ea6f596447396",
       "tooltip": null
      }
     },
     "27fefe06f0b14fb88e6a8285ceaaa832": {
      "model_module": "@jupyter-widgets/controls",
      "model_module_version": "2.0.0",
      "model_name": "TextStyleModel",
      "state": {
       "description_width": "",
       "font_size": null,
       "text_color": null
      }
     },
     "286e8984ef4145dc8ca7577b1037fda1": {
      "model_module": "@jupyter-widgets/controls",
      "model_module_version": "2.0.0",
      "model_name": "HTMLStyleModel",
      "state": {
       "description_width": "",
       "font_size": null,
       "text_color": null
      }
     },
     "28f1d267ebf04f49bf7e60e60f8f714a": {
      "model_module": "@jupyter-widgets/controls",
      "model_module_version": "2.0.0",
      "model_name": "TextStyleModel",
      "state": {
       "description_width": "",
       "font_size": null,
       "text_color": null
      }
     },
     "2999d0ba7e6f48a48bc87b15d37f50bb": {
      "model_module": "@jupyter-widgets/base",
      "model_module_version": "2.0.0",
      "model_name": "LayoutModel",
      "state": {
       "width": "95%"
      }
     },
     "29b6f721596f4e548b844cd9bba1f469": {
      "model_module": "@jupyter-widgets/controls",
      "model_module_version": "2.0.0",
      "model_name": "HBoxModel",
      "state": {
       "children": [
        "IPY_MODEL_eed82a3d03254365bfd79962497e1c38",
        "IPY_MODEL_ab8bb5b27a5d4e4094c5e474f589b130",
        "IPY_MODEL_c8621b8d1c4449a7ad55a3741956b8a4"
       ],
       "layout": "IPY_MODEL_8d9cc130bf7a4435888f2e2e8389093d"
      }
     },
     "29dd79e3cede4fe79d51efbb2ebdd2b8": {
      "model_module": "@jupyter-widgets/controls",
      "model_module_version": "2.0.0",
      "model_name": "TextModel",
      "state": {
       "description": "Output Path",
       "layout": "IPY_MODEL_7939c36927584278ab21e66b2810cfb9",
       "style": "IPY_MODEL_865834dc40cb4ab88910cc1d16c22cbf",
       "value": "/Users/samuelrobson/Desktop/out.2.xlsx"
      }
     },
     "2a1c54113f4a4aa1a259d7bc6f67d962": {
      "model_module": "@jupyter-widgets/controls",
      "model_module_version": "2.0.0",
      "model_name": "ButtonModel",
      "state": {
       "description": "Start archiving",
       "layout": "IPY_MODEL_429dd257ef0445bcb23903cd15f3e87b",
       "style": "IPY_MODEL_13d3bfd2335b4771a6821ebb0aca0be8",
       "tooltip": null
      }
     },
     "2a67a529bbb64e428a7407710f5dfe43": {
      "model_module": "@jupyter-widgets/base",
      "model_module_version": "2.0.0",
      "model_name": "LayoutModel",
      "state": {
       "width": "95%"
      }
     },
     "2af1ddcc05484072af2007b39330e03b": {
      "model_module": "@jupyter-widgets/controls",
      "model_module_version": "2.0.0",
      "model_name": "CheckboxStyleModel",
      "state": {
       "description_width": ""
      }
     },
     "2b40be885a434d9bb13e34cd1f65d4bb": {
      "model_module": "@jupyter-widgets/controls",
      "model_module_version": "2.0.0",
      "model_name": "DescriptionStyleModel",
      "state": {
       "description_width": ""
      }
     },
     "2b9e3a36007a4a5bac924f0728a997c2": {
      "model_module": "@jupyter-widgets/controls",
      "model_module_version": "2.0.0",
      "model_name": "TextModel",
      "state": {
       "description": "User ID: ",
       "layout": "IPY_MODEL_67fc8c5ba3454eb082f496f8b69ed278",
       "style": "IPY_MODEL_b299582de11f461298b1516a7ff238e5"
      }
     },
     "2ba2213322ea4dcfb300b615e338d1c5": {
      "model_module": "@jupyter-widgets/controls",
      "model_module_version": "2.0.0",
      "model_name": "HTMLModel",
      "state": {
       "layout": "IPY_MODEL_1948d8e8485c48bfabce0566295ad6eb",
       "style": "IPY_MODEL_8865f66164f740adba17a9933e6de560",
       "value": " 169/368 [00:25&lt;00:36,  5.48it/s]"
      }
     },
     "2babf810554749528dc43bf8b0d1ef8d": {
      "model_module": "@jupyter-widgets/controls",
      "model_module_version": "2.0.0",
      "model_name": "TextStyleModel",
      "state": {
       "description_width": "",
       "font_size": null,
       "text_color": null
      }
     },
     "2c1caa299053460d96e2baf67586b0ab": {
      "model_module": "@jupyter-widgets/controls",
      "model_module_version": "2.0.0",
      "model_name": "IntTextModel",
      "state": {
       "description": "Max rows",
       "layout": "IPY_MODEL_6eebb8887daf41cea7d372a90d39866e",
       "step": 1,
       "style": "IPY_MODEL_82cea713e8514d8dabf6eb578474c99a"
      }
     },
     "2c842ae484cd4ea189b7f4ac9dbc4a29": {
      "model_module": "@jupyter-widgets/controls",
      "model_module_version": "2.0.0",
      "model_name": "CheckboxModel",
      "state": {
       "description": "Allow overwrite",
       "disabled": false,
       "layout": "IPY_MODEL_08e2c14703744543981fbb4c27814c21",
       "style": "IPY_MODEL_c77678482e2d4f8f9b1b4a4764f0c37d",
       "value": false
      }
     },
     "2c86e47ffe8c47a1a605dbb52618ccf6": {
      "model_module": "@jupyter-widgets/controls",
      "model_module_version": "2.0.0",
      "model_name": "CheckboxModel",
      "state": {
       "description": "Split in batches",
       "disabled": false,
       "layout": "IPY_MODEL_64f13f1d7cdf442b98ccacb0c43ce26f",
       "style": "IPY_MODEL_32e5744b431949dba86741bda132b34c",
       "value": false
      }
     },
     "2cc3b5540e0d4049ace31f851354e560": {
      "model_module": "@jupyter-widgets/controls",
      "model_module_version": "2.0.0",
      "model_name": "TextStyleModel",
      "state": {
       "description_width": "",
       "font_size": null,
       "text_color": null
      }
     },
     "2da5134e7e004bdc855dc8089a8c82b3": {
      "model_module": "@jupyter-widgets/controls",
      "model_module_version": "2.0.0",
      "model_name": "TextStyleModel",
      "state": {
       "description_width": "",
       "font_size": null,
       "text_color": null
      }
     },
     "2dae514eb488434289c04bf54f72dcaa": {
      "model_module": "@jupyter-widgets/controls",
      "model_module_version": "2.0.0",
      "model_name": "FloatProgressModel",
      "state": {
       "bar_style": "danger",
       "layout": "IPY_MODEL_78492c56c91f430da1ec1f97c3db7fef",
       "max": 368,
       "style": "IPY_MODEL_f9774f81552a4302858ef546825338e1",
       "value": 169
      }
     },
     "2dcd798bce4d4f4bbd58fbbe0d8fb4b6": {
      "model_module": "@jupyter-widgets/controls",
      "model_module_version": "2.0.0",
      "model_name": "CheckboxStyleModel",
      "state": {
       "description_width": ""
      }
     },
     "2ddfa3cdc43749369a634f63b0cdb3f0": {
      "model_module": "@jupyter-widgets/base",
      "model_module_version": "2.0.0",
      "model_name": "LayoutModel",
      "state": {}
     },
     "2e57cd24449747478b3d6a15338821aa": {
      "model_module": "@jupyter-widgets/controls",
      "model_module_version": "2.0.0",
      "model_name": "TextModel",
      "state": {
       "description": "Output Path",
       "layout": "IPY_MODEL_f0189f7365754666bfd28219537e4ca0",
       "style": "IPY_MODEL_12f4b7cfaa8e47618b02354e7606f4ae"
      }
     },
     "2ee2f9f4b33c445a9638f4ae44871bc8": {
      "model_module": "@jupyter-widgets/controls",
      "model_module_version": "2.0.0",
      "model_name": "CheckboxModel",
      "state": {
       "description": "Allow overwrite",
       "disabled": false,
       "layout": "IPY_MODEL_388fcd9e9c1a49e0bb997553058dd5fc",
       "style": "IPY_MODEL_b535a299d3f7493a89c32232bf496e98",
       "value": false
      }
     },
     "2f323bc6c0ba4a6f8d9d63e6c546edab": {
      "model_module": "@jupyter-widgets/controls",
      "model_module_version": "2.0.0",
      "model_name": "TextStyleModel",
      "state": {
       "description_width": "",
       "font_size": null,
       "text_color": null
      }
     },
     "2f9796a08edc436db1b5b88982436df3": {
      "model_module": "@jupyter-widgets/controls",
      "model_module_version": "2.0.0",
      "model_name": "CheckboxStyleModel",
      "state": {
       "description_width": ""
      }
     },
     "2faf8ed6d2c9474b94d3269bbf530d63": {
      "model_module": "@jupyter-widgets/base",
      "model_module_version": "2.0.0",
      "model_name": "LayoutModel",
      "state": {
       "width": "95%"
      }
     },
     "2fd4569321bd462aa3d3558d45c896ae": {
      "model_module": "@jupyter-widgets/controls",
      "model_module_version": "2.0.0",
      "model_name": "TextModel",
      "state": {
       "description": "User ID: ",
       "layout": "IPY_MODEL_cea3659f98d4430ebba6477c165d84a8",
       "style": "IPY_MODEL_4ff8856e6d094bd5992780650e9782f2"
      }
     },
     "301040b0b61a4347a98d0572cb2e098f": {
      "model_module": "@jupyter-widgets/base",
      "model_module_version": "2.0.0",
      "model_name": "LayoutModel",
      "state": {
       "width": "20%"
      }
     },
     "3078984813f0411bb2e6e2dc6a3ca107": {
      "model_module": "@jupyter-widgets/base",
      "model_module_version": "2.0.0",
      "model_name": "LayoutModel",
      "state": {}
     },
     "30ea4901c97343098e993eaf36a86564": {
      "model_module": "@jupyter-widgets/controls",
      "model_module_version": "2.0.0",
      "model_name": "CheckboxStyleModel",
      "state": {
       "description_width": ""
      }
     },
     "3162f6bc27574c1d8d89120cbd83765c": {
      "model_module": "@jupyter-widgets/controls",
      "model_module_version": "2.0.0",
      "model_name": "CheckboxModel",
      "state": {
       "description": "Allow overwrite",
       "disabled": false,
       "layout": "IPY_MODEL_662bdadb7aa4445c9149e1ad139908bb",
       "style": "IPY_MODEL_b9a19c1302404bb4ad64a3fad52e39d0",
       "value": false
      }
     },
     "31a98cb34b5047ea92c3f2e4347c58d7": {
      "model_module": "@jupyter-widgets/controls",
      "model_module_version": "2.0.0",
      "model_name": "CheckboxModel",
      "state": {
       "description": "ZIP export (must be .json, .csv)",
       "disabled": false,
       "layout": "IPY_MODEL_5cc14b52db3d4c939b4531b490d19e7c",
       "style": "IPY_MODEL_d0eb629ae95b468581208c87b6317594",
       "value": false
      }
     },
     "328355c9771c4d3a8f71082b75d669e6": {
      "model_module": "@jupyter-widgets/controls",
      "model_module_version": "2.0.0",
      "model_name": "TextStyleModel",
      "state": {
       "description_width": "",
       "font_size": null,
       "text_color": null
      }
     },
     "328f59c97f2441e7acf78a81b452d471": {
      "model_module": "@jupyter-widgets/base",
      "model_module_version": "2.0.0",
      "model_name": "LayoutModel",
      "state": {
       "width": "95%"
      }
     },
     "32b46b3731a042cba4fdb369aad838ae": {
      "model_module": "@jupyter-widgets/base",
      "model_module_version": "2.0.0",
      "model_name": "LayoutModel",
      "state": {}
     },
     "32e5744b431949dba86741bda132b34c": {
      "model_module": "@jupyter-widgets/controls",
      "model_module_version": "2.0.0",
      "model_name": "CheckboxStyleModel",
      "state": {
       "description_width": ""
      }
     },
     "33f2bbeb719d42f7856e9ac0061cdb8b": {
      "model_module": "@jupyter-widgets/controls",
      "model_module_version": "2.0.0",
      "model_name": "DescriptionStyleModel",
      "state": {
       "description_width": ""
      }
     },
     "34556724c6c14622b9879635be10f1bc": {
      "model_module": "@jupyter-widgets/controls",
      "model_module_version": "2.0.0",
      "model_name": "ButtonModel",
      "state": {
       "description": "Start export",
       "layout": "IPY_MODEL_22386d014bbe4fc78f826bd6544b3048",
       "style": "IPY_MODEL_8e751f007f234a9599a2705395a6c71a",
       "tooltip": null
      }
     },
     "3492ae09d9b54d88949a7b0befa2b365": {
      "model_module": "@jupyter-widgets/base",
      "model_module_version": "2.0.0",
      "model_name": "LayoutModel",
      "state": {}
     },
     "34b75c879c6c4ac2becba8426bf8e9ae": {
      "model_module": "@jupyter-widgets/controls",
      "model_module_version": "2.0.0",
      "model_name": "TextModel",
      "state": {
       "description": "Customer ID: ",
       "layout": "IPY_MODEL_382ad0d53e5c4f55805e3e594f1b03d8",
       "style": "IPY_MODEL_63535bfcb9224be893ee8f3a20a62d90"
      }
     },
     "34c145c9d6de45fd9551989a9d4e24c8": {
      "model_module": "@jupyter-widgets/controls",
      "model_module_version": "2.0.0",
      "model_name": "TextModel",
      "state": {
       "description": "Output Path",
       "layout": "IPY_MODEL_f2495cab2a3f4a4db9378c0c51bde795",
       "style": "IPY_MODEL_64aa896ced0142a1929542bb62e8026b",
       "value": "/Users/samuelrobson/Desktop/thisllwork.xlsx"
      }
     },
     "34d78aa2b5f74184a8af0cbfbe5829a1": {
      "model_module": "@jupyter-widgets/base",
      "model_module_version": "2.0.0",
      "model_name": "LayoutModel",
      "state": {}
     },
     "3540f97d828243e8b00c57498beefda2": {
      "model_module": "@jupyter-widgets/controls",
      "model_module_version": "2.0.0",
      "model_name": "CheckboxModel",
      "state": {
       "description": "Allow overwrite",
       "disabled": false,
       "layout": "IPY_MODEL_c82a554fcf73434d8dc1da9cb746cabc",
       "style": "IPY_MODEL_bba62ba646b0440eb07b7ed88289a3c2",
       "value": false
      }
     },
     "3563fc0912b5471d9d317bd879450b35": {
      "model_module": "@jupyter-widgets/base",
      "model_module_version": "2.0.0",
      "model_name": "LayoutModel",
      "state": {}
     },
     "3572d41a5a4640d09507a31e87e810e8": {
      "model_module": "@jupyter-widgets/base",
      "model_module_version": "2.0.0",
      "model_name": "LayoutModel",
      "state": {}
     },
     "3584be37a6bf4a048e721ae5a976c754": {
      "model_module": "@jupyter-widgets/controls",
      "model_module_version": "2.0.0",
      "model_name": "CheckboxModel",
      "state": {
       "description": "Allow overwrite",
       "disabled": false,
       "layout": "IPY_MODEL_3ab0d026b22f4991b37059c9713455ac",
       "style": "IPY_MODEL_71a0d20046af4c99a12dafd42d642f0e",
       "value": false
      }
     },
     "35d24dfbbac84070bcc9f107ab6c230d": {
      "model_module": "@jupyter-widgets/controls",
      "model_module_version": "2.0.0",
      "model_name": "HBoxModel",
      "state": {
       "children": [
        "IPY_MODEL_6d90949838f24b4aa068439befc0b69d",
        "IPY_MODEL_bec1648b2c3746049080b0692f91ab78",
        "IPY_MODEL_27178207e630445293b369ce054f4a01"
       ],
       "layout": "IPY_MODEL_c6468f401b9c425eb2814f916bbb6561"
      }
     },
     "35e793e8099644a7b8b1f77701669107": {
      "model_module": "@jupyter-widgets/base",
      "model_module_version": "2.0.0",
      "model_name": "LayoutModel",
      "state": {
       "width": "95%"
      }
     },
     "35fe2594692344f899085ee4633be434": {
      "model_module": "@jupyter-widgets/controls",
      "model_module_version": "2.0.0",
      "model_name": "TextStyleModel",
      "state": {
       "description_width": "",
       "font_size": null,
       "text_color": null
      }
     },
     "379d07a6304a4f8d9b07957dca408a7d": {
      "model_module": "@jupyter-widgets/controls",
      "model_module_version": "2.0.0",
      "model_name": "TextModel",
      "state": {
       "description": "User ID: ",
       "layout": "IPY_MODEL_63200de133a34d4db6866e74614c2467",
       "style": "IPY_MODEL_c678a61fdadb466c9823ee68a017142e"
      }
     },
     "37f8f4ecbfbd4c768ca4655796e1befe": {
      "model_module": "@jupyter-widgets/controls",
      "model_module_version": "2.0.0",
      "model_name": "IntTextModel",
      "state": {
       "description": "Skip rows",
       "layout": "IPY_MODEL_e69dfc70be3d4926bffcc32a1ae720dd",
       "step": 1,
       "style": "IPY_MODEL_bf69b722e21d45888dacd19a11e1bdbe"
      }
     },
     "382ad0d53e5c4f55805e3e594f1b03d8": {
      "model_module": "@jupyter-widgets/base",
      "model_module_version": "2.0.0",
      "model_name": "LayoutModel",
      "state": {}
     },
     "388fcd9e9c1a49e0bb997553058dd5fc": {
      "model_module": "@jupyter-widgets/base",
      "model_module_version": "2.0.0",
      "model_name": "LayoutModel",
      "state": {}
     },
     "3915132be94a4bfbbd9d5601c78b2449": {
      "model_module": "@jupyter-widgets/output",
      "model_module_version": "1.0.0",
      "model_name": "OutputModel",
      "state": {
       "layout": "IPY_MODEL_58477d75283c46af9d0836a0f55f7f1e"
      }
     },
     "395f94483b494653a0572a588a5cb229": {
      "model_module": "@jupyter-widgets/controls",
      "model_module_version": "2.0.0",
      "model_name": "CheckboxModel",
      "state": {
       "description": "Split in batches",
       "disabled": false,
       "layout": "IPY_MODEL_4f020097d0e543b68ed89c32f123ec0a",
       "style": "IPY_MODEL_b99fa414b43149e8b3f6499fa8806434",
       "value": false
      }
     },
     "3995cae00c9541d1960ac69b83783d0d": {
      "model_module": "@jupyter-widgets/base",
      "model_module_version": "2.0.0",
      "model_name": "LayoutModel",
      "state": {}
     },
     "39d9da678e6246bb92138730028c38dc": {
      "model_module": "@jupyter-widgets/base",
      "model_module_version": "2.0.0",
      "model_name": "LayoutModel",
      "state": {}
     },
     "3a61a5777e994e8ca197a29c8d133ca3": {
      "model_module": "@jupyter-widgets/base",
      "model_module_version": "2.0.0",
      "model_name": "LayoutModel",
      "state": {
       "width": "95%"
      }
     },
     "3a7f879f91db41a39c05abd02e01856d": {
      "model_module": "@jupyter-widgets/controls",
      "model_module_version": "2.0.0",
      "model_name": "TextModel",
      "state": {
       "description": "Output Path:",
       "layout": "IPY_MODEL_012bf92aabe94f8a880f6218823f9fea",
       "style": "IPY_MODEL_27fefe06f0b14fb88e6a8285ceaaa832"
      }
     },
     "3ab0d026b22f4991b37059c9713455ac": {
      "model_module": "@jupyter-widgets/base",
      "model_module_version": "2.0.0",
      "model_name": "LayoutModel",
      "state": {}
     },
     "3ac155369b2a453cac061e64a3b30758": {
      "model_module": "@jupyter-widgets/controls",
      "model_module_version": "2.0.0",
      "model_name": "IntTextModel",
      "state": {
       "description": "Max count:",
       "layout": "IPY_MODEL_a2dfa2420e9e49eea20b23f98076f38c",
       "step": 1,
       "style": "IPY_MODEL_4b014137a0b04189a29dca7348c714f7"
      }
     },
     "3b0ed13a48d64bc29f55aa5d54cf42ef": {
      "model_module": "@jupyter-widgets/base",
      "model_module_version": "2.0.0",
      "model_name": "LayoutModel",
      "state": {}
     },
     "3ba815f4cc0d4894a08526bbed535c0e": {
      "model_module": "@jupyter-widgets/base",
      "model_module_version": "2.0.0",
      "model_name": "LayoutModel",
      "state": {
       "width": "95%"
      }
     },
     "3bb92321964b45c0b07eab3ecaa8626f": {
      "model_module": "@jupyter-widgets/base",
      "model_module_version": "2.0.0",
      "model_name": "LayoutModel",
      "state": {}
     },
     "3be19f6837e54255839d84c9f18f8a84": {
      "model_module": "@jupyter-widgets/controls",
      "model_module_version": "2.0.0",
      "model_name": "DescriptionStyleModel",
      "state": {
       "description_width": ""
      }
     },
     "3c54cf483cd1490e81ca3111d1752430": {
      "model_module": "@jupyter-widgets/controls",
      "model_module_version": "2.0.0",
      "model_name": "HBoxModel",
      "state": {
       "children": [
        "IPY_MODEL_5fe6702be56a42998c66294610a10d87",
        "IPY_MODEL_a87f4d8807eb4073a47641bb7e735a4d",
        "IPY_MODEL_2c1caa299053460d96e2baf67586b0ab"
       ],
       "layout": "IPY_MODEL_50b65de466fa486b92b91d10707128f6"
      }
     },
     "3c5b305f7545443e90bd7ecc9aa53a89": {
      "model_module": "@jupyter-widgets/controls",
      "model_module_version": "2.0.0",
      "model_name": "ButtonStyleModel",
      "state": {
       "font_family": null,
       "font_size": null,
       "font_style": null,
       "font_variant": null,
       "font_weight": null,
       "text_color": null,
       "text_decoration": null
      }
     },
     "3cba4a91cdd74d74a516815efeae60eb": {
      "model_module": "@jupyter-widgets/controls",
      "model_module_version": "2.0.0",
      "model_name": "FloatProgressModel",
      "state": {
       "bar_style": "success",
       "layout": "IPY_MODEL_8e67fe1b1342454a97e528217ef18511",
       "max": 368,
       "style": "IPY_MODEL_199ce2676ad140efbfdc4711a8a8b381",
       "value": 368
      }
     },
     "3ce35dbb3576444da096d9c8b28f30ca": {
      "model_module": "@jupyter-widgets/controls",
      "model_module_version": "2.0.0",
      "model_name": "CheckboxStyleModel",
      "state": {
       "description_width": ""
      }
     },
     "3d2a4606bc93416684d55b265eb5e53c": {
      "model_module": "@jupyter-widgets/controls",
      "model_module_version": "2.0.0",
      "model_name": "TextModel",
      "state": {
       "description": "Input Path",
       "layout": "IPY_MODEL_2999d0ba7e6f48a48bc87b15d37f50bb",
       "style": "IPY_MODEL_1cdba2682f5245c0ab8e3d2598019113",
       "tooltip": "Path to input directory or archive"
      }
     },
     "3d872bca77d54e4e8db259198d881218": {
      "model_module": "@jupyter-widgets/controls",
      "model_module_version": "2.0.0",
      "model_name": "TextModel",
      "state": {
       "description": "Input Path:",
       "layout": "IPY_MODEL_55d48b1e96154d0791ec5c0160b7ec0f",
       "style": "IPY_MODEL_9cf069d624ef4eafb728a2390ae21970",
       "tooltip": "Path to query template spreadsheet (list of names, etc. to search)"
      }
     },
     "3f055e2e62804f049ba19bde0d0858ab": {
      "model_module": "@jupyter-widgets/controls",
      "model_module_version": "2.0.0",
      "model_name": "TextModel",
      "state": {
       "description": "Output Path",
       "layout": "IPY_MODEL_400232bf94704994a70d56018765da7a",
       "style": "IPY_MODEL_d3e54194e8f34255a73573c8a5d5452a"
      }
     },
     "3f693b3416a04b628f151ad6ddf3c969": {
      "model_module": "@jupyter-widgets/controls",
      "model_module_version": "2.0.0",
      "model_name": "FloatProgressModel",
      "state": {
       "bar_style": "success",
       "layout": "IPY_MODEL_e6ce0c11990d423fbe8667d8c652cf4c",
       "max": 368,
       "style": "IPY_MODEL_24df9aa12d8a4d43a927545c03ad8856",
       "value": 368
      }
     },
     "3f7c4f63458c47a6bd8898a7ad0bc8ab": {
      "model_module": "@jupyter-widgets/controls",
      "model_module_version": "2.0.0",
      "model_name": "TextModel",
      "state": {
       "description": "Input Path",
       "layout": "IPY_MODEL_3a61a5777e994e8ca197a29c8d133ca3",
       "style": "IPY_MODEL_28f1d267ebf04f49bf7e60e60f8f714a",
       "tooltip": "Path to input directory or archive",
       "value": "/Users/samuelrobson/Desktop/test"
      }
     },
     "3ff0c65ccd214dc2af01710d14afb138": {
      "model_module": "@jupyter-widgets/controls",
      "model_module_version": "2.0.0",
      "model_name": "FloatProgressModel",
      "state": {
       "bar_style": "success",
       "layout": "IPY_MODEL_aa7e03729ced41eabe5ecf23d360c381",
       "max": 368,
       "style": "IPY_MODEL_cee097873a524430bf7e5e207dbea0d2",
       "value": 368
      }
     },
     "400232bf94704994a70d56018765da7a": {
      "model_module": "@jupyter-widgets/base",
      "model_module_version": "2.0.0",
      "model_name": "LayoutModel",
      "state": {
       "width": "95%"
      }
     },
     "4081903a8f6a46319423668621d98bf7": {
      "model_module": "@jupyter-widgets/controls",
      "model_module_version": "2.0.0",
      "model_name": "HBoxModel",
      "state": {
       "children": [
        "IPY_MODEL_ac290db50146452ebcb94d151f6c5d05",
        "IPY_MODEL_d11dfd497b8646b4a82c3cbe713017d7",
        "IPY_MODEL_a365e7e13ec149daad1cb63d162d5e19"
       ],
       "layout": "IPY_MODEL_7aeff46454264ff582c85762d4dd7454"
      }
     },
     "417e1340a48d451392a05e1d15a6de3a": {
      "model_module": "@jupyter-widgets/base",
      "model_module_version": "2.0.0",
      "model_name": "LayoutModel",
      "state": {}
     },
     "420998764a4f4fc0affa192789080f6c": {
      "model_module": "@jupyter-widgets/base",
      "model_module_version": "2.0.0",
      "model_name": "LayoutModel",
      "state": {
       "width": "20%"
      }
     },
     "42833904cc8d4216b04349e324886721": {
      "model_module": "@jupyter-widgets/controls",
      "model_module_version": "2.0.0",
      "model_name": "TextModel",
      "state": {
       "description": "Input Path",
       "layout": "IPY_MODEL_0d9b55083f3a4a868390dac3e1ba560f",
       "style": "IPY_MODEL_b0cff1d2a6634ba7819e80ff2c067a01",
       "tooltip": "Path to input directory or archive"
      }
     },
     "429dd257ef0445bcb23903cd15f3e87b": {
      "model_module": "@jupyter-widgets/base",
      "model_module_version": "2.0.0",
      "model_name": "LayoutModel",
      "state": {}
     },
     "42a895aec0e24d68aca38a53076114ee": {
      "model_module": "@jupyter-widgets/controls",
      "model_module_version": "2.0.0",
      "model_name": "TextModel",
      "state": {
       "description": "Input Path",
       "layout": "IPY_MODEL_de43137e865a4e44a6bcd1659f3f064b",
       "style": "IPY_MODEL_35fe2594692344f899085ee4633be434",
       "tooltip": "Path to input directory or archive"
      }
     },
     "42b82453d5ac44c49a85f61f3b7e7882": {
      "model_module": "@jupyter-widgets/base",
      "model_module_version": "2.0.0",
      "model_name": "LayoutModel",
      "state": {
       "width": "95%"
      }
     },
     "430464be56fb43779f5eb8170857ab24": {
      "model_module": "@jupyter-widgets/base",
      "model_module_version": "2.0.0",
      "model_name": "LayoutModel",
      "state": {}
     },
     "4352c455e12c4bff8a7ada34f54fccb5": {
      "model_module": "@jupyter-widgets/controls",
      "model_module_version": "2.0.0",
      "model_name": "CheckboxModel",
      "state": {
       "description": "Remove duplicates",
       "disabled": false,
       "layout": "IPY_MODEL_c018cb4ecde24fdb9d04b8fbe7475164",
       "style": "IPY_MODEL_de06c1876bdc415faa8693445be83695",
       "value": false
      }
     },
     "435e12d6dde54f83b7c0aee9e05077dc": {
      "model_module": "@jupyter-widgets/controls",
      "model_module_version": "2.0.0",
      "model_name": "ProgressStyleModel",
      "state": {
       "description_width": ""
      }
     },
     "43766af5af124efba4d13bbcc58a9f18": {
      "model_module": "@jupyter-widgets/base",
      "model_module_version": "2.0.0",
      "model_name": "LayoutModel",
      "state": {}
     },
     "438b852ac66b45b29c7c5fa16f1fd477": {
      "model_module": "@jupyter-widgets/controls",
      "model_module_version": "2.0.0",
      "model_name": "TextStyleModel",
      "state": {
       "description_width": "",
       "font_size": null,
       "text_color": null
      }
     },
     "4416b67dd1d1430880a8cf6d01f57a4b": {
      "model_module": "@jupyter-widgets/controls",
      "model_module_version": "2.0.0",
      "model_name": "TextModel",
      "state": {
       "description": "Input Path",
       "layout": "IPY_MODEL_096b32adbdc54369a8071fc34a392045",
       "style": "IPY_MODEL_afa73387416f448fac9986dd6cf1cd94",
       "tooltip": "Path to input directory or archive"
      }
     },
     "442f1e722c95467da7bbe5ac31714786": {
      "model_module": "@jupyter-widgets/controls",
      "model_module_version": "2.0.0",
      "model_name": "CheckboxModel",
      "state": {
       "description": "Allow overwrite",
       "disabled": false,
       "layout": "IPY_MODEL_599be34c76484f21965b168f5e96b8e5",
       "style": "IPY_MODEL_aac9a9eedafe459786ec9eb82773f717",
       "value": false
      }
     },
     "445e1747794e4f629848f1952021391f": {
      "model_module": "@jupyter-widgets/controls",
      "model_module_version": "2.0.0",
      "model_name": "ButtonStyleModel",
      "state": {
       "font_family": null,
       "font_size": null,
       "font_style": null,
       "font_variant": null,
       "font_weight": null,
       "text_color": null,
       "text_decoration": null
      }
     },
     "446ffacabe734c7c88405dccf8220add": {
      "model_module": "@jupyter-widgets/controls",
      "model_module_version": "2.0.0",
      "model_name": "TextStyleModel",
      "state": {
       "description_width": "",
       "font_size": null,
       "text_color": null
      }
     },
     "44aa91b2fe834f9e8ae6c0a26c3ccab1": {
      "model_module": "@jupyter-widgets/controls",
      "model_module_version": "2.0.0",
      "model_name": "ButtonModel",
      "state": {
       "description": "Login",
       "layout": "IPY_MODEL_703de9f1ae7149ad88c9f1b6630f3eaa",
       "style": "IPY_MODEL_4a6596aa18eb480f83005231bcb09b1f",
       "tooltip": null
      }
     },
     "4530e9d1dd224eb98a32af085224dedf": {
      "model_module": "@jupyter-widgets/controls",
      "model_module_version": "2.0.0",
      "model_name": "TextModel",
      "state": {
       "description": "Output Path",
       "layout": "IPY_MODEL_ea133c94e46848d9a8b9a9bcbccb818b",
       "style": "IPY_MODEL_9af5304ffdd84651aa393b2881bc5282"
      }
     },
     "4536f4ed5942428dbe68cc239ba5cda9": {
      "model_module": "@jupyter-widgets/base",
      "model_module_version": "2.0.0",
      "model_name": "LayoutModel",
      "state": {}
     },
     "45499b2a765247b9b1789fb0ff1f8f59": {
      "model_module": "@jupyter-widgets/controls",
      "model_module_version": "2.0.0",
      "model_name": "ButtonStyleModel",
      "state": {
       "font_family": null,
       "font_size": null,
       "font_style": null,
       "font_variant": null,
       "font_weight": null,
       "text_color": null,
       "text_decoration": null
      }
     },
     "45773c1159244aa582deedee8779b6a0": {
      "model_module": "@jupyter-widgets/controls",
      "model_module_version": "2.0.0",
      "model_name": "ProgressStyleModel",
      "state": {
       "description_width": ""
      }
     },
     "45871e0cb4da4948a06b0b798469e591": {
      "model_module": "@jupyter-widgets/controls",
      "model_module_version": "2.0.0",
      "model_name": "TextStyleModel",
      "state": {
       "description_width": "",
       "font_size": null,
       "text_color": null
      }
     },
     "45928be90b8a46789b428fd0ed4f60b1": {
      "model_module": "@jupyter-widgets/controls",
      "model_module_version": "2.0.0",
      "model_name": "DescriptionStyleModel",
      "state": {
       "description_width": ""
      }
     },
     "462063211f8647349a5a3c2801a81a0e": {
      "model_module": "@jupyter-widgets/controls",
      "model_module_version": "2.0.0",
      "model_name": "ButtonStyleModel",
      "state": {
       "font_family": null,
       "font_size": null,
       "font_style": null,
       "font_variant": null,
       "font_weight": null,
       "text_color": null,
       "text_decoration": null
      }
     },
     "46332415c03444beb72b8dd61f7c2479": {
      "model_module": "@jupyter-widgets/controls",
      "model_module_version": "2.0.0",
      "model_name": "HBoxModel",
      "state": {
       "children": [
        "IPY_MODEL_af3cceb8876a40769a3096e090d4f825",
        "IPY_MODEL_aeaec6c865504e94ae46dd1ec86004bc",
        "IPY_MODEL_e09cdda8f6774906a5978e2ec9b4bd4d"
       ],
       "layout": "IPY_MODEL_b97224717bbd4e6db9fa1a99aad446e1"
      }
     },
     "473e4cace5ef4aa5a61589aaee36fef6": {
      "model_module": "@jupyter-widgets/controls",
      "model_module_version": "2.0.0",
      "model_name": "ButtonModel",
      "state": {
       "description": "Start export",
       "layout": "IPY_MODEL_b6c57db1291c41fcbce1bd29f330a613",
       "style": "IPY_MODEL_a5b0ef4441a84bd0bc214b0c3ea818eb",
       "tooltip": null
      }
     },
     "4776463351b84611b5577d3de4bc90dc": {
      "model_module": "@jupyter-widgets/controls",
      "model_module_version": "2.0.0",
      "model_name": "TextModel",
      "state": {
       "description": "Input Path",
       "layout": "IPY_MODEL_2faf8ed6d2c9474b94d3269bbf530d63",
       "style": "IPY_MODEL_4e0ac14852d14dbfbcb661f1bd5ece6d",
       "tooltip": "Path to input directory or archive",
       "value": "/Users/samuelrobson/Desktop/test"
      }
     },
     "4785a51d58094055bea0de2edf61e438": {
      "model_module": "@jupyter-widgets/controls",
      "model_module_version": "2.0.0",
      "model_name": "ButtonStyleModel",
      "state": {
       "font_family": null,
       "font_size": null,
       "font_style": null,
       "font_variant": null,
       "font_weight": null,
       "text_color": null,
       "text_decoration": null
      }
     },
     "47b20175f043410d87264e2ebae4dce0": {
      "model_module": "@jupyter-widgets/base",
      "model_module_version": "2.0.0",
      "model_name": "LayoutModel",
      "state": {}
     },
     "47bd5938c1d1416e891b6ee6ca2fa972": {
      "model_module": "@jupyter-widgets/controls",
      "model_module_version": "2.0.0",
      "model_name": "ButtonModel",
      "state": {
       "description": "Start export",
       "layout": "IPY_MODEL_f745ad8c6d5b4b18b7606cb3dc0f62fe",
       "style": "IPY_MODEL_df3758da555e41db9d6943f51765e8d4",
       "tooltip": null
      }
     },
     "47c7d5227ad44bb3a97a79c12b12dd76": {
      "model_module": "@jupyter-widgets/base",
      "model_module_version": "2.0.0",
      "model_name": "LayoutModel",
      "state": {
       "width": "95%"
      }
     },
     "47e3ede99e73441fa15aa844f45e2ace": {
      "model_module": "@jupyter-widgets/controls",
      "model_module_version": "2.0.0",
      "model_name": "ButtonModel",
      "state": {
       "description": "Read more",
       "layout": "IPY_MODEL_7fa25dc20695410fba7f3e76e22ec178",
       "style": "IPY_MODEL_5d4c87a625054259b1f0331dd47b30eb",
       "tooltip": null
      }
     },
     "4821e0e4df3c482e9b588ae39ba9995b": {
      "model_module": "@jupyter-widgets/base",
      "model_module_version": "2.0.0",
      "model_name": "LayoutModel",
      "state": {
       "width": "95%"
      }
     },
     "488dfa62b5e44ff188e76ebadb63b0a3": {
      "model_module": "@jupyter-widgets/base",
      "model_module_version": "2.0.0",
      "model_name": "LayoutModel",
      "state": {}
     },
     "48d48f1400de4e16ac3e5085a0bc5d8e": {
      "model_module": "@jupyter-widgets/controls",
      "model_module_version": "2.0.0",
      "model_name": "IntTextModel",
      "state": {
       "description": "Max count",
       "layout": "IPY_MODEL_adbed75c116a4be99e39f11a932ab4d6",
       "step": 1,
       "style": "IPY_MODEL_bbaa29fd332d4f13a48ce8967b9994f7"
      }
     },
     "48e522fce12049dea0b0c18bc0036b97": {
      "model_module": "@jupyter-widgets/controls",
      "model_module_version": "2.0.0",
      "model_name": "HTMLStyleModel",
      "state": {
       "description_width": "",
       "font_size": null,
       "text_color": null
      }
     },
     "48e7a188b580452a8f9d05868915974d": {
      "model_module": "@jupyter-widgets/base",
      "model_module_version": "2.0.0",
      "model_name": "LayoutModel",
      "state": {
       "width": "95%"
      }
     },
     "4a297522a020492cb7ac29bc9c559a0b": {
      "model_module": "@jupyter-widgets/controls",
      "model_module_version": "2.0.0",
      "model_name": "TextModel",
      "state": {
       "description": "Input Path:",
       "layout": "IPY_MODEL_5b55ba50afa0459c8f2a8bd82c57241e",
       "style": "IPY_MODEL_c87b6d52431747d5b1e1bbd1df73acb9",
       "tooltip": "Path to query template spreadsheet (list of names, etc. to search)"
      }
     },
     "4a461acbd5da466daccde35a1b1fac47": {
      "model_module": "@jupyter-widgets/controls",
      "model_module_version": "2.0.0",
      "model_name": "CheckboxModel",
      "state": {
       "description": "Allow overwrite",
       "disabled": false,
       "layout": "IPY_MODEL_4a5eec6e00204d718ae6e5696c117e12",
       "style": "IPY_MODEL_24622969c9cc4b1e9b0050b3785c3ff4",
       "value": false
      }
     },
     "4a4dcffc69ce42cc8d5afcff5ecb450d": {
      "model_module": "@jupyter-widgets/controls",
      "model_module_version": "2.0.0",
      "model_name": "TextStyleModel",
      "state": {
       "description_width": "",
       "font_size": null,
       "text_color": null
      }
     },
     "4a5eec6e00204d718ae6e5696c117e12": {
      "model_module": "@jupyter-widgets/base",
      "model_module_version": "2.0.0",
      "model_name": "LayoutModel",
      "state": {}
     },
     "4a6596aa18eb480f83005231bcb09b1f": {
      "model_module": "@jupyter-widgets/controls",
      "model_module_version": "2.0.0",
      "model_name": "ButtonStyleModel",
      "state": {
       "font_family": null,
       "font_size": null,
       "font_style": null,
       "font_variant": null,
       "font_weight": null,
       "text_color": null,
       "text_decoration": null
      }
     },
     "4abab7de1c2844078b2cb89d81c4ec8d": {
      "model_module": "@jupyter-widgets/controls",
      "model_module_version": "2.0.0",
      "model_name": "HTMLStyleModel",
      "state": {
       "description_width": "",
       "font_size": null,
       "text_color": null
      }
     },
     "4b014137a0b04189a29dca7348c714f7": {
      "model_module": "@jupyter-widgets/controls",
      "model_module_version": "2.0.0",
      "model_name": "DescriptionStyleModel",
      "state": {
       "description_width": ""
      }
     },
     "4b7990cb5dc5447f9ee3846141ed5710": {
      "model_module": "@jupyter-widgets/controls",
      "model_module_version": "2.0.0",
      "model_name": "IntTextModel",
      "state": {
       "description": "Max count",
       "layout": "IPY_MODEL_bad108f6cfec420cae4c4a80db1d0a96",
       "step": 1,
       "style": "IPY_MODEL_eff2796a697341888319a32c4d576bd9"
      }
     },
     "4c485ec04e6d44c0a66d2bdf78f6d80f": {
      "model_module": "@jupyter-widgets/controls",
      "model_module_version": "2.0.0",
      "model_name": "DescriptionStyleModel",
      "state": {
       "description_width": ""
      }
     },
     "4ca3461ea4c949be98f06d66a56ae04b": {
      "model_module": "@jupyter-widgets/base",
      "model_module_version": "2.0.0",
      "model_name": "LayoutModel",
      "state": {}
     },
     "4d813c0f70bb4104b36b9c8702178015": {
      "model_module": "@jupyter-widgets/controls",
      "model_module_version": "2.0.0",
      "model_name": "DropdownModel",
      "state": {
       "_options_labels": [
        "cases",
        "charges",
        "disposition",
        "filing",
        "fees"
       ],
       "description": "Table:",
       "index": 0,
       "layout": "IPY_MODEL_5ad1c007f4ff45a390eb89688c52ca61",
       "style": "IPY_MODEL_a510dea0ccca4e8e84e4f3da84220bcc"
      }
     },
     "4d9114e9bd6740cfac714326e917c983": {
      "model_module": "@jupyter-widgets/controls",
      "model_module_version": "2.0.0",
      "model_name": "PasswordModel",
      "state": {
       "description": "Password: ",
       "layout": "IPY_MODEL_d15d566f20ab4c15aa366c06d306aaa7",
       "style": "IPY_MODEL_aa4348e1a1894ece8a9f5089e68a0552"
      }
     },
     "4db44b9b5f6b47fe884f33935de45e05": {
      "model_module": "@jupyter-widgets/base",
      "model_module_version": "2.0.0",
      "model_name": "LayoutModel",
      "state": {}
     },
     "4de7b9527a7b4efea7d526bf37360d9f": {
      "model_module": "@jupyter-widgets/controls",
      "model_module_version": "2.0.0",
      "model_name": "CheckboxStyleModel",
      "state": {
       "description_width": ""
      }
     },
     "4e0ac14852d14dbfbcb661f1bd5ece6d": {
      "model_module": "@jupyter-widgets/controls",
      "model_module_version": "2.0.0",
      "model_name": "TextStyleModel",
      "state": {
       "description_width": "",
       "font_size": null,
       "text_color": null
      }
     },
     "4e5fb68bb2cf4c369a26582900580bc2": {
      "model_module": "@jupyter-widgets/controls",
      "model_module_version": "2.0.0",
      "model_name": "CheckboxStyleModel",
      "state": {
       "description_width": ""
      }
     },
     "4e7c4318f57046f58b369a603db48d49": {
      "model_module": "@jupyter-widgets/base",
      "model_module_version": "2.0.0",
      "model_name": "LayoutModel",
      "state": {
       "width": "95%"
      }
     },
     "4ee3a679f69a4ca8a6eef462fd52a146": {
      "model_module": "@jupyter-widgets/base",
      "model_module_version": "2.0.0",
      "model_name": "LayoutModel",
      "state": {}
     },
     "4efbc52bf8cc4f1c97bf90a0e08eaf4d": {
      "model_module": "@jupyter-widgets/controls",
      "model_module_version": "2.0.0",
      "model_name": "DropdownModel",
      "state": {
       "_options_labels": [
        "cases",
        "charges",
        "disposition",
        "filing",
        "fees"
       ],
       "description": "Table:",
       "index": 0,
       "layout": "IPY_MODEL_dce026d5bbf744239e4c3111a4f7aa3d",
       "style": "IPY_MODEL_f2cde52d37c84ced8b00e9b4a7b9979c"
      }
     },
     "4f020097d0e543b68ed89c32f123ec0a": {
      "model_module": "@jupyter-widgets/base",
      "model_module_version": "2.0.0",
      "model_name": "LayoutModel",
      "state": {}
     },
     "4f2a2b9c0a3c4710ad73ad3f12c4b429": {
      "model_module": "@jupyter-widgets/base",
      "model_module_version": "2.0.0",
      "model_name": "LayoutModel",
      "state": {}
     },
     "4fbb5ecdc48244478dde00b9b648a520": {
      "model_module": "@jupyter-widgets/base",
      "model_module_version": "2.0.0",
      "model_name": "LayoutModel",
      "state": {
       "width": "20%"
      }
     },
     "4ff1bfa9f9bc4cb191db8f492afdb51e": {
      "model_module": "@jupyter-widgets/controls",
      "model_module_version": "2.0.0",
      "model_name": "ButtonModel",
      "state": {
       "description": "Start export",
       "layout": "IPY_MODEL_10c907c83531481798e0e000c12d9d93",
       "style": "IPY_MODEL_984923d32a794c809697dccc2f4e906d",
       "tooltip": null
      }
     },
     "4ff8856e6d094bd5992780650e9782f2": {
      "model_module": "@jupyter-widgets/controls",
      "model_module_version": "2.0.0",
      "model_name": "TextStyleModel",
      "state": {
       "description_width": "",
       "font_size": null,
       "text_color": null
      }
     },
     "500082b213f145a88e2c37ec0f785cc8": {
      "model_module": "@jupyter-widgets/base",
      "model_module_version": "2.0.0",
      "model_name": "LayoutModel",
      "state": {
       "width": "95%"
      }
     },
     "5034053e248942e793255d22edf42535": {
      "model_module": "@jupyter-widgets/base",
      "model_module_version": "2.0.0",
      "model_name": "LayoutModel",
      "state": {
       "width": "95%"
      }
     },
     "5037f0848eae4b79b955e5611b5674ed": {
      "model_module": "@jupyter-widgets/controls",
      "model_module_version": "2.0.0",
      "model_name": "HTMLStyleModel",
      "state": {
       "description_width": "",
       "font_size": null,
       "text_color": null
      }
     },
     "5050cc2d993a4457b35a5cf52a067a1e": {
      "model_module": "@jupyter-widgets/base",
      "model_module_version": "2.0.0",
      "model_name": "LayoutModel",
      "state": {}
     },
     "508924732af1483880e3e78b859cf0df": {
      "model_module": "@jupyter-widgets/controls",
      "model_module_version": "2.0.0",
      "model_name": "TextStyleModel",
      "state": {
       "description_width": "",
       "font_size": null,
       "text_color": null
      }
     },
     "50b65de466fa486b92b91d10707128f6": {
      "model_module": "@jupyter-widgets/base",
      "model_module_version": "2.0.0",
      "model_name": "LayoutModel",
      "state": {
       "width": "95%"
      }
     },
     "50eb57647ba94eb09857131d30dc1083": {
      "model_module": "@jupyter-widgets/base",
      "model_module_version": "2.0.0",
      "model_name": "LayoutModel",
      "state": {
       "width": "95%"
      }
     },
     "5292bc8c10e74624859be478368e251b": {
      "model_module": "@jupyter-widgets/controls",
      "model_module_version": "2.0.0",
      "model_name": "TextStyleModel",
      "state": {
       "description_width": "",
       "font_size": null,
       "text_color": null
      }
     },
     "52d1a90b7f814e7881d802933e85fc8f": {
      "model_module": "@jupyter-widgets/controls",
      "model_module_version": "2.0.0",
      "model_name": "TextStyleModel",
      "state": {
       "description_width": "",
       "font_size": null,
       "text_color": null
      }
     },
     "5362f55e8315486396163635469cad29": {
      "model_module": "@jupyter-widgets/controls",
      "model_module_version": "2.0.0",
      "model_name": "CheckboxModel",
      "state": {
       "description": "Remove duplicates",
       "disabled": false,
       "layout": "IPY_MODEL_676574e00e424602b7a51b3269cf3acd",
       "style": "IPY_MODEL_2f9796a08edc436db1b5b88982436df3",
       "value": false
      }
     },
     "538b1c3220ce4869953523606cc791ab": {
      "model_module": "@jupyter-widgets/controls",
      "model_module_version": "2.0.0",
      "model_name": "DescriptionStyleModel",
      "state": {
       "description_width": ""
      }
     },
     "544a1f1f8c8141b7be805ee43ba5d3d8": {
      "model_module": "@jupyter-widgets/controls",
      "model_module_version": "2.0.0",
      "model_name": "TextStyleModel",
      "state": {
       "description_width": "",
       "font_size": null,
       "text_color": null
      }
     },
     "546e4f69a6334f279a5e17ddfdca62fa": {
      "model_module": "@jupyter-widgets/base",
      "model_module_version": "2.0.0",
      "model_name": "LayoutModel",
      "state": {}
     },
     "547be03cbc594fa7b888ee9c286743d6": {
      "model_module": "@jupyter-widgets/controls",
      "model_module_version": "2.0.0",
      "model_name": "TextStyleModel",
      "state": {
       "description_width": "",
       "font_size": null,
       "text_color": null
      }
     },
     "54b304bc01de44b29f57de56a8d30bec": {
      "model_module": "@jupyter-widgets/controls",
      "model_module_version": "2.0.0",
      "model_name": "TextModel",
      "state": {
       "description": "Input Path:",
       "layout": "IPY_MODEL_f43f521f1428457386a8d592476b2aab",
       "style": "IPY_MODEL_2da5134e7e004bdc855dc8089a8c82b3",
       "tooltip": "Path to query template spreadsheet (list of names, etc. to search)"
      }
     },
     "555f1239a3374b13a06533ee1b9712a0": {
      "model_module": "@jupyter-widgets/controls",
      "model_module_version": "2.0.0",
      "model_name": "FloatTextModel",
      "state": {
       "description": "Speed",
       "layout": "IPY_MODEL_83658cd3830b427da806c9072f4b3d6f",
       "step": 0.1,
       "style": "IPY_MODEL_af299fca7e1d476d9c99a04c127ac018",
       "value": 1
      }
     },
     "556106578fe84445b981b14522310fc2": {
      "model_module": "@jupyter-widgets/base",
      "model_module_version": "2.0.0",
      "model_name": "LayoutModel",
      "state": {}
     },
     "55d48b1e96154d0791ec5c0160b7ec0f": {
      "model_module": "@jupyter-widgets/base",
      "model_module_version": "2.0.0",
      "model_name": "LayoutModel",
      "state": {
       "width": "95%"
      }
     },
     "55e3d33d940f469ab342400a09abc02c": {
      "model_module": "@jupyter-widgets/controls",
      "model_module_version": "2.0.0",
      "model_name": "DescriptionStyleModel",
      "state": {
       "description_width": ""
      }
     },
     "567a19c39fc94bba93b5c7b958190d48": {
      "model_module": "@jupyter-widgets/controls",
      "model_module_version": "2.0.0",
      "model_name": "TextModel",
      "state": {
       "description": "Output Path",
       "layout": "IPY_MODEL_3ba815f4cc0d4894a08526bbed535c0e",
       "style": "IPY_MODEL_547be03cbc594fa7b888ee9c286743d6"
      }
     },
     "56be17c136e64179b1c9192263f0ea0c": {
      "model_module": "@jupyter-widgets/base",
      "model_module_version": "2.0.0",
      "model_name": "LayoutModel",
      "state": {
       "width": "95%"
      }
     },
     "56eabaf234bd42ac8ba51819c316515d": {
      "model_module": "@jupyter-widgets/controls",
      "model_module_version": "2.0.0",
      "model_name": "HBoxModel",
      "state": {
       "children": [
        "IPY_MODEL_d2f082d769754c3dbc7b743c69a30975",
        "IPY_MODEL_06118cefdca3427d990d30407ff04af5",
        "IPY_MODEL_1823bbe710724ab694584369d589226a"
       ],
       "layout": "IPY_MODEL_ede2daabf399431d91db24069cd95cbf"
      }
     },
     "56f4a35690a2478eb0526e19a9186fa3": {
      "model_module": "@jupyter-widgets/base",
      "model_module_version": "2.0.0",
      "model_name": "LayoutModel",
      "state": {}
     },
     "5707cad9934f481ca619fb22c06a29dd": {
      "model_module": "@jupyter-widgets/base",
      "model_module_version": "2.0.0",
      "model_name": "LayoutModel",
      "state": {}
     },
     "577c7b7d578446bab208b5575924d339": {
      "model_module": "@jupyter-widgets/controls",
      "model_module_version": "2.0.0",
      "model_name": "DescriptionStyleModel",
      "state": {
       "description_width": ""
      }
     },
     "5788d3d04de64eeaa05e9ec0a0199b0e": {
      "model_module": "@jupyter-widgets/controls",
      "model_module_version": "2.0.0",
      "model_name": "ButtonModel",
      "state": {
       "description": "Start export",
       "layout": "IPY_MODEL_e83ccc4939dc4fb98737f6d4ded265f2",
       "style": "IPY_MODEL_462063211f8647349a5a3c2801a81a0e",
       "tooltip": null
      }
     },
     "57e864050f6f4b319e9c793fe8a9602d": {
      "model_module": "@jupyter-widgets/controls",
      "model_module_version": "2.0.0",
      "model_name": "IntTextModel",
      "state": {
       "description": "Skip rows",
       "layout": "IPY_MODEL_6a11b9a08aef41f79c95a367ea3f9444",
       "step": 1,
       "style": "IPY_MODEL_1811d79b2a5d4dc682203bd5221d10f4"
      }
     },
     "58477d75283c46af9d0836a0f55f7f1e": {
      "model_module": "@jupyter-widgets/base",
      "model_module_version": "2.0.0",
      "model_name": "LayoutModel",
      "state": {}
     },
     "58527c0be570409b9eae2798b9e2f934": {
      "model_module": "@jupyter-widgets/base",
      "model_module_version": "2.0.0",
      "model_name": "LayoutModel",
      "state": {}
     },
     "585cac4daa8a4650aa70aef0840cb4a2": {
      "model_module": "@jupyter-widgets/controls",
      "model_module_version": "2.0.0",
      "model_name": "TextStyleModel",
      "state": {
       "description_width": "",
       "font_size": null,
       "text_color": null
      }
     },
     "592ba5edd4374e818258473fc8840ffc": {
      "model_module": "@jupyter-widgets/controls",
      "model_module_version": "2.0.0",
      "model_name": "ButtonModel",
      "state": {
       "description": "Start archiving",
       "layout": "IPY_MODEL_d1a7f275b18e44ad9c7d0cc4e0035d70",
       "style": "IPY_MODEL_796810aa902e48319798c0acb4c8f6ea",
       "tooltip": null
      }
     },
     "599be34c76484f21965b168f5e96b8e5": {
      "model_module": "@jupyter-widgets/base",
      "model_module_version": "2.0.0",
      "model_name": "LayoutModel",
      "state": {}
     },
     "59c0d261f3284f2eb5404bde52783b50": {
      "model_module": "@jupyter-widgets/controls",
      "model_module_version": "2.0.0",
      "model_name": "ButtonModel",
      "state": {
       "description": "Login",
       "layout": "IPY_MODEL_2192ac8dfda6478aa9a2146745d1d80f",
       "style": "IPY_MODEL_b7cfd4914d154f4b9339fb4d96725cce",
       "tooltip": null
      }
     },
     "59e17b1098af4d70aee496adaf4a2c80": {
      "model_module": "@jupyter-widgets/controls",
      "model_module_version": "2.0.0",
      "model_name": "ButtonModel",
      "state": {
       "description": "Start export",
       "layout": "IPY_MODEL_804dab56b57241758ce1316f5e4c8ae3",
       "style": "IPY_MODEL_cc7e576163d14566b54c7b15c730a8bb",
       "tooltip": null
      }
     },
     "5a1b425687a8463c8d73c893019198be": {
      "model_module": "@jupyter-widgets/controls",
      "model_module_version": "2.0.0",
      "model_name": "HBoxModel",
      "state": {
       "children": [
        "IPY_MODEL_226b9af9b27e42df9812f10ed8f41376",
        "IPY_MODEL_37f8f4ecbfbd4c768ca4655796e1befe",
        "IPY_MODEL_1d59a8226e4749c7bacb44acdcf23d0f"
       ],
       "layout": "IPY_MODEL_0728e2fb6c5143e5b80a191dc6a2d940"
      }
     },
     "5a9a055ad69a4cdcaac970ff29c76d6f": {
      "model_module": "@jupyter-widgets/base",
      "model_module_version": "2.0.0",
      "model_name": "LayoutModel",
      "state": {
       "width": "20%"
      }
     },
     "5ad1c007f4ff45a390eb89688c52ca61": {
      "model_module": "@jupyter-widgets/base",
      "model_module_version": "2.0.0",
      "model_name": "LayoutModel",
      "state": {}
     },
     "5b17a9e339f14d31b5a4bf4f27354c2b": {
      "model_module": "@jupyter-widgets/controls",
      "model_module_version": "2.0.0",
      "model_name": "IntTextModel",
      "state": {
       "description": "Skip rows",
       "layout": "IPY_MODEL_703731db0fbf467180b4af223785d67d",
       "step": 1,
       "style": "IPY_MODEL_b41beebe32fd4c168a5bdd4c4520e03d"
      }
     },
     "5b1a7b645fb441e3a59f200dea5ca4b1": {
      "model_module": "@jupyter-widgets/controls",
      "model_module_version": "2.0.0",
      "model_name": "TextModel",
      "state": {
       "description": "Input Path",
       "layout": "IPY_MODEL_78420830cf3f48d6a7756c39e73df407",
       "style": "IPY_MODEL_a2ded64a54e9479c9839b36d8ebec94e",
       "tooltip": "Path to PDF directory"
      }
     },
     "5b55ba50afa0459c8f2a8bd82c57241e": {
      "model_module": "@jupyter-widgets/base",
      "model_module_version": "2.0.0",
      "model_name": "LayoutModel",
      "state": {
       "width": "95%"
      }
     },
     "5b5e479db88c461a811c205c86f9c4b1": {
      "model_module": "@jupyter-widgets/base",
      "model_module_version": "2.0.0",
      "model_name": "LayoutModel",
      "state": {}
     },
     "5b61a119c73e44ecbcec71e4b7585274": {
      "model_module": "@jupyter-widgets/controls",
      "model_module_version": "2.0.0",
      "model_name": "TextModel",
      "state": {
       "description": "Input Path:",
       "layout": "IPY_MODEL_fc13114546c543b7b2b3cd895f02d489",
       "style": "IPY_MODEL_2babf810554749528dc43bf8b0d1ef8d",
       "tooltip": "Path to query template spreadsheet (list of names, etc. to search)"
      }
     },
     "5b75faf5cc99443883a7a7ab67b45f59": {
      "model_module": "@jupyter-widgets/base",
      "model_module_version": "2.0.0",
      "model_name": "LayoutModel",
      "state": {}
     },
     "5b86d92ab0af4a238b7b5361c253ba01": {
      "model_module": "@jupyter-widgets/controls",
      "model_module_version": "2.0.0",
      "model_name": "TextModel",
      "state": {
       "description": "Input Path",
       "layout": "IPY_MODEL_dbcab688a9064a5ca73a430d2d1b9144",
       "style": "IPY_MODEL_009453dd69e546f59ddc2448809cf8b9",
       "tooltip": "Path to input directory or archive"
      }
     },
     "5bc6dc32defa4b039c0e3f67767f0393": {
      "model_module": "@jupyter-widgets/controls",
      "model_module_version": "2.0.0",
      "model_name": "ButtonModel",
      "state": {
       "description": "Read more",
       "layout": "IPY_MODEL_67e398cb08b04b789e258579a062fea4",
       "style": "IPY_MODEL_065956b59f7c4db8a3d12124868abc31",
       "tooltip": null
      }
     },
     "5bf2f8fe32654fcdaf1ba38bb5b822c7": {
      "model_module": "@jupyter-widgets/controls",
      "model_module_version": "2.0.0",
      "model_name": "TextModel",
      "state": {
       "description": "Output Path",
       "layout": "IPY_MODEL_6be83ffcd64d44eeafcb34cbb63e7ea7",
       "style": "IPY_MODEL_2cc3b5540e0d4049ace31f851354e560"
      }
     },
     "5c90eede21a743bea5fa5bcbd80e18b1": {
      "model_module": "@jupyter-widgets/controls",
      "model_module_version": "2.0.0",
      "model_name": "TextModel",
      "state": {
       "description": "User ID: ",
       "layout": "IPY_MODEL_875bf0db407d424c9249afd864786db8",
       "style": "IPY_MODEL_6fa8f16e9bd04385b61b78106c0a4b66"
      }
     },
     "5cb29fe4031242a0a7de2da561217fcf": {
      "model_module": "@jupyter-widgets/controls",
      "model_module_version": "2.0.0",
      "model_name": "CheckboxStyleModel",
      "state": {
       "description_width": ""
      }
     },
     "5cc14b52db3d4c939b4531b490d19e7c": {
      "model_module": "@jupyter-widgets/base",
      "model_module_version": "2.0.0",
      "model_name": "LayoutModel",
      "state": {}
     },
     "5d3cdf879cc24b87b9c904ed94c20101": {
      "model_module": "@jupyter-widgets/controls",
      "model_module_version": "2.0.0",
      "model_name": "TextStyleModel",
      "state": {
       "description_width": "",
       "font_size": null,
       "text_color": null
      }
     },
     "5d4c87a625054259b1f0331dd47b30eb": {
      "model_module": "@jupyter-widgets/controls",
      "model_module_version": "2.0.0",
      "model_name": "ButtonStyleModel",
      "state": {
       "font_family": null,
       "font_size": null,
       "font_style": null,
       "font_variant": null,
       "font_weight": null,
       "text_color": null,
       "text_decoration": null
      }
     },
     "5dab4daf4fb9478a906671c5419fe83a": {
      "model_module": "@jupyter-widgets/base",
      "model_module_version": "2.0.0",
      "model_name": "LayoutModel",
      "state": {
       "width": "95%"
      }
     },
     "5df4bf11da37452abfb4a15f1e0f1ec8": {
      "model_module": "@jupyter-widgets/controls",
      "model_module_version": "2.0.0",
      "model_name": "DescriptionStyleModel",
      "state": {
       "description_width": ""
      }
     },
     "5e2376dffccb4258bfdd32bd4f3b4cbd": {
      "model_module": "@jupyter-widgets/controls",
      "model_module_version": "2.0.0",
      "model_name": "HTMLModel",
      "state": {
       "layout": "IPY_MODEL_b072e663222f4ee996b0d3fd49edc149",
       "style": "IPY_MODEL_aa731ac7743b447a86b3994d5fae4180",
       "value": "Charges: 100%"
      }
     },
     "5ea82222ab7f49c7b3a8aa3d2b7a3e67": {
      "model_module": "@jupyter-widgets/controls",
      "model_module_version": "2.0.0",
      "model_name": "FloatTextModel",
      "state": {
       "description": "Speed",
       "layout": "IPY_MODEL_c44eac4d09354395894267c206f63d94",
       "step": 0.1,
       "style": "IPY_MODEL_577c7b7d578446bab208b5575924d339",
       "value": 1
      }
     },
     "5ed266d91f964f47aac8fb5fc499bbdf": {
      "model_module": "@jupyter-widgets/controls",
      "model_module_version": "2.0.0",
      "model_name": "TextModel",
      "state": {
       "description": "Input Path",
       "layout": "IPY_MODEL_48e7a188b580452a8f9d05868915974d",
       "style": "IPY_MODEL_585cac4daa8a4650aa70aef0840cb4a2",
       "tooltip": "Path to input directory or archive"
      }
     },
     "5f77c2ab2573420b86fd05a37e8c291b": {
      "model_module": "@jupyter-widgets/base",
      "model_module_version": "2.0.0",
      "model_name": "LayoutModel",
      "state": {}
     },
     "5fe6702be56a42998c66294610a10d87": {
      "model_module": "@jupyter-widgets/controls",
      "model_module_version": "2.0.0",
      "model_name": "FloatTextModel",
      "state": {
       "description": "Speed",
       "layout": "IPY_MODEL_c942256b723a4314b84788f5ddf47f02",
       "step": 0.1,
       "style": "IPY_MODEL_82cbbb864ba14ce893d6175336397da7",
       "value": 1
      }
     },
     "6004457c283247e38ce6f10b84d50139": {
      "model_module": "@jupyter-widgets/controls",
      "model_module_version": "2.0.0",
      "model_name": "DescriptionStyleModel",
      "state": {
       "description_width": ""
      }
     },
     "604c4e0a4a6448d4ad6fed7b1efa3f92": {
      "model_module": "@jupyter-widgets/controls",
      "model_module_version": "2.0.0",
      "model_name": "CheckboxStyleModel",
      "state": {
       "description_width": ""
      }
     },
     "608fbbcad1794a2bbc5c8a848a442070": {
      "model_module": "@jupyter-widgets/controls",
      "model_module_version": "2.0.0",
      "model_name": "TextStyleModel",
      "state": {
       "description_width": "",
       "font_size": null,
       "text_color": null
      }
     },
     "60aaa5b5a9644661a551aeeed7b9d582": {
      "model_module": "@jupyter-widgets/base",
      "model_module_version": "2.0.0",
      "model_name": "LayoutModel",
      "state": {}
     },
     "60b7ab0c0e2f4663a0b3711ee374291e": {
      "model_module": "@jupyter-widgets/base",
      "model_module_version": "2.0.0",
      "model_name": "LayoutModel",
      "state": {}
     },
     "61114d6efffd48e6b3b4a9a43f9be6e1": {
      "model_module": "@jupyter-widgets/base",
      "model_module_version": "2.0.0",
      "model_name": "LayoutModel",
      "state": {
       "width": "95%"
      }
     },
     "61399c2f0c2d4cdfb2eb0f8f28439cd7": {
      "model_module": "@jupyter-widgets/controls",
      "model_module_version": "2.0.0",
      "model_name": "DescriptionStyleModel",
      "state": {
       "description_width": ""
      }
     },
     "617c4e8e8ddf4735990d34d1c10001fb": {
      "model_module": "@jupyter-widgets/base",
      "model_module_version": "2.0.0",
      "model_name": "LayoutModel",
      "state": {}
     },
     "61a5de125ac5465abeb9e3483d66269f": {
      "model_module": "@jupyter-widgets/controls",
      "model_module_version": "2.0.0",
      "model_name": "HTMLStyleModel",
      "state": {
       "description_width": "",
       "font_size": null,
       "text_color": null
      }
     },
     "61f1d659dcad4c0bbb74aa09f65a35d3": {
      "model_module": "@jupyter-widgets/controls",
      "model_module_version": "2.0.0",
      "model_name": "ButtonModel",
      "state": {
       "description": "Start export",
       "layout": "IPY_MODEL_760320a7544645ef91f1c6ac9f3bf642",
       "style": "IPY_MODEL_83222f269c704b0ebaee4922ac1e0af5",
       "tooltip": null
      }
     },
     "6239fbbf844a403b92d552808239cfb0": {
      "model_module": "@jupyter-widgets/controls",
      "model_module_version": "2.0.0",
      "model_name": "HBoxModel",
      "state": {
       "children": [
        "IPY_MODEL_dd4a0a33ee444d08867221955594c198",
        "IPY_MODEL_7cd40f33c45a498bab9748296ea79b36",
        "IPY_MODEL_9d221ad452404e1a9f6554d3ae3fa196"
       ],
       "layout": "IPY_MODEL_bf82f9cc3f7d4c6eb93a3c3761c1f26e"
      }
     },
     "628f5f4a80fb49d2a55bac85a7ffff7b": {
      "model_module": "@jupyter-widgets/controls",
      "model_module_version": "2.0.0",
      "model_name": "TextStyleModel",
      "state": {
       "description_width": "",
       "font_size": null,
       "text_color": null
      }
     },
     "62c2bcff7b0d44619782d5b3228faa40": {
      "model_module": "@jupyter-widgets/controls",
      "model_module_version": "2.0.0",
      "model_name": "PasswordModel",
      "state": {
       "description": "Password: ",
       "layout": "IPY_MODEL_4536f4ed5942428dbe68cc239ba5cda9",
       "style": "IPY_MODEL_24fe0e501a724e5f8fd0313510e318ba"
      }
     },
     "62ebd1923f454cb8afb7462fe4d6be87": {
      "model_module": "@jupyter-widgets/base",
      "model_module_version": "2.0.0",
      "model_name": "LayoutModel",
      "state": {
       "width": "95%"
      }
     },
     "63200de133a34d4db6866e74614c2467": {
      "model_module": "@jupyter-widgets/base",
      "model_module_version": "2.0.0",
      "model_name": "LayoutModel",
      "state": {}
     },
     "633cdbc529fc4cf4b1cfab082bbd69e4": {
      "model_module": "@jupyter-widgets/controls",
      "model_module_version": "2.0.0",
      "model_name": "ButtonModel",
      "state": {
       "description": "Login",
       "layout": "IPY_MODEL_ba51319320d64e25a74641627dd78b7d",
       "style": "IPY_MODEL_6e0f85acc6614810bb0c995279178a6c",
       "tooltip": null
      }
     },
     "63535bfcb9224be893ee8f3a20a62d90": {
      "model_module": "@jupyter-widgets/controls",
      "model_module_version": "2.0.0",
      "model_name": "TextStyleModel",
      "state": {
       "description_width": "",
       "font_size": null,
       "text_color": null
      }
     },
     "63c3e65c601148ffb4abda6c72eb6a0a": {
      "model_module": "@jupyter-widgets/controls",
      "model_module_version": "2.0.0",
      "model_name": "IntTextModel",
      "state": {
       "description": "Max count:",
       "layout": "IPY_MODEL_617c4e8e8ddf4735990d34d1c10001fb",
       "step": 1,
       "style": "IPY_MODEL_2b40be885a434d9bb13e34cd1f65d4bb"
      }
     },
     "64aa896ced0142a1929542bb62e8026b": {
      "model_module": "@jupyter-widgets/controls",
      "model_module_version": "2.0.0",
      "model_name": "TextStyleModel",
      "state": {
       "description_width": "",
       "font_size": null,
       "text_color": null
      }
     },
     "64f13f1d7cdf442b98ccacb0c43ce26f": {
      "model_module": "@jupyter-widgets/base",
      "model_module_version": "2.0.0",
      "model_name": "LayoutModel",
      "state": {}
     },
     "6549e5767ba14583ad549df09588460f": {
      "model_module": "@jupyter-widgets/controls",
      "model_module_version": "2.0.0",
      "model_name": "TextModel",
      "state": {
       "description": "Input Path",
       "layout": "IPY_MODEL_173477d42bd2483a8a53893f9e99ac49",
       "style": "IPY_MODEL_a27b001a213947f3a03c3f9667b1d43b",
       "tooltip": "Path to input directory or archive"
      }
     },
     "658b6ff31030427a998489c9ad2a8fb7": {
      "model_module": "@jupyter-widgets/controls",
      "model_module_version": "2.0.0",
      "model_name": "TextModel",
      "state": {
       "description": "Customer ID: ",
       "layout": "IPY_MODEL_1ae014cd701848b7864f244c1ff2f872",
       "style": "IPY_MODEL_a4694c7083a84db9ab853c488896b10f"
      }
     },
     "65a6c4e101274c138c4f60db90730061": {
      "model_module": "@jupyter-widgets/controls",
      "model_module_version": "2.0.0",
      "model_name": "ButtonModel",
      "state": {
       "description": "Start export",
       "layout": "IPY_MODEL_7208eb3fa6a44336b8418a6d33bb555e",
       "style": "IPY_MODEL_fc2c3707f8724cfab0092675f730e34e",
       "tooltip": null
      }
     },
     "65b002ff5bac4a7bab44c56314b80b26": {
      "model_module": "@jupyter-widgets/controls",
      "model_module_version": "2.0.0",
      "model_name": "CheckboxStyleModel",
      "state": {
       "description_width": ""
      }
     },
     "661a76802aa5465090273bce9e963b93": {
      "model_module": "@jupyter-widgets/controls",
      "model_module_version": "2.0.0",
      "model_name": "DescriptionStyleModel",
      "state": {
       "description_width": ""
      }
     },
     "662bdadb7aa4445c9149e1ad139908bb": {
      "model_module": "@jupyter-widgets/base",
      "model_module_version": "2.0.0",
      "model_name": "LayoutModel",
      "state": {}
     },
     "66614ecbdd604b74bcf2b9e291a44a6b": {
      "model_module": "@jupyter-widgets/controls",
      "model_module_version": "2.0.0",
      "model_name": "ButtonStyleModel",
      "state": {
       "font_family": null,
       "font_size": null,
       "font_style": null,
       "font_variant": null,
       "font_weight": null,
       "text_color": null,
       "text_decoration": null
      }
     },
     "66bbd58817fd4ec6b6f3847dd25f9f53": {
      "model_module": "@jupyter-widgets/controls",
      "model_module_version": "2.0.0",
      "model_name": "ButtonModel",
      "state": {
       "description": "Start export",
       "layout": "IPY_MODEL_ead391b070634d12bc522b3528595293",
       "style": "IPY_MODEL_9ab9e66eb502468895e2523e47954abe",
       "tooltip": null
      }
     },
     "66f33d0e4eef49489e0b367c33394154": {
      "model_module": "@jupyter-widgets/controls",
      "model_module_version": "2.0.0",
      "model_name": "HBoxModel",
      "state": {
       "children": [
        "IPY_MODEL_eb31fe1b5a3144b0b9db9a95ccc18adf",
        "IPY_MODEL_bd7f231035a842049ec02be1fc9c8b93",
        "IPY_MODEL_2c86e47ffe8c47a1a605dbb52618ccf6"
       ],
       "layout": "IPY_MODEL_0b3353dea1014ef49e99f1887dcbadbe"
      }
     },
     "66fb41a761a4438f9c2dfe8cc37e4476": {
      "model_module": "@jupyter-widgets/base",
      "model_module_version": "2.0.0",
      "model_name": "LayoutModel",
      "state": {
       "width": "20%"
      }
     },
     "67076cc790634602a35801d6f3d27d3a": {
      "model_module": "@jupyter-widgets/base",
      "model_module_version": "2.0.0",
      "model_name": "LayoutModel",
      "state": {}
     },
     "676574e00e424602b7a51b3269cf3acd": {
      "model_module": "@jupyter-widgets/base",
      "model_module_version": "2.0.0",
      "model_name": "LayoutModel",
      "state": {}
     },
     "67966efee7a5405cb40cec2195fb2605": {
      "model_module": "@jupyter-widgets/controls",
      "model_module_version": "2.0.0",
      "model_name": "DescriptionStyleModel",
      "state": {
       "description_width": ""
      }
     },
     "67b00e0b75bd436e808dda14b1c83857": {
      "model_module": "@jupyter-widgets/controls",
      "model_module_version": "2.0.0",
      "model_name": "TextModel",
      "state": {
       "description": "Input Path",
       "layout": "IPY_MODEL_c5d543f3a6ea40bba10baf5637f55683",
       "style": "IPY_MODEL_52d1a90b7f814e7881d802933e85fc8f",
       "tooltip": "Path to input directory or archive"
      }
     },
     "67e398cb08b04b789e258579a062fea4": {
      "model_module": "@jupyter-widgets/base",
      "model_module_version": "2.0.0",
      "model_name": "LayoutModel",
      "state": {}
     },
     "67fc8c5ba3454eb082f496f8b69ed278": {
      "model_module": "@jupyter-widgets/base",
      "model_module_version": "2.0.0",
      "model_name": "LayoutModel",
      "state": {}
     },
     "689a7704002b47ca8ebceda77648b358": {
      "model_module": "@jupyter-widgets/base",
      "model_module_version": "2.0.0",
      "model_name": "LayoutModel",
      "state": {}
     },
     "68abc3ef90b04b3781c879747ae5c2fd": {
      "model_module": "@jupyter-widgets/controls",
      "model_module_version": "2.0.0",
      "model_name": "PasswordModel",
      "state": {
       "description": "Password: ",
       "layout": "IPY_MODEL_9a8646cc36794f6d8d416be0832edd25",
       "style": "IPY_MODEL_f253a884d2194d74a9092875710db65a"
      }
     },
     "6901d3dcda2c44d880f7f06c30f07e59": {
      "model_module": "@jupyter-widgets/controls",
      "model_module_version": "2.0.0",
      "model_name": "TextModel",
      "state": {
       "description": "Output Path",
       "layout": "IPY_MODEL_00c90be71094452abf5cb15f3ff20f2e",
       "style": "IPY_MODEL_87fa367a27c64c6288d281fb5cc428c2"
      }
     },
     "69137eaf6835431da1ce41bed9c22866": {
      "model_module": "@jupyter-widgets/controls",
      "model_module_version": "2.0.0",
      "model_name": "HTMLModel",
      "state": {
       "layout": "IPY_MODEL_11b2f7b33c374fe4b0053a0f2072d34a",
       "style": "IPY_MODEL_c6f8830964dc4563a86435381792e436",
       "value": "Charges: 100%"
      }
     },
     "6986e9390bd2450683050c7b16f0bc47": {
      "model_module": "@jupyter-widgets/base",
      "model_module_version": "2.0.0",
      "model_name": "LayoutModel",
      "state": {}
     },
     "698e663957564dd48450d9260cee68a7": {
      "model_module": "@jupyter-widgets/base",
      "model_module_version": "2.0.0",
      "model_name": "LayoutModel",
      "state": {}
     },
     "6a11b9a08aef41f79c95a367ea3f9444": {
      "model_module": "@jupyter-widgets/base",
      "model_module_version": "2.0.0",
      "model_name": "LayoutModel",
      "state": {
       "width": "20%"
      }
     },
     "6a9ae0169bfc4ab99dedb73d1657e0c7": {
      "model_module": "@jupyter-widgets/base",
      "model_module_version": "2.0.0",
      "model_name": "LayoutModel",
      "state": {
       "width": "95%"
      }
     },
     "6abb28972d4d4303b012891c4335629e": {
      "model_module": "@jupyter-widgets/base",
      "model_module_version": "2.0.0",
      "model_name": "LayoutModel",
      "state": {}
     },
     "6b567740f6cd401dbc599a65679a9c6b": {
      "model_module": "@jupyter-widgets/controls",
      "model_module_version": "2.0.0",
      "model_name": "CheckboxStyleModel",
      "state": {
       "description_width": ""
      }
     },
     "6b5b9e641c1847ecb5d6a82fac9667fa": {
      "model_module": "@jupyter-widgets/controls",
      "model_module_version": "2.0.0",
      "model_name": "CheckboxModel",
      "state": {
       "description": "Split in batches",
       "disabled": false,
       "layout": "IPY_MODEL_8fc7d0698f794cc488f4a79c85c61809",
       "style": "IPY_MODEL_88761b2692294c729b63c2ccb54deb92",
       "value": false
      }
     },
     "6be83ffcd64d44eeafcb34cbb63e7ea7": {
      "model_module": "@jupyter-widgets/base",
      "model_module_version": "2.0.0",
      "model_name": "LayoutModel",
      "state": {
       "width": "95%"
      }
     },
     "6c14b8baa28d4caf9cd35ccadcec8517": {
      "model_module": "@jupyter-widgets/controls",
      "model_module_version": "2.0.0",
      "model_name": "CheckboxModel",
      "state": {
       "description": "Remove duplicates",
       "disabled": false,
       "layout": "IPY_MODEL_85c8a18867864f86a8d62bb2ad8a3d0c",
       "style": "IPY_MODEL_773dbb00b0e04be0b92281705f105819",
       "value": false
      }
     },
     "6c3a5734b55b4f5aabf8cf4d6e136bc4": {
      "model_module": "@jupyter-widgets/controls",
      "model_module_version": "2.0.0",
      "model_name": "DescriptionStyleModel",
      "state": {
       "description_width": ""
      }
     },
     "6c42776c8c0c43a5a35c56968833cc8e": {
      "model_module": "@jupyter-widgets/controls",
      "model_module_version": "2.0.0",
      "model_name": "TextStyleModel",
      "state": {
       "description_width": "",
       "font_size": null,
       "text_color": null
      }
     },
     "6d90949838f24b4aa068439befc0b69d": {
      "model_module": "@jupyter-widgets/controls",
      "model_module_version": "2.0.0",
      "model_name": "IntTextModel",
      "state": {
       "description": "Max count:",
       "layout": "IPY_MODEL_9dae7a08a63a4a4b94c01e341a45e01e",
       "step": 1,
       "style": "IPY_MODEL_33f2bbeb719d42f7856e9ac0061cdb8b"
      }
     },
     "6d9f05ff467f48449d973238e3f05589": {
      "model_module": "@jupyter-widgets/base",
      "model_module_version": "2.0.0",
      "model_name": "LayoutModel",
      "state": {}
     },
     "6e0f85acc6614810bb0c995279178a6c": {
      "model_module": "@jupyter-widgets/controls",
      "model_module_version": "2.0.0",
      "model_name": "ButtonStyleModel",
      "state": {
       "font_family": null,
       "font_size": null,
       "font_style": null,
       "font_variant": null,
       "font_weight": null,
       "text_color": null,
       "text_decoration": null
      }
     },
     "6e62c989f4a74a8a89994b8d30e1a77e": {
      "model_module": "@jupyter-widgets/controls",
      "model_module_version": "2.0.0",
      "model_name": "ButtonStyleModel",
      "state": {
       "font_family": null,
       "font_size": null,
       "font_style": null,
       "font_variant": null,
       "font_weight": null,
       "text_color": null,
       "text_decoration": null
      }
     },
     "6e67926d95c4485cbcb155285661dce2": {
      "model_module": "@jupyter-widgets/base",
      "model_module_version": "2.0.0",
      "model_name": "LayoutModel",
      "state": {
       "width": "95%"
      }
     },
     "6e780ee30e384f8c9bcc37658c335a2d": {
      "model_module": "@jupyter-widgets/base",
      "model_module_version": "2.0.0",
      "model_name": "LayoutModel",
      "state": {
       "width": "20%"
      }
     },
     "6e7d9227555442eb8ddac927b1c8c46f": {
      "model_module": "@jupyter-widgets/controls",
      "model_module_version": "2.0.0",
      "model_name": "DescriptionStyleModel",
      "state": {
       "description_width": ""
      }
     },
     "6ea35657d1e5433492240637f11cbdfb": {
      "model_module": "@jupyter-widgets/controls",
      "model_module_version": "2.0.0",
      "model_name": "HBoxModel",
      "state": {
       "children": [
        "IPY_MODEL_c8b4a559d998462b816d7b19e80e7d3e",
        "IPY_MODEL_3584be37a6bf4a048e721ae5a976c754",
        "IPY_MODEL_071f4ee7787c43498b85f5a9f5a20a79"
       ],
       "layout": "IPY_MODEL_7ef26bf899504f7a9679c932002a51a7"
      }
     },
     "6eb6e603a27847dabc290b4e392ca1ad": {
      "model_module": "@jupyter-widgets/controls",
      "model_module_version": "2.0.0",
      "model_name": "ButtonStyleModel",
      "state": {
       "font_family": null,
       "font_size": null,
       "font_style": null,
       "font_variant": null,
       "font_weight": null,
       "text_color": null,
       "text_decoration": null
      }
     },
     "6eebb8887daf41cea7d372a90d39866e": {
      "model_module": "@jupyter-widgets/base",
      "model_module_version": "2.0.0",
      "model_name": "LayoutModel",
      "state": {
       "width": "20%"
      }
     },
     "6f1e227f14a3418193c80c679269f0b5": {
      "model_module": "@jupyter-widgets/base",
      "model_module_version": "2.0.0",
      "model_name": "LayoutModel",
      "state": {}
     },
     "6fa0939253884735ad776095c864ce50": {
      "model_module": "@jupyter-widgets/controls",
      "model_module_version": "2.0.0",
      "model_name": "ButtonStyleModel",
      "state": {
       "font_family": null,
       "font_size": null,
       "font_style": null,
       "font_variant": null,
       "font_weight": null,
       "text_color": null,
       "text_decoration": null
      }
     },
     "6fa8f16e9bd04385b61b78106c0a4b66": {
      "model_module": "@jupyter-widgets/controls",
      "model_module_version": "2.0.0",
      "model_name": "TextStyleModel",
      "state": {
       "description_width": "",
       "font_size": null,
       "text_color": null
      }
     },
     "703731db0fbf467180b4af223785d67d": {
      "model_module": "@jupyter-widgets/base",
      "model_module_version": "2.0.0",
      "model_name": "LayoutModel",
      "state": {
       "width": "20%"
      }
     },
     "703de9f1ae7149ad88c9f1b6630f3eaa": {
      "model_module": "@jupyter-widgets/base",
      "model_module_version": "2.0.0",
      "model_name": "LayoutModel",
      "state": {}
     },
     "70a72e5370d9454cabf62edef9061768": {
      "model_module": "@jupyter-widgets/controls",
      "model_module_version": "2.0.0",
      "model_name": "TextModel",
      "state": {
       "description": "Input Path",
       "layout": "IPY_MODEL_792970fb24bf40a3afcc7889112ee300",
       "style": "IPY_MODEL_c31f2e98b9374e25bd6c1552ce916ccf",
       "tooltip": "Path to input directory or archive"
      }
     },
     "70b646d4f65b4079861385feb4790580": {
      "model_module": "@jupyter-widgets/controls",
      "model_module_version": "2.0.0",
      "model_name": "ButtonModel",
      "state": {
       "description": "Start archiving",
       "layout": "IPY_MODEL_fb739a9797f34c08ac08df463ced1597",
       "style": "IPY_MODEL_45499b2a765247b9b1789fb0ff1f8f59",
       "tooltip": null
      }
     },
     "70f8b8cee30140a694f4cc2846ceb5f2": {
      "model_module": "@jupyter-widgets/controls",
      "model_module_version": "2.0.0",
      "model_name": "TextStyleModel",
      "state": {
       "description_width": "",
       "font_size": null,
       "text_color": null
      }
     },
     "70fe0636eb294057be4e84dea162580b": {
      "model_module": "@jupyter-widgets/controls",
      "model_module_version": "2.0.0",
      "model_name": "ProgressStyleModel",
      "state": {
       "description_width": ""
      }
     },
     "718a923c11514143888764d165391e7f": {
      "model_module": "@jupyter-widgets/controls",
      "model_module_version": "2.0.0",
      "model_name": "CheckboxStyleModel",
      "state": {
       "description_width": ""
      }
     },
     "71a0d20046af4c99a12dafd42d642f0e": {
      "model_module": "@jupyter-widgets/controls",
      "model_module_version": "2.0.0",
      "model_name": "CheckboxStyleModel",
      "state": {
       "description_width": ""
      }
     },
     "71e3a33c90b34e48824c1482893702c3": {
      "model_module": "@jupyter-widgets/controls",
      "model_module_version": "2.0.0",
      "model_name": "IntTextModel",
      "state": {
       "description": "Max count:",
       "layout": "IPY_MODEL_d31f04246b0742dcabee28bb729921b9",
       "step": 1,
       "style": "IPY_MODEL_89b9058406ab4e8e9c035690d1571707"
      }
     },
     "7208eb3fa6a44336b8418a6d33bb555e": {
      "model_module": "@jupyter-widgets/base",
      "model_module_version": "2.0.0",
      "model_name": "LayoutModel",
      "state": {}
     },
     "725346bb89094fc69dc6adf5e6c9bd8b": {
      "model_module": "@jupyter-widgets/base",
      "model_module_version": "2.0.0",
      "model_name": "LayoutModel",
      "state": {
       "width": "95%"
      }
     },
     "729819b42cca476288b49fffe66cd05b": {
      "model_module": "@jupyter-widgets/base",
      "model_module_version": "2.0.0",
      "model_name": "LayoutModel",
      "state": {
       "width": "95%"
      }
     },
     "72c867366e824719b58b1486b3121b57": {
      "model_module": "@jupyter-widgets/base",
      "model_module_version": "2.0.0",
      "model_name": "LayoutModel",
      "state": {}
     },
     "7319b691977041c2acfeb75e791b3d2c": {
      "model_module": "@jupyter-widgets/base",
      "model_module_version": "2.0.0",
      "model_name": "LayoutModel",
      "state": {
       "width": "95%"
      }
     },
     "7329ae4605304805acd5d6949920c1b9": {
      "model_module": "@jupyter-widgets/controls",
      "model_module_version": "2.0.0",
      "model_name": "CheckboxStyleModel",
      "state": {
       "description_width": ""
      }
     },
     "7368d2b3ad364cc8832cb1d6b0fc1163": {
      "model_module": "@jupyter-widgets/controls",
      "model_module_version": "2.0.0",
      "model_name": "HBoxModel",
      "state": {
       "children": [
        "IPY_MODEL_cb9cee64f36a4acbb349975a61885f24",
        "IPY_MODEL_2dae514eb488434289c04bf54f72dcaa",
        "IPY_MODEL_2ba2213322ea4dcfb300b615e338d1c5"
       ],
       "layout": "IPY_MODEL_e9d2a9022e9e494cb33d031795955031"
      }
     },
     "73aef16d82c8443680518e3ce07fa319": {
      "model_module": "@jupyter-widgets/output",
      "model_module_version": "1.0.0",
      "model_name": "OutputModel",
      "state": {
       "layout": "IPY_MODEL_085cdce78ce94fe7b1fe3ad2489047b8"
      }
     },
     "73f756ec77a841feaef291db875b515a": {
      "model_module": "@jupyter-widgets/controls",
      "model_module_version": "2.0.0",
      "model_name": "PasswordModel",
      "state": {
       "description": "Password: ",
       "layout": "IPY_MODEL_7c5cf4e1878040f68777ebc68c7e2500",
       "style": "IPY_MODEL_8f0c89b34094473c8dbeb49d86aa7026"
      }
     },
     "744062b5ec514c9886a66bf2a2b7f604": {
      "model_module": "@jupyter-widgets/controls",
      "model_module_version": "2.0.0",
      "model_name": "TextModel",
      "state": {
       "description": "Output Path",
       "layout": "IPY_MODEL_079f330a5e8547c7bec37d6f9b7cc4a7",
       "style": "IPY_MODEL_544a1f1f8c8141b7be805ee43ba5d3d8"
      }
     },
     "74691874bbd945738be5540f3bb9ba8c": {
      "model_module": "@jupyter-widgets/controls",
      "model_module_version": "2.0.0",
      "model_name": "DescriptionStyleModel",
      "state": {
       "description_width": ""
      }
     },
     "74e8994189b3410ba51de6fdd56cd630": {
      "model_module": "@jupyter-widgets/controls",
      "model_module_version": "2.0.0",
      "model_name": "TextStyleModel",
      "state": {
       "description_width": "",
       "font_size": null,
       "text_color": null
      }
     },
     "74f2be7032a74af0b8b1ee492a8ee083": {
      "model_module": "@jupyter-widgets/controls",
      "model_module_version": "2.0.0",
      "model_name": "FloatTextModel",
      "state": {
       "description": "Speed",
       "layout": "IPY_MODEL_a6716a1e48ba472ab6451d2bb412cf49",
       "step": 0.1,
       "style": "IPY_MODEL_a38055c1aff84b2d9f200f66bd65099f",
       "value": 1
      }
     },
     "752afb5c8b2a4015b63b65adfec72a72": {
      "model_module": "@jupyter-widgets/base",
      "model_module_version": "2.0.0",
      "model_name": "LayoutModel",
      "state": {}
     },
     "7556fa01f7944b5e8ee11a63bde00035": {
      "model_module": "@jupyter-widgets/controls",
      "model_module_version": "2.0.0",
      "model_name": "HTMLModel",
      "state": {
       "layout": "IPY_MODEL_19054c9bda464a5cb4c11866a9250cb8",
       "style": "IPY_MODEL_61a5de125ac5465abeb9e3483d66269f",
       "value": "Fee Sheets: 100%"
      }
     },
     "7569b72c1f9140c7929681bb42f0a8f9": {
      "model_module": "@jupyter-widgets/controls",
      "model_module_version": "2.0.0",
      "model_name": "DescriptionStyleModel",
      "state": {
       "description_width": ""
      }
     },
     "75e719182afa46d986c85ea9a75ee97c": {
      "model_module": "@jupyter-widgets/controls",
      "model_module_version": "2.0.0",
      "model_name": "DescriptionStyleModel",
      "state": {
       "description_width": ""
      }
     },
     "760320a7544645ef91f1c6ac9f3bf642": {
      "model_module": "@jupyter-widgets/base",
      "model_module_version": "2.0.0",
      "model_name": "LayoutModel",
      "state": {}
     },
     "7605fe66269046889db0a12f8c89e020": {
      "model_module": "@jupyter-widgets/controls",
      "model_module_version": "2.0.0",
      "model_name": "TextModel",
      "state": {
       "description": "Customer ID: ",
       "layout": "IPY_MODEL_7775495f16ab40288c9d2e7dde04ee7c",
       "style": "IPY_MODEL_8e612cc5e95b48e28bc8b0035563da72"
      }
     },
     "765981a7dd7c4b1d91f52080f95b6a72": {
      "model_module": "@jupyter-widgets/controls",
      "model_module_version": "2.0.0",
      "model_name": "ButtonStyleModel",
      "state": {
       "font_family": null,
       "font_size": null,
       "font_style": null,
       "font_variant": null,
       "font_weight": null,
       "text_color": null,
       "text_decoration": null
      }
     },
     "76b3fa10b84f46b888f8e08cf16ffd88": {
      "model_module": "@jupyter-widgets/base",
      "model_module_version": "2.0.0",
      "model_name": "LayoutModel",
      "state": {}
     },
     "76bfd61be2724e8f8985a776e7d92311": {
      "model_module": "@jupyter-widgets/controls",
      "model_module_version": "2.0.0",
      "model_name": "CheckboxModel",
      "state": {
       "description": "Split in batches",
       "disabled": false,
       "layout": "IPY_MODEL_8a8017582ae1439d942e400a34f83bb5",
       "style": "IPY_MODEL_2224380b88ed4e1a99ef6d3926a900be",
       "value": false
      }
     },
     "773dbb00b0e04be0b92281705f105819": {
      "model_module": "@jupyter-widgets/controls",
      "model_module_version": "2.0.0",
      "model_name": "CheckboxStyleModel",
      "state": {
       "description_width": ""
      }
     },
     "774275f9ae024ca8b9254109c0e7b3c8": {
      "model_module": "@jupyter-widgets/base",
      "model_module_version": "2.0.0",
      "model_name": "LayoutModel",
      "state": {
       "width": "95%"
      }
     },
     "7775495f16ab40288c9d2e7dde04ee7c": {
      "model_module": "@jupyter-widgets/base",
      "model_module_version": "2.0.0",
      "model_name": "LayoutModel",
      "state": {}
     },
     "7784b1d62fdf49e8ba286206367a6493": {
      "model_module": "@jupyter-widgets/controls",
      "model_module_version": "2.0.0",
      "model_name": "TextModel",
      "state": {
       "description": "Input Path",
       "layout": "IPY_MODEL_4821e0e4df3c482e9b588ae39ba9995b",
       "style": "IPY_MODEL_608fbbcad1794a2bbc5c8a848a442070",
       "tooltip": "Path to PDF directory"
      }
     },
     "778dd8764c884facac44f22275b1c7e9": {
      "model_module": "@jupyter-widgets/controls",
      "model_module_version": "2.0.0",
      "model_name": "TextStyleModel",
      "state": {
       "description_width": "",
       "font_size": null,
       "text_color": null
      }
     },
     "77d8818a4eca4dd182e0e85243300ac0": {
      "model_module": "@jupyter-widgets/controls",
      "model_module_version": "2.0.0",
      "model_name": "HTMLStyleModel",
      "state": {
       "description_width": "",
       "font_size": null,
       "text_color": null
      }
     },
     "78420830cf3f48d6a7756c39e73df407": {
      "model_module": "@jupyter-widgets/base",
      "model_module_version": "2.0.0",
      "model_name": "LayoutModel",
      "state": {
       "width": "95%"
      }
     },
     "78492c56c91f430da1ec1f97c3db7fef": {
      "model_module": "@jupyter-widgets/base",
      "model_module_version": "2.0.0",
      "model_name": "LayoutModel",
      "state": {}
     },
     "785045c5ecb04028acee514d48ece69e": {
      "model_module": "@jupyter-widgets/controls",
      "model_module_version": "2.0.0",
      "model_name": "CheckboxModel",
      "state": {
       "description": "Allow overwrite",
       "disabled": false,
       "layout": "IPY_MODEL_7cd9bcbd44aa4fdfbc2a22d61acf3c34",
       "style": "IPY_MODEL_5cb29fe4031242a0a7de2da561217fcf",
       "value": false
      }
     },
     "78bba231bed74603b591be83ebabd5eb": {
      "model_module": "@jupyter-widgets/controls",
      "model_module_version": "2.0.0",
      "model_name": "CheckboxStyleModel",
      "state": {
       "description_width": ""
      }
     },
     "78c43e2f411e4188bcde9ec920b11838": {
      "model_module": "@jupyter-widgets/base",
      "model_module_version": "2.0.0",
      "model_name": "LayoutModel",
      "state": {
       "width": "20%"
      }
     },
     "78f23adbc8b74aa09325bdc56b58d4d7": {
      "model_module": "@jupyter-widgets/controls",
      "model_module_version": "2.0.0",
      "model_name": "HBoxModel",
      "state": {
       "children": [
        "IPY_MODEL_d2984e61f62340e8ad43b420dc804357",
        "IPY_MODEL_1bf83a400bc347d7ad02ec340b06f2dc",
        "IPY_MODEL_ed74b8cdd3dc4e10a43f60a338dedfc9"
       ],
       "layout": "IPY_MODEL_a0c25f3c90694408be4a937dee5c45a5"
      }
     },
     "791be8e1b3194dc6a626afcffc643dd5": {
      "model_module": "@jupyter-widgets/base",
      "model_module_version": "2.0.0",
      "model_name": "LayoutModel",
      "state": {}
     },
     "792970fb24bf40a3afcc7889112ee300": {
      "model_module": "@jupyter-widgets/base",
      "model_module_version": "2.0.0",
      "model_name": "LayoutModel",
      "state": {
       "width": "95%"
      }
     },
     "7939c36927584278ab21e66b2810cfb9": {
      "model_module": "@jupyter-widgets/base",
      "model_module_version": "2.0.0",
      "model_name": "LayoutModel",
      "state": {
       "width": "95%"
      }
     },
     "794ee4cb0d5942abade9f34e027e52f3": {
      "model_module": "@jupyter-widgets/base",
      "model_module_version": "2.0.0",
      "model_name": "LayoutModel",
      "state": {}
     },
     "796810aa902e48319798c0acb4c8f6ea": {
      "model_module": "@jupyter-widgets/controls",
      "model_module_version": "2.0.0",
      "model_name": "ButtonStyleModel",
      "state": {
       "font_family": null,
       "font_size": null,
       "font_style": null,
       "font_variant": null,
       "font_weight": null,
       "text_color": null,
       "text_decoration": null
      }
     },
     "79a4ea5dfac845a0820c159cf145e86e": {
      "model_module": "@jupyter-widgets/base",
      "model_module_version": "2.0.0",
      "model_name": "LayoutModel",
      "state": {}
     },
     "7abda8adc40a4c5f992fca62c068c00f": {
      "model_module": "@jupyter-widgets/base",
      "model_module_version": "2.0.0",
      "model_name": "LayoutModel",
      "state": {}
     },
     "7aeefa44a5d8481a9b7e0432b29b1bcf": {
      "model_module": "@jupyter-widgets/base",
      "model_module_version": "2.0.0",
      "model_name": "LayoutModel",
      "state": {}
     },
     "7aeff46454264ff582c85762d4dd7454": {
      "model_module": "@jupyter-widgets/base",
      "model_module_version": "2.0.0",
      "model_name": "LayoutModel",
      "state": {}
     },
     "7ba35a4eb1364a59afcb88300a7d0386": {
      "model_module": "@jupyter-widgets/controls",
      "model_module_version": "2.0.0",
      "model_name": "CheckboxStyleModel",
      "state": {
       "description_width": ""
      }
     },
     "7c5cf4e1878040f68777ebc68c7e2500": {
      "model_module": "@jupyter-widgets/base",
      "model_module_version": "2.0.0",
      "model_name": "LayoutModel",
      "state": {}
     },
     "7c623e0359cd419cacc633ca0eb73ad1": {
      "model_module": "@jupyter-widgets/controls",
      "model_module_version": "2.0.0",
      "model_name": "CheckboxStyleModel",
      "state": {
       "description_width": ""
      }
     },
     "7cd40f33c45a498bab9748296ea79b36": {
      "model_module": "@jupyter-widgets/controls",
      "model_module_version": "2.0.0",
      "model_name": "FloatProgressModel",
      "state": {
       "bar_style": "success",
       "layout": "IPY_MODEL_4db44b9b5f6b47fe884f33935de45e05",
       "max": 368,
       "style": "IPY_MODEL_70fe0636eb294057be4e84dea162580b",
       "value": 368
      }
     },
     "7cd9bcbd44aa4fdfbc2a22d61acf3c34": {
      "model_module": "@jupyter-widgets/base",
      "model_module_version": "2.0.0",
      "model_name": "LayoutModel",
      "state": {}
     },
     "7cf39f96f229446ebe6ea6f596447396": {
      "model_module": "@jupyter-widgets/controls",
      "model_module_version": "2.0.0",
      "model_name": "ButtonStyleModel",
      "state": {
       "font_family": null,
       "font_size": null,
       "font_style": null,
       "font_variant": null,
       "font_weight": null,
       "text_color": null,
       "text_decoration": null
      }
     },
     "7d6d949d5ff84a47887f9cfe05251548": {
      "model_module": "@jupyter-widgets/controls",
      "model_module_version": "2.0.0",
      "model_name": "HBoxModel",
      "state": {
       "children": [
        "IPY_MODEL_8baeba4aab5d46a297949cec4831eed9",
        "IPY_MODEL_0566b6017eac4ef784474792719cc34d",
        "IPY_MODEL_d54fa2b2df6d46b6825f9d9f41ca4152"
       ],
       "layout": "IPY_MODEL_774275f9ae024ca8b9254109c0e7b3c8"
      }
     },
     "7d75b1c875d64ad0ab06c56a6761fd0a": {
      "model_module": "@jupyter-widgets/controls",
      "model_module_version": "2.0.0",
      "model_name": "CheckboxStyleModel",
      "state": {
       "description_width": ""
      }
     },
     "7d7ba7d9cf0847e892a5a475a99967e7": {
      "model_module": "@jupyter-widgets/controls",
      "model_module_version": "2.0.0",
      "model_name": "HBoxModel",
      "state": {
       "children": [
        "IPY_MODEL_b1835d08770149259dcfd2b2a3f6e04b",
        "IPY_MODEL_8bdc80ab1e9143bbb4ab9fd744f2d2b9",
        "IPY_MODEL_f80a38dfc9e84fae9e86f41b7ed4f319"
       ],
       "layout": "IPY_MODEL_8416db411c60467992d521fa1932ed87"
      }
     },
     "7e28af1c533949398a14e3e34a245352": {
      "model_module": "@jupyter-widgets/base",
      "model_module_version": "2.0.0",
      "model_name": "LayoutModel",
      "state": {
       "width": "95%"
      }
     },
     "7eab368cfa7c4225ba058df5eb314a2a": {
      "model_module": "@jupyter-widgets/controls",
      "model_module_version": "2.0.0",
      "model_name": "CheckboxStyleModel",
      "state": {
       "description_width": ""
      }
     },
     "7ef26bf899504f7a9679c932002a51a7": {
      "model_module": "@jupyter-widgets/base",
      "model_module_version": "2.0.0",
      "model_name": "LayoutModel",
      "state": {}
     },
     "7f348e6b78f44eff882a3dac52e929b9": {
      "model_module": "@jupyter-widgets/base",
      "model_module_version": "2.0.0",
      "model_name": "LayoutModel",
      "state": {}
     },
     "7fa25dc20695410fba7f3e76e22ec178": {
      "model_module": "@jupyter-widgets/base",
      "model_module_version": "2.0.0",
      "model_name": "LayoutModel",
      "state": {}
     },
     "7fa5c9ac84e3462ebf8448f0c7a524c9": {
      "model_module": "@jupyter-widgets/controls",
      "model_module_version": "2.0.0",
      "model_name": "TextModel",
      "state": {
       "description": "Input Path:",
       "layout": "IPY_MODEL_d9dd91f98d21402db2a0ea635108290f",
       "style": "IPY_MODEL_e0233539e90347f4b4a996219e72ef7f",
       "tooltip": "Path to query template spreadsheet (list of names, etc. to search)"
      }
     },
     "7fc707b6af8444bd8aec89eb2f4347c3": {
      "model_module": "@jupyter-widgets/base",
      "model_module_version": "2.0.0",
      "model_name": "LayoutModel",
      "state": {
       "width": "95%"
      }
     },
     "804004b8f18e4186ba356fbd7f6c1782": {
      "model_module": "@jupyter-widgets/controls",
      "model_module_version": "2.0.0",
      "model_name": "HBoxModel",
      "state": {
       "children": [
        "IPY_MODEL_f112bb260b5e4178bd2fc1d0e4f5282c",
        "IPY_MODEL_3ff0c65ccd214dc2af01710d14afb138",
        "IPY_MODEL_ce5cbe9ae24248c092cef6a3b9c10508"
       ],
       "layout": "IPY_MODEL_d3ab27a5938c4d8e9340f5ed3141b251"
      }
     },
     "80496e63f22c490daec131374519f52e": {
      "model_module": "@jupyter-widgets/controls",
      "model_module_version": "2.0.0",
      "model_name": "TextModel",
      "state": {
       "description": "Input Path",
       "layout": "IPY_MODEL_500082b213f145a88e2c37ec0f785cc8",
       "style": "IPY_MODEL_d2c58505c48540dc91851c1611b5cf96",
       "tooltip": "Path to PDF directory"
      }
     },
     "804dab56b57241758ce1316f5e4c8ae3": {
      "model_module": "@jupyter-widgets/base",
      "model_module_version": "2.0.0",
      "model_name": "LayoutModel",
      "state": {}
     },
     "809680b7464d40c5aa5cfb63b1a49dd2": {
      "model_module": "@jupyter-widgets/controls",
      "model_module_version": "2.0.0",
      "model_name": "CheckboxModel",
      "state": {
       "description": "ZIP export (must be .json, .csv)",
       "disabled": false,
       "layout": "IPY_MODEL_e81adea6b7044031bf063cbfaf921607",
       "style": "IPY_MODEL_092bfdfdc79845bab7933af58fa74142",
       "value": false
      }
     },
     "80a361ab02274c958f84575696ebef94": {
      "model_module": "@jupyter-widgets/base",
      "model_module_version": "2.0.0",
      "model_name": "LayoutModel",
      "state": {}
     },
     "80c3228b65f6404f8d247ba72076677a": {
      "model_module": "@jupyter-widgets/controls",
      "model_module_version": "2.0.0",
      "model_name": "ButtonStyleModel",
      "state": {
       "font_family": null,
       "font_size": null,
       "font_style": null,
       "font_variant": null,
       "font_weight": null,
       "text_color": null,
       "text_decoration": null
      }
     },
     "80c88c7e9784445d8efe9f7d911a2276": {
      "model_module": "@jupyter-widgets/controls",
      "model_module_version": "2.0.0",
      "model_name": "TextModel",
      "state": {
       "description": "Output Path",
       "layout": "IPY_MODEL_725346bb89094fc69dc6adf5e6c9bd8b",
       "style": "IPY_MODEL_c3b3d6230baf4c5fa67c08df371033e8"
      }
     },
     "81054a87534e42be8f2b7122ea435409": {
      "model_module": "@jupyter-widgets/controls",
      "model_module_version": "2.0.0",
      "model_name": "CheckboxModel",
      "state": {
       "description": "Allow overwrite",
       "disabled": false,
       "layout": "IPY_MODEL_b018c12ed06442c685d00e763a316004",
       "style": "IPY_MODEL_d8889163e4f14cd98a054d39b57ec778",
       "value": false
      }
     },
     "8153c640648c4d12bdf6a26e563bc8f9": {
      "model_module": "@jupyter-widgets/controls",
      "model_module_version": "2.0.0",
      "model_name": "TextModel",
      "state": {
       "description": "Customer ID: ",
       "layout": "IPY_MODEL_c61d3650f1c04be79d94aa24f1291bf4",
       "style": "IPY_MODEL_45871e0cb4da4948a06b0b798469e591"
      }
     },
     "81573354c1ef4b2b82950d497275eedc": {
      "model_module": "@jupyter-widgets/controls",
      "model_module_version": "2.0.0",
      "model_name": "FloatTextModel",
      "state": {
       "description": "Speed",
       "layout": "IPY_MODEL_ef87aea3c21942408d3e480c3472a678",
       "step": 0.1,
       "style": "IPY_MODEL_d091323b2d47412d942d023e6268f6e4",
       "value": 1
      }
     },
     "817df94e97fa48d2a2cc6279fcea8449": {
      "model_module": "@jupyter-widgets/controls",
      "model_module_version": "2.0.0",
      "model_name": "TextStyleModel",
      "state": {
       "description_width": "",
       "font_size": null,
       "text_color": null
      }
     },
     "823280eca5ca4c84908811a625c5ddf5": {
      "model_module": "@jupyter-widgets/controls",
      "model_module_version": "2.0.0",
      "model_name": "FloatProgressModel",
      "state": {
       "bar_style": "success",
       "layout": "IPY_MODEL_0d81518fbc8f4e96b4f94aa8fde1bff9",
       "max": 368,
       "style": "IPY_MODEL_45773c1159244aa582deedee8779b6a0",
       "value": 368
      }
     },
     "8236ab535b8644d99297b73010173983": {
      "model_module": "@jupyter-widgets/controls",
      "model_module_version": "2.0.0",
      "model_name": "TextModel",
      "state": {
       "description": "Input Path:",
       "layout": "IPY_MODEL_7fc707b6af8444bd8aec89eb2f4347c3",
       "style": "IPY_MODEL_70f8b8cee30140a694f4cc2846ceb5f2",
       "tooltip": "Path to query template spreadsheet (list of names, etc. to search)"
      }
     },
     "82c9566359494316876559d787c773bf": {
      "model_module": "@jupyter-widgets/controls",
      "model_module_version": "2.0.0",
      "model_name": "TextModel",
      "state": {
       "description": "Input Path:",
       "layout": "IPY_MODEL_95289e538ea4492baa6ff8910d3d0540",
       "style": "IPY_MODEL_945efbc197f24b108982a17825fa8a9f",
       "tooltip": "Path to query template spreadsheet (list of names, etc. to search)"
      }
     },
     "82cbbb864ba14ce893d6175336397da7": {
      "model_module": "@jupyter-widgets/controls",
      "model_module_version": "2.0.0",
      "model_name": "DescriptionStyleModel",
      "state": {
       "description_width": ""
      }
     },
     "82cea713e8514d8dabf6eb578474c99a": {
      "model_module": "@jupyter-widgets/controls",
      "model_module_version": "2.0.0",
      "model_name": "DescriptionStyleModel",
      "state": {
       "description_width": ""
      }
     },
     "83222f269c704b0ebaee4922ac1e0af5": {
      "model_module": "@jupyter-widgets/controls",
      "model_module_version": "2.0.0",
      "model_name": "ButtonStyleModel",
      "state": {
       "font_family": null,
       "font_size": null,
       "font_style": null,
       "font_variant": null,
       "font_weight": null,
       "text_color": null,
       "text_decoration": null
      }
     },
     "83658cd3830b427da806c9072f4b3d6f": {
      "model_module": "@jupyter-widgets/base",
      "model_module_version": "2.0.0",
      "model_name": "LayoutModel",
      "state": {
       "width": "20%"
      }
     },
     "8385c43806bb4c8c97d74f390e6b315f": {
      "model_module": "@jupyter-widgets/output",
      "model_module_version": "1.0.0",
      "model_name": "OutputModel",
      "state": {
       "layout": "IPY_MODEL_91731e6ddb5a4bd1aa0a167af8816f70"
      }
     },
     "83d0dc44a56743a7b5e21ef930e25ddf": {
      "model_module": "@jupyter-widgets/controls",
      "model_module_version": "2.0.0",
      "model_name": "DropdownModel",
      "state": {
       "_options_labels": [
        "cases",
        "charges",
        "disposition",
        "filing",
        "fees"
       ],
       "description": "Table:",
       "index": 0,
       "layout": "IPY_MODEL_958b27b844c24916b50569ba4e930d12",
       "style": "IPY_MODEL_96c29c9592df40d9b729e44dcc4174b3"
      }
     },
     "8416db411c60467992d521fa1932ed87": {
      "model_module": "@jupyter-widgets/base",
      "model_module_version": "2.0.0",
      "model_name": "LayoutModel",
      "state": {}
     },
     "8457d369c81c4d01a20329f45bbe1eff": {
      "model_module": "@jupyter-widgets/controls",
      "model_module_version": "2.0.0",
      "model_name": "IntTextModel",
      "state": {
       "description": "Max count:",
       "layout": "IPY_MODEL_60aaa5b5a9644661a551aeeed7b9d582",
       "step": 1,
       "style": "IPY_MODEL_f01f7005265c4819a12942ba205ee2a1"
      }
     },
     "853781fbed5e4a03bcb4780e1a3d2712": {
      "model_module": "@jupyter-widgets/controls",
      "model_module_version": "2.0.0",
      "model_name": "TextStyleModel",
      "state": {
       "description_width": "",
       "font_size": null,
       "text_color": null
      }
     },
     "855058fed9b24cb697993b60c15bf353": {
      "model_module": "@jupyter-widgets/controls",
      "model_module_version": "2.0.0",
      "model_name": "CheckboxModel",
      "state": {
       "description": "ZIP export (must be .json, .csv)",
       "disabled": false,
       "layout": "IPY_MODEL_3995cae00c9541d1960ac69b83783d0d",
       "style": "IPY_MODEL_e618fc3048204d759886a19dfec1cd6f",
       "value": false
      }
     },
     "85c8a18867864f86a8d62bb2ad8a3d0c": {
      "model_module": "@jupyter-widgets/base",
      "model_module_version": "2.0.0",
      "model_name": "LayoutModel",
      "state": {}
     },
     "865834dc40cb4ab88910cc1d16c22cbf": {
      "model_module": "@jupyter-widgets/controls",
      "model_module_version": "2.0.0",
      "model_name": "TextStyleModel",
      "state": {
       "description_width": "",
       "font_size": null,
       "text_color": null
      }
     },
     "86c5bdaf5af24bddb81c43ce3de43554": {
      "model_module": "@jupyter-widgets/controls",
      "model_module_version": "2.0.0",
      "model_name": "TextStyleModel",
      "state": {
       "description_width": "",
       "font_size": null,
       "text_color": null
      }
     },
     "87120d0689e34fe58a431e332a2b3ea7": {
      "model_module": "@jupyter-widgets/controls",
      "model_module_version": "2.0.0",
      "model_name": "IntTextModel",
      "state": {
       "description": "Max rows",
       "layout": "IPY_MODEL_982d8cc361d94ac6b2bc3d1863894384",
       "step": 1,
       "style": "IPY_MODEL_6e7d9227555442eb8ddac927b1c8c46f"
      }
     },
     "8740f5fdff4b4dcdaba79b31646f4a69": {
      "model_module": "@jupyter-widgets/controls",
      "model_module_version": "2.0.0",
      "model_name": "CheckboxModel",
      "state": {
       "description": "Allow overwrite",
       "disabled": false,
       "layout": "IPY_MODEL_e59482f6ce6745a9b62c7ba02a4e2b3a",
       "style": "IPY_MODEL_f0aa3a73682f4e35b9f2ccd8c9796a75",
       "value": false
      }
     },
     "875bf0db407d424c9249afd864786db8": {
      "model_module": "@jupyter-widgets/base",
      "model_module_version": "2.0.0",
      "model_name": "LayoutModel",
      "state": {}
     },
     "8772f58a47384bbb9b0fd38454911070": {
      "model_module": "@jupyter-widgets/controls",
      "model_module_version": "2.0.0",
      "model_name": "CheckboxStyleModel",
      "state": {
       "description_width": ""
      }
     },
     "87fa367a27c64c6288d281fb5cc428c2": {
      "model_module": "@jupyter-widgets/controls",
      "model_module_version": "2.0.0",
      "model_name": "TextStyleModel",
      "state": {
       "description_width": "",
       "font_size": null,
       "text_color": null
      }
     },
     "8865f66164f740adba17a9933e6de560": {
      "model_module": "@jupyter-widgets/controls",
      "model_module_version": "2.0.0",
      "model_name": "HTMLStyleModel",
      "state": {
       "description_width": "",
       "font_size": null,
       "text_color": null
      }
     },
     "88761b2692294c729b63c2ccb54deb92": {
      "model_module": "@jupyter-widgets/controls",
      "model_module_version": "2.0.0",
      "model_name": "CheckboxStyleModel",
      "state": {
       "description_width": ""
      }
     },
     "887e624b3c014116a93af78a5acdf430": {
      "model_module": "@jupyter-widgets/controls",
      "model_module_version": "2.0.0",
      "model_name": "CheckboxModel",
      "state": {
       "description": "Remove duplicates",
       "disabled": false,
       "layout": "IPY_MODEL_6d9f05ff467f48449d973238e3f05589",
       "style": "IPY_MODEL_b6072fea958c4e3e8604dfc6e550cf94",
       "value": false
      }
     },
     "88c26717a7764871b466330cea6eae88": {
      "model_module": "@jupyter-widgets/base",
      "model_module_version": "2.0.0",
      "model_name": "LayoutModel",
      "state": {
       "width": "95%"
      }
     },
     "894cdd7914cc4789bfc042a6379888f9": {
      "model_module": "@jupyter-widgets/controls",
      "model_module_version": "2.0.0",
      "model_name": "IntTextModel",
      "state": {
       "description": "Max rows",
       "layout": "IPY_MODEL_d1a0d3843ce64242b7a9345c906124d1",
       "step": 1,
       "style": "IPY_MODEL_9b19660605d1479da61d7bfff5b154a4"
      }
     },
     "89b9058406ab4e8e9c035690d1571707": {
      "model_module": "@jupyter-widgets/controls",
      "model_module_version": "2.0.0",
      "model_name": "DescriptionStyleModel",
      "state": {
       "description_width": ""
      }
     },
     "8a1ac69c871e4e5892e59b02f88f3089": {
      "model_module": "@jupyter-widgets/controls",
      "model_module_version": "2.0.0",
      "model_name": "TextStyleModel",
      "state": {
       "description_width": "",
       "font_size": null,
       "text_color": null
      }
     },
     "8a2211581fef40cd82cf1c29bfd8956b": {
      "model_module": "@jupyter-widgets/base",
      "model_module_version": "2.0.0",
      "model_name": "LayoutModel",
      "state": {}
     },
     "8a8017582ae1439d942e400a34f83bb5": {
      "model_module": "@jupyter-widgets/base",
      "model_module_version": "2.0.0",
      "model_name": "LayoutModel",
      "state": {}
     },
     "8a87bcdf32d247c4815d617041440419": {
      "model_module": "@jupyter-widgets/controls",
      "model_module_version": "2.0.0",
      "model_name": "HTMLStyleModel",
      "state": {
       "description_width": "",
       "font_size": null,
       "text_color": null
      }
     },
     "8ac051fd9e7948d9843b7359cca39b99": {
      "model_module": "@jupyter-widgets/controls",
      "model_module_version": "2.0.0",
      "model_name": "CheckboxStyleModel",
      "state": {
       "description_width": ""
      }
     },
     "8aef75ec8e1246d99cfbf555607b5e73": {
      "model_module": "@jupyter-widgets/controls",
      "model_module_version": "2.0.0",
      "model_name": "CheckboxStyleModel",
      "state": {
       "description_width": ""
      }
     },
     "8b9bf6464e1a4643b733efb35d6e0698": {
      "model_module": "@jupyter-widgets/controls",
      "model_module_version": "2.0.0",
      "model_name": "TextStyleModel",
      "state": {
       "description_width": "",
       "font_size": null,
       "text_color": null
      }
     },
     "8baeba4aab5d46a297949cec4831eed9": {
      "model_module": "@jupyter-widgets/controls",
      "model_module_version": "2.0.0",
      "model_name": "FloatTextModel",
      "state": {
       "description": "Speed",
       "layout": "IPY_MODEL_ed97e1c858a54a98867029f1f03c3026",
       "step": 0.1,
       "style": "IPY_MODEL_1be792f1bf824a5c98d09109b4645bcf",
       "value": 1
      }
     },
     "8bdc80ab1e9143bbb4ab9fd744f2d2b9": {
      "model_module": "@jupyter-widgets/controls",
      "model_module_version": "2.0.0",
      "model_name": "CheckboxModel",
      "state": {
       "description": "Allow overwrite",
       "disabled": false,
       "layout": "IPY_MODEL_8a2211581fef40cd82cf1c29bfd8956b",
       "style": "IPY_MODEL_7329ae4605304805acd5d6949920c1b9",
       "value": false
      }
     },
     "8d1a847faadc4a4ab86149a45c4d1c4e": {
      "model_module": "@jupyter-widgets/base",
      "model_module_version": "2.0.0",
      "model_name": "LayoutModel",
      "state": {}
     },
     "8d3a247905a64e158df928191129712c": {
      "model_module": "@jupyter-widgets/controls",
      "model_module_version": "2.0.0",
      "model_name": "CheckboxModel",
      "state": {
       "description": "Allow overwrite",
       "disabled": false,
       "layout": "IPY_MODEL_20571541046644b3beffd2a17bf0a1f8",
       "style": "IPY_MODEL_7c623e0359cd419cacc633ca0eb73ad1",
       "value": false
      }
     },
     "8d9cc130bf7a4435888f2e2e8389093d": {
      "model_module": "@jupyter-widgets/base",
      "model_module_version": "2.0.0",
      "model_name": "LayoutModel",
      "state": {}
     },
     "8da07bb0648e45c7b675a20f33c36545": {
      "model_module": "@jupyter-widgets/base",
      "model_module_version": "2.0.0",
      "model_name": "LayoutModel",
      "state": {}
     },
     "8dff1de1eb7b4f57a2eba68a2b47f0cd": {
      "model_module": "@jupyter-widgets/base",
      "model_module_version": "2.0.0",
      "model_name": "LayoutModel",
      "state": {
       "width": "95%"
      }
     },
     "8e612cc5e95b48e28bc8b0035563da72": {
      "model_module": "@jupyter-widgets/controls",
      "model_module_version": "2.0.0",
      "model_name": "TextStyleModel",
      "state": {
       "description_width": "",
       "font_size": null,
       "text_color": null
      }
     },
     "8e67fe1b1342454a97e528217ef18511": {
      "model_module": "@jupyter-widgets/base",
      "model_module_version": "2.0.0",
      "model_name": "LayoutModel",
      "state": {}
     },
     "8e751f007f234a9599a2705395a6c71a": {
      "model_module": "@jupyter-widgets/controls",
      "model_module_version": "2.0.0",
      "model_name": "ButtonStyleModel",
      "state": {
       "font_family": null,
       "font_size": null,
       "font_style": null,
       "font_variant": null,
       "font_weight": null,
       "text_color": null,
       "text_decoration": null
      }
     },
     "8f0c89b34094473c8dbeb49d86aa7026": {
      "model_module": "@jupyter-widgets/controls",
      "model_module_version": "2.0.0",
      "model_name": "TextStyleModel",
      "state": {
       "description_width": "",
       "font_size": null,
       "text_color": null
      }
     },
     "8f9f2ff2c94642d4a42429785d17215c": {
      "model_module": "@jupyter-widgets/controls",
      "model_module_version": "2.0.0",
      "model_name": "TextModel",
      "state": {
       "description": "Output Path:",
       "layout": "IPY_MODEL_972bd3bf00644504add2a8e1742ebb87",
       "style": "IPY_MODEL_a1a21577c0024dbbbd66dda6216cc3e8"
      }
     },
     "8fc7d0698f794cc488f4a79c85c61809": {
      "model_module": "@jupyter-widgets/base",
      "model_module_version": "2.0.0",
      "model_name": "LayoutModel",
      "state": {}
     },
     "90c1b4827701442bbf063745e820d394": {
      "model_module": "@jupyter-widgets/controls",
      "model_module_version": "2.0.0",
      "model_name": "DescriptionStyleModel",
      "state": {
       "description_width": ""
      }
     },
     "9162ebd8141446a38d1f00378c1e3aed": {
      "model_module": "@jupyter-widgets/controls",
      "model_module_version": "2.0.0",
      "model_name": "IntTextModel",
      "state": {
       "description": "Max count",
       "layout": "IPY_MODEL_0a8e7a592ddb4384bcb42072a0e19c97",
       "step": 1,
       "style": "IPY_MODEL_45928be90b8a46789b428fd0ed4f60b1"
      }
     },
     "91731e6ddb5a4bd1aa0a167af8816f70": {
      "model_module": "@jupyter-widgets/base",
      "model_module_version": "2.0.0",
      "model_name": "LayoutModel",
      "state": {}
     },
     "91ffbbd0658a4c3a9995daf5b093d1d7": {
      "model_module": "@jupyter-widgets/controls",
      "model_module_version": "2.0.0",
      "model_name": "CheckboxModel",
      "state": {
       "description": "Allow overwrite",
       "disabled": false,
       "layout": "IPY_MODEL_d382d01cd6da44059d8ba2231ad88c13",
       "style": "IPY_MODEL_4de7b9527a7b4efea7d526bf37360d9f",
       "value": false
      }
     },
     "945efbc197f24b108982a17825fa8a9f": {
      "model_module": "@jupyter-widgets/controls",
      "model_module_version": "2.0.0",
      "model_name": "TextStyleModel",
      "state": {
       "description_width": "",
       "font_size": null,
       "text_color": null
      }
     },
     "94799ef630164433a2bb59016d63e127": {
      "model_module": "@jupyter-widgets/base",
      "model_module_version": "2.0.0",
      "model_name": "LayoutModel",
      "state": {}
     },
     "95056df47d654cf69b5946db6fdff87a": {
      "model_module": "@jupyter-widgets/controls",
      "model_module_version": "2.0.0",
      "model_name": "CheckboxModel",
      "state": {
       "description": "Split in batches",
       "disabled": false,
       "layout": "IPY_MODEL_af399f4354204fb9a2256c0c52b7ba58",
       "style": "IPY_MODEL_30ea4901c97343098e993eaf36a86564",
       "value": false
      }
     },
     "95289e538ea4492baa6ff8910d3d0540": {
      "model_module": "@jupyter-widgets/base",
      "model_module_version": "2.0.0",
      "model_name": "LayoutModel",
      "state": {
       "width": "95%"
      }
     },
     "958b27b844c24916b50569ba4e930d12": {
      "model_module": "@jupyter-widgets/base",
      "model_module_version": "2.0.0",
      "model_name": "LayoutModel",
      "state": {}
     },
     "95c4090a6be94412987686d2cb98c918": {
      "model_module": "@jupyter-widgets/controls",
      "model_module_version": "2.0.0",
      "model_name": "IntTextModel",
      "state": {
       "description": "Max count",
       "layout": "IPY_MODEL_e2584cacd37440e48ea82c6c86ec819b",
       "step": 1,
       "style": "IPY_MODEL_9d36e6033c4949b099b34f952f9a51b8"
      }
     },
     "96b533ddae884ae0982d56b77953eab7": {
      "model_module": "@jupyter-widgets/controls",
      "model_module_version": "2.0.0",
      "model_name": "ButtonStyleModel",
      "state": {
       "font_family": null,
       "font_size": null,
       "font_style": null,
       "font_variant": null,
       "font_weight": null,
       "text_color": null,
       "text_decoration": null
      }
     },
     "96c29c9592df40d9b729e44dcc4174b3": {
      "model_module": "@jupyter-widgets/controls",
      "model_module_version": "2.0.0",
      "model_name": "DescriptionStyleModel",
      "state": {
       "description_width": ""
      }
     },
     "96c78806b3f04240b16bfeacdb029141": {
      "model_module": "@jupyter-widgets/controls",
      "model_module_version": "2.0.0",
      "model_name": "IntTextModel",
      "state": {
       "description": "Max rows",
       "layout": "IPY_MODEL_0d8051ed3ec64723b6509bc8a78fe194",
       "step": 1,
       "style": "IPY_MODEL_75e719182afa46d986c85ea9a75ee97c"
      }
     },
     "97227689ba24401fbf8a1a25f581e033": {
      "model_module": "@jupyter-widgets/controls",
      "model_module_version": "2.0.0",
      "model_name": "DescriptionStyleModel",
      "state": {
       "description_width": ""
      }
     },
     "972604e99308493cb9ad00bd5ed44160": {
      "model_module": "@jupyter-widgets/controls",
      "model_module_version": "2.0.0",
      "model_name": "CheckboxModel",
      "state": {
       "description": "Split in batches",
       "disabled": false,
       "layout": "IPY_MODEL_ac0e0642fddc4b6e821206697e79099d",
       "style": "IPY_MODEL_604c4e0a4a6448d4ad6fed7b1efa3f92",
       "value": false
      }
     },
     "972bd3bf00644504add2a8e1742ebb87": {
      "model_module": "@jupyter-widgets/base",
      "model_module_version": "2.0.0",
      "model_name": "LayoutModel",
      "state": {
       "width": "95%"
      }
     },
     "97aa2463e81c41d4ab88b423c321f142": {
      "model_module": "@jupyter-widgets/base",
      "model_module_version": "2.0.0",
      "model_name": "LayoutModel",
      "state": {}
     },
     "97e1a4f5ee6448b6852510df5f83ddbb": {
      "model_module": "@jupyter-widgets/controls",
      "model_module_version": "2.0.0",
      "model_name": "ButtonStyleModel",
      "state": {
       "font_family": null,
       "font_size": null,
       "font_style": null,
       "font_variant": null,
       "font_weight": null,
       "text_color": null,
       "text_decoration": null
      }
     },
     "9821d9f61846448e92104dd9e4543b5e": {
      "model_module": "@jupyter-widgets/controls",
      "model_module_version": "2.0.0",
      "model_name": "DescriptionStyleModel",
      "state": {
       "description_width": ""
      }
     },
     "982d8cc361d94ac6b2bc3d1863894384": {
      "model_module": "@jupyter-widgets/base",
      "model_module_version": "2.0.0",
      "model_name": "LayoutModel",
      "state": {
       "width": "20%"
      }
     },
     "984785dcbc454ac99dde1e5f4460060f": {
      "model_module": "@jupyter-widgets/controls",
      "model_module_version": "2.0.0",
      "model_name": "HBoxModel",
      "state": {
       "children": [
        "IPY_MODEL_71e3a33c90b34e48824c1482893702c3",
        "IPY_MODEL_91ffbbd0658a4c3a9995daf5b093d1d7",
        "IPY_MODEL_ad1d80fd2dca4d00b079ade3e9eb8496"
       ],
       "layout": "IPY_MODEL_26f13428b40e485484a607db052ff266"
      }
     },
     "984923d32a794c809697dccc2f4e906d": {
      "model_module": "@jupyter-widgets/controls",
      "model_module_version": "2.0.0",
      "model_name": "ButtonStyleModel",
      "state": {
       "font_family": null,
       "font_size": null,
       "font_style": null,
       "font_variant": null,
       "font_weight": null,
       "text_color": null,
       "text_decoration": null
      }
     },
     "988ee5c01caa4dacb802dcf8c966dc7e": {
      "model_module": "@jupyter-widgets/controls",
      "model_module_version": "2.0.0",
      "model_name": "TextModel",
      "state": {
       "description": "Input Path:",
       "layout": "IPY_MODEL_61114d6efffd48e6b3b4a9a43f9be6e1",
       "style": "IPY_MODEL_1362d1557c4a48fbbe2fdb6fd677fc9f",
       "tooltip": "Path to query template spreadsheet (list of names, etc. to search)"
      }
     },
     "98ad79b64f9f405b889c67e0a2a72f6c": {
      "model_module": "@jupyter-widgets/controls",
      "model_module_version": "2.0.0",
      "model_name": "HBoxModel",
      "state": {
       "children": [
        "IPY_MODEL_74f2be7032a74af0b8b1ee492a8ee083",
        "IPY_MODEL_57e864050f6f4b319e9c793fe8a9602d",
        "IPY_MODEL_894cdd7914cc4789bfc042a6379888f9"
       ],
       "layout": "IPY_MODEL_6e67926d95c4485cbcb155285661dce2"
      }
     },
     "98c49c87245a4a6c8b6d1953156a80bb": {
      "model_module": "@jupyter-widgets/controls",
      "model_module_version": "2.0.0",
      "model_name": "IntTextModel",
      "state": {
       "description": "Skip rows",
       "layout": "IPY_MODEL_08a5d7c74bc149e6bf624419a29ea70d",
       "step": 1,
       "style": "IPY_MODEL_10b6141b4a0b4dbf84de78f7dfbdf598"
      }
     },
     "991819ac7f4e4d739ba16df3e6d96a8e": {
      "model_module": "@jupyter-widgets/controls",
      "model_module_version": "2.0.0",
      "model_name": "TextModel",
      "state": {
       "description": "Output Path",
       "layout": "IPY_MODEL_47c7d5227ad44bb3a97a79c12b12dd76",
       "style": "IPY_MODEL_19b2354b411949e3afefb5eb9ae11fc9"
      }
     },
     "992bad04b58f45bf982f5e3e1e8ec60f": {
      "model_module": "@jupyter-widgets/controls",
      "model_module_version": "2.0.0",
      "model_name": "ButtonStyleModel",
      "state": {
       "font_family": null,
       "font_size": null,
       "font_style": null,
       "font_variant": null,
       "font_weight": null,
       "text_color": null,
       "text_decoration": null
      }
     },
     "9990d0871c9146e58de9218592291b78": {
      "model_module": "@jupyter-widgets/controls",
      "model_module_version": "2.0.0",
      "model_name": "ButtonModel",
      "state": {
       "description": "Start export",
       "layout": "IPY_MODEL_e5329a0c7ad14401b4e741ea15029c8a",
       "style": "IPY_MODEL_0a3805d8237d4404834625f893e7b09c",
       "tooltip": null
      }
     },
     "9a8646cc36794f6d8d416be0832edd25": {
      "model_module": "@jupyter-widgets/base",
      "model_module_version": "2.0.0",
      "model_name": "LayoutModel",
      "state": {}
     },
     "9aa743eb90524d62abab0452dc276ab0": {
      "model_module": "@jupyter-widgets/controls",
      "model_module_version": "2.0.0",
      "model_name": "DescriptionStyleModel",
      "state": {
       "description_width": ""
      }
     },
     "9ab9e66eb502468895e2523e47954abe": {
      "model_module": "@jupyter-widgets/controls",
      "model_module_version": "2.0.0",
      "model_name": "ButtonStyleModel",
      "state": {
       "font_family": null,
       "font_size": null,
       "font_style": null,
       "font_variant": null,
       "font_weight": null,
       "text_color": null,
       "text_decoration": null
      }
     },
     "9af5304ffdd84651aa393b2881bc5282": {
      "model_module": "@jupyter-widgets/controls",
      "model_module_version": "2.0.0",
      "model_name": "TextStyleModel",
      "state": {
       "description_width": "",
       "font_size": null,
       "text_color": null
      }
     },
     "9b19660605d1479da61d7bfff5b154a4": {
      "model_module": "@jupyter-widgets/controls",
      "model_module_version": "2.0.0",
      "model_name": "DescriptionStyleModel",
      "state": {
       "description_width": ""
      }
     },
     "9ba21d2ec79a4e0795e779cd942b8d6c": {
      "model_module": "@jupyter-widgets/controls",
      "model_module_version": "2.0.0",
      "model_name": "DescriptionStyleModel",
      "state": {
       "description_width": ""
      }
     },
     "9ce2e4164cff4799b23cbab946dd3924": {
      "model_module": "@jupyter-widgets/base",
      "model_module_version": "2.0.0",
      "model_name": "LayoutModel",
      "state": {}
     },
     "9cf069d624ef4eafb728a2390ae21970": {
      "model_module": "@jupyter-widgets/controls",
      "model_module_version": "2.0.0",
      "model_name": "TextStyleModel",
      "state": {
       "description_width": "",
       "font_size": null,
       "text_color": null
      }
     },
     "9d221ad452404e1a9f6554d3ae3fa196": {
      "model_module": "@jupyter-widgets/controls",
      "model_module_version": "2.0.0",
      "model_name": "HTMLModel",
      "state": {
       "layout": "IPY_MODEL_e5c4cec363874e908df8d89173376168",
       "style": "IPY_MODEL_d3fc46c9ea004e1a82893e7b980f6696",
       "value": " 368/368 [00:57&lt;00:00,  4.01it/s]"
      }
     },
     "9d2c9c9f710445b185d602d66e09eadb": {
      "model_module": "@jupyter-widgets/base",
      "model_module_version": "2.0.0",
      "model_name": "LayoutModel",
      "state": {}
     },
     "9d2dfac3062d4cd4a303f3650c811c27": {
      "model_module": "@jupyter-widgets/base",
      "model_module_version": "2.0.0",
      "model_name": "LayoutModel",
      "state": {}
     },
     "9d36e6033c4949b099b34f952f9a51b8": {
      "model_module": "@jupyter-widgets/controls",
      "model_module_version": "2.0.0",
      "model_name": "DescriptionStyleModel",
      "state": {
       "description_width": ""
      }
     },
     "9d7985f1639b428daf47461730457bcf": {
      "model_module": "@jupyter-widgets/base",
      "model_module_version": "2.0.0",
      "model_name": "LayoutModel",
      "state": {}
     },
     "9da20c2c5867400ea506775ffb8631b4": {
      "model_module": "@jupyter-widgets/controls",
      "model_module_version": "2.0.0",
      "model_name": "HTMLStyleModel",
      "state": {
       "description_width": "",
       "font_size": null,
       "text_color": null
      }
     },
     "9dae7a08a63a4a4b94c01e341a45e01e": {
      "model_module": "@jupyter-widgets/base",
      "model_module_version": "2.0.0",
      "model_name": "LayoutModel",
      "state": {}
     },
     "9dd84da1f4e049159e752b21a3562b12": {
      "model_module": "@jupyter-widgets/controls",
      "model_module_version": "2.0.0",
      "model_name": "TextModel",
      "state": {
       "description": "Output Path:",
       "layout": "IPY_MODEL_4e7c4318f57046f58b369a603db48d49",
       "style": "IPY_MODEL_bee343c187c74910b9b7892e6104fcd0"
      }
     },
     "a011fafb5fe741769fda1b25551824bc": {
      "model_module": "@jupyter-widgets/controls",
      "model_module_version": "2.0.0",
      "model_name": "TextStyleModel",
      "state": {
       "description_width": "",
       "font_size": null,
       "text_color": null
      }
     },
     "a0c25f3c90694408be4a937dee5c45a5": {
      "model_module": "@jupyter-widgets/base",
      "model_module_version": "2.0.0",
      "model_name": "LayoutModel",
      "state": {}
     },
     "a142a3ae3e82498c9a973b60e2d279bd": {
      "model_module": "@jupyter-widgets/controls",
      "model_module_version": "2.0.0",
      "model_name": "DropdownModel",
      "state": {
       "_options_labels": [
        "cases",
        "charges",
        "disposition",
        "filing",
        "fees"
       ],
       "description": "Table:",
       "index": 0,
       "layout": "IPY_MODEL_eafe122d37404c51b6fa415a00039ce9",
       "style": "IPY_MODEL_61399c2f0c2d4cdfb2eb0f8f28439cd7"
      }
     },
     "a1a21577c0024dbbbd66dda6216cc3e8": {
      "model_module": "@jupyter-widgets/controls",
      "model_module_version": "2.0.0",
      "model_name": "TextStyleModel",
      "state": {
       "description_width": "",
       "font_size": null,
       "text_color": null
      }
     },
     "a1e74ee47efa447c8dbda8c70f748220": {
      "model_module": "@jupyter-widgets/controls",
      "model_module_version": "2.0.0",
      "model_name": "TextStyleModel",
      "state": {
       "description_width": "",
       "font_size": null,
       "text_color": null
      }
     },
     "a229b19e97b64146a7a8111571a70ec8": {
      "model_module": "@jupyter-widgets/controls",
      "model_module_version": "2.0.0",
      "model_name": "CheckboxStyleModel",
      "state": {
       "description_width": ""
      }
     },
     "a27b001a213947f3a03c3f9667b1d43b": {
      "model_module": "@jupyter-widgets/controls",
      "model_module_version": "2.0.0",
      "model_name": "TextStyleModel",
      "state": {
       "description_width": "",
       "font_size": null,
       "text_color": null
      }
     },
     "a28592f2613840b7b1894cd455d7519c": {
      "model_module": "@jupyter-widgets/controls",
      "model_module_version": "2.0.0",
      "model_name": "ButtonModel",
      "state": {
       "description": "Start export",
       "layout": "IPY_MODEL_bab1be7b94df4e7fba273adc5cf135b3",
       "style": "IPY_MODEL_6eb6e603a27847dabc290b4e392ca1ad",
       "tooltip": null
      }
     },
     "a2ded64a54e9479c9839b36d8ebec94e": {
      "model_module": "@jupyter-widgets/controls",
      "model_module_version": "2.0.0",
      "model_name": "TextStyleModel",
      "state": {
       "description_width": "",
       "font_size": null,
       "text_color": null
      }
     },
     "a2dfa2420e9e49eea20b23f98076f38c": {
      "model_module": "@jupyter-widgets/base",
      "model_module_version": "2.0.0",
      "model_name": "LayoutModel",
      "state": {}
     },
     "a32f062a1cca47b99fc061b640c830ff": {
      "model_module": "@jupyter-widgets/base",
      "model_module_version": "2.0.0",
      "model_name": "LayoutModel",
      "state": {
       "width": "20%"
      }
     },
     "a365e7e13ec149daad1cb63d162d5e19": {
      "model_module": "@jupyter-widgets/controls",
      "model_module_version": "2.0.0",
      "model_name": "CheckboxModel",
      "state": {
       "description": "Split in batches",
       "disabled": false,
       "layout": "IPY_MODEL_d5fe871e68c843bba82daaedc5fb9e2f",
       "style": "IPY_MODEL_7eab368cfa7c4225ba058df5eb314a2a",
       "value": false
      }
     },
     "a38055c1aff84b2d9f200f66bd65099f": {
      "model_module": "@jupyter-widgets/controls",
      "model_module_version": "2.0.0",
      "model_name": "DescriptionStyleModel",
      "state": {
       "description_width": ""
      }
     },
     "a3b32a68bb164bdbaaadf4ff768d5c3e": {
      "model_module": "@jupyter-widgets/controls",
      "model_module_version": "2.0.0",
      "model_name": "HTMLStyleModel",
      "state": {
       "description_width": "",
       "font_size": null,
       "text_color": null
      }
     },
     "a426f7a22c0440f7a3cc44c256cd1afa": {
      "model_module": "@jupyter-widgets/controls",
      "model_module_version": "2.0.0",
      "model_name": "HBoxModel",
      "state": {
       "children": [
        "IPY_MODEL_5e2376dffccb4258bfdd32bd4f3b4cbd",
        "IPY_MODEL_3cba4a91cdd74d74a516815efeae60eb",
        "IPY_MODEL_19c6e98d011a49a3b109fce48cd44cb8"
       ],
       "layout": "IPY_MODEL_e619dd9e0805482789c469ca7ad354aa"
      }
     },
     "a445602aa9284caf8f97ef9689dd64d4": {
      "model_module": "@jupyter-widgets/controls",
      "model_module_version": "2.0.0",
      "model_name": "HBoxModel",
      "state": {
       "children": [
        "IPY_MODEL_555f1239a3374b13a06533ee1b9712a0",
        "IPY_MODEL_5b17a9e339f14d31b5a4bf4f27354c2b",
        "IPY_MODEL_bb5301d6a5484d478561dbb35464d0b5"
       ],
       "layout": "IPY_MODEL_0a79b3b6c5bc47579372a4d4194fbbcd"
      }
     },
     "a4694c7083a84db9ab853c488896b10f": {
      "model_module": "@jupyter-widgets/controls",
      "model_module_version": "2.0.0",
      "model_name": "TextStyleModel",
      "state": {
       "description_width": "",
       "font_size": null,
       "text_color": null
      }
     },
     "a491198f3404464d98a4ad151c3c9a17": {
      "model_module": "@jupyter-widgets/controls",
      "model_module_version": "2.0.0",
      "model_name": "ButtonModel",
      "state": {
       "description": "Start export",
       "layout": "IPY_MODEL_698e663957564dd48450d9260cee68a7",
       "style": "IPY_MODEL_765981a7dd7c4b1d91f52080f95b6a72",
       "tooltip": null
      }
     },
     "a4b10548bc1b440c822109f7f97b24ae": {
      "model_module": "@jupyter-widgets/controls",
      "model_module_version": "2.0.0",
      "model_name": "HBoxModel",
      "state": {
       "children": [
        "IPY_MODEL_2516b52c595d4f4cb5915bda9f434e1e",
        "IPY_MODEL_b39ce89659da47c7a9f783aeb9cd0dd0",
        "IPY_MODEL_6b5b9e641c1847ecb5d6a82fac9667fa"
       ],
       "layout": "IPY_MODEL_05a9330d0c7847dbb24c7179c0076111"
      }
     },
     "a510dea0ccca4e8e84e4f3da84220bcc": {
      "model_module": "@jupyter-widgets/controls",
      "model_module_version": "2.0.0",
      "model_name": "DescriptionStyleModel",
      "state": {
       "description_width": ""
      }
     },
     "a5659dbb06b34497a933106f4336ab70": {
      "model_module": "@jupyter-widgets/controls",
      "model_module_version": "2.0.0",
      "model_name": "HBoxModel",
      "state": {
       "children": [
        "IPY_MODEL_2ee2f9f4b33c445a9638f4ae44871bc8",
        "IPY_MODEL_887e624b3c014116a93af78a5acdf430",
        "IPY_MODEL_31a98cb34b5047ea92c3f2e4347c58d7"
       ],
       "layout": "IPY_MODEL_32b46b3731a042cba4fdb369aad838ae"
      }
     },
     "a5b0ef4441a84bd0bc214b0c3ea818eb": {
      "model_module": "@jupyter-widgets/controls",
      "model_module_version": "2.0.0",
      "model_name": "ButtonStyleModel",
      "state": {
       "font_family": null,
       "font_size": null,
       "font_style": null,
       "font_variant": null,
       "font_weight": null,
       "text_color": null,
       "text_decoration": null
      }
     },
     "a5fcf49b53e14910a88ad86349099b8a": {
      "model_module": "@jupyter-widgets/base",
      "model_module_version": "2.0.0",
      "model_name": "LayoutModel",
      "state": {
       "width": "95%"
      }
     },
     "a6716a1e48ba472ab6451d2bb412cf49": {
      "model_module": "@jupyter-widgets/base",
      "model_module_version": "2.0.0",
      "model_name": "LayoutModel",
      "state": {
       "width": "20%"
      }
     },
     "a742f1c329ba4876b1e62b3c75b7e167": {
      "model_module": "@jupyter-widgets/base",
      "model_module_version": "2.0.0",
      "model_name": "LayoutModel",
      "state": {}
     },
     "a793d4f41c1b4d21b66594e1e3c00049": {
      "model_module": "@jupyter-widgets/base",
      "model_module_version": "2.0.0",
      "model_name": "LayoutModel",
      "state": {}
     },
     "a7952a6843154c10b877fa7ccb000122": {
      "model_module": "@jupyter-widgets/controls",
      "model_module_version": "2.0.0",
      "model_name": "HTMLModel",
      "state": {
       "layout": "IPY_MODEL_79a4ea5dfac845a0820c159cf145e86e",
       "style": "IPY_MODEL_286e8984ef4145dc8ca7577b1037fda1",
       "value": " 368/368 [00:00&lt;00:00, 446.93it/s]"
      }
     },
     "a7d81c3a977047569c4b06a4175e2c4f": {
      "model_module": "@jupyter-widgets/controls",
      "model_module_version": "2.0.0",
      "model_name": "TextModel",
      "state": {
       "description": "User ID: ",
       "layout": "IPY_MODEL_cb21b6306984473fbcc756b3df98a3b0",
       "style": "IPY_MODEL_1ab2e864644142808951127b1ec2e6c5"
      }
     },
     "a7ef758765cf4de9ae3ad2ff08fccded": {
      "model_module": "@jupyter-widgets/controls",
      "model_module_version": "2.0.0",
      "model_name": "TextStyleModel",
      "state": {
       "description_width": "",
       "font_size": null,
       "text_color": null
      }
     },
     "a802e8dda733497fa9c824aabf319ba1": {
      "model_module": "@jupyter-widgets/output",
      "model_module_version": "1.0.0",
      "model_name": "OutputModel",
      "state": {
       "layout": "IPY_MODEL_1d354d250776490fa11e4a8f33c93bd9"
      }
     },
     "a84554c9307f48fa879a6bbcacde0edd": {
      "model_module": "@jupyter-widgets/controls",
      "model_module_version": "2.0.0",
      "model_name": "DescriptionStyleModel",
      "state": {
       "description_width": ""
      }
     },
     "a849a73438c142b49ebd7d5ba90849b3": {
      "model_module": "@jupyter-widgets/controls",
      "model_module_version": "2.0.0",
      "model_name": "TextModel",
      "state": {
       "description": "Customer ID: ",
       "layout": "IPY_MODEL_1cb58dc5442e4b50a59f083ac9dfdfe3",
       "style": "IPY_MODEL_a011fafb5fe741769fda1b25551824bc"
      }
     },
     "a86a19fec6024fc7a9ae3511a87fb7f7": {
      "model_module": "@jupyter-widgets/base",
      "model_module_version": "2.0.0",
      "model_name": "LayoutModel",
      "state": {}
     },
     "a87f4d8807eb4073a47641bb7e735a4d": {
      "model_module": "@jupyter-widgets/controls",
      "model_module_version": "2.0.0",
      "model_name": "IntTextModel",
      "state": {
       "description": "Skip rows",
       "layout": "IPY_MODEL_78c43e2f411e4188bcde9ec920b11838",
       "step": 1,
       "style": "IPY_MODEL_c1c486142e3849c683a326d7fd57d643"
      }
     },
     "a89a0319ffa7424eb7be02078b1eed45": {
      "model_module": "@jupyter-widgets/controls",
      "model_module_version": "2.0.0",
      "model_name": "FloatTextModel",
      "state": {
       "description": "Speed",
       "layout": "IPY_MODEL_6e780ee30e384f8c9bcc37658c335a2d",
       "step": 0.1,
       "style": "IPY_MODEL_5df4bf11da37452abfb4a15f1e0f1ec8",
       "value": 1
      }
     },
     "a9a0c0e17c344d77be5a7b7ed81c6d48": {
      "model_module": "@jupyter-widgets/controls",
      "model_module_version": "2.0.0",
      "model_name": "TextModel",
      "state": {
       "description": "Input Path",
       "layout": "IPY_MODEL_56be17c136e64179b1c9192263f0ea0c",
       "style": "IPY_MODEL_86c5bdaf5af24bddb81c43ce3de43554",
       "tooltip": "Path to input directory or archive",
       "value": "/Users/samuelrobson/Desktop/test"
      }
     },
     "aa4348e1a1894ece8a9f5089e68a0552": {
      "model_module": "@jupyter-widgets/controls",
      "model_module_version": "2.0.0",
      "model_name": "TextStyleModel",
      "state": {
       "description_width": "",
       "font_size": null,
       "text_color": null
      }
     },
     "aa731ac7743b447a86b3994d5fae4180": {
      "model_module": "@jupyter-widgets/controls",
      "model_module_version": "2.0.0",
      "model_name": "HTMLStyleModel",
      "state": {
       "description_width": "",
       "font_size": null,
       "text_color": null
      }
     },
     "aa7e03729ced41eabe5ecf23d360c381": {
      "model_module": "@jupyter-widgets/base",
      "model_module_version": "2.0.0",
      "model_name": "LayoutModel",
      "state": {}
     },
     "aac9a9eedafe459786ec9eb82773f717": {
      "model_module": "@jupyter-widgets/controls",
      "model_module_version": "2.0.0",
      "model_name": "CheckboxStyleModel",
      "state": {
       "description_width": ""
      }
     },
     "ab1cb1afb28f4d0fadbd10a708aac8f9": {
      "model_module": "@jupyter-widgets/base",
      "model_module_version": "2.0.0",
      "model_name": "LayoutModel",
      "state": {}
     },
     "ab8bb5b27a5d4e4094c5e474f589b130": {
      "model_module": "@jupyter-widgets/controls",
      "model_module_version": "2.0.0",
      "model_name": "CheckboxModel",
      "state": {
       "description": "Allow overwrite",
       "disabled": false,
       "layout": "IPY_MODEL_ceb755169cc84dfab1c81938bcce3abd",
       "style": "IPY_MODEL_b608e85ca40a4407b640de8ab60b3b3b",
       "value": false
      }
     },
     "ac0e0642fddc4b6e821206697e79099d": {
      "model_module": "@jupyter-widgets/base",
      "model_module_version": "2.0.0",
      "model_name": "LayoutModel",
      "state": {}
     },
     "ac290db50146452ebcb94d151f6c5d05": {
      "model_module": "@jupyter-widgets/controls",
      "model_module_version": "2.0.0",
      "model_name": "IntTextModel",
      "state": {
       "description": "Max count:",
       "layout": "IPY_MODEL_39d9da678e6246bb92138730028c38dc",
       "step": 1,
       "style": "IPY_MODEL_0ed0b192e0e14091ae8d0bc4df3bb3e3"
      }
     },
     "ac4be2393f4e4d508382f258343388c4": {
      "model_module": "@jupyter-widgets/controls",
      "model_module_version": "2.0.0",
      "model_name": "CheckboxModel",
      "state": {
       "description": "Remove duplicates",
       "disabled": false,
       "layout": "IPY_MODEL_430464be56fb43779f5eb8170857ab24",
       "style": "IPY_MODEL_c459eaa4bf374e889c75c70cb0a192d2",
       "value": false
      }
     },
     "ac83a2de4b2f4576978d6654b304adb4": {
      "model_module": "@jupyter-widgets/controls",
      "model_module_version": "2.0.0",
      "model_name": "HBoxModel",
      "state": {
       "children": [
        "IPY_MODEL_fd52c28bd79d438ca07120ba8c304a76",
        "IPY_MODEL_81054a87534e42be8f2b7122ea435409",
        "IPY_MODEL_b4d696a71637401c908f73a8e3ef0ba5"
       ],
       "layout": "IPY_MODEL_3b0ed13a48d64bc29f55aa5d54cf42ef"
      }
     },
     "ad1d80fd2dca4d00b079ade3e9eb8496": {
      "model_module": "@jupyter-widgets/controls",
      "model_module_version": "2.0.0",
      "model_name": "CheckboxModel",
      "state": {
       "description": "Split in batches",
       "disabled": false,
       "layout": "IPY_MODEL_eb5cf04f172543e0a515b40ee15ab8f6",
       "style": "IPY_MODEL_2dcd798bce4d4f4bbd58fbbe0d8fb4b6",
       "value": false
      }
     },
     "adad4adcecba42cf8f67c207a9459e67": {
      "model_module": "@jupyter-widgets/base",
      "model_module_version": "2.0.0",
      "model_name": "LayoutModel",
      "state": {}
     },
     "adbed75c116a4be99e39f11a932ab4d6": {
      "model_module": "@jupyter-widgets/base",
      "model_module_version": "2.0.0",
      "model_name": "LayoutModel",
      "state": {
       "width": "20%"
      }
     },
     "ae9c652ba2344d9ebbdc39ed7ef58dbf": {
      "model_module": "@jupyter-widgets/controls",
      "model_module_version": "2.0.0",
      "model_name": "TextModel",
      "state": {
       "description": "Customer ID: ",
       "layout": "IPY_MODEL_47b20175f043410d87264e2ebae4dce0",
       "style": "IPY_MODEL_dab34315b6234aac81998126976d7a02"
      }
     },
     "aeaec6c865504e94ae46dd1ec86004bc": {
      "model_module": "@jupyter-widgets/controls",
      "model_module_version": "2.0.0",
      "model_name": "CheckboxModel",
      "state": {
       "description": "Allow overwrite",
       "disabled": false,
       "layout": "IPY_MODEL_1e4f41c02f7548aa979b409f4b7d1e05",
       "style": "IPY_MODEL_2184adbdf5184f04a913f55072c56f98",
       "value": false
      }
     },
     "af299fca7e1d476d9c99a04c127ac018": {
      "model_module": "@jupyter-widgets/controls",
      "model_module_version": "2.0.0",
      "model_name": "DescriptionStyleModel",
      "state": {
       "description_width": ""
      }
     },
     "af399f4354204fb9a2256c0c52b7ba58": {
      "model_module": "@jupyter-widgets/base",
      "model_module_version": "2.0.0",
      "model_name": "LayoutModel",
      "state": {}
     },
     "af3cceb8876a40769a3096e090d4f825": {
      "model_module": "@jupyter-widgets/controls",
      "model_module_version": "2.0.0",
      "model_name": "IntTextModel",
      "state": {
       "description": "Max count:",
       "layout": "IPY_MODEL_7aeefa44a5d8481a9b7e0432b29b1bcf",
       "step": 1,
       "style": "IPY_MODEL_a84554c9307f48fa879a6bbcacde0edd"
      }
     },
     "af710bc806ef4111875e06b631e93a5e": {
      "model_module": "@jupyter-widgets/base",
      "model_module_version": "2.0.0",
      "model_name": "LayoutModel",
      "state": {
       "width": "20%"
      }
     },
     "afa73387416f448fac9986dd6cf1cd94": {
      "model_module": "@jupyter-widgets/controls",
      "model_module_version": "2.0.0",
      "model_name": "TextStyleModel",
      "state": {
       "description_width": "",
       "font_size": null,
       "text_color": null
      }
     },
     "afb17411199a4cc5a4620ab2faf73597": {
      "model_module": "@jupyter-widgets/controls",
      "model_module_version": "2.0.0",
      "model_name": "TextModel",
      "state": {
       "description": "Output Path",
       "layout": "IPY_MODEL_7e28af1c533949398a14e3e34a245352",
       "style": "IPY_MODEL_a7ef758765cf4de9ae3ad2ff08fccded"
      }
     },
     "afd496b7e90c4c7a99093881f4ab6d99": {
      "model_module": "@jupyter-widgets/controls",
      "model_module_version": "2.0.0",
      "model_name": "ButtonModel",
      "state": {
       "description": "Read more",
       "layout": "IPY_MODEL_a86a19fec6024fc7a9ae3511a87fb7f7",
       "style": "IPY_MODEL_6fa0939253884735ad776095c864ce50",
       "tooltip": null
      }
     },
     "b018c12ed06442c685d00e763a316004": {
      "model_module": "@jupyter-widgets/base",
      "model_module_version": "2.0.0",
      "model_name": "LayoutModel",
      "state": {}
     },
     "b072e663222f4ee996b0d3fd49edc149": {
      "model_module": "@jupyter-widgets/base",
      "model_module_version": "2.0.0",
      "model_name": "LayoutModel",
      "state": {}
     },
     "b080b04916a24dcd8d41192c0b05eea0": {
      "model_module": "@jupyter-widgets/controls",
      "model_module_version": "2.0.0",
      "model_name": "TextStyleModel",
      "state": {
       "description_width": "",
       "font_size": null,
       "text_color": null
      }
     },
     "b0ced4ee288a4a649fdacb478afdec40": {
      "model_module": "@jupyter-widgets/controls",
      "model_module_version": "2.0.0",
      "model_name": "IntTextModel",
      "state": {
       "description": "Max count",
       "layout": "IPY_MODEL_17918f8b4ed04ab1be5c1101ba20f099",
       "step": 1,
       "style": "IPY_MODEL_9ba21d2ec79a4e0795e779cd942b8d6c"
      }
     },
     "b0cff1d2a6634ba7819e80ff2c067a01": {
      "model_module": "@jupyter-widgets/controls",
      "model_module_version": "2.0.0",
      "model_name": "TextStyleModel",
      "state": {
       "description_width": "",
       "font_size": null,
       "text_color": null
      }
     },
     "b1835d08770149259dcfd2b2a3f6e04b": {
      "model_module": "@jupyter-widgets/controls",
      "model_module_version": "2.0.0",
      "model_name": "IntTextModel",
      "state": {
       "description": "Max count:",
       "layout": "IPY_MODEL_226acd435c254027a8cc1fcec9573633",
       "step": 1,
       "style": "IPY_MODEL_3be19f6837e54255839d84c9f18f8a84"
      }
     },
     "b25eded51c8f4b7083a8cd080a6478f7": {
      "model_module": "@jupyter-widgets/controls",
      "model_module_version": "2.0.0",
      "model_name": "ButtonModel",
      "state": {
       "description": "Start archiving",
       "layout": "IPY_MODEL_3bb92321964b45c0b07eab3ecaa8626f",
       "style": "IPY_MODEL_6e62c989f4a74a8a89994b8d30e1a77e",
       "tooltip": null
      }
     },
     "b299582de11f461298b1516a7ff238e5": {
      "model_module": "@jupyter-widgets/controls",
      "model_module_version": "2.0.0",
      "model_name": "TextStyleModel",
      "state": {
       "description_width": "",
       "font_size": null,
       "text_color": null
      }
     },
     "b32a2ae42fcf4d5098f8ed0f8fac973c": {
      "model_module": "@jupyter-widgets/controls",
      "model_module_version": "2.0.0",
      "model_name": "CheckboxModel",
      "state": {
       "description": "ZIP export (must be .json, .csv)",
       "disabled": false,
       "layout": "IPY_MODEL_1675a97f484c4ca28da8e7d96f033ea0",
       "style": "IPY_MODEL_c0c1175e224d41edb720adff0a9ca843",
       "value": false
      }
     },
     "b33f8c0d94f74e97b4134ed6b7c00cf5": {
      "model_module": "@jupyter-widgets/base",
      "model_module_version": "2.0.0",
      "model_name": "LayoutModel",
      "state": {
       "width": "95%"
      }
     },
     "b361db8b2187487dbccfda2af7fc0cca": {
      "model_module": "@jupyter-widgets/controls",
      "model_module_version": "2.0.0",
      "model_name": "HBoxModel",
      "state": {
       "children": [
        "IPY_MODEL_3ac155369b2a453cac061e64a3b30758",
        "IPY_MODEL_3540f97d828243e8b00c57498beefda2",
        "IPY_MODEL_95056df47d654cf69b5946db6fdff87a"
       ],
       "layout": "IPY_MODEL_791be8e1b3194dc6a626afcffc643dd5"
      }
     },
     "b39ce89659da47c7a9f783aeb9cd0dd0": {
      "model_module": "@jupyter-widgets/controls",
      "model_module_version": "2.0.0",
      "model_name": "CheckboxModel",
      "state": {
       "description": "Allow overwrite",
       "disabled": false,
       "layout": "IPY_MODEL_4ee3a679f69a4ca8a6eef462fd52a146",
       "style": "IPY_MODEL_4e5fb68bb2cf4c369a26582900580bc2",
       "value": false
      }
     },
     "b3a35d9837f643ae9938d00c6cc938b9": {
      "model_module": "@jupyter-widgets/controls",
      "model_module_version": "2.0.0",
      "model_name": "ButtonModel",
      "state": {
       "description": "Login",
       "layout": "IPY_MODEL_5707cad9934f481ca619fb22c06a29dd",
       "style": "IPY_MODEL_10e53bfe385c4c0f8fb335863204d99d",
       "tooltip": null
      }
     },
     "b3cefb9b4d544c5f94405c80bc569657": {
      "model_module": "@jupyter-widgets/output",
      "model_module_version": "1.0.0",
      "model_name": "OutputModel",
      "state": {
       "layout": "IPY_MODEL_b8b4c9043330469b99f6b2c8f81e06ad"
      }
     },
     "b41beebe32fd4c168a5bdd4c4520e03d": {
      "model_module": "@jupyter-widgets/controls",
      "model_module_version": "2.0.0",
      "model_name": "DescriptionStyleModel",
      "state": {
       "description_width": ""
      }
     },
     "b4327741e50d45d481c82c7c147e5697": {
      "model_module": "@jupyter-widgets/controls",
      "model_module_version": "2.0.0",
      "model_name": "CheckboxStyleModel",
      "state": {
       "description_width": ""
      }
     },
     "b43b24e7bb3b4fa284427fe2d860510c": {
      "model_module": "@jupyter-widgets/base",
      "model_module_version": "2.0.0",
      "model_name": "LayoutModel",
      "state": {}
     },
     "b4d696a71637401c908f73a8e3ef0ba5": {
      "model_module": "@jupyter-widgets/controls",
      "model_module_version": "2.0.0",
      "model_name": "CheckboxModel",
      "state": {
       "description": "Split in batches",
       "disabled": false,
       "layout": "IPY_MODEL_752afb5c8b2a4015b63b65adfec72a72",
       "style": "IPY_MODEL_65b002ff5bac4a7bab44c56314b80b26",
       "value": false
      }
     },
     "b535a299d3f7493a89c32232bf496e98": {
      "model_module": "@jupyter-widgets/controls",
      "model_module_version": "2.0.0",
      "model_name": "CheckboxStyleModel",
      "state": {
       "description_width": ""
      }
     },
     "b5c69e5feb8a4aeeb647c664935412db": {
      "model_module": "@jupyter-widgets/controls",
      "model_module_version": "2.0.0",
      "model_name": "HBoxModel",
      "state": {
       "children": [
        "IPY_MODEL_212d8af38e0c4090b51151008996c73f",
        "IPY_MODEL_442f1e722c95467da7bbe5ac31714786",
        "IPY_MODEL_76bfd61be2724e8f8985a776e7d92311"
       ],
       "layout": "IPY_MODEL_34d78aa2b5f74184a8af0cbfbe5829a1"
      }
     },
     "b6072fea958c4e3e8604dfc6e550cf94": {
      "model_module": "@jupyter-widgets/controls",
      "model_module_version": "2.0.0",
      "model_name": "CheckboxStyleModel",
      "state": {
       "description_width": ""
      }
     },
     "b608e85ca40a4407b640de8ab60b3b3b": {
      "model_module": "@jupyter-widgets/controls",
      "model_module_version": "2.0.0",
      "model_name": "CheckboxStyleModel",
      "state": {
       "description_width": ""
      }
     },
     "b63124bbd0694080a2c93b616ae20282": {
      "model_module": "@jupyter-widgets/controls",
      "model_module_version": "2.0.0",
      "model_name": "TextModel",
      "state": {
       "description": "Output Path",
       "layout": "IPY_MODEL_42b82453d5ac44c49a85f61f3b7e7882",
       "style": "IPY_MODEL_508924732af1483880e3e78b859cf0df"
      }
     },
     "b66e90390dc94abc963a6e14f54824c6": {
      "model_module": "@jupyter-widgets/controls",
      "model_module_version": "2.0.0",
      "model_name": "TextStyleModel",
      "state": {
       "description_width": "",
       "font_size": null,
       "text_color": null
      }
     },
     "b6c57db1291c41fcbce1bd29f330a613": {
      "model_module": "@jupyter-widgets/base",
      "model_module_version": "2.0.0",
      "model_name": "LayoutModel",
      "state": {}
     },
     "b711ab8cdc304cb3b37c36c449d2d539": {
      "model_module": "@jupyter-widgets/base",
      "model_module_version": "2.0.0",
      "model_name": "LayoutModel",
      "state": {}
     },
     "b7cfd4914d154f4b9339fb4d96725cce": {
      "model_module": "@jupyter-widgets/controls",
      "model_module_version": "2.0.0",
      "model_name": "ButtonStyleModel",
      "state": {
       "font_family": null,
       "font_size": null,
       "font_style": null,
       "font_variant": null,
       "font_weight": null,
       "text_color": null,
       "text_decoration": null
      }
     },
     "b8b4c9043330469b99f6b2c8f81e06ad": {
      "model_module": "@jupyter-widgets/base",
      "model_module_version": "2.0.0",
      "model_name": "LayoutModel",
      "state": {}
     },
     "b97224717bbd4e6db9fa1a99aad446e1": {
      "model_module": "@jupyter-widgets/base",
      "model_module_version": "2.0.0",
      "model_name": "LayoutModel",
      "state": {}
     },
     "b99fa414b43149e8b3f6499fa8806434": {
      "model_module": "@jupyter-widgets/controls",
      "model_module_version": "2.0.0",
      "model_name": "CheckboxStyleModel",
      "state": {
       "description_width": ""
      }
     },
     "b9a19c1302404bb4ad64a3fad52e39d0": {
      "model_module": "@jupyter-widgets/controls",
      "model_module_version": "2.0.0",
      "model_name": "CheckboxStyleModel",
      "state": {
       "description_width": ""
      }
     },
     "ba4850c5b82b43599bcce6ac8d74d3b4": {
      "model_module": "@jupyter-widgets/controls",
      "model_module_version": "2.0.0",
      "model_name": "TextModel",
      "state": {
       "description": "Input Path",
       "layout": "IPY_MODEL_24b2146bcaaf4fef8cbacaa761a93205",
       "style": "IPY_MODEL_0775a92c8cde44d48878f517085fedcd",
       "tooltip": "Path to PDF directory"
      }
     },
     "ba51319320d64e25a74641627dd78b7d": {
      "model_module": "@jupyter-widgets/base",
      "model_module_version": "2.0.0",
      "model_name": "LayoutModel",
      "state": {}
     },
     "bab1be7b94df4e7fba273adc5cf135b3": {
      "model_module": "@jupyter-widgets/base",
      "model_module_version": "2.0.0",
      "model_name": "LayoutModel",
      "state": {}
     },
     "bad108f6cfec420cae4c4a80db1d0a96": {
      "model_module": "@jupyter-widgets/base",
      "model_module_version": "2.0.0",
      "model_name": "LayoutModel",
      "state": {
       "width": "20%"
      }
     },
     "bb1f9474fad34f35929d1db89c1ff484": {
      "model_module": "@jupyter-widgets/controls",
      "model_module_version": "2.0.0",
      "model_name": "ButtonStyleModel",
      "state": {
       "font_family": null,
       "font_size": null,
       "font_style": null,
       "font_variant": null,
       "font_weight": null,
       "text_color": null,
       "text_decoration": null
      }
     },
     "bb4a7e35b81b44a1963557ebccb9b474": {
      "model_module": "@jupyter-widgets/base",
      "model_module_version": "2.0.0",
      "model_name": "LayoutModel",
      "state": {}
     },
     "bb5301d6a5484d478561dbb35464d0b5": {
      "model_module": "@jupyter-widgets/controls",
      "model_module_version": "2.0.0",
      "model_name": "IntTextModel",
      "state": {
       "description": "Max rows",
       "layout": "IPY_MODEL_af710bc806ef4111875e06b631e93a5e",
       "step": 1,
       "style": "IPY_MODEL_7569b72c1f9140c7929681bb42f0a8f9"
      }
     },
     "bb73834af6fd4ca494fbe268cb12606b": {
      "model_module": "@jupyter-widgets/controls",
      "model_module_version": "2.0.0",
      "model_name": "IntTextModel",
      "state": {
       "description": "Max count",
       "layout": "IPY_MODEL_420998764a4f4fc0affa192789080f6c",
       "step": 1,
       "style": "IPY_MODEL_fcfe01c1bc1e4831af3d00c4cbe05307"
      }
     },
     "bb763b5880df44a0913b369880122a9d": {
      "model_module": "@jupyter-widgets/base",
      "model_module_version": "2.0.0",
      "model_name": "LayoutModel",
      "state": {}
     },
     "bba62ba646b0440eb07b7ed88289a3c2": {
      "model_module": "@jupyter-widgets/controls",
      "model_module_version": "2.0.0",
      "model_name": "CheckboxStyleModel",
      "state": {
       "description_width": ""
      }
     },
     "bbaa29fd332d4f13a48ce8967b9994f7": {
      "model_module": "@jupyter-widgets/controls",
      "model_module_version": "2.0.0",
      "model_name": "DescriptionStyleModel",
      "state": {
       "description_width": ""
      }
     },
     "bbd8a6dd8bc644928db29cbc1216170a": {
      "model_module": "@jupyter-widgets/controls",
      "model_module_version": "2.0.0",
      "model_name": "TextModel",
      "state": {
       "description": "Output Path",
       "layout": "IPY_MODEL_729819b42cca476288b49fffe66cd05b",
       "style": "IPY_MODEL_02793879d99246d396a0b32e40c64fce"
      }
     },
     "bd2b1858675c4898b22adcdf6af79069": {
      "model_module": "@jupyter-widgets/controls",
      "model_module_version": "2.0.0",
      "model_name": "TextModel",
      "state": {
       "description": "Output Path",
       "layout": "IPY_MODEL_dd3406be9150487d8e6ddac7c209f0e4",
       "style": "IPY_MODEL_b66e90390dc94abc963a6e14f54824c6"
      }
     },
     "bd7f231035a842049ec02be1fc9c8b93": {
      "model_module": "@jupyter-widgets/controls",
      "model_module_version": "2.0.0",
      "model_name": "CheckboxModel",
      "state": {
       "description": "Allow overwrite",
       "disabled": false,
       "layout": "IPY_MODEL_5f77c2ab2573420b86fd05a37e8c291b",
       "style": "IPY_MODEL_2af1ddcc05484072af2007b39330e03b",
       "value": false
      }
     },
     "bdbd1bd756964f65a387e75fb08a0b40": {
      "model_module": "@jupyter-widgets/controls",
      "model_module_version": "2.0.0",
      "model_name": "HBoxModel",
      "state": {
       "children": [
        "IPY_MODEL_81573354c1ef4b2b82950d497275eedc",
        "IPY_MODEL_98c49c87245a4a6c8b6d1953156a80bb",
        "IPY_MODEL_87120d0689e34fe58a431e332a2b3ea7"
       ],
       "layout": "IPY_MODEL_5034053e248942e793255d22edf42535"
      }
     },
     "bec1648b2c3746049080b0692f91ab78": {
      "model_module": "@jupyter-widgets/controls",
      "model_module_version": "2.0.0",
      "model_name": "CheckboxModel",
      "state": {
       "description": "Allow overwrite",
       "disabled": false,
       "layout": "IPY_MODEL_a742f1c329ba4876b1e62b3c75b7e167",
       "style": "IPY_MODEL_a229b19e97b64146a7a8111571a70ec8",
       "value": false
      }
     },
     "bee343c187c74910b9b7892e6104fcd0": {
      "model_module": "@jupyter-widgets/controls",
      "model_module_version": "2.0.0",
      "model_name": "TextStyleModel",
      "state": {
       "description_width": "",
       "font_size": null,
       "text_color": null
      }
     },
     "bf041548fe864f98953e4c99d452385a": {
      "model_module": "@jupyter-widgets/controls",
      "model_module_version": "2.0.0",
      "model_name": "DescriptionStyleModel",
      "state": {
       "description_width": ""
      }
     },
     "bf69b722e21d45888dacd19a11e1bdbe": {
      "model_module": "@jupyter-widgets/controls",
      "model_module_version": "2.0.0",
      "model_name": "DescriptionStyleModel",
      "state": {
       "description_width": ""
      }
     },
     "bf82f9cc3f7d4c6eb93a3c3761c1f26e": {
      "model_module": "@jupyter-widgets/base",
      "model_module_version": "2.0.0",
      "model_name": "LayoutModel",
      "state": {}
     },
     "bf9e5459277f4def949c6b4895275767": {
      "model_module": "@jupyter-widgets/controls",
      "model_module_version": "2.0.0",
      "model_name": "HTMLStyleModel",
      "state": {
       "description_width": "",
       "font_size": null,
       "text_color": null
      }
     },
     "c018cb4ecde24fdb9d04b8fbe7475164": {
      "model_module": "@jupyter-widgets/base",
      "model_module_version": "2.0.0",
      "model_name": "LayoutModel",
      "state": {}
     },
     "c0a05147f1124e3ebb80c86afd2b33bb": {
      "model_module": "@jupyter-widgets/base",
      "model_module_version": "2.0.0",
      "model_name": "LayoutModel",
      "state": {}
     },
     "c0c1175e224d41edb720adff0a9ca843": {
      "model_module": "@jupyter-widgets/controls",
      "model_module_version": "2.0.0",
      "model_name": "CheckboxStyleModel",
      "state": {
       "description_width": ""
      }
     },
     "c0ce6837baee42f491ac29c9b03b0c46": {
      "model_module": "@jupyter-widgets/controls",
      "model_module_version": "2.0.0",
      "model_name": "TextStyleModel",
      "state": {
       "description_width": "",
       "font_size": null,
       "text_color": null
      }
     },
     "c1bcb3071d1d446c95e3379daf6389e1": {
      "model_module": "@jupyter-widgets/controls",
      "model_module_version": "2.0.0",
      "model_name": "TextModel",
      "state": {
       "description": "Output Path",
       "layout": "IPY_MODEL_50eb57647ba94eb09857131d30dc1083",
       "style": "IPY_MODEL_2f323bc6c0ba4a6f8d9d63e6c546edab"
      }
     },
     "c1c486142e3849c683a326d7fd57d643": {
      "model_module": "@jupyter-widgets/controls",
      "model_module_version": "2.0.0",
      "model_name": "DescriptionStyleModel",
      "state": {
       "description_width": ""
      }
     },
     "c2b4fa3e130c4ed9ab8929ad72452190": {
      "model_module": "@jupyter-widgets/base",
      "model_module_version": "2.0.0",
      "model_name": "LayoutModel",
      "state": {
       "width": "95%"
      }
     },
     "c31f2e98b9374e25bd6c1552ce916ccf": {
      "model_module": "@jupyter-widgets/controls",
      "model_module_version": "2.0.0",
      "model_name": "TextStyleModel",
      "state": {
       "description_width": "",
       "font_size": null,
       "text_color": null
      }
     },
     "c32a7da23d4143d9aa950988d3574719": {
      "model_module": "@jupyter-widgets/controls",
      "model_module_version": "2.0.0",
      "model_name": "CheckboxModel",
      "state": {
       "description": "Split in batches",
       "disabled": false,
       "layout": "IPY_MODEL_a793d4f41c1b4d21b66594e1e3c00049",
       "style": "IPY_MODEL_8772f58a47384bbb9b0fd38454911070",
       "value": false
      }
     },
     "c39be326cdd2403c9c8a392a67eea2f0": {
      "model_module": "@jupyter-widgets/controls",
      "model_module_version": "2.0.0",
      "model_name": "ButtonModel",
      "state": {
       "description": "Read more",
       "layout": "IPY_MODEL_80a361ab02274c958f84575696ebef94",
       "style": "IPY_MODEL_992bad04b58f45bf982f5e3e1e8ec60f",
       "tooltip": null
      }
     },
     "c3b3d6230baf4c5fa67c08df371033e8": {
      "model_module": "@jupyter-widgets/controls",
      "model_module_version": "2.0.0",
      "model_name": "TextStyleModel",
      "state": {
       "description_width": "",
       "font_size": null,
       "text_color": null
      }
     },
     "c44eac4d09354395894267c206f63d94": {
      "model_module": "@jupyter-widgets/base",
      "model_module_version": "2.0.0",
      "model_name": "LayoutModel",
      "state": {
       "width": "20%"
      }
     },
     "c459eaa4bf374e889c75c70cb0a192d2": {
      "model_module": "@jupyter-widgets/controls",
      "model_module_version": "2.0.0",
      "model_name": "CheckboxStyleModel",
      "state": {
       "description_width": ""
      }
     },
     "c462fd6820ae48dfb32006ec55e07239": {
      "model_module": "@jupyter-widgets/controls",
      "model_module_version": "2.0.0",
      "model_name": "TextStyleModel",
      "state": {
       "description_width": "",
       "font_size": null,
       "text_color": null
      }
     },
     "c4ee649767774cfdaae405deb4c033d5": {
      "model_module": "@jupyter-widgets/controls",
      "model_module_version": "2.0.0",
      "model_name": "TextModel",
      "state": {
       "description": "Output Path:",
       "layout": "IPY_MODEL_0606d0923e4846b7894d8c72a2f86b18",
       "style": "IPY_MODEL_778dd8764c884facac44f22275b1c7e9"
      }
     },
     "c5d543f3a6ea40bba10baf5637f55683": {
      "model_module": "@jupyter-widgets/base",
      "model_module_version": "2.0.0",
      "model_name": "LayoutModel",
      "state": {
       "width": "95%"
      }
     },
     "c60ecc7855ea41448eee95a550a82651": {
      "model_module": "@jupyter-widgets/controls",
      "model_module_version": "2.0.0",
      "model_name": "ButtonModel",
      "state": {
       "description": "Start export",
       "layout": "IPY_MODEL_e2a9630f68584caaaa760b8d3aa33663",
       "style": "IPY_MODEL_445e1747794e4f629848f1952021391f",
       "tooltip": null
      }
     },
     "c61c07c9f0854966a7d2a5b90a6dfedc": {
      "model_module": "@jupyter-widgets/base",
      "model_module_version": "2.0.0",
      "model_name": "LayoutModel",
      "state": {}
     },
     "c61d3650f1c04be79d94aa24f1291bf4": {
      "model_module": "@jupyter-widgets/base",
      "model_module_version": "2.0.0",
      "model_name": "LayoutModel",
      "state": {}
     },
     "c6468f401b9c425eb2814f916bbb6561": {
      "model_module": "@jupyter-widgets/base",
      "model_module_version": "2.0.0",
      "model_name": "LayoutModel",
      "state": {}
     },
     "c649a0ace98449c89a530143f5a44553": {
      "model_module": "@jupyter-widgets/output",
      "model_module_version": "1.0.0",
      "model_name": "OutputModel",
      "state": {
       "layout": "IPY_MODEL_13f328d48db34d5488e18b7b0a76f99b"
      }
     },
     "c678a61fdadb466c9823ee68a017142e": {
      "model_module": "@jupyter-widgets/controls",
      "model_module_version": "2.0.0",
      "model_name": "TextStyleModel",
      "state": {
       "description_width": "",
       "font_size": null,
       "text_color": null
      }
     },
     "c6f8830964dc4563a86435381792e436": {
      "model_module": "@jupyter-widgets/controls",
      "model_module_version": "2.0.0",
      "model_name": "HTMLStyleModel",
      "state": {
       "description_width": "",
       "font_size": null,
       "text_color": null
      }
     },
     "c77678482e2d4f8f9b1b4a4764f0c37d": {
      "model_module": "@jupyter-widgets/controls",
      "model_module_version": "2.0.0",
      "model_name": "CheckboxStyleModel",
      "state": {
       "description_width": ""
      }
     },
     "c82a554fcf73434d8dc1da9cb746cabc": {
      "model_module": "@jupyter-widgets/base",
      "model_module_version": "2.0.0",
      "model_name": "LayoutModel",
      "state": {}
     },
     "c8621b8d1c4449a7ad55a3741956b8a4": {
      "model_module": "@jupyter-widgets/controls",
      "model_module_version": "2.0.0",
      "model_name": "CheckboxModel",
      "state": {
       "description": "Split in batches",
       "disabled": false,
       "layout": "IPY_MODEL_c0a05147f1124e3ebb80c86afd2b33bb",
       "style": "IPY_MODEL_f72dcb9ef28b42758f7983d50a8bd5b3",
       "value": false
      }
     },
     "c87b6d52431747d5b1e1bbd1df73acb9": {
      "model_module": "@jupyter-widgets/controls",
      "model_module_version": "2.0.0",
      "model_name": "TextStyleModel",
      "state": {
       "description_width": "",
       "font_size": null,
       "text_color": null
      }
     },
     "c87c74a5a9e04e16a37363747bb4f246": {
      "model_module": "@jupyter-widgets/controls",
      "model_module_version": "2.0.0",
      "model_name": "DescriptionStyleModel",
      "state": {
       "description_width": ""
      }
     },
     "c8b4a559d998462b816d7b19e80e7d3e": {
      "model_module": "@jupyter-widgets/controls",
      "model_module_version": "2.0.0",
      "model_name": "IntTextModel",
      "state": {
       "description": "Max count:",
       "layout": "IPY_MODEL_43766af5af124efba4d13bbcc58a9f18",
       "step": 1,
       "style": "IPY_MODEL_06265329a75c440fb32b49110caa199a"
      }
     },
     "c8dead20e17f4e19bb5769159a3110d6": {
      "model_module": "@jupyter-widgets/controls",
      "model_module_version": "2.0.0",
      "model_name": "TextModel",
      "state": {
       "description": "Input Path",
       "layout": "IPY_MODEL_328f59c97f2441e7acf78a81b452d471",
       "style": "IPY_MODEL_cfa453090033412faa77d93a4ced9016",
       "tooltip": "Path to input directory or archive"
      }
     },
     "c9032925d5a646c983d172630d25ab35": {
      "model_module": "@jupyter-widgets/controls",
      "model_module_version": "2.0.0",
      "model_name": "HBoxModel",
      "state": {
       "children": [
        "IPY_MODEL_a89a0319ffa7424eb7be02078b1eed45",
        "IPY_MODEL_e9d8d73b93764462baf32688be9c8a40",
        "IPY_MODEL_1348adb7f67b4cd5bc93900e20d2b48f"
       ],
       "layout": "IPY_MODEL_8dff1de1eb7b4f57a2eba68a2b47f0cd"
      }
     },
     "c942256b723a4314b84788f5ddf47f02": {
      "model_module": "@jupyter-widgets/base",
      "model_module_version": "2.0.0",
      "model_name": "LayoutModel",
      "state": {
       "width": "20%"
      }
     },
     "c9596b71bedf47cdaa7d5e4f600f2aca": {
      "model_module": "@jupyter-widgets/controls",
      "model_module_version": "2.0.0",
      "model_name": "TextStyleModel",
      "state": {
       "description_width": "",
       "font_size": null,
       "text_color": null
      }
     },
     "c9ac7538020047ff98edcad13c43b1aa": {
      "model_module": "@jupyter-widgets/controls",
      "model_module_version": "2.0.0",
      "model_name": "TextModel",
      "state": {
       "description": "Output Path",
       "layout": "IPY_MODEL_a5fcf49b53e14910a88ad86349099b8a",
       "style": "IPY_MODEL_fabcbaf55c18404181d6ad60f20ea8a0",
       "value": "/Users/samuelrobson/Desktop/pussypussy.xlsx"
      }
     },
     "cb21b6306984473fbcc756b3df98a3b0": {
      "model_module": "@jupyter-widgets/base",
      "model_module_version": "2.0.0",
      "model_name": "LayoutModel",
      "state": {}
     },
     "cb42b8de681744f1a8f4faf1e70e6f3f": {
      "model_module": "@jupyter-widgets/controls",
      "model_module_version": "2.0.0",
      "model_name": "IntTextModel",
      "state": {
       "description": "Max count",
       "layout": "IPY_MODEL_66fb41a761a4438f9c2dfe8cc37e4476",
       "step": 1,
       "style": "IPY_MODEL_661a76802aa5465090273bce9e963b93"
      }
     },
     "cb9cee64f36a4acbb349975a61885f24": {
      "model_module": "@jupyter-widgets/controls",
      "model_module_version": "2.0.0",
      "model_name": "HTMLModel",
      "state": {
       "layout": "IPY_MODEL_2ddfa3cdc43749369a634f63b0cdb3f0",
       "style": "IPY_MODEL_8a87bcdf32d247c4815d617041440419",
       "value": "PDF =&gt; Text:  46%"
      }
     },
     "cc3226192cbb4649a9d3dc812f927bdb": {
      "model_module": "@jupyter-widgets/base",
      "model_module_version": "2.0.0",
      "model_name": "LayoutModel",
      "state": {}
     },
     "cc7e576163d14566b54c7b15c730a8bb": {
      "model_module": "@jupyter-widgets/controls",
      "model_module_version": "2.0.0",
      "model_name": "ButtonStyleModel",
      "state": {
       "font_family": null,
       "font_size": null,
       "font_style": null,
       "font_variant": null,
       "font_weight": null,
       "text_color": null,
       "text_decoration": null
      }
     },
     "cd33da221cd74ce68e2de35949cd255b": {
      "model_module": "@jupyter-widgets/controls",
      "model_module_version": "2.0.0",
      "model_name": "TextModel",
      "state": {
       "description": "Output Path",
       "layout": "IPY_MODEL_b33f8c0d94f74e97b4134ed6b7c00cf5",
       "style": "IPY_MODEL_328355c9771c4d3a8f71082b75d669e6"
      }
     },
     "cd55a6a1b8234ad2b4542e8d8247a023": {
      "model_module": "@jupyter-widgets/controls",
      "model_module_version": "2.0.0",
      "model_name": "ButtonModel",
      "state": {
       "description": "Read more",
       "layout": "IPY_MODEL_8d1a847faadc4a4ab86149a45c4d1c4e",
       "style": "IPY_MODEL_bb1f9474fad34f35929d1db89c1ff484",
       "tooltip": null
      }
     },
     "ce5cbe9ae24248c092cef6a3b9c10508": {
      "model_module": "@jupyter-widgets/controls",
      "model_module_version": "2.0.0",
      "model_name": "HTMLModel",
      "state": {
       "layout": "IPY_MODEL_7abda8adc40a4c5f992fca62c068c00f",
       "style": "IPY_MODEL_5037f0848eae4b79b955e5611b5674ed",
       "value": " 368/368 [00:58&lt;00:00,  3.86it/s]"
      }
     },
     "ce6f275f82844ea4b039b8c94cbd3954": {
      "model_module": "@jupyter-widgets/controls",
      "model_module_version": "2.0.0",
      "model_name": "TextModel",
      "state": {
       "description": "Customer ID: ",
       "layout": "IPY_MODEL_58527c0be570409b9eae2798b9e2f934",
       "style": "IPY_MODEL_f01a73879f664b2fabd28eec5c7ba031"
      }
     },
     "cea3659f98d4430ebba6477c165d84a8": {
      "model_module": "@jupyter-widgets/base",
      "model_module_version": "2.0.0",
      "model_name": "LayoutModel",
      "state": {}
     },
     "ceb755169cc84dfab1c81938bcce3abd": {
      "model_module": "@jupyter-widgets/base",
      "model_module_version": "2.0.0",
      "model_name": "LayoutModel",
      "state": {}
     },
     "cebb8d002ae34acd9513efba35e2c567": {
      "model_module": "@jupyter-widgets/controls",
      "model_module_version": "2.0.0",
      "model_name": "ButtonStyleModel",
      "state": {
       "font_family": null,
       "font_size": null,
       "font_style": null,
       "font_variant": null,
       "font_weight": null,
       "text_color": null,
       "text_decoration": null
      }
     },
     "cee097873a524430bf7e5e207dbea0d2": {
      "model_module": "@jupyter-widgets/controls",
      "model_module_version": "2.0.0",
      "model_name": "ProgressStyleModel",
      "state": {
       "description_width": ""
      }
     },
     "cfa453090033412faa77d93a4ced9016": {
      "model_module": "@jupyter-widgets/controls",
      "model_module_version": "2.0.0",
      "model_name": "TextStyleModel",
      "state": {
       "description_width": "",
       "font_size": null,
       "text_color": null
      }
     },
     "d091323b2d47412d942d023e6268f6e4": {
      "model_module": "@jupyter-widgets/controls",
      "model_module_version": "2.0.0",
      "model_name": "DescriptionStyleModel",
      "state": {
       "description_width": ""
      }
     },
     "d0eb629ae95b468581208c87b6317594": {
      "model_module": "@jupyter-widgets/controls",
      "model_module_version": "2.0.0",
      "model_name": "CheckboxStyleModel",
      "state": {
       "description_width": ""
      }
     },
     "d11dfd497b8646b4a82c3cbe713017d7": {
      "model_module": "@jupyter-widgets/controls",
      "model_module_version": "2.0.0",
      "model_name": "CheckboxModel",
      "state": {
       "description": "Allow overwrite",
       "disabled": false,
       "layout": "IPY_MODEL_e526b8e1fb6748b9b62dc0e291c37b9f",
       "style": "IPY_MODEL_6b567740f6cd401dbc599a65679a9c6b",
       "value": false
      }
     },
     "d132c2451c3d4368835a3a7a5567cd8c": {
      "model_module": "@jupyter-widgets/base",
      "model_module_version": "2.0.0",
      "model_name": "LayoutModel",
      "state": {
       "width": "20%"
      }
     },
     "d15d566f20ab4c15aa366c06d306aaa7": {
      "model_module": "@jupyter-widgets/base",
      "model_module_version": "2.0.0",
      "model_name": "LayoutModel",
      "state": {}
     },
     "d1a0d3843ce64242b7a9345c906124d1": {
      "model_module": "@jupyter-widgets/base",
      "model_module_version": "2.0.0",
      "model_name": "LayoutModel",
      "state": {
       "width": "20%"
      }
     },
     "d1a7f275b18e44ad9c7d0cc4e0035d70": {
      "model_module": "@jupyter-widgets/base",
      "model_module_version": "2.0.0",
      "model_name": "LayoutModel",
      "state": {}
     },
     "d1fb437494b745598f79cd963daa9c83": {
      "model_module": "@jupyter-widgets/controls",
      "model_module_version": "2.0.0",
      "model_name": "HBoxModel",
      "state": {
       "children": [
        "IPY_MODEL_8d3a247905a64e158df928191129712c",
        "IPY_MODEL_ac4be2393f4e4d508382f258343388c4",
        "IPY_MODEL_809680b7464d40c5aa5cfb63b1a49dd2"
       ],
       "layout": "IPY_MODEL_794ee4cb0d5942abade9f34e027e52f3"
      }
     },
     "d237025c2dc34b61b92a1608c5e2b2f4": {
      "model_module": "@jupyter-widgets/controls",
      "model_module_version": "2.0.0",
      "model_name": "TextModel",
      "state": {
       "description": "Input Path",
       "layout": "IPY_MODEL_7319b691977041c2acfeb75e791b3d2c",
       "style": "IPY_MODEL_e9b231c647c84e00a8a8352814f7c19d",
       "tooltip": "Path to PDF directory"
      }
     },
     "d2984e61f62340e8ad43b420dc804357": {
      "model_module": "@jupyter-widgets/controls",
      "model_module_version": "2.0.0",
      "model_name": "CheckboxModel",
      "state": {
       "description": "Allow overwrite",
       "disabled": false,
       "layout": "IPY_MODEL_72c867366e824719b58b1486b3121b57",
       "style": "IPY_MODEL_3ce35dbb3576444da096d9c8b28f30ca",
       "value": false
      }
     },
     "d2c58505c48540dc91851c1611b5cf96": {
      "model_module": "@jupyter-widgets/controls",
      "model_module_version": "2.0.0",
      "model_name": "TextStyleModel",
      "state": {
       "description_width": "",
       "font_size": null,
       "text_color": null
      }
     },
     "d2f082d769754c3dbc7b743c69a30975": {
      "model_module": "@jupyter-widgets/controls",
      "model_module_version": "2.0.0",
      "model_name": "CheckboxModel",
      "state": {
       "description": "Allow overwrite",
       "disabled": false,
       "layout": "IPY_MODEL_0054e1db6e9145a983d22895adef2670",
       "style": "IPY_MODEL_d7101bb0c01d40919b5f1186709c2b37",
       "value": false
      }
     },
     "d31f04246b0742dcabee28bb729921b9": {
      "model_module": "@jupyter-widgets/base",
      "model_module_version": "2.0.0",
      "model_name": "LayoutModel",
      "state": {}
     },
     "d34c8ea7264e43f998a3fb923d54a957": {
      "model_module": "@jupyter-widgets/controls",
      "model_module_version": "2.0.0",
      "model_name": "ButtonModel",
      "state": {
       "description": "Start export",
       "layout": "IPY_MODEL_09675cd23fa84cf0b3acb51611f38fbb",
       "style": "IPY_MODEL_66614ecbdd604b74bcf2b9e291a44a6b",
       "tooltip": null
      }
     },
     "d3732aeb7d14483ca88c06c28548b3fd": {
      "model_module": "@jupyter-widgets/controls",
      "model_module_version": "2.0.0",
      "model_name": "CheckboxStyleModel",
      "state": {
       "description_width": ""
      }
     },
     "d382d01cd6da44059d8ba2231ad88c13": {
      "model_module": "@jupyter-widgets/base",
      "model_module_version": "2.0.0",
      "model_name": "LayoutModel",
      "state": {}
     },
     "d3a7257a7ddb46b687b2f06f2050787d": {
      "model_module": "@jupyter-widgets/controls",
      "model_module_version": "2.0.0",
      "model_name": "ButtonModel",
      "state": {
       "description": "Read more",
       "layout": "IPY_MODEL_5b75faf5cc99443883a7a7ab67b45f59",
       "style": "IPY_MODEL_26cc9f055f22440e9353cd20f26877e0",
       "tooltip": null
      }
     },
     "d3ab27a5938c4d8e9340f5ed3141b251": {
      "model_module": "@jupyter-widgets/base",
      "model_module_version": "2.0.0",
      "model_name": "LayoutModel",
      "state": {}
     },
     "d3e54194e8f34255a73573c8a5d5452a": {
      "model_module": "@jupyter-widgets/controls",
      "model_module_version": "2.0.0",
      "model_name": "TextStyleModel",
      "state": {
       "description_width": "",
       "font_size": null,
       "text_color": null
      }
     },
     "d3fc46c9ea004e1a82893e7b980f6696": {
      "model_module": "@jupyter-widgets/controls",
      "model_module_version": "2.0.0",
      "model_name": "HTMLStyleModel",
      "state": {
       "description_width": "",
       "font_size": null,
       "text_color": null
      }
     },
     "d458da1ea39340b69db7b1c20b780a6d": {
      "model_module": "@jupyter-widgets/controls",
      "model_module_version": "2.0.0",
      "model_name": "IntTextModel",
      "state": {
       "description": "Skip rows",
       "layout": "IPY_MODEL_21233d5ac8f240b1a95db0d831ab53a9",
       "step": 1,
       "style": "IPY_MODEL_67966efee7a5405cb40cec2195fb2605"
      }
     },
     "d48007b8d2eb461dad608e93c10fbca7": {
      "model_module": "@jupyter-widgets/controls",
      "model_module_version": "2.0.0",
      "model_name": "DropdownModel",
      "state": {
       "_options_labels": [
        "cases",
        "charges",
        "disposition",
        "filing",
        "fees"
       ],
       "description": "Table:",
       "index": 0,
       "layout": "IPY_MODEL_d5b2a391df5d4534a4cc32cc55f4738a",
       "style": "IPY_MODEL_6004457c283247e38ce6f10b84d50139"
      }
     },
     "d4af6a0174e9402485af2e126d6bf785": {
      "model_module": "@jupyter-widgets/base",
      "model_module_version": "2.0.0",
      "model_name": "LayoutModel",
      "state": {}
     },
     "d51ea383c32544eb842ae8070fd184f2": {
      "model_module": "@jupyter-widgets/output",
      "model_module_version": "1.0.0",
      "model_name": "OutputModel",
      "state": {
       "layout": "IPY_MODEL_0be1c8d034ab4484a350db76a8cf2187"
      }
     },
     "d54fa2b2df6d46b6825f9d9f41ca4152": {
      "model_module": "@jupyter-widgets/controls",
      "model_module_version": "2.0.0",
      "model_name": "IntTextModel",
      "state": {
       "description": "Max rows",
       "layout": "IPY_MODEL_5a9a055ad69a4cdcaac970ff29c76d6f",
       "step": 1,
       "style": "IPY_MODEL_bf041548fe864f98953e4c99d452385a"
      }
     },
     "d5b2a391df5d4534a4cc32cc55f4738a": {
      "model_module": "@jupyter-widgets/base",
      "model_module_version": "2.0.0",
      "model_name": "LayoutModel",
      "state": {}
     },
     "d5fe871e68c843bba82daaedc5fb9e2f": {
      "model_module": "@jupyter-widgets/base",
      "model_module_version": "2.0.0",
      "model_name": "LayoutModel",
      "state": {}
     },
     "d6d6aa55e31549b8844e023f73f26477": {
      "model_module": "@jupyter-widgets/controls",
      "model_module_version": "2.0.0",
      "model_name": "ButtonModel",
      "state": {
       "description": "Login",
       "layout": "IPY_MODEL_3492ae09d9b54d88949a7b0befa2b365",
       "style": "IPY_MODEL_1a6a15ad1231448b8531c1b27018a081",
       "tooltip": null
      }
     },
     "d6eeccf5d092461a80ec0e0058c56939": {
      "model_module": "@jupyter-widgets/controls",
      "model_module_version": "2.0.0",
      "model_name": "ButtonModel",
      "state": {
       "description": "Login",
       "layout": "IPY_MODEL_ea05d0b6b2974ae1ad3a19f209ecda77",
       "style": "IPY_MODEL_96b533ddae884ae0982d56b77953eab7",
       "tooltip": null
      }
     },
     "d70c725d26f242d78836ef30d24f9d5c": {
      "model_module": "@jupyter-widgets/base",
      "model_module_version": "2.0.0",
      "model_name": "LayoutModel",
      "state": {
       "width": "95%"
      }
     },
     "d7101bb0c01d40919b5f1186709c2b37": {
      "model_module": "@jupyter-widgets/controls",
      "model_module_version": "2.0.0",
      "model_name": "CheckboxStyleModel",
      "state": {
       "description_width": ""
      }
     },
     "d8889163e4f14cd98a054d39b57ec778": {
      "model_module": "@jupyter-widgets/controls",
      "model_module_version": "2.0.0",
      "model_name": "CheckboxStyleModel",
      "state": {
       "description_width": ""
      }
     },
     "d8a80f82f60b4a88a560f32fc78d9d6d": {
      "model_module": "@jupyter-widgets/controls",
      "model_module_version": "2.0.0",
      "model_name": "DropdownModel",
      "state": {
       "_options_labels": [
        "cases",
        "charges",
        "disposition",
        "filing",
        "fees"
       ],
       "description": "Table:",
       "index": 0,
       "layout": "IPY_MODEL_6f1e227f14a3418193c80c679269f0b5",
       "style": "IPY_MODEL_97227689ba24401fbf8a1a25f581e033"
      }
     },
     "d9043e4e5fd94f79a9729cad9dd76b70": {
      "model_module": "@jupyter-widgets/controls",
      "model_module_version": "2.0.0",
      "model_name": "HBoxModel",
      "state": {
       "children": [
        "IPY_MODEL_8740f5fdff4b4dcdaba79b31646f4a69",
        "IPY_MODEL_6c14b8baa28d4caf9cd35ccadcec8517",
        "IPY_MODEL_0e25e104201742d8bc6c204c6574ede6"
       ],
       "layout": "IPY_MODEL_417e1340a48d451392a05e1d15a6de3a"
      }
     },
     "d9415e2e4526478d97a1abb734937e7e": {
      "model_module": "@jupyter-widgets/controls",
      "model_module_version": "2.0.0",
      "model_name": "DropdownModel",
      "state": {
       "_options_labels": [
        "cases",
        "charges",
        "disposition",
        "filing",
        "fees"
       ],
       "description": "Table:",
       "index": 0,
       "layout": "IPY_MODEL_56f4a35690a2478eb0526e19a9186fa3",
       "style": "IPY_MODEL_55e3d33d940f469ab342400a09abc02c"
      }
     },
     "d9dd91f98d21402db2a0ea635108290f": {
      "model_module": "@jupyter-widgets/base",
      "model_module_version": "2.0.0",
      "model_name": "LayoutModel",
      "state": {
       "width": "95%"
      }
     },
     "dab34315b6234aac81998126976d7a02": {
      "model_module": "@jupyter-widgets/controls",
      "model_module_version": "2.0.0",
      "model_name": "TextStyleModel",
      "state": {
       "description_width": "",
       "font_size": null,
       "text_color": null
      }
     },
     "dad7a0f8070d46c8bf8de2e55ec23f31": {
      "model_module": "@jupyter-widgets/controls",
      "model_module_version": "2.0.0",
      "model_name": "CheckboxModel",
      "state": {
       "description": "ZIP export (must be .json, .csv)",
       "disabled": false,
       "layout": "IPY_MODEL_e5e60e7987b1459a8b2d168708141a18",
       "style": "IPY_MODEL_7ba35a4eb1364a59afcb88300a7d0386",
       "value": false
      }
     },
     "dbcab688a9064a5ca73a430d2d1b9144": {
      "model_module": "@jupyter-widgets/base",
      "model_module_version": "2.0.0",
      "model_name": "LayoutModel",
      "state": {
       "width": "95%"
      }
     },
     "dbdcc7f3dfe64a97975a3a6e16e103b7": {
      "model_module": "@jupyter-widgets/controls",
      "model_module_version": "2.0.0",
      "model_name": "ButtonStyleModel",
      "state": {
       "font_family": null,
       "font_size": null,
       "font_style": null,
       "font_variant": null,
       "font_weight": null,
       "text_color": null,
       "text_decoration": null
      }
     },
     "dc017289a3c941f59f2e13454a9f3524": {
      "model_module": "@jupyter-widgets/controls",
      "model_module_version": "2.0.0",
      "model_name": "HBoxModel",
      "state": {
       "children": [
        "IPY_MODEL_0900c8b4d6db4ed48db6ca643afde2ca",
        "IPY_MODEL_823280eca5ca4c84908811a625c5ddf5",
        "IPY_MODEL_a7952a6843154c10b877fa7ccb000122"
       ],
       "layout": "IPY_MODEL_e69db1cc77594a7cad2bc78a2a65bae0"
      }
     },
     "dce026d5bbf744239e4c3111a4f7aa3d": {
      "model_module": "@jupyter-widgets/base",
      "model_module_version": "2.0.0",
      "model_name": "LayoutModel",
      "state": {}
     },
     "dd24041e28214a57bed926b7420a8f17": {
      "model_module": "@jupyter-widgets/controls",
      "model_module_version": "2.0.0",
      "model_name": "TextStyleModel",
      "state": {
       "description_width": "",
       "font_size": null,
       "text_color": null
      }
     },
     "dd3406be9150487d8e6ddac7c209f0e4": {
      "model_module": "@jupyter-widgets/base",
      "model_module_version": "2.0.0",
      "model_name": "LayoutModel",
      "state": {
       "width": "95%"
      }
     },
     "dd4a0a33ee444d08867221955594c198": {
      "model_module": "@jupyter-widgets/controls",
      "model_module_version": "2.0.0",
      "model_name": "HTMLModel",
      "state": {
       "layout": "IPY_MODEL_e828d0102da34d7c9aa13ec8382f0f72",
       "style": "IPY_MODEL_4abab7de1c2844078b2cb89d81c4ec8d",
       "value": "PDF =&gt; Text: 100%"
      }
     },
     "de06c1876bdc415faa8693445be83695": {
      "model_module": "@jupyter-widgets/controls",
      "model_module_version": "2.0.0",
      "model_name": "CheckboxStyleModel",
      "state": {
       "description_width": ""
      }
     },
     "de43137e865a4e44a6bcd1659f3f064b": {
      "model_module": "@jupyter-widgets/base",
      "model_module_version": "2.0.0",
      "model_name": "LayoutModel",
      "state": {
       "width": "95%"
      }
     },
     "df328651b4b5464db8148ffe2d4de31b": {
      "model_module": "@jupyter-widgets/controls",
      "model_module_version": "2.0.0",
      "model_name": "ButtonModel",
      "state": {
       "description": "Start archiving",
       "layout": "IPY_MODEL_bb763b5880df44a0913b369880122a9d",
       "style": "IPY_MODEL_4785a51d58094055bea0de2edf61e438",
       "tooltip": null
      }
     },
     "df3758da555e41db9d6943f51765e8d4": {
      "model_module": "@jupyter-widgets/controls",
      "model_module_version": "2.0.0",
      "model_name": "ButtonStyleModel",
      "state": {
       "font_family": null,
       "font_size": null,
       "font_style": null,
       "font_variant": null,
       "font_weight": null,
       "text_color": null,
       "text_decoration": null
      }
     },
     "e0233539e90347f4b4a996219e72ef7f": {
      "model_module": "@jupyter-widgets/controls",
      "model_module_version": "2.0.0",
      "model_name": "TextStyleModel",
      "state": {
       "description_width": "",
       "font_size": null,
       "text_color": null
      }
     },
     "e05ff5dec0be45fdb13959ae92aa7464": {
      "model_module": "@jupyter-widgets/base",
      "model_module_version": "2.0.0",
      "model_name": "LayoutModel",
      "state": {}
     },
     "e09cdda8f6774906a5978e2ec9b4bd4d": {
      "model_module": "@jupyter-widgets/controls",
      "model_module_version": "2.0.0",
      "model_name": "CheckboxModel",
      "state": {
       "description": "Split in batches",
       "disabled": false,
       "layout": "IPY_MODEL_f6216b29f4d44193ac5404f6d2dcb9e0",
       "style": "IPY_MODEL_fd1ab4b9236345a8adc20e703a654054",
       "value": false
      }
     },
     "e1f48ef546b143fa9bc7aae556c14fc4": {
      "model_module": "@jupyter-widgets/base",
      "model_module_version": "2.0.0",
      "model_name": "LayoutModel",
      "state": {}
     },
     "e2505d0ac6004422b4b7347365256ae2": {
      "model_module": "@jupyter-widgets/controls",
      "model_module_version": "2.0.0",
      "model_name": "PasswordModel",
      "state": {
       "description": "Password: ",
       "layout": "IPY_MODEL_f46779fe25244302b4be6efbea27238e",
       "style": "IPY_MODEL_438b852ac66b45b29c7c5fa16f1fd477"
      }
     },
     "e2584cacd37440e48ea82c6c86ec819b": {
      "model_module": "@jupyter-widgets/base",
      "model_module_version": "2.0.0",
      "model_name": "LayoutModel",
      "state": {
       "width": "20%"
      }
     },
     "e2a9630f68584caaaa760b8d3aa33663": {
      "model_module": "@jupyter-widgets/base",
      "model_module_version": "2.0.0",
      "model_name": "LayoutModel",
      "state": {}
     },
     "e2bec1752ae04380869bbc91627c1ec3": {
      "model_module": "@jupyter-widgets/controls",
      "model_module_version": "2.0.0",
      "model_name": "DescriptionStyleModel",
      "state": {
       "description_width": ""
      }
     },
     "e2d18e26933045b196df7b5d73d44bb0": {
      "model_module": "@jupyter-widgets/controls",
      "model_module_version": "2.0.0",
      "model_name": "TextModel",
      "state": {
       "description": "Output Path:",
       "layout": "IPY_MODEL_ff5920f3bedd487890fd6f4fc1de544d",
       "style": "IPY_MODEL_c462fd6820ae48dfb32006ec55e07239"
      }
     },
     "e42e13f3367e4d21be43d0c5c5693ba3": {
      "model_module": "@jupyter-widgets/controls",
      "model_module_version": "2.0.0",
      "model_name": "CheckboxStyleModel",
      "state": {
       "description_width": ""
      }
     },
     "e4ff4af006314324a4e054fb8f452315": {
      "model_module": "@jupyter-widgets/base",
      "model_module_version": "2.0.0",
      "model_name": "LayoutModel",
      "state": {}
     },
     "e50797fd604d494f9554163ab12de4d9": {
      "model_module": "@jupyter-widgets/base",
      "model_module_version": "2.0.0",
      "model_name": "LayoutModel",
      "state": {}
     },
     "e526b8e1fb6748b9b62dc0e291c37b9f": {
      "model_module": "@jupyter-widgets/base",
      "model_module_version": "2.0.0",
      "model_name": "LayoutModel",
      "state": {}
     },
     "e5329a0c7ad14401b4e741ea15029c8a": {
      "model_module": "@jupyter-widgets/base",
      "model_module_version": "2.0.0",
      "model_name": "LayoutModel",
      "state": {}
     },
     "e55d1e8254ba40e4b9c93f885baf004d": {
      "model_module": "@jupyter-widgets/controls",
      "model_module_version": "2.0.0",
      "model_name": "HBoxModel",
      "state": {
       "children": [
        "IPY_MODEL_fb1841fc799847ef812de0e84bf745a5",
        "IPY_MODEL_2c842ae484cd4ea189b7f4ac9dbc4a29",
        "IPY_MODEL_395f94483b494653a0572a588a5cb229"
       ],
       "layout": "IPY_MODEL_b711ab8cdc304cb3b37c36c449d2d539"
      }
     },
     "e583fca0113b40c8be70032053e53f75": {
      "model_module": "@jupyter-widgets/controls",
      "model_module_version": "2.0.0",
      "model_name": "CheckboxModel",
      "state": {
       "description": "Remove duplicates",
       "disabled": false,
       "layout": "IPY_MODEL_9d2c9c9f710445b185d602d66e09eadb",
       "style": "IPY_MODEL_d3732aeb7d14483ca88c06c28548b3fd",
       "value": false
      }
     },
     "e59482f6ce6745a9b62c7ba02a4e2b3a": {
      "model_module": "@jupyter-widgets/base",
      "model_module_version": "2.0.0",
      "model_name": "LayoutModel",
      "state": {}
     },
     "e5c4cec363874e908df8d89173376168": {
      "model_module": "@jupyter-widgets/base",
      "model_module_version": "2.0.0",
      "model_name": "LayoutModel",
      "state": {}
     },
     "e5e60e7987b1459a8b2d168708141a18": {
      "model_module": "@jupyter-widgets/base",
      "model_module_version": "2.0.0",
      "model_name": "LayoutModel",
      "state": {}
     },
     "e618fc3048204d759886a19dfec1cd6f": {
      "model_module": "@jupyter-widgets/controls",
      "model_module_version": "2.0.0",
      "model_name": "CheckboxStyleModel",
      "state": {
       "description_width": ""
      }
     },
     "e619dd9e0805482789c469ca7ad354aa": {
      "model_module": "@jupyter-widgets/base",
      "model_module_version": "2.0.0",
      "model_name": "LayoutModel",
      "state": {}
     },
     "e620df624c2a456cb2492eddd4738aa9": {
      "model_module": "@jupyter-widgets/controls",
      "model_module_version": "2.0.0",
      "model_name": "HTMLModel",
      "state": {
       "layout": "IPY_MODEL_0beea1909eca429dbda4545c3bfdaea7",
       "style": "IPY_MODEL_77d8818a4eca4dd182e0e85243300ac0",
       "value": " 368/368 [00:00&lt;00:00, 453.33it/s]"
      }
     },
     "e680a9ae528e4716a3aeff20d1f785f6": {
      "model_module": "@jupyter-widgets/base",
      "model_module_version": "2.0.0",
      "model_name": "LayoutModel",
      "state": {}
     },
     "e69c3d9546134f68ba2ffe988706c7f7": {
      "model_module": "@jupyter-widgets/controls",
      "model_module_version": "2.0.0",
      "model_name": "TextStyleModel",
      "state": {
       "description_width": "",
       "font_size": null,
       "text_color": null
      }
     },
     "e69db1cc77594a7cad2bc78a2a65bae0": {
      "model_module": "@jupyter-widgets/base",
      "model_module_version": "2.0.0",
      "model_name": "LayoutModel",
      "state": {}
     },
     "e69dfc70be3d4926bffcc32a1ae720dd": {
      "model_module": "@jupyter-widgets/base",
      "model_module_version": "2.0.0",
      "model_name": "LayoutModel",
      "state": {
       "width": "20%"
      }
     },
     "e6ce0c11990d423fbe8667d8c652cf4c": {
      "model_module": "@jupyter-widgets/base",
      "model_module_version": "2.0.0",
      "model_name": "LayoutModel",
      "state": {}
     },
     "e79aaae317c448efab76bc3ce913ad08": {
      "model_module": "@jupyter-widgets/controls",
      "model_module_version": "2.0.0",
      "model_name": "CheckboxStyleModel",
      "state": {
       "description_width": ""
      }
     },
     "e81adea6b7044031bf063cbfaf921607": {
      "model_module": "@jupyter-widgets/base",
      "model_module_version": "2.0.0",
      "model_name": "LayoutModel",
      "state": {}
     },
     "e828d0102da34d7c9aa13ec8382f0f72": {
      "model_module": "@jupyter-widgets/base",
      "model_module_version": "2.0.0",
      "model_name": "LayoutModel",
      "state": {}
     },
     "e83ccc4939dc4fb98737f6d4ded265f2": {
      "model_module": "@jupyter-widgets/base",
      "model_module_version": "2.0.0",
      "model_name": "LayoutModel",
      "state": {}
     },
     "e8bae60376b24f6fba766cc700e92db4": {
      "model_module": "@jupyter-widgets/controls",
      "model_module_version": "2.0.0",
      "model_name": "ButtonModel",
      "state": {
       "description": "Start archiving",
       "layout": "IPY_MODEL_546e4f69a6334f279a5e17ddfdca62fa",
       "style": "IPY_MODEL_fd430ed2b4d1424595ec2fe48ed7ece0",
       "tooltip": null
      }
     },
     "e98cd8a4cdd84ef2945ca71d53a3f9a1": {
      "model_module": "@jupyter-widgets/controls",
      "model_module_version": "2.0.0",
      "model_name": "TextModel",
      "state": {
       "description": "Output Path:",
       "layout": "IPY_MODEL_0a86ba22e2a0433d9ee3ec33d5740854",
       "style": "IPY_MODEL_446ffacabe734c7c88405dccf8220add"
      }
     },
     "e994b22394544e22898169ae306386fd": {
      "model_module": "@jupyter-widgets/controls",
      "model_module_version": "2.0.0",
      "model_name": "TextModel",
      "state": {
       "description": "Input Path",
       "layout": "IPY_MODEL_6a9ae0169bfc4ab99dedb73d1657e0c7",
       "style": "IPY_MODEL_8b9bf6464e1a4643b733efb35d6e0698",
       "tooltip": "Path to PDF directory"
      }
     },
     "e9b231c647c84e00a8a8352814f7c19d": {
      "model_module": "@jupyter-widgets/controls",
      "model_module_version": "2.0.0",
      "model_name": "TextStyleModel",
      "state": {
       "description_width": "",
       "font_size": null,
       "text_color": null
      }
     },
     "e9d2a9022e9e494cb33d031795955031": {
      "model_module": "@jupyter-widgets/base",
      "model_module_version": "2.0.0",
      "model_name": "LayoutModel",
      "state": {}
     },
     "e9d8d73b93764462baf32688be9c8a40": {
      "model_module": "@jupyter-widgets/controls",
      "model_module_version": "2.0.0",
      "model_name": "IntTextModel",
      "state": {
       "description": "Skip rows",
       "layout": "IPY_MODEL_301040b0b61a4347a98d0572cb2e098f",
       "step": 1,
       "style": "IPY_MODEL_e2bec1752ae04380869bbc91627c1ec3"
      }
     },
     "ea05d0b6b2974ae1ad3a19f209ecda77": {
      "model_module": "@jupyter-widgets/base",
      "model_module_version": "2.0.0",
      "model_name": "LayoutModel",
      "state": {}
     },
     "ea133c94e46848d9a8b9a9bcbccb818b": {
      "model_module": "@jupyter-widgets/base",
      "model_module_version": "2.0.0",
      "model_name": "LayoutModel",
      "state": {
       "width": "95%"
      }
     },
     "ead391b070634d12bc522b3528595293": {
      "model_module": "@jupyter-widgets/base",
      "model_module_version": "2.0.0",
      "model_name": "LayoutModel",
      "state": {}
     },
     "eafe122d37404c51b6fa415a00039ce9": {
      "model_module": "@jupyter-widgets/base",
      "model_module_version": "2.0.0",
      "model_name": "LayoutModel",
      "state": {}
     },
     "eb31fe1b5a3144b0b9db9a95ccc18adf": {
      "model_module": "@jupyter-widgets/controls",
      "model_module_version": "2.0.0",
      "model_name": "IntTextModel",
      "state": {
       "description": "Max count:",
       "layout": "IPY_MODEL_7f348e6b78f44eff882a3dac52e929b9",
       "step": 1,
       "style": "IPY_MODEL_6c3a5734b55b4f5aabf8cf4d6e136bc4"
      }
     },
     "eb5cf04f172543e0a515b40ee15ab8f6": {
      "model_module": "@jupyter-widgets/base",
      "model_module_version": "2.0.0",
      "model_name": "LayoutModel",
      "state": {}
     },
     "eb63a9741ae6480dbd2bd13807bf5378": {
      "model_module": "@jupyter-widgets/base",
      "model_module_version": "2.0.0",
      "model_name": "LayoutModel",
      "state": {}
     },
     "ec70fbed61ff4c25ad2eb1ece96d8b75": {
      "model_module": "@jupyter-widgets/controls",
      "model_module_version": "2.0.0",
      "model_name": "ButtonStyleModel",
      "state": {
       "font_family": null,
       "font_size": null,
       "font_style": null,
       "font_variant": null,
       "font_weight": null,
       "text_color": null,
       "text_decoration": null
      }
     },
     "ec780267c3c746f4b27d7c8aae13ce95": {
      "model_module": "@jupyter-widgets/base",
      "model_module_version": "2.0.0",
      "model_name": "LayoutModel",
      "state": {
       "width": "95%"
      }
     },
     "ed482d8287b04c5ea0b38556c9f4d6f9": {
      "model_module": "@jupyter-widgets/controls",
      "model_module_version": "2.0.0",
      "model_name": "FloatProgressModel",
      "state": {
       "bar_style": "success",
       "layout": "IPY_MODEL_3563fc0912b5471d9d317bd879450b35",
       "max": 368,
       "style": "IPY_MODEL_435e12d6dde54f83b7c0aee9e05077dc",
       "value": 368
      }
     },
     "ed74b8cdd3dc4e10a43f60a338dedfc9": {
      "model_module": "@jupyter-widgets/controls",
      "model_module_version": "2.0.0",
      "model_name": "CheckboxModel",
      "state": {
       "description": "ZIP export (must be .json, .csv)",
       "disabled": false,
       "layout": "IPY_MODEL_adad4adcecba42cf8f67c207a9459e67",
       "style": "IPY_MODEL_1028ab0a1e924950a4c1e863c03878d0",
       "value": false
      }
     },
     "ed97e1c858a54a98867029f1f03c3026": {
      "model_module": "@jupyter-widgets/base",
      "model_module_version": "2.0.0",
      "model_name": "LayoutModel",
      "state": {
       "width": "20%"
      }
     },
     "ed9b4002eb1a4feba9d2b78f7a7d1149": {
      "model_module": "@jupyter-widgets/output",
      "model_module_version": "1.0.0",
      "model_name": "OutputModel",
      "state": {
       "layout": "IPY_MODEL_67076cc790634602a35801d6f3d27d3a"
      }
     },
     "ede2daabf399431d91db24069cd95cbf": {
      "model_module": "@jupyter-widgets/base",
      "model_module_version": "2.0.0",
      "model_name": "LayoutModel",
      "state": {}
     },
     "ee38de71b6524e33a6cb6bac08413710": {
      "model_module": "@jupyter-widgets/base",
      "model_module_version": "2.0.0",
      "model_name": "LayoutModel",
      "state": {
       "width": "95%"
      }
     },
     "ee48521105a743a98980bec4cf447458": {
      "model_module": "@jupyter-widgets/controls",
      "model_module_version": "2.0.0",
      "model_name": "TextModel",
      "state": {
       "description": "Output Path:",
       "layout": "IPY_MODEL_88c26717a7764871b466330cea6eae88",
       "style": "IPY_MODEL_a1e74ee47efa447c8dbda8c70f748220"
      }
     },
     "ee4d9c0fd41f4620ace4c6006ab7082c": {
      "model_module": "@jupyter-widgets/controls",
      "model_module_version": "2.0.0",
      "model_name": "TextStyleModel",
      "state": {
       "description_width": "",
       "font_size": null,
       "text_color": null
      }
     },
     "ee5b8b5598cf43308d45e1d2c3b61528": {
      "model_module": "@jupyter-widgets/controls",
      "model_module_version": "2.0.0",
      "model_name": "TextModel",
      "state": {
       "description": "Output Path",
       "layout": "IPY_MODEL_d70c725d26f242d78836ef30d24f9d5c",
       "style": "IPY_MODEL_8a1ac69c871e4e5892e59b02f88f3089"
      }
     },
     "eed82a3d03254365bfd79962497e1c38": {
      "model_module": "@jupyter-widgets/controls",
      "model_module_version": "2.0.0",
      "model_name": "IntTextModel",
      "state": {
       "description": "Max count:",
       "layout": "IPY_MODEL_689a7704002b47ca8ebceda77648b358",
       "step": 1,
       "style": "IPY_MODEL_90c1b4827701442bbf063745e820d394"
      }
     },
     "ef63264391a544519aab64830be4e197": {
      "model_module": "@jupyter-widgets/controls",
      "model_module_version": "2.0.0",
      "model_name": "PasswordModel",
      "state": {
       "description": "Password: ",
       "layout": "IPY_MODEL_e50797fd604d494f9554163ab12de4d9",
       "style": "IPY_MODEL_853781fbed5e4a03bcb4780e1a3d2712"
      }
     },
     "ef87aea3c21942408d3e480c3472a678": {
      "model_module": "@jupyter-widgets/base",
      "model_module_version": "2.0.0",
      "model_name": "LayoutModel",
      "state": {
       "width": "20%"
      }
     },
     "eff2796a697341888319a32c4d576bd9": {
      "model_module": "@jupyter-widgets/controls",
      "model_module_version": "2.0.0",
      "model_name": "DescriptionStyleModel",
      "state": {
       "description_width": ""
      }
     },
     "f0189f7365754666bfd28219537e4ca0": {
      "model_module": "@jupyter-widgets/base",
      "model_module_version": "2.0.0",
      "model_name": "LayoutModel",
      "state": {
       "width": "95%"
      }
     },
     "f01a73879f664b2fabd28eec5c7ba031": {
      "model_module": "@jupyter-widgets/controls",
      "model_module_version": "2.0.0",
      "model_name": "TextStyleModel",
      "state": {
       "description_width": "",
       "font_size": null,
       "text_color": null
      }
     },
     "f01f7005265c4819a12942ba205ee2a1": {
      "model_module": "@jupyter-widgets/controls",
      "model_module_version": "2.0.0",
      "model_name": "DescriptionStyleModel",
      "state": {
       "description_width": ""
      }
     },
     "f0aa3a73682f4e35b9f2ccd8c9796a75": {
      "model_module": "@jupyter-widgets/controls",
      "model_module_version": "2.0.0",
      "model_name": "CheckboxStyleModel",
      "state": {
       "description_width": ""
      }
     },
     "f0bec28ec29c42c38ea72cad8adc323e": {
      "model_module": "@jupyter-widgets/controls",
      "model_module_version": "2.0.0",
      "model_name": "TextModel",
      "state": {
       "description": "Input Path",
       "layout": "IPY_MODEL_ee38de71b6524e33a6cb6bac08413710",
       "style": "IPY_MODEL_f1ec7ebc34f149eeb3c86dc13e1b078c",
       "tooltip": "Path to PDF directory"
      }
     },
     "f112bb260b5e4178bd2fc1d0e4f5282c": {
      "model_module": "@jupyter-widgets/controls",
      "model_module_version": "2.0.0",
      "model_name": "HTMLModel",
      "state": {
       "layout": "IPY_MODEL_eb63a9741ae6480dbd2bd13807bf5378",
       "style": "IPY_MODEL_48e522fce12049dea0b0c18bc0036b97",
       "value": "PDF =&gt; Text: 100%"
      }
     },
     "f1710f3beb694c40bc30595ab0754eb1": {
      "model_module": "@jupyter-widgets/base",
      "model_module_version": "2.0.0",
      "model_name": "LayoutModel",
      "state": {}
     },
     "f1ec7ebc34f149eeb3c86dc13e1b078c": {
      "model_module": "@jupyter-widgets/controls",
      "model_module_version": "2.0.0",
      "model_name": "TextStyleModel",
      "state": {
       "description_width": "",
       "font_size": null,
       "text_color": null
      }
     },
     "f2232ad9bf3644419d283a20e4216948": {
      "model_module": "@jupyter-widgets/base",
      "model_module_version": "2.0.0",
      "model_name": "LayoutModel",
      "state": {
       "width": "95%"
      }
     },
     "f2495cab2a3f4a4db9378c0c51bde795": {
      "model_module": "@jupyter-widgets/base",
      "model_module_version": "2.0.0",
      "model_name": "LayoutModel",
      "state": {
       "width": "95%"
      }
     },
     "f253a884d2194d74a9092875710db65a": {
      "model_module": "@jupyter-widgets/controls",
      "model_module_version": "2.0.0",
      "model_name": "TextStyleModel",
      "state": {
       "description_width": "",
       "font_size": null,
       "text_color": null
      }
     },
     "f2abf144bbe84ffbb7e16062de8c65f3": {
      "model_module": "@jupyter-widgets/base",
      "model_module_version": "2.0.0",
      "model_name": "LayoutModel",
      "state": {}
     },
     "f2cde52d37c84ced8b00e9b4a7b9979c": {
      "model_module": "@jupyter-widgets/controls",
      "model_module_version": "2.0.0",
      "model_name": "DescriptionStyleModel",
      "state": {
       "description_width": ""
      }
     },
     "f433a80b508846a29ad2ada746584385": {
      "model_module": "@jupyter-widgets/controls",
      "model_module_version": "2.0.0",
      "model_name": "TextModel",
      "state": {
       "description": "Output Path:",
       "layout": "IPY_MODEL_03b78fe779e34da086dd69488360b179",
       "style": "IPY_MODEL_fc3aa0ec2e89401fb8ab79788f146e97"
      }
     },
     "f43f521f1428457386a8d592476b2aab": {
      "model_module": "@jupyter-widgets/base",
      "model_module_version": "2.0.0",
      "model_name": "LayoutModel",
      "state": {
       "width": "95%"
      }
     },
     "f4500a4f99da4985b7eb0c30112405c0": {
      "model_module": "@jupyter-widgets/base",
      "model_module_version": "2.0.0",
      "model_name": "LayoutModel",
      "state": {
       "width": "20%"
      }
     },
     "f46779fe25244302b4be6efbea27238e": {
      "model_module": "@jupyter-widgets/base",
      "model_module_version": "2.0.0",
      "model_name": "LayoutModel",
      "state": {}
     },
     "f484806bbdb349558c8db18681dc91d5": {
      "model_module": "@jupyter-widgets/controls",
      "model_module_version": "2.0.0",
      "model_name": "ButtonModel",
      "state": {
       "description": "Start archiving",
       "layout": "IPY_MODEL_60b7ab0c0e2f4663a0b3711ee374291e",
       "style": "IPY_MODEL_80c3228b65f6404f8d247ba72076677a",
       "tooltip": null
      }
     },
     "f5055037d3e4400588a63e3f97ad79f9": {
      "model_module": "@jupyter-widgets/controls",
      "model_module_version": "2.0.0",
      "model_name": "CheckboxStyleModel",
      "state": {
       "description_width": ""
      }
     },
     "f56ee795260e42c5a121d6d84aeba4ad": {
      "model_module": "@jupyter-widgets/base",
      "model_module_version": "2.0.0",
      "model_name": "LayoutModel",
      "state": {}
     },
     "f6216b29f4d44193ac5404f6d2dcb9e0": {
      "model_module": "@jupyter-widgets/base",
      "model_module_version": "2.0.0",
      "model_name": "LayoutModel",
      "state": {}
     },
     "f638a7f3bddc433997e979e1cb188a40": {
      "model_module": "@jupyter-widgets/controls",
      "model_module_version": "2.0.0",
      "model_name": "HTMLModel",
      "state": {
       "layout": "IPY_MODEL_76b3fa10b84f46b888f8e08cf16ffd88",
       "style": "IPY_MODEL_bf9e5459277f4def949c6b4895275767",
       "value": " 368/368 [00:10&lt;00:00, 33.08it/s]"
      }
     },
     "f72dcb9ef28b42758f7983d50a8bd5b3": {
      "model_module": "@jupyter-widgets/controls",
      "model_module_version": "2.0.0",
      "model_name": "CheckboxStyleModel",
      "state": {
       "description_width": ""
      }
     },
     "f745ad8c6d5b4b18b7606cb3dc0f62fe": {
      "model_module": "@jupyter-widgets/base",
      "model_module_version": "2.0.0",
      "model_name": "LayoutModel",
      "state": {}
     },
     "f80a38dfc9e84fae9e86f41b7ed4f319": {
      "model_module": "@jupyter-widgets/controls",
      "model_module_version": "2.0.0",
      "model_name": "CheckboxModel",
      "state": {
       "description": "Split in batches",
       "disabled": false,
       "layout": "IPY_MODEL_e1f48ef546b143fa9bc7aae556c14fc4",
       "style": "IPY_MODEL_78bba231bed74603b591be83ebabd5eb",
       "value": false
      }
     },
     "f85a1a0f4f9949eea7b196d147497603": {
      "model_module": "@jupyter-widgets/controls",
      "model_module_version": "2.0.0",
      "model_name": "DropdownModel",
      "state": {
       "_options_labels": [
        "cases",
        "charges",
        "disposition",
        "filing",
        "fees"
       ],
       "description": "Table:",
       "index": 0,
       "layout": "IPY_MODEL_c61c07c9f0854966a7d2a5b90a6dfedc",
       "style": "IPY_MODEL_10d892efea5a423e9c996430d00888fe"
      }
     },
     "f8b9730672a14f59b66089dca6eccdf2": {
      "model_module": "@jupyter-widgets/base",
      "model_module_version": "2.0.0",
      "model_name": "LayoutModel",
      "state": {
       "width": "20%"
      }
     },
     "f8d7bf59b35b494e9b69008fabf3613c": {
      "model_module": "@jupyter-widgets/controls",
      "model_module_version": "2.0.0",
      "model_name": "CheckboxStyleModel",
      "state": {
       "description_width": ""
      }
     },
     "f9774f81552a4302858ef546825338e1": {
      "model_module": "@jupyter-widgets/controls",
      "model_module_version": "2.0.0",
      "model_name": "ProgressStyleModel",
      "state": {
       "description_width": ""
      }
     },
     "fabcbaf55c18404181d6ad60f20ea8a0": {
      "model_module": "@jupyter-widgets/controls",
      "model_module_version": "2.0.0",
      "model_name": "TextStyleModel",
      "state": {
       "description_width": "",
       "font_size": null,
       "text_color": null
      }
     },
     "fb1841fc799847ef812de0e84bf745a5": {
      "model_module": "@jupyter-widgets/controls",
      "model_module_version": "2.0.0",
      "model_name": "IntTextModel",
      "state": {
       "description": "Max count:",
       "layout": "IPY_MODEL_9d7985f1639b428daf47461730457bcf",
       "step": 1,
       "style": "IPY_MODEL_74691874bbd945738be5540f3bb9ba8c"
      }
     },
     "fb202374d9c44fc085ac11e0179bdb4d": {
      "model_module": "@jupyter-widgets/base",
      "model_module_version": "2.0.0",
      "model_name": "LayoutModel",
      "state": {
       "width": "95%"
      }
     },
     "fb739a9797f34c08ac08df463ced1597": {
      "model_module": "@jupyter-widgets/base",
      "model_module_version": "2.0.0",
      "model_name": "LayoutModel",
      "state": {}
     },
     "fb8f8fa8fe374a5eb546ba69761ab441": {
      "model_module": "@jupyter-widgets/controls",
      "model_module_version": "2.0.0",
      "model_name": "ButtonModel",
      "state": {
       "description": "Read more",
       "layout": "IPY_MODEL_cc3226192cbb4649a9d3dc812f927bdb",
       "style": "IPY_MODEL_3c5b305f7545443e90bd7ecc9aa53a89",
       "tooltip": null
      }
     },
     "fbff14437a1140d08a0a1816752aa54b": {
      "model_module": "@jupyter-widgets/controls",
      "model_module_version": "2.0.0",
      "model_name": "DescriptionStyleModel",
      "state": {
       "description_width": ""
      }
     },
     "fc0f658210214ddb95c95e18e927c82b": {
      "model_module": "@jupyter-widgets/controls",
      "model_module_version": "2.0.0",
      "model_name": "HBoxModel",
      "state": {
       "children": [
        "IPY_MODEL_8457d369c81c4d01a20329f45bbe1eff",
        "IPY_MODEL_785045c5ecb04028acee514d48ece69e",
        "IPY_MODEL_972604e99308493cb9ad00bd5ed44160"
       ],
       "layout": "IPY_MODEL_97aa2463e81c41d4ab88b423c321f142"
      }
     },
     "fc13114546c543b7b2b3cd895f02d489": {
      "model_module": "@jupyter-widgets/base",
      "model_module_version": "2.0.0",
      "model_name": "LayoutModel",
      "state": {
       "width": "95%"
      }
     },
     "fc2c3707f8724cfab0092675f730e34e": {
      "model_module": "@jupyter-widgets/controls",
      "model_module_version": "2.0.0",
      "model_name": "ButtonStyleModel",
      "state": {
       "font_family": null,
       "font_size": null,
       "font_style": null,
       "font_variant": null,
       "font_weight": null,
       "text_color": null,
       "text_decoration": null
      }
     },
     "fc3aa0ec2e89401fb8ab79788f146e97": {
      "model_module": "@jupyter-widgets/controls",
      "model_module_version": "2.0.0",
      "model_name": "TextStyleModel",
      "state": {
       "description_width": "",
       "font_size": null,
       "text_color": null
      }
     },
     "fc7dcc6150c54b3fa51d0a45874576bc": {
      "model_module": "@jupyter-widgets/base",
      "model_module_version": "2.0.0",
      "model_name": "LayoutModel",
      "state": {}
     },
     "fcb2776fd3454afc8564db5ddba79f76": {
      "model_module": "@jupyter-widgets/controls",
      "model_module_version": "2.0.0",
      "model_name": "HBoxModel",
      "state": {
       "children": [
        "IPY_MODEL_63c3e65c601148ffb4abda6c72eb6a0a",
        "IPY_MODEL_3162f6bc27574c1d8d89120cbd83765c",
        "IPY_MODEL_08f6b9b7f82c49269fc5baf85180a940"
       ],
       "layout": "IPY_MODEL_e4ff4af006314324a4e054fb8f452315"
      }
     },
     "fcfe01c1bc1e4831af3d00c4cbe05307": {
      "model_module": "@jupyter-widgets/controls",
      "model_module_version": "2.0.0",
      "model_name": "DescriptionStyleModel",
      "state": {
       "description_width": ""
      }
     },
     "fd1ab4b9236345a8adc20e703a654054": {
      "model_module": "@jupyter-widgets/controls",
      "model_module_version": "2.0.0",
      "model_name": "CheckboxStyleModel",
      "state": {
       "description_width": ""
      }
     },
     "fd2102b83fda4aa3ab71cae51b41b320": {
      "model_module": "@jupyter-widgets/controls",
      "model_module_version": "2.0.0",
      "model_name": "ButtonModel",
      "state": {
       "description": "Start export",
       "layout": "IPY_MODEL_3078984813f0411bb2e6e2dc6a3ca107",
       "style": "IPY_MODEL_14becdba791c4622964c5533eae08b09",
       "tooltip": null
      }
     },
     "fd35280553fd46aa8e1835c41ae44219": {
      "model_module": "@jupyter-widgets/base",
      "model_module_version": "2.0.0",
      "model_name": "LayoutModel",
      "state": {}
     },
     "fd430ed2b4d1424595ec2fe48ed7ece0": {
      "model_module": "@jupyter-widgets/controls",
      "model_module_version": "2.0.0",
      "model_name": "ButtonStyleModel",
      "state": {
       "font_family": null,
       "font_size": null,
       "font_style": null,
       "font_variant": null,
       "font_weight": null,
       "text_color": null,
       "text_decoration": null
      }
     },
     "fd52c28bd79d438ca07120ba8c304a76": {
      "model_module": "@jupyter-widgets/controls",
      "model_module_version": "2.0.0",
      "model_name": "IntTextModel",
      "state": {
       "description": "Max count:",
       "layout": "IPY_MODEL_e680a9ae528e4716a3aeff20d1f785f6",
       "step": 1,
       "style": "IPY_MODEL_1fce524ff60b40b1a6a581bc392bddf5"
      }
     },
     "fdfb303b79554374a03a00982d3287f0": {
      "model_module": "@jupyter-widgets/base",
      "model_module_version": "2.0.0",
      "model_name": "LayoutModel",
      "state": {
       "width": "95%"
      }
     },
     "ff5920f3bedd487890fd6f4fc1de544d": {
      "model_module": "@jupyter-widgets/base",
      "model_module_version": "2.0.0",
      "model_name": "LayoutModel",
      "state": {
       "width": "95%"
      }
     }
    },
    "version_major": 2,
    "version_minor": 0
   }
  }
 },
 "nbformat": 4,
 "nbformat_minor": 5
}
