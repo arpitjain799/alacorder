{
 "cells": [
  {
   "cell_type": "code",
   "execution_count": 6,
   "id": "1ae14b32",
   "metadata": {
    "code_folding": [],
    "hide_input": true,
    "init_cell": true,
    "tags": [
     "#A"
    ]
   },
   "outputs": [],
   "source": [
    "## SETUP: MUST RUN CELL BEFORE USE. PRESS [SHIFT + RETURN] TO LOAD.\n",
    "import cython, os, sys, warnings, itables, ipywidgets, IPython.display; import pandas as pd; import pyximport; pyximport.install(); import alac\n",
    "warnings.filterwarnings('ignore')\n",
    "sys.tracebacklimit = 0\n",
    "query_path = ipywidgets.Text(description=\"Input Path:\", layout=ipywidgets.Layout(width='90%'), tooltip=\"Path to query template spreadsheet (list of names, etc. to search)\")\n",
    "output_dir = ipywidgets.Text(description=\"Output Path:\", layout=ipywidgets.Layout(width='90%'))\n",
    "cID = ipywidgets.Text(description=\"Customer ID: \")\n",
    "uID = ipywidgets.Text(description=\"User ID: \")\n",
    "pwd = ipywidgets.Password(description=\"Password: \")\n",
    "btn = ipywidgets.Button(description=\"Login\")\n",
    "speed = ipywidgets.FloatText(description=\"Speed\", value=1, min=0.1, max=3, step=0.1, layout=ipywidgets.Layout(width='40%'))\n",
    "qskip = ipywidgets.IntText(description=\"Skip rows\", value=0, min=0, step=1, layout=ipywidgets.Layout(width='40%'))\n",
    "qmax = ipywidgets.IntText(description=\"Max rows\", value=0, min=0, step=1, layout=ipywidgets.Layout(width='40%'))\n",
    "fetch_opts = ipywidgets.HBox([speed, qskip, qmax], layout=ipywidgets.Layout(width='95%'))\n",
    "\n",
    "def startFetch(*args):\n",
    "    global clicked, query_path, output_dir, cID, uID, pwd, btn, speed, qskip, qmax\n",
    "    if os.path.isdir(output_dir.value) and os.path.isfile(query_path.value) and cID.value != \"\" and uID.value != \"\" and pwd.value != \"\":\n",
    "        if qskip.value > 0 and qmax.value > 0:\n",
    "            return alac.fetch(query_path.value,output_dir.value,cID=cID.value, uID=uID.value, pwd=pwd.value, speed=speed.value, qskip=qskip.value, qmax=qmax.value, jlog=True, no_log=True)\n",
    "        elif qskip.value > 0:\n",
    "            return alac.fetch(query_path.value,output_dir.value,cID=cID.value, uID=uID.value, pwd=pwd.value, speed=speed.value, qskip=qskip.value, jlog=True, no_log=True)\n",
    "        elif qmax.value > 0:\n",
    "            return alac.fetch(query_path.value,output_dir.value,cID=cID.value, uID=uID.value, pwd=pwd.value, speed=speed.value, qmax=qmax.value, jlog=True, no_log=True)\n",
    "        else:\n",
    "            return alac.fetch(query_path.value,output_dir.value,cID=cID.value, uID=uID.value, pwd=pwd.value, speed=speed.value, jlog=True, no_log=True)\n",
    "            \n",
    "\n",
    "    else:\n",
    "        display(\"Ensure all fields are correctly filled, then try again.\")\n",
    "        return None\n",
    "\n",
    "oQueryTable = ipywidgets.Output()\n",
    "oQueryTable_hidden = True\n",
    "\n",
    "def viewQueryTable(*args):\n",
    "    global oQueryTable\n",
    "    global oQueryTable_hidden\n",
    "    if oQueryTable_hidden:\n",
    "        inputstab = \"\"\"<style> table {float:left} </style> <table> <thead> <tr> <th>Field</th> <th>Description</th> </tr> </thead> <tbody> <tr> <td><code>NAME</code></td> <td>Last Name First</td> </tr> <tr> <td><code>PARTY_TYPE</code></td> <td>Social Security Number (Optional)</td> </tr> <tr> <td><code>SSN</code></td> <td>Applies to civil cases only (Optional)</td> </tr> <tr> <td><code>DOB</code></td> <td>Date of Birth (M/DD/YYYY)</td> </tr> <tr> <td><code>COUNTY</code></td> <td>Select a county if not statewide</td> </tr> <tr> <td><code>DIVISION</code></td> <td>Select a division if not all divisions.</td> </tr> <tr> <td><code>CASE_YEAR</code></td> <td>Four digit case year to limit results</td> </tr> <tr> <td><code>FILED_BEFORE</code></td> <td>Do not include cases filed after M/DD/YYYY</td> </tr> <tr> <td><code>FILED_AFTER</code></td> <td>Do not include cases filed after M/DD/YYYY</td> </tr> </tbody> </table> \"\"\"\n",
    "        oQueryTable_hidden = False\n",
    "        with oQueryTable:\n",
    "            display(IPython.display.HTML(inputstab))\n",
    "    else:\n",
    "        oQueryTable.clear_output()\n",
    "        oQueryTable_hidden = True\n",
    "        pass\n",
    "\n",
    "alacfetchhead = \"\"\"<a id=\"fetch\"></a>\n",
    "<h2 id=\"collect-case-pdfs-in-bulk-from-alacourt-com-from-a-list-of-names-or-search-parameters-\">Collect case PDFs in bulk from Alacourt.com from a list of names or search parameters.</h2>\n",
    "<p><strong>Use column headers <code>NAME</code>, <code>PARTY_TYPE</code>, <code>SSN</code>, <code>DOB</code>, <code>COUNTY</code>, <code>DIVISION</code>, <code>CASE_YEAR</code>, and/or <code>FILED_BEFORE</code> in an Excel spreadsheet to submit a list of queries for Alacorder to scrape. Each column corresponds to a search field in Party Search. Missing columns and entries will be left empty, i.e. if only the <code>NAME</code>&#39;s and <code>CASE_YEAR</code>&#39;s are relevant to the search, a file with two columns will work.</strong></p>\n",
    "\"\"\"\n",
    "btn2 = ipywidgets.Button(description=\"Read more\")\n",
    "\n",
    "def showFetch(*args):\n",
    "    display(IPython.display.HTML(alacfetchhead))\n",
    "    display(btn2, oQueryTable)\n",
    "    btn2.on_click(viewQueryTable)\n",
    "    display(fetch_opts)\n",
    "    display(query_path) \n",
    "    display(output_dir) \n",
    "    display(cID)\n",
    "    display(uID)\n",
    "    display(pwd)\n",
    "    btn.on_click(startFetch)\n",
    "    display(btn)\n",
    "\n",
    "oQueryTable.clear_output()\n",
    "\n",
    "arc_title = IPython.display.HTML(\"\"\"<a id=\"arc\"></a>\n",
    "<h2 id=\"case-text-archives-require-a-fraction-of-the-storage-capacity-and-processing-time-used-to-process-pdf-directories-before-exporting-your-data-to-tables-create-an-archive-with-supported-file-extensions-pkl-xz-json-zip-parquet-and-csv-zip-\">Case text archives require a fraction of the storage capacity and processing time used to process PDF directories. Before exporting your data to tables, create an archive with supported file extensions  <code>.pkl.xz</code>, <code>.json(.zip)</code>, <code>.parquet</code> and <code>.csv(.zip)</code>.</h2>\n",
    "<p><strong>Once archived, use your case text archive as an input for multitable or single table export.</strong></p>\n",
    "\"\"\")\n",
    "arc_inpath = ipywidgets.Text(description=\"Input Path\", \n",
    "                            layout=ipywidgets.Layout(width='90%'), \n",
    "                            tooltip=\"Path to PDF directory\")\n",
    "\n",
    "arc_outpath = ipywidgets.Text(description=\"Output Path\", layout=ipywidgets.Layout(width='90%'))\n",
    "arc_count = ipywidgets.IntText(description=\"Set max count\", layout=ipywidgets.Layout(width='90%'))\n",
    "arc_overwrite = ipywidgets.Checkbox(description=\"Allow overwrite\")\n",
    "arc_dedupe = ipywidgets.Checkbox(description=\"Remove duplicates\")\n",
    "arc_compress = ipywidgets.Checkbox(description=\"ZIP export (must be .json, .csv)\")\n",
    "arc_btn = ipywidgets.Button(description=\"Start archiving\")\n",
    "\n",
    "def startArchive(*args):\n",
    "    global arc_title, arc_inpath, arc_outpath, arc_count, arc_overwrite, arc_btn\n",
    "    if arc_inpath.value.strip() != \"\" and arc_outpath.value.strip() != \"\":\n",
    "        return alac.setinit(arc_inpath.value, arc_outpath.value, archive=True, overwrite=arc_overwrite.value, jlog=True, no_batch=True)\n",
    "    else:\n",
    "        return None\n",
    "\n",
    "def showArchive():\n",
    "    global arc_title, arc_inpath, arc_outpath, arc_count, arc_overwrite, arc_dedupe, arc_compress, arc_btn\n",
    "    display(arc_title)\n",
    "    display(arc_inpath)\n",
    "    display(arc_outpath)\n",
    "    arc_chk = ipywidgets.HBox([arc_overwrite, arc_dedupe, arc_compress])\n",
    "    display(arc_chk)\n",
    "    display(arc_btn)\n",
    "    arc_btn.on_click(startArchive)\n",
    "    return None\n",
    "\n",
    "mtab_title = IPython.display.HTML(\"\"\"<a id=\"mtab\"></a>\n",
    "<h2 id=\"multitable-export-processes-case-detail-pdfs-and-case-text-archives-into-data-tables-suitable-for-research-purposes-export-an-excel-spreadsheet-with-detailed-cases-information-cases-fee-sheets-fees-and-charges-information-charges-disposition-filing-\">Multitable export processes case detail PDFs and case text archives into data tables suitable for research purposes. Export an Excel spreadsheet with detailed cases information (<code>cases</code>), fee sheets (<code>fees</code>), and charges information (<code>charges</code>, <code>disposition</code>, <code>filing</code>).</h2>\n",
    "<p><strong><em>Note: It is recommended that you create a case text archive from your target PDF directory before exporting tables. Case text archives can be processed into tables at a much faster rate and require far less storage.</em></strong></p>\"\"\")\n",
    "mtab_inpath = ipywidgets.Text(description=\"Input Path\", \n",
    "                        layout=ipywidgets.Layout(width='95%'), \n",
    "                        tooltip=\"Path to input directory or archive\")\n",
    "\n",
    "mtab_outpath = ipywidgets.Text(description=\"Output Path\", layout=ipywidgets.Layout(width='95%'))\n",
    "mtab_count = ipywidgets.IntText(\n",
    "    value=0,\n",
    "    min=0,\n",
    "    max=10000,\n",
    "    step=1,\n",
    "    description='Max count:',\n",
    "    orientation='horizontal',\n",
    "    readout=True,\n",
    "    readout_format='d'\n",
    ")\n",
    "mtab_overwrite = ipywidgets.Checkbox(description=\"Allow overwrite\")\n",
    "mtab_btn = ipywidgets.Button(description=\"Start export\")\n",
    "\n",
    "mtab_obox = ipywidgets.HBox([mtab_count, mtab_overwrite])\n",
    "def startMulti(*args):\n",
    "    global mtab_title, mtab_inpath, mtab_outpath, mtab_count, mtab_overwrite, mtab_btn\n",
    "    if mtab_inpath.value.strip() != \"\":\n",
    "        cf = alac.setpaths(mtab_inpath.value, mtab_outpath.value, overwrite=mtab_overwrite.value, jlog=True, log=False)\n",
    "        return alac.init(cf)\n",
    "    else:\n",
    "        return None\n",
    "\n",
    "def showMulti():\n",
    "    display(mtab_title)\n",
    "    display(mtab_obox)\n",
    "    display(mtab_inpath)\n",
    "    display(mtab_outpath)\n",
    "    mtab_btn.on_click(startMulti)\n",
    "    display(mtab_btn)\n",
    "    return None\n",
    "\n",
    "\n",
    "stab_title = IPython.display.HTML(\"\"\"<a id=\"stab\"></a>\n",
    "<h2 id=\"export-charges-including-disposition-only-and-filing-only-cases-or-fees-table-only-single-table-export-enables-file-types-without-support-for-multiple-sheets-this-mode-allows-export-to-csv-json-dta-xls-xlsx-pkl-and-parquet-files-\">Export <code>charges</code> (including <code>disposition</code> only and <code>filing</code> only), <code>cases</code>, or <code>fees</code> table only. Single table export enables file types without support for multiple sheets. This mode allows export to <code>.csv</code>, <code>.json</code>, <code>.dta</code>, <code>.xls</code>, <code>.xlsx</code>, <code>.pkl</code>, and <code>.parquet</code> files.</h2>\n",
    "<p><strong>Once archived, use your case text archive as an input for multitable or single table export.</strong></p>\"\"\")\n",
    "stab_inpath = ipywidgets.Text(description=\"Input Path\", \n",
    "                        layout=ipywidgets.Layout(width='90%'), \n",
    "                        tooltip=\"Path to input directory or archive\")\n",
    "stab_table = ipywidgets.Dropdown(options=['cases', 'charges', 'disposition', 'filing', 'fees'],description='Table:',layout=ipywidgets.Layout(orientation='horizontal'))\n",
    "\n",
    "stab_outpath = ipywidgets.Text(description=\"Output Path\", layout=ipywidgets.Layout(width='90%'))\n",
    "stab_count = ipywidgets.IntText(\n",
    "    value=0,\n",
    "    min=0,\n",
    "    max=10000,\n",
    "    step=1,\n",
    "    description='Max count:',\n",
    "    orientation='horizontal',\n",
    "    readout=True,\n",
    "    readout_format='d'\n",
    ")\n",
    "stab_overwrite = ipywidgets.Checkbox(description=\"Allow overwrite\")\n",
    "stab_nobatch = ipywidgets.Checkbox(description=\"Don't split in batches\")\n",
    "stab_btn = ipywidgets.Button(description=\"Start export\")\n",
    "\n",
    "stab_obox = ipywidgets.HBox([stab_overwrite, stab_nobatch])\n",
    "\n",
    "def startSingle(*args):\n",
    "    global stab_title, stab_inpath, stab_outpath, stab_count, stab_overwrite, stab_btn\n",
    "    if stab_inpath.value.strip() != \"\":\n",
    "        return alac.setinit(stab_inpath.value, stab_outpath.value, table=stab_table.value, overwrite=stab_overwrite.value, no_batch=stab_nobatch.value, jlog=True, no_log=True)\n",
    "    else:\n",
    "        return None\n",
    "\n",
    "def showSingle():\n",
    "    display(stab_title)\n",
    "    display(stab_obox)\n",
    "    display(stab_inpath)\n",
    "    display(stab_outpath)\n",
    "    display(stab_table)\n",
    "    stab_btn.on_click(startSingle)\n",
    "    display(stab_btn)\n",
    "    return None"
   ]
  },
  {
   "cell_type": "markdown",
   "id": "227aba2b",
   "metadata": {
    "hide_input": true,
    "tags": []
   },
   "source": [
    "\n",
    "# `ALACORDER.ipynb` on jupyter (beta 76)\n",
    "\n",
    "<h2>Alacorder retrieves and processes case detail PDFs into data tables suitable for research purposes. </h2>\n",
    "\n",
    "----------------------\n",
    "\n",
    "<h3> In this notebook: </h3>\n",
    "\n",
    "### 1. `fetch` - Retrieve case detail PDFs in bulk from Alacourt.com\n",
    "### 2. `archive` - Create full text archives from PDF directory\n",
    "### 3. `multitable` - Export cases, charges, fees tables at once\n",
    "### 4. `singletable` - Export table choice from archive or directory\n",
    "\n",
    "\n",
    "-----------------------\n",
    "\n",
    "**This notebook can be used to interface with Alacorder directly. Once Alacorder is installed, launch Jupyter Notebook with the command line prompt `python3 -m jupyter notebook` or `python -m jupyter notebook`, then open `ALACORDER.ipynb` in the browser window that opens to begin. If your Python kernel is active and the notebook is trusted, Alacorder will load in this notebook automatically.**\n",
    "\n",
    "To install on Windows and Mac, open Command Prompt (Terminal) and enter `pip install alacorder` or `pip3 install alacorder`.\n",
    "On Mac, open the Terminal and enter `pip install alacorder` or `pip3 install alacorder`.\n",
    "Install Anaconda Distribution to install Alacorder if the above methods do not work, or if you would like to open an interactive browser notebook equipped with Alacorder on your desktop.\n",
    "After installation, create a virtual environment, open a terminal, and then repeat these instructions. If your copy of Alacorder is corrupted, use `pip uninstall alacorder` or `pip3 uninstall alacorder` and then reinstall it. There may be a newer version available.\n",
    "\n",
    "\n",
    "### Alacorder can run on most devices. If your device can run Python 3.7 or later, it can run Alacorder. The `fetch` tool for PDF retrieval requires an up-to-date installation of Google Chrome. \n",
    "\n"
   ]
  },
  {
   "cell_type": "markdown",
   "id": "c3d66fea",
   "metadata": {
    "hide_input": true
   },
   "source": [
    "---------------------\n",
    "\n",
    "# `fetch` - Retrieve case detail PDFs in bulk from Alacourt.com"
   ]
  },
  {
   "cell_type": "code",
   "execution_count": 7,
   "id": "a2a97810",
   "metadata": {
    "hide_input": true,
    "init_cell": true,
    "scrolled": false
   },
   "outputs": [
    {
     "data": {
      "text/html": [
       "<a id=\"fetch\"></a>\n",
       "<h2 id=\"collect-case-pdfs-in-bulk-from-alacourt-com-from-a-list-of-names-or-search-parameters-\">Collect case PDFs in bulk from Alacourt.com from a list of names or search parameters.</h2>\n",
       "<p><strong>Use column headers <code>NAME</code>, <code>PARTY_TYPE</code>, <code>SSN</code>, <code>DOB</code>, <code>COUNTY</code>, <code>DIVISION</code>, <code>CASE_YEAR</code>, and/or <code>FILED_BEFORE</code> in an Excel spreadsheet to submit a list of queries for Alacorder to scrape. Each column corresponds to a search field in Party Search. Missing columns and entries will be left empty, i.e. if only the <code>NAME</code>&#39;s and <code>CASE_YEAR</code>&#39;s are relevant to the search, a file with two columns will work.</strong></p>\n"
      ],
      "text/plain": [
       "<IPython.core.display.HTML object>"
      ]
     },
     "metadata": {},
     "output_type": "display_data"
    },
    {
     "data": {
      "application/vnd.jupyter.widget-view+json": {
       "model_id": "7631f6b7f49941c8adb3f478e2ced2d7",
       "version_major": 2,
       "version_minor": 0
      },
      "text/plain": [
       "Button(description='Read more', style=ButtonStyle())"
      ]
     },
     "metadata": {},
     "output_type": "display_data"
    },
    {
     "data": {
      "application/vnd.jupyter.widget-view+json": {
       "model_id": "e5f59a6383d6406c9dd551ee02cdbe89",
       "version_major": 2,
       "version_minor": 0
      },
      "text/plain": [
       "Output()"
      ]
     },
     "metadata": {},
     "output_type": "display_data"
    },
    {
     "data": {
      "application/vnd.jupyter.widget-view+json": {
       "model_id": "1241e61ec78541c9954f1d1cb3d3c8ac",
       "version_major": 2,
       "version_minor": 0
      },
      "text/plain": [
       "HBox(children=(FloatText(value=1.0, description='Speed', layout=Layout(width='40%'), step=0.1), IntText(value=…"
      ]
     },
     "metadata": {},
     "output_type": "display_data"
    },
    {
     "data": {
      "application/vnd.jupyter.widget-view+json": {
       "model_id": "7432c90c112a49c08e378a6fb510fd25",
       "version_major": 2,
       "version_minor": 0
      },
      "text/plain": [
       "Text(value='', description='Input Path:', layout=Layout(width='90%'), tooltip='Path to query template spreadsh…"
      ]
     },
     "metadata": {},
     "output_type": "display_data"
    },
    {
     "data": {
      "application/vnd.jupyter.widget-view+json": {
       "model_id": "9d2e3d4047bf4bccbefab5dc8f4581a9",
       "version_major": 2,
       "version_minor": 0
      },
      "text/plain": [
       "Text(value='', description='Output Path:', layout=Layout(width='90%'))"
      ]
     },
     "metadata": {},
     "output_type": "display_data"
    },
    {
     "data": {
      "application/vnd.jupyter.widget-view+json": {
       "model_id": "8ef88d471d97489da4caf7edf83c90fb",
       "version_major": 2,
       "version_minor": 0
      },
      "text/plain": [
       "Text(value='', description='Customer ID: ')"
      ]
     },
     "metadata": {},
     "output_type": "display_data"
    },
    {
     "data": {
      "application/vnd.jupyter.widget-view+json": {
       "model_id": "ab00d7ad6c28486ca0aa15e5f82abcd4",
       "version_major": 2,
       "version_minor": 0
      },
      "text/plain": [
       "Text(value='', description='User ID: ')"
      ]
     },
     "metadata": {},
     "output_type": "display_data"
    },
    {
     "data": {
      "application/vnd.jupyter.widget-view+json": {
       "model_id": "441f30920ffb4ebaa9516dfd93b59e7c",
       "version_major": 2,
       "version_minor": 0
      },
      "text/plain": [
       "Password(description='Password: ')"
      ]
     },
     "metadata": {},
     "output_type": "display_data"
    },
    {
     "data": {
      "application/vnd.jupyter.widget-view+json": {
       "model_id": "6b1ac2ab74a842e3b6c5d7fc007eda58",
       "version_major": 2,
       "version_minor": 0
      },
      "text/plain": [
       "Button(description='Login', style=ButtonStyle())"
      ]
     },
     "metadata": {},
     "output_type": "display_data"
    }
   ],
   "source": [
    "showFetch() # run cell if fetch options are not visible"
   ]
  },
  {
   "cell_type": "markdown",
   "id": "b32810b7",
   "metadata": {},
   "source": [
    "------------------------------------\n",
    "\n",
    "# `archive` - Create full text archives from PDF directory"
   ]
  },
  {
   "cell_type": "code",
   "execution_count": 8,
   "id": "16c63d5a",
   "metadata": {
    "hide_input": true,
    "init_cell": true
   },
   "outputs": [
    {
     "data": {
      "text/html": [
       "<a id=\"arc\"></a>\n",
       "<h2 id=\"case-text-archives-require-a-fraction-of-the-storage-capacity-and-processing-time-used-to-process-pdf-directories-before-exporting-your-data-to-tables-create-an-archive-with-supported-file-extensions-pkl-xz-json-zip-parquet-and-csv-zip-\">Case text archives require a fraction of the storage capacity and processing time used to process PDF directories. Before exporting your data to tables, create an archive with supported file extensions  <code>.pkl.xz</code>, <code>.json(.zip)</code>, <code>.parquet</code> and <code>.csv(.zip)</code>.</h2>\n",
       "<p><strong>Once archived, use your case text archive as an input for multitable or single table export.</strong></p>\n"
      ],
      "text/plain": [
       "<IPython.core.display.HTML object>"
      ]
     },
     "metadata": {},
     "output_type": "display_data"
    },
    {
     "data": {
      "application/vnd.jupyter.widget-view+json": {
       "model_id": "014d8ee1fb9f40aaa008a159a06908fb",
       "version_major": 2,
       "version_minor": 0
      },
      "text/plain": [
       "Text(value='', description='Input Path', layout=Layout(width='90%'), tooltip='Path to PDF directory')"
      ]
     },
     "metadata": {},
     "output_type": "display_data"
    },
    {
     "data": {
      "application/vnd.jupyter.widget-view+json": {
       "model_id": "a30c8aa36abf4f078abab335c9820e51",
       "version_major": 2,
       "version_minor": 0
      },
      "text/plain": [
       "Text(value='', description='Output Path', layout=Layout(width='90%'))"
      ]
     },
     "metadata": {},
     "output_type": "display_data"
    },
    {
     "data": {
      "application/vnd.jupyter.widget-view+json": {
       "model_id": "7b55462b70be4dc6ada3ad48190ee989",
       "version_major": 2,
       "version_minor": 0
      },
      "text/plain": [
       "HBox(children=(Checkbox(value=False, description='Allow overwrite'), Checkbox(value=False, description='Remove…"
      ]
     },
     "metadata": {},
     "output_type": "display_data"
    },
    {
     "data": {
      "application/vnd.jupyter.widget-view+json": {
       "model_id": "5141030de4074362a60d9769624d641f",
       "version_major": 2,
       "version_minor": 0
      },
      "text/plain": [
       "Button(description='Start archiving', style=ButtonStyle())"
      ]
     },
     "metadata": {},
     "output_type": "display_data"
    }
   ],
   "source": [
    "showArchive() # run cell if archive export options are not visible"
   ]
  },
  {
   "cell_type": "markdown",
   "id": "b492cac2",
   "metadata": {},
   "source": [
    "-----------------------------------\n",
    "\n",
    "# `multitable` - Export cases, charges, fees tables at once"
   ]
  },
  {
   "cell_type": "code",
   "execution_count": 9,
   "id": "2fb5dde1",
   "metadata": {
    "hide_input": true,
    "init_cell": true
   },
   "outputs": [
    {
     "data": {
      "text/html": [
       "<a id=\"mtab\"></a>\n",
       "<h2 id=\"multitable-export-processes-case-detail-pdfs-and-case-text-archives-into-data-tables-suitable-for-research-purposes-export-an-excel-spreadsheet-with-detailed-cases-information-cases-fee-sheets-fees-and-charges-information-charges-disposition-filing-\">Multitable export processes case detail PDFs and case text archives into data tables suitable for research purposes. Export an Excel spreadsheet with detailed cases information (<code>cases</code>), fee sheets (<code>fees</code>), and charges information (<code>charges</code>, <code>disposition</code>, <code>filing</code>).</h2>\n",
       "<p><strong><em>Note: It is recommended that you create a case text archive from your target PDF directory before exporting tables. Case text archives can be processed into tables at a much faster rate and require far less storage.</em></strong></p>"
      ],
      "text/plain": [
       "<IPython.core.display.HTML object>"
      ]
     },
     "metadata": {},
     "output_type": "display_data"
    },
    {
     "data": {
      "application/vnd.jupyter.widget-view+json": {
       "model_id": "00293658fc6f46339b292b80ee8ed1c0",
       "version_major": 2,
       "version_minor": 0
      },
      "text/plain": [
       "HBox(children=(IntText(value=0, description='Max count:'), Checkbox(value=False, description='Allow overwrite'…"
      ]
     },
     "metadata": {},
     "output_type": "display_data"
    },
    {
     "data": {
      "application/vnd.jupyter.widget-view+json": {
       "model_id": "b4c74d0f1b7441fbb6468bf039fe8198",
       "version_major": 2,
       "version_minor": 0
      },
      "text/plain": [
       "Text(value='', description='Input Path', layout=Layout(width='95%'), tooltip='Path to input directory or archi…"
      ]
     },
     "metadata": {},
     "output_type": "display_data"
    },
    {
     "data": {
      "application/vnd.jupyter.widget-view+json": {
       "model_id": "d33bfd2d9e3e465a82ed5f36b1c7ccb6",
       "version_major": 2,
       "version_minor": 0
      },
      "text/plain": [
       "Text(value='', description='Output Path', layout=Layout(width='95%'))"
      ]
     },
     "metadata": {},
     "output_type": "display_data"
    },
    {
     "data": {
      "application/vnd.jupyter.widget-view+json": {
       "model_id": "c81753ee79244996a45f9314bb36121a",
       "version_major": 2,
       "version_minor": 0
      },
      "text/plain": [
       "Button(description='Start export', style=ButtonStyle())"
      ]
     },
     "metadata": {},
     "output_type": "display_data"
    }
   ],
   "source": [
    "showMulti() # run cell if multitable export options are not visible"
   ]
  },
  {
   "cell_type": "markdown",
   "id": "aff56a30",
   "metadata": {},
   "source": [
    "---------------------------------------------\n",
    "\n",
    "# `singletable` - Export table choice from archive or directory"
   ]
  },
  {
   "cell_type": "code",
   "execution_count": 10,
   "id": "471f2b87",
   "metadata": {
    "hide_input": true,
    "init_cell": true
   },
   "outputs": [
    {
     "data": {
      "text/html": [
       "<a id=\"stab\"></a>\n",
       "<h2 id=\"export-charges-including-disposition-only-and-filing-only-cases-or-fees-table-only-single-table-export-enables-file-types-without-support-for-multiple-sheets-this-mode-allows-export-to-csv-json-dta-xls-xlsx-pkl-and-parquet-files-\">Export <code>charges</code> (including <code>disposition</code> only and <code>filing</code> only), <code>cases</code>, or <code>fees</code> table only. Single table export enables file types without support for multiple sheets. This mode allows export to <code>.csv</code>, <code>.json</code>, <code>.dta</code>, <code>.xls</code>, <code>.xlsx</code>, <code>.pkl</code>, and <code>.parquet</code> files.</h2>\n",
       "<p><strong>Once archived, use your case text archive as an input for multitable or single table export.</strong></p>"
      ],
      "text/plain": [
       "<IPython.core.display.HTML object>"
      ]
     },
     "metadata": {},
     "output_type": "display_data"
    },
    {
     "data": {
      "application/vnd.jupyter.widget-view+json": {
       "model_id": "587dc38ff3bc4e4ca3279b12b5e72e9c",
       "version_major": 2,
       "version_minor": 0
      },
      "text/plain": [
       "HBox(children=(Checkbox(value=False, description='Allow overwrite'), Checkbox(value=False, description=\"Don't …"
      ]
     },
     "metadata": {},
     "output_type": "display_data"
    },
    {
     "data": {
      "application/vnd.jupyter.widget-view+json": {
       "model_id": "d0b7f00a4110410abe04ce60273c0e50",
       "version_major": 2,
       "version_minor": 0
      },
      "text/plain": [
       "Text(value='', description='Input Path', layout=Layout(width='90%'), tooltip='Path to input directory or archi…"
      ]
     },
     "metadata": {},
     "output_type": "display_data"
    },
    {
     "data": {
      "application/vnd.jupyter.widget-view+json": {
       "model_id": "196b4c93b8424d3298073b42ef28a419",
       "version_major": 2,
       "version_minor": 0
      },
      "text/plain": [
       "Text(value='', description='Output Path', layout=Layout(width='90%'))"
      ]
     },
     "metadata": {},
     "output_type": "display_data"
    },
    {
     "data": {
      "application/vnd.jupyter.widget-view+json": {
       "model_id": "9cd0ba0d512645658687fa099a1c1d74",
       "version_major": 2,
       "version_minor": 0
      },
      "text/plain": [
       "Dropdown(description='Table:', options=('cases', 'charges', 'disposition', 'filing', 'fees'), value='cases')"
      ]
     },
     "metadata": {},
     "output_type": "display_data"
    },
    {
     "data": {
      "application/vnd.jupyter.widget-view+json": {
       "model_id": "4a008c39529545a593cf883769c69824",
       "version_major": 2,
       "version_minor": 0
      },
      "text/plain": [
       "Button(description='Start export', style=ButtonStyle())"
      ]
     },
     "metadata": {},
     "output_type": "display_data"
    }
   ],
   "source": [
    "showSingle() # run cell if single table options are not visible"
   ]
  },
  {
   "cell_type": "markdown",
   "id": "b918bb46",
   "metadata": {},
   "source": [
    "**Run `%pip` cell below to install and/or update dependencies.**"
   ]
  },
  {
   "cell_type": "code",
   "execution_count": null,
   "id": "eaa47eef",
   "metadata": {
    "hide_input": false,
    "tags": []
   },
   "outputs": [],
   "source": [
    "%pip install --upgrade alacorder itables ipywidgets jupyter_nbextensions_configurator ipython PyPDF2 openpyxl xlrd xlwt selenium click matplotlib numexpr bottleneck xarray pyarrow"
   ]
  }
 ],
 "metadata": {
  "celltoolbar": "Initialization Cell",
  "kernelspec": {
   "display_name": "Python 3 (ipykernel)",
   "language": "python",
   "name": "python3"
  },
  "language_info": {
   "codemirror_mode": {
    "name": "ipython",
    "version": 3
   },
   "file_extension": ".py",
   "mimetype": "text/x-python",
   "name": "python",
   "nbconvert_exporter": "python",
   "pygments_lexer": "ipython3",
   "version": "3.9.13"
  },
  "toc": {
   "base_numbering": 1,
   "nav_menu": {},
   "number_sections": true,
   "sideBar": true,
   "skip_h1_title": false,
   "title_cell": "Table of Contents",
   "title_sidebar": "Contents",
   "toc_cell": true,
   "toc_position": {},
   "toc_section_display": true,
   "toc_window_display": false
  },
  "widgets": {
   "application/vnd.jupyter.widget-state+json": {
    "state": {
     "00ac876fff8e4626b9a8cddbb83e481a": {
      "model_module": "@jupyter-widgets/controls",
      "model_module_version": "2.0.0",
      "model_name": "IntTextModel",
      "state": {
       "description": "Max count:",
       "layout": "IPY_MODEL_5c11caf2cd9a444ba3aa00e684093e55",
       "step": 1,
       "style": "IPY_MODEL_85728da7483446f5a5ed58bdcdd9a8d7"
      }
     },
     "00cb6bf08e914103978273f09a95ae42": {
      "model_module": "@jupyter-widgets/controls",
      "model_module_version": "2.0.0",
      "model_name": "HTMLStyleModel",
      "state": {
       "description_width": "",
       "font_size": null,
       "text_color": null
      }
     },
     "00d52893f112492bbf8d8a4df3ee7c12": {
      "model_module": "@jupyter-widgets/controls",
      "model_module_version": "2.0.0",
      "model_name": "TextModel",
      "state": {
       "description": "Customer ID: ",
       "layout": "IPY_MODEL_df08b476a9f84e3c97b7c2d17e744297",
       "style": "IPY_MODEL_e0c523d51fba40e9be2718e39947cdce"
      }
     },
     "01322ffc8ff547879c8b46f2ca8800d8": {
      "model_module": "@jupyter-widgets/base",
      "model_module_version": "2.0.0",
      "model_name": "LayoutModel",
      "state": {
       "width": "40%"
      }
     },
     "018a81d49a2649e7be2758332a0e5f5b": {
      "model_module": "@jupyter-widgets/controls",
      "model_module_version": "2.0.0",
      "model_name": "ButtonStyleModel",
      "state": {
       "font_family": null,
       "font_size": null,
       "font_style": null,
       "font_variant": null,
       "font_weight": null,
       "text_color": null,
       "text_decoration": null
      }
     },
     "018c8757b660427a94f50a7b3852e0da": {
      "model_module": "@jupyter-widgets/controls",
      "model_module_version": "2.0.0",
      "model_name": "TextModel",
      "state": {
       "description": "Input Path",
       "layout": "IPY_MODEL_7d51ae836f5144f18f31057411b876cc",
       "style": "IPY_MODEL_abd3dc6292574057af894652a35e4674",
       "tooltip": "Path to input directory or archive"
      }
     },
     "01ca93cbcb6349dab4c9249694c37d76": {
      "model_module": "@jupyter-widgets/controls",
      "model_module_version": "2.0.0",
      "model_name": "FloatTextModel",
      "state": {
       "description": "Speed",
       "layout": "IPY_MODEL_41c0785d7f4540ce8d72703aba00bd04",
       "step": 0.1,
       "style": "IPY_MODEL_f5dd368f54d04fe08ed7cf8258777a17",
       "value": 1
      }
     },
     "020988351c4b42acb7c3c93e765a34e0": {
      "model_module": "@jupyter-widgets/base",
      "model_module_version": "2.0.0",
      "model_name": "LayoutModel",
      "state": {
       "width": "40%"
      }
     },
     "0272bf12f4c5453c9a129fb4c924bfe8": {
      "model_module": "@jupyter-widgets/controls",
      "model_module_version": "2.0.0",
      "model_name": "TextModel",
      "state": {
       "description": "Customer ID: ",
       "layout": "IPY_MODEL_84138cfe4155449f8bc6d13553ccde71",
       "style": "IPY_MODEL_127f96408634472a9b61ef72f41db8bb"
      }
     },
     "02a600b0e6074b318c01d417f114d3d0": {
      "model_module": "@jupyter-widgets/controls",
      "model_module_version": "2.0.0",
      "model_name": "TextStyleModel",
      "state": {
       "description_width": "",
       "font_size": null,
       "text_color": null
      }
     },
     "02b1afe8463b440085c1cc7308068766": {
      "model_module": "@jupyter-widgets/controls",
      "model_module_version": "2.0.0",
      "model_name": "ButtonStyleModel",
      "state": {
       "font_family": null,
       "font_size": null,
       "font_style": null,
       "font_variant": null,
       "font_weight": null,
       "text_color": null,
       "text_decoration": null
      }
     },
     "02c7330a43aa4de2b77376b8ed111ce2": {
      "model_module": "@jupyter-widgets/controls",
      "model_module_version": "2.0.0",
      "model_name": "TextModel",
      "state": {
       "description": "Output Path",
       "layout": "IPY_MODEL_a2c658bf6dc24c1e867c690ed40b46d3",
       "style": "IPY_MODEL_e572519768fd44a89e0f12ace7f3b8ae"
      }
     },
     "02cba97726aa419dbbff277fe33f34ba": {
      "model_module": "@jupyter-widgets/base",
      "model_module_version": "2.0.0",
      "model_name": "LayoutModel",
      "state": {}
     },
     "03216a1cff14406ca7b8c7bbc67d2e1a": {
      "model_module": "@jupyter-widgets/base",
      "model_module_version": "2.0.0",
      "model_name": "LayoutModel",
      "state": {}
     },
     "0362cb8363db49f3a19a59de926eed16": {
      "model_module": "@jupyter-widgets/base",
      "model_module_version": "2.0.0",
      "model_name": "LayoutModel",
      "state": {}
     },
     "037dc0fe81654d82867885f5a8da3df7": {
      "model_module": "@jupyter-widgets/controls",
      "model_module_version": "2.0.0",
      "model_name": "TextModel",
      "state": {
       "description": "Output Path:",
       "layout": "IPY_MODEL_16931ffb71df4e0e986ef7553b52aadf",
       "style": "IPY_MODEL_edd304749d054ad7ade14f5f4f6dac80"
      }
     },
     "03f11a6cc46744468f807fa17f2c47dc": {
      "model_module": "@jupyter-widgets/output",
      "model_module_version": "1.0.0",
      "model_name": "OutputModel",
      "state": {
       "layout": "IPY_MODEL_16c318cd2b0944ebbed18a3bfd999824"
      }
     },
     "05168009fbb7492fb4f5889e43e449d7": {
      "model_module": "@jupyter-widgets/base",
      "model_module_version": "2.0.0",
      "model_name": "LayoutModel",
      "state": {}
     },
     "0555cb5940f7470b9f173a7b9443638a": {
      "model_module": "@jupyter-widgets/base",
      "model_module_version": "2.0.0",
      "model_name": "LayoutModel",
      "state": {}
     },
     "05935944dab049d38ddb08df588d6cfe": {
      "model_module": "@jupyter-widgets/controls",
      "model_module_version": "2.0.0",
      "model_name": "TextStyleModel",
      "state": {
       "description_width": "",
       "font_size": null,
       "text_color": null
      }
     },
     "060d054d8811496ab72d8d25697a74a8": {
      "model_module": "@jupyter-widgets/controls",
      "model_module_version": "2.0.0",
      "model_name": "ButtonStyleModel",
      "state": {
       "font_family": null,
       "font_size": null,
       "font_style": null,
       "font_variant": null,
       "font_weight": null,
       "text_color": null,
       "text_decoration": null
      }
     },
     "06192f75ce744386928354478bbf5ef4": {
      "model_module": "@jupyter-widgets/base",
      "model_module_version": "2.0.0",
      "model_name": "LayoutModel",
      "state": {
       "width": "90%"
      }
     },
     "068602a86a034676ab7f2fbbcf34090b": {
      "model_module": "@jupyter-widgets/controls",
      "model_module_version": "2.0.0",
      "model_name": "TextModel",
      "state": {
       "description": "Customer ID: ",
       "layout": "IPY_MODEL_47b1edfb96de4df7a70e343248157375",
       "style": "IPY_MODEL_53f0451808d74f7cb99343098525b111"
      }
     },
     "071f310991644d2e94f433f640ce7e02": {
      "model_module": "@jupyter-widgets/controls",
      "model_module_version": "2.0.0",
      "model_name": "CheckboxStyleModel",
      "state": {
       "description_width": ""
      }
     },
     "0725122c06ea42238cb89eb253c23679": {
      "model_module": "@jupyter-widgets/controls",
      "model_module_version": "2.0.0",
      "model_name": "CheckboxModel",
      "state": {
       "description": "ZIP export (must be .json, .csv)",
       "disabled": false,
       "layout": "IPY_MODEL_c0aa64ab239b4c75a9658db3d0351301",
       "style": "IPY_MODEL_4c0fc4d33630495bac11381a11ca9b25",
       "value": false
      }
     },
     "072675f5a0c942ba9ef97a0e2dabf8c9": {
      "model_module": "@jupyter-widgets/controls",
      "model_module_version": "2.0.0",
      "model_name": "CheckboxStyleModel",
      "state": {
       "description_width": ""
      }
     },
     "080fc159ec43433484a576ecc99b9705": {
      "model_module": "@jupyter-widgets/base",
      "model_module_version": "2.0.0",
      "model_name": "LayoutModel",
      "state": {}
     },
     "08f1e9dcffa64346977205c728505a6f": {
      "model_module": "@jupyter-widgets/controls",
      "model_module_version": "2.0.0",
      "model_name": "TextStyleModel",
      "state": {
       "description_width": "",
       "font_size": null,
       "text_color": null
      }
     },
     "0943d19d498a4584a61f95d91de89014": {
      "model_module": "@jupyter-widgets/base",
      "model_module_version": "2.0.0",
      "model_name": "LayoutModel",
      "state": {
       "width": "90%"
      }
     },
     "0972bb12d80a4f939843c10dbd2f44f0": {
      "model_module": "@jupyter-widgets/controls",
      "model_module_version": "2.0.0",
      "model_name": "RadioButtonsModel",
      "state": {
       "_options_labels": [
        "cases",
        "charges",
        "disposition",
        "filing",
        "fees"
       ],
       "description": "Table:",
       "index": 0,
       "layout": "IPY_MODEL_c2fd7604534a4bd8aa979e166f3ada8f",
       "style": "IPY_MODEL_1edcbb8791b04c20a7fb824dfd1c9adc"
      }
     },
     "097f34597298459faedf34504874b070": {
      "model_module": "@jupyter-widgets/controls",
      "model_module_version": "2.0.0",
      "model_name": "ButtonStyleModel",
      "state": {
       "font_family": null,
       "font_size": null,
       "font_style": null,
       "font_variant": null,
       "font_weight": null,
       "text_color": null,
       "text_decoration": null
      }
     },
     "09c8d59ce062405196700a036a8379be": {
      "model_module": "@jupyter-widgets/base",
      "model_module_version": "2.0.0",
      "model_name": "LayoutModel",
      "state": {
       "width": "90%"
      }
     },
     "09e0a51a85284fdc80a4efdd1175d6b1": {
      "model_module": "@jupyter-widgets/base",
      "model_module_version": "2.0.0",
      "model_name": "LayoutModel",
      "state": {}
     },
     "0a330560b46d4b25ad92ccdb5c11210b": {
      "model_module": "@jupyter-widgets/controls",
      "model_module_version": "2.0.0",
      "model_name": "TextModel",
      "state": {
       "description": "Output Path",
       "layout": "IPY_MODEL_abfb04f4a4bd43a3a437e4d09c7f8182",
       "style": "IPY_MODEL_a7c9583c49a3486fa66f717c037e73dc"
      }
     },
     "0a3d342e1c0d4b93986bad5c21f5ef99": {
      "model_module": "@jupyter-widgets/controls",
      "model_module_version": "2.0.0",
      "model_name": "TextStyleModel",
      "state": {
       "description_width": "",
       "font_size": null,
       "text_color": null
      }
     },
     "0a4ff2d3109048528f5fc8641acbe819": {
      "model_module": "@jupyter-widgets/controls",
      "model_module_version": "2.0.0",
      "model_name": "TextStyleModel",
      "state": {
       "description_width": "",
       "font_size": null,
       "text_color": null
      }
     },
     "0aefdc74674c4446b4c4769efe17d63a": {
      "model_module": "@jupyter-widgets/controls",
      "model_module_version": "2.0.0",
      "model_name": "TextStyleModel",
      "state": {
       "description_width": "",
       "font_size": null,
       "text_color": null
      }
     },
     "0b63fb93630345f4b0032554377c1d8e": {
      "model_module": "@jupyter-widgets/controls",
      "model_module_version": "2.0.0",
      "model_name": "TextStyleModel",
      "state": {
       "description_width": "",
       "font_size": null,
       "text_color": null
      }
     },
     "0b9c76979ca84b95ae3a1f4d4a053940": {
      "model_module": "@jupyter-widgets/base",
      "model_module_version": "2.0.0",
      "model_name": "LayoutModel",
      "state": {
       "width": "90%"
      }
     },
     "0c4fd65e823a4340be78481884c93354": {
      "model_module": "@jupyter-widgets/controls",
      "model_module_version": "2.0.0",
      "model_name": "TextStyleModel",
      "state": {
       "description_width": "",
       "font_size": null,
       "text_color": null
      }
     },
     "0c9041a8857b409b892336d476b6ce18": {
      "model_module": "@jupyter-widgets/controls",
      "model_module_version": "2.0.0",
      "model_name": "TextStyleModel",
      "state": {
       "description_width": "",
       "font_size": null,
       "text_color": null
      }
     },
     "0ca66320cbc9412a82d366f9e16cc1a9": {
      "model_module": "@jupyter-widgets/base",
      "model_module_version": "2.0.0",
      "model_name": "LayoutModel",
      "state": {}
     },
     "0cf351b096cb48009269c98f8c2c0880": {
      "model_module": "@jupyter-widgets/controls",
      "model_module_version": "2.0.0",
      "model_name": "PasswordModel",
      "state": {
       "description": "Password: ",
       "layout": "IPY_MODEL_c80f46ddec08424aa2f46089d63c3eef",
       "style": "IPY_MODEL_a8c5175144e9410285557ec8b26b4cf8"
      }
     },
     "0d141af37e9544d69c2b7ff1f1d6638b": {
      "model_module": "@jupyter-widgets/controls",
      "model_module_version": "2.0.0",
      "model_name": "ButtonStyleModel",
      "state": {
       "font_family": null,
       "font_size": null,
       "font_style": null,
       "font_variant": null,
       "font_weight": null,
       "text_color": null,
       "text_decoration": null
      }
     },
     "0d2b7076befa403c9971fc709c74dec4": {
      "model_module": "@jupyter-widgets/controls",
      "model_module_version": "2.0.0",
      "model_name": "TextStyleModel",
      "state": {
       "description_width": "",
       "font_size": null,
       "text_color": null
      }
     },
     "0d320fa779b1430f8ae1298c2605baf3": {
      "model_module": "@jupyter-widgets/controls",
      "model_module_version": "2.0.0",
      "model_name": "TextModel",
      "state": {
       "description": "Output Path",
       "layout": "IPY_MODEL_116aee5e8de442ff90f296c02c8db162",
       "style": "IPY_MODEL_0c9041a8857b409b892336d476b6ce18"
      }
     },
     "0d5e6bb401c848c89032a485ef17d4d5": {
      "model_module": "@jupyter-widgets/controls",
      "model_module_version": "2.0.0",
      "model_name": "TextModel",
      "state": {
       "description": "Input Path",
       "layout": "IPY_MODEL_a95849bfc68f41a9aa3df09e21e58cd6",
       "style": "IPY_MODEL_ee55cd57b57e41ba8b32f33f4083a0be",
       "tooltip": "Path to input directory or archive"
      }
     },
     "0d971ad803fc429ea6ccf0c13f330388": {
      "model_module": "@jupyter-widgets/controls",
      "model_module_version": "2.0.0",
      "model_name": "CheckboxStyleModel",
      "state": {
       "description_width": ""
      }
     },
     "0d9e35020fd84d2b8f107d99d3c10ab8": {
      "model_module": "@jupyter-widgets/controls",
      "model_module_version": "2.0.0",
      "model_name": "DescriptionStyleModel",
      "state": {
       "description_width": ""
      }
     },
     "0e9c0c5278394bd48423625701b74285": {
      "model_module": "@jupyter-widgets/base",
      "model_module_version": "2.0.0",
      "model_name": "LayoutModel",
      "state": {}
     },
     "0ef46dbc4e7949c793c3e0993a786077": {
      "model_module": "@jupyter-widgets/output",
      "model_module_version": "1.0.0",
      "model_name": "OutputModel",
      "state": {
       "layout": "IPY_MODEL_66fea623d6ca4d17b31b9495eab25c3b"
      }
     },
     "0f304dd3118747f9bbc768ebdc984ff5": {
      "model_module": "@jupyter-widgets/base",
      "model_module_version": "2.0.0",
      "model_name": "LayoutModel",
      "state": {}
     },
     "0f6df893186c49cba94dfa210e09b8c1": {
      "model_module": "@jupyter-widgets/base",
      "model_module_version": "2.0.0",
      "model_name": "LayoutModel",
      "state": {
       "width": "90%"
      }
     },
     "0f91b2200dad425e8f98f4cbf92d061a": {
      "model_module": "@jupyter-widgets/base",
      "model_module_version": "2.0.0",
      "model_name": "LayoutModel",
      "state": {
       "width": "90%"
      }
     },
     "0fb32fd4855c4a76b34c99c084a2d28f": {
      "model_module": "@jupyter-widgets/controls",
      "model_module_version": "2.0.0",
      "model_name": "TextModel",
      "state": {
       "description": "Output Path",
       "layout": "IPY_MODEL_0f6df893186c49cba94dfa210e09b8c1",
       "style": "IPY_MODEL_aa02b9b8e0e14ed287242e83be8d92fe"
      }
     },
     "10049385cab34b8c831d90d6225f8d63": {
      "model_module": "@jupyter-widgets/base",
      "model_module_version": "2.0.0",
      "model_name": "LayoutModel",
      "state": {
       "width": "40%"
      }
     },
     "1037aa1ed74341669f486c9d875f4690": {
      "model_module": "@jupyter-widgets/controls",
      "model_module_version": "2.0.0",
      "model_name": "CheckboxModel",
      "state": {
       "description": "Remove duplicates",
       "disabled": false,
       "layout": "IPY_MODEL_d889ef1eec014d1bb0bb6eded9128767",
       "style": "IPY_MODEL_c990a6a257984492b1a680d3a0fe9b73",
       "value": false
      }
     },
     "103e19604e4e4549a3c04a0c726c35cb": {
      "model_module": "@jupyter-widgets/controls",
      "model_module_version": "2.0.0",
      "model_name": "HBoxModel",
      "state": {
       "children": [
        "IPY_MODEL_e2da386e7b49477b91da97f557eadbf6",
        "IPY_MODEL_4ea4d1687b6a4f188986c1f5546807e5"
       ],
       "layout": "IPY_MODEL_85dd58af81e14313819958461d9e13ad"
      }
     },
     "106feefbc5c1427c80ed171ba8611021": {
      "model_module": "@jupyter-widgets/controls",
      "model_module_version": "2.0.0",
      "model_name": "TextStyleModel",
      "state": {
       "description_width": "",
       "font_size": null,
       "text_color": null
      }
     },
     "10cda0e3542c4bc4b24a4c7ea84dd02a": {
      "model_module": "@jupyter-widgets/base",
      "model_module_version": "2.0.0",
      "model_name": "LayoutModel",
      "state": {}
     },
     "10feb95e5a364225a9921a5bb1711a8f": {
      "model_module": "@jupyter-widgets/base",
      "model_module_version": "2.0.0",
      "model_name": "LayoutModel",
      "state": {}
     },
     "112faddbe55b4396a1736e447b6ba355": {
      "model_module": "@jupyter-widgets/controls",
      "model_module_version": "2.0.0",
      "model_name": "IntTextModel",
      "state": {
       "description": "Max rows",
       "layout": "IPY_MODEL_72fb0141e6b34840b39088276c78d208",
       "step": 1,
       "style": "IPY_MODEL_80c18b4dbdd3497397d47fef33cae528"
      }
     },
     "115f62057df34876b48cc9aa88d3d6d9": {
      "model_module": "@jupyter-widgets/controls",
      "model_module_version": "2.0.0",
      "model_name": "ButtonModel",
      "state": {
       "description": "Login",
       "layout": "IPY_MODEL_2fd46088cea24508aa2bf56fb4909833",
       "style": "IPY_MODEL_eb95b9bc882748edbc095011da901253",
       "tooltip": null
      }
     },
     "116aee5e8de442ff90f296c02c8db162": {
      "model_module": "@jupyter-widgets/base",
      "model_module_version": "2.0.0",
      "model_name": "LayoutModel",
      "state": {
       "width": "90%"
      }
     },
     "1197bc949b9846019db5baa23fd2a69c": {
      "model_module": "@jupyter-widgets/controls",
      "model_module_version": "2.0.0",
      "model_name": "TextStyleModel",
      "state": {
       "description_width": "",
       "font_size": null,
       "text_color": null
      }
     },
     "11a61c50d37d49e1918e42d0dccd6b2f": {
      "model_module": "@jupyter-widgets/controls",
      "model_module_version": "2.0.0",
      "model_name": "IntTextModel",
      "state": {
       "description": "Set max count",
       "layout": "IPY_MODEL_410572dd5d0e456998ad990015e047ff",
       "step": 1,
       "style": "IPY_MODEL_1b439cac69c94744a1232256a675167e"
      }
     },
     "127f96408634472a9b61ef72f41db8bb": {
      "model_module": "@jupyter-widgets/controls",
      "model_module_version": "2.0.0",
      "model_name": "TextStyleModel",
      "state": {
       "description_width": "",
       "font_size": null,
       "text_color": null
      }
     },
     "129770bf20cc469aa7574cdbbf03d4ec": {
      "model_module": "@jupyter-widgets/controls",
      "model_module_version": "2.0.0",
      "model_name": "HBoxModel",
      "state": {
       "children": [
        "IPY_MODEL_94c21a708e7f46db81b128bfb1d19ff3",
        "IPY_MODEL_c9501a5440884540be2bf717d4a47ded"
       ],
       "layout": "IPY_MODEL_03216a1cff14406ca7b8c7bbc67d2e1a"
      }
     },
     "12ee6e7f70d84e9dbf495be8a76e585d": {
      "model_module": "@jupyter-widgets/controls",
      "model_module_version": "2.0.0",
      "model_name": "DescriptionStyleModel",
      "state": {
       "description_width": ""
      }
     },
     "130e253c26ef4abaaa78acbfa271281c": {
      "model_module": "@jupyter-widgets/controls",
      "model_module_version": "2.0.0",
      "model_name": "TextStyleModel",
      "state": {
       "description_width": "",
       "font_size": null,
       "text_color": null
      }
     },
     "13384cf4057c45e6be63df3ab2c52098": {
      "model_module": "@jupyter-widgets/controls",
      "model_module_version": "2.0.0",
      "model_name": "CheckboxStyleModel",
      "state": {
       "description_width": ""
      }
     },
     "13456c9fa4ee4bdd96fd1bc76f84ac14": {
      "model_module": "@jupyter-widgets/base",
      "model_module_version": "2.0.0",
      "model_name": "LayoutModel",
      "state": {
       "width": "90%"
      }
     },
     "139178854f834a588cf2b5bc52c1431e": {
      "model_module": "@jupyter-widgets/base",
      "model_module_version": "2.0.0",
      "model_name": "LayoutModel",
      "state": {}
     },
     "13b6386a72cd4b27b38cc2a4cae8e736": {
      "model_module": "@jupyter-widgets/base",
      "model_module_version": "2.0.0",
      "model_name": "LayoutModel",
      "state": {
       "width": "95%"
      }
     },
     "1426e690ae5d485db04de5f82d7f76d0": {
      "model_module": "@jupyter-widgets/controls",
      "model_module_version": "2.0.0",
      "model_name": "CheckboxStyleModel",
      "state": {
       "description_width": ""
      }
     },
     "14aeb8a11ad540ae94d6687969fd5276": {
      "model_module": "@jupyter-widgets/controls",
      "model_module_version": "2.0.0",
      "model_name": "IntTextModel",
      "state": {
       "description": "Max count:",
       "layout": "IPY_MODEL_b3e698e35c3d4dbe8d13b48888f4a24d",
       "step": 1,
       "style": "IPY_MODEL_5989225faca94eef9dd53e50e7555054"
      }
     },
     "156ac15467b9445688a05588e4e0ba59": {
      "model_module": "@jupyter-widgets/controls",
      "model_module_version": "2.0.0",
      "model_name": "HBoxModel",
      "state": {
       "children": [
        "IPY_MODEL_01ca93cbcb6349dab4c9249694c37d76",
        "IPY_MODEL_77df9c1634bb4f54af019bc1e30c65da",
        "IPY_MODEL_1f4591bcdb2041e19eb7634dfb69747b"
       ],
       "layout": "IPY_MODEL_68394a4149204a42afb9c5ef55576a87"
      }
     },
     "15f2c7fd07d24027a7bfe86d02ea552d": {
      "model_module": "@jupyter-widgets/base",
      "model_module_version": "2.0.0",
      "model_name": "LayoutModel",
      "state": {}
     },
     "160693f837324dcc84bde73800e7722c": {
      "model_module": "@jupyter-widgets/controls",
      "model_module_version": "2.0.0",
      "model_name": "TextModel",
      "state": {
       "description": "Output Path",
       "layout": "IPY_MODEL_ec9a4dc6ac914b5c8e819d3d679a0d28",
       "style": "IPY_MODEL_6eedb6fa40b44210b621eb05e2a9c80d"
      }
     },
     "1622ffbaeac943d98d0b75b798c6c72f": {
      "model_module": "@jupyter-widgets/base",
      "model_module_version": "2.0.0",
      "model_name": "LayoutModel",
      "state": {}
     },
     "167511dc72c14a2c9a48ce8ee01e87ae": {
      "model_module": "@jupyter-widgets/base",
      "model_module_version": "2.0.0",
      "model_name": "LayoutModel",
      "state": {}
     },
     "16931ffb71df4e0e986ef7553b52aadf": {
      "model_module": "@jupyter-widgets/base",
      "model_module_version": "2.0.0",
      "model_name": "LayoutModel",
      "state": {
       "width": "90%"
      }
     },
     "16c318cd2b0944ebbed18a3bfd999824": {
      "model_module": "@jupyter-widgets/base",
      "model_module_version": "2.0.0",
      "model_name": "LayoutModel",
      "state": {}
     },
     "16c785320c2d4491b5190db799535072": {
      "model_module": "@jupyter-widgets/controls",
      "model_module_version": "2.0.0",
      "model_name": "TextStyleModel",
      "state": {
       "description_width": "",
       "font_size": null,
       "text_color": null
      }
     },
     "17c28247f8484d97ac694d5da0e1e38f": {
      "model_module": "@jupyter-widgets/base",
      "model_module_version": "2.0.0",
      "model_name": "LayoutModel",
      "state": {}
     },
     "185188541c2d45c093b7a485c38ebdd6": {
      "model_module": "@jupyter-widgets/base",
      "model_module_version": "2.0.0",
      "model_name": "LayoutModel",
      "state": {}
     },
     "1862817b0ca346f181eb2a0599083e10": {
      "model_module": "@jupyter-widgets/base",
      "model_module_version": "2.0.0",
      "model_name": "LayoutModel",
      "state": {}
     },
     "193093bd3c5940c99ee22cc4e6bec882": {
      "model_module": "@jupyter-widgets/controls",
      "model_module_version": "2.0.0",
      "model_name": "TextModel",
      "state": {
       "description": "Output Path:",
       "layout": "IPY_MODEL_fe735f5555f54216b673b1bb740e67a8",
       "style": "IPY_MODEL_3144d34e0c1a4012b7fa7a50e135b28e"
      }
     },
     "1946c2bf29734cf08432dada797811b0": {
      "model_module": "@jupyter-widgets/base",
      "model_module_version": "2.0.0",
      "model_name": "LayoutModel",
      "state": {}
     },
     "198aba4ff38f4fe8816efc8b59e9a93f": {
      "model_module": "@jupyter-widgets/base",
      "model_module_version": "2.0.0",
      "model_name": "LayoutModel",
      "state": {}
     },
     "1a65d0f61add42d6906631cb38fb607d": {
      "model_module": "@jupyter-widgets/controls",
      "model_module_version": "2.0.0",
      "model_name": "TextStyleModel",
      "state": {
       "description_width": "",
       "font_size": null,
       "text_color": null
      }
     },
     "1ac02216b1bd4d22b5bbd28c88447fe8": {
      "model_module": "@jupyter-widgets/controls",
      "model_module_version": "2.0.0",
      "model_name": "DescriptionStyleModel",
      "state": {
       "description_width": ""
      }
     },
     "1b223807d3d44647b28b442a920ab994": {
      "model_module": "@jupyter-widgets/base",
      "model_module_version": "2.0.0",
      "model_name": "LayoutModel",
      "state": {}
     },
     "1b439cac69c94744a1232256a675167e": {
      "model_module": "@jupyter-widgets/controls",
      "model_module_version": "2.0.0",
      "model_name": "DescriptionStyleModel",
      "state": {
       "description_width": ""
      }
     },
     "1b7b80d4c76e4096b7fb843a18251daa": {
      "model_module": "@jupyter-widgets/base",
      "model_module_version": "2.0.0",
      "model_name": "LayoutModel",
      "state": {}
     },
     "1babe235de184115918c4d5faef368f5": {
      "model_module": "@jupyter-widgets/base",
      "model_module_version": "2.0.0",
      "model_name": "LayoutModel",
      "state": {}
     },
     "1bb3e2a3920b48b88c44cb2aa9d98056": {
      "model_module": "@jupyter-widgets/controls",
      "model_module_version": "2.0.0",
      "model_name": "TextStyleModel",
      "state": {
       "description_width": "",
       "font_size": null,
       "text_color": null
      }
     },
     "1c8796f14632456fb1957fdf99cacf10": {
      "model_module": "@jupyter-widgets/controls",
      "model_module_version": "2.0.0",
      "model_name": "HBoxModel",
      "state": {
       "children": [
        "IPY_MODEL_ee8bdf89a9c544c2834b2c66028043e6",
        "IPY_MODEL_33a068044d5b4423a002699c2c5b3dbb",
        "IPY_MODEL_96cc6de46399465abf9efa14e1ea3378"
       ],
       "layout": "IPY_MODEL_41383f034df04a91ae2ae8cb1ea847d3"
      }
     },
     "1c8a3f44e9694125a583022233826fc7": {
      "model_module": "@jupyter-widgets/base",
      "model_module_version": "2.0.0",
      "model_name": "LayoutModel",
      "state": {}
     },
     "1d065c691a4f4aaa96643e6513e52bc0": {
      "model_module": "@jupyter-widgets/controls",
      "model_module_version": "2.0.0",
      "model_name": "CheckboxModel",
      "state": {
       "description": "Remove duplicates",
       "disabled": false,
       "layout": "IPY_MODEL_8ec3d0df27ca4e12965971a1dfaefefe",
       "style": "IPY_MODEL_3e3566198b5545e3a669a2882b6d1213",
       "value": false
      }
     },
     "1d98ed3d02b2411e93f15ba2b43668aa": {
      "model_module": "@jupyter-widgets/controls",
      "model_module_version": "2.0.0",
      "model_name": "TextModel",
      "state": {
       "description": "Output Path",
       "layout": "IPY_MODEL_c504010d2ac9425e9e6099ec79ee6602",
       "style": "IPY_MODEL_47754a0c69ab474cab8aed38b05f2b14"
      }
     },
     "1e0ed4fc68234564afdc22f77f5c831e": {
      "model_module": "@jupyter-widgets/base",
      "model_module_version": "2.0.0",
      "model_name": "LayoutModel",
      "state": {}
     },
     "1e57753548734567b2b435d6d104b1bd": {
      "model_module": "@jupyter-widgets/controls",
      "model_module_version": "2.0.0",
      "model_name": "CheckboxStyleModel",
      "state": {
       "description_width": ""
      }
     },
     "1e84a8fd97a744b19ce5bebf6f32ce38": {
      "model_module": "@jupyter-widgets/controls",
      "model_module_version": "2.0.0",
      "model_name": "CheckboxStyleModel",
      "state": {
       "description_width": ""
      }
     },
     "1ebe70c2e9d64cf8b46690d5d9a47ee7": {
      "model_module": "@jupyter-widgets/controls",
      "model_module_version": "2.0.0",
      "model_name": "FloatTextModel",
      "state": {
       "description": "Speed",
       "layout": "IPY_MODEL_2b2c270f590b4ce89264901f25d8b0b4",
       "step": 0.1,
       "style": "IPY_MODEL_e58f544a86804e4795c9997eda0ef205",
       "value": 1
      }
     },
     "1edcbb8791b04c20a7fb824dfd1c9adc": {
      "model_module": "@jupyter-widgets/controls",
      "model_module_version": "2.0.0",
      "model_name": "DescriptionStyleModel",
      "state": {
       "description_width": ""
      }
     },
     "1ef37c1f9b7d45b39095849d3acaa43e": {
      "model_module": "@jupyter-widgets/controls",
      "model_module_version": "2.0.0",
      "model_name": "TextStyleModel",
      "state": {
       "description_width": "",
       "font_size": null,
       "text_color": null
      }
     },
     "1f4591bcdb2041e19eb7634dfb69747b": {
      "model_module": "@jupyter-widgets/controls",
      "model_module_version": "2.0.0",
      "model_name": "IntTextModel",
      "state": {
       "description": "Max rows",
       "layout": "IPY_MODEL_371f3b41bd73450b821d290477c8145b",
       "step": 1,
       "style": "IPY_MODEL_12ee6e7f70d84e9dbf495be8a76e585d"
      }
     },
     "1f6828e8bed84b85ba0390583b4a4dbc": {
      "model_module": "@jupyter-widgets/controls",
      "model_module_version": "2.0.0",
      "model_name": "DescriptionStyleModel",
      "state": {
       "description_width": ""
      }
     },
     "1f9b3d10959346deb1199de903dff351": {
      "model_module": "@jupyter-widgets/controls",
      "model_module_version": "2.0.0",
      "model_name": "CheckboxModel",
      "state": {
       "description": "Allow overwrite",
       "disabled": false,
       "layout": "IPY_MODEL_1946c2bf29734cf08432dada797811b0",
       "style": "IPY_MODEL_829fc09ad3bc497486945bfbb2986a01",
       "value": false
      }
     },
     "1fdc06015cde499f9d56a805f9e7b51e": {
      "model_module": "@jupyter-widgets/controls",
      "model_module_version": "2.0.0",
      "model_name": "TextStyleModel",
      "state": {
       "description_width": "",
       "font_size": null,
       "text_color": null
      }
     },
     "1fe29dc4a1d0457d9762df7c67442006": {
      "model_module": "@jupyter-widgets/controls",
      "model_module_version": "2.0.0",
      "model_name": "TextModel",
      "state": {
       "description": "User ID: ",
       "layout": "IPY_MODEL_4436f321937d4ea7ac7af948a17f1b86",
       "style": "IPY_MODEL_303eaeff53994fb48d9ddd11df88c75d"
      }
     },
     "1fe5bb9ffb6d411eb26d5b4b827bcf8b": {
      "model_module": "@jupyter-widgets/controls",
      "model_module_version": "2.0.0",
      "model_name": "TextModel",
      "state": {
       "description": "Input Path",
       "layout": "IPY_MODEL_f1643defe85f4fb7917d017ca6cfc6de",
       "style": "IPY_MODEL_c45bfe574a7a4010938f912ee83d8808",
       "tooltip": "Path to input directory or archive"
      }
     },
     "20145f080aab458aa4730eb2f7166b24": {
      "model_module": "@jupyter-widgets/base",
      "model_module_version": "2.0.0",
      "model_name": "LayoutModel",
      "state": {}
     },
     "20492533d1ef4e3b9a17b51ddbadf3f7": {
      "model_module": "@jupyter-widgets/controls",
      "model_module_version": "2.0.0",
      "model_name": "DescriptionStyleModel",
      "state": {
       "description_width": ""
      }
     },
     "209eb1e4166e45459b74a892e3f9f11f": {
      "model_module": "@jupyter-widgets/base",
      "model_module_version": "2.0.0",
      "model_name": "LayoutModel",
      "state": {
       "width": "95%"
      }
     },
     "20bb54c99b9d4ff3a1802c6b6a781e7b": {
      "model_module": "@jupyter-widgets/controls",
      "model_module_version": "2.0.0",
      "model_name": "TextStyleModel",
      "state": {
       "description_width": "",
       "font_size": null,
       "text_color": null
      }
     },
     "20beac17afcd47b3a1b1ba7152597e63": {
      "model_module": "@jupyter-widgets/base",
      "model_module_version": "2.0.0",
      "model_name": "LayoutModel",
      "state": {
       "width": "90%"
      }
     },
     "2168427a10f44370bd20afbc7d7bc486": {
      "model_module": "@jupyter-widgets/controls",
      "model_module_version": "2.0.0",
      "model_name": "TextStyleModel",
      "state": {
       "description_width": "",
       "font_size": null,
       "text_color": null
      }
     },
     "21c76018df3842a08f9a026be9409ef8": {
      "model_module": "@jupyter-widgets/base",
      "model_module_version": "2.0.0",
      "model_name": "LayoutModel",
      "state": {}
     },
     "21e2932d3cfc4de9bd25227b33510a5e": {
      "model_module": "@jupyter-widgets/controls",
      "model_module_version": "2.0.0",
      "model_name": "DescriptionStyleModel",
      "state": {
       "description_width": ""
      }
     },
     "220d899f79b447d7b4399e75447cc004": {
      "model_module": "@jupyter-widgets/controls",
      "model_module_version": "2.0.0",
      "model_name": "ButtonModel",
      "state": {
       "description": "Read more",
       "layout": "IPY_MODEL_5a0b392b02ae40b383d01069d579b0e7",
       "style": "IPY_MODEL_93db08e803464863ba9fbcc5d5f9b2b7",
       "tooltip": null
      }
     },
     "2355a08375694c63b04e1b133e688bd8": {
      "model_module": "@jupyter-widgets/base",
      "model_module_version": "2.0.0",
      "model_name": "LayoutModel",
      "state": {
       "width": "90%"
      }
     },
     "2366eb4fa1a74a20a33b54b4f53c3945": {
      "model_module": "@jupyter-widgets/controls",
      "model_module_version": "2.0.0",
      "model_name": "ButtonModel",
      "state": {
       "description": "Read more",
       "layout": "IPY_MODEL_1c8a3f44e9694125a583022233826fc7",
       "style": "IPY_MODEL_2438a0e8a24d47dd8915c330f2017f34",
       "tooltip": null
      }
     },
     "236f8e64e06b4fe093e00edad6c74e22": {
      "model_module": "@jupyter-widgets/base",
      "model_module_version": "2.0.0",
      "model_name": "LayoutModel",
      "state": {}
     },
     "23cff1c034fc497791f3893e703fa9c5": {
      "model_module": "@jupyter-widgets/controls",
      "model_module_version": "2.0.0",
      "model_name": "TextStyleModel",
      "state": {
       "description_width": "",
       "font_size": null,
       "text_color": null
      }
     },
     "23eb2313ce664601b648e38ecf04ef07": {
      "model_module": "@jupyter-widgets/controls",
      "model_module_version": "2.0.0",
      "model_name": "HBoxModel",
      "state": {
       "children": [
        "IPY_MODEL_655caeedff39450bbb6b865b59f0c525",
        "IPY_MODEL_1d065c691a4f4aaa96643e6513e52bc0",
        "IPY_MODEL_53d7e4b8e4f245a3aebf460ccd4b1421"
       ],
       "layout": "IPY_MODEL_c1e2ea8a7fc144e0a1475b849a8edbe8"
      }
     },
     "23fee03ac21d49e3ac817869c15e1c80": {
      "model_module": "@jupyter-widgets/controls",
      "model_module_version": "2.0.0",
      "model_name": "ButtonModel",
      "state": {
       "description": "Read more",
       "layout": "IPY_MODEL_ab5fb8e3008b436b8ef5aef853ccf8d1",
       "style": "IPY_MODEL_60bbf7498e354bc185db7c1abb6f5414",
       "tooltip": null
      }
     },
     "2438a0e8a24d47dd8915c330f2017f34": {
      "model_module": "@jupyter-widgets/controls",
      "model_module_version": "2.0.0",
      "model_name": "ButtonStyleModel",
      "state": {
       "font_family": null,
       "font_size": null,
       "font_style": null,
       "font_variant": null,
       "font_weight": null,
       "text_color": null,
       "text_decoration": null
      }
     },
     "249d25cc665842958931aeca73ec3365": {
      "model_module": "@jupyter-widgets/controls",
      "model_module_version": "2.0.0",
      "model_name": "CheckboxStyleModel",
      "state": {
       "description_width": ""
      }
     },
     "2533db6679a94689b5188989b3557b48": {
      "model_module": "@jupyter-widgets/base",
      "model_module_version": "2.0.0",
      "model_name": "LayoutModel",
      "state": {
       "width": "95%"
      }
     },
     "2587be98d4db47cebaf9e70e4a4af20e": {
      "model_module": "@jupyter-widgets/controls",
      "model_module_version": "2.0.0",
      "model_name": "CheckboxModel",
      "state": {
       "description": "ZIP export (must be .json, .csv)",
       "disabled": false,
       "layout": "IPY_MODEL_f3b36026d9dc43d4b73b26ab712e1bab",
       "style": "IPY_MODEL_266a01a1c38b45fcbc2db67a11c7b7fd",
       "value": false
      }
     },
     "260f05c7a2244f6d8b1c25185290dad4": {
      "model_module": "@jupyter-widgets/controls",
      "model_module_version": "2.0.0",
      "model_name": "TextStyleModel",
      "state": {
       "description_width": "",
       "font_size": null,
       "text_color": null
      }
     },
     "2645dcb5f3734537aca3440803d40de7": {
      "model_module": "@jupyter-widgets/controls",
      "model_module_version": "2.0.0",
      "model_name": "CheckboxModel",
      "state": {
       "description": "Allow overwrite",
       "disabled": false,
       "layout": "IPY_MODEL_0555cb5940f7470b9f173a7b9443638a",
       "style": "IPY_MODEL_071f310991644d2e94f433f640ce7e02",
       "value": false
      }
     },
     "266a01a1c38b45fcbc2db67a11c7b7fd": {
      "model_module": "@jupyter-widgets/controls",
      "model_module_version": "2.0.0",
      "model_name": "CheckboxStyleModel",
      "state": {
       "description_width": ""
      }
     },
     "26c6c65d4c624709821c485ed782ccb9": {
      "model_module": "@jupyter-widgets/controls",
      "model_module_version": "2.0.0",
      "model_name": "TextModel",
      "state": {
       "description": "Input Path",
       "layout": "IPY_MODEL_2533db6679a94689b5188989b3557b48",
       "style": "IPY_MODEL_5305492e8a09460899e0bf8eef45eace",
       "tooltip": "Path to input directory or archive"
      }
     },
     "280907340c4643868f4ba829d04c20f6": {
      "model_module": "@jupyter-widgets/base",
      "model_module_version": "2.0.0",
      "model_name": "LayoutModel",
      "state": {}
     },
     "287ff0bf4052482fa8f5e5cddc819b43": {
      "model_module": "@jupyter-widgets/controls",
      "model_module_version": "2.0.0",
      "model_name": "TextModel",
      "state": {
       "description": "Input Path",
       "layout": "IPY_MODEL_ea0ed26e244c4649bc451a16f99f3b81",
       "style": "IPY_MODEL_a792d91f4e9540569d71437737841a50",
       "tooltip": "Path to input directory or archive"
      }
     },
     "28b0358b3f9f4fd0997f24aaadcdf3ff": {
      "model_module": "@jupyter-widgets/controls",
      "model_module_version": "2.0.0",
      "model_name": "TextModel",
      "state": {
       "description": "User ID: ",
       "layout": "IPY_MODEL_363027a180ec466dade8b4320c7eced3",
       "style": "IPY_MODEL_797749f883824f1ab1846d7b1810e56b"
      }
     },
     "2900bba3eb5742c09df28fa9c4548cfc": {
      "model_module": "@jupyter-widgets/controls",
      "model_module_version": "2.0.0",
      "model_name": "TextModel",
      "state": {
       "description": "User ID: ",
       "layout": "IPY_MODEL_1b223807d3d44647b28b442a920ab994",
       "style": "IPY_MODEL_0c4fd65e823a4340be78481884c93354"
      }
     },
     "29343d7cb0244303ad47ba458fa382ab": {
      "model_module": "@jupyter-widgets/controls",
      "model_module_version": "2.0.0",
      "model_name": "HBoxModel",
      "state": {
       "children": [
        "IPY_MODEL_8e1ae45b7d184c5fbcdb67bc341c9262",
        "IPY_MODEL_f5ea236ea1cf414ca523f983047dbe02",
        "IPY_MODEL_e6b91a71a24b499fb6968d1d8687491d"
       ],
       "layout": "IPY_MODEL_78b5aaee746045d19c0cf5def6af8513"
      }
     },
     "296378c7afbe49e2b89a92c8c86c7a30": {
      "model_module": "@jupyter-widgets/controls",
      "model_module_version": "2.0.0",
      "model_name": "IntTextModel",
      "state": {
       "description": "Max rows",
       "layout": "IPY_MODEL_df81c2884a0843fdb0d78953d2d4e1ab",
       "step": 1,
       "style": "IPY_MODEL_1f6828e8bed84b85ba0390583b4a4dbc"
      }
     },
     "2acccfbc511b4204946570db0b9892d5": {
      "model_module": "@jupyter-widgets/controls",
      "model_module_version": "2.0.0",
      "model_name": "ButtonModel",
      "state": {
       "description": "Login",
       "layout": "IPY_MODEL_10feb95e5a364225a9921a5bb1711a8f",
       "style": "IPY_MODEL_545984878b3d459ba6c00e05435489d1",
       "tooltip": null
      }
     },
     "2b0122048c914f42a6918c39677e4d7f": {
      "model_module": "@jupyter-widgets/base",
      "model_module_version": "2.0.0",
      "model_name": "LayoutModel",
      "state": {
       "width": "90%"
      }
     },
     "2b1d55f8ebf941278f503147312ed107": {
      "model_module": "@jupyter-widgets/controls",
      "model_module_version": "2.0.0",
      "model_name": "IntTextModel",
      "state": {
       "description": "Max count:",
       "layout": "IPY_MODEL_58d03c6463a9421a9890034f01a2dbe1",
       "step": 1,
       "style": "IPY_MODEL_db35f3a2e95e4a4da7027f92004819e9"
      }
     },
     "2b2c270f590b4ce89264901f25d8b0b4": {
      "model_module": "@jupyter-widgets/base",
      "model_module_version": "2.0.0",
      "model_name": "LayoutModel",
      "state": {
       "width": "40%"
      }
     },
     "2baf10c576cd4a8797e2de31e84f1207": {
      "model_module": "@jupyter-widgets/controls",
      "model_module_version": "2.0.0",
      "model_name": "TextStyleModel",
      "state": {
       "description_width": "",
       "font_size": null,
       "text_color": null
      }
     },
     "2c83bd693ea346e693a11ba07f5e311a": {
      "model_module": "@jupyter-widgets/base",
      "model_module_version": "2.0.0",
      "model_name": "LayoutModel",
      "state": {
       "width": "40%"
      }
     },
     "2ceaeeb6d7a843a281245bc8a474a68b": {
      "model_module": "@jupyter-widgets/controls",
      "model_module_version": "2.0.0",
      "model_name": "TextModel",
      "state": {
       "description": "Output Path:",
       "layout": "IPY_MODEL_98b1929c4e024cdea8020a287362316f",
       "style": "IPY_MODEL_4b19533755d744fb9fa75bc01ef3069b"
      }
     },
     "2d4a63fe45a8417b9ec430fe2bf353f0": {
      "model_module": "@jupyter-widgets/controls",
      "model_module_version": "2.0.0",
      "model_name": "ButtonModel",
      "state": {
       "description": "Start archiving",
       "layout": "IPY_MODEL_78b05e3c4e524f7c93d22a9cc238743f",
       "style": "IPY_MODEL_71a06913e38d4c08b41abecd01019ab8",
       "tooltip": null
      }
     },
     "2ddf4364b4bf4bdd970e3a25aa7b4c75": {
      "model_module": "@jupyter-widgets/controls",
      "model_module_version": "2.0.0",
      "model_name": "TextModel",
      "state": {
       "description": "Input Path",
       "layout": "IPY_MODEL_efe11f22a3124307bd84df119d68b091",
       "style": "IPY_MODEL_ad85cb47fcd24a75b499291b0a483795",
       "tooltip": "Path to input directory or archive"
      }
     },
     "2e0f05ce713d45649dbfaab486425ecb": {
      "model_module": "@jupyter-widgets/controls",
      "model_module_version": "2.0.0",
      "model_name": "RadioButtonsModel",
      "state": {
       "_options_labels": [
        "cases",
        "charges",
        "disposition",
        "filing",
        "fees"
       ],
       "description": "Table:",
       "index": 0,
       "layout": "IPY_MODEL_4609282b0cbf4ef99cf67d647344063e",
       "style": "IPY_MODEL_b3f296f5034c4e589cafd1c8c8fa8e6c"
      }
     },
     "2e16efd980874d40b1d1e690ae81036d": {
      "model_module": "@jupyter-widgets/controls",
      "model_module_version": "2.0.0",
      "model_name": "CheckboxModel",
      "state": {
       "description": "Don't split in batches",
       "disabled": false,
       "layout": "IPY_MODEL_f149ab0c58f84e19bea87c70e1cb4608",
       "style": "IPY_MODEL_fd623ab77f2d4f1b8d14439d171afc20",
       "value": false
      }
     },
     "2e5deb68f71a433ab70bf9dbfe8604ae": {
      "model_module": "@jupyter-widgets/controls",
      "model_module_version": "2.0.0",
      "model_name": "CheckboxModel",
      "state": {
       "description": "Allow overwrite",
       "disabled": false,
       "layout": "IPY_MODEL_ad4a4e762c3d4907bc0df267fb274366",
       "style": "IPY_MODEL_e864aaf9f09d47a4865a5786b55e381d",
       "value": false
      }
     },
     "2e68b741226a4e2ca028a4f31877281c": {
      "model_module": "@jupyter-widgets/controls",
      "model_module_version": "2.0.0",
      "model_name": "FloatProgressModel",
      "state": {
       "bar_style": "success",
       "layout": "IPY_MODEL_9a392dfb3ed346ceb92c93e1d33ed6de",
       "max": 27238,
       "style": "IPY_MODEL_768cbe03068d4d82bd9a4a85a1f2d066",
       "value": 27238
      }
     },
     "2ec0acc77fc64afcac2d010f3bdf0cc1": {
      "model_module": "@jupyter-widgets/controls",
      "model_module_version": "2.0.0",
      "model_name": "TextStyleModel",
      "state": {
       "description_width": "",
       "font_size": null,
       "text_color": null
      }
     },
     "2eea09e05e1544b7a8c25ab9e038db83": {
      "model_module": "@jupyter-widgets/controls",
      "model_module_version": "2.0.0",
      "model_name": "ButtonStyleModel",
      "state": {
       "font_family": null,
       "font_size": null,
       "font_style": null,
       "font_variant": null,
       "font_weight": null,
       "text_color": null,
       "text_decoration": null
      }
     },
     "2f293017e3184e9896c4ef086be9ae85": {
      "model_module": "@jupyter-widgets/controls",
      "model_module_version": "2.0.0",
      "model_name": "IntTextModel",
      "state": {
       "description": "Max rows",
       "layout": "IPY_MODEL_2c83bd693ea346e693a11ba07f5e311a",
       "step": 1,
       "style": "IPY_MODEL_6ea36e724e614924af620554f8059bc7"
      }
     },
     "2f6b678ff9cf4b709161858eed8e485b": {
      "model_module": "@jupyter-widgets/base",
      "model_module_version": "2.0.0",
      "model_name": "LayoutModel",
      "state": {}
     },
     "2fcd88e89252406ebebc78693fc0aa59": {
      "model_module": "@jupyter-widgets/controls",
      "model_module_version": "2.0.0",
      "model_name": "ButtonStyleModel",
      "state": {
       "font_family": null,
       "font_size": null,
       "font_style": null,
       "font_variant": null,
       "font_weight": null,
       "text_color": null,
       "text_decoration": null
      }
     },
     "2fd46088cea24508aa2bf56fb4909833": {
      "model_module": "@jupyter-widgets/base",
      "model_module_version": "2.0.0",
      "model_name": "LayoutModel",
      "state": {}
     },
     "2ff7f05c4f7d456b9295fc223159eada": {
      "model_module": "@jupyter-widgets/controls",
      "model_module_version": "2.0.0",
      "model_name": "TextStyleModel",
      "state": {
       "description_width": "",
       "font_size": null,
       "text_color": null
      }
     },
     "303eaeff53994fb48d9ddd11df88c75d": {
      "model_module": "@jupyter-widgets/controls",
      "model_module_version": "2.0.0",
      "model_name": "TextStyleModel",
      "state": {
       "description_width": "",
       "font_size": null,
       "text_color": null
      }
     },
     "30499712a987412fb1c276dd3b0e22b6": {
      "model_module": "@jupyter-widgets/base",
      "model_module_version": "2.0.0",
      "model_name": "LayoutModel",
      "state": {}
     },
     "30533b7f6b8044079e358418b5131726": {
      "model_module": "@jupyter-widgets/controls",
      "model_module_version": "2.0.0",
      "model_name": "CheckboxModel",
      "state": {
       "description": "Don't split in batches",
       "disabled": false,
       "layout": "IPY_MODEL_68aad2f06acf471e9dd8f03e56460f04",
       "style": "IPY_MODEL_dd3ee2a3335942b3bb85cfa3a1ee0660",
       "value": false
      }
     },
     "30f1b9cb18d341b4b734ba934c9a7164": {
      "model_module": "@jupyter-widgets/base",
      "model_module_version": "2.0.0",
      "model_name": "LayoutModel",
      "state": {
       "width": "95%"
      }
     },
     "312a119e3b604cdf92bd3f6230fa631a": {
      "model_module": "@jupyter-widgets/base",
      "model_module_version": "2.0.0",
      "model_name": "LayoutModel",
      "state": {}
     },
     "3144d34e0c1a4012b7fa7a50e135b28e": {
      "model_module": "@jupyter-widgets/controls",
      "model_module_version": "2.0.0",
      "model_name": "TextStyleModel",
      "state": {
       "description_width": "",
       "font_size": null,
       "text_color": null
      }
     },
     "315a81a2581a4f62b4a4feec4668ac47": {
      "model_module": "@jupyter-widgets/base",
      "model_module_version": "2.0.0",
      "model_name": "LayoutModel",
      "state": {
       "width": "95%"
      }
     },
     "317d00fc7d464f758126fa005e4ceca2": {
      "model_module": "@jupyter-widgets/controls",
      "model_module_version": "2.0.0",
      "model_name": "RadioButtonsModel",
      "state": {
       "_options_labels": [
        "cases",
        "charges",
        "disposition",
        "filing",
        "fees"
       ],
       "description": "Table:",
       "index": 0,
       "layout": "IPY_MODEL_c2127d44dc594fd5b1630f21ec43e92b",
       "style": "IPY_MODEL_0d9e35020fd84d2b8f107d99d3c10ab8"
      }
     },
     "31f7575ef0534947b3aaa97202f0e7cc": {
      "model_module": "@jupyter-widgets/controls",
      "model_module_version": "2.0.0",
      "model_name": "TextModel",
      "state": {
       "description": "Input Path:",
       "layout": "IPY_MODEL_0f91b2200dad425e8f98f4cbf92d061a",
       "style": "IPY_MODEL_a715a3965141441b840c1fda36556e8c",
       "tooltip": "Path to query template spreadsheet (list of names, etc. to search)"
      }
     },
     "326568b850084018b309f8132daff554": {
      "model_module": "@jupyter-widgets/controls",
      "model_module_version": "2.0.0",
      "model_name": "PasswordModel",
      "state": {
       "description": "Password: ",
       "layout": "IPY_MODEL_e61a6e4571d4413e9d951b36578e79d5",
       "style": "IPY_MODEL_d9cb75787e8d4ece84ac158d1a2ce1df"
      }
     },
     "329a699273ba42ceada8ce321f8974b7": {
      "model_module": "@jupyter-widgets/base",
      "model_module_version": "2.0.0",
      "model_name": "LayoutModel",
      "state": {}
     },
     "333c51148f934eb6a3a463d5969809d1": {
      "model_module": "@jupyter-widgets/base",
      "model_module_version": "2.0.0",
      "model_name": "LayoutModel",
      "state": {}
     },
     "336f1e5574bd46cf9df9b063b9cdbaf5": {
      "model_module": "@jupyter-widgets/controls",
      "model_module_version": "2.0.0",
      "model_name": "ButtonModel",
      "state": {
       "description": "Start archiving",
       "layout": "IPY_MODEL_8402589807894a129feced7702fb6bfc",
       "style": "IPY_MODEL_eefe5dbea53844c89ecd258740b34259",
       "tooltip": null
      }
     },
     "339e04348d3f4bd7aba3f64e72a1bf74": {
      "model_module": "@jupyter-widgets/base",
      "model_module_version": "2.0.0",
      "model_name": "LayoutModel",
      "state": {}
     },
     "33a068044d5b4423a002699c2c5b3dbb": {
      "model_module": "@jupyter-widgets/controls",
      "model_module_version": "2.0.0",
      "model_name": "IntTextModel",
      "state": {
       "description": "Skip rows",
       "layout": "IPY_MODEL_71267a8265cc41ce9e78fdfec48e2100",
       "step": 1,
       "style": "IPY_MODEL_ca74db99a2634c6fb259bc35121359b0"
      }
     },
     "33ce424efacb49feaf03039f332f4c2b": {
      "model_module": "@jupyter-widgets/base",
      "model_module_version": "2.0.0",
      "model_name": "LayoutModel",
      "state": {}
     },
     "33d49e8ffa004b26848467d24c4f03cb": {
      "model_module": "@jupyter-widgets/base",
      "model_module_version": "2.0.0",
      "model_name": "LayoutModel",
      "state": {}
     },
     "3413bbacd04e4c228c0b8af77cb66958": {
      "model_module": "@jupyter-widgets/controls",
      "model_module_version": "2.0.0",
      "model_name": "TextModel",
      "state": {
       "description": "Input Path:",
       "layout": "IPY_MODEL_8b5aad0d732e420db3864b1d5c7d9542",
       "style": "IPY_MODEL_d36b118bc66549ac8ccd67f93f3d6043",
       "tooltip": "Path to query template spreadsheet (list of names, etc. to search)"
      }
     },
     "34848b07e1ba41efa1a89f5fffa07165": {
      "model_module": "@jupyter-widgets/controls",
      "model_module_version": "2.0.0",
      "model_name": "ButtonStyleModel",
      "state": {
       "font_family": null,
       "font_size": null,
       "font_style": null,
       "font_variant": null,
       "font_weight": null,
       "text_color": null,
       "text_decoration": null
      }
     },
     "3499631fb6f04be8b0e3f31ea9d676f4": {
      "model_module": "@jupyter-widgets/controls",
      "model_module_version": "2.0.0",
      "model_name": "TextStyleModel",
      "state": {
       "description_width": "",
       "font_size": null,
       "text_color": null
      }
     },
     "34be9805d48745459f82a6a44d0ffac7": {
      "model_module": "@jupyter-widgets/controls",
      "model_module_version": "2.0.0",
      "model_name": "IntTextModel",
      "state": {
       "description": "Max count:",
       "layout": "IPY_MODEL_09e0a51a85284fdc80a4efdd1175d6b1",
       "step": 1,
       "style": "IPY_MODEL_536aa84d0f07480f998c11c55c3c23ca"
      }
     },
     "34e1355ce95f427da16b39ec1a917d42": {
      "model_module": "@jupyter-widgets/controls",
      "model_module_version": "2.0.0",
      "model_name": "CheckboxModel",
      "state": {
       "description": "ZIP export (must be .json, .csv)",
       "disabled": false,
       "layout": "IPY_MODEL_4e294f8e555d4cbfbf4b2e5495c5d589",
       "style": "IPY_MODEL_1e57753548734567b2b435d6d104b1bd",
       "value": false
      }
     },
     "35d62df3364b4b7aae6fd0c8685e3cec": {
      "model_module": "@jupyter-widgets/controls",
      "model_module_version": "2.0.0",
      "model_name": "RadioButtonsModel",
      "state": {
       "_options_labels": [
        "cases",
        "charges",
        "disposition",
        "filing",
        "fees"
       ],
       "description": "Table:",
       "index": 0,
       "layout": "IPY_MODEL_5664e63479c142aead92cc6aa243ae5f",
       "style": "IPY_MODEL_b9854450665349ce95433a5e6b9ddf34"
      }
     },
     "363027a180ec466dade8b4320c7eced3": {
      "model_module": "@jupyter-widgets/base",
      "model_module_version": "2.0.0",
      "model_name": "LayoutModel",
      "state": {}
     },
     "3687fa2babe2476392cfaf67c3d52bc8": {
      "model_module": "@jupyter-widgets/controls",
      "model_module_version": "2.0.0",
      "model_name": "TextStyleModel",
      "state": {
       "description_width": "",
       "font_size": null,
       "text_color": null
      }
     },
     "3718840af2db48d4b58a15cf4641be0c": {
      "model_module": "@jupyter-widgets/base",
      "model_module_version": "2.0.0",
      "model_name": "LayoutModel",
      "state": {}
     },
     "371f3b41bd73450b821d290477c8145b": {
      "model_module": "@jupyter-widgets/base",
      "model_module_version": "2.0.0",
      "model_name": "LayoutModel",
      "state": {
       "width": "40%"
      }
     },
     "376828bb47514315bcd4c7f7afa77f79": {
      "model_module": "@jupyter-widgets/controls",
      "model_module_version": "2.0.0",
      "model_name": "ButtonStyleModel",
      "state": {
       "font_family": null,
       "font_size": null,
       "font_style": null,
       "font_variant": null,
       "font_weight": null,
       "text_color": null,
       "text_decoration": null
      }
     },
     "379ac2694c544bfbbabdc409f0e2c7f3": {
      "model_module": "@jupyter-widgets/base",
      "model_module_version": "2.0.0",
      "model_name": "LayoutModel",
      "state": {}
     },
     "37dff680f99149d38abe0b26fafa0a09": {
      "model_module": "@jupyter-widgets/controls",
      "model_module_version": "2.0.0",
      "model_name": "HBoxModel",
      "state": {
       "children": [
        "IPY_MODEL_9095c213ac544cf18d9a913d456cd2de",
        "IPY_MODEL_a77595ecc2a14d59886c1fa7a43d3bff",
        "IPY_MODEL_55054603f9f9457dac67c27ddc148fc4"
       ],
       "layout": "IPY_MODEL_596673563bb74cd7bd25c3ab48bb5212"
      }
     },
     "37f12a4b7e084f41a7303a205d0d3abc": {
      "model_module": "@jupyter-widgets/controls",
      "model_module_version": "2.0.0",
      "model_name": "TextModel",
      "state": {
       "description": "Input Path:",
       "layout": "IPY_MODEL_7d00e9b154c64755a74ece897bfced83",
       "style": "IPY_MODEL_260f05c7a2244f6d8b1c25185290dad4",
       "tooltip": "Path to query template spreadsheet (list of names, etc. to search)"
      }
     },
     "37f78a4626914d2192720c26ed96e9ac": {
      "model_module": "@jupyter-widgets/controls",
      "model_module_version": "2.0.0",
      "model_name": "CheckboxStyleModel",
      "state": {
       "description_width": ""
      }
     },
     "381a3272166b4597b77a3d9b04b276f1": {
      "model_module": "@jupyter-widgets/base",
      "model_module_version": "2.0.0",
      "model_name": "LayoutModel",
      "state": {}
     },
     "3822e23cf01b403eacc4aecbe707d521": {
      "model_module": "@jupyter-widgets/controls",
      "model_module_version": "2.0.0",
      "model_name": "CheckboxStyleModel",
      "state": {
       "description_width": ""
      }
     },
     "385090831f1340988300bbe918754bc1": {
      "model_module": "@jupyter-widgets/controls",
      "model_module_version": "2.0.0",
      "model_name": "TextStyleModel",
      "state": {
       "description_width": "",
       "font_size": null,
       "text_color": null
      }
     },
     "38ce72e04c384f519f1c5d4d0e98b394": {
      "model_module": "@jupyter-widgets/base",
      "model_module_version": "2.0.0",
      "model_name": "LayoutModel",
      "state": {}
     },
     "390a0fe29ed443aa8a6be1a8b6190ad5": {
      "model_module": "@jupyter-widgets/controls",
      "model_module_version": "2.0.0",
      "model_name": "ButtonStyleModel",
      "state": {
       "font_family": null,
       "font_size": null,
       "font_style": null,
       "font_variant": null,
       "font_weight": null,
       "text_color": null,
       "text_decoration": null
      }
     },
     "392dc6f7df5e464ba0e6ca78bb862224": {
      "model_module": "@jupyter-widgets/base",
      "model_module_version": "2.0.0",
      "model_name": "LayoutModel",
      "state": {}
     },
     "396b1c7e3ca74fa58016b443eedc6858": {
      "model_module": "@jupyter-widgets/controls",
      "model_module_version": "2.0.0",
      "model_name": "DescriptionStyleModel",
      "state": {
       "description_width": ""
      }
     },
     "39d6521d424646e5b36c1449c30d9659": {
      "model_module": "@jupyter-widgets/base",
      "model_module_version": "2.0.0",
      "model_name": "LayoutModel",
      "state": {}
     },
     "39efd4599ba443c7bef1fab5de255a9b": {
      "model_module": "@jupyter-widgets/base",
      "model_module_version": "2.0.0",
      "model_name": "LayoutModel",
      "state": {
       "width": "90%"
      }
     },
     "3a85be1e3b21465088be022856b8c892": {
      "model_module": "@jupyter-widgets/base",
      "model_module_version": "2.0.0",
      "model_name": "LayoutModel",
      "state": {}
     },
     "3ac6889560b84a94b6b29ed60531008f": {
      "model_module": "@jupyter-widgets/base",
      "model_module_version": "2.0.0",
      "model_name": "LayoutModel",
      "state": {
       "width": "90%"
      }
     },
     "3ae5b9c5dfdd4e74a60478068a569986": {
      "model_module": "@jupyter-widgets/base",
      "model_module_version": "2.0.0",
      "model_name": "LayoutModel",
      "state": {
       "width": "95%"
      }
     },
     "3afe7a0b715f48fa962ab0fe35d90825": {
      "model_module": "@jupyter-widgets/base",
      "model_module_version": "2.0.0",
      "model_name": "LayoutModel",
      "state": {}
     },
     "3b4782c0803748f8bf763bbc71c60314": {
      "model_module": "@jupyter-widgets/controls",
      "model_module_version": "2.0.0",
      "model_name": "TextModel",
      "state": {
       "description": "Customer ID: ",
       "layout": "IPY_MODEL_3f22095724354a228c8500af099295ed",
       "style": "IPY_MODEL_f8165c37ef8b4788857881f57caf19a8"
      }
     },
     "3b6bcbc74f1840ed868d9a3df47922cf": {
      "model_module": "@jupyter-widgets/controls",
      "model_module_version": "2.0.0",
      "model_name": "IntTextModel",
      "state": {
       "description": "Max rows",
       "layout": "IPY_MODEL_01322ffc8ff547879c8b46f2ca8800d8",
       "step": 1,
       "style": "IPY_MODEL_ff18a2989d184571933b25cae3796b03"
      }
     },
     "3b80b703081b4ccd8060e85ea5a9745e": {
      "model_module": "@jupyter-widgets/controls",
      "model_module_version": "2.0.0",
      "model_name": "HBoxModel",
      "state": {
       "children": [
        "IPY_MODEL_cc8675c37b4b40aba91166bc7a68e2e0",
        "IPY_MODEL_73c094ef955447538b821fc1950c50ab"
       ],
       "layout": "IPY_MODEL_e47fe130291947ef8da11627c43b30a9"
      }
     },
     "3b8dc8f930a44b74a4198fbfd93fd70a": {
      "model_module": "@jupyter-widgets/controls",
      "model_module_version": "2.0.0",
      "model_name": "HBoxModel",
      "state": {
       "children": [
        "IPY_MODEL_4ab53b6d206b4ffaaf66f523bdf5a893",
        "IPY_MODEL_2e68b741226a4e2ca028a4f31877281c",
        "IPY_MODEL_6dda602970954107bf7db85cdc3c05ef"
       ],
       "layout": "IPY_MODEL_821f5ad25e8f42d9a62518e6e90c0d31"
      }
     },
     "3be43f92d1804423aa05d2923f975849": {
      "model_module": "@jupyter-widgets/controls",
      "model_module_version": "2.0.0",
      "model_name": "TextStyleModel",
      "state": {
       "description_width": "",
       "font_size": null,
       "text_color": null
      }
     },
     "3bf3caeb358044a8bf6c04fe6c2e7587": {
      "model_module": "@jupyter-widgets/controls",
      "model_module_version": "2.0.0",
      "model_name": "TextStyleModel",
      "state": {
       "description_width": "",
       "font_size": null,
       "text_color": null
      }
     },
     "3c14e08d5f084739a51031a00589bfda": {
      "model_module": "@jupyter-widgets/base",
      "model_module_version": "2.0.0",
      "model_name": "LayoutModel",
      "state": {
       "width": "40%"
      }
     },
     "3e3566198b5545e3a669a2882b6d1213": {
      "model_module": "@jupyter-widgets/controls",
      "model_module_version": "2.0.0",
      "model_name": "CheckboxStyleModel",
      "state": {
       "description_width": ""
      }
     },
     "3eb598c755764905af49b7f12fa0bb57": {
      "model_module": "@jupyter-widgets/base",
      "model_module_version": "2.0.0",
      "model_name": "LayoutModel",
      "state": {
       "width": "90%"
      }
     },
     "3ee0739849b147b8a1e11a232900b4dc": {
      "model_module": "@jupyter-widgets/controls",
      "model_module_version": "2.0.0",
      "model_name": "HBoxModel",
      "state": {
       "children": [
        "IPY_MODEL_00ac876fff8e4626b9a8cddbb83e481a",
        "IPY_MODEL_aad4458163dc4e33ab305b555871f003"
       ],
       "layout": "IPY_MODEL_10cda0e3542c4bc4b24a4c7ea84dd02a"
      }
     },
     "3ee5f0b5ff504632a7846e933084fe40": {
      "model_module": "@jupyter-widgets/controls",
      "model_module_version": "2.0.0",
      "model_name": "TextStyleModel",
      "state": {
       "description_width": "",
       "font_size": null,
       "text_color": null
      }
     },
     "3f22095724354a228c8500af099295ed": {
      "model_module": "@jupyter-widgets/base",
      "model_module_version": "2.0.0",
      "model_name": "LayoutModel",
      "state": {}
     },
     "3f24d48ee2394f0fa75879c91e04dc78": {
      "model_module": "@jupyter-widgets/controls",
      "model_module_version": "2.0.0",
      "model_name": "ButtonModel",
      "state": {
       "description": "Start export",
       "layout": "IPY_MODEL_21c76018df3842a08f9a026be9409ef8",
       "style": "IPY_MODEL_58caae1b0e824abb8468d7169a8f4b4f",
       "tooltip": null
      }
     },
     "3f2a9c2bedcb4c72ade0abdf93880a04": {
      "model_module": "@jupyter-widgets/base",
      "model_module_version": "2.0.0",
      "model_name": "LayoutModel",
      "state": {
       "width": "90%"
      }
     },
     "3f2bd72a20c34f89a086f7c85bbb423a": {
      "model_module": "@jupyter-widgets/base",
      "model_module_version": "2.0.0",
      "model_name": "LayoutModel",
      "state": {}
     },
     "3f5d8e9a7ca74c2a809c2d94269a8692": {
      "model_module": "@jupyter-widgets/controls",
      "model_module_version": "2.0.0",
      "model_name": "ButtonStyleModel",
      "state": {
       "font_family": null,
       "font_size": null,
       "font_style": null,
       "font_variant": null,
       "font_weight": null,
       "text_color": null,
       "text_decoration": null
      }
     },
     "3fb5ef407d8c41adb7dd5b26c7749bc2": {
      "model_module": "@jupyter-widgets/controls",
      "model_module_version": "2.0.0",
      "model_name": "TextModel",
      "state": {
       "description": "Output Path",
       "layout": "IPY_MODEL_ae1e8a2edf894117861124f0f8ab8add",
       "style": "IPY_MODEL_0a4ff2d3109048528f5fc8641acbe819",
       "value": "/Users/samuelrobson/Desktop/PDFBENZ2.xlsx"
      }
     },
     "4019d0919e4547dba91c979164675b80": {
      "model_module": "@jupyter-widgets/controls",
      "model_module_version": "2.0.0",
      "model_name": "TextModel",
      "state": {
       "description": "Input Path:",
       "layout": "IPY_MODEL_3f2a9c2bedcb4c72ade0abdf93880a04",
       "style": "IPY_MODEL_1fdc06015cde499f9d56a805f9e7b51e",
       "tooltip": "Path to query template spreadsheet (list of names, etc. to search)"
      }
     },
     "4043ed4810394dc6bfcc51578bddb078": {
      "model_module": "@jupyter-widgets/controls",
      "model_module_version": "2.0.0",
      "model_name": "CheckboxStyleModel",
      "state": {
       "description_width": ""
      }
     },
     "40987201429248a5a739ba41ddc07e5e": {
      "model_module": "@jupyter-widgets/base",
      "model_module_version": "2.0.0",
      "model_name": "LayoutModel",
      "state": {}
     },
     "40b623baaff4459aa7c92de0b2aa41a2": {
      "model_module": "@jupyter-widgets/base",
      "model_module_version": "2.0.0",
      "model_name": "LayoutModel",
      "state": {}
     },
     "40fd9d16cf2944a8bc84975516d76677": {
      "model_module": "@jupyter-widgets/controls",
      "model_module_version": "2.0.0",
      "model_name": "ButtonStyleModel",
      "state": {
       "font_family": null,
       "font_size": null,
       "font_style": null,
       "font_variant": null,
       "font_weight": null,
       "text_color": null,
       "text_decoration": null
      }
     },
     "410572dd5d0e456998ad990015e047ff": {
      "model_module": "@jupyter-widgets/base",
      "model_module_version": "2.0.0",
      "model_name": "LayoutModel",
      "state": {
       "width": "90%"
      }
     },
     "41383f034df04a91ae2ae8cb1ea847d3": {
      "model_module": "@jupyter-widgets/base",
      "model_module_version": "2.0.0",
      "model_name": "LayoutModel",
      "state": {
       "width": "95%"
      }
     },
     "4149f35b284e40aa8c997326bef8cc4f": {
      "model_module": "@jupyter-widgets/base",
      "model_module_version": "2.0.0",
      "model_name": "LayoutModel",
      "state": {}
     },
     "41c0785d7f4540ce8d72703aba00bd04": {
      "model_module": "@jupyter-widgets/base",
      "model_module_version": "2.0.0",
      "model_name": "LayoutModel",
      "state": {
       "width": "40%"
      }
     },
     "41ce22497a9446e4a92f43a05f387cc8": {
      "model_module": "@jupyter-widgets/controls",
      "model_module_version": "2.0.0",
      "model_name": "TextModel",
      "state": {
       "description": "User ID: ",
       "layout": "IPY_MODEL_fa579e7829bc4feea59099fd1f764956",
       "style": "IPY_MODEL_c6857a02790347bfba42de7459ccbcac"
      }
     },
     "41f5c54ba00645798152d54d5e49e2ec": {
      "model_module": "@jupyter-widgets/base",
      "model_module_version": "2.0.0",
      "model_name": "LayoutModel",
      "state": {
       "width": "90%"
      }
     },
     "42874318a1e241ee82b78cf550726ab5": {
      "model_module": "@jupyter-widgets/controls",
      "model_module_version": "2.0.0",
      "model_name": "TextModel",
      "state": {
       "description": "Input Path:",
       "layout": "IPY_MODEL_6c7b05172674411c95209d5fdf613394",
       "style": "IPY_MODEL_e2869ce4eb48496591977d0e58b0f2a2",
       "tooltip": "Path to query template spreadsheet (list of names, etc. to search)"
      }
     },
     "42e6688688c64d20882084e24f4c4a03": {
      "model_module": "@jupyter-widgets/controls",
      "model_module_version": "2.0.0",
      "model_name": "HBoxModel",
      "state": {
       "children": [
        "IPY_MODEL_72547ff214ed47b485bf58c3a6578301",
        "IPY_MODEL_d2f27d31c2d54da387c6cc96f6fe13a3"
       ],
       "layout": "IPY_MODEL_e7456349a26d4328bee1a4a3a3d07624"
      }
     },
     "42eae4a3bc6740b08e829ed11f0fe63a": {
      "model_module": "@jupyter-widgets/controls",
      "model_module_version": "2.0.0",
      "model_name": "DescriptionStyleModel",
      "state": {
       "description_width": ""
      }
     },
     "43654fb7e01840efad862a90e372a1aa": {
      "model_module": "@jupyter-widgets/controls",
      "model_module_version": "2.0.0",
      "model_name": "DescriptionStyleModel",
      "state": {
       "description_width": ""
      }
     },
     "43db58e09ef94f74a2eb0de0bb968555": {
      "model_module": "@jupyter-widgets/base",
      "model_module_version": "2.0.0",
      "model_name": "LayoutModel",
      "state": {}
     },
     "4419130d8432455db00e0f6d6acb6c0c": {
      "model_module": "@jupyter-widgets/controls",
      "model_module_version": "2.0.0",
      "model_name": "ButtonStyleModel",
      "state": {
       "font_family": null,
       "font_size": null,
       "font_style": null,
       "font_variant": null,
       "font_weight": null,
       "text_color": null,
       "text_decoration": null
      }
     },
     "4436f321937d4ea7ac7af948a17f1b86": {
      "model_module": "@jupyter-widgets/base",
      "model_module_version": "2.0.0",
      "model_name": "LayoutModel",
      "state": {}
     },
     "450453b0eec24135a7ce15d8b0ab88b1": {
      "model_module": "@jupyter-widgets/controls",
      "model_module_version": "2.0.0",
      "model_name": "TextModel",
      "state": {
       "description": "Input Path",
       "layout": "IPY_MODEL_d83a867493854f10997e7fe44d40788f",
       "style": "IPY_MODEL_05935944dab049d38ddb08df588d6cfe",
       "tooltip": "Path to input directory or archive"
      }
     },
     "45e8e24777d74549bc4a03dbddf4375f": {
      "model_module": "@jupyter-widgets/controls",
      "model_module_version": "2.0.0",
      "model_name": "TextModel",
      "state": {
       "description": "Output Path",
       "layout": "IPY_MODEL_3ae5b9c5dfdd4e74a60478068a569986",
       "style": "IPY_MODEL_9ece14e2184d49de94dcfb7723a1d13b"
      }
     },
     "4609282b0cbf4ef99cf67d647344063e": {
      "model_module": "@jupyter-widgets/base",
      "model_module_version": "2.0.0",
      "model_name": "LayoutModel",
      "state": {}
     },
     "46875439cce848229fcc409964f258ce": {
      "model_module": "@jupyter-widgets/controls",
      "model_module_version": "2.0.0",
      "model_name": "TextModel",
      "state": {
       "description": "Output Path",
       "layout": "IPY_MODEL_88c1844cdff74c1fa5dffe2cc9b07de9",
       "style": "IPY_MODEL_1ef37c1f9b7d45b39095849d3acaa43e"
      }
     },
     "47139d8121144a708f66926f9084652d": {
      "model_module": "@jupyter-widgets/base",
      "model_module_version": "2.0.0",
      "model_name": "LayoutModel",
      "state": {
       "width": "95%"
      }
     },
     "472f2b107454495eb3aba9aef9fa29be": {
      "model_module": "@jupyter-widgets/controls",
      "model_module_version": "2.0.0",
      "model_name": "DescriptionStyleModel",
      "state": {
       "description_width": ""
      }
     },
     "473f490556314fdf8b281147b675ff32": {
      "model_module": "@jupyter-widgets/controls",
      "model_module_version": "2.0.0",
      "model_name": "TextStyleModel",
      "state": {
       "description_width": "",
       "font_size": null,
       "text_color": null
      }
     },
     "475372d3cb2a4a7ca4417b33fa458077": {
      "model_module": "@jupyter-widgets/controls",
      "model_module_version": "2.0.0",
      "model_name": "ButtonStyleModel",
      "state": {
       "font_family": null,
       "font_size": null,
       "font_style": null,
       "font_variant": null,
       "font_weight": null,
       "text_color": null,
       "text_decoration": null
      }
     },
     "47754a0c69ab474cab8aed38b05f2b14": {
      "model_module": "@jupyter-widgets/controls",
      "model_module_version": "2.0.0",
      "model_name": "TextStyleModel",
      "state": {
       "description_width": "",
       "font_size": null,
       "text_color": null
      }
     },
     "47a52b16fd394e819387c3e52dee2ced": {
      "model_module": "@jupyter-widgets/controls",
      "model_module_version": "2.0.0",
      "model_name": "ButtonStyleModel",
      "state": {
       "font_family": null,
       "font_size": null,
       "font_style": null,
       "font_variant": null,
       "font_weight": null,
       "text_color": null,
       "text_decoration": null
      }
     },
     "47b1edfb96de4df7a70e343248157375": {
      "model_module": "@jupyter-widgets/base",
      "model_module_version": "2.0.0",
      "model_name": "LayoutModel",
      "state": {}
     },
     "480bb5b0446149bfb97cd7ae235c235a": {
      "model_module": "@jupyter-widgets/controls",
      "model_module_version": "2.0.0",
      "model_name": "TextModel",
      "state": {
       "description": "Output Path",
       "layout": "IPY_MODEL_e07a1f1b0439421da92f4a53529d4cba",
       "style": "IPY_MODEL_d5497973147c49d6a9f7c51ad42c4c98"
      }
     },
     "484729f0f08d45f9a1cf59923dbc4472": {
      "model_module": "@jupyter-widgets/base",
      "model_module_version": "2.0.0",
      "model_name": "LayoutModel",
      "state": {
       "width": "90%"
      }
     },
     "4867e626b22640afa0f70c920aa47881": {
      "model_module": "@jupyter-widgets/controls",
      "model_module_version": "2.0.0",
      "model_name": "ButtonModel",
      "state": {
       "description": "Login",
       "layout": "IPY_MODEL_fcbcc1dbac094dbaa11c84e32aacebc6",
       "style": "IPY_MODEL_a201630d55f048d3ac54162497b71fc7",
       "tooltip": null
      }
     },
     "486c0ca7ab2044e2b8090ea5ec47057c": {
      "model_module": "@jupyter-widgets/base",
      "model_module_version": "2.0.0",
      "model_name": "LayoutModel",
      "state": {
       "width": "90%"
      }
     },
     "487d3c3932c54e9097d2b64a07ea785f": {
      "model_module": "@jupyter-widgets/controls",
      "model_module_version": "2.0.0",
      "model_name": "TextModel",
      "state": {
       "description": "Input Path",
       "layout": "IPY_MODEL_d561ab5b4cfc4608809e76ea9f703d74",
       "style": "IPY_MODEL_bccffe81fa7a4c969b1ef6b0864a130c",
       "tooltip": "Path to PDF directory"
      }
     },
     "4909a59159864376b67e3f60a8ad0d1b": {
      "model_module": "@jupyter-widgets/controls",
      "model_module_version": "2.0.0",
      "model_name": "ButtonStyleModel",
      "state": {
       "font_family": null,
       "font_size": null,
       "font_style": null,
       "font_variant": null,
       "font_weight": null,
       "text_color": null,
       "text_decoration": null
      }
     },
     "490c44a891c6419e878cb9bc5455e586": {
      "model_module": "@jupyter-widgets/controls",
      "model_module_version": "2.0.0",
      "model_name": "ButtonStyleModel",
      "state": {
       "font_family": null,
       "font_size": null,
       "font_style": null,
       "font_variant": null,
       "font_weight": null,
       "text_color": null,
       "text_decoration": null
      }
     },
     "4919c53daa074aabbe374c63af9f7c60": {
      "model_module": "@jupyter-widgets/base",
      "model_module_version": "2.0.0",
      "model_name": "LayoutModel",
      "state": {
       "width": "40%"
      }
     },
     "499e102a513f47fe9270656f6d09d14e": {
      "model_module": "@jupyter-widgets/controls",
      "model_module_version": "2.0.0",
      "model_name": "TextModel",
      "state": {
       "description": "Input Path",
       "layout": "IPY_MODEL_825cc112cdc546a1947ec0155451f096",
       "style": "IPY_MODEL_f73be3ca4d4b4dd2beb98ba9ff85c59a",
       "tooltip": "Path to PDF directory"
      }
     },
     "4ab53b6d206b4ffaaf66f523bdf5a893": {
      "model_module": "@jupyter-widgets/controls",
      "model_module_version": "2.0.0",
      "model_name": "HTMLModel",
      "state": {
       "layout": "IPY_MODEL_b45bda47304a4070b9c5f201e6712d4f",
       "style": "IPY_MODEL_9cd16e12498b4c6f9290b5e958fea788",
       "value": "100%"
      }
     },
     "4b19533755d744fb9fa75bc01ef3069b": {
      "model_module": "@jupyter-widgets/controls",
      "model_module_version": "2.0.0",
      "model_name": "TextStyleModel",
      "state": {
       "description_width": "",
       "font_size": null,
       "text_color": null
      }
     },
     "4b31214fb5ed4a648ad4d07e328d64e7": {
      "model_module": "@jupyter-widgets/controls",
      "model_module_version": "2.0.0",
      "model_name": "TextStyleModel",
      "state": {
       "description_width": "",
       "font_size": null,
       "text_color": null
      }
     },
     "4c0fc4d33630495bac11381a11ca9b25": {
      "model_module": "@jupyter-widgets/controls",
      "model_module_version": "2.0.0",
      "model_name": "CheckboxStyleModel",
      "state": {
       "description_width": ""
      }
     },
     "4c65536342c54d4aa30d65278389d1bd": {
      "model_module": "@jupyter-widgets/controls",
      "model_module_version": "2.0.0",
      "model_name": "TextStyleModel",
      "state": {
       "description_width": "",
       "font_size": null,
       "text_color": null
      }
     },
     "4cc730d96b4f4278985e7c30a7381ba9": {
      "model_module": "@jupyter-widgets/controls",
      "model_module_version": "2.0.0",
      "model_name": "CheckboxModel",
      "state": {
       "description": "Don't split in batches",
       "disabled": false,
       "layout": "IPY_MODEL_d4a7f3a278c5494cafd6a76951bc1331",
       "style": "IPY_MODEL_986090962cb148998ee31c4a570772a4",
       "value": false
      }
     },
     "4cfc58c4ba994e26a0a9b8b9976cb2f3": {
      "model_module": "@jupyter-widgets/controls",
      "model_module_version": "2.0.0",
      "model_name": "CheckboxStyleModel",
      "state": {
       "description_width": ""
      }
     },
     "4dc513907e524e21b2b5dd60a6b6a9f3": {
      "model_module": "@jupyter-widgets/base",
      "model_module_version": "2.0.0",
      "model_name": "LayoutModel",
      "state": {}
     },
     "4dd4394d4d994efdae21d99a2664734f": {
      "model_module": "@jupyter-widgets/controls",
      "model_module_version": "2.0.0",
      "model_name": "TextModel",
      "state": {
       "description": "Input Path",
       "layout": "IPY_MODEL_97f4c4b749fc4e6c83e554f1077ea50d",
       "style": "IPY_MODEL_4b31214fb5ed4a648ad4d07e328d64e7",
       "tooltip": "Path to PDF directory"
      }
     },
     "4e08cb29c60d460eb86005c3d2f5717e": {
      "model_module": "@jupyter-widgets/controls",
      "model_module_version": "2.0.0",
      "model_name": "TextModel",
      "state": {
       "description": "Output Path",
       "layout": "IPY_MODEL_20beac17afcd47b3a1b1ba7152597e63",
       "style": "IPY_MODEL_c1eceb6c9e464c988685dd7ee40fdd00"
      }
     },
     "4e0bb18ed701411b8de6a846b3326f1b": {
      "model_module": "@jupyter-widgets/controls",
      "model_module_version": "2.0.0",
      "model_name": "TextStyleModel",
      "state": {
       "description_width": "",
       "font_size": null,
       "text_color": null
      }
     },
     "4e294f8e555d4cbfbf4b2e5495c5d589": {
      "model_module": "@jupyter-widgets/base",
      "model_module_version": "2.0.0",
      "model_name": "LayoutModel",
      "state": {}
     },
     "4e7d335716494cba870bd5c7fbe557cb": {
      "model_module": "@jupyter-widgets/controls",
      "model_module_version": "2.0.0",
      "model_name": "TextModel",
      "state": {
       "description": "Customer ID: ",
       "layout": "IPY_MODEL_82ea0834b7474bcb97d6223e92be2d34",
       "style": "IPY_MODEL_0a3d342e1c0d4b93986bad5c21f5ef99"
      }
     },
     "4ea4d1687b6a4f188986c1f5546807e5": {
      "model_module": "@jupyter-widgets/controls",
      "model_module_version": "2.0.0",
      "model_name": "CheckboxModel",
      "state": {
       "description": "Don't split in batches",
       "disabled": false,
       "layout": "IPY_MODEL_eaf1e7db037249be8e6bf37733b6be91",
       "style": "IPY_MODEL_fdc6dc8d8e5f4d4dbdaca752d0fe451a",
       "value": false
      }
     },
     "4f12946d98d34e0b8a2d3717c68276c5": {
      "model_module": "@jupyter-widgets/base",
      "model_module_version": "2.0.0",
      "model_name": "LayoutModel",
      "state": {
       "width": "40%"
      }
     },
     "4f8234a7a2394a3db01ad716735b172b": {
      "model_module": "@jupyter-widgets/controls",
      "model_module_version": "2.0.0",
      "model_name": "CheckboxStyleModel",
      "state": {
       "description_width": ""
      }
     },
     "4fd9a24076854bd1ad0c8e106a85cb49": {
      "model_module": "@jupyter-widgets/controls",
      "model_module_version": "2.0.0",
      "model_name": "ButtonModel",
      "state": {
       "description": "Login",
       "layout": "IPY_MODEL_f7652e8726ec4a5d94a05da09e8ee960",
       "style": "IPY_MODEL_4909a59159864376b67e3f60a8ad0d1b",
       "tooltip": null
      }
     },
     "5032a0d2ffa14e0c83d3a3838ce9d642": {
      "model_module": "@jupyter-widgets/controls",
      "model_module_version": "2.0.0",
      "model_name": "ButtonModel",
      "state": {
       "description": "Start export",
       "layout": "IPY_MODEL_1622ffbaeac943d98d0b75b798c6c72f",
       "style": "IPY_MODEL_02b1afe8463b440085c1cc7308068766",
       "tooltip": null
      }
     },
     "50c05babd8d84dea9cfdbb14f2314027": {
      "model_module": "@jupyter-widgets/controls",
      "model_module_version": "2.0.0",
      "model_name": "ButtonModel",
      "state": {
       "description": "Login",
       "layout": "IPY_MODEL_729b97f759e74bea8c6e64bafcbdc2f8",
       "style": "IPY_MODEL_59856fcd6d26439fb8adad4f70ede4f4",
       "tooltip": null
      }
     },
     "512384d0808f46d4871df65aa2a09734": {
      "model_module": "@jupyter-widgets/base",
      "model_module_version": "2.0.0",
      "model_name": "LayoutModel",
      "state": {
       "width": "95%"
      }
     },
     "522d5332fd6347f49025d272162fcf36": {
      "model_module": "@jupyter-widgets/base",
      "model_module_version": "2.0.0",
      "model_name": "LayoutModel",
      "state": {}
     },
     "524333ed4aac4acaa56e0dd1687e3fe4": {
      "model_module": "@jupyter-widgets/base",
      "model_module_version": "2.0.0",
      "model_name": "LayoutModel",
      "state": {
       "width": "90%"
      }
     },
     "524fb9355a514419991cb479d09a3ccb": {
      "model_module": "@jupyter-widgets/base",
      "model_module_version": "2.0.0",
      "model_name": "LayoutModel",
      "state": {}
     },
     "52980398487247208e466035ab552c22": {
      "model_module": "@jupyter-widgets/controls",
      "model_module_version": "2.0.0",
      "model_name": "TextStyleModel",
      "state": {
       "description_width": "",
       "font_size": null,
       "text_color": null
      }
     },
     "5305492e8a09460899e0bf8eef45eace": {
      "model_module": "@jupyter-widgets/controls",
      "model_module_version": "2.0.0",
      "model_name": "TextStyleModel",
      "state": {
       "description_width": "",
       "font_size": null,
       "text_color": null
      }
     },
     "536aa84d0f07480f998c11c55c3c23ca": {
      "model_module": "@jupyter-widgets/controls",
      "model_module_version": "2.0.0",
      "model_name": "DescriptionStyleModel",
      "state": {
       "description_width": ""
      }
     },
     "5371e2612a514f808cbd761f81c195b7": {
      "model_module": "@jupyter-widgets/base",
      "model_module_version": "2.0.0",
      "model_name": "LayoutModel",
      "state": {
       "width": "90%"
      }
     },
     "5383e3afd0874342bc77be26913333e9": {
      "model_module": "@jupyter-widgets/base",
      "model_module_version": "2.0.0",
      "model_name": "LayoutModel",
      "state": {}
     },
     "539262d7ff4d4e1dac176b9a10c2aceb": {
      "model_module": "@jupyter-widgets/base",
      "model_module_version": "2.0.0",
      "model_name": "LayoutModel",
      "state": {}
     },
     "53a3f9882c9643649e40f3ea26d39f97": {
      "model_module": "@jupyter-widgets/base",
      "model_module_version": "2.0.0",
      "model_name": "LayoutModel",
      "state": {
       "width": "90%"
      }
     },
     "53d7e4b8e4f245a3aebf460ccd4b1421": {
      "model_module": "@jupyter-widgets/controls",
      "model_module_version": "2.0.0",
      "model_name": "CheckboxModel",
      "state": {
       "description": "ZIP export (must be .json, .csv)",
       "disabled": false,
       "layout": "IPY_MODEL_6fa06130cd724df6b56e714d2612b7c2",
       "style": "IPY_MODEL_072675f5a0c942ba9ef97a0e2dabf8c9",
       "value": false
      }
     },
     "53f0451808d74f7cb99343098525b111": {
      "model_module": "@jupyter-widgets/controls",
      "model_module_version": "2.0.0",
      "model_name": "TextStyleModel",
      "state": {
       "description_width": "",
       "font_size": null,
       "text_color": null
      }
     },
     "54282621fae04cc79c43e49568be572b": {
      "model_module": "@jupyter-widgets/controls",
      "model_module_version": "2.0.0",
      "model_name": "IntTextModel",
      "state": {
       "description": "Max rows",
       "layout": "IPY_MODEL_d7b4c742a01b4fb3971c63b48b99da2c",
       "step": 1,
       "style": "IPY_MODEL_c35409e837844708a06f7dceeb1ad12d"
      }
     },
     "54523d7e0e0146439f58a04f885ee83a": {
      "model_module": "@jupyter-widgets/base",
      "model_module_version": "2.0.0",
      "model_name": "LayoutModel",
      "state": {}
     },
     "545984878b3d459ba6c00e05435489d1": {
      "model_module": "@jupyter-widgets/controls",
      "model_module_version": "2.0.0",
      "model_name": "ButtonStyleModel",
      "state": {
       "font_family": null,
       "font_size": null,
       "font_style": null,
       "font_variant": null,
       "font_weight": null,
       "text_color": null,
       "text_decoration": null
      }
     },
     "548f85bd27bf4ac088ed683514c544f9": {
      "model_module": "@jupyter-widgets/controls",
      "model_module_version": "2.0.0",
      "model_name": "DescriptionStyleModel",
      "state": {
       "description_width": ""
      }
     },
     "55054603f9f9457dac67c27ddc148fc4": {
      "model_module": "@jupyter-widgets/controls",
      "model_module_version": "2.0.0",
      "model_name": "IntTextModel",
      "state": {
       "description": "Max rows",
       "layout": "IPY_MODEL_85a6ed0567e14c55856c1055c2f0fc86",
       "step": 1,
       "style": "IPY_MODEL_d3369a3e485148678f08a6f8aea969bc"
      }
     },
     "55ab99ae1be04b4aae53172f07ae2d67": {
      "model_module": "@jupyter-widgets/controls",
      "model_module_version": "2.0.0",
      "model_name": "TextModel",
      "state": {
       "description": "Output Path",
       "layout": "IPY_MODEL_70cd708fa34249519559dc40020b9ebd",
       "style": "IPY_MODEL_6c4b4c487e3c493697d762add88b02af"
      }
     },
     "5664e63479c142aead92cc6aa243ae5f": {
      "model_module": "@jupyter-widgets/base",
      "model_module_version": "2.0.0",
      "model_name": "LayoutModel",
      "state": {}
     },
     "5681b7f9410b45fb983eec6bd5a921b2": {
      "model_module": "@jupyter-widgets/controls",
      "model_module_version": "2.0.0",
      "model_name": "CheckboxModel",
      "state": {
       "description": "Allow overwrite",
       "disabled": false,
       "layout": "IPY_MODEL_e1489848b11e404286e538b59f7ec804",
       "style": "IPY_MODEL_1e84a8fd97a744b19ce5bebf6f32ce38",
       "value": false
      }
     },
     "56c0df454128466fba9871644a3e9dee": {
      "model_module": "@jupyter-widgets/output",
      "model_module_version": "1.0.0",
      "model_name": "OutputModel",
      "state": {
       "layout": "IPY_MODEL_381a3272166b4597b77a3d9b04b276f1"
      }
     },
     "57326b8159b6477a80098e3e904cf68b": {
      "model_module": "@jupyter-widgets/controls",
      "model_module_version": "2.0.0",
      "model_name": "CheckboxModel",
      "state": {
       "description": "Remove duplicates",
       "disabled": false,
       "layout": "IPY_MODEL_ee0bb801df8e4291940d6401e6343fa6",
       "style": "IPY_MODEL_6067b9428a1c417ebacb509a4ec34f2c",
       "value": false
      }
     },
     "574f16281bb345e8ab636b4ae5b9d82b": {
      "model_module": "@jupyter-widgets/controls",
      "model_module_version": "2.0.0",
      "model_name": "ButtonModel",
      "state": {
       "description": "Start export",
       "layout": "IPY_MODEL_339e04348d3f4bd7aba3f64e72a1bf74",
       "style": "IPY_MODEL_0d141af37e9544d69c2b7ff1f1d6638b",
       "tooltip": null
      }
     },
     "58a906fdf73c491589eb625562cec1ae": {
      "model_module": "@jupyter-widgets/controls",
      "model_module_version": "2.0.0",
      "model_name": "DescriptionStyleModel",
      "state": {
       "description_width": ""
      }
     },
     "58afe38431884f5bba0c6a97b774c557": {
      "model_module": "@jupyter-widgets/controls",
      "model_module_version": "2.0.0",
      "model_name": "CheckboxStyleModel",
      "state": {
       "description_width": ""
      }
     },
     "58caae1b0e824abb8468d7169a8f4b4f": {
      "model_module": "@jupyter-widgets/controls",
      "model_module_version": "2.0.0",
      "model_name": "ButtonStyleModel",
      "state": {
       "font_family": null,
       "font_size": null,
       "font_style": null,
       "font_variant": null,
       "font_weight": null,
       "text_color": null,
       "text_decoration": null
      }
     },
     "58d03c6463a9421a9890034f01a2dbe1": {
      "model_module": "@jupyter-widgets/base",
      "model_module_version": "2.0.0",
      "model_name": "LayoutModel",
      "state": {}
     },
     "58d38824f5964a64a6294c85895735fd": {
      "model_module": "@jupyter-widgets/base",
      "model_module_version": "2.0.0",
      "model_name": "LayoutModel",
      "state": {}
     },
     "5949a844984e426ca665ff949802424f": {
      "model_module": "@jupyter-widgets/base",
      "model_module_version": "2.0.0",
      "model_name": "LayoutModel",
      "state": {
       "width": "90%"
      }
     },
     "595e6302c0eb45d889e14b32880387fb": {
      "model_module": "@jupyter-widgets/controls",
      "model_module_version": "2.0.0",
      "model_name": "TextModel",
      "state": {
       "description": "Input Path",
       "layout": "IPY_MODEL_c81fb08ea3d243a686ed2d4d2a9604b7",
       "style": "IPY_MODEL_e833b78286d64d3086db127791ed9aeb",
       "tooltip": "Path to input directory or archive"
      }
     },
     "59663124ca0545d7bdaa6d6f4482c71b": {
      "model_module": "@jupyter-widgets/controls",
      "model_module_version": "2.0.0",
      "model_name": "TextModel",
      "state": {
       "description": "Customer ID: ",
       "layout": "IPY_MODEL_94a973dbac4043bfb35a31ea039bd54f",
       "style": "IPY_MODEL_3499631fb6f04be8b0e3f31ea9d676f4"
      }
     },
     "596673563bb74cd7bd25c3ab48bb5212": {
      "model_module": "@jupyter-widgets/base",
      "model_module_version": "2.0.0",
      "model_name": "LayoutModel",
      "state": {
       "width": "95%"
      }
     },
     "59856fcd6d26439fb8adad4f70ede4f4": {
      "model_module": "@jupyter-widgets/controls",
      "model_module_version": "2.0.0",
      "model_name": "ButtonStyleModel",
      "state": {
       "font_family": null,
       "font_size": null,
       "font_style": null,
       "font_variant": null,
       "font_weight": null,
       "text_color": null,
       "text_decoration": null
      }
     },
     "5989225faca94eef9dd53e50e7555054": {
      "model_module": "@jupyter-widgets/controls",
      "model_module_version": "2.0.0",
      "model_name": "DescriptionStyleModel",
      "state": {
       "description_width": ""
      }
     },
     "5a0b392b02ae40b383d01069d579b0e7": {
      "model_module": "@jupyter-widgets/base",
      "model_module_version": "2.0.0",
      "model_name": "LayoutModel",
      "state": {}
     },
     "5a30a9fc4f9f412287a44e109aca24ff": {
      "model_module": "@jupyter-widgets/controls",
      "model_module_version": "2.0.0",
      "model_name": "CheckboxModel",
      "state": {
       "description": "Allow overwrite",
       "disabled": false,
       "layout": "IPY_MODEL_280907340c4643868f4ba829d04c20f6",
       "style": "IPY_MODEL_80684d40bbb2494496ad9acee3ebc352",
       "value": false
      }
     },
     "5a6dce6cf440427a81813f27e6e120e6": {
      "model_module": "@jupyter-widgets/controls",
      "model_module_version": "2.0.0",
      "model_name": "DescriptionStyleModel",
      "state": {
       "description_width": ""
      }
     },
     "5aff21ffcc12492592b1feccad88bb40": {
      "model_module": "@jupyter-widgets/base",
      "model_module_version": "2.0.0",
      "model_name": "LayoutModel",
      "state": {
       "width": "95%"
      }
     },
     "5b30a174ccbb45b08f2c973ee0c25c69": {
      "model_module": "@jupyter-widgets/base",
      "model_module_version": "2.0.0",
      "model_name": "LayoutModel",
      "state": {}
     },
     "5bcc248d97fd4f4ca5fec6dbc29437e6": {
      "model_module": "@jupyter-widgets/controls",
      "model_module_version": "2.0.0",
      "model_name": "HBoxModel",
      "state": {
       "children": [
        "IPY_MODEL_1f9b3d10959346deb1199de903dff351",
        "IPY_MODEL_30533b7f6b8044079e358418b5131726"
       ],
       "layout": "IPY_MODEL_8a64f9bb23494d66a9a711980476b591"
      }
     },
     "5c092f9dfd1345a2a86f6b5923411c41": {
      "model_module": "@jupyter-widgets/controls",
      "model_module_version": "2.0.0",
      "model_name": "TextModel",
      "state": {
       "description": "Input Path",
       "layout": "IPY_MODEL_512384d0808f46d4871df65aa2a09734",
       "style": "IPY_MODEL_1a65d0f61add42d6906631cb38fb607d",
       "tooltip": "Path to input directory or archive"
      }
     },
     "5c11caf2cd9a444ba3aa00e684093e55": {
      "model_module": "@jupyter-widgets/base",
      "model_module_version": "2.0.0",
      "model_name": "LayoutModel",
      "state": {}
     },
     "5c6292ef3c5b4637ba24330e484ecd51": {
      "model_module": "@jupyter-widgets/controls",
      "model_module_version": "2.0.0",
      "model_name": "TextStyleModel",
      "state": {
       "description_width": "",
       "font_size": null,
       "text_color": null
      }
     },
     "5c6aaf8e640f4dfa935117759af65062": {
      "model_module": "@jupyter-widgets/base",
      "model_module_version": "2.0.0",
      "model_name": "LayoutModel",
      "state": {
       "width": "95%"
      }
     },
     "5d002ed2785149509695d85462416940": {
      "model_module": "@jupyter-widgets/base",
      "model_module_version": "2.0.0",
      "model_name": "LayoutModel",
      "state": {
       "width": "95%"
      }
     },
     "5d131e7cbf954114abc7d33322671f17": {
      "model_module": "@jupyter-widgets/base",
      "model_module_version": "2.0.0",
      "model_name": "LayoutModel",
      "state": {}
     },
     "5d30f93a5e884a999f2eca2f1e0040ce": {
      "model_module": "@jupyter-widgets/controls",
      "model_module_version": "2.0.0",
      "model_name": "CheckboxStyleModel",
      "state": {
       "description_width": ""
      }
     },
     "5d51cb21363e4c32a71329bcbe85ae8d": {
      "model_module": "@jupyter-widgets/controls",
      "model_module_version": "2.0.0",
      "model_name": "CheckboxModel",
      "state": {
       "description": "ZIP export (must be .json, .csv)",
       "disabled": false,
       "layout": "IPY_MODEL_dceb6086e5eb4edf94347530f507b24f",
       "style": "IPY_MODEL_bbca61f7858f4b3d9d81e2e851e3724c",
       "value": false
      }
     },
     "5dc43c9b63e44d24830449f79d59370c": {
      "model_module": "@jupyter-widgets/controls",
      "model_module_version": "2.0.0",
      "model_name": "ButtonStyleModel",
      "state": {
       "font_family": null,
       "font_size": null,
       "font_style": null,
       "font_variant": null,
       "font_weight": null,
       "text_color": null,
       "text_decoration": null
      }
     },
     "5ddd77da0ccd4ce5b5fa6f122d3c3992": {
      "model_module": "@jupyter-widgets/controls",
      "model_module_version": "2.0.0",
      "model_name": "IntTextModel",
      "state": {
       "description": "Max count:",
       "layout": "IPY_MODEL_655dc4c27998442ebd2a37c436a9012b",
       "step": 1,
       "style": "IPY_MODEL_6eccb0f06b8f411d88df9b8a51534799"
      }
     },
     "5de814cfd7f3419c8ad192c32d74ccad": {
      "model_module": "@jupyter-widgets/base",
      "model_module_version": "2.0.0",
      "model_name": "LayoutModel",
      "state": {
       "width": "40%"
      }
     },
     "5e10f7eae08543b99efa9572b1a38e5f": {
      "model_module": "@jupyter-widgets/controls",
      "model_module_version": "2.0.0",
      "model_name": "ButtonStyleModel",
      "state": {
       "font_family": null,
       "font_size": null,
       "font_style": null,
       "font_variant": null,
       "font_weight": null,
       "text_color": null,
       "text_decoration": null
      }
     },
     "5ec1fecee2ae46f1a549b28cfff61f09": {
      "model_module": "@jupyter-widgets/base",
      "model_module_version": "2.0.0",
      "model_name": "LayoutModel",
      "state": {}
     },
     "5f2b684ac64f48c5a978a253121be36a": {
      "model_module": "@jupyter-widgets/controls",
      "model_module_version": "2.0.0",
      "model_name": "IntTextModel",
      "state": {
       "description": "Max count:",
       "layout": "IPY_MODEL_a68f48238b2d4089a29440905d10e5ae",
       "step": 1,
       "style": "IPY_MODEL_9975ad4b4187462eb1f06f63cdced6c7"
      }
     },
     "60016ff6b62d4bcd9493f72bd17f4a54": {
      "model_module": "@jupyter-widgets/controls",
      "model_module_version": "2.0.0",
      "model_name": "HBoxModel",
      "state": {
       "children": [
        "IPY_MODEL_a5a9ee10a31f4cccaf104bd5b61d107f",
        "IPY_MODEL_6330593299e140dd8f0627031ab967c9"
       ],
       "layout": "IPY_MODEL_a34caf53294b4bb8b2cf83d7dfc40f41"
      }
     },
     "6067b9428a1c417ebacb509a4ec34f2c": {
      "model_module": "@jupyter-widgets/controls",
      "model_module_version": "2.0.0",
      "model_name": "CheckboxStyleModel",
      "state": {
       "description_width": ""
      }
     },
     "606e3f441aa444d5beee3af14e705e96": {
      "model_module": "@jupyter-widgets/controls",
      "model_module_version": "2.0.0",
      "model_name": "IntTextModel",
      "state": {
       "description": "Skip rows",
       "layout": "IPY_MODEL_7a8bae809dfc4a86b18e0ec04c538f74",
       "step": 1,
       "style": "IPY_MODEL_d54e7a3313a54697bcebd0c2beca679a"
      }
     },
     "6095c7f800744dd4bbd73732469e1fe3": {
      "model_module": "@jupyter-widgets/controls",
      "model_module_version": "2.0.0",
      "model_name": "TextStyleModel",
      "state": {
       "description_width": "",
       "font_size": null,
       "text_color": null
      }
     },
     "60bbf7498e354bc185db7c1abb6f5414": {
      "model_module": "@jupyter-widgets/controls",
      "model_module_version": "2.0.0",
      "model_name": "ButtonStyleModel",
      "state": {
       "font_family": null,
       "font_size": null,
       "font_style": null,
       "font_variant": null,
       "font_weight": null,
       "text_color": null,
       "text_decoration": null
      }
     },
     "612e7765760948c898e870a488290809": {
      "model_module": "@jupyter-widgets/controls",
      "model_module_version": "2.0.0",
      "model_name": "ButtonModel",
      "state": {
       "description": "Start archiving",
       "layout": "IPY_MODEL_7aec20f5f65c4719b1768ebbab27a79e",
       "style": "IPY_MODEL_7e47ba2f0acb41ddbff10cfb4c7d6f46",
       "tooltip": null
      }
     },
     "61a953ca749c444d89206b32a182c40e": {
      "model_module": "@jupyter-widgets/controls",
      "model_module_version": "2.0.0",
      "model_name": "TextStyleModel",
      "state": {
       "description_width": "",
       "font_size": null,
       "text_color": null
      }
     },
     "6211c00f7dce4ef7bd1dcbee5530055e": {
      "model_module": "@jupyter-widgets/controls",
      "model_module_version": "2.0.0",
      "model_name": "ButtonModel",
      "state": {
       "description": "Start archiving",
       "layout": "IPY_MODEL_ef4c613c95c84080bfde66c774a3f5f8",
       "style": "IPY_MODEL_5e10f7eae08543b99efa9572b1a38e5f",
       "tooltip": null
      }
     },
     "624ae789604348a2bef37c3e7de335c6": {
      "model_module": "@jupyter-widgets/controls",
      "model_module_version": "2.0.0",
      "model_name": "ButtonModel",
      "state": {
       "description": "Start export",
       "layout": "IPY_MODEL_0e9c0c5278394bd48423625701b74285",
       "style": "IPY_MODEL_93d4b605d0dc4783b27b390a89985d75",
       "tooltip": null
      }
     },
     "625ad43d24384d5bbe0848bc460c0a79": {
      "model_module": "@jupyter-widgets/base",
      "model_module_version": "2.0.0",
      "model_name": "LayoutModel",
      "state": {}
     },
     "6276c79914e74c51a7d7cd17f71a8ee7": {
      "model_module": "@jupyter-widgets/controls",
      "model_module_version": "2.0.0",
      "model_name": "DescriptionStyleModel",
      "state": {
       "description_width": ""
      }
     },
     "6330593299e140dd8f0627031ab967c9": {
      "model_module": "@jupyter-widgets/controls",
      "model_module_version": "2.0.0",
      "model_name": "CheckboxModel",
      "state": {
       "description": "Allow overwrite",
       "disabled": false,
       "layout": "IPY_MODEL_ed1a7616b39b4347935526ba23277256",
       "style": "IPY_MODEL_ec51959cddd142ddac9dcee55656a38d",
       "value": false
      }
     },
     "635693836b7148309bc0803e2d03fb0e": {
      "model_module": "@jupyter-widgets/controls",
      "model_module_version": "2.0.0",
      "model_name": "DescriptionStyleModel",
      "state": {
       "description_width": ""
      }
     },
     "63784eee5be24bd4918842d6ebdee647": {
      "model_module": "@jupyter-widgets/controls",
      "model_module_version": "2.0.0",
      "model_name": "ButtonModel",
      "state": {
       "description": "Start export",
       "layout": "IPY_MODEL_e77e2153e4a3433eb5ac104ca3e419c1",
       "style": "IPY_MODEL_4419130d8432455db00e0f6d6acb6c0c",
       "tooltip": null
      }
     },
     "63b43f7d47874b399f09d97b81fea996": {
      "model_module": "@jupyter-widgets/base",
      "model_module_version": "2.0.0",
      "model_name": "LayoutModel",
      "state": {}
     },
     "64b47c782c674a8ca00c9d1ce936219d": {
      "model_module": "@jupyter-widgets/controls",
      "model_module_version": "2.0.0",
      "model_name": "CheckboxStyleModel",
      "state": {
       "description_width": ""
      }
     },
     "64f10310f1d247fc9898ccca4b0d100b": {
      "model_module": "@jupyter-widgets/base",
      "model_module_version": "2.0.0",
      "model_name": "LayoutModel",
      "state": {}
     },
     "655caeedff39450bbb6b865b59f0c525": {
      "model_module": "@jupyter-widgets/controls",
      "model_module_version": "2.0.0",
      "model_name": "CheckboxModel",
      "state": {
       "description": "Allow overwrite",
       "disabled": false,
       "layout": "IPY_MODEL_5ec1fecee2ae46f1a549b28cfff61f09",
       "style": "IPY_MODEL_8813b2d7205c4067ae04c06d64f9cb12",
       "value": false
      }
     },
     "655dc4c27998442ebd2a37c436a9012b": {
      "model_module": "@jupyter-widgets/base",
      "model_module_version": "2.0.0",
      "model_name": "LayoutModel",
      "state": {}
     },
     "658363424bde4cee976b138db8ad55ff": {
      "model_module": "@jupyter-widgets/controls",
      "model_module_version": "2.0.0",
      "model_name": "PasswordModel",
      "state": {
       "description": "Password: ",
       "layout": "IPY_MODEL_1b7b80d4c76e4096b7fb843a18251daa",
       "style": "IPY_MODEL_0d2b7076befa403c9971fc709c74dec4"
      }
     },
     "6604b9b9a358492d886b840c81e5e01e": {
      "model_module": "@jupyter-widgets/controls",
      "model_module_version": "2.0.0",
      "model_name": "CheckboxModel",
      "state": {
       "description": "Remove duplicates",
       "disabled": false,
       "layout": "IPY_MODEL_58d38824f5964a64a6294c85895735fd",
       "style": "IPY_MODEL_d89d910b53c34d76b753ec74ec06ddf6",
       "value": false
      }
     },
     "663334242e284cd4bbf9c45d0612da45": {
      "model_module": "@jupyter-widgets/controls",
      "model_module_version": "2.0.0",
      "model_name": "TextModel",
      "state": {
       "description": "Customer ID: ",
       "layout": "IPY_MODEL_522d5332fd6347f49025d272162fcf36",
       "style": "IPY_MODEL_db60f4c286d54224add58ef4864efe09"
      }
     },
     "66732415f515428999021979dac2acde": {
      "model_module": "@jupyter-widgets/controls",
      "model_module_version": "2.0.0",
      "model_name": "TextModel",
      "state": {
       "description": "Input Path",
       "layout": "IPY_MODEL_d849a2c0ca9140f4a3c7b6187c12ae6d",
       "style": "IPY_MODEL_9e42d97cb0f6473291e1c57de73101c0",
       "tooltip": "Path to input directory or archive"
      }
     },
     "66fea623d6ca4d17b31b9495eab25c3b": {
      "model_module": "@jupyter-widgets/base",
      "model_module_version": "2.0.0",
      "model_name": "LayoutModel",
      "state": {}
     },
     "67180359cb0f447597f604cde79539a2": {
      "model_module": "@jupyter-widgets/controls",
      "model_module_version": "2.0.0",
      "model_name": "DescriptionStyleModel",
      "state": {
       "description_width": ""
      }
     },
     "6809ba31b25e46d5bee37eb332957f86": {
      "model_module": "@jupyter-widgets/base",
      "model_module_version": "2.0.0",
      "model_name": "LayoutModel",
      "state": {
       "width": "90%"
      }
     },
     "68134bbad86c478ea111310896f6a87f": {
      "model_module": "@jupyter-widgets/controls",
      "model_module_version": "2.0.0",
      "model_name": "TextModel",
      "state": {
       "description": "Output Path",
       "layout": "IPY_MODEL_761b55a549884ae99ce6a517f935d72e",
       "style": "IPY_MODEL_4c65536342c54d4aa30d65278389d1bd"
      }
     },
     "68394a4149204a42afb9c5ef55576a87": {
      "model_module": "@jupyter-widgets/base",
      "model_module_version": "2.0.0",
      "model_name": "LayoutModel",
      "state": {
       "width": "95%"
      }
     },
     "6846718bb8834413986717228eef3dd0": {
      "model_module": "@jupyter-widgets/base",
      "model_module_version": "2.0.0",
      "model_name": "LayoutModel",
      "state": {}
     },
     "68aad2f06acf471e9dd8f03e56460f04": {
      "model_module": "@jupyter-widgets/base",
      "model_module_version": "2.0.0",
      "model_name": "LayoutModel",
      "state": {}
     },
     "68f775f974914b7dbc77c4abbe5157af": {
      "model_module": "@jupyter-widgets/controls",
      "model_module_version": "2.0.0",
      "model_name": "CheckboxModel",
      "state": {
       "description": "Allow overwrite",
       "disabled": false,
       "layout": "IPY_MODEL_b80ec04233874f15a76b9ebd5e93c8fe",
       "style": "IPY_MODEL_13384cf4057c45e6be63df3ab2c52098",
       "value": false
      }
     },
     "6930bdbef5dd49ee95aba93b7170d13b": {
      "model_module": "@jupyter-widgets/controls",
      "model_module_version": "2.0.0",
      "model_name": "CheckboxModel",
      "state": {
       "description": "ZIP export (must be .json, .csv)",
       "disabled": false,
       "layout": "IPY_MODEL_8b83723bd15b4a5eadcf314aff925ea0",
       "style": "IPY_MODEL_c892793583fd4717ab6b91ec9798aa01",
       "value": false
      }
     },
     "694056f9f0cd41f9921b84e0e0f51487": {
      "model_module": "@jupyter-widgets/controls",
      "model_module_version": "2.0.0",
      "model_name": "HBoxModel",
      "state": {
       "children": [
        "IPY_MODEL_6b8b60b7d3a1418c8e62de8403037132",
        "IPY_MODEL_57326b8159b6477a80098e3e904cf68b",
        "IPY_MODEL_6930bdbef5dd49ee95aba93b7170d13b"
       ],
       "layout": "IPY_MODEL_ae69116b34cf4d45bb606657154bfd11"
      }
     },
     "696bed689f15447697197cdceebfae35": {
      "model_module": "@jupyter-widgets/controls",
      "model_module_version": "2.0.0",
      "model_name": "TextModel",
      "state": {
       "description": "Input Path",
       "layout": "IPY_MODEL_3eb598c755764905af49b7f12fa0bb57",
       "style": "IPY_MODEL_fee69356dd9a4ee1b55cd1a4fbd2fd4a",
       "tooltip": "Path to input directory or archive"
      }
     },
     "69b7edc4be2a426190e8dc5dc592989d": {
      "model_module": "@jupyter-widgets/controls",
      "model_module_version": "2.0.0",
      "model_name": "DescriptionStyleModel",
      "state": {
       "description_width": ""
      }
     },
     "6aa97505c0be4e8caa91bb5ff2824cd3": {
      "model_module": "@jupyter-widgets/base",
      "model_module_version": "2.0.0",
      "model_name": "LayoutModel",
      "state": {
       "width": "90%"
      }
     },
     "6b6a6979f87443a2845d3a60f5b64caa": {
      "model_module": "@jupyter-widgets/controls",
      "model_module_version": "2.0.0",
      "model_name": "HBoxModel",
      "state": {
       "children": [
        "IPY_MODEL_c51b21d90d9c49f588e04d20042901d6",
        "IPY_MODEL_f548dc352fe54380b8337cba8fa024ab",
        "IPY_MODEL_54282621fae04cc79c43e49568be572b"
       ],
       "layout": "IPY_MODEL_30f1b9cb18d341b4b734ba934c9a7164"
      }
     },
     "6b8b60b7d3a1418c8e62de8403037132": {
      "model_module": "@jupyter-widgets/controls",
      "model_module_version": "2.0.0",
      "model_name": "CheckboxModel",
      "state": {
       "description": "Allow overwrite",
       "disabled": false,
       "layout": "IPY_MODEL_5383e3afd0874342bc77be26913333e9",
       "style": "IPY_MODEL_cef6891d94f3434e919f31eafc7b32ea",
       "value": false
      }
     },
     "6b92be80044b42178a954b54ecaf0670": {
      "model_module": "@jupyter-widgets/controls",
      "model_module_version": "2.0.0",
      "model_name": "TextModel",
      "state": {
       "description": "Output Path:",
       "layout": "IPY_MODEL_f912811e72de4cabb681b07ce28a4345",
       "style": "IPY_MODEL_d5d7e158cd8d4d71a1db8a37828fe360"
      }
     },
     "6b944bb9237b40288d2ea04c40852585": {
      "model_module": "@jupyter-widgets/controls",
      "model_module_version": "2.0.0",
      "model_name": "DropdownModel",
      "state": {
       "_options_labels": [
        "cases",
        "charges",
        "disposition",
        "filing",
        "fees"
       ],
       "description": "Table:",
       "index": 0,
       "layout": "IPY_MODEL_9a8065773fe94c95b4e7eee11ee5e35f",
       "style": "IPY_MODEL_548f85bd27bf4ac088ed683514c544f9"
      }
     },
     "6baf68e6a16645389340158ff3c58759": {
      "model_module": "@jupyter-widgets/controls",
      "model_module_version": "2.0.0",
      "model_name": "ButtonModel",
      "state": {
       "description": "Start export",
       "layout": "IPY_MODEL_78b74025834245e29c92bc48ae922c52",
       "style": "IPY_MODEL_c38046e4ec05492e9dc2dc5b50f8e246",
       "tooltip": null
      }
     },
     "6c4b4c487e3c493697d762add88b02af": {
      "model_module": "@jupyter-widgets/controls",
      "model_module_version": "2.0.0",
      "model_name": "TextStyleModel",
      "state": {
       "description_width": "",
       "font_size": null,
       "text_color": null
      }
     },
     "6c71839d373142a7a44503fa3f616c31": {
      "model_module": "@jupyter-widgets/controls",
      "model_module_version": "2.0.0",
      "model_name": "TextModel",
      "state": {
       "description": "Input Path",
       "layout": "IPY_MODEL_5aff21ffcc12492592b1feccad88bb40",
       "style": "IPY_MODEL_385090831f1340988300bbe918754bc1",
       "tooltip": "Path to input directory or archive"
      }
     },
     "6c7b05172674411c95209d5fdf613394": {
      "model_module": "@jupyter-widgets/base",
      "model_module_version": "2.0.0",
      "model_name": "LayoutModel",
      "state": {
       "width": "90%"
      }
     },
     "6cd6a6a761ba4ab7b32979a2dc1614eb": {
      "model_module": "@jupyter-widgets/controls",
      "model_module_version": "2.0.0",
      "model_name": "HBoxModel",
      "state": {
       "children": [
        "IPY_MODEL_14aeb8a11ad540ae94d6687969fd5276",
        "IPY_MODEL_5681b7f9410b45fb983eec6bd5a921b2"
       ],
       "layout": "IPY_MODEL_de26c52c0957413cb0b19ba478f27be8"
      }
     },
     "6d0aaf90f4a348c983763a53b451e47d": {
      "model_module": "@jupyter-widgets/base",
      "model_module_version": "2.0.0",
      "model_name": "LayoutModel",
      "state": {}
     },
     "6d73a362e0db47969ecf8fdeb139ec17": {
      "model_module": "@jupyter-widgets/base",
      "model_module_version": "2.0.0",
      "model_name": "LayoutModel",
      "state": {
       "width": "95%"
      }
     },
     "6dcd18edf1e048bfacae6fb0ba7bf3d1": {
      "model_module": "@jupyter-widgets/controls",
      "model_module_version": "2.0.0",
      "model_name": "DescriptionStyleModel",
      "state": {
       "description_width": ""
      }
     },
     "6dcf57a5bc4c4485b3dde8ee7e9c8e36": {
      "model_module": "@jupyter-widgets/controls",
      "model_module_version": "2.0.0",
      "model_name": "HBoxModel",
      "state": {
       "children": [
        "IPY_MODEL_734289eedae14e929249ec309e2e8ce6",
        "IPY_MODEL_d55feafa282d44a3a856c5b6f502ccb6",
        "IPY_MODEL_2587be98d4db47cebaf9e70e4a4af20e"
       ],
       "layout": "IPY_MODEL_edf33cfcc1924880889cc17c4c10f517"
      }
     },
     "6dda602970954107bf7db85cdc3c05ef": {
      "model_module": "@jupyter-widgets/controls",
      "model_module_version": "2.0.0",
      "model_name": "HTMLModel",
      "state": {
       "layout": "IPY_MODEL_8f1bf633ffe04c0399b9967f91b27b25",
       "style": "IPY_MODEL_00cb6bf08e914103978273f09a95ae42",
       "value": " 27238/27238 [26:15&lt;00:00, 22.35it/s]"
      }
     },
     "6de372fcbc4944129a4c1baa717e7cf5": {
      "model_module": "@jupyter-widgets/controls",
      "model_module_version": "2.0.0",
      "model_name": "CheckboxStyleModel",
      "state": {
       "description_width": ""
      }
     },
     "6e093e0e68a54cbdbde5727cd5d863ff": {
      "model_module": "@jupyter-widgets/controls",
      "model_module_version": "2.0.0",
      "model_name": "ButtonModel",
      "state": {
       "description": "Start export",
       "layout": "IPY_MODEL_6846718bb8834413986717228eef3dd0",
       "style": "IPY_MODEL_5dc43c9b63e44d24830449f79d59370c",
       "tooltip": null
      }
     },
     "6e16a9a026b2491bb9928c858721f37a": {
      "model_module": "@jupyter-widgets/controls",
      "model_module_version": "2.0.0",
      "model_name": "ButtonModel",
      "state": {
       "description": "Start export",
       "layout": "IPY_MODEL_c06dfcbee9814491b11074f7e531ac9b",
       "style": "IPY_MODEL_34848b07e1ba41efa1a89f5fffa07165",
       "tooltip": null
      }
     },
     "6e1f43934fd649e7b0b5000558dc330c": {
      "model_module": "@jupyter-widgets/controls",
      "model_module_version": "2.0.0",
      "model_name": "TextModel",
      "state": {
       "description": "Input Path",
       "layout": "IPY_MODEL_c35dc70aa7b94577a2afb9958461d680",
       "style": "IPY_MODEL_2ff7f05c4f7d456b9295fc223159eada",
       "tooltip": "Path to PDF directory"
      }
     },
     "6e494502b5574645894c51ac37ae8690": {
      "model_module": "@jupyter-widgets/base",
      "model_module_version": "2.0.0",
      "model_name": "LayoutModel",
      "state": {}
     },
     "6e90a721a81b4c2e9a3a23f724f401c4": {
      "model_module": "@jupyter-widgets/controls",
      "model_module_version": "2.0.0",
      "model_name": "TextModel",
      "state": {
       "description": "Input Path:",
       "layout": "IPY_MODEL_9d0231eba73349e58b0ae8876ae4318e",
       "style": "IPY_MODEL_bd6dbb93d4ee486ca25a06d0ddf3aba8",
       "tooltip": "Path to query template spreadsheet (list of names, etc. to search)"
      }
     },
     "6ea36e724e614924af620554f8059bc7": {
      "model_module": "@jupyter-widgets/controls",
      "model_module_version": "2.0.0",
      "model_name": "DescriptionStyleModel",
      "state": {
       "description_width": ""
      }
     },
     "6eccb0f06b8f411d88df9b8a51534799": {
      "model_module": "@jupyter-widgets/controls",
      "model_module_version": "2.0.0",
      "model_name": "DescriptionStyleModel",
      "state": {
       "description_width": ""
      }
     },
     "6eedb6fa40b44210b621eb05e2a9c80d": {
      "model_module": "@jupyter-widgets/controls",
      "model_module_version": "2.0.0",
      "model_name": "TextStyleModel",
      "state": {
       "description_width": "",
       "font_size": null,
       "text_color": null
      }
     },
     "6eef33f1a7aa4f5c9b6ee8cff8688997": {
      "model_module": "@jupyter-widgets/controls",
      "model_module_version": "2.0.0",
      "model_name": "CheckboxModel",
      "state": {
       "description": "Allow overwrite",
       "disabled": false,
       "layout": "IPY_MODEL_329a699273ba42ceada8ce321f8974b7",
       "style": "IPY_MODEL_3822e23cf01b403eacc4aecbe707d521",
       "value": false
      }
     },
     "6ef64fb90a1e4adeb4d6a0324cb55cb2": {
      "model_module": "@jupyter-widgets/controls",
      "model_module_version": "2.0.0",
      "model_name": "TextStyleModel",
      "state": {
       "description_width": "",
       "font_size": null,
       "text_color": null
      }
     },
     "6f4e226af40543b590cb0fd8bd8a765c": {
      "model_module": "@jupyter-widgets/controls",
      "model_module_version": "2.0.0",
      "model_name": "TextModel",
      "state": {
       "description": "Output Path:",
       "layout": "IPY_MODEL_f314b07e0be34701aaf72786142a28d9",
       "style": "IPY_MODEL_fe76439768bf4ff4afdb800c635f9eca"
      }
     },
     "6f6317f51e094a988bb5c9a92d7cc459": {
      "model_module": "@jupyter-widgets/controls",
      "model_module_version": "2.0.0",
      "model_name": "CheckboxStyleModel",
      "state": {
       "description_width": ""
      }
     },
     "6fa06130cd724df6b56e714d2612b7c2": {
      "model_module": "@jupyter-widgets/base",
      "model_module_version": "2.0.0",
      "model_name": "LayoutModel",
      "state": {}
     },
     "7059d2681a7949ffbba3581bfd3f7f9e": {
      "model_module": "@jupyter-widgets/base",
      "model_module_version": "2.0.0",
      "model_name": "LayoutModel",
      "state": {
       "width": "95%"
      }
     },
     "7086bc13223b43ea8bd5453e647b0bf5": {
      "model_module": "@jupyter-widgets/controls",
      "model_module_version": "2.0.0",
      "model_name": "TextStyleModel",
      "state": {
       "description_width": "",
       "font_size": null,
       "text_color": null
      }
     },
     "70cd708fa34249519559dc40020b9ebd": {
      "model_module": "@jupyter-widgets/base",
      "model_module_version": "2.0.0",
      "model_name": "LayoutModel",
      "state": {
       "width": "90%"
      }
     },
     "70ea257d4e9b473aac99b0c5ab72e6bc": {
      "model_module": "@jupyter-widgets/controls",
      "model_module_version": "2.0.0",
      "model_name": "TextModel",
      "state": {
       "description": "Input Path",
       "layout": "IPY_MODEL_39efd4599ba443c7bef1fab5de255a9b",
       "style": "IPY_MODEL_6ef64fb90a1e4adeb4d6a0324cb55cb2",
       "tooltip": "Path to input directory or archive"
      }
     },
     "71267a8265cc41ce9e78fdfec48e2100": {
      "model_module": "@jupyter-widgets/base",
      "model_module_version": "2.0.0",
      "model_name": "LayoutModel",
      "state": {
       "width": "40%"
      }
     },
     "713e6dee9fe24762934d3b5c823e762b": {
      "model_module": "@jupyter-widgets/controls",
      "model_module_version": "2.0.0",
      "model_name": "CheckboxModel",
      "state": {
       "description": "Allow overwrite",
       "disabled": false,
       "layout": "IPY_MODEL_d3e5102f062d41ebac76f21515b99cfb",
       "style": "IPY_MODEL_968c03f5fc1b4bb592afa6ccc237b7b0",
       "value": false
      }
     },
     "71a06913e38d4c08b41abecd01019ab8": {
      "model_module": "@jupyter-widgets/controls",
      "model_module_version": "2.0.0",
      "model_name": "ButtonStyleModel",
      "state": {
       "font_family": null,
       "font_size": null,
       "font_style": null,
       "font_variant": null,
       "font_weight": null,
       "text_color": null,
       "text_decoration": null
      }
     },
     "71ec87a0e2a84d45b2cd2adbf6fdf2b3": {
      "model_module": "@jupyter-widgets/controls",
      "model_module_version": "2.0.0",
      "model_name": "CheckboxStyleModel",
      "state": {
       "description_width": ""
      }
     },
     "721a1158df31469d8a44af8a0e7bbe14": {
      "model_module": "@jupyter-widgets/controls",
      "model_module_version": "2.0.0",
      "model_name": "ButtonModel",
      "state": {
       "description": "Start archiving",
       "layout": "IPY_MODEL_dcc9d04b64ee41a3a81f1c56f2bc1259",
       "style": "IPY_MODEL_a7b776fddfe740bba2710c33055f85e2",
       "tooltip": null
      }
     },
     "72259eb0493f45c0a8a7fcdaff372c40": {
      "model_module": "@jupyter-widgets/controls",
      "model_module_version": "2.0.0",
      "model_name": "DescriptionStyleModel",
      "state": {
       "description_width": ""
      }
     },
     "72547ff214ed47b485bf58c3a6578301": {
      "model_module": "@jupyter-widgets/controls",
      "model_module_version": "2.0.0",
      "model_name": "IntTextModel",
      "state": {
       "description": "Max count:",
       "layout": "IPY_MODEL_1862817b0ca346f181eb2a0599083e10",
       "step": 1,
       "style": "IPY_MODEL_21e2932d3cfc4de9bd25227b33510a5e"
      }
     },
     "729b97f759e74bea8c6e64bafcbdc2f8": {
      "model_module": "@jupyter-widgets/base",
      "model_module_version": "2.0.0",
      "model_name": "LayoutModel",
      "state": {}
     },
     "72a6afb73f9c46d480d06cc254fc3bdd": {
      "model_module": "@jupyter-widgets/output",
      "model_module_version": "1.0.0",
      "model_name": "OutputModel",
      "state": {
       "layout": "IPY_MODEL_be76fceb38064e6d9a0dd2a6b13baf53"
      }
     },
     "72fb0141e6b34840b39088276c78d208": {
      "model_module": "@jupyter-widgets/base",
      "model_module_version": "2.0.0",
      "model_name": "LayoutModel",
      "state": {
       "width": "40%"
      }
     },
     "734289eedae14e929249ec309e2e8ce6": {
      "model_module": "@jupyter-widgets/controls",
      "model_module_version": "2.0.0",
      "model_name": "CheckboxModel",
      "state": {
       "description": "Allow overwrite",
       "disabled": false,
       "layout": "IPY_MODEL_7a8f09c804054347b845d3ef1a2a9840",
       "style": "IPY_MODEL_71ec87a0e2a84d45b2cd2adbf6fdf2b3",
       "value": false
      }
     },
     "73c094ef955447538b821fc1950c50ab": {
      "model_module": "@jupyter-widgets/controls",
      "model_module_version": "2.0.0",
      "model_name": "CheckboxModel",
      "state": {
       "description": "Don't split in batches",
       "disabled": false,
       "layout": "IPY_MODEL_40b623baaff4459aa7c92de0b2aa41a2",
       "style": "IPY_MODEL_d12156d4d75348d0a52efaf0792f894f",
       "value": false
      }
     },
     "73c0dcdc1ed64a6692bc0198f6f17d6d": {
      "model_module": "@jupyter-widgets/base",
      "model_module_version": "2.0.0",
      "model_name": "LayoutModel",
      "state": {
       "width": "95%"
      }
     },
     "740511b953fe448ea3d8c8454a3d443b": {
      "model_module": "@jupyter-widgets/base",
      "model_module_version": "2.0.0",
      "model_name": "LayoutModel",
      "state": {
       "width": "90%"
      }
     },
     "74730fc47dd443e8b4052facdecc9074": {
      "model_module": "@jupyter-widgets/controls",
      "model_module_version": "2.0.0",
      "model_name": "TextModel",
      "state": {
       "description": "Customer ID: ",
       "layout": "IPY_MODEL_c4e9135e781e4710a490a939b789e9f9",
       "style": "IPY_MODEL_bb53845768a14bdd93bfd8bf399ccee2"
      }
     },
     "754f5f245aa242edb02045d1dc42f251": {
      "model_module": "@jupyter-widgets/base",
      "model_module_version": "2.0.0",
      "model_name": "LayoutModel",
      "state": {}
     },
     "75b985db1f9548079e802f07c52dd228": {
      "model_module": "@jupyter-widgets/controls",
      "model_module_version": "2.0.0",
      "model_name": "HBoxModel",
      "state": {
       "children": [
        "IPY_MODEL_2b1d55f8ebf941278f503147312ed107",
        "IPY_MODEL_2645dcb5f3734537aca3440803d40de7"
       ],
       "layout": "IPY_MODEL_20145f080aab458aa4730eb2f7166b24"
      }
     },
     "761b55a549884ae99ce6a517f935d72e": {
      "model_module": "@jupyter-widgets/base",
      "model_module_version": "2.0.0",
      "model_name": "LayoutModel",
      "state": {
       "width": "95%"
      }
     },
     "767f4c3828cf41a8b3ac3e64db952d5e": {
      "model_module": "@jupyter-widgets/controls",
      "model_module_version": "2.0.0",
      "model_name": "TextModel",
      "state": {
       "description": "User ID: ",
       "layout": "IPY_MODEL_a4bf3819e95342a6b040de3d2ea1722d",
       "style": "IPY_MODEL_a19d7558b40a492fabf8364e4198e6e1"
      }
     },
     "768cbe03068d4d82bd9a4a85a1f2d066": {
      "model_module": "@jupyter-widgets/controls",
      "model_module_version": "2.0.0",
      "model_name": "ProgressStyleModel",
      "state": {
       "description_width": ""
      }
     },
     "76a1637b7c014ac2b7570ad7ce0c20ad": {
      "model_module": "@jupyter-widgets/controls",
      "model_module_version": "2.0.0",
      "model_name": "RadioButtonsModel",
      "state": {
       "_options_labels": [
        "cases",
        "charges",
        "disposition",
        "filing",
        "fees"
       ],
       "description": "Table:",
       "index": 0,
       "layout": "IPY_MODEL_185188541c2d45c093b7a485c38ebdd6",
       "style": "IPY_MODEL_1ac02216b1bd4d22b5bbd28c88447fe8"
      }
     },
     "76b2792042b54f5fa184a2802d67fded": {
      "model_module": "@jupyter-widgets/controls",
      "model_module_version": "2.0.0",
      "model_name": "TextStyleModel",
      "state": {
       "description_width": "",
       "font_size": null,
       "text_color": null
      }
     },
     "76ecec4eb21346acaa09a376182e3282": {
      "model_module": "@jupyter-widgets/output",
      "model_module_version": "1.0.0",
      "model_name": "OutputModel",
      "state": {
       "layout": "IPY_MODEL_05168009fbb7492fb4f5889e43e449d7"
      }
     },
     "76f08d5671ac4d0cafe57ccce8cfb7e6": {
      "model_module": "@jupyter-widgets/controls",
      "model_module_version": "2.0.0",
      "model_name": "ButtonModel",
      "state": {
       "description": "Start export",
       "layout": "IPY_MODEL_f8e28a6ec7a447e290b4d8dfab97a85d",
       "style": "IPY_MODEL_390a0fe29ed443aa8a6be1a8b6190ad5",
       "tooltip": null
      }
     },
     "77112d65bad54ce2a3797aaa87b1aefb": {
      "model_module": "@jupyter-widgets/base",
      "model_module_version": "2.0.0",
      "model_name": "LayoutModel",
      "state": {}
     },
     "7716e2cea1c34cef8cdf8698b777440c": {
      "model_module": "@jupyter-widgets/base",
      "model_module_version": "2.0.0",
      "model_name": "LayoutModel",
      "state": {
       "width": "90%"
      }
     },
     "7732713c2c3a4493a53db3666787c0e1": {
      "model_module": "@jupyter-widgets/base",
      "model_module_version": "2.0.0",
      "model_name": "LayoutModel",
      "state": {
       "width": "40%"
      }
     },
     "77df9c1634bb4f54af019bc1e30c65da": {
      "model_module": "@jupyter-widgets/controls",
      "model_module_version": "2.0.0",
      "model_name": "IntTextModel",
      "state": {
       "description": "Skip rows",
       "layout": "IPY_MODEL_e761bb8ebf474ec79e3575516a105e5d",
       "step": 1,
       "style": "IPY_MODEL_dbb0092192604769b2d1ba86ba31bc2e"
      }
     },
     "782e394e0d754fcf845014abdc919adb": {
      "model_module": "@jupyter-widgets/output",
      "model_module_version": "1.0.0",
      "model_name": "OutputModel",
      "state": {
       "layout": "IPY_MODEL_9a05b214b2bd425cb6abf801983794da"
      }
     },
     "78364966052c4d7398ceb6796a65427e": {
      "model_module": "@jupyter-widgets/controls",
      "model_module_version": "2.0.0",
      "model_name": "TextModel",
      "state": {
       "description": "Output Path",
       "layout": "IPY_MODEL_53a3f9882c9643649e40f3ea26d39f97",
       "style": "IPY_MODEL_20bb54c99b9d4ff3a1802c6b6a781e7b"
      }
     },
     "78b05e3c4e524f7c93d22a9cc238743f": {
      "model_module": "@jupyter-widgets/base",
      "model_module_version": "2.0.0",
      "model_name": "LayoutModel",
      "state": {}
     },
     "78b5aaee746045d19c0cf5def6af8513": {
      "model_module": "@jupyter-widgets/base",
      "model_module_version": "2.0.0",
      "model_name": "LayoutModel",
      "state": {}
     },
     "78b74025834245e29c92bc48ae922c52": {
      "model_module": "@jupyter-widgets/base",
      "model_module_version": "2.0.0",
      "model_name": "LayoutModel",
      "state": {}
     },
     "78b86a522aa0496da36a2b1af47a9b81": {
      "model_module": "@jupyter-widgets/controls",
      "model_module_version": "2.0.0",
      "model_name": "TextModel",
      "state": {
       "description": "Input Path",
       "layout": "IPY_MODEL_9561de61cd8c4da494d0fc5ea2c20c8c",
       "style": "IPY_MODEL_7086bc13223b43ea8bd5453e647b0bf5",
       "tooltip": "Path to input directory or archive"
      }
     },
     "796d934fc47040f2bc0520138d25104d": {
      "model_module": "@jupyter-widgets/controls",
      "model_module_version": "2.0.0",
      "model_name": "CheckboxModel",
      "state": {
       "description": "Allow overwrite",
       "disabled": false,
       "layout": "IPY_MODEL_d712827235ec4286a5b5a64ad73be3c0",
       "style": "IPY_MODEL_8e94e56c13f444a3ac6f71f9c6b12ab6",
       "value": false
      }
     },
     "797749f883824f1ab1846d7b1810e56b": {
      "model_module": "@jupyter-widgets/controls",
      "model_module_version": "2.0.0",
      "model_name": "TextStyleModel",
      "state": {
       "description_width": "",
       "font_size": null,
       "text_color": null
      }
     },
     "79a757b24a6d4a4da973f8007cd58fad": {
      "model_module": "@jupyter-widgets/controls",
      "model_module_version": "2.0.0",
      "model_name": "ButtonModel",
      "state": {
       "description": "Start archiving",
       "layout": "IPY_MODEL_8e5ecc6e74d244679e55b5b1a8901f8f",
       "style": "IPY_MODEL_7fe51bb315034936a76b6e1bc5d92115",
       "tooltip": null
      }
     },
     "7a8bae809dfc4a86b18e0ec04c538f74": {
      "model_module": "@jupyter-widgets/base",
      "model_module_version": "2.0.0",
      "model_name": "LayoutModel",
      "state": {
       "width": "40%"
      }
     },
     "7a8f09c804054347b845d3ef1a2a9840": {
      "model_module": "@jupyter-widgets/base",
      "model_module_version": "2.0.0",
      "model_name": "LayoutModel",
      "state": {}
     },
     "7a990c93f0e142c983e87748bb4c55f2": {
      "model_module": "@jupyter-widgets/base",
      "model_module_version": "2.0.0",
      "model_name": "LayoutModel",
      "state": {
       "width": "90%"
      }
     },
     "7aec20f5f65c4719b1768ebbab27a79e": {
      "model_module": "@jupyter-widgets/base",
      "model_module_version": "2.0.0",
      "model_name": "LayoutModel",
      "state": {}
     },
     "7b6ddb17e9214aadb6bc6c2faa31364f": {
      "model_module": "@jupyter-widgets/base",
      "model_module_version": "2.0.0",
      "model_name": "LayoutModel",
      "state": {}
     },
     "7b920c323bde4a6a9da59d9198e34af6": {
      "model_module": "@jupyter-widgets/controls",
      "model_module_version": "2.0.0",
      "model_name": "DescriptionStyleModel",
      "state": {
       "description_width": ""
      }
     },
     "7d00e9b154c64755a74ece897bfced83": {
      "model_module": "@jupyter-widgets/base",
      "model_module_version": "2.0.0",
      "model_name": "LayoutModel",
      "state": {
       "width": "90%"
      }
     },
     "7d19dde755e74106ad26eac85ffd4198": {
      "model_module": "@jupyter-widgets/controls",
      "model_module_version": "2.0.0",
      "model_name": "TextModel",
      "state": {
       "description": "Customer ID: ",
       "layout": "IPY_MODEL_96afb6967bb2476a8cc3c927cb9eaff5",
       "style": "IPY_MODEL_db4bb7e2e4a346f690e0e0f0f0ef87cb"
      }
     },
     "7d51ae836f5144f18f31057411b876cc": {
      "model_module": "@jupyter-widgets/base",
      "model_module_version": "2.0.0",
      "model_name": "LayoutModel",
      "state": {
       "width": "90%"
      }
     },
     "7d6baa40ca934f308770a641f78443bb": {
      "model_module": "@jupyter-widgets/controls",
      "model_module_version": "2.0.0",
      "model_name": "TextModel",
      "state": {
       "description": "Input Path:",
       "layout": "IPY_MODEL_991b5ff90f74401eb8847bfd99e2ed71",
       "style": "IPY_MODEL_ff7f688b74644d3ea29cb93ca251f29c",
       "tooltip": "Path to query template spreadsheet (list of names, etc. to search)"
      }
     },
     "7e47ba2f0acb41ddbff10cfb4c7d6f46": {
      "model_module": "@jupyter-widgets/controls",
      "model_module_version": "2.0.0",
      "model_name": "ButtonStyleModel",
      "state": {
       "font_family": null,
       "font_size": null,
       "font_style": null,
       "font_variant": null,
       "font_weight": null,
       "text_color": null,
       "text_decoration": null
      }
     },
     "7f925f871ff54cc990c0841d638cc218": {
      "model_module": "@jupyter-widgets/controls",
      "model_module_version": "2.0.0",
      "model_name": "IntTextModel",
      "state": {
       "description": "Set max count",
       "layout": "IPY_MODEL_88d7791bffb4450284a5df8f77ba5d5e",
       "step": 1,
       "style": "IPY_MODEL_b82423f6ca7e4c8896f632f8ebb2e45b"
      }
     },
     "7f9c6ba7b78342369fe3357818173aa2": {
      "model_module": "@jupyter-widgets/base",
      "model_module_version": "2.0.0",
      "model_name": "LayoutModel",
      "state": {
       "width": "40%"
      }
     },
     "7fe51bb315034936a76b6e1bc5d92115": {
      "model_module": "@jupyter-widgets/controls",
      "model_module_version": "2.0.0",
      "model_name": "ButtonStyleModel",
      "state": {
       "font_family": null,
       "font_size": null,
       "font_style": null,
       "font_variant": null,
       "font_weight": null,
       "text_color": null,
       "text_decoration": null
      }
     },
     "8067d0e062f24806b5225f3ce237061b": {
      "model_module": "@jupyter-widgets/base",
      "model_module_version": "2.0.0",
      "model_name": "LayoutModel",
      "state": {}
     },
     "80684d40bbb2494496ad9acee3ebc352": {
      "model_module": "@jupyter-widgets/controls",
      "model_module_version": "2.0.0",
      "model_name": "CheckboxStyleModel",
      "state": {
       "description_width": ""
      }
     },
     "806ad79aeb79424a8fce39cb26175562": {
      "model_module": "@jupyter-widgets/base",
      "model_module_version": "2.0.0",
      "model_name": "LayoutModel",
      "state": {
       "width": "95%"
      }
     },
     "80c18b4dbdd3497397d47fef33cae528": {
      "model_module": "@jupyter-widgets/controls",
      "model_module_version": "2.0.0",
      "model_name": "DescriptionStyleModel",
      "state": {
       "description_width": ""
      }
     },
     "8101421f2d1b45ca897f64d20407f630": {
      "model_module": "@jupyter-widgets/controls",
      "model_module_version": "2.0.0",
      "model_name": "DescriptionStyleModel",
      "state": {
       "description_width": ""
      }
     },
     "811ca5e412744d96a7d0fddfeb6a85a9": {
      "model_module": "@jupyter-widgets/base",
      "model_module_version": "2.0.0",
      "model_name": "LayoutModel",
      "state": {
       "width": "40%"
      }
     },
     "8191a90a72ff418f8edfd8e0868fd61f": {
      "model_module": "@jupyter-widgets/controls",
      "model_module_version": "2.0.0",
      "model_name": "IntTextModel",
      "state": {
       "description": "Max count:",
       "layout": "IPY_MODEL_63b43f7d47874b399f09d97b81fea996",
       "step": 1,
       "style": "IPY_MODEL_b466192979014a6db0d6f95f9ac80867"
      }
     },
     "821f5ad25e8f42d9a62518e6e90c0d31": {
      "model_module": "@jupyter-widgets/base",
      "model_module_version": "2.0.0",
      "model_name": "LayoutModel",
      "state": {}
     },
     "8257fa0f067a4ae796bfdb6506c523fb": {
      "model_module": "@jupyter-widgets/base",
      "model_module_version": "2.0.0",
      "model_name": "LayoutModel",
      "state": {
       "width": "90%"
      }
     },
     "825cc112cdc546a1947ec0155451f096": {
      "model_module": "@jupyter-widgets/base",
      "model_module_version": "2.0.0",
      "model_name": "LayoutModel",
      "state": {
       "width": "90%"
      }
     },
     "829fc09ad3bc497486945bfbb2986a01": {
      "model_module": "@jupyter-widgets/controls",
      "model_module_version": "2.0.0",
      "model_name": "CheckboxStyleModel",
      "state": {
       "description_width": ""
      }
     },
     "82ea0834b7474bcb97d6223e92be2d34": {
      "model_module": "@jupyter-widgets/base",
      "model_module_version": "2.0.0",
      "model_name": "LayoutModel",
      "state": {}
     },
     "835c21edfe924eb88a9a9a53407cd8b6": {
      "model_module": "@jupyter-widgets/base",
      "model_module_version": "2.0.0",
      "model_name": "LayoutModel",
      "state": {}
     },
     "83aca16434044cf6af1f6ad7d5695f53": {
      "model_module": "@jupyter-widgets/controls",
      "model_module_version": "2.0.0",
      "model_name": "ButtonModel",
      "state": {
       "description": "Login",
       "layout": "IPY_MODEL_7b6ddb17e9214aadb6bc6c2faa31364f",
       "style": "IPY_MODEL_475372d3cb2a4a7ca4417b33fa458077",
       "tooltip": null
      }
     },
     "8402589807894a129feced7702fb6bfc": {
      "model_module": "@jupyter-widgets/base",
      "model_module_version": "2.0.0",
      "model_name": "LayoutModel",
      "state": {}
     },
     "84138cfe4155449f8bc6d13553ccde71": {
      "model_module": "@jupyter-widgets/base",
      "model_module_version": "2.0.0",
      "model_name": "LayoutModel",
      "state": {}
     },
     "848be7a5226848d19ced57a8287a9dde": {
      "model_module": "@jupyter-widgets/controls",
      "model_module_version": "2.0.0",
      "model_name": "HBoxModel",
      "state": {
       "children": [
        "IPY_MODEL_90f385ee7afb4ee5ac09ea96d13b15c6",
        "IPY_MODEL_2e16efd980874d40b1d1e690ae81036d"
       ],
       "layout": "IPY_MODEL_f124eace4d884452a542a3271dd15103"
      }
     },
     "84e2916bf1ef47e7911a2cdf202c10ea": {
      "model_module": "@jupyter-widgets/controls",
      "model_module_version": "2.0.0",
      "model_name": "IntTextModel",
      "state": {
       "description": "Max count:",
       "layout": "IPY_MODEL_02cba97726aa419dbbff277fe33f34ba",
       "step": 1,
       "style": "IPY_MODEL_a28cecf42edb4267adf5120abe5220f5"
      }
     },
     "84f128ea70da4fd5894564b5665b2811": {
      "model_module": "@jupyter-widgets/controls",
      "model_module_version": "2.0.0",
      "model_name": "DescriptionStyleModel",
      "state": {
       "description_width": ""
      }
     },
     "852e14ae78294bfeb9aae7d3e93d41a4": {
      "model_module": "@jupyter-widgets/controls",
      "model_module_version": "2.0.0",
      "model_name": "TextModel",
      "state": {
       "description": "Output Path",
       "layout": "IPY_MODEL_209eb1e4166e45459b74a892e3f9f11f",
       "style": "IPY_MODEL_1bb3e2a3920b48b88c44cb2aa9d98056"
      }
     },
     "85728da7483446f5a5ed58bdcdd9a8d7": {
      "model_module": "@jupyter-widgets/controls",
      "model_module_version": "2.0.0",
      "model_name": "DescriptionStyleModel",
      "state": {
       "description_width": ""
      }
     },
     "85a6ed0567e14c55856c1055c2f0fc86": {
      "model_module": "@jupyter-widgets/base",
      "model_module_version": "2.0.0",
      "model_name": "LayoutModel",
      "state": {
       "width": "40%"
      }
     },
     "85dd58af81e14313819958461d9e13ad": {
      "model_module": "@jupyter-widgets/base",
      "model_module_version": "2.0.0",
      "model_name": "LayoutModel",
      "state": {}
     },
     "862b1cbc62b84e2eb5e6e165c7da3118": {
      "model_module": "@jupyter-widgets/controls",
      "model_module_version": "2.0.0",
      "model_name": "ButtonModel",
      "state": {
       "description": "Start export",
       "layout": "IPY_MODEL_c0f49c89fe9d4e5ba75b0e4568b8401a",
       "style": "IPY_MODEL_097f34597298459faedf34504874b070",
       "tooltip": null
      }
     },
     "86d0517f6d324c009ed3262be316c1b6": {
      "model_module": "@jupyter-widgets/controls",
      "model_module_version": "2.0.0",
      "model_name": "TextModel",
      "state": {
       "description": "Output Path",
       "layout": "IPY_MODEL_9f49bfe955c141f58d81598c7413d7fb",
       "style": "IPY_MODEL_2ec0acc77fc64afcac2d010f3bdf0cc1"
      }
     },
     "86e5da2ad5734f679cbb9dd54a675e88": {
      "model_module": "@jupyter-widgets/controls",
      "model_module_version": "2.0.0",
      "model_name": "ButtonModel",
      "state": {
       "description": "Login",
       "layout": "IPY_MODEL_5d131e7cbf954114abc7d33322671f17",
       "style": "IPY_MODEL_f333e4199c534a2bafd42951bbc0989f",
       "tooltip": null
      }
     },
     "87fa6ff671814b8ea02949b03e2929b7": {
      "model_module": "@jupyter-widgets/base",
      "model_module_version": "2.0.0",
      "model_name": "LayoutModel",
      "state": {}
     },
     "8813b2d7205c4067ae04c06d64f9cb12": {
      "model_module": "@jupyter-widgets/controls",
      "model_module_version": "2.0.0",
      "model_name": "CheckboxStyleModel",
      "state": {
       "description_width": ""
      }
     },
     "8879fd9d77924905b1f6c47afa9391e1": {
      "model_module": "@jupyter-widgets/controls",
      "model_module_version": "2.0.0",
      "model_name": "TextModel",
      "state": {
       "description": "Input Path",
       "layout": "IPY_MODEL_806ad79aeb79424a8fce39cb26175562",
       "style": "IPY_MODEL_0aefdc74674c4446b4c4769efe17d63a",
       "tooltip": "Path to input directory or archive"
      }
     },
     "88a66acb6ff1409ba97a0f435e42d864": {
      "model_module": "@jupyter-widgets/base",
      "model_module_version": "2.0.0",
      "model_name": "LayoutModel",
      "state": {
       "width": "40%"
      }
     },
     "88c1844cdff74c1fa5dffe2cc9b07de9": {
      "model_module": "@jupyter-widgets/base",
      "model_module_version": "2.0.0",
      "model_name": "LayoutModel",
      "state": {
       "width": "90%"
      }
     },
     "88d7791bffb4450284a5df8f77ba5d5e": {
      "model_module": "@jupyter-widgets/base",
      "model_module_version": "2.0.0",
      "model_name": "LayoutModel",
      "state": {
       "width": "90%"
      }
     },
     "89247ba92a5b44af88e0aa49c12cd712": {
      "model_module": "@jupyter-widgets/controls",
      "model_module_version": "2.0.0",
      "model_name": "TextModel",
      "state": {
       "description": "Output Path",
       "layout": "IPY_MODEL_96330dc95dc746179498cbbd8b657d18",
       "style": "IPY_MODEL_f57ae8a5d2514e999ec20331a696ed12"
      }
     },
     "89641155dcd04df4bbd3a0011c690428": {
      "model_module": "@jupyter-widgets/controls",
      "model_module_version": "2.0.0",
      "model_name": "HBoxModel",
      "state": {
       "children": [
        "IPY_MODEL_ad3e3476064f41e78b55c30199f8dfcc",
        "IPY_MODEL_6604b9b9a358492d886b840c81e5e01e",
        "IPY_MODEL_0725122c06ea42238cb89eb253c23679"
       ],
       "layout": "IPY_MODEL_ea5acf8436214e3fa4d44e07b5b04590"
      }
     },
     "8973602634fc4959a1f27471c739cf4e": {
      "model_module": "@jupyter-widgets/controls",
      "model_module_version": "2.0.0",
      "model_name": "DescriptionStyleModel",
      "state": {
       "description_width": ""
      }
     },
     "8a27187e03844a82be8ba50584435139": {
      "model_module": "@jupyter-widgets/controls",
      "model_module_version": "2.0.0",
      "model_name": "TextStyleModel",
      "state": {
       "description_width": "",
       "font_size": null,
       "text_color": null
      }
     },
     "8a64f9bb23494d66a9a711980476b591": {
      "model_module": "@jupyter-widgets/base",
      "model_module_version": "2.0.0",
      "model_name": "LayoutModel",
      "state": {}
     },
     "8a66513b1fbb48239597de148122464e": {
      "model_module": "@jupyter-widgets/controls",
      "model_module_version": "2.0.0",
      "model_name": "TextModel",
      "state": {
       "description": "Output Path",
       "layout": "IPY_MODEL_af0bcf26e1d0470a9a852d3a38ddec19",
       "style": "IPY_MODEL_ee5aea8d786149a8951707d46e1d8022"
      }
     },
     "8a7faffc3f37435bb9515ff0035dde05": {
      "model_module": "@jupyter-widgets/base",
      "model_module_version": "2.0.0",
      "model_name": "LayoutModel",
      "state": {}
     },
     "8a80ca2902db44c1bbff157bb7f286e7": {
      "model_module": "@jupyter-widgets/controls",
      "model_module_version": "2.0.0",
      "model_name": "TextStyleModel",
      "state": {
       "description_width": "",
       "font_size": null,
       "text_color": null
      }
     },
     "8b5aad0d732e420db3864b1d5c7d9542": {
      "model_module": "@jupyter-widgets/base",
      "model_module_version": "2.0.0",
      "model_name": "LayoutModel",
      "state": {
       "width": "90%"
      }
     },
     "8b83723bd15b4a5eadcf314aff925ea0": {
      "model_module": "@jupyter-widgets/base",
      "model_module_version": "2.0.0",
      "model_name": "LayoutModel",
      "state": {}
     },
     "8cd5337edacd4c61a64ce0708157d399": {
      "model_module": "@jupyter-widgets/controls",
      "model_module_version": "2.0.0",
      "model_name": "DropdownModel",
      "state": {
       "_options_labels": [
        "cases",
        "charges",
        "disposition",
        "filing",
        "fees"
       ],
       "description": "Table:",
       "index": 0,
       "layout": "IPY_MODEL_39d6521d424646e5b36c1449c30d9659",
       "style": "IPY_MODEL_67180359cb0f447597f604cde79539a2"
      }
     },
     "8d0d3557d74048689131ae549063b13d": {
      "model_module": "@jupyter-widgets/controls",
      "model_module_version": "2.0.0",
      "model_name": "HBoxModel",
      "state": {
       "children": [
        "IPY_MODEL_a4760f0e5b8f4410afdd628e69bf3f67",
        "IPY_MODEL_e2b2b98aa8104a64ab45cec15b362b76"
       ],
       "layout": "IPY_MODEL_080fc159ec43433484a576ecc99b9705"
      }
     },
     "8db27f5af4e6438a8b260516de497557": {
      "model_module": "@jupyter-widgets/controls",
      "model_module_version": "2.0.0",
      "model_name": "CheckboxStyleModel",
      "state": {
       "description_width": ""
      }
     },
     "8dede36c611e489f95d31589157c0d81": {
      "model_module": "@jupyter-widgets/base",
      "model_module_version": "2.0.0",
      "model_name": "LayoutModel",
      "state": {
       "width": "40%"
      }
     },
     "8e1ae45b7d184c5fbcdb67bc341c9262": {
      "model_module": "@jupyter-widgets/controls",
      "model_module_version": "2.0.0",
      "model_name": "CheckboxModel",
      "state": {
       "description": "Allow overwrite",
       "disabled": false,
       "layout": "IPY_MODEL_87fa6ff671814b8ea02949b03e2929b7",
       "style": "IPY_MODEL_249d25cc665842958931aeca73ec3365",
       "value": false
      }
     },
     "8e27a4edceea410ba2816592c4976509": {
      "model_module": "@jupyter-widgets/controls",
      "model_module_version": "2.0.0",
      "model_name": "HBoxModel",
      "state": {
       "children": [
        "IPY_MODEL_a84d65d8de4742d78d0aee8789ee43ee",
        "IPY_MODEL_d58d17eff3174382b20c20b521f2e9c0"
       ],
       "layout": "IPY_MODEL_625ad43d24384d5bbe0848bc460c0a79"
      }
     },
     "8e5ecc6e74d244679e55b5b1a8901f8f": {
      "model_module": "@jupyter-widgets/base",
      "model_module_version": "2.0.0",
      "model_name": "LayoutModel",
      "state": {}
     },
     "8e94e56c13f444a3ac6f71f9c6b12ab6": {
      "model_module": "@jupyter-widgets/controls",
      "model_module_version": "2.0.0",
      "model_name": "CheckboxStyleModel",
      "state": {
       "description_width": ""
      }
     },
     "8ec3d0df27ca4e12965971a1dfaefefe": {
      "model_module": "@jupyter-widgets/base",
      "model_module_version": "2.0.0",
      "model_name": "LayoutModel",
      "state": {}
     },
     "8edebc5c804143818f8beb5e0f71092d": {
      "model_module": "@jupyter-widgets/controls",
      "model_module_version": "2.0.0",
      "model_name": "DescriptionStyleModel",
      "state": {
       "description_width": ""
      }
     },
     "8f1bf633ffe04c0399b9967f91b27b25": {
      "model_module": "@jupyter-widgets/base",
      "model_module_version": "2.0.0",
      "model_name": "LayoutModel",
      "state": {}
     },
     "8faf130efc064fa5a684ae566ed7f835": {
      "model_module": "@jupyter-widgets/controls",
      "model_module_version": "2.0.0",
      "model_name": "IntTextModel",
      "state": {
       "description": "Max count:",
       "layout": "IPY_MODEL_96e9b8cefc2a485d9688797d32520ee3",
       "step": 1,
       "style": "IPY_MODEL_c06b4ec1d28d42988f75eb9b852ea9f9"
      }
     },
     "8fec93972b294254b94f814542ff536d": {
      "model_module": "@jupyter-widgets/controls",
      "model_module_version": "2.0.0",
      "model_name": "TextStyleModel",
      "state": {
       "description_width": "",
       "font_size": null,
       "text_color": null
      }
     },
     "8ffbd3892a024d5cb2dfb15442eb373e": {
      "model_module": "@jupyter-widgets/controls",
      "model_module_version": "2.0.0",
      "model_name": "IntTextModel",
      "state": {
       "description": "Max count:",
       "layout": "IPY_MODEL_3718840af2db48d4b58a15cf4641be0c",
       "step": 1,
       "style": "IPY_MODEL_bb973764d7bd46b0aa9e8ee147aebb33"
      }
     },
     "9095c213ac544cf18d9a913d456cd2de": {
      "model_module": "@jupyter-widgets/controls",
      "model_module_version": "2.0.0",
      "model_name": "FloatTextModel",
      "state": {
       "description": "Speed",
       "layout": "IPY_MODEL_5de814cfd7f3419c8ad192c32d74ccad",
       "step": 0.1,
       "style": "IPY_MODEL_42eae4a3bc6740b08e829ed11f0fe63a",
       "value": 1
      }
     },
     "90c9d68c53464a09b2cd12c75e07125a": {
      "model_module": "@jupyter-widgets/base",
      "model_module_version": "2.0.0",
      "model_name": "LayoutModel",
      "state": {}
     },
     "90f385ee7afb4ee5ac09ea96d13b15c6": {
      "model_module": "@jupyter-widgets/controls",
      "model_module_version": "2.0.0",
      "model_name": "CheckboxModel",
      "state": {
       "description": "Allow overwrite",
       "disabled": false,
       "layout": "IPY_MODEL_539262d7ff4d4e1dac176b9a10c2aceb",
       "style": "IPY_MODEL_d9591095d5ce4cedb9fcface328bbc35",
       "value": false
      }
     },
     "93a2e469dfed4d58bab4475540e41e43": {
      "model_module": "@jupyter-widgets/controls",
      "model_module_version": "2.0.0",
      "model_name": "CheckboxStyleModel",
      "state": {
       "description_width": ""
      }
     },
     "93d4b605d0dc4783b27b390a89985d75": {
      "model_module": "@jupyter-widgets/controls",
      "model_module_version": "2.0.0",
      "model_name": "ButtonStyleModel",
      "state": {
       "font_family": null,
       "font_size": null,
       "font_style": null,
       "font_variant": null,
       "font_weight": null,
       "text_color": null,
       "text_decoration": null
      }
     },
     "93db08e803464863ba9fbcc5d5f9b2b7": {
      "model_module": "@jupyter-widgets/controls",
      "model_module_version": "2.0.0",
      "model_name": "ButtonStyleModel",
      "state": {
       "font_family": null,
       "font_size": null,
       "font_style": null,
       "font_variant": null,
       "font_weight": null,
       "text_color": null,
       "text_decoration": null
      }
     },
     "93e9f1f0dd544716a18607551779a8f0": {
      "model_module": "@jupyter-widgets/base",
      "model_module_version": "2.0.0",
      "model_name": "LayoutModel",
      "state": {}
     },
     "93f7568b6e5a431e952073b10197cf3a": {
      "model_module": "@jupyter-widgets/controls",
      "model_module_version": "2.0.0",
      "model_name": "TextStyleModel",
      "state": {
       "description_width": "",
       "font_size": null,
       "text_color": null
      }
     },
     "943ed0f3aa6f4652be8333bf255b8fdd": {
      "model_module": "@jupyter-widgets/controls",
      "model_module_version": "2.0.0",
      "model_name": "ButtonModel",
      "state": {
       "description": "Start export",
       "layout": "IPY_MODEL_167511dc72c14a2c9a48ce8ee01e87ae",
       "style": "IPY_MODEL_a12b00e68dc849899e329f7b0fc80167",
       "tooltip": null
      }
     },
     "94a973dbac4043bfb35a31ea039bd54f": {
      "model_module": "@jupyter-widgets/base",
      "model_module_version": "2.0.0",
      "model_name": "LayoutModel",
      "state": {}
     },
     "94c21a708e7f46db81b128bfb1d19ff3": {
      "model_module": "@jupyter-widgets/controls",
      "model_module_version": "2.0.0",
      "model_name": "CheckboxModel",
      "state": {
       "description": "Allow overwrite",
       "disabled": false,
       "layout": "IPY_MODEL_dc82a0e6184b462887742fb988236865",
       "style": "IPY_MODEL_d806e66a89ee4c8690367cc9011ed99f",
       "value": false
      }
     },
     "94d39eb5c4584b7888e87dabf43aa699": {
      "model_module": "@jupyter-widgets/controls",
      "model_module_version": "2.0.0",
      "model_name": "CheckboxModel",
      "state": {
       "description": "Remove duplicates",
       "disabled": false,
       "layout": "IPY_MODEL_392dc6f7df5e464ba0e6ca78bb862224",
       "style": "IPY_MODEL_6f6317f51e094a988bb5c9a92d7cc459",
       "value": false
      }
     },
     "9561de61cd8c4da494d0fc5ea2c20c8c": {
      "model_module": "@jupyter-widgets/base",
      "model_module_version": "2.0.0",
      "model_name": "LayoutModel",
      "state": {
       "width": "90%"
      }
     },
     "95bc2554aecc4f34a6d9b4c9cabdf3a3": {
      "model_module": "@jupyter-widgets/controls",
      "model_module_version": "2.0.0",
      "model_name": "IntTextModel",
      "state": {
       "description": "Max count:",
       "layout": "IPY_MODEL_15f2c7fd07d24027a7bfe86d02ea552d",
       "step": 1,
       "style": "IPY_MODEL_5a6dce6cf440427a81813f27e6e120e6"
      }
     },
     "95e11e15b67645fd92f1d47a4af4a9aa": {
      "model_module": "@jupyter-widgets/controls",
      "model_module_version": "2.0.0",
      "model_name": "CheckboxStyleModel",
      "state": {
       "description_width": ""
      }
     },
     "96330dc95dc746179498cbbd8b657d18": {
      "model_module": "@jupyter-widgets/base",
      "model_module_version": "2.0.0",
      "model_name": "LayoutModel",
      "state": {
       "width": "95%"
      }
     },
     "967cb5de32f54fc4b4f9ee8e791dec00": {
      "model_module": "@jupyter-widgets/base",
      "model_module_version": "2.0.0",
      "model_name": "LayoutModel",
      "state": {}
     },
     "96837d3c692c49d59922f128df285874": {
      "model_module": "@jupyter-widgets/controls",
      "model_module_version": "2.0.0",
      "model_name": "TextModel",
      "state": {
       "description": "Output Path",
       "layout": "IPY_MODEL_97a2dea13b5d4f65b4317fa03fdeba71",
       "style": "IPY_MODEL_130e253c26ef4abaaa78acbfa271281c"
      }
     },
     "968c03f5fc1b4bb592afa6ccc237b7b0": {
      "model_module": "@jupyter-widgets/controls",
      "model_module_version": "2.0.0",
      "model_name": "CheckboxStyleModel",
      "state": {
       "description_width": ""
      }
     },
     "96afb6967bb2476a8cc3c927cb9eaff5": {
      "model_module": "@jupyter-widgets/base",
      "model_module_version": "2.0.0",
      "model_name": "LayoutModel",
      "state": {}
     },
     "96cc6de46399465abf9efa14e1ea3378": {
      "model_module": "@jupyter-widgets/controls",
      "model_module_version": "2.0.0",
      "model_name": "IntTextModel",
      "state": {
       "description": "Max rows",
       "layout": "IPY_MODEL_10049385cab34b8c831d90d6225f8d63",
       "step": 1,
       "style": "IPY_MODEL_8edebc5c804143818f8beb5e0f71092d"
      }
     },
     "96d507c4743b4348a32dff5c9af76c20": {
      "model_module": "@jupyter-widgets/base",
      "model_module_version": "2.0.0",
      "model_name": "LayoutModel",
      "state": {}
     },
     "96e9b8cefc2a485d9688797d32520ee3": {
      "model_module": "@jupyter-widgets/base",
      "model_module_version": "2.0.0",
      "model_name": "LayoutModel",
      "state": {}
     },
     "970500e7947a407b8fdbd87be88c2a39": {
      "model_module": "@jupyter-widgets/base",
      "model_module_version": "2.0.0",
      "model_name": "LayoutModel",
      "state": {}
     },
     "975902dfe9e241469b9067a3602d2309": {
      "model_module": "@jupyter-widgets/controls",
      "model_module_version": "2.0.0",
      "model_name": "PasswordModel",
      "state": {
       "description": "Password: ",
       "layout": "IPY_MODEL_c5cbc1544e60456c818b3e9c35794e27",
       "style": "IPY_MODEL_9a6f731f68e345a383f68fb8ed10f353"
      }
     },
     "97a2dea13b5d4f65b4317fa03fdeba71": {
      "model_module": "@jupyter-widgets/base",
      "model_module_version": "2.0.0",
      "model_name": "LayoutModel",
      "state": {
       "width": "90%"
      }
     },
     "97e96e80dde54a43b55dfa6b418f68ae": {
      "model_module": "@jupyter-widgets/base",
      "model_module_version": "2.0.0",
      "model_name": "LayoutModel",
      "state": {
       "width": "40%"
      }
     },
     "97f4c4b749fc4e6c83e554f1077ea50d": {
      "model_module": "@jupyter-widgets/base",
      "model_module_version": "2.0.0",
      "model_name": "LayoutModel",
      "state": {
       "width": "90%"
      }
     },
     "986090962cb148998ee31c4a570772a4": {
      "model_module": "@jupyter-widgets/controls",
      "model_module_version": "2.0.0",
      "model_name": "CheckboxStyleModel",
      "state": {
       "description_width": ""
      }
     },
     "9860d8d0e10c4c06aaa9598e3f8d8e19": {
      "model_module": "@jupyter-widgets/controls",
      "model_module_version": "2.0.0",
      "model_name": "CheckboxStyleModel",
      "state": {
       "description_width": ""
      }
     },
     "987f1f5d9d14421483e41076df3b1a4f": {
      "model_module": "@jupyter-widgets/controls",
      "model_module_version": "2.0.0",
      "model_name": "TextStyleModel",
      "state": {
       "description_width": "",
       "font_size": null,
       "text_color": null
      }
     },
     "98b1929c4e024cdea8020a287362316f": {
      "model_module": "@jupyter-widgets/base",
      "model_module_version": "2.0.0",
      "model_name": "LayoutModel",
      "state": {
       "width": "90%"
      }
     },
     "991091ddc33b4d97985e80f4e9b87f60": {
      "model_module": "@jupyter-widgets/controls",
      "model_module_version": "2.0.0",
      "model_name": "TextModel",
      "state": {
       "description": "Output Path:",
       "layout": "IPY_MODEL_e4341bf3d4bf4dde8ac8d76106956b09",
       "style": "IPY_MODEL_987f1f5d9d14421483e41076df3b1a4f"
      }
     },
     "991b5ff90f74401eb8847bfd99e2ed71": {
      "model_module": "@jupyter-widgets/base",
      "model_module_version": "2.0.0",
      "model_name": "LayoutModel",
      "state": {
       "width": "90%"
      }
     },
     "9975ad4b4187462eb1f06f63cdced6c7": {
      "model_module": "@jupyter-widgets/controls",
      "model_module_version": "2.0.0",
      "model_name": "DescriptionStyleModel",
      "state": {
       "description_width": ""
      }
     },
     "9a05b214b2bd425cb6abf801983794da": {
      "model_module": "@jupyter-widgets/base",
      "model_module_version": "2.0.0",
      "model_name": "LayoutModel",
      "state": {}
     },
     "9a38914ad237402c8ba047ed7e127484": {
      "model_module": "@jupyter-widgets/controls",
      "model_module_version": "2.0.0",
      "model_name": "TextModel",
      "state": {
       "description": "Output Path:",
       "layout": "IPY_MODEL_c96d1052c9b04d63abd9b3ae94bc6d13",
       "style": "IPY_MODEL_3be43f92d1804423aa05d2923f975849"
      }
     },
     "9a392dfb3ed346ceb92c93e1d33ed6de": {
      "model_module": "@jupyter-widgets/base",
      "model_module_version": "2.0.0",
      "model_name": "LayoutModel",
      "state": {}
     },
     "9a6f731f68e345a383f68fb8ed10f353": {
      "model_module": "@jupyter-widgets/controls",
      "model_module_version": "2.0.0",
      "model_name": "TextStyleModel",
      "state": {
       "description_width": "",
       "font_size": null,
       "text_color": null
      }
     },
     "9a8065773fe94c95b4e7eee11ee5e35f": {
      "model_module": "@jupyter-widgets/base",
      "model_module_version": "2.0.0",
      "model_name": "LayoutModel",
      "state": {}
     },
     "9b54f091150e48b0b274f321a30afa89": {
      "model_module": "@jupyter-widgets/controls",
      "model_module_version": "2.0.0",
      "model_name": "ButtonModel",
      "state": {
       "description": "Read more",
       "layout": "IPY_MODEL_77112d65bad54ce2a3797aaa87b1aefb",
       "style": "IPY_MODEL_b341d4342b924928a7315946a7cfd29f",
       "tooltip": null
      }
     },
     "9bb347d0fad14edf9f1c1b0426240cb5": {
      "model_module": "@jupyter-widgets/controls",
      "model_module_version": "2.0.0",
      "model_name": "CheckboxStyleModel",
      "state": {
       "description_width": ""
      }
     },
     "9c96842c1e2b4592aa0330b597178755": {
      "model_module": "@jupyter-widgets/controls",
      "model_module_version": "2.0.0",
      "model_name": "TextStyleModel",
      "state": {
       "description_width": "",
       "font_size": null,
       "text_color": null
      }
     },
     "9c9f2dbc781043edbb01b68f7bd103e1": {
      "model_module": "@jupyter-widgets/base",
      "model_module_version": "2.0.0",
      "model_name": "LayoutModel",
      "state": {}
     },
     "9cc8bbcd1c5d4b8992b1af4ab9a1c556": {
      "model_module": "@jupyter-widgets/controls",
      "model_module_version": "2.0.0",
      "model_name": "ButtonModel",
      "state": {
       "description": "Login",
       "layout": "IPY_MODEL_fc84c96233264efcaff68af58c6bf388",
       "style": "IPY_MODEL_060d054d8811496ab72d8d25697a74a8",
       "tooltip": null
      }
     },
     "9cd16e12498b4c6f9290b5e958fea788": {
      "model_module": "@jupyter-widgets/controls",
      "model_module_version": "2.0.0",
      "model_name": "HTMLStyleModel",
      "state": {
       "description_width": "",
       "font_size": null,
       "text_color": null
      }
     },
     "9d0231eba73349e58b0ae8876ae4318e": {
      "model_module": "@jupyter-widgets/base",
      "model_module_version": "2.0.0",
      "model_name": "LayoutModel",
      "state": {
       "width": "90%"
      }
     },
     "9d44a1ead1524bbc9a9875286edf4e49": {
      "model_module": "@jupyter-widgets/controls",
      "model_module_version": "2.0.0",
      "model_name": "DescriptionStyleModel",
      "state": {
       "description_width": ""
      }
     },
     "9e0679ab5edb4ab2a68284a1045bfbe5": {
      "model_module": "@jupyter-widgets/controls",
      "model_module_version": "2.0.0",
      "model_name": "HBoxModel",
      "state": {
       "children": [
        "IPY_MODEL_e30b3c8d13f1436ca4c0b923b3314cc1",
        "IPY_MODEL_d49d42afa91b4c17996d8ea22b73cb37",
        "IPY_MODEL_2f293017e3184e9896c4ef086be9ae85"
       ],
       "layout": "IPY_MODEL_be3bb19393614b9dbb412c84cba4a3b0"
      }
     },
     "9e20326416c5435cbdbf6b1ef7bbc056": {
      "model_module": "@jupyter-widgets/base",
      "model_module_version": "2.0.0",
      "model_name": "LayoutModel",
      "state": {}
     },
     "9e42d97cb0f6473291e1c57de73101c0": {
      "model_module": "@jupyter-widgets/controls",
      "model_module_version": "2.0.0",
      "model_name": "TextStyleModel",
      "state": {
       "description_width": "",
       "font_size": null,
       "text_color": null
      }
     },
     "9e877871f17742aa862551b12d9f2a29": {
      "model_module": "@jupyter-widgets/controls",
      "model_module_version": "2.0.0",
      "model_name": "TextModel",
      "state": {
       "description": "Output Path",
       "layout": "IPY_MODEL_5371e2612a514f808cbd761f81c195b7",
       "style": "IPY_MODEL_c2123d718bdf4ae2b17f0693d8f8403b"
      }
     },
     "9ece14e2184d49de94dcfb7723a1d13b": {
      "model_module": "@jupyter-widgets/controls",
      "model_module_version": "2.0.0",
      "model_name": "TextStyleModel",
      "state": {
       "description_width": "",
       "font_size": null,
       "text_color": null
      }
     },
     "9f49bfe955c141f58d81598c7413d7fb": {
      "model_module": "@jupyter-widgets/base",
      "model_module_version": "2.0.0",
      "model_name": "LayoutModel",
      "state": {
       "width": "90%"
      }
     },
     "9f5872cb2ce84dc3b3475798f7396322": {
      "model_module": "@jupyter-widgets/base",
      "model_module_version": "2.0.0",
      "model_name": "LayoutModel",
      "state": {}
     },
     "a0b96aa5310d48d997240b31ffb4cec9": {
      "model_module": "@jupyter-widgets/controls",
      "model_module_version": "2.0.0",
      "model_name": "ButtonModel",
      "state": {
       "description": "Read more",
       "layout": "IPY_MODEL_139178854f834a588cf2b5bc52c1431e",
       "style": "IPY_MODEL_40fd9d16cf2944a8bc84975516d76677",
       "tooltip": null
      }
     },
     "a0dd8c6927a2401b9b653ebc0937a9f0": {
      "model_module": "@jupyter-widgets/controls",
      "model_module_version": "2.0.0",
      "model_name": "TextModel",
      "state": {
       "description": "User ID: ",
       "layout": "IPY_MODEL_d1f18269bc4f4931a7b0b6077cc2cef2",
       "style": "IPY_MODEL_106feefbc5c1427c80ed171ba8611021"
      }
     },
     "a11c388cb78b4dda8345808ece92014c": {
      "model_module": "@jupyter-widgets/base",
      "model_module_version": "2.0.0",
      "model_name": "LayoutModel",
      "state": {
       "width": "40%"
      }
     },
     "a12b00e68dc849899e329f7b0fc80167": {
      "model_module": "@jupyter-widgets/controls",
      "model_module_version": "2.0.0",
      "model_name": "ButtonStyleModel",
      "state": {
       "font_family": null,
       "font_size": null,
       "font_style": null,
       "font_variant": null,
       "font_weight": null,
       "text_color": null,
       "text_decoration": null
      }
     },
     "a179c02ee2444440bd42c037cac6eb8e": {
      "model_module": "@jupyter-widgets/controls",
      "model_module_version": "2.0.0",
      "model_name": "TextStyleModel",
      "state": {
       "description_width": "",
       "font_size": null,
       "text_color": null
      }
     },
     "a19d7558b40a492fabf8364e4198e6e1": {
      "model_module": "@jupyter-widgets/controls",
      "model_module_version": "2.0.0",
      "model_name": "TextStyleModel",
      "state": {
       "description_width": "",
       "font_size": null,
       "text_color": null
      }
     },
     "a201630d55f048d3ac54162497b71fc7": {
      "model_module": "@jupyter-widgets/controls",
      "model_module_version": "2.0.0",
      "model_name": "ButtonStyleModel",
      "state": {
       "font_family": null,
       "font_size": null,
       "font_style": null,
       "font_variant": null,
       "font_weight": null,
       "text_color": null,
       "text_decoration": null
      }
     },
     "a239764b0723470f9f4970461fb2c8d5": {
      "model_module": "@jupyter-widgets/controls",
      "model_module_version": "2.0.0",
      "model_name": "RadioButtonsModel",
      "state": {
       "_options_labels": [
        "cases",
        "charges",
        "disposition",
        "filing",
        "fees"
       ],
       "description": "Table:",
       "index": 0,
       "layout": "IPY_MODEL_236f8e64e06b4fe093e00edad6c74e22",
       "style": "IPY_MODEL_aa8c1303930943bf9766945bfdddea19"
      }
     },
     "a28cecf42edb4267adf5120abe5220f5": {
      "model_module": "@jupyter-widgets/controls",
      "model_module_version": "2.0.0",
      "model_name": "DescriptionStyleModel",
      "state": {
       "description_width": ""
      }
     },
     "a2c658bf6dc24c1e867c690ed40b46d3": {
      "model_module": "@jupyter-widgets/base",
      "model_module_version": "2.0.0",
      "model_name": "LayoutModel",
      "state": {
       "width": "90%"
      }
     },
     "a3487b3beebf4f13b9838c540ad70cc5": {
      "model_module": "@jupyter-widgets/controls",
      "model_module_version": "2.0.0",
      "model_name": "CheckboxModel",
      "state": {
       "description": "Remove duplicates",
       "disabled": false,
       "layout": "IPY_MODEL_6d0aaf90f4a348c983763a53b451e47d",
       "style": "IPY_MODEL_bddc9ea0930c46f3ac77efe5e07eab64",
       "value": false
      }
     },
     "a34caf53294b4bb8b2cf83d7dfc40f41": {
      "model_module": "@jupyter-widgets/base",
      "model_module_version": "2.0.0",
      "model_name": "LayoutModel",
      "state": {}
     },
     "a378ca414b704c40ad111fa99505cc55": {
      "model_module": "@jupyter-widgets/controls",
      "model_module_version": "2.0.0",
      "model_name": "ButtonStyleModel",
      "state": {
       "font_family": null,
       "font_size": null,
       "font_style": null,
       "font_variant": null,
       "font_weight": null,
       "text_color": null,
       "text_decoration": null
      }
     },
     "a3f1e9f09d9246118833d53ecb7c848d": {
      "model_module": "@jupyter-widgets/base",
      "model_module_version": "2.0.0",
      "model_name": "LayoutModel",
      "state": {}
     },
     "a3fe2c0ed7cd4615beb786afc0c9f352": {
      "model_module": "@jupyter-widgets/controls",
      "model_module_version": "2.0.0",
      "model_name": "PasswordModel",
      "state": {
       "description": "Password: ",
       "layout": "IPY_MODEL_3f2bd72a20c34f89a086f7c85bbb423a",
       "style": "IPY_MODEL_08f1e9dcffa64346977205c728505a6f"
      }
     },
     "a4760f0e5b8f4410afdd628e69bf3f67": {
      "model_module": "@jupyter-widgets/controls",
      "model_module_version": "2.0.0",
      "model_name": "CheckboxModel",
      "state": {
       "description": "Allow overwrite",
       "disabled": false,
       "layout": "IPY_MODEL_9f5872cb2ce84dc3b3475798f7396322",
       "style": "IPY_MODEL_bb40a00452a348408d71ac298f71b90c",
       "value": false
      }
     },
     "a4bf3819e95342a6b040de3d2ea1722d": {
      "model_module": "@jupyter-widgets/base",
      "model_module_version": "2.0.0",
      "model_name": "LayoutModel",
      "state": {}
     },
     "a4f8c9ecf3174a368f8d877b9aaa962b": {
      "model_module": "@jupyter-widgets/controls",
      "model_module_version": "2.0.0",
      "model_name": "PasswordModel",
      "state": {
       "description": "Password: ",
       "layout": "IPY_MODEL_90c9d68c53464a09b2cd12c75e07125a",
       "style": "IPY_MODEL_76b2792042b54f5fa184a2802d67fded"
      }
     },
     "a5492a0e2d3b4c24bb2ddb3dca1152b1": {
      "model_module": "@jupyter-widgets/controls",
      "model_module_version": "2.0.0",
      "model_name": "ButtonStyleModel",
      "state": {
       "font_family": null,
       "font_size": null,
       "font_style": null,
       "font_variant": null,
       "font_weight": null,
       "text_color": null,
       "text_decoration": null
      }
     },
     "a5a9ee10a31f4cccaf104bd5b61d107f": {
      "model_module": "@jupyter-widgets/controls",
      "model_module_version": "2.0.0",
      "model_name": "IntTextModel",
      "state": {
       "description": "Max count:",
       "layout": "IPY_MODEL_33ce424efacb49feaf03039f332f4c2b",
       "step": 1,
       "style": "IPY_MODEL_72259eb0493f45c0a8a7fcdaff372c40"
      }
     },
     "a5a9fc82e79842e0956429dd2f76cd75": {
      "model_module": "@jupyter-widgets/controls",
      "model_module_version": "2.0.0",
      "model_name": "IntTextModel",
      "state": {
       "description": "Max count:",
       "layout": "IPY_MODEL_30499712a987412fb1c276dd3b0e22b6",
       "step": 1,
       "style": "IPY_MODEL_472f2b107454495eb3aba9aef9fa29be"
      }
     },
     "a68f48238b2d4089a29440905d10e5ae": {
      "model_module": "@jupyter-widgets/base",
      "model_module_version": "2.0.0",
      "model_name": "LayoutModel",
      "state": {}
     },
     "a715a3965141441b840c1fda36556e8c": {
      "model_module": "@jupyter-widgets/controls",
      "model_module_version": "2.0.0",
      "model_name": "TextStyleModel",
      "state": {
       "description_width": "",
       "font_size": null,
       "text_color": null
      }
     },
     "a77595ecc2a14d59886c1fa7a43d3bff": {
      "model_module": "@jupyter-widgets/controls",
      "model_module_version": "2.0.0",
      "model_name": "IntTextModel",
      "state": {
       "description": "Skip rows",
       "layout": "IPY_MODEL_4f12946d98d34e0b8a2d3717c68276c5",
       "step": 1,
       "style": "IPY_MODEL_6dcd18edf1e048bfacae6fb0ba7bf3d1"
      }
     },
     "a792d91f4e9540569d71437737841a50": {
      "model_module": "@jupyter-widgets/controls",
      "model_module_version": "2.0.0",
      "model_name": "TextStyleModel",
      "state": {
       "description_width": "",
       "font_size": null,
       "text_color": null
      }
     },
     "a7b776fddfe740bba2710c33055f85e2": {
      "model_module": "@jupyter-widgets/controls",
      "model_module_version": "2.0.0",
      "model_name": "ButtonStyleModel",
      "state": {
       "font_family": null,
       "font_size": null,
       "font_style": null,
       "font_variant": null,
       "font_weight": null,
       "text_color": null,
       "text_decoration": null
      }
     },
     "a7c9583c49a3486fa66f717c037e73dc": {
      "model_module": "@jupyter-widgets/controls",
      "model_module_version": "2.0.0",
      "model_name": "TextStyleModel",
      "state": {
       "description_width": "",
       "font_size": null,
       "text_color": null
      }
     },
     "a84d65d8de4742d78d0aee8789ee43ee": {
      "model_module": "@jupyter-widgets/controls",
      "model_module_version": "2.0.0",
      "model_name": "CheckboxModel",
      "state": {
       "description": "Allow overwrite",
       "disabled": false,
       "layout": "IPY_MODEL_b3590d75e253430f90e01172de7eef13",
       "style": "IPY_MODEL_93a2e469dfed4d58bab4475540e41e43",
       "value": false
      }
     },
     "a8c5175144e9410285557ec8b26b4cf8": {
      "model_module": "@jupyter-widgets/controls",
      "model_module_version": "2.0.0",
      "model_name": "TextStyleModel",
      "state": {
       "description_width": "",
       "font_size": null,
       "text_color": null
      }
     },
     "a8e7dde38f134868acece26bf9680588": {
      "model_module": "@jupyter-widgets/controls",
      "model_module_version": "2.0.0",
      "model_name": "ButtonModel",
      "state": {
       "description": "Start export",
       "layout": "IPY_MODEL_970500e7947a407b8fdbd87be88c2a39",
       "style": "IPY_MODEL_ec5779417bbc4a9f9d1bbc148571958b",
       "tooltip": null
      }
     },
     "a8ea250fc4444df5b259f67c7453bd2a": {
      "model_module": "@jupyter-widgets/controls",
      "model_module_version": "2.0.0",
      "model_name": "CheckboxModel",
      "state": {
       "description": "Allow overwrite",
       "disabled": false,
       "layout": "IPY_MODEL_9e20326416c5435cbdbf6b1ef7bbc056",
       "style": "IPY_MODEL_64b47c782c674a8ca00c9d1ce936219d",
       "value": false
      }
     },
     "a95849bfc68f41a9aa3df09e21e58cd6": {
      "model_module": "@jupyter-widgets/base",
      "model_module_version": "2.0.0",
      "model_name": "LayoutModel",
      "state": {
       "width": "95%"
      }
     },
     "aa02b9b8e0e14ed287242e83be8d92fe": {
      "model_module": "@jupyter-widgets/controls",
      "model_module_version": "2.0.0",
      "model_name": "TextStyleModel",
      "state": {
       "description_width": "",
       "font_size": null,
       "text_color": null
      }
     },
     "aa3745fbb306437fbd3fac91c293b60a": {
      "model_module": "@jupyter-widgets/controls",
      "model_module_version": "2.0.0",
      "model_name": "DescriptionStyleModel",
      "state": {
       "description_width": ""
      }
     },
     "aa8c1303930943bf9766945bfdddea19": {
      "model_module": "@jupyter-widgets/controls",
      "model_module_version": "2.0.0",
      "model_name": "DescriptionStyleModel",
      "state": {
       "description_width": ""
      }
     },
     "aac3a88550e34fcea35687b8a567ddea": {
      "model_module": "@jupyter-widgets/base",
      "model_module_version": "2.0.0",
      "model_name": "LayoutModel",
      "state": {
       "width": "40%"
      }
     },
     "aad4458163dc4e33ab305b555871f003": {
      "model_module": "@jupyter-widgets/controls",
      "model_module_version": "2.0.0",
      "model_name": "CheckboxModel",
      "state": {
       "description": "Allow overwrite",
       "disabled": false,
       "layout": "IPY_MODEL_64f10310f1d247fc9898ccca4b0d100b",
       "style": "IPY_MODEL_95e11e15b67645fd92f1d47a4af4a9aa",
       "value": false
      }
     },
     "ab17fcdc698a4755873075cc6c2cb5d4": {
      "model_module": "@jupyter-widgets/controls",
      "model_module_version": "2.0.0",
      "model_name": "DescriptionStyleModel",
      "state": {
       "description_width": ""
      }
     },
     "ab1976fecd1447d18bee5bbbc58adf67": {
      "model_module": "@jupyter-widgets/controls",
      "model_module_version": "2.0.0",
      "model_name": "IntTextModel",
      "state": {
       "description": "Max count:",
       "layout": "IPY_MODEL_9c9f2dbc781043edbb01b68f7bd103e1",
       "step": 1,
       "style": "IPY_MODEL_c5ace70787ee42e386b85423d2e80a0e"
      }
     },
     "ab5e7b01947c4503a607fef50d732922": {
      "model_module": "@jupyter-widgets/controls",
      "model_module_version": "2.0.0",
      "model_name": "TextModel",
      "state": {
       "description": "Output Path:",
       "layout": "IPY_MODEL_f4f1c65cd8f74bf3989af3d098cc87f7",
       "style": "IPY_MODEL_9c96842c1e2b4592aa0330b597178755"
      }
     },
     "ab5fb8e3008b436b8ef5aef853ccf8d1": {
      "model_module": "@jupyter-widgets/base",
      "model_module_version": "2.0.0",
      "model_name": "LayoutModel",
      "state": {}
     },
     "ab8985e1e76e438884245826abebe636": {
      "model_module": "@jupyter-widgets/controls",
      "model_module_version": "2.0.0",
      "model_name": "IntTextModel",
      "state": {
       "description": "Max count:",
       "layout": "IPY_MODEL_de1f05c62fc44d389e1555c00476921f",
       "step": 1,
       "style": "IPY_MODEL_58a906fdf73c491589eb625562cec1ae"
      }
     },
     "abc8cb2908bd4911a4e60f62b062548f": {
      "model_module": "@jupyter-widgets/controls",
      "model_module_version": "2.0.0",
      "model_name": "FloatTextModel",
      "state": {
       "description": "Speed",
       "layout": "IPY_MODEL_811ca5e412744d96a7d0fddfeb6a85a9",
       "step": 0.1,
       "style": "IPY_MODEL_bf681c424ca74967853ed0914dc20c2c",
       "value": 1
      }
     },
     "abd3dc6292574057af894652a35e4674": {
      "model_module": "@jupyter-widgets/controls",
      "model_module_version": "2.0.0",
      "model_name": "TextStyleModel",
      "state": {
       "description_width": "",
       "font_size": null,
       "text_color": null
      }
     },
     "abfb04f4a4bd43a3a437e4d09c7f8182": {
      "model_module": "@jupyter-widgets/base",
      "model_module_version": "2.0.0",
      "model_name": "LayoutModel",
      "state": {
       "width": "90%"
      }
     },
     "ac11592ff1cc43e298fc9285d673e4d3": {
      "model_module": "@jupyter-widgets/controls",
      "model_module_version": "2.0.0",
      "model_name": "HBoxModel",
      "state": {
       "children": [
        "IPY_MODEL_8191a90a72ff418f8edfd8e0868fd61f",
        "IPY_MODEL_a8ea250fc4444df5b259f67c7453bd2a"
       ],
       "layout": "IPY_MODEL_eae896750acc4c889762834f24e7bbc6"
      }
     },
     "ac46f833e1124a6a95d86b200a70ec01": {
      "model_module": "@jupyter-widgets/controls",
      "model_module_version": "2.0.0",
      "model_name": "DescriptionStyleModel",
      "state": {
       "description_width": ""
      }
     },
     "acb4b551d5eb42d4b0700f7bd70e0734": {
      "model_module": "@jupyter-widgets/controls",
      "model_module_version": "2.0.0",
      "model_name": "PasswordModel",
      "state": {
       "description": "Password: ",
       "layout": "IPY_MODEL_967cb5de32f54fc4b4f9ee8e791dec00",
       "style": "IPY_MODEL_c52ca5cf0b7d463f90d2fa477e4dfee2"
      }
     },
     "ad3e3476064f41e78b55c30199f8dfcc": {
      "model_module": "@jupyter-widgets/controls",
      "model_module_version": "2.0.0",
      "model_name": "CheckboxModel",
      "state": {
       "description": "Allow overwrite",
       "disabled": false,
       "layout": "IPY_MODEL_33d49e8ffa004b26848467d24c4f03cb",
       "style": "IPY_MODEL_5d30f93a5e884a999f2eca2f1e0040ce",
       "value": false
      }
     },
     "ad4a4e762c3d4907bc0df267fb274366": {
      "model_module": "@jupyter-widgets/base",
      "model_module_version": "2.0.0",
      "model_name": "LayoutModel",
      "state": {}
     },
     "ad85cb47fcd24a75b499291b0a483795": {
      "model_module": "@jupyter-widgets/controls",
      "model_module_version": "2.0.0",
      "model_name": "TextStyleModel",
      "state": {
       "description_width": "",
       "font_size": null,
       "text_color": null
      }
     },
     "adebfb92d93d4f3596a1f766af2de6d3": {
      "model_module": "@jupyter-widgets/controls",
      "model_module_version": "2.0.0",
      "model_name": "ButtonModel",
      "state": {
       "description": "Read more",
       "layout": "IPY_MODEL_cffb63d223c14669bb322cd576df6702",
       "style": "IPY_MODEL_d8cd5fb6ae00486f9a126ac2c26617ea",
       "tooltip": null
      }
     },
     "ae1e8a2edf894117861124f0f8ab8add": {
      "model_module": "@jupyter-widgets/base",
      "model_module_version": "2.0.0",
      "model_name": "LayoutModel",
      "state": {
       "width": "95%"
      }
     },
     "ae2faf3470d042b9a6e2054070f0d4f0": {
      "model_module": "@jupyter-widgets/controls",
      "model_module_version": "2.0.0",
      "model_name": "TextModel",
      "state": {
       "description": "Output Path",
       "layout": "IPY_MODEL_13b6386a72cd4b27b38cc2a4cae8e736",
       "style": "IPY_MODEL_16c785320c2d4491b5190db799535072"
      }
     },
     "ae69116b34cf4d45bb606657154bfd11": {
      "model_module": "@jupyter-widgets/base",
      "model_module_version": "2.0.0",
      "model_name": "LayoutModel",
      "state": {}
     },
     "af0bcf26e1d0470a9a852d3a38ddec19": {
      "model_module": "@jupyter-widgets/base",
      "model_module_version": "2.0.0",
      "model_name": "LayoutModel",
      "state": {
       "width": "95%"
      }
     },
     "af4fce1182644b11bc76a124aeca514e": {
      "model_module": "@jupyter-widgets/controls",
      "model_module_version": "2.0.0",
      "model_name": "TextModel",
      "state": {
       "description": "User ID: ",
       "layout": "IPY_MODEL_40987201429248a5a739ba41ddc07e5e",
       "style": "IPY_MODEL_5c6292ef3c5b4637ba24330e484ecd51"
      }
     },
     "aff51f87fab240cd8cdd50ccdb24da85": {
      "model_module": "@jupyter-widgets/controls",
      "model_module_version": "2.0.0",
      "model_name": "TextStyleModel",
      "state": {
       "description_width": "",
       "font_size": null,
       "text_color": null
      }
     },
     "b049af3f587f4963956cedf11fc4a19a": {
      "model_module": "@jupyter-widgets/controls",
      "model_module_version": "2.0.0",
      "model_name": "TextModel",
      "state": {
       "description": "Input Path:",
       "layout": "IPY_MODEL_cf2184fe65bd4654a35a9f96e24760ca",
       "style": "IPY_MODEL_23cff1c034fc497791f3893e703fa9c5",
       "tooltip": "Path to query template spreadsheet (list of names, etc. to search)"
      }
     },
     "b12636c8ea294f46a8ce08ed3663c47e": {
      "model_module": "@jupyter-widgets/base",
      "model_module_version": "2.0.0",
      "model_name": "LayoutModel",
      "state": {}
     },
     "b1b48694026e46afb529e96f1eba3c54": {
      "model_module": "@jupyter-widgets/controls",
      "model_module_version": "2.0.0",
      "model_name": "IntTextModel",
      "state": {
       "description": "Max count:",
       "layout": "IPY_MODEL_754f5f245aa242edb02045d1dc42f251",
       "step": 1,
       "style": "IPY_MODEL_ab17fcdc698a4755873075cc6c2cb5d4"
      }
     },
     "b1f0f1aa5515496b82703fe49982d99f": {
      "model_module": "@jupyter-widgets/controls",
      "model_module_version": "2.0.0",
      "model_name": "PasswordModel",
      "state": {
       "description": "Password: ",
       "layout": "IPY_MODEL_835c21edfe924eb88a9a9a53407cd8b6",
       "style": "IPY_MODEL_aff51f87fab240cd8cdd50ccdb24da85"
      }
     },
     "b2f57de7717e45a8a01cddb053f16da5": {
      "model_module": "@jupyter-widgets/controls",
      "model_module_version": "2.0.0",
      "model_name": "HBoxModel",
      "state": {
       "children": [
        "IPY_MODEL_713e6dee9fe24762934d3b5c823e762b",
        "IPY_MODEL_f3f69b9fce504636965531038b7155bc"
       ],
       "layout": "IPY_MODEL_e0b0082991f949d598e35dc28dcad422"
      }
     },
     "b341d4342b924928a7315946a7cfd29f": {
      "model_module": "@jupyter-widgets/controls",
      "model_module_version": "2.0.0",
      "model_name": "ButtonStyleModel",
      "state": {
       "font_family": null,
       "font_size": null,
       "font_style": null,
       "font_variant": null,
       "font_weight": null,
       "text_color": null,
       "text_decoration": null
      }
     },
     "b3590d75e253430f90e01172de7eef13": {
      "model_module": "@jupyter-widgets/base",
      "model_module_version": "2.0.0",
      "model_name": "LayoutModel",
      "state": {}
     },
     "b3727bfb412b4448b118051ac3dc80df": {
      "model_module": "@jupyter-widgets/controls",
      "model_module_version": "2.0.0",
      "model_name": "PasswordModel",
      "state": {
       "description": "Password: ",
       "layout": "IPY_MODEL_c1168c6dec874823a2a59d0387d89eae",
       "style": "IPY_MODEL_02a600b0e6074b318c01d417f114d3d0"
      }
     },
     "b3e698e35c3d4dbe8d13b48888f4a24d": {
      "model_module": "@jupyter-widgets/base",
      "model_module_version": "2.0.0",
      "model_name": "LayoutModel",
      "state": {}
     },
     "b3f296f5034c4e589cafd1c8c8fa8e6c": {
      "model_module": "@jupyter-widgets/controls",
      "model_module_version": "2.0.0",
      "model_name": "DescriptionStyleModel",
      "state": {
       "description_width": ""
      }
     },
     "b456fd735f4e4005b449e3a73aebbb11": {
      "model_module": "@jupyter-widgets/controls",
      "model_module_version": "2.0.0",
      "model_name": "ButtonModel",
      "state": {
       "description": "Start export",
       "layout": "IPY_MODEL_4dc513907e524e21b2b5dd60a6b6a9f3",
       "style": "IPY_MODEL_3f5d8e9a7ca74c2a809c2d94269a8692",
       "tooltip": null
      }
     },
     "b45bda47304a4070b9c5f201e6712d4f": {
      "model_module": "@jupyter-widgets/base",
      "model_module_version": "2.0.0",
      "model_name": "LayoutModel",
      "state": {}
     },
     "b466192979014a6db0d6f95f9ac80867": {
      "model_module": "@jupyter-widgets/controls",
      "model_module_version": "2.0.0",
      "model_name": "DescriptionStyleModel",
      "state": {
       "description_width": ""
      }
     },
     "b584e81aecd94dd0a27e55001ee6eedb": {
      "model_module": "@jupyter-widgets/controls",
      "model_module_version": "2.0.0",
      "model_name": "FloatTextModel",
      "state": {
       "description": "Speed",
       "layout": "IPY_MODEL_97e96e80dde54a43b55dfa6b418f68ae",
       "step": 0.1,
       "style": "IPY_MODEL_aa3745fbb306437fbd3fac91c293b60a",
       "value": 1
      }
     },
     "b591d9ae586a49b1a8fc508781ee95ea": {
      "model_module": "@jupyter-widgets/base",
      "model_module_version": "2.0.0",
      "model_name": "LayoutModel",
      "state": {}
     },
     "b6c96ec06b7e4f22bf9f4d902dfd2e8d": {
      "model_module": "@jupyter-widgets/controls",
      "model_module_version": "2.0.0",
      "model_name": "HBoxModel",
      "state": {
       "children": [
        "IPY_MODEL_b584e81aecd94dd0a27e55001ee6eedb",
        "IPY_MODEL_dbd494909c254f7098c04cd2e8bc0079",
        "IPY_MODEL_112faddbe55b4396a1736e447b6ba355"
       ],
       "layout": "IPY_MODEL_73c0dcdc1ed64a6692bc0198f6f17d6d"
      }
     },
     "b80ec04233874f15a76b9ebd5e93c8fe": {
      "model_module": "@jupyter-widgets/base",
      "model_module_version": "2.0.0",
      "model_name": "LayoutModel",
      "state": {}
     },
     "b82423f6ca7e4c8896f632f8ebb2e45b": {
      "model_module": "@jupyter-widgets/controls",
      "model_module_version": "2.0.0",
      "model_name": "DescriptionStyleModel",
      "state": {
       "description_width": ""
      }
     },
     "b824980c9a9a407e9b67ad2cb644f54b": {
      "model_module": "@jupyter-widgets/controls",
      "model_module_version": "2.0.0",
      "model_name": "TextModel",
      "state": {
       "description": "Input Path",
       "layout": "IPY_MODEL_7a990c93f0e142c983e87748bb4c55f2",
       "style": "IPY_MODEL_52980398487247208e466035ab552c22",
       "tooltip": "Path to PDF directory"
      }
     },
     "b8a679845ef6457cbdf365515724e833": {
      "model_module": "@jupyter-widgets/base",
      "model_module_version": "2.0.0",
      "model_name": "LayoutModel",
      "state": {}
     },
     "b9854450665349ce95433a5e6b9ddf34": {
      "model_module": "@jupyter-widgets/controls",
      "model_module_version": "2.0.0",
      "model_name": "DescriptionStyleModel",
      "state": {
       "description_width": ""
      }
     },
     "bb0dc930827a45dd89a01390165400be": {
      "model_module": "@jupyter-widgets/controls",
      "model_module_version": "2.0.0",
      "model_name": "TextModel",
      "state": {
       "description": "Input Path",
       "layout": "IPY_MODEL_8257fa0f067a4ae796bfdb6506c523fb",
       "style": "IPY_MODEL_a179c02ee2444440bd42c037cac6eb8e",
       "tooltip": "Path to PDF directory"
      }
     },
     "bb40a00452a348408d71ac298f71b90c": {
      "model_module": "@jupyter-widgets/controls",
      "model_module_version": "2.0.0",
      "model_name": "CheckboxStyleModel",
      "state": {
       "description_width": ""
      }
     },
     "bb53845768a14bdd93bfd8bf399ccee2": {
      "model_module": "@jupyter-widgets/controls",
      "model_module_version": "2.0.0",
      "model_name": "TextStyleModel",
      "state": {
       "description_width": "",
       "font_size": null,
       "text_color": null
      }
     },
     "bb973764d7bd46b0aa9e8ee147aebb33": {
      "model_module": "@jupyter-widgets/controls",
      "model_module_version": "2.0.0",
      "model_name": "DescriptionStyleModel",
      "state": {
       "description_width": ""
      }
     },
     "bbca61f7858f4b3d9d81e2e851e3724c": {
      "model_module": "@jupyter-widgets/controls",
      "model_module_version": "2.0.0",
      "model_name": "CheckboxStyleModel",
      "state": {
       "description_width": ""
      }
     },
     "bccffe81fa7a4c969b1ef6b0864a130c": {
      "model_module": "@jupyter-widgets/controls",
      "model_module_version": "2.0.0",
      "model_name": "TextStyleModel",
      "state": {
       "description_width": "",
       "font_size": null,
       "text_color": null
      }
     },
     "bd2c401ebc7e499089fa8f57d9f6f1aa": {
      "model_module": "@jupyter-widgets/controls",
      "model_module_version": "2.0.0",
      "model_name": "CheckboxModel",
      "state": {
       "description": "ZIP export (must be .json, .csv)",
       "disabled": false,
       "layout": "IPY_MODEL_e4126d3c783c4ed189e28718149d2b6a",
       "style": "IPY_MODEL_4cfc58c4ba994e26a0a9b8b9976cb2f3",
       "value": false
      }
     },
     "bd4f0f3d7ee14011a81cf4780ce79ea6": {
      "model_module": "@jupyter-widgets/base",
      "model_module_version": "2.0.0",
      "model_name": "LayoutModel",
      "state": {}
     },
     "bd585ee8f35043baa9164d7ad079b9f0": {
      "model_module": "@jupyter-widgets/base",
      "model_module_version": "2.0.0",
      "model_name": "LayoutModel",
      "state": {}
     },
     "bd6dbb93d4ee486ca25a06d0ddf3aba8": {
      "model_module": "@jupyter-widgets/controls",
      "model_module_version": "2.0.0",
      "model_name": "TextStyleModel",
      "state": {
       "description_width": "",
       "font_size": null,
       "text_color": null
      }
     },
     "bdbd3e48418c43448205fb4fb22f049f": {
      "model_module": "@jupyter-widgets/controls",
      "model_module_version": "2.0.0",
      "model_name": "CheckboxStyleModel",
      "state": {
       "description_width": ""
      }
     },
     "bddc9ea0930c46f3ac77efe5e07eab64": {
      "model_module": "@jupyter-widgets/controls",
      "model_module_version": "2.0.0",
      "model_name": "CheckboxStyleModel",
      "state": {
       "description_width": ""
      }
     },
     "be3bb19393614b9dbb412c84cba4a3b0": {
      "model_module": "@jupyter-widgets/base",
      "model_module_version": "2.0.0",
      "model_name": "LayoutModel",
      "state": {
       "width": "95%"
      }
     },
     "be753b9a1b8a44d085388a34622ec3ed": {
      "model_module": "@jupyter-widgets/controls",
      "model_module_version": "2.0.0",
      "model_name": "ButtonStyleModel",
      "state": {
       "font_family": null,
       "font_size": null,
       "font_style": null,
       "font_variant": null,
       "font_weight": null,
       "text_color": null,
       "text_decoration": null
      }
     },
     "be76fceb38064e6d9a0dd2a6b13baf53": {
      "model_module": "@jupyter-widgets/base",
      "model_module_version": "2.0.0",
      "model_name": "LayoutModel",
      "state": {}
     },
     "bf58e12ccbd045a59349bbf6f286fb44": {
      "model_module": "@jupyter-widgets/controls",
      "model_module_version": "2.0.0",
      "model_name": "DescriptionStyleModel",
      "state": {
       "description_width": ""
      }
     },
     "bf681c424ca74967853ed0914dc20c2c": {
      "model_module": "@jupyter-widgets/controls",
      "model_module_version": "2.0.0",
      "model_name": "DescriptionStyleModel",
      "state": {
       "description_width": ""
      }
     },
     "c06b4ec1d28d42988f75eb9b852ea9f9": {
      "model_module": "@jupyter-widgets/controls",
      "model_module_version": "2.0.0",
      "model_name": "DescriptionStyleModel",
      "state": {
       "description_width": ""
      }
     },
     "c06dfcbee9814491b11074f7e531ac9b": {
      "model_module": "@jupyter-widgets/base",
      "model_module_version": "2.0.0",
      "model_name": "LayoutModel",
      "state": {}
     },
     "c0aa64ab239b4c75a9658db3d0351301": {
      "model_module": "@jupyter-widgets/base",
      "model_module_version": "2.0.0",
      "model_name": "LayoutModel",
      "state": {}
     },
     "c0f49c89fe9d4e5ba75b0e4568b8401a": {
      "model_module": "@jupyter-widgets/base",
      "model_module_version": "2.0.0",
      "model_name": "LayoutModel",
      "state": {}
     },
     "c114e6bbd7a74d4e8fadbe577e89024c": {
      "model_module": "@jupyter-widgets/controls",
      "model_module_version": "2.0.0",
      "model_name": "CheckboxStyleModel",
      "state": {
       "description_width": ""
      }
     },
     "c1168c6dec874823a2a59d0387d89eae": {
      "model_module": "@jupyter-widgets/base",
      "model_module_version": "2.0.0",
      "model_name": "LayoutModel",
      "state": {}
     },
     "c13af4f516a342e5a343c16901e170a5": {
      "model_module": "@jupyter-widgets/controls",
      "model_module_version": "2.0.0",
      "model_name": "IntTextModel",
      "state": {
       "description": "Max rows",
       "layout": "IPY_MODEL_a11c388cb78b4dda8345808ece92014c",
       "step": 1,
       "style": "IPY_MODEL_dc475e1df71b4f0c9ca66b25fd02f21a"
      }
     },
     "c1c6d037daf04409bc1d9ee3d45eb264": {
      "model_module": "@jupyter-widgets/controls",
      "model_module_version": "2.0.0",
      "model_name": "CheckboxModel",
      "state": {
       "description": "ZIP export (must be .json, .csv)",
       "disabled": false,
       "layout": "IPY_MODEL_8067d0e062f24806b5225f3ce237061b",
       "style": "IPY_MODEL_4043ed4810394dc6bfcc51578bddb078",
       "value": false
      }
     },
     "c1e2ea8a7fc144e0a1475b849a8edbe8": {
      "model_module": "@jupyter-widgets/base",
      "model_module_version": "2.0.0",
      "model_name": "LayoutModel",
      "state": {}
     },
     "c1eceb6c9e464c988685dd7ee40fdd00": {
      "model_module": "@jupyter-widgets/controls",
      "model_module_version": "2.0.0",
      "model_name": "TextStyleModel",
      "state": {
       "description_width": "",
       "font_size": null,
       "text_color": null
      }
     },
     "c2123d718bdf4ae2b17f0693d8f8403b": {
      "model_module": "@jupyter-widgets/controls",
      "model_module_version": "2.0.0",
      "model_name": "TextStyleModel",
      "state": {
       "description_width": "",
       "font_size": null,
       "text_color": null
      }
     },
     "c2127d44dc594fd5b1630f21ec43e92b": {
      "model_module": "@jupyter-widgets/base",
      "model_module_version": "2.0.0",
      "model_name": "LayoutModel",
      "state": {}
     },
     "c23d958e76204f62a3dcc8c01e65ced8": {
      "model_module": "@jupyter-widgets/controls",
      "model_module_version": "2.0.0",
      "model_name": "TextModel",
      "state": {
       "description": "Output Path",
       "layout": "IPY_MODEL_13456c9fa4ee4bdd96fd1bc76f84ac14",
       "style": "IPY_MODEL_0b63fb93630345f4b0032554377c1d8e"
      }
     },
     "c2fd7604534a4bd8aa979e166f3ada8f": {
      "model_module": "@jupyter-widgets/base",
      "model_module_version": "2.0.0",
      "model_name": "LayoutModel",
      "state": {}
     },
     "c35409e837844708a06f7dceeb1ad12d": {
      "model_module": "@jupyter-widgets/controls",
      "model_module_version": "2.0.0",
      "model_name": "DescriptionStyleModel",
      "state": {
       "description_width": ""
      }
     },
     "c35dc70aa7b94577a2afb9958461d680": {
      "model_module": "@jupyter-widgets/base",
      "model_module_version": "2.0.0",
      "model_name": "LayoutModel",
      "state": {
       "width": "90%"
      }
     },
     "c38046e4ec05492e9dc2dc5b50f8e246": {
      "model_module": "@jupyter-widgets/controls",
      "model_module_version": "2.0.0",
      "model_name": "ButtonStyleModel",
      "state": {
       "font_family": null,
       "font_size": null,
       "font_style": null,
       "font_variant": null,
       "font_weight": null,
       "text_color": null,
       "text_decoration": null
      }
     },
     "c39ba529a5d04e6695770695bde4dca8": {
      "model_module": "@jupyter-widgets/controls",
      "model_module_version": "2.0.0",
      "model_name": "TextModel",
      "state": {
       "description": "Input Path:",
       "layout": "IPY_MODEL_09c8d59ce062405196700a036a8379be",
       "style": "IPY_MODEL_3bf3caeb358044a8bf6c04fe6c2e7587",
       "tooltip": "Path to query template spreadsheet (list of names, etc. to search)"
      }
     },
     "c3a9de6a8dfd4250a16866a24e6754cc": {
      "model_module": "@jupyter-widgets/controls",
      "model_module_version": "2.0.0",
      "model_name": "IntTextModel",
      "state": {
       "description": "Set max count",
       "layout": "IPY_MODEL_7716e2cea1c34cef8cdf8698b777440c",
       "step": 1,
       "style": "IPY_MODEL_9d44a1ead1524bbc9a9875286edf4e49"
      }
     },
     "c3e242c2047a43b4b874d70ca1a88ce6": {
      "model_module": "@jupyter-widgets/controls",
      "model_module_version": "2.0.0",
      "model_name": "HBoxModel",
      "state": {
       "children": [
        "IPY_MODEL_1ebe70c2e9d64cf8b46690d5d9a47ee7",
        "IPY_MODEL_606e3f441aa444d5beee3af14e705e96",
        "IPY_MODEL_c13af4f516a342e5a343c16901e170a5"
       ],
       "layout": "IPY_MODEL_5d002ed2785149509695d85462416940"
      }
     },
     "c45bfe574a7a4010938f912ee83d8808": {
      "model_module": "@jupyter-widgets/controls",
      "model_module_version": "2.0.0",
      "model_name": "TextStyleModel",
      "state": {
       "description_width": "",
       "font_size": null,
       "text_color": null
      }
     },
     "c46715dd325043a19c0ab2f4e13acf86": {
      "model_module": "@jupyter-widgets/output",
      "model_module_version": "1.0.0",
      "model_name": "OutputModel",
      "state": {
       "layout": "IPY_MODEL_2f6b678ff9cf4b709161858eed8e485b"
      }
     },
     "c4e9135e781e4710a490a939b789e9f9": {
      "model_module": "@jupyter-widgets/base",
      "model_module_version": "2.0.0",
      "model_name": "LayoutModel",
      "state": {}
     },
     "c504010d2ac9425e9e6099ec79ee6602": {
      "model_module": "@jupyter-widgets/base",
      "model_module_version": "2.0.0",
      "model_name": "LayoutModel",
      "state": {
       "width": "90%"
      }
     },
     "c51b21d90d9c49f588e04d20042901d6": {
      "model_module": "@jupyter-widgets/controls",
      "model_module_version": "2.0.0",
      "model_name": "FloatTextModel",
      "state": {
       "description": "Speed",
       "layout": "IPY_MODEL_8dede36c611e489f95d31589157c0d81",
       "step": 0.1,
       "style": "IPY_MODEL_84f128ea70da4fd5894564b5665b2811",
       "value": 1
      }
     },
     "c52ca5cf0b7d463f90d2fa477e4dfee2": {
      "model_module": "@jupyter-widgets/controls",
      "model_module_version": "2.0.0",
      "model_name": "TextStyleModel",
      "state": {
       "description_width": "",
       "font_size": null,
       "text_color": null
      }
     },
     "c5ace70787ee42e386b85423d2e80a0e": {
      "model_module": "@jupyter-widgets/controls",
      "model_module_version": "2.0.0",
      "model_name": "DescriptionStyleModel",
      "state": {
       "description_width": ""
      }
     },
     "c5cbc1544e60456c818b3e9c35794e27": {
      "model_module": "@jupyter-widgets/base",
      "model_module_version": "2.0.0",
      "model_name": "LayoutModel",
      "state": {}
     },
     "c66f52e9e22e41859254dfc26ec489b0": {
      "model_module": "@jupyter-widgets/controls",
      "model_module_version": "2.0.0",
      "model_name": "IntTextModel",
      "state": {
       "description": "Set max count",
       "layout": "IPY_MODEL_486c0ca7ab2044e2b8090ea5ec47057c",
       "step": 1,
       "style": "IPY_MODEL_d23642cfafed41a98a43f35da62bf88e"
      }
     },
     "c6763b119f6041e4b8f59d1beae408a3": {
      "model_module": "@jupyter-widgets/controls",
      "model_module_version": "2.0.0",
      "model_name": "CheckboxModel",
      "state": {
       "description": "Allow overwrite",
       "disabled": false,
       "layout": "IPY_MODEL_43db58e09ef94f74a2eb0de0bb968555",
       "style": "IPY_MODEL_d843450bf9d949e9bfc3824edd68742b",
       "value": false
      }
     },
     "c6857a02790347bfba42de7459ccbcac": {
      "model_module": "@jupyter-widgets/controls",
      "model_module_version": "2.0.0",
      "model_name": "TextStyleModel",
      "state": {
       "description_width": "",
       "font_size": null,
       "text_color": null
      }
     },
     "c76d3fa9599c4e0e9996e96aa6b7f581": {
      "model_module": "@jupyter-widgets/controls",
      "model_module_version": "2.0.0",
      "model_name": "CheckboxModel",
      "state": {
       "description": "Allow overwrite",
       "disabled": false,
       "layout": "IPY_MODEL_c925f983e2144000a32d4ff54b987917",
       "style": "IPY_MODEL_ca204cb1c5da42d595e8ec9e6aaf3bca",
       "value": false
      }
     },
     "c80f46ddec08424aa2f46089d63c3eef": {
      "model_module": "@jupyter-widgets/base",
      "model_module_version": "2.0.0",
      "model_name": "LayoutModel",
      "state": {}
     },
     "c812f307612f43ac8ddc20807c16b2ef": {
      "model_module": "@jupyter-widgets/controls",
      "model_module_version": "2.0.0",
      "model_name": "TextModel",
      "state": {
       "description": "Output Path",
       "layout": "IPY_MODEL_47139d8121144a708f66926f9084652d",
       "style": "IPY_MODEL_8a27187e03844a82be8ba50584435139"
      }
     },
     "c81fb08ea3d243a686ed2d4d2a9604b7": {
      "model_module": "@jupyter-widgets/base",
      "model_module_version": "2.0.0",
      "model_name": "LayoutModel",
      "state": {
       "width": "90%"
      }
     },
     "c85773df65e24ea397108a16f2c87951": {
      "model_module": "@jupyter-widgets/base",
      "model_module_version": "2.0.0",
      "model_name": "LayoutModel",
      "state": {}
     },
     "c8808815d4cc42f9a7e29a824163bb9b": {
      "model_module": "@jupyter-widgets/controls",
      "model_module_version": "2.0.0",
      "model_name": "IntTextModel",
      "state": {
       "description": "Set max count",
       "layout": "IPY_MODEL_2b0122048c914f42a6918c39677e4d7f",
       "step": 1,
       "style": "IPY_MODEL_43654fb7e01840efad862a90e372a1aa"
      }
     },
     "c892793583fd4717ab6b91ec9798aa01": {
      "model_module": "@jupyter-widgets/controls",
      "model_module_version": "2.0.0",
      "model_name": "CheckboxStyleModel",
      "state": {
       "description_width": ""
      }
     },
     "c925f983e2144000a32d4ff54b987917": {
      "model_module": "@jupyter-widgets/base",
      "model_module_version": "2.0.0",
      "model_name": "LayoutModel",
      "state": {}
     },
     "c9501a5440884540be2bf717d4a47ded": {
      "model_module": "@jupyter-widgets/controls",
      "model_module_version": "2.0.0",
      "model_name": "CheckboxModel",
      "state": {
       "description": "Don't split in batches",
       "disabled": false,
       "layout": "IPY_MODEL_54523d7e0e0146439f58a04f885ee83a",
       "style": "IPY_MODEL_1426e690ae5d485db04de5f82d7f76d0",
       "value": false
      }
     },
     "c96d1052c9b04d63abd9b3ae94bc6d13": {
      "model_module": "@jupyter-widgets/base",
      "model_module_version": "2.0.0",
      "model_name": "LayoutModel",
      "state": {
       "width": "90%"
      }
     },
     "c990a6a257984492b1a680d3a0fe9b73": {
      "model_module": "@jupyter-widgets/controls",
      "model_module_version": "2.0.0",
      "model_name": "CheckboxStyleModel",
      "state": {
       "description_width": ""
      }
     },
     "c9921a5774b5466b8b06eb961419cfc2": {
      "model_module": "@jupyter-widgets/controls",
      "model_module_version": "2.0.0",
      "model_name": "HBoxModel",
      "state": {
       "children": [
        "IPY_MODEL_c6763b119f6041e4b8f59d1beae408a3",
        "IPY_MODEL_94d39eb5c4584b7888e87dabf43aa699",
        "IPY_MODEL_bd2c401ebc7e499089fa8f57d9f6f1aa"
       ],
       "layout": "IPY_MODEL_333c51148f934eb6a3a463d5969809d1"
      }
     },
     "ca204cb1c5da42d595e8ec9e6aaf3bca": {
      "model_module": "@jupyter-widgets/controls",
      "model_module_version": "2.0.0",
      "model_name": "CheckboxStyleModel",
      "state": {
       "description_width": ""
      }
     },
     "ca74db99a2634c6fb259bc35121359b0": {
      "model_module": "@jupyter-widgets/controls",
      "model_module_version": "2.0.0",
      "model_name": "DescriptionStyleModel",
      "state": {
       "description_width": ""
      }
     },
     "cbeb8e7c37f0406d802293db1c70fa55": {
      "model_module": "@jupyter-widgets/base",
      "model_module_version": "2.0.0",
      "model_name": "LayoutModel",
      "state": {
       "width": "40%"
      }
     },
     "cc196c56816945f19038321bd12329d2": {
      "model_module": "@jupyter-widgets/controls",
      "model_module_version": "2.0.0",
      "model_name": "TextModel",
      "state": {
       "description": "Input Path",
       "layout": "IPY_MODEL_7059d2681a7949ffbba3581bfd3f7f9e",
       "style": "IPY_MODEL_61a953ca749c444d89206b32a182c40e",
       "tooltip": "Path to input directory or archive"
      }
     },
     "cc2958ae68944aef9eeea0ade02c70a0": {
      "model_module": "@jupyter-widgets/controls",
      "model_module_version": "2.0.0",
      "model_name": "HBoxModel",
      "state": {
       "children": [
        "IPY_MODEL_d3b1d7841a0447e2ac294b3f06377855",
        "IPY_MODEL_f85f3f5cd5a24beaadd55d188377e19a",
        "IPY_MODEL_3b6bcbc74f1840ed868d9a3df47922cf"
       ],
       "layout": "IPY_MODEL_5c6aaf8e640f4dfa935117759af65062"
      }
     },
     "cc2f84d30ef0431e8efe136f22c0f3e9": {
      "model_module": "@jupyter-widgets/controls",
      "model_module_version": "2.0.0",
      "model_name": "IntTextModel",
      "state": {
       "description": "Max count:",
       "layout": "IPY_MODEL_cf530aee5f974bbca4ee0bd83a7c89ee",
       "step": 1,
       "style": "IPY_MODEL_f63dc546ebc041ad9e6befd0dfa08f50"
      }
     },
     "cc8675c37b4b40aba91166bc7a68e2e0": {
      "model_module": "@jupyter-widgets/controls",
      "model_module_version": "2.0.0",
      "model_name": "CheckboxModel",
      "state": {
       "description": "Allow overwrite",
       "disabled": false,
       "layout": "IPY_MODEL_4149f35b284e40aa8c997326bef8cc4f",
       "style": "IPY_MODEL_c114e6bbd7a74d4e8fadbe577e89024c",
       "value": false
      }
     },
     "cc9344235e2b4eba975a33f7257ef3c0": {
      "model_module": "@jupyter-widgets/controls",
      "model_module_version": "2.0.0",
      "model_name": "DescriptionStyleModel",
      "state": {
       "description_width": ""
      }
     },
     "ccc94669279b49aa9855503d66b1ec9b": {
      "model_module": "@jupyter-widgets/controls",
      "model_module_version": "2.0.0",
      "model_name": "ButtonStyleModel",
      "state": {
       "font_family": null,
       "font_size": null,
       "font_style": null,
       "font_variant": null,
       "font_weight": null,
       "text_color": null,
       "text_decoration": null
      }
     },
     "cd474d3dd51e4935a00f9c5504b7f281": {
      "model_module": "@jupyter-widgets/controls",
      "model_module_version": "2.0.0",
      "model_name": "TextModel",
      "state": {
       "description": "Input Path",
       "layout": "IPY_MODEL_6aa97505c0be4e8caa91bb5ff2824cd3",
       "style": "IPY_MODEL_3687fa2babe2476392cfaf67c3d52bc8",
       "tooltip": "Path to PDF directory",
       "value": "/Users/samuelrobson/Desktop/pdfbin2/"
      }
     },
     "cef6891d94f3434e919f31eafc7b32ea": {
      "model_module": "@jupyter-widgets/controls",
      "model_module_version": "2.0.0",
      "model_name": "CheckboxStyleModel",
      "state": {
       "description_width": ""
      }
     },
     "cf2184fe65bd4654a35a9f96e24760ca": {
      "model_module": "@jupyter-widgets/base",
      "model_module_version": "2.0.0",
      "model_name": "LayoutModel",
      "state": {
       "width": "90%"
      }
     },
     "cf530aee5f974bbca4ee0bd83a7c89ee": {
      "model_module": "@jupyter-widgets/base",
      "model_module_version": "2.0.0",
      "model_name": "LayoutModel",
      "state": {}
     },
     "cffb63d223c14669bb322cd576df6702": {
      "model_module": "@jupyter-widgets/base",
      "model_module_version": "2.0.0",
      "model_name": "LayoutModel",
      "state": {}
     },
     "d0416117a49146cf9445250387ccf09f": {
      "model_module": "@jupyter-widgets/output",
      "model_module_version": "1.0.0",
      "model_name": "OutputModel",
      "state": {
       "layout": "IPY_MODEL_b8a679845ef6457cbdf365515724e833"
      }
     },
     "d12156d4d75348d0a52efaf0792f894f": {
      "model_module": "@jupyter-widgets/controls",
      "model_module_version": "2.0.0",
      "model_name": "CheckboxStyleModel",
      "state": {
       "description_width": ""
      }
     },
     "d155847f62a84cb4bad936a71472883d": {
      "model_module": "@jupyter-widgets/controls",
      "model_module_version": "2.0.0",
      "model_name": "IntTextModel",
      "state": {
       "description": "Set max count",
       "layout": "IPY_MODEL_6809ba31b25e46d5bee37eb332957f86",
       "step": 1,
       "style": "IPY_MODEL_bf58e12ccbd045a59349bbf6f286fb44"
      }
     },
     "d1f18269bc4f4931a7b0b6077cc2cef2": {
      "model_module": "@jupyter-widgets/base",
      "model_module_version": "2.0.0",
      "model_name": "LayoutModel",
      "state": {}
     },
     "d23642cfafed41a98a43f35da62bf88e": {
      "model_module": "@jupyter-widgets/controls",
      "model_module_version": "2.0.0",
      "model_name": "DescriptionStyleModel",
      "state": {
       "description_width": ""
      }
     },
     "d24e95325b9e4544b35b1f5b3beb7ef7": {
      "model_module": "@jupyter-widgets/controls",
      "model_module_version": "2.0.0",
      "model_name": "ButtonModel",
      "state": {
       "description": "Start archiving",
       "layout": "IPY_MODEL_e4d5d7edbb9240e58d54c0ded082ee0c",
       "style": "IPY_MODEL_a378ca414b704c40ad111fa99505cc55",
       "tooltip": null
      }
     },
     "d2654a6f4b8a4094bd793aa5420241d8": {
      "model_module": "@jupyter-widgets/controls",
      "model_module_version": "2.0.0",
      "model_name": "ButtonModel",
      "state": {
       "description": "Start export",
       "layout": "IPY_MODEL_c85773df65e24ea397108a16f2c87951",
       "style": "IPY_MODEL_de32ae6bbbe041bda59bdcb7e9812d4b",
       "tooltip": null
      }
     },
     "d2f27d31c2d54da387c6cc96f6fe13a3": {
      "model_module": "@jupyter-widgets/controls",
      "model_module_version": "2.0.0",
      "model_name": "CheckboxModel",
      "state": {
       "description": "Allow overwrite",
       "disabled": false,
       "layout": "IPY_MODEL_bd4f0f3d7ee14011a81cf4780ce79ea6",
       "style": "IPY_MODEL_58afe38431884f5bba0c6a97b774c557",
       "value": true
      }
     },
     "d3369a3e485148678f08a6f8aea969bc": {
      "model_module": "@jupyter-widgets/controls",
      "model_module_version": "2.0.0",
      "model_name": "DescriptionStyleModel",
      "state": {
       "description_width": ""
      }
     },
     "d348c06b3c3546cea8a35576e14d0750": {
      "model_module": "@jupyter-widgets/controls",
      "model_module_version": "2.0.0",
      "model_name": "TextModel",
      "state": {
       "description": "User ID: ",
       "layout": "IPY_MODEL_ecf48dc0005d4500975e229e479d97ec",
       "style": "IPY_MODEL_473f490556314fdf8b281147b675ff32"
      }
     },
     "d36b118bc66549ac8ccd67f93f3d6043": {
      "model_module": "@jupyter-widgets/controls",
      "model_module_version": "2.0.0",
      "model_name": "TextStyleModel",
      "state": {
       "description_width": "",
       "font_size": null,
       "text_color": null
      }
     },
     "d3b1d7841a0447e2ac294b3f06377855": {
      "model_module": "@jupyter-widgets/controls",
      "model_module_version": "2.0.0",
      "model_name": "FloatTextModel",
      "state": {
       "description": "Speed",
       "layout": "IPY_MODEL_020988351c4b42acb7c3c93e765a34e0",
       "step": 0.1,
       "style": "IPY_MODEL_f60e442a757b46d6b8714b4c61c0ebbe",
       "value": 1
      }
     },
     "d3e5102f062d41ebac76f21515b99cfb": {
      "model_module": "@jupyter-widgets/base",
      "model_module_version": "2.0.0",
      "model_name": "LayoutModel",
      "state": {}
     },
     "d49d42afa91b4c17996d8ea22b73cb37": {
      "model_module": "@jupyter-widgets/controls",
      "model_module_version": "2.0.0",
      "model_name": "IntTextModel",
      "state": {
       "description": "Skip rows",
       "layout": "IPY_MODEL_4919c53daa074aabbe374c63af9f7c60",
       "step": 1,
       "style": "IPY_MODEL_dc72785907444c128a5213aa8fed1d15"
      }
     },
     "d49dfc6532674317a895f9e0f3130add": {
      "model_module": "@jupyter-widgets/controls",
      "model_module_version": "2.0.0",
      "model_name": "TextModel",
      "state": {
       "description": "Input Path",
       "layout": "IPY_MODEL_2355a08375694c63b04e1b133e688bd8",
       "style": "IPY_MODEL_8fec93972b294254b94f814542ff536d",
       "tooltip": "Path to input directory or archive"
      }
     },
     "d4a7f3a278c5494cafd6a76951bc1331": {
      "model_module": "@jupyter-widgets/base",
      "model_module_version": "2.0.0",
      "model_name": "LayoutModel",
      "state": {}
     },
     "d5497973147c49d6a9f7c51ad42c4c98": {
      "model_module": "@jupyter-widgets/controls",
      "model_module_version": "2.0.0",
      "model_name": "TextStyleModel",
      "state": {
       "description_width": "",
       "font_size": null,
       "text_color": null
      }
     },
     "d54e7a3313a54697bcebd0c2beca679a": {
      "model_module": "@jupyter-widgets/controls",
      "model_module_version": "2.0.0",
      "model_name": "DescriptionStyleModel",
      "state": {
       "description_width": ""
      }
     },
     "d55feafa282d44a3a856c5b6f502ccb6": {
      "model_module": "@jupyter-widgets/controls",
      "model_module_version": "2.0.0",
      "model_name": "CheckboxModel",
      "state": {
       "description": "Remove duplicates",
       "disabled": false,
       "layout": "IPY_MODEL_3afe7a0b715f48fa962ab0fe35d90825",
       "style": "IPY_MODEL_0d971ad803fc429ea6ccf0c13f330388",
       "value": false
      }
     },
     "d561ab5b4cfc4608809e76ea9f703d74": {
      "model_module": "@jupyter-widgets/base",
      "model_module_version": "2.0.0",
      "model_name": "LayoutModel",
      "state": {
       "width": "90%"
      }
     },
     "d58d17eff3174382b20c20b521f2e9c0": {
      "model_module": "@jupyter-widgets/controls",
      "model_module_version": "2.0.0",
      "model_name": "CheckboxModel",
      "state": {
       "description": "Don't split in batches",
       "disabled": false,
       "layout": "IPY_MODEL_8a7faffc3f37435bb9515ff0035dde05",
       "style": "IPY_MODEL_bdbd3e48418c43448205fb4fb22f049f",
       "value": false
      }
     },
     "d5a3c3d7b36e4a75879aa962d051960d": {
      "model_module": "@jupyter-widgets/controls",
      "model_module_version": "2.0.0",
      "model_name": "TextModel",
      "state": {
       "description": "Output Path",
       "layout": "IPY_MODEL_0b9c76979ca84b95ae3a1f4d4a053940",
       "style": "IPY_MODEL_93f7568b6e5a431e952073b10197cf3a"
      }
     },
     "d5d7e158cd8d4d71a1db8a37828fe360": {
      "model_module": "@jupyter-widgets/controls",
      "model_module_version": "2.0.0",
      "model_name": "TextStyleModel",
      "state": {
       "description_width": "",
       "font_size": null,
       "text_color": null
      }
     },
     "d62403f24cfd48a1b22ae10a8d07cdf1": {
      "model_module": "@jupyter-widgets/controls",
      "model_module_version": "2.0.0",
      "model_name": "CheckboxStyleModel",
      "state": {
       "description_width": ""
      }
     },
     "d712827235ec4286a5b5a64ad73be3c0": {
      "model_module": "@jupyter-widgets/base",
      "model_module_version": "2.0.0",
      "model_name": "LayoutModel",
      "state": {}
     },
     "d7b4c742a01b4fb3971c63b48b99da2c": {
      "model_module": "@jupyter-widgets/base",
      "model_module_version": "2.0.0",
      "model_name": "LayoutModel",
      "state": {
       "width": "40%"
      }
     },
     "d806e66a89ee4c8690367cc9011ed99f": {
      "model_module": "@jupyter-widgets/controls",
      "model_module_version": "2.0.0",
      "model_name": "CheckboxStyleModel",
      "state": {
       "description_width": ""
      }
     },
     "d81fb5651b794b769d77d9104bb59aa2": {
      "model_module": "@jupyter-widgets/controls",
      "model_module_version": "2.0.0",
      "model_name": "CheckboxModel",
      "state": {
       "description": "Allow overwrite",
       "disabled": false,
       "layout": "IPY_MODEL_3a85be1e3b21465088be022856b8c892",
       "style": "IPY_MODEL_8db27f5af4e6438a8b260516de497557",
       "value": false
      }
     },
     "d83a867493854f10997e7fe44d40788f": {
      "model_module": "@jupyter-widgets/base",
      "model_module_version": "2.0.0",
      "model_name": "LayoutModel",
      "state": {
       "width": "95%"
      }
     },
     "d843450bf9d949e9bfc3824edd68742b": {
      "model_module": "@jupyter-widgets/controls",
      "model_module_version": "2.0.0",
      "model_name": "CheckboxStyleModel",
      "state": {
       "description_width": ""
      }
     },
     "d849a2c0ca9140f4a3c7b6187c12ae6d": {
      "model_module": "@jupyter-widgets/base",
      "model_module_version": "2.0.0",
      "model_name": "LayoutModel",
      "state": {
       "width": "90%"
      }
     },
     "d889ef1eec014d1bb0bb6eded9128767": {
      "model_module": "@jupyter-widgets/base",
      "model_module_version": "2.0.0",
      "model_name": "LayoutModel",
      "state": {}
     },
     "d89d910b53c34d76b753ec74ec06ddf6": {
      "model_module": "@jupyter-widgets/controls",
      "model_module_version": "2.0.0",
      "model_name": "CheckboxStyleModel",
      "state": {
       "description_width": ""
      }
     },
     "d8cd5fb6ae00486f9a126ac2c26617ea": {
      "model_module": "@jupyter-widgets/controls",
      "model_module_version": "2.0.0",
      "model_name": "ButtonStyleModel",
      "state": {
       "font_family": null,
       "font_size": null,
       "font_style": null,
       "font_variant": null,
       "font_weight": null,
       "text_color": null,
       "text_decoration": null
      }
     },
     "d8cf8e5effb34253be1aaecd77bfe935": {
      "model_module": "@jupyter-widgets/controls",
      "model_module_version": "2.0.0",
      "model_name": "TextModel",
      "state": {
       "description": "Input Path",
       "layout": "IPY_MODEL_315a81a2581a4f62b4a4feec4668ac47",
       "style": "IPY_MODEL_4e0bb18ed701411b8de6a846b3326f1b",
       "tooltip": "Path to input directory or archive",
       "value": "/Users/samuelrobson/Desktop/PDFBENZ2.pkl.xz"
      }
     },
     "d9591095d5ce4cedb9fcface328bbc35": {
      "model_module": "@jupyter-widgets/controls",
      "model_module_version": "2.0.0",
      "model_name": "CheckboxStyleModel",
      "state": {
       "description_width": ""
      }
     },
     "d9c9791e9b75477cae90e7f0dc88f690": {
      "model_module": "@jupyter-widgets/output",
      "model_module_version": "1.0.0",
      "model_name": "OutputModel",
      "state": {
       "layout": "IPY_MODEL_524fb9355a514419991cb479d09a3ccb"
      }
     },
     "d9cb75787e8d4ece84ac158d1a2ce1df": {
      "model_module": "@jupyter-widgets/controls",
      "model_module_version": "2.0.0",
      "model_name": "TextStyleModel",
      "state": {
       "description_width": "",
       "font_size": null,
       "text_color": null
      }
     },
     "db2146cb5c7b4c76a2b2854654370a8d": {
      "model_module": "@jupyter-widgets/controls",
      "model_module_version": "2.0.0",
      "model_name": "HBoxModel",
      "state": {
       "children": [
        "IPY_MODEL_a5a9fc82e79842e0956429dd2f76cd75",
        "IPY_MODEL_5a30a9fc4f9f412287a44e109aca24ff"
       ],
       "layout": "IPY_MODEL_b591d9ae586a49b1a8fc508781ee95ea"
      }
     },
     "db35f3a2e95e4a4da7027f92004819e9": {
      "model_module": "@jupyter-widgets/controls",
      "model_module_version": "2.0.0",
      "model_name": "DescriptionStyleModel",
      "state": {
       "description_width": ""
      }
     },
     "db4bb7e2e4a346f690e0e0f0f0ef87cb": {
      "model_module": "@jupyter-widgets/controls",
      "model_module_version": "2.0.0",
      "model_name": "TextStyleModel",
      "state": {
       "description_width": "",
       "font_size": null,
       "text_color": null
      }
     },
     "db60f4c286d54224add58ef4864efe09": {
      "model_module": "@jupyter-widgets/controls",
      "model_module_version": "2.0.0",
      "model_name": "TextStyleModel",
      "state": {
       "description_width": "",
       "font_size": null,
       "text_color": null
      }
     },
     "dbb0092192604769b2d1ba86ba31bc2e": {
      "model_module": "@jupyter-widgets/controls",
      "model_module_version": "2.0.0",
      "model_name": "DescriptionStyleModel",
      "state": {
       "description_width": ""
      }
     },
     "dbd494909c254f7098c04cd2e8bc0079": {
      "model_module": "@jupyter-widgets/controls",
      "model_module_version": "2.0.0",
      "model_name": "IntTextModel",
      "state": {
       "description": "Skip rows",
       "layout": "IPY_MODEL_88a66acb6ff1409ba97a0f435e42d864",
       "step": 1,
       "style": "IPY_MODEL_8101421f2d1b45ca897f64d20407f630"
      }
     },
     "dc2dff05619d4894a6ccde30e3d25a3f": {
      "model_module": "@jupyter-widgets/controls",
      "model_module_version": "2.0.0",
      "model_name": "HBoxModel",
      "state": {
       "children": [
        "IPY_MODEL_68f775f974914b7dbc77c4abbe5157af",
        "IPY_MODEL_e0bc72c041bc4b0f8b6bcdff63b575ac",
        "IPY_MODEL_5d51cb21363e4c32a71329bcbe85ae8d"
       ],
       "layout": "IPY_MODEL_6e494502b5574645894c51ac37ae8690"
      }
     },
     "dc475e1df71b4f0c9ca66b25fd02f21a": {
      "model_module": "@jupyter-widgets/controls",
      "model_module_version": "2.0.0",
      "model_name": "DescriptionStyleModel",
      "state": {
       "description_width": ""
      }
     },
     "dc72785907444c128a5213aa8fed1d15": {
      "model_module": "@jupyter-widgets/controls",
      "model_module_version": "2.0.0",
      "model_name": "DescriptionStyleModel",
      "state": {
       "description_width": ""
      }
     },
     "dc82a0e6184b462887742fb988236865": {
      "model_module": "@jupyter-widgets/base",
      "model_module_version": "2.0.0",
      "model_name": "LayoutModel",
      "state": {}
     },
     "dcc9d04b64ee41a3a81f1c56f2bc1259": {
      "model_module": "@jupyter-widgets/base",
      "model_module_version": "2.0.0",
      "model_name": "LayoutModel",
      "state": {}
     },
     "dceb6086e5eb4edf94347530f507b24f": {
      "model_module": "@jupyter-widgets/base",
      "model_module_version": "2.0.0",
      "model_name": "LayoutModel",
      "state": {}
     },
     "dd3ee2a3335942b3bb85cfa3a1ee0660": {
      "model_module": "@jupyter-widgets/controls",
      "model_module_version": "2.0.0",
      "model_name": "CheckboxStyleModel",
      "state": {
       "description_width": ""
      }
     },
     "dd673fadb2b647d58a397fc1a242d441": {
      "model_module": "@jupyter-widgets/controls",
      "model_module_version": "2.0.0",
      "model_name": "TextModel",
      "state": {
       "description": "Output Path",
       "layout": "IPY_MODEL_740511b953fe448ea3d8c8454a3d443b",
       "style": "IPY_MODEL_2baf10c576cd4a8797e2de31e84f1207"
      }
     },
     "de1f05c62fc44d389e1555c00476921f": {
      "model_module": "@jupyter-widgets/base",
      "model_module_version": "2.0.0",
      "model_name": "LayoutModel",
      "state": {}
     },
     "de26c52c0957413cb0b19ba478f27be8": {
      "model_module": "@jupyter-widgets/base",
      "model_module_version": "2.0.0",
      "model_name": "LayoutModel",
      "state": {}
     },
     "de32ae6bbbe041bda59bdcb7e9812d4b": {
      "model_module": "@jupyter-widgets/controls",
      "model_module_version": "2.0.0",
      "model_name": "ButtonStyleModel",
      "state": {
       "font_family": null,
       "font_size": null,
       "font_style": null,
       "font_variant": null,
       "font_weight": null,
       "text_color": null,
       "text_decoration": null
      }
     },
     "df08b476a9f84e3c97b7c2d17e744297": {
      "model_module": "@jupyter-widgets/base",
      "model_module_version": "2.0.0",
      "model_name": "LayoutModel",
      "state": {}
     },
     "df6cd7a94f2e4a509ebf67a89bf64c11": {
      "model_module": "@jupyter-widgets/controls",
      "model_module_version": "2.0.0",
      "model_name": "ButtonModel",
      "state": {
       "description": "Start export",
       "layout": "IPY_MODEL_fde76528d7604133b900b3166d32da9c",
       "style": "IPY_MODEL_2eea09e05e1544b7a8c25ab9e038db83",
       "tooltip": null
      }
     },
     "df81c2884a0843fdb0d78953d2d4e1ab": {
      "model_module": "@jupyter-widgets/base",
      "model_module_version": "2.0.0",
      "model_name": "LayoutModel",
      "state": {
       "width": "40%"
      }
     },
     "e07a1f1b0439421da92f4a53529d4cba": {
      "model_module": "@jupyter-widgets/base",
      "model_module_version": "2.0.0",
      "model_name": "LayoutModel",
      "state": {
       "width": "90%"
      }
     },
     "e0b0082991f949d598e35dc28dcad422": {
      "model_module": "@jupyter-widgets/base",
      "model_module_version": "2.0.0",
      "model_name": "LayoutModel",
      "state": {}
     },
     "e0bc72c041bc4b0f8b6bcdff63b575ac": {
      "model_module": "@jupyter-widgets/controls",
      "model_module_version": "2.0.0",
      "model_name": "CheckboxModel",
      "state": {
       "description": "Remove duplicates",
       "disabled": false,
       "layout": "IPY_MODEL_0ca66320cbc9412a82d366f9e16cc1a9",
       "style": "IPY_MODEL_37f78a4626914d2192720c26ed96e9ac",
       "value": false
      }
     },
     "e0c523d51fba40e9be2718e39947cdce": {
      "model_module": "@jupyter-widgets/controls",
      "model_module_version": "2.0.0",
      "model_name": "TextStyleModel",
      "state": {
       "description_width": "",
       "font_size": null,
       "text_color": null
      }
     },
     "e1489848b11e404286e538b59f7ec804": {
      "model_module": "@jupyter-widgets/base",
      "model_module_version": "2.0.0",
      "model_name": "LayoutModel",
      "state": {}
     },
     "e2869ce4eb48496591977d0e58b0f2a2": {
      "model_module": "@jupyter-widgets/controls",
      "model_module_version": "2.0.0",
      "model_name": "TextStyleModel",
      "state": {
       "description_width": "",
       "font_size": null,
       "text_color": null
      }
     },
     "e2b2b98aa8104a64ab45cec15b362b76": {
      "model_module": "@jupyter-widgets/controls",
      "model_module_version": "2.0.0",
      "model_name": "CheckboxModel",
      "state": {
       "description": "Don't split in batches",
       "disabled": false,
       "layout": "IPY_MODEL_eccafc6268dc4fb1b0176ad89335cb62",
       "style": "IPY_MODEL_9bb347d0fad14edf9f1c1b0426240cb5",
       "value": false
      }
     },
     "e2da386e7b49477b91da97f557eadbf6": {
      "model_module": "@jupyter-widgets/controls",
      "model_module_version": "2.0.0",
      "model_name": "CheckboxModel",
      "state": {
       "description": "Allow overwrite",
       "disabled": false,
       "layout": "IPY_MODEL_312a119e3b604cdf92bd3f6230fa631a",
       "style": "IPY_MODEL_d62403f24cfd48a1b22ae10a8d07cdf1",
       "value": false
      }
     },
     "e30b3c8d13f1436ca4c0b923b3314cc1": {
      "model_module": "@jupyter-widgets/controls",
      "model_module_version": "2.0.0",
      "model_name": "FloatTextModel",
      "state": {
       "description": "Speed",
       "layout": "IPY_MODEL_7f9c6ba7b78342369fe3357818173aa2",
       "step": 0.1,
       "style": "IPY_MODEL_396b1c7e3ca74fa58016b443eedc6858",
       "value": 1
      }
     },
     "e4126d3c783c4ed189e28718149d2b6a": {
      "model_module": "@jupyter-widgets/base",
      "model_module_version": "2.0.0",
      "model_name": "LayoutModel",
      "state": {}
     },
     "e4341bf3d4bf4dde8ac8d76106956b09": {
      "model_module": "@jupyter-widgets/base",
      "model_module_version": "2.0.0",
      "model_name": "LayoutModel",
      "state": {
       "width": "90%"
      }
     },
     "e47fe130291947ef8da11627c43b30a9": {
      "model_module": "@jupyter-widgets/base",
      "model_module_version": "2.0.0",
      "model_name": "LayoutModel",
      "state": {}
     },
     "e4d5d7edbb9240e58d54c0ded082ee0c": {
      "model_module": "@jupyter-widgets/base",
      "model_module_version": "2.0.0",
      "model_name": "LayoutModel",
      "state": {}
     },
     "e572519768fd44a89e0f12ace7f3b8ae": {
      "model_module": "@jupyter-widgets/controls",
      "model_module_version": "2.0.0",
      "model_name": "TextStyleModel",
      "state": {
       "description_width": "",
       "font_size": null,
       "text_color": null
      }
     },
     "e57a2cf6ad574aa4a1f0d6d07c9d078e": {
      "model_module": "@jupyter-widgets/controls",
      "model_module_version": "2.0.0",
      "model_name": "ButtonModel",
      "state": {
       "description": "Read more",
       "layout": "IPY_MODEL_5b30a174ccbb45b08f2c973ee0c25c69",
       "style": "IPY_MODEL_eeff21dce9ca4ed5ab42f2d97cb71372",
       "tooltip": null
      }
     },
     "e58f544a86804e4795c9997eda0ef205": {
      "model_module": "@jupyter-widgets/controls",
      "model_module_version": "2.0.0",
      "model_name": "DescriptionStyleModel",
      "state": {
       "description_width": ""
      }
     },
     "e5c8eb880ddb46b0a7a36f16949fa266": {
      "model_module": "@jupyter-widgets/controls",
      "model_module_version": "2.0.0",
      "model_name": "ButtonModel",
      "state": {
       "description": "Start export",
       "layout": "IPY_MODEL_1babe235de184115918c4d5faef368f5",
       "style": "IPY_MODEL_2fcd88e89252406ebebc78693fc0aa59",
       "tooltip": null
      }
     },
     "e5f7ef031b5e48b0be5d511a765f43de": {
      "model_module": "@jupyter-widgets/controls",
      "model_module_version": "2.0.0",
      "model_name": "IntTextModel",
      "state": {
       "description": "Set max count",
       "layout": "IPY_MODEL_5949a844984e426ca665ff949802424f",
       "step": 1,
       "style": "IPY_MODEL_8973602634fc4959a1f27471c739cf4e"
      }
     },
     "e61a6e4571d4413e9d951b36578e79d5": {
      "model_module": "@jupyter-widgets/base",
      "model_module_version": "2.0.0",
      "model_name": "LayoutModel",
      "state": {}
     },
     "e6b91a71a24b499fb6968d1d8687491d": {
      "model_module": "@jupyter-widgets/controls",
      "model_module_version": "2.0.0",
      "model_name": "CheckboxModel",
      "state": {
       "description": "ZIP export (must be .json, .csv)",
       "disabled": false,
       "layout": "IPY_MODEL_93e9f1f0dd544716a18607551779a8f0",
       "style": "IPY_MODEL_6de372fcbc4944129a4c1baa717e7cf5",
       "value": false
      }
     },
     "e6cb4bf99d734ba08375891970b9bcb6": {
      "model_module": "@jupyter-widgets/controls",
      "model_module_version": "2.0.0",
      "model_name": "HBoxModel",
      "state": {
       "children": [
        "IPY_MODEL_d81fb5651b794b769d77d9104bb59aa2",
        "IPY_MODEL_4cc730d96b4f4278985e7c30a7381ba9"
       ],
       "layout": "IPY_MODEL_38ce72e04c384f519f1c5d4d0e98b394"
      }
     },
     "e7405d9be0cc4a7ab6e6d309d21b3773": {
      "model_module": "@jupyter-widgets/controls",
      "model_module_version": "2.0.0",
      "model_name": "ButtonModel",
      "state": {
       "description": "Start archiving",
       "layout": "IPY_MODEL_1e0ed4fc68234564afdc22f77f5c831e",
       "style": "IPY_MODEL_490c44a891c6419e878cb9bc5455e586",
       "tooltip": null
      }
     },
     "e7456349a26d4328bee1a4a3a3d07624": {
      "model_module": "@jupyter-widgets/base",
      "model_module_version": "2.0.0",
      "model_name": "LayoutModel",
      "state": {}
     },
     "e761bb8ebf474ec79e3575516a105e5d": {
      "model_module": "@jupyter-widgets/base",
      "model_module_version": "2.0.0",
      "model_name": "LayoutModel",
      "state": {
       "width": "40%"
      }
     },
     "e77e2153e4a3433eb5ac104ca3e419c1": {
      "model_module": "@jupyter-widgets/base",
      "model_module_version": "2.0.0",
      "model_name": "LayoutModel",
      "state": {}
     },
     "e78435dceea54f5ca109f2979f9c6d80": {
      "model_module": "@jupyter-widgets/controls",
      "model_module_version": "2.0.0",
      "model_name": "IntTextModel",
      "state": {
       "description": "Skip rows",
       "layout": "IPY_MODEL_cbeb8e7c37f0406d802293db1c70fa55",
       "step": 1,
       "style": "IPY_MODEL_7b920c323bde4a6a9da59d9198e34af6"
      }
     },
     "e7ed6d2b658040fc9ebc1eb07f69002a": {
      "model_module": "@jupyter-widgets/base",
      "model_module_version": "2.0.0",
      "model_name": "LayoutModel",
      "state": {
       "width": "95%"
      }
     },
     "e833b78286d64d3086db127791ed9aeb": {
      "model_module": "@jupyter-widgets/controls",
      "model_module_version": "2.0.0",
      "model_name": "TextStyleModel",
      "state": {
       "description_width": "",
       "font_size": null,
       "text_color": null
      }
     },
     "e864aaf9f09d47a4865a5786b55e381d": {
      "model_module": "@jupyter-widgets/controls",
      "model_module_version": "2.0.0",
      "model_name": "CheckboxStyleModel",
      "state": {
       "description_width": ""
      }
     },
     "ea0ed26e244c4649bc451a16f99f3b81": {
      "model_module": "@jupyter-widgets/base",
      "model_module_version": "2.0.0",
      "model_name": "LayoutModel",
      "state": {
       "width": "95%"
      }
     },
     "ea583570879a48798637febbe956ae91": {
      "model_module": "@jupyter-widgets/controls",
      "model_module_version": "2.0.0",
      "model_name": "IntTextModel",
      "state": {
       "description": "Set max count",
       "layout": "IPY_MODEL_524333ed4aac4acaa56e0dd1687e3fe4",
       "step": 1,
       "style": "IPY_MODEL_ac46f833e1124a6a95d86b200a70ec01"
      }
     },
     "ea5acf8436214e3fa4d44e07b5b04590": {
      "model_module": "@jupyter-widgets/base",
      "model_module_version": "2.0.0",
      "model_name": "LayoutModel",
      "state": {}
     },
     "eae896750acc4c889762834f24e7bbc6": {
      "model_module": "@jupyter-widgets/base",
      "model_module_version": "2.0.0",
      "model_name": "LayoutModel",
      "state": {}
     },
     "eaf1e7db037249be8e6bf37733b6be91": {
      "model_module": "@jupyter-widgets/base",
      "model_module_version": "2.0.0",
      "model_name": "LayoutModel",
      "state": {}
     },
     "eb30043c1b1e4fa2847aa2e512002b02": {
      "model_module": "@jupyter-widgets/controls",
      "model_module_version": "2.0.0",
      "model_name": "ButtonModel",
      "state": {
       "description": "Read more",
       "layout": "IPY_MODEL_a3f1e9f09d9246118833d53ecb7c848d",
       "style": "IPY_MODEL_a5492a0e2d3b4c24bb2ddb3dca1152b1",
       "tooltip": null
      }
     },
     "eb95b9bc882748edbc095011da901253": {
      "model_module": "@jupyter-widgets/controls",
      "model_module_version": "2.0.0",
      "model_name": "ButtonStyleModel",
      "state": {
       "font_family": null,
       "font_size": null,
       "font_style": null,
       "font_variant": null,
       "font_weight": null,
       "text_color": null,
       "text_decoration": null
      }
     },
     "ec51959cddd142ddac9dcee55656a38d": {
      "model_module": "@jupyter-widgets/controls",
      "model_module_version": "2.0.0",
      "model_name": "CheckboxStyleModel",
      "state": {
       "description_width": ""
      }
     },
     "ec5779417bbc4a9f9d1bbc148571958b": {
      "model_module": "@jupyter-widgets/controls",
      "model_module_version": "2.0.0",
      "model_name": "ButtonStyleModel",
      "state": {
       "font_family": null,
       "font_size": null,
       "font_style": null,
       "font_variant": null,
       "font_weight": null,
       "text_color": null,
       "text_decoration": null
      }
     },
     "ec9a4dc6ac914b5c8e819d3d679a0d28": {
      "model_module": "@jupyter-widgets/base",
      "model_module_version": "2.0.0",
      "model_name": "LayoutModel",
      "state": {
       "width": "90%"
      }
     },
     "eccafc6268dc4fb1b0176ad89335cb62": {
      "model_module": "@jupyter-widgets/base",
      "model_module_version": "2.0.0",
      "model_name": "LayoutModel",
      "state": {}
     },
     "ecf48dc0005d4500975e229e479d97ec": {
      "model_module": "@jupyter-widgets/base",
      "model_module_version": "2.0.0",
      "model_name": "LayoutModel",
      "state": {}
     },
     "ed1a7616b39b4347935526ba23277256": {
      "model_module": "@jupyter-widgets/base",
      "model_module_version": "2.0.0",
      "model_name": "LayoutModel",
      "state": {}
     },
     "edaa2824dd574696b0e3fcd5081d7d3d": {
      "model_module": "@jupyter-widgets/controls",
      "model_module_version": "2.0.0",
      "model_name": "TextModel",
      "state": {
       "description": "Output Path:",
       "layout": "IPY_MODEL_484729f0f08d45f9a1cf59923dbc4472",
       "style": "IPY_MODEL_1197bc949b9846019db5baa23fd2a69c"
      }
     },
     "edd304749d054ad7ade14f5f4f6dac80": {
      "model_module": "@jupyter-widgets/controls",
      "model_module_version": "2.0.0",
      "model_name": "TextStyleModel",
      "state": {
       "description_width": "",
       "font_size": null,
       "text_color": null
      }
     },
     "edf178aca77c485d8bfbe3306f348906": {
      "model_module": "@jupyter-widgets/controls",
      "model_module_version": "2.0.0",
      "model_name": "HBoxModel",
      "state": {
       "children": [
        "IPY_MODEL_abc8cb2908bd4911a4e60f62b062548f",
        "IPY_MODEL_e78435dceea54f5ca109f2979f9c6d80",
        "IPY_MODEL_296378c7afbe49e2b89a92c8c86c7a30"
       ],
       "layout": "IPY_MODEL_e7ed6d2b658040fc9ebc1eb07f69002a"
      }
     },
     "edf33cfcc1924880889cc17c4c10f517": {
      "model_module": "@jupyter-widgets/base",
      "model_module_version": "2.0.0",
      "model_name": "LayoutModel",
      "state": {}
     },
     "ee0bb801df8e4291940d6401e6343fa6": {
      "model_module": "@jupyter-widgets/base",
      "model_module_version": "2.0.0",
      "model_name": "LayoutModel",
      "state": {}
     },
     "ee55cd57b57e41ba8b32f33f4083a0be": {
      "model_module": "@jupyter-widgets/controls",
      "model_module_version": "2.0.0",
      "model_name": "TextStyleModel",
      "state": {
       "description_width": "",
       "font_size": null,
       "text_color": null
      }
     },
     "ee5aea8d786149a8951707d46e1d8022": {
      "model_module": "@jupyter-widgets/controls",
      "model_module_version": "2.0.0",
      "model_name": "TextStyleModel",
      "state": {
       "description_width": "",
       "font_size": null,
       "text_color": null
      }
     },
     "ee8bdf89a9c544c2834b2c66028043e6": {
      "model_module": "@jupyter-widgets/controls",
      "model_module_version": "2.0.0",
      "model_name": "FloatTextModel",
      "state": {
       "description": "Speed",
       "layout": "IPY_MODEL_7732713c2c3a4493a53db3666787c0e1",
       "step": 0.1,
       "style": "IPY_MODEL_69b7edc4be2a426190e8dc5dc592989d",
       "value": 1
      }
     },
     "eefe5dbea53844c89ecd258740b34259": {
      "model_module": "@jupyter-widgets/controls",
      "model_module_version": "2.0.0",
      "model_name": "ButtonStyleModel",
      "state": {
       "font_family": null,
       "font_size": null,
       "font_style": null,
       "font_variant": null,
       "font_weight": null,
       "text_color": null,
       "text_decoration": null
      }
     },
     "eeff21dce9ca4ed5ab42f2d97cb71372": {
      "model_module": "@jupyter-widgets/controls",
      "model_module_version": "2.0.0",
      "model_name": "ButtonStyleModel",
      "state": {
       "font_family": null,
       "font_size": null,
       "font_style": null,
       "font_variant": null,
       "font_weight": null,
       "text_color": null,
       "text_decoration": null
      }
     },
     "ef30a14ed06a47b1a2fec829d9c4665c": {
      "model_module": "@jupyter-widgets/controls",
      "model_module_version": "2.0.0",
      "model_name": "ButtonModel",
      "state": {
       "description": "Login",
       "layout": "IPY_MODEL_bd585ee8f35043baa9164d7ad079b9f0",
       "style": "IPY_MODEL_be753b9a1b8a44d085388a34622ec3ed",
       "tooltip": null
      }
     },
     "ef4121604f7345d6a672ce7186f3cf16": {
      "model_module": "@jupyter-widgets/base",
      "model_module_version": "2.0.0",
      "model_name": "LayoutModel",
      "state": {}
     },
     "ef4c613c95c84080bfde66c774a3f5f8": {
      "model_module": "@jupyter-widgets/base",
      "model_module_version": "2.0.0",
      "model_name": "LayoutModel",
      "state": {}
     },
     "ef7077ab380f458a8a03e49c960754cf": {
      "model_module": "@jupyter-widgets/controls",
      "model_module_version": "2.0.0",
      "model_name": "TextModel",
      "state": {
       "description": "User ID: ",
       "layout": "IPY_MODEL_17c28247f8484d97ac694d5da0e1e38f",
       "style": "IPY_MODEL_8a80ca2902db44c1bbff157bb7f286e7"
      }
     },
     "efe11f22a3124307bd84df119d68b091": {
      "model_module": "@jupyter-widgets/base",
      "model_module_version": "2.0.0",
      "model_name": "LayoutModel",
      "state": {
       "width": "90%"
      }
     },
     "efeda989378c47cc8a86f51cd708ebf2": {
      "model_module": "@jupyter-widgets/controls",
      "model_module_version": "2.0.0",
      "model_name": "ButtonModel",
      "state": {
       "description": "Start export",
       "layout": "IPY_MODEL_379ac2694c544bfbbabdc409f0e2c7f3",
       "style": "IPY_MODEL_ccc94669279b49aa9855503d66b1ec9b",
       "tooltip": null
      }
     },
     "f124eace4d884452a542a3271dd15103": {
      "model_module": "@jupyter-widgets/base",
      "model_module_version": "2.0.0",
      "model_name": "LayoutModel",
      "state": {}
     },
     "f1360295ce4c4ab9a31c70f1f75819aa": {
      "model_module": "@jupyter-widgets/controls",
      "model_module_version": "2.0.0",
      "model_name": "TextModel",
      "state": {
       "description": "Output Path",
       "layout": "IPY_MODEL_0943d19d498a4584a61f95d91de89014",
       "style": "IPY_MODEL_2168427a10f44370bd20afbc7d7bc486"
      }
     },
     "f149ab0c58f84e19bea87c70e1cb4608": {
      "model_module": "@jupyter-widgets/base",
      "model_module_version": "2.0.0",
      "model_name": "LayoutModel",
      "state": {}
     },
     "f1643defe85f4fb7917d017ca6cfc6de": {
      "model_module": "@jupyter-widgets/base",
      "model_module_version": "2.0.0",
      "model_name": "LayoutModel",
      "state": {
       "width": "90%"
      }
     },
     "f1e3692f771043cf90a5d76e5a4725a9": {
      "model_module": "@jupyter-widgets/controls",
      "model_module_version": "2.0.0",
      "model_name": "RadioButtonsModel",
      "state": {
       "_options_labels": [
        "cases",
        "charges",
        "disposition",
        "filing",
        "fees"
       ],
       "description": "Table:",
       "index": 0,
       "layout": "IPY_MODEL_fc20eb00d0c44671ad5bf5c6ce7b6ebb",
       "style": "IPY_MODEL_635693836b7148309bc0803e2d03fb0e"
      }
     },
     "f314b07e0be34701aaf72786142a28d9": {
      "model_module": "@jupyter-widgets/base",
      "model_module_version": "2.0.0",
      "model_name": "LayoutModel",
      "state": {
       "width": "90%"
      }
     },
     "f333e4199c534a2bafd42951bbc0989f": {
      "model_module": "@jupyter-widgets/controls",
      "model_module_version": "2.0.0",
      "model_name": "ButtonStyleModel",
      "state": {
       "font_family": null,
       "font_size": null,
       "font_style": null,
       "font_variant": null,
       "font_weight": null,
       "text_color": null,
       "text_decoration": null
      }
     },
     "f34a753d1e454dcb824b9b60ace20100": {
      "model_module": "@jupyter-widgets/controls",
      "model_module_version": "2.0.0",
      "model_name": "TextModel",
      "state": {
       "description": "Output Path",
       "layout": "IPY_MODEL_6d73a362e0db47969ecf8fdeb139ec17",
       "style": "IPY_MODEL_3ee5f0b5ff504632a7846e933084fe40"
      }
     },
     "f38868543ef646059a4a6ca8dc8c6e1b": {
      "model_module": "@jupyter-widgets/controls",
      "model_module_version": "2.0.0",
      "model_name": "TextModel",
      "state": {
       "description": "Input Path",
       "layout": "IPY_MODEL_41f5c54ba00645798152d54d5e49e2ec",
       "style": "IPY_MODEL_f63b897a6a0545588f87425c8c603670",
       "tooltip": "Path to PDF directory"
      }
     },
     "f3b36026d9dc43d4b73b26ab712e1bab": {
      "model_module": "@jupyter-widgets/base",
      "model_module_version": "2.0.0",
      "model_name": "LayoutModel",
      "state": {}
     },
     "f3f69b9fce504636965531038b7155bc": {
      "model_module": "@jupyter-widgets/controls",
      "model_module_version": "2.0.0",
      "model_name": "CheckboxModel",
      "state": {
       "description": "Don't split in batches",
       "disabled": false,
       "layout": "IPY_MODEL_fa50c28c01aa4ed189789932cbe461c7",
       "style": "IPY_MODEL_9860d8d0e10c4c06aaa9598e3f8d8e19",
       "value": false
      }
     },
     "f41a436428c34aa9a2c15fb0da56e2bb": {
      "model_module": "@jupyter-widgets/base",
      "model_module_version": "2.0.0",
      "model_name": "LayoutModel",
      "state": {}
     },
     "f4237d7c2dab4e4da1632d9bfd98e54a": {
      "model_module": "@jupyter-widgets/controls",
      "model_module_version": "2.0.0",
      "model_name": "IntTextModel",
      "state": {
       "description": "Set max count",
       "layout": "IPY_MODEL_3ac6889560b84a94b6b29ed60531008f",
       "step": 1,
       "style": "IPY_MODEL_6276c79914e74c51a7d7cd17f71a8ee7"
      }
     },
     "f499f017f3a44e7a8b7c2c43724e5e2a": {
      "model_module": "@jupyter-widgets/controls",
      "model_module_version": "2.0.0",
      "model_name": "HBoxModel",
      "state": {
       "children": [
        "IPY_MODEL_734289eedae14e929249ec309e2e8ce6",
        "IPY_MODEL_d55feafa282d44a3a856c5b6f502ccb6",
        "IPY_MODEL_2587be98d4db47cebaf9e70e4a4af20e"
       ],
       "layout": "IPY_MODEL_ef4121604f7345d6a672ce7186f3cf16"
      }
     },
     "f4f1c65cd8f74bf3989af3d098cc87f7": {
      "model_module": "@jupyter-widgets/base",
      "model_module_version": "2.0.0",
      "model_name": "LayoutModel",
      "state": {
       "width": "90%"
      }
     },
     "f548dc352fe54380b8337cba8fa024ab": {
      "model_module": "@jupyter-widgets/controls",
      "model_module_version": "2.0.0",
      "model_name": "IntTextModel",
      "state": {
       "description": "Skip rows",
       "layout": "IPY_MODEL_3c14e08d5f084739a51031a00589bfda",
       "step": 1,
       "style": "IPY_MODEL_20492533d1ef4e3b9a17b51ddbadf3f7"
      }
     },
     "f57ae8a5d2514e999ec20331a696ed12": {
      "model_module": "@jupyter-widgets/controls",
      "model_module_version": "2.0.0",
      "model_name": "TextStyleModel",
      "state": {
       "description_width": "",
       "font_size": null,
       "text_color": null
      }
     },
     "f5dd368f54d04fe08ed7cf8258777a17": {
      "model_module": "@jupyter-widgets/controls",
      "model_module_version": "2.0.0",
      "model_name": "DescriptionStyleModel",
      "state": {
       "description_width": ""
      }
     },
     "f5ea236ea1cf414ca523f983047dbe02": {
      "model_module": "@jupyter-widgets/controls",
      "model_module_version": "2.0.0",
      "model_name": "CheckboxModel",
      "state": {
       "description": "Remove duplicates",
       "disabled": false,
       "layout": "IPY_MODEL_0f304dd3118747f9bbc768ebdc984ff5",
       "style": "IPY_MODEL_4f8234a7a2394a3db01ad716735b172b",
       "value": false
      }
     },
     "f60e442a757b46d6b8714b4c61c0ebbe": {
      "model_module": "@jupyter-widgets/controls",
      "model_module_version": "2.0.0",
      "model_name": "DescriptionStyleModel",
      "state": {
       "description_width": ""
      }
     },
     "f63b897a6a0545588f87425c8c603670": {
      "model_module": "@jupyter-widgets/controls",
      "model_module_version": "2.0.0",
      "model_name": "TextStyleModel",
      "state": {
       "description_width": "",
       "font_size": null,
       "text_color": null
      }
     },
     "f63dc546ebc041ad9e6befd0dfa08f50": {
      "model_module": "@jupyter-widgets/controls",
      "model_module_version": "2.0.0",
      "model_name": "DescriptionStyleModel",
      "state": {
       "description_width": ""
      }
     },
     "f6fcb60224f2467dbd442b1ab3b2dbae": {
      "model_module": "@jupyter-widgets/controls",
      "model_module_version": "2.0.0",
      "model_name": "HBoxModel",
      "state": {
       "children": [
        "IPY_MODEL_8ffbd3892a024d5cb2dfb15442eb373e",
        "IPY_MODEL_c76d3fa9599c4e0e9996e96aa6b7f581"
       ],
       "layout": "IPY_MODEL_0362cb8363db49f3a19a59de926eed16"
      }
     },
     "f73be3ca4d4b4dd2beb98ba9ff85c59a": {
      "model_module": "@jupyter-widgets/controls",
      "model_module_version": "2.0.0",
      "model_name": "TextStyleModel",
      "state": {
       "description_width": "",
       "font_size": null,
       "text_color": null
      }
     },
     "f73e4edef29f4653835b90bc4faaaa9a": {
      "model_module": "@jupyter-widgets/controls",
      "model_module_version": "2.0.0",
      "model_name": "HBoxModel",
      "state": {
       "children": [
        "IPY_MODEL_cc2f84d30ef0431e8efe136f22c0f3e9",
        "IPY_MODEL_2e5deb68f71a433ab70bf9dbfe8604ae"
       ],
       "layout": "IPY_MODEL_f41a436428c34aa9a2c15fb0da56e2bb"
      }
     },
     "f7652e8726ec4a5d94a05da09e8ee960": {
      "model_module": "@jupyter-widgets/base",
      "model_module_version": "2.0.0",
      "model_name": "LayoutModel",
      "state": {}
     },
     "f7ec1d17ebad415cb1cabbb46f3e90f9": {
      "model_module": "@jupyter-widgets/controls",
      "model_module_version": "2.0.0",
      "model_name": "ButtonModel",
      "state": {
       "description": "Start archiving",
       "layout": "IPY_MODEL_198aba4ff38f4fe8816efc8b59e9a93f",
       "style": "IPY_MODEL_018a81d49a2649e7be2758332a0e5f5b",
       "tooltip": null
      }
     },
     "f8165c37ef8b4788857881f57caf19a8": {
      "model_module": "@jupyter-widgets/controls",
      "model_module_version": "2.0.0",
      "model_name": "TextStyleModel",
      "state": {
       "description_width": "",
       "font_size": null,
       "text_color": null
      }
     },
     "f85f3f5cd5a24beaadd55d188377e19a": {
      "model_module": "@jupyter-widgets/controls",
      "model_module_version": "2.0.0",
      "model_name": "IntTextModel",
      "state": {
       "description": "Skip rows",
       "layout": "IPY_MODEL_aac3a88550e34fcea35687b8a567ddea",
       "step": 1,
       "style": "IPY_MODEL_cc9344235e2b4eba975a33f7257ef3c0"
      }
     },
     "f8e28a6ec7a447e290b4d8dfab97a85d": {
      "model_module": "@jupyter-widgets/base",
      "model_module_version": "2.0.0",
      "model_name": "LayoutModel",
      "state": {}
     },
     "f912811e72de4cabb681b07ce28a4345": {
      "model_module": "@jupyter-widgets/base",
      "model_module_version": "2.0.0",
      "model_name": "LayoutModel",
      "state": {
       "width": "90%"
      }
     },
     "f965681becc74a9487ad55be656e6bf6": {
      "model_module": "@jupyter-widgets/controls",
      "model_module_version": "2.0.0",
      "model_name": "ButtonModel",
      "state": {
       "description": "Start export",
       "layout": "IPY_MODEL_96d507c4743b4348a32dff5c9af76c20",
       "style": "IPY_MODEL_376828bb47514315bcd4c7f7afa77f79",
       "tooltip": null
      }
     },
     "fa50c28c01aa4ed189789932cbe461c7": {
      "model_module": "@jupyter-widgets/base",
      "model_module_version": "2.0.0",
      "model_name": "LayoutModel",
      "state": {}
     },
     "fa579e7829bc4feea59099fd1f764956": {
      "model_module": "@jupyter-widgets/base",
      "model_module_version": "2.0.0",
      "model_name": "LayoutModel",
      "state": {}
     },
     "fb134811eec74f36b68b2640de55df8c": {
      "model_module": "@jupyter-widgets/controls",
      "model_module_version": "2.0.0",
      "model_name": "TextModel",
      "state": {
       "description": "Input Path",
       "layout": "IPY_MODEL_06192f75ce744386928354478bbf5ef4",
       "style": "IPY_MODEL_6095c7f800744dd4bbd73732469e1fe3",
       "tooltip": "Path to PDF directory"
      }
     },
     "fc20eb00d0c44671ad5bf5c6ce7b6ebb": {
      "model_module": "@jupyter-widgets/base",
      "model_module_version": "2.0.0",
      "model_name": "LayoutModel",
      "state": {}
     },
     "fc84c96233264efcaff68af58c6bf388": {
      "model_module": "@jupyter-widgets/base",
      "model_module_version": "2.0.0",
      "model_name": "LayoutModel",
      "state": {}
     },
     "fcbcc1dbac094dbaa11c84e32aacebc6": {
      "model_module": "@jupyter-widgets/base",
      "model_module_version": "2.0.0",
      "model_name": "LayoutModel",
      "state": {}
     },
     "fd623ab77f2d4f1b8d14439d171afc20": {
      "model_module": "@jupyter-widgets/controls",
      "model_module_version": "2.0.0",
      "model_name": "CheckboxStyleModel",
      "state": {
       "description_width": ""
      }
     },
     "fdc6dc8d8e5f4d4dbdaca752d0fe451a": {
      "model_module": "@jupyter-widgets/controls",
      "model_module_version": "2.0.0",
      "model_name": "CheckboxStyleModel",
      "state": {
       "description_width": ""
      }
     },
     "fde76528d7604133b900b3166d32da9c": {
      "model_module": "@jupyter-widgets/base",
      "model_module_version": "2.0.0",
      "model_name": "LayoutModel",
      "state": {}
     },
     "fe735f5555f54216b673b1bb740e67a8": {
      "model_module": "@jupyter-widgets/base",
      "model_module_version": "2.0.0",
      "model_name": "LayoutModel",
      "state": {
       "width": "90%"
      }
     },
     "fe76439768bf4ff4afdb800c635f9eca": {
      "model_module": "@jupyter-widgets/controls",
      "model_module_version": "2.0.0",
      "model_name": "TextStyleModel",
      "state": {
       "description_width": "",
       "font_size": null,
       "text_color": null
      }
     },
     "fee69356dd9a4ee1b55cd1a4fbd2fd4a": {
      "model_module": "@jupyter-widgets/controls",
      "model_module_version": "2.0.0",
      "model_name": "TextStyleModel",
      "state": {
       "description_width": "",
       "font_size": null,
       "text_color": null
      }
     },
     "ff18a2989d184571933b25cae3796b03": {
      "model_module": "@jupyter-widgets/controls",
      "model_module_version": "2.0.0",
      "model_name": "DescriptionStyleModel",
      "state": {
       "description_width": ""
      }
     },
     "ff7f688b74644d3ea29cb93ca251f29c": {
      "model_module": "@jupyter-widgets/controls",
      "model_module_version": "2.0.0",
      "model_name": "TextStyleModel",
      "state": {
       "description_width": "",
       "font_size": null,
       "text_color": null
      }
     },
     "ffce96337a464ff784a8470e7c6f6eb9": {
      "model_module": "@jupyter-widgets/controls",
      "model_module_version": "2.0.0",
      "model_name": "ButtonModel",
      "state": {
       "description": "Read more",
       "layout": "IPY_MODEL_b12636c8ea294f46a8ce08ed3663c47e",
       "style": "IPY_MODEL_47a52b16fd394e819387c3e52dee2ced",
       "tooltip": null
      }
     }
    },
    "version_major": 2,
    "version_minor": 0
   }
  }
 },
 "nbformat": 4,
 "nbformat_minor": 5
}
