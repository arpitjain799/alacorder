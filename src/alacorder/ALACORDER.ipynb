{
 "cells": [
  {
   "cell_type": "code",
   "execution_count": null,
   "id": "eaa47eef",
   "metadata": {
    "hide_input": true,
    "init_cell": true,
    "tags": []
   },
   "outputs": [],
   "source": [
    "%pip install --upgrade alacorder cython pandas numpy itables ipywidgets jupyter_nbextensions_configurator ipython jupyter PyPDF2 openpyxl xlrd xlwt selenium click matplotlib numexpr bottleneck xarray pyarrow"
   ]
  },
  {
   "cell_type": "code",
   "execution_count": null,
   "id": "1ae14b32",
   "metadata": {
    "code_folding": [
     12,
     23
    ],
    "hide_input": true,
    "init_cell": true,
    "scrolled": false,
    "tags": [
     "#A"
    ]
   },
   "outputs": [],
   "source": [
    "## SETUP: MUST RUN CELL BEFORE USE. PRESS [SHIFT + RETURN] TO LOAD.\n",
    "import cython, os, sys, warnings, itables, ipywidgets, IPython.display; import pandas as pd; import pyximport; pyximport.install(); import alac\n",
    "warnings.filterwarnings('ignore')\n",
    "sys.tracebacklimit = 0\n",
    "\n",
    "query_path = ipywidgets.Text(description=\"Input Path:\", layout=ipywidgets.Layout(width='90%'), tooltip=\"Path to query template spreadsheet (list of names, etc. to search)\")\n",
    "output_dir = ipywidgets.Text(description=\"Output Path:\", layout=ipywidgets.Layout(width='90%'))\n",
    "cID = ipywidgets.Text(description=\"Customer ID: \")\n",
    "uID = ipywidgets.Text(description=\"User ID: \")\n",
    "pwd = ipywidgets.Password(description=\"Password: \")\n",
    "btn = ipywidgets.Button(description=\"Login\")\n",
    "\n",
    "def startFetch(*args):\n",
    "    global clicked, query_path, output_dir, cID, uID, pwd, btn\n",
    "    if os.path.isdir(output_dir.value) and os.path.isfile(query_path.value) and cID.value != \"\" and uID.value != \"\" and pwd.value != \"\":\n",
    "        return alac.fetch(query_path.value,output_dir.value,cID=cID.value, uID=uID.value, pwd=pwd.value)\n",
    "    else:\n",
    "        display(\"Ensure all fields are correctly filled, then try again.\")\n",
    "        return None\n",
    "\n",
    "oQueryTable = ipywidgets.Output()\n",
    "oQueryTable_hidden = True\n",
    "\n",
    "def viewQueryTable(*args):\n",
    "    global oQueryTable\n",
    "    global oQueryTable_hidden\n",
    "    if oQueryTable_hidden:\n",
    "        inputstab = \"\"\"<style> table {float:left} </style> <table> <thead> <tr> <th>Field</th> <th>Description</th> </tr> </thead> <tbody> <tr> <td><code>NAME</code></td> <td>Last Name First</td> </tr> <tr> <td><code>PARTY_TYPE</code></td> <td>Social Security Number (Optional)</td> </tr> <tr> <td><code>SSN</code></td> <td>Applies to civil cases only (Optional)</td> </tr> <tr> <td><code>DOB</code></td> <td>Date of Birth (M/DD/YYYY)</td> </tr> <tr> <td><code>COUNTY</code></td> <td>Select a county if not statewide</td> </tr> <tr> <td><code>DIVISION</code></td> <td>Select a division if not all divisions.</td> </tr> <tr> <td><code>CASE_YEAR</code></td> <td>Four digit case year to limit results</td> </tr> <tr> <td><code>FILED_BEFORE</code></td> <td>Do not include cases filed after M/DD/YYYY</td> </tr> <tr> <td><code>FILED_AFTER</code></td> <td>Do not include cases filed after M/DD/YYYY</td> </tr> </tbody> </table> \"\"\"\n",
    "        oQueryTable_hidden = False\n",
    "        with oQueryTable:\n",
    "            display(IPython.display.HTML(inputstab))\n",
    "    else:\n",
    "        oQueryTable.clear_output()\n",
    "        oQueryTable_hidden = True\n",
    "        pass\n",
    "\n",
    "alacfetchhead = \"\"\"<a id=\"fetch\"></a>\n",
    "<h2 id=\"collect-case-pdfs-in-bulk-from-alacourt-com-from-a-list-of-names-or-search-parameters-\">Collect case PDFs in bulk from Alacourt.com from a list of names or search parameters.</h2>\n",
    "<p><strong>Use column headers <code>NAME</code>, <code>PARTY_TYPE</code>, <code>SSN</code>, <code>DOB</code>, <code>COUNTY</code>, <code>DIVISION</code>, <code>CASE_YEAR</code>, and/or <code>FILED_BEFORE</code> in an Excel spreadsheet to submit a list of queries for Alacorder to scrape. Each column corresponds to a search field in Party Search. Missing columns and entries will be left empty, i.e. if only the <code>NAME</code>&#39;s and <code>CASE_YEAR</code>&#39;s are relevant to the search, a file with two columns will work.</strong></p>\n",
    "\"\"\"\n",
    "btn2 = ipywidgets.Button(description=\"Read more\")\n",
    "\n",
    "def showFetch(*args):\n",
    "    display(IPython.display.HTML(alacfetchhead))\n",
    "    display(btn2, oQueryTable)\n",
    "    btn2.on_click(viewQueryTable)\n",
    "    display(query_path) \n",
    "    display(output_dir) \n",
    "    display(cID)\n",
    "    display(uID)\n",
    "    display(pwd)\n",
    "    btn.on_click(startFetch)\n",
    "    display(btn)\n",
    "\n",
    "oQueryTable.clear_output()\n",
    "\n",
    "arc_title = IPython.display.HTML(\"\"\"<a id=\"arc\"></a>\n",
    "<h2 id=\"case-text-archives-require-a-fraction-of-the-storage-capacity-and-processing-time-used-to-process-pdf-directories-before-exporting-your-data-to-tables-create-an-archive-with-supported-file-extensions-pkl-xz-json-zip-parquet-and-csv-zip-\">Case text archives require a fraction of the storage capacity and processing time used to process PDF directories. Before exporting your data to tables, create an archive with supported file extensions  <code>.pkl.xz</code>, <code>.json(.zip)</code>, <code>.parquet</code> and <code>.csv(.zip)</code>.</h2>\n",
    "<p><strong>Once archived, use your case text archive as an input for multitable or single table export.</strong></p>\n",
    "\"\"\")\n",
    "arc_inpath = ipywidgets.Text(description=\"Input Path\", \n",
    "                            layout=ipywidgets.Layout(width='90%'), \n",
    "                            tooltip=\"Path to PDF directory\")\n",
    "\n",
    "arc_outpath = ipywidgets.Text(description=\"Output Path\", layout=ipywidgets.Layout(width='90%'))\n",
    "arc_count = ipywidgets.IntText(description=\"Set max count\", layout=ipywidgets.Layout(width='90%'))\n",
    "arc_overwrite = ipywidgets.Checkbox(description=\"Allow overwrite\")\n",
    "arc_dedupe = ipywidgets.Checkbox(description=\"Remove duplicates\")\n",
    "arc_compress = ipywidgets.Checkbox(description=\"ZIP export (must be .json, .csv)\")\n",
    "arc_btn = ipywidgets.Button(description=\"Start archiving\")\n",
    "\n",
    "def startArchive(*args):\n",
    "    global arc_title, arc_inpath, arc_outpath, arc_count, arc_overwrite, arc_btn\n",
    "    if arc_inpath.value.strip() != \"\" and arc_outpath.value.strip() != \"\":\n",
    "        return alac.setinit(arc_inpath.value, arc_outpath.value, archive=True, overwrite=arc_overwrite.value, jlog=True, no_batch=True)\n",
    "    else:\n",
    "        return None\n",
    "\n",
    "def showArchive():\n",
    "    global arc_title, arc_inpath, arc_outpath, arc_count, arc_overwrite, arc_dedupe, arc_compress, arc_btn\n",
    "    display(arc_title)\n",
    "    display(arc_inpath)\n",
    "    display(arc_outpath)\n",
    "    arc_chk = ipywidgets.HBox([arc_overwrite, arc_dedupe, arc_compress])\n",
    "    display(arc_chk)\n",
    "    display(arc_btn)\n",
    "    arc_btn.on_click(startArchive)\n",
    "    return None\n",
    "\n",
    "mtab_title = IPython.display.HTML(\"\"\"<a id=\"mtab\"></a>\n",
    "<h2 id=\"multitable-export-processes-case-detail-pdfs-and-case-text-archives-into-data-tables-suitable-for-research-purposes-export-an-excel-spreadsheet-with-detailed-cases-information-cases-fee-sheets-fees-and-charges-information-charges-disposition-filing-\">Multitable export processes case detail PDFs and case text archives into data tables suitable for research purposes. Export an Excel spreadsheet with detailed cases information (<code>cases</code>), fee sheets (<code>fees</code>), and charges information (<code>charges</code>, <code>disposition</code>, <code>filing</code>).</h2>\n",
    "<p><strong><em>Note: It is recommended that you create a case text archive from your target PDF directory before exporting tables. Case text archives can be processed into tables at a much faster rate and require far less storage.</em></strong></p>\"\"\")\n",
    "mtab_inpath = ipywidgets.Text(description=\"Input Path\", \n",
    "                        layout=ipywidgets.Layout(width='90%'), \n",
    "                        tooltip=\"Path to input directory or archive\")\n",
    "\n",
    "mtab_outpath = ipywidgets.Text(description=\"Output Path\", layout=ipywidgets.Layout(width='90%'))\n",
    "mtab_count = ipywidgets.IntText(\n",
    "    value=0,\n",
    "    min=0,\n",
    "    max=10000,\n",
    "    step=1,\n",
    "    description='Max count:',\n",
    "    orientation='horizontal',\n",
    "    readout=True,\n",
    "    readout_format='d'\n",
    ")\n",
    "mtab_overwrite = ipywidgets.Checkbox(description=\"Allow overwrite\")\n",
    "mtab_btn = ipywidgets.Button(description=\"Start export\")\n",
    "\n",
    "mtab_obox = ipywidgets.HBox([mtab_count, mtab_overwrite])\n",
    "def startMulti(*args):\n",
    "    global mtab_title, mtab_inpath, mtab_outpath, mtab_count, mtab_overwrite, mtab_btn\n",
    "    if mtab_inpath.value.strip() != \"\":\n",
    "        cf = alac.setpaths(mtab_inpath.value, mtab_outpath.value, overwrite=mtab_overwrite.value, jlog=True)\n",
    "        return alac.init(cf)\n",
    "    else:\n",
    "        return None\n",
    "\n",
    "def showMulti():\n",
    "    display(mtab_title)\n",
    "    display(mtab_obox)\n",
    "    display(mtab_inpath)\n",
    "    display(mtab_outpath)\n",
    "    mtab_btn.on_click(startMulti)\n",
    "    display(mtab_btn)\n",
    "    return None\n",
    "\n",
    "\n",
    "stab_title = IPython.display.HTML(\"\"\"<a id=\"stab\"></a>\n",
    "<h2 id=\"export-charges-including-disposition-only-and-filing-only-cases-or-fees-table-only-single-table-export-enables-file-types-without-support-for-multiple-sheets-this-mode-allows-export-to-csv-json-dta-xls-xlsx-pkl-and-parquet-files-\">Export <code>charges</code> (including <code>disposition</code> only and <code>filing</code> only), <code>cases</code>, or <code>fees</code> table only. Single table export enables file types without support for multiple sheets. This mode allows export to <code>.csv</code>, <code>.json</code>, <code>.dta</code>, <code>.xls</code>, <code>.xlsx</code>, <code>.pkl</code>, and <code>.parquet</code> files.</h2>\n",
    "<p><strong>Once archived, use your case text archive as an input for multitable or single table export.</strong></p>\"\"\")\n",
    "stab_inpath = ipywidgets.Text(description=\"Input Path\", \n",
    "                        layout=ipywidgets.Layout(width='90%'), \n",
    "                        tooltip=\"Path to input directory or archive\")\n",
    "stab_table = ipywidgets.RadioButtons(options=['cases', 'charges', 'disposition', 'filing', 'fees'],description='Table:')\n",
    "\n",
    "stab_outpath = ipywidgets.Text(description=\"Output Path\", layout=ipywidgets.Layout(width='90%'))\n",
    "stab_count = ipywidgets.IntText(\n",
    "    value=0,\n",
    "    min=0,\n",
    "    max=10000,\n",
    "    step=1,\n",
    "    description='Max count:',\n",
    "    orientation='horizontal',\n",
    "    readout=True,\n",
    "    readout_format='d'\n",
    ")\n",
    "stab_overwrite = ipywidgets.Checkbox(description=\"Allow overwrite\")\n",
    "stab_nobatch = ipywidgets.Checkbox(description=\"Don't split in batches\")\n",
    "stab_btn = ipywidgets.Button(description=\"Start export\")\n",
    "\n",
    "stab_obox = ipywidgets.HBox([stab_overwrite, stab_nobatch])\n",
    "\n",
    "def startSingle(*args):\n",
    "    global stab_title, stab_inpath, stab_outpath, stab_count, stab_overwrite, stab_btn\n",
    "    if stab_inpath.value.strip() != \"\":\n",
    "        return alac.setinit(stab_inpath.value, stab_outpath.value, table=stab_table.value, overwrite=stab_overwrite.value, no_batch=stab_nobatch.value, jlog=True)\n",
    "\n",
    "    else:\n",
    "        return None\n",
    "\n",
    "def showSingle():\n",
    "    display(stab_title)\n",
    "    display(stab_obox)\n",
    "    display(stab_inpath)\n",
    "    display(stab_outpath)\n",
    "    display(stab_table)\n",
    "    stab_btn.on_click(startSingle)\n",
    "    display(stab_btn)\n",
    "    return None"
   ]
  },
  {
   "cell_type": "markdown",
   "id": "227aba2b",
   "metadata": {
    "hide_input": false,
    "tags": []
   },
   "source": [
    "\n",
    "# `ALACORDER.ipynb` on jupyter (beta 76)\n",
    "\n",
    "<h2>Alacorder retrieves and processes case detail PDFs into data tables suitable for research purposes. </h2>\n",
    "\n",
    "----------------------\n",
    "\n",
    "<h3> In this notebook: </h3>\n",
    "\n",
    "### 1. `fetch` - Retrieve case detail PDFs in bulk from Alacourt.com\n",
    "### 2. `archive` - Create full text archives from PDF directory\n",
    "### 3. `multitable` - Export cases, charges, fees tables at once\n",
    "### 4. `singletable` - Export table choice from archive or directory\n",
    "\n",
    "\n",
    "-----------------------\n",
    "\n",
    "**This notebook can be used to interface with Alacorder directly. Once Alacorder is installed, launch Jupyter Notebook with the command line prompt `python3 -m jupyter notebook` or `python -m jupyter notebook`, then open `ALACORDER.ipynb` in the browser window that opens to begin. If your Python kernel is active and the notebook is trusted, Alacorder will load in this notebook automatically.**\n",
    "\n",
    "To install on Windows and Mac, open Command Prompt (Terminal) and enter `pip install alacorder` or `pip3 install alacorder`.\n",
    "On Mac, open the Terminal and enter `pip install alacorder` or `pip3 install alacorder`.\n",
    "Install Anaconda Distribution to install Alacorder if the above methods do not work, or if you would like to open an interactive browser notebook equipped with Alacorder on your desktop.\n",
    "After installation, create a virtual environment, open a terminal, and then repeat these instructions. If your copy of Alacorder is corrupted, use `pip uninstall alacorder` or `pip3 uninstall alacorder` and then reinstall it. There may be a newer version available.\n",
    "\n",
    "\n",
    "### Alacorder can run on most devices. If your device can run Python 3.7 or later, it can run Alacorder. The `fetch` tool for PDF retrieval requires an up-to-date installation of Google Chrome. \n",
    "\n"
   ]
  },
  {
   "cell_type": "markdown",
   "id": "c3d66fea",
   "metadata": {
    "hide_input": true
   },
   "source": [
    "---------------------\n",
    "\n",
    "# `fetch` - Retrieve case detail PDFs in bulk from Alacourt.com"
   ]
  },
  {
   "cell_type": "code",
   "execution_count": 8,
   "id": "a2a97810",
   "metadata": {
    "hide_input": true,
    "init_cell": true,
    "scrolled": false
   },
   "outputs": [
    {
     "data": {
      "text/html": [
       "<a id=\"fetch\"></a>\n",
       "<h2 id=\"collect-case-pdfs-in-bulk-from-alacourt-com-from-a-list-of-names-or-search-parameters-\">Collect case PDFs in bulk from Alacourt.com from a list of names or search parameters.</h2>\n",
       "<p><strong>Use column headers <code>NAME</code>, <code>PARTY_TYPE</code>, <code>SSN</code>, <code>DOB</code>, <code>COUNTY</code>, <code>DIVISION</code>, <code>CASE_YEAR</code>, and/or <code>FILED_BEFORE</code> in an Excel spreadsheet to submit a list of queries for Alacorder to scrape. Each column corresponds to a search field in Party Search. Missing columns and entries will be left empty, i.e. if only the <code>NAME</code>&#39;s and <code>CASE_YEAR</code>&#39;s are relevant to the search, a file with two columns will work.</strong></p>\n"
      ],
      "text/plain": [
       "<IPython.core.display.HTML object>"
      ]
     },
     "metadata": {},
     "output_type": "display_data"
    },
    {
     "data": {
      "application/vnd.jupyter.widget-view+json": {
       "model_id": "7f638981126d48158dcf2f7ea2c87244",
       "version_major": 2,
       "version_minor": 0
      },
      "text/plain": [
       "Button(description='Read more', style=ButtonStyle())"
      ]
     },
     "metadata": {},
     "output_type": "display_data"
    },
    {
     "data": {
      "application/vnd.jupyter.widget-view+json": {
       "model_id": "0e7bf8c81acd41cca54b932001d3730f",
       "version_major": 2,
       "version_minor": 0
      },
      "text/plain": [
       "Output()"
      ]
     },
     "metadata": {},
     "output_type": "display_data"
    },
    {
     "data": {
      "application/vnd.jupyter.widget-view+json": {
       "model_id": "204076c801eb48538bb292d475f7a4ad",
       "version_major": 2,
       "version_minor": 0
      },
      "text/plain": [
       "Text(value='', description='Input Path:', layout=Layout(width='90%'), tooltip='Path to query template spreadsh…"
      ]
     },
     "metadata": {},
     "output_type": "display_data"
    },
    {
     "data": {
      "application/vnd.jupyter.widget-view+json": {
       "model_id": "acc650eb3cfc4354bfaeddb566617330",
       "version_major": 2,
       "version_minor": 0
      },
      "text/plain": [
       "Text(value='', description='Output Path:', layout=Layout(width='90%'))"
      ]
     },
     "metadata": {},
     "output_type": "display_data"
    },
    {
     "data": {
      "application/vnd.jupyter.widget-view+json": {
       "model_id": "70148223a4f04f7498bb349be4ad2e63",
       "version_major": 2,
       "version_minor": 0
      },
      "text/plain": [
       "Text(value='', description='Customer ID: ')"
      ]
     },
     "metadata": {},
     "output_type": "display_data"
    },
    {
     "data": {
      "application/vnd.jupyter.widget-view+json": {
       "model_id": "63697cb2b3c642f7bbe8d2c17f88f241",
       "version_major": 2,
       "version_minor": 0
      },
      "text/plain": [
       "Text(value='', description='User ID: ')"
      ]
     },
     "metadata": {},
     "output_type": "display_data"
    },
    {
     "data": {
      "application/vnd.jupyter.widget-view+json": {
       "model_id": "0f69e8c14bfa4d61ba64b414665fc73a",
       "version_major": 2,
       "version_minor": 0
      },
      "text/plain": [
       "Password(description='Password: ')"
      ]
     },
     "metadata": {},
     "output_type": "display_data"
    },
    {
     "data": {
      "application/vnd.jupyter.widget-view+json": {
       "model_id": "ce4a8cad9b3a422d9ffc85b6bae033a2",
       "version_major": 2,
       "version_minor": 0
      },
      "text/plain": [
       "Button(description='Login', style=ButtonStyle())"
      ]
     },
     "metadata": {},
     "output_type": "display_data"
    }
   ],
   "source": [
    "showFetch() # run cell if fetch options are not visible"
   ]
  },
  {
   "cell_type": "markdown",
   "id": "b492cac2",
   "metadata": {},
   "source": [
    "-----------------------------------\n",
    "\n",
    "# `multitable` - Export cases, charges, fees tables at once"
   ]
  },
  {
   "cell_type": "code",
   "execution_count": 9,
   "id": "2fb5dde1",
   "metadata": {
    "hide_input": true,
    "init_cell": true,
    "scrolled": false
   },
   "outputs": [
    {
     "data": {
      "text/html": [
       "<a id=\"mtab\"></a>\n",
       "<h2 id=\"multitable-export-processes-case-detail-pdfs-and-case-text-archives-into-data-tables-suitable-for-research-purposes-export-an-excel-spreadsheet-with-detailed-cases-information-cases-fee-sheets-fees-and-charges-information-charges-disposition-filing-\">Multitable export processes case detail PDFs and case text archives into data tables suitable for research purposes. Export an Excel spreadsheet with detailed cases information (<code>cases</code>), fee sheets (<code>fees</code>), and charges information (<code>charges</code>, <code>disposition</code>, <code>filing</code>).</h2>\n",
       "<p><strong><em>Note: It is recommended that you create a case text archive from your target PDF directory before exporting tables. Case text archives can be processed into tables at a much faster rate and require far less storage.</em></strong></p>"
      ],
      "text/plain": [
       "<IPython.core.display.HTML object>"
      ]
     },
     "metadata": {},
     "output_type": "display_data"
    },
    {
     "data": {
      "application/vnd.jupyter.widget-view+json": {
       "model_id": "e8a6a9b7465b47e4910e13e2b7e62d0c",
       "version_major": 2,
       "version_minor": 0
      },
      "text/plain": [
       "HBox(children=(IntText(value=0, description='Max count:'), Checkbox(value=False, description='Allow overwrite'…"
      ]
     },
     "metadata": {},
     "output_type": "display_data"
    },
    {
     "data": {
      "application/vnd.jupyter.widget-view+json": {
       "model_id": "5a5817ed124044fe8274ba7c0b8ea763",
       "version_major": 2,
       "version_minor": 0
      },
      "text/plain": [
       "Text(value='', description='Input Path', layout=Layout(width='90%'), tooltip='Path to input directory or archi…"
      ]
     },
     "metadata": {},
     "output_type": "display_data"
    },
    {
     "data": {
      "application/vnd.jupyter.widget-view+json": {
       "model_id": "9daea139b33c4fc990c200289c37eecd",
       "version_major": 2,
       "version_minor": 0
      },
      "text/plain": [
       "Text(value='', description='Output Path', layout=Layout(width='90%'))"
      ]
     },
     "metadata": {},
     "output_type": "display_data"
    },
    {
     "data": {
      "application/vnd.jupyter.widget-view+json": {
       "model_id": "574a92fd428a4e3591214f3d57ad6fb7",
       "version_major": 2,
       "version_minor": 0
      },
      "text/plain": [
       "Button(description='Start export', style=ButtonStyle())"
      ]
     },
     "metadata": {},
     "output_type": "display_data"
    }
   ],
   "source": [
    "showMulti() # run cell if multitable export options are not visible"
   ]
  },
  {
   "cell_type": "markdown",
   "id": "aff56a30",
   "metadata": {},
   "source": [
    "---------------------------------------------\n",
    "\n",
    "# `singletable` - Export table choice from archive or directory"
   ]
  },
  {
   "cell_type": "code",
   "execution_count": 10,
   "id": "471f2b87",
   "metadata": {
    "hide_input": true,
    "init_cell": true,
    "scrolled": false
   },
   "outputs": [
    {
     "data": {
      "text/html": [
       "<a id=\"stab\"></a>\n",
       "<h2 id=\"export-charges-including-disposition-only-and-filing-only-cases-or-fees-table-only-single-table-export-enables-file-types-without-support-for-multiple-sheets-this-mode-allows-export-to-csv-json-dta-xls-xlsx-pkl-and-parquet-files-\">Export <code>charges</code> (including <code>disposition</code> only and <code>filing</code> only), <code>cases</code>, or <code>fees</code> table only. Single table export enables file types without support for multiple sheets. This mode allows export to <code>.csv</code>, <code>.json</code>, <code>.dta</code>, <code>.xls</code>, <code>.xlsx</code>, <code>.pkl</code>, and <code>.parquet</code> files.</h2>\n",
       "<p><strong>Once archived, use your case text archive as an input for multitable or single table export.</strong></p>"
      ],
      "text/plain": [
       "<IPython.core.display.HTML object>"
      ]
     },
     "metadata": {},
     "output_type": "display_data"
    },
    {
     "data": {
      "application/vnd.jupyter.widget-view+json": {
       "model_id": "a72a77b94bfd4f37a8a36077183bb7b0",
       "version_major": 2,
       "version_minor": 0
      },
      "text/plain": [
       "HBox(children=(Checkbox(value=False, description='Allow overwrite'), Checkbox(value=False, description=\"Don't …"
      ]
     },
     "metadata": {},
     "output_type": "display_data"
    },
    {
     "data": {
      "application/vnd.jupyter.widget-view+json": {
       "model_id": "d9d87a91f5564bf98d9b42bcf607fe4b",
       "version_major": 2,
       "version_minor": 0
      },
      "text/plain": [
       "Text(value='', description='Input Path', layout=Layout(width='90%'), tooltip='Path to input directory or archi…"
      ]
     },
     "metadata": {},
     "output_type": "display_data"
    },
    {
     "data": {
      "application/vnd.jupyter.widget-view+json": {
       "model_id": "94f4fa4288d948fd97f22476b51c455f",
       "version_major": 2,
       "version_minor": 0
      },
      "text/plain": [
       "Text(value='', description='Output Path', layout=Layout(width='90%'))"
      ]
     },
     "metadata": {},
     "output_type": "display_data"
    },
    {
     "data": {
      "application/vnd.jupyter.widget-view+json": {
       "model_id": "624c9e3516b24a148d7e2e7fcf6049e7",
       "version_major": 2,
       "version_minor": 0
      },
      "text/plain": [
       "RadioButtons(description='Table:', options=('cases', 'charges', 'disposition', 'filing', 'fees'), value='cases…"
      ]
     },
     "metadata": {},
     "output_type": "display_data"
    },
    {
     "data": {
      "application/vnd.jupyter.widget-view+json": {
       "model_id": "4588728eb1194d4bb8a627f8f9f7e23a",
       "version_major": 2,
       "version_minor": 0
      },
      "text/plain": [
       "Button(description='Start export', style=ButtonStyle())"
      ]
     },
     "metadata": {},
     "output_type": "display_data"
    }
   ],
   "source": [
    "showSingle() # run cell if single table options are not visible"
   ]
  },
  {
   "cell_type": "markdown",
   "id": "b32810b7",
   "metadata": {},
   "source": [
    "------------------------------------\n",
    "\n",
    "# `archive` - Create full text archives from PDF directory"
   ]
  },
  {
   "cell_type": "code",
   "execution_count": 11,
   "id": "16c63d5a",
   "metadata": {
    "hide_input": true,
    "init_cell": true
   },
   "outputs": [
    {
     "data": {
      "text/html": [
       "<a id=\"arc\"></a>\n",
       "<h2 id=\"case-text-archives-require-a-fraction-of-the-storage-capacity-and-processing-time-used-to-process-pdf-directories-before-exporting-your-data-to-tables-create-an-archive-with-supported-file-extensions-pkl-xz-json-zip-parquet-and-csv-zip-\">Case text archives require a fraction of the storage capacity and processing time used to process PDF directories. Before exporting your data to tables, create an archive with supported file extensions  <code>.pkl.xz</code>, <code>.json(.zip)</code>, <code>.parquet</code> and <code>.csv(.zip)</code>.</h2>\n",
       "<p><strong>Once archived, use your case text archive as an input for multitable or single table export.</strong></p>\n"
      ],
      "text/plain": [
       "<IPython.core.display.HTML object>"
      ]
     },
     "metadata": {},
     "output_type": "display_data"
    },
    {
     "data": {
      "application/vnd.jupyter.widget-view+json": {
       "model_id": "4dc037561dca4745aafc0d7235cce713",
       "version_major": 2,
       "version_minor": 0
      },
      "text/plain": [
       "Text(value='', description='Input Path', layout=Layout(width='90%'), tooltip='Path to PDF directory')"
      ]
     },
     "metadata": {},
     "output_type": "display_data"
    },
    {
     "data": {
      "application/vnd.jupyter.widget-view+json": {
       "model_id": "dd4bda20abab40919746802e5f589a50",
       "version_major": 2,
       "version_minor": 0
      },
      "text/plain": [
       "Text(value='', description='Output Path', layout=Layout(width='90%'))"
      ]
     },
     "metadata": {},
     "output_type": "display_data"
    },
    {
     "data": {
      "application/vnd.jupyter.widget-view+json": {
       "model_id": "3d0be307f9e14fb2927e0039e1954283",
       "version_major": 2,
       "version_minor": 0
      },
      "text/plain": [
       "HBox(children=(Checkbox(value=False, description='Allow overwrite'), Checkbox(value=False, description='Remove…"
      ]
     },
     "metadata": {},
     "output_type": "display_data"
    },
    {
     "data": {
      "application/vnd.jupyter.widget-view+json": {
       "model_id": "d2a305f93a4e402f8efbf1774f64b218",
       "version_major": 2,
       "version_minor": 0
      },
      "text/plain": [
       "Button(description='Start archiving', style=ButtonStyle())"
      ]
     },
     "metadata": {},
     "output_type": "display_data"
    }
   ],
   "source": [
    "showArchive() # run cell if archive export options are not visible"
   ]
  }
 ],
 "metadata": {
  "celltoolbar": "Initialization Cell",
  "kernelspec": {
   "display_name": "Python 3 (ipykernel)",
   "language": "python",
   "name": "python3"
  },
  "language_info": {
   "codemirror_mode": {
    "name": "ipython",
    "version": 3
   },
   "file_extension": ".py",
   "mimetype": "text/x-python",
   "name": "python",
   "nbconvert_exporter": "python",
   "pygments_lexer": "ipython3",
   "version": "3.11.2"
  },
  "toc": {
   "base_numbering": 1,
   "nav_menu": {},
   "number_sections": true,
   "sideBar": true,
   "skip_h1_title": false,
   "title_cell": "Table of Contents",
   "title_sidebar": "Contents",
   "toc_cell": true,
   "toc_position": {},
   "toc_section_display": true,
   "toc_window_display": false
  }
 },
 "nbformat": 4,
 "nbformat_minor": 5
}
