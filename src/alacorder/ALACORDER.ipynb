{
  "cells": [
    {
      "cell_type": "markdown",
      "source": [
        "**Click `Run > Run All Cells` to start notebook interface.** If installation fails, unfreeze and run `%pip` cell below to install and/or update dependencies."
      ],
      "metadata": {},
      "id": "b918bb46"
    },
    {
      "cell_type": "code",
      "source": [
        "%pip install --upgrade alacorder"
      ],
      "outputs": [],
      "execution_count": null,
      "metadata": {
        "deletable": false,
        "editable": false,
        "hide_input": false,
        "run_control": {
          "frozen": true
        },
        "scrolled": true,
        "tags": []
      },
      "id": "eaa47eef"
    },
    {
      "cell_type": "markdown",
      "source": [
        "\n",
        "# ALACORDER beta 76\n",
        "\n",
        "\n",
        "## Alacorder retrieves and processes case detail PDFs into data tables suitable for research purposes. Run all cells to install and start the `jupyter` interface.\n",
        "\n",
        "----------------------\n",
        "\n",
        "<h3> In this notebook: </h3>\n",
        "\n",
        "### 1. [`fetch`](#fetch---Retrieve-case-detail-PDFs-in-bulk-from-Alacourt.com) - Retrieve case detail PDFs in bulk from Alacourt.com\n",
        "### 2. [`archive`](#archive---Create-full-text-archives-from-PDF-directory) - Create full text archives from PDF directory\n",
        "### 3. [`multitable`](#multitable---Export-cases,-charges,-fees-tables-at-once) - Export cases, charges, fees tables at once\n",
        "### 4. [`singletable`](#singletable---Export-table-choice-from-archive-or-directory) - Export table choice from archive or directory\n",
        "\n",
        "\n",
        "-----------------------\n",
        "\n",
        "**This notebook can be used to interface with Alacorder directly. Once Alacorder is installed, launch Jupyter Notebook with the command line prompt `python3 -m jupyter notebook` or `python -m jupyter notebook`, then open `ALACORDER.ipynb` in the browser window that opens to begin. If your Python kernel is active and the notebook is trusted, Alacorder will load in this notebook automatically.**\n",
        "\n",
        "To install on Windows and Mac, open Command Prompt (Terminal) and enter `pip install alacorder` or `pip3 install alacorder`.\n",
        "On Mac, open the Terminal and enter `pip install alacorder` or `pip3 install alacorder`.\n",
        "Install Anaconda Distribution to install Alacorder if the above methods do not work, or if you would like to open an interactive browser notebook equipped with Alacorder on your desktop.\n",
        "After installation, create a virtual environment, open a terminal, and then repeat these instructions. If your copy of Alacorder is corrupted, use `pip uninstall alacorder` or `pip3 uninstall alacorder` and then reinstall it. There may be a newer version available.\n",
        "\n",
        "\n",
        "### Alacorder can run on most devices. If your device can run Python 3.7 or later, it can run Alacorder. The `fetch` tool for PDF retrieval requires an up-to-date installation of Google Chrome. \n",
        "\n"
      ],
      "metadata": {
        "hide_input": true
      },
      "id": "1bdeb04f"
    },
    {
      "cell_type": "code",
      "source": [
        "## SETUP: MUST RUN THIS CELL BEFORE USE. PRESS [SHIFT + RETURN] TO LOAD. \n",
        "import cython, os, sys, warnings, itables, ipywidgets, IPython.display; import pandas as pd; import pyximport; pyximport.install(); from alacorder import alac\n",
        "warnings.filterwarnings('ignore')\n",
        "sys.tracebacklimit = 0\n",
        "query_path = ipywidgets.Text(description=\"Input Path:\", layout=ipywidgets.Layout(width='90%'), tooltip=\"Path to query template spreadsheet (list of names, etc. to search)\")\n",
        "output_dir = ipywidgets.Text(description=\"Output Path:\", layout=ipywidgets.Layout(width='90%'))\n",
        "cID = ipywidgets.Text(description=\"Customer ID: \")\n",
        "uID = ipywidgets.Text(description=\"User ID: \")\n",
        "pwd = ipywidgets.Password(description=\"Password: \")\n",
        "btn = ipywidgets.Button(description=\"Login\")\n",
        "speed = ipywidgets.FloatText(description=\"Speed\", value=1, min=0.1, max=3, step=0.1, layout=ipywidgets.Layout(width='40%'))\n",
        "qskip = ipywidgets.IntText(description=\"Skip rows\", value=0, min=0, step=1, layout=ipywidgets.Layout(width='40%'))\n",
        "qmax = ipywidgets.IntText(description=\"Max rows\", value=0, min=0, step=1, layout=ipywidgets.Layout(width='40%'))\n",
        "fetch_opts = ipywidgets.HBox([speed, qskip, qmax], layout=ipywidgets.Layout(width='95%'))\n",
        "\n",
        "def startFetch(*args):\n",
        "    global clicked, query_path, output_dir, cID, uID, pwd, btn, speed, qskip, qmax\n",
        "    if os.path.isdir(output_dir.value) and os.path.isfile(query_path.value) and cID.value != \"\" and uID.value != \"\" and pwd.value != \"\":\n",
        "        if qskip.value > 0 and qmax.value > 0:\n",
        "            return alac.fetch(query_path.value,output_dir.value,cID=cID.value, uID=uID.value, pwd=pwd.value, speed=speed.value, qskip=qskip.value, qmax=qmax.value, jlog=True)\n",
        "        elif qskip.value > 0:\n",
        "            return alac.fetch(query_path.value,output_dir.value,cID=cID.value, uID=uID.value, pwd=pwd.value, speed=speed.value, qskip=qskip.value, jlog=True)\n",
        "        elif qmax.value > 0:\n",
        "            return alac.fetch(query_path.value,output_dir.value,cID=cID.value, uID=uID.value, pwd=pwd.value, speed=speed.value, qmax=qmax.value, jlog=True)\n",
        "        else:\n",
        "            return alac.fetch(query_path.value,output_dir.value,cID=cID.value, uID=uID.value, pwd=pwd.value, speed=speed.value, jlog=True)\n",
        "            \n",
        "\n",
        "    else:\n",
        "        display(\"Ensure all fields are correctly filled, then try again.\")\n",
        "        return None\n",
        "\n",
        "oQueryTable = ipywidgets.Output()\n",
        "oQueryTable_hidden = True\n",
        "\n",
        "def viewQueryTable(*args):\n",
        "    global oQueryTable\n",
        "    global oQueryTable_hidden\n",
        "    if oQueryTable_hidden:\n",
        "        inputstab = \"\"\"<style> table {float:left} </style> <table> <thead> <tr> <th>Field</th> <th>Description</th> </tr> </thead> <tbody> <tr> <td><code>NAME</code></td> <td>Last Name First</td> </tr> <tr> <td><code>PARTY_TYPE</code></td> <td>Social Security Number (Optional)</td> </tr> <tr> <td><code>SSN</code></td> <td>Applies to civil cases only (Optional)</td> </tr> <tr> <td><code>DOB</code></td> <td>Date of Birth (M/DD/YYYY)</td> </tr> <tr> <td><code>COUNTY</code></td> <td>Select a county if not statewide</td> </tr> <tr> <td><code>DIVISION</code></td> <td>Select a division if not all divisions.</td> </tr> <tr> <td><code>CASE_YEAR</code></td> <td>Four digit case year to limit results</td> </tr> <tr> <td><code>FILED_BEFORE</code></td> <td>Do not include cases filed after M/DD/YYYY</td> </tr> <tr> <td><code>FILED_AFTER</code></td> <td>Do not include cases filed after M/DD/YYYY</td> </tr> </tbody> </table> \"\"\"\n",
        "        oQueryTable_hidden = False\n",
        "        with oQueryTable:\n",
        "            display(IPython.display.HTML(inputstab))\n",
        "    else:\n",
        "        oQueryTable.clear_output()\n",
        "        oQueryTable_hidden = True\n",
        "        pass\n",
        "\n",
        "alacfetchhead = \"\"\"<a id=\"fetch\"></a>\n",
        "<h2 id=\"collect-case-pdfs-in-bulk-from-alacourt-com-from-a-list-of-names-or-search-parameters-\">Collect case PDFs in bulk from Alacourt.com from a list of names or search parameters.</h2>\n",
        "<p><strong>Use column headers <code>NAME</code>, <code>PARTY_TYPE</code>, <code>SSN</code>, <code>DOB</code>, <code>COUNTY</code>, <code>DIVISION</code>, <code>CASE_YEAR</code>, and/or <code>FILED_BEFORE</code> in an Excel spreadsheet to submit a list of queries for Alacorder to scrape. Each column corresponds to a search field in Party Search. Missing columns and entries will be left empty, i.e. if only the <code>NAME</code>&#39;s and <code>CASE_YEAR</code>&#39;s are relevant to the search, a file with two columns will work.</strong></p>\n",
        "\"\"\"\n",
        "btn2 = ipywidgets.Button(description=\"Read more\")\n",
        "\n",
        "def showFetch(*args):\n",
        "    display(IPython.display.HTML(alacfetchhead))\n",
        "    display(btn2, oQueryTable)\n",
        "    btn2.on_click(viewQueryTable)\n",
        "    display(fetch_opts)\n",
        "    display(query_path) \n",
        "    display(output_dir) \n",
        "    display(cID)\n",
        "    display(uID)\n",
        "    display(pwd)\n",
        "    btn.on_click(startFetch)\n",
        "    display(btn)\n",
        "\n",
        "oQueryTable.clear_output()\n",
        "\n",
        "arc_title = IPython.display.HTML(\"\"\"<a id=\"arc\"></a>\n",
        "<h2 id=\"case-text-archives-require-a-fraction-of-the-storage-capacity-and-processing-time-used-to-process-pdf-directories-before-exporting-your-data-to-tables-create-an-archive-with-supported-file-extensions-pkl-xz-json-zip-parquet-and-csv-zip-\">Case text archives require a fraction of the storage capacity and processing time used to process PDF directories. Before exporting your data to tables, create an archive with supported file extensions  <code>.pkl.xz</code>, <code>.json(.zip)</code>, <code>.parquet</code> and <code>.csv(.zip)</code>.</h2>\n",
        "<p><strong>Once archived, use your case text archive as an input for multitable or single table export.</strong></p>\n",
        "\"\"\")\n",
        "arc_inpath = ipywidgets.Text(description=\"Input Path\", \n",
        "                            layout=ipywidgets.Layout(width='90%'), \n",
        "                            tooltip=\"Path to PDF directory\")\n",
        "\n",
        "arc_outpath = ipywidgets.Text(description=\"Output Path\", layout=ipywidgets.Layout(width='90%'))\n",
        "arc_overwrite = ipywidgets.Checkbox(description=\"Allow overwrite\")\n",
        "arc_dedupe = ipywidgets.Checkbox(description=\"Remove duplicates\")\n",
        "arc_compress = ipywidgets.Checkbox(description=\"ZIP export (must be .json, .csv)\")\n",
        "arc_btn = ipywidgets.Button(description=\"Start archiving\")\n",
        "arc_count = ipywidgets.IntText(description=\"Max count\", value=0, min=0, step=1, layout=ipywidgets.Layout(width='40%'))\n",
        "\n",
        "def startArchive(*args):\n",
        "    global arc_title, arc_inpath, arc_outpath, arc_count, arc_overwrite, arc_btn\n",
        "    if arc_inpath.value.strip() != \"\" and arc_outpath.value.strip() != \"\":\n",
        "        return alac.setinit(arc_inpath.value, arc_outpath.value, archive=True, overwrite=arc_overwrite.value, jlog=False, no_batch=True, count=arc_count.value)\n",
        "    else:\n",
        "        return None\n",
        "\n",
        "def showArchive():\n",
        "    global arc_title, arc_inpath, arc_outpath, arc_count, arc_overwrite, arc_dedupe, arc_compress, arc_btn\n",
        "    display(arc_title)\n",
        "    display(arc_count)\n",
        "    display(arc_inpath)\n",
        "    display(arc_outpath)\n",
        "    arc_chk = ipywidgets.HBox([arc_overwrite, arc_dedupe, arc_compress])\n",
        "    display(arc_chk)\n",
        "    display(arc_btn)\n",
        "    arc_btn.on_click(startArchive)\n",
        "    return None\n",
        "\n",
        "mtab_title = IPython.display.HTML(\"\"\"<a id=\"mtab\"></a>\n",
        "<h2 id=\"multitable-export-processes-case-detail-pdfs-and-case-text-archives-into-data-tables-suitable-for-research-purposes-export-an-excel-spreadsheet-with-detailed-cases-information-cases-fee-sheets-fees-and-charges-information-charges-disposition-filing-\">Multitable export processes case detail PDFs and case text archives into data tables suitable for research purposes. Export an Excel spreadsheet with detailed cases information (<code>cases</code>), fee sheets (<code>fees</code>), and charges information (<code>charges</code>, <code>disposition</code>, <code>filing</code>).</h2>\n",
        "<p><strong><em>Note: It is recommended that you create a case text archive from your target PDF directory before exporting tables. Case text archives can be processed into tables at a much faster rate and require far less storage.</em></strong></p>\"\"\")\n",
        "mtab_inpath = ipywidgets.Text(description=\"Input Path\", \n",
        "                        layout=ipywidgets.Layout(width='95%'), \n",
        "                        tooltip=\"Path to input directory or archive\")\n",
        "\n",
        "mtab_outpath = ipywidgets.Text(description=\"Output Path\", layout=ipywidgets.Layout(width='95%'))\n",
        "mtab_count = ipywidgets.IntText(\n",
        "    value=0,\n",
        "    min=0,\n",
        "    max=10000,\n",
        "    step=1,\n",
        "    description='Max count:',\n",
        "    orientation='horizontal',\n",
        "    readout=True,\n",
        "    readout_format='d'\n",
        ")\n",
        "mtab_overwrite = ipywidgets.Checkbox(description=\"Allow overwrite\")\n",
        "mtab_btn = ipywidgets.Button(description=\"Start export\")\n",
        "mtab_nobatch = ipywidgets.Checkbox(description=\"Don't split in batches\")\n",
        "mtab_obox = ipywidgets.HBox([mtab_count, mtab_overwrite, mtab_nobatch])\n",
        "\n",
        "def startMulti(*args):\n",
        "    global mtab_title, mtab_inpath, mtab_outpath, mtab_count, mtab_overwrite, mtab_btn\n",
        "    if mtab_inpath.value.strip() != \"\":\n",
        "        cf = alac.setpaths(mtab_inpath.value, mtab_outpath.value, overwrite=mtab_overwrite.value, jlog=True, no_batch=mtab_nobatch.value)\n",
        "        return alac.init(cf)\n",
        "    else:\n",
        "        return None\n",
        "\n",
        "def showMulti():\n",
        "    display(mtab_title)\n",
        "    display(mtab_obox)\n",
        "    display(mtab_inpath)\n",
        "    display(mtab_outpath)\n",
        "    mtab_btn.on_click(startMulti)\n",
        "    display(mtab_btn)\n",
        "    return None\n",
        "\n",
        "\n",
        "stab_title = IPython.display.HTML(\"\"\"<a id=\"stab\"></a>\n",
        "<h2 id=\"export-charges-including-disposition-only-and-filing-only-cases-or-fees-table-only-single-table-export-enables-file-types-without-support-for-multiple-sheets-this-mode-allows-export-to-csv-json-dta-xls-xlsx-pkl-and-parquet-files-\">Export <code>charges</code> (including <code>disposition</code> only and <code>filing</code> only), <code>cases</code>, or <code>fees</code> table only. Single table export enables file types without support for multiple sheets. This mode allows export to <code>.csv</code>, <code>.json</code>, <code>.dta</code>, <code>.xls</code>, <code>.xlsx</code>, <code>.pkl</code>, and <code>.parquet</code> files.</h2>\n",
        "<p><strong>Once archived, use your case text archive as an input for multitable or single table export.</strong></p>\"\"\")\n",
        "stab_inpath = ipywidgets.Text(description=\"Input Path\", \n",
        "                        layout=ipywidgets.Layout(width='90%'), \n",
        "                        tooltip=\"Path to input directory or archive\")\n",
        "stab_table = ipywidgets.Dropdown(options=['cases', 'charges', 'disposition', 'filing', 'fees'],description='Table:',layout=ipywidgets.Layout(orientation='horizontal'))\n",
        "\n",
        "stab_outpath = ipywidgets.Text(description=\"Output Path\", layout=ipywidgets.Layout(width='90%'))\n",
        "stab_count = ipywidgets.IntText(\n",
        "    value=0,\n",
        "    min=0,\n",
        "    max=10000,\n",
        "    step=1,\n",
        "    description='Max count:',\n",
        "    orientation='horizontal',\n",
        "    readout=True,\n",
        "    readout_format='d'\n",
        ")\n",
        "stab_overwrite = ipywidgets.Checkbox(description=\"Allow overwrite\")\n",
        "stab_nobatch = ipywidgets.Checkbox(description=\"Don't split in batches\")\n",
        "stab_btn = ipywidgets.Button(description=\"Start export\")\n",
        "\n",
        "stab_obox = ipywidgets.HBox([stab_count, stab_overwrite, stab_nobatch])\n",
        "\n",
        "def startSingle(*args):\n",
        "    global stab_title, stab_inpath, stab_outpath, stab_count, stab_overwrite, stab_btn\n",
        "    if stab_inpath.value.strip() != \"\":\n",
        "        return alac.setinit(stab_inpath.value, stab_outpath.value, table=stab_table.value, overwrite=stab_overwrite.value, no_batch=stab_nobatch.value, count=stab_count.value, jlog=True)\n",
        "    else:\n",
        "        return None\n",
        "\n",
        "def showSingle():\n",
        "    display(stab_title)\n",
        "    display(stab_obox)\n",
        "    display(stab_inpath)\n",
        "    display(stab_outpath)\n",
        "    display(stab_table)\n",
        "    stab_btn.on_click(startSingle)\n",
        "    display(stab_btn)\n",
        "    return None"
      ],
      "outputs": [],
      "execution_count": 7,
      "metadata": {
        "code_folding": [
          0
        ],
        "deletable": false,
        "editable": false,
        "hide_input": true,
        "init_cell": true
      },
      "id": "1ae14b32"
    },
    {
      "cell_type": "markdown",
      "source": [
        "---------------------\n",
        "\n",
        "# `fetch` - Retrieve case detail PDFs in bulk from Alacourt.com"
      ],
      "metadata": {
        "deletable": false,
        "editable": false,
        "hide_input": true,
        "run_control": {
          "frozen": true
        }
      },
      "id": "c3d66fea"
    },
    {
      "cell_type": "code",
      "source": [
        "showFetch() # run cell if fetch options are not visible"
      ],
      "outputs": [
        {
          "output_type": "display_data",
          "data": {
            "text/html": "<a id=\"fetch\"></a>\n<h2 id=\"collect-case-pdfs-in-bulk-from-alacourt-com-from-a-list-of-names-or-search-parameters-\">Collect case PDFs in bulk from Alacourt.com from a list of names or search parameters.</h2>\n<p><strong>Use column headers <code>NAME</code>, <code>PARTY_TYPE</code>, <code>SSN</code>, <code>DOB</code>, <code>COUNTY</code>, <code>DIVISION</code>, <code>CASE_YEAR</code>, and/or <code>FILED_BEFORE</code> in an Excel spreadsheet to submit a list of queries for Alacorder to scrape. Each column corresponds to a search field in Party Search. Missing columns and entries will be left empty, i.e. if only the <code>NAME</code>&#39;s and <code>CASE_YEAR</code>&#39;s are relevant to the search, a file with two columns will work.</strong></p>\n",
            "text/plain": "<IPython.core.display.HTML object>"
          },
          "metadata": {}
        },
        {
          "output_type": "display_data",
          "data": {
            "application/vnd.jupyter.widget-view+json": {
              "model_id": "d105a197cec642baa039069839671023",
              "version_major": 2,
              "version_minor": 0
            },
            "text/plain": "Button(description='Read more', style=ButtonStyle())"
          },
          "metadata": {}
        },
        {
          "output_type": "display_data",
          "data": {
            "application/vnd.jupyter.widget-view+json": {
              "model_id": "459164ef89c349e6887a2342d2ba5124",
              "version_major": 2,
              "version_minor": 0
            },
            "text/plain": "Output()"
          },
          "metadata": {}
        },
        {
          "output_type": "display_data",
          "data": {
            "application/vnd.jupyter.widget-view+json": {
              "model_id": "70637bccb8034716a7d136ac682489a6",
              "version_major": 2,
              "version_minor": 0
            },
            "text/plain": "HBox(children=(FloatText(value=1.0, description='Speed', layout=Layout(width='40%'), step=0.1), IntText(value=…"
          },
          "metadata": {}
        },
        {
          "output_type": "display_data",
          "data": {
            "application/vnd.jupyter.widget-view+json": {
              "model_id": "b51a8e11615949d691e5414c9d427c6b",
              "version_major": 2,
              "version_minor": 0
            },
            "text/plain": "Text(value='', description='Input Path:', layout=Layout(width='90%'), tooltip='Path to query template spreadsh…"
          },
          "metadata": {}
        },
        {
          "output_type": "display_data",
          "data": {
            "application/vnd.jupyter.widget-view+json": {
              "model_id": "90f353330ad34abd811fef95c088f2b0",
              "version_major": 2,
              "version_minor": 0
            },
            "text/plain": "Text(value='', description='Output Path:', layout=Layout(width='90%'))"
          },
          "metadata": {}
        },
        {
          "output_type": "display_data",
          "data": {
            "application/vnd.jupyter.widget-view+json": {
              "model_id": "52cd1675da144be8a9633f83211d53e4",
              "version_major": 2,
              "version_minor": 0
            },
            "text/plain": "Text(value='', description='Customer ID: ')"
          },
          "metadata": {}
        },
        {
          "output_type": "display_data",
          "data": {
            "application/vnd.jupyter.widget-view+json": {
              "model_id": "7500f56f3e224d1da5e767727ce95ecf",
              "version_major": 2,
              "version_minor": 0
            },
            "text/plain": "Text(value='', description='User ID: ')"
          },
          "metadata": {}
        },
        {
          "output_type": "display_data",
          "data": {
            "application/vnd.jupyter.widget-view+json": {
              "model_id": "33178e13415e42f89e796d079152bd0c",
              "version_major": 2,
              "version_minor": 0
            },
            "text/plain": "Password(description='Password: ')"
          },
          "metadata": {}
        },
        {
          "output_type": "display_data",
          "data": {
            "application/vnd.jupyter.widget-view+json": {
              "model_id": "1c5ecbb939ab4c32a7a31e131fdca895",
              "version_major": 2,
              "version_minor": 0
            },
            "text/plain": "Button(description='Login', style=ButtonStyle())"
          },
          "metadata": {}
        },
        {
          "output_type": "stream",
          "name": "stdout",
          "text": [
            "\u001b[3mField columns ['Name', 'RETRIEVED_ON', 'CASES_FOUND', 'NAME'] identified in query file.\u001b[0m\n"
          ]
        },
        {
          "output_type": "display_data",
          "data": {
            "text/plain": "\"Field columns ['Name', 'RETRIEVED_ON', 'CASES_FOUND', 'NAME'] identified in query file.\""
          },
          "metadata": {}
        },
        {
          "output_type": "stream",
          "name": "stdout",
          "text": [
            "\u001b[93m\u001b[1mStarting browser... Do not close while in progress!\u001b[0m\n",
            "Connecting to Alacourt...\n"
          ]
        },
        {
          "output_type": "display_data",
          "data": {
            "text/plain": "'Connecting to Alacourt...'"
          },
          "metadata": {}
        }
      ],
      "execution_count": 8,
      "metadata": {
        "hide_input": true,
        "init_cell": true,
        "scrolled": false
      },
      "id": "a2a97810"
    },
    {
      "cell_type": "markdown",
      "source": [
        "------------------------------------\n",
        "\n",
        "# `archive` - Create full text archives from PDF directory"
      ],
      "metadata": {
        "deletable": false,
        "editable": false,
        "run_control": {
          "frozen": true
        }
      },
      "id": "b32810b7"
    },
    {
      "cell_type": "code",
      "source": [
        "showArchive() # run cell if archive export options are not visible"
      ],
      "outputs": [
        {
          "output_type": "display_data",
          "data": {
            "text/html": "<a id=\"arc\"></a>\n<h2 id=\"case-text-archives-require-a-fraction-of-the-storage-capacity-and-processing-time-used-to-process-pdf-directories-before-exporting-your-data-to-tables-create-an-archive-with-supported-file-extensions-pkl-xz-json-zip-parquet-and-csv-zip-\">Case text archives require a fraction of the storage capacity and processing time used to process PDF directories. Before exporting your data to tables, create an archive with supported file extensions  <code>.pkl.xz</code>, <code>.json(.zip)</code>, <code>.parquet</code> and <code>.csv(.zip)</code>.</h2>\n<p><strong>Once archived, use your case text archive as an input for multitable or single table export.</strong></p>\n",
            "text/plain": "<IPython.core.display.HTML object>"
          },
          "metadata": {}
        },
        {
          "output_type": "display_data",
          "data": {
            "application/vnd.jupyter.widget-view+json": {
              "model_id": "d995c6bd65014bc890c792963775a1af",
              "version_major": 2,
              "version_minor": 0
            },
            "text/plain": "IntText(value=0, description='Max count', layout=Layout(width='40%'))"
          },
          "metadata": {}
        },
        {
          "output_type": "display_data",
          "data": {
            "application/vnd.jupyter.widget-view+json": {
              "model_id": "25b2e0141f384bbd9c528a50019d7fd5",
              "version_major": 2,
              "version_minor": 0
            },
            "text/plain": "Text(value='', description='Input Path', layout=Layout(width='90%'), tooltip='Path to PDF directory')"
          },
          "metadata": {}
        },
        {
          "output_type": "display_data",
          "data": {
            "application/vnd.jupyter.widget-view+json": {
              "model_id": "b9e720e6822a48e38f592af3d8e0f241",
              "version_major": 2,
              "version_minor": 0
            },
            "text/plain": "Text(value='', description='Output Path', layout=Layout(width='90%'))"
          },
          "metadata": {}
        },
        {
          "output_type": "display_data",
          "data": {
            "application/vnd.jupyter.widget-view+json": {
              "model_id": "62079bfb65504487964cc62415fab809",
              "version_major": 2,
              "version_minor": 0
            },
            "text/plain": "HBox(children=(Checkbox(value=False, description='Allow overwrite'), Checkbox(value=False, description='Remove…"
          },
          "metadata": {}
        },
        {
          "output_type": "display_data",
          "data": {
            "application/vnd.jupyter.widget-view+json": {
              "model_id": "3a193b30ee80476fb378b6d4011c6056",
              "version_major": 2,
              "version_minor": 0
            },
            "text/plain": "Button(description='Start archiving', style=ButtonStyle())"
          },
          "metadata": {}
        }
      ],
      "execution_count": 9,
      "metadata": {
        "hide_input": true,
        "init_cell": true
      },
      "id": "16c63d5a"
    },
    {
      "cell_type": "markdown",
      "source": [
        "-----------------------------------\n",
        "\n",
        "# `multitable` - Export cases, charges, fees tables at once"
      ],
      "metadata": {
        "deletable": false,
        "editable": false,
        "run_control": {
          "frozen": true
        }
      },
      "id": "b492cac2"
    },
    {
      "cell_type": "code",
      "source": [
        "showMulti() # run cell if multitable export options are not visible"
      ],
      "outputs": [
        {
          "output_type": "display_data",
          "data": {
            "text/html": "<a id=\"mtab\"></a>\n<h2 id=\"multitable-export-processes-case-detail-pdfs-and-case-text-archives-into-data-tables-suitable-for-research-purposes-export-an-excel-spreadsheet-with-detailed-cases-information-cases-fee-sheets-fees-and-charges-information-charges-disposition-filing-\">Multitable export processes case detail PDFs and case text archives into data tables suitable for research purposes. Export an Excel spreadsheet with detailed cases information (<code>cases</code>), fee sheets (<code>fees</code>), and charges information (<code>charges</code>, <code>disposition</code>, <code>filing</code>).</h2>\n<p><strong><em>Note: It is recommended that you create a case text archive from your target PDF directory before exporting tables. Case text archives can be processed into tables at a much faster rate and require far less storage.</em></strong></p>",
            "text/plain": "<IPython.core.display.HTML object>"
          },
          "metadata": {}
        },
        {
          "output_type": "display_data",
          "data": {
            "application/vnd.jupyter.widget-view+json": {
              "model_id": "c1737e66024342439f1e718afab68a7c",
              "version_major": 2,
              "version_minor": 0
            },
            "text/plain": "HBox(children=(IntText(value=0, description='Max count:'), Checkbox(value=False, description='Allow overwrite'…"
          },
          "metadata": {}
        },
        {
          "output_type": "display_data",
          "data": {
            "application/vnd.jupyter.widget-view+json": {
              "model_id": "92864921144a4ddc9cb0e4e686aae728",
              "version_major": 2,
              "version_minor": 0
            },
            "text/plain": "Text(value='', description='Input Path', layout=Layout(width='95%'), tooltip='Path to input directory or archi…"
          },
          "metadata": {}
        },
        {
          "output_type": "display_data",
          "data": {
            "application/vnd.jupyter.widget-view+json": {
              "model_id": "d2c1ebd0bffc4065a723371d112e62b5",
              "version_major": 2,
              "version_minor": 0
            },
            "text/plain": "Text(value='', description='Output Path', layout=Layout(width='95%'))"
          },
          "metadata": {}
        },
        {
          "output_type": "display_data",
          "data": {
            "application/vnd.jupyter.widget-view+json": {
              "model_id": "4b0b128bb8304848bc009f74f72dfa2f",
              "version_major": 2,
              "version_minor": 0
            },
            "text/plain": "Button(description='Start export', style=ButtonStyle())"
          },
          "metadata": {}
        }
      ],
      "execution_count": 10,
      "metadata": {
        "hide_input": true,
        "init_cell": true
      },
      "id": "2fb5dde1"
    },
    {
      "cell_type": "markdown",
      "source": [
        "---------------------------------------------\n",
        "\n",
        "# `singletable` - Export table choice from archive or directory"
      ],
      "metadata": {
        "deletable": false,
        "editable": false,
        "run_control": {
          "frozen": true
        }
      },
      "id": "aff56a30"
    },
    {
      "cell_type": "code",
      "source": [
        "showSingle() # run cell if single table options are not visible"
      ],
      "outputs": [
        {
          "output_type": "display_data",
          "data": {
            "text/html": "<a id=\"stab\"></a>\n<h2 id=\"export-charges-including-disposition-only-and-filing-only-cases-or-fees-table-only-single-table-export-enables-file-types-without-support-for-multiple-sheets-this-mode-allows-export-to-csv-json-dta-xls-xlsx-pkl-and-parquet-files-\">Export <code>charges</code> (including <code>disposition</code> only and <code>filing</code> only), <code>cases</code>, or <code>fees</code> table only. Single table export enables file types without support for multiple sheets. This mode allows export to <code>.csv</code>, <code>.json</code>, <code>.dta</code>, <code>.xls</code>, <code>.xlsx</code>, <code>.pkl</code>, and <code>.parquet</code> files.</h2>\n<p><strong>Once archived, use your case text archive as an input for multitable or single table export.</strong></p>",
            "text/plain": "<IPython.core.display.HTML object>"
          },
          "metadata": {}
        },
        {
          "output_type": "display_data",
          "data": {
            "application/vnd.jupyter.widget-view+json": {
              "model_id": "02133a44670440b2b8a8cb0640d2d797",
              "version_major": 2,
              "version_minor": 0
            },
            "text/plain": "HBox(children=(IntText(value=0, description='Max count:'), Checkbox(value=False, description='Allow overwrite'…"
          },
          "metadata": {}
        },
        {
          "output_type": "display_data",
          "data": {
            "application/vnd.jupyter.widget-view+json": {
              "model_id": "d0b269f9c4224e179fc4d18242ebe7a6",
              "version_major": 2,
              "version_minor": 0
            },
            "text/plain": "Text(value='', description='Input Path', layout=Layout(width='90%'), tooltip='Path to input directory or archi…"
          },
          "metadata": {}
        },
        {
          "output_type": "display_data",
          "data": {
            "application/vnd.jupyter.widget-view+json": {
              "model_id": "fbfb405f04214c578d39452c49b32483",
              "version_major": 2,
              "version_minor": 0
            },
            "text/plain": "Text(value='', description='Output Path', layout=Layout(width='90%'))"
          },
          "metadata": {}
        },
        {
          "output_type": "display_data",
          "data": {
            "application/vnd.jupyter.widget-view+json": {
              "model_id": "a313b320f11a4df29d77746fd5b49ace",
              "version_major": 2,
              "version_minor": 0
            },
            "text/plain": "Dropdown(description='Table:', options=('cases', 'charges', 'disposition', 'filing', 'fees'), value='cases')"
          },
          "metadata": {}
        },
        {
          "output_type": "display_data",
          "data": {
            "application/vnd.jupyter.widget-view+json": {
              "model_id": "12a365d0d5ea4c23a51569ca36ef2456",
              "version_major": 2,
              "version_minor": 0
            },
            "text/plain": "Button(description='Start export', style=ButtonStyle())"
          },
          "metadata": {}
        }
      ],
      "execution_count": 11,
      "metadata": {
        "hide_input": true,
        "init_cell": true
      },
      "id": "471f2b87"
    },
    {
      "cell_type": "markdown",
      "source": [
        "© 2023 Sam Robson"
      ],
      "metadata": {
        "deletable": false,
        "editable": false,
        "run_control": {
          "frozen": true
        }
      },
      "id": "81cd8bae"
    }
  ],
  "metadata": {
    "kernelspec": {
      "display_name": "Python 3 (ipykernel)",
      "language": "python",
      "name": "python3"
    },
    "language_info": {
      "codemirror_mode": {
        "name": "ipython",
        "version": 3
      },
      "file_extension": ".py",
      "mimetype": "text/x-python",
      "name": "python",
      "nbconvert_exporter": "python",
      "pygments_lexer": "ipython3",
      "version": "3.11.2"
    },
    "toc": {
      "toc_position": {},
      "skip_h1_title": false,
      "number_sections": true,
      "title_cell": "Table of Contents",
      "toc_window_display": false,
      "base_numbering": 1,
      "toc_section_display": true,
      "title_sidebar": "Contents",
      "toc_cell": true,
      "nav_menu": {},
      "sideBar": true
    },
    "widgets": {
      "application/vnd.jupyter.widget-state+json": {
        "state": {
          "f124eace4d884452a542a3271dd15103": {
            "model_module": "@jupyter-widgets/base",
            "model_module_version": "2.0.0",
            "model_name": "LayoutModel",
            "state": {}
          },
          "d01afae4fc4d453293ae9faa1c3ac54d": {
            "model_module": "@jupyter-widgets/controls",
            "model_module_version": "2.0.0",
            "model_name": "ButtonModel",
            "state": {
              "description": "Read more",
              "layout": "IPY_MODEL_7b032e18a3b645c7b81027336317a886",
              "style": "IPY_MODEL_8fce52c8bd5d40f789444bc0ad995053",
              "tooltip": null
            }
          },
          "a4760f0e5b8f4410afdd628e69bf3f67": {
            "model_module": "@jupyter-widgets/controls",
            "model_module_version": "2.0.0",
            "model_name": "CheckboxModel",
            "state": {
              "description": "Allow overwrite",
              "disabled": false,
              "layout": "IPY_MODEL_9f5872cb2ce84dc3b3475798f7396322",
              "style": "IPY_MODEL_bb40a00452a348408d71ac298f71b90c",
              "value": false
            }
          },
          "68f5ebac1b84415aa0912178f5716a10": {
            "model_module": "@jupyter-widgets/controls",
            "model_module_version": "2.0.0",
            "model_name": "IntTextModel",
            "state": {
              "description": "Max count:",
              "layout": "IPY_MODEL_63760f1f839443f9a30fa36965d09b14",
              "step": 1,
              "style": "IPY_MODEL_b92a8b24d0a543ab8a26d7c29c47688d"
            }
          },
          "69b7edc4be2a426190e8dc5dc592989d": {
            "model_module": "@jupyter-widgets/controls",
            "model_module_version": "2.0.0",
            "model_name": "DescriptionStyleModel",
            "state": {
              "description_width": ""
            }
          },
          "6095c7f800744dd4bbd73732469e1fe3": {
            "model_module": "@jupyter-widgets/controls",
            "model_module_version": "2.0.0",
            "model_name": "TextStyleModel",
            "state": {
              "description_width": "",
              "font_size": null,
              "text_color": null
            }
          },
          "1ef177a267394b7180815b6516f32d44": {
            "model_module": "@jupyter-widgets/controls",
            "model_module_version": "2.0.0",
            "model_name": "FloatProgressModel",
            "state": {
              "bar_style": "success",
              "layout": "IPY_MODEL_bea938ed79274740a7d2146ce41d9423",
              "max": 199,
              "style": "IPY_MODEL_f427a80453ce472e82a7edb97fe4b55d",
              "value": 199
            }
          },
          "2fff66811afb49bf974d4a4dffcd24a1": {
            "model_module": "@jupyter-widgets/controls",
            "model_module_version": "2.0.0",
            "model_name": "ButtonStyleModel",
            "state": {
              "font_family": null,
              "font_size": null,
              "font_style": null,
              "font_variant": null,
              "font_weight": null,
              "text_color": null,
              "text_decoration": null
            }
          },
          "bd5a7a550fac4bacb502389bc2599c77": {
            "model_module": "@jupyter-widgets/controls",
            "model_module_version": "2.0.0",
            "model_name": "TextStyleModel",
            "state": {
              "description_width": "",
              "font_size": null,
              "text_color": null
            }
          },
          "5b30a174ccbb45b08f2c973ee0c25c69": {
            "model_module": "@jupyter-widgets/base",
            "model_module_version": "2.0.0",
            "model_name": "LayoutModel",
            "state": {}
          },
          "315a81a2581a4f62b4a4feec4668ac47": {
            "model_module": "@jupyter-widgets/base",
            "model_module_version": "2.0.0",
            "model_name": "LayoutModel",
            "state": {
              "width": "95%"
            }
          },
          "2767dbfc251a4360b2f26a972dda7864": {
            "model_module": "@jupyter-widgets/controls",
            "model_module_version": "2.0.0",
            "model_name": "TextModel",
            "state": {
              "description": "Output Path",
              "layout": "IPY_MODEL_029d0a34411840d1a92af867cfd75859",
              "style": "IPY_MODEL_be39f8f89ef74eb3b82ec9435e21ced3"
            }
          },
          "47ab90f2299744cfaf7e5732e3e31893": {
            "model_module": "@jupyter-widgets/controls",
            "model_module_version": "2.0.0",
            "model_name": "TextModel",
            "state": {
              "description": "Output Path",
              "layout": "IPY_MODEL_36a5ab4f742c45fa944ae439a04b05fa",
              "style": "IPY_MODEL_eadc02971a544d47b47dfe7116054858"
            }
          },
          "bf5a75c0022247cc8b856e9a4a882d69": {
            "model_module": "@jupyter-widgets/base",
            "model_module_version": "2.0.0",
            "model_name": "LayoutModel",
            "state": {
              "width": "40%"
            }
          },
          "549cb278d2554b06bfff50851ebe4e99": {
            "model_module": "@jupyter-widgets/controls",
            "model_module_version": "2.0.0",
            "model_name": "TextModel",
            "state": {
              "description": "Output Path:",
              "layout": "IPY_MODEL_0fd9d28aa565469785dba4a84896274a",
              "style": "IPY_MODEL_bd46bc0ffb2f4eeebf9a0f4b4948f7b0"
            }
          },
          "949f39d9e7034452b02c7a6f4bf38098": {
            "model_module": "@jupyter-widgets/controls",
            "model_module_version": "2.0.0",
            "model_name": "TextModel",
            "state": {
              "description": "Input Path",
              "layout": "IPY_MODEL_5d17bfe9f21c4c6bb10abf48f2e63129",
              "style": "IPY_MODEL_813c7ead4e0a48c797343c9f83706a1e",
              "tooltip": "Path to PDF directory"
            }
          },
          "bc857c8b636c406a9ffa347fc4a342df": {
            "model_module": "@jupyter-widgets/output",
            "model_module_version": "1.0.0",
            "model_name": "OutputModel",
            "state": {
              "layout": "IPY_MODEL_d868a55e9ce34f77b0e17d9a9c48e8c4"
            }
          },
          "f858f4856cfd476989f81eb26869e6bd": {
            "model_module": "@jupyter-widgets/base",
            "model_module_version": "2.0.0",
            "model_name": "LayoutModel",
            "state": {}
          },
          "a2c658bf6dc24c1e867c690ed40b46d3": {
            "model_module": "@jupyter-widgets/base",
            "model_module_version": "2.0.0",
            "model_name": "LayoutModel",
            "state": {
              "width": "90%"
            }
          },
          "70ea257d4e9b473aac99b0c5ab72e6bc": {
            "model_module": "@jupyter-widgets/controls",
            "model_module_version": "2.0.0",
            "model_name": "TextModel",
            "state": {
              "description": "Input Path",
              "layout": "IPY_MODEL_39efd4599ba443c7bef1fab5de255a9b",
              "style": "IPY_MODEL_6ef64fb90a1e4adeb4d6a0324cb55cb2",
              "tooltip": "Path to input directory or archive"
            }
          },
          "3921b8ee7d7742e9b5f5c8e849c6df79": {
            "model_module": "@jupyter-widgets/controls",
            "model_module_version": "2.0.0",
            "model_name": "DescriptionStyleModel",
            "state": {
              "description_width": ""
            }
          },
          "28714d8841e4487792942d86720d40f7": {
            "model_module": "@jupyter-widgets/controls",
            "model_module_version": "2.0.0",
            "model_name": "CheckboxModel",
            "state": {
              "description": "Allow overwrite",
              "disabled": false,
              "layout": "IPY_MODEL_0199e0b9239d4fc086b39e5f73ab782b",
              "style": "IPY_MODEL_1829630dfccd49119a71af9335352edf",
              "value": false
            }
          },
          "d23ca90751544b63b536ab3471237a55": {
            "model_module": "@jupyter-widgets/controls",
            "model_module_version": "2.0.0",
            "model_name": "CheckboxModel",
            "state": {
              "description": "Remove duplicates",
              "disabled": false,
              "layout": "IPY_MODEL_84bb51f26a894b9c827a7e86e01dd854",
              "style": "IPY_MODEL_6a06f395500e44b48e9ce9dee8d4da69",
              "value": true
            }
          },
          "cc5a6f84bd8f45498a2f2131e2784c61": {
            "model_module": "@jupyter-widgets/output",
            "model_module_version": "1.0.0",
            "model_name": "OutputModel",
            "state": {
              "layout": "IPY_MODEL_18923e015d0c447a9fcd8c36c2c623a0"
            }
          },
          "61a953ca749c444d89206b32a182c40e": {
            "model_module": "@jupyter-widgets/controls",
            "model_module_version": "2.0.0",
            "model_name": "TextStyleModel",
            "state": {
              "description_width": "",
              "font_size": null,
              "text_color": null
            }
          },
          "33a068044d5b4423a002699c2c5b3dbb": {
            "model_module": "@jupyter-widgets/controls",
            "model_module_version": "2.0.0",
            "model_name": "IntTextModel",
            "state": {
              "description": "Skip rows",
              "layout": "IPY_MODEL_71267a8265cc41ce9e78fdfec48e2100",
              "step": 1,
              "style": "IPY_MODEL_ca74db99a2634c6fb259bc35121359b0"
            }
          },
          "fdefbe3bbcc548158733d47f523e1ed7": {
            "model_module": "@jupyter-widgets/controls",
            "model_module_version": "2.0.0",
            "model_name": "HBoxModel",
            "state": {
              "children": [
                "IPY_MODEL_7f2f4e3f3864440091a3d4c9304b088e",
                "IPY_MODEL_5a53adff90b041519ec218a43fd54149"
              ],
              "layout": "IPY_MODEL_ad94810633dd47d79b5d8814f45c666c"
            }
          },
          "12d4021bc1924505a81f8798c71e4793": {
            "model_module": "@jupyter-widgets/base",
            "model_module_version": "2.0.0",
            "model_name": "LayoutModel",
            "state": {}
          },
          "1965b9ee48e1400aac3367a72aa2ae9a": {
            "model_module": "@jupyter-widgets/base",
            "model_module_version": "2.0.0",
            "model_name": "LayoutModel",
            "state": {}
          },
          "af4fce1182644b11bc76a124aeca514e": {
            "model_module": "@jupyter-widgets/controls",
            "model_module_version": "2.0.0",
            "model_name": "TextModel",
            "state": {
              "description": "User ID: ",
              "layout": "IPY_MODEL_40987201429248a5a739ba41ddc07e5e",
              "style": "IPY_MODEL_5c6292ef3c5b4637ba24330e484ecd51"
            }
          },
          "106ff68dd5a84a4485d288f666422999": {
            "model_module": "@jupyter-widgets/controls",
            "model_module_version": "2.0.0",
            "model_name": "IntTextModel",
            "state": {
              "description": "Max count:",
              "layout": "IPY_MODEL_e0a66c0494dc4cf5b58fb40ab7f4d3e7",
              "step": 1,
              "style": "IPY_MODEL_b34b1b97124c43d8ad3e8c5faf117f0c"
            }
          },
          "2f18571d4b1847529ef0912439204913": {
            "model_module": "@jupyter-widgets/base",
            "model_module_version": "2.0.0",
            "model_name": "LayoutModel",
            "state": {}
          },
          "34e1355ce95f427da16b39ec1a917d42": {
            "model_module": "@jupyter-widgets/controls",
            "model_module_version": "2.0.0",
            "model_name": "CheckboxModel",
            "state": {
              "description": "ZIP export (must be .json, .csv)",
              "disabled": false,
              "layout": "IPY_MODEL_4e294f8e555d4cbfbf4b2e5495c5d589",
              "style": "IPY_MODEL_1e57753548734567b2b435d6d104b1bd",
              "value": false
            }
          },
          "43db58e09ef94f74a2eb0de0bb968555": {
            "model_module": "@jupyter-widgets/base",
            "model_module_version": "2.0.0",
            "model_name": "LayoutModel",
            "state": {}
          },
          "6a2145bef82b425c8c4147673ff027b8": {
            "model_module": "@jupyter-widgets/controls",
            "model_module_version": "2.0.0",
            "model_name": "TextModel",
            "state": {
              "description": "Output Path",
              "layout": "IPY_MODEL_5fb127bf7d7d4442bcb3f81a41626803",
              "style": "IPY_MODEL_1a554b0928fd424fae7991b2e391e3d1"
            }
          },
          "c1eceb6c9e464c988685dd7ee40fdd00": {
            "model_module": "@jupyter-widgets/controls",
            "model_module_version": "2.0.0",
            "model_name": "TextStyleModel",
            "state": {
              "description_width": "",
              "font_size": null,
              "text_color": null
            }
          },
          "486c0ca7ab2044e2b8090ea5ec47057c": {
            "model_module": "@jupyter-widgets/base",
            "model_module_version": "2.0.0",
            "model_name": "LayoutModel",
            "state": {
              "width": "90%"
            }
          },
          "ed793ebaf6b44915ad445b127911464b": {
            "model_module": "@jupyter-widgets/controls",
            "model_module_version": "2.0.0",
            "model_name": "CheckboxStyleModel",
            "state": {
              "description_width": ""
            }
          },
          "bc0656b33f004d02bf0cb720d02e13b9": {
            "model_module": "@jupyter-widgets/base",
            "model_module_version": "2.0.0",
            "model_name": "LayoutModel",
            "state": {}
          },
          "50c05babd8d84dea9cfdbb14f2314027": {
            "model_module": "@jupyter-widgets/controls",
            "model_module_version": "2.0.0",
            "model_name": "ButtonModel",
            "state": {
              "description": "Login",
              "layout": "IPY_MODEL_729b97f759e74bea8c6e64bafcbdc2f8",
              "style": "IPY_MODEL_59856fcd6d26439fb8adad4f70ede4f4",
              "tooltip": null
            }
          },
          "2fd5982e51d54ed484fe3ceac9730be5": {
            "model_module": "@jupyter-widgets/controls",
            "model_module_version": "2.0.0",
            "model_name": "TextStyleModel",
            "state": {
              "description_width": "",
              "font_size": null,
              "text_color": null
            }
          },
          "38ec675d84cb47c699e05b48ef199ef1": {
            "model_module": "@jupyter-widgets/base",
            "model_module_version": "2.0.0",
            "model_name": "LayoutModel",
            "state": {
              "width": "90%"
            }
          },
          "0f9c05f154c8491991a6622216cca0c5": {
            "model_module": "@jupyter-widgets/controls",
            "model_module_version": "2.0.0",
            "model_name": "FloatTextModel",
            "state": {
              "description": "Speed",
              "layout": "IPY_MODEL_59d5a1746a074885bf99f38bd658e829",
              "step": 0.1,
              "style": "IPY_MODEL_3921b8ee7d7742e9b5f5c8e849c6df79",
              "value": 1
            }
          },
          "635693836b7148309bc0803e2d03fb0e": {
            "model_module": "@jupyter-widgets/controls",
            "model_module_version": "2.0.0",
            "model_name": "DescriptionStyleModel",
            "state": {
              "description_width": ""
            }
          },
          "2b7fa8b6c74b411eb21611b1eeff9ed7": {
            "model_module": "@jupyter-widgets/controls",
            "model_module_version": "2.0.0",
            "model_name": "ButtonModel",
            "state": {
              "description": "Start export",
              "layout": "IPY_MODEL_8aae2c24165945d7a6b38d4db90669d5",
              "style": "IPY_MODEL_df6a72239f574842a6935d07a70fe5e1",
              "tooltip": null
            }
          },
          "0e9c0c5278394bd48423625701b74285": {
            "model_module": "@jupyter-widgets/base",
            "model_module_version": "2.0.0",
            "model_name": "LayoutModel",
            "state": {}
          },
          "013be2765f264d27aaf4da3a64fcf491": {
            "model_module": "@jupyter-widgets/base",
            "model_module_version": "2.0.0",
            "model_name": "LayoutModel",
            "state": {}
          },
          "d41918fd23d4495b9870d360830b12a2": {
            "model_module": "@jupyter-widgets/base",
            "model_module_version": "2.0.0",
            "model_name": "LayoutModel",
            "state": {}
          },
          "ae1e8a2edf894117861124f0f8ab8add": {
            "model_module": "@jupyter-widgets/base",
            "model_module_version": "2.0.0",
            "model_name": "LayoutModel",
            "state": {
              "width": "95%"
            }
          },
          "28b0358b3f9f4fd0997f24aaadcdf3ff": {
            "model_module": "@jupyter-widgets/controls",
            "model_module_version": "2.0.0",
            "model_name": "TextModel",
            "state": {
              "description": "User ID: ",
              "layout": "IPY_MODEL_363027a180ec466dade8b4320c7eced3",
              "style": "IPY_MODEL_797749f883824f1ab1846d7b1810e56b"
            }
          },
          "6b6a6979f87443a2845d3a60f5b64caa": {
            "model_module": "@jupyter-widgets/controls",
            "model_module_version": "2.0.0",
            "model_name": "HBoxModel",
            "state": {
              "children": [
                "IPY_MODEL_c51b21d90d9c49f588e04d20042901d6",
                "IPY_MODEL_f548dc352fe54380b8337cba8fa024ab",
                "IPY_MODEL_54282621fae04cc79c43e49568be572b"
              ],
              "layout": "IPY_MODEL_30f1b9cb18d341b4b734ba934c9a7164"
            }
          },
          "3d2e03b9ea9044329020656121e78c05": {
            "model_module": "@jupyter-widgets/controls",
            "model_module_version": "2.0.0",
            "model_name": "ButtonModel",
            "state": {
              "description": "Start export",
              "layout": "IPY_MODEL_11cb78157f8b4e468fab5dcd240ed45c",
              "style": "IPY_MODEL_4b8f06a174ad48e9af8db2693b858ede",
              "tooltip": null
            }
          },
          "71c3ba3cd62246f4a3149e900391a256": {
            "model_module": "@jupyter-widgets/controls",
            "model_module_version": "2.0.0",
            "model_name": "IntTextModel",
            "state": {
              "description": "Max rows",
              "layout": "IPY_MODEL_8d90529f8f724be2abd5990b5887c7e1",
              "step": 1,
              "style": "IPY_MODEL_9a1f88c28c9b4337b2c74e6f37bb1f6a"
            }
          },
          "fde76528d7604133b900b3166d32da9c": {
            "model_module": "@jupyter-widgets/base",
            "model_module_version": "2.0.0",
            "model_name": "LayoutModel",
            "state": {}
          },
          "cef6891d94f3434e919f31eafc7b32ea": {
            "model_module": "@jupyter-widgets/controls",
            "model_module_version": "2.0.0",
            "model_name": "CheckboxStyleModel",
            "state": {
              "description_width": ""
            }
          },
          "5de814cfd7f3419c8ad192c32d74ccad": {
            "model_module": "@jupyter-widgets/base",
            "model_module_version": "2.0.0",
            "model_name": "LayoutModel",
            "state": {
              "width": "40%"
            }
          },
          "93a78d69743149178a88af1d39fd0eef": {
            "model_module": "@jupyter-widgets/base",
            "model_module_version": "2.0.0",
            "model_name": "LayoutModel",
            "state": {}
          },
          "c51b21d90d9c49f588e04d20042901d6": {
            "model_module": "@jupyter-widgets/controls",
            "model_module_version": "2.0.0",
            "model_name": "FloatTextModel",
            "state": {
              "description": "Speed",
              "layout": "IPY_MODEL_8dede36c611e489f95d31589157c0d81",
              "step": 0.1,
              "style": "IPY_MODEL_84f128ea70da4fd5894564b5665b2811",
              "value": 1
            }
          },
          "a8e7dde38f134868acece26bf9680588": {
            "model_module": "@jupyter-widgets/controls",
            "model_module_version": "2.0.0",
            "model_name": "ButtonModel",
            "state": {
              "description": "Start export",
              "layout": "IPY_MODEL_970500e7947a407b8fdbd87be88c2a39",
              "style": "IPY_MODEL_ec5779417bbc4a9f9d1bbc148571958b",
              "tooltip": null
            }
          },
          "0e9ee504736546f9917e7a4cc16754e3": {
            "model_module": "@jupyter-widgets/controls",
            "model_module_version": "2.0.0",
            "model_name": "CheckboxStyleModel",
            "state": {
              "description_width": ""
            }
          },
          "97675ecbd20f47ed9bfe2b7a99559ddc": {
            "model_module": "@jupyter-widgets/controls",
            "model_module_version": "2.0.0",
            "model_name": "TextStyleModel",
            "state": {
              "description_width": "",
              "font_size": null,
              "text_color": null
            }
          },
          "96ed72d95e05493689209876f7816dbd": {
            "model_module": "@jupyter-widgets/controls",
            "model_module_version": "2.0.0",
            "model_name": "HBoxModel",
            "state": {
              "children": [
                "IPY_MODEL_530ff42c37c74b369d4d7b39ae44dca4",
                "IPY_MODEL_f0dfe4c9cff545908e1027f4b356c3c9"
              ],
              "layout": "IPY_MODEL_815590d9678642868d6bdcbf424d4f1a"
            }
          },
          "78b05e3c4e524f7c93d22a9cc238743f": {
            "model_module": "@jupyter-widgets/base",
            "model_module_version": "2.0.0",
            "model_name": "LayoutModel",
            "state": {}
          },
          "4721db2058204a03a0889a74108b0d33": {
            "model_module": "@jupyter-widgets/controls",
            "model_module_version": "2.0.0",
            "model_name": "ButtonStyleModel",
            "state": {
              "font_family": null,
              "font_size": null,
              "font_style": null,
              "font_variant": null,
              "font_weight": null,
              "text_color": null,
              "text_decoration": null
            }
          },
          "f2c32a93ab314e88a3bf9cb2bf99281b": {
            "model_module": "@jupyter-widgets/controls",
            "model_module_version": "2.0.0",
            "model_name": "TextStyleModel",
            "state": {
              "description_width": "",
              "font_size": null,
              "text_color": null
            }
          },
          "6dcf57a5bc4c4485b3dde8ee7e9c8e36": {
            "model_module": "@jupyter-widgets/controls",
            "model_module_version": "2.0.0",
            "model_name": "HBoxModel",
            "state": {
              "children": [
                "IPY_MODEL_734289eedae14e929249ec309e2e8ce6",
                "IPY_MODEL_d55feafa282d44a3a856c5b6f502ccb6",
                "IPY_MODEL_2587be98d4db47cebaf9e70e4a4af20e"
              ],
              "layout": "IPY_MODEL_edf33cfcc1924880889cc17c4c10f517"
            }
          },
          "9a05b214b2bd425cb6abf801983794da": {
            "model_module": "@jupyter-widgets/base",
            "model_module_version": "2.0.0",
            "model_name": "LayoutModel",
            "state": {}
          },
          "30f1b9cb18d341b4b734ba934c9a7164": {
            "model_module": "@jupyter-widgets/base",
            "model_module_version": "2.0.0",
            "model_name": "LayoutModel",
            "state": {
              "width": "95%"
            }
          },
          "a7c9583c49a3486fa66f717c037e73dc": {
            "model_module": "@jupyter-widgets/controls",
            "model_module_version": "2.0.0",
            "model_name": "TextStyleModel",
            "state": {
              "description_width": "",
              "font_size": null,
              "text_color": null
            }
          },
          "0d320fa779b1430f8ae1298c2605baf3": {
            "model_module": "@jupyter-widgets/controls",
            "model_module_version": "2.0.0",
            "model_name": "TextModel",
            "state": {
              "description": "Output Path",
              "layout": "IPY_MODEL_116aee5e8de442ff90f296c02c8db162",
              "style": "IPY_MODEL_0c9041a8857b409b892336d476b6ce18"
            }
          },
          "ede6497ce68c4cfe9ebe08b59f6b4ece": {
            "model_module": "@jupyter-widgets/controls",
            "model_module_version": "2.0.0",
            "model_name": "PasswordModel",
            "state": {
              "description": "Password: ",
              "layout": "IPY_MODEL_e28a2ca3856042f190b7d6042b36ed18",
              "style": "IPY_MODEL_9452eb32fcc44e8b891f67711053f29a"
            }
          },
          "a314121954f74fb4b3902dc79d5c9b32": {
            "model_module": "@jupyter-widgets/controls",
            "model_module_version": "2.0.0",
            "model_name": "DropdownModel",
            "state": {
              "_options_labels": [
                "cases",
                "charges",
                "disposition",
                "filing",
                "fees"
              ],
              "description": "Table:",
              "index": 0,
              "layout": "IPY_MODEL_f5659dadd6b846689b1cb0c0701313ac",
              "style": "IPY_MODEL_80afbf01e345464db9bf658dbf7487ec"
            }
          },
          "8465248f06e449e9b0781f3d43c11f5f": {
            "model_module": "@jupyter-widgets/controls",
            "model_module_version": "2.0.0",
            "model_name": "DropdownModel",
            "state": {
              "_options_labels": [
                "cases",
                "charges",
                "disposition",
                "filing",
                "fees"
              ],
              "description": "Table:",
              "index": 0,
              "layout": "IPY_MODEL_ea35cec743a5450580651dbf2b4d70bc",
              "style": "IPY_MODEL_57516d47c4274284b5025c778c6b1f71"
            }
          },
          "6e202d81b5fd4455a58f24dcfed50489": {
            "model_module": "@jupyter-widgets/controls",
            "model_module_version": "2.0.0",
            "model_name": "TextStyleModel",
            "state": {
              "description_width": "",
              "font_size": null,
              "text_color": null
            }
          },
          "4149f35b284e40aa8c997326bef8cc4f": {
            "model_module": "@jupyter-widgets/base",
            "model_module_version": "2.0.0",
            "model_name": "LayoutModel",
            "state": {}
          },
          "e912377c6e7141b99ff8341f892c5ae1": {
            "model_module": "@jupyter-widgets/base",
            "model_module_version": "2.0.0",
            "model_name": "LayoutModel",
            "state": {}
          },
          "1426e690ae5d485db04de5f82d7f76d0": {
            "model_module": "@jupyter-widgets/controls",
            "model_module_version": "2.0.0",
            "model_name": "CheckboxStyleModel",
            "state": {
              "description_width": ""
            }
          },
          "db4bb7e2e4a346f690e0e0f0f0ef87cb": {
            "model_module": "@jupyter-widgets/controls",
            "model_module_version": "2.0.0",
            "model_name": "TextStyleModel",
            "state": {
              "description_width": "",
              "font_size": null,
              "text_color": null
            }
          },
          "6e093e0e68a54cbdbde5727cd5d863ff": {
            "model_module": "@jupyter-widgets/controls",
            "model_module_version": "2.0.0",
            "model_name": "ButtonModel",
            "state": {
              "description": "Start export",
              "layout": "IPY_MODEL_6846718bb8834413986717228eef3dd0",
              "style": "IPY_MODEL_5dc43c9b63e44d24830449f79d59370c",
              "tooltip": null
            }
          },
          "4043ed4810394dc6bfcc51578bddb078": {
            "model_module": "@jupyter-widgets/controls",
            "model_module_version": "2.0.0",
            "model_name": "CheckboxStyleModel",
            "state": {
              "description_width": ""
            }
          },
          "5abf2b09072541c58468298f9202a486": {
            "model_module": "@jupyter-widgets/controls",
            "model_module_version": "2.0.0",
            "model_name": "CheckboxStyleModel",
            "state": {
              "description_width": ""
            }
          },
          "e2b53bf5f4794a7bb73f079e835fa940": {
            "model_module": "@jupyter-widgets/controls",
            "model_module_version": "2.0.0",
            "model_name": "HBoxModel",
            "state": {
              "children": [
                "IPY_MODEL_5a581b0ba356444c918e33139a079d90",
                "IPY_MODEL_154dc5805b3f488190af85fa617cba8d"
              ],
              "layout": "IPY_MODEL_c028ca733a444646ad5eda116bfab4c7"
            }
          },
          "8e8446aea8814ecaa74befa6e9afa25d": {
            "model_module": "@jupyter-widgets/controls",
            "model_module_version": "2.0.0",
            "model_name": "TextModel",
            "state": {
              "description": "Input Path",
              "layout": "IPY_MODEL_ad78c11c181f4d0da9e612d661ddfc48",
              "style": "IPY_MODEL_6aea921235ca4a3184fe34586649da3c",
              "tooltip": "Path to input directory or archive"
            }
          },
          "8191a90a72ff418f8edfd8e0868fd61f": {
            "model_module": "@jupyter-widgets/controls",
            "model_module_version": "2.0.0",
            "model_name": "IntTextModel",
            "state": {
              "description": "Max count:",
              "layout": "IPY_MODEL_63b43f7d47874b399f09d97b81fea996",
              "step": 1,
              "style": "IPY_MODEL_b466192979014a6db0d6f95f9ac80867"
            }
          },
          "524fb9355a514419991cb479d09a3ccb": {
            "model_module": "@jupyter-widgets/base",
            "model_module_version": "2.0.0",
            "model_name": "LayoutModel",
            "state": {}
          },
          "329a699273ba42ceada8ce321f8974b7": {
            "model_module": "@jupyter-widgets/base",
            "model_module_version": "2.0.0",
            "model_name": "LayoutModel",
            "state": {}
          },
          "c371cb8a5df84a55a9c4c5e04f8a3410": {
            "model_module": "@jupyter-widgets/controls",
            "model_module_version": "2.0.0",
            "model_name": "IntTextModel",
            "state": {
              "description": "Max count",
              "layout": "IPY_MODEL_4987da0852da4c85b55415f54ad0c7a9",
              "step": 1,
              "style": "IPY_MODEL_a3111c6194cd4abb94e1827a965df42f"
            }
          },
          "63784eee5be24bd4918842d6ebdee647": {
            "model_module": "@jupyter-widgets/controls",
            "model_module_version": "2.0.0",
            "model_name": "ButtonModel",
            "state": {
              "description": "Start export",
              "layout": "IPY_MODEL_e77e2153e4a3433eb5ac104ca3e419c1",
              "style": "IPY_MODEL_4419130d8432455db00e0f6d6acb6c0c",
              "tooltip": null
            }
          },
          "e9da27ec3bd94e95a0950a8925c92679": {
            "model_module": "@jupyter-widgets/controls",
            "model_module_version": "2.0.0",
            "model_name": "TextModel",
            "state": {
              "description": "Input Path:",
              "layout": "IPY_MODEL_93872809b53a4f4c8a7a7d5cb1b76798",
              "style": "IPY_MODEL_c167e5ab7f984b4aae2dffff75aba022",
              "tooltip": "Path to query template spreadsheet (list of names, etc. to search)"
            }
          },
          "54cbdaac9e474f6083748fa5a6918a92": {
            "model_module": "@jupyter-widgets/controls",
            "model_module_version": "2.0.0",
            "model_name": "TextModel",
            "state": {
              "description": "Output Path",
              "layout": "IPY_MODEL_9d3f655b803a491489b482b4606c9e0a",
              "style": "IPY_MODEL_a030612c9bfd42159ccaca7f514ae894"
            }
          },
          "0f9e7ec9470d42a19f8f36b68dc9f0a9": {
            "model_module": "@jupyter-widgets/base",
            "model_module_version": "2.0.0",
            "model_name": "LayoutModel",
            "state": {}
          },
          "5051ee4acc174dbeb5c44bb16554bfef": {
            "model_module": "@jupyter-widgets/base",
            "model_module_version": "2.0.0",
            "model_name": "LayoutModel",
            "state": {}
          },
          "b341d4342b924928a7315946a7cfd29f": {
            "model_module": "@jupyter-widgets/controls",
            "model_module_version": "2.0.0",
            "model_name": "ButtonStyleModel",
            "state": {
              "font_family": null,
              "font_size": null,
              "font_style": null,
              "font_variant": null,
              "font_weight": null,
              "text_color": null,
              "text_decoration": null
            }
          },
          "948798689e8b4568832dfc2502243032": {
            "model_module": "@jupyter-widgets/controls",
            "model_module_version": "2.0.0",
            "model_name": "TextModel",
            "state": {
              "description": "Input Path",
              "layout": "IPY_MODEL_fe128b445fb842389dcc4195cc12ef99",
              "style": "IPY_MODEL_e7c4fd5e5c1445e0bc25257d9dee7aa3",
              "tooltip": "Path to PDF directory"
            }
          },
          "3fb458f8ea6d421fb68e8a3b82b6dfef": {
            "model_module": "@jupyter-widgets/base",
            "model_module_version": "2.0.0",
            "model_name": "LayoutModel",
            "state": {}
          },
          "b12636c8ea294f46a8ce08ed3663c47e": {
            "model_module": "@jupyter-widgets/base",
            "model_module_version": "2.0.0",
            "model_name": "LayoutModel",
            "state": {}
          },
          "9b6939ea55884754943687ea2708a6a7": {
            "model_module": "@jupyter-widgets/controls",
            "model_module_version": "2.0.0",
            "model_name": "ButtonModel",
            "state": {
              "description": "Read more",
              "layout": "IPY_MODEL_6c57a88965bb472a84cc69b9ddfa2103",
              "style": "IPY_MODEL_464914a73a8442d6afd9458fc896e0a1",
              "tooltip": null
            }
          },
          "08c022d22b7b49dca67726863abfbfc5": {
            "model_module": "@jupyter-widgets/controls",
            "model_module_version": "2.0.0",
            "model_name": "IntTextModel",
            "state": {
              "description": "Skip rows",
              "layout": "IPY_MODEL_2b836903ad2c462b94300851fb09226e",
              "step": 1,
              "style": "IPY_MODEL_0f82723f5c144b4497b0ba524fb4acf0"
            }
          },
          "ea5acf8436214e3fa4d44e07b5b04590": {
            "model_module": "@jupyter-widgets/base",
            "model_module_version": "2.0.0",
            "model_name": "LayoutModel",
            "state": {}
          },
          "8879fd9d77924905b1f6c47afa9391e1": {
            "model_module": "@jupyter-widgets/controls",
            "model_module_version": "2.0.0",
            "model_name": "TextModel",
            "state": {
              "description": "Input Path",
              "layout": "IPY_MODEL_806ad79aeb79424a8fce39cb26175562",
              "style": "IPY_MODEL_0aefdc74674c4446b4c4769efe17d63a",
              "tooltip": "Path to input directory or archive"
            }
          },
          "a37fa1a589484f779cbea4352530b8d1": {
            "model_module": "@jupyter-widgets/controls",
            "model_module_version": "2.0.0",
            "model_name": "CheckboxStyleModel",
            "state": {
              "description_width": ""
            }
          },
          "e03b5decfe844032ad21d05ff46b845d": {
            "model_module": "@jupyter-widgets/base",
            "model_module_version": "2.0.0",
            "model_name": "LayoutModel",
            "state": {
              "width": "90%"
            }
          },
          "0e192ecd709d419b8298f77f209c2ca5": {
            "model_module": "@jupyter-widgets/controls",
            "model_module_version": "2.0.0",
            "model_name": "IntTextModel",
            "state": {
              "description": "Max count",
              "layout": "IPY_MODEL_888e0d69e0964efb91d92de54f45ad11",
              "step": 1,
              "style": "IPY_MODEL_c273a9313a21406c962123c74e209a7f"
            }
          },
          "c9d5ad0619544a399803b6df6118d55a": {
            "model_module": "@jupyter-widgets/controls",
            "model_module_version": "2.0.0",
            "model_name": "CheckboxStyleModel",
            "state": {
              "description_width": ""
            }
          },
          "7aec20f5f65c4719b1768ebbab27a79e": {
            "model_module": "@jupyter-widgets/base",
            "model_module_version": "2.0.0",
            "model_name": "LayoutModel",
            "state": {}
          },
          "6604b9b9a358492d886b840c81e5e01e": {
            "model_module": "@jupyter-widgets/controls",
            "model_module_version": "2.0.0",
            "model_name": "CheckboxModel",
            "state": {
              "description": "Remove duplicates",
              "disabled": false,
              "layout": "IPY_MODEL_58d38824f5964a64a6294c85895735fd",
              "style": "IPY_MODEL_d89d910b53c34d76b753ec74ec06ddf6",
              "value": false
            }
          },
          "48fbf356a7b84feb971738bc516736b0": {
            "model_module": "@jupyter-widgets/base",
            "model_module_version": "2.0.0",
            "model_name": "LayoutModel",
            "state": {}
          },
          "6c7b05172674411c95209d5fdf613394": {
            "model_module": "@jupyter-widgets/base",
            "model_module_version": "2.0.0",
            "model_name": "LayoutModel",
            "state": {
              "width": "90%"
            }
          },
          "154dc5805b3f488190af85fa617cba8d": {
            "model_module": "@jupyter-widgets/controls",
            "model_module_version": "2.0.0",
            "model_name": "CheckboxModel",
            "state": {
              "description": "Allow overwrite",
              "disabled": false,
              "layout": "IPY_MODEL_4f37c542c97e41e984f7fac69fc3a42f",
              "style": "IPY_MODEL_5abf2b09072541c58468298f9202a486",
              "value": false
            }
          },
          "cb62eeee56ab4d15a8d63fcca1acf82b": {
            "model_module": "@jupyter-widgets/controls",
            "model_module_version": "2.0.0",
            "model_name": "CheckboxModel",
            "state": {
              "description": "Allow overwrite",
              "disabled": false,
              "layout": "IPY_MODEL_6e9bb80f5b5b4493add772b670993efc",
              "style": "IPY_MODEL_e31747a42f494139ad04caa696d3991d",
              "value": false
            }
          },
          "a3111c6194cd4abb94e1827a965df42f": {
            "model_module": "@jupyter-widgets/controls",
            "model_module_version": "2.0.0",
            "model_name": "DescriptionStyleModel",
            "state": {
              "description_width": ""
            }
          },
          "4dc513907e524e21b2b5dd60a6b6a9f3": {
            "model_module": "@jupyter-widgets/base",
            "model_module_version": "2.0.0",
            "model_name": "LayoutModel",
            "state": {}
          },
          "525b30e2b8de4fba9f4544261ab121c8": {
            "model_module": "@jupyter-widgets/controls",
            "model_module_version": "2.0.0",
            "model_name": "ButtonModel",
            "state": {
              "description": "Start export",
              "layout": "IPY_MODEL_ca0591a000644af7b942cf16f300b589",
              "style": "IPY_MODEL_cbe13564b3f24542887e1b8458757957",
              "tooltip": null
            }
          },
          "79bfb4aa86dd47f78dc6eea70aae74e5": {
            "model_module": "@jupyter-widgets/controls",
            "model_module_version": "2.0.0",
            "model_name": "TextModel",
            "state": {
              "description": "Output Path",
              "layout": "IPY_MODEL_bfb62cf07156403aa0bbd6bbfb1bfe44",
              "style": "IPY_MODEL_54394a4f04b143e599ac55458426df5d"
            }
          },
          "156ac15467b9445688a05588e4e0ba59": {
            "model_module": "@jupyter-widgets/controls",
            "model_module_version": "2.0.0",
            "model_name": "HBoxModel",
            "state": {
              "children": [
                "IPY_MODEL_01ca93cbcb6349dab4c9249694c37d76",
                "IPY_MODEL_77df9c1634bb4f54af019bc1e30c65da",
                "IPY_MODEL_1f4591bcdb2041e19eb7634dfb69747b"
              ],
              "layout": "IPY_MODEL_68394a4149204a42afb9c5ef55576a87"
            }
          },
          "7697851beec245db8bf0cdc711753a2e": {
            "model_module": "@jupyter-widgets/base",
            "model_module_version": "2.0.0",
            "model_name": "LayoutModel",
            "state": {
              "width": "40%"
            }
          },
          "a28f0508a038428e81c1d1f3d61d2cba": {
            "model_module": "@jupyter-widgets/controls",
            "model_module_version": "2.0.0",
            "model_name": "ButtonModel",
            "state": {
              "description": "Start archiving",
              "layout": "IPY_MODEL_b113d462df034afe941d022ae9ed7c5f",
              "style": "IPY_MODEL_4daa4591cc604c5a8e7ee556135a73aa",
              "tooltip": null
            }
          },
          "1b5d425760f24a77a84b11e246890b29": {
            "model_module": "@jupyter-widgets/base",
            "model_module_version": "2.0.0",
            "model_name": "LayoutModel",
            "state": {}
          },
          "532058cf802345889d13df866db9230b": {
            "model_module": "@jupyter-widgets/controls",
            "model_module_version": "2.0.0",
            "model_name": "DescriptionStyleModel",
            "state": {
              "description_width": ""
            }
          },
          "b7cfa5466dbd4e92a673bc6563cb7c33": {
            "model_module": "@jupyter-widgets/base",
            "model_module_version": "2.0.0",
            "model_name": "LayoutModel",
            "state": {
              "width": "40%"
            }
          },
          "a01c8f963392492dbfbe2fcc0d0488f8": {
            "model_module": "@jupyter-widgets/controls",
            "model_module_version": "2.0.0",
            "model_name": "HBoxModel",
            "state": {
              "children": [
                "IPY_MODEL_f38aea1dda534ac88e79eaabafb06d3f",
                "IPY_MODEL_6f060f54fd414a63a34756d36ca8e0bd",
                "IPY_MODEL_1812579f3af14fd1b103cef2317f30f6"
              ],
              "layout": "IPY_MODEL_24931ea450a54e7c82aee5983a154b89"
            }
          },
          "5681b7f9410b45fb983eec6bd5a921b2": {
            "model_module": "@jupyter-widgets/controls",
            "model_module_version": "2.0.0",
            "model_name": "CheckboxModel",
            "state": {
              "description": "Allow overwrite",
              "disabled": false,
              "layout": "IPY_MODEL_e1489848b11e404286e538b59f7ec804",
              "style": "IPY_MODEL_1e84a8fd97a744b19ce5bebf6f32ce38",
              "value": false
            }
          },
          "5b0fbeb839ce42999f692f191bb0dd2f": {
            "model_module": "@jupyter-widgets/controls",
            "model_module_version": "2.0.0",
            "model_name": "IntTextModel",
            "state": {
              "description": "Max count",
              "layout": "IPY_MODEL_85267afa38774b85982406a523519f5f",
              "step": 1,
              "style": "IPY_MODEL_5e5626ffe1b844e488708da72b8a5972",
              "value": 200
            }
          },
          "f7e8bacf036c4c938fc5e7769b398fd8": {
            "model_module": "@jupyter-widgets/controls",
            "model_module_version": "2.0.0",
            "model_name": "CheckboxStyleModel",
            "state": {
              "description_width": ""
            }
          },
          "475372d3cb2a4a7ca4417b33fa458077": {
            "model_module": "@jupyter-widgets/controls",
            "model_module_version": "2.0.0",
            "model_name": "ButtonStyleModel",
            "state": {
              "font_family": null,
              "font_size": null,
              "font_style": null,
              "font_variant": null,
              "font_weight": null,
              "text_color": null,
              "text_decoration": null
            }
          },
          "5ca39b72d3c246ceb63d5ee1b0688a67": {
            "model_module": "@jupyter-widgets/controls",
            "model_module_version": "2.0.0",
            "model_name": "DescriptionStyleModel",
            "state": {
              "description_width": ""
            }
          },
          "a8e514befc2e4b6ebb3591128f51ab67": {
            "model_module": "@jupyter-widgets/controls",
            "model_module_version": "2.0.0",
            "model_name": "HBoxModel",
            "state": {
              "children": [
                "IPY_MODEL_87c2e30e35ab4a45ba3be79ff174a677",
                "IPY_MODEL_deeadf9edd0a40ecac253ef0e983d66f",
                "IPY_MODEL_f1e7d43bce8c4945939d075110506700"
              ],
              "layout": "IPY_MODEL_dc10d7e13dfd48a7a5bf40ecaf96ba26"
            }
          },
          "33d49e8ffa004b26848467d24c4f03cb": {
            "model_module": "@jupyter-widgets/base",
            "model_module_version": "2.0.0",
            "model_name": "LayoutModel",
            "state": {}
          },
          "87473fdee10d4cc3b85672a7f08bf7ed": {
            "model_module": "@jupyter-widgets/controls",
            "model_module_version": "2.0.0",
            "model_name": "DescriptionStyleModel",
            "state": {
              "description_width": ""
            }
          },
          "eccafc6268dc4fb1b0176ad89335cb62": {
            "model_module": "@jupyter-widgets/base",
            "model_module_version": "2.0.0",
            "model_name": "LayoutModel",
            "state": {}
          },
          "333c51148f934eb6a3a463d5969809d1": {
            "model_module": "@jupyter-widgets/base",
            "model_module_version": "2.0.0",
            "model_name": "LayoutModel",
            "state": {}
          },
          "493cd38dd98840ba8c15d37fb1ffd7f8": {
            "model_module": "@jupyter-widgets/controls",
            "model_module_version": "2.0.0",
            "model_name": "DescriptionStyleModel",
            "state": {
              "description_width": ""
            }
          },
          "536aa84d0f07480f998c11c55c3c23ca": {
            "model_module": "@jupyter-widgets/controls",
            "model_module_version": "2.0.0",
            "model_name": "DescriptionStyleModel",
            "state": {
              "description_width": ""
            }
          },
          "691a282431034e78bdd525c6a23938c1": {
            "model_module": "@jupyter-widgets/controls",
            "model_module_version": "2.0.0",
            "model_name": "DescriptionStyleModel",
            "state": {
              "description_width": ""
            }
          },
          "93db08e803464863ba9fbcc5d5f9b2b7": {
            "model_module": "@jupyter-widgets/controls",
            "model_module_version": "2.0.0",
            "model_name": "ButtonStyleModel",
            "state": {
              "font_family": null,
              "font_size": null,
              "font_style": null,
              "font_variant": null,
              "font_weight": null,
              "text_color": null,
              "text_decoration": null
            }
          },
          "076ddaa12323444ca32e0d164c82c171": {
            "model_module": "@jupyter-widgets/base",
            "model_module_version": "2.0.0",
            "model_name": "LayoutModel",
            "state": {}
          },
          "3d192813ae1f4150bdf4ff0bceaf0ef8": {
            "model_module": "@jupyter-widgets/base",
            "model_module_version": "2.0.0",
            "model_name": "LayoutModel",
            "state": {}
          },
          "912bbe03128b466fb1af0205319afd91": {
            "model_module": "@jupyter-widgets/controls",
            "model_module_version": "2.0.0",
            "model_name": "ButtonModel",
            "state": {
              "description": "Start archiving",
              "layout": "IPY_MODEL_45caab7b16e2411dac71bd77a22ac5d0",
              "style": "IPY_MODEL_c484fe09baf34c138961d2eb54156a0a",
              "tooltip": null
            }
          },
          "6eb9bb60ad694389911fc80f0cf7b77b": {
            "model_module": "@jupyter-widgets/controls",
            "model_module_version": "2.0.0",
            "model_name": "TextStyleModel",
            "state": {
              "description_width": "",
              "font_size": null,
              "text_color": null
            }
          },
          "6eb81c7187164ef4ab6f0e06b42b65ab": {
            "model_module": "@jupyter-widgets/controls",
            "model_module_version": "2.0.0",
            "model_name": "DescriptionStyleModel",
            "state": {
              "description_width": ""
            }
          },
          "dd1a37e53aef45b6b48a072df001bd70": {
            "model_module": "@jupyter-widgets/base",
            "model_module_version": "2.0.0",
            "model_name": "LayoutModel",
            "state": {}
          },
          "3da1876f7bc04067a8a2d7a5a62a5d72": {
            "model_module": "@jupyter-widgets/base",
            "model_module_version": "2.0.0",
            "model_name": "LayoutModel",
            "state": {
              "width": "40%"
            }
          },
          "f51e24b54e9549f895c15c8f20e35a9a": {
            "model_module": "@jupyter-widgets/base",
            "model_module_version": "2.0.0",
            "model_name": "LayoutModel",
            "state": {}
          },
          "1804640b03a744d396cfee5ae33aa8bb": {
            "model_module": "@jupyter-widgets/controls",
            "model_module_version": "2.0.0",
            "model_name": "ButtonModel",
            "state": {
              "description": "Read more",
              "layout": "IPY_MODEL_acc6e20279d346b7bf139d005ac09c9a",
              "style": "IPY_MODEL_49dd09df8d384fb18c9fc0e9902a976a",
              "tooltip": null
            }
          },
          "6eccb0f06b8f411d88df9b8a51534799": {
            "model_module": "@jupyter-widgets/controls",
            "model_module_version": "2.0.0",
            "model_name": "DescriptionStyleModel",
            "state": {
              "description_width": ""
            }
          },
          "3102accbced643d98f39e48b402f73ff": {
            "model_module": "@jupyter-widgets/controls",
            "model_module_version": "2.0.0",
            "model_name": "TextModel",
            "state": {
              "description": "Output Path",
              "layout": "IPY_MODEL_2d751959af564a97a9c850496a562025",
              "style": "IPY_MODEL_80a4639ddbd24211acf15b317e0a6eb9"
            }
          },
          "9d44a1ead1524bbc9a9875286edf4e49": {
            "model_module": "@jupyter-widgets/controls",
            "model_module_version": "2.0.0",
            "model_name": "DescriptionStyleModel",
            "state": {
              "description_width": ""
            }
          },
          "ec91d64d3ed04ae79273592012e0fef1": {
            "model_module": "@jupyter-widgets/base",
            "model_module_version": "2.0.0",
            "model_name": "LayoutModel",
            "state": {}
          },
          "a68f48238b2d4089a29440905d10e5ae": {
            "model_module": "@jupyter-widgets/base",
            "model_module_version": "2.0.0",
            "model_name": "LayoutModel",
            "state": {}
          },
          "dc72785907444c128a5213aa8fed1d15": {
            "model_module": "@jupyter-widgets/controls",
            "model_module_version": "2.0.0",
            "model_name": "DescriptionStyleModel",
            "state": {
              "description_width": ""
            }
          },
          "b2c153665f054533979f026d9f77ce49": {
            "model_module": "@jupyter-widgets/output",
            "model_module_version": "1.0.0",
            "model_name": "OutputModel",
            "state": {
              "layout": "IPY_MODEL_3d9a85da904a41b0ba873104a2c73d89"
            }
          },
          "7d51ae836f5144f18f31057411b876cc": {
            "model_module": "@jupyter-widgets/base",
            "model_module_version": "2.0.0",
            "model_name": "LayoutModel",
            "state": {
              "width": "90%"
            }
          },
          "8813b2d7205c4067ae04c06d64f9cb12": {
            "model_module": "@jupyter-widgets/controls",
            "model_module_version": "2.0.0",
            "model_name": "CheckboxStyleModel",
            "state": {
              "description_width": ""
            }
          },
          "3504e12cea834912bf7f039e2ac9bfb9": {
            "model_module": "@jupyter-widgets/controls",
            "model_module_version": "2.0.0",
            "model_name": "TextStyleModel",
            "state": {
              "description_width": "",
              "font_size": null,
              "text_color": null
            }
          },
          "487d3c3932c54e9097d2b64a07ea785f": {
            "model_module": "@jupyter-widgets/controls",
            "model_module_version": "2.0.0",
            "model_name": "TextModel",
            "state": {
              "description": "Input Path",
              "layout": "IPY_MODEL_d561ab5b4cfc4608809e76ea9f703d74",
              "style": "IPY_MODEL_bccffe81fa7a4c969b1ef6b0864a130c",
              "tooltip": "Path to PDF directory"
            }
          },
          "90ae90cc295f4fa5a9bbdf00235558a5": {
            "model_module": "@jupyter-widgets/controls",
            "model_module_version": "2.0.0",
            "model_name": "CheckboxModel",
            "state": {
              "description": "Remove duplicates",
              "disabled": false,
              "layout": "IPY_MODEL_11c9ad0b53fb41c8a9e2efdce82affff",
              "style": "IPY_MODEL_c9d5ad0619544a399803b6df6118d55a",
              "value": false
            }
          },
          "312a119e3b604cdf92bd3f6230fa631a": {
            "model_module": "@jupyter-widgets/base",
            "model_module_version": "2.0.0",
            "model_name": "LayoutModel",
            "state": {}
          },
          "37f12a4b7e084f41a7303a205d0d3abc": {
            "model_module": "@jupyter-widgets/controls",
            "model_module_version": "2.0.0",
            "model_name": "TextModel",
            "state": {
              "description": "Input Path:",
              "layout": "IPY_MODEL_7d00e9b154c64755a74ece897bfced83",
              "style": "IPY_MODEL_260f05c7a2244f6d8b1c25185290dad4",
              "tooltip": "Path to query template spreadsheet (list of names, etc. to search)"
            }
          },
          "2659b850269246d1af811b04feb58c7d": {
            "model_module": "@jupyter-widgets/controls",
            "model_module_version": "2.0.0",
            "model_name": "TextModel",
            "state": {
              "description": "Output Path",
              "layout": "IPY_MODEL_34cf0dc219844065ac7a83cc0fb1060c",
              "style": "IPY_MODEL_0fbce7d146a54db2a8018b14ef53114c"
            }
          },
          "3fb367871b0f4e8f874f9d7c4f86ed78": {
            "model_module": "@jupyter-widgets/controls",
            "model_module_version": "2.0.0",
            "model_name": "TextStyleModel",
            "state": {
              "description_width": "",
              "font_size": null,
              "text_color": null
            }
          },
          "4190e1e3a6fb46878087634f4eb791db": {
            "model_module": "@jupyter-widgets/controls",
            "model_module_version": "2.0.0",
            "model_name": "TextStyleModel",
            "state": {
              "description_width": "",
              "font_size": null,
              "text_color": null
            }
          },
          "216977d4ad0f48fcb9f5cbfbd6a8568c": {
            "model_module": "@jupyter-widgets/base",
            "model_module_version": "2.0.0",
            "model_name": "LayoutModel",
            "state": {
              "width": "95%"
            }
          },
          "55e6dd3a8aa44bfeb97000146e711d7b": {
            "model_module": "@jupyter-widgets/controls",
            "model_module_version": "2.0.0",
            "model_name": "CheckboxStyleModel",
            "state": {
              "description_width": ""
            }
          },
          "fc90c8b4143441009c034aff9b829a01": {
            "model_module": "@jupyter-widgets/base",
            "model_module_version": "2.0.0",
            "model_name": "LayoutModel",
            "state": {
              "width": "90%"
            }
          },
          "98c62016c3c74e59ab7be4ad5c635918": {
            "model_module": "@jupyter-widgets/controls",
            "model_module_version": "2.0.0",
            "model_name": "DescriptionStyleModel",
            "state": {
              "description_width": ""
            }
          },
          "2bef6aa538674ef099214d6caf4fd8f0": {
            "model_module": "@jupyter-widgets/controls",
            "model_module_version": "2.0.0",
            "model_name": "IntTextModel",
            "state": {
              "description": "Skip rows",
              "layout": "IPY_MODEL_2e6f7b49bd634f43917ae7ad3b5cfd05",
              "step": 1,
              "style": "IPY_MODEL_eac2a65aa46e40a7978b160d0b6bc7d6"
            }
          },
          "064f57b093934e1d827850a426c337ef": {
            "model_module": "@jupyter-widgets/base",
            "model_module_version": "2.0.0",
            "model_name": "LayoutModel",
            "state": {}
          },
          "8ec394c4f8054ef88ad3ea7bc751d3ab": {
            "model_module": "@jupyter-widgets/controls",
            "model_module_version": "2.0.0",
            "model_name": "ButtonStyleModel",
            "state": {
              "font_family": null,
              "font_size": null,
              "font_style": null,
              "font_variant": null,
              "font_weight": null,
              "text_color": null,
              "text_decoration": null
            }
          },
          "fe0f9b4df93f4cb58c5a1080da4dd4de": {
            "model_module": "@jupyter-widgets/base",
            "model_module_version": "2.0.0",
            "model_name": "LayoutModel",
            "state": {
              "width": "95%"
            }
          },
          "0dbaf3fa1d4e4834896ea65d050a59d4": {
            "model_module": "@jupyter-widgets/base",
            "model_module_version": "2.0.0",
            "model_name": "LayoutModel",
            "state": {}
          },
          "ec5779417bbc4a9f9d1bbc148571958b": {
            "model_module": "@jupyter-widgets/controls",
            "model_module_version": "2.0.0",
            "model_name": "ButtonStyleModel",
            "state": {
              "font_family": null,
              "font_size": null,
              "font_style": null,
              "font_variant": null,
              "font_weight": null,
              "text_color": null,
              "text_decoration": null
            }
          },
          "7a8f09c804054347b845d3ef1a2a9840": {
            "model_module": "@jupyter-widgets/base",
            "model_module_version": "2.0.0",
            "model_name": "LayoutModel",
            "state": {}
          },
          "a680162e9da64f7196217c58001ed248": {
            "model_module": "@jupyter-widgets/base",
            "model_module_version": "2.0.0",
            "model_name": "LayoutModel",
            "state": {
              "width": "90%"
            }
          },
          "1022c36c756646fda252781e8daefe0f": {
            "model_module": "@jupyter-widgets/controls",
            "model_module_version": "2.0.0",
            "model_name": "TextStyleModel",
            "state": {
              "description_width": "",
              "font_size": null,
              "text_color": null
            }
          },
          "f38aea1dda534ac88e79eaabafb06d3f": {
            "model_module": "@jupyter-widgets/controls",
            "model_module_version": "2.0.0",
            "model_name": "FloatTextModel",
            "state": {
              "description": "Speed",
              "layout": "IPY_MODEL_298cb2c5e00043e08fd943e4308f3504",
              "step": 0.1,
              "style": "IPY_MODEL_98c62016c3c74e59ab7be4ad5c635918",
              "value": 1
            }
          },
          "986090962cb148998ee31c4a570772a4": {
            "model_module": "@jupyter-widgets/controls",
            "model_module_version": "2.0.0",
            "model_name": "CheckboxStyleModel",
            "state": {
              "description_width": ""
            }
          },
          "24a8f3bf4a0842e8a4c2e094b091bcad": {
            "model_module": "@jupyter-widgets/controls",
            "model_module_version": "2.0.0",
            "model_name": "TextModel",
            "state": {
              "description": "Input Path",
              "layout": "IPY_MODEL_2cef78c8a4234da2a53c95108208a802",
              "style": "IPY_MODEL_a74321cfbdc74040bb0b7937bc879108",
              "tooltip": "Path to PDF directory"
            }
          },
          "f2e2738da08049ed815be442cd268842": {
            "model_module": "@jupyter-widgets/controls",
            "model_module_version": "2.0.0",
            "model_name": "CheckboxModel",
            "state": {
              "description": "Allow overwrite",
              "disabled": false,
              "layout": "IPY_MODEL_dd503d901eeb4099adcc28495b2e657a",
              "style": "IPY_MODEL_95cf7c4de4d04629a9d7815939ce5d86",
              "value": false
            }
          },
          "75eca6e84e31407da7dab4849385921f": {
            "model_module": "@jupyter-widgets/controls",
            "model_module_version": "2.0.0",
            "model_name": "ButtonStyleModel",
            "state": {
              "font_family": null,
              "font_size": null,
              "font_style": null,
              "font_variant": null,
              "font_weight": null,
              "text_color": null,
              "text_decoration": null
            }
          },
          "de95eb7347874ce4b3bf941aa79c8e98": {
            "model_module": "@jupyter-widgets/controls",
            "model_module_version": "2.0.0",
            "model_name": "CheckboxModel",
            "state": {
              "description": "Allow overwrite",
              "disabled": false,
              "layout": "IPY_MODEL_1ff18340c68840fd8be97a54768b2c93",
              "style": "IPY_MODEL_800cf7cf192343b18376761606e4fe61",
              "value": false
            }
          },
          "cedb17c9963f408aaefa3ebb40b941a1": {
            "model_module": "@jupyter-widgets/base",
            "model_module_version": "2.0.0",
            "model_name": "LayoutModel",
            "state": {}
          },
          "673c3c336f934f22a5e68e42562d9ca9": {
            "model_module": "@jupyter-widgets/controls",
            "model_module_version": "2.0.0",
            "model_name": "FloatTextModel",
            "state": {
              "description": "Speed",
              "layout": "IPY_MODEL_c8f12b80ced841d391c71287c9790a85",
              "step": 0.1,
              "style": "IPY_MODEL_871b2d7081834a2fab750ec7dd616041",
              "value": 1
            }
          },
          "734289eedae14e929249ec309e2e8ce6": {
            "model_module": "@jupyter-widgets/controls",
            "model_module_version": "2.0.0",
            "model_name": "CheckboxModel",
            "state": {
              "description": "Allow overwrite",
              "disabled": false,
              "layout": "IPY_MODEL_7a8f09c804054347b845d3ef1a2a9840",
              "style": "IPY_MODEL_71ec87a0e2a84d45b2cd2adbf6fdf2b3",
              "value": false
            }
          },
          "23bea40f69b34be9890e153dccf33747": {
            "model_module": "@jupyter-widgets/controls",
            "model_module_version": "2.0.0",
            "model_name": "ButtonStyleModel",
            "state": {
              "font_family": null,
              "font_size": null,
              "font_style": null,
              "font_variant": null,
              "font_weight": null,
              "text_color": null,
              "text_decoration": null
            }
          },
          "81df27d2fdee409db1080bd131a6f161": {
            "model_module": "@jupyter-widgets/base",
            "model_module_version": "2.0.0",
            "model_name": "LayoutModel",
            "state": {}
          },
          "228017d497964aaf8b7f2f6043d6882a": {
            "model_module": "@jupyter-widgets/controls",
            "model_module_version": "2.0.0",
            "model_name": "DescriptionStyleModel",
            "state": {
              "description_width": ""
            }
          },
          "e49947a71758491c8bedebeb4c7936cf": {
            "model_module": "@jupyter-widgets/base",
            "model_module_version": "2.0.0",
            "model_name": "LayoutModel",
            "state": {}
          },
          "8a658ff77fd64c5ba57d085f09fa5401": {
            "model_module": "@jupyter-widgets/base",
            "model_module_version": "2.0.0",
            "model_name": "LayoutModel",
            "state": {
              "width": "40%"
            }
          },
          "710687aca4e0419396d47de2e0aee528": {
            "model_module": "@jupyter-widgets/controls",
            "model_module_version": "2.0.0",
            "model_name": "TextStyleModel",
            "state": {
              "description_width": "",
              "font_size": null,
              "text_color": null
            }
          },
          "956c5880e73d419290e88680ee1073f0": {
            "model_module": "@jupyter-widgets/controls",
            "model_module_version": "2.0.0",
            "model_name": "IntTextModel",
            "state": {
              "description": "Max count:",
              "layout": "IPY_MODEL_a04a88794b154783ab437fc5eadb4bb5",
              "step": 1,
              "style": "IPY_MODEL_691a282431034e78bdd525c6a23938c1",
              "value": 1000
            }
          },
          "ab8985e1e76e438884245826abebe636": {
            "model_module": "@jupyter-widgets/controls",
            "model_module_version": "2.0.0",
            "model_name": "IntTextModel",
            "state": {
              "description": "Max count:",
              "layout": "IPY_MODEL_de1f05c62fc44d389e1555c00476921f",
              "step": 1,
              "style": "IPY_MODEL_58a906fdf73c491589eb625562cec1ae"
            }
          },
          "c114e6bbd7a74d4e8fadbe577e89024c": {
            "model_module": "@jupyter-widgets/controls",
            "model_module_version": "2.0.0",
            "model_name": "CheckboxStyleModel",
            "state": {
              "description_width": ""
            }
          },
          "33b23c2379fa41f482c1acd0daf28277": {
            "model_module": "@jupyter-widgets/controls",
            "model_module_version": "2.0.0",
            "model_name": "TextStyleModel",
            "state": {
              "description_width": "",
              "font_size": null,
              "text_color": null
            }
          },
          "e57a2cf6ad574aa4a1f0d6d07c9d078e": {
            "model_module": "@jupyter-widgets/controls",
            "model_module_version": "2.0.0",
            "model_name": "ButtonModel",
            "state": {
              "description": "Read more",
              "layout": "IPY_MODEL_5b30a174ccbb45b08f2c973ee0c25c69",
              "style": "IPY_MODEL_eeff21dce9ca4ed5ab42f2d97cb71372",
              "tooltip": null
            }
          },
          "e927b58b026e4e7caf937f05d0c9f561": {
            "model_module": "@jupyter-widgets/controls",
            "model_module_version": "2.0.0",
            "model_name": "DescriptionStyleModel",
            "state": {
              "description_width": ""
            }
          },
          "818cd7b2a44146608bd4ecd64344d8f9": {
            "model_module": "@jupyter-widgets/controls",
            "model_module_version": "2.0.0",
            "model_name": "TextModel",
            "state": {
              "description": "Output Path",
              "layout": "IPY_MODEL_9075e1cb593d49918fe54234c365df7d",
              "style": "IPY_MODEL_1bcab2e8f6494358ba5ccff4b6ffe463"
            }
          },
          "2006823801304228aefe548cae78a9c7": {
            "model_module": "@jupyter-widgets/controls",
            "model_module_version": "2.0.0",
            "model_name": "DescriptionStyleModel",
            "state": {
              "description_width": ""
            }
          },
          "ea99d2a47a20421295a59dba65eb7afe": {
            "model_module": "@jupyter-widgets/base",
            "model_module_version": "2.0.0",
            "model_name": "LayoutModel",
            "state": {}
          },
          "821f5ad25e8f42d9a62518e6e90c0d31": {
            "model_module": "@jupyter-widgets/base",
            "model_module_version": "2.0.0",
            "model_name": "LayoutModel",
            "state": {}
          },
          "9a392dfb3ed346ceb92c93e1d33ed6de": {
            "model_module": "@jupyter-widgets/base",
            "model_module_version": "2.0.0",
            "model_name": "LayoutModel",
            "state": {}
          },
          "3687fa2babe2476392cfaf67c3d52bc8": {
            "model_module": "@jupyter-widgets/controls",
            "model_module_version": "2.0.0",
            "model_name": "TextStyleModel",
            "state": {
              "description_width": "",
              "font_size": null,
              "text_color": null
            }
          },
          "9fe69ab32b6441f0806ed4e8a60d66bf": {
            "model_module": "@jupyter-widgets/controls",
            "model_module_version": "2.0.0",
            "model_name": "ButtonModel",
            "state": {
              "description": "Login",
              "layout": "IPY_MODEL_562ea2541fbe4b6aa5b6b30de9684294",
              "style": "IPY_MODEL_86ef809591dc435e96898dce3c4c6274",
              "tooltip": null
            }
          },
          "018a81d49a2649e7be2758332a0e5f5b": {
            "model_module": "@jupyter-widgets/controls",
            "model_module_version": "2.0.0",
            "model_name": "ButtonStyleModel",
            "state": {
              "font_family": null,
              "font_size": null,
              "font_style": null,
              "font_variant": null,
              "font_weight": null,
              "text_color": null,
              "text_decoration": null
            }
          },
          "b45bda47304a4070b9c5f201e6712d4f": {
            "model_module": "@jupyter-widgets/base",
            "model_module_version": "2.0.0",
            "model_name": "LayoutModel",
            "state": {}
          },
          "edf33cfcc1924880889cc17c4c10f517": {
            "model_module": "@jupyter-widgets/base",
            "model_module_version": "2.0.0",
            "model_name": "LayoutModel",
            "state": {}
          },
          "0795806612d042afb98ac556b8d0c54e": {
            "model_module": "@jupyter-widgets/controls",
            "model_module_version": "2.0.0",
            "model_name": "IntTextModel",
            "state": {
              "description": "Max rows",
              "layout": "IPY_MODEL_e512e13580a4409d8bdfa372e0ab0e06",
              "step": 1,
              "style": "IPY_MODEL_5d186f2e4e9a49cb80f39268f3c2af07"
            }
          },
          "cbeb8e7c37f0406d802293db1c70fa55": {
            "model_module": "@jupyter-widgets/base",
            "model_module_version": "2.0.0",
            "model_name": "LayoutModel",
            "state": {
              "width": "40%"
            }
          },
          "95e11e15b67645fd92f1d47a4af4a9aa": {
            "model_module": "@jupyter-widgets/controls",
            "model_module_version": "2.0.0",
            "model_name": "CheckboxStyleModel",
            "state": {
              "description_width": ""
            }
          },
          "4cd8e05537934db9abf9e6aabedb93f6": {
            "model_module": "@jupyter-widgets/base",
            "model_module_version": "2.0.0",
            "model_name": "LayoutModel",
            "state": {}
          },
          "aef6f3d40d9948dc87268e1df1f43486": {
            "model_module": "@jupyter-widgets/base",
            "model_module_version": "2.0.0",
            "model_name": "LayoutModel",
            "state": {
              "width": "40%"
            }
          },
          "bce901758c9e461f8ad52051289b7da2": {
            "model_module": "@jupyter-widgets/base",
            "model_module_version": "2.0.0",
            "model_name": "LayoutModel",
            "state": {
              "width": "95%"
            }
          },
          "0d971ad803fc429ea6ccf0c13f330388": {
            "model_module": "@jupyter-widgets/controls",
            "model_module_version": "2.0.0",
            "model_name": "CheckboxStyleModel",
            "state": {
              "description_width": ""
            }
          },
          "15f2c7fd07d24027a7bfe86d02ea552d": {
            "model_module": "@jupyter-widgets/base",
            "model_module_version": "2.0.0",
            "model_name": "LayoutModel",
            "state": {}
          },
          "bddc9ea0930c46f3ac77efe5e07eab64": {
            "model_module": "@jupyter-widgets/controls",
            "model_module_version": "2.0.0",
            "model_name": "CheckboxStyleModel",
            "state": {
              "description_width": ""
            }
          },
          "b584e81aecd94dd0a27e55001ee6eedb": {
            "model_module": "@jupyter-widgets/controls",
            "model_module_version": "2.0.0",
            "model_name": "FloatTextModel",
            "state": {
              "description": "Speed",
              "layout": "IPY_MODEL_97e96e80dde54a43b55dfa6b418f68ae",
              "step": 0.1,
              "style": "IPY_MODEL_aa3745fbb306437fbd3fac91c293b60a",
              "value": 1
            }
          },
          "7b5737fc30cb480986fff5018469b1a1": {
            "model_module": "@jupyter-widgets/controls",
            "model_module_version": "2.0.0",
            "model_name": "ButtonStyleModel",
            "state": {
              "font_family": null,
              "font_size": null,
              "font_style": null,
              "font_variant": null,
              "font_weight": null,
              "text_color": null,
              "text_decoration": null
            }
          },
          "423820069ae148c8b1b21825593c5d25": {
            "model_module": "@jupyter-widgets/controls",
            "model_module_version": "2.0.0",
            "model_name": "CheckboxStyleModel",
            "state": {
              "description_width": ""
            }
          },
          "071f310991644d2e94f433f640ce7e02": {
            "model_module": "@jupyter-widgets/controls",
            "model_module_version": "2.0.0",
            "model_name": "CheckboxStyleModel",
            "state": {
              "description_width": ""
            }
          },
          "2b8675067c384fd0892ab0da88a056a8": {
            "model_module": "@jupyter-widgets/base",
            "model_module_version": "2.0.0",
            "model_name": "LayoutModel",
            "state": {}
          },
          "ceea6c47d4684ea1ab51c6c3a3fa385e": {
            "model_module": "@jupyter-widgets/base",
            "model_module_version": "2.0.0",
            "model_name": "LayoutModel",
            "state": {}
          },
          "75b985db1f9548079e802f07c52dd228": {
            "model_module": "@jupyter-widgets/controls",
            "model_module_version": "2.0.0",
            "model_name": "HBoxModel",
            "state": {
              "children": [
                "IPY_MODEL_2b1d55f8ebf941278f503147312ed107",
                "IPY_MODEL_2645dcb5f3734537aca3440803d40de7"
              ],
              "layout": "IPY_MODEL_20145f080aab458aa4730eb2f7166b24"
            }
          },
          "c86d29c9fa8549eeb629ae8f9e24505e": {
            "model_module": "@jupyter-widgets/controls",
            "model_module_version": "2.0.0",
            "model_name": "CheckboxStyleModel",
            "state": {
              "description_width": ""
            }
          },
          "bdbd3e48418c43448205fb4fb22f049f": {
            "model_module": "@jupyter-widgets/controls",
            "model_module_version": "2.0.0",
            "model_name": "CheckboxStyleModel",
            "state": {
              "description_width": ""
            }
          },
          "195cc7bef0e5470fa8c3434adcccd555": {
            "model_module": "@jupyter-widgets/base",
            "model_module_version": "2.0.0",
            "model_name": "LayoutModel",
            "state": {
              "width": "90%"
            }
          },
          "4001960a4ac64b51b53ffd65f12423eb": {
            "model_module": "@jupyter-widgets/base",
            "model_module_version": "2.0.0",
            "model_name": "LayoutModel",
            "state": {
              "width": "90%"
            }
          },
          "e07a1f1b0439421da92f4a53529d4cba": {
            "model_module": "@jupyter-widgets/base",
            "model_module_version": "2.0.0",
            "model_name": "LayoutModel",
            "state": {
              "width": "90%"
            }
          },
          "7a2128f4b47c427fb548e9d94f1b07a2": {
            "model_module": "@jupyter-widgets/controls",
            "model_module_version": "2.0.0",
            "model_name": "ButtonStyleModel",
            "state": {
              "font_family": null,
              "font_size": null,
              "font_style": null,
              "font_variant": null,
              "font_weight": null,
              "text_color": null,
              "text_decoration": null
            }
          },
          "806ad79aeb79424a8fce39cb26175562": {
            "model_module": "@jupyter-widgets/base",
            "model_module_version": "2.0.0",
            "model_name": "LayoutModel",
            "state": {
              "width": "95%"
            }
          },
          "539262d7ff4d4e1dac176b9a10c2aceb": {
            "model_module": "@jupyter-widgets/base",
            "model_module_version": "2.0.0",
            "model_name": "LayoutModel",
            "state": {}
          },
          "813c7ead4e0a48c797343c9f83706a1e": {
            "model_module": "@jupyter-widgets/controls",
            "model_module_version": "2.0.0",
            "model_name": "TextStyleModel",
            "state": {
              "description_width": "",
              "font_size": null,
              "text_color": null
            }
          },
          "d6eae661bf174dfd93bef7eb69dff53e": {
            "model_module": "@jupyter-widgets/controls",
            "model_module_version": "2.0.0",
            "model_name": "TextModel",
            "state": {
              "description": "Customer ID: ",
              "layout": "IPY_MODEL_b5bc1e1efcae4f4a91c4e1285eac5bb7",
              "style": "IPY_MODEL_432da04303134405a8fc1b015be1fe29"
            }
          },
          "53509891955c4eda97ae4989137ec84b": {
            "model_module": "@jupyter-widgets/controls",
            "model_module_version": "2.0.0",
            "model_name": "CheckboxModel",
            "state": {
              "description": "Allow overwrite",
              "disabled": false,
              "layout": "IPY_MODEL_cb6dae726ca1433bb541d2c7465f45ed",
              "style": "IPY_MODEL_b620506f33dc464a9c1d60b16e4cf3a3",
              "value": false
            }
          },
          "63760f1f839443f9a30fa36965d09b14": {
            "model_module": "@jupyter-widgets/base",
            "model_module_version": "2.0.0",
            "model_name": "LayoutModel",
            "state": {}
          },
          "b16f6bed85734cd69992e20ab2d824ac": {
            "model_module": "@jupyter-widgets/base",
            "model_module_version": "2.0.0",
            "model_name": "LayoutModel",
            "state": {}
          },
          "d16b43f614c042389a32f4f8fd6eb666": {
            "model_module": "@jupyter-widgets/base",
            "model_module_version": "2.0.0",
            "model_name": "LayoutModel",
            "state": {
              "width": "95%"
            }
          },
          "029d0a34411840d1a92af867cfd75859": {
            "model_module": "@jupyter-widgets/base",
            "model_module_version": "2.0.0",
            "model_name": "LayoutModel",
            "state": {
              "width": "95%"
            }
          },
          "a41d1897a01a47809829061514ed55d0": {
            "model_module": "@jupyter-widgets/controls",
            "model_module_version": "2.0.0",
            "model_name": "TextStyleModel",
            "state": {
              "description_width": "",
              "font_size": null,
              "text_color": null
            }
          },
          "4ad5d807fa834228b50ff95a536de26e": {
            "model_module": "@jupyter-widgets/base",
            "model_module_version": "2.0.0",
            "model_name": "LayoutModel",
            "state": {}
          },
          "dceb6086e5eb4edf94347530f507b24f": {
            "model_module": "@jupyter-widgets/base",
            "model_module_version": "2.0.0",
            "model_name": "LayoutModel",
            "state": {}
          },
          "5a0b392b02ae40b383d01069d579b0e7": {
            "model_module": "@jupyter-widgets/base",
            "model_module_version": "2.0.0",
            "model_name": "LayoutModel",
            "state": {}
          },
          "3182458d7c9d4dce85de5f0ff76eccd4": {
            "model_module": "@jupyter-widgets/controls",
            "model_module_version": "2.0.0",
            "model_name": "TextStyleModel",
            "state": {
              "description_width": "",
              "font_size": null,
              "text_color": null
            }
          },
          "e78435dceea54f5ca109f2979f9c6d80": {
            "model_module": "@jupyter-widgets/controls",
            "model_module_version": "2.0.0",
            "model_name": "IntTextModel",
            "state": {
              "description": "Skip rows",
              "layout": "IPY_MODEL_cbeb8e7c37f0406d802293db1c70fa55",
              "step": 1,
              "style": "IPY_MODEL_7b920c323bde4a6a9da59d9198e34af6"
            }
          },
          "cffb63d223c14669bb322cd576df6702": {
            "model_module": "@jupyter-widgets/base",
            "model_module_version": "2.0.0",
            "model_name": "LayoutModel",
            "state": {}
          },
          "aa3745fbb306437fbd3fac91c293b60a": {
            "model_module": "@jupyter-widgets/controls",
            "model_module_version": "2.0.0",
            "model_name": "DescriptionStyleModel",
            "state": {
              "description_width": ""
            }
          },
          "acaab61c8a234e3c8d65c2529cb089aa": {
            "model_module": "@jupyter-widgets/base",
            "model_module_version": "2.0.0",
            "model_name": "LayoutModel",
            "state": {
              "width": "90%"
            }
          },
          "44a3347b7ddf4540963944818679e37f": {
            "model_module": "@jupyter-widgets/base",
            "model_module_version": "2.0.0",
            "model_name": "LayoutModel",
            "state": {}
          },
          "970b0cffb9124eeda952fd1c710d2304": {
            "model_module": "@jupyter-widgets/base",
            "model_module_version": "2.0.0",
            "model_name": "LayoutModel",
            "state": {
              "width": "90%"
            }
          },
          "ad951f1f80dd4d0c9e660d5c0c7f354a": {
            "model_module": "@jupyter-widgets/controls",
            "model_module_version": "2.0.0",
            "model_name": "TextModel",
            "state": {
              "description": "Customer ID: ",
              "layout": "IPY_MODEL_12a9b76224f443f69ec29bf3bff1b607",
              "style": "IPY_MODEL_903c8cec92c64d8a8006df849be41d9e"
            }
          },
          "580195dfd5214076bfcdca0d10783c4c": {
            "model_module": "@jupyter-widgets/controls",
            "model_module_version": "2.0.0",
            "model_name": "ButtonModel",
            "state": {
              "description": "Start archiving",
              "layout": "IPY_MODEL_24516f2e7a3941789ff4a67b1f8f3a9f",
              "style": "IPY_MODEL_fe903c22cd7d485a9d365720764bc113",
              "tooltip": null
            }
          },
          "7e6b72f3b183455abbf347d34a52ed24": {
            "model_module": "@jupyter-widgets/controls",
            "model_module_version": "2.0.0",
            "model_name": "CheckboxModel",
            "state": {
              "description": "Allow overwrite",
              "disabled": false,
              "layout": "IPY_MODEL_412e734bc18c475096bddbe76cac4bc4",
              "style": "IPY_MODEL_5a73af32626040cdaf7057533353521f",
              "value": false
            }
          },
          "606e3f441aa444d5beee3af14e705e96": {
            "model_module": "@jupyter-widgets/controls",
            "model_module_version": "2.0.0",
            "model_name": "IntTextModel",
            "state": {
              "description": "Skip rows",
              "layout": "IPY_MODEL_7a8bae809dfc4a86b18e0ec04c538f74",
              "step": 1,
              "style": "IPY_MODEL_d54e7a3313a54697bcebd0c2beca679a"
            }
          },
          "1765ffb77d4b4f298e84fcf422a40b95": {
            "model_module": "@jupyter-widgets/controls",
            "model_module_version": "2.0.0",
            "model_name": "PasswordModel",
            "state": {
              "description": "Password: ",
              "layout": "IPY_MODEL_7e3cda892b7b497ca51dfdad57e55a19",
              "style": "IPY_MODEL_5b59378f994f4370b13de4a0636fc255"
            }
          },
          "b1173483aa6341ffa757046f78008a57": {
            "model_module": "@jupyter-widgets/controls",
            "model_module_version": "2.0.0",
            "model_name": "TextModel",
            "state": {
              "description": "Output Path",
              "layout": "IPY_MODEL_84190f1eff624f549c63894c01a069f2",
              "style": "IPY_MODEL_6e202d81b5fd4455a58f24dcfed50489"
            }
          },
          "d561ab5b4cfc4608809e76ea9f703d74": {
            "model_module": "@jupyter-widgets/base",
            "model_module_version": "2.0.0",
            "model_name": "LayoutModel",
            "state": {
              "width": "90%"
            }
          },
          "103e19604e4e4549a3c04a0c726c35cb": {
            "model_module": "@jupyter-widgets/controls",
            "model_module_version": "2.0.0",
            "model_name": "HBoxModel",
            "state": {
              "children": [
                "IPY_MODEL_e2da386e7b49477b91da97f557eadbf6",
                "IPY_MODEL_4ea4d1687b6a4f188986c1f5546807e5"
              ],
              "layout": "IPY_MODEL_85dd58af81e14313819958461d9e13ad"
            }
          },
          "655caeedff39450bbb6b865b59f0c525": {
            "model_module": "@jupyter-widgets/controls",
            "model_module_version": "2.0.0",
            "model_name": "CheckboxModel",
            "state": {
              "description": "Allow overwrite",
              "disabled": false,
              "layout": "IPY_MODEL_5ec1fecee2ae46f1a549b28cfff61f09",
              "style": "IPY_MODEL_8813b2d7205c4067ae04c06d64f9cb12",
              "value": false
            }
          },
          "8101421f2d1b45ca897f64d20407f630": {
            "model_module": "@jupyter-widgets/controls",
            "model_module_version": "2.0.0",
            "model_name": "DescriptionStyleModel",
            "state": {
              "description_width": ""
            }
          },
          "8973602634fc4959a1f27471c739cf4e": {
            "model_module": "@jupyter-widgets/controls",
            "model_module_version": "2.0.0",
            "model_name": "DescriptionStyleModel",
            "state": {
              "description_width": ""
            }
          },
          "19033f23ad1c40eea7794434d1e45586": {
            "model_module": "@jupyter-widgets/base",
            "model_module_version": "2.0.0",
            "model_name": "LayoutModel",
            "state": {}
          },
          "800cf7cf192343b18376761606e4fe61": {
            "model_module": "@jupyter-widgets/controls",
            "model_module_version": "2.0.0",
            "model_name": "CheckboxStyleModel",
            "state": {
              "description_width": ""
            }
          },
          "93a2e469dfed4d58bab4475540e41e43": {
            "model_module": "@jupyter-widgets/controls",
            "model_module_version": "2.0.0",
            "model_name": "CheckboxStyleModel",
            "state": {
              "description_width": ""
            }
          },
          "8a7faffc3f37435bb9515ff0035dde05": {
            "model_module": "@jupyter-widgets/base",
            "model_module_version": "2.0.0",
            "model_name": "LayoutModel",
            "state": {}
          },
          "f2de33adb5c441989d0e209b574b4aa0": {
            "model_module": "@jupyter-widgets/controls",
            "model_module_version": "2.0.0",
            "model_name": "CheckboxStyleModel",
            "state": {
              "description_width": ""
            }
          },
          "2e16efd980874d40b1d1e690ae81036d": {
            "model_module": "@jupyter-widgets/controls",
            "model_module_version": "2.0.0",
            "model_name": "CheckboxModel",
            "state": {
              "description": "Don't split in batches",
              "disabled": false,
              "layout": "IPY_MODEL_f149ab0c58f84e19bea87c70e1cb4608",
              "style": "IPY_MODEL_fd623ab77f2d4f1b8d14439d171afc20",
              "value": false
            }
          },
          "72a6afb73f9c46d480d06cc254fc3bdd": {
            "model_module": "@jupyter-widgets/output",
            "model_module_version": "1.0.0",
            "model_name": "OutputModel",
            "state": {
              "layout": "IPY_MODEL_be76fceb38064e6d9a0dd2a6b13baf53"
            }
          },
          "7db45cc0a6e14cbcbb73878fd5837d90": {
            "model_module": "@jupyter-widgets/controls",
            "model_module_version": "2.0.0",
            "model_name": "HTMLModel",
            "state": {
              "layout": "IPY_MODEL_cdceb2443765439b9f6833e18eedb266",
              "style": "IPY_MODEL_fbc87bd59ae2492db05d6b37c1be8854",
              "value": "Fee Sheet: 100%"
            }
          },
          "de234b14fb5e4963ab9ae8fdd50d66ae": {
            "model_module": "@jupyter-widgets/base",
            "model_module_version": "2.0.0",
            "model_name": "LayoutModel",
            "state": {}
          },
          "612e7765760948c898e870a488290809": {
            "model_module": "@jupyter-widgets/controls",
            "model_module_version": "2.0.0",
            "model_name": "ButtonModel",
            "state": {
              "description": "Start archiving",
              "layout": "IPY_MODEL_7aec20f5f65c4719b1768ebbab27a79e",
              "style": "IPY_MODEL_7e47ba2f0acb41ddbff10cfb4c7d6f46",
              "tooltip": null
            }
          },
          "d991a0762d5141ef90fb1cd1b0c4de6a": {
            "model_module": "@jupyter-widgets/controls",
            "model_module_version": "2.0.0",
            "model_name": "TextStyleModel",
            "state": {
              "description_width": "",
              "font_size": null,
              "text_color": null
            }
          },
          "909d1eeeff124cdaa5f0a0f13d8ec2fb": {
            "model_module": "@jupyter-widgets/controls",
            "model_module_version": "2.0.0",
            "model_name": "CheckboxStyleModel",
            "state": {
              "description_width": ""
            }
          },
          "ca0591a000644af7b942cf16f300b589": {
            "model_module": "@jupyter-widgets/base",
            "model_module_version": "2.0.0",
            "model_name": "LayoutModel",
            "state": {}
          },
          "de26c52c0957413cb0b19ba478f27be8": {
            "model_module": "@jupyter-widgets/base",
            "model_module_version": "2.0.0",
            "model_name": "LayoutModel",
            "state": {}
          },
          "9f9c048e183243e88e36e3869639ce58": {
            "model_module": "@jupyter-widgets/controls",
            "model_module_version": "2.0.0",
            "model_name": "DescriptionStyleModel",
            "state": {
              "description_width": ""
            }
          },
          "9cd16e12498b4c6f9290b5e958fea788": {
            "model_module": "@jupyter-widgets/controls",
            "model_module_version": "2.0.0",
            "model_name": "HTMLStyleModel",
            "state": {
              "description_width": "",
              "font_size": null,
              "text_color": null
            }
          },
          "9a8065773fe94c95b4e7eee11ee5e35f": {
            "model_module": "@jupyter-widgets/base",
            "model_module_version": "2.0.0",
            "model_name": "LayoutModel",
            "state": {}
          },
          "476c266e0d2048cfaac558dea5d3c1cd": {
            "model_module": "@jupyter-widgets/controls",
            "model_module_version": "2.0.0",
            "model_name": "CheckboxModel",
            "state": {
              "description": "Remove duplicates",
              "disabled": false,
              "layout": "IPY_MODEL_9ceaa9e4cef64ab58b2ac8de81749f7e",
              "style": "IPY_MODEL_c3faeab0e8004759b63eb87e7f288166",
              "value": false
            }
          },
          "60bbf7498e354bc185db7c1abb6f5414": {
            "model_module": "@jupyter-widgets/controls",
            "model_module_version": "2.0.0",
            "model_name": "ButtonStyleModel",
            "state": {
              "font_family": null,
              "font_size": null,
              "font_style": null,
              "font_variant": null,
              "font_weight": null,
              "text_color": null,
              "text_decoration": null
            }
          },
          "6e57696183d3455d8392ad25ff4ffe5e": {
            "model_module": "@jupyter-widgets/controls",
            "model_module_version": "2.0.0",
            "model_name": "TextModel",
            "state": {
              "description": "Customer ID: ",
              "layout": "IPY_MODEL_85b21f074862440b977ef1b2b5277089",
              "style": "IPY_MODEL_67bbefc1cb8e4ce2af6e604580f47012"
            }
          },
          "f6f1fcaf0f6d48668ead33b9390eeb33": {
            "model_module": "@jupyter-widgets/base",
            "model_module_version": "2.0.0",
            "model_name": "LayoutModel",
            "state": {
              "width": "90%"
            }
          },
          "0c6ad6f66e0f425b8c2a23bc8a4a14ed": {
            "model_module": "@jupyter-widgets/base",
            "model_module_version": "2.0.0",
            "model_name": "LayoutModel",
            "state": {
              "width": "90%"
            }
          },
          "3f2a9c2bedcb4c72ade0abdf93880a04": {
            "model_module": "@jupyter-widgets/base",
            "model_module_version": "2.0.0",
            "model_name": "LayoutModel",
            "state": {
              "width": "90%"
            }
          },
          "c1168c6dec874823a2a59d0387d89eae": {
            "model_module": "@jupyter-widgets/base",
            "model_module_version": "2.0.0",
            "model_name": "LayoutModel",
            "state": {}
          },
          "41765e8e89a24a09be906cacb4131843": {
            "model_module": "@jupyter-widgets/base",
            "model_module_version": "2.0.0",
            "model_name": "LayoutModel",
            "state": {}
          },
          "b6ebf4b389b64a3abb80aa08e1025f27": {
            "model_module": "@jupyter-widgets/base",
            "model_module_version": "2.0.0",
            "model_name": "LayoutModel",
            "state": {}
          },
          "e7405d9be0cc4a7ab6e6d309d21b3773": {
            "model_module": "@jupyter-widgets/controls",
            "model_module_version": "2.0.0",
            "model_name": "ButtonModel",
            "state": {
              "description": "Start archiving",
              "layout": "IPY_MODEL_1e0ed4fc68234564afdc22f77f5c831e",
              "style": "IPY_MODEL_490c44a891c6419e878cb9bc5455e586",
              "tooltip": null
            }
          },
          "4cfa46ae2da441b0b01284904daeb1dc": {
            "model_module": "@jupyter-widgets/base",
            "model_module_version": "2.0.0",
            "model_name": "LayoutModel",
            "state": {}
          },
          "71ec87a0e2a84d45b2cd2adbf6fdf2b3": {
            "model_module": "@jupyter-widgets/controls",
            "model_module_version": "2.0.0",
            "model_name": "CheckboxStyleModel",
            "state": {
              "description_width": ""
            }
          },
          "9ff43c9e20bc4a7c9e45decd8b60abcd": {
            "model_module": "@jupyter-widgets/controls",
            "model_module_version": "2.0.0",
            "model_name": "TextStyleModel",
            "state": {
              "description_width": "",
              "font_size": null,
              "text_color": null
            }
          },
          "01322ffc8ff547879c8b46f2ca8800d8": {
            "model_module": "@jupyter-widgets/base",
            "model_module_version": "2.0.0",
            "model_name": "LayoutModel",
            "state": {
              "width": "40%"
            }
          },
          "12a9b76224f443f69ec29bf3bff1b607": {
            "model_module": "@jupyter-widgets/base",
            "model_module_version": "2.0.0",
            "model_name": "LayoutModel",
            "state": {}
          },
          "a34caf53294b4bb8b2cf83d7dfc40f41": {
            "model_module": "@jupyter-widgets/base",
            "model_module_version": "2.0.0",
            "model_name": "LayoutModel",
            "state": {}
          },
          "c392b9c2701d4c8d8086a9d4b69f553b": {
            "model_module": "@jupyter-widgets/controls",
            "model_module_version": "2.0.0",
            "model_name": "IntTextModel",
            "state": {
              "description": "Max count:",
              "layout": "IPY_MODEL_b6ebf4b389b64a3abb80aa08e1025f27",
              "step": 1,
              "style": "IPY_MODEL_47706a9d817e499bba9f426bc99e9085"
            }
          },
          "2e84fe57c7734a73a46cccc2572b0d06": {
            "model_module": "@jupyter-widgets/base",
            "model_module_version": "2.0.0",
            "model_name": "LayoutModel",
            "state": {}
          },
          "d8e25351d0304cb58c80e3ec179c4e5c": {
            "model_module": "@jupyter-widgets/base",
            "model_module_version": "2.0.0",
            "model_name": "LayoutModel",
            "state": {}
          },
          "23bf788127174adba67ccca6e758b2b6": {
            "model_module": "@jupyter-widgets/controls",
            "model_module_version": "2.0.0",
            "model_name": "TextModel",
            "state": {
              "description": "Input Path",
              "layout": "IPY_MODEL_2d2ca460966d4c9f909b1b2ef42d59f2",
              "style": "IPY_MODEL_17b894bf55514a33946b58f5a72ae9db",
              "tooltip": "Path to input directory or archive"
            }
          },
          "adebfb92d93d4f3596a1f766af2de6d3": {
            "model_module": "@jupyter-widgets/controls",
            "model_module_version": "2.0.0",
            "model_name": "ButtonModel",
            "state": {
              "description": "Read more",
              "layout": "IPY_MODEL_cffb63d223c14669bb322cd576df6702",
              "style": "IPY_MODEL_d8cd5fb6ae00486f9a126ac2c26617ea",
              "tooltip": null
            }
          },
          "6baf68e6a16645389340158ff3c58759": {
            "model_module": "@jupyter-widgets/controls",
            "model_module_version": "2.0.0",
            "model_name": "ButtonModel",
            "state": {
              "description": "Start export",
              "layout": "IPY_MODEL_78b74025834245e29c92bc48ae922c52",
              "style": "IPY_MODEL_c38046e4ec05492e9dc2dc5b50f8e246",
              "tooltip": null
            }
          },
          "9cc8bbcd1c5d4b8992b1af4ab9a1c556": {
            "model_module": "@jupyter-widgets/controls",
            "model_module_version": "2.0.0",
            "model_name": "ButtonModel",
            "state": {
              "description": "Login",
              "layout": "IPY_MODEL_fc84c96233264efcaff68af58c6bf388",
              "style": "IPY_MODEL_060d054d8811496ab72d8d25697a74a8",
              "tooltip": null
            }
          },
          "97f4c4b749fc4e6c83e554f1077ea50d": {
            "model_module": "@jupyter-widgets/base",
            "model_module_version": "2.0.0",
            "model_name": "LayoutModel",
            "state": {
              "width": "90%"
            }
          },
          "2bd5ed5935b44053b4c3985f87d7def3": {
            "model_module": "@jupyter-widgets/controls",
            "model_module_version": "2.0.0",
            "model_name": "TextStyleModel",
            "state": {
              "description_width": "",
              "font_size": null,
              "text_color": null
            }
          },
          "91a39906bed1443fb0eddb932dcf62fa": {
            "model_module": "@jupyter-widgets/controls",
            "model_module_version": "2.0.0",
            "model_name": "TextModel",
            "state": {
              "description": "Customer ID: ",
              "layout": "IPY_MODEL_02f418d0b41742519f32c9b7b2917054",
              "style": "IPY_MODEL_06bbf559352a4554a15fd335daa8d1e3"
            }
          },
          "2eb929c62d1748a3a751e5027feff6b0": {
            "model_module": "@jupyter-widgets/base",
            "model_module_version": "2.0.0",
            "model_name": "LayoutModel",
            "state": {}
          },
          "f1643defe85f4fb7917d017ca6cfc6de": {
            "model_module": "@jupyter-widgets/base",
            "model_module_version": "2.0.0",
            "model_name": "LayoutModel",
            "state": {
              "width": "90%"
            }
          },
          "ea949fc55b5c4a3598e1907fe380205d": {
            "model_module": "@jupyter-widgets/base",
            "model_module_version": "2.0.0",
            "model_name": "LayoutModel",
            "state": {}
          },
          "9269030e4f074332bdd8059c52af87e8": {
            "model_module": "@jupyter-widgets/controls",
            "model_module_version": "2.0.0",
            "model_name": "CheckboxModel",
            "state": {
              "description": "Don't split in batches",
              "disabled": false,
              "layout": "IPY_MODEL_68a489fbb29942b79996e945c599c212",
              "style": "IPY_MODEL_ee1b2a85c4f24b1382a9e229fc57cbbd",
              "value": false
            }
          },
          "29200aa9df044228a386939466f15089": {
            "model_module": "@jupyter-widgets/base",
            "model_module_version": "2.0.0",
            "model_name": "LayoutModel",
            "state": {
              "width": "40%"
            }
          },
          "9a6f731f68e345a383f68fb8ed10f353": {
            "model_module": "@jupyter-widgets/controls",
            "model_module_version": "2.0.0",
            "model_name": "TextStyleModel",
            "state": {
              "description_width": "",
              "font_size": null,
              "text_color": null
            }
          },
          "af73a24af6a44421a0d7e17143f5e266": {
            "model_module": "@jupyter-widgets/controls",
            "model_module_version": "2.0.0",
            "model_name": "TextStyleModel",
            "state": {
              "description_width": "",
              "font_size": null,
              "text_color": null
            }
          },
          "80c18b4dbdd3497397d47fef33cae528": {
            "model_module": "@jupyter-widgets/controls",
            "model_module_version": "2.0.0",
            "model_name": "DescriptionStyleModel",
            "state": {
              "description_width": ""
            }
          },
          "10860fb6694648d28b774049ea3e52a1": {
            "model_module": "@jupyter-widgets/controls",
            "model_module_version": "2.0.0",
            "model_name": "IntTextModel",
            "state": {
              "description": "Set max count",
              "layout": "IPY_MODEL_4c235cfd3b2e49eb8e2a8d45bdb905d6",
              "step": 1,
              "style": "IPY_MODEL_c4531a1830344770aa2abc23b6490406"
            }
          },
          "eccb421eef864d26a4bf1cb6a9dd91b7": {
            "model_module": "@jupyter-widgets/controls",
            "model_module_version": "2.0.0",
            "model_name": "IntTextModel",
            "state": {
              "description": "Max count:",
              "layout": "IPY_MODEL_44a3347b7ddf4540963944818679e37f",
              "step": 1,
              "style": "IPY_MODEL_5d4c4b7481dd4e8f9dfa0780238813c5"
            }
          },
          "465b00468a3746a79da47d8482a113fa": {
            "model_module": "@jupyter-widgets/controls",
            "model_module_version": "2.0.0",
            "model_name": "TextStyleModel",
            "state": {
              "description_width": "",
              "font_size": null,
              "text_color": null
            }
          },
          "33c36d0d375d497faa5cdbd41a4e679f": {
            "model_module": "@jupyter-widgets/controls",
            "model_module_version": "2.0.0",
            "model_name": "CheckboxStyleModel",
            "state": {
              "description_width": ""
            }
          },
          "09572c75cba04c93982199734af122cd": {
            "model_module": "@jupyter-widgets/controls",
            "model_module_version": "2.0.0",
            "model_name": "TextModel",
            "state": {
              "description": "Input Path:",
              "layout": "IPY_MODEL_7ac652485d5544029afbd31119176020",
              "style": "IPY_MODEL_02bcd5e57cbe410595a3c7839ee50d49",
              "tooltip": "Path to query template spreadsheet (list of names, etc. to search)"
            }
          },
          "ec9a4dc6ac914b5c8e819d3d679a0d28": {
            "model_module": "@jupyter-widgets/base",
            "model_module_version": "2.0.0",
            "model_name": "LayoutModel",
            "state": {
              "width": "90%"
            }
          },
          "6334ef1d07dd462ab4a95e4051773825": {
            "model_module": "@jupyter-widgets/base",
            "model_module_version": "2.0.0",
            "model_name": "LayoutModel",
            "state": {}
          },
          "9878074aee2d4b27a4408b87b68d375d": {
            "model_module": "@jupyter-widgets/controls",
            "model_module_version": "2.0.0",
            "model_name": "TextStyleModel",
            "state": {
              "description_width": "",
              "font_size": null,
              "text_color": null
            }
          },
          "11cb78157f8b4e468fab5dcd240ed45c": {
            "model_module": "@jupyter-widgets/base",
            "model_module_version": "2.0.0",
            "model_name": "LayoutModel",
            "state": {}
          },
          "574bd0b1c94e4b32b0c745f7f6001079": {
            "model_module": "@jupyter-widgets/base",
            "model_module_version": "2.0.0",
            "model_name": "LayoutModel",
            "state": {}
          },
          "185188541c2d45c093b7a485c38ebdd6": {
            "model_module": "@jupyter-widgets/base",
            "model_module_version": "2.0.0",
            "model_name": "LayoutModel",
            "state": {}
          },
          "8b7c76d5956b4852999f5f185dd178d7": {
            "model_module": "@jupyter-widgets/controls",
            "model_module_version": "2.0.0",
            "model_name": "CheckboxStyleModel",
            "state": {
              "description_width": ""
            }
          },
          "9bb347d0fad14edf9f1c1b0426240cb5": {
            "model_module": "@jupyter-widgets/controls",
            "model_module_version": "2.0.0",
            "model_name": "CheckboxStyleModel",
            "state": {
              "description_width": ""
            }
          },
          "25242abecf6846148ccfaed708b976bb": {
            "model_module": "@jupyter-widgets/controls",
            "model_module_version": "2.0.0",
            "model_name": "CheckboxModel",
            "state": {
              "description": "Allow overwrite",
              "disabled": false,
              "layout": "IPY_MODEL_0bac68a243c0466f8fcb2eae951e18c7",
              "style": "IPY_MODEL_f8b897a8bb4a4d54a5fc3c016f84634b",
              "value": false
            }
          },
          "24c0f0d31e024a178cbf4a699848b201": {
            "model_module": "@jupyter-widgets/controls",
            "model_module_version": "2.0.0",
            "model_name": "DropdownModel",
            "state": {
              "_options_labels": [
                "cases",
                "charges",
                "disposition",
                "filing",
                "fees"
              ],
              "description": "Table:",
              "index": 0,
              "layout": "IPY_MODEL_e1369e64bac74b50ae9fc45f259ccc2b",
              "style": "IPY_MODEL_3f29e3d0c440458291ebcd316c4a9600"
            }
          },
          "39e18ab447314759bf75425678e3d03f": {
            "model_module": "@jupyter-widgets/controls",
            "model_module_version": "2.0.0",
            "model_name": "CheckboxModel",
            "state": {
              "description": "ZIP export (must be .json, .csv)",
              "disabled": false,
              "layout": "IPY_MODEL_81df27d2fdee409db1080bd131a6f161",
              "style": "IPY_MODEL_d787a00234f64f6d8695ba5c299e551a",
              "value": false
            }
          },
          "26e8fce88d30416eb1ad794b39251c8c": {
            "model_module": "@jupyter-widgets/controls",
            "model_module_version": "2.0.0",
            "model_name": "TextModel",
            "state": {
              "description": "Input Path",
              "layout": "IPY_MODEL_5ed21c19d68f4c29a34b883e1c77a608",
              "style": "IPY_MODEL_b25bc26e73a64644adbfa8ab8bfa6d7c",
              "tooltip": "Path to input directory or archive"
            }
          },
          "21cc3906e33549ea81dfdb8d2cd7c6d0": {
            "model_module": "@jupyter-widgets/base",
            "model_module_version": "2.0.0",
            "model_name": "LayoutModel",
            "state": {
              "width": "95%"
            }
          },
          "658363424bde4cee976b138db8ad55ff": {
            "model_module": "@jupyter-widgets/controls",
            "model_module_version": "2.0.0",
            "model_name": "PasswordModel",
            "state": {
              "description": "Password: ",
              "layout": "IPY_MODEL_1b7b80d4c76e4096b7fb843a18251daa",
              "style": "IPY_MODEL_0d2b7076befa403c9971fc709c74dec4"
            }
          },
          "b31ac36ee886476f89185040f4f41b0d": {
            "model_module": "@jupyter-widgets/base",
            "model_module_version": "2.0.0",
            "model_name": "LayoutModel",
            "state": {}
          },
          "ef5137312e9949bebbbc64dcb0e2595b": {
            "model_module": "@jupyter-widgets/controls",
            "model_module_version": "2.0.0",
            "model_name": "DescriptionStyleModel",
            "state": {
              "description_width": ""
            }
          },
          "5a30a9fc4f9f412287a44e109aca24ff": {
            "model_module": "@jupyter-widgets/controls",
            "model_module_version": "2.0.0",
            "model_name": "CheckboxModel",
            "state": {
              "description": "Allow overwrite",
              "disabled": false,
              "layout": "IPY_MODEL_280907340c4643868f4ba829d04c20f6",
              "style": "IPY_MODEL_80684d40bbb2494496ad9acee3ebc352",
              "value": false
            }
          },
          "28758bfa0f894f1387103599698385b7": {
            "model_module": "@jupyter-widgets/base",
            "model_module_version": "2.0.0",
            "model_name": "LayoutModel",
            "state": {}
          },
          "a201630d55f048d3ac54162497b71fc7": {
            "model_module": "@jupyter-widgets/controls",
            "model_module_version": "2.0.0",
            "model_name": "ButtonStyleModel",
            "state": {
              "font_family": null,
              "font_size": null,
              "font_style": null,
              "font_variant": null,
              "font_weight": null,
              "text_color": null,
              "text_decoration": null
            }
          },
          "a1f82f6839e8459fa1786c8dc9a0110f": {
            "model_module": "@jupyter-widgets/base",
            "model_module_version": "2.0.0",
            "model_name": "LayoutModel",
            "state": {}
          },
          "cf530aee5f974bbca4ee0bd83a7c89ee": {
            "model_module": "@jupyter-widgets/base",
            "model_module_version": "2.0.0",
            "model_name": "LayoutModel",
            "state": {}
          },
          "b52600a4e2bd4979bb1262fde730f2b0": {
            "model_module": "@jupyter-widgets/controls",
            "model_module_version": "2.0.0",
            "model_name": "HBoxModel",
            "state": {
              "children": [
                "IPY_MODEL_8d5102e584d846ed911d6ec9614cbe1d",
                "IPY_MODEL_db3df258a0124590996b22a1680c149e",
                "IPY_MODEL_a140baa8e6bc451a879bfdd6589975b0"
              ],
              "layout": "IPY_MODEL_626bb6bdedbb4b0996456f25c0d19df4"
            }
          },
          "34848b07e1ba41efa1a89f5fffa07165": {
            "model_module": "@jupyter-widgets/controls",
            "model_module_version": "2.0.0",
            "model_name": "ButtonStyleModel",
            "state": {
              "font_family": null,
              "font_size": null,
              "font_style": null,
              "font_variant": null,
              "font_weight": null,
              "text_color": null,
              "text_decoration": null
            }
          },
          "0eedf9eda1bd4150a7dc12ffd47a7627": {
            "model_module": "@jupyter-widgets/controls",
            "model_module_version": "2.0.0",
            "model_name": "DescriptionStyleModel",
            "state": {
              "description_width": ""
            }
          },
          "123ddf5d08ae41c6b9494cdce959cf88": {
            "model_module": "@jupyter-widgets/controls",
            "model_module_version": "2.0.0",
            "model_name": "ButtonStyleModel",
            "state": {
              "font_family": null,
              "font_size": null,
              "font_style": null,
              "font_variant": null,
              "font_weight": null,
              "text_color": null,
              "text_decoration": null
            }
          },
          "8cd5337edacd4c61a64ce0708157d399": {
            "model_module": "@jupyter-widgets/controls",
            "model_module_version": "2.0.0",
            "model_name": "DropdownModel",
            "state": {
              "_options_labels": [
                "cases",
                "charges",
                "disposition",
                "filing",
                "fees"
              ],
              "description": "Table:",
              "index": 0,
              "layout": "IPY_MODEL_39d6521d424646e5b36c1449c30d9659",
              "style": "IPY_MODEL_67180359cb0f447597f604cde79539a2"
            }
          },
          "050f763ffa434e409e3bbadb023ea73b": {
            "model_module": "@jupyter-widgets/controls",
            "model_module_version": "2.0.0",
            "model_name": "TextModel",
            "state": {
              "description": "Input Path",
              "layout": "IPY_MODEL_283ca0d5f0f4428d88ab510916ac6d06",
              "style": "IPY_MODEL_b1f6358514cc48bb93b4ea64d8e90f56",
              "tooltip": "Path to input directory or archive"
            }
          },
          "6b665f2f98994efbb5140ef28218035b": {
            "model_module": "@jupyter-widgets/controls",
            "model_module_version": "2.0.0",
            "model_name": "TextModel",
            "state": {
              "description": "Input Path",
              "layout": "IPY_MODEL_5e245574c95c440786261401b41e0454",
              "style": "IPY_MODEL_ac8833e396ec4eb3b219484113cc2b2f",
              "tooltip": "Path to PDF directory"
            }
          },
          "e2d644bb8d524f939ee33312e0338a02": {
            "model_module": "@jupyter-widgets/controls",
            "model_module_version": "2.0.0",
            "model_name": "TextStyleModel",
            "state": {
              "description_width": "",
              "font_size": null,
              "text_color": null
            }
          },
          "6e9bb80f5b5b4493add772b670993efc": {
            "model_module": "@jupyter-widgets/base",
            "model_module_version": "2.0.0",
            "model_name": "LayoutModel",
            "state": {}
          },
          "e1369e64bac74b50ae9fc45f259ccc2b": {
            "model_module": "@jupyter-widgets/base",
            "model_module_version": "2.0.0",
            "model_name": "LayoutModel",
            "state": {}
          },
          "ff73d5feba7d4302a98e97c493d64aed": {
            "model_module": "@jupyter-widgets/controls",
            "model_module_version": "2.0.0",
            "model_name": "HTMLStyleModel",
            "state": {
              "description_width": "",
              "font_size": null,
              "text_color": null
            }
          },
          "a77aef8aa27b4133b92b78cda2f5c0e1": {
            "model_module": "@jupyter-widgets/base",
            "model_module_version": "2.0.0",
            "model_name": "LayoutModel",
            "state": {}
          },
          "c2127d44dc594fd5b1630f21ec43e92b": {
            "model_module": "@jupyter-widgets/base",
            "model_module_version": "2.0.0",
            "model_name": "LayoutModel",
            "state": {}
          },
          "63e4ea79e89d4eca9bea19b4c6649ba6": {
            "model_module": "@jupyter-widgets/controls",
            "model_module_version": "2.0.0",
            "model_name": "ButtonStyleModel",
            "state": {
              "font_family": null,
              "font_size": null,
              "font_style": null,
              "font_variant": null,
              "font_weight": null,
              "text_color": null,
              "text_decoration": null
            }
          },
          "28e7ade30d474fd8a03a7c6a4c1a70b5": {
            "model_module": "@jupyter-widgets/controls",
            "model_module_version": "2.0.0",
            "model_name": "CheckboxStyleModel",
            "state": {
              "description_width": ""
            }
          },
          "b7edcfcc66594113af1fb3ba79b446e0": {
            "model_module": "@jupyter-widgets/controls",
            "model_module_version": "2.0.0",
            "model_name": "HBoxModel",
            "state": {
              "children": [
                "IPY_MODEL_0f9c05f154c8491991a6622216cca0c5",
                "IPY_MODEL_2bef6aa538674ef099214d6caf4fd8f0",
                "IPY_MODEL_b3f11206d94c4e4aa414397008a150b2"
              ],
              "layout": "IPY_MODEL_fa4e8041c68e444f856e5d870e17af95"
            }
          },
          "8fec93972b294254b94f814542ff536d": {
            "model_module": "@jupyter-widgets/controls",
            "model_module_version": "2.0.0",
            "model_name": "TextStyleModel",
            "state": {
              "description_width": "",
              "font_size": null,
              "text_color": null
            }
          },
          "eac2a65aa46e40a7978b160d0b6bc7d6": {
            "model_module": "@jupyter-widgets/controls",
            "model_module_version": "2.0.0",
            "model_name": "DescriptionStyleModel",
            "state": {
              "description_width": ""
            }
          },
          "7b5e95a182294013bde9e56d89946e44": {
            "model_module": "@jupyter-widgets/base",
            "model_module_version": "2.0.0",
            "model_name": "LayoutModel",
            "state": {
              "width": "90%"
            }
          },
          "e2a878cda8a64632b4704586ebbdc5a8": {
            "model_module": "@jupyter-widgets/controls",
            "model_module_version": "2.0.0",
            "model_name": "TextModel",
            "state": {
              "description": "User ID: ",
              "layout": "IPY_MODEL_02ace20346c448a18f811472efdb0ab8",
              "style": "IPY_MODEL_a1df7e30a51f44f98eed8cd4d0ed3687"
            }
          },
          "ef95b0a7910445a18d4dca69d9e9bd3b": {
            "model_module": "@jupyter-widgets/controls",
            "model_module_version": "2.0.0",
            "model_name": "DescriptionStyleModel",
            "state": {
              "description_width": ""
            }
          },
          "568db456bac545938c8cffbb453784bd": {
            "model_module": "@jupyter-widgets/controls",
            "model_module_version": "2.0.0",
            "model_name": "DescriptionStyleModel",
            "state": {
              "description_width": ""
            }
          },
          "193093bd3c5940c99ee22cc4e6bec882": {
            "model_module": "@jupyter-widgets/controls",
            "model_module_version": "2.0.0",
            "model_name": "TextModel",
            "state": {
              "description": "Output Path:",
              "layout": "IPY_MODEL_fe735f5555f54216b673b1bb740e67a8",
              "style": "IPY_MODEL_3144d34e0c1a4012b7fa7a50e135b28e"
            }
          },
          "6e8f49e31d02472fb5300d502095aa2b": {
            "model_module": "@jupyter-widgets/controls",
            "model_module_version": "2.0.0",
            "model_name": "ButtonStyleModel",
            "state": {
              "font_family": null,
              "font_size": null,
              "font_style": null,
              "font_variant": null,
              "font_weight": null,
              "text_color": null,
              "text_decoration": null
            }
          },
          "625ad43d24384d5bbe0848bc460c0a79": {
            "model_module": "@jupyter-widgets/base",
            "model_module_version": "2.0.0",
            "model_name": "LayoutModel",
            "state": {}
          },
          "c72662a239e34c449a9222311e88f011": {
            "model_module": "@jupyter-widgets/output",
            "model_module_version": "1.0.0",
            "model_name": "OutputModel",
            "state": {
              "layout": "IPY_MODEL_3dcfc4ee1bb342d9bbc1eac955b6df7c"
            }
          },
          "3fba00446a914e91a37e7f931d64768f": {
            "model_module": "@jupyter-widgets/controls",
            "model_module_version": "2.0.0",
            "model_name": "ButtonModel",
            "state": {
              "description": "Start archiving",
              "layout": "IPY_MODEL_7bfae608429b4fe5969bf602d8a532f8",
              "style": "IPY_MODEL_4634c5de202f487e9da9a7bc4558342c",
              "tooltip": null
            }
          },
          "d8775e5b7f734531af1e46dd62d96741": {
            "model_module": "@jupyter-widgets/base",
            "model_module_version": "2.0.0",
            "model_name": "LayoutModel",
            "state": {}
          },
          "1ecaf034ddb44ed6aa63b73ec6b717de": {
            "model_module": "@jupyter-widgets/controls",
            "model_module_version": "2.0.0",
            "model_name": "HBoxModel",
            "state": {
              "children": [
                "IPY_MODEL_ea1ff83d52044101bb6dc3e021033025",
                "IPY_MODEL_714639dac6a14772a65e2c7463ae1da1",
                "IPY_MODEL_56b24ff741084725ae6b0232a3314a03"
              ],
              "layout": "IPY_MODEL_216977d4ad0f48fcb9f5cbfbd6a8568c"
            }
          },
          "1ab60600fa774a868f8e0e5f7fff9bfb": {
            "model_module": "@jupyter-widgets/controls",
            "model_module_version": "2.0.0",
            "model_name": "TextModel",
            "state": {
              "description": "User ID: ",
              "layout": "IPY_MODEL_bf5b1e7b23084c4596bbac5457d5a846",
              "style": "IPY_MODEL_1f3d993cddf649e1b59a2005943768a7"
            }
          },
          "db2146cb5c7b4c76a2b2854654370a8d": {
            "model_module": "@jupyter-widgets/controls",
            "model_module_version": "2.0.0",
            "model_name": "HBoxModel",
            "state": {
              "children": [
                "IPY_MODEL_a5a9fc82e79842e0956429dd2f76cd75",
                "IPY_MODEL_5a30a9fc4f9f412287a44e109aca24ff"
              ],
              "layout": "IPY_MODEL_b591d9ae586a49b1a8fc508781ee95ea"
            }
          },
          "be3bb19393614b9dbb412c84cba4a3b0": {
            "model_module": "@jupyter-widgets/base",
            "model_module_version": "2.0.0",
            "model_name": "LayoutModel",
            "state": {
              "width": "95%"
            }
          },
          "4d5d62c0bde74d3a95ad0d779851e2e5": {
            "model_module": "@jupyter-widgets/controls",
            "model_module_version": "2.0.0",
            "model_name": "PasswordModel",
            "state": {
              "description": "Password: ",
              "layout": "IPY_MODEL_2d85c2192bfc453ab2a0050d4e04207d",
              "style": "IPY_MODEL_e2d644bb8d524f939ee33312e0338a02"
            }
          },
          "4b8782e00688495fa055f09a1304873d": {
            "model_module": "@jupyter-widgets/controls",
            "model_module_version": "2.0.0",
            "model_name": "TextStyleModel",
            "state": {
              "description_width": "",
              "font_size": null,
              "text_color": null
            }
          },
          "d868a55e9ce34f77b0e17d9a9c48e8c4": {
            "model_module": "@jupyter-widgets/base",
            "model_module_version": "2.0.0",
            "model_name": "LayoutModel",
            "state": {}
          },
          "ea0ed26e244c4649bc451a16f99f3b81": {
            "model_module": "@jupyter-widgets/base",
            "model_module_version": "2.0.0",
            "model_name": "LayoutModel",
            "state": {
              "width": "95%"
            }
          },
          "f6f1eaaf439e4c96adb7ed3641d0fc1c": {
            "model_module": "@jupyter-widgets/base",
            "model_module_version": "2.0.0",
            "model_name": "LayoutModel",
            "state": {}
          },
          "ae4f3d85087a4178a91958ab06a60d75": {
            "model_module": "@jupyter-widgets/controls",
            "model_module_version": "2.0.0",
            "model_name": "TextModel",
            "state": {
              "description": "Output Path",
              "layout": "IPY_MODEL_4a2f5f0095a34202b064acc8d368f08a",
              "style": "IPY_MODEL_3182458d7c9d4dce85de5f0ff76eccd4"
            }
          },
          "f6fcb60224f2467dbd442b1ab3b2dbae": {
            "model_module": "@jupyter-widgets/controls",
            "model_module_version": "2.0.0",
            "model_name": "HBoxModel",
            "state": {
              "children": [
                "IPY_MODEL_8ffbd3892a024d5cb2dfb15442eb373e",
                "IPY_MODEL_c76d3fa9599c4e0e9996e96aa6b7f581"
              ],
              "layout": "IPY_MODEL_0362cb8363db49f3a19a59de926eed16"
            }
          },
          "9d0231eba73349e58b0ae8876ae4318e": {
            "model_module": "@jupyter-widgets/base",
            "model_module_version": "2.0.0",
            "model_name": "LayoutModel",
            "state": {
              "width": "90%"
            }
          },
          "dafd74b0f984436794d926440371ee21": {
            "model_module": "@jupyter-widgets/controls",
            "model_module_version": "2.0.0",
            "model_name": "TextStyleModel",
            "state": {
              "description_width": "",
              "font_size": null,
              "text_color": null
            }
          },
          "e3f70dc400804ceab9e98c04fc3f46e7": {
            "model_module": "@jupyter-widgets/controls",
            "model_module_version": "2.0.0",
            "model_name": "HTMLModel",
            "state": {
              "layout": "IPY_MODEL_0614f0051a4344dea7828aa1fe91d7ee",
              "style": "IPY_MODEL_bbcb3e0b815a4e0eab3c7f9fc8f9c070",
              "value": " 199/199 [00:32&lt;00:00,  5.79it/s]"
            }
          },
          "120fad041f314f95804c3d51a6c8fcf1": {
            "model_module": "@jupyter-widgets/controls",
            "model_module_version": "2.0.0",
            "model_name": "ButtonModel",
            "state": {
              "description": "Read more",
              "layout": "IPY_MODEL_f565eaac0e144efc8ed4c539a8c031cc",
              "style": "IPY_MODEL_808f3cfd46a54dd1960076d440f20f8f",
              "tooltip": null
            }
          },
          "7023c3e82e0f478a86458293304eb488": {
            "model_module": "@jupyter-widgets/controls",
            "model_module_version": "2.0.0",
            "model_name": "DescriptionStyleModel",
            "state": {
              "description_width": ""
            }
          },
          "8f1bf633ffe04c0399b9967f91b27b25": {
            "model_module": "@jupyter-widgets/base",
            "model_module_version": "2.0.0",
            "model_name": "LayoutModel",
            "state": {}
          },
          "e8e3a7e6da674c46b4e7dcb03fcf0832": {
            "model_module": "@jupyter-widgets/controls",
            "model_module_version": "2.0.0",
            "model_name": "ButtonStyleModel",
            "state": {
              "font_family": null,
              "font_size": null,
              "font_style": null,
              "font_variant": null,
              "font_weight": null,
              "text_color": null,
              "text_decoration": null
            }
          },
          "6d0aaf90f4a348c983763a53b451e47d": {
            "model_module": "@jupyter-widgets/base",
            "model_module_version": "2.0.0",
            "model_name": "LayoutModel",
            "state": {}
          },
          "b591d9ae586a49b1a8fc508781ee95ea": {
            "model_module": "@jupyter-widgets/base",
            "model_module_version": "2.0.0",
            "model_name": "LayoutModel",
            "state": {}
          },
          "9a5df0e7a2a74c9d975f5a2453b8b02d": {
            "model_module": "@jupyter-widgets/base",
            "model_module_version": "2.0.0",
            "model_name": "LayoutModel",
            "state": {
              "width": "90%"
            }
          },
          "d5a3c3d7b36e4a75879aa962d051960d": {
            "model_module": "@jupyter-widgets/controls",
            "model_module_version": "2.0.0",
            "model_name": "TextModel",
            "state": {
              "description": "Output Path",
              "layout": "IPY_MODEL_0b9c76979ca84b95ae3a1f4d4a053940",
              "style": "IPY_MODEL_93f7568b6e5a431e952073b10197cf3a"
            }
          },
          "8d56cb4624124290a0b3ca13864c12c4": {
            "model_module": "@jupyter-widgets/controls",
            "model_module_version": "2.0.0",
            "model_name": "DescriptionStyleModel",
            "state": {
              "description_width": ""
            }
          },
          "71a06913e38d4c08b41abecd01019ab8": {
            "model_module": "@jupyter-widgets/controls",
            "model_module_version": "2.0.0",
            "model_name": "ButtonStyleModel",
            "state": {
              "font_family": null,
              "font_size": null,
              "font_style": null,
              "font_variant": null,
              "font_weight": null,
              "text_color": null,
              "text_decoration": null
            }
          },
          "6d5dfeddcbac4b63bbc5201857e26b8c": {
            "model_module": "@jupyter-widgets/controls",
            "model_module_version": "2.0.0",
            "model_name": "CheckboxStyleModel",
            "state": {
              "description_width": ""
            }
          },
          "ae7556eebc984b33888f14e259dde7aa": {
            "model_module": "@jupyter-widgets/controls",
            "model_module_version": "2.0.0",
            "model_name": "TextModel",
            "state": {
              "description": "Input Path",
              "layout": "IPY_MODEL_b1403d258b364d1b9fa456aee9d1f718",
              "style": "IPY_MODEL_254312427ee046429b1215dac9700daa",
              "tooltip": "Path to PDF directory"
            }
          },
          "130e253c26ef4abaaa78acbfa271281c": {
            "model_module": "@jupyter-widgets/controls",
            "model_module_version": "2.0.0",
            "model_name": "TextStyleModel",
            "state": {
              "description_width": "",
              "font_size": null,
              "text_color": null
            }
          },
          "c3e242c2047a43b4b874d70ca1a88ce6": {
            "model_module": "@jupyter-widgets/controls",
            "model_module_version": "2.0.0",
            "model_name": "HBoxModel",
            "state": {
              "children": [
                "IPY_MODEL_1ebe70c2e9d64cf8b46690d5d9a47ee7",
                "IPY_MODEL_606e3f441aa444d5beee3af14e705e96",
                "IPY_MODEL_c13af4f516a342e5a343c16901e170a5"
              ],
              "layout": "IPY_MODEL_5d002ed2785149509695d85462416940"
            }
          },
          "bd9c766c042a40fcb370958a1b67b3e4": {
            "model_module": "@jupyter-widgets/controls",
            "model_module_version": "2.0.0",
            "model_name": "TextModel",
            "state": {
              "description": "Output Path",
              "layout": "IPY_MODEL_ce9db225a2144440b1332175f883ad27",
              "style": "IPY_MODEL_e7103499aecf4e55b94a050f6874e140"
            }
          },
          "623642ee68bf48758251da08f729214b": {
            "model_module": "@jupyter-widgets/controls",
            "model_module_version": "2.0.0",
            "model_name": "TextModel",
            "state": {
              "description": "Input Path:",
              "layout": "IPY_MODEL_fa82c21237904b4b8d09e1783ca9c6fc",
              "style": "IPY_MODEL_455e7d25a2fe4b7c93d7ad29c9a67021",
              "tooltip": "Path to query template spreadsheet (list of names, etc. to search)"
            }
          },
          "1bb3e2a3920b48b88c44cb2aa9d98056": {
            "model_module": "@jupyter-widgets/controls",
            "model_module_version": "2.0.0",
            "model_name": "TextStyleModel",
            "state": {
              "description_width": "",
              "font_size": null,
              "text_color": null
            }
          },
          "ea7124a9fda2427cadbba95f730eb77a": {
            "model_module": "@jupyter-widgets/controls",
            "model_module_version": "2.0.0",
            "model_name": "HBoxModel",
            "state": {
              "children": [
                "IPY_MODEL_99ce0c4801c948c8a1472c42c6e266c1",
                "IPY_MODEL_d23ca90751544b63b536ab3471237a55",
                "IPY_MODEL_e2b0efd6049743f8a7313d9d5b4eaf93"
              ],
              "layout": "IPY_MODEL_54396d1a8dd64a1b97324246ed2f93f0"
            }
          },
          "80db4acc7f2a4b2a98898c23cbb4c690": {
            "model_module": "@jupyter-widgets/base",
            "model_module_version": "2.0.0",
            "model_name": "LayoutModel",
            "state": {}
          },
          "4dd4394d4d994efdae21d99a2664734f": {
            "model_module": "@jupyter-widgets/controls",
            "model_module_version": "2.0.0",
            "model_name": "TextModel",
            "state": {
              "description": "Input Path",
              "layout": "IPY_MODEL_97f4c4b749fc4e6c83e554f1077ea50d",
              "style": "IPY_MODEL_4b31214fb5ed4a648ad4d07e328d64e7",
              "tooltip": "Path to PDF directory"
            }
          },
          "39d6521d424646e5b36c1449c30d9659": {
            "model_module": "@jupyter-widgets/base",
            "model_module_version": "2.0.0",
            "model_name": "LayoutModel",
            "state": {}
          },
          "455e7d25a2fe4b7c93d7ad29c9a67021": {
            "model_module": "@jupyter-widgets/controls",
            "model_module_version": "2.0.0",
            "model_name": "TextStyleModel",
            "state": {
              "description_width": "",
              "font_size": null,
              "text_color": null
            }
          },
          "f1360295ce4c4ab9a31c70f1f75819aa": {
            "model_module": "@jupyter-widgets/controls",
            "model_module_version": "2.0.0",
            "model_name": "TextModel",
            "state": {
              "description": "Output Path",
              "layout": "IPY_MODEL_0943d19d498a4584a61f95d91de89014",
              "style": "IPY_MODEL_2168427a10f44370bd20afbc7d7bc486"
            }
          },
          "94c1c447804640d4bfdd91797528d63a": {
            "model_module": "@jupyter-widgets/controls",
            "model_module_version": "2.0.0",
            "model_name": "TextStyleModel",
            "state": {
              "description_width": "",
              "font_size": null,
              "text_color": null
            }
          },
          "d54e7a3313a54697bcebd0c2beca679a": {
            "model_module": "@jupyter-widgets/controls",
            "model_module_version": "2.0.0",
            "model_name": "DescriptionStyleModel",
            "state": {
              "description_width": ""
            }
          },
          "bfb62cf07156403aa0bbd6bbfb1bfe44": {
            "model_module": "@jupyter-widgets/base",
            "model_module_version": "2.0.0",
            "model_name": "LayoutModel",
            "state": {
              "width": "90%"
            }
          },
          "89641155dcd04df4bbd3a0011c690428": {
            "model_module": "@jupyter-widgets/controls",
            "model_module_version": "2.0.0",
            "model_name": "HBoxModel",
            "state": {
              "children": [
                "IPY_MODEL_ad3e3476064f41e78b55c30199f8dfcc",
                "IPY_MODEL_6604b9b9a358492d886b840c81e5e01e",
                "IPY_MODEL_0725122c06ea42238cb89eb253c23679"
              ],
              "layout": "IPY_MODEL_ea5acf8436214e3fa4d44e07b5b04590"
            }
          },
          "d55feafa282d44a3a856c5b6f502ccb6": {
            "model_module": "@jupyter-widgets/controls",
            "model_module_version": "2.0.0",
            "model_name": "CheckboxModel",
            "state": {
              "description": "Remove duplicates",
              "disabled": false,
              "layout": "IPY_MODEL_3afe7a0b715f48fa962ab0fe35d90825",
              "style": "IPY_MODEL_0d971ad803fc429ea6ccf0c13f330388",
              "value": false
            }
          },
          "167511dc72c14a2c9a48ce8ee01e87ae": {
            "model_module": "@jupyter-widgets/base",
            "model_module_version": "2.0.0",
            "model_name": "LayoutModel",
            "state": {}
          },
          "c504010d2ac9425e9e6099ec79ee6602": {
            "model_module": "@jupyter-widgets/base",
            "model_module_version": "2.0.0",
            "model_name": "LayoutModel",
            "state": {
              "width": "90%"
            }
          },
          "499e102a513f47fe9270656f6d09d14e": {
            "model_module": "@jupyter-widgets/controls",
            "model_module_version": "2.0.0",
            "model_name": "TextModel",
            "state": {
              "description": "Input Path",
              "layout": "IPY_MODEL_825cc112cdc546a1947ec0155451f096",
              "style": "IPY_MODEL_f73be3ca4d4b4dd2beb98ba9ff85c59a",
              "tooltip": "Path to PDF directory"
            }
          },
          "3c483ade415d48ecae5b93aebbdf8507": {
            "model_module": "@jupyter-widgets/controls",
            "model_module_version": "2.0.0",
            "model_name": "HBoxModel",
            "state": {
              "children": [
                "IPY_MODEL_2261e9b9ef8a4fc8a595cc1d54034e1c",
                "IPY_MODEL_24a1acf30b064ddb9f20931b4ae76cf7"
              ],
              "layout": "IPY_MODEL_c37c670746e34b49bf8f4cefc02a408b"
            }
          },
          "cdc1f3f6f369460980baf5b2ba64879f": {
            "model_module": "@jupyter-widgets/controls",
            "model_module_version": "2.0.0",
            "model_name": "DescriptionStyleModel",
            "state": {
              "description_width": ""
            }
          },
          "4c5bb758571744a1adced0eaed0d9cc3": {
            "model_module": "@jupyter-widgets/controls",
            "model_module_version": "2.0.0",
            "model_name": "IntTextModel",
            "state": {
              "description": "Max count:",
              "layout": "IPY_MODEL_135ee501300941ebb3e170aac8754d7b",
              "step": 1,
              "style": "IPY_MODEL_7023c3e82e0f478a86458293304eb488"
            }
          },
          "0cf351b096cb48009269c98f8c2c0880": {
            "model_module": "@jupyter-widgets/controls",
            "model_module_version": "2.0.0",
            "model_name": "PasswordModel",
            "state": {
              "description": "Password: ",
              "layout": "IPY_MODEL_c80f46ddec08424aa2f46089d63c3eef",
              "style": "IPY_MODEL_a8c5175144e9410285557ec8b26b4cf8"
            }
          },
          "02ace20346c448a18f811472efdb0ab8": {
            "model_module": "@jupyter-widgets/base",
            "model_module_version": "2.0.0",
            "model_name": "LayoutModel",
            "state": {}
          },
          "87fa6ff671814b8ea02949b03e2929b7": {
            "model_module": "@jupyter-widgets/base",
            "model_module_version": "2.0.0",
            "model_name": "LayoutModel",
            "state": {}
          },
          "2f6b678ff9cf4b709161858eed8e485b": {
            "model_module": "@jupyter-widgets/base",
            "model_module_version": "2.0.0",
            "model_name": "LayoutModel",
            "state": {}
          },
          "1afcbb76524e46b1a77a4e9a61217b41": {
            "model_module": "@jupyter-widgets/base",
            "model_module_version": "2.0.0",
            "model_name": "LayoutModel",
            "state": {
              "width": "90%"
            }
          },
          "d11fca8a873044f7b1165dbefbe4b58d": {
            "model_module": "@jupyter-widgets/controls",
            "model_module_version": "2.0.0",
            "model_name": "TextModel",
            "state": {
              "description": "Output Path",
              "layout": "IPY_MODEL_c67fce7d907f4343b406a2f3f6df077f",
              "style": "IPY_MODEL_34888225acb14ee984179aee70fe8326"
            }
          },
          "98eba11d4b5a462fb34a69f00e5759b3": {
            "model_module": "@jupyter-widgets/base",
            "model_module_version": "2.0.0",
            "model_name": "LayoutModel",
            "state": {
              "width": "40%"
            }
          },
          "d08651a6ae164acf9dd89aa858835182": {
            "model_module": "@jupyter-widgets/controls",
            "model_module_version": "2.0.0",
            "model_name": "ButtonModel",
            "state": {
              "description": "Start export",
              "layout": "IPY_MODEL_19394400bc884a3b985e56de293f4f42",
              "style": "IPY_MODEL_63e4ea79e89d4eca9bea19b4c6649ba6",
              "tooltip": null
            }
          },
          "a91d59eb831d4255916447284767b6a8": {
            "model_module": "@jupyter-widgets/base",
            "model_module_version": "2.0.0",
            "model_name": "LayoutModel",
            "state": {}
          },
          "f149ab0c58f84e19bea87c70e1cb4608": {
            "model_module": "@jupyter-widgets/base",
            "model_module_version": "2.0.0",
            "model_name": "LayoutModel",
            "state": {}
          },
          "c94c6f75710f4c318717a4e43d944458": {
            "model_module": "@jupyter-widgets/controls",
            "model_module_version": "2.0.0",
            "model_name": "TextStyleModel",
            "state": {
              "description_width": "",
              "font_size": null,
              "text_color": null
            }
          },
          "e985bec5013e4516998ca34985ca2b82": {
            "model_module": "@jupyter-widgets/controls",
            "model_module_version": "2.0.0",
            "model_name": "IntTextModel",
            "state": {
              "description": "Max count:",
              "layout": "IPY_MODEL_c3d09d8ff1b04e4fbdcb3f34778ea4ac",
              "step": 1,
              "style": "IPY_MODEL_b2fd86dc52364dc7962a0dce1366d9b8"
            }
          },
          "36b2c6b00f83401fb12628f1c6e969ac": {
            "model_module": "@jupyter-widgets/controls",
            "model_module_version": "2.0.0",
            "model_name": "CheckboxModel",
            "state": {
              "description": "Remove duplicates",
              "disabled": false,
              "layout": "IPY_MODEL_1366f65882894b9085246bc790eb95e7",
              "style": "IPY_MODEL_f2de33adb5c441989d0e209b574b4aa0",
              "value": false
            }
          },
          "9cad044469ee472e9c1c57cb0db084de": {
            "model_module": "@jupyter-widgets/controls",
            "model_module_version": "2.0.0",
            "model_name": "CheckboxStyleModel",
            "state": {
              "description_width": ""
            }
          },
          "8d0d3557d74048689131ae549063b13d": {
            "model_module": "@jupyter-widgets/controls",
            "model_module_version": "2.0.0",
            "model_name": "HBoxModel",
            "state": {
              "children": [
                "IPY_MODEL_a4760f0e5b8f4410afdd628e69bf3f67",
                "IPY_MODEL_e2b2b98aa8104a64ab45cec15b362b76"
              ],
              "layout": "IPY_MODEL_080fc159ec43433484a576ecc99b9705"
            }
          },
          "d3b1d7841a0447e2ac294b3f06377855": {
            "model_module": "@jupyter-widgets/controls",
            "model_module_version": "2.0.0",
            "model_name": "FloatTextModel",
            "state": {
              "description": "Speed",
              "layout": "IPY_MODEL_020988351c4b42acb7c3c93e765a34e0",
              "step": 0.1,
              "style": "IPY_MODEL_f60e442a757b46d6b8714b4c61c0ebbe",
              "value": 1
            }
          },
          "e62d04de1e25468189fcee63361ec1e1": {
            "model_module": "@jupyter-widgets/base",
            "model_module_version": "2.0.0",
            "model_name": "LayoutModel",
            "state": {}
          },
          "fb0a7a44a39449da85d5754858f7fe52": {
            "model_module": "@jupyter-widgets/controls",
            "model_module_version": "2.0.0",
            "model_name": "TextModel",
            "state": {
              "description": "User ID: ",
              "layout": "IPY_MODEL_95779ae6c3bf4e49a51a2c78fac97855",
              "style": "IPY_MODEL_a2aad50714c84a7d85d776d9ef0fec21"
            }
          },
          "e5f7ef031b5e48b0be5d511a765f43de": {
            "model_module": "@jupyter-widgets/controls",
            "model_module_version": "2.0.0",
            "model_name": "IntTextModel",
            "state": {
              "description": "Set max count",
              "layout": "IPY_MODEL_5949a844984e426ca665ff949802424f",
              "step": 1,
              "style": "IPY_MODEL_8973602634fc4959a1f27471c739cf4e"
            }
          },
          "48fbe42559ef4b84a37f58c7a3b2a1fa": {
            "model_module": "@jupyter-widgets/controls",
            "model_module_version": "2.0.0",
            "model_name": "CheckboxStyleModel",
            "state": {
              "description_width": ""
            }
          },
          "dd3ee2a3335942b3bb85cfa3a1ee0660": {
            "model_module": "@jupyter-widgets/controls",
            "model_module_version": "2.0.0",
            "model_name": "CheckboxStyleModel",
            "state": {
              "description_width": ""
            }
          },
          "628c7a75712c4224a74a55ebabd1d04f": {
            "model_module": "@jupyter-widgets/controls",
            "model_module_version": "2.0.0",
            "model_name": "TextModel",
            "state": {
              "description": "Output Path",
              "layout": "IPY_MODEL_12eda2dc24bc4dcd836277288044940b",
              "style": "IPY_MODEL_909f8d1dc4824927b160dcd03f376abb"
            }
          },
          "3499631fb6f04be8b0e3f31ea9d676f4": {
            "model_module": "@jupyter-widgets/controls",
            "model_module_version": "2.0.0",
            "model_name": "TextStyleModel",
            "state": {
              "description_width": "",
              "font_size": null,
              "text_color": null
            }
          },
          "9d24b2d20c6a4507a2a5e3afe470adb4": {
            "model_module": "@jupyter-widgets/base",
            "model_module_version": "2.0.0",
            "model_name": "LayoutModel",
            "state": {}
          },
          "d8cd5fb6ae00486f9a126ac2c26617ea": {
            "model_module": "@jupyter-widgets/controls",
            "model_module_version": "2.0.0",
            "model_name": "ButtonStyleModel",
            "state": {
              "font_family": null,
              "font_size": null,
              "font_style": null,
              "font_variant": null,
              "font_weight": null,
              "text_color": null,
              "text_decoration": null
            }
          },
          "0fc6a11bbaa748e2a31b07201608b01d": {
            "model_module": "@jupyter-widgets/controls",
            "model_module_version": "2.0.0",
            "model_name": "HBoxModel",
            "state": {
              "children": [
                "IPY_MODEL_673c3c336f934f22a5e68e42562d9ca9",
                "IPY_MODEL_d4239401fc8f4a8ea8b9a456ee1674ad",
                "IPY_MODEL_93d9c9d83e7747288ea44bcae5f8a153"
              ],
              "layout": "IPY_MODEL_dee34befa2214a14856bd8e0848264fe"
            }
          },
          "2e0f05ce713d45649dbfaab486425ecb": {
            "model_module": "@jupyter-widgets/controls",
            "model_module_version": "2.0.0",
            "model_name": "RadioButtonsModel",
            "state": {
              "_options_labels": [
                "cases",
                "charges",
                "disposition",
                "filing",
                "fees"
              ],
              "description": "Table:",
              "index": 0,
              "layout": "IPY_MODEL_4609282b0cbf4ef99cf67d647344063e",
              "style": "IPY_MODEL_b3f296f5034c4e589cafd1c8c8fa8e6c"
            }
          },
          "45cf72a511a74ca1b695484135a4a8bc": {
            "model_module": "@jupyter-widgets/controls",
            "model_module_version": "2.0.0",
            "model_name": "TextModel",
            "state": {
              "description": "Output Path",
              "layout": "IPY_MODEL_06851f92743f497496d504a68e68e308",
              "style": "IPY_MODEL_83a4dbe3a953462cb22491b4537e621d"
            }
          },
          "9feba4cdcf854df19a7347416cb87838": {
            "model_module": "@jupyter-widgets/controls",
            "model_module_version": "2.0.0",
            "model_name": "TextStyleModel",
            "state": {
              "description_width": "",
              "font_size": null,
              "text_color": null
            }
          },
          "db3df258a0124590996b22a1680c149e": {
            "model_module": "@jupyter-widgets/controls",
            "model_module_version": "2.0.0",
            "model_name": "CheckboxModel",
            "state": {
              "description": "Remove duplicates",
              "disabled": false,
              "layout": "IPY_MODEL_dd1a37e53aef45b6b48a072df001bd70",
              "style": "IPY_MODEL_df45c5888f4646c8868ac61b0909080d",
              "value": false
            }
          },
          "0f45a2e9945a4653b009faab12b58d1a": {
            "model_module": "@jupyter-widgets/controls",
            "model_module_version": "2.0.0",
            "model_name": "DescriptionStyleModel",
            "state": {
              "description_width": ""
            }
          },
          "9f49bfe955c141f58d81598c7413d7fb": {
            "model_module": "@jupyter-widgets/base",
            "model_module_version": "2.0.0",
            "model_name": "LayoutModel",
            "state": {
              "width": "90%"
            }
          },
          "f9ad0658baed4b54bc5a099ad7076ba9": {
            "model_module": "@jupyter-widgets/controls",
            "model_module_version": "2.0.0",
            "model_name": "TextModel",
            "state": {
              "description": "Customer ID: ",
              "layout": "IPY_MODEL_211c4e10b88f4dd18daadf9caf6e9386",
              "style": "IPY_MODEL_0fb069ad5f8448dda7374a90ebb2c235"
            }
          },
          "fee69356dd9a4ee1b55cd1a4fbd2fd4a": {
            "model_module": "@jupyter-widgets/controls",
            "model_module_version": "2.0.0",
            "model_name": "TextStyleModel",
            "state": {
              "description_width": "",
              "font_size": null,
              "text_color": null
            }
          },
          "0c6d93402af145e5b48cb9e9c4fce2cd": {
            "model_module": "@jupyter-widgets/controls",
            "model_module_version": "2.0.0",
            "model_name": "ButtonStyleModel",
            "state": {
              "font_family": null,
              "font_size": null,
              "font_style": null,
              "font_variant": null,
              "font_weight": null,
              "text_color": null,
              "text_decoration": null
            }
          },
          "be76fceb38064e6d9a0dd2a6b13baf53": {
            "model_module": "@jupyter-widgets/base",
            "model_module_version": "2.0.0",
            "model_name": "LayoutModel",
            "state": {}
          },
          "dd35d3027cd3435cb60f1332bfcb0470": {
            "model_module": "@jupyter-widgets/controls",
            "model_module_version": "2.0.0",
            "model_name": "HBoxModel",
            "state": {
              "children": [
                "IPY_MODEL_d3aa1b855fc74c3da2d81c023718256c",
                "IPY_MODEL_1ddd6dd01b464f54adce8aa597d4f435",
                "IPY_MODEL_414e86fa23ab4cce8883b19f6f72d7d0"
              ],
              "layout": "IPY_MODEL_fe0f9b4df93f4cb58c5a1080da4dd4de"
            }
          },
          "0943d19d498a4584a61f95d91de89014": {
            "model_module": "@jupyter-widgets/base",
            "model_module_version": "2.0.0",
            "model_name": "LayoutModel",
            "state": {
              "width": "90%"
            }
          },
          "6f060f54fd414a63a34756d36ca8e0bd": {
            "model_module": "@jupyter-widgets/controls",
            "model_module_version": "2.0.0",
            "model_name": "IntTextModel",
            "state": {
              "description": "Skip rows",
              "layout": "IPY_MODEL_f176a4b632b64758a7233ebf3682bed5",
              "step": 1,
              "style": "IPY_MODEL_4a9a239d47ec41dab4579edce759c3d6"
            }
          },
          "c66f52e9e22e41859254dfc26ec489b0": {
            "model_module": "@jupyter-widgets/controls",
            "model_module_version": "2.0.0",
            "model_name": "IntTextModel",
            "state": {
              "description": "Set max count",
              "layout": "IPY_MODEL_486c0ca7ab2044e2b8090ea5ec47057c",
              "step": 1,
              "style": "IPY_MODEL_d23642cfafed41a98a43f35da62bf88e"
            }
          },
          "56c0df454128466fba9871644a3e9dee": {
            "model_module": "@jupyter-widgets/output",
            "model_module_version": "1.0.0",
            "model_name": "OutputModel",
            "state": {
              "layout": "IPY_MODEL_381a3272166b4597b77a3d9b04b276f1"
            }
          },
          "5a53adff90b041519ec218a43fd54149": {
            "model_module": "@jupyter-widgets/controls",
            "model_module_version": "2.0.0",
            "model_name": "CheckboxModel",
            "state": {
              "description": "Allow overwrite",
              "disabled": false,
              "layout": "IPY_MODEL_4039abe687ca4d84ab5ca3d95ac7f65e",
              "style": "IPY_MODEL_fb6adb27ab7a4870a43373e6bb12f5c2",
              "value": false
            }
          },
          "1b223807d3d44647b28b442a920ab994": {
            "model_module": "@jupyter-widgets/base",
            "model_module_version": "2.0.0",
            "model_name": "LayoutModel",
            "state": {}
          },
          "231edd1f31d94d6894e40b7712fc41dd": {
            "model_module": "@jupyter-widgets/base",
            "model_module_version": "2.0.0",
            "model_name": "LayoutModel",
            "state": {}
          },
          "6de372fcbc4944129a4c1baa717e7cf5": {
            "model_module": "@jupyter-widgets/controls",
            "model_module_version": "2.0.0",
            "model_name": "CheckboxStyleModel",
            "state": {
              "description_width": ""
            }
          },
          "f60e442a757b46d6b8714b4c61c0ebbe": {
            "model_module": "@jupyter-widgets/controls",
            "model_module_version": "2.0.0",
            "model_name": "DescriptionStyleModel",
            "state": {
              "description_width": ""
            }
          },
          "03f11a6cc46744468f807fa17f2c47dc": {
            "model_module": "@jupyter-widgets/output",
            "model_module_version": "1.0.0",
            "model_name": "OutputModel",
            "state": {
              "layout": "IPY_MODEL_16c318cd2b0944ebbed18a3bfd999824"
            }
          },
          "211c4e10b88f4dd18daadf9caf6e9386": {
            "model_module": "@jupyter-widgets/base",
            "model_module_version": "2.0.0",
            "model_name": "LayoutModel",
            "state": {}
          },
          "6df85a5bb2d6415ebd37d5c7c10c4a49": {
            "model_module": "@jupyter-widgets/controls",
            "model_module_version": "2.0.0",
            "model_name": "CheckboxStyleModel",
            "state": {
              "description_width": ""
            }
          },
          "2b7c6bf2403a4ff58b1b5a76948cca41": {
            "model_module": "@jupyter-widgets/controls",
            "model_module_version": "2.0.0",
            "model_name": "HBoxModel",
            "state": {
              "children": [
                "IPY_MODEL_9fdf2b29d0284b6e9051a2239d107d9e",
                "IPY_MODEL_2aef4a7ef5054dd78c6763d9bf1813ee"
              ],
              "layout": "IPY_MODEL_02e6c065ac5a466ca94b360ee2248a68"
            }
          },
          "2e910332a0184341905fdf92362a398d": {
            "model_module": "@jupyter-widgets/controls",
            "model_module_version": "2.0.0",
            "model_name": "TextModel",
            "state": {
              "description": "Input Path",
              "layout": "IPY_MODEL_5b08dbbadad1481e9ca05c4427e5c69d",
              "style": "IPY_MODEL_a41d1897a01a47809829061514ed55d0",
              "tooltip": "Path to input directory or archive"
            }
          },
          "c9921a5774b5466b8b06eb961419cfc2": {
            "model_module": "@jupyter-widgets/controls",
            "model_module_version": "2.0.0",
            "model_name": "HBoxModel",
            "state": {
              "children": [
                "IPY_MODEL_c6763b119f6041e4b8f59d1beae408a3",
                "IPY_MODEL_94d39eb5c4584b7888e87dabf43aa699",
                "IPY_MODEL_bd2c401ebc7e499089fa8f57d9f6f1aa"
              ],
              "layout": "IPY_MODEL_333c51148f934eb6a3a463d5969809d1"
            }
          },
          "12eda2dc24bc4dcd836277288044940b": {
            "model_module": "@jupyter-widgets/base",
            "model_module_version": "2.0.0",
            "model_name": "LayoutModel",
            "state": {
              "width": "90%"
            }
          },
          "b205f1e2aa354a3f8268a30e4874ac0a": {
            "model_module": "@jupyter-widgets/base",
            "model_module_version": "2.0.0",
            "model_name": "LayoutModel",
            "state": {}
          },
          "eadc02971a544d47b47dfe7116054858": {
            "model_module": "@jupyter-widgets/controls",
            "model_module_version": "2.0.0",
            "model_name": "TextStyleModel",
            "state": {
              "description_width": "",
              "font_size": null,
              "text_color": null
            }
          },
          "19394400bc884a3b985e56de293f4f42": {
            "model_module": "@jupyter-widgets/base",
            "model_module_version": "2.0.0",
            "model_name": "LayoutModel",
            "state": {}
          },
          "e56fa90ae3ca4782b530cbef729df1d8": {
            "model_module": "@jupyter-widgets/base",
            "model_module_version": "2.0.0",
            "model_name": "LayoutModel",
            "state": {}
          },
          "fa579e7829bc4feea59099fd1f764956": {
            "model_module": "@jupyter-widgets/base",
            "model_module_version": "2.0.0",
            "model_name": "LayoutModel",
            "state": {}
          },
          "cbe13564b3f24542887e1b8458757957": {
            "model_module": "@jupyter-widgets/controls",
            "model_module_version": "2.0.0",
            "model_name": "ButtonStyleModel",
            "state": {
              "font_family": null,
              "font_size": null,
              "font_style": null,
              "font_variant": null,
              "font_weight": null,
              "text_color": null,
              "text_decoration": null
            }
          },
          "296c261fb44845de86a5527f6b4601c8": {
            "model_module": "@jupyter-widgets/controls",
            "model_module_version": "2.0.0",
            "model_name": "ButtonStyleModel",
            "state": {
              "font_family": null,
              "font_size": null,
              "font_style": null,
              "font_variant": null,
              "font_weight": null,
              "text_color": null,
              "text_decoration": null
            }
          },
          "5b59378f994f4370b13de4a0636fc255": {
            "model_module": "@jupyter-widgets/controls",
            "model_module_version": "2.0.0",
            "model_name": "TextStyleModel",
            "state": {
              "description_width": "",
              "font_size": null,
              "text_color": null
            }
          },
          "4a2f5f0095a34202b064acc8d368f08a": {
            "model_module": "@jupyter-widgets/base",
            "model_module_version": "2.0.0",
            "model_name": "LayoutModel",
            "state": {
              "width": "90%"
            }
          },
          "7dd3d57382444537a1f3c040692e6724": {
            "model_module": "@jupyter-widgets/base",
            "model_module_version": "2.0.0",
            "model_name": "LayoutModel",
            "state": {
              "width": "40%"
            }
          },
          "95779ae6c3bf4e49a51a2c78fac97855": {
            "model_module": "@jupyter-widgets/base",
            "model_module_version": "2.0.0",
            "model_name": "LayoutModel",
            "state": {}
          },
          "01efc1100040407aac0d7a3697c8eb14": {
            "model_module": "@jupyter-widgets/controls",
            "model_module_version": "2.0.0",
            "model_name": "TextModel",
            "state": {
              "description": "Output Path",
              "layout": "IPY_MODEL_e5c7d818fc9d4824b68a6ebf82cd2e67",
              "style": "IPY_MODEL_2e612bae0d78438c9a453a0a261cc8eb"
            }
          },
          "67bbefc1cb8e4ce2af6e604580f47012": {
            "model_module": "@jupyter-widgets/controls",
            "model_module_version": "2.0.0",
            "model_name": "TextStyleModel",
            "state": {
              "description_width": "",
              "font_size": null,
              "text_color": null
            }
          },
          "6d7f123c85c644218cf71c66dbc3ea2d": {
            "model_module": "@jupyter-widgets/controls",
            "model_module_version": "2.0.0",
            "model_name": "ButtonModel",
            "state": {
              "description": "Start export",
              "layout": "IPY_MODEL_6e6dfd1345b8421dae3c7b95911656a9",
              "style": "IPY_MODEL_9b6f3ee4cf994d24813be85a38dfaa52",
              "tooltip": null
            }
          },
          "ef0c343d4a89452ab62b6f4f556fe6ea": {
            "model_module": "@jupyter-widgets/controls",
            "model_module_version": "2.0.0",
            "model_name": "CheckboxModel",
            "state": {
              "description": "Allow overwrite",
              "disabled": false,
              "layout": "IPY_MODEL_511e40f7e97f45629252cdb0c039fdf0",
              "style": "IPY_MODEL_33c36d0d375d497faa5cdbd41a4e679f",
              "value": false
            }
          },
          "02c7330a43aa4de2b77376b8ed111ce2": {
            "model_module": "@jupyter-widgets/controls",
            "model_module_version": "2.0.0",
            "model_name": "TextModel",
            "state": {
              "description": "Output Path",
              "layout": "IPY_MODEL_a2c658bf6dc24c1e867c690ed40b46d3",
              "style": "IPY_MODEL_e572519768fd44a89e0f12ace7f3b8ae"
            }
          },
          "1a65d0f61add42d6906631cb38fb607d": {
            "model_module": "@jupyter-widgets/controls",
            "model_module_version": "2.0.0",
            "model_name": "TextStyleModel",
            "state": {
              "description_width": "",
              "font_size": null,
              "text_color": null
            }
          },
          "2b836903ad2c462b94300851fb09226e": {
            "model_module": "@jupyter-widgets/base",
            "model_module_version": "2.0.0",
            "model_name": "LayoutModel",
            "state": {
              "width": "40%"
            }
          },
          "a179c02ee2444440bd42c037cac6eb8e": {
            "model_module": "@jupyter-widgets/controls",
            "model_module_version": "2.0.0",
            "model_name": "TextStyleModel",
            "state": {
              "description_width": "",
              "font_size": null,
              "text_color": null
            }
          },
          "4c9259f3ef7f4280a31b4cbfe3f500a6": {
            "model_module": "@jupyter-widgets/controls",
            "model_module_version": "2.0.0",
            "model_name": "ButtonStyleModel",
            "state": {
              "font_family": null,
              "font_size": null,
              "font_style": null,
              "font_variant": null,
              "font_weight": null,
              "text_color": null,
              "text_decoration": null
            }
          },
          "443116e3a9b54d938a11600d632ab59d": {
            "model_module": "@jupyter-widgets/controls",
            "model_module_version": "2.0.0",
            "model_name": "TextStyleModel",
            "state": {
              "description_width": "",
              "font_size": null,
              "text_color": null
            }
          },
          "249d25cc665842958931aeca73ec3365": {
            "model_module": "@jupyter-widgets/controls",
            "model_module_version": "2.0.0",
            "model_name": "CheckboxStyleModel",
            "state": {
              "description_width": ""
            }
          },
          "135ee501300941ebb3e170aac8754d7b": {
            "model_module": "@jupyter-widgets/base",
            "model_module_version": "2.0.0",
            "model_name": "LayoutModel",
            "state": {}
          },
          "05b3a10f525645b7a4d542e16cbd6af5": {
            "model_module": "@jupyter-widgets/controls",
            "model_module_version": "2.0.0",
            "model_name": "TextModel",
            "state": {
              "description": "Input Path",
              "layout": "IPY_MODEL_cc7e1c32370a4a18812b4fec930e2f8c",
              "style": "IPY_MODEL_48b4fc45b3df4dd5b77130db05ce9f8e",
              "tooltip": "Path to input directory or archive"
            }
          },
          "6668fbbd83d540f1a74421361033f0c6": {
            "model_module": "@jupyter-widgets/base",
            "model_module_version": "2.0.0",
            "model_name": "LayoutModel",
            "state": {}
          },
          "b03cf26a3b744ab58ebdf2a72d236976": {
            "model_module": "@jupyter-widgets/controls",
            "model_module_version": "2.0.0",
            "model_name": "TextModel",
            "state": {
              "description": "Input Path",
              "layout": "IPY_MODEL_4b00540c6668452c850aadd814a9eeb7",
              "style": "IPY_MODEL_9878074aee2d4b27a4408b87b68d375d",
              "tooltip": "Path to input directory or archive"
            }
          },
          "b9854450665349ce95433a5e6b9ddf34": {
            "model_module": "@jupyter-widgets/controls",
            "model_module_version": "2.0.0",
            "model_name": "DescriptionStyleModel",
            "state": {
              "description_width": ""
            }
          },
          "2d751959af564a97a9c850496a562025": {
            "model_module": "@jupyter-widgets/base",
            "model_module_version": "2.0.0",
            "model_name": "LayoutModel",
            "state": {
              "width": "90%"
            }
          },
          "02bcd5e57cbe410595a3c7839ee50d49": {
            "model_module": "@jupyter-widgets/controls",
            "model_module_version": "2.0.0",
            "model_name": "TextStyleModel",
            "state": {
              "description_width": "",
              "font_size": null,
              "text_color": null
            }
          },
          "1bcab2e8f6494358ba5ccff4b6ffe463": {
            "model_module": "@jupyter-widgets/controls",
            "model_module_version": "2.0.0",
            "model_name": "TextStyleModel",
            "state": {
              "description_width": "",
              "font_size": null,
              "text_color": null
            }
          },
          "c02ec86fa15140488d3ce34e90a6048c": {
            "model_module": "@jupyter-widgets/controls",
            "model_module_version": "2.0.0",
            "model_name": "CheckboxModel",
            "state": {
              "description": "Remove duplicates",
              "disabled": false,
              "layout": "IPY_MODEL_9c50c59738fb43f4bb13ba7314821273",
              "style": "IPY_MODEL_2d68be3a97a34b97b619bfe72feea3ae",
              "value": false
            }
          },
          "8402589807894a129feced7702fb6bfc": {
            "model_module": "@jupyter-widgets/base",
            "model_module_version": "2.0.0",
            "model_name": "LayoutModel",
            "state": {}
          },
          "f3b36026d9dc43d4b73b26ab712e1bab": {
            "model_module": "@jupyter-widgets/base",
            "model_module_version": "2.0.0",
            "model_name": "LayoutModel",
            "state": {}
          },
          "bb1ae625efb54f6d98682013774d4a4e": {
            "model_module": "@jupyter-widgets/controls",
            "model_module_version": "2.0.0",
            "model_name": "DescriptionStyleModel",
            "state": {
              "description_width": ""
            }
          },
          "cd8f5578419449e5be7fc1dd543bd1c2": {
            "model_module": "@jupyter-widgets/controls",
            "model_module_version": "2.0.0",
            "model_name": "DescriptionStyleModel",
            "state": {
              "description_width": ""
            }
          },
          "1d5fe0d5329f40c0a5d14d9bab6bf188": {
            "model_module": "@jupyter-widgets/controls",
            "model_module_version": "2.0.0",
            "model_name": "TextStyleModel",
            "state": {
              "description_width": "",
              "font_size": null,
              "text_color": null
            }
          },
          "71267a8265cc41ce9e78fdfec48e2100": {
            "model_module": "@jupyter-widgets/base",
            "model_module_version": "2.0.0",
            "model_name": "LayoutModel",
            "state": {
              "width": "40%"
            }
          },
          "20492533d1ef4e3b9a17b51ddbadf3f7": {
            "model_module": "@jupyter-widgets/controls",
            "model_module_version": "2.0.0",
            "model_name": "DescriptionStyleModel",
            "state": {
              "description_width": ""
            }
          },
          "3e27567d34814840814fcc7d593f60cb": {
            "model_module": "@jupyter-widgets/controls",
            "model_module_version": "2.0.0",
            "model_name": "ButtonStyleModel",
            "state": {
              "font_family": null,
              "font_size": null,
              "font_style": null,
              "font_variant": null,
              "font_weight": null,
              "text_color": null,
              "text_decoration": null
            }
          },
          "4b77a09399e04c8c96adbd396fcf68d2": {
            "model_module": "@jupyter-widgets/controls",
            "model_module_version": "2.0.0",
            "model_name": "DescriptionStyleModel",
            "state": {
              "description_width": ""
            }
          },
          "1f4fc976f40442cbac0fcb84c49dae09": {
            "model_module": "@jupyter-widgets/controls",
            "model_module_version": "2.0.0",
            "model_name": "TextStyleModel",
            "state": {
              "description_width": "",
              "font_size": null,
              "text_color": null
            }
          },
          "44476cbe7b79477cba321339502c2e2e": {
            "model_module": "@jupyter-widgets/controls",
            "model_module_version": "2.0.0",
            "model_name": "HBoxModel",
            "state": {
              "children": [
                "IPY_MODEL_d2c7c3aa59ed4e1ebeb562d7029e54d6",
                "IPY_MODEL_0ad7acfed25a4c18b5d4fdc67711fd24",
                "IPY_MODEL_4fafa034062047a881046600c1a924d8"
              ],
              "layout": "IPY_MODEL_f6f1eaaf439e4c96adb7ed3641d0fc1c"
            }
          },
          "e61a6e4571d4413e9d951b36578e79d5": {
            "model_module": "@jupyter-widgets/base",
            "model_module_version": "2.0.0",
            "model_name": "LayoutModel",
            "state": {}
          },
          "2b206ff5deb8462baa546866427f7208": {
            "model_module": "@jupyter-widgets/base",
            "model_module_version": "2.0.0",
            "model_name": "LayoutModel",
            "state": {}
          },
          "75899e01be8144cc961decbf7b7aa09b": {
            "model_module": "@jupyter-widgets/controls",
            "model_module_version": "2.0.0",
            "model_name": "TextModel",
            "state": {
              "description": "User ID: ",
              "layout": "IPY_MODEL_8c08bcd6ac274acfaa9ac1b32d9b03fa",
              "style": "IPY_MODEL_89c15a9ee5da432b8e7d5144a498ac4c"
            }
          },
          "3f29e3d0c440458291ebcd316c4a9600": {
            "model_module": "@jupyter-widgets/controls",
            "model_module_version": "2.0.0",
            "model_name": "DescriptionStyleModel",
            "state": {
              "description_width": ""
            }
          },
          "9ac6171ff4e14d11bc2ec49b5df43b4a": {
            "model_module": "@jupyter-widgets/base",
            "model_module_version": "2.0.0",
            "model_name": "LayoutModel",
            "state": {}
          },
          "3ee1c47f62964046a3caa6b41420a869": {
            "model_module": "@jupyter-widgets/base",
            "model_module_version": "2.0.0",
            "model_name": "LayoutModel",
            "state": {
              "width": "40%"
            }
          },
          "78b86a522aa0496da36a2b1af47a9b81": {
            "model_module": "@jupyter-widgets/controls",
            "model_module_version": "2.0.0",
            "model_name": "TextModel",
            "state": {
              "description": "Input Path",
              "layout": "IPY_MODEL_9561de61cd8c4da494d0fc5ea2c20c8c",
              "style": "IPY_MODEL_7086bc13223b43ea8bd5453e647b0bf5",
              "tooltip": "Path to input directory or archive"
            }
          },
          "502030154007430e8cb373ca79d110f8": {
            "model_module": "@jupyter-widgets/controls",
            "model_module_version": "2.0.0",
            "model_name": "HBoxModel",
            "state": {
              "children": [
                "IPY_MODEL_422fe19b067340b0930673903525acf1",
                "IPY_MODEL_63771b15d71445318ec0392ba4cf40d2"
              ],
              "layout": "IPY_MODEL_4c53353d117149e3b8eee29dcfe093e7"
            }
          },
          "9c113a7890494ace81dd7543e9f8f283": {
            "model_module": "@jupyter-widgets/controls",
            "model_module_version": "2.0.0",
            "model_name": "TextStyleModel",
            "state": {
              "description_width": "",
              "font_size": null,
              "text_color": null
            }
          },
          "7bfd3f4d075e49dd97cf449025177ca3": {
            "model_module": "@jupyter-widgets/controls",
            "model_module_version": "2.0.0",
            "model_name": "IntTextModel",
            "state": {
              "description": "Max count:",
              "layout": "IPY_MODEL_9f894fc88d2042c380aff61f416b6e3b",
              "step": 1,
              "style": "IPY_MODEL_bb26c53dd56243b0a20c8ba4a67f318a"
            }
          },
          "1c8796f14632456fb1957fdf99cacf10": {
            "model_module": "@jupyter-widgets/controls",
            "model_module_version": "2.0.0",
            "model_name": "HBoxModel",
            "state": {
              "children": [
                "IPY_MODEL_ee8bdf89a9c544c2834b2c66028043e6",
                "IPY_MODEL_33a068044d5b4423a002699c2c5b3dbb",
                "IPY_MODEL_96cc6de46399465abf9efa14e1ea3378"
              ],
              "layout": "IPY_MODEL_41383f034df04a91ae2ae8cb1ea847d3"
            }
          },
          "df81c2884a0843fdb0d78953d2d4e1ab": {
            "model_module": "@jupyter-widgets/base",
            "model_module_version": "2.0.0",
            "model_name": "LayoutModel",
            "state": {
              "width": "40%"
            }
          },
          "41d706ee6ebb407a8cc6c94429eea6e1": {
            "model_module": "@jupyter-widgets/base",
            "model_module_version": "2.0.0",
            "model_name": "LayoutModel",
            "state": {}
          },
          "df6a72239f574842a6935d07a70fe5e1": {
            "model_module": "@jupyter-widgets/controls",
            "model_module_version": "2.0.0",
            "model_name": "ButtonStyleModel",
            "state": {
              "font_family": null,
              "font_size": null,
              "font_style": null,
              "font_variant": null,
              "font_weight": null,
              "text_color": null,
              "text_decoration": null
            }
          },
          "fcbc60ee7bdd4a33878dd07aea3944e9": {
            "model_module": "@jupyter-widgets/controls",
            "model_module_version": "2.0.0",
            "model_name": "CheckboxStyleModel",
            "state": {
              "description_width": ""
            }
          },
          "20beac17afcd47b3a1b1ba7152597e63": {
            "model_module": "@jupyter-widgets/base",
            "model_module_version": "2.0.0",
            "model_name": "LayoutModel",
            "state": {
              "width": "90%"
            }
          },
          "badb8b9240ff4a719bdbe15b3844ce85": {
            "model_module": "@jupyter-widgets/base",
            "model_module_version": "2.0.0",
            "model_name": "LayoutModel",
            "state": {
              "width": "90%"
            }
          },
          "fe76439768bf4ff4afdb800c635f9eca": {
            "model_module": "@jupyter-widgets/controls",
            "model_module_version": "2.0.0",
            "model_name": "TextStyleModel",
            "state": {
              "description_width": "",
              "font_size": null,
              "text_color": null
            }
          },
          "397d1f9fe6a24e8199507bd92ad4dbe3": {
            "model_module": "@jupyter-widgets/base",
            "model_module_version": "2.0.0",
            "model_name": "LayoutModel",
            "state": {}
          },
          "f3de76d3a6574b6c9e2549fcb80ad01f": {
            "model_module": "@jupyter-widgets/base",
            "model_module_version": "2.0.0",
            "model_name": "LayoutModel",
            "state": {}
          },
          "efe9b28ae831432f9775d66be31c73dc": {
            "model_module": "@jupyter-widgets/output",
            "model_module_version": "1.0.0",
            "model_name": "OutputModel",
            "state": {
              "layout": "IPY_MODEL_12ca6545747b4521a1acea5ff1fd20ab"
            }
          },
          "fe735f5555f54216b673b1bb740e67a8": {
            "model_module": "@jupyter-widgets/base",
            "model_module_version": "2.0.0",
            "model_name": "LayoutModel",
            "state": {
              "width": "90%"
            }
          },
          "64b47c782c674a8ca00c9d1ce936219d": {
            "model_module": "@jupyter-widgets/controls",
            "model_module_version": "2.0.0",
            "model_name": "CheckboxStyleModel",
            "state": {
              "description_width": ""
            }
          },
          "80afbf01e345464db9bf658dbf7487ec": {
            "model_module": "@jupyter-widgets/controls",
            "model_module_version": "2.0.0",
            "model_name": "DescriptionStyleModel",
            "state": {
              "description_width": ""
            }
          },
          "95bc2554aecc4f34a6d9b4c9cabdf3a3": {
            "model_module": "@jupyter-widgets/controls",
            "model_module_version": "2.0.0",
            "model_name": "IntTextModel",
            "state": {
              "description": "Max count:",
              "layout": "IPY_MODEL_15f2c7fd07d24027a7bfe86d02ea552d",
              "step": 1,
              "style": "IPY_MODEL_5a6dce6cf440427a81813f27e6e120e6"
            }
          },
          "e1966be3b3f346cfbc225b024884f821": {
            "model_module": "@jupyter-widgets/controls",
            "model_module_version": "2.0.0",
            "model_name": "ButtonModel",
            "state": {
              "description": "Login",
              "layout": "IPY_MODEL_ea99d2a47a20421295a59dba65eb7afe",
              "style": "IPY_MODEL_75eca6e84e31407da7dab4849385921f",
              "tooltip": null
            }
          },
          "2ceaeeb6d7a843a281245bc8a474a68b": {
            "model_module": "@jupyter-widgets/controls",
            "model_module_version": "2.0.0",
            "model_name": "TextModel",
            "state": {
              "description": "Output Path:",
              "layout": "IPY_MODEL_98b1929c4e024cdea8020a287362316f",
              "style": "IPY_MODEL_4b19533755d744fb9fa75bc01ef3069b"
            }
          },
          "20b65f821daf4024ab046aa22b1e853e": {
            "model_module": "@jupyter-widgets/controls",
            "model_module_version": "2.0.0",
            "model_name": "TextStyleModel",
            "state": {
              "description_width": "",
              "font_size": null,
              "text_color": null
            }
          },
          "db0ebdf8231644118f74c2b8f622f24b": {
            "model_module": "@jupyter-widgets/controls",
            "model_module_version": "2.0.0",
            "model_name": "ButtonStyleModel",
            "state": {
              "font_family": null,
              "font_size": null,
              "font_style": null,
              "font_variant": null,
              "font_weight": null,
              "text_color": null,
              "text_decoration": null
            }
          },
          "c3faeab0e8004759b63eb87e7f288166": {
            "model_module": "@jupyter-widgets/controls",
            "model_module_version": "2.0.0",
            "model_name": "CheckboxStyleModel",
            "state": {
              "description_width": ""
            }
          },
          "3da6573ae1784a60a70ed332761d8eaf": {
            "model_module": "@jupyter-widgets/base",
            "model_module_version": "2.0.0",
            "model_name": "LayoutModel",
            "state": {
              "width": "90%"
            }
          },
          "5bca8f05c462436e8079a76d50538af4": {
            "model_module": "@jupyter-widgets/base",
            "model_module_version": "2.0.0",
            "model_name": "LayoutModel",
            "state": {
              "width": "90%"
            }
          },
          "dd503d901eeb4099adcc28495b2e657a": {
            "model_module": "@jupyter-widgets/base",
            "model_module_version": "2.0.0",
            "model_name": "LayoutModel",
            "state": {}
          },
          "58d03c6463a9421a9890034f01a2dbe1": {
            "model_module": "@jupyter-widgets/base",
            "model_module_version": "2.0.0",
            "model_name": "LayoutModel",
            "state": {}
          },
          "4e08cb29c60d460eb86005c3d2f5717e": {
            "model_module": "@jupyter-widgets/controls",
            "model_module_version": "2.0.0",
            "model_name": "TextModel",
            "state": {
              "description": "Output Path",
              "layout": "IPY_MODEL_20beac17afcd47b3a1b1ba7152597e63",
              "style": "IPY_MODEL_c1eceb6c9e464c988685dd7ee40fdd00"
            }
          },
          "6dc5cba6c09e47409b27959131f287f6": {
            "model_module": "@jupyter-widgets/controls",
            "model_module_version": "2.0.0",
            "model_name": "TextModel",
            "state": {
              "description": "Output Path",
              "layout": "IPY_MODEL_0bf8ef3bffea40ceba4ee7f1701e95f5",
              "style": "IPY_MODEL_713f59754da243509dfacf542eb49363"
            }
          },
          "437177a3cff4424ca9370cf8f5df3adc": {
            "model_module": "@jupyter-widgets/controls",
            "model_module_version": "2.0.0",
            "model_name": "CheckboxModel",
            "state": {
              "description": "Don't split in batches",
              "disabled": false,
              "layout": "IPY_MODEL_e04aa0d855854c96abdcc361eb5279ef",
              "style": "IPY_MODEL_a9e46621fc7d44ddab02fb45a8379e69",
              "value": false
            }
          },
          "f176a4b632b64758a7233ebf3682bed5": {
            "model_module": "@jupyter-widgets/base",
            "model_module_version": "2.0.0",
            "model_name": "LayoutModel",
            "state": {
              "width": "40%"
            }
          },
          "d72b6dca120b4fe38f4e09cd28e95ca6": {
            "model_module": "@jupyter-widgets/controls",
            "model_module_version": "2.0.0",
            "model_name": "TextStyleModel",
            "state": {
              "description_width": "",
              "font_size": null,
              "text_color": null
            }
          },
          "51d3ccbacf954ef78f27976b65b6ab9e": {
            "model_module": "@jupyter-widgets/output",
            "model_module_version": "1.0.0",
            "model_name": "OutputModel",
            "state": {
              "layout": "IPY_MODEL_de234b14fb5e4963ab9ae8fdd50d66ae"
            }
          },
          "4bbcacf8d83c4386893d71f74f2455a4": {
            "model_module": "@jupyter-widgets/controls",
            "model_module_version": "2.0.0",
            "model_name": "CheckboxStyleModel",
            "state": {
              "description_width": ""
            }
          },
          "45287fbf73484e37ba3464f7afb0a6df": {
            "model_module": "@jupyter-widgets/base",
            "model_module_version": "2.0.0",
            "model_name": "LayoutModel",
            "state": {}
          },
          "37f78a4626914d2192720c26ed96e9ac": {
            "model_module": "@jupyter-widgets/controls",
            "model_module_version": "2.0.0",
            "model_name": "CheckboxStyleModel",
            "state": {
              "description_width": ""
            }
          },
          "1ebe70c2e9d64cf8b46690d5d9a47ee7": {
            "model_module": "@jupyter-widgets/controls",
            "model_module_version": "2.0.0",
            "model_name": "FloatTextModel",
            "state": {
              "description": "Speed",
              "layout": "IPY_MODEL_2b2c270f590b4ce89264901f25d8b0b4",
              "step": 0.1,
              "style": "IPY_MODEL_e58f544a86804e4795c9997eda0ef205",
              "value": 1
            }
          },
          "acc6e20279d346b7bf139d005ac09c9a": {
            "model_module": "@jupyter-widgets/base",
            "model_module_version": "2.0.0",
            "model_name": "LayoutModel",
            "state": {}
          },
          "830f414b95c847638eeec7551d51407f": {
            "model_module": "@jupyter-widgets/controls",
            "model_module_version": "2.0.0",
            "model_name": "TextModel",
            "state": {
              "description": "Output Path",
              "layout": "IPY_MODEL_2eaac5bb46194a7db09116309bcb0ad7",
              "style": "IPY_MODEL_d72b6dca120b4fe38f4e09cd28e95ca6"
            }
          },
          "7ac652485d5544029afbd31119176020": {
            "model_module": "@jupyter-widgets/base",
            "model_module_version": "2.0.0",
            "model_name": "LayoutModel",
            "state": {
              "width": "90%"
            }
          },
          "a52cfe6d54ab41579713c878c25235c6": {
            "model_module": "@jupyter-widgets/controls",
            "model_module_version": "2.0.0",
            "model_name": "CheckboxModel",
            "state": {
              "description": "ZIP export (must be .json, .csv)",
              "disabled": false,
              "layout": "IPY_MODEL_231edd1f31d94d6894e40b7712fc41dd",
              "style": "IPY_MODEL_105a30a5a55846829ae0f9b7b5b6f554",
              "value": false
            }
          },
          "9c96842c1e2b4592aa0330b597178755": {
            "model_module": "@jupyter-widgets/controls",
            "model_module_version": "2.0.0",
            "model_name": "TextStyleModel",
            "state": {
              "description_width": "",
              "font_size": null,
              "text_color": null
            }
          },
          "10cda0e3542c4bc4b24a4c7ea84dd02a": {
            "model_module": "@jupyter-widgets/base",
            "model_module_version": "2.0.0",
            "model_name": "LayoutModel",
            "state": {}
          },
          "84f128ea70da4fd5894564b5665b2811": {
            "model_module": "@jupyter-widgets/controls",
            "model_module_version": "2.0.0",
            "model_name": "DescriptionStyleModel",
            "state": {
              "description_width": ""
            }
          },
          "feb7c6a0cae1442a9582e932a901a943": {
            "model_module": "@jupyter-widgets/controls",
            "model_module_version": "2.0.0",
            "model_name": "ButtonModel",
            "state": {
              "description": "Start export",
              "layout": "IPY_MODEL_6668fbbd83d540f1a74421361033f0c6",
              "style": "IPY_MODEL_3b1a570da4cb411aa99c68309ed8309c",
              "tooltip": null
            }
          },
          "e6b91a71a24b499fb6968d1d8687491d": {
            "model_module": "@jupyter-widgets/controls",
            "model_module_version": "2.0.0",
            "model_name": "CheckboxModel",
            "state": {
              "description": "ZIP export (must be .json, .csv)",
              "disabled": false,
              "layout": "IPY_MODEL_93e9f1f0dd544716a18607551779a8f0",
              "style": "IPY_MODEL_6de372fcbc4944129a4c1baa717e7cf5",
              "value": false
            }
          },
          "acc8bbbb0a6a44748cab9acb1bc87226": {
            "model_module": "@jupyter-widgets/controls",
            "model_module_version": "2.0.0",
            "model_name": "DescriptionStyleModel",
            "state": {
              "description_width": ""
            }
          },
          "a96f68f15ef046ea8eb6266892aa5396": {
            "model_module": "@jupyter-widgets/controls",
            "model_module_version": "2.0.0",
            "model_name": "DescriptionStyleModel",
            "state": {
              "description_width": ""
            }
          },
          "bbad978e7de640cd91b4e80977a61cb4": {
            "model_module": "@jupyter-widgets/controls",
            "model_module_version": "2.0.0",
            "model_name": "DescriptionStyleModel",
            "state": {
              "description_width": ""
            }
          },
          "85728da7483446f5a5ed58bdcdd9a8d7": {
            "model_module": "@jupyter-widgets/controls",
            "model_module_version": "2.0.0",
            "model_name": "DescriptionStyleModel",
            "state": {
              "description_width": ""
            }
          },
          "c19a07985b8e4caf85280478c0d08c1c": {
            "model_module": "@jupyter-widgets/controls",
            "model_module_version": "2.0.0",
            "model_name": "HTMLStyleModel",
            "state": {
              "description_width": "",
              "font_size": null,
              "text_color": null
            }
          },
          "d9aca4e5286c4e90bf050317884f55e4": {
            "model_module": "@jupyter-widgets/controls",
            "model_module_version": "2.0.0",
            "model_name": "DescriptionStyleModel",
            "state": {
              "description_width": ""
            }
          },
          "93e9f1f0dd544716a18607551779a8f0": {
            "model_module": "@jupyter-widgets/base",
            "model_module_version": "2.0.0",
            "model_name": "LayoutModel",
            "state": {}
          },
          "6fa06130cd724df6b56e714d2612b7c2": {
            "model_module": "@jupyter-widgets/base",
            "model_module_version": "2.0.0",
            "model_name": "LayoutModel",
            "state": {}
          },
          "4b8f06a174ad48e9af8db2693b858ede": {
            "model_module": "@jupyter-widgets/controls",
            "model_module_version": "2.0.0",
            "model_name": "ButtonStyleModel",
            "state": {
              "font_family": null,
              "font_size": null,
              "font_style": null,
              "font_variant": null,
              "font_weight": null,
              "text_color": null,
              "text_decoration": null
            }
          },
          "24181be7b93f46b592df3a04564a6404": {
            "model_module": "@jupyter-widgets/base",
            "model_module_version": "2.0.0",
            "model_name": "LayoutModel",
            "state": {}
          },
          "5383e3afd0874342bc77be26913333e9": {
            "model_module": "@jupyter-widgets/base",
            "model_module_version": "2.0.0",
            "model_name": "LayoutModel",
            "state": {}
          },
          "a12b00e68dc849899e329f7b0fc80167": {
            "model_module": "@jupyter-widgets/controls",
            "model_module_version": "2.0.0",
            "model_name": "ButtonStyleModel",
            "state": {
              "font_family": null,
              "font_size": null,
              "font_style": null,
              "font_variant": null,
              "font_weight": null,
              "text_color": null,
              "text_decoration": null
            }
          },
          "4909a59159864376b67e3f60a8ad0d1b": {
            "model_module": "@jupyter-widgets/controls",
            "model_module_version": "2.0.0",
            "model_name": "ButtonStyleModel",
            "state": {
              "font_family": null,
              "font_size": null,
              "font_style": null,
              "font_variant": null,
              "font_weight": null,
              "text_color": null,
              "text_decoration": null
            }
          },
          "12ee6e7f70d84e9dbf495be8a76e585d": {
            "model_module": "@jupyter-widgets/controls",
            "model_module_version": "2.0.0",
            "model_name": "DescriptionStyleModel",
            "state": {
              "description_width": ""
            }
          },
          "331a687e76744a589f685ce89cbb0be5": {
            "model_module": "@jupyter-widgets/base",
            "model_module_version": "2.0.0",
            "model_name": "LayoutModel",
            "state": {}
          },
          "68034b5567484c4fa827893832d9e25a": {
            "model_module": "@jupyter-widgets/controls",
            "model_module_version": "2.0.0",
            "model_name": "CheckboxModel",
            "state": {
              "description": "Allow overwrite",
              "disabled": false,
              "layout": "IPY_MODEL_9ac6171ff4e14d11bc2ec49b5df43b4a",
              "style": "IPY_MODEL_70fcd505388e4541bcadc4652b1e8c0a",
              "value": false
            }
          },
          "ef30a14ed06a47b1a2fec829d9c4665c": {
            "model_module": "@jupyter-widgets/controls",
            "model_module_version": "2.0.0",
            "model_name": "ButtonModel",
            "state": {
              "description": "Login",
              "layout": "IPY_MODEL_bd585ee8f35043baa9164d7ad079b9f0",
              "style": "IPY_MODEL_be753b9a1b8a44d085388a34622ec3ed",
              "tooltip": null
            }
          },
          "57516d47c4274284b5025c778c6b1f71": {
            "model_module": "@jupyter-widgets/controls",
            "model_module_version": "2.0.0",
            "model_name": "DescriptionStyleModel",
            "state": {
              "description_width": ""
            }
          },
          "333c1867fbe042aa88adc0af1c59d53b": {
            "model_module": "@jupyter-widgets/base",
            "model_module_version": "2.0.0",
            "model_name": "LayoutModel",
            "state": {
              "width": "95%"
            }
          },
          "903c8cec92c64d8a8006df849be41d9e": {
            "model_module": "@jupyter-widgets/controls",
            "model_module_version": "2.0.0",
            "model_name": "TextStyleModel",
            "state": {
              "description_width": "",
              "font_size": null,
              "text_color": null
            }
          },
          "296378c7afbe49e2b89a92c8c86c7a30": {
            "model_module": "@jupyter-widgets/controls",
            "model_module_version": "2.0.0",
            "model_name": "IntTextModel",
            "state": {
              "description": "Max rows",
              "layout": "IPY_MODEL_df81c2884a0843fdb0d78953d2d4e1ab",
              "step": 1,
              "style": "IPY_MODEL_1f6828e8bed84b85ba0390583b4a4dbc"
            }
          },
          "f73e4edef29f4653835b90bc4faaaa9a": {
            "model_module": "@jupyter-widgets/controls",
            "model_module_version": "2.0.0",
            "model_name": "HBoxModel",
            "state": {
              "children": [
                "IPY_MODEL_cc2f84d30ef0431e8efe136f22c0f3e9",
                "IPY_MODEL_2e5deb68f71a433ab70bf9dbfe8604ae"
              ],
              "layout": "IPY_MODEL_f41a436428c34aa9a2c15fb0da56e2bb"
            }
          },
          "68c862529b084a838e331696eceba952": {
            "model_module": "@jupyter-widgets/base",
            "model_module_version": "2.0.0",
            "model_name": "LayoutModel",
            "state": {}
          },
          "1d0d03ceb6f447dc87d9019d1df93c68": {
            "model_module": "@jupyter-widgets/controls",
            "model_module_version": "2.0.0",
            "model_name": "HBoxModel",
            "state": {
              "children": [
                "IPY_MODEL_2721bc9664c14f15afc63e49980ab044",
                "IPY_MODEL_cb6d0e37486a4876b3db6df670475b32"
              ],
              "layout": "IPY_MODEL_397d1f9fe6a24e8199507bd92ad4dbe3"
            }
          },
          "27eb0864ac304b3da307e4d293bbc214": {
            "model_module": "@jupyter-widgets/controls",
            "model_module_version": "2.0.0",
            "model_name": "CheckboxStyleModel",
            "state": {
              "description_width": ""
            }
          },
          "624ae789604348a2bef37c3e7de335c6": {
            "model_module": "@jupyter-widgets/controls",
            "model_module_version": "2.0.0",
            "model_name": "ButtonModel",
            "state": {
              "description": "Start export",
              "layout": "IPY_MODEL_0e9c0c5278394bd48423625701b74285",
              "style": "IPY_MODEL_93d4b605d0dc4783b27b390a89985d75",
              "tooltip": null
            }
          },
          "7a048e8a39ea4302910144403b20ee43": {
            "model_module": "@jupyter-widgets/controls",
            "model_module_version": "2.0.0",
            "model_name": "ButtonModel",
            "state": {
              "description": "Login",
              "layout": "IPY_MODEL_d5d0eb05c739458e87ea47a5a5c38329",
              "style": "IPY_MODEL_e6d61c51742f4e2ab2aa04c53de98985",
              "tooltip": null
            }
          },
          "b439c745612845b986eb847562a5e55b": {
            "model_module": "@jupyter-widgets/base",
            "model_module_version": "2.0.0",
            "model_name": "LayoutModel",
            "state": {}
          },
          "768cbe03068d4d82bd9a4a85a1f2d066": {
            "model_module": "@jupyter-widgets/controls",
            "model_module_version": "2.0.0",
            "model_name": "ProgressStyleModel",
            "state": {
              "description_width": ""
            }
          },
          "4949ef0e6b714f6cbe6520acefc4d6da": {
            "model_module": "@jupyter-widgets/controls",
            "model_module_version": "2.0.0",
            "model_name": "TextModel",
            "state": {
              "description": "Output Path:",
              "layout": "IPY_MODEL_c6bce73d70214d29a4b54377e22bf63f",
              "style": "IPY_MODEL_5540ac46a0b94edaad2349e9a4622b11"
            }
          },
          "fd03d5fea0844f7ca7b6b0287419d351": {
            "model_module": "@jupyter-widgets/controls",
            "model_module_version": "2.0.0",
            "model_name": "TextModel",
            "state": {
              "description": "Input Path:",
              "layout": "IPY_MODEL_4001960a4ac64b51b53ffd65f12423eb",
              "style": "IPY_MODEL_25bdb8aa99c34078ba392e1c0f741faf",
              "tooltip": "Path to query template spreadsheet (list of names, etc. to search)"
            }
          },
          "42e6688688c64d20882084e24f4c4a03": {
            "model_module": "@jupyter-widgets/controls",
            "model_module_version": "2.0.0",
            "model_name": "HBoxModel",
            "state": {
              "children": [
                "IPY_MODEL_72547ff214ed47b485bf58c3a6578301",
                "IPY_MODEL_d2f27d31c2d54da387c6cc96f6fe13a3"
              ],
              "layout": "IPY_MODEL_e7456349a26d4328bee1a4a3a3d07624"
            }
          },
          "f1e3692f771043cf90a5d76e5a4725a9": {
            "model_module": "@jupyter-widgets/controls",
            "model_module_version": "2.0.0",
            "model_name": "RadioButtonsModel",
            "state": {
              "_options_labels": [
                "cases",
                "charges",
                "disposition",
                "filing",
                "fees"
              ],
              "description": "Table:",
              "index": 0,
              "layout": "IPY_MODEL_fc20eb00d0c44671ad5bf5c6ce7b6ebb",
              "style": "IPY_MODEL_635693836b7148309bc0803e2d03fb0e"
            }
          },
          "2e68b741226a4e2ca028a4f31877281c": {
            "model_module": "@jupyter-widgets/controls",
            "model_module_version": "2.0.0",
            "model_name": "FloatProgressModel",
            "state": {
              "bar_style": "success",
              "layout": "IPY_MODEL_9a392dfb3ed346ceb92c93e1d33ed6de",
              "max": 27238,
              "style": "IPY_MODEL_768cbe03068d4d82bd9a4a85a1f2d066",
              "value": 27238
            }
          },
          "0034a6c4cb8146f5b8886ba4189b042a": {
            "model_module": "@jupyter-widgets/controls",
            "model_module_version": "2.0.0",
            "model_name": "DescriptionStyleModel",
            "state": {
              "description_width": ""
            }
          },
          "0199e0b9239d4fc086b39e5f73ab782b": {
            "model_module": "@jupyter-widgets/base",
            "model_module_version": "2.0.0",
            "model_name": "LayoutModel",
            "state": {}
          },
          "76b2792042b54f5fa184a2802d67fded": {
            "model_module": "@jupyter-widgets/controls",
            "model_module_version": "2.0.0",
            "model_name": "TextStyleModel",
            "state": {
              "description_width": "",
              "font_size": null,
              "text_color": null
            }
          },
          "254312427ee046429b1215dac9700daa": {
            "model_module": "@jupyter-widgets/controls",
            "model_module_version": "2.0.0",
            "model_name": "TextStyleModel",
            "state": {
              "description_width": "",
              "font_size": null,
              "text_color": null
            }
          },
          "f34a753d1e454dcb824b9b60ace20100": {
            "model_module": "@jupyter-widgets/controls",
            "model_module_version": "2.0.0",
            "model_name": "TextModel",
            "state": {
              "description": "Output Path",
              "layout": "IPY_MODEL_6d73a362e0db47969ecf8fdeb139ec17",
              "style": "IPY_MODEL_3ee5f0b5ff504632a7846e933084fe40"
            }
          },
          "18e20453fba24d93a31833109a1a6e62": {
            "model_module": "@jupyter-widgets/controls",
            "model_module_version": "2.0.0",
            "model_name": "CheckboxStyleModel",
            "state": {
              "description_width": ""
            }
          },
          "727519e2fe6c4e5db89acaa7f3b9d2f0": {
            "model_module": "@jupyter-widgets/controls",
            "model_module_version": "2.0.0",
            "model_name": "IntTextModel",
            "state": {
              "description": "Skip rows",
              "layout": "IPY_MODEL_67c9cb59aba44ce3b967aca1ec5f3f50",
              "step": 1,
              "style": "IPY_MODEL_bbad978e7de640cd91b4e80977a61cb4"
            }
          },
          "383b5112e9cc40a2aa5405c8294b618e": {
            "model_module": "@jupyter-widgets/base",
            "model_module_version": "2.0.0",
            "model_name": "LayoutModel",
            "state": {}
          },
          "3e57b69254c545abb3da8f7d60c7dcfd": {
            "model_module": "@jupyter-widgets/base",
            "model_module_version": "2.0.0",
            "model_name": "LayoutModel",
            "state": {}
          },
          "5987782ff9034fd8a2725ee058a730a8": {
            "model_module": "@jupyter-widgets/base",
            "model_module_version": "2.0.0",
            "model_name": "LayoutModel",
            "state": {
              "width": "95%"
            }
          },
          "4b31214fb5ed4a648ad4d07e328d64e7": {
            "model_module": "@jupyter-widgets/controls",
            "model_module_version": "2.0.0",
            "model_name": "TextStyleModel",
            "state": {
              "description_width": "",
              "font_size": null,
              "text_color": null
            }
          },
          "7de133e1eace46868b60df41017419fb": {
            "model_module": "@jupyter-widgets/controls",
            "model_module_version": "2.0.0",
            "model_name": "CheckboxModel",
            "state": {
              "description": "Don't split in batches",
              "disabled": false,
              "layout": "IPY_MODEL_3d192813ae1f4150bdf4ff0bceaf0ef8",
              "style": "IPY_MODEL_75690d0e3d654eeb8576cb3b2ffb49c1",
              "value": false
            }
          },
          "be753b9a1b8a44d085388a34622ec3ed": {
            "model_module": "@jupyter-widgets/controls",
            "model_module_version": "2.0.0",
            "model_name": "ButtonStyleModel",
            "state": {
              "font_family": null,
              "font_size": null,
              "font_style": null,
              "font_variant": null,
              "font_weight": null,
              "text_color": null,
              "text_decoration": null
            }
          },
          "eb36e6b59ac542a180eb54ab28364bf6": {
            "model_module": "@jupyter-widgets/controls",
            "model_module_version": "2.0.0",
            "model_name": "DescriptionStyleModel",
            "state": {
              "description_width": ""
            }
          },
          "7fafb3f6898d49ad8c785ef6b43cf204": {
            "model_module": "@jupyter-widgets/controls",
            "model_module_version": "2.0.0",
            "model_name": "TextStyleModel",
            "state": {
              "description_width": "",
              "font_size": null,
              "text_color": null
            }
          },
          "09675081a3ad4797a7095c6094dc10e9": {
            "model_module": "@jupyter-widgets/controls",
            "model_module_version": "2.0.0",
            "model_name": "DescriptionStyleModel",
            "state": {
              "description_width": ""
            }
          },
          "4e0bb18ed701411b8de6a846b3326f1b": {
            "model_module": "@jupyter-widgets/controls",
            "model_module_version": "2.0.0",
            "model_name": "TextStyleModel",
            "state": {
              "description_width": "",
              "font_size": null,
              "text_color": null
            }
          },
          "63b43f7d47874b399f09d97b81fea996": {
            "model_module": "@jupyter-widgets/base",
            "model_module_version": "2.0.0",
            "model_name": "LayoutModel",
            "state": {}
          },
          "5235d4b0855142cdb8eec9139beafd68": {
            "model_module": "@jupyter-widgets/controls",
            "model_module_version": "2.0.0",
            "model_name": "CheckboxStyleModel",
            "state": {
              "description_width": ""
            }
          },
          "c96d1052c9b04d63abd9b3ae94bc6d13": {
            "model_module": "@jupyter-widgets/base",
            "model_module_version": "2.0.0",
            "model_name": "LayoutModel",
            "state": {
              "width": "90%"
            }
          },
          "3ac6889560b84a94b6b29ed60531008f": {
            "model_module": "@jupyter-widgets/base",
            "model_module_version": "2.0.0",
            "model_name": "LayoutModel",
            "state": {
              "width": "90%"
            }
          },
          "a6de8dc04e9b4fb1b8f34e6635dec7a4": {
            "model_module": "@jupyter-widgets/controls",
            "model_module_version": "2.0.0",
            "model_name": "TextModel",
            "state": {
              "description": "Input Path",
              "layout": "IPY_MODEL_b11acebbf74d4c5d969eef18f029e448",
              "style": "IPY_MODEL_a3c7fdbd886e407d9599799be1558301",
              "tooltip": "Path to PDF directory"
            }
          },
          "72fb0141e6b34840b39088276c78d208": {
            "model_module": "@jupyter-widgets/base",
            "model_module_version": "2.0.0",
            "model_name": "LayoutModel",
            "state": {
              "width": "40%"
            }
          },
          "d89d910b53c34d76b753ec74ec06ddf6": {
            "model_module": "@jupyter-widgets/controls",
            "model_module_version": "2.0.0",
            "model_name": "CheckboxStyleModel",
            "state": {
              "description_width": ""
            }
          },
          "c3d09d8ff1b04e4fbdcb3f34778ea4ac": {
            "model_module": "@jupyter-widgets/base",
            "model_module_version": "2.0.0",
            "model_name": "LayoutModel",
            "state": {}
          },
          "0d141af37e9544d69c2b7ff1f1d6638b": {
            "model_module": "@jupyter-widgets/controls",
            "model_module_version": "2.0.0",
            "model_name": "ButtonStyleModel",
            "state": {
              "font_family": null,
              "font_size": null,
              "font_style": null,
              "font_variant": null,
              "font_weight": null,
              "text_color": null,
              "text_decoration": null
            }
          },
          "deeadf9edd0a40ecac253ef0e983d66f": {
            "model_module": "@jupyter-widgets/controls",
            "model_module_version": "2.0.0",
            "model_name": "IntTextModel",
            "state": {
              "description": "Skip rows",
              "layout": "IPY_MODEL_f589c2635a964e8bae08d2131169dcf1",
              "step": 1,
              "style": "IPY_MODEL_ee1ed4bf22084b1e8df70798e728b11c"
            }
          },
          "05168009fbb7492fb4f5889e43e449d7": {
            "model_module": "@jupyter-widgets/base",
            "model_module_version": "2.0.0",
            "model_name": "LayoutModel",
            "state": {}
          },
          "23eb2313ce664601b648e38ecf04ef07": {
            "model_module": "@jupyter-widgets/controls",
            "model_module_version": "2.0.0",
            "model_name": "HBoxModel",
            "state": {
              "children": [
                "IPY_MODEL_655caeedff39450bbb6b865b59f0c525",
                "IPY_MODEL_1d065c691a4f4aaa96643e6513e52bc0",
                "IPY_MODEL_53d7e4b8e4f245a3aebf460ccd4b1421"
              ],
              "layout": "IPY_MODEL_c1e2ea8a7fc144e0a1475b849a8edbe8"
            }
          },
          "9bd8f2c56a8e4ecc84c99c556671aaf4": {
            "model_module": "@jupyter-widgets/controls",
            "model_module_version": "2.0.0",
            "model_name": "HBoxModel",
            "state": {
              "children": [
                "IPY_MODEL_ebde6d6afde7498b923f79a0706780c2",
                "IPY_MODEL_d7076a008f3f4379a8e76ad06268d677",
                "IPY_MODEL_0795806612d042afb98ac556b8d0c54e"
              ],
              "layout": "IPY_MODEL_7b17156cfcaf4b4486069d841a55353a"
            }
          },
          "d155847f62a84cb4bad936a71472883d": {
            "model_module": "@jupyter-widgets/controls",
            "model_module_version": "2.0.0",
            "model_name": "IntTextModel",
            "state": {
              "description": "Set max count",
              "layout": "IPY_MODEL_6809ba31b25e46d5bee37eb332957f86",
              "step": 1,
              "style": "IPY_MODEL_bf58e12ccbd045a59349bbf6f286fb44"
            }
          },
          "c0aa64ab239b4c75a9658db3d0351301": {
            "model_module": "@jupyter-widgets/base",
            "model_module_version": "2.0.0",
            "model_name": "LayoutModel",
            "state": {}
          },
          "24516f2e7a3941789ff4a67b1f8f3a9f": {
            "model_module": "@jupyter-widgets/base",
            "model_module_version": "2.0.0",
            "model_name": "LayoutModel",
            "state": {}
          },
          "bccffe81fa7a4c969b1ef6b0864a130c": {
            "model_module": "@jupyter-widgets/controls",
            "model_module_version": "2.0.0",
            "model_name": "TextStyleModel",
            "state": {
              "description_width": "",
              "font_size": null,
              "text_color": null
            }
          },
          "0aa3a29ac29a451682266e0efdb22342": {
            "model_module": "@jupyter-widgets/controls",
            "model_module_version": "2.0.0",
            "model_name": "TextStyleModel",
            "state": {
              "description_width": "",
              "font_size": null,
              "text_color": null
            }
          },
          "134f116b4e0d48fd9d7d56357d07575e": {
            "model_module": "@jupyter-widgets/controls",
            "model_module_version": "2.0.0",
            "model_name": "DropdownModel",
            "state": {
              "_options_labels": [
                "cases",
                "charges",
                "disposition",
                "filing",
                "fees"
              ],
              "description": "Table:",
              "index": 0,
              "layout": "IPY_MODEL_d41918fd23d4495b9870d360830b12a2",
              "style": "IPY_MODEL_c010bc0ddbd541cca9c862adc1f9a740"
            }
          },
          "ead76fac4def4c4eb2bd709525f53a5d": {
            "model_module": "@jupyter-widgets/controls",
            "model_module_version": "2.0.0",
            "model_name": "HBoxModel",
            "state": {
              "children": [
                "IPY_MODEL_d06b1b36fe2544eead9d31013091325a",
                "IPY_MODEL_89e5d9625ce14ed6b170227d8a2afa3c",
                "IPY_MODEL_71c3ba3cd62246f4a3149e900391a256"
              ],
              "layout": "IPY_MODEL_46febdcc82a14661bd9589229943a7b0"
            }
          },
          "d348c06b3c3546cea8a35576e14d0750": {
            "model_module": "@jupyter-widgets/controls",
            "model_module_version": "2.0.0",
            "model_name": "TextModel",
            "state": {
              "description": "User ID: ",
              "layout": "IPY_MODEL_ecf48dc0005d4500975e229e479d97ec",
              "style": "IPY_MODEL_473f490556314fdf8b281147b675ff32"
            }
          },
          "f85f3f5cd5a24beaadd55d188377e19a": {
            "model_module": "@jupyter-widgets/controls",
            "model_module_version": "2.0.0",
            "model_name": "IntTextModel",
            "state": {
              "description": "Skip rows",
              "layout": "IPY_MODEL_aac3a88550e34fcea35687b8a567ddea",
              "step": 1,
              "style": "IPY_MODEL_cc9344235e2b4eba975a33f7257ef3c0"
            }
          },
          "5c11caf2cd9a444ba3aa00e684093e55": {
            "model_module": "@jupyter-widgets/base",
            "model_module_version": "2.0.0",
            "model_name": "LayoutModel",
            "state": {}
          },
          "dc2dff05619d4894a6ccde30e3d25a3f": {
            "model_module": "@jupyter-widgets/controls",
            "model_module_version": "2.0.0",
            "model_name": "HBoxModel",
            "state": {
              "children": [
                "IPY_MODEL_68f775f974914b7dbc77c4abbe5157af",
                "IPY_MODEL_e0bc72c041bc4b0f8b6bcdff63b575ac",
                "IPY_MODEL_5d51cb21363e4c32a71329bcbe85ae8d"
              ],
              "layout": "IPY_MODEL_6e494502b5574645894c51ac37ae8690"
            }
          },
          "116aee5e8de442ff90f296c02c8db162": {
            "model_module": "@jupyter-widgets/base",
            "model_module_version": "2.0.0",
            "model_name": "LayoutModel",
            "state": {
              "width": "90%"
            }
          },
          "3bcac339c9a24760b93d2c3dbc02c657": {
            "model_module": "@jupyter-widgets/controls",
            "model_module_version": "2.0.0",
            "model_name": "ButtonStyleModel",
            "state": {
              "font_family": null,
              "font_size": null,
              "font_style": null,
              "font_variant": null,
              "font_weight": null,
              "text_color": null,
              "text_decoration": null
            }
          },
          "379ac2694c544bfbbabdc409f0e2c7f3": {
            "model_module": "@jupyter-widgets/base",
            "model_module_version": "2.0.0",
            "model_name": "LayoutModel",
            "state": {}
          },
          "fb8cd24fc68a4748aa4102469b836ae4": {
            "model_module": "@jupyter-widgets/controls",
            "model_module_version": "2.0.0",
            "model_name": "TextStyleModel",
            "state": {
              "description_width": "",
              "font_size": null,
              "text_color": null
            }
          },
          "3f5d8e9a7ca74c2a809c2d94269a8692": {
            "model_module": "@jupyter-widgets/controls",
            "model_module_version": "2.0.0",
            "model_name": "ButtonStyleModel",
            "state": {
              "font_family": null,
              "font_size": null,
              "font_style": null,
              "font_variant": null,
              "font_weight": null,
              "text_color": null,
              "text_decoration": null
            }
          },
          "ab5e7b01947c4503a607fef50d732922": {
            "model_module": "@jupyter-widgets/controls",
            "model_module_version": "2.0.0",
            "model_name": "TextModel",
            "state": {
              "description": "Output Path:",
              "layout": "IPY_MODEL_f4f1c65cd8f74bf3989af3d098cc87f7",
              "style": "IPY_MODEL_9c96842c1e2b4592aa0330b597178755"
            }
          },
          "8e002b1eb82a464b93ca809d5ade7475": {
            "model_module": "@jupyter-widgets/base",
            "model_module_version": "2.0.0",
            "model_name": "LayoutModel",
            "state": {}
          },
          "84bb51f26a894b9c827a7e86e01dd854": {
            "model_module": "@jupyter-widgets/base",
            "model_module_version": "2.0.0",
            "model_name": "LayoutModel",
            "state": {}
          },
          "b2bcce2936f545078a64018f0766b967": {
            "model_module": "@jupyter-widgets/base",
            "model_module_version": "2.0.0",
            "model_name": "LayoutModel",
            "state": {
              "width": "90%"
            }
          },
          "e77e2153e4a3433eb5ac104ca3e419c1": {
            "model_module": "@jupyter-widgets/base",
            "model_module_version": "2.0.0",
            "model_name": "LayoutModel",
            "state": {}
          },
          "6d84d5c83b44420fb895ba906d51a76d": {
            "model_module": "@jupyter-widgets/controls",
            "model_module_version": "2.0.0",
            "model_name": "TextStyleModel",
            "state": {
              "description_width": "",
              "font_size": null,
              "text_color": null
            }
          },
          "1812579f3af14fd1b103cef2317f30f6": {
            "model_module": "@jupyter-widgets/controls",
            "model_module_version": "2.0.0",
            "model_name": "IntTextModel",
            "state": {
              "description": "Max rows",
              "layout": "IPY_MODEL_81dd598ab2c8496485b5f6733ebb75dd",
              "step": 1,
              "style": "IPY_MODEL_310d0253ee8648acb49c40b0047b4f79"
            }
          },
          "0ad7acfed25a4c18b5d4fdc67711fd24": {
            "model_module": "@jupyter-widgets/controls",
            "model_module_version": "2.0.0",
            "model_name": "CheckboxModel",
            "state": {
              "description": "Remove duplicates",
              "disabled": false,
              "layout": "IPY_MODEL_c675ba7bbd5a4417a0d57b649a408d38",
              "style": "IPY_MODEL_909d1eeeff124cdaa5f0a0f13d8ec2fb",
              "value": false
            }
          },
          "7b6ddb17e9214aadb6bc6c2faa31364f": {
            "model_module": "@jupyter-widgets/base",
            "model_module_version": "2.0.0",
            "model_name": "LayoutModel",
            "state": {}
          },
          "68a489fbb29942b79996e945c599c212": {
            "model_module": "@jupyter-widgets/base",
            "model_module_version": "2.0.0",
            "model_name": "LayoutModel",
            "state": {}
          },
          "ef4c613c95c84080bfde66c774a3f5f8": {
            "model_module": "@jupyter-widgets/base",
            "model_module_version": "2.0.0",
            "model_name": "LayoutModel",
            "state": {}
          },
          "2baf10c576cd4a8797e2de31e84f1207": {
            "model_module": "@jupyter-widgets/controls",
            "model_module_version": "2.0.0",
            "model_name": "TextStyleModel",
            "state": {
              "description_width": "",
              "font_size": null,
              "text_color": null
            }
          },
          "6086c05aab8848ceb8ef923f0735b94b": {
            "model_module": "@jupyter-widgets/base",
            "model_module_version": "2.0.0",
            "model_name": "LayoutModel",
            "state": {}
          },
          "b34b1b97124c43d8ad3e8c5faf117f0c": {
            "model_module": "@jupyter-widgets/controls",
            "model_module_version": "2.0.0",
            "model_name": "DescriptionStyleModel",
            "state": {
              "description_width": ""
            }
          },
          "9b096a67342c47cab846460b436f6ed2": {
            "model_module": "@jupyter-widgets/controls",
            "model_module_version": "2.0.0",
            "model_name": "CheckboxModel",
            "state": {
              "description": "Allow overwrite",
              "disabled": false,
              "layout": "IPY_MODEL_e11343fb7600448c933a19f08de2a82f",
              "style": "IPY_MODEL_33a74a21a282425a99f7aef2c837c76c",
              "value": false
            }
          },
          "e4d5d7edbb9240e58d54c0ded082ee0c": {
            "model_module": "@jupyter-widgets/base",
            "model_module_version": "2.0.0",
            "model_name": "LayoutModel",
            "state": {}
          },
          "79f53f70dcf04aceb5a8ae411028d60b": {
            "model_module": "@jupyter-widgets/controls",
            "model_module_version": "2.0.0",
            "model_name": "DescriptionStyleModel",
            "state": {
              "description_width": ""
            }
          },
          "5a2e0e1ef6594e82809f3d12a33d8c85": {
            "model_module": "@jupyter-widgets/controls",
            "model_module_version": "2.0.0",
            "model_name": "HBoxModel",
            "state": {
              "children": [
                "IPY_MODEL_99ce0c4801c948c8a1472c42c6e266c1",
                "IPY_MODEL_d23ca90751544b63b536ab3471237a55",
                "IPY_MODEL_e2b0efd6049743f8a7313d9d5b4eaf93"
              ],
              "layout": "IPY_MODEL_a35e9d7dbf7c40268a4c71b0aaf28fe6"
            }
          },
          "f589c2635a964e8bae08d2131169dcf1": {
            "model_module": "@jupyter-widgets/base",
            "model_module_version": "2.0.0",
            "model_name": "LayoutModel",
            "state": {
              "width": "40%"
            }
          },
          "a4f4af20def94c2185610a08326f36bb": {
            "model_module": "@jupyter-widgets/controls",
            "model_module_version": "2.0.0",
            "model_name": "HBoxModel",
            "state": {
              "children": [
                "IPY_MODEL_9c6407e0abd348e99463ff2967aed7cd",
                "IPY_MODEL_1ef177a267394b7180815b6516f32d44",
                "IPY_MODEL_313ba220f44e42409b2e1f9a23ef23bf"
              ],
              "layout": "IPY_MODEL_d6f5e2c1b9d941e289b842adaf75daf0"
            }
          },
          "1eb755ea42ab42d6b774aae3aa15c554": {
            "model_module": "@jupyter-widgets/controls",
            "model_module_version": "2.0.0",
            "model_name": "ButtonStyleModel",
            "state": {
              "font_family": null,
              "font_size": null,
              "font_style": null,
              "font_variant": null,
              "font_weight": null,
              "text_color": null,
              "text_decoration": null
            }
          },
          "9634c1c1cfc34b21b896d3504453a3ac": {
            "model_module": "@jupyter-widgets/controls",
            "model_module_version": "2.0.0",
            "model_name": "PasswordModel",
            "state": {
              "description": "Password: ",
              "layout": "IPY_MODEL_4ad5d807fa834228b50ff95a536de26e",
              "style": "IPY_MODEL_8b2bf3654005418489ad0aa1eb0d4675"
            }
          },
          "3d48b9ca97784878a702fed27c3d5196": {
            "model_module": "@jupyter-widgets/base",
            "model_module_version": "2.0.0",
            "model_name": "LayoutModel",
            "state": {}
          },
          "adb8d5a485494889bcf66b0fd9396074": {
            "model_module": "@jupyter-widgets/base",
            "model_module_version": "2.0.0",
            "model_name": "LayoutModel",
            "state": {
              "width": "90%"
            }
          },
          "bece555f3b4443e0b87a1ad4b8b9788d": {
            "model_module": "@jupyter-widgets/controls",
            "model_module_version": "2.0.0",
            "model_name": "CheckboxModel",
            "state": {
              "description": "Allow overwrite",
              "disabled": false,
              "layout": "IPY_MODEL_796af48bc10245839ac6ca1459a62e82",
              "style": "IPY_MODEL_0aada1df7bbd465eadf076549f251b75",
              "value": false
            }
          },
          "77112d65bad54ce2a3797aaa87b1aefb": {
            "model_module": "@jupyter-widgets/base",
            "model_module_version": "2.0.0",
            "model_name": "LayoutModel",
            "state": {}
          },
          "45caab7b16e2411dac71bd77a22ac5d0": {
            "model_module": "@jupyter-widgets/base",
            "model_module_version": "2.0.0",
            "model_name": "LayoutModel",
            "state": {}
          },
          "0e70edc8afae4809bc893aa958bc509c": {
            "model_module": "@jupyter-widgets/base",
            "model_module_version": "2.0.0",
            "model_name": "LayoutModel",
            "state": {
              "width": "90%"
            }
          },
          "e7c4fd5e5c1445e0bc25257d9dee7aa3": {
            "model_module": "@jupyter-widgets/controls",
            "model_module_version": "2.0.0",
            "model_name": "TextStyleModel",
            "state": {
              "description_width": "",
              "font_size": null,
              "text_color": null
            }
          },
          "6f6317f51e094a988bb5c9a92d7cc459": {
            "model_module": "@jupyter-widgets/controls",
            "model_module_version": "2.0.0",
            "model_name": "CheckboxStyleModel",
            "state": {
              "description_width": ""
            }
          },
          "a28cecf42edb4267adf5120abe5220f5": {
            "model_module": "@jupyter-widgets/controls",
            "model_module_version": "2.0.0",
            "model_name": "DescriptionStyleModel",
            "state": {
              "description_width": ""
            }
          },
          "52f47e755ff54e8c904c3d3e6e831675": {
            "model_module": "@jupyter-widgets/base",
            "model_module_version": "2.0.0",
            "model_name": "LayoutModel",
            "state": {
              "width": "40%"
            }
          },
          "d806ba3744f74f5190c1593510561f4a": {
            "model_module": "@jupyter-widgets/base",
            "model_module_version": "2.0.0",
            "model_name": "LayoutModel",
            "state": {
              "width": "95%"
            }
          },
          "e6d30d47e597472ba51683c478045a50": {
            "model_module": "@jupyter-widgets/base",
            "model_module_version": "2.0.0",
            "model_name": "LayoutModel",
            "state": {
              "width": "90%"
            }
          },
          "40987201429248a5a739ba41ddc07e5e": {
            "model_module": "@jupyter-widgets/base",
            "model_module_version": "2.0.0",
            "model_name": "LayoutModel",
            "state": {}
          },
          "4b00540c6668452c850aadd814a9eeb7": {
            "model_module": "@jupyter-widgets/base",
            "model_module_version": "2.0.0",
            "model_name": "LayoutModel",
            "state": {
              "width": "90%"
            }
          },
          "bbcb3e0b815a4e0eab3c7f9fc8f9c070": {
            "model_module": "@jupyter-widgets/controls",
            "model_module_version": "2.0.0",
            "model_name": "HTMLStyleModel",
            "state": {
              "description_width": "",
              "font_size": null,
              "text_color": null
            }
          },
          "40c2718878f94cf29007cd629d30e634": {
            "model_module": "@jupyter-widgets/controls",
            "model_module_version": "2.0.0",
            "model_name": "CheckboxStyleModel",
            "state": {
              "description_width": ""
            }
          },
          "62c49e188b394f16bc4a207fdd719cad": {
            "model_module": "@jupyter-widgets/controls",
            "model_module_version": "2.0.0",
            "model_name": "ButtonStyleModel",
            "state": {
              "font_family": null,
              "font_size": null,
              "font_style": null,
              "font_variant": null,
              "font_weight": null,
              "text_color": null,
              "text_decoration": null
            }
          },
          "f565eaac0e144efc8ed4c539a8c031cc": {
            "model_module": "@jupyter-widgets/base",
            "model_module_version": "2.0.0",
            "model_name": "LayoutModel",
            "state": {}
          },
          "063927b46fa847a7a8527e540c166f30": {
            "model_module": "@jupyter-widgets/controls",
            "model_module_version": "2.0.0",
            "model_name": "TextStyleModel",
            "state": {
              "description_width": "",
              "font_size": null,
              "text_color": null
            }
          },
          "79c0380dc6684036b2f1cf1a6ba169bb": {
            "model_module": "@jupyter-widgets/controls",
            "model_module_version": "2.0.0",
            "model_name": "ButtonStyleModel",
            "state": {
              "font_family": null,
              "font_size": null,
              "font_style": null,
              "font_variant": null,
              "font_weight": null,
              "text_color": null,
              "text_decoration": null
            }
          },
          "b466192979014a6db0d6f95f9ac80867": {
            "model_module": "@jupyter-widgets/controls",
            "model_module_version": "2.0.0",
            "model_name": "DescriptionStyleModel",
            "state": {
              "description_width": ""
            }
          },
          "5e245574c95c440786261401b41e0454": {
            "model_module": "@jupyter-widgets/base",
            "model_module_version": "2.0.0",
            "model_name": "LayoutModel",
            "state": {
              "width": "90%"
            }
          },
          "349a5f63c9ba4461a6cb14a451b0dcf5": {
            "model_module": "@jupyter-widgets/controls",
            "model_module_version": "2.0.0",
            "model_name": "ButtonModel",
            "state": {
              "description": "Read more",
              "layout": "IPY_MODEL_601f6f2db8084bc1b57e6aaabaaaecfd",
              "style": "IPY_MODEL_ba139cac5a3b4b7e9638f676c824a56d",
              "tooltip": null
            }
          },
          "f4f1c65cd8f74bf3989af3d098cc87f7": {
            "model_module": "@jupyter-widgets/base",
            "model_module_version": "2.0.0",
            "model_name": "LayoutModel",
            "state": {
              "width": "90%"
            }
          },
          "fa4e8041c68e444f856e5d870e17af95": {
            "model_module": "@jupyter-widgets/base",
            "model_module_version": "2.0.0",
            "model_name": "LayoutModel",
            "state": {
              "width": "95%"
            }
          },
          "f57ae8a5d2514e999ec20331a696ed12": {
            "model_module": "@jupyter-widgets/controls",
            "model_module_version": "2.0.0",
            "model_name": "TextStyleModel",
            "state": {
              "description_width": "",
              "font_size": null,
              "text_color": null
            }
          },
          "869293abaa9245eb93c8171b67611494": {
            "model_module": "@jupyter-widgets/controls",
            "model_module_version": "2.0.0",
            "model_name": "IntTextModel",
            "state": {
              "description": "Max count",
              "layout": "IPY_MODEL_30aed0ba382847bd96f8fb99ff3b440f",
              "step": 1,
              "style": "IPY_MODEL_2c08b43677124d3cb700cdf269f3f552",
              "value": 200
            }
          },
          "1f4591bcdb2041e19eb7634dfb69747b": {
            "model_module": "@jupyter-widgets/controls",
            "model_module_version": "2.0.0",
            "model_name": "IntTextModel",
            "state": {
              "description": "Max rows",
              "layout": "IPY_MODEL_371f3b41bd73450b821d290477c8145b",
              "step": 1,
              "style": "IPY_MODEL_12ee6e7f70d84e9dbf495be8a76e585d"
            }
          },
          "70f2f71374374fe1915f006774286209": {
            "model_module": "@jupyter-widgets/controls",
            "model_module_version": "2.0.0",
            "model_name": "ButtonModel",
            "state": {
              "description": "Start export",
              "layout": "IPY_MODEL_4181d07953b04382ba20ed64d1e6203a",
              "style": "IPY_MODEL_870ae110c7dd406f89151cfea605a100",
              "tooltip": null
            }
          },
          "ba476db99569439585ba481cb69fe9ef": {
            "model_module": "@jupyter-widgets/controls",
            "model_module_version": "2.0.0",
            "model_name": "TextModel",
            "state": {
              "description": "Input Path",
              "layout": "IPY_MODEL_b745088f49d8414da57b1b90272f0536",
              "style": "IPY_MODEL_5dde8e6150ba43e38620870fd3d85189",
              "tooltip": "Path to input directory or archive"
            }
          },
          "6c4b4c487e3c493697d762add88b02af": {
            "model_module": "@jupyter-widgets/controls",
            "model_module_version": "2.0.0",
            "model_name": "TextStyleModel",
            "state": {
              "description_width": "",
              "font_size": null,
              "text_color": null
            }
          },
          "f9422931c1dd4d989f1ad16a2bb906e9": {
            "model_module": "@jupyter-widgets/controls",
            "model_module_version": "2.0.0",
            "model_name": "TextStyleModel",
            "state": {
              "description_width": "",
              "font_size": null,
              "text_color": null
            }
          },
          "c2621013289f48f8ab3199982f880db0": {
            "model_module": "@jupyter-widgets/controls",
            "model_module_version": "2.0.0",
            "model_name": "TextModel",
            "state": {
              "description": "User ID: ",
              "layout": "IPY_MODEL_94a1df1e11e641848a7875a39fff77d1",
              "style": "IPY_MODEL_4fed1b71d8cc4275a777546fc0850158"
            }
          },
          "6f4e226af40543b590cb0fd8bd8a765c": {
            "model_module": "@jupyter-widgets/controls",
            "model_module_version": "2.0.0",
            "model_name": "TextModel",
            "state": {
              "description": "Output Path:",
              "layout": "IPY_MODEL_f314b07e0be34701aaf72786142a28d9",
              "style": "IPY_MODEL_fe76439768bf4ff4afdb800c635f9eca"
            }
          },
          "19f899cfe4d547c686f8ee4986fda2e9": {
            "model_module": "@jupyter-widgets/controls",
            "model_module_version": "2.0.0",
            "model_name": "CheckboxStyleModel",
            "state": {
              "description_width": ""
            }
          },
          "216a4f32750f40dc81003e1861c2b23f": {
            "model_module": "@jupyter-widgets/output",
            "model_module_version": "1.0.0",
            "model_name": "OutputModel",
            "state": {
              "layout": "IPY_MODEL_574bd0b1c94e4b32b0c745f7f6001079"
            }
          },
          "62b6f642744c494fa28c23c1f0813492": {
            "model_module": "@jupyter-widgets/controls",
            "model_module_version": "2.0.0",
            "model_name": "TextStyleModel",
            "state": {
              "description_width": "",
              "font_size": null,
              "text_color": null
            }
          },
          "b3e8e484a9fa490a930fa062470c2b1b": {
            "model_module": "@jupyter-widgets/controls",
            "model_module_version": "2.0.0",
            "model_name": "CheckboxModel",
            "state": {
              "description": "ZIP export (must be .json, .csv)",
              "disabled": false,
              "layout": "IPY_MODEL_e56fa90ae3ca4782b530cbef729df1d8",
              "style": "IPY_MODEL_4bbcacf8d83c4386893d71f74f2455a4",
              "value": false
            }
          },
          "a0b96aa5310d48d997240b31ffb4cec9": {
            "model_module": "@jupyter-widgets/controls",
            "model_module_version": "2.0.0",
            "model_name": "ButtonModel",
            "state": {
              "description": "Read more",
              "layout": "IPY_MODEL_139178854f834a588cf2b5bc52c1431e",
              "style": "IPY_MODEL_40fd9d16cf2944a8bc84975516d76677",
              "tooltip": null
            }
          },
          "8e27a4edceea410ba2816592c4976509": {
            "model_module": "@jupyter-widgets/controls",
            "model_module_version": "2.0.0",
            "model_name": "HBoxModel",
            "state": {
              "children": [
                "IPY_MODEL_a84d65d8de4742d78d0aee8789ee43ee",
                "IPY_MODEL_d58d17eff3174382b20c20b521f2e9c0"
              ],
              "layout": "IPY_MODEL_625ad43d24384d5bbe0848bc460c0a79"
            }
          },
          "f912811e72de4cabb681b07ce28a4345": {
            "model_module": "@jupyter-widgets/base",
            "model_module_version": "2.0.0",
            "model_name": "LayoutModel",
            "state": {
              "width": "90%"
            }
          },
          "7c7c2730ab9946feafddbd3df77f0d79": {
            "model_module": "@jupyter-widgets/controls",
            "model_module_version": "2.0.0",
            "model_name": "TextModel",
            "state": {
              "description": "Output Path",
              "layout": "IPY_MODEL_5bca8f05c462436e8079a76d50538af4",
              "style": "IPY_MODEL_dda60eb55c8a4395880face26239fa16"
            }
          },
          "a0dd8c6927a2401b9b653ebc0937a9f0": {
            "model_module": "@jupyter-widgets/controls",
            "model_module_version": "2.0.0",
            "model_name": "TextModel",
            "state": {
              "description": "User ID: ",
              "layout": "IPY_MODEL_d1f18269bc4f4931a7b0b6077cc2cef2",
              "style": "IPY_MODEL_106feefbc5c1427c80ed171ba8611021"
            }
          },
          "b1f6358514cc48bb93b4ea64d8e90f56": {
            "model_module": "@jupyter-widgets/controls",
            "model_module_version": "2.0.0",
            "model_name": "TextStyleModel",
            "state": {
              "description_width": "",
              "font_size": null,
              "text_color": null
            }
          },
          "cbfa78e906434f348beaf1edb1ddf62f": {
            "model_module": "@jupyter-widgets/base",
            "model_module_version": "2.0.0",
            "model_name": "LayoutModel",
            "state": {}
          },
          "e1489848b11e404286e538b59f7ec804": {
            "model_module": "@jupyter-widgets/base",
            "model_module_version": "2.0.0",
            "model_name": "LayoutModel",
            "state": {}
          },
          "ee8bdf89a9c544c2834b2c66028043e6": {
            "model_module": "@jupyter-widgets/controls",
            "model_module_version": "2.0.0",
            "model_name": "FloatTextModel",
            "state": {
              "description": "Speed",
              "layout": "IPY_MODEL_7732713c2c3a4493a53db3666787c0e1",
              "step": 0.1,
              "style": "IPY_MODEL_69b7edc4be2a426190e8dc5dc592989d",
              "value": 1
            }
          },
          "97a2dea13b5d4f65b4317fa03fdeba71": {
            "model_module": "@jupyter-widgets/base",
            "model_module_version": "2.0.0",
            "model_name": "LayoutModel",
            "state": {
              "width": "90%"
            }
          },
          "7b920c323bde4a6a9da59d9198e34af6": {
            "model_module": "@jupyter-widgets/controls",
            "model_module_version": "2.0.0",
            "model_name": "DescriptionStyleModel",
            "state": {
              "description_width": ""
            }
          },
          "e2da386e7b49477b91da97f557eadbf6": {
            "model_module": "@jupyter-widgets/controls",
            "model_module_version": "2.0.0",
            "model_name": "CheckboxModel",
            "state": {
              "description": "Allow overwrite",
              "disabled": false,
              "layout": "IPY_MODEL_312a119e3b604cdf92bd3f6230fa631a",
              "style": "IPY_MODEL_d62403f24cfd48a1b22ae10a8d07cdf1",
              "value": false
            }
          },
          "5a15037d57884424914143d50b78ee6d": {
            "model_module": "@jupyter-widgets/base",
            "model_module_version": "2.0.0",
            "model_name": "LayoutModel",
            "state": {
              "width": "95%"
            }
          },
          "782e394e0d754fcf845014abdc919adb": {
            "model_module": "@jupyter-widgets/output",
            "model_module_version": "1.0.0",
            "model_name": "OutputModel",
            "state": {
              "layout": "IPY_MODEL_9a05b214b2bd425cb6abf801983794da"
            }
          },
          "32de40e19e794bc09e30196b5e47fd8c": {
            "model_module": "@jupyter-widgets/controls",
            "model_module_version": "2.0.0",
            "model_name": "DropdownModel",
            "state": {
              "_options_labels": [
                "cases",
                "charges",
                "disposition",
                "filing",
                "fees"
              ],
              "description": "Table:",
              "index": 0,
              "layout": "IPY_MODEL_7845775eb4a64c1c84bebd3bf2e4f9a5",
              "style": "IPY_MODEL_cdc1f3f6f369460980baf5b2ba64879f"
            }
          },
          "4634c5de202f487e9da9a7bc4558342c": {
            "model_module": "@jupyter-widgets/controls",
            "model_module_version": "2.0.0",
            "model_name": "ButtonStyleModel",
            "state": {
              "font_family": null,
              "font_size": null,
              "font_style": null,
              "font_variant": null,
              "font_weight": null,
              "text_color": null,
              "text_decoration": null
            }
          },
          "0272bf12f4c5453c9a129fb4c924bfe8": {
            "model_module": "@jupyter-widgets/controls",
            "model_module_version": "2.0.0",
            "model_name": "TextModel",
            "state": {
              "description": "Customer ID: ",
              "layout": "IPY_MODEL_84138cfe4155449f8bc6d13553ccde71",
              "style": "IPY_MODEL_127f96408634472a9b61ef72f41db8bb"
            }
          },
          "3822e23cf01b403eacc4aecbe707d521": {
            "model_module": "@jupyter-widgets/controls",
            "model_module_version": "2.0.0",
            "model_name": "CheckboxStyleModel",
            "state": {
              "description_width": ""
            }
          },
          "0ec31e75744943be81ae15a5e58c6159": {
            "model_module": "@jupyter-widgets/controls",
            "model_module_version": "2.0.0",
            "model_name": "TextModel",
            "state": {
              "description": "Output Path:",
              "layout": "IPY_MODEL_1afcbb76524e46b1a77a4e9a61217b41",
              "style": "IPY_MODEL_db86d9e2632a46ecb08894ffd882a157"
            }
          },
          "90c9d68c53464a09b2cd12c75e07125a": {
            "model_module": "@jupyter-widgets/base",
            "model_module_version": "2.0.0",
            "model_name": "LayoutModel",
            "state": {}
          },
          "bab80984f9bb4d2b9e818fb6f25f04c8": {
            "model_module": "@jupyter-widgets/base",
            "model_module_version": "2.0.0",
            "model_name": "LayoutModel",
            "state": {
              "width": "95%"
            }
          },
          "96330dc95dc746179498cbbd8b657d18": {
            "model_module": "@jupyter-widgets/base",
            "model_module_version": "2.0.0",
            "model_name": "LayoutModel",
            "state": {
              "width": "95%"
            }
          },
          "fc8d53c4f4184c18a1ef1de8cd7f5ce7": {
            "model_module": "@jupyter-widgets/controls",
            "model_module_version": "2.0.0",
            "model_name": "IntTextModel",
            "state": {
              "description": "Max count:",
              "layout": "IPY_MODEL_68c862529b084a838e331696eceba952",
              "step": 1,
              "style": "IPY_MODEL_228017d497964aaf8b7f2f6043d6882a"
            }
          },
          "240fa50eac5f4b6faa397634dfecde0a": {
            "model_module": "@jupyter-widgets/controls",
            "model_module_version": "2.0.0",
            "model_name": "ButtonModel",
            "state": {
              "description": "Start archiving",
              "layout": "IPY_MODEL_350ad262c5464d2fba69fcf67214557f",
              "style": "IPY_MODEL_c5ebe88868424bb1b8169f040a393b61",
              "tooltip": null
            }
          },
          "abd3dc6292574057af894652a35e4674": {
            "model_module": "@jupyter-widgets/controls",
            "model_module_version": "2.0.0",
            "model_name": "TextStyleModel",
            "state": {
              "description_width": "",
              "font_size": null,
              "text_color": null
            }
          },
          "0687765295604fd3bee73d65b397fa36": {
            "model_module": "@jupyter-widgets/controls",
            "model_module_version": "2.0.0",
            "model_name": "ButtonModel",
            "state": {
              "description": "Start export",
              "layout": "IPY_MODEL_b439c745612845b986eb847562a5e55b",
              "style": "IPY_MODEL_7dec0addcc60429e94a5dd520f4628b0",
              "tooltip": null
            }
          },
          "2ca907d6942e449fa6d3314d1e1d2c58": {
            "model_module": "@jupyter-widgets/controls",
            "model_module_version": "2.0.0",
            "model_name": "CheckboxModel",
            "state": {
              "description": "Don't split in batches",
              "disabled": false,
              "layout": "IPY_MODEL_2e84fe57c7734a73a46cccc2572b0d06",
              "style": "IPY_MODEL_55e6dd3a8aa44bfeb97000146e711d7b",
              "value": false
            }
          },
          "f499f017f3a44e7a8b7c2c43724e5e2a": {
            "model_module": "@jupyter-widgets/controls",
            "model_module_version": "2.0.0",
            "model_name": "HBoxModel",
            "state": {
              "children": [
                "IPY_MODEL_734289eedae14e929249ec309e2e8ce6",
                "IPY_MODEL_d55feafa282d44a3a856c5b6f502ccb6",
                "IPY_MODEL_2587be98d4db47cebaf9e70e4a4af20e"
              ],
              "layout": "IPY_MODEL_ef4121604f7345d6a672ce7186f3cf16"
            }
          },
          "729b97f759e74bea8c6e64bafcbdc2f8": {
            "model_module": "@jupyter-widgets/base",
            "model_module_version": "2.0.0",
            "model_name": "LayoutModel",
            "state": {}
          },
          "c39ba529a5d04e6695770695bde4dca8": {
            "model_module": "@jupyter-widgets/controls",
            "model_module_version": "2.0.0",
            "model_name": "TextModel",
            "state": {
              "description": "Input Path:",
              "layout": "IPY_MODEL_09c8d59ce062405196700a036a8379be",
              "style": "IPY_MODEL_3bf3caeb358044a8bf6c04fe6c2e7587",
              "tooltip": "Path to query template spreadsheet (list of names, etc. to search)"
            }
          },
          "c6857a02790347bfba42de7459ccbcac": {
            "model_module": "@jupyter-widgets/controls",
            "model_module_version": "2.0.0",
            "model_name": "TextStyleModel",
            "state": {
              "description_width": "",
              "font_size": null,
              "text_color": null
            }
          },
          "3ee5f0b5ff504632a7846e933084fe40": {
            "model_module": "@jupyter-widgets/controls",
            "model_module_version": "2.0.0",
            "model_name": "TextStyleModel",
            "state": {
              "description_width": "",
              "font_size": null,
              "text_color": null
            }
          },
          "b1f0f1aa5515496b82703fe49982d99f": {
            "model_module": "@jupyter-widgets/controls",
            "model_module_version": "2.0.0",
            "model_name": "PasswordModel",
            "state": {
              "description": "Password: ",
              "layout": "IPY_MODEL_835c21edfe924eb88a9a9a53407cd8b6",
              "style": "IPY_MODEL_aff51f87fab240cd8cdd50ccdb24da85"
            }
          },
          "71fd8d1bb390401eae715e63b749f0f4": {
            "model_module": "@jupyter-widgets/base",
            "model_module_version": "2.0.0",
            "model_name": "LayoutModel",
            "state": {}
          },
          "461ead1ee2264a19b74770727805508b": {
            "model_module": "@jupyter-widgets/base",
            "model_module_version": "2.0.0",
            "model_name": "LayoutModel",
            "state": {}
          },
          "10feb95e5a364225a9921a5bb1711a8f": {
            "model_module": "@jupyter-widgets/base",
            "model_module_version": "2.0.0",
            "model_name": "LayoutModel",
            "state": {}
          },
          "f427a80453ce472e82a7edb97fe4b55d": {
            "model_module": "@jupyter-widgets/controls",
            "model_module_version": "2.0.0",
            "model_name": "ProgressStyleModel",
            "state": {
              "description_width": ""
            }
          },
          "23fc95127de04bc2a1e3781d8492c226": {
            "model_module": "@jupyter-widgets/base",
            "model_module_version": "2.0.0",
            "model_name": "LayoutModel",
            "state": {}
          },
          "98b1929c4e024cdea8020a287362316f": {
            "model_module": "@jupyter-widgets/base",
            "model_module_version": "2.0.0",
            "model_name": "LayoutModel",
            "state": {
              "width": "90%"
            }
          },
          "ec51959cddd142ddac9dcee55656a38d": {
            "model_module": "@jupyter-widgets/controls",
            "model_module_version": "2.0.0",
            "model_name": "CheckboxStyleModel",
            "state": {
              "description_width": ""
            }
          },
          "bd2c401ebc7e499089fa8f57d9f6f1aa": {
            "model_module": "@jupyter-widgets/controls",
            "model_module_version": "2.0.0",
            "model_name": "CheckboxModel",
            "state": {
              "description": "ZIP export (must be .json, .csv)",
              "disabled": false,
              "layout": "IPY_MODEL_e4126d3c783c4ed189e28718149d2b6a",
              "style": "IPY_MODEL_4cfc58c4ba994e26a0a9b8b9976cb2f3",
              "value": false
            }
          },
          "bf188f2d55a24e03980d629127a04399": {
            "model_module": "@jupyter-widgets/controls",
            "model_module_version": "2.0.0",
            "model_name": "TextStyleModel",
            "state": {
              "description_width": "",
              "font_size": null,
              "text_color": null
            }
          },
          "6d2eb475dff244248c9edac16bc62703": {
            "model_module": "@jupyter-widgets/base",
            "model_module_version": "2.0.0",
            "model_name": "LayoutModel",
            "state": {
              "width": "40%"
            }
          },
          "64f6c74b2a6443bc995664e8b255876b": {
            "model_module": "@jupyter-widgets/controls",
            "model_module_version": "2.0.0",
            "model_name": "TextStyleModel",
            "state": {
              "description_width": "",
              "font_size": null,
              "text_color": null
            }
          },
          "db60f4c286d54224add58ef4864efe09": {
            "model_module": "@jupyter-widgets/controls",
            "model_module_version": "2.0.0",
            "model_name": "TextStyleModel",
            "state": {
              "description_width": "",
              "font_size": null,
              "text_color": null
            }
          },
          "3fb5ef407d8c41adb7dd5b26c7749bc2": {
            "model_module": "@jupyter-widgets/controls",
            "model_module_version": "2.0.0",
            "model_name": "TextModel",
            "state": {
              "description": "Output Path",
              "layout": "IPY_MODEL_ae1e8a2edf894117861124f0f8ab8add",
              "style": "IPY_MODEL_0a4ff2d3109048528f5fc8641acbe819",
              "value": "/Users/samuelrobson/Desktop/PDFBENZ2.xlsx"
            }
          },
          "1a554b0928fd424fae7991b2e391e3d1": {
            "model_module": "@jupyter-widgets/controls",
            "model_module_version": "2.0.0",
            "model_name": "TextStyleModel",
            "state": {
              "description_width": "",
              "font_size": null,
              "text_color": null
            }
          },
          "9860d8d0e10c4c06aaa9598e3f8d8e19": {
            "model_module": "@jupyter-widgets/controls",
            "model_module_version": "2.0.0",
            "model_name": "CheckboxStyleModel",
            "state": {
              "description_width": ""
            }
          },
          "8c007ead2b0540098e1219ab938ec537": {
            "model_module": "@jupyter-widgets/base",
            "model_module_version": "2.0.0",
            "model_name": "LayoutModel",
            "state": {
              "width": "40%"
            }
          },
          "d04ea1bde74a4670a58c7c94206d8d47": {
            "model_module": "@jupyter-widgets/controls",
            "model_module_version": "2.0.0",
            "model_name": "CheckboxStyleModel",
            "state": {
              "description_width": ""
            }
          },
          "0c4fd65e823a4340be78481884c93354": {
            "model_module": "@jupyter-widgets/controls",
            "model_module_version": "2.0.0",
            "model_name": "TextStyleModel",
            "state": {
              "description_width": "",
              "font_size": null,
              "text_color": null
            }
          },
          "a11c388cb78b4dda8345808ece92014c": {
            "model_module": "@jupyter-widgets/base",
            "model_module_version": "2.0.0",
            "model_name": "LayoutModel",
            "state": {
              "width": "40%"
            }
          },
          "a04a88794b154783ab437fc5eadb4bb5": {
            "model_module": "@jupyter-widgets/base",
            "model_module_version": "2.0.0",
            "model_name": "LayoutModel",
            "state": {}
          },
          "c1e2ea8a7fc144e0a1475b849a8edbe8": {
            "model_module": "@jupyter-widgets/base",
            "model_module_version": "2.0.0",
            "model_name": "LayoutModel",
            "state": {}
          },
          "3ee0739849b147b8a1e11a232900b4dc": {
            "model_module": "@jupyter-widgets/controls",
            "model_module_version": "2.0.0",
            "model_name": "HBoxModel",
            "state": {
              "children": [
                "IPY_MODEL_00ac876fff8e4626b9a8cddbb83e481a",
                "IPY_MODEL_aad4458163dc4e33ab305b555871f003"
              ],
              "layout": "IPY_MODEL_10cda0e3542c4bc4b24a4c7ea84dd02a"
            }
          },
          "289871905c0a4d5e8fe5e23f27f52104": {
            "model_module": "@jupyter-widgets/base",
            "model_module_version": "2.0.0",
            "model_name": "LayoutModel",
            "state": {}
          },
          "49dd09df8d384fb18c9fc0e9902a976a": {
            "model_module": "@jupyter-widgets/controls",
            "model_module_version": "2.0.0",
            "model_name": "ButtonStyleModel",
            "state": {
              "font_family": null,
              "font_size": null,
              "font_style": null,
              "font_variant": null,
              "font_weight": null,
              "text_color": null,
              "text_decoration": null
            }
          },
          "6b92be80044b42178a954b54ecaf0670": {
            "model_module": "@jupyter-widgets/controls",
            "model_module_version": "2.0.0",
            "model_name": "TextModel",
            "state": {
              "description": "Output Path:",
              "layout": "IPY_MODEL_f912811e72de4cabb681b07ce28a4345",
              "style": "IPY_MODEL_d5d7e158cd8d4d71a1db8a37828fe360"
            }
          },
          "cd12a0e6908f4119907ab400bbeb800f": {
            "model_module": "@jupyter-widgets/base",
            "model_module_version": "2.0.0",
            "model_name": "LayoutModel",
            "state": {
              "width": "95%"
            }
          },
          "83aca16434044cf6af1f6ad7d5695f53": {
            "model_module": "@jupyter-widgets/controls",
            "model_module_version": "2.0.0",
            "model_name": "ButtonModel",
            "state": {
              "description": "Login",
              "layout": "IPY_MODEL_7b6ddb17e9214aadb6bc6c2faa31364f",
              "style": "IPY_MODEL_475372d3cb2a4a7ca4417b33fa458077",
              "tooltip": null
            }
          },
          "16c785320c2d4491b5190db799535072": {
            "model_module": "@jupyter-widgets/controls",
            "model_module_version": "2.0.0",
            "model_name": "TextStyleModel",
            "state": {
              "description_width": "",
              "font_size": null,
              "text_color": null
            }
          },
          "e957a7c1902c4cfb9bd4a70ef9342227": {
            "model_module": "@jupyter-widgets/controls",
            "model_module_version": "2.0.0",
            "model_name": "TextModel",
            "state": {
              "description": "Input Path:",
              "layout": "IPY_MODEL_dada4fda7f6d42ff9a4dc84a6a283d84",
              "style": "IPY_MODEL_53869279910a4ba68675c436fcd342d2",
              "tooltip": "Path to query template spreadsheet (list of names, etc. to search)"
            }
          },
          "d3218954a87a435e9679c7f99bb6bb09": {
            "model_module": "@jupyter-widgets/controls",
            "model_module_version": "2.0.0",
            "model_name": "IntTextModel",
            "state": {
              "description": "Max count",
              "layout": "IPY_MODEL_ee766fd4bc2646a1ba826891652b04f8",
              "step": 1,
              "style": "IPY_MODEL_84aaef86eb6c4204bd46dbc601011cc0"
            }
          },
          "be39f8f89ef74eb3b82ec9435e21ced3": {
            "model_module": "@jupyter-widgets/controls",
            "model_module_version": "2.0.0",
            "model_name": "TextStyleModel",
            "state": {
              "description_width": "",
              "font_size": null,
              "text_color": null
            }
          },
          "b3f296f5034c4e589cafd1c8c8fa8e6c": {
            "model_module": "@jupyter-widgets/controls",
            "model_module_version": "2.0.0",
            "model_name": "DescriptionStyleModel",
            "state": {
              "description_width": ""
            }
          },
          "512384d0808f46d4871df65aa2a09734": {
            "model_module": "@jupyter-widgets/base",
            "model_module_version": "2.0.0",
            "model_name": "LayoutModel",
            "state": {
              "width": "95%"
            }
          },
          "c93df47ce12b42b0a68c299f9f2ce895": {
            "model_module": "@jupyter-widgets/base",
            "model_module_version": "2.0.0",
            "model_name": "LayoutModel",
            "state": {}
          },
          "89247ba92a5b44af88e0aa49c12cd712": {
            "model_module": "@jupyter-widgets/controls",
            "model_module_version": "2.0.0",
            "model_name": "TextModel",
            "state": {
              "description": "Output Path",
              "layout": "IPY_MODEL_96330dc95dc746179498cbbd8b657d18",
              "style": "IPY_MODEL_f57ae8a5d2514e999ec20331a696ed12"
            }
          },
          "871b2d7081834a2fab750ec7dd616041": {
            "model_module": "@jupyter-widgets/controls",
            "model_module_version": "2.0.0",
            "model_name": "DescriptionStyleModel",
            "state": {
              "description_width": ""
            }
          },
          "595e6302c0eb45d889e14b32880387fb": {
            "model_module": "@jupyter-widgets/controls",
            "model_module_version": "2.0.0",
            "model_name": "TextModel",
            "state": {
              "description": "Input Path",
              "layout": "IPY_MODEL_c81fb08ea3d243a686ed2d4d2a9604b7",
              "style": "IPY_MODEL_e833b78286d64d3086db127791ed9aeb",
              "tooltip": "Path to input directory or archive"
            }
          },
          "8e6de281bc544db39f401b160b11fe80": {
            "model_module": "@jupyter-widgets/base",
            "model_module_version": "2.0.0",
            "model_name": "LayoutModel",
            "state": {
              "width": "40%"
            }
          },
          "73c0dcdc1ed64a6692bc0198f6f17d6d": {
            "model_module": "@jupyter-widgets/base",
            "model_module_version": "2.0.0",
            "model_name": "LayoutModel",
            "state": {
              "width": "95%"
            }
          },
          "e777c4d4a617451081eee7c33dc6bc63": {
            "model_module": "@jupyter-widgets/controls",
            "model_module_version": "2.0.0",
            "model_name": "TextModel",
            "state": {
              "description": "Input Path",
              "layout": "IPY_MODEL_acaab61c8a234e3c8d65c2529cb089aa",
              "style": "IPY_MODEL_bd5a7a550fac4bacb502389bc2599c77",
              "tooltip": "Path to input directory or archive"
            }
          },
          "0108cb7a720d47e889a48e8dbd5a4e9a": {
            "model_module": "@jupyter-widgets/controls",
            "model_module_version": "2.0.0",
            "model_name": "ButtonModel",
            "state": {
              "description": "Start export",
              "layout": "IPY_MODEL_5fa0a8d99a7045d8a10a7f98965079f6",
              "style": "IPY_MODEL_e8e3a7e6da674c46b4e7dcb03fcf0832",
              "tooltip": null
            }
          },
          "63a01c275b8244eb8a0d9abd8613c2c1": {
            "model_module": "@jupyter-widgets/controls",
            "model_module_version": "2.0.0",
            "model_name": "DescriptionStyleModel",
            "state": {
              "description_width": ""
            }
          },
          "80912c7c098a4a7ca3788409772f6409": {
            "model_module": "@jupyter-widgets/controls",
            "model_module_version": "2.0.0",
            "model_name": "TextStyleModel",
            "state": {
              "description_width": "",
              "font_size": null,
              "text_color": null
            }
          },
          "86532b90fa7246dfbe31a8b3ac1fc771": {
            "model_module": "@jupyter-widgets/base",
            "model_module_version": "2.0.0",
            "model_name": "LayoutModel",
            "state": {}
          },
          "b959cff16f5c4d949cafe237b9427649": {
            "model_module": "@jupyter-widgets/controls",
            "model_module_version": "2.0.0",
            "model_name": "DescriptionStyleModel",
            "state": {
              "description_width": ""
            }
          },
          "f168ac8ff04c4b848419568903e09165": {
            "model_module": "@jupyter-widgets/controls",
            "model_module_version": "2.0.0",
            "model_name": "TextModel",
            "state": {
              "description": "Input Path",
              "layout": "IPY_MODEL_ffb0d3a459ec448486d52baf2a8a83e6",
              "style": "IPY_MODEL_8eb37ed85e444b7e97f5a34956418aae",
              "tooltip": "Path to input directory or archive",
              "value": "/Users/samuelrobson/Desktop/NewTut.pkl.xz"
            }
          },
          "fd623ab77f2d4f1b8d14439d171afc20": {
            "model_module": "@jupyter-widgets/controls",
            "model_module_version": "2.0.0",
            "model_name": "CheckboxStyleModel",
            "state": {
              "description_width": ""
            }
          },
          "ef7077ab380f458a8a03e49c960754cf": {
            "model_module": "@jupyter-widgets/controls",
            "model_module_version": "2.0.0",
            "model_name": "TextModel",
            "state": {
              "description": "User ID: ",
              "layout": "IPY_MODEL_17c28247f8484d97ac694d5da0e1e38f",
              "style": "IPY_MODEL_8a80ca2902db44c1bbff157bb7f286e7"
            }
          },
          "4c65536342c54d4aa30d65278389d1bd": {
            "model_module": "@jupyter-widgets/controls",
            "model_module_version": "2.0.0",
            "model_name": "TextStyleModel",
            "state": {
              "description_width": "",
              "font_size": null,
              "text_color": null
            }
          },
          "545984878b3d459ba6c00e05435489d1": {
            "model_module": "@jupyter-widgets/controls",
            "model_module_version": "2.0.0",
            "model_name": "ButtonStyleModel",
            "state": {
              "font_family": null,
              "font_size": null,
              "font_style": null,
              "font_variant": null,
              "font_weight": null,
              "text_color": null,
              "text_decoration": null
            }
          },
          "1c20f2b4001045e3b9297f2e9aceb75e": {
            "model_module": "@jupyter-widgets/controls",
            "model_module_version": "2.0.0",
            "model_name": "TextModel",
            "state": {
              "description": "Output Path",
              "layout": "IPY_MODEL_6fa0df9bd5934fa3b4518f94f29ba220",
              "style": "IPY_MODEL_f9422931c1dd4d989f1ad16a2bb906e9"
            }
          },
          "c0f49c89fe9d4e5ba75b0e4568b8401a": {
            "model_module": "@jupyter-widgets/base",
            "model_module_version": "2.0.0",
            "model_name": "LayoutModel",
            "state": {}
          },
          "98dc621f136940b793ffbec7b95ebab1": {
            "model_module": "@jupyter-widgets/base",
            "model_module_version": "2.0.0",
            "model_name": "LayoutModel",
            "state": {
              "width": "40%"
            }
          },
          "0764147a98314472a0d2716af4c1e86f": {
            "model_module": "@jupyter-widgets/base",
            "model_module_version": "2.0.0",
            "model_name": "LayoutModel",
            "state": {}
          },
          "d6ed746ddbff4b5db255722661b6f29c": {
            "model_module": "@jupyter-widgets/controls",
            "model_module_version": "2.0.0",
            "model_name": "CheckboxModel",
            "state": {
              "description": "Don't split in batches",
              "disabled": false,
              "layout": "IPY_MODEL_48fbf356a7b84feb971738bc516736b0",
              "style": "IPY_MODEL_d6751ea6398f4d89b6cb8078ac26df47",
              "value": false
            }
          },
          "06bbf559352a4554a15fd335daa8d1e3": {
            "model_module": "@jupyter-widgets/controls",
            "model_module_version": "2.0.0",
            "model_name": "TextStyleModel",
            "state": {
              "description_width": "",
              "font_size": null,
              "text_color": null
            }
          },
          "8e94e56c13f444a3ac6f71f9c6b12ab6": {
            "model_module": "@jupyter-widgets/controls",
            "model_module_version": "2.0.0",
            "model_name": "CheckboxStyleModel",
            "state": {
              "description_width": ""
            }
          },
          "d06bac7e3315479fbe1960b5f746e5c7": {
            "model_module": "@jupyter-widgets/controls",
            "model_module_version": "2.0.0",
            "model_name": "DescriptionStyleModel",
            "state": {
              "description_width": ""
            }
          },
          "81cd5a99ce1d4f70a8ac15e434462c49": {
            "model_module": "@jupyter-widgets/controls",
            "model_module_version": "2.0.0",
            "model_name": "TextStyleModel",
            "state": {
              "description_width": "",
              "font_size": null,
              "text_color": null
            }
          },
          "8a64f9bb23494d66a9a711980476b591": {
            "model_module": "@jupyter-widgets/base",
            "model_module_version": "2.0.0",
            "model_name": "LayoutModel",
            "state": {}
          },
          "2d2ca460966d4c9f909b1b2ef42d59f2": {
            "model_module": "@jupyter-widgets/base",
            "model_module_version": "2.0.0",
            "model_name": "LayoutModel",
            "state": {
              "width": "90%"
            }
          },
          "fd5bce90e3cd4777b60515da0bf73f38": {
            "model_module": "@jupyter-widgets/controls",
            "model_module_version": "2.0.0",
            "model_name": "ButtonModel",
            "state": {
              "description": "Start archiving",
              "layout": "IPY_MODEL_3d5096922a9a408ebc9382f993d654aa",
              "style": "IPY_MODEL_0c6d93402af145e5b48cb9e9c4fce2cd",
              "tooltip": null
            }
          },
          "edf178aca77c485d8bfbe3306f348906": {
            "model_module": "@jupyter-widgets/controls",
            "model_module_version": "2.0.0",
            "model_name": "HBoxModel",
            "state": {
              "children": [
                "IPY_MODEL_abc8cb2908bd4911a4e60f62b062548f",
                "IPY_MODEL_e78435dceea54f5ca109f2979f9c6d80",
                "IPY_MODEL_296378c7afbe49e2b89a92c8c86c7a30"
              ],
              "layout": "IPY_MODEL_e7ed6d2b658040fc9ebc1eb07f69002a"
            }
          },
          "fff902bc7f0d42bebb9ddcfc220af0a0": {
            "model_module": "@jupyter-widgets/controls",
            "model_module_version": "2.0.0",
            "model_name": "HTMLModel",
            "state": {
              "layout": "IPY_MODEL_0996a53bfe3941f9bbabd946ecdf5724",
              "style": "IPY_MODEL_7900990476a042f6abb5537d4f96ab8a",
              "value": "Charges: 100%"
            }
          },
          "47505bee9bc14983ab155239e3c04725": {
            "model_module": "@jupyter-widgets/controls",
            "model_module_version": "2.0.0",
            "model_name": "HBoxModel",
            "state": {
              "children": [
                "IPY_MODEL_cb62eeee56ab4d15a8d63fcca1acf82b",
                "IPY_MODEL_818e4c946f8b45f3afdca4f114a5627f"
              ],
              "layout": "IPY_MODEL_6f8d159ff4024cb1afd3bcd806f63bdf"
            }
          },
          "19b635b768674a5ea92de798944146be": {
            "model_module": "@jupyter-widgets/base",
            "model_module_version": "2.0.0",
            "model_name": "LayoutModel",
            "state": {}
          },
          "93d4b605d0dc4783b27b390a89985d75": {
            "model_module": "@jupyter-widgets/controls",
            "model_module_version": "2.0.0",
            "model_name": "ButtonStyleModel",
            "state": {
              "font_family": null,
              "font_size": null,
              "font_style": null,
              "font_variant": null,
              "font_weight": null,
              "text_color": null,
              "text_decoration": null
            }
          },
          "34cf0dc219844065ac7a83cc0fb1060c": {
            "model_module": "@jupyter-widgets/base",
            "model_module_version": "2.0.0",
            "model_name": "LayoutModel",
            "state": {
              "width": "95%"
            }
          },
          "6f8d159ff4024cb1afd3bcd806f63bdf": {
            "model_module": "@jupyter-widgets/base",
            "model_module_version": "2.0.0",
            "model_name": "LayoutModel",
            "state": {}
          },
          "c990a6a257984492b1a680d3a0fe9b73": {
            "model_module": "@jupyter-widgets/controls",
            "model_module_version": "2.0.0",
            "model_name": "CheckboxStyleModel",
            "state": {
              "description_width": ""
            }
          },
          "1f9b3d10959346deb1199de903dff351": {
            "model_module": "@jupyter-widgets/controls",
            "model_module_version": "2.0.0",
            "model_name": "CheckboxModel",
            "state": {
              "description": "Allow overwrite",
              "disabled": false,
              "layout": "IPY_MODEL_1946c2bf29734cf08432dada797811b0",
              "style": "IPY_MODEL_829fc09ad3bc497486945bfbb2986a01",
              "value": false
            }
          },
          "e9647a9af7fc490997f7e219aca2edd9": {
            "model_module": "@jupyter-widgets/controls",
            "model_module_version": "2.0.0",
            "model_name": "CheckboxStyleModel",
            "state": {
              "description_width": ""
            }
          },
          "b1403d258b364d1b9fa456aee9d1f718": {
            "model_module": "@jupyter-widgets/base",
            "model_module_version": "2.0.0",
            "model_name": "LayoutModel",
            "state": {
              "width": "90%"
            }
          },
          "420e867c2fc6409a828b333be5c6c3eb": {
            "model_module": "@jupyter-widgets/controls",
            "model_module_version": "2.0.0",
            "model_name": "IntTextModel",
            "state": {
              "description": "Max rows",
              "layout": "IPY_MODEL_52f47e755ff54e8c904c3d3e6e831675",
              "step": 1,
              "style": "IPY_MODEL_4b77a09399e04c8c96adbd396fcf68d2"
            }
          },
          "41ce22497a9446e4a92f43a05f387cc8": {
            "model_module": "@jupyter-widgets/controls",
            "model_module_version": "2.0.0",
            "model_name": "TextModel",
            "state": {
              "description": "User ID: ",
              "layout": "IPY_MODEL_fa579e7829bc4feea59099fd1f764956",
              "style": "IPY_MODEL_c6857a02790347bfba42de7459ccbcac"
            }
          },
          "e4f7ca0a653f424088284402adc65d14": {
            "model_module": "@jupyter-widgets/controls",
            "model_module_version": "2.0.0",
            "model_name": "TextModel",
            "state": {
              "description": "Output Path:",
              "layout": "IPY_MODEL_3da6573ae1784a60a70ed332761d8eaf",
              "style": "IPY_MODEL_a4b9a6be4d5c47f3b1ffc28c8f6bbefe"
            }
          },
          "d4178415a85d46dc8a1a82bf62743254": {
            "model_module": "@jupyter-widgets/base",
            "model_module_version": "2.0.0",
            "model_name": "LayoutModel",
            "state": {
              "width": "95%"
            }
          },
          "117b0ce8b29a4498a582a91046f73d82": {
            "model_module": "@jupyter-widgets/base",
            "model_module_version": "2.0.0",
            "model_name": "LayoutModel",
            "state": {}
          },
          "d46381948f2c4a2ca167b3037ea3e481": {
            "model_module": "@jupyter-widgets/controls",
            "model_module_version": "2.0.0",
            "model_name": "TextStyleModel",
            "state": {
              "description_width": "",
              "font_size": null,
              "text_color": null
            }
          },
          "ac3cda281bb246c9bf1f16ca13d0a884": {
            "model_module": "@jupyter-widgets/controls",
            "model_module_version": "2.0.0",
            "model_name": "TextModel",
            "state": {
              "description": "Input Path:",
              "layout": "IPY_MODEL_99abed9f1ba645eab5e9b48dd7284c2c",
              "style": "IPY_MODEL_62b6f642744c494fa28c23c1f0813492",
              "tooltip": "Path to query template spreadsheet (list of names, etc. to search)"
            }
          },
          "fea869cb74c94be7ab2b38b5d6974319": {
            "model_module": "@jupyter-widgets/controls",
            "model_module_version": "2.0.0",
            "model_name": "ButtonModel",
            "state": {
              "description": "Start archiving",
              "layout": "IPY_MODEL_b205f1e2aa354a3f8268a30e4874ac0a",
              "style": "IPY_MODEL_4c9259f3ef7f4280a31b4cbfe3f500a6",
              "tooltip": null
            }
          },
          "c6bce73d70214d29a4b54377e22bf63f": {
            "model_module": "@jupyter-widgets/base",
            "model_module_version": "2.0.0",
            "model_name": "LayoutModel",
            "state": {
              "width": "90%"
            }
          },
          "4abc31fb755c4832b658094eac4eec0b": {
            "model_module": "@jupyter-widgets/controls",
            "model_module_version": "2.0.0",
            "model_name": "CheckboxStyleModel",
            "state": {
              "description_width": ""
            }
          },
          "62091a23db48464396d770931cd8849f": {
            "model_module": "@jupyter-widgets/controls",
            "model_module_version": "2.0.0",
            "model_name": "TextModel",
            "state": {
              "description": "Output Path",
              "layout": "IPY_MODEL_116309353e334a4c97cf7803ea2d46c0",
              "style": "IPY_MODEL_40a95eedce2a4cada79c655f29ed4df5"
            }
          },
          "4ab53b6d206b4ffaaf66f523bdf5a893": {
            "model_module": "@jupyter-widgets/controls",
            "model_module_version": "2.0.0",
            "model_name": "HTMLModel",
            "state": {
              "layout": "IPY_MODEL_b45bda47304a4070b9c5f201e6712d4f",
              "style": "IPY_MODEL_9cd16e12498b4c6f9290b5e958fea788",
              "value": "100%"
            }
          },
          "2587be98d4db47cebaf9e70e4a4af20e": {
            "model_module": "@jupyter-widgets/controls",
            "model_module_version": "2.0.0",
            "model_name": "CheckboxModel",
            "state": {
              "description": "ZIP export (must be .json, .csv)",
              "disabled": false,
              "layout": "IPY_MODEL_f3b36026d9dc43d4b73b26ab712e1bab",
              "style": "IPY_MODEL_266a01a1c38b45fcbc2db67a11c7b7fd",
              "value": false
            }
          },
          "e6d61c51742f4e2ab2aa04c53de98985": {
            "model_module": "@jupyter-widgets/controls",
            "model_module_version": "2.0.0",
            "model_name": "ButtonStyleModel",
            "state": {
              "font_family": null,
              "font_size": null,
              "font_style": null,
              "font_variant": null,
              "font_weight": null,
              "text_color": null,
              "text_decoration": null
            }
          },
          "b5bc1e1efcae4f4a91c4e1285eac5bb7": {
            "model_module": "@jupyter-widgets/base",
            "model_module_version": "2.0.0",
            "model_name": "LayoutModel",
            "state": {}
          },
          "e0c67c7583f041529815d3da09ad5b84": {
            "model_module": "@jupyter-widgets/controls",
            "model_module_version": "2.0.0",
            "model_name": "TextModel",
            "state": {
              "description": "Output Path:",
              "layout": "IPY_MODEL_7b5e95a182294013bde9e56d89946e44",
              "style": "IPY_MODEL_34dbdff2020b4d75bc0b2efd85f97d18"
            }
          },
          "edd304749d054ad7ade14f5f4f6dac80": {
            "model_module": "@jupyter-widgets/controls",
            "model_module_version": "2.0.0",
            "model_name": "TextStyleModel",
            "state": {
              "description_width": "",
              "font_size": null,
              "text_color": null
            }
          },
          "390a0fe29ed443aa8a6be1a8b6190ad5": {
            "model_module": "@jupyter-widgets/controls",
            "model_module_version": "2.0.0",
            "model_name": "ButtonStyleModel",
            "state": {
              "font_family": null,
              "font_size": null,
              "font_style": null,
              "font_variant": null,
              "font_weight": null,
              "text_color": null,
              "text_decoration": null
            }
          },
          "53869279910a4ba68675c436fcd342d2": {
            "model_module": "@jupyter-widgets/controls",
            "model_module_version": "2.0.0",
            "model_name": "TextStyleModel",
            "state": {
              "description_width": "",
              "font_size": null,
              "text_color": null
            }
          },
          "a84d65d8de4742d78d0aee8789ee43ee": {
            "model_module": "@jupyter-widgets/controls",
            "model_module_version": "2.0.0",
            "model_name": "CheckboxModel",
            "state": {
              "description": "Allow overwrite",
              "disabled": false,
              "layout": "IPY_MODEL_b3590d75e253430f90e01172de7eef13",
              "style": "IPY_MODEL_93a2e469dfed4d58bab4475540e41e43",
              "value": false
            }
          },
          "08c16269b418460daba02f7f116e827b": {
            "model_module": "@jupyter-widgets/controls",
            "model_module_version": "2.0.0",
            "model_name": "IntTextModel",
            "state": {
              "description": "Skip rows",
              "layout": "IPY_MODEL_8a658ff77fd64c5ba57d085f09fa5401",
              "step": 1,
              "style": "IPY_MODEL_79f53f70dcf04aceb5a8ae411028d60b"
            }
          },
          "220d899f79b447d7b4399e75447cc004": {
            "model_module": "@jupyter-widgets/controls",
            "model_module_version": "2.0.0",
            "model_name": "ButtonModel",
            "state": {
              "description": "Read more",
              "layout": "IPY_MODEL_5a0b392b02ae40b383d01069d579b0e7",
              "style": "IPY_MODEL_93db08e803464863ba9fbcc5d5f9b2b7",
              "tooltip": null
            }
          },
          "d712827235ec4286a5b5a64ad73be3c0": {
            "model_module": "@jupyter-widgets/base",
            "model_module_version": "2.0.0",
            "model_name": "LayoutModel",
            "state": {}
          },
          "8572b192a44f4139863f6e0159ef7c0a": {
            "model_module": "@jupyter-widgets/base",
            "model_module_version": "2.0.0",
            "model_name": "LayoutModel",
            "state": {
              "width": "90%"
            }
          },
          "4ad2f8ecf22c4918b1a0c856e5f758fe": {
            "model_module": "@jupyter-widgets/controls",
            "model_module_version": "2.0.0",
            "model_name": "IntTextModel",
            "state": {
              "description": "Skip rows",
              "layout": "IPY_MODEL_b4e66238f13340aba9c7130fbf1313b6",
              "step": 1,
              "style": "IPY_MODEL_e5a951a8718c4c70a474cf5da8cfea0a"
            }
          },
          "edaa2824dd574696b0e3fcd5081d7d3d": {
            "model_module": "@jupyter-widgets/controls",
            "model_module_version": "2.0.0",
            "model_name": "TextModel",
            "state": {
              "description": "Output Path:",
              "layout": "IPY_MODEL_484729f0f08d45f9a1cf59923dbc4472",
              "style": "IPY_MODEL_1197bc949b9846019db5baa23fd2a69c"
            }
          },
          "6a06f395500e44b48e9ce9dee8d4da69": {
            "model_module": "@jupyter-widgets/controls",
            "model_module_version": "2.0.0",
            "model_name": "CheckboxStyleModel",
            "state": {
              "description_width": ""
            }
          },
          "ad3e3476064f41e78b55c30199f8dfcc": {
            "model_module": "@jupyter-widgets/controls",
            "model_module_version": "2.0.0",
            "model_name": "CheckboxModel",
            "state": {
              "description": "Allow overwrite",
              "disabled": false,
              "layout": "IPY_MODEL_33d49e8ffa004b26848467d24c4f03cb",
              "style": "IPY_MODEL_5d30f93a5e884a999f2eca2f1e0040ce",
              "value": false
            }
          },
          "3b27492a512241cf93740a3f615c2b2e": {
            "model_module": "@jupyter-widgets/controls",
            "model_module_version": "2.0.0",
            "model_name": "ButtonStyleModel",
            "state": {
              "font_family": null,
              "font_size": null,
              "font_style": null,
              "font_variant": null,
              "font_weight": null,
              "text_color": null,
              "text_decoration": null
            }
          },
          "c37c670746e34b49bf8f4cefc02a408b": {
            "model_module": "@jupyter-widgets/base",
            "model_module_version": "2.0.0",
            "model_name": "LayoutModel",
            "state": {}
          },
          "287ff0bf4052482fa8f5e5cddc819b43": {
            "model_module": "@jupyter-widgets/controls",
            "model_module_version": "2.0.0",
            "model_name": "TextModel",
            "state": {
              "description": "Input Path",
              "layout": "IPY_MODEL_ea0ed26e244c4649bc451a16f99f3b81",
              "style": "IPY_MODEL_a792d91f4e9540569d71437737841a50",
              "tooltip": "Path to input directory or archive"
            }
          },
          "08f1e9dcffa64346977205c728505a6f": {
            "model_module": "@jupyter-widgets/controls",
            "model_module_version": "2.0.0",
            "model_name": "TextStyleModel",
            "state": {
              "description_width": "",
              "font_size": null,
              "text_color": null
            }
          },
          "524333ed4aac4acaa56e0dd1687e3fe4": {
            "model_module": "@jupyter-widgets/base",
            "model_module_version": "2.0.0",
            "model_name": "LayoutModel",
            "state": {
              "width": "90%"
            }
          },
          "57326b8159b6477a80098e3e904cf68b": {
            "model_module": "@jupyter-widgets/controls",
            "model_module_version": "2.0.0",
            "model_name": "CheckboxModel",
            "state": {
              "description": "Remove duplicates",
              "disabled": false,
              "layout": "IPY_MODEL_ee0bb801df8e4291940d6401e6343fa6",
              "style": "IPY_MODEL_6067b9428a1c417ebacb509a4ec34f2c",
              "value": false
            }
          },
          "e094a1d262ce41e3bde8362951aaae76": {
            "model_module": "@jupyter-widgets/output",
            "model_module_version": "1.0.0",
            "model_name": "OutputModel",
            "state": {
              "layout": "IPY_MODEL_e1e33caa26f846639f3fdf69e9869347"
            }
          },
          "59bf33518636472d83f7488f03a25c4e": {
            "model_module": "@jupyter-widgets/controls",
            "model_module_version": "2.0.0",
            "model_name": "TextStyleModel",
            "state": {
              "description_width": "",
              "font_size": null,
              "text_color": null
            }
          },
          "db6886d0cf96410c828ef0f29451ea56": {
            "model_module": "@jupyter-widgets/controls",
            "model_module_version": "2.0.0",
            "model_name": "CheckboxModel",
            "state": {
              "description": "Remove duplicates",
              "disabled": false,
              "layout": "IPY_MODEL_b24c26e11ee74de89db98479abbab439",
              "style": "IPY_MODEL_e34e99dfe73e476096c1b710117cfa07",
              "value": false
            }
          },
          "6eedb6fa40b44210b621eb05e2a9c80d": {
            "model_module": "@jupyter-widgets/controls",
            "model_module_version": "2.0.0",
            "model_name": "TextStyleModel",
            "state": {
              "description_width": "",
              "font_size": null,
              "text_color": null
            }
          },
          "08d24e8335364f16b7e1adef8cbc75fd": {
            "model_module": "@jupyter-widgets/controls",
            "model_module_version": "2.0.0",
            "model_name": "PasswordModel",
            "state": {
              "description": "Password: ",
              "layout": "IPY_MODEL_bc0656b33f004d02bf0cb720d02e13b9",
              "style": "IPY_MODEL_c52a6a4a12ef4b6fa9dcd5aaf3aacd9b"
            }
          },
          "7814f22a3a294ab6adda77c8840cc005": {
            "model_module": "@jupyter-widgets/controls",
            "model_module_version": "2.0.0",
            "model_name": "HTMLModel",
            "state": {
              "layout": "IPY_MODEL_fa6728178fc64b39805ed15095d99699",
              "style": "IPY_MODEL_57b9ebef949142f58c0f2d12c9aa11c4",
              "value": " 999/999 [00:00&lt;00:00, 14826.11it/s]"
            }
          },
          "6c57a88965bb472a84cc69b9ddfa2103": {
            "model_module": "@jupyter-widgets/base",
            "model_module_version": "2.0.0",
            "model_name": "LayoutModel",
            "state": {}
          },
          "829fc09ad3bc497486945bfbb2986a01": {
            "model_module": "@jupyter-widgets/controls",
            "model_module_version": "2.0.0",
            "model_name": "CheckboxStyleModel",
            "state": {
              "description_width": ""
            }
          },
          "05a9169aa49d4a0d8c66d856d4d4fd59": {
            "model_module": "@jupyter-widgets/base",
            "model_module_version": "2.0.0",
            "model_name": "LayoutModel",
            "state": {
              "width": "90%"
            }
          },
          "c3a9de6a8dfd4250a16866a24e6754cc": {
            "model_module": "@jupyter-widgets/controls",
            "model_module_version": "2.0.0",
            "model_name": "IntTextModel",
            "state": {
              "description": "Set max count",
              "layout": "IPY_MODEL_7716e2cea1c34cef8cdf8698b777440c",
              "step": 1,
              "style": "IPY_MODEL_9d44a1ead1524bbc9a9875286edf4e49"
            }
          },
          "298cb2c5e00043e08fd943e4308f3504": {
            "model_module": "@jupyter-widgets/base",
            "model_module_version": "2.0.0",
            "model_name": "LayoutModel",
            "state": {
              "width": "40%"
            }
          },
          "68134bbad86c478ea111310896f6a87f": {
            "model_module": "@jupyter-widgets/controls",
            "model_module_version": "2.0.0",
            "model_name": "TextModel",
            "state": {
              "description": "Output Path",
              "layout": "IPY_MODEL_761b55a549884ae99ce6a517f935d72e",
              "style": "IPY_MODEL_4c65536342c54d4aa30d65278389d1bd"
            }
          },
          "96d507c4743b4348a32dff5c9af76c20": {
            "model_module": "@jupyter-widgets/base",
            "model_module_version": "2.0.0",
            "model_name": "LayoutModel",
            "state": {}
          },
          "b82423f6ca7e4c8896f632f8ebb2e45b": {
            "model_module": "@jupyter-widgets/controls",
            "model_module_version": "2.0.0",
            "model_name": "DescriptionStyleModel",
            "state": {
              "description_width": ""
            }
          },
          "79ad9a55019f4731a7d45553323b4bd3": {
            "model_module": "@jupyter-widgets/base",
            "model_module_version": "2.0.0",
            "model_name": "LayoutModel",
            "state": {}
          },
          "815590d9678642868d6bdcbf424d4f1a": {
            "model_module": "@jupyter-widgets/base",
            "model_module_version": "2.0.0",
            "model_name": "LayoutModel",
            "state": {}
          },
          "19d1b2dd77c546e9872330a5fcc0eb28": {
            "model_module": "@jupyter-widgets/controls",
            "model_module_version": "2.0.0",
            "model_name": "TextStyleModel",
            "state": {
              "description_width": "",
              "font_size": null,
              "text_color": null
            }
          },
          "134217decd2240418e184cc73117f049": {
            "model_module": "@jupyter-widgets/controls",
            "model_module_version": "2.0.0",
            "model_name": "DescriptionStyleModel",
            "state": {
              "description_width": ""
            }
          },
          "85267afa38774b85982406a523519f5f": {
            "model_module": "@jupyter-widgets/base",
            "model_module_version": "2.0.0",
            "model_name": "LayoutModel",
            "state": {
              "width": "40%"
            }
          },
          "d0fd3bd5a848407f9b143d8c1d38d819": {
            "model_module": "@jupyter-widgets/controls",
            "model_module_version": "2.0.0",
            "model_name": "HBoxModel",
            "state": {
              "children": [
                "IPY_MODEL_fff902bc7f0d42bebb9ddcfc220af0a0",
                "IPY_MODEL_7cb8359f81bd407fa8941c04f7c69f8f",
                "IPY_MODEL_acd03ea0bcde4b5594a3d1b365e037cc"
              ],
              "layout": "IPY_MODEL_a91d59eb831d4255916447284767b6a8"
            }
          },
          "a75fa9ede35a4694a32f76b524687178": {
            "model_module": "@jupyter-widgets/controls",
            "model_module_version": "2.0.0",
            "model_name": "ButtonStyleModel",
            "state": {
              "font_family": null,
              "font_size": null,
              "font_style": null,
              "font_variant": null,
              "font_weight": null,
              "text_color": null,
              "text_decoration": null
            }
          },
          "56e762c573284a5d9877c57a114ec5b1": {
            "model_module": "@jupyter-widgets/controls",
            "model_module_version": "2.0.0",
            "model_name": "DescriptionStyleModel",
            "state": {
              "description_width": ""
            }
          },
          "0dabf4764c77466282c280608222d7c8": {
            "model_module": "@jupyter-widgets/controls",
            "model_module_version": "2.0.0",
            "model_name": "FloatTextModel",
            "state": {
              "description": "Speed",
              "layout": "IPY_MODEL_3da1876f7bc04067a8a2d7a5a62a5d72",
              "step": 0.1,
              "style": "IPY_MODEL_832652e5ac1a4d479522ce7f54765dd6",
              "value": 1
            }
          },
          "bbca61f7858f4b3d9d81e2e851e3724c": {
            "model_module": "@jupyter-widgets/controls",
            "model_module_version": "2.0.0",
            "model_name": "CheckboxStyleModel",
            "state": {
              "description_width": ""
            }
          },
          "47139d8121144a708f66926f9084652d": {
            "model_module": "@jupyter-widgets/base",
            "model_module_version": "2.0.0",
            "model_name": "LayoutModel",
            "state": {
              "width": "95%"
            }
          },
          "b7ae43ce35454daf9fc83815d7f464f6": {
            "model_module": "@jupyter-widgets/controls",
            "model_module_version": "2.0.0",
            "model_name": "TextStyleModel",
            "state": {
              "description_width": "",
              "font_size": null,
              "text_color": null
            }
          },
          "7845775eb4a64c1c84bebd3bf2e4f9a5": {
            "model_module": "@jupyter-widgets/base",
            "model_module_version": "2.0.0",
            "model_name": "LayoutModel",
            "state": {}
          },
          "2e5deb68f71a433ab70bf9dbfe8604ae": {
            "model_module": "@jupyter-widgets/controls",
            "model_module_version": "2.0.0",
            "model_name": "CheckboxModel",
            "state": {
              "description": "Allow overwrite",
              "disabled": false,
              "layout": "IPY_MODEL_ad4a4e762c3d4907bc0df267fb274366",
              "style": "IPY_MODEL_e864aaf9f09d47a4865a5786b55e381d",
              "value": false
            }
          },
          "d83a867493854f10997e7fe44d40788f": {
            "model_module": "@jupyter-widgets/base",
            "model_module_version": "2.0.0",
            "model_name": "LayoutModel",
            "state": {
              "width": "95%"
            }
          },
          "6930bdbef5dd49ee95aba93b7170d13b": {
            "model_module": "@jupyter-widgets/controls",
            "model_module_version": "2.0.0",
            "model_name": "CheckboxModel",
            "state": {
              "description": "ZIP export (must be .json, .csv)",
              "disabled": false,
              "layout": "IPY_MODEL_8b83723bd15b4a5eadcf314aff925ea0",
              "style": "IPY_MODEL_c892793583fd4717ab6b91ec9798aa01",
              "value": false
            }
          },
          "503e64b7d1a24d4aadd3609eb9d8355a": {
            "model_module": "@jupyter-widgets/controls",
            "model_module_version": "2.0.0",
            "model_name": "DescriptionStyleModel",
            "state": {
              "description_width": ""
            }
          },
          "9e42d97cb0f6473291e1c57de73101c0": {
            "model_module": "@jupyter-widgets/controls",
            "model_module_version": "2.0.0",
            "model_name": "TextStyleModel",
            "state": {
              "description_width": "",
              "font_size": null,
              "text_color": null
            }
          },
          "280907340c4643868f4ba829d04c20f6": {
            "model_module": "@jupyter-widgets/base",
            "model_module_version": "2.0.0",
            "model_name": "LayoutModel",
            "state": {}
          },
          "98d1fbedb7ee482c98ddb40fa714eceb": {
            "model_module": "@jupyter-widgets/controls",
            "model_module_version": "2.0.0",
            "model_name": "TextStyleModel",
            "state": {
              "description_width": "",
              "font_size": null,
              "text_color": null
            }
          },
          "0cc4e51bfb2a40f4b3602bc4dea78dbe": {
            "model_module": "@jupyter-widgets/controls",
            "model_module_version": "2.0.0",
            "model_name": "CheckboxModel",
            "state": {
              "description": "Allow overwrite",
              "disabled": false,
              "layout": "IPY_MODEL_41f362e94ca3423ca3ce355fead410cc",
              "style": "IPY_MODEL_348e6bb232b147c699eacf1664939a83",
              "value": false
            }
          },
          "762ee55148d94815ab04fe79cb5a2b5a": {
            "model_module": "@jupyter-widgets/controls",
            "model_module_version": "2.0.0",
            "model_name": "TextModel",
            "state": {
              "description": "Input Path:",
              "layout": "IPY_MODEL_e56672b174864cd7941ecbaa5c9fdb5e",
              "style": "IPY_MODEL_f789db531ed142f4b2ff8c3d927c2aaa",
              "tooltip": "Path to query template spreadsheet (list of names, etc. to search)"
            }
          },
          "740511b953fe448ea3d8c8454a3d443b": {
            "model_module": "@jupyter-widgets/base",
            "model_module_version": "2.0.0",
            "model_name": "LayoutModel",
            "state": {
              "width": "90%"
            }
          },
          "6846718bb8834413986717228eef3dd0": {
            "model_module": "@jupyter-widgets/base",
            "model_module_version": "2.0.0",
            "model_name": "LayoutModel",
            "state": {}
          },
          "991091ddc33b4d97985e80f4e9b87f60": {
            "model_module": "@jupyter-widgets/controls",
            "model_module_version": "2.0.0",
            "model_name": "TextModel",
            "state": {
              "description": "Output Path:",
              "layout": "IPY_MODEL_e4341bf3d4bf4dde8ac8d76106956b09",
              "style": "IPY_MODEL_987f1f5d9d14421483e41076df3b1a4f"
            }
          },
          "5c092f9dfd1345a2a86f6b5923411c41": {
            "model_module": "@jupyter-widgets/controls",
            "model_module_version": "2.0.0",
            "model_name": "TextModel",
            "state": {
              "description": "Input Path",
              "layout": "IPY_MODEL_512384d0808f46d4871df65aa2a09734",
              "style": "IPY_MODEL_1a65d0f61add42d6906631cb38fb607d",
              "tooltip": "Path to input directory or archive"
            }
          },
          "aad4458163dc4e33ab305b555871f003": {
            "model_module": "@jupyter-widgets/controls",
            "model_module_version": "2.0.0",
            "model_name": "CheckboxModel",
            "state": {
              "description": "Allow overwrite",
              "disabled": false,
              "layout": "IPY_MODEL_64f10310f1d247fc9898ccca4b0d100b",
              "style": "IPY_MODEL_95e11e15b67645fd92f1d47a4af4a9aa",
              "value": false
            }
          },
          "515f82760260429f8f612bcdb867ffb0": {
            "model_module": "@jupyter-widgets/base",
            "model_module_version": "2.0.0",
            "model_name": "LayoutModel",
            "state": {}
          },
          "fb27a91285c348fa8e33c0b6c915e3e5": {
            "model_module": "@jupyter-widgets/base",
            "model_module_version": "2.0.0",
            "model_name": "LayoutModel",
            "state": {}
          },
          "e04aa0d855854c96abdcc361eb5279ef": {
            "model_module": "@jupyter-widgets/base",
            "model_module_version": "2.0.0",
            "model_name": "LayoutModel",
            "state": {}
          },
          "caae9a71d7b3476ba995bdfee72f8596": {
            "model_module": "@jupyter-widgets/controls",
            "model_module_version": "2.0.0",
            "model_name": "IntTextModel",
            "state": {
              "description": "Max count:",
              "layout": "IPY_MODEL_19033f23ad1c40eea7794434d1e45586",
              "step": 1,
              "style": "IPY_MODEL_4fe5dc704a2b4f75b225b1268a0fa67c"
            }
          },
          "b25bc26e73a64644adbfa8ab8bfa6d7c": {
            "model_module": "@jupyter-widgets/controls",
            "model_module_version": "2.0.0",
            "model_name": "TextStyleModel",
            "state": {
              "description_width": "",
              "font_size": null,
              "text_color": null
            }
          },
          "0f6df893186c49cba94dfa210e09b8c1": {
            "model_module": "@jupyter-widgets/base",
            "model_module_version": "2.0.0",
            "model_name": "LayoutModel",
            "state": {
              "width": "90%"
            }
          },
          "745e1e7799ab4862904a6fcab60542cd": {
            "model_module": "@jupyter-widgets/controls",
            "model_module_version": "2.0.0",
            "model_name": "ButtonStyleModel",
            "state": {
              "font_family": null,
              "font_size": null,
              "font_style": null,
              "font_variant": null,
              "font_weight": null,
              "text_color": null,
              "text_decoration": null
            }
          },
          "87c2e30e35ab4a45ba3be79ff174a677": {
            "model_module": "@jupyter-widgets/controls",
            "model_module_version": "2.0.0",
            "model_name": "FloatTextModel",
            "state": {
              "description": "Speed",
              "layout": "IPY_MODEL_7e5139ba44a04eaf822ed73a76523bab",
              "step": 0.1,
              "style": "IPY_MODEL_bb1ae625efb54f6d98682013774d4a4e",
              "value": 1
            }
          },
          "5a581b0ba356444c918e33139a079d90": {
            "model_module": "@jupyter-widgets/controls",
            "model_module_version": "2.0.0",
            "model_name": "IntTextModel",
            "state": {
              "description": "Max count:",
              "layout": "IPY_MODEL_6f978776944247f9a11537e1bfda6153",
              "step": 1,
              "style": "IPY_MODEL_13a3ae25e0a741d29f990a818b903e01"
            }
          },
          "2c8081af4bb742c58111d090eddbf16d": {
            "model_module": "@jupyter-widgets/controls",
            "model_module_version": "2.0.0",
            "model_name": "CheckboxStyleModel",
            "state": {
              "description_width": ""
            }
          },
          "e7456349a26d4328bee1a4a3a3d07624": {
            "model_module": "@jupyter-widgets/base",
            "model_module_version": "2.0.0",
            "model_name": "LayoutModel",
            "state": {}
          },
          "1642cefa65dd44c5a6f07b222cf3e525": {
            "model_module": "@jupyter-widgets/controls",
            "model_module_version": "2.0.0",
            "model_name": "ButtonModel",
            "state": {
              "description": "Start export",
              "layout": "IPY_MODEL_c3bf9d2453944d37a6b4df73fc448955",
              "style": "IPY_MODEL_f17b9f688a504caebc475584b1555747",
              "tooltip": null
            }
          },
          "0725122c06ea42238cb89eb253c23679": {
            "model_module": "@jupyter-widgets/controls",
            "model_module_version": "2.0.0",
            "model_name": "CheckboxModel",
            "state": {
              "description": "ZIP export (must be .json, .csv)",
              "disabled": false,
              "layout": "IPY_MODEL_c0aa64ab239b4c75a9658db3d0351301",
              "style": "IPY_MODEL_4c0fc4d33630495bac11381a11ca9b25",
              "value": false
            }
          },
          "46febdcc82a14661bd9589229943a7b0": {
            "model_module": "@jupyter-widgets/base",
            "model_module_version": "2.0.0",
            "model_name": "LayoutModel",
            "state": {
              "width": "95%"
            }
          },
          "36560e585cce4a86a1c433af7e366147": {
            "model_module": "@jupyter-widgets/base",
            "model_module_version": "2.0.0",
            "model_name": "LayoutModel",
            "state": {
              "width": "90%"
            }
          },
          "0d9e35020fd84d2b8f107d99d3c10ab8": {
            "model_module": "@jupyter-widgets/controls",
            "model_module_version": "2.0.0",
            "model_name": "DescriptionStyleModel",
            "state": {
              "description_width": ""
            }
          },
          "a77595ecc2a14d59886c1fa7a43d3bff": {
            "model_module": "@jupyter-widgets/controls",
            "model_module_version": "2.0.0",
            "model_name": "IntTextModel",
            "state": {
              "description": "Skip rows",
              "layout": "IPY_MODEL_4f12946d98d34e0b8a2d3717c68276c5",
              "step": 1,
              "style": "IPY_MODEL_6dcd18edf1e048bfacae6fb0ba7bf3d1"
            }
          },
          "44148cf2f31742db83c398a967fee4e7": {
            "model_module": "@jupyter-widgets/output",
            "model_module_version": "1.0.0",
            "model_name": "OutputModel",
            "state": {
              "layout": "IPY_MODEL_4bdd565580934e6e8f0d6f0f4a116237"
            }
          },
          "0b0acd7398384b68a4739836b61eaa21": {
            "model_module": "@jupyter-widgets/base",
            "model_module_version": "2.0.0",
            "model_name": "LayoutModel",
            "state": {}
          },
          "16c0eec59370451d81d02c09385bb200": {
            "model_module": "@jupyter-widgets/controls",
            "model_module_version": "2.0.0",
            "model_name": "IntTextModel",
            "state": {
              "description": "Max count:",
              "layout": "IPY_MODEL_cbfa78e906434f348beaf1edb1ddf62f",
              "step": 1,
              "style": "IPY_MODEL_a671c252aa6a46f1a69dd25da05c377a"
            }
          },
          "1f3d993cddf649e1b59a2005943768a7": {
            "model_module": "@jupyter-widgets/controls",
            "model_module_version": "2.0.0",
            "model_name": "TextStyleModel",
            "state": {
              "description_width": "",
              "font_size": null,
              "text_color": null
            }
          },
          "96ed9e0fe3a749a69c89bb4a5dff4c93": {
            "model_module": "@jupyter-widgets/controls",
            "model_module_version": "2.0.0",
            "model_name": "TextStyleModel",
            "state": {
              "description_width": "",
              "font_size": null,
              "text_color": null
            }
          },
          "e5c7d818fc9d4824b68a6ebf82cd2e67": {
            "model_module": "@jupyter-widgets/base",
            "model_module_version": "2.0.0",
            "model_name": "LayoutModel",
            "state": {
              "width": "90%"
            }
          },
          "c8277ae82bcb4b4a832a21f3dee91001": {
            "model_module": "@jupyter-widgets/controls",
            "model_module_version": "2.0.0",
            "model_name": "DescriptionStyleModel",
            "state": {
              "description_width": ""
            }
          },
          "15f04d7bd86d4c898b98ff13340b2d12": {
            "model_module": "@jupyter-widgets/controls",
            "model_module_version": "2.0.0",
            "model_name": "IntTextModel",
            "state": {
              "description": "Set max count",
              "layout": "IPY_MODEL_0dfe73447b1b4dd689e7fe5aee72450b",
              "step": 1,
              "style": "IPY_MODEL_87473fdee10d4cc3b85672a7f08bf7ed"
            }
          },
          "a6a3fb40372b4b30a163fa3c4446bb0d": {
            "model_module": "@jupyter-widgets/base",
            "model_module_version": "2.0.0",
            "model_name": "LayoutModel",
            "state": {}
          },
          "a3baa858a03b4efc93724eaa6a683aa5": {
            "model_module": "@jupyter-widgets/controls",
            "model_module_version": "2.0.0",
            "model_name": "TextStyleModel",
            "state": {
              "description_width": "",
              "font_size": null,
              "text_color": null
            }
          },
          "a3adfebe3858489882bdf149ebdd6722": {
            "model_module": "@jupyter-widgets/controls",
            "model_module_version": "2.0.0",
            "model_name": "TextStyleModel",
            "state": {
              "description_width": "",
              "font_size": null,
              "text_color": null
            }
          },
          "c010bc0ddbd541cca9c862adc1f9a740": {
            "model_module": "@jupyter-widgets/controls",
            "model_module_version": "2.0.0",
            "model_name": "DescriptionStyleModel",
            "state": {
              "description_width": ""
            }
          },
          "ac8833e396ec4eb3b219484113cc2b2f": {
            "model_module": "@jupyter-widgets/controls",
            "model_module_version": "2.0.0",
            "model_name": "TextStyleModel",
            "state": {
              "description_width": "",
              "font_size": null,
              "text_color": null
            }
          },
          "b4e66238f13340aba9c7130fbf1313b6": {
            "model_module": "@jupyter-widgets/base",
            "model_module_version": "2.0.0",
            "model_name": "LayoutModel",
            "state": {
              "width": "40%"
            }
          },
          "35948ec85a2b488cae326966e74f8022": {
            "model_module": "@jupyter-widgets/base",
            "model_module_version": "2.0.0",
            "model_name": "LayoutModel",
            "state": {
              "width": "90%"
            }
          },
          "c5ebe88868424bb1b8169f040a393b61": {
            "model_module": "@jupyter-widgets/controls",
            "model_module_version": "2.0.0",
            "model_name": "ButtonStyleModel",
            "state": {
              "font_family": null,
              "font_size": null,
              "font_style": null,
              "font_variant": null,
              "font_weight": null,
              "text_color": null,
              "text_decoration": null
            }
          },
          "28fad4b634364b23ac3c3eb4b0457f55": {
            "model_module": "@jupyter-widgets/controls",
            "model_module_version": "2.0.0",
            "model_name": "IntTextModel",
            "state": {
              "description": "Set max count",
              "layout": "IPY_MODEL_e8b8ed99241840409b44f96816f866fc",
              "step": 1,
              "style": "IPY_MODEL_56e762c573284a5d9877c57a114ec5b1"
            }
          },
          "8c2a598359854d43a7a7799702615a7e": {
            "model_module": "@jupyter-widgets/controls",
            "model_module_version": "2.0.0",
            "model_name": "CheckboxStyleModel",
            "state": {
              "description_width": ""
            }
          },
          "9a1f88c28c9b4337b2c74e6f37bb1f6a": {
            "model_module": "@jupyter-widgets/controls",
            "model_module_version": "2.0.0",
            "model_name": "DescriptionStyleModel",
            "state": {
              "description_width": ""
            }
          },
          "2885c94dde334cf7856ca977333819d7": {
            "model_module": "@jupyter-widgets/controls",
            "model_module_version": "2.0.0",
            "model_name": "DescriptionStyleModel",
            "state": {
              "description_width": ""
            }
          },
          "30aed0ba382847bd96f8fb99ff3b440f": {
            "model_module": "@jupyter-widgets/base",
            "model_module_version": "2.0.0",
            "model_name": "LayoutModel",
            "state": {
              "width": "40%"
            }
          },
          "912fca2e0b5c4fa48eb3a15cc0aabc77": {
            "model_module": "@jupyter-widgets/base",
            "model_module_version": "2.0.0",
            "model_name": "LayoutModel",
            "state": {
              "width": "90%"
            }
          },
          "d963ab66c20d4c8a983fe780e836e5ea": {
            "model_module": "@jupyter-widgets/controls",
            "model_module_version": "2.0.0",
            "model_name": "HBoxModel",
            "state": {
              "children": [
                "IPY_MODEL_eccb421eef864d26a4bf1cb6a9dd91b7",
                "IPY_MODEL_de95eb7347874ce4b3bf941aa79c8e98"
              ],
              "layout": "IPY_MODEL_aabd511500184fc9b18d886e9519f1c1"
            }
          },
          "02f418d0b41742519f32c9b7b2917054": {
            "model_module": "@jupyter-widgets/base",
            "model_module_version": "2.0.0",
            "model_name": "LayoutModel",
            "state": {}
          },
          "e35cf447708e4d819e1e1749f25fe063": {
            "model_module": "@jupyter-widgets/base",
            "model_module_version": "2.0.0",
            "model_name": "LayoutModel",
            "state": {}
          },
          "a140baa8e6bc451a879bfdd6589975b0": {
            "model_module": "@jupyter-widgets/controls",
            "model_module_version": "2.0.0",
            "model_name": "CheckboxModel",
            "state": {
              "description": "ZIP export (must be .json, .csv)",
              "disabled": false,
              "layout": "IPY_MODEL_2f405a19c48742378d196edd0a9802e0",
              "style": "IPY_MODEL_41930fcd82414e53adffc1feda0eecdb",
              "value": false
            }
          },
          "8a27187e03844a82be8ba50584435139": {
            "model_module": "@jupyter-widgets/controls",
            "model_module_version": "2.0.0",
            "model_name": "TextStyleModel",
            "state": {
              "description_width": "",
              "font_size": null,
              "text_color": null
            }
          },
          "348e6bb232b147c699eacf1664939a83": {
            "model_module": "@jupyter-widgets/controls",
            "model_module_version": "2.0.0",
            "model_name": "CheckboxStyleModel",
            "state": {
              "description_width": ""
            }
          },
          "68f775f974914b7dbc77c4abbe5157af": {
            "model_module": "@jupyter-widgets/controls",
            "model_module_version": "2.0.0",
            "model_name": "CheckboxModel",
            "state": {
              "description": "Allow overwrite",
              "disabled": false,
              "layout": "IPY_MODEL_b80ec04233874f15a76b9ebd5e93c8fe",
              "style": "IPY_MODEL_13384cf4057c45e6be63df3ab2c52098",
              "value": false
            }
          },
          "6c2d39c86c9b41e185192f24e84a5152": {
            "model_module": "@jupyter-widgets/controls",
            "model_module_version": "2.0.0",
            "model_name": "ButtonModel",
            "state": {
              "description": "Start export",
              "layout": "IPY_MODEL_ec91d64d3ed04ae79273592012e0fef1",
              "style": "IPY_MODEL_3bcac339c9a24760b93d2c3dbc02c657",
              "tooltip": null
            }
          },
          "a4aec1d3a8b54b9b9817d17739c4b166": {
            "model_module": "@jupyter-widgets/controls",
            "model_module_version": "2.0.0",
            "model_name": "CheckboxModel",
            "state": {
              "description": "ZIP export (must be .json, .csv)",
              "disabled": false,
              "layout": "IPY_MODEL_83d7dfeb5691416989e9846730e5ddd1",
              "style": "IPY_MODEL_f7e8bacf036c4c938fc5e7769b398fd8",
              "value": false
            }
          },
          "23cff1c034fc497791f3893e703fa9c5": {
            "model_module": "@jupyter-widgets/controls",
            "model_module_version": "2.0.0",
            "model_name": "TextStyleModel",
            "state": {
              "description_width": "",
              "font_size": null,
              "text_color": null
            }
          },
          "c167e5ab7f984b4aae2dffff75aba022": {
            "model_module": "@jupyter-widgets/controls",
            "model_module_version": "2.0.0",
            "model_name": "TextStyleModel",
            "state": {
              "description_width": "",
              "font_size": null,
              "text_color": null
            }
          },
          "4fe5dc704a2b4f75b225b1268a0fa67c": {
            "model_module": "@jupyter-widgets/controls",
            "model_module_version": "2.0.0",
            "model_name": "DescriptionStyleModel",
            "state": {
              "description_width": ""
            }
          },
          "b04fa8fcaa1242c690ec0daa75a42dfa": {
            "model_module": "@jupyter-widgets/controls",
            "model_module_version": "2.0.0",
            "model_name": "CheckboxModel",
            "state": {
              "description": "Remove duplicates",
              "disabled": false,
              "layout": "IPY_MODEL_668ed8578c194fc0bcc8fc202c4d3d76",
              "style": "IPY_MODEL_17eb359339b94f1194d22c890acbb746",
              "value": false
            }
          },
          "317d00fc7d464f758126fa005e4ceca2": {
            "model_module": "@jupyter-widgets/controls",
            "model_module_version": "2.0.0",
            "model_name": "RadioButtonsModel",
            "state": {
              "_options_labels": [
                "cases",
                "charges",
                "disposition",
                "filing",
                "fees"
              ],
              "description": "Table:",
              "index": 0,
              "layout": "IPY_MODEL_c2127d44dc594fd5b1630f21ec43e92b",
              "style": "IPY_MODEL_0d9e35020fd84d2b8f107d99d3c10ab8"
            }
          },
          "77b8ed42d72a4de6a6b9f285acd0dc0e": {
            "model_module": "@jupyter-widgets/controls",
            "model_module_version": "2.0.0",
            "model_name": "ButtonModel",
            "state": {
              "description": "Read more",
              "layout": "IPY_MODEL_619b2cf59b3c4f258554f3c84f13cc4e",
              "style": "IPY_MODEL_a75fa9ede35a4694a32f76b524687178",
              "tooltip": null
            }
          },
          "3b750448b9c24bb0b9867ccf1159abd1": {
            "model_module": "@jupyter-widgets/controls",
            "model_module_version": "2.0.0",
            "model_name": "CheckboxModel",
            "state": {
              "description": "Allow overwrite",
              "disabled": false,
              "layout": "IPY_MODEL_aacc65699d0547cf94a883bef82c5909",
              "style": "IPY_MODEL_743c00d2b95f4a289710c3b578bd1f68",
              "value": false
            }
          },
          "aa6b1f23bb664c5a807a0182368c618b": {
            "model_module": "@jupyter-widgets/base",
            "model_module_version": "2.0.0",
            "model_name": "LayoutModel",
            "state": {
              "width": "90%"
            }
          },
          "a030612c9bfd42159ccaca7f514ae894": {
            "model_module": "@jupyter-widgets/controls",
            "model_module_version": "2.0.0",
            "model_name": "TextStyleModel",
            "state": {
              "description_width": "",
              "font_size": null,
              "text_color": null
            }
          },
          "c80f46ddec08424aa2f46089d63c3eef": {
            "model_module": "@jupyter-widgets/base",
            "model_module_version": "2.0.0",
            "model_name": "LayoutModel",
            "state": {}
          },
          "c925f983e2144000a32d4ff54b987917": {
            "model_module": "@jupyter-widgets/base",
            "model_module_version": "2.0.0",
            "model_name": "LayoutModel",
            "state": {}
          },
          "841c9966356b45d4962081db382900bd": {
            "model_module": "@jupyter-widgets/controls",
            "model_module_version": "2.0.0",
            "model_name": "HBoxModel",
            "state": {
              "children": [
                "IPY_MODEL_ef0c343d4a89452ab62b6f4f556fe6ea",
                "IPY_MODEL_150f5f9d5a954454b284416241bba483"
              ],
              "layout": "IPY_MODEL_641fca70fc1344828410b79525e1a438"
            }
          },
          "2cbe41f687674afa969da768d675f604": {
            "model_module": "@jupyter-widgets/controls",
            "model_module_version": "2.0.0",
            "model_name": "CheckboxStyleModel",
            "state": {
              "description_width": ""
            }
          },
          "ab17fcdc698a4755873075cc6c2cb5d4": {
            "model_module": "@jupyter-widgets/controls",
            "model_module_version": "2.0.0",
            "model_name": "DescriptionStyleModel",
            "state": {
              "description_width": ""
            }
          },
          "85dd58af81e14313819958461d9e13ad": {
            "model_module": "@jupyter-widgets/base",
            "model_module_version": "2.0.0",
            "model_name": "LayoutModel",
            "state": {}
          },
          "9b54f091150e48b0b274f321a30afa89": {
            "model_module": "@jupyter-widgets/controls",
            "model_module_version": "2.0.0",
            "model_name": "ButtonModel",
            "state": {
              "description": "Read more",
              "layout": "IPY_MODEL_77112d65bad54ce2a3797aaa87b1aefb",
              "style": "IPY_MODEL_b341d4342b924928a7315946a7cfd29f",
              "tooltip": null
            }
          },
          "a3c7fdbd886e407d9599799be1558301": {
            "model_module": "@jupyter-widgets/controls",
            "model_module_version": "2.0.0",
            "model_name": "TextStyleModel",
            "state": {
              "description_width": "",
              "font_size": null,
              "text_color": null
            }
          },
          "840def867adf4502bfff5341312983a1": {
            "model_module": "@jupyter-widgets/controls",
            "model_module_version": "2.0.0",
            "model_name": "TextModel",
            "state": {
              "description": "Output Path",
              "layout": "IPY_MODEL_1ffe9962d78442b191692c9e8a51130b",
              "style": "IPY_MODEL_7c99069615ad481981eb9fd224528aef"
            }
          },
          "450453b0eec24135a7ce15d8b0ab88b1": {
            "model_module": "@jupyter-widgets/controls",
            "model_module_version": "2.0.0",
            "model_name": "TextModel",
            "state": {
              "description": "Input Path",
              "layout": "IPY_MODEL_d83a867493854f10997e7fe44d40788f",
              "style": "IPY_MODEL_05935944dab049d38ddb08df588d6cfe",
              "tooltip": "Path to input directory or archive"
            }
          },
          "3e0a6057657141dab57672341cb363c0": {
            "model_module": "@jupyter-widgets/controls",
            "model_module_version": "2.0.0",
            "model_name": "CheckboxStyleModel",
            "state": {
              "description_width": ""
            }
          },
          "150f5f9d5a954454b284416241bba483": {
            "model_module": "@jupyter-widgets/controls",
            "model_module_version": "2.0.0",
            "model_name": "CheckboxModel",
            "state": {
              "description": "Don't split in batches",
              "disabled": false,
              "layout": "IPY_MODEL_6b7854ffd64e4c39841f10acfb6d65d6",
              "style": "IPY_MODEL_423820069ae148c8b1b21825593c5d25",
              "value": false
            }
          },
          "493683a67eaa43f8be88ad21d0f601d8": {
            "model_module": "@jupyter-widgets/controls",
            "model_module_version": "2.0.0",
            "model_name": "DescriptionStyleModel",
            "state": {
              "description_width": ""
            }
          },
          "6e8b9a36633247ee9f48bd692c0379ec": {
            "model_module": "@jupyter-widgets/controls",
            "model_module_version": "2.0.0",
            "model_name": "IntTextModel",
            "state": {
              "description": "Max count:",
              "layout": "IPY_MODEL_9b5f93b2896e4d69bf70a11cb0d14561",
              "step": 1,
              "style": "IPY_MODEL_9f9c048e183243e88e36e3869639ce58"
            }
          },
          "9075e1cb593d49918fe54234c365df7d": {
            "model_module": "@jupyter-widgets/base",
            "model_module_version": "2.0.0",
            "model_name": "LayoutModel",
            "state": {
              "width": "95%"
            }
          },
          "0fd9d28aa565469785dba4a84896274a": {
            "model_module": "@jupyter-widgets/base",
            "model_module_version": "2.0.0",
            "model_name": "LayoutModel",
            "state": {
              "width": "90%"
            }
          },
          "d73327466caf4230b8c6b469a2e4409e": {
            "model_module": "@jupyter-widgets/controls",
            "model_module_version": "2.0.0",
            "model_name": "ButtonModel",
            "state": {
              "description": "Read more",
              "layout": "IPY_MODEL_a426ca8f072a49a0a2aee62f8c1a2075",
              "style": "IPY_MODEL_6e8f49e31d02472fb5300d502095aa2b",
              "tooltip": null
            }
          },
          "43822661b0c047ad8060d71c46fe5221": {
            "model_module": "@jupyter-widgets/base",
            "model_module_version": "2.0.0",
            "model_name": "LayoutModel",
            "state": {}
          },
          "4181d07953b04382ba20ed64d1e6203a": {
            "model_module": "@jupyter-widgets/base",
            "model_module_version": "2.0.0",
            "model_name": "LayoutModel",
            "state": {}
          },
          "7dd6f13778bc4f1ab7b04de2aa90908e": {
            "model_module": "@jupyter-widgets/controls",
            "model_module_version": "2.0.0",
            "model_name": "HBoxModel",
            "state": {
              "children": [
                "IPY_MODEL_73c2ac66db5a4f6b914d6aab822b0185",
                "IPY_MODEL_477977f81cc64d9fa4c83b00530bbe2d"
              ],
              "layout": "IPY_MODEL_4cfa46ae2da441b0b01284904daeb1dc"
            }
          },
          "7757e4a88fb24884b8bf829c3be716be": {
            "model_module": "@jupyter-widgets/controls",
            "model_module_version": "2.0.0",
            "model_name": "CheckboxModel",
            "state": {
              "description": "Allow overwrite",
              "disabled": false,
              "layout": "IPY_MODEL_45287fbf73484e37ba3464f7afb0a6df",
              "style": "IPY_MODEL_52b1b3316cb54a6f8f4ac8a118bbc476",
              "value": true
            }
          },
          "972c1a8c43c34ede96b0923a4c98e4a4": {
            "model_module": "@jupyter-widgets/controls",
            "model_module_version": "2.0.0",
            "model_name": "HBoxModel",
            "state": {
              "children": [
                "IPY_MODEL_68034b5567484c4fa827893832d9e25a",
                "IPY_MODEL_474f336a15d8432f83799ac38394729a",
                "IPY_MODEL_27df3b3428b04fc189dc2c05bd94c712"
              ],
              "layout": "IPY_MODEL_d9f9bd91795c4f76b40e808e563b15e5"
            }
          },
          "6ef64fb90a1e4adeb4d6a0324cb55cb2": {
            "model_module": "@jupyter-widgets/controls",
            "model_module_version": "2.0.0",
            "model_name": "TextStyleModel",
            "state": {
              "description_width": "",
              "font_size": null,
              "text_color": null
            }
          },
          "3d790a509d1442fdaf90823108b6c216": {
            "model_module": "@jupyter-widgets/controls",
            "model_module_version": "2.0.0",
            "model_name": "TextStyleModel",
            "state": {
              "description_width": "",
              "font_size": null,
              "text_color": null
            }
          },
          "9f65144e65d8423ab87bd4c6a88f1523": {
            "model_module": "@jupyter-widgets/controls",
            "model_module_version": "2.0.0",
            "model_name": "TextModel",
            "state": {
              "description": "User ID: ",
              "layout": "IPY_MODEL_6af254111f014a3fba0f3e2df3a2368e",
              "style": "IPY_MODEL_10533f9e73cd4d38a26e51260cf80c08"
            }
          },
          "228b8de967f94265b9dce6014214ba8b": {
            "model_module": "@jupyter-widgets/controls",
            "model_module_version": "2.0.0",
            "model_name": "TextStyleModel",
            "state": {
              "description_width": "",
              "font_size": null,
              "text_color": null
            }
          },
          "bb26c53dd56243b0a20c8ba4a67f318a": {
            "model_module": "@jupyter-widgets/controls",
            "model_module_version": "2.0.0",
            "model_name": "DescriptionStyleModel",
            "state": {
              "description_width": ""
            }
          },
          "18923e015d0c447a9fcd8c36c2c623a0": {
            "model_module": "@jupyter-widgets/base",
            "model_module_version": "2.0.0",
            "model_name": "LayoutModel",
            "state": {}
          },
          "ff18a2989d184571933b25cae3796b03": {
            "model_module": "@jupyter-widgets/controls",
            "model_module_version": "2.0.0",
            "model_name": "DescriptionStyleModel",
            "state": {
              "description_width": ""
            }
          },
          "a3487b3beebf4f13b9838c540ad70cc5": {
            "model_module": "@jupyter-widgets/controls",
            "model_module_version": "2.0.0",
            "model_name": "CheckboxModel",
            "state": {
              "description": "Remove duplicates",
              "disabled": false,
              "layout": "IPY_MODEL_6d0aaf90f4a348c983763a53b451e47d",
              "style": "IPY_MODEL_bddc9ea0930c46f3ac77efe5e07eab64",
              "value": false
            }
          },
          "5b757619cb9d45cbbbf9f400db61fe80": {
            "model_module": "@jupyter-widgets/base",
            "model_module_version": "2.0.0",
            "model_name": "LayoutModel",
            "state": {}
          },
          "c89cf90b4dcd467d8d556a4e629ae2c3": {
            "model_module": "@jupyter-widgets/controls",
            "model_module_version": "2.0.0",
            "model_name": "ButtonStyleModel",
            "state": {
              "font_family": null,
              "font_size": null,
              "font_style": null,
              "font_variant": null,
              "font_weight": null,
              "text_color": null,
              "text_decoration": null
            }
          },
          "2c08b43677124d3cb700cdf269f3f552": {
            "model_module": "@jupyter-widgets/controls",
            "model_module_version": "2.0.0",
            "model_name": "DescriptionStyleModel",
            "state": {
              "description_width": ""
            }
          },
          "80b78b60ce9b4cceab54690adb40fdb6": {
            "model_module": "@jupyter-widgets/base",
            "model_module_version": "2.0.0",
            "model_name": "LayoutModel",
            "state": {
              "width": "90%"
            }
          },
          "5785a495f62e4b589e3b7162e2e10177": {
            "model_module": "@jupyter-widgets/base",
            "model_module_version": "2.0.0",
            "model_name": "LayoutModel",
            "state": {
              "width": "90%"
            }
          },
          "78eb62d776ea4b9eae4b0d07485428a6": {
            "model_module": "@jupyter-widgets/base",
            "model_module_version": "2.0.0",
            "model_name": "LayoutModel",
            "state": {}
          },
          "5a73af32626040cdaf7057533353521f": {
            "model_module": "@jupyter-widgets/controls",
            "model_module_version": "2.0.0",
            "model_name": "CheckboxStyleModel",
            "state": {
              "description_width": ""
            }
          },
          "31dc40d5a5044e10bab69433d12e2939": {
            "model_module": "@jupyter-widgets/controls",
            "model_module_version": "2.0.0",
            "model_name": "HBoxModel",
            "state": {
              "children": [
                "IPY_MODEL_5a9cd07a74114139b70de79f6cb67a82",
                "IPY_MODEL_90ae90cc295f4fa5a9bbdf00235558a5",
                "IPY_MODEL_dd2a4f761ad1428ebaccf529ef19934d"
              ],
              "layout": "IPY_MODEL_2eb929c62d1748a3a751e5027feff6b0"
            }
          },
          "cb6d0e37486a4876b3db6df670475b32": {
            "model_module": "@jupyter-widgets/controls",
            "model_module_version": "2.0.0",
            "model_name": "CheckboxModel",
            "state": {
              "description": "Don't split in batches",
              "disabled": false,
              "layout": "IPY_MODEL_0e71c8db208b4779961ecc27e36ba899",
              "style": "IPY_MODEL_cc578d6e2d754345ae86e1f3dd720e84",
              "value": false
            }
          },
          "f6817fe9b57e470f8b99d1a45571f9a1": {
            "model_module": "@jupyter-widgets/controls",
            "model_module_version": "2.0.0",
            "model_name": "TextModel",
            "state": {
              "description": "Output Path",
              "layout": "IPY_MODEL_63a403e4342443f98139f5ce4bfc4d7c",
              "style": "IPY_MODEL_7311aaf751cd4a79baeda0e828b507af"
            }
          },
          "260f05c7a2244f6d8b1c25185290dad4": {
            "model_module": "@jupyter-widgets/controls",
            "model_module_version": "2.0.0",
            "model_name": "TextStyleModel",
            "state": {
              "description_width": "",
              "font_size": null,
              "text_color": null
            }
          },
          "a95849bfc68f41a9aa3df09e21e58cd6": {
            "model_module": "@jupyter-widgets/base",
            "model_module_version": "2.0.0",
            "model_name": "LayoutModel",
            "state": {
              "width": "95%"
            }
          },
          "fa50c28c01aa4ed189789932cbe461c7": {
            "model_module": "@jupyter-widgets/base",
            "model_module_version": "2.0.0",
            "model_name": "LayoutModel",
            "state": {}
          },
          "ffff5b0fd2904530a5816928d8524c2c": {
            "model_module": "@jupyter-widgets/controls",
            "model_module_version": "2.0.0",
            "model_name": "IntTextModel",
            "state": {
              "description": "Set max count",
              "layout": "IPY_MODEL_e46236214a8a4961b68af7adfeaa806b",
              "step": 1,
              "style": "IPY_MODEL_21140592e51a44f1b988ea9e34c7332e"
            }
          },
          "d2477cc22a504d21880ebbdd0b5d5a28": {
            "model_module": "@jupyter-widgets/controls",
            "model_module_version": "2.0.0",
            "model_name": "ButtonStyleModel",
            "state": {
              "font_family": null,
              "font_size": null,
              "font_style": null,
              "font_variant": null,
              "font_weight": null,
              "text_color": null,
              "text_decoration": null
            }
          },
          "09c8d59ce062405196700a036a8379be": {
            "model_module": "@jupyter-widgets/base",
            "model_module_version": "2.0.0",
            "model_name": "LayoutModel",
            "state": {
              "width": "90%"
            }
          },
          "f8165c37ef8b4788857881f57caf19a8": {
            "model_module": "@jupyter-widgets/controls",
            "model_module_version": "2.0.0",
            "model_name": "TextStyleModel",
            "state": {
              "description_width": "",
              "font_size": null,
              "text_color": null
            }
          },
          "cc196c56816945f19038321bd12329d2": {
            "model_module": "@jupyter-widgets/controls",
            "model_module_version": "2.0.0",
            "model_name": "TextModel",
            "state": {
              "description": "Input Path",
              "layout": "IPY_MODEL_7059d2681a7949ffbba3581bfd3f7f9e",
              "style": "IPY_MODEL_61a953ca749c444d89206b32a182c40e",
              "tooltip": "Path to input directory or archive"
            }
          },
          "fdc6dc8d8e5f4d4dbdaca752d0fe451a": {
            "model_module": "@jupyter-widgets/controls",
            "model_module_version": "2.0.0",
            "model_name": "CheckboxStyleModel",
            "state": {
              "description_width": ""
            }
          },
          "5040abecdf3f449bb53ab4020d4911f1": {
            "model_module": "@jupyter-widgets/controls",
            "model_module_version": "2.0.0",
            "model_name": "DescriptionStyleModel",
            "state": {
              "description_width": ""
            }
          },
          "d49dfc6532674317a895f9e0f3130add": {
            "model_module": "@jupyter-widgets/controls",
            "model_module_version": "2.0.0",
            "model_name": "TextModel",
            "state": {
              "description": "Input Path",
              "layout": "IPY_MODEL_2355a08375694c63b04e1b133e688bd8",
              "style": "IPY_MODEL_8fec93972b294254b94f814542ff536d",
              "tooltip": "Path to input directory or archive"
            }
          },
          "208d216b5dcf462fa5761ba2705836ea": {
            "model_module": "@jupyter-widgets/controls",
            "model_module_version": "2.0.0",
            "model_name": "HBoxModel",
            "state": {
              "children": [
                "IPY_MODEL_a66e38f4efb2433a841e2ed15b0003ce",
                "IPY_MODEL_1a8ffd9a683a41adbc0dc84da59709f5",
                "IPY_MODEL_2caea8bb58cb49ed96fcc1dd4115e6b2"
              ],
              "layout": "IPY_MODEL_4da22c179a4f42aebf618661cb67777a"
            }
          },
          "82e2f2016e094f0483f951e499509396": {
            "model_module": "@jupyter-widgets/controls",
            "model_module_version": "2.0.0",
            "model_name": "CheckboxModel",
            "state": {
              "description": "Allow overwrite",
              "disabled": false,
              "layout": "IPY_MODEL_a1f82f6839e8459fa1786c8dc9a0110f",
              "style": "IPY_MODEL_c86d29c9fa8549eeb629ae8f9e24505e",
              "value": false
            }
          },
          "c24b40ca7fe94e3793bd4ee378096483": {
            "model_module": "@jupyter-widgets/controls",
            "model_module_version": "2.0.0",
            "model_name": "TextModel",
            "state": {
              "description": "Output Path",
              "layout": "IPY_MODEL_05a9169aa49d4a0d8c66d856d4d4fd59",
              "style": "IPY_MODEL_b4d49944b2d14af1b0db865514ce0637"
            }
          },
          "dcc9d04b64ee41a3a81f1c56f2bc1259": {
            "model_module": "@jupyter-widgets/base",
            "model_module_version": "2.0.0",
            "model_name": "LayoutModel",
            "state": {}
          },
          "38ce72e04c384f519f1c5d4d0e98b394": {
            "model_module": "@jupyter-widgets/base",
            "model_module_version": "2.0.0",
            "model_name": "LayoutModel",
            "state": {}
          },
          "c675ba7bbd5a4417a0d57b649a408d38": {
            "model_module": "@jupyter-widgets/base",
            "model_module_version": "2.0.0",
            "model_name": "LayoutModel",
            "state": {}
          },
          "a1df7e30a51f44f98eed8cd4d0ed3687": {
            "model_module": "@jupyter-widgets/controls",
            "model_module_version": "2.0.0",
            "model_name": "TextStyleModel",
            "state": {
              "description_width": "",
              "font_size": null,
              "text_color": null
            }
          },
          "caa7b1b700fa4c309d309cb5037077c0": {
            "model_module": "@jupyter-widgets/base",
            "model_module_version": "2.0.0",
            "model_name": "LayoutModel",
            "state": {
              "width": "40%"
            }
          },
          "8f58d948c10a46adaf5dd5ce95ab4032": {
            "model_module": "@jupyter-widgets/base",
            "model_module_version": "2.0.0",
            "model_name": "LayoutModel",
            "state": {
              "width": "90%"
            }
          },
          "4f8234a7a2394a3db01ad716735b172b": {
            "model_module": "@jupyter-widgets/controls",
            "model_module_version": "2.0.0",
            "model_name": "CheckboxStyleModel",
            "state": {
              "description_width": ""
            }
          },
          "57b1f63748854991a846536a476e3180": {
            "model_module": "@jupyter-widgets/controls",
            "model_module_version": "2.0.0",
            "model_name": "TextModel",
            "state": {
              "description": "Input Path",
              "layout": "IPY_MODEL_bab80984f9bb4d2b9e818fb6f25f04c8",
              "style": "IPY_MODEL_98d1fbedb7ee482c98ddb40fa714eceb",
              "tooltip": "Path to input directory or archive"
            }
          },
          "09772bac364f4ec997507a8f4043868d": {
            "model_module": "@jupyter-widgets/base",
            "model_module_version": "2.0.0",
            "model_name": "LayoutModel",
            "state": {}
          },
          "72e9c401f10b49f98ffb9d0a6d91748f": {
            "model_module": "@jupyter-widgets/controls",
            "model_module_version": "2.0.0",
            "model_name": "TextModel",
            "state": {
              "description": "User ID: ",
              "layout": "IPY_MODEL_849dcbc036cf477195cd283b8e5bea11",
              "style": "IPY_MODEL_33b23c2379fa41f482c1acd0daf28277"
            }
          },
          "835c21edfe924eb88a9a9a53407cd8b6": {
            "model_module": "@jupyter-widgets/base",
            "model_module_version": "2.0.0",
            "model_name": "LayoutModel",
            "state": {}
          },
          "2aef4a7ef5054dd78c6763d9bf1813ee": {
            "model_module": "@jupyter-widgets/controls",
            "model_module_version": "2.0.0",
            "model_name": "CheckboxModel",
            "state": {
              "description": "Allow overwrite",
              "disabled": false,
              "layout": "IPY_MODEL_e5392204d8ca4d9d97d2b6122f1874fb",
              "style": "IPY_MODEL_6df85a5bb2d6415ebd37d5c7c10c4a49",
              "value": false
            }
          },
          "00ac876fff8e4626b9a8cddbb83e481a": {
            "model_module": "@jupyter-widgets/controls",
            "model_module_version": "2.0.0",
            "model_name": "IntTextModel",
            "state": {
              "description": "Max count:",
              "layout": "IPY_MODEL_5c11caf2cd9a444ba3aa00e684093e55",
              "step": 1,
              "style": "IPY_MODEL_85728da7483446f5a5ed58bdcdd9a8d7"
            }
          },
          "f9b182b9b62c4fc392f6f475991b348d": {
            "model_module": "@jupyter-widgets/controls",
            "model_module_version": "2.0.0",
            "model_name": "HBoxModel",
            "state": {
              "children": [
                "IPY_MODEL_28714d8841e4487792942d86720d40f7",
                "IPY_MODEL_7de133e1eace46868b60df41017419fb"
              ],
              "layout": "IPY_MODEL_cb21ab4a47164a30a1043aae10b5739e"
            }
          },
          "29ee62c8c2074979afb22d315c3ba315": {
            "model_module": "@jupyter-widgets/controls",
            "model_module_version": "2.0.0",
            "model_name": "CheckboxModel",
            "state": {
              "description": "Don't split in batches",
              "disabled": false,
              "layout": "IPY_MODEL_0764147a98314472a0d2716af4c1e86f",
              "style": "IPY_MODEL_2c8081af4bb742c58111d090eddbf16d",
              "value": false
            }
          },
          "4cc730d96b4f4278985e7c30a7381ba9": {
            "model_module": "@jupyter-widgets/controls",
            "model_module_version": "2.0.0",
            "model_name": "CheckboxModel",
            "state": {
              "description": "Don't split in batches",
              "disabled": false,
              "layout": "IPY_MODEL_d4a7f3a278c5494cafd6a76951bc1331",
              "style": "IPY_MODEL_986090962cb148998ee31c4a570772a4",
              "value": false
            }
          },
          "e29a721b2fc44f3283a88efd4f22fc8c": {
            "model_module": "@jupyter-widgets/controls",
            "model_module_version": "2.0.0",
            "model_name": "TextModel",
            "state": {
              "description": "Output Path:",
              "layout": "IPY_MODEL_40276267155d4495b9b9137c31e40ea0",
              "style": "IPY_MODEL_1f4fc976f40442cbac0fcb84c49dae09"
            }
          },
          "7e5139ba44a04eaf822ed73a76523bab": {
            "model_module": "@jupyter-widgets/base",
            "model_module_version": "2.0.0",
            "model_name": "LayoutModel",
            "state": {
              "width": "40%"
            }
          },
          "c4a881f36077432db740651ecdf33512": {
            "model_module": "@jupyter-widgets/controls",
            "model_module_version": "2.0.0",
            "model_name": "DescriptionStyleModel",
            "state": {
              "description_width": ""
            }
          },
          "983831e4d1c34536a655febfb7e8ff62": {
            "model_module": "@jupyter-widgets/controls",
            "model_module_version": "2.0.0",
            "model_name": "HBoxModel",
            "state": {
              "children": [
                "IPY_MODEL_4dd173a6fa6349faa2526e49e12cd559",
                "IPY_MODEL_9269030e4f074332bdd8059c52af87e8"
              ],
              "layout": "IPY_MODEL_32938268986241929258ad8aa8c20d39"
            }
          },
          "63a403e4342443f98139f5ce4bfc4d7c": {
            "model_module": "@jupyter-widgets/base",
            "model_module_version": "2.0.0",
            "model_name": "LayoutModel",
            "state": {
              "width": "95%"
            }
          },
          "ba139cac5a3b4b7e9638f676c824a56d": {
            "model_module": "@jupyter-widgets/controls",
            "model_module_version": "2.0.0",
            "model_name": "ButtonStyleModel",
            "state": {
              "font_family": null,
              "font_size": null,
              "font_style": null,
              "font_variant": null,
              "font_weight": null,
              "text_color": null,
              "text_decoration": null
            }
          },
          "e2b0efd6049743f8a7313d9d5b4eaf93": {
            "model_module": "@jupyter-widgets/controls",
            "model_module_version": "2.0.0",
            "model_name": "CheckboxModel",
            "state": {
              "description": "ZIP export (must be .json, .csv)",
              "disabled": false,
              "layout": "IPY_MODEL_7f1c654884394f0d918441f292d68e4f",
              "style": "IPY_MODEL_9399c32ff4854d94b2c8feee78f81216",
              "value": false
            }
          },
          "99abed9f1ba645eab5e9b48dd7284c2c": {
            "model_module": "@jupyter-widgets/base",
            "model_module_version": "2.0.0",
            "model_name": "LayoutModel",
            "state": {
              "width": "90%"
            }
          },
          "6c71839d373142a7a44503fa3f616c31": {
            "model_module": "@jupyter-widgets/controls",
            "model_module_version": "2.0.0",
            "model_name": "TextModel",
            "state": {
              "description": "Input Path",
              "layout": "IPY_MODEL_5aff21ffcc12492592b1feccad88bb40",
              "style": "IPY_MODEL_385090831f1340988300bbe918754bc1",
              "tooltip": "Path to input directory or archive"
            }
          },
          "d3369a3e485148678f08a6f8aea969bc": {
            "model_module": "@jupyter-widgets/controls",
            "model_module_version": "2.0.0",
            "model_name": "DescriptionStyleModel",
            "state": {
              "description_width": ""
            }
          },
          "2acccfbc511b4204946570db0b9892d5": {
            "model_module": "@jupyter-widgets/controls",
            "model_module_version": "2.0.0",
            "model_name": "ButtonModel",
            "state": {
              "description": "Login",
              "layout": "IPY_MODEL_10feb95e5a364225a9921a5bb1711a8f",
              "style": "IPY_MODEL_545984878b3d459ba6c00e05435489d1",
              "tooltip": null
            }
          },
          "713f59754da243509dfacf542eb49363": {
            "model_module": "@jupyter-widgets/controls",
            "model_module_version": "2.0.0",
            "model_name": "TextStyleModel",
            "state": {
              "description_width": "",
              "font_size": null,
              "text_color": null
            }
          },
          "a726a13055e54e56ba9a74b11dcb4125": {
            "model_module": "@jupyter-widgets/controls",
            "model_module_version": "2.0.0",
            "model_name": "TextStyleModel",
            "state": {
              "description_width": "",
              "font_size": null,
              "text_color": null
            }
          },
          "7a990c93f0e142c983e87748bb4c55f2": {
            "model_module": "@jupyter-widgets/base",
            "model_module_version": "2.0.0",
            "model_name": "LayoutModel",
            "state": {
              "width": "90%"
            }
          },
          "895186d8cd6c41c48528a74ea8b0386e": {
            "model_module": "@jupyter-widgets/base",
            "model_module_version": "2.0.0",
            "model_name": "LayoutModel",
            "state": {}
          },
          "3d75650a4ec04156b66604f08a8286b2": {
            "model_module": "@jupyter-widgets/controls",
            "model_module_version": "2.0.0",
            "model_name": "TextModel",
            "state": {
              "description": "Output Path",
              "layout": "IPY_MODEL_76fbd46586cd47449599b197221a1b9b",
              "style": "IPY_MODEL_98d08796e1114b0db11632f77654957b"
            }
          },
          "ffa05273c0a348d98a1ec4f42c7b15f8": {
            "model_module": "@jupyter-widgets/controls",
            "model_module_version": "2.0.0",
            "model_name": "HBoxModel",
            "state": {
              "children": [
                "IPY_MODEL_0dabf4764c77466282c280608222d7c8",
                "IPY_MODEL_08c16269b418460daba02f7f116e827b",
                "IPY_MODEL_796b48ec248c4aa9a13f1b6c4ae610d5"
              ],
              "layout": "IPY_MODEL_cd12a0e6908f4119907ab400bbeb800f"
            }
          },
          "efe11f22a3124307bd84df119d68b091": {
            "model_module": "@jupyter-widgets/base",
            "model_module_version": "2.0.0",
            "model_name": "LayoutModel",
            "state": {
              "width": "90%"
            }
          },
          "3718840af2db48d4b58a15cf4641be0c": {
            "model_module": "@jupyter-widgets/base",
            "model_module_version": "2.0.0",
            "model_name": "LayoutModel",
            "state": {}
          },
          "2ccac16b9c8244da9d71f5d25d0bbf41": {
            "model_module": "@jupyter-widgets/base",
            "model_module_version": "2.0.0",
            "model_name": "LayoutModel",
            "state": {}
          },
          "da1a6fd9b7f9417da4125273ade99b96": {
            "model_module": "@jupyter-widgets/base",
            "model_module_version": "2.0.0",
            "model_name": "LayoutModel",
            "state": {}
          },
          "5371e2612a514f808cbd761f81c195b7": {
            "model_module": "@jupyter-widgets/base",
            "model_module_version": "2.0.0",
            "model_name": "LayoutModel",
            "state": {
              "width": "90%"
            }
          },
          "4436f321937d4ea7ac7af948a17f1b86": {
            "model_module": "@jupyter-widgets/base",
            "model_module_version": "2.0.0",
            "model_name": "LayoutModel",
            "state": {}
          },
          "a980a0c7588945439407aeccb841a39e": {
            "model_module": "@jupyter-widgets/controls",
            "model_module_version": "2.0.0",
            "model_name": "CheckboxStyleModel",
            "state": {
              "description_width": ""
            }
          },
          "f6e2619f454a478aa74172af7820f3c3": {
            "model_module": "@jupyter-widgets/controls",
            "model_module_version": "2.0.0",
            "model_name": "CheckboxModel",
            "state": {
              "description": "Don't split in batches",
              "disabled": false,
              "layout": "IPY_MODEL_0bdd0aaca03543a1a15bf23eb27661a5",
              "style": "IPY_MODEL_13fbc42b103d40fab5125c70c1a4cc0c",
              "value": false
            }
          },
          "60016ff6b62d4bcd9493f72bd17f4a54": {
            "model_module": "@jupyter-widgets/controls",
            "model_module_version": "2.0.0",
            "model_name": "HBoxModel",
            "state": {
              "children": [
                "IPY_MODEL_a5a9ee10a31f4cccaf104bd5b61d107f",
                "IPY_MODEL_6330593299e140dd8f0627031ab967c9"
              ],
              "layout": "IPY_MODEL_a34caf53294b4bb8b2cf83d7dfc40f41"
            }
          },
          "92b8b21c03aa44839da726f4755dd4d3": {
            "model_module": "@jupyter-widgets/controls",
            "model_module_version": "2.0.0",
            "model_name": "CheckboxStyleModel",
            "state": {
              "description_width": ""
            }
          },
          "32938268986241929258ad8aa8c20d39": {
            "model_module": "@jupyter-widgets/base",
            "model_module_version": "2.0.0",
            "model_name": "LayoutModel",
            "state": {}
          },
          "0caec7ddaef94cd8b0574212ca404367": {
            "model_module": "@jupyter-widgets/controls",
            "model_module_version": "2.0.0",
            "model_name": "TextModel",
            "state": {
              "description": "Output Path:",
              "layout": "IPY_MODEL_8572b192a44f4139863f6e0159ef7c0a",
              "style": "IPY_MODEL_465b00468a3746a79da47d8482a113fa"
            }
          },
          "432da04303134405a8fc1b015be1fe29": {
            "model_module": "@jupyter-widgets/controls",
            "model_module_version": "2.0.0",
            "model_name": "TextStyleModel",
            "state": {
              "description_width": "",
              "font_size": null,
              "text_color": null
            }
          },
          "726ddadb8d90411db3d3622ae270b091": {
            "model_module": "@jupyter-widgets/controls",
            "model_module_version": "2.0.0",
            "model_name": "ButtonStyleModel",
            "state": {
              "font_family": null,
              "font_size": null,
              "font_style": null,
              "font_variant": null,
              "font_weight": null,
              "text_color": null,
              "text_decoration": null
            }
          },
          "01075ade93044f319a02c2de4cde2630": {
            "model_module": "@jupyter-widgets/base",
            "model_module_version": "2.0.0",
            "model_name": "LayoutModel",
            "state": {}
          },
          "f965681becc74a9487ad55be656e6bf6": {
            "model_module": "@jupyter-widgets/controls",
            "model_module_version": "2.0.0",
            "model_name": "ButtonModel",
            "state": {
              "description": "Start export",
              "layout": "IPY_MODEL_96d507c4743b4348a32dff5c9af76c20",
              "style": "IPY_MODEL_376828bb47514315bcd4c7f7afa77f79",
              "tooltip": null
            }
          },
          "e2db57c5579246b7979bb239d3edc038": {
            "model_module": "@jupyter-widgets/controls",
            "model_module_version": "2.0.0",
            "model_name": "ButtonModel",
            "state": {
              "description": "Start export",
              "layout": "IPY_MODEL_93a78d69743149178a88af1d39fd0eef",
              "style": "IPY_MODEL_7a2128f4b47c427fb548e9d94f1b07a2",
              "tooltip": null
            }
          },
          "10533f9e73cd4d38a26e51260cf80c08": {
            "model_module": "@jupyter-widgets/controls",
            "model_module_version": "2.0.0",
            "model_name": "TextStyleModel",
            "state": {
              "description_width": "",
              "font_size": null,
              "text_color": null
            }
          },
          "d3e2552913d14a05a1d14c693c2e15c7": {
            "model_module": "@jupyter-widgets/controls",
            "model_module_version": "2.0.0",
            "model_name": "IntTextModel",
            "state": {
              "description": "Max count:",
              "layout": "IPY_MODEL_796a9ef7b10d491792e3d42117ebac8a",
              "step": 1,
              "style": "IPY_MODEL_a96f68f15ef046ea8eb6266892aa5396"
            }
          },
          "ca204cb1c5da42d595e8ec9e6aaf3bca": {
            "model_module": "@jupyter-widgets/controls",
            "model_module_version": "2.0.0",
            "model_name": "CheckboxStyleModel",
            "state": {
              "description_width": ""
            }
          },
          "ed1a7616b39b4347935526ba23277256": {
            "model_module": "@jupyter-widgets/base",
            "model_module_version": "2.0.0",
            "model_name": "LayoutModel",
            "state": {}
          },
          "4c7d18b976914bb4acab92aa2ba541ff": {
            "model_module": "@jupyter-widgets/base",
            "model_module_version": "2.0.0",
            "model_name": "LayoutModel",
            "state": {
              "width": "90%"
            }
          },
          "3413bbacd04e4c228c0b8af77cb66958": {
            "model_module": "@jupyter-widgets/controls",
            "model_module_version": "2.0.0",
            "model_name": "TextModel",
            "state": {
              "description": "Input Path:",
              "layout": "IPY_MODEL_8b5aad0d732e420db3864b1d5c7d9542",
              "style": "IPY_MODEL_d36b118bc66549ac8ccd67f93f3d6043",
              "tooltip": "Path to query template spreadsheet (list of names, etc. to search)"
            }
          },
          "5d30f93a5e884a999f2eca2f1e0040ce": {
            "model_module": "@jupyter-widgets/controls",
            "model_module_version": "2.0.0",
            "model_name": "CheckboxStyleModel",
            "state": {
              "description_width": ""
            }
          },
          "e97af7c1da84441abefe8826ebf1e0f5": {
            "model_module": "@jupyter-widgets/controls",
            "model_module_version": "2.0.0",
            "model_name": "HBoxModel",
            "state": {
              "children": [
                "IPY_MODEL_bece555f3b4443e0b87a1ad4b8b9788d",
                "IPY_MODEL_d6ed746ddbff4b5db255722661b6f29c"
              ],
              "layout": "IPY_MODEL_1965b9ee48e1400aac3367a72aa2ae9a"
            }
          },
          "03216a1cff14406ca7b8c7bbc67d2e1a": {
            "model_module": "@jupyter-widgets/base",
            "model_module_version": "2.0.0",
            "model_name": "LayoutModel",
            "state": {}
          },
          "3afe7a0b715f48fa962ab0fe35d90825": {
            "model_module": "@jupyter-widgets/base",
            "model_module_version": "2.0.0",
            "model_name": "LayoutModel",
            "state": {}
          },
          "e56672b174864cd7941ecbaa5c9fdb5e": {
            "model_module": "@jupyter-widgets/base",
            "model_module_version": "2.0.0",
            "model_name": "LayoutModel",
            "state": {
              "width": "90%"
            }
          },
          "20145f080aab458aa4730eb2f7166b24": {
            "model_module": "@jupyter-widgets/base",
            "model_module_version": "2.0.0",
            "model_name": "LayoutModel",
            "state": {}
          },
          "412e734bc18c475096bddbe76cac4bc4": {
            "model_module": "@jupyter-widgets/base",
            "model_module_version": "2.0.0",
            "model_name": "LayoutModel",
            "state": {}
          },
          "ee1ed4bf22084b1e8df70798e728b11c": {
            "model_module": "@jupyter-widgets/controls",
            "model_module_version": "2.0.0",
            "model_name": "DescriptionStyleModel",
            "state": {
              "description_width": ""
            }
          },
          "ee766fd4bc2646a1ba826891652b04f8": {
            "model_module": "@jupyter-widgets/base",
            "model_module_version": "2.0.0",
            "model_name": "LayoutModel",
            "state": {
              "width": "40%"
            }
          },
          "c85773df65e24ea397108a16f2c87951": {
            "model_module": "@jupyter-widgets/base",
            "model_module_version": "2.0.0",
            "model_name": "LayoutModel",
            "state": {}
          },
          "d2c1792e64944f3e840c063d6594c3d4": {
            "model_module": "@jupyter-widgets/controls",
            "model_module_version": "2.0.0",
            "model_name": "TextModel",
            "state": {
              "description": "Input Path",
              "layout": "IPY_MODEL_195cc7bef0e5470fa8c3434adcccd555",
              "style": "IPY_MODEL_2d90b72c7a9f4335846400bfaf2e034e",
              "tooltip": "Path to PDF directory"
            }
          },
          "e0b0082991f949d598e35dc28dcad422": {
            "model_module": "@jupyter-widgets/base",
            "model_module_version": "2.0.0",
            "model_name": "LayoutModel",
            "state": {}
          },
          "8564a4533822458ca42d51d540aa1fc1": {
            "model_module": "@jupyter-widgets/controls",
            "model_module_version": "2.0.0",
            "model_name": "IntTextModel",
            "state": {
              "description": "Max count",
              "layout": "IPY_MODEL_7dd3d57382444537a1f3c040692e6724",
              "step": 1,
              "style": "IPY_MODEL_0eedf9eda1bd4150a7dc12ffd47a7627"
            }
          },
          "b620506f33dc464a9c1d60b16e4cf3a3": {
            "model_module": "@jupyter-widgets/controls",
            "model_module_version": "2.0.0",
            "model_name": "CheckboxStyleModel",
            "state": {
              "description_width": ""
            }
          },
          "c273a9313a21406c962123c74e209a7f": {
            "model_module": "@jupyter-widgets/controls",
            "model_module_version": "2.0.0",
            "model_name": "DescriptionStyleModel",
            "state": {
              "description_width": ""
            }
          },
          "d564bcfac68d4b4dbe594fd7c9e18880": {
            "model_module": "@jupyter-widgets/base",
            "model_module_version": "2.0.0",
            "model_name": "LayoutModel",
            "state": {}
          },
          "8d1df2442819476ca7b994dae74bf1d9": {
            "model_module": "@jupyter-widgets/base",
            "model_module_version": "2.0.0",
            "model_name": "LayoutModel",
            "state": {}
          },
          "5b08dbbadad1481e9ca05c4427e5c69d": {
            "model_module": "@jupyter-widgets/base",
            "model_module_version": "2.0.0",
            "model_name": "LayoutModel",
            "state": {
              "width": "95%"
            }
          },
          "2b2c270f590b4ce89264901f25d8b0b4": {
            "model_module": "@jupyter-widgets/base",
            "model_module_version": "2.0.0",
            "model_name": "LayoutModel",
            "state": {
              "width": "40%"
            }
          },
          "02b1afe8463b440085c1cc7308068766": {
            "model_module": "@jupyter-widgets/controls",
            "model_module_version": "2.0.0",
            "model_name": "ButtonStyleModel",
            "state": {
              "font_family": null,
              "font_size": null,
              "font_style": null,
              "font_variant": null,
              "font_weight": null,
              "text_color": null,
              "text_decoration": null
            }
          },
          "54e9b682759a4d0db05cf7fe5a38319a": {
            "model_module": "@jupyter-widgets/base",
            "model_module_version": "2.0.0",
            "model_name": "LayoutModel",
            "state": {}
          },
          "36a5ab4f742c45fa944ae439a04b05fa": {
            "model_module": "@jupyter-widgets/base",
            "model_module_version": "2.0.0",
            "model_name": "LayoutModel",
            "state": {
              "width": "95%"
            }
          },
          "909f8d1dc4824927b160dcd03f376abb": {
            "model_module": "@jupyter-widgets/controls",
            "model_module_version": "2.0.0",
            "model_name": "TextStyleModel",
            "state": {
              "description_width": "",
              "font_size": null,
              "text_color": null
            }
          },
          "12ca6545747b4521a1acea5ff1fd20ab": {
            "model_module": "@jupyter-widgets/base",
            "model_module_version": "2.0.0",
            "model_name": "LayoutModel",
            "state": {}
          },
          "d5b4555d799e49a7a2360125b80caed2": {
            "model_module": "@jupyter-widgets/base",
            "model_module_version": "2.0.0",
            "model_name": "LayoutModel",
            "state": {
              "width": "90%"
            }
          },
          "fc84c96233264efcaff68af58c6bf388": {
            "model_module": "@jupyter-widgets/base",
            "model_module_version": "2.0.0",
            "model_name": "LayoutModel",
            "state": {}
          },
          "06124cc7f56c4fa4b4b4b1007c783e1b": {
            "model_module": "@jupyter-widgets/controls",
            "model_module_version": "2.0.0",
            "model_name": "DescriptionStyleModel",
            "state": {
              "description_width": ""
            }
          },
          "0b9c76979ca84b95ae3a1f4d4a053940": {
            "model_module": "@jupyter-widgets/base",
            "model_module_version": "2.0.0",
            "model_name": "LayoutModel",
            "state": {
              "width": "90%"
            }
          },
          "69a0cd1843e646a18512af570628b74a": {
            "model_module": "@jupyter-widgets/base",
            "model_module_version": "2.0.0",
            "model_name": "LayoutModel",
            "state": {}
          },
          "85a6ed0567e14c55856c1055c2f0fc86": {
            "model_module": "@jupyter-widgets/base",
            "model_module_version": "2.0.0",
            "model_name": "LayoutModel",
            "state": {
              "width": "40%"
            }
          },
          "f7652e8726ec4a5d94a05da09e8ee960": {
            "model_module": "@jupyter-widgets/base",
            "model_module_version": "2.0.0",
            "model_name": "LayoutModel",
            "state": {}
          },
          "52fe60bf73b74eb8846d0a7a1bef58cf": {
            "model_module": "@jupyter-widgets/base",
            "model_module_version": "2.0.0",
            "model_name": "LayoutModel",
            "state": {
              "width": "90%"
            }
          },
          "8257fa0f067a4ae796bfdb6506c523fb": {
            "model_module": "@jupyter-widgets/base",
            "model_module_version": "2.0.0",
            "model_name": "LayoutModel",
            "state": {
              "width": "90%"
            }
          },
          "9447acc0da5540de9ae73849e83ebd52": {
            "model_module": "@jupyter-widgets/controls",
            "model_module_version": "2.0.0",
            "model_name": "ButtonModel",
            "state": {
              "description": "Start export",
              "layout": "IPY_MODEL_a5254efa502149f1a3593a3124602c0f",
              "style": "IPY_MODEL_8595e70245f24e09a8205e5d7b64dde2",
              "tooltip": null
            }
          },
          "6e90a721a81b4c2e9a3a23f724f401c4": {
            "model_module": "@jupyter-widgets/controls",
            "model_module_version": "2.0.0",
            "model_name": "TextModel",
            "state": {
              "description": "Input Path:",
              "layout": "IPY_MODEL_9d0231eba73349e58b0ae8876ae4318e",
              "style": "IPY_MODEL_bd6dbb93d4ee486ca25a06d0ddf3aba8",
              "tooltip": "Path to query template spreadsheet (list of names, etc. to search)"
            }
          },
          "cc7e1c32370a4a18812b4fec930e2f8c": {
            "model_module": "@jupyter-widgets/base",
            "model_module_version": "2.0.0",
            "model_name": "LayoutModel",
            "state": {
              "width": "95%"
            }
          },
          "068602a86a034676ab7f2fbbcf34090b": {
            "model_module": "@jupyter-widgets/controls",
            "model_module_version": "2.0.0",
            "model_name": "TextModel",
            "state": {
              "description": "Customer ID: ",
              "layout": "IPY_MODEL_47b1edfb96de4df7a70e343248157375",
              "style": "IPY_MODEL_53f0451808d74f7cb99343098525b111"
            }
          },
          "cf2184fe65bd4654a35a9f96e24760ca": {
            "model_module": "@jupyter-widgets/base",
            "model_module_version": "2.0.0",
            "model_name": "LayoutModel",
            "state": {
              "width": "90%"
            }
          },
          "fe903c22cd7d485a9d365720764bc113": {
            "model_module": "@jupyter-widgets/controls",
            "model_module_version": "2.0.0",
            "model_name": "ButtonStyleModel",
            "state": {
              "font_family": null,
              "font_size": null,
              "font_style": null,
              "font_variant": null,
              "font_weight": null,
              "text_color": null,
              "text_decoration": null
            }
          },
          "6dda602970954107bf7db85cdc3c05ef": {
            "model_module": "@jupyter-widgets/controls",
            "model_module_version": "2.0.0",
            "model_name": "HTMLModel",
            "state": {
              "layout": "IPY_MODEL_8f1bf633ffe04c0399b9967f91b27b25",
              "style": "IPY_MODEL_00cb6bf08e914103978273f09a95ae42",
              "value": " 27238/27238 [26:15&lt;00:00, 22.35it/s]"
            }
          },
          "d2654a6f4b8a4094bd793aa5420241d8": {
            "model_module": "@jupyter-widgets/controls",
            "model_module_version": "2.0.0",
            "model_name": "ButtonModel",
            "state": {
              "description": "Start export",
              "layout": "IPY_MODEL_c85773df65e24ea397108a16f2c87951",
              "style": "IPY_MODEL_de32ae6bbbe041bda59bdcb7e9812d4b",
              "tooltip": null
            }
          },
          "5c6292ef3c5b4637ba24330e484ecd51": {
            "model_module": "@jupyter-widgets/controls",
            "model_module_version": "2.0.0",
            "model_name": "TextStyleModel",
            "state": {
              "description_width": "",
              "font_size": null,
              "text_color": null
            }
          },
          "8b83723bd15b4a5eadcf314aff925ea0": {
            "model_module": "@jupyter-widgets/base",
            "model_module_version": "2.0.0",
            "model_name": "LayoutModel",
            "state": {}
          },
          "ac11592ff1cc43e298fc9285d673e4d3": {
            "model_module": "@jupyter-widgets/controls",
            "model_module_version": "2.0.0",
            "model_name": "HBoxModel",
            "state": {
              "children": [
                "IPY_MODEL_8191a90a72ff418f8edfd8e0868fd61f",
                "IPY_MODEL_a8ea250fc4444df5b259f67c7453bd2a"
              ],
              "layout": "IPY_MODEL_eae896750acc4c889762834f24e7bbc6"
            }
          },
          "90cdc1eef80a48d998eef94693cc9569": {
            "model_module": "@jupyter-widgets/controls",
            "model_module_version": "2.0.0",
            "model_name": "ButtonModel",
            "state": {
              "description": "Start export",
              "layout": "IPY_MODEL_ea949fc55b5c4a3598e1907fe380205d",
              "style": "IPY_MODEL_3b27492a512241cf93740a3f615c2b2e",
              "tooltip": null
            }
          },
          "0cf70264231d4d47ad3485a77aa0ff2f": {
            "model_module": "@jupyter-widgets/controls",
            "model_module_version": "2.0.0",
            "model_name": "ButtonStyleModel",
            "state": {
              "font_family": null,
              "font_size": null,
              "font_style": null,
              "font_variant": null,
              "font_weight": null,
              "text_color": null,
              "text_decoration": null
            }
          },
          "e2b2b98aa8104a64ab45cec15b362b76": {
            "model_module": "@jupyter-widgets/controls",
            "model_module_version": "2.0.0",
            "model_name": "CheckboxModel",
            "state": {
              "description": "Don't split in batches",
              "disabled": false,
              "layout": "IPY_MODEL_eccafc6268dc4fb1b0176ad89335cb62",
              "style": "IPY_MODEL_9bb347d0fad14edf9f1c1b0426240cb5",
              "value": false
            }
          },
          "0505e30eaf004f74b7d7e613cec247ba": {
            "model_module": "@jupyter-widgets/base",
            "model_module_version": "2.0.0",
            "model_name": "LayoutModel",
            "state": {}
          },
          "97e96e80dde54a43b55dfa6b418f68ae": {
            "model_module": "@jupyter-widgets/base",
            "model_module_version": "2.0.0",
            "model_name": "LayoutModel",
            "state": {
              "width": "40%"
            }
          },
          "e7ed6d2b658040fc9ebc1eb07f69002a": {
            "model_module": "@jupyter-widgets/base",
            "model_module_version": "2.0.0",
            "model_name": "LayoutModel",
            "state": {
              "width": "95%"
            }
          },
          "45e8e24777d74549bc4a03dbddf4375f": {
            "model_module": "@jupyter-widgets/controls",
            "model_module_version": "2.0.0",
            "model_name": "TextModel",
            "state": {
              "description": "Output Path",
              "layout": "IPY_MODEL_3ae5b9c5dfdd4e74a60478068a569986",
              "style": "IPY_MODEL_9ece14e2184d49de94dcfb7723a1d13b"
            }
          },
          "13456c9fa4ee4bdd96fd1bc76f84ac14": {
            "model_module": "@jupyter-widgets/base",
            "model_module_version": "2.0.0",
            "model_name": "LayoutModel",
            "state": {
              "width": "90%"
            }
          },
          "9975ad4b4187462eb1f06f63cdced6c7": {
            "model_module": "@jupyter-widgets/controls",
            "model_module_version": "2.0.0",
            "model_name": "DescriptionStyleModel",
            "state": {
              "description_width": ""
            }
          },
          "70cd708fa34249519559dc40020b9ebd": {
            "model_module": "@jupyter-widgets/base",
            "model_module_version": "2.0.0",
            "model_name": "LayoutModel",
            "state": {
              "width": "90%"
            }
          },
          "76ecec4eb21346acaa09a376182e3282": {
            "model_module": "@jupyter-widgets/output",
            "model_module_version": "1.0.0",
            "model_name": "OutputModel",
            "state": {
              "layout": "IPY_MODEL_05168009fbb7492fb4f5889e43e449d7"
            }
          },
          "6f3a5e52e54b4035a392e99489198d81": {
            "model_module": "@jupyter-widgets/controls",
            "model_module_version": "2.0.0",
            "model_name": "DropdownModel",
            "state": {
              "_options_labels": [
                "cases",
                "charges",
                "disposition",
                "filing",
                "fees"
              ],
              "description": "Table:",
              "index": 0,
              "layout": "IPY_MODEL_a66bcbdf1bee4f3380110daf77d6d681",
              "style": "IPY_MODEL_2885c94dde334cf7856ca977333819d7"
            }
          },
          "c76d3fa9599c4e0e9996e96aa6b7f581": {
            "model_module": "@jupyter-widgets/controls",
            "model_module_version": "2.0.0",
            "model_name": "CheckboxModel",
            "state": {
              "description": "Allow overwrite",
              "disabled": false,
              "layout": "IPY_MODEL_c925f983e2144000a32d4ff54b987917",
              "style": "IPY_MODEL_ca204cb1c5da42d595e8ec9e6aaf3bca",
              "value": false
            }
          },
          "0f116a7a2774463686daaa761f3adbce": {
            "model_module": "@jupyter-widgets/base",
            "model_module_version": "2.0.0",
            "model_name": "LayoutModel",
            "state": {
              "width": "90%"
            }
          },
          "1505a04b79904e48bdbdaaff805cb971": {
            "model_module": "@jupyter-widgets/controls",
            "model_module_version": "2.0.0",
            "model_name": "CheckboxModel",
            "state": {
              "description": "Allow overwrite",
              "disabled": false,
              "layout": "IPY_MODEL_e5f101ee1ca445ba898ddfeaab834b31",
              "style": "IPY_MODEL_a37fa1a589484f779cbea4352530b8d1",
              "value": false
            }
          },
          "0d2b7076befa403c9971fc709c74dec4": {
            "model_module": "@jupyter-widgets/controls",
            "model_module_version": "2.0.0",
            "model_name": "TextStyleModel",
            "state": {
              "description_width": "",
              "font_size": null,
              "text_color": null
            }
          },
          "52b1b3316cb54a6f8f4ac8a118bbc476": {
            "model_module": "@jupyter-widgets/controls",
            "model_module_version": "2.0.0",
            "model_name": "CheckboxStyleModel",
            "state": {
              "description_width": ""
            }
          },
          "5ed21c19d68f4c29a34b883e1c77a608": {
            "model_module": "@jupyter-widgets/base",
            "model_module_version": "2.0.0",
            "model_name": "LayoutModel",
            "state": {
              "width": "90%"
            }
          },
          "48f961de20294dffbbca187c9d78d9a6": {
            "model_module": "@jupyter-widgets/controls",
            "model_module_version": "2.0.0",
            "model_name": "CheckboxStyleModel",
            "state": {
              "description_width": ""
            }
          },
          "0362cb8363db49f3a19a59de926eed16": {
            "model_module": "@jupyter-widgets/base",
            "model_module_version": "2.0.0",
            "model_name": "LayoutModel",
            "state": {}
          },
          "975902dfe9e241469b9067a3602d2309": {
            "model_module": "@jupyter-widgets/controls",
            "model_module_version": "2.0.0",
            "model_name": "PasswordModel",
            "state": {
              "description": "Password: ",
              "layout": "IPY_MODEL_c5cbc1544e60456c818b3e9c35794e27",
              "style": "IPY_MODEL_9a6f731f68e345a383f68fb8ed10f353"
            }
          },
          "f466bfe8e86b42a5a014a5e129b0388e": {
            "model_module": "@jupyter-widgets/controls",
            "model_module_version": "2.0.0",
            "model_name": "ButtonStyleModel",
            "state": {
              "font_family": null,
              "font_size": null,
              "font_style": null,
              "font_variant": null,
              "font_weight": null,
              "text_color": null,
              "text_decoration": null
            }
          },
          "fbb16f26d0ff42479b65874d8b4ceef9": {
            "model_module": "@jupyter-widgets/controls",
            "model_module_version": "2.0.0",
            "model_name": "TextModel",
            "state": {
              "description": "Output Path",
              "layout": "IPY_MODEL_e92c71701a694609a52a930ad6f8387c",
              "style": "IPY_MODEL_564572ceada54718bf79e8357b59779a",
              "value": "/Users/samuelrobson/Desktop/pleasefuckingwork.pkl.xz"
            }
          },
          "06851f92743f497496d504a68e68e308": {
            "model_module": "@jupyter-widgets/base",
            "model_module_version": "2.0.0",
            "model_name": "LayoutModel",
            "state": {
              "width": "95%"
            }
          },
          "78b74025834245e29c92bc48ae922c52": {
            "model_module": "@jupyter-widgets/base",
            "model_module_version": "2.0.0",
            "model_name": "LayoutModel",
            "state": {}
          },
          "0aada1df7bbd465eadf076549f251b75": {
            "model_module": "@jupyter-widgets/controls",
            "model_module_version": "2.0.0",
            "model_name": "CheckboxStyleModel",
            "state": {
              "description_width": ""
            }
          },
          "4443331d931d41e7a9b02e1614cb8801": {
            "model_module": "@jupyter-widgets/controls",
            "model_module_version": "2.0.0",
            "model_name": "TextStyleModel",
            "state": {
              "description_width": "",
              "font_size": null,
              "text_color": null
            }
          },
          "bd4f0f3d7ee14011a81cf4780ce79ea6": {
            "model_module": "@jupyter-widgets/base",
            "model_module_version": "2.0.0",
            "model_name": "LayoutModel",
            "state": {}
          },
          "94201324f4904e1f83830143d1cf8fa4": {
            "model_module": "@jupyter-widgets/controls",
            "model_module_version": "2.0.0",
            "model_name": "HBoxModel",
            "state": {
              "children": [
                "IPY_MODEL_1d2b4c52c2ad4ffebf8f870c756470c5",
                "IPY_MODEL_e0f0782224fd49bdb5cfe9a6fe9e744f"
              ],
              "layout": "IPY_MODEL_2a1cc5b3a89f4f1db2a46156a3d36f78"
            }
          },
          "8ec3d0df27ca4e12965971a1dfaefefe": {
            "model_module": "@jupyter-widgets/base",
            "model_module_version": "2.0.0",
            "model_name": "LayoutModel",
            "state": {}
          },
          "097f34597298459faedf34504874b070": {
            "model_module": "@jupyter-widgets/controls",
            "model_module_version": "2.0.0",
            "model_name": "ButtonStyleModel",
            "state": {
              "font_family": null,
              "font_size": null,
              "font_style": null,
              "font_variant": null,
              "font_weight": null,
              "text_color": null,
              "text_decoration": null
            }
          },
          "d1940f2c70ba47749cba4fc1ed0a7f99": {
            "model_module": "@jupyter-widgets/controls",
            "model_module_version": "2.0.0",
            "model_name": "HBoxModel",
            "state": {
              "children": [
                "IPY_MODEL_d3e2552913d14a05a1d14c693c2e15c7",
                "IPY_MODEL_7f405496e0524bf59933429bd7057e24"
              ],
              "layout": "IPY_MODEL_f858f4856cfd476989f81eb26869e6bd"
            }
          },
          "300d1636334442c783b0c3d0dfa0da0a": {
            "model_module": "@jupyter-widgets/controls",
            "model_module_version": "2.0.0",
            "model_name": "ButtonModel",
            "state": {
              "description": "Start archiving",
              "layout": "IPY_MODEL_09772bac364f4ec997507a8f4043868d",
              "style": "IPY_MODEL_1f2015b2d96547f19ff4a893c6340ffc",
              "tooltip": null
            }
          },
          "e2869ce4eb48496591977d0e58b0f2a2": {
            "model_module": "@jupyter-widgets/controls",
            "model_module_version": "2.0.0",
            "model_name": "TextStyleModel",
            "state": {
              "description_width": "",
              "font_size": null,
              "text_color": null
            }
          },
          "c97949332dc34f9dafc0ffd92f580e77": {
            "model_module": "@jupyter-widgets/controls",
            "model_module_version": "2.0.0",
            "model_name": "CheckboxModel",
            "state": {
              "description": "Allow overwrite",
              "disabled": false,
              "layout": "IPY_MODEL_e9d66b46f5b24e83bcf466b9d5529997",
              "style": "IPY_MODEL_2357de0d8daf4e32bb126b68628898c3",
              "value": false
            }
          },
          "e34e99dfe73e476096c1b710117cfa07": {
            "model_module": "@jupyter-widgets/controls",
            "model_module_version": "2.0.0",
            "model_name": "CheckboxStyleModel",
            "state": {
              "description_width": ""
            }
          },
          "d31f6b60f7b246a79bcf8936d463455c": {
            "model_module": "@jupyter-widgets/base",
            "model_module_version": "2.0.0",
            "model_name": "LayoutModel",
            "state": {}
          },
          "66732415f515428999021979dac2acde": {
            "model_module": "@jupyter-widgets/controls",
            "model_module_version": "2.0.0",
            "model_name": "TextModel",
            "state": {
              "description": "Input Path",
              "layout": "IPY_MODEL_d849a2c0ca9140f4a3c7b6187c12ae6d",
              "style": "IPY_MODEL_9e42d97cb0f6473291e1c57de73101c0",
              "tooltip": "Path to input directory or archive"
            }
          },
          "ccc94669279b49aa9855503d66b1ec9b": {
            "model_module": "@jupyter-widgets/controls",
            "model_module_version": "2.0.0",
            "model_name": "ButtonStyleModel",
            "state": {
              "font_family": null,
              "font_size": null,
              "font_style": null,
              "font_variant": null,
              "font_weight": null,
              "text_color": null,
              "text_decoration": null
            }
          },
          "326568b850084018b309f8132daff554": {
            "model_module": "@jupyter-widgets/controls",
            "model_module_version": "2.0.0",
            "model_name": "PasswordModel",
            "state": {
              "description": "Password: ",
              "layout": "IPY_MODEL_e61a6e4571d4413e9d951b36578e79d5",
              "style": "IPY_MODEL_d9cb75787e8d4ece84ac158d1a2ce1df"
            }
          },
          "5664e63479c142aead92cc6aa243ae5f": {
            "model_module": "@jupyter-widgets/base",
            "model_module_version": "2.0.0",
            "model_name": "LayoutModel",
            "state": {}
          },
          "0a3d342e1c0d4b93986bad5c21f5ef99": {
            "model_module": "@jupyter-widgets/controls",
            "model_module_version": "2.0.0",
            "model_name": "TextStyleModel",
            "state": {
              "description_width": "",
              "font_size": null,
              "text_color": null
            }
          },
          "464914a73a8442d6afd9458fc896e0a1": {
            "model_module": "@jupyter-widgets/controls",
            "model_module_version": "2.0.0",
            "model_name": "ButtonStyleModel",
            "state": {
              "font_family": null,
              "font_size": null,
              "font_style": null,
              "font_variant": null,
              "font_weight": null,
              "text_color": null,
              "text_decoration": null
            }
          },
          "1b439cac69c94744a1232256a675167e": {
            "model_module": "@jupyter-widgets/controls",
            "model_module_version": "2.0.0",
            "model_name": "DescriptionStyleModel",
            "state": {
              "description_width": ""
            }
          },
          "583e22d66fe84ac18afbf8367ba227c3": {
            "model_module": "@jupyter-widgets/controls",
            "model_module_version": "2.0.0",
            "model_name": "TextStyleModel",
            "state": {
              "description_width": "",
              "font_size": null,
              "text_color": null
            }
          },
          "b3e698e35c3d4dbe8d13b48888f4a24d": {
            "model_module": "@jupyter-widgets/base",
            "model_module_version": "2.0.0",
            "model_name": "LayoutModel",
            "state": {}
          },
          "0a333e0719f44ea2a0149109aca27c73": {
            "model_module": "@jupyter-widgets/controls",
            "model_module_version": "2.0.0",
            "model_name": "TextModel",
            "state": {
              "description": "Input Path:",
              "layout": "IPY_MODEL_badb8b9240ff4a719bdbe15b3844ce85",
              "style": "IPY_MODEL_46fed25ea04c4e13b15c1a24faed82bd",
              "tooltip": "Path to query template spreadsheet (list of names, etc. to search)"
            }
          },
          "b049af3f587f4963956cedf11fc4a19a": {
            "model_module": "@jupyter-widgets/controls",
            "model_module_version": "2.0.0",
            "model_name": "TextModel",
            "state": {
              "description": "Input Path:",
              "layout": "IPY_MODEL_cf2184fe65bd4654a35a9f96e24760ca",
              "style": "IPY_MODEL_23cff1c034fc497791f3893e703fa9c5",
              "tooltip": "Path to query template spreadsheet (list of names, etc. to search)"
            }
          },
          "4919c53daa074aabbe374c63af9f7c60": {
            "model_module": "@jupyter-widgets/base",
            "model_module_version": "2.0.0",
            "model_name": "LayoutModel",
            "state": {
              "width": "40%"
            }
          },
          "b24c26e11ee74de89db98479abbab439": {
            "model_module": "@jupyter-widgets/base",
            "model_module_version": "2.0.0",
            "model_name": "LayoutModel",
            "state": {}
          },
          "7de219a8a9e74dce8396a9eefdbdfc4b": {
            "model_module": "@jupyter-widgets/controls",
            "model_module_version": "2.0.0",
            "model_name": "CheckboxStyleModel",
            "state": {
              "description_width": ""
            }
          },
          "c45bfe574a7a4010938f912ee83d8808": {
            "model_module": "@jupyter-widgets/controls",
            "model_module_version": "2.0.0",
            "model_name": "TextStyleModel",
            "state": {
              "description_width": "",
              "font_size": null,
              "text_color": null
            }
          },
          "1e57753548734567b2b435d6d104b1bd": {
            "model_module": "@jupyter-widgets/controls",
            "model_module_version": "2.0.0",
            "model_name": "CheckboxStyleModel",
            "state": {
              "description_width": ""
            }
          },
          "5dde8e6150ba43e38620870fd3d85189": {
            "model_module": "@jupyter-widgets/controls",
            "model_module_version": "2.0.0",
            "model_name": "TextStyleModel",
            "state": {
              "description_width": "",
              "font_size": null,
              "text_color": null
            }
          },
          "7b050e24da2547c49cb8715184524ed9": {
            "model_module": "@jupyter-widgets/controls",
            "model_module_version": "2.0.0",
            "model_name": "TextModel",
            "state": {
              "description": "Input Path",
              "layout": "IPY_MODEL_6ebbdd6c1e834cf9b363c544e3640048",
              "style": "IPY_MODEL_f7bb09b0227340d38b42682d07788c4f",
              "tooltip": "Path to input directory or archive"
            }
          },
          "64b69574722742a4b59248192d9c6699": {
            "model_module": "@jupyter-widgets/base",
            "model_module_version": "2.0.0",
            "model_name": "LayoutModel",
            "state": {
              "width": "40%"
            }
          },
          "f548dc352fe54380b8337cba8fa024ab": {
            "model_module": "@jupyter-widgets/controls",
            "model_module_version": "2.0.0",
            "model_name": "IntTextModel",
            "state": {
              "description": "Skip rows",
              "layout": "IPY_MODEL_3c14e08d5f084739a51031a00589bfda",
              "step": 1,
              "style": "IPY_MODEL_20492533d1ef4e3b9a17b51ddbadf3f7"
            }
          },
          "1fdc06015cde499f9d56a805f9e7b51e": {
            "model_module": "@jupyter-widgets/controls",
            "model_module_version": "2.0.0",
            "model_name": "TextStyleModel",
            "state": {
              "description_width": "",
              "font_size": null,
              "text_color": null
            }
          },
          "5540ac46a0b94edaad2349e9a4622b11": {
            "model_module": "@jupyter-widgets/controls",
            "model_module_version": "2.0.0",
            "model_name": "TextStyleModel",
            "state": {
              "description_width": "",
              "font_size": null,
              "text_color": null
            }
          },
          "eeff21dce9ca4ed5ab42f2d97cb71372": {
            "model_module": "@jupyter-widgets/controls",
            "model_module_version": "2.0.0",
            "model_name": "ButtonStyleModel",
            "state": {
              "font_family": null,
              "font_size": null,
              "font_style": null,
              "font_variant": null,
              "font_weight": null,
              "text_color": null,
              "text_decoration": null
            }
          },
          "ee1b2a85c4f24b1382a9e229fc57cbbd": {
            "model_module": "@jupyter-widgets/controls",
            "model_module_version": "2.0.0",
            "model_name": "CheckboxStyleModel",
            "state": {
              "description_width": ""
            }
          },
          "5d17bfe9f21c4c6bb10abf48f2e63129": {
            "model_module": "@jupyter-widgets/base",
            "model_module_version": "2.0.0",
            "model_name": "LayoutModel",
            "state": {
              "width": "90%"
            }
          },
          "b63149fd3c834e2d9d023ce9c2ad44f0": {
            "model_module": "@jupyter-widgets/controls",
            "model_module_version": "2.0.0",
            "model_name": "ButtonStyleModel",
            "state": {
              "font_family": null,
              "font_size": null,
              "font_style": null,
              "font_variant": null,
              "font_weight": null,
              "text_color": null,
              "text_decoration": null
            }
          },
          "4f12946d98d34e0b8a2d3717c68276c5": {
            "model_module": "@jupyter-widgets/base",
            "model_module_version": "2.0.0",
            "model_name": "LayoutModel",
            "state": {
              "width": "40%"
            }
          },
          "376828bb47514315bcd4c7f7afa77f79": {
            "model_module": "@jupyter-widgets/controls",
            "model_module_version": "2.0.0",
            "model_name": "ButtonStyleModel",
            "state": {
              "font_family": null,
              "font_size": null,
              "font_style": null,
              "font_variant": null,
              "font_weight": null,
              "text_color": null,
              "text_decoration": null
            }
          },
          "72c6519fc53640c9957621a5df36f96b": {
            "model_module": "@jupyter-widgets/controls",
            "model_module_version": "2.0.0",
            "model_name": "PasswordModel",
            "state": {
              "description": "Password: ",
              "layout": "IPY_MODEL_0b0acd7398384b68a4739836b61eaa21",
              "style": "IPY_MODEL_0aa3a29ac29a451682266e0efdb22342"
            }
          },
          "9e877871f17742aa862551b12d9f2a29": {
            "model_module": "@jupyter-widgets/controls",
            "model_module_version": "2.0.0",
            "model_name": "TextModel",
            "state": {
              "description": "Output Path",
              "layout": "IPY_MODEL_5371e2612a514f808cbd761f81c195b7",
              "style": "IPY_MODEL_c2123d718bdf4ae2b17f0693d8f8403b"
            }
          },
          "eb30043c1b1e4fa2847aa2e512002b02": {
            "model_module": "@jupyter-widgets/controls",
            "model_module_version": "2.0.0",
            "model_name": "ButtonModel",
            "state": {
              "description": "Read more",
              "layout": "IPY_MODEL_a3f1e9f09d9246118833d53ecb7c848d",
              "style": "IPY_MODEL_a5492a0e2d3b4c24bb2ddb3dca1152b1",
              "tooltip": null
            }
          },
          "8b63635ad86049198c1f974564f19930": {
            "model_module": "@jupyter-widgets/controls",
            "model_module_version": "2.0.0",
            "model_name": "TextModel",
            "state": {
              "description": "Customer ID: ",
              "layout": "IPY_MODEL_d564bcfac68d4b4dbe594fd7c9e18880",
              "style": "IPY_MODEL_59bf33518636472d83f7488f03a25c4e"
            }
          },
          "93d9c9d83e7747288ea44bcae5f8a153": {
            "model_module": "@jupyter-widgets/controls",
            "model_module_version": "2.0.0",
            "model_name": "IntTextModel",
            "state": {
              "description": "Max rows",
              "layout": "IPY_MODEL_bf5a75c0022247cc8b856e9a4a882d69",
              "step": 1,
              "style": "IPY_MODEL_ef95b0a7910445a18d4dca69d9e9bd3b"
            }
          },
          "aaa627e2eb3a4cce92a5439361024aeb": {
            "model_module": "@jupyter-widgets/controls",
            "model_module_version": "2.0.0",
            "model_name": "FloatProgressModel",
            "state": {
              "bar_style": "success",
              "layout": "IPY_MODEL_79d5095d0a524ddcaf61a2de1052a35c",
              "max": 999,
              "style": "IPY_MODEL_d33f7a69b4d3430b87e58c689712cd64",
              "value": 999
            }
          },
          "ad4a4e762c3d4907bc0df267fb274366": {
            "model_module": "@jupyter-widgets/base",
            "model_module_version": "2.0.0",
            "model_name": "LayoutModel",
            "state": {}
          },
          "4cfc58c4ba994e26a0a9b8b9976cb2f3": {
            "model_module": "@jupyter-widgets/controls",
            "model_module_version": "2.0.0",
            "model_name": "CheckboxStyleModel",
            "state": {
              "description_width": ""
            }
          },
          "73a09dd72709418db2d950cb876688e7": {
            "model_module": "@jupyter-widgets/controls",
            "model_module_version": "2.0.0",
            "model_name": "TextModel",
            "state": {
              "description": "Input Path",
              "layout": "IPY_MODEL_e6e64ecf9c824cd081ed2af99b1e44c4",
              "style": "IPY_MODEL_f2c32a93ab314e88a3bf9cb2bf99281b",
              "tooltip": "Path to input directory or archive"
            }
          },
          "56b24ff741084725ae6b0232a3314a03": {
            "model_module": "@jupyter-widgets/controls",
            "model_module_version": "2.0.0",
            "model_name": "IntTextModel",
            "state": {
              "description": "Max rows",
              "layout": "IPY_MODEL_d44c25fbb9964737b44758ca5bb9de98",
              "step": 1,
              "style": "IPY_MODEL_b959cff16f5c4d949cafe237b9427649"
            }
          },
          "266a01a1c38b45fcbc2db67a11c7b7fd": {
            "model_module": "@jupyter-widgets/controls",
            "model_module_version": "2.0.0",
            "model_name": "CheckboxStyleModel",
            "state": {
              "description_width": ""
            }
          },
          "53cc9cb5f5604deea692a230ddec12bc": {
            "model_module": "@jupyter-widgets/controls",
            "model_module_version": "2.0.0",
            "model_name": "TextModel",
            "state": {
              "description": "Output Path",
              "layout": "IPY_MODEL_5a15037d57884424914143d50b78ee6d",
              "style": "IPY_MODEL_c94c6f75710f4c318717a4e43d944458"
            }
          },
          "1babe235de184115918c4d5faef368f5": {
            "model_module": "@jupyter-widgets/base",
            "model_module_version": "2.0.0",
            "model_name": "LayoutModel",
            "state": {}
          },
          "9e20326416c5435cbdbf6b1ef7bbc056": {
            "model_module": "@jupyter-widgets/base",
            "model_module_version": "2.0.0",
            "model_name": "LayoutModel",
            "state": {}
          },
          "703f3b02e15f47bf81303d37f0cf03d8": {
            "model_module": "@jupyter-widgets/base",
            "model_module_version": "2.0.0",
            "model_name": "LayoutModel",
            "state": {}
          },
          "37e25fe429b84e20a30328d88f5cf273": {
            "model_module": "@jupyter-widgets/controls",
            "model_module_version": "2.0.0",
            "model_name": "DescriptionStyleModel",
            "state": {
              "description_width": ""
            }
          },
          "a5a9fc82e79842e0956429dd2f76cd75": {
            "model_module": "@jupyter-widgets/controls",
            "model_module_version": "2.0.0",
            "model_name": "IntTextModel",
            "state": {
              "description": "Max count:",
              "layout": "IPY_MODEL_30499712a987412fb1c276dd3b0e22b6",
              "step": 1,
              "style": "IPY_MODEL_472f2b107454495eb3aba9aef9fa29be"
            }
          },
          "e7103499aecf4e55b94a050f6874e140": {
            "model_module": "@jupyter-widgets/controls",
            "model_module_version": "2.0.0",
            "model_name": "TextStyleModel",
            "state": {
              "description_width": "",
              "font_size": null,
              "text_color": null
            }
          },
          "d58d17eff3174382b20c20b521f2e9c0": {
            "model_module": "@jupyter-widgets/controls",
            "model_module_version": "2.0.0",
            "model_name": "CheckboxModel",
            "state": {
              "description": "Don't split in batches",
              "disabled": false,
              "layout": "IPY_MODEL_8a7faffc3f37435bb9515ff0035dde05",
              "style": "IPY_MODEL_bdbd3e48418c43448205fb4fb22f049f",
              "value": false
            }
          },
          "f17b9f688a504caebc475584b1555747": {
            "model_module": "@jupyter-widgets/controls",
            "model_module_version": "2.0.0",
            "model_name": "ButtonStyleModel",
            "state": {
              "font_family": null,
              "font_size": null,
              "font_style": null,
              "font_variant": null,
              "font_weight": null,
              "text_color": null,
              "text_decoration": null
            }
          },
          "17eb359339b94f1194d22c890acbb746": {
            "model_module": "@jupyter-widgets/controls",
            "model_module_version": "2.0.0",
            "model_name": "CheckboxStyleModel",
            "state": {
              "description_width": ""
            }
          },
          "396b1c7e3ca74fa58016b443eedc6858": {
            "model_module": "@jupyter-widgets/controls",
            "model_module_version": "2.0.0",
            "model_name": "DescriptionStyleModel",
            "state": {
              "description_width": ""
            }
          },
          "64307fbc3d6f4420bce78de5b9bc2d9f": {
            "model_module": "@jupyter-widgets/controls",
            "model_module_version": "2.0.0",
            "model_name": "TextModel",
            "state": {
              "description": "Input Path",
              "layout": "IPY_MODEL_1af22498380a4c81bb1a95d8d2da68e7",
              "style": "IPY_MODEL_2379172527934230a5cd08cbaf8c0115",
              "tooltip": "Path to PDF directory"
            }
          },
          "743c00d2b95f4a289710c3b578bd1f68": {
            "model_module": "@jupyter-widgets/controls",
            "model_module_version": "2.0.0",
            "model_name": "CheckboxStyleModel",
            "state": {
              "description_width": ""
            }
          },
          "21ca92bc6ab84f348552c3bd2691e0b4": {
            "model_module": "@jupyter-widgets/base",
            "model_module_version": "2.0.0",
            "model_name": "LayoutModel",
            "state": {}
          },
          "c2123d718bdf4ae2b17f0693d8f8403b": {
            "model_module": "@jupyter-widgets/controls",
            "model_module_version": "2.0.0",
            "model_name": "TextStyleModel",
            "state": {
              "description_width": "",
              "font_size": null,
              "text_color": null
            }
          },
          "20927579de414b6393d19a94e0517149": {
            "model_module": "@jupyter-widgets/controls",
            "model_module_version": "2.0.0",
            "model_name": "TextModel",
            "state": {
              "description": "Output Path",
              "layout": "IPY_MODEL_5785a495f62e4b589e3b7162e2e10177",
              "style": "IPY_MODEL_679d2458a2ff49da84d1d05415cbbea7"
            }
          },
          "70fcd505388e4541bcadc4652b1e8c0a": {
            "model_module": "@jupyter-widgets/controls",
            "model_module_version": "2.0.0",
            "model_name": "CheckboxStyleModel",
            "state": {
              "description_width": ""
            }
          },
          "e25d623bbab842fc9997d48cd1d60be4": {
            "model_module": "@jupyter-widgets/controls",
            "model_module_version": "2.0.0",
            "model_name": "ButtonModel",
            "state": {
              "description": "Start export",
              "layout": "IPY_MODEL_e047f591bde1446bbd3cd9f9a1515904",
              "style": "IPY_MODEL_40430d9e30b749a5b83c139b72bbfc8b",
              "tooltip": null
            }
          },
          "58afe38431884f5bba0c6a97b774c557": {
            "model_module": "@jupyter-widgets/controls",
            "model_module_version": "2.0.0",
            "model_name": "CheckboxStyleModel",
            "state": {
              "description_width": ""
            }
          },
          "619be42cd4a44767969ada125ab22cc8": {
            "model_module": "@jupyter-widgets/controls",
            "model_module_version": "2.0.0",
            "model_name": "ButtonModel",
            "state": {
              "description": "Start export",
              "layout": "IPY_MODEL_7a1f03d433d745deaadd0f02379de40d",
              "style": "IPY_MODEL_d4f0412f082e4828bda9f0691df30092",
              "tooltip": null
            }
          },
          "4baf52f94f214720a041c4fe8d2b6922": {
            "model_module": "@jupyter-widgets/controls",
            "model_module_version": "2.0.0",
            "model_name": "TextModel",
            "state": {
              "description": "Output Path:",
              "layout": "IPY_MODEL_aa6b1f23bb664c5a807a0182368c618b",
              "style": "IPY_MODEL_9c113a7890494ace81dd7543e9f8f283"
            }
          },
          "f7bb09b0227340d38b42682d07788c4f": {
            "model_module": "@jupyter-widgets/controls",
            "model_module_version": "2.0.0",
            "model_name": "TextStyleModel",
            "state": {
              "description_width": "",
              "font_size": null,
              "text_color": null
            }
          },
          "d4f0412f082e4828bda9f0691df30092": {
            "model_module": "@jupyter-widgets/controls",
            "model_module_version": "2.0.0",
            "model_name": "ButtonStyleModel",
            "state": {
              "font_family": null,
              "font_size": null,
              "font_style": null,
              "font_variant": null,
              "font_weight": null,
              "text_color": null,
              "text_decoration": null
            }
          },
          "3eb598c755764905af49b7f12fa0bb57": {
            "model_module": "@jupyter-widgets/base",
            "model_module_version": "2.0.0",
            "model_name": "LayoutModel",
            "state": {
              "width": "90%"
            }
          },
          "6b944bb9237b40288d2ea04c40852585": {
            "model_module": "@jupyter-widgets/controls",
            "model_module_version": "2.0.0",
            "model_name": "DropdownModel",
            "state": {
              "_options_labels": [
                "cases",
                "charges",
                "disposition",
                "filing",
                "fees"
              ],
              "description": "Table:",
              "index": 0,
              "layout": "IPY_MODEL_9a8065773fe94c95b4e7eee11ee5e35f",
              "style": "IPY_MODEL_548f85bd27bf4ac088ed683514c544f9"
            }
          },
          "aff51f87fab240cd8cdd50ccdb24da85": {
            "model_module": "@jupyter-widgets/controls",
            "model_module_version": "2.0.0",
            "model_name": "TextStyleModel",
            "state": {
              "description_width": "",
              "font_size": null,
              "text_color": null
            }
          },
          "c35409e837844708a06f7dceeb1ad12d": {
            "model_module": "@jupyter-widgets/controls",
            "model_module_version": "2.0.0",
            "model_name": "DescriptionStyleModel",
            "state": {
              "description_width": ""
            }
          },
          "c23d958e76204f62a3dcc8c01e65ced8": {
            "model_module": "@jupyter-widgets/controls",
            "model_module_version": "2.0.0",
            "model_name": "TextModel",
            "state": {
              "description": "Output Path",
              "layout": "IPY_MODEL_13456c9fa4ee4bdd96fd1bc76f84ac14",
              "style": "IPY_MODEL_0b63fb93630345f4b0032554377c1d8e"
            }
          },
          "f86e6f370dcf42b191e4191300a731d6": {
            "model_module": "@jupyter-widgets/controls",
            "model_module_version": "2.0.0",
            "model_name": "TextStyleModel",
            "state": {
              "description_width": "",
              "font_size": null,
              "text_color": null
            }
          },
          "8aae2c24165945d7a6b38d4db90669d5": {
            "model_module": "@jupyter-widgets/base",
            "model_module_version": "2.0.0",
            "model_name": "LayoutModel",
            "state": {}
          },
          "dd2a4f761ad1428ebaccf529ef19934d": {
            "model_module": "@jupyter-widgets/controls",
            "model_module_version": "2.0.0",
            "model_name": "CheckboxModel",
            "state": {
              "description": "ZIP export (must be .json, .csv)",
              "disabled": false,
              "layout": "IPY_MODEL_6218194980a94b6aa5647b292794cdc9",
              "style": "IPY_MODEL_b5c5c0633ab044fda8ca4eae9820fe9d",
              "value": false
            }
          },
          "f104e78b300049fbabbe4ac019c7bf8a": {
            "model_module": "@jupyter-widgets/base",
            "model_module_version": "2.0.0",
            "model_name": "LayoutModel",
            "state": {}
          },
          "b4d49944b2d14af1b0db865514ce0637": {
            "model_module": "@jupyter-widgets/controls",
            "model_module_version": "2.0.0",
            "model_name": "TextStyleModel",
            "state": {
              "description_width": "",
              "font_size": null,
              "text_color": null
            }
          },
          "87e57f833c344d6092bd84472328b19e": {
            "model_module": "@jupyter-widgets/controls",
            "model_module_version": "2.0.0",
            "model_name": "TextModel",
            "state": {
              "description": "Output Path:",
              "layout": "IPY_MODEL_e6d30d47e597472ba51683c478045a50",
              "style": "IPY_MODEL_443116e3a9b54d938a11600d632ab59d"
            }
          },
          "936e43fe299c47638c2ac7a7ce501e25": {
            "model_module": "@jupyter-widgets/base",
            "model_module_version": "2.0.0",
            "model_name": "LayoutModel",
            "state": {}
          },
          "c5cbc1544e60456c818b3e9c35794e27": {
            "model_module": "@jupyter-widgets/base",
            "model_module_version": "2.0.0",
            "model_name": "LayoutModel",
            "state": {}
          },
          "68fb452a38454942857f1e68939227fe": {
            "model_module": "@jupyter-widgets/controls",
            "model_module_version": "2.0.0",
            "model_name": "CheckboxModel",
            "state": {
              "description": "Remove duplicates",
              "disabled": false,
              "layout": "IPY_MODEL_4571550135764feaa972eb35373518c2",
              "style": "IPY_MODEL_fcbc60ee7bdd4a33878dd07aea3944e9",
              "value": false
            }
          },
          "ab1976fecd1447d18bee5bbbc58adf67": {
            "model_module": "@jupyter-widgets/controls",
            "model_module_version": "2.0.0",
            "model_name": "IntTextModel",
            "state": {
              "description": "Max count:",
              "layout": "IPY_MODEL_9c9f2dbc781043edbb01b68f7bd103e1",
              "step": 1,
              "style": "IPY_MODEL_c5ace70787ee42e386b85423d2e80a0e"
            }
          },
          "42eae4a3bc6740b08e829ed11f0fe63a": {
            "model_module": "@jupyter-widgets/controls",
            "model_module_version": "2.0.0",
            "model_name": "DescriptionStyleModel",
            "state": {
              "description_width": ""
            }
          },
          "480bb5b0446149bfb97cd7ae235c235a": {
            "model_module": "@jupyter-widgets/controls",
            "model_module_version": "2.0.0",
            "model_name": "TextModel",
            "state": {
              "description": "Output Path",
              "layout": "IPY_MODEL_e07a1f1b0439421da92f4a53529d4cba",
              "style": "IPY_MODEL_d5497973147c49d6a9f7c51ad42c4c98"
            }
          },
          "2e612bae0d78438c9a453a0a261cc8eb": {
            "model_module": "@jupyter-widgets/controls",
            "model_module_version": "2.0.0",
            "model_name": "TextStyleModel",
            "state": {
              "description_width": "",
              "font_size": null,
              "text_color": null
            }
          },
          "0205da1068b543789b20fa05aee89ac6": {
            "model_module": "@jupyter-widgets/base",
            "model_module_version": "2.0.0",
            "model_name": "LayoutModel",
            "state": {}
          },
          "5a6dce6cf440427a81813f27e6e120e6": {
            "model_module": "@jupyter-widgets/controls",
            "model_module_version": "2.0.0",
            "model_name": "DescriptionStyleModel",
            "state": {
              "description_width": ""
            }
          },
          "84190f1eff624f549c63894c01a069f2": {
            "model_module": "@jupyter-widgets/base",
            "model_module_version": "2.0.0",
            "model_name": "LayoutModel",
            "state": {
              "width": "90%"
            }
          },
          "7a1f03d433d745deaadd0f02379de40d": {
            "model_module": "@jupyter-widgets/base",
            "model_module_version": "2.0.0",
            "model_name": "LayoutModel",
            "state": {}
          },
          "76a5312c57e74b18be3d9774b8934b92": {
            "model_module": "@jupyter-widgets/controls",
            "model_module_version": "2.0.0",
            "model_name": "ButtonModel",
            "state": {
              "description": "Login",
              "layout": "IPY_MODEL_402ece9f10094dada74d1796e70c2e30",
              "style": "IPY_MODEL_79c0380dc6684036b2f1cf1a6ba169bb",
              "tooltip": null
            }
          },
          "2ddf4364b4bf4bdd970e3a25aa7b4c75": {
            "model_module": "@jupyter-widgets/controls",
            "model_module_version": "2.0.0",
            "model_name": "TextModel",
            "state": {
              "description": "Input Path",
              "layout": "IPY_MODEL_efe11f22a3124307bd84df119d68b091",
              "style": "IPY_MODEL_ad85cb47fcd24a75b499291b0a483795",
              "tooltip": "Path to input directory or archive"
            }
          },
          "73c2ac66db5a4f6b914d6aab822b0185": {
            "model_module": "@jupyter-widgets/controls",
            "model_module_version": "2.0.0",
            "model_name": "IntTextModel",
            "state": {
              "description": "Max count:",
              "layout": "IPY_MODEL_75d4ea001531475b95e1965aca749d04",
              "step": 1,
              "style": "IPY_MODEL_2006823801304228aefe548cae78a9c7"
            }
          },
          "74730fc47dd443e8b4052facdecc9074": {
            "model_module": "@jupyter-widgets/controls",
            "model_module_version": "2.0.0",
            "model_name": "TextModel",
            "state": {
              "description": "Customer ID: ",
              "layout": "IPY_MODEL_c4e9135e781e4710a490a939b789e9f9",
              "style": "IPY_MODEL_bb53845768a14bdd93bfd8bf399ccee2"
            }
          },
          "5032a0d2ffa14e0c83d3a3838ce9d642": {
            "model_module": "@jupyter-widgets/controls",
            "model_module_version": "2.0.0",
            "model_name": "ButtonModel",
            "state": {
              "description": "Start export",
              "layout": "IPY_MODEL_1622ffbaeac943d98d0b75b798c6c72f",
              "style": "IPY_MODEL_02b1afe8463b440085c1cc7308068766",
              "tooltip": null
            }
          },
          "1ac02216b1bd4d22b5bbd28c88447fe8": {
            "model_module": "@jupyter-widgets/controls",
            "model_module_version": "2.0.0",
            "model_name": "DescriptionStyleModel",
            "state": {
              "description_width": ""
            }
          },
          "81406aff8c194fc0a90bdb1e46d0b788": {
            "model_module": "@jupyter-widgets/controls",
            "model_module_version": "2.0.0",
            "model_name": "TextModel",
            "state": {
              "description": "Input Path",
              "layout": "IPY_MODEL_f459743be87d47649c333070cbeed5f1",
              "style": "IPY_MODEL_81cd5a99ce1d4f70a8ac15e434462c49",
              "tooltip": "Path to input directory or archive"
            }
          },
          "db68d1f7105344628529f518e64be55f": {
            "model_module": "@jupyter-widgets/controls",
            "model_module_version": "2.0.0",
            "model_name": "HBoxModel",
            "state": {
              "children": [
                "IPY_MODEL_3a6a025e5b984299b5014181631b332c",
                "IPY_MODEL_db6886d0cf96410c828ef0f29451ea56",
                "IPY_MODEL_9537e511ea8a48ca8d8938f7b7fea460"
              ],
              "layout": "IPY_MODEL_77fd2392ab2b4b4b9bb9af46245cab73"
            }
          },
          "dfe3b6c9b6414e73b7a38c30292f7fff": {
            "model_module": "@jupyter-widgets/controls",
            "model_module_version": "2.0.0",
            "model_name": "CheckboxModel",
            "state": {
              "description": "Remove duplicates",
              "disabled": false,
              "layout": "IPY_MODEL_5c0aee499b6e423ca7f802dc00d139b8",
              "style": "IPY_MODEL_7de219a8a9e74dce8396a9eefdbdfc4b",
              "value": false
            }
          },
          "fa2120b6a40a4f2492b86b43d87e53f9": {
            "model_module": "@jupyter-widgets/controls",
            "model_module_version": "2.0.0",
            "model_name": "DescriptionStyleModel",
            "state": {
              "description_width": ""
            }
          },
          "9399c32ff4854d94b2c8feee78f81216": {
            "model_module": "@jupyter-widgets/controls",
            "model_module_version": "2.0.0",
            "model_name": "CheckboxStyleModel",
            "state": {
              "description_width": ""
            }
          },
          "054cbf5717534321957657c685aa5816": {
            "model_module": "@jupyter-widgets/controls",
            "model_module_version": "2.0.0",
            "model_name": "TextModel",
            "state": {
              "description": "Output Path:",
              "layout": "IPY_MODEL_97258e1e0edd4ba7a5b9ea73bcff8ee2",
              "style": "IPY_MODEL_69de8ae8c7594b53a63d4d88d7e05ca2"
            }
          },
          "a0e48ca7ebbc4ced881206cf96b16bbf": {
            "model_module": "@jupyter-widgets/base",
            "model_module_version": "2.0.0",
            "model_name": "LayoutModel",
            "state": {}
          },
          "00f4a2e554134232872742206cc63975": {
            "model_module": "@jupyter-widgets/controls",
            "model_module_version": "2.0.0",
            "model_name": "TextModel",
            "state": {
              "description": "Input Path",
              "layout": "IPY_MODEL_b631e17d58d8428b9b00f3ccef57d235",
              "style": "IPY_MODEL_d21f2778a3c2412c9193bcecb3190e34",
              "tooltip": "Path to input directory or archive"
            }
          },
          "7732713c2c3a4493a53db3666787c0e1": {
            "model_module": "@jupyter-widgets/base",
            "model_module_version": "2.0.0",
            "model_name": "LayoutModel",
            "state": {
              "width": "40%"
            }
          },
          "cc9344235e2b4eba975a33f7257ef3c0": {
            "model_module": "@jupyter-widgets/controls",
            "model_module_version": "2.0.0",
            "model_name": "DescriptionStyleModel",
            "state": {
              "description_width": ""
            }
          },
          "f314b07e0be34701aaf72786142a28d9": {
            "model_module": "@jupyter-widgets/base",
            "model_module_version": "2.0.0",
            "model_name": "LayoutModel",
            "state": {
              "width": "90%"
            }
          },
          "fb6aeb43620041e992806f4b4379003d": {
            "model_module": "@jupyter-widgets/base",
            "model_module_version": "2.0.0",
            "model_name": "LayoutModel",
            "state": {
              "width": "95%"
            }
          },
          "339e04348d3f4bd7aba3f64e72a1bf74": {
            "model_module": "@jupyter-widgets/base",
            "model_module_version": "2.0.0",
            "model_name": "LayoutModel",
            "state": {}
          },
          "f855cc67b5494c84984cea9122c30427": {
            "model_module": "@jupyter-widgets/controls",
            "model_module_version": "2.0.0",
            "model_name": "FloatTextModel",
            "state": {
              "description": "Speed",
              "layout": "IPY_MODEL_f5c5839330634db487f29783e72ea67f",
              "step": 0.1,
              "style": "IPY_MODEL_02ad4a159b6d4261a024073724d5d7b4",
              "value": 1
            }
          },
          "05935944dab049d38ddb08df588d6cfe": {
            "model_module": "@jupyter-widgets/controls",
            "model_module_version": "2.0.0",
            "model_name": "TextStyleModel",
            "state": {
              "description_width": "",
              "font_size": null,
              "text_color": null
            }
          },
          "6b8b60b7d3a1418c8e62de8403037132": {
            "model_module": "@jupyter-widgets/controls",
            "model_module_version": "2.0.0",
            "model_name": "CheckboxModel",
            "state": {
              "description": "Allow overwrite",
              "disabled": false,
              "layout": "IPY_MODEL_5383e3afd0874342bc77be26913333e9",
              "style": "IPY_MODEL_cef6891d94f3434e919f31eafc7b32ea",
              "value": false
            }
          },
          "3fae75baab724d8d8e4325f2e50a3914": {
            "model_module": "@jupyter-widgets/controls",
            "model_module_version": "2.0.0",
            "model_name": "ButtonModel",
            "state": {
              "description": "Read more",
              "layout": "IPY_MODEL_0ad0a4a4ec1946ffac4d099f407f9264",
              "style": "IPY_MODEL_123ddf5d08ae41c6b9494cdce959cf88",
              "tooltip": null
            }
          },
          "9005c3e48f7e46b9b58b63d084107964": {
            "model_module": "@jupyter-widgets/base",
            "model_module_version": "2.0.0",
            "model_name": "LayoutModel",
            "state": {}
          },
          "eb95b9bc882748edbc095011da901253": {
            "model_module": "@jupyter-widgets/controls",
            "model_module_version": "2.0.0",
            "model_name": "ButtonStyleModel",
            "state": {
              "font_family": null,
              "font_size": null,
              "font_style": null,
              "font_variant": null,
              "font_weight": null,
              "text_color": null,
              "text_decoration": null
            }
          },
          "17c28247f8484d97ac694d5da0e1e38f": {
            "model_module": "@jupyter-widgets/base",
            "model_module_version": "2.0.0",
            "model_name": "LayoutModel",
            "state": {}
          },
          "2721bc9664c14f15afc63e49980ab044": {
            "model_module": "@jupyter-widgets/controls",
            "model_module_version": "2.0.0",
            "model_name": "CheckboxModel",
            "state": {
              "description": "Allow overwrite",
              "disabled": false,
              "layout": "IPY_MODEL_19b635b768674a5ea92de798944146be",
              "style": "IPY_MODEL_9cad044469ee472e9c1c57cb0db084de",
              "value": false
            }
          },
          "17ebe9423d5b41198e94eaba0c45a53a": {
            "model_module": "@jupyter-widgets/controls",
            "model_module_version": "2.0.0",
            "model_name": "CheckboxStyleModel",
            "state": {
              "description_width": ""
            }
          },
          "91a3a709ce8744c5942e4381d254a1f8": {
            "model_module": "@jupyter-widgets/controls",
            "model_module_version": "2.0.0",
            "model_name": "HBoxModel",
            "state": {
              "children": [
                "IPY_MODEL_9b096a67342c47cab846460b436f6ed2",
                "IPY_MODEL_f6e2619f454a478aa74172af7820f3c3"
              ],
              "layout": "IPY_MODEL_79ad9a55019f4731a7d45553323b4bd3"
            }
          },
          "766082296b7f46dcb219e0bc0c69e94a": {
            "model_module": "@jupyter-widgets/controls",
            "model_module_version": "2.0.0",
            "model_name": "TextModel",
            "state": {
              "description": "Input Path",
              "layout": "IPY_MODEL_52fe60bf73b74eb8846d0a7a1bef58cf",
              "style": "IPY_MODEL_1ba5ac7baf02437990a26825a29ce9fe",
              "tooltip": "Path to input directory or archive"
            }
          },
          "2d90b72c7a9f4335846400bfaf2e034e": {
            "model_module": "@jupyter-widgets/controls",
            "model_module_version": "2.0.0",
            "model_name": "TextStyleModel",
            "state": {
              "description_width": "",
              "font_size": null,
              "text_color": null
            }
          },
          "35d62df3364b4b7aae6fd0c8685e3cec": {
            "model_module": "@jupyter-widgets/controls",
            "model_module_version": "2.0.0",
            "model_name": "RadioButtonsModel",
            "state": {
              "_options_labels": [
                "cases",
                "charges",
                "disposition",
                "filing",
                "fees"
              ],
              "description": "Table:",
              "index": 0,
              "layout": "IPY_MODEL_5664e63479c142aead92cc6aa243ae5f",
              "style": "IPY_MODEL_b9854450665349ce95433a5e6b9ddf34"
            }
          },
          "d7b4c742a01b4fb3971c63b48b99da2c": {
            "model_module": "@jupyter-widgets/base",
            "model_module_version": "2.0.0",
            "model_name": "LayoutModel",
            "state": {
              "width": "40%"
            }
          },
          "96afb6967bb2476a8cc3c927cb9eaff5": {
            "model_module": "@jupyter-widgets/base",
            "model_module_version": "2.0.0",
            "model_name": "LayoutModel",
            "state": {}
          },
          "8265ddb638f8490e8556b6ab981aabb2": {
            "model_module": "@jupyter-widgets/controls",
            "model_module_version": "2.0.0",
            "model_name": "CheckboxStyleModel",
            "state": {
              "description_width": ""
            }
          },
          "c41e5ae8b5a749e682b115ed3609add7": {
            "model_module": "@jupyter-widgets/base",
            "model_module_version": "2.0.0",
            "model_name": "LayoutModel",
            "state": {
              "width": "40%"
            }
          },
          "1ddd6dd01b464f54adce8aa597d4f435": {
            "model_module": "@jupyter-widgets/controls",
            "model_module_version": "2.0.0",
            "model_name": "IntTextModel",
            "state": {
              "description": "Skip rows",
              "layout": "IPY_MODEL_3ee1c47f62964046a3caa6b41420a869",
              "step": 1,
              "style": "IPY_MODEL_532058cf802345889d13df866db9230b"
            }
          },
          "a715a3965141441b840c1fda36556e8c": {
            "model_module": "@jupyter-widgets/controls",
            "model_module_version": "2.0.0",
            "model_name": "TextStyleModel",
            "state": {
              "description_width": "",
              "font_size": null,
              "text_color": null
            }
          },
          "76a1637b7c014ac2b7570ad7ce0c20ad": {
            "model_module": "@jupyter-widgets/controls",
            "model_module_version": "2.0.0",
            "model_name": "RadioButtonsModel",
            "state": {
              "_options_labels": [
                "cases",
                "charges",
                "disposition",
                "filing",
                "fees"
              ],
              "description": "Table:",
              "index": 0,
              "layout": "IPY_MODEL_185188541c2d45c093b7a485c38ebdd6",
              "style": "IPY_MODEL_1ac02216b1bd4d22b5bbd28c88447fe8"
            }
          },
          "24bfd01d179c4b0c87fe83641d435fcd": {
            "model_module": "@jupyter-widgets/controls",
            "model_module_version": "2.0.0",
            "model_name": "ButtonModel",
            "state": {
              "description": "Start export",
              "layout": "IPY_MODEL_703f3b02e15f47bf81303d37f0cf03d8",
              "style": "IPY_MODEL_4721db2058204a03a0889a74108b0d33",
              "tooltip": null
            }
          },
          "5d131e7cbf954114abc7d33322671f17": {
            "model_module": "@jupyter-widgets/base",
            "model_module_version": "2.0.0",
            "model_name": "LayoutModel",
            "state": {}
          },
          "303eaeff53994fb48d9ddd11df88c75d": {
            "model_module": "@jupyter-widgets/controls",
            "model_module_version": "2.0.0",
            "model_name": "TextStyleModel",
            "state": {
              "description_width": "",
              "font_size": null,
              "text_color": null
            }
          },
          "d3ffbc82ef874e1db0f2c6b9bb0576fa": {
            "model_module": "@jupyter-widgets/controls",
            "model_module_version": "2.0.0",
            "model_name": "TextModel",
            "state": {
              "description": "Output Path",
              "layout": "IPY_MODEL_18e7f36df2164552a5e7303fe2d4b1e7",
              "style": "IPY_MODEL_f9d39f6cf783441ba1323fa906ba9d0d"
            }
          },
          "fc49d3f43be84ee69982cd4e6dfebdf9": {
            "model_module": "@jupyter-widgets/controls",
            "model_module_version": "2.0.0",
            "model_name": "ButtonModel",
            "state": {
              "description": "Read more",
              "layout": "IPY_MODEL_289871905c0a4d5e8fe5e23f27f52104",
              "style": "IPY_MODEL_c5bed0419e184085b74cf45651ede6e8",
              "tooltip": null
            }
          },
          "e0a66c0494dc4cf5b58fb40ab7f4d3e7": {
            "model_module": "@jupyter-widgets/base",
            "model_module_version": "2.0.0",
            "model_name": "LayoutModel",
            "state": {}
          },
          "e512e13580a4409d8bdfa372e0ab0e06": {
            "model_module": "@jupyter-widgets/base",
            "model_module_version": "2.0.0",
            "model_name": "LayoutModel",
            "state": {
              "width": "40%"
            }
          },
          "5adf9e113d614ac3b71bfb0cdce96eb9": {
            "model_module": "@jupyter-widgets/base",
            "model_module_version": "2.0.0",
            "model_name": "LayoutModel",
            "state": {}
          },
          "61cb5db5796342de92347b703ddf1bb7": {
            "model_module": "@jupyter-widgets/controls",
            "model_module_version": "2.0.0",
            "model_name": "IntTextModel",
            "state": {
              "description": "Max count:",
              "layout": "IPY_MODEL_9ad1f3f0564a4c26a9cc2b3cffe81533",
              "step": 1,
              "style": "IPY_MODEL_b1ba003b4763471fa183d159ed7e5484"
            }
          },
          "e02aa72a23ae4c398d63aad56dd9db30": {
            "model_module": "@jupyter-widgets/controls",
            "model_module_version": "2.0.0",
            "model_name": "IntTextModel",
            "state": {
              "description": "Max rows",
              "layout": "IPY_MODEL_3081141f102540778db70d0682bbaf0a",
              "step": 1,
              "style": "IPY_MODEL_8827a9664dec4751aa0a120cb3f9d96d"
            }
          },
          "ce9db225a2144440b1332175f883ad27": {
            "model_module": "@jupyter-widgets/base",
            "model_module_version": "2.0.0",
            "model_name": "LayoutModel",
            "state": {
              "width": "90%"
            }
          },
          "012aa65eb9244dd6b0fe0deac4906aa2": {
            "model_module": "@jupyter-widgets/controls",
            "model_module_version": "2.0.0",
            "model_name": "IntTextModel",
            "state": {
              "description": "Max count:",
              "layout": "IPY_MODEL_6c7bcf53fa464797af9b42f618282171",
              "step": 1,
              "style": "IPY_MODEL_a48b75bcfbee4314b0b807b0d2e2e7d6"
            }
          },
          "fcbcc1dbac094dbaa11c84e32aacebc6": {
            "model_module": "@jupyter-widgets/base",
            "model_module_version": "2.0.0",
            "model_name": "LayoutModel",
            "state": {}
          },
          "f1e6a00314a24e5daee4ba32674f7e41": {
            "model_module": "@jupyter-widgets/controls",
            "model_module_version": "2.0.0",
            "model_name": "DropdownModel",
            "state": {
              "_options_labels": [
                "cases",
                "charges",
                "disposition",
                "filing",
                "fees"
              ],
              "description": "Table:",
              "index": 0,
              "layout": "IPY_MODEL_5b757619cb9d45cbbbf9f400db61fe80",
              "style": "IPY_MODEL_1d105e700c344a6c910fab1ce1dbb1a3"
            }
          },
          "7d00e9b154c64755a74ece897bfced83": {
            "model_module": "@jupyter-widgets/base",
            "model_module_version": "2.0.0",
            "model_name": "LayoutModel",
            "state": {
              "width": "90%"
            }
          },
          "350ad262c5464d2fba69fcf67214557f": {
            "model_module": "@jupyter-widgets/base",
            "model_module_version": "2.0.0",
            "model_name": "LayoutModel",
            "state": {}
          },
          "01cf30acd582446a9b271eac750247f7": {
            "model_module": "@jupyter-widgets/base",
            "model_module_version": "2.0.0",
            "model_name": "LayoutModel",
            "state": {}
          },
          "796b48ec248c4aa9a13f1b6c4ae610d5": {
            "model_module": "@jupyter-widgets/controls",
            "model_module_version": "2.0.0",
            "model_name": "IntTextModel",
            "state": {
              "description": "Max rows",
              "layout": "IPY_MODEL_7697851beec245db8bf0cdc711753a2e",
              "step": 1,
              "style": "IPY_MODEL_570b46ee38e64ef69295f02858d981e9"
            }
          },
          "5d002ed2785149509695d85462416940": {
            "model_module": "@jupyter-widgets/base",
            "model_module_version": "2.0.0",
            "model_name": "LayoutModel",
            "state": {
              "width": "95%"
            }
          },
          "2fd46088cea24508aa2bf56fb4909833": {
            "model_module": "@jupyter-widgets/base",
            "model_module_version": "2.0.0",
            "model_name": "LayoutModel",
            "state": {}
          },
          "e11343fb7600448c933a19f08de2a82f": {
            "model_module": "@jupyter-widgets/base",
            "model_module_version": "2.0.0",
            "model_name": "LayoutModel",
            "state": {}
          },
          "9340e0f574cb4afd9ceae468b3632dad": {
            "model_module": "@jupyter-widgets/base",
            "model_module_version": "2.0.0",
            "model_name": "LayoutModel",
            "state": {}
          },
          "acccf7a40bab489692765ea9ed76b759": {
            "model_module": "@jupyter-widgets/base",
            "model_module_version": "2.0.0",
            "model_name": "LayoutModel",
            "state": {}
          },
          "c3bf9d2453944d37a6b4df73fc448955": {
            "model_module": "@jupyter-widgets/base",
            "model_module_version": "2.0.0",
            "model_name": "LayoutModel",
            "state": {}
          },
          "0a4ff2d3109048528f5fc8641acbe819": {
            "model_module": "@jupyter-widgets/controls",
            "model_module_version": "2.0.0",
            "model_name": "TextStyleModel",
            "state": {
              "description_width": "",
              "font_size": null,
              "text_color": null
            }
          },
          "bb53845768a14bdd93bfd8bf399ccee2": {
            "model_module": "@jupyter-widgets/controls",
            "model_module_version": "2.0.0",
            "model_name": "TextStyleModel",
            "state": {
              "description_width": "",
              "font_size": null,
              "text_color": null
            }
          },
          "53f0451808d74f7cb99343098525b111": {
            "model_module": "@jupyter-widgets/controls",
            "model_module_version": "2.0.0",
            "model_name": "TextStyleModel",
            "state": {
              "description_width": "",
              "font_size": null,
              "text_color": null
            }
          },
          "b50e2a4317b3490793fb1b12457146a4": {
            "model_module": "@jupyter-widgets/base",
            "model_module_version": "2.0.0",
            "model_name": "LayoutModel",
            "state": {
              "width": "40%"
            }
          },
          "abe48dcbd20449ddb03c65a34f546313": {
            "model_module": "@jupyter-widgets/controls",
            "model_module_version": "2.0.0",
            "model_name": "HBoxModel",
            "state": {
              "children": [
                "IPY_MODEL_737cd95623024a5f820f49f5eb8b44e5",
                "IPY_MODEL_47ee71e9e8c24ac79d1941ed5b25fd03",
                "IPY_MODEL_e4b47b3e39a840fba02618ed13654c76"
              ],
              "layout": "IPY_MODEL_5d38c3d366424f0e9ec32b834b6d1cc2"
            }
          },
          "fb6adb27ab7a4870a43373e6bb12f5c2": {
            "model_module": "@jupyter-widgets/controls",
            "model_module_version": "2.0.0",
            "model_name": "CheckboxStyleModel",
            "state": {
              "description_width": ""
            }
          },
          "6b7854ffd64e4c39841f10acfb6d65d6": {
            "model_module": "@jupyter-widgets/base",
            "model_module_version": "2.0.0",
            "model_name": "LayoutModel",
            "state": {}
          },
          "5c68334c4dca4ecf92c2f3db1c84212b": {
            "model_module": "@jupyter-widgets/controls",
            "model_module_version": "2.0.0",
            "model_name": "TextModel",
            "state": {
              "description": "Input Path",
              "layout": "IPY_MODEL_d4178415a85d46dc8a1a82bf62743254",
              "style": "IPY_MODEL_710687aca4e0419396d47de2e0aee528",
              "tooltip": "Path to input directory or archive"
            }
          },
          "3b4782c0803748f8bf763bbc71c60314": {
            "model_module": "@jupyter-widgets/controls",
            "model_module_version": "2.0.0",
            "model_name": "TextModel",
            "state": {
              "description": "Customer ID: ",
              "layout": "IPY_MODEL_3f22095724354a228c8500af099295ed",
              "style": "IPY_MODEL_f8165c37ef8b4788857881f57caf19a8"
            }
          },
          "127f96408634472a9b61ef72f41db8bb": {
            "model_module": "@jupyter-widgets/controls",
            "model_module_version": "2.0.0",
            "model_name": "TextStyleModel",
            "state": {
              "description_width": "",
              "font_size": null,
              "text_color": null
            }
          },
          "3334ea44f5c0450e8c26207a1436bdbe": {
            "model_module": "@jupyter-widgets/controls",
            "model_module_version": "2.0.0",
            "model_name": "ButtonModel",
            "state": {
              "description": "Start export",
              "layout": "IPY_MODEL_6334ef1d07dd462ab4a95e4051773825",
              "style": "IPY_MODEL_bc0a2e838ef54f288646c0175e7f3c45",
              "tooltip": null
            }
          },
          "bb973764d7bd46b0aa9e8ee147aebb33": {
            "model_module": "@jupyter-widgets/controls",
            "model_module_version": "2.0.0",
            "model_name": "DescriptionStyleModel",
            "state": {
              "description_width": ""
            }
          },
          "e5a951a8718c4c70a474cf5da8cfea0a": {
            "model_module": "@jupyter-widgets/controls",
            "model_module_version": "2.0.0",
            "model_name": "DescriptionStyleModel",
            "state": {
              "description_width": ""
            }
          },
          "a378ca414b704c40ad111fa99505cc55": {
            "model_module": "@jupyter-widgets/controls",
            "model_module_version": "2.0.0",
            "model_name": "ButtonStyleModel",
            "state": {
              "font_family": null,
              "font_size": null,
              "font_style": null,
              "font_variant": null,
              "font_weight": null,
              "text_color": null,
              "text_decoration": null
            }
          },
          "020988351c4b42acb7c3c93e765a34e0": {
            "model_module": "@jupyter-widgets/base",
            "model_module_version": "2.0.0",
            "model_name": "LayoutModel",
            "state": {
              "width": "40%"
            }
          },
          "e9d66b46f5b24e83bcf466b9d5529997": {
            "model_module": "@jupyter-widgets/base",
            "model_module_version": "2.0.0",
            "model_name": "LayoutModel",
            "state": {}
          },
          "91a0b810de4646c4a04775fe70de161b": {
            "model_module": "@jupyter-widgets/base",
            "model_module_version": "2.0.0",
            "model_name": "LayoutModel",
            "state": {
              "width": "90%"
            }
          },
          "0da4cfed988942c6aef1962485a2a1f1": {
            "model_module": "@jupyter-widgets/controls",
            "model_module_version": "2.0.0",
            "model_name": "DescriptionStyleModel",
            "state": {
              "description_width": ""
            }
          },
          "562ea2541fbe4b6aa5b6b30de9684294": {
            "model_module": "@jupyter-widgets/base",
            "model_module_version": "2.0.0",
            "model_name": "LayoutModel",
            "state": {}
          },
          "0f3a8b82761c4b2e814a013ed1e56338": {
            "model_module": "@jupyter-widgets/controls",
            "model_module_version": "2.0.0",
            "model_name": "TextStyleModel",
            "state": {
              "description_width": "",
              "font_size": null,
              "text_color": null
            }
          },
          "25cbad4878be4de5923741e22cc69531": {
            "model_module": "@jupyter-widgets/controls",
            "model_module_version": "2.0.0",
            "model_name": "ButtonModel",
            "state": {
              "description": "Login",
              "layout": "IPY_MODEL_19a46aab6c904d59bce0a9055744e3cd",
              "style": "IPY_MODEL_4324c847676a484495c996023d54bb6c",
              "tooltip": null
            }
          },
          "66f4b118ed924b4997b07901ba22f308": {
            "model_module": "@jupyter-widgets/base",
            "model_module_version": "2.0.0",
            "model_name": "LayoutModel",
            "state": {}
          },
          "1ef6677db526419796677ac001747b6f": {
            "model_module": "@jupyter-widgets/base",
            "model_module_version": "2.0.0",
            "model_name": "LayoutModel",
            "state": {
              "width": "90%"
            }
          },
          "a5254efa502149f1a3593a3124602c0f": {
            "model_module": "@jupyter-widgets/base",
            "model_module_version": "2.0.0",
            "model_name": "LayoutModel",
            "state": {}
          },
          "9c9f2dbc781043edbb01b68f7bd103e1": {
            "model_module": "@jupyter-widgets/base",
            "model_module_version": "2.0.0",
            "model_name": "LayoutModel",
            "state": {}
          },
          "796d934fc47040f2bc0520138d25104d": {
            "model_module": "@jupyter-widgets/controls",
            "model_module_version": "2.0.0",
            "model_name": "CheckboxModel",
            "state": {
              "description": "Allow overwrite",
              "disabled": false,
              "layout": "IPY_MODEL_d712827235ec4286a5b5a64ad73be3c0",
              "style": "IPY_MODEL_8e94e56c13f444a3ac6f71f9c6b12ab6",
              "value": false
            }
          },
          "eaf1e7db037249be8e6bf37733b6be91": {
            "model_module": "@jupyter-widgets/base",
            "model_module_version": "2.0.0",
            "model_name": "LayoutModel",
            "state": {}
          },
          "1e95bcf7c2864093a4d45f9ea4d94636": {
            "model_module": "@jupyter-widgets/controls",
            "model_module_version": "2.0.0",
            "model_name": "TextModel",
            "state": {
              "description": "Output Path",
              "layout": "IPY_MODEL_d5b4555d799e49a7a2360125b80caed2",
              "style": "IPY_MODEL_64f6c74b2a6443bc995664e8b255876b"
            }
          },
          "c542c09e209c47148b695d1ab5b220b0": {
            "model_module": "@jupyter-widgets/controls",
            "model_module_version": "2.0.0",
            "model_name": "CheckboxStyleModel",
            "state": {
              "description_width": ""
            }
          },
          "768df894a1e941d3a53e92b51d97c90a": {
            "model_module": "@jupyter-widgets/controls",
            "model_module_version": "2.0.0",
            "model_name": "TextModel",
            "state": {
              "description": "Output Path",
              "layout": "IPY_MODEL_80b78b60ce9b4cceab54690adb40fdb6",
              "style": "IPY_MODEL_4443331d931d41e7a9b02e1614cb8801"
            }
          },
          "251d8ec9383244118d7d3198e0a08805": {
            "model_module": "@jupyter-widgets/base",
            "model_module_version": "2.0.0",
            "model_name": "LayoutModel",
            "state": {
              "width": "90%"
            }
          },
          "57b9ebef949142f58c0f2d12c9aa11c4": {
            "model_module": "@jupyter-widgets/controls",
            "model_module_version": "2.0.0",
            "model_name": "HTMLStyleModel",
            "state": {
              "description_width": "",
              "font_size": null,
              "text_color": null
            }
          },
          "33a74a21a282425a99f7aef2c837c76c": {
            "model_module": "@jupyter-widgets/controls",
            "model_module_version": "2.0.0",
            "model_name": "CheckboxStyleModel",
            "state": {
              "description_width": ""
            }
          },
          "7f925f871ff54cc990c0841d638cc218": {
            "model_module": "@jupyter-widgets/controls",
            "model_module_version": "2.0.0",
            "model_name": "IntTextModel",
            "state": {
              "description": "Set max count",
              "layout": "IPY_MODEL_88d7791bffb4450284a5df8f77ba5d5e",
              "step": 1,
              "style": "IPY_MODEL_b82423f6ca7e4c8896f632f8ebb2e45b"
            }
          },
          "b1b48694026e46afb529e96f1eba3c54": {
            "model_module": "@jupyter-widgets/controls",
            "model_module_version": "2.0.0",
            "model_name": "IntTextModel",
            "state": {
              "description": "Max count:",
              "layout": "IPY_MODEL_754f5f245aa242edb02045d1dc42f251",
              "step": 1,
              "style": "IPY_MODEL_ab17fcdc698a4755873075cc6c2cb5d4"
            }
          },
          "564572ceada54718bf79e8357b59779a": {
            "model_module": "@jupyter-widgets/controls",
            "model_module_version": "2.0.0",
            "model_name": "TextStyleModel",
            "state": {
              "description_width": "",
              "font_size": null,
              "text_color": null
            }
          },
          "9f953ba068074796b35d9755de0368db": {
            "model_module": "@jupyter-widgets/controls",
            "model_module_version": "2.0.0",
            "model_name": "IntTextModel",
            "state": {
              "description": "Max count:",
              "layout": "IPY_MODEL_1d1427556b184868b0bc9d4192846f9b",
              "step": 1,
              "style": "IPY_MODEL_568db456bac545938c8cffbb453784bd"
            }
          },
          "c9501a5440884540be2bf717d4a47ded": {
            "model_module": "@jupyter-widgets/controls",
            "model_module_version": "2.0.0",
            "model_name": "CheckboxModel",
            "state": {
              "description": "Don't split in batches",
              "disabled": false,
              "layout": "IPY_MODEL_54523d7e0e0146439f58a04f885ee83a",
              "style": "IPY_MODEL_1426e690ae5d485db04de5f82d7f76d0",
              "value": false
            }
          },
          "ee55cd57b57e41ba8b32f33f4083a0be": {
            "model_module": "@jupyter-widgets/controls",
            "model_module_version": "2.0.0",
            "model_name": "TextStyleModel",
            "state": {
              "description_width": "",
              "font_size": null,
              "text_color": null
            }
          },
          "8ccbf32921134fb4821066972ad1d1e4": {
            "model_module": "@jupyter-widgets/controls",
            "model_module_version": "2.0.0",
            "model_name": "HBoxModel",
            "state": {
              "children": [
                "IPY_MODEL_68f5ebac1b84415aa0912178f5716a10",
                "IPY_MODEL_aef44ebab60547528968a48cc7a72a27"
              ],
              "layout": "IPY_MODEL_a0e48ca7ebbc4ced881206cf96b16bbf"
            }
          },
          "53d7e4b8e4f245a3aebf460ccd4b1421": {
            "model_module": "@jupyter-widgets/controls",
            "model_module_version": "2.0.0",
            "model_name": "CheckboxModel",
            "state": {
              "description": "ZIP export (must be .json, .csv)",
              "disabled": false,
              "layout": "IPY_MODEL_6fa06130cd724df6b56e714d2612b7c2",
              "style": "IPY_MODEL_072675f5a0c942ba9ef97a0e2dabf8c9",
              "value": false
            }
          },
          "112faddbe55b4396a1736e447b6ba355": {
            "model_module": "@jupyter-widgets/controls",
            "model_module_version": "2.0.0",
            "model_name": "IntTextModel",
            "state": {
              "description": "Max rows",
              "layout": "IPY_MODEL_72fb0141e6b34840b39088276c78d208",
              "step": 1,
              "style": "IPY_MODEL_80c18b4dbdd3497397d47fef33cae528"
            }
          },
          "0e3728bb7e354ca5afcdc4af57375476": {
            "model_module": "@jupyter-widgets/base",
            "model_module_version": "2.0.0",
            "model_name": "LayoutModel",
            "state": {
              "width": "40%"
            }
          },
          "d9591095d5ce4cedb9fcface328bbc35": {
            "model_module": "@jupyter-widgets/controls",
            "model_module_version": "2.0.0",
            "model_name": "CheckboxStyleModel",
            "state": {
              "description_width": ""
            }
          },
          "a792d91f4e9540569d71437737841a50": {
            "model_module": "@jupyter-widgets/controls",
            "model_module_version": "2.0.0",
            "model_name": "TextStyleModel",
            "state": {
              "description_width": "",
              "font_size": null,
              "text_color": null
            }
          },
          "7d6baa40ca934f308770a641f78443bb": {
            "model_module": "@jupyter-widgets/controls",
            "model_module_version": "2.0.0",
            "model_name": "TextModel",
            "state": {
              "description": "Input Path:",
              "layout": "IPY_MODEL_991b5ff90f74401eb8847bfd99e2ed71",
              "style": "IPY_MODEL_ff7f688b74644d3ea29cb93ca251f29c",
              "tooltip": "Path to query template spreadsheet (list of names, etc. to search)"
            }
          },
          "f1e7d43bce8c4945939d075110506700": {
            "model_module": "@jupyter-widgets/controls",
            "model_module_version": "2.0.0",
            "model_name": "IntTextModel",
            "state": {
              "description": "Max rows",
              "layout": "IPY_MODEL_4c4d649bac344db58510acfa67e8ec52",
              "step": 1,
              "style": "IPY_MODEL_37e25fe429b84e20a30328d88f5cf273"
            }
          },
          "f61493e3cd334e67867bf383c1eb7d50": {
            "model_module": "@jupyter-widgets/controls",
            "model_module_version": "2.0.0",
            "model_name": "ButtonModel",
            "state": {
              "description": "Login",
              "layout": "IPY_MODEL_d31f6b60f7b246a79bcf8936d463455c",
              "style": "IPY_MODEL_878709ad0918456cab16c06bfa0702f2",
              "tooltip": null
            }
          },
          "3f2bd72a20c34f89a086f7c85bbb423a": {
            "model_module": "@jupyter-widgets/base",
            "model_module_version": "2.0.0",
            "model_name": "LayoutModel",
            "state": {}
          },
          "f8e28a6ec7a447e290b4d8dfab97a85d": {
            "model_module": "@jupyter-widgets/base",
            "model_module_version": "2.0.0",
            "model_name": "LayoutModel",
            "state": {}
          },
          "76f08d5671ac4d0cafe57ccce8cfb7e6": {
            "model_module": "@jupyter-widgets/controls",
            "model_module_version": "2.0.0",
            "model_name": "ButtonModel",
            "state": {
              "description": "Start export",
              "layout": "IPY_MODEL_f8e28a6ec7a447e290b4d8dfab97a85d",
              "style": "IPY_MODEL_390a0fe29ed443aa8a6be1a8b6190ad5",
              "tooltip": null
            }
          },
          "df321cc9a3c248e5833373ee88c76d61": {
            "model_module": "@jupyter-widgets/base",
            "model_module_version": "2.0.0",
            "model_name": "LayoutModel",
            "state": {}
          },
          "5f94838ae58046e7907443a7d1610eee": {
            "model_module": "@jupyter-widgets/base",
            "model_module_version": "2.0.0",
            "model_name": "LayoutModel",
            "state": {
              "width": "95%"
            }
          },
          "7fc1086d22b942118ea9dbbbc3144f57": {
            "model_module": "@jupyter-widgets/controls",
            "model_module_version": "2.0.0",
            "model_name": "TextModel",
            "state": {
              "description": "User ID: ",
              "layout": "IPY_MODEL_a6a3fb40372b4b30a163fa3c4446bb0d",
              "style": "IPY_MODEL_20b65f821daf4024ab046aa22b1e853e"
            }
          },
          "4de0670556e545e695a048a75b104595": {
            "model_module": "@jupyter-widgets/controls",
            "model_module_version": "2.0.0",
            "model_name": "TextModel",
            "state": {
              "description": "Input Path",
              "layout": "IPY_MODEL_0c6ad6f66e0f425b8c2a23bc8a4a14ed",
              "style": "IPY_MODEL_7fafb3f6898d49ad8c785ef6b43cf204",
              "tooltip": "Path to PDF directory"
            }
          },
          "f8b897a8bb4a4d54a5fc3c016f84634b": {
            "model_module": "@jupyter-widgets/controls",
            "model_module_version": "2.0.0",
            "model_name": "CheckboxStyleModel",
            "state": {
              "description_width": ""
            }
          },
          "d0416117a49146cf9445250387ccf09f": {
            "model_module": "@jupyter-widgets/output",
            "model_module_version": "1.0.0",
            "model_name": "OutputModel",
            "state": {
              "layout": "IPY_MODEL_b8a679845ef6457cbdf365515724e833"
            }
          },
          "21e653ff0c2b485d8879c064a93af908": {
            "model_module": "@jupyter-widgets/base",
            "model_module_version": "2.0.0",
            "model_name": "LayoutModel",
            "state": {}
          },
          "f2a999add786453d92469303bfc46e8d": {
            "model_module": "@jupyter-widgets/controls",
            "model_module_version": "2.0.0",
            "model_name": "HBoxModel",
            "state": {
              "children": [
                "IPY_MODEL_c97949332dc34f9dafc0ffd92f580e77",
                "IPY_MODEL_36b2c6b00f83401fb12628f1c6e969ac",
                "IPY_MODEL_a52cfe6d54ab41579713c878c25235c6"
              ],
              "layout": "IPY_MODEL_331a687e76744a589f685ce89cbb0be5"
            }
          },
          "41930fcd82414e53adffc1feda0eecdb": {
            "model_module": "@jupyter-widgets/controls",
            "model_module_version": "2.0.0",
            "model_name": "CheckboxStyleModel",
            "state": {
              "description_width": ""
            }
          },
          "13a3ae25e0a741d29f990a818b903e01": {
            "model_module": "@jupyter-widgets/controls",
            "model_module_version": "2.0.0",
            "model_name": "DescriptionStyleModel",
            "state": {
              "description_width": ""
            }
          },
          "631b534324284656a210eb0b3e1e71da": {
            "model_module": "@jupyter-widgets/controls",
            "model_module_version": "2.0.0",
            "model_name": "ButtonModel",
            "state": {
              "description": "Login",
              "layout": "IPY_MODEL_80db4acc7f2a4b2a98898c23cbb4c690",
              "style": "IPY_MODEL_b63149fd3c834e2d9d023ce9c2ad44f0",
              "tooltip": null
            }
          },
          "490c44a891c6419e878cb9bc5455e586": {
            "model_module": "@jupyter-widgets/controls",
            "model_module_version": "2.0.0",
            "model_name": "ButtonStyleModel",
            "state": {
              "font_family": null,
              "font_size": null,
              "font_style": null,
              "font_variant": null,
              "font_weight": null,
              "text_color": null,
              "text_decoration": null
            }
          },
          "fbea3c55b0ba425eab9ed851770f5562": {
            "model_module": "@jupyter-widgets/controls",
            "model_module_version": "2.0.0",
            "model_name": "TextStyleModel",
            "state": {
              "description_width": "",
              "font_size": null,
              "text_color": null
            }
          },
          "a48b75bcfbee4314b0b807b0d2e2e7d6": {
            "model_module": "@jupyter-widgets/controls",
            "model_module_version": "2.0.0",
            "model_name": "DescriptionStyleModel",
            "state": {
              "description_width": ""
            }
          },
          "cd6a0875b9b040fa9b4e1af45892b3ba": {
            "model_module": "@jupyter-widgets/controls",
            "model_module_version": "2.0.0",
            "model_name": "CheckboxStyleModel",
            "state": {
              "description_width": ""
            }
          },
          "6e16a9a026b2491bb9928c858721f37a": {
            "model_module": "@jupyter-widgets/controls",
            "model_module_version": "2.0.0",
            "model_name": "ButtonModel",
            "state": {
              "description": "Start export",
              "layout": "IPY_MODEL_c06dfcbee9814491b11074f7e531ac9b",
              "style": "IPY_MODEL_34848b07e1ba41efa1a89f5fffa07165",
              "tooltip": null
            }
          },
          "4023ec968ccf4ee49ffe0498a8600716": {
            "model_module": "@jupyter-widgets/base",
            "model_module_version": "2.0.0",
            "model_name": "LayoutModel",
            "state": {}
          },
          "ca74db99a2634c6fb259bc35121359b0": {
            "model_module": "@jupyter-widgets/controls",
            "model_module_version": "2.0.0",
            "model_name": "DescriptionStyleModel",
            "state": {
              "description_width": ""
            }
          },
          "697ae165897447079c8b4bf7b7721a98": {
            "model_module": "@jupyter-widgets/controls",
            "model_module_version": "2.0.0",
            "model_name": "TextModel",
            "state": {
              "description": "User ID: ",
              "layout": "IPY_MODEL_a77aef8aa27b4133b92b78cda2f5c0e1",
              "style": "IPY_MODEL_d991a0762d5141ef90fb1cd1b0c4de6a"
            }
          },
          "6eef33f1a7aa4f5c9b6ee8cff8688997": {
            "model_module": "@jupyter-widgets/controls",
            "model_module_version": "2.0.0",
            "model_name": "CheckboxModel",
            "state": {
              "description": "Allow overwrite",
              "disabled": false,
              "layout": "IPY_MODEL_329a699273ba42ceada8ce321f8974b7",
              "style": "IPY_MODEL_3822e23cf01b403eacc4aecbe707d521",
              "value": false
            }
          },
          "968c03f5fc1b4bb592afa6ccc237b7b0": {
            "model_module": "@jupyter-widgets/controls",
            "model_module_version": "2.0.0",
            "model_name": "CheckboxStyleModel",
            "state": {
              "description_width": ""
            }
          },
          "358719bd18f74a7bad142eef9c5f4dd6": {
            "model_module": "@jupyter-widgets/controls",
            "model_module_version": "2.0.0",
            "model_name": "TextStyleModel",
            "state": {
              "description_width": "",
              "font_size": null,
              "text_color": null
            }
          },
          "78a7728ef0ef4b289d9efea8beab7fa5": {
            "model_module": "@jupyter-widgets/controls",
            "model_module_version": "2.0.0",
            "model_name": "ButtonModel",
            "state": {
              "description": "Start archiving",
              "layout": "IPY_MODEL_01075ade93044f319a02c2de4cde2630",
              "style": "IPY_MODEL_829dfec4214c4b8e889400487cc84df7",
              "tooltip": null
            }
          },
          "67c9cb59aba44ce3b967aca1ec5f3f50": {
            "model_module": "@jupyter-widgets/base",
            "model_module_version": "2.0.0",
            "model_name": "LayoutModel",
            "state": {
              "width": "40%"
            }
          },
          "a30c569263264687ba68e6eb15ac5188": {
            "model_module": "@jupyter-widgets/base",
            "model_module_version": "2.0.0",
            "model_name": "LayoutModel",
            "state": {}
          },
          "2e7339454be24dda82b7dc9ff0578b14": {
            "model_module": "@jupyter-widgets/controls",
            "model_module_version": "2.0.0",
            "model_name": "DescriptionStyleModel",
            "state": {
              "description_width": ""
            }
          },
          "f0dfe4c9cff545908e1027f4b356c3c9": {
            "model_module": "@jupyter-widgets/controls",
            "model_module_version": "2.0.0",
            "model_name": "CheckboxModel",
            "state": {
              "description": "Allow overwrite",
              "disabled": false,
              "layout": "IPY_MODEL_6086c05aab8848ceb8ef923f0735b94b",
              "style": "IPY_MODEL_4abc31fb755c4832b658094eac4eec0b",
              "value": false
            }
          },
          "83d7dfeb5691416989e9846730e5ddd1": {
            "model_module": "@jupyter-widgets/base",
            "model_module_version": "2.0.0",
            "model_name": "LayoutModel",
            "state": {}
          },
          "601f6f2db8084bc1b57e6aaabaaaecfd": {
            "model_module": "@jupyter-widgets/base",
            "model_module_version": "2.0.0",
            "model_name": "LayoutModel",
            "state": {}
          },
          "7753f261254143eea683678840f45d15": {
            "model_module": "@jupyter-widgets/controls",
            "model_module_version": "2.0.0",
            "model_name": "TextStyleModel",
            "state": {
              "description_width": "",
              "font_size": null,
              "text_color": null
            }
          },
          "21140592e51a44f1b988ea9e34c7332e": {
            "model_module": "@jupyter-widgets/controls",
            "model_module_version": "2.0.0",
            "model_name": "DescriptionStyleModel",
            "state": {
              "description_width": ""
            }
          },
          "5dc43c9b63e44d24830449f79d59370c": {
            "model_module": "@jupyter-widgets/controls",
            "model_module_version": "2.0.0",
            "model_name": "ButtonStyleModel",
            "state": {
              "font_family": null,
              "font_size": null,
              "font_style": null,
              "font_variant": null,
              "font_weight": null,
              "text_color": null,
              "text_decoration": null
            }
          },
          "2d68c86101d846728c389132e291a100": {
            "model_module": "@jupyter-widgets/base",
            "model_module_version": "2.0.0",
            "model_name": "LayoutModel",
            "state": {}
          },
          "235837dcc60e443081d99b34e8ec4ed1": {
            "model_module": "@jupyter-widgets/controls",
            "model_module_version": "2.0.0",
            "model_name": "HBoxModel",
            "state": {
              "children": [
                "IPY_MODEL_7757e4a88fb24884b8bf829c3be716be",
                "IPY_MODEL_c02ec86fa15140488d3ce34e90a6048c",
                "IPY_MODEL_39e18ab447314759bf75425678e3d03f"
              ],
              "layout": "IPY_MODEL_515f82760260429f8f612bcdb867ffb0"
            }
          },
          "e1e33caa26f846639f3fdf69e9869347": {
            "model_module": "@jupyter-widgets/base",
            "model_module_version": "2.0.0",
            "model_name": "LayoutModel",
            "state": {}
          },
          "0d7112a939c54b75a214f9005eaddd3a": {
            "model_module": "@jupyter-widgets/controls",
            "model_module_version": "2.0.0",
            "model_name": "HTMLStyleModel",
            "state": {
              "description_width": "",
              "font_size": null,
              "text_color": null
            }
          },
          "d486501a2e3e4148972b8a87755ee4cd": {
            "model_module": "@jupyter-widgets/controls",
            "model_module_version": "2.0.0",
            "model_name": "ButtonModel",
            "state": {
              "description": "Login",
              "layout": "IPY_MODEL_54e9b682759a4d0db05cf7fe5a38319a",
              "style": "IPY_MODEL_d2477cc22a504d21880ebbdd0b5d5a28",
              "tooltip": null
            }
          },
          "62a5fc36066d40dd9f7293462de321d4": {
            "model_module": "@jupyter-widgets/controls",
            "model_module_version": "2.0.0",
            "model_name": "CheckboxStyleModel",
            "state": {
              "description_width": ""
            }
          },
          "4a9a239d47ec41dab4579edce759c3d6": {
            "model_module": "@jupyter-widgets/controls",
            "model_module_version": "2.0.0",
            "model_name": "DescriptionStyleModel",
            "state": {
              "description_width": ""
            }
          },
          "8dede36c611e489f95d31589157c0d81": {
            "model_module": "@jupyter-widgets/base",
            "model_module_version": "2.0.0",
            "model_name": "LayoutModel",
            "state": {
              "width": "40%"
            }
          },
          "d23642cfafed41a98a43f35da62bf88e": {
            "model_module": "@jupyter-widgets/controls",
            "model_module_version": "2.0.0",
            "model_name": "DescriptionStyleModel",
            "state": {
              "description_width": ""
            }
          },
          "3371c48e1f184d5b89a26707f2be5592": {
            "model_module": "@jupyter-widgets/controls",
            "model_module_version": "2.0.0",
            "model_name": "TextModel",
            "state": {
              "description": "Input Path",
              "layout": "IPY_MODEL_dbf07acf096b4c8dbd7c023de46b166f",
              "style": "IPY_MODEL_2bd5ed5935b44053b4c3985f87d7def3",
              "tooltip": "Path to PDF directory",
              "value": "/Users/samuelrobson/Desktop/test"
            }
          },
          "a2aad50714c84a7d85d776d9ef0fec21": {
            "model_module": "@jupyter-widgets/controls",
            "model_module_version": "2.0.0",
            "model_name": "TextStyleModel",
            "state": {
              "description_width": "",
              "font_size": null,
              "text_color": null
            }
          },
          "bf5b1e7b23084c4596bbac5457d5a846": {
            "model_module": "@jupyter-widgets/base",
            "model_module_version": "2.0.0",
            "model_name": "LayoutModel",
            "state": {}
          },
          "d1f18269bc4f4931a7b0b6077cc2cef2": {
            "model_module": "@jupyter-widgets/base",
            "model_module_version": "2.0.0",
            "model_name": "LayoutModel",
            "state": {}
          },
          "db86d9e2632a46ecb08894ffd882a157": {
            "model_module": "@jupyter-widgets/controls",
            "model_module_version": "2.0.0",
            "model_name": "TextStyleModel",
            "state": {
              "description_width": "",
              "font_size": null,
              "text_color": null
            }
          },
          "967cb5de32f54fc4b4f9ee8e791dec00": {
            "model_module": "@jupyter-widgets/base",
            "model_module_version": "2.0.0",
            "model_name": "LayoutModel",
            "state": {}
          },
          "5305492e8a09460899e0bf8eef45eace": {
            "model_module": "@jupyter-widgets/controls",
            "model_module_version": "2.0.0",
            "model_name": "TextStyleModel",
            "state": {
              "description_width": "",
              "font_size": null,
              "text_color": null
            }
          },
          "796af48bc10245839ac6ca1459a62e82": {
            "model_module": "@jupyter-widgets/base",
            "model_module_version": "2.0.0",
            "model_name": "LayoutModel",
            "state": {}
          },
          "c46715dd325043a19c0ab2f4e13acf86": {
            "model_module": "@jupyter-widgets/output",
            "model_module_version": "1.0.0",
            "model_name": "OutputModel",
            "state": {
              "layout": "IPY_MODEL_2f6b678ff9cf4b709161858eed8e485b"
            }
          },
          "59856fcd6d26439fb8adad4f70ede4f4": {
            "model_module": "@jupyter-widgets/controls",
            "model_module_version": "2.0.0",
            "model_name": "ButtonStyleModel",
            "state": {
              "font_family": null,
              "font_size": null,
              "font_style": null,
              "font_variant": null,
              "font_weight": null,
              "text_color": null,
              "text_decoration": null
            }
          },
          "64f10310f1d247fc9898ccca4b0d100b": {
            "model_module": "@jupyter-widgets/base",
            "model_module_version": "2.0.0",
            "model_name": "LayoutModel",
            "state": {}
          },
          "72547ff214ed47b485bf58c3a6578301": {
            "model_module": "@jupyter-widgets/controls",
            "model_module_version": "2.0.0",
            "model_name": "IntTextModel",
            "state": {
              "description": "Max count:",
              "layout": "IPY_MODEL_1862817b0ca346f181eb2a0599083e10",
              "step": 1,
              "style": "IPY_MODEL_21e2932d3cfc4de9bd25227b33510a5e"
            }
          },
          "48b4fc45b3df4dd5b77130db05ce9f8e": {
            "model_module": "@jupyter-widgets/controls",
            "model_module_version": "2.0.0",
            "model_name": "TextStyleModel",
            "state": {
              "description_width": "",
              "font_size": null,
              "text_color": null
            }
          },
          "6af254111f014a3fba0f3e2df3a2368e": {
            "model_module": "@jupyter-widgets/base",
            "model_module_version": "2.0.0",
            "model_name": "LayoutModel",
            "state": {}
          },
          "58a906fdf73c491589eb625562cec1ae": {
            "model_module": "@jupyter-widgets/controls",
            "model_module_version": "2.0.0",
            "model_name": "DescriptionStyleModel",
            "state": {
              "description_width": ""
            }
          },
          "072675f5a0c942ba9ef97a0e2dabf8c9": {
            "model_module": "@jupyter-widgets/controls",
            "model_module_version": "2.0.0",
            "model_name": "CheckboxStyleModel",
            "state": {
              "description_width": ""
            }
          },
          "3c14e08d5f084739a51031a00589bfda": {
            "model_module": "@jupyter-widgets/base",
            "model_module_version": "2.0.0",
            "model_name": "LayoutModel",
            "state": {
              "width": "40%"
            }
          },
          "663334242e284cd4bbf9c45d0612da45": {
            "model_module": "@jupyter-widgets/controls",
            "model_module_version": "2.0.0",
            "model_name": "TextModel",
            "state": {
              "description": "Customer ID: ",
              "layout": "IPY_MODEL_522d5332fd6347f49025d272162fcf36",
              "style": "IPY_MODEL_db60f4c286d54224add58ef4864efe09"
            }
          },
          "1197bc949b9846019db5baa23fd2a69c": {
            "model_module": "@jupyter-widgets/controls",
            "model_module_version": "2.0.0",
            "model_name": "TextStyleModel",
            "state": {
              "description_width": "",
              "font_size": null,
              "text_color": null
            }
          },
          "b824980c9a9a407e9b67ad2cb644f54b": {
            "model_module": "@jupyter-widgets/controls",
            "model_module_version": "2.0.0",
            "model_name": "TextModel",
            "state": {
              "description": "Input Path",
              "layout": "IPY_MODEL_7a990c93f0e142c983e87748bb4c55f2",
              "style": "IPY_MODEL_52980398487247208e466035ab552c22",
              "tooltip": "Path to PDF directory"
            }
          },
          "8b5aad0d732e420db3864b1d5c7d9542": {
            "model_module": "@jupyter-widgets/base",
            "model_module_version": "2.0.0",
            "model_name": "LayoutModel",
            "state": {
              "width": "90%"
            }
          },
          "84e2916bf1ef47e7911a2cdf202c10ea": {
            "model_module": "@jupyter-widgets/controls",
            "model_module_version": "2.0.0",
            "model_name": "IntTextModel",
            "state": {
              "description": "Max count:",
              "layout": "IPY_MODEL_02cba97726aa419dbbff277fe33f34ba",
              "step": 1,
              "style": "IPY_MODEL_a28cecf42edb4267adf5120abe5220f5"
            }
          },
          "c713bccfd78f464dbfbf27c1888b3f7e": {
            "model_module": "@jupyter-widgets/base",
            "model_module_version": "2.0.0",
            "model_name": "LayoutModel",
            "state": {}
          },
          "a66bcbdf1bee4f3380110daf77d6d681": {
            "model_module": "@jupyter-widgets/base",
            "model_module_version": "2.0.0",
            "model_name": "LayoutModel",
            "state": {}
          },
          "babfffc1ad4b4ee8b8e7aa0025a7ca5c": {
            "model_module": "@jupyter-widgets/controls",
            "model_module_version": "2.0.0",
            "model_name": "HBoxModel",
            "state": {
              "children": [
                "IPY_MODEL_7bfd3f4d075e49dd97cf449025177ca3",
                "IPY_MODEL_3330fffcbcb54499ac3466927d5dcdc0"
              ],
              "layout": "IPY_MODEL_e49947a71758491c8bedebeb4c7936cf"
            }
          },
          "54396d1a8dd64a1b97324246ed2f93f0": {
            "model_module": "@jupyter-widgets/base",
            "model_module_version": "2.0.0",
            "model_name": "LayoutModel",
            "state": {}
          },
          "92ac046c8ffa4fcc84582504eb94016c": {
            "model_module": "@jupyter-widgets/controls",
            "model_module_version": "2.0.0",
            "model_name": "DescriptionStyleModel",
            "state": {
              "description_width": ""
            }
          },
          "d8cf8e5effb34253be1aaecd77bfe935": {
            "model_module": "@jupyter-widgets/controls",
            "model_module_version": "2.0.0",
            "model_name": "TextModel",
            "state": {
              "description": "Input Path",
              "layout": "IPY_MODEL_315a81a2581a4f62b4a4feec4668ac47",
              "style": "IPY_MODEL_4e0bb18ed701411b8de6a846b3326f1b",
              "tooltip": "Path to input directory or archive",
              "value": "/Users/samuelrobson/Desktop/PDFBENZ2.pkl.xz"
            }
          },
          "b631e17d58d8428b9b00f3ccef57d235": {
            "model_module": "@jupyter-widgets/base",
            "model_module_version": "2.0.0",
            "model_name": "LayoutModel",
            "state": {
              "width": "90%"
            }
          },
          "e57051ac1d5e424b958c36ee97690b00": {
            "model_module": "@jupyter-widgets/controls",
            "model_module_version": "2.0.0",
            "model_name": "ButtonModel",
            "state": {
              "description": "Start export",
              "layout": "IPY_MODEL_7abb2dfe8b684b81b0d6dcb925fd2b59",
              "style": "IPY_MODEL_62c49e188b394f16bc4a207fdd719cad",
              "tooltip": null
            }
          },
          "d9f9bd91795c4f76b40e808e563b15e5": {
            "model_module": "@jupyter-widgets/base",
            "model_module_version": "2.0.0",
            "model_name": "LayoutModel",
            "state": {}
          },
          "0d29f8a989eb482bb0eb8bbdd730d218": {
            "model_module": "@jupyter-widgets/controls",
            "model_module_version": "2.0.0",
            "model_name": "TextStyleModel",
            "state": {
              "description_width": "",
              "font_size": null,
              "text_color": null
            }
          },
          "73c094ef955447538b821fc1950c50ab": {
            "model_module": "@jupyter-widgets/controls",
            "model_module_version": "2.0.0",
            "model_name": "CheckboxModel",
            "state": {
              "description": "Don't split in batches",
              "disabled": false,
              "layout": "IPY_MODEL_40b623baaff4459aa7c92de0b2aa41a2",
              "style": "IPY_MODEL_d12156d4d75348d0a52efaf0792f894f",
              "value": false
            }
          },
          "5c6aaf8e640f4dfa935117759af65062": {
            "model_module": "@jupyter-widgets/base",
            "model_module_version": "2.0.0",
            "model_name": "LayoutModel",
            "state": {
              "width": "95%"
            }
          },
          "43e55d33a55248f286a0a7f7039c9260": {
            "model_module": "@jupyter-widgets/controls",
            "model_module_version": "2.0.0",
            "model_name": "CheckboxModel",
            "state": {
              "description": "Allow overwrite",
              "disabled": false,
              "layout": "IPY_MODEL_9840785795f44741a99bd960e08d80d9",
              "style": "IPY_MODEL_2cbe41f687674afa969da768d675f604",
              "value": false
            }
          },
          "47706a9d817e499bba9f426bc99e9085": {
            "model_module": "@jupyter-widgets/controls",
            "model_module_version": "2.0.0",
            "model_name": "DescriptionStyleModel",
            "state": {
              "description_width": ""
            }
          },
          "10049385cab34b8c831d90d6225f8d63": {
            "model_module": "@jupyter-widgets/base",
            "model_module_version": "2.0.0",
            "model_name": "LayoutModel",
            "state": {
              "width": "40%"
            }
          },
          "2357de0d8daf4e32bb126b68628898c3": {
            "model_module": "@jupyter-widgets/controls",
            "model_module_version": "2.0.0",
            "model_name": "CheckboxStyleModel",
            "state": {
              "description_width": ""
            }
          },
          "0bf8ef3bffea40ceba4ee7f1701e95f5": {
            "model_module": "@jupyter-widgets/base",
            "model_module_version": "2.0.0",
            "model_name": "LayoutModel",
            "state": {
              "width": "95%"
            }
          },
          "c5ace70787ee42e386b85423d2e80a0e": {
            "model_module": "@jupyter-widgets/controls",
            "model_module_version": "2.0.0",
            "model_name": "DescriptionStyleModel",
            "state": {
              "description_width": ""
            }
          },
          "d12156d4d75348d0a52efaf0792f894f": {
            "model_module": "@jupyter-widgets/controls",
            "model_module_version": "2.0.0",
            "model_name": "CheckboxStyleModel",
            "state": {
              "description_width": ""
            }
          },
          "be5201e8e99d415a92f45142c08cebab": {
            "model_module": "@jupyter-widgets/controls",
            "model_module_version": "2.0.0",
            "model_name": "TextStyleModel",
            "state": {
              "description_width": "",
              "font_size": null,
              "text_color": null
            }
          },
          "c4e9135e781e4710a490a939b789e9f9": {
            "model_module": "@jupyter-widgets/base",
            "model_module_version": "2.0.0",
            "model_name": "LayoutModel",
            "state": {}
          },
          "f5ea236ea1cf414ca523f983047dbe02": {
            "model_module": "@jupyter-widgets/controls",
            "model_module_version": "2.0.0",
            "model_name": "CheckboxModel",
            "state": {
              "description": "Remove duplicates",
              "disabled": false,
              "layout": "IPY_MODEL_0f304dd3118747f9bbc768ebdc984ff5",
              "style": "IPY_MODEL_4f8234a7a2394a3db01ad716735b172b",
              "value": false
            }
          },
          "d44c25fbb9964737b44758ca5bb9de98": {
            "model_module": "@jupyter-widgets/base",
            "model_module_version": "2.0.0",
            "model_name": "LayoutModel",
            "state": {
              "width": "40%"
            }
          },
          "4039abe687ca4d84ab5ca3d95ac7f65e": {
            "model_module": "@jupyter-widgets/base",
            "model_module_version": "2.0.0",
            "model_name": "LayoutModel",
            "state": {}
          },
          "a53f4bcc85a843e8853a92dadf68ddf9": {
            "model_module": "@jupyter-widgets/controls",
            "model_module_version": "2.0.0",
            "model_name": "PasswordModel",
            "state": {
              "description": "Password: ",
              "layout": "IPY_MODEL_2d68c86101d846728c389132e291a100",
              "style": "IPY_MODEL_dafd74b0f984436794d926440371ee21"
            }
          },
          "abfb04f4a4bd43a3a437e4d09c7f8182": {
            "model_module": "@jupyter-widgets/base",
            "model_module_version": "2.0.0",
            "model_name": "LayoutModel",
            "state": {
              "width": "90%"
            }
          },
          "018c8757b660427a94f50a7b3852e0da": {
            "model_module": "@jupyter-widgets/controls",
            "model_module_version": "2.0.0",
            "model_name": "TextModel",
            "state": {
              "description": "Input Path",
              "layout": "IPY_MODEL_7d51ae836f5144f18f31057411b876cc",
              "style": "IPY_MODEL_abd3dc6292574057af894652a35e4674",
              "tooltip": "Path to input directory or archive"
            }
          },
          "6809ba31b25e46d5bee37eb332957f86": {
            "model_module": "@jupyter-widgets/base",
            "model_module_version": "2.0.0",
            "model_name": "LayoutModel",
            "state": {
              "width": "90%"
            }
          },
          "96e9b8cefc2a485d9688797d32520ee3": {
            "model_module": "@jupyter-widgets/base",
            "model_module_version": "2.0.0",
            "model_name": "LayoutModel",
            "state": {}
          },
          "94d318612b334b3898974165bee05321": {
            "model_module": "@jupyter-widgets/controls",
            "model_module_version": "2.0.0",
            "model_name": "CheckboxModel",
            "state": {
              "description": "ZIP export (must be .json, .csv)",
              "disabled": false,
              "layout": "IPY_MODEL_0205da1068b543789b20fa05aee89ac6",
              "style": "IPY_MODEL_8b7c76d5956b4852999f5f185dd178d7",
              "value": false
            }
          },
          "27df3b3428b04fc189dc2c05bd94c712": {
            "model_module": "@jupyter-widgets/controls",
            "model_module_version": "2.0.0",
            "model_name": "CheckboxModel",
            "state": {
              "description": "ZIP export (must be .json, .csv)",
              "disabled": false,
              "layout": "IPY_MODEL_b31ac36ee886476f89185040f4f41b0d",
              "style": "IPY_MODEL_18e20453fba24d93a31833109a1a6e62",
              "value": false
            }
          },
          "6e1f43934fd649e7b0b5000558dc330c": {
            "model_module": "@jupyter-widgets/controls",
            "model_module_version": "2.0.0",
            "model_name": "TextModel",
            "state": {
              "description": "Input Path",
              "layout": "IPY_MODEL_c35dc70aa7b94577a2afb9958461d680",
              "style": "IPY_MODEL_2ff7f05c4f7d456b9295fc223159eada",
              "tooltip": "Path to PDF directory"
            }
          },
          "40b623baaff4459aa7c92de0b2aa41a2": {
            "model_module": "@jupyter-widgets/base",
            "model_module_version": "2.0.0",
            "model_name": "LayoutModel",
            "state": {}
          },
          "5fb127bf7d7d4442bcb3f81a41626803": {
            "model_module": "@jupyter-widgets/base",
            "model_module_version": "2.0.0",
            "model_name": "LayoutModel",
            "state": {
              "width": "95%"
            }
          },
          "31f7575ef0534947b3aaa97202f0e7cc": {
            "model_module": "@jupyter-widgets/controls",
            "model_module_version": "2.0.0",
            "model_name": "TextModel",
            "state": {
              "description": "Input Path:",
              "layout": "IPY_MODEL_0f91b2200dad425e8f98f4cbf92d061a",
              "style": "IPY_MODEL_a715a3965141441b840c1fda36556e8c",
              "tooltip": "Path to query template spreadsheet (list of names, etc. to search)"
            }
          },
          "1f29041041f24730acdff11a20e9f15d": {
            "model_module": "@jupyter-widgets/base",
            "model_module_version": "2.0.0",
            "model_name": "LayoutModel",
            "state": {
              "width": "95%"
            }
          },
          "0aefdc74674c4446b4c4769efe17d63a": {
            "model_module": "@jupyter-widgets/controls",
            "model_module_version": "2.0.0",
            "model_name": "TextStyleModel",
            "state": {
              "description_width": "",
              "font_size": null,
              "text_color": null
            }
          },
          "d27fb4c38b8f4a91b890affe98712829": {
            "model_module": "@jupyter-widgets/base",
            "model_module_version": "2.0.0",
            "model_name": "LayoutModel",
            "state": {
              "width": "90%"
            }
          },
          "371f3b41bd73450b821d290477c8145b": {
            "model_module": "@jupyter-widgets/base",
            "model_module_version": "2.0.0",
            "model_name": "LayoutModel",
            "state": {
              "width": "40%"
            }
          },
          "b546f57f29e64ac48a33eb1229589f7c": {
            "model_module": "@jupyter-widgets/controls",
            "model_module_version": "2.0.0",
            "model_name": "ButtonStyleModel",
            "state": {
              "font_family": null,
              "font_size": null,
              "font_style": null,
              "font_variant": null,
              "font_weight": null,
              "text_color": null,
              "text_decoration": null
            }
          },
          "d42c2a89f02949b4982c32184bca160c": {
            "model_module": "@jupyter-widgets/base",
            "model_module_version": "2.0.0",
            "model_name": "LayoutModel",
            "state": {}
          },
          "c67fce7d907f4343b406a2f3f6df077f": {
            "model_module": "@jupyter-widgets/base",
            "model_module_version": "2.0.0",
            "model_name": "LayoutModel",
            "state": {
              "width": "90%"
            }
          },
          "7f1c654884394f0d918441f292d68e4f": {
            "model_module": "@jupyter-widgets/base",
            "model_module_version": "2.0.0",
            "model_name": "LayoutModel",
            "state": {}
          },
          "106feefbc5c1427c80ed171ba8611021": {
            "model_module": "@jupyter-widgets/controls",
            "model_module_version": "2.0.0",
            "model_name": "TextStyleModel",
            "state": {
              "description_width": "",
              "font_size": null,
              "text_color": null
            }
          },
          "8f0890c11dd74603a8baf5a620f2921a": {
            "model_module": "@jupyter-widgets/controls",
            "model_module_version": "2.0.0",
            "model_name": "TextModel",
            "state": {
              "description": "Input Path:",
              "layout": "IPY_MODEL_35948ec85a2b488cae326966e74f8022",
              "style": "IPY_MODEL_6eb9bb60ad694389911fc80f0cf7b77b",
              "tooltip": "Path to query template spreadsheet (list of names, etc. to search)"
            }
          },
          "7b1b8a253e1e434ca9bfa261ad41d3bb": {
            "model_module": "@jupyter-widgets/controls",
            "model_module_version": "2.0.0",
            "model_name": "CheckboxModel",
            "state": {
              "description": "Don't split in batches",
              "disabled": false,
              "layout": "IPY_MODEL_c93df47ce12b42b0a68c299f9f2ce895",
              "style": "IPY_MODEL_40c2718878f94cf29007cd629d30e634",
              "value": false
            }
          },
          "0e9f0e33dbe24f969c85c50b120c2775": {
            "model_module": "@jupyter-widgets/base",
            "model_module_version": "2.0.0",
            "model_name": "LayoutModel",
            "state": {}
          },
          "679d2458a2ff49da84d1d05415cbbea7": {
            "model_module": "@jupyter-widgets/controls",
            "model_module_version": "2.0.0",
            "model_name": "TextStyleModel",
            "state": {
              "description_width": "",
              "font_size": null,
              "text_color": null
            }
          },
          "9bb65f533d174b5d828258fa20e0d09f": {
            "model_module": "@jupyter-widgets/controls",
            "model_module_version": "2.0.0",
            "model_name": "HBoxModel",
            "state": {
              "children": [
                "IPY_MODEL_80d88500eb2e41df89c1710d46caf140",
                "IPY_MODEL_06388a41e7a747efb46f2fa492f6b651",
                "IPY_MODEL_75b02abad74944fa9121637df0011146"
              ],
              "layout": "IPY_MODEL_3f135f90a52a4eec833c664bf65f7feb"
            }
          },
          "df0d18efa9444b8299b71b9e1658ca75": {
            "model_module": "@jupyter-widgets/controls",
            "model_module_version": "2.0.0",
            "model_name": "TextModel",
            "state": {
              "description": "Output Path",
              "layout": "IPY_MODEL_a680162e9da64f7196217c58001ed248",
              "style": "IPY_MODEL_7753f261254143eea683678840f45d15"
            }
          },
          "968c6a6f582446aa911ee6924ed16051": {
            "model_module": "@jupyter-widgets/controls",
            "model_module_version": "2.0.0",
            "model_name": "CheckboxStyleModel",
            "state": {
              "description_width": ""
            }
          },
          "5b1a8706960d4e0fbdb62188da70f5cc": {
            "model_module": "@jupyter-widgets/base",
            "model_module_version": "2.0.0",
            "model_name": "LayoutModel",
            "state": {
              "width": "90%"
            }
          },
          "655dc4c27998442ebd2a37c436a9012b": {
            "model_module": "@jupyter-widgets/base",
            "model_module_version": "2.0.0",
            "model_name": "LayoutModel",
            "state": {}
          },
          "1c9e55e204f64e26b44af3d4927bd7d1": {
            "model_module": "@jupyter-widgets/controls",
            "model_module_version": "2.0.0",
            "model_name": "TextModel",
            "state": {
              "description": "Customer ID: ",
              "layout": "IPY_MODEL_076ddaa12323444ca32e0d164c82c171",
              "style": "IPY_MODEL_80912c7c098a4a7ca3788409772f6409"
            }
          },
          "e28a2ca3856042f190b7d6042b36ed18": {
            "model_module": "@jupyter-widgets/base",
            "model_module_version": "2.0.0",
            "model_name": "LayoutModel",
            "state": {}
          },
          "02e6c065ac5a466ca94b360ee2248a68": {
            "model_module": "@jupyter-widgets/base",
            "model_module_version": "2.0.0",
            "model_name": "LayoutModel",
            "state": {}
          },
          "50e4b6861e5d4006ac6ecadf720eb4ff": {
            "model_module": "@jupyter-widgets/controls",
            "model_module_version": "2.0.0",
            "model_name": "DropdownModel",
            "state": {
              "_options_labels": [
                "cases",
                "charges",
                "disposition",
                "filing",
                "fees"
              ],
              "description": "Table:",
              "index": 0,
              "layout": "IPY_MODEL_5051ee4acc174dbeb5c44bb16554bfef",
              "style": "IPY_MODEL_134217decd2240418e184cc73117f049"
            }
          },
          "3330fffcbcb54499ac3466927d5dcdc0": {
            "model_module": "@jupyter-widgets/controls",
            "model_module_version": "2.0.0",
            "model_name": "CheckboxModel",
            "state": {
              "description": "Allow overwrite",
              "disabled": false,
              "layout": "IPY_MODEL_3301c26eff9c4ac180cbd1dbfe286c74",
              "style": "IPY_MODEL_f2dbc5db6b974be6b216bd239d2baa44",
              "value": false
            }
          },
          "1c8a3f44e9694125a583022233826fc7": {
            "model_module": "@jupyter-widgets/base",
            "model_module_version": "2.0.0",
            "model_name": "LayoutModel",
            "state": {}
          },
          "d5497973147c49d6a9f7c51ad42c4c98": {
            "model_module": "@jupyter-widgets/controls",
            "model_module_version": "2.0.0",
            "model_name": "TextStyleModel",
            "state": {
              "description_width": "",
              "font_size": null,
              "text_color": null
            }
          },
          "e3e3af903d044281b11df459ae49662e": {
            "model_module": "@jupyter-widgets/controls",
            "model_module_version": "2.0.0",
            "model_name": "HBoxModel",
            "state": {
              "children": [
                "IPY_MODEL_3b750448b9c24bb0b9867ccf1159abd1",
                "IPY_MODEL_437177a3cff4424ca9370cf8f5df3adc"
              ],
              "layout": "IPY_MODEL_28758bfa0f894f1387103599698385b7"
            }
          },
          "26c6c65d4c624709821c485ed782ccb9": {
            "model_module": "@jupyter-widgets/controls",
            "model_module_version": "2.0.0",
            "model_name": "TextModel",
            "state": {
              "description": "Input Path",
              "layout": "IPY_MODEL_2533db6679a94689b5188989b3557b48",
              "style": "IPY_MODEL_5305492e8a09460899e0bf8eef45eace",
              "tooltip": "Path to input directory or archive"
            }
          },
          "4daa4591cc604c5a8e7ee556135a73aa": {
            "model_module": "@jupyter-widgets/controls",
            "model_module_version": "2.0.0",
            "model_name": "ButtonStyleModel",
            "state": {
              "font_family": null,
              "font_size": null,
              "font_style": null,
              "font_variant": null,
              "font_weight": null,
              "text_color": null,
              "text_decoration": null
            }
          },
          "4b19533755d744fb9fa75bc01ef3069b": {
            "model_module": "@jupyter-widgets/controls",
            "model_module_version": "2.0.0",
            "model_name": "TextStyleModel",
            "state": {
              "description_width": "",
              "font_size": null,
              "text_color": null
            }
          },
          "17b894bf55514a33946b58f5a72ae9db": {
            "model_module": "@jupyter-widgets/controls",
            "model_module_version": "2.0.0",
            "model_name": "TextStyleModel",
            "state": {
              "description_width": "",
              "font_size": null,
              "text_color": null
            }
          },
          "86583b50eef748689eff34b6adf6d1d5": {
            "model_module": "@jupyter-widgets/controls",
            "model_module_version": "2.0.0",
            "model_name": "FloatTextModel",
            "state": {
              "description": "Speed",
              "layout": "IPY_MODEL_29200aa9df044228a386939466f15089",
              "step": 0.1,
              "style": "IPY_MODEL_eb36e6b59ac542a180eb54ab28364bf6",
              "value": 1
            }
          },
          "c4531a1830344770aa2abc23b6490406": {
            "model_module": "@jupyter-widgets/controls",
            "model_module_version": "2.0.0",
            "model_name": "DescriptionStyleModel",
            "state": {
              "description_width": ""
            }
          },
          "e5f101ee1ca445ba898ddfeaab834b31": {
            "model_module": "@jupyter-widgets/base",
            "model_module_version": "2.0.0",
            "model_name": "LayoutModel",
            "state": {}
          },
          "9561de61cd8c4da494d0fc5ea2c20c8c": {
            "model_module": "@jupyter-widgets/base",
            "model_module_version": "2.0.0",
            "model_name": "LayoutModel",
            "state": {
              "width": "90%"
            }
          },
          "30533b7f6b8044079e358418b5131726": {
            "model_module": "@jupyter-widgets/controls",
            "model_module_version": "2.0.0",
            "model_name": "CheckboxModel",
            "state": {
              "description": "Don't split in batches",
              "disabled": false,
              "layout": "IPY_MODEL_68aad2f06acf471e9dd8f03e56460f04",
              "style": "IPY_MODEL_dd3ee2a3335942b3bb85cfa3a1ee0660",
              "value": false
            }
          },
          "0bac68a243c0466f8fcb2eae951e18c7": {
            "model_module": "@jupyter-widgets/base",
            "model_module_version": "2.0.0",
            "model_name": "LayoutModel",
            "state": {}
          },
          "9a38914ad237402c8ba047ed7e127484": {
            "model_module": "@jupyter-widgets/controls",
            "model_module_version": "2.0.0",
            "model_name": "TextModel",
            "state": {
              "description": "Output Path:",
              "layout": "IPY_MODEL_c96d1052c9b04d63abd9b3ae94bc6d13",
              "style": "IPY_MODEL_3be43f92d1804423aa05d2923f975849"
            }
          },
          "0eb0dad4d4524a49961ede93e7c7f900": {
            "model_module": "@jupyter-widgets/base",
            "model_module_version": "2.0.0",
            "model_name": "LayoutModel",
            "state": {}
          },
          "363027a180ec466dade8b4320c7eced3": {
            "model_module": "@jupyter-widgets/base",
            "model_module_version": "2.0.0",
            "model_name": "LayoutModel",
            "state": {}
          },
          "e11e1865068c472b9c15993206cf2e67": {
            "model_module": "@jupyter-widgets/base",
            "model_module_version": "2.0.0",
            "model_name": "LayoutModel",
            "state": {
              "width": "90%"
            }
          },
          "2f1bdc3047764ea793c151521cc898be": {
            "model_module": "@jupyter-widgets/controls",
            "model_module_version": "2.0.0",
            "model_name": "CheckboxStyleModel",
            "state": {
              "description_width": ""
            }
          },
          "198aba4ff38f4fe8816efc8b59e9a93f": {
            "model_module": "@jupyter-widgets/base",
            "model_module_version": "2.0.0",
            "model_name": "LayoutModel",
            "state": {}
          },
          "e864aaf9f09d47a4865a5786b55e381d": {
            "model_module": "@jupyter-widgets/controls",
            "model_module_version": "2.0.0",
            "model_name": "CheckboxStyleModel",
            "state": {
              "description_width": ""
            }
          },
          "6fa0df9bd5934fa3b4518f94f29ba220": {
            "model_module": "@jupyter-widgets/base",
            "model_module_version": "2.0.0",
            "model_name": "LayoutModel",
            "state": {
              "width": "90%"
            }
          },
          "4c4d649bac344db58510acfa67e8ec52": {
            "model_module": "@jupyter-widgets/base",
            "model_module_version": "2.0.0",
            "model_name": "LayoutModel",
            "state": {
              "width": "40%"
            }
          },
          "2b0122048c914f42a6918c39677e4d7f": {
            "model_module": "@jupyter-widgets/base",
            "model_module_version": "2.0.0",
            "model_name": "LayoutModel",
            "state": {
              "width": "90%"
            }
          },
          "605b4b20c5c84258910953b94ec9b707": {
            "model_module": "@jupyter-widgets/base",
            "model_module_version": "2.0.0",
            "model_name": "LayoutModel",
            "state": {}
          },
          "e8275e5d1c944f209424334b031398a2": {
            "model_module": "@jupyter-widgets/controls",
            "model_module_version": "2.0.0",
            "model_name": "ButtonModel",
            "state": {
              "description": "Start archiving",
              "layout": "IPY_MODEL_1104bda51fa94e9d93bbc4dc36fc5ddf",
              "style": "IPY_MODEL_e1f937a84f394e9fa20abb43e0ef1990",
              "tooltip": null
            }
          },
          "d6f5e2c1b9d941e289b842adaf75daf0": {
            "model_module": "@jupyter-widgets/base",
            "model_module_version": "2.0.0",
            "model_name": "LayoutModel",
            "state": {}
          },
          "cc578d6e2d754345ae86e1f3dd720e84": {
            "model_module": "@jupyter-widgets/controls",
            "model_module_version": "2.0.0",
            "model_name": "CheckboxStyleModel",
            "state": {
              "description_width": ""
            }
          },
          "8aa9f0694bca41ce8b600b51ea8388a3": {
            "model_module": "@jupyter-widgets/controls",
            "model_module_version": "2.0.0",
            "model_name": "HBoxModel",
            "state": {
              "children": [
                "IPY_MODEL_c8ca04f8dd50472c82d3ecde8a8285a6",
                "IPY_MODEL_476c266e0d2048cfaac558dea5d3c1cd",
                "IPY_MODEL_133d280d73504e44b5e78a4c19caba14"
              ],
              "layout": "IPY_MODEL_213b38fd15604fd6b61b1ca687d461c7"
            }
          },
          "01ca93cbcb6349dab4c9249694c37d76": {
            "model_module": "@jupyter-widgets/controls",
            "model_module_version": "2.0.0",
            "model_name": "FloatTextModel",
            "state": {
              "description": "Speed",
              "layout": "IPY_MODEL_41c0785d7f4540ce8d72703aba00bd04",
              "step": 0.1,
              "style": "IPY_MODEL_f5dd368f54d04fe08ed7cf8258777a17",
              "value": 1
            }
          },
          "fb88e7de8a03491cae5459a20cf9b1c8": {
            "model_module": "@jupyter-widgets/controls",
            "model_module_version": "2.0.0",
            "model_name": "ButtonStyleModel",
            "state": {
              "font_family": null,
              "font_size": null,
              "font_style": null,
              "font_variant": null,
              "font_weight": null,
              "text_color": null,
              "text_decoration": null
            }
          },
          "8a80ca2902db44c1bbff157bb7f286e7": {
            "model_module": "@jupyter-widgets/controls",
            "model_module_version": "2.0.0",
            "model_name": "TextStyleModel",
            "state": {
              "description_width": "",
              "font_size": null,
              "text_color": null
            }
          },
          "94a973dbac4043bfb35a31ea039bd54f": {
            "model_module": "@jupyter-widgets/base",
            "model_module_version": "2.0.0",
            "model_name": "LayoutModel",
            "state": {}
          },
          "4e79addcdab541aba71acce66173ce01": {
            "model_module": "@jupyter-widgets/controls",
            "model_module_version": "2.0.0",
            "model_name": "TextStyleModel",
            "state": {
              "description_width": "",
              "font_size": null,
              "text_color": null
            }
          },
          "47ee71e9e8c24ac79d1941ed5b25fd03": {
            "model_module": "@jupyter-widgets/controls",
            "model_module_version": "2.0.0",
            "model_name": "IntTextModel",
            "state": {
              "description": "Skip rows",
              "layout": "IPY_MODEL_8e6de281bc544db39f401b160b11fe80",
              "step": 1,
              "style": "IPY_MODEL_493cd38dd98840ba8c15d37fb1ffd7f8"
            }
          },
          "bd46bc0ffb2f4eeebf9a0f4b4948f7b0": {
            "model_module": "@jupyter-widgets/controls",
            "model_module_version": "2.0.0",
            "model_name": "TextStyleModel",
            "state": {
              "description_width": "",
              "font_size": null,
              "text_color": null
            }
          },
          "1d065c691a4f4aaa96643e6513e52bc0": {
            "model_module": "@jupyter-widgets/controls",
            "model_module_version": "2.0.0",
            "model_name": "CheckboxModel",
            "state": {
              "description": "Remove duplicates",
              "disabled": false,
              "layout": "IPY_MODEL_8ec3d0df27ca4e12965971a1dfaefefe",
              "style": "IPY_MODEL_3e3566198b5545e3a669a2882b6d1213",
              "value": false
            }
          },
          "bd585ee8f35043baa9164d7ad079b9f0": {
            "model_module": "@jupyter-widgets/base",
            "model_module_version": "2.0.0",
            "model_name": "LayoutModel",
            "state": {}
          },
          "394cac46119e464ba0b89648d060a6ca": {
            "model_module": "@jupyter-widgets/controls",
            "model_module_version": "2.0.0",
            "model_name": "TextStyleModel",
            "state": {
              "description_width": "",
              "font_size": null,
              "text_color": null
            }
          },
          "ebde6d6afde7498b923f79a0706780c2": {
            "model_module": "@jupyter-widgets/controls",
            "model_module_version": "2.0.0",
            "model_name": "FloatTextModel",
            "state": {
              "description": "Speed",
              "layout": "IPY_MODEL_0fd175b1b06c4f8d8d75eca31cfd7603",
              "step": 0.1,
              "style": "IPY_MODEL_493683a67eaa43f8be88ad21d0f601d8",
              "value": 1
            }
          },
          "88a06b689f32423aafbe697c46271651": {
            "model_module": "@jupyter-widgets/controls",
            "model_module_version": "2.0.0",
            "model_name": "TextStyleModel",
            "state": {
              "description_width": "",
              "font_size": null,
              "text_color": null
            }
          },
          "43654fb7e01840efad862a90e372a1aa": {
            "model_module": "@jupyter-widgets/controls",
            "model_module_version": "2.0.0",
            "model_name": "DescriptionStyleModel",
            "state": {
              "description_width": ""
            }
          },
          "d9c9791e9b75477cae90e7f0dc88f690": {
            "model_module": "@jupyter-widgets/output",
            "model_module_version": "1.0.0",
            "model_name": "OutputModel",
            "state": {
              "layout": "IPY_MODEL_524fb9355a514419991cb479d09a3ccb"
            }
          },
          "b1673d7a088c47c2b7a210053843d505": {
            "model_module": "@jupyter-widgets/controls",
            "model_module_version": "2.0.0",
            "model_name": "DescriptionStyleModel",
            "state": {
              "description_width": ""
            }
          },
          "54523d7e0e0146439f58a04f885ee83a": {
            "model_module": "@jupyter-widgets/base",
            "model_module_version": "2.0.0",
            "model_name": "LayoutModel",
            "state": {}
          },
          "385090831f1340988300bbe918754bc1": {
            "model_module": "@jupyter-widgets/controls",
            "model_module_version": "2.0.0",
            "model_name": "TextStyleModel",
            "state": {
              "description_width": "",
              "font_size": null,
              "text_color": null
            }
          },
          "590930030ab64b7e8b172b90dd372a95": {
            "model_module": "@jupyter-widgets/controls",
            "model_module_version": "2.0.0",
            "model_name": "TextStyleModel",
            "state": {
              "description_width": "",
              "font_size": null,
              "text_color": null
            }
          },
          "883a7428b0d54042a71d0a93b43301be": {
            "model_module": "@jupyter-widgets/controls",
            "model_module_version": "2.0.0",
            "model_name": "DropdownModel",
            "state": {
              "_options_labels": [
                "cases",
                "charges",
                "disposition",
                "filing",
                "fees"
              ],
              "description": "Table:",
              "index": 0,
              "layout": "IPY_MODEL_0f9e7ec9470d42a19f8f36b68dc9f0a9",
              "style": "IPY_MODEL_e50f09006af24777a65403b50ab7bbdc"
            }
          },
          "85b21f074862440b977ef1b2b5277089": {
            "model_module": "@jupyter-widgets/base",
            "model_module_version": "2.0.0",
            "model_name": "LayoutModel",
            "state": {}
          },
          "02a600b0e6074b318c01d417f114d3d0": {
            "model_module": "@jupyter-widgets/controls",
            "model_module_version": "2.0.0",
            "model_name": "TextStyleModel",
            "state": {
              "description_width": "",
              "font_size": null,
              "text_color": null
            }
          },
          "ae69116b34cf4d45bb606657154bfd11": {
            "model_module": "@jupyter-widgets/base",
            "model_module_version": "2.0.0",
            "model_name": "LayoutModel",
            "state": {}
          },
          "753ce0f123924e2da1080552f1380009": {
            "model_module": "@jupyter-widgets/base",
            "model_module_version": "2.0.0",
            "model_name": "LayoutModel",
            "state": {
              "width": "95%"
            }
          },
          "d81fb5651b794b769d77d9104bb59aa2": {
            "model_module": "@jupyter-widgets/controls",
            "model_module_version": "2.0.0",
            "model_name": "CheckboxModel",
            "state": {
              "description": "Allow overwrite",
              "disabled": false,
              "layout": "IPY_MODEL_3a85be1e3b21465088be022856b8c892",
              "style": "IPY_MODEL_8db27f5af4e6438a8b260516de497557",
              "value": false
            }
          },
          "6218194980a94b6aa5647b292794cdc9": {
            "model_module": "@jupyter-widgets/base",
            "model_module_version": "2.0.0",
            "model_name": "LayoutModel",
            "state": {}
          },
          "1c3f96de16cb428881128f9e7495c43e": {
            "model_module": "@jupyter-widgets/controls",
            "model_module_version": "2.0.0",
            "model_name": "CheckboxModel",
            "state": {
              "description": "Don't split in batches",
              "disabled": false,
              "layout": "IPY_MODEL_375dc19c3c72446d82d2c8ea856638ee",
              "style": "IPY_MODEL_92b8b21c03aa44839da726f4755dd4d3",
              "value": false
            }
          },
          "df45c5888f4646c8868ac61b0909080d": {
            "model_module": "@jupyter-widgets/controls",
            "model_module_version": "2.0.0",
            "model_name": "CheckboxStyleModel",
            "state": {
              "description_width": ""
            }
          },
          "6cd6a6a761ba4ab7b32979a2dc1614eb": {
            "model_module": "@jupyter-widgets/controls",
            "model_module_version": "2.0.0",
            "model_name": "HBoxModel",
            "state": {
              "children": [
                "IPY_MODEL_14aeb8a11ad540ae94d6687969fd5276",
                "IPY_MODEL_5681b7f9410b45fb983eec6bd5a921b2"
              ],
              "layout": "IPY_MODEL_de26c52c0957413cb0b19ba478f27be8"
            }
          },
          "c2fd7604534a4bd8aa979e166f3ada8f": {
            "model_module": "@jupyter-widgets/base",
            "model_module_version": "2.0.0",
            "model_name": "LayoutModel",
            "state": {}
          },
          "c8ca04f8dd50472c82d3ecde8a8285a6": {
            "model_module": "@jupyter-widgets/controls",
            "model_module_version": "2.0.0",
            "model_name": "CheckboxModel",
            "state": {
              "description": "Allow overwrite",
              "disabled": false,
              "layout": "IPY_MODEL_511047ba210b45e38fd3bb8307ff8624",
              "style": "IPY_MODEL_c542c09e209c47148b695d1ab5b220b0",
              "value": false
            }
          },
          "ad06e4e005474645abbffc7baccd1dbf": {
            "model_module": "@jupyter-widgets/controls",
            "model_module_version": "2.0.0",
            "model_name": "ButtonModel",
            "state": {
              "description": "Start archiving",
              "layout": "IPY_MODEL_40eecf6898174ad4b26e4cf619cb5c01",
              "style": "IPY_MODEL_bc003546e7b74056be104a53e8f1edac",
              "tooltip": null
            }
          },
          "34888225acb14ee984179aee70fe8326": {
            "model_module": "@jupyter-widgets/controls",
            "model_module_version": "2.0.0",
            "model_name": "TextStyleModel",
            "state": {
              "description_width": "",
              "font_size": null,
              "text_color": null
            }
          },
          "713e6dee9fe24762934d3b5c823e762b": {
            "model_module": "@jupyter-widgets/controls",
            "model_module_version": "2.0.0",
            "model_name": "CheckboxModel",
            "state": {
              "description": "Allow overwrite",
              "disabled": false,
              "layout": "IPY_MODEL_d3e5102f062d41ebac76f21515b99cfb",
              "style": "IPY_MODEL_968c03f5fc1b4bb592afa6ccc237b7b0",
              "value": false
            }
          },
          "1fe29dc4a1d0457d9762df7c67442006": {
            "model_module": "@jupyter-widgets/controls",
            "model_module_version": "2.0.0",
            "model_name": "TextModel",
            "state": {
              "description": "User ID: ",
              "layout": "IPY_MODEL_4436f321937d4ea7ac7af948a17f1b86",
              "style": "IPY_MODEL_303eaeff53994fb48d9ddd11df88c75d"
            }
          },
          "82ea0834b7474bcb97d6223e92be2d34": {
            "model_module": "@jupyter-widgets/base",
            "model_module_version": "2.0.0",
            "model_name": "LayoutModel",
            "state": {}
          },
          "75690d0e3d654eeb8576cb3b2ffb49c1": {
            "model_module": "@jupyter-widgets/controls",
            "model_module_version": "2.0.0",
            "model_name": "CheckboxStyleModel",
            "state": {
              "description_width": ""
            }
          },
          "1ef37c1f9b7d45b39095849d3acaa43e": {
            "model_module": "@jupyter-widgets/controls",
            "model_module_version": "2.0.0",
            "model_name": "TextStyleModel",
            "state": {
              "description_width": "",
              "font_size": null,
              "text_color": null
            }
          },
          "d843450bf9d949e9bfc3824edd68742b": {
            "model_module": "@jupyter-widgets/controls",
            "model_module_version": "2.0.0",
            "model_name": "CheckboxStyleModel",
            "state": {
              "description_width": ""
            }
          },
          "04303e1fe1d54358ae0ab33b04762e47": {
            "model_module": "@jupyter-widgets/controls",
            "model_module_version": "2.0.0",
            "model_name": "DescriptionStyleModel",
            "state": {
              "description_width": ""
            }
          },
          "a4bf3819e95342a6b040de3d2ea1722d": {
            "model_module": "@jupyter-widgets/base",
            "model_module_version": "2.0.0",
            "model_name": "LayoutModel",
            "state": {}
          },
          "86d0517f6d324c009ed3262be316c1b6": {
            "model_module": "@jupyter-widgets/controls",
            "model_module_version": "2.0.0",
            "model_name": "TextModel",
            "state": {
              "description": "Output Path",
              "layout": "IPY_MODEL_9f49bfe955c141f58d81598c7413d7fb",
              "style": "IPY_MODEL_2ec0acc77fc64afcac2d010f3bdf0cc1"
            }
          },
          "619b2cf59b3c4f258554f3c84f13cc4e": {
            "model_module": "@jupyter-widgets/base",
            "model_module_version": "2.0.0",
            "model_name": "LayoutModel",
            "state": {}
          },
          "d34c94c978064c099a79e6923b42d8d6": {
            "model_module": "@jupyter-widgets/controls",
            "model_module_version": "2.0.0",
            "model_name": "TextStyleModel",
            "state": {
              "description_width": "",
              "font_size": null,
              "text_color": null
            }
          },
          "47a52b16fd394e819387c3e52dee2ced": {
            "model_module": "@jupyter-widgets/controls",
            "model_module_version": "2.0.0",
            "model_name": "ButtonStyleModel",
            "state": {
              "font_family": null,
              "font_size": null,
              "font_style": null,
              "font_variant": null,
              "font_weight": null,
              "text_color": null,
              "text_decoration": null
            }
          },
          "00d52893f112492bbf8d8a4df3ee7c12": {
            "model_module": "@jupyter-widgets/controls",
            "model_module_version": "2.0.0",
            "model_name": "TextModel",
            "state": {
              "description": "Customer ID: ",
              "layout": "IPY_MODEL_df08b476a9f84e3c97b7c2d17e744297",
              "style": "IPY_MODEL_e0c523d51fba40e9be2718e39947cdce"
            }
          },
          "c06dfcbee9814491b11074f7e531ac9b": {
            "model_module": "@jupyter-widgets/base",
            "model_module_version": "2.0.0",
            "model_name": "LayoutModel",
            "state": {}
          },
          "7b032e18a3b645c7b81027336317a886": {
            "model_module": "@jupyter-widgets/base",
            "model_module_version": "2.0.0",
            "model_name": "LayoutModel",
            "state": {}
          },
          "0fd175b1b06c4f8d8d75eca31cfd7603": {
            "model_module": "@jupyter-widgets/base",
            "model_module_version": "2.0.0",
            "model_name": "LayoutModel",
            "state": {
              "width": "40%"
            }
          },
          "556d3959ca674665a12539100e5c0024": {
            "model_module": "@jupyter-widgets/base",
            "model_module_version": "2.0.0",
            "model_name": "LayoutModel",
            "state": {}
          },
          "608c0fc53b2b473bb36680f708a522de": {
            "model_module": "@jupyter-widgets/base",
            "model_module_version": "2.0.0",
            "model_name": "LayoutModel",
            "state": {}
          },
          "13fbc42b103d40fab5125c70c1a4cc0c": {
            "model_module": "@jupyter-widgets/controls",
            "model_module_version": "2.0.0",
            "model_name": "CheckboxStyleModel",
            "state": {
              "description_width": ""
            }
          },
          "313ba220f44e42409b2e1f9a23ef23bf": {
            "model_module": "@jupyter-widgets/controls",
            "model_module_version": "2.0.0",
            "model_name": "HTMLModel",
            "state": {
              "layout": "IPY_MODEL_df321cc9a3c248e5833373ee88c76d61",
              "style": "IPY_MODEL_c19a07985b8e4caf85280478c0d08c1c",
              "value": " 199/199 [00:24&lt;00:00,  8.69it/s]"
            }
          },
          "4a15c05e87cb4842abe8c75ded4f6665": {
            "model_module": "@jupyter-widgets/controls",
            "model_module_version": "2.0.0",
            "model_name": "TextModel",
            "state": {
              "description": "Output Path",
              "layout": "IPY_MODEL_91a0b810de4646c4a04775fe70de161b",
              "style": "IPY_MODEL_d34c94c978064c099a79e6923b42d8d6"
            }
          },
          "46875439cce848229fcc409964f258ce": {
            "model_module": "@jupyter-widgets/controls",
            "model_module_version": "2.0.0",
            "model_name": "TextModel",
            "state": {
              "description": "Output Path",
              "layout": "IPY_MODEL_88c1844cdff74c1fa5dffe2cc9b07de9",
              "style": "IPY_MODEL_1ef37c1f9b7d45b39095849d3acaa43e"
            }
          },
          "bc003546e7b74056be104a53e8f1edac": {
            "model_module": "@jupyter-widgets/controls",
            "model_module_version": "2.0.0",
            "model_name": "ButtonStyleModel",
            "state": {
              "font_family": null,
              "font_size": null,
              "font_style": null,
              "font_variant": null,
              "font_weight": null,
              "text_color": null,
              "text_decoration": null
            }
          },
          "3d5096922a9a408ebc9382f993d654aa": {
            "model_module": "@jupyter-widgets/base",
            "model_module_version": "2.0.0",
            "model_name": "LayoutModel",
            "state": {}
          },
          "a35e9d7dbf7c40268a4c71b0aaf28fe6": {
            "model_module": "@jupyter-widgets/base",
            "model_module_version": "2.0.0",
            "model_name": "LayoutModel",
            "state": {}
          },
          "1ba5ac7baf02437990a26825a29ce9fe": {
            "model_module": "@jupyter-widgets/controls",
            "model_module_version": "2.0.0",
            "model_name": "TextStyleModel",
            "state": {
              "description_width": "",
              "font_size": null,
              "text_color": null
            }
          },
          "b11acebbf74d4c5d969eef18f029e448": {
            "model_module": "@jupyter-widgets/base",
            "model_module_version": "2.0.0",
            "model_name": "LayoutModel",
            "state": {
              "width": "90%"
            }
          },
          "209eb1e4166e45459b74a892e3f9f11f": {
            "model_module": "@jupyter-widgets/base",
            "model_module_version": "2.0.0",
            "model_name": "LayoutModel",
            "state": {
              "width": "95%"
            }
          },
          "3be43f92d1804423aa05d2923f975849": {
            "model_module": "@jupyter-widgets/controls",
            "model_module_version": "2.0.0",
            "model_name": "TextStyleModel",
            "state": {
              "description_width": "",
              "font_size": null,
              "text_color": null
            }
          },
          "e66fc5a1d1a94ae1a67c49e0ff884887": {
            "model_module": "@jupyter-widgets/controls",
            "model_module_version": "2.0.0",
            "model_name": "TextStyleModel",
            "state": {
              "description_width": "",
              "font_size": null,
              "text_color": null
            }
          },
          "d6751ea6398f4d89b6cb8078ac26df47": {
            "model_module": "@jupyter-widgets/controls",
            "model_module_version": "2.0.0",
            "model_name": "CheckboxStyleModel",
            "state": {
              "description_width": ""
            }
          },
          "0ad0a4a4ec1946ffac4d099f407f9264": {
            "model_module": "@jupyter-widgets/base",
            "model_module_version": "2.0.0",
            "model_name": "LayoutModel",
            "state": {}
          },
          "a4b9a6be4d5c47f3b1ffc28c8f6bbefe": {
            "model_module": "@jupyter-widgets/controls",
            "model_module_version": "2.0.0",
            "model_name": "TextStyleModel",
            "state": {
              "description_width": "",
              "font_size": null,
              "text_color": null
            }
          },
          "23fee03ac21d49e3ac817869c15e1c80": {
            "model_module": "@jupyter-widgets/controls",
            "model_module_version": "2.0.0",
            "model_name": "ButtonModel",
            "state": {
              "description": "Read more",
              "layout": "IPY_MODEL_ab5fb8e3008b436b8ef5aef853ccf8d1",
              "style": "IPY_MODEL_60bbf7498e354bc185db7c1abb6f5414",
              "tooltip": null
            }
          },
          "1d105e700c344a6c910fab1ce1dbb1a3": {
            "model_module": "@jupyter-widgets/controls",
            "model_module_version": "2.0.0",
            "model_name": "DescriptionStyleModel",
            "state": {
              "description_width": ""
            }
          },
          "0f82723f5c144b4497b0ba524fb4acf0": {
            "model_module": "@jupyter-widgets/controls",
            "model_module_version": "2.0.0",
            "model_name": "DescriptionStyleModel",
            "state": {
              "description_width": ""
            }
          },
          "2b1a7af43ae741dcb035cd1e71406859": {
            "model_module": "@jupyter-widgets/controls",
            "model_module_version": "2.0.0",
            "model_name": "TextStyleModel",
            "state": {
              "description_width": "",
              "font_size": null,
              "text_color": null
            }
          },
          "075a6daa697146eb882fdfc520ce83c8": {
            "model_module": "@jupyter-widgets/controls",
            "model_module_version": "2.0.0",
            "model_name": "HBoxModel",
            "state": {
              "children": [
                "IPY_MODEL_0cc4e51bfb2a40f4b3602bc4dea78dbe",
                "IPY_MODEL_5977cebaf0ab4ffe83d1adac1f5a772b",
                "IPY_MODEL_e882633add1a43328458c9baa296f149"
              ],
              "layout": "IPY_MODEL_a30c569263264687ba68e6eb15ac5188"
            }
          },
          "943ed0f3aa6f4652be8333bf255b8fdd": {
            "model_module": "@jupyter-widgets/controls",
            "model_module_version": "2.0.0",
            "model_name": "ButtonModel",
            "state": {
              "description": "Start export",
              "layout": "IPY_MODEL_167511dc72c14a2c9a48ce8ee01e87ae",
              "style": "IPY_MODEL_a12b00e68dc849899e329f7b0fc80167",
              "tooltip": null
            }
          },
          "ea35cec743a5450580651dbf2b4d70bc": {
            "model_module": "@jupyter-widgets/base",
            "model_module_version": "2.0.0",
            "model_name": "LayoutModel",
            "state": {}
          },
          "477977f81cc64d9fa4c83b00530bbe2d": {
            "model_module": "@jupyter-widgets/controls",
            "model_module_version": "2.0.0",
            "model_name": "CheckboxModel",
            "state": {
              "description": "Allow overwrite",
              "disabled": false,
              "layout": "IPY_MODEL_2f18571d4b1847529ef0912439204913",
              "style": "IPY_MODEL_62a5fc36066d40dd9f7293462de321d4",
              "value": false
            }
          },
          "9aec00d658fd4f5a85317659b6181589": {
            "model_module": "@jupyter-widgets/controls",
            "model_module_version": "2.0.0",
            "model_name": "TextModel",
            "state": {
              "description": "Customer ID: ",
              "layout": "IPY_MODEL_0505e30eaf004f74b7d7e613cec247ba",
              "style": "IPY_MODEL_1d5fe0d5329f40c0a5d14d9bab6bf188"
            }
          },
          "1bc8b871c3754272be12a3ee16fc8745": {
            "model_module": "@jupyter-widgets/controls",
            "model_module_version": "2.0.0",
            "model_name": "TextStyleModel",
            "state": {
              "description_width": "",
              "font_size": null,
              "text_color": null
            }
          },
          "d5d7e158cd8d4d71a1db8a37828fe360": {
            "model_module": "@jupyter-widgets/controls",
            "model_module_version": "2.0.0",
            "model_name": "TextStyleModel",
            "state": {
              "description_width": "",
              "font_size": null,
              "text_color": null
            }
          },
          "a4f8c9ecf3174a368f8d877b9aaa962b": {
            "model_module": "@jupyter-widgets/controls",
            "model_module_version": "2.0.0",
            "model_name": "PasswordModel",
            "state": {
              "description": "Password: ",
              "layout": "IPY_MODEL_90c9d68c53464a09b2cd12c75e07125a",
              "style": "IPY_MODEL_76b2792042b54f5fa184a2802d67fded"
            }
          },
          "49b42efbce944b9d887de2f4cd14b3ea": {
            "model_module": "@jupyter-widgets/controls",
            "model_module_version": "2.0.0",
            "model_name": "TextModel",
            "state": {
              "description": "Customer ID: ",
              "layout": "IPY_MODEL_0c95de1aaa4d4d2d832191cc15970eff",
              "style": "IPY_MODEL_0d29f8a989eb482bb0eb8bbdd730d218"
            }
          },
          "4609282b0cbf4ef99cf67d647344063e": {
            "model_module": "@jupyter-widgets/base",
            "model_module_version": "2.0.0",
            "model_name": "LayoutModel",
            "state": {}
          },
          "961dd12820bb4eed8078d21de18f5bad": {
            "model_module": "@jupyter-widgets/controls",
            "model_module_version": "2.0.0",
            "model_name": "HBoxModel",
            "state": {
              "children": [
                "IPY_MODEL_16c0eec59370451d81d02c09385bb200",
                "IPY_MODEL_25242abecf6846148ccfaed708b976bb"
              ],
              "layout": "IPY_MODEL_b16f6bed85734cd69992e20ab2d824ac"
            }
          },
          "52396babfa674a90a5c60d8a1857053f": {
            "model_module": "@jupyter-widgets/controls",
            "model_module_version": "2.0.0",
            "model_name": "CheckboxStyleModel",
            "state": {
              "description_width": ""
            }
          },
          "3f135f90a52a4eec833c664bf65f7feb": {
            "model_module": "@jupyter-widgets/base",
            "model_module_version": "2.0.0",
            "model_name": "LayoutModel",
            "state": {
              "width": "95%"
            }
          },
          "9a794302d6e44ff7ac2353fa18d29d8b": {
            "model_module": "@jupyter-widgets/controls",
            "model_module_version": "2.0.0",
            "model_name": "IntTextModel",
            "state": {
              "description": "Max count:",
              "layout": "IPY_MODEL_157d1901999c40f9a4a6b6ca4a1bbb5a",
              "step": 1,
              "style": "IPY_MODEL_0034a6c4cb8146f5b8886ba4189b042a"
            }
          },
          "c892793583fd4717ab6b91ec9798aa01": {
            "model_module": "@jupyter-widgets/controls",
            "model_module_version": "2.0.0",
            "model_name": "CheckboxStyleModel",
            "state": {
              "description_width": ""
            }
          },
          "3301c26eff9c4ac180cbd1dbfe286c74": {
            "model_module": "@jupyter-widgets/base",
            "model_module_version": "2.0.0",
            "model_name": "LayoutModel",
            "state": {}
          },
          "2e10890dc3f94c5892a401b19a8d9d31": {
            "model_module": "@jupyter-widgets/base",
            "model_module_version": "2.0.0",
            "model_name": "LayoutModel",
            "state": {}
          },
          "1622ffbaeac943d98d0b75b798c6c72f": {
            "model_module": "@jupyter-widgets/base",
            "model_module_version": "2.0.0",
            "model_name": "LayoutModel",
            "state": {}
          },
          "2fcd88e89252406ebebc78693fc0aa59": {
            "model_module": "@jupyter-widgets/controls",
            "model_module_version": "2.0.0",
            "model_name": "ButtonStyleModel",
            "state": {
              "font_family": null,
              "font_size": null,
              "font_style": null,
              "font_variant": null,
              "font_weight": null,
              "text_color": null,
              "text_decoration": null
            }
          },
          "65e75a5e166046f9b664a26593adf869": {
            "model_module": "@jupyter-widgets/controls",
            "model_module_version": "2.0.0",
            "model_name": "ButtonModel",
            "state": {
              "description": "Login",
              "layout": "IPY_MODEL_d37f6d42b3fd4fcbb4588aa6ef2c129c",
              "style": "IPY_MODEL_8ec394c4f8054ef88ad3ea7bc751d3ab",
              "tooltip": null
            }
          },
          "cdceb2443765439b9f6833e18eedb266": {
            "model_module": "@jupyter-widgets/base",
            "model_module_version": "2.0.0",
            "model_name": "LayoutModel",
            "state": {}
          },
          "46fed25ea04c4e13b15c1a24faed82bd": {
            "model_module": "@jupyter-widgets/controls",
            "model_module_version": "2.0.0",
            "model_name": "TextStyleModel",
            "state": {
              "description_width": "",
              "font_size": null,
              "text_color": null
            }
          },
          "412c569579d643b190f0587b5ee469b9": {
            "model_module": "@jupyter-widgets/controls",
            "model_module_version": "2.0.0",
            "model_name": "DescriptionStyleModel",
            "state": {
              "description_width": ""
            }
          },
          "4c53353d117149e3b8eee29dcfe093e7": {
            "model_module": "@jupyter-widgets/base",
            "model_module_version": "2.0.0",
            "model_name": "LayoutModel",
            "state": {}
          },
          "0aab602e85f54055a1baaf1f3d78262a": {
            "model_module": "@jupyter-widgets/controls",
            "model_module_version": "2.0.0",
            "model_name": "CheckboxModel",
            "state": {
              "description": "Don't split in batches",
              "disabled": false,
              "layout": "IPY_MODEL_7969cac5419a405ead24a0c74286a8db",
              "style": "IPY_MODEL_968c6a6f582446aa911ee6924ed16051",
              "value": false
            }
          },
          "2e8626424e62461883f506a9e30ee6b2": {
            "model_module": "@jupyter-widgets/controls",
            "model_module_version": "2.0.0",
            "model_name": "IntTextModel",
            "state": {
              "description": "Max count",
              "layout": "IPY_MODEL_69875033d3cc49a2a2e307adfd89a102",
              "step": 1,
              "style": "IPY_MODEL_e927b58b026e4e7caf937f05d0c9f561"
            }
          },
          "e47fe130291947ef8da11627c43b30a9": {
            "model_module": "@jupyter-widgets/base",
            "model_module_version": "2.0.0",
            "model_name": "LayoutModel",
            "state": {}
          },
          "4bdd565580934e6e8f0d6f0f4a116237": {
            "model_module": "@jupyter-widgets/base",
            "model_module_version": "2.0.0",
            "model_name": "LayoutModel",
            "state": {}
          },
          "59054c9e51cf4acd8aaa31280cde1698": {
            "model_module": "@jupyter-widgets/controls",
            "model_module_version": "2.0.0",
            "model_name": "TextModel",
            "state": {
              "description": "Input Path:",
              "layout": "IPY_MODEL_9a5df0e7a2a74c9d975f5a2453b8b02d",
              "style": "IPY_MODEL_22fb39ea74d644ec83b77d0654c19f3c",
              "tooltip": "Path to query template spreadsheet (list of names, etc. to search)"
            }
          },
          "8827a9664dec4751aa0a120cb3f9d96d": {
            "model_module": "@jupyter-widgets/controls",
            "model_module_version": "2.0.0",
            "model_name": "DescriptionStyleModel",
            "state": {
              "description_width": ""
            }
          },
          "e4341bf3d4bf4dde8ac8d76106956b09": {
            "model_module": "@jupyter-widgets/base",
            "model_module_version": "2.0.0",
            "model_name": "LayoutModel",
            "state": {
              "width": "90%"
            }
          },
          "de1f05c62fc44d389e1555c00476921f": {
            "model_module": "@jupyter-widgets/base",
            "model_module_version": "2.0.0",
            "model_name": "LayoutModel",
            "state": {}
          },
          "16681044c3a147bd89d2fc9a7ae1d33e": {
            "model_module": "@jupyter-widgets/controls",
            "model_module_version": "2.0.0",
            "model_name": "TextStyleModel",
            "state": {
              "description_width": "",
              "font_size": null,
              "text_color": null
            }
          },
          "510817e9fc674c09bbc0ab7773ec2b8b": {
            "model_module": "@jupyter-widgets/controls",
            "model_module_version": "2.0.0",
            "model_name": "CheckboxModel",
            "state": {
              "description": "Allow overwrite",
              "disabled": false,
              "layout": "IPY_MODEL_fb6f2dbe2c174c32b9bf4faad3120fff",
              "style": "IPY_MODEL_e894b6ff9b794d14b2470115af9112ce",
              "value": false
            }
          },
          "ba093aede6c14ebb8b2d2b443f193c71": {
            "model_module": "@jupyter-widgets/controls",
            "model_module_version": "2.0.0",
            "model_name": "DescriptionStyleModel",
            "state": {
              "description_width": ""
            }
          },
          "f2dbc5db6b974be6b216bd239d2baa44": {
            "model_module": "@jupyter-widgets/controls",
            "model_module_version": "2.0.0",
            "model_name": "CheckboxStyleModel",
            "state": {
              "description_width": ""
            }
          },
          "3f24d48ee2394f0fa75879c91e04dc78": {
            "model_module": "@jupyter-widgets/controls",
            "model_module_version": "2.0.0",
            "model_name": "ButtonModel",
            "state": {
              "description": "Start export",
              "layout": "IPY_MODEL_21c76018df3842a08f9a026be9409ef8",
              "style": "IPY_MODEL_58caae1b0e824abb8468d7169a8f4b4f",
              "tooltip": null
            }
          },
          "ee0bb801df8e4291940d6401e6343fa6": {
            "model_module": "@jupyter-widgets/base",
            "model_module_version": "2.0.0",
            "model_name": "LayoutModel",
            "state": {}
          },
          "7059d2681a7949ffbba3581bfd3f7f9e": {
            "model_module": "@jupyter-widgets/base",
            "model_module_version": "2.0.0",
            "model_name": "LayoutModel",
            "state": {
              "width": "95%"
            }
          },
          "0e71c8db208b4779961ecc27e36ba899": {
            "model_module": "@jupyter-widgets/base",
            "model_module_version": "2.0.0",
            "model_name": "LayoutModel",
            "state": {}
          },
          "c38046e4ec05492e9dc2dc5b50f8e246": {
            "model_module": "@jupyter-widgets/controls",
            "model_module_version": "2.0.0",
            "model_name": "ButtonStyleModel",
            "state": {
              "font_family": null,
              "font_size": null,
              "font_style": null,
              "font_variant": null,
              "font_weight": null,
              "text_color": null,
              "text_decoration": null
            }
          },
          "3b80b703081b4ccd8060e85ea5a9745e": {
            "model_module": "@jupyter-widgets/controls",
            "model_module_version": "2.0.0",
            "model_name": "HBoxModel",
            "state": {
              "children": [
                "IPY_MODEL_cc8675c37b4b40aba91166bc7a68e2e0",
                "IPY_MODEL_73c094ef955447538b821fc1950c50ab"
              ],
              "layout": "IPY_MODEL_e47fe130291947ef8da11627c43b30a9"
            }
          },
          "dc475e1df71b4f0c9ca66b25fd02f21a": {
            "model_module": "@jupyter-widgets/controls",
            "model_module_version": "2.0.0",
            "model_name": "DescriptionStyleModel",
            "state": {
              "description_width": ""
            }
          },
          "0555cb5940f7470b9f173a7b9443638a": {
            "model_module": "@jupyter-widgets/base",
            "model_module_version": "2.0.0",
            "model_name": "LayoutModel",
            "state": {}
          },
          "e3ad0dc9c3a542839fd1c378a7c44cda": {
            "model_module": "@jupyter-widgets/controls",
            "model_module_version": "2.0.0",
            "model_name": "HTMLModel",
            "state": {
              "layout": "IPY_MODEL_aca7f34e094f41ef91ff513c45fabb4a",
              "style": "IPY_MODEL_4f97d3d651714141af50c1b8a083c010",
              "value": "Case Info: 100%"
            }
          },
          "8b2bf3654005418489ad0aa1eb0d4675": {
            "model_module": "@jupyter-widgets/controls",
            "model_module_version": "2.0.0",
            "model_name": "TextStyleModel",
            "state": {
              "description_width": "",
              "font_size": null,
              "text_color": null
            }
          },
          "d3e5102f062d41ebac76f21515b99cfb": {
            "model_module": "@jupyter-widgets/base",
            "model_module_version": "2.0.0",
            "model_name": "LayoutModel",
            "state": {}
          },
          "88a66acb6ff1409ba97a0f435e42d864": {
            "model_module": "@jupyter-widgets/base",
            "model_module_version": "2.0.0",
            "model_name": "LayoutModel",
            "state": {
              "width": "40%"
            }
          },
          "f44977d9c2624e53aa20a6f020b384e1": {
            "model_module": "@jupyter-widgets/controls",
            "model_module_version": "2.0.0",
            "model_name": "ButtonModel",
            "state": {
              "description": "Read more",
              "layout": "IPY_MODEL_117b0ce8b29a4498a582a91046f73d82",
              "style": "IPY_MODEL_0cf70264231d4d47ad3485a77aa0ff2f",
              "tooltip": null
            }
          },
          "b3590d75e253430f90e01172de7eef13": {
            "model_module": "@jupyter-widgets/base",
            "model_module_version": "2.0.0",
            "model_name": "LayoutModel",
            "state": {}
          },
          "797749f883824f1ab1846d7b1810e56b": {
            "model_module": "@jupyter-widgets/controls",
            "model_module_version": "2.0.0",
            "model_name": "TextStyleModel",
            "state": {
              "description_width": "",
              "font_size": null,
              "text_color": null
            }
          },
          "9e63e4906f8c47d7b8bb5ae6cbea8d40": {
            "model_module": "@jupyter-widgets/controls",
            "model_module_version": "2.0.0",
            "model_name": "HBoxModel",
            "state": {
              "children": [
                "IPY_MODEL_53509891955c4eda97ae4989137ec84b",
                "IPY_MODEL_7b1b8a253e1e434ca9bfa261ad41d3bb"
              ],
              "layout": "IPY_MODEL_2b206ff5deb8462baa546866427f7208"
            }
          },
          "20bb54c99b9d4ff3a1802c6b6a781e7b": {
            "model_module": "@jupyter-widgets/controls",
            "model_module_version": "2.0.0",
            "model_name": "TextStyleModel",
            "state": {
              "description_width": "",
              "font_size": null,
              "text_color": null
            }
          },
          "fa82c21237904b4b8d09e1783ca9c6fc": {
            "model_module": "@jupyter-widgets/base",
            "model_module_version": "2.0.0",
            "model_name": "LayoutModel",
            "state": {
              "width": "90%"
            }
          },
          "5890d139bcaf4c6da7fa4edb4bb41403": {
            "model_module": "@jupyter-widgets/controls",
            "model_module_version": "2.0.0",
            "model_name": "TextModel",
            "state": {
              "description": "Output Path",
              "layout": "IPY_MODEL_14ea5f5b859d40638fc28a5e77a5a010",
              "style": "IPY_MODEL_b7ae43ce35454daf9fc83815d7f464f6"
            }
          },
          "8bd9cf3adf4f4bb0ae794ea2d9be1fbc": {
            "model_module": "@jupyter-widgets/base",
            "model_module_version": "2.0.0",
            "model_name": "LayoutModel",
            "state": {}
          },
          "d3aa1b855fc74c3da2d81c023718256c": {
            "model_module": "@jupyter-widgets/controls",
            "model_module_version": "2.0.0",
            "model_name": "FloatTextModel",
            "state": {
              "description": "Speed",
              "layout": "IPY_MODEL_8c007ead2b0540098e1219ab938ec537",
              "step": 0.1,
              "style": "IPY_MODEL_c8277ae82bcb4b4a832a21f3dee91001",
              "value": 1
            }
          },
          "060d054d8811496ab72d8d25697a74a8": {
            "model_module": "@jupyter-widgets/controls",
            "model_module_version": "2.0.0",
            "model_name": "ButtonStyleModel",
            "state": {
              "font_family": null,
              "font_size": null,
              "font_style": null,
              "font_variant": null,
              "font_weight": null,
              "text_color": null,
              "text_decoration": null
            }
          },
          "fde7c780c1b644f3ac941dfd8bbfb375": {
            "model_module": "@jupyter-widgets/controls",
            "model_module_version": "2.0.0",
            "model_name": "TextModel",
            "state": {
              "description": "Input Path:",
              "layout": "IPY_MODEL_f6f1fcaf0f6d48668ead33b9390eeb33",
              "style": "IPY_MODEL_88a06b689f32423aafbe697c46271651",
              "tooltip": "Path to query template spreadsheet (list of names, etc. to search)"
            }
          },
          "a4585d7169ca4ae3ade0f8b5b6107491": {
            "model_module": "@jupyter-widgets/controls",
            "model_module_version": "2.0.0",
            "model_name": "CheckboxStyleModel",
            "state": {
              "description_width": ""
            }
          },
          "13384cf4057c45e6be63df3ab2c52098": {
            "model_module": "@jupyter-widgets/controls",
            "model_module_version": "2.0.0",
            "model_name": "CheckboxStyleModel",
            "state": {
              "description_width": ""
            }
          },
          "2ff7f05c4f7d456b9295fc223159eada": {
            "model_module": "@jupyter-widgets/controls",
            "model_module_version": "2.0.0",
            "model_name": "TextStyleModel",
            "state": {
              "description_width": "",
              "font_size": null,
              "text_color": null
            }
          },
          "79a757b24a6d4a4da973f8007cd58fad": {
            "model_module": "@jupyter-widgets/controls",
            "model_module_version": "2.0.0",
            "model_name": "ButtonModel",
            "state": {
              "description": "Start archiving",
              "layout": "IPY_MODEL_8e5ecc6e74d244679e55b5b1a8901f8f",
              "style": "IPY_MODEL_7fe51bb315034936a76b6e1bc5d92115",
              "tooltip": null
            }
          },
          "fbc87bd59ae2492db05d6b37c1be8854": {
            "model_module": "@jupyter-widgets/controls",
            "model_module_version": "2.0.0",
            "model_name": "HTMLStyleModel",
            "state": {
              "description_width": "",
              "font_size": null,
              "text_color": null
            }
          },
          "2f405a19c48742378d196edd0a9802e0": {
            "model_module": "@jupyter-widgets/base",
            "model_module_version": "2.0.0",
            "model_name": "LayoutModel",
            "state": {}
          },
          "e0c523d51fba40e9be2718e39947cdce": {
            "model_module": "@jupyter-widgets/controls",
            "model_module_version": "2.0.0",
            "model_name": "TextStyleModel",
            "state": {
              "description_width": "",
              "font_size": null,
              "text_color": null
            }
          },
          "14ea5f5b859d40638fc28a5e77a5a010": {
            "model_module": "@jupyter-widgets/base",
            "model_module_version": "2.0.0",
            "model_name": "LayoutModel",
            "state": {
              "width": "90%"
            }
          },
          "0972bb12d80a4f939843c10dbd2f44f0": {
            "model_module": "@jupyter-widgets/controls",
            "model_module_version": "2.0.0",
            "model_name": "RadioButtonsModel",
            "state": {
              "_options_labels": [
                "cases",
                "charges",
                "disposition",
                "filing",
                "fees"
              ],
              "description": "Table:",
              "index": 0,
              "layout": "IPY_MODEL_c2fd7604534a4bd8aa979e166f3ada8f",
              "style": "IPY_MODEL_1edcbb8791b04c20a7fb824dfd1c9adc"
            }
          },
          "55ab99ae1be04b4aae53172f07ae2d67": {
            "model_module": "@jupyter-widgets/controls",
            "model_module_version": "2.0.0",
            "model_name": "TextModel",
            "state": {
              "description": "Output Path",
              "layout": "IPY_MODEL_70cd708fa34249519559dc40020b9ebd",
              "style": "IPY_MODEL_6c4b4c487e3c493697d762add88b02af"
            }
          },
          "7e3cda892b7b497ca51dfdad57e55a19": {
            "model_module": "@jupyter-widgets/base",
            "model_module_version": "2.0.0",
            "model_name": "LayoutModel",
            "state": {}
          },
          "cb93d1ed865c45e388bf05815997f8ee": {
            "model_module": "@jupyter-widgets/controls",
            "model_module_version": "2.0.0",
            "model_name": "ButtonModel",
            "state": {
              "description": "Start archiving",
              "layout": "IPY_MODEL_0ddf25def1a8489594e184414662c20c",
              "style": "IPY_MODEL_2fff66811afb49bf974d4a4dffcd24a1",
              "tooltip": null
            }
          },
          "c893f750e1bd4fdea5776c02bf0576c2": {
            "model_module": "@jupyter-widgets/base",
            "model_module_version": "2.0.0",
            "model_name": "LayoutModel",
            "state": {
              "width": "40%"
            }
          },
          "21e2932d3cfc4de9bd25227b33510a5e": {
            "model_module": "@jupyter-widgets/controls",
            "model_module_version": "2.0.0",
            "model_name": "DescriptionStyleModel",
            "state": {
              "description_width": ""
            }
          },
          "72259eb0493f45c0a8a7fcdaff372c40": {
            "model_module": "@jupyter-widgets/controls",
            "model_module_version": "2.0.0",
            "model_name": "DescriptionStyleModel",
            "state": {
              "description_width": ""
            }
          },
          "ffb0d3a459ec448486d52baf2a8a83e6": {
            "model_module": "@jupyter-widgets/base",
            "model_module_version": "2.0.0",
            "model_name": "LayoutModel",
            "state": {
              "width": "90%"
            }
          },
          "b456fd735f4e4005b449e3a73aebbb11": {
            "model_module": "@jupyter-widgets/controls",
            "model_module_version": "2.0.0",
            "model_name": "ButtonModel",
            "state": {
              "description": "Start export",
              "layout": "IPY_MODEL_4dc513907e524e21b2b5dd60a6b6a9f3",
              "style": "IPY_MODEL_3f5d8e9a7ca74c2a809c2d94269a8692",
              "tooltip": null
            }
          },
          "6211c00f7dce4ef7bd1dcbee5530055e": {
            "model_module": "@jupyter-widgets/controls",
            "model_module_version": "2.0.0",
            "model_name": "ButtonModel",
            "state": {
              "description": "Start archiving",
              "layout": "IPY_MODEL_ef4c613c95c84080bfde66c774a3f5f8",
              "style": "IPY_MODEL_5e10f7eae08543b99efa9572b1a38e5f",
              "tooltip": null
            }
          },
          "79d5095d0a524ddcaf61a2de1052a35c": {
            "model_module": "@jupyter-widgets/base",
            "model_module_version": "2.0.0",
            "model_name": "LayoutModel",
            "state": {}
          },
          "4da22c179a4f42aebf618661cb67777a": {
            "model_module": "@jupyter-widgets/base",
            "model_module_version": "2.0.0",
            "model_name": "LayoutModel",
            "state": {}
          },
          "dbf07acf096b4c8dbd7c023de46b166f": {
            "model_module": "@jupyter-widgets/base",
            "model_module_version": "2.0.0",
            "model_name": "LayoutModel",
            "state": {
              "width": "90%"
            }
          },
          "7716e2cea1c34cef8cdf8698b777440c": {
            "model_module": "@jupyter-widgets/base",
            "model_module_version": "2.0.0",
            "model_name": "LayoutModel",
            "state": {
              "width": "90%"
            }
          },
          "a7b776fddfe740bba2710c33055f85e2": {
            "model_module": "@jupyter-widgets/controls",
            "model_module_version": "2.0.0",
            "model_name": "ButtonStyleModel",
            "state": {
              "font_family": null,
              "font_size": null,
              "font_style": null,
              "font_variant": null,
              "font_weight": null,
              "text_color": null,
              "text_decoration": null
            }
          },
          "63fb06f6a16545b180e0ed54c4d33219": {
            "model_module": "@jupyter-widgets/controls",
            "model_module_version": "2.0.0",
            "model_name": "TextStyleModel",
            "state": {
              "description_width": "",
              "font_size": null,
              "text_color": null
            }
          },
          "e0f0782224fd49bdb5cfe9a6fe9e744f": {
            "model_module": "@jupyter-widgets/controls",
            "model_module_version": "2.0.0",
            "model_name": "CheckboxModel",
            "state": {
              "description": "Allow overwrite",
              "disabled": false,
              "layout": "IPY_MODEL_3fb458f8ea6d421fb68e8a3b82b6dfef",
              "style": "IPY_MODEL_6d5dfeddcbac4b63bbc5201857e26b8c",
              "value": false
            }
          },
          "9f894fc88d2042c380aff61f416b6e3b": {
            "model_module": "@jupyter-widgets/base",
            "model_module_version": "2.0.0",
            "model_name": "LayoutModel",
            "state": {}
          },
          "dd5940ffddff46888c51452e88c4b071": {
            "model_module": "@jupyter-widgets/controls",
            "model_module_version": "2.0.0",
            "model_name": "TextModel",
            "state": {
              "description": "Input Path",
              "layout": "IPY_MODEL_8f58d948c10a46adaf5dd5ce95ab4032",
              "style": "IPY_MODEL_063927b46fa847a7a8527e540c166f30",
              "tooltip": "Path to input directory or archive"
            }
          },
          "7f9c6ba7b78342369fe3357818173aa2": {
            "model_module": "@jupyter-widgets/base",
            "model_module_version": "2.0.0",
            "model_name": "LayoutModel",
            "state": {
              "width": "40%"
            }
          },
          "0f91b2200dad425e8f98f4cbf92d061a": {
            "model_module": "@jupyter-widgets/base",
            "model_module_version": "2.0.0",
            "model_name": "LayoutModel",
            "state": {
              "width": "90%"
            }
          },
          "4ea4d1687b6a4f188986c1f5546807e5": {
            "model_module": "@jupyter-widgets/controls",
            "model_module_version": "2.0.0",
            "model_name": "CheckboxModel",
            "state": {
              "description": "Don't split in batches",
              "disabled": false,
              "layout": "IPY_MODEL_eaf1e7db037249be8e6bf37733b6be91",
              "style": "IPY_MODEL_fdc6dc8d8e5f4d4dbdaca752d0fe451a",
              "value": false
            }
          },
          "8e1ae45b7d184c5fbcdb67bc341c9262": {
            "model_module": "@jupyter-widgets/controls",
            "model_module_version": "2.0.0",
            "model_name": "CheckboxModel",
            "state": {
              "description": "Allow overwrite",
              "disabled": false,
              "layout": "IPY_MODEL_87fa6ff671814b8ea02949b03e2929b7",
              "style": "IPY_MODEL_249d25cc665842958931aeca73ec3365",
              "value": false
            }
          },
          "dda60eb55c8a4395880face26239fa16": {
            "model_module": "@jupyter-widgets/controls",
            "model_module_version": "2.0.0",
            "model_name": "TextStyleModel",
            "state": {
              "description_width": "",
              "font_size": null,
              "text_color": null
            }
          },
          "6e6dfd1345b8421dae3c7b95911656a9": {
            "model_module": "@jupyter-widgets/base",
            "model_module_version": "2.0.0",
            "model_name": "LayoutModel",
            "state": {}
          },
          "906016a9476f4d548cec76ffc4b1fa25": {
            "model_module": "@jupyter-widgets/base",
            "model_module_version": "2.0.0",
            "model_name": "LayoutModel",
            "state": {}
          },
          "c0e2ff0db92a46868418ab2f625366f6": {
            "model_module": "@jupyter-widgets/controls",
            "model_module_version": "2.0.0",
            "model_name": "TextModel",
            "state": {
              "description": "User ID: ",
              "layout": "IPY_MODEL_da1a6fd9b7f9417da4125273ade99b96",
              "style": "IPY_MODEL_3504e12cea834912bf7f039e2ac9bfb9"
            }
          },
          "c19b1150f02341178fe2ad98e8037406": {
            "model_module": "@jupyter-widgets/base",
            "model_module_version": "2.0.0",
            "model_name": "LayoutModel",
            "state": {}
          },
          "1dba708e05d847c6a8654c8ca7c9a466": {
            "model_module": "@jupyter-widgets/controls",
            "model_module_version": "2.0.0",
            "model_name": "TextModel",
            "state": {
              "description": "Output Path:",
              "layout": "IPY_MODEL_1037e806cb6f4034853adf852bc38d62",
              "style": "IPY_MODEL_94c1c447804640d4bfdd91797528d63a"
            }
          },
          "381a3272166b4597b77a3d9b04b276f1": {
            "model_module": "@jupyter-widgets/base",
            "model_module_version": "2.0.0",
            "model_name": "LayoutModel",
            "state": {}
          },
          "d01d8a207ea84589b233eafefadeaded": {
            "model_module": "@jupyter-widgets/controls",
            "model_module_version": "2.0.0",
            "model_name": "TextModel",
            "state": {
              "description": "User ID: ",
              "layout": "IPY_MODEL_1b5d425760f24a77a84b11e246890b29",
              "style": "IPY_MODEL_2fd5982e51d54ed484fe3ceac9730be5"
            }
          },
          "1366f65882894b9085246bc790eb95e7": {
            "model_module": "@jupyter-widgets/base",
            "model_module_version": "2.0.0",
            "model_name": "LayoutModel",
            "state": {}
          },
          "2b1d55f8ebf941278f503147312ed107": {
            "model_module": "@jupyter-widgets/controls",
            "model_module_version": "2.0.0",
            "model_name": "IntTextModel",
            "state": {
              "description": "Max count:",
              "layout": "IPY_MODEL_58d03c6463a9421a9890034f01a2dbe1",
              "step": 1,
              "style": "IPY_MODEL_db35f3a2e95e4a4da7027f92004819e9"
            }
          },
          "641fca70fc1344828410b79525e1a438": {
            "model_module": "@jupyter-widgets/base",
            "model_module_version": "2.0.0",
            "model_name": "LayoutModel",
            "state": {}
          },
          "58d38824f5964a64a6294c85895735fd": {
            "model_module": "@jupyter-widgets/base",
            "model_module_version": "2.0.0",
            "model_name": "LayoutModel",
            "state": {}
          },
          "3491c2dad8cf422c95ffe8437c6eee46": {
            "model_module": "@jupyter-widgets/controls",
            "model_module_version": "2.0.0",
            "model_name": "DropdownModel",
            "state": {
              "_options_labels": [
                "cases",
                "charges",
                "disposition",
                "filing",
                "fees"
              ],
              "description": "Table:",
              "index": 0,
              "layout": "IPY_MODEL_85db2eef160b4f5cafc2e5bcdab85896",
              "style": "IPY_MODEL_5040abecdf3f449bb53ab4020d4911f1"
            }
          },
          "8e5ecc6e74d244679e55b5b1a8901f8f": {
            "model_module": "@jupyter-widgets/base",
            "model_module_version": "2.0.0",
            "model_name": "LayoutModel",
            "state": {}
          },
          "0fb069ad5f8448dda7374a90ebb2c235": {
            "model_module": "@jupyter-widgets/controls",
            "model_module_version": "2.0.0",
            "model_name": "TextStyleModel",
            "state": {
              "description_width": "",
              "font_size": null,
              "text_color": null
            }
          },
          "e58f544a86804e4795c9997eda0ef205": {
            "model_module": "@jupyter-widgets/controls",
            "model_module_version": "2.0.0",
            "model_name": "DescriptionStyleModel",
            "state": {
              "description_width": ""
            }
          },
          "336f1e5574bd46cf9df9b063b9cdbaf5": {
            "model_module": "@jupyter-widgets/controls",
            "model_module_version": "2.0.0",
            "model_name": "ButtonModel",
            "state": {
              "description": "Start archiving",
              "layout": "IPY_MODEL_8402589807894a129feced7702fb6bfc",
              "style": "IPY_MODEL_eefe5dbea53844c89ecd258740b34259",
              "tooltip": null
            }
          },
          "5aac3e8939ad4d02867c3b7591a9d3af": {
            "model_module": "@jupyter-widgets/base",
            "model_module_version": "2.0.0",
            "model_name": "LayoutModel",
            "state": {}
          },
          "3b8dc8f930a44b74a4198fbfd93fd70a": {
            "model_module": "@jupyter-widgets/controls",
            "model_module_version": "2.0.0",
            "model_name": "HBoxModel",
            "state": {
              "children": [
                "IPY_MODEL_4ab53b6d206b4ffaaf66f523bdf5a893",
                "IPY_MODEL_2e68b741226a4e2ca028a4f31877281c",
                "IPY_MODEL_6dda602970954107bf7db85cdc3c05ef"
              ],
              "layout": "IPY_MODEL_821f5ad25e8f42d9a62518e6e90c0d31"
            }
          },
          "33311414b1fc429194579f32fee78010": {
            "model_module": "@jupyter-widgets/base",
            "model_module_version": "2.0.0",
            "model_name": "LayoutModel",
            "state": {}
          },
          "75d4ea001531475b95e1965aca749d04": {
            "model_module": "@jupyter-widgets/base",
            "model_module_version": "2.0.0",
            "model_name": "LayoutModel",
            "state": {}
          },
          "df6cd7a94f2e4a509ebf67a89bf64c11": {
            "model_module": "@jupyter-widgets/controls",
            "model_module_version": "2.0.0",
            "model_name": "ButtonModel",
            "state": {
              "description": "Start export",
              "layout": "IPY_MODEL_fde76528d7604133b900b3166d32da9c",
              "style": "IPY_MODEL_2eea09e05e1544b7a8c25ab9e038db83",
              "tooltip": null
            }
          },
          "00b8c16e37214467a5bbe2e01550deb6": {
            "model_module": "@jupyter-widgets/output",
            "model_module_version": "1.0.0",
            "model_name": "OutputModel",
            "state": {
              "layout": "IPY_MODEL_e75ebe0fb99b41c08a9a3743271c9ece"
            }
          },
          "a3f1e9f09d9246118833d53ecb7c848d": {
            "model_module": "@jupyter-widgets/base",
            "model_module_version": "2.0.0",
            "model_name": "LayoutModel",
            "state": {}
          },
          "b673151e29cd48f6999f35767caf7d07": {
            "model_module": "@jupyter-widgets/base",
            "model_module_version": "2.0.0",
            "model_name": "LayoutModel",
            "state": {}
          },
          "bfb4249bd0d744488ebc6a81bd13ef51": {
            "model_module": "@jupyter-widgets/controls",
            "model_module_version": "2.0.0",
            "model_name": "ButtonStyleModel",
            "state": {
              "font_family": null,
              "font_size": null,
              "font_style": null,
              "font_variant": null,
              "font_weight": null,
              "text_color": null,
              "text_decoration": null
            }
          },
          "dd673fadb2b647d58a397fc1a242d441": {
            "model_module": "@jupyter-widgets/controls",
            "model_module_version": "2.0.0",
            "model_name": "TextModel",
            "state": {
              "description": "Output Path",
              "layout": "IPY_MODEL_740511b953fe448ea3d8c8454a3d443b",
              "style": "IPY_MODEL_2baf10c576cd4a8797e2de31e84f1207"
            }
          },
          "09e0a51a85284fdc80a4efdd1175d6b1": {
            "model_module": "@jupyter-widgets/base",
            "model_module_version": "2.0.0",
            "model_name": "LayoutModel",
            "state": {}
          },
          "2eff9341c70b4ad090ba79a912dcef96": {
            "model_module": "@jupyter-widgets/base",
            "model_module_version": "2.0.0",
            "model_name": "LayoutModel",
            "state": {}
          },
          "c9dbea17b8804462ac710cc1ce405474": {
            "model_module": "@jupyter-widgets/controls",
            "model_module_version": "2.0.0",
            "model_name": "DescriptionStyleModel",
            "state": {
              "description_width": ""
            }
          },
          "4964c5f457624eb7894fe54804c1f519": {
            "model_module": "@jupyter-widgets/output",
            "model_module_version": "1.0.0",
            "model_name": "OutputModel",
            "state": {
              "layout": "IPY_MODEL_906016a9476f4d548cec76ffc4b1fa25"
            }
          },
          "d806e66a89ee4c8690367cc9011ed99f": {
            "model_module": "@jupyter-widgets/controls",
            "model_module_version": "2.0.0",
            "model_name": "CheckboxStyleModel",
            "state": {
              "description_width": ""
            }
          },
          "878709ad0918456cab16c06bfa0702f2": {
            "model_module": "@jupyter-widgets/controls",
            "model_module_version": "2.0.0",
            "model_name": "ButtonStyleModel",
            "state": {
              "font_family": null,
              "font_size": null,
              "font_style": null,
              "font_variant": null,
              "font_weight": null,
              "text_color": null,
              "text_decoration": null
            }
          },
          "2cef78c8a4234da2a53c95108208a802": {
            "model_module": "@jupyter-widgets/base",
            "model_module_version": "2.0.0",
            "model_name": "LayoutModel",
            "state": {
              "width": "90%"
            }
          },
          "668ed8578c194fc0bcc8fc202c4d3d76": {
            "model_module": "@jupyter-widgets/base",
            "model_module_version": "2.0.0",
            "model_name": "LayoutModel",
            "state": {}
          },
          "6596bbf51352436c99ecc392e8cf2930": {
            "model_module": "@jupyter-widgets/controls",
            "model_module_version": "2.0.0",
            "model_name": "IntTextModel",
            "state": {
              "description": "Max count",
              "layout": "IPY_MODEL_0e3728bb7e354ca5afcdc4af57375476",
              "step": 1,
              "style": "IPY_MODEL_6eb81c7187164ef4ab6f0e06b42b65ab"
            }
          },
          "34dbdff2020b4d75bc0b2efd85f97d18": {
            "model_module": "@jupyter-widgets/controls",
            "model_module_version": "2.0.0",
            "model_name": "TextStyleModel",
            "state": {
              "description_width": "",
              "font_size": null,
              "text_color": null
            }
          },
          "d49d42afa91b4c17996d8ea22b73cb37": {
            "model_module": "@jupyter-widgets/controls",
            "model_module_version": "2.0.0",
            "model_name": "IntTextModel",
            "state": {
              "description": "Skip rows",
              "layout": "IPY_MODEL_4919c53daa074aabbe374c63af9f7c60",
              "step": 1,
              "style": "IPY_MODEL_dc72785907444c128a5213aa8fed1d15"
            }
          },
          "5b2c0738e1674fc48cf5ab54e779fa1e": {
            "model_module": "@jupyter-widgets/controls",
            "model_module_version": "2.0.0",
            "model_name": "TextModel",
            "state": {
              "description": "Customer ID: ",
              "layout": "IPY_MODEL_0de95b12819b4ceca97b936fb23eae89",
              "style": "IPY_MODEL_af73a24af6a44421a0d7e17143f5e266"
            }
          },
          "89e5d9625ce14ed6b170227d8a2afa3c": {
            "model_module": "@jupyter-widgets/controls",
            "model_module_version": "2.0.0",
            "model_name": "IntTextModel",
            "state": {
              "description": "Skip rows",
              "layout": "IPY_MODEL_caa7b1b700fa4c309d309cb5037077c0",
              "step": 1,
              "style": "IPY_MODEL_0da4cfed988942c6aef1962485a2a1f1"
            }
          },
          "5989225faca94eef9dd53e50e7555054": {
            "model_module": "@jupyter-widgets/controls",
            "model_module_version": "2.0.0",
            "model_name": "DescriptionStyleModel",
            "state": {
              "description_width": ""
            }
          },
          "68aad2f06acf471e9dd8f03e56460f04": {
            "model_module": "@jupyter-widgets/base",
            "model_module_version": "2.0.0",
            "model_name": "LayoutModel",
            "state": {}
          },
          "402ece9f10094dada74d1796e70c2e30": {
            "model_module": "@jupyter-widgets/base",
            "model_module_version": "2.0.0",
            "model_name": "LayoutModel",
            "state": {}
          },
          "0b63fb93630345f4b0032554377c1d8e": {
            "model_module": "@jupyter-widgets/controls",
            "model_module_version": "2.0.0",
            "model_name": "TextStyleModel",
            "state": {
              "description_width": "",
              "font_size": null,
              "text_color": null
            }
          },
          "1287179dbbc54e42badd2bfc0b5fa689": {
            "model_module": "@jupyter-widgets/controls",
            "model_module_version": "2.0.0",
            "model_name": "FloatProgressModel",
            "state": {
              "bar_style": "success",
              "layout": "IPY_MODEL_ddb240939bf341a290f215bf5acf0cab",
              "max": 199,
              "style": "IPY_MODEL_3a1e446653e94b95a23b682e53832b23",
              "value": 199
            }
          },
          "ad94810633dd47d79b5d8814f45c666c": {
            "model_module": "@jupyter-widgets/base",
            "model_module_version": "2.0.0",
            "model_name": "LayoutModel",
            "state": {}
          },
          "157d1901999c40f9a4a6b6ca4a1bbb5a": {
            "model_module": "@jupyter-widgets/base",
            "model_module_version": "2.0.0",
            "model_name": "LayoutModel",
            "state": {}
          },
          "1f909f4e28ea4182b73dc889b6ca838c": {
            "model_module": "@jupyter-widgets/controls",
            "model_module_version": "2.0.0",
            "model_name": "HBoxModel",
            "state": {
              "children": [
                "IPY_MODEL_8dbab5323a6b4a5aa6b212b5c5ce5de3",
                "IPY_MODEL_b04fa8fcaa1242c690ec0daa75a42dfa",
                "IPY_MODEL_a4aec1d3a8b54b9b9817d17739c4b166"
              ],
              "layout": "IPY_MODEL_936e43fe299c47638c2ac7a7ce501e25"
            }
          },
          "85c6c844cab04d67b9560f725eca2055": {
            "model_module": "@jupyter-widgets/controls",
            "model_module_version": "2.0.0",
            "model_name": "ButtonModel",
            "state": {
              "description": "Start export",
              "layout": "IPY_MODEL_f702b31b84914f4ba3ecb36675ceedc2",
              "style": "IPY_MODEL_cd4585fc89754e91b0198b6e42ed8bdd",
              "tooltip": null
            }
          },
          "f9d39f6cf783441ba1323fa906ba9d0d": {
            "model_module": "@jupyter-widgets/controls",
            "model_module_version": "2.0.0",
            "model_name": "TextStyleModel",
            "state": {
              "description_width": "",
              "font_size": null,
              "text_color": null
            }
          },
          "bea938ed79274740a7d2146ce41d9423": {
            "model_module": "@jupyter-widgets/base",
            "model_module_version": "2.0.0",
            "model_name": "LayoutModel",
            "state": {}
          },
          "d1d18efd4d8942dd859577b243438345": {
            "model_module": "@jupyter-widgets/controls",
            "model_module_version": "2.0.0",
            "model_name": "FloatTextModel",
            "state": {
              "description": "Speed",
              "layout": "IPY_MODEL_b50e2a4317b3490793fb1b12457146a4",
              "step": 0.1,
              "style": "IPY_MODEL_0f45a2e9945a4653b009faab12b58d1a",
              "value": 1
            }
          },
          "dbd494909c254f7098c04cd2e8bc0079": {
            "model_module": "@jupyter-widgets/controls",
            "model_module_version": "2.0.0",
            "model_name": "IntTextModel",
            "state": {
              "description": "Skip rows",
              "layout": "IPY_MODEL_88a66acb6ff1409ba97a0f435e42d864",
              "step": 1,
              "style": "IPY_MODEL_8101421f2d1b45ca897f64d20407f630"
            }
          },
          "75bab21e8d504c7c8625b22cd13db303": {
            "model_module": "@jupyter-widgets/controls",
            "model_module_version": "2.0.0",
            "model_name": "TextStyleModel",
            "state": {
              "description_width": "",
              "font_size": null,
              "text_color": null
            }
          },
          "63771b15d71445318ec0392ba4cf40d2": {
            "model_module": "@jupyter-widgets/controls",
            "model_module_version": "2.0.0",
            "model_name": "CheckboxModel",
            "state": {
              "description": "Don't split in batches",
              "disabled": false,
              "layout": "IPY_MODEL_64ecbf81bf3048ebaf3fa2fc849964ed",
              "style": "IPY_MODEL_19f899cfe4d547c686f8ee4986fda2e9",
              "value": false
            }
          },
          "9f5872cb2ce84dc3b3475798f7396322": {
            "model_module": "@jupyter-widgets/base",
            "model_module_version": "2.0.0",
            "model_name": "LayoutModel",
            "state": {}
          },
          "94c21a708e7f46db81b128bfb1d19ff3": {
            "model_module": "@jupyter-widgets/controls",
            "model_module_version": "2.0.0",
            "model_name": "CheckboxModel",
            "state": {
              "description": "Allow overwrite",
              "disabled": false,
              "layout": "IPY_MODEL_dc82a0e6184b462887742fb988236865",
              "style": "IPY_MODEL_d806e66a89ee4c8690367cc9011ed99f",
              "value": false
            }
          },
          "5714548ca0274b5aad3fa588de9b3603": {
            "model_module": "@jupyter-widgets/controls",
            "model_module_version": "2.0.0",
            "model_name": "HBoxModel",
            "state": {
              "children": [
                "IPY_MODEL_d1d18efd4d8942dd859577b243438345",
                "IPY_MODEL_08c022d22b7b49dca67726863abfbfc5",
                "IPY_MODEL_90ed02bff2944e97932d75cdb422e011"
              ],
              "layout": "IPY_MODEL_8c41759ff03e474586a2ae0c5a0d606a"
            }
          },
          "bc0a2e838ef54f288646c0175e7f3c45": {
            "model_module": "@jupyter-widgets/controls",
            "model_module_version": "2.0.0",
            "model_name": "ButtonStyleModel",
            "state": {
              "font_family": null,
              "font_size": null,
              "font_style": null,
              "font_variant": null,
              "font_weight": null,
              "text_color": null,
              "text_decoration": null
            }
          },
          "7b9e91a5007440ff8772865ce25071b5": {
            "model_module": "@jupyter-widgets/controls",
            "model_module_version": "2.0.0",
            "model_name": "CheckboxModel",
            "state": {
              "description": "Allow overwrite",
              "disabled": false,
              "layout": "IPY_MODEL_5aac3e8939ad4d02867c3b7591a9d3af",
              "style": "IPY_MODEL_48fbe42559ef4b84a37f58c7a3b2a1fa",
              "value": false
            }
          },
          "fb134811eec74f36b68b2640de55df8c": {
            "model_module": "@jupyter-widgets/controls",
            "model_module_version": "2.0.0",
            "model_name": "TextModel",
            "state": {
              "description": "Input Path",
              "layout": "IPY_MODEL_06192f75ce744386928354478bbf5ef4",
              "style": "IPY_MODEL_6095c7f800744dd4bbd73732469e1fe3",
              "tooltip": "Path to PDF directory"
            }
          },
          "18e7f36df2164552a5e7303fe2d4b1e7": {
            "model_module": "@jupyter-widgets/base",
            "model_module_version": "2.0.0",
            "model_name": "LayoutModel",
            "state": {
              "width": "90%"
            }
          },
          "a66e38f4efb2433a841e2ed15b0003ce": {
            "model_module": "@jupyter-widgets/controls",
            "model_module_version": "2.0.0",
            "model_name": "CheckboxModel",
            "state": {
              "description": "Allow overwrite",
              "disabled": false,
              "layout": "IPY_MODEL_2b8675067c384fd0892ab0da88a056a8",
              "style": "IPY_MODEL_8c2a598359854d43a7a7799702615a7e",
              "value": false
            }
          },
          "570b46ee38e64ef69295f02858d981e9": {
            "model_module": "@jupyter-widgets/controls",
            "model_module_version": "2.0.0",
            "model_name": "DescriptionStyleModel",
            "state": {
              "description_width": ""
            }
          },
          "4324c847676a484495c996023d54bb6c": {
            "model_module": "@jupyter-widgets/controls",
            "model_module_version": "2.0.0",
            "model_name": "ButtonStyleModel",
            "state": {
              "font_family": null,
              "font_size": null,
              "font_style": null,
              "font_variant": null,
              "font_weight": null,
              "text_color": null,
              "text_decoration": null
            }
          },
          "5c185275d5f9486caebfee641bc1a0fd": {
            "model_module": "@jupyter-widgets/base",
            "model_module_version": "2.0.0",
            "model_name": "LayoutModel",
            "state": {}
          },
          "5e10f7eae08543b99efa9572b1a38e5f": {
            "model_module": "@jupyter-widgets/controls",
            "model_module_version": "2.0.0",
            "model_name": "ButtonStyleModel",
            "state": {
              "font_family": null,
              "font_size": null,
              "font_style": null,
              "font_variant": null,
              "font_weight": null,
              "text_color": null,
              "text_decoration": null
            }
          },
          "84138cfe4155449f8bc6d13553ccde71": {
            "model_module": "@jupyter-widgets/base",
            "model_module_version": "2.0.0",
            "model_name": "LayoutModel",
            "state": {}
          },
          "574f16281bb345e8ab636b4ae5b9d82b": {
            "model_module": "@jupyter-widgets/controls",
            "model_module_version": "2.0.0",
            "model_name": "ButtonModel",
            "state": {
              "description": "Start export",
              "layout": "IPY_MODEL_339e04348d3f4bd7aba3f64e72a1bf74",
              "style": "IPY_MODEL_0d141af37e9544d69c2b7ff1f1d6638b",
              "tooltip": null
            }
          },
          "b8a679845ef6457cbdf365515724e833": {
            "model_module": "@jupyter-widgets/base",
            "model_module_version": "2.0.0",
            "model_name": "LayoutModel",
            "state": {}
          },
          "a1a6a068eac3462caf3dab10ee4df8f0": {
            "model_module": "@jupyter-widgets/controls",
            "model_module_version": "2.0.0",
            "model_name": "DescriptionStyleModel",
            "state": {
              "description_width": ""
            }
          },
          "e761bb8ebf474ec79e3575516a105e5d": {
            "model_module": "@jupyter-widgets/base",
            "model_module_version": "2.0.0",
            "model_name": "LayoutModel",
            "state": {
              "width": "40%"
            }
          },
          "47754a0c69ab474cab8aed38b05f2b14": {
            "model_module": "@jupyter-widgets/controls",
            "model_module_version": "2.0.0",
            "model_name": "TextStyleModel",
            "state": {
              "description_width": "",
              "font_size": null,
              "text_color": null
            }
          },
          "ad85cb47fcd24a75b499291b0a483795": {
            "model_module": "@jupyter-widgets/controls",
            "model_module_version": "2.0.0",
            "model_name": "TextStyleModel",
            "state": {
              "description_width": "",
              "font_size": null,
              "text_color": null
            }
          },
          "cd3470fbdc1e448e8aa7be028d7748f2": {
            "model_module": "@jupyter-widgets/base",
            "model_module_version": "2.0.0",
            "model_name": "LayoutModel",
            "state": {}
          },
          "8d90529f8f724be2abd5990b5887c7e1": {
            "model_module": "@jupyter-widgets/base",
            "model_module_version": "2.0.0",
            "model_name": "LayoutModel",
            "state": {
              "width": "40%"
            }
          },
          "e46236214a8a4961b68af7adfeaa806b": {
            "model_module": "@jupyter-widgets/base",
            "model_module_version": "2.0.0",
            "model_name": "LayoutModel",
            "state": {
              "width": "90%"
            }
          },
          "473f490556314fdf8b281147b675ff32": {
            "model_module": "@jupyter-widgets/controls",
            "model_module_version": "2.0.0",
            "model_name": "TextStyleModel",
            "state": {
              "description_width": "",
              "font_size": null,
              "text_color": null
            }
          },
          "bf681c424ca74967853ed0914dc20c2c": {
            "model_module": "@jupyter-widgets/controls",
            "model_module_version": "2.0.0",
            "model_name": "DescriptionStyleModel",
            "state": {
              "description_width": ""
            }
          },
          "ef4121604f7345d6a672ce7186f3cf16": {
            "model_module": "@jupyter-widgets/base",
            "model_module_version": "2.0.0",
            "model_name": "LayoutModel",
            "state": {}
          },
          "714639dac6a14772a65e2c7463ae1da1": {
            "model_module": "@jupyter-widgets/controls",
            "model_module_version": "2.0.0",
            "model_name": "IntTextModel",
            "state": {
              "description": "Skip rows",
              "layout": "IPY_MODEL_76e57f0c230143148c7fa8a21f4173a6",
              "step": 1,
              "style": "IPY_MODEL_5de6aa708c024db4ae28cdbd1cc56c0e"
            }
          },
          "2379172527934230a5cd08cbaf8c0115": {
            "model_module": "@jupyter-widgets/controls",
            "model_module_version": "2.0.0",
            "model_name": "TextStyleModel",
            "state": {
              "description_width": "",
              "font_size": null,
              "text_color": null
            }
          },
          "40eecf6898174ad4b26e4cf619cb5c01": {
            "model_module": "@jupyter-widgets/base",
            "model_module_version": "2.0.0",
            "model_name": "LayoutModel",
            "state": {}
          },
          "3081141f102540778db70d0682bbaf0a": {
            "model_module": "@jupyter-widgets/base",
            "model_module_version": "2.0.0",
            "model_name": "LayoutModel",
            "state": {
              "width": "40%"
            }
          },
          "f437b6233520426aa78f700f58cf4a67": {
            "model_module": "@jupyter-widgets/controls",
            "model_module_version": "2.0.0",
            "model_name": "TextModel",
            "state": {
              "description": "Input Path",
              "layout": "IPY_MODEL_970b0cffb9124eeda952fd1c710d2304",
              "style": "IPY_MODEL_e797dbeb0edc4efb9b9c6a24e873a6f5",
              "tooltip": "Path to PDF directory"
            }
          },
          "69de8ae8c7594b53a63d4d88d7e05ca2": {
            "model_module": "@jupyter-widgets/controls",
            "model_module_version": "2.0.0",
            "model_name": "TextStyleModel",
            "state": {
              "description_width": "",
              "font_size": null,
              "text_color": null
            }
          },
          "6ea36e724e614924af620554f8059bc7": {
            "model_module": "@jupyter-widgets/controls",
            "model_module_version": "2.0.0",
            "model_name": "DescriptionStyleModel",
            "state": {
              "description_width": ""
            }
          },
          "acb4b551d5eb42d4b0700f7bd70e0734": {
            "model_module": "@jupyter-widgets/controls",
            "model_module_version": "2.0.0",
            "model_name": "PasswordModel",
            "state": {
              "description": "Password: ",
              "layout": "IPY_MODEL_967cb5de32f54fc4b4f9ee8e791dec00",
              "style": "IPY_MODEL_c52ca5cf0b7d463f90d2fa477e4dfee2"
            }
          },
          "efeda989378c47cc8a86f51cd708ebf2": {
            "model_module": "@jupyter-widgets/controls",
            "model_module_version": "2.0.0",
            "model_name": "ButtonModel",
            "state": {
              "description": "Start export",
              "layout": "IPY_MODEL_379ac2694c544bfbbabdc409f0e2c7f3",
              "style": "IPY_MODEL_ccc94669279b49aa9855503d66b1ec9b",
              "tooltip": null
            }
          },
          "d849a2c0ca9140f4a3c7b6187c12ae6d": {
            "model_module": "@jupyter-widgets/base",
            "model_module_version": "2.0.0",
            "model_name": "LayoutModel",
            "state": {
              "width": "90%"
            }
          },
          "d7076a008f3f4379a8e76ad06268d677": {
            "model_module": "@jupyter-widgets/controls",
            "model_module_version": "2.0.0",
            "model_name": "IntTextModel",
            "state": {
              "description": "Skip rows",
              "layout": "IPY_MODEL_98eba11d4b5a462fb34a69f00e5759b3",
              "step": 1,
              "style": "IPY_MODEL_9421fd6d702640e3a852e6779233d3bb"
            }
          },
          "3b6bcbc74f1840ed868d9a3df47922cf": {
            "model_module": "@jupyter-widgets/controls",
            "model_module_version": "2.0.0",
            "model_name": "IntTextModel",
            "state": {
              "description": "Max rows",
              "layout": "IPY_MODEL_01322ffc8ff547879c8b46f2ca8800d8",
              "step": 1,
              "style": "IPY_MODEL_ff18a2989d184571933b25cae3796b03"
            }
          },
          "d4a7f3a278c5494cafd6a76951bc1331": {
            "model_module": "@jupyter-widgets/base",
            "model_module_version": "2.0.0",
            "model_name": "LayoutModel",
            "state": {}
          },
          "20a5f9266aef45f38420ad15ccb65f6e": {
            "model_module": "@jupyter-widgets/base",
            "model_module_version": "2.0.0",
            "model_name": "LayoutModel",
            "state": {
              "width": "40%"
            }
          },
          "abc8cb2908bd4911a4e60f62b062548f": {
            "model_module": "@jupyter-widgets/controls",
            "model_module_version": "2.0.0",
            "model_name": "FloatTextModel",
            "state": {
              "description": "Speed",
              "layout": "IPY_MODEL_811ca5e412744d96a7d0fddfeb6a85a9",
              "step": 0.1,
              "style": "IPY_MODEL_bf681c424ca74967853ed0914dc20c2c",
              "value": 1
            }
          },
          "c2ce002117524e71886c26f265af9354": {
            "model_module": "@jupyter-widgets/controls",
            "model_module_version": "2.0.0",
            "model_name": "TextModel",
            "state": {
              "description": "Output Path:",
              "layout": "IPY_MODEL_fc90c8b4143441009c034aff9b829a01",
              "style": "IPY_MODEL_4190e1e3a6fb46878087634f4eb791db"
            }
          },
          "f702b31b84914f4ba3ecb36675ceedc2": {
            "model_module": "@jupyter-widgets/base",
            "model_module_version": "2.0.0",
            "model_name": "LayoutModel",
            "state": {}
          },
          "22fb39ea74d644ec83b77d0654c19f3c": {
            "model_module": "@jupyter-widgets/controls",
            "model_module_version": "2.0.0",
            "model_name": "TextStyleModel",
            "state": {
              "description_width": "",
              "font_size": null,
              "text_color": null
            }
          },
          "aabd511500184fc9b18d886e9519f1c1": {
            "model_module": "@jupyter-widgets/base",
            "model_module_version": "2.0.0",
            "model_name": "LayoutModel",
            "state": {}
          },
          "e882633add1a43328458c9baa296f149": {
            "model_module": "@jupyter-widgets/controls",
            "model_module_version": "2.0.0",
            "model_name": "CheckboxModel",
            "state": {
              "description": "ZIP export (must be .json, .csv)",
              "disabled": false,
              "layout": "IPY_MODEL_a761ef1c2d724f92bd7423eca164d7ba",
              "style": "IPY_MODEL_57d619ae6a9c4cb58011e2506da52cf6",
              "value": false
            }
          },
          "2e7856f3e3964a47b37ad79e25ac1b7b": {
            "model_module": "@jupyter-widgets/base",
            "model_module_version": "2.0.0",
            "model_name": "LayoutModel",
            "state": {}
          },
          "116309353e334a4c97cf7803ea2d46c0": {
            "model_module": "@jupyter-widgets/base",
            "model_module_version": "2.0.0",
            "model_name": "LayoutModel",
            "state": {
              "width": "90%"
            }
          },
          "f63b897a6a0545588f87425c8c603670": {
            "model_module": "@jupyter-widgets/controls",
            "model_module_version": "2.0.0",
            "model_name": "TextStyleModel",
            "state": {
              "description_width": "",
              "font_size": null,
              "text_color": null
            }
          },
          "e50f09006af24777a65403b50ab7bbdc": {
            "model_module": "@jupyter-widgets/controls",
            "model_module_version": "2.0.0",
            "model_name": "DescriptionStyleModel",
            "state": {
              "description_width": ""
            }
          },
          "1fe5bb9ffb6d411eb26d5b4b827bcf8b": {
            "model_module": "@jupyter-widgets/controls",
            "model_module_version": "2.0.0",
            "model_name": "TextModel",
            "state": {
              "description": "Input Path",
              "layout": "IPY_MODEL_f1643defe85f4fb7917d017ca6cfc6de",
              "style": "IPY_MODEL_c45bfe574a7a4010938f912ee83d8808",
              "tooltip": "Path to input directory or archive"
            }
          },
          "29343d7cb0244303ad47ba458fa382ab": {
            "model_module": "@jupyter-widgets/controls",
            "model_module_version": "2.0.0",
            "model_name": "HBoxModel",
            "state": {
              "children": [
                "IPY_MODEL_8e1ae45b7d184c5fbcdb67bc341c9262",
                "IPY_MODEL_f5ea236ea1cf414ca523f983047dbe02",
                "IPY_MODEL_e6b91a71a24b499fb6968d1d8687491d"
              ],
              "layout": "IPY_MODEL_78b5aaee746045d19c0cf5def6af8513"
            }
          },
          "825cc112cdc546a1947ec0155451f096": {
            "model_module": "@jupyter-widgets/base",
            "model_module_version": "2.0.0",
            "model_name": "LayoutModel",
            "state": {
              "width": "90%"
            }
          },
          "d21f2778a3c2412c9193bcecb3190e34": {
            "model_module": "@jupyter-widgets/controls",
            "model_module_version": "2.0.0",
            "model_name": "TextStyleModel",
            "state": {
              "description_width": "",
              "font_size": null,
              "text_color": null
            }
          },
          "1037aa1ed74341669f486c9d875f4690": {
            "model_module": "@jupyter-widgets/controls",
            "model_module_version": "2.0.0",
            "model_name": "CheckboxModel",
            "state": {
              "description": "Remove duplicates",
              "disabled": false,
              "layout": "IPY_MODEL_d889ef1eec014d1bb0bb6eded9128767",
              "style": "IPY_MODEL_c990a6a257984492b1a680d3a0fe9b73",
              "value": false
            }
          },
          "721a1158df31469d8a44af8a0e7bbe14": {
            "model_module": "@jupyter-widgets/controls",
            "model_module_version": "2.0.0",
            "model_name": "ButtonModel",
            "state": {
              "description": "Start archiving",
              "layout": "IPY_MODEL_dcc9d04b64ee41a3a81f1c56f2bc1259",
              "style": "IPY_MODEL_a7b776fddfe740bba2710c33055f85e2",
              "tooltip": null
            }
          },
          "a19d7558b40a492fabf8364e4198e6e1": {
            "model_module": "@jupyter-widgets/controls",
            "model_module_version": "2.0.0",
            "model_name": "TextStyleModel",
            "state": {
              "description_width": "",
              "font_size": null,
              "text_color": null
            }
          },
          "eae896750acc4c889762834f24e7bbc6": {
            "model_module": "@jupyter-widgets/base",
            "model_module_version": "2.0.0",
            "model_name": "LayoutModel",
            "state": {}
          },
          "b3727bfb412b4448b118051ac3dc80df": {
            "model_module": "@jupyter-widgets/controls",
            "model_module_version": "2.0.0",
            "model_name": "PasswordModel",
            "state": {
              "description": "Password: ",
              "layout": "IPY_MODEL_c1168c6dec874823a2a59d0387d89eae",
              "style": "IPY_MODEL_02a600b0e6074b318c01d417f114d3d0"
            }
          },
          "0cbcf498b4994f378a20be06682ac3ca": {
            "model_module": "@jupyter-widgets/controls",
            "model_module_version": "2.0.0",
            "model_name": "TextModel",
            "state": {
              "description": "Input Path:",
              "layout": "IPY_MODEL_912fca2e0b5c4fa48eb3a15cc0aabc77",
              "style": "IPY_MODEL_6d84d5c83b44420fb895ba906d51a76d",
              "tooltip": "Path to query template spreadsheet (list of names, etc. to search)"
            }
          },
          "e833b78286d64d3086db127791ed9aeb": {
            "model_module": "@jupyter-widgets/controls",
            "model_module_version": "2.0.0",
            "model_name": "TextStyleModel",
            "state": {
              "description_width": "",
              "font_size": null,
              "text_color": null
            }
          },
          "38aa52a5db8e49e4aeb2aff83b2b9596": {
            "model_module": "@jupyter-widgets/base",
            "model_module_version": "2.0.0",
            "model_name": "LayoutModel",
            "state": {}
          },
          "ae2faf3470d042b9a6e2054070f0d4f0": {
            "model_module": "@jupyter-widgets/controls",
            "model_module_version": "2.0.0",
            "model_name": "TextModel",
            "state": {
              "description": "Output Path",
              "layout": "IPY_MODEL_13b6386a72cd4b27b38cc2a4cae8e736",
              "style": "IPY_MODEL_16c785320c2d4491b5190db799535072"
            }
          },
          "32565111c7c44227aaa70bf0e725d342": {
            "model_module": "@jupyter-widgets/controls",
            "model_module_version": "2.0.0",
            "model_name": "TextModel",
            "state": {
              "description": "Input Path",
              "layout": "IPY_MODEL_adb8d5a485494889bcf66b0fd9396074",
              "style": "IPY_MODEL_63fb06f6a16545b180e0ed54c4d33219",
              "tooltip": "Path to input directory or archive"
            }
          },
          "650bdea2a87f43ce947245429d7cb31b": {
            "model_module": "@jupyter-widgets/controls",
            "model_module_version": "2.0.0",
            "model_name": "DescriptionStyleModel",
            "state": {
              "description_width": ""
            }
          },
          "aacc65699d0547cf94a883bef82c5909": {
            "model_module": "@jupyter-widgets/base",
            "model_module_version": "2.0.0",
            "model_name": "LayoutModel",
            "state": {}
          },
          "a8ea250fc4444df5b259f67c7453bd2a": {
            "model_module": "@jupyter-widgets/controls",
            "model_module_version": "2.0.0",
            "model_name": "CheckboxModel",
            "state": {
              "description": "Allow overwrite",
              "disabled": false,
              "layout": "IPY_MODEL_9e20326416c5435cbdbf6b1ef7bbc056",
              "style": "IPY_MODEL_64b47c782c674a8ca00c9d1ce936219d",
              "value": false
            }
          },
          "18cf5fa7ba50429aae2868c9793984ab": {
            "model_module": "@jupyter-widgets/controls",
            "model_module_version": "2.0.0",
            "model_name": "DropdownModel",
            "state": {
              "_options_labels": [
                "cases",
                "charges",
                "disposition",
                "filing",
                "fees"
              ],
              "description": "Table:",
              "index": 0,
              "layout": "IPY_MODEL_dc709346494e466abaad0c1bcbfabfec",
              "style": "IPY_MODEL_17711a49f5df40979d650174f6467824"
            }
          },
          "1b7b80d4c76e4096b7fb843a18251daa": {
            "model_module": "@jupyter-widgets/base",
            "model_module_version": "2.0.0",
            "model_name": "LayoutModel",
            "state": {}
          },
          "0fb32fd4855c4a76b34c99c084a2d28f": {
            "model_module": "@jupyter-widgets/controls",
            "model_module_version": "2.0.0",
            "model_name": "TextModel",
            "state": {
              "description": "Output Path",
              "layout": "IPY_MODEL_0f6df893186c49cba94dfa210e09b8c1",
              "style": "IPY_MODEL_aa02b9b8e0e14ed287242e83be8d92fe"
            }
          },
          "6fa4b8d77b8a4465b91d1149ab381698": {
            "model_module": "@jupyter-widgets/controls",
            "model_module_version": "2.0.0",
            "model_name": "TextModel",
            "state": {
              "description": "User ID: ",
              "layout": "IPY_MODEL_27976c16e4b94ebb8f44b3d65d3b9856",
              "style": "IPY_MODEL_97675ecbd20f47ed9bfe2b7a99559ddc"
            }
          },
          "1edcbb8791b04c20a7fb824dfd1c9adc": {
            "model_module": "@jupyter-widgets/controls",
            "model_module_version": "2.0.0",
            "model_name": "DescriptionStyleModel",
            "state": {
              "description_width": ""
            }
          },
          "7dec0addcc60429e94a5dd520f4628b0": {
            "model_module": "@jupyter-widgets/controls",
            "model_module_version": "2.0.0",
            "model_name": "ButtonStyleModel",
            "state": {
              "font_family": null,
              "font_size": null,
              "font_style": null,
              "font_variant": null,
              "font_weight": null,
              "text_color": null,
              "text_decoration": null
            }
          },
          "8a66513b1fbb48239597de148122464e": {
            "model_module": "@jupyter-widgets/controls",
            "model_module_version": "2.0.0",
            "model_name": "TextModel",
            "state": {
              "description": "Output Path",
              "layout": "IPY_MODEL_af0bcf26e1d0470a9a852d3a38ddec19",
              "style": "IPY_MODEL_ee5aea8d786149a8951707d46e1d8022"
            }
          },
          "96837d3c692c49d59922f128df285874": {
            "model_module": "@jupyter-widgets/controls",
            "model_module_version": "2.0.0",
            "model_name": "TextModel",
            "state": {
              "description": "Output Path",
              "layout": "IPY_MODEL_97a2dea13b5d4f65b4317fa03fdeba71",
              "style": "IPY_MODEL_130e253c26ef4abaaa78acbfa271281c"
            }
          },
          "98b4eca5d56a4160844663d4dc50d22a": {
            "model_module": "@jupyter-widgets/controls",
            "model_module_version": "2.0.0",
            "model_name": "ButtonModel",
            "state": {
              "description": "Start export",
              "layout": "IPY_MODEL_473ac157934942639a00489ad5ea7425",
              "style": "IPY_MODEL_4512c04855e64002a1a0975480297ec0",
              "tooltip": null
            }
          },
          "811ca5e412744d96a7d0fddfeb6a85a9": {
            "model_module": "@jupyter-widgets/base",
            "model_module_version": "2.0.0",
            "model_name": "LayoutModel",
            "state": {
              "width": "40%"
            }
          },
          "4512c04855e64002a1a0975480297ec0": {
            "model_module": "@jupyter-widgets/controls",
            "model_module_version": "2.0.0",
            "model_name": "ButtonStyleModel",
            "state": {
              "font_family": null,
              "font_size": null,
              "font_style": null,
              "font_variant": null,
              "font_weight": null,
              "text_color": null,
              "text_decoration": null
            }
          },
          "8d63aae116b34688999e5d43bf62d3df": {
            "model_module": "@jupyter-widgets/controls",
            "model_module_version": "2.0.0",
            "model_name": "TextModel",
            "state": {
              "description": "Output Path",
              "layout": "IPY_MODEL_333c1867fbe042aa88adc0af1c59d53b",
              "style": "IPY_MODEL_bf188f2d55a24e03980d629127a04399"
            }
          },
          "115f62057df34876b48cc9aa88d3d6d9": {
            "model_module": "@jupyter-widgets/controls",
            "model_module_version": "2.0.0",
            "model_name": "ButtonModel",
            "state": {
              "description": "Login",
              "layout": "IPY_MODEL_2fd46088cea24508aa2bf56fb4909833",
              "style": "IPY_MODEL_eb95b9bc882748edbc095011da901253",
              "tooltip": null
            }
          },
          "d7f6394a6294483b90efcf0d1ab1b381": {
            "model_module": "@jupyter-widgets/base",
            "model_module_version": "2.0.0",
            "model_name": "LayoutModel",
            "state": {
              "width": "90%"
            }
          },
          "c484fe09baf34c138961d2eb54156a0a": {
            "model_module": "@jupyter-widgets/controls",
            "model_module_version": "2.0.0",
            "model_name": "ButtonStyleModel",
            "state": {
              "font_family": null,
              "font_size": null,
              "font_style": null,
              "font_variant": null,
              "font_weight": null,
              "text_color": null,
              "text_decoration": null
            }
          },
          "f3f69b9fce504636965531038b7155bc": {
            "model_module": "@jupyter-widgets/controls",
            "model_module_version": "2.0.0",
            "model_name": "CheckboxModel",
            "state": {
              "description": "Don't split in batches",
              "disabled": false,
              "layout": "IPY_MODEL_fa50c28c01aa4ed189789932cbe461c7",
              "style": "IPY_MODEL_9860d8d0e10c4c06aaa9598e3f8d8e19",
              "value": false
            }
          },
          "422fe19b067340b0930673903525acf1": {
            "model_module": "@jupyter-widgets/controls",
            "model_module_version": "2.0.0",
            "model_name": "CheckboxModel",
            "state": {
              "description": "Allow overwrite",
              "disabled": false,
              "layout": "IPY_MODEL_8e002b1eb82a464b93ca809d5ade7475",
              "style": "IPY_MODEL_27eb0864ac304b3da307e4d293bbc214",
              "value": false
            }
          },
          "c09724a9a8b2427badbee17751fcd1f1": {
            "model_module": "@jupyter-widgets/controls",
            "model_module_version": "2.0.0",
            "model_name": "PasswordModel",
            "state": {
              "description": "Password: ",
              "layout": "IPY_MODEL_266a0faf6b594b1788725b332956d5c0",
              "style": "IPY_MODEL_3e584070b8db483f9f66ffdc711828a3"
            }
          },
          "db3da68122df48638d8a53155faac564": {
            "model_module": "@jupyter-widgets/controls",
            "model_module_version": "2.0.0",
            "model_name": "PasswordModel",
            "state": {
              "description": "Password: ",
              "layout": "IPY_MODEL_cd3470fbdc1e448e8aa7be028d7748f2",
              "style": "IPY_MODEL_fbea3c55b0ba425eab9ed851770f5562"
            }
          },
          "c52a6a4a12ef4b6fa9dcd5aaf3aacd9b": {
            "model_module": "@jupyter-widgets/controls",
            "model_module_version": "2.0.0",
            "model_name": "TextStyleModel",
            "state": {
              "description_width": "",
              "font_size": null,
              "text_color": null
            }
          },
          "f5dd368f54d04fe08ed7cf8258777a17": {
            "model_module": "@jupyter-widgets/controls",
            "model_module_version": "2.0.0",
            "model_name": "DescriptionStyleModel",
            "state": {
              "description_width": ""
            }
          },
          "a7a0871c26884ec0bd5d082b5e5d8bb0": {
            "model_module": "@jupyter-widgets/controls",
            "model_module_version": "2.0.0",
            "model_name": "IntTextModel",
            "state": {
              "description": "Set max count",
              "layout": "IPY_MODEL_d7f6394a6294483b90efcf0d1ab1b381",
              "step": 1,
              "style": "IPY_MODEL_5ca39b72d3c246ceb63d5ee1b0688a67"
            }
          },
          "6d73a362e0db47969ecf8fdeb139ec17": {
            "model_module": "@jupyter-widgets/base",
            "model_module_version": "2.0.0",
            "model_name": "LayoutModel",
            "state": {
              "width": "95%"
            }
          },
          "60434988df41443393d4f2698c516221": {
            "model_module": "@jupyter-widgets/controls",
            "model_module_version": "2.0.0",
            "model_name": "TextModel",
            "state": {
              "description": "Output Path",
              "layout": "IPY_MODEL_793b7d429ea04307ae3ac369d1e05e2b",
              "style": "IPY_MODEL_a726a13055e54e56ba9a74b11dcb4125"
            }
          },
          "b2f57de7717e45a8a01cddb053f16da5": {
            "model_module": "@jupyter-widgets/controls",
            "model_module_version": "2.0.0",
            "model_name": "HBoxModel",
            "state": {
              "children": [
                "IPY_MODEL_713e6dee9fe24762934d3b5c823e762b",
                "IPY_MODEL_f3f69b9fce504636965531038b7155bc"
              ],
              "layout": "IPY_MODEL_e0b0082991f949d598e35dc28dcad422"
            }
          },
          "b0af558eb7054edcbbe00cccb7491d36": {
            "model_module": "@jupyter-widgets/base",
            "model_module_version": "2.0.0",
            "model_name": "LayoutModel",
            "state": {}
          },
          "f92d2ede2db845aab711a4e8cfb088f0": {
            "model_module": "@jupyter-widgets/controls",
            "model_module_version": "2.0.0",
            "model_name": "DescriptionStyleModel",
            "state": {
              "description_width": ""
            }
          },
          "9e0679ab5edb4ab2a68284a1045bfbe5": {
            "model_module": "@jupyter-widgets/controls",
            "model_module_version": "2.0.0",
            "model_name": "HBoxModel",
            "state": {
              "children": [
                "IPY_MODEL_e30b3c8d13f1436ca4c0b923b3314cc1",
                "IPY_MODEL_d49d42afa91b4c17996d8ea22b73cb37",
                "IPY_MODEL_2f293017e3184e9896c4ef086be9ae85"
              ],
              "layout": "IPY_MODEL_be3bb19393614b9dbb412c84cba4a3b0"
            }
          },
          "acd03ea0bcde4b5594a3d1b365e037cc": {
            "model_module": "@jupyter-widgets/controls",
            "model_module_version": "2.0.0",
            "model_name": "HTMLModel",
            "state": {
              "layout": "IPY_MODEL_ec78168be5544cfcbf9a1409c55c31ba",
              "style": "IPY_MODEL_0d7112a939c54b75a214f9005eaddd3a",
              "value": " 999/999 [00:23&lt;00:00, 44.06it/s]"
            }
          },
          "8fce52c8bd5d40f789444bc0ad995053": {
            "model_module": "@jupyter-widgets/controls",
            "model_module_version": "2.0.0",
            "model_name": "ButtonStyleModel",
            "state": {
              "font_family": null,
              "font_size": null,
              "font_style": null,
              "font_variant": null,
              "font_weight": null,
              "text_color": null,
              "text_decoration": null
            }
          },
          "72afd9b1d51a44348a0082bb1a8874ac": {
            "model_module": "@jupyter-widgets/controls",
            "model_module_version": "2.0.0",
            "model_name": "ButtonModel",
            "state": {
              "description": "Read more",
              "layout": "IPY_MODEL_2eff9341c70b4ad090ba79a912dcef96",
              "style": "IPY_MODEL_296c261fb44845de86a5527f6b4601c8",
              "tooltip": null
            }
          },
          "de32ae6bbbe041bda59bdcb7e9812d4b": {
            "model_module": "@jupyter-widgets/controls",
            "model_module_version": "2.0.0",
            "model_name": "ButtonStyleModel",
            "state": {
              "font_family": null,
              "font_size": null,
              "font_style": null,
              "font_variant": null,
              "font_weight": null,
              "text_color": null,
              "text_decoration": null
            }
          },
          "308ec72511cc499d9ccd055d214b3295": {
            "model_module": "@jupyter-widgets/base",
            "model_module_version": "2.0.0",
            "model_name": "LayoutModel",
            "state": {
              "width": "95%"
            }
          },
          "e894b6ff9b794d14b2470115af9112ce": {
            "model_module": "@jupyter-widgets/controls",
            "model_module_version": "2.0.0",
            "model_name": "CheckboxStyleModel",
            "state": {
              "description_width": ""
            }
          },
          "1b0ff0b675e34fee840d510051ffedc1": {
            "model_module": "@jupyter-widgets/controls",
            "model_module_version": "2.0.0",
            "model_name": "HBoxModel",
            "state": {
              "children": [
                "IPY_MODEL_b411333e00494956a0bf166d931f160f",
                "IPY_MODEL_82e2f2016e094f0483f951e499509396"
              ],
              "layout": "IPY_MODEL_47ec4c73f64e4bfdbb1762d5c02ad899"
            }
          },
          "626bb6bdedbb4b0996456f25c0d19df4": {
            "model_module": "@jupyter-widgets/base",
            "model_module_version": "2.0.0",
            "model_name": "LayoutModel",
            "state": {}
          },
          "2900bba3eb5742c09df28fa9c4548cfc": {
            "model_module": "@jupyter-widgets/controls",
            "model_module_version": "2.0.0",
            "model_name": "TextModel",
            "state": {
              "description": "User ID: ",
              "layout": "IPY_MODEL_1b223807d3d44647b28b442a920ab994",
              "style": "IPY_MODEL_0c4fd65e823a4340be78481884c93354"
            }
          },
          "dbb0092192604769b2d1ba86ba31bc2e": {
            "model_module": "@jupyter-widgets/controls",
            "model_module_version": "2.0.0",
            "model_name": "DescriptionStyleModel",
            "state": {
              "description_width": ""
            }
          },
          "4c0fc4d33630495bac11381a11ca9b25": {
            "model_module": "@jupyter-widgets/controls",
            "model_module_version": "2.0.0",
            "model_name": "CheckboxStyleModel",
            "state": {
              "description_width": ""
            }
          },
          "ddb240939bf341a290f215bf5acf0cab": {
            "model_module": "@jupyter-widgets/base",
            "model_module_version": "2.0.0",
            "model_name": "LayoutModel",
            "state": {}
          },
          "1a8ffd9a683a41adbc0dc84da59709f5": {
            "model_module": "@jupyter-widgets/controls",
            "model_module_version": "2.0.0",
            "model_name": "CheckboxModel",
            "state": {
              "description": "Remove duplicates",
              "disabled": false,
              "layout": "IPY_MODEL_9b291e18280e4ea1a611cebda9c9844f",
              "style": "IPY_MODEL_0e9ee504736546f9917e7a4cc16754e3",
              "value": false
            }
          },
          "78364966052c4d7398ceb6796a65427e": {
            "model_module": "@jupyter-widgets/controls",
            "model_module_version": "2.0.0",
            "model_name": "TextModel",
            "state": {
              "description": "Output Path",
              "layout": "IPY_MODEL_53a3f9882c9643649e40f3ea26d39f97",
              "style": "IPY_MODEL_20bb54c99b9d4ff3a1802c6b6a781e7b"
            }
          },
          "b1ba003b4763471fa183d159ed7e5484": {
            "model_module": "@jupyter-widgets/controls",
            "model_module_version": "2.0.0",
            "model_name": "DescriptionStyleModel",
            "state": {
              "description_width": ""
            }
          },
          "bd06a48176df4c89932dfbcf4c27e934": {
            "model_module": "@jupyter-widgets/base",
            "model_module_version": "2.0.0",
            "model_name": "LayoutModel",
            "state": {
              "width": "95%"
            }
          },
          "41383f034df04a91ae2ae8cb1ea847d3": {
            "model_module": "@jupyter-widgets/base",
            "model_module_version": "2.0.0",
            "model_name": "LayoutModel",
            "state": {
              "width": "95%"
            }
          },
          "dc709346494e466abaad0c1bcbfabfec": {
            "model_module": "@jupyter-widgets/base",
            "model_module_version": "2.0.0",
            "model_name": "LayoutModel",
            "state": {}
          },
          "d4239401fc8f4a8ea8b9a456ee1674ad": {
            "model_module": "@jupyter-widgets/controls",
            "model_module_version": "2.0.0",
            "model_name": "IntTextModel",
            "state": {
              "description": "Skip rows",
              "layout": "IPY_MODEL_691323e5780a44bf8e80c069a0a1b11a",
              "step": 1,
              "style": "IPY_MODEL_09675081a3ad4797a7095c6094dc10e9"
            }
          },
          "9095c213ac544cf18d9a913d456cd2de": {
            "model_module": "@jupyter-widgets/controls",
            "model_module_version": "2.0.0",
            "model_name": "FloatTextModel",
            "state": {
              "description": "Speed",
              "layout": "IPY_MODEL_5de814cfd7f3419c8ad192c32d74ccad",
              "step": 0.1,
              "style": "IPY_MODEL_42eae4a3bc6740b08e829ed11f0fe63a",
              "value": 1
            }
          },
          "410572dd5d0e456998ad990015e047ff": {
            "model_module": "@jupyter-widgets/base",
            "model_module_version": "2.0.0",
            "model_name": "LayoutModel",
            "state": {
              "width": "90%"
            }
          },
          "dee34befa2214a14856bd8e0848264fe": {
            "model_module": "@jupyter-widgets/base",
            "model_module_version": "2.0.0",
            "model_name": "LayoutModel",
            "state": {
              "width": "95%"
            }
          },
          "93f7568b6e5a431e952073b10197cf3a": {
            "model_module": "@jupyter-widgets/controls",
            "model_module_version": "2.0.0",
            "model_name": "TextStyleModel",
            "state": {
              "description_width": "",
              "font_size": null,
              "text_color": null
            }
          },
          "fb6f2dbe2c174c32b9bf4faad3120fff": {
            "model_module": "@jupyter-widgets/base",
            "model_module_version": "2.0.0",
            "model_name": "LayoutModel",
            "state": {}
          },
          "474f336a15d8432f83799ac38394729a": {
            "model_module": "@jupyter-widgets/controls",
            "model_module_version": "2.0.0",
            "model_name": "CheckboxModel",
            "state": {
              "description": "Remove duplicates",
              "disabled": false,
              "layout": "IPY_MODEL_9005c3e48f7e46b9b58b63d084107964",
              "style": "IPY_MODEL_5235d4b0855142cdb8eec9139beafd68",
              "value": false
            }
          },
          "283ca0d5f0f4428d88ab510916ac6d06": {
            "model_module": "@jupyter-widgets/base",
            "model_module_version": "2.0.0",
            "model_name": "LayoutModel",
            "state": {
              "width": "90%"
            }
          },
          "a3fe2c0ed7cd4615beb786afc0c9f352": {
            "model_module": "@jupyter-widgets/controls",
            "model_module_version": "2.0.0",
            "model_name": "PasswordModel",
            "state": {
              "description": "Password: ",
              "layout": "IPY_MODEL_3f2bd72a20c34f89a086f7c85bbb423a",
              "style": "IPY_MODEL_08f1e9dcffa64346977205c728505a6f"
            }
          },
          "67ad3fa947e24f6993477c150973bce7": {
            "model_module": "@jupyter-widgets/controls",
            "model_module_version": "2.0.0",
            "model_name": "ButtonModel",
            "state": {
              "description": "Read more",
              "layout": "IPY_MODEL_f51e24b54e9549f895c15c8f20e35a9a",
              "style": "IPY_MODEL_f466bfe8e86b42a5a014a5e129b0388e",
              "tooltip": null
            }
          },
          "47b1edfb96de4df7a70e343248157375": {
            "model_module": "@jupyter-widgets/base",
            "model_module_version": "2.0.0",
            "model_name": "LayoutModel",
            "state": {}
          },
          "6c7bcf53fa464797af9b42f618282171": {
            "model_module": "@jupyter-widgets/base",
            "model_module_version": "2.0.0",
            "model_name": "LayoutModel",
            "state": {}
          },
          "bf58e12ccbd045a59349bbf6f286fb44": {
            "model_module": "@jupyter-widgets/controls",
            "model_module_version": "2.0.0",
            "model_name": "DescriptionStyleModel",
            "state": {
              "description_width": ""
            }
          },
          "13b6386a72cd4b27b38cc2a4cae8e736": {
            "model_module": "@jupyter-widgets/base",
            "model_module_version": "2.0.0",
            "model_name": "LayoutModel",
            "state": {
              "width": "95%"
            }
          },
          "d2f27d31c2d54da387c6cc96f6fe13a3": {
            "model_module": "@jupyter-widgets/controls",
            "model_module_version": "2.0.0",
            "model_name": "CheckboxModel",
            "state": {
              "description": "Allow overwrite",
              "disabled": false,
              "layout": "IPY_MODEL_bd4f0f3d7ee14011a81cf4780ce79ea6",
              "style": "IPY_MODEL_58afe38431884f5bba0c6a97b774c557",
              "value": true
            }
          },
          "97258e1e0edd4ba7a5b9ea73bcff8ee2": {
            "model_module": "@jupyter-widgets/base",
            "model_module_version": "2.0.0",
            "model_name": "LayoutModel",
            "state": {
              "width": "90%"
            }
          },
          "5e5626ffe1b844e488708da72b8a5972": {
            "model_module": "@jupyter-widgets/controls",
            "model_module_version": "2.0.0",
            "model_name": "DescriptionStyleModel",
            "state": {
              "description_width": ""
            }
          },
          "b6c96ec06b7e4f22bf9f4d902dfd2e8d": {
            "model_module": "@jupyter-widgets/controls",
            "model_module_version": "2.0.0",
            "model_name": "HBoxModel",
            "state": {
              "children": [
                "IPY_MODEL_b584e81aecd94dd0a27e55001ee6eedb",
                "IPY_MODEL_dbd494909c254f7098c04cd2e8bc0079",
                "IPY_MODEL_112faddbe55b4396a1736e447b6ba355"
              ],
              "layout": "IPY_MODEL_73c0dcdc1ed64a6692bc0198f6f17d6d"
            }
          },
          "e92c71701a694609a52a930ad6f8387c": {
            "model_module": "@jupyter-widgets/base",
            "model_module_version": "2.0.0",
            "model_name": "LayoutModel",
            "state": {
              "width": "90%"
            }
          },
          "7abb2dfe8b684b81b0d6dcb925fd2b59": {
            "model_module": "@jupyter-widgets/base",
            "model_module_version": "2.0.0",
            "model_name": "LayoutModel",
            "state": {}
          },
          "2d4a63fe45a8417b9ec430fe2bf353f0": {
            "model_module": "@jupyter-widgets/controls",
            "model_module_version": "2.0.0",
            "model_name": "ButtonModel",
            "state": {
              "description": "Start archiving",
              "layout": "IPY_MODEL_78b05e3c4e524f7c93d22a9cc238743f",
              "style": "IPY_MODEL_71a06913e38d4c08b41abecd01019ab8",
              "tooltip": null
            }
          },
          "4c235cfd3b2e49eb8e2a8d45bdb905d6": {
            "model_module": "@jupyter-widgets/base",
            "model_module_version": "2.0.0",
            "model_name": "LayoutModel",
            "state": {
              "width": "90%"
            }
          },
          "e30b3c8d13f1436ca4c0b923b3314cc1": {
            "model_module": "@jupyter-widgets/controls",
            "model_module_version": "2.0.0",
            "model_name": "FloatTextModel",
            "state": {
              "description": "Speed",
              "layout": "IPY_MODEL_7f9c6ba7b78342369fe3357818173aa2",
              "step": 0.1,
              "style": "IPY_MODEL_396b1c7e3ca74fa58016b443eedc6858",
              "value": 1
            }
          },
          "c6105509dd904a268b994c0b5068ce7c": {
            "model_module": "@jupyter-widgets/controls",
            "model_module_version": "2.0.0",
            "model_name": "HBoxModel",
            "state": {
              "children": [
                "IPY_MODEL_e3ad0dc9c3a542839fd1c378a7c44cda",
                "IPY_MODEL_aaa627e2eb3a4cce92a5439361024aeb",
                "IPY_MODEL_7814f22a3a294ab6adda77c8840cc005"
              ],
              "layout": "IPY_MODEL_69a0cd1843e646a18512af570628b74a"
            }
          },
          "3bf3caeb358044a8bf6c04fe6c2e7587": {
            "model_module": "@jupyter-widgets/controls",
            "model_module_version": "2.0.0",
            "model_name": "TextStyleModel",
            "state": {
              "description_width": "",
              "font_size": null,
              "text_color": null
            }
          },
          "99ce0c4801c948c8a1472c42c6e266c1": {
            "model_module": "@jupyter-widgets/controls",
            "model_module_version": "2.0.0",
            "model_name": "CheckboxModel",
            "state": {
              "description": "Allow overwrite",
              "disabled": false,
              "layout": "IPY_MODEL_3d48b9ca97784878a702fed27c3d5196",
              "style": "IPY_MODEL_21fc0258a86a41f490c9346b7d8b12ba",
              "value": true
            }
          },
          "77fd2392ab2b4b4b9bb9af46245cab73": {
            "model_module": "@jupyter-widgets/base",
            "model_module_version": "2.0.0",
            "model_name": "LayoutModel",
            "state": {}
          },
          "19a46aab6c904d59bce0a9055744e3cd": {
            "model_module": "@jupyter-widgets/base",
            "model_module_version": "2.0.0",
            "model_name": "LayoutModel",
            "state": {}
          },
          "991b5ff90f74401eb8847bfd99e2ed71": {
            "model_module": "@jupyter-widgets/base",
            "model_module_version": "2.0.0",
            "model_name": "LayoutModel",
            "state": {
              "width": "90%"
            }
          },
          "0f304dd3118747f9bbc768ebdc984ff5": {
            "model_module": "@jupyter-widgets/base",
            "model_module_version": "2.0.0",
            "model_name": "LayoutModel",
            "state": {}
          },
          "b80ec04233874f15a76b9ebd5e93c8fe": {
            "model_module": "@jupyter-widgets/base",
            "model_module_version": "2.0.0",
            "model_name": "LayoutModel",
            "state": {}
          },
          "2366eb4fa1a74a20a33b54b4f53c3945": {
            "model_module": "@jupyter-widgets/controls",
            "model_module_version": "2.0.0",
            "model_name": "ButtonModel",
            "state": {
              "description": "Read more",
              "layout": "IPY_MODEL_1c8a3f44e9694125a583022233826fc7",
              "style": "IPY_MODEL_2438a0e8a24d47dd8915c330f2017f34",
              "tooltip": null
            }
          },
          "69c4661bdf7f4a989774967025994aa7": {
            "model_module": "@jupyter-widgets/controls",
            "model_module_version": "2.0.0",
            "model_name": "TextModel",
            "state": {
              "description": "Input Path:",
              "layout": "IPY_MODEL_d27fb4c38b8f4a91b890affe98712829",
              "style": "IPY_MODEL_65be43125eaf4790b8908d6bbcad8966",
              "tooltip": "Path to query template spreadsheet (list of names, etc. to search)"
            }
          },
          "d539f6bac3e8484bba711eef92bbf59a": {
            "model_module": "@jupyter-widgets/controls",
            "model_module_version": "2.0.0",
            "model_name": "PasswordModel",
            "state": {
              "description": "Password: ",
              "layout": "IPY_MODEL_66f4b118ed924b4997b07901ba22f308",
              "style": "IPY_MODEL_a3baa858a03b4efc93724eaa6a683aa5"
            }
          },
          "a8bb5944a8b9490e80665a4909650bf9": {
            "model_module": "@jupyter-widgets/controls",
            "model_module_version": "2.0.0",
            "model_name": "TextStyleModel",
            "state": {
              "description_width": "",
              "font_size": null,
              "text_color": null
            }
          },
          "4867e626b22640afa0f70c920aa47881": {
            "model_module": "@jupyter-widgets/controls",
            "model_module_version": "2.0.0",
            "model_name": "ButtonModel",
            "state": {
              "description": "Login",
              "layout": "IPY_MODEL_fcbcc1dbac094dbaa11c84e32aacebc6",
              "style": "IPY_MODEL_a201630d55f048d3ac54162497b71fc7",
              "tooltip": null
            }
          },
          "40430d9e30b749a5b83c139b72bbfc8b": {
            "model_module": "@jupyter-widgets/controls",
            "model_module_version": "2.0.0",
            "model_name": "ButtonStyleModel",
            "state": {
              "font_family": null,
              "font_size": null,
              "font_style": null,
              "font_variant": null,
              "font_weight": null,
              "text_color": null,
              "text_decoration": null
            }
          },
          "a5a9ee10a31f4cccaf104bd5b61d107f": {
            "model_module": "@jupyter-widgets/controls",
            "model_module_version": "2.0.0",
            "model_name": "IntTextModel",
            "state": {
              "description": "Max count:",
              "layout": "IPY_MODEL_33ce424efacb49feaf03039f332f4c2b",
              "step": 1,
              "style": "IPY_MODEL_72259eb0493f45c0a8a7fcdaff372c40"
            }
          },
          "1d1427556b184868b0bc9d4192846f9b": {
            "model_module": "@jupyter-widgets/base",
            "model_module_version": "2.0.0",
            "model_name": "LayoutModel",
            "state": {}
          },
          "88d7791bffb4450284a5df8f77ba5d5e": {
            "model_module": "@jupyter-widgets/base",
            "model_module_version": "2.0.0",
            "model_name": "LayoutModel",
            "state": {
              "width": "90%"
            }
          },
          "4987da0852da4c85b55415f54ad0c7a9": {
            "model_module": "@jupyter-widgets/base",
            "model_module_version": "2.0.0",
            "model_name": "LayoutModel",
            "state": {
              "width": "40%"
            }
          },
          "0dfe73447b1b4dd689e7fe5aee72450b": {
            "model_module": "@jupyter-widgets/base",
            "model_module_version": "2.0.0",
            "model_name": "LayoutModel",
            "state": {
              "width": "90%"
            }
          },
          "1e0ed4fc68234564afdc22f77f5c831e": {
            "model_module": "@jupyter-widgets/base",
            "model_module_version": "2.0.0",
            "model_name": "LayoutModel",
            "state": {}
          },
          "5f77ce955b5b423fa8eb88317d3d74e7": {
            "model_module": "@jupyter-widgets/base",
            "model_module_version": "2.0.0",
            "model_name": "LayoutModel",
            "state": {}
          },
          "852e14ae78294bfeb9aae7d3e93d41a4": {
            "model_module": "@jupyter-widgets/controls",
            "model_module_version": "2.0.0",
            "model_name": "TextModel",
            "state": {
              "description": "Output Path",
              "layout": "IPY_MODEL_209eb1e4166e45459b74a892e3f9f11f",
              "style": "IPY_MODEL_1bb3e2a3920b48b88c44cb2aa9d98056"
            }
          },
          "6f978776944247f9a11537e1bfda6153": {
            "model_module": "@jupyter-widgets/base",
            "model_module_version": "2.0.0",
            "model_name": "LayoutModel",
            "state": {}
          },
          "0de95b12819b4ceca97b936fb23eae89": {
            "model_module": "@jupyter-widgets/base",
            "model_module_version": "2.0.0",
            "model_name": "LayoutModel",
            "state": {}
          },
          "7a8bae809dfc4a86b18e0ec04c538f74": {
            "model_module": "@jupyter-widgets/base",
            "model_module_version": "2.0.0",
            "model_name": "LayoutModel",
            "state": {
              "width": "40%"
            }
          },
          "3d9a85da904a41b0ba873104a2c73d89": {
            "model_module": "@jupyter-widgets/base",
            "model_module_version": "2.0.0",
            "model_name": "LayoutModel",
            "state": {}
          },
          "4571550135764feaa972eb35373518c2": {
            "model_module": "@jupyter-widgets/base",
            "model_module_version": "2.0.0",
            "model_name": "LayoutModel",
            "state": {}
          },
          "4fd9a24076854bd1ad0c8e106a85cb49": {
            "model_module": "@jupyter-widgets/controls",
            "model_module_version": "2.0.0",
            "model_name": "ButtonModel",
            "state": {
              "description": "Login",
              "layout": "IPY_MODEL_f7652e8726ec4a5d94a05da09e8ee960",
              "style": "IPY_MODEL_4909a59159864376b67e3f60a8ad0d1b",
              "tooltip": null
            }
          },
          "ea583570879a48798637febbe956ae91": {
            "model_module": "@jupyter-widgets/controls",
            "model_module_version": "2.0.0",
            "model_name": "IntTextModel",
            "state": {
              "description": "Set max count",
              "layout": "IPY_MODEL_524333ed4aac4acaa56e0dd1687e3fe4",
              "step": 1,
              "style": "IPY_MODEL_ac46f833e1124a6a95d86b200a70ec01"
            }
          },
          "ecf48dc0005d4500975e229e479d97ec": {
            "model_module": "@jupyter-widgets/base",
            "model_module_version": "2.0.0",
            "model_name": "LayoutModel",
            "state": {}
          },
          "5a9cd07a74114139b70de79f6cb67a82": {
            "model_module": "@jupyter-widgets/controls",
            "model_module_version": "2.0.0",
            "model_name": "CheckboxModel",
            "state": {
              "description": "Allow overwrite",
              "disabled": false,
              "layout": "IPY_MODEL_e912377c6e7141b99ff8341f892c5ae1",
              "style": "IPY_MODEL_3e0a6057657141dab57672341cb363c0",
              "value": false
            }
          },
          "7bfae608429b4fe5969bf602d8a532f8": {
            "model_module": "@jupyter-widgets/base",
            "model_module_version": "2.0.0",
            "model_name": "LayoutModel",
            "state": {}
          },
          "3f22095724354a228c8500af099295ed": {
            "model_module": "@jupyter-widgets/base",
            "model_module_version": "2.0.0",
            "model_name": "LayoutModel",
            "state": {}
          },
          "7900990476a042f6abb5537d4f96ab8a": {
            "model_module": "@jupyter-widgets/controls",
            "model_module_version": "2.0.0",
            "model_name": "HTMLStyleModel",
            "state": {
              "description_width": "",
              "font_size": null,
              "text_color": null
            }
          },
          "4dd173a6fa6349faa2526e49e12cd559": {
            "model_module": "@jupyter-widgets/controls",
            "model_module_version": "2.0.0",
            "model_name": "CheckboxModel",
            "state": {
              "description": "Allow overwrite",
              "disabled": false,
              "layout": "IPY_MODEL_013be2765f264d27aaf4da3a64fcf491",
              "style": "IPY_MODEL_d04ea1bde74a4670a58c7c94206d8d47",
              "value": false
            }
          },
          "fe128b445fb842389dcc4195cc12ef99": {
            "model_module": "@jupyter-widgets/base",
            "model_module_version": "2.0.0",
            "model_name": "LayoutModel",
            "state": {
              "width": "90%"
            }
          },
          "b5c5c0633ab044fda8ca4eae9820fe9d": {
            "model_module": "@jupyter-widgets/controls",
            "model_module_version": "2.0.0",
            "model_name": "CheckboxStyleModel",
            "state": {
              "description_width": ""
            }
          },
          "57e9018f969241b795dd832a151b42b6": {
            "model_module": "@jupyter-widgets/controls",
            "model_module_version": "2.0.0",
            "model_name": "ButtonStyleModel",
            "state": {
              "font_family": null,
              "font_size": null,
              "font_style": null,
              "font_variant": null,
              "font_weight": null,
              "text_color": null,
              "text_decoration": null
            }
          },
          "698aadb59de9468396795ee0dabb5109": {
            "model_module": "@jupyter-widgets/controls",
            "model_module_version": "2.0.0",
            "model_name": "TextModel",
            "state": {
              "description": "Output Path",
              "layout": "IPY_MODEL_e11e1865068c472b9c15993206cf2e67",
              "style": "IPY_MODEL_590930030ab64b7e8b172b90dd372a95",
              "value": "/Users/samuelrobson/Desktop/asldfkjsdlf.xlsx"
            }
          },
          "56c5eed4cbc44ee59aea207f5cc66c18": {
            "model_module": "@jupyter-widgets/controls",
            "model_module_version": "2.0.0",
            "model_name": "ButtonModel",
            "state": {
              "description": "Start export",
              "layout": "IPY_MODEL_e419aa01dca04970ac28927bc947b212",
              "style": "IPY_MODEL_b546f57f29e64ac48a33eb1229589f7c",
              "tooltip": null
            }
          },
          "cd4585fc89754e91b0198b6e42ed8bdd": {
            "model_module": "@jupyter-widgets/controls",
            "model_module_version": "2.0.0",
            "model_name": "ButtonStyleModel",
            "state": {
              "font_family": null,
              "font_size": null,
              "font_style": null,
              "font_variant": null,
              "font_weight": null,
              "text_color": null,
              "text_decoration": null
            }
          },
          "b43320650168421faa5ab379062f6bc3": {
            "model_module": "@jupyter-widgets/base",
            "model_module_version": "2.0.0",
            "model_name": "LayoutModel",
            "state": {}
          },
          "0996a53bfe3941f9bbabd946ecdf5724": {
            "model_module": "@jupyter-widgets/base",
            "model_module_version": "2.0.0",
            "model_name": "LayoutModel",
            "state": {}
          },
          "21c76018df3842a08f9a026be9409ef8": {
            "model_module": "@jupyter-widgets/base",
            "model_module_version": "2.0.0",
            "model_name": "LayoutModel",
            "state": {}
          },
          "522d5332fd6347f49025d272162fcf36": {
            "model_module": "@jupyter-widgets/base",
            "model_module_version": "2.0.0",
            "model_name": "LayoutModel",
            "state": {}
          },
          "59663124ca0545d7bdaa6d6f4482c71b": {
            "model_module": "@jupyter-widgets/controls",
            "model_module_version": "2.0.0",
            "model_name": "TextModel",
            "state": {
              "description": "Customer ID: ",
              "layout": "IPY_MODEL_94a973dbac4043bfb35a31ea039bd54f",
              "style": "IPY_MODEL_3499631fb6f04be8b0e3f31ea9d676f4"
            }
          },
          "d37f6d42b3fd4fcbb4588aa6ef2c129c": {
            "model_module": "@jupyter-widgets/base",
            "model_module_version": "2.0.0",
            "model_name": "LayoutModel",
            "state": {}
          },
          "7f5a299da33b4338b354323b08065e8d": {
            "model_module": "@jupyter-widgets/controls",
            "model_module_version": "2.0.0",
            "model_name": "ButtonModel",
            "state": {
              "description": "Read more",
              "layout": "IPY_MODEL_f104e78b300049fbabbe4ac019c7bf8a",
              "style": "IPY_MODEL_c3309308ce9c401db32d15ea5e885db2",
              "tooltip": null
            }
          },
          "f38868543ef646059a4a6ca8dc8c6e1b": {
            "model_module": "@jupyter-widgets/controls",
            "model_module_version": "2.0.0",
            "model_name": "TextModel",
            "state": {
              "description": "Input Path",
              "layout": "IPY_MODEL_41f5c54ba00645798152d54d5e49e2ec",
              "style": "IPY_MODEL_f63b897a6a0545588f87425c8c603670",
              "tooltip": "Path to PDF directory"
            }
          },
          "e4126d3c783c4ed189e28718149d2b6a": {
            "model_module": "@jupyter-widgets/base",
            "model_module_version": "2.0.0",
            "model_name": "LayoutModel",
            "state": {}
          },
          "c8808815d4cc42f9a7e29a824163bb9b": {
            "model_module": "@jupyter-widgets/controls",
            "model_module_version": "2.0.0",
            "model_name": "IntTextModel",
            "state": {
              "description": "Set max count",
              "layout": "IPY_MODEL_2b0122048c914f42a6918c39677e4d7f",
              "step": 1,
              "style": "IPY_MODEL_43654fb7e01840efad862a90e372a1aa"
            }
          },
          "a0dedc0589dd48be8a0a66e4cb628354": {
            "model_module": "@jupyter-widgets/controls",
            "model_module_version": "2.0.0",
            "model_name": "TextModel",
            "state": {
              "description": "Input Path",
              "layout": "IPY_MODEL_5987782ff9034fd8a2725ee058a730a8",
              "style": "IPY_MODEL_a3adfebe3858489882bdf149ebdd6722",
              "tooltip": "Path to input directory or archive"
            }
          },
          "54394a4f04b143e599ac55458426df5d": {
            "model_module": "@jupyter-widgets/controls",
            "model_module_version": "2.0.0",
            "model_name": "TextStyleModel",
            "state": {
              "description_width": "",
              "font_size": null,
              "text_color": null
            }
          },
          "7f2f4e3f3864440091a3d4c9304b088e": {
            "model_module": "@jupyter-widgets/controls",
            "model_module_version": "2.0.0",
            "model_name": "IntTextModel",
            "state": {
              "description": "Max count:",
              "layout": "IPY_MODEL_0eb0dad4d4524a49961ede93e7c7f900",
              "step": 1,
              "style": "IPY_MODEL_acc8bbbb0a6a44748cab9acb1bc87226"
            }
          },
          "64ecbf81bf3048ebaf3fa2fc849964ed": {
            "model_module": "@jupyter-widgets/base",
            "model_module_version": "2.0.0",
            "model_name": "LayoutModel",
            "state": {}
          },
          "8ffbd3892a024d5cb2dfb15442eb373e": {
            "model_module": "@jupyter-widgets/controls",
            "model_module_version": "2.0.0",
            "model_name": "IntTextModel",
            "state": {
              "description": "Max count:",
              "layout": "IPY_MODEL_3718840af2db48d4b58a15cf4641be0c",
              "step": 1,
              "style": "IPY_MODEL_bb973764d7bd46b0aa9e8ee147aebb33"
            }
          },
          "2645dcb5f3734537aca3440803d40de7": {
            "model_module": "@jupyter-widgets/controls",
            "model_module_version": "2.0.0",
            "model_name": "CheckboxModel",
            "state": {
              "description": "Allow overwrite",
              "disabled": false,
              "layout": "IPY_MODEL_0555cb5940f7470b9f173a7b9443638a",
              "style": "IPY_MODEL_071f310991644d2e94f433f640ce7e02",
              "value": false
            }
          },
          "83a4dbe3a953462cb22491b4537e621d": {
            "model_module": "@jupyter-widgets/controls",
            "model_module_version": "2.0.0",
            "model_name": "TextStyleModel",
            "state": {
              "description_width": "",
              "font_size": null,
              "text_color": null
            }
          },
          "33ce424efacb49feaf03039f332f4c2b": {
            "model_module": "@jupyter-widgets/base",
            "model_module_version": "2.0.0",
            "model_name": "LayoutModel",
            "state": {}
          },
          "4019d0919e4547dba91c979164675b80": {
            "model_module": "@jupyter-widgets/controls",
            "model_module_version": "2.0.0",
            "model_name": "TextModel",
            "state": {
              "description": "Input Path:",
              "layout": "IPY_MODEL_3f2a9c2bedcb4c72ade0abdf93880a04",
              "style": "IPY_MODEL_1fdc06015cde499f9d56a805f9e7b51e",
              "tooltip": "Path to query template spreadsheet (list of names, etc. to search)"
            }
          },
          "793b7d429ea04307ae3ac369d1e05e2b": {
            "model_module": "@jupyter-widgets/base",
            "model_module_version": "2.0.0",
            "model_name": "LayoutModel",
            "state": {
              "width": "90%"
            }
          },
          "8dbab5323a6b4a5aa6b212b5c5ce5de3": {
            "model_module": "@jupyter-widgets/controls",
            "model_module_version": "2.0.0",
            "model_name": "CheckboxModel",
            "state": {
              "description": "Allow overwrite",
              "disabled": false,
              "layout": "IPY_MODEL_21e653ff0c2b485d8879c064a93af908",
              "style": "IPY_MODEL_28e7ade30d474fd8a03a7c6a4c1a70b5",
              "value": false
            }
          },
          "40276267155d4495b9b9137c31e40ea0": {
            "model_module": "@jupyter-widgets/base",
            "model_module_version": "2.0.0",
            "model_name": "LayoutModel",
            "state": {
              "width": "90%"
            }
          },
          "c13af4f516a342e5a343c16901e170a5": {
            "model_module": "@jupyter-widgets/controls",
            "model_module_version": "2.0.0",
            "model_name": "IntTextModel",
            "state": {
              "description": "Max rows",
              "layout": "IPY_MODEL_a11c388cb78b4dda8345808ece92014c",
              "step": 1,
              "style": "IPY_MODEL_dc475e1df71b4f0c9ca66b25fd02f21a"
            }
          },
          "4419130d8432455db00e0f6d6acb6c0c": {
            "model_module": "@jupyter-widgets/controls",
            "model_module_version": "2.0.0",
            "model_name": "ButtonStyleModel",
            "state": {
              "font_family": null,
              "font_size": null,
              "font_style": null,
              "font_variant": null,
              "font_weight": null,
              "text_color": null,
              "text_decoration": null
            }
          },
          "16c318cd2b0944ebbed18a3bfd999824": {
            "model_module": "@jupyter-widgets/base",
            "model_module_version": "2.0.0",
            "model_name": "LayoutModel",
            "state": {}
          },
          "1de45ffa790a4c27a4026ccf45a3844e": {
            "model_module": "@jupyter-widgets/controls",
            "model_module_version": "2.0.0",
            "model_name": "TextStyleModel",
            "state": {
              "description_width": "",
              "font_size": null,
              "text_color": null
            }
          },
          "02ad4a159b6d4261a024073724d5d7b4": {
            "model_module": "@jupyter-widgets/controls",
            "model_module_version": "2.0.0",
            "model_name": "DescriptionStyleModel",
            "state": {
              "description_width": ""
            }
          },
          "8edebc5c804143818f8beb5e0f71092d": {
            "model_module": "@jupyter-widgets/controls",
            "model_module_version": "2.0.0",
            "model_name": "DescriptionStyleModel",
            "state": {
              "description_width": ""
            }
          },
          "78b5aaee746045d19c0cf5def6af8513": {
            "model_module": "@jupyter-widgets/base",
            "model_module_version": "2.0.0",
            "model_name": "LayoutModel",
            "state": {}
          },
          "81dd598ab2c8496485b5f6733ebb75dd": {
            "model_module": "@jupyter-widgets/base",
            "model_module_version": "2.0.0",
            "model_name": "LayoutModel",
            "state": {
              "width": "40%"
            }
          },
          "e9a85037283b480cb178ba0e95760e4d": {
            "model_module": "@jupyter-widgets/output",
            "model_module_version": "1.0.0",
            "model_name": "OutputModel",
            "state": {
              "layout": "IPY_MODEL_ceea6c47d4684ea1ab51c6c3a3fa385e"
            }
          },
          "90ed02bff2944e97932d75cdb422e011": {
            "model_module": "@jupyter-widgets/controls",
            "model_module_version": "2.0.0",
            "model_name": "IntTextModel",
            "state": {
              "description": "Max rows",
              "layout": "IPY_MODEL_20a5f9266aef45f38420ad15ccb65f6e",
              "step": 1,
              "style": "IPY_MODEL_c9dbea17b8804462ac710cc1ce405474"
            }
          },
          "2328be6ee04b4fe0baa0a94bb82e84f8": {
            "model_module": "@jupyter-widgets/controls",
            "model_module_version": "2.0.0",
            "model_name": "TextModel",
            "state": {
              "description": "Input Path",
              "layout": "IPY_MODEL_0e70edc8afae4809bc893aa958bc509c",
              "style": "IPY_MODEL_d46381948f2c4a2ca167b3037ea3e481",
              "tooltip": "Path to input directory or archive"
            }
          },
          "548f85bd27bf4ac088ed683514c544f9": {
            "model_module": "@jupyter-widgets/controls",
            "model_module_version": "2.0.0",
            "model_name": "DescriptionStyleModel",
            "state": {
              "description_width": ""
            }
          },
          "737cd95623024a5f820f49f5eb8b44e5": {
            "model_module": "@jupyter-widgets/controls",
            "model_module_version": "2.0.0",
            "model_name": "FloatTextModel",
            "state": {
              "description": "Speed",
              "layout": "IPY_MODEL_aef6f3d40d9948dc87268e1df1f43486",
              "step": 0.1,
              "style": "IPY_MODEL_ba093aede6c14ebb8b2d2b443f193c71",
              "value": 1
            }
          },
          "3e584070b8db483f9f66ffdc711828a3": {
            "model_module": "@jupyter-widgets/controls",
            "model_module_version": "2.0.0",
            "model_name": "TextStyleModel",
            "state": {
              "description_width": "",
              "font_size": null,
              "text_color": null
            }
          },
          "1df892471f9840f3b9ba3e18741dde62": {
            "model_module": "@jupyter-widgets/base",
            "model_module_version": "2.0.0",
            "model_name": "LayoutModel",
            "state": {}
          },
          "42874318a1e241ee82b78cf550726ab5": {
            "model_module": "@jupyter-widgets/controls",
            "model_module_version": "2.0.0",
            "model_name": "TextModel",
            "state": {
              "description": "Input Path:",
              "layout": "IPY_MODEL_6c7b05172674411c95209d5fdf613394",
              "style": "IPY_MODEL_e2869ce4eb48496591977d0e58b0f2a2",
              "tooltip": "Path to query template spreadsheet (list of names, etc. to search)"
            }
          },
          "aac3a88550e34fcea35687b8a567ddea": {
            "model_module": "@jupyter-widgets/base",
            "model_module_version": "2.0.0",
            "model_name": "LayoutModel",
            "state": {
              "width": "40%"
            }
          },
          "a761ef1c2d724f92bd7423eca164d7ba": {
            "model_module": "@jupyter-widgets/base",
            "model_module_version": "2.0.0",
            "model_name": "LayoutModel",
            "state": {}
          },
          "1037e806cb6f4034853adf852bc38d62": {
            "model_module": "@jupyter-widgets/base",
            "model_module_version": "2.0.0",
            "model_name": "LayoutModel",
            "state": {
              "width": "90%"
            }
          },
          "6e494502b5574645894c51ac37ae8690": {
            "model_module": "@jupyter-widgets/base",
            "model_module_version": "2.0.0",
            "model_name": "LayoutModel",
            "state": {}
          },
          "0b3db7f3ccef43d4ac745cfc82ae1174": {
            "model_module": "@jupyter-widgets/controls",
            "model_module_version": "2.0.0",
            "model_name": "TextStyleModel",
            "state": {
              "description_width": "",
              "font_size": null,
              "text_color": null
            }
          },
          "2533db6679a94689b5188989b3557b48": {
            "model_module": "@jupyter-widgets/base",
            "model_module_version": "2.0.0",
            "model_name": "LayoutModel",
            "state": {
              "width": "95%"
            }
          },
          "cf9e4843c5974ede9fb31fcc541003e7": {
            "model_module": "@jupyter-widgets/base",
            "model_module_version": "2.0.0",
            "model_name": "LayoutModel",
            "state": {}
          },
          "1af22498380a4c81bb1a95d8d2da68e7": {
            "model_module": "@jupyter-widgets/base",
            "model_module_version": "2.0.0",
            "model_name": "LayoutModel",
            "state": {
              "width": "90%"
            }
          },
          "9421fd6d702640e3a852e6779233d3bb": {
            "model_module": "@jupyter-widgets/controls",
            "model_module_version": "2.0.0",
            "model_name": "DescriptionStyleModel",
            "state": {
              "description_width": ""
            }
          },
          "133d280d73504e44b5e78a4c19caba14": {
            "model_module": "@jupyter-widgets/controls",
            "model_module_version": "2.0.0",
            "model_name": "CheckboxModel",
            "state": {
              "description": "ZIP export (must be .json, .csv)",
              "disabled": false,
              "layout": "IPY_MODEL_0dbaf3fa1d4e4834896ea65d050a59d4",
              "style": "IPY_MODEL_a4585d7169ca4ae3ade0f8b5b6107491",
              "value": false
            }
          },
          "c64123d9b51a48fb93d4897278de429d": {
            "model_module": "@jupyter-widgets/controls",
            "model_module_version": "2.0.0",
            "model_name": "TextModel",
            "state": {
              "description": "Input Path",
              "layout": "IPY_MODEL_251d8ec9383244118d7d3198e0a08805",
              "style": "IPY_MODEL_f328e7d6dcb04464a84888f7b87eda4d",
              "tooltip": "Path to PDF directory"
            }
          },
          "f459743be87d47649c333070cbeed5f1": {
            "model_module": "@jupyter-widgets/base",
            "model_module_version": "2.0.0",
            "model_name": "LayoutModel",
            "state": {
              "width": "95%"
            }
          },
          "57d619ae6a9c4cb58011e2506da52cf6": {
            "model_module": "@jupyter-widgets/controls",
            "model_module_version": "2.0.0",
            "model_name": "CheckboxStyleModel",
            "state": {
              "description_width": ""
            }
          },
          "6694d5d8183e4704af1c5075e2432a6e": {
            "model_module": "@jupyter-widgets/controls",
            "model_module_version": "2.0.0",
            "model_name": "ButtonModel",
            "state": {
              "description": "Login",
              "layout": "IPY_MODEL_383b5112e9cc40a2aa5405c8294b618e",
              "style": "IPY_MODEL_3e27567d34814840814fcc7d593f60cb",
              "tooltip": null
            }
          },
          "2d85c2192bfc453ab2a0050d4e04207d": {
            "model_module": "@jupyter-widgets/base",
            "model_module_version": "2.0.0",
            "model_name": "LayoutModel",
            "state": {}
          },
          "76d17c361e144fbf8734f07ebef0d353": {
            "model_module": "@jupyter-widgets/controls",
            "model_module_version": "2.0.0",
            "model_name": "TextModel",
            "state": {
              "description": "Output Path:",
              "layout": "IPY_MODEL_4c7d18b976914bb4acab92aa2ba541ff",
              "style": "IPY_MODEL_228b8de967f94265b9dce6014214ba8b"
            }
          },
          "80a4639ddbd24211acf15b317e0a6eb9": {
            "model_module": "@jupyter-widgets/controls",
            "model_module_version": "2.0.0",
            "model_name": "TextStyleModel",
            "state": {
              "description_width": "",
              "font_size": null,
              "text_color": null
            }
          },
          "af0bcf26e1d0470a9a852d3a38ddec19": {
            "model_module": "@jupyter-widgets/base",
            "model_module_version": "2.0.0",
            "model_name": "LayoutModel",
            "state": {
              "width": "95%"
            }
          },
          "aef44ebab60547528968a48cc7a72a27": {
            "model_module": "@jupyter-widgets/controls",
            "model_module_version": "2.0.0",
            "model_name": "CheckboxModel",
            "state": {
              "description": "Allow overwrite",
              "disabled": false,
              "layout": "IPY_MODEL_12d4021bc1924505a81f8798c71e4793",
              "style": "IPY_MODEL_009a0920c6254d4098eb7c512e684cce",
              "value": false
            }
          },
          "2e3160d041c548a7be90c0fc03c49836": {
            "model_module": "@jupyter-widgets/controls",
            "model_module_version": "2.0.0",
            "model_name": "TextModel",
            "state": {
              "description": "Input Path",
              "layout": "IPY_MODEL_33b6f924bb78438d890299ae80a727d1",
              "style": "IPY_MODEL_75bab21e8d504c7c8625b22cd13db303",
              "tooltip": "Path to input directory or archive"
            }
          },
          "b694b22ee1d0475d8d4f8ba43613d67c": {
            "model_module": "@jupyter-widgets/controls",
            "model_module_version": "2.0.0",
            "model_name": "ButtonModel",
            "state": {
              "description": "Read more",
              "layout": "IPY_MODEL_3e57b69254c545abb3da8f7d60c7dcfd",
              "style": "IPY_MODEL_726ddadb8d90411db3d3622ae270b091",
              "tooltip": null
            }
          },
          "24a1acf30b064ddb9f20931b4ae76cf7": {
            "model_module": "@jupyter-widgets/controls",
            "model_module_version": "2.0.0",
            "model_name": "CheckboxModel",
            "state": {
              "description": "Allow overwrite",
              "disabled": false,
              "layout": "IPY_MODEL_cf9e4843c5974ede9fb31fcc541003e7",
              "style": "IPY_MODEL_e9647a9af7fc490997f7e219aca2edd9",
              "value": false
            }
          },
          "2e6f7b49bd634f43917ae7ad3b5cfd05": {
            "model_module": "@jupyter-widgets/base",
            "model_module_version": "2.0.0",
            "model_name": "LayoutModel",
            "state": {
              "width": "40%"
            }
          },
          "761b55a549884ae99ce6a517f935d72e": {
            "model_module": "@jupyter-widgets/base",
            "model_module_version": "2.0.0",
            "model_name": "LayoutModel",
            "state": {
              "width": "95%"
            }
          },
          "c6763b119f6041e4b8f59d1beae408a3": {
            "model_module": "@jupyter-widgets/controls",
            "model_module_version": "2.0.0",
            "model_name": "CheckboxModel",
            "state": {
              "description": "Allow overwrite",
              "disabled": false,
              "layout": "IPY_MODEL_43db58e09ef94f74a2eb0de0bb968555",
              "style": "IPY_MODEL_d843450bf9d949e9bfc3824edd68742b",
              "value": false
            }
          },
          "5f07d93827484608b6a27d65954beaec": {
            "model_module": "@jupyter-widgets/base",
            "model_module_version": "2.0.0",
            "model_name": "LayoutModel",
            "state": {}
          },
          "a9e46621fc7d44ddab02fb45a8379e69": {
            "model_module": "@jupyter-widgets/controls",
            "model_module_version": "2.0.0",
            "model_name": "CheckboxStyleModel",
            "state": {
              "description_width": ""
            }
          },
          "5449f17890df490fa3413eac6218279d": {
            "model_module": "@jupyter-widgets/controls",
            "model_module_version": "2.0.0",
            "model_name": "ProgressStyleModel",
            "state": {
              "description_width": ""
            }
          },
          "e572519768fd44a89e0f12ace7f3b8ae": {
            "model_module": "@jupyter-widgets/controls",
            "model_module_version": "2.0.0",
            "model_name": "TextStyleModel",
            "state": {
              "description_width": "",
              "font_size": null,
              "text_color": null
            }
          },
          "5aff21ffcc12492592b1feccad88bb40": {
            "model_module": "@jupyter-widgets/base",
            "model_module_version": "2.0.0",
            "model_name": "LayoutModel",
            "state": {
              "width": "95%"
            }
          },
          "b745088f49d8414da57b1b90272f0536": {
            "model_module": "@jupyter-widgets/base",
            "model_module_version": "2.0.0",
            "model_name": "LayoutModel",
            "state": {
              "width": "90%"
            }
          },
          "76e57f0c230143148c7fa8a21f4173a6": {
            "model_module": "@jupyter-widgets/base",
            "model_module_version": "2.0.0",
            "model_name": "LayoutModel",
            "state": {
              "width": "40%"
            }
          },
          "b596a094095e4c9a836fe11bd0720cb0": {
            "model_module": "@jupyter-widgets/controls",
            "model_module_version": "2.0.0",
            "model_name": "TextModel",
            "state": {
              "description": "Output Path",
              "layout": "IPY_MODEL_d867d8ff5f3a4b1daf7361e49e63f40b",
              "style": "IPY_MODEL_f86e6f370dcf42b191e4191300a731d6",
              "value": "/Users/samuelrobson/Desktop/teensy2chive.pkl.xz"
            }
          },
          "9c6407e0abd348e99463ff2967aed7cd": {
            "model_module": "@jupyter-widgets/controls",
            "model_module_version": "2.0.0",
            "model_name": "HTMLModel",
            "state": {
              "layout": "IPY_MODEL_2ccac16b9c8244da9d71f5d25d0bbf41",
              "style": "IPY_MODEL_ff73d5feba7d4302a98e97c493d64aed",
              "value": "Fee Sheet: 100%"
            }
          },
          "02cba97726aa419dbbff277fe33f34ba": {
            "model_module": "@jupyter-widgets/base",
            "model_module_version": "2.0.0",
            "model_name": "LayoutModel",
            "state": {}
          },
          "ab5fb8e3008b436b8ef5aef853ccf8d1": {
            "model_module": "@jupyter-widgets/base",
            "model_module_version": "2.0.0",
            "model_name": "LayoutModel",
            "state": {}
          },
          "67180359cb0f447597f604cde79539a2": {
            "model_module": "@jupyter-widgets/controls",
            "model_module_version": "2.0.0",
            "model_name": "DescriptionStyleModel",
            "state": {
              "description_width": ""
            }
          },
          "9c50c59738fb43f4bb13ba7314821273": {
            "model_module": "@jupyter-widgets/base",
            "model_module_version": "2.0.0",
            "model_name": "LayoutModel",
            "state": {}
          },
          "0a330560b46d4b25ad92ccdb5c11210b": {
            "model_module": "@jupyter-widgets/controls",
            "model_module_version": "2.0.0",
            "model_name": "TextModel",
            "state": {
              "description": "Output Path",
              "layout": "IPY_MODEL_abfb04f4a4bd43a3a437e4d09c7f8182",
              "style": "IPY_MODEL_a7c9583c49a3486fa66f717c037e73dc"
            }
          },
          "a5492a0e2d3b4c24bb2ddb3dca1152b1": {
            "model_module": "@jupyter-widgets/controls",
            "model_module_version": "2.0.0",
            "model_name": "ButtonStyleModel",
            "state": {
              "font_family": null,
              "font_size": null,
              "font_style": null,
              "font_variant": null,
              "font_weight": null,
              "text_color": null,
              "text_decoration": null
            }
          },
          "f333e4199c534a2bafd42951bbc0989f": {
            "model_module": "@jupyter-widgets/controls",
            "model_module_version": "2.0.0",
            "model_name": "ButtonStyleModel",
            "state": {
              "font_family": null,
              "font_size": null,
              "font_style": null,
              "font_variant": null,
              "font_weight": null,
              "text_color": null,
              "text_decoration": null
            }
          },
          "4f37c542c97e41e984f7fac69fc3a42f": {
            "model_module": "@jupyter-widgets/base",
            "model_module_version": "2.0.0",
            "model_name": "LayoutModel",
            "state": {}
          },
          "79e45e6367764a4083ddf0e7d75460f6": {
            "model_module": "@jupyter-widgets/controls",
            "model_module_version": "2.0.0",
            "model_name": "TextModel",
            "state": {
              "description": "User ID: ",
              "layout": "IPY_MODEL_acccf7a40bab489692765ea9ed76b759",
              "style": "IPY_MODEL_583e22d66fe84ac18afbf8367ba227c3"
            }
          },
          "d561acf83c4b43fd9dad7f522e9f08da": {
            "model_module": "@jupyter-widgets/controls",
            "model_module_version": "2.0.0",
            "model_name": "DescriptionStyleModel",
            "state": {
              "description_width": ""
            }
          },
          "9b6f3ee4cf994d24813be85a38dfaa52": {
            "model_module": "@jupyter-widgets/controls",
            "model_module_version": "2.0.0",
            "model_name": "ButtonStyleModel",
            "state": {
              "font_family": null,
              "font_size": null,
              "font_style": null,
              "font_variant": null,
              "font_weight": null,
              "text_color": null,
              "text_decoration": null
            }
          },
          "e5c8eb880ddb46b0a7a36f16949fa266": {
            "model_module": "@jupyter-widgets/controls",
            "model_module_version": "2.0.0",
            "model_name": "ButtonModel",
            "state": {
              "description": "Start export",
              "layout": "IPY_MODEL_1babe235de184115918c4d5faef368f5",
              "style": "IPY_MODEL_2fcd88e89252406ebebc78693fc0aa59",
              "tooltip": null
            }
          },
          "f9e4988c143d4e6d8132dc6954c767c0": {
            "model_module": "@jupyter-widgets/controls",
            "model_module_version": "2.0.0",
            "model_name": "TextModel",
            "state": {
              "description": "Input Path",
              "layout": "IPY_MODEL_308ec72511cc499d9ccd055d214b3295",
              "style": "IPY_MODEL_18d48a5e1a644996b42fdd29c2767a91",
              "tooltip": "Path to input directory or archive"
            }
          },
          "e419aa01dca04970ac28927bc947b212": {
            "model_module": "@jupyter-widgets/base",
            "model_module_version": "2.0.0",
            "model_name": "LayoutModel",
            "state": {}
          },
          "009a0920c6254d4098eb7c512e684cce": {
            "model_module": "@jupyter-widgets/controls",
            "model_module_version": "2.0.0",
            "model_name": "CheckboxStyleModel",
            "state": {
              "description_width": ""
            }
          },
          "f57e37dc76c447cbbd99f3df3c9044b3": {
            "model_module": "@jupyter-widgets/controls",
            "model_module_version": "2.0.0",
            "model_name": "ButtonModel",
            "state": {
              "description": "Start export",
              "layout": "IPY_MODEL_23fc95127de04bc2a1e3781d8492c226",
              "style": "IPY_MODEL_fb88e7de8a03491cae5459a20cf9b1c8",
              "tooltip": null
            }
          },
          "e4b47b3e39a840fba02618ed13654c76": {
            "model_module": "@jupyter-widgets/controls",
            "model_module_version": "2.0.0",
            "model_name": "IntTextModel",
            "state": {
              "description": "Max rows",
              "layout": "IPY_MODEL_c1b79b56d8664724a86237f6a073cf67",
              "step": 1,
              "style": "IPY_MODEL_04303e1fe1d54358ae0ab33b04762e47"
            }
          },
          "8d5102e584d846ed911d6ec9614cbe1d": {
            "model_module": "@jupyter-widgets/controls",
            "model_module_version": "2.0.0",
            "model_name": "CheckboxModel",
            "state": {
              "description": "Allow overwrite",
              "disabled": false,
              "layout": "IPY_MODEL_ecdb2f5025504a31a485eb64081feeed",
              "style": "IPY_MODEL_ed793ebaf6b44915ad445b127911464b",
              "value": false
            }
          },
          "a8c5175144e9410285557ec8b26b4cf8": {
            "model_module": "@jupyter-widgets/controls",
            "model_module_version": "2.0.0",
            "model_name": "TextStyleModel",
            "state": {
              "description_width": "",
              "font_size": null,
              "text_color": null
            }
          },
          "2f293017e3184e9896c4ef086be9ae85": {
            "model_module": "@jupyter-widgets/controls",
            "model_module_version": "2.0.0",
            "model_name": "IntTextModel",
            "state": {
              "description": "Max rows",
              "layout": "IPY_MODEL_2c83bd693ea346e693a11ba07f5e311a",
              "step": 1,
              "style": "IPY_MODEL_6ea36e724e614924af620554f8059bc7"
            }
          },
          "0614f0051a4344dea7828aa1fe91d7ee": {
            "model_module": "@jupyter-widgets/base",
            "model_module_version": "2.0.0",
            "model_name": "LayoutModel",
            "state": {}
          },
          "476fca4ae1764a958a25c49419784947": {
            "model_module": "@jupyter-widgets/controls",
            "model_module_version": "2.0.0",
            "model_name": "ButtonModel",
            "state": {
              "description": "Start export",
              "layout": "IPY_MODEL_5f77ce955b5b423fa8eb88317d3d74e7",
              "style": "IPY_MODEL_745e1e7799ab4862904a6fcab60542cd",
              "tooltip": null
            }
          },
          "2168427a10f44370bd20afbc7d7bc486": {
            "model_module": "@jupyter-widgets/controls",
            "model_module_version": "2.0.0",
            "model_name": "TextStyleModel",
            "state": {
              "description_width": "",
              "font_size": null,
              "text_color": null
            }
          },
          "870ae110c7dd406f89151cfea605a100": {
            "model_module": "@jupyter-widgets/controls",
            "model_module_version": "2.0.0",
            "model_name": "ButtonStyleModel",
            "state": {
              "font_family": null,
              "font_size": null,
              "font_style": null,
              "font_variant": null,
              "font_weight": null,
              "text_color": null,
              "text_decoration": null
            }
          },
          "52980398487247208e466035ab552c22": {
            "model_module": "@jupyter-widgets/controls",
            "model_module_version": "2.0.0",
            "model_name": "TextStyleModel",
            "state": {
              "description_width": "",
              "font_size": null,
              "text_color": null
            }
          },
          "9d3f655b803a491489b482b4606c9e0a": {
            "model_module": "@jupyter-widgets/base",
            "model_module_version": "2.0.0",
            "model_name": "LayoutModel",
            "state": {
              "width": "90%"
            }
          },
          "694056f9f0cd41f9921b84e0e0f51487": {
            "model_module": "@jupyter-widgets/controls",
            "model_module_version": "2.0.0",
            "model_name": "HBoxModel",
            "state": {
              "children": [
                "IPY_MODEL_6b8b60b7d3a1418c8e62de8403037132",
                "IPY_MODEL_57326b8159b6477a80098e3e904cf68b",
                "IPY_MODEL_6930bdbef5dd49ee95aba93b7170d13b"
              ],
              "layout": "IPY_MODEL_ae69116b34cf4d45bb606657154bfd11"
            }
          },
          "f73be3ca4d4b4dd2beb98ba9ff85c59a": {
            "model_module": "@jupyter-widgets/controls",
            "model_module_version": "2.0.0",
            "model_name": "TextStyleModel",
            "state": {
              "description_width": "",
              "font_size": null,
              "text_color": null
            }
          },
          "995524b45da043c2ace37731d0270370": {
            "model_module": "@jupyter-widgets/controls",
            "model_module_version": "2.0.0",
            "model_name": "PasswordModel",
            "state": {
              "description": "Password: ",
              "layout": "IPY_MODEL_f3de76d3a6574b6c9e2549fcb80ad01f",
              "style": "IPY_MODEL_9feba4cdcf854df19a7347416cb87838"
            }
          },
          "41c0785d7f4540ce8d72703aba00bd04": {
            "model_module": "@jupyter-widgets/base",
            "model_module_version": "2.0.0",
            "model_name": "LayoutModel",
            "state": {
              "width": "40%"
            }
          },
          "9925649d3240413889b8dad9040cb5cb": {
            "model_module": "@jupyter-widgets/controls",
            "model_module_version": "2.0.0",
            "model_name": "TextModel",
            "state": {
              "description": "Input Path",
              "layout": "IPY_MODEL_bd06a48176df4c89932dfbcf4c27e934",
              "style": "IPY_MODEL_4e79addcdab541aba71acce66173ce01",
              "tooltip": "Path to input directory or archive"
            }
          },
          "c52ca5cf0b7d463f90d2fa477e4dfee2": {
            "model_module": "@jupyter-widgets/controls",
            "model_module_version": "2.0.0",
            "model_name": "TextStyleModel",
            "state": {
              "description_width": "",
              "font_size": null,
              "text_color": null
            }
          },
          "e46bcb236a8546aa92461267423d84d2": {
            "model_module": "@jupyter-widgets/base",
            "model_module_version": "2.0.0",
            "model_name": "LayoutModel",
            "state": {}
          },
          "5bcc248d97fd4f4ca5fec6dbc29437e6": {
            "model_module": "@jupyter-widgets/controls",
            "model_module_version": "2.0.0",
            "model_name": "HBoxModel",
            "state": {
              "children": [
                "IPY_MODEL_1f9b3d10959346deb1199de903dff351",
                "IPY_MODEL_30533b7f6b8044079e358418b5131726"
              ],
              "layout": "IPY_MODEL_8a64f9bb23494d66a9a711980476b591"
            }
          },
          "41f362e94ca3423ca3ce355fead410cc": {
            "model_module": "@jupyter-widgets/base",
            "model_module_version": "2.0.0",
            "model_name": "LayoutModel",
            "state": {}
          },
          "88c1844cdff74c1fa5dffe2cc9b07de9": {
            "model_module": "@jupyter-widgets/base",
            "model_module_version": "2.0.0",
            "model_name": "LayoutModel",
            "state": {
              "width": "90%"
            }
          },
          "6067b9428a1c417ebacb509a4ec34f2c": {
            "model_module": "@jupyter-widgets/controls",
            "model_module_version": "2.0.0",
            "model_name": "CheckboxStyleModel",
            "state": {
              "description_width": ""
            }
          },
          "5949a844984e426ca665ff949802424f": {
            "model_module": "@jupyter-widgets/base",
            "model_module_version": "2.0.0",
            "model_name": "LayoutModel",
            "state": {
              "width": "90%"
            }
          },
          "d33f7a69b4d3430b87e58c689712cd64": {
            "model_module": "@jupyter-widgets/controls",
            "model_module_version": "2.0.0",
            "model_name": "ProgressStyleModel",
            "state": {
              "description_width": ""
            }
          },
          "65be43125eaf4790b8908d6bbcad8966": {
            "model_module": "@jupyter-widgets/controls",
            "model_module_version": "2.0.0",
            "model_name": "TextStyleModel",
            "state": {
              "description_width": "",
              "font_size": null,
              "text_color": null
            }
          },
          "0c95de1aaa4d4d2d832191cc15970eff": {
            "model_module": "@jupyter-widgets/base",
            "model_module_version": "2.0.0",
            "model_name": "LayoutModel",
            "state": {}
          },
          "ed9cfeecce05458b8f1db3c9bbeb9e1c": {
            "model_module": "@jupyter-widgets/controls",
            "model_module_version": "2.0.0",
            "model_name": "TextModel",
            "state": {
              "description": "Customer ID: ",
              "layout": "IPY_MODEL_556d3959ca674665a12539100e5c0024",
              "style": "IPY_MODEL_19d1b2dd77c546e9872330a5fcc0eb28"
            }
          },
          "a671c252aa6a46f1a69dd25da05c377a": {
            "model_module": "@jupyter-widgets/controls",
            "model_module_version": "2.0.0",
            "model_name": "DescriptionStyleModel",
            "state": {
              "description_width": ""
            }
          },
          "41f5c54ba00645798152d54d5e49e2ec": {
            "model_module": "@jupyter-widgets/base",
            "model_module_version": "2.0.0",
            "model_name": "LayoutModel",
            "state": {
              "width": "90%"
            }
          },
          "5fa0a8d99a7045d8a10a7f98965079f6": {
            "model_module": "@jupyter-widgets/base",
            "model_module_version": "2.0.0",
            "model_name": "LayoutModel",
            "state": {}
          },
          "34e5170f82884d6586117dcb5dbfd9c6": {
            "model_module": "@jupyter-widgets/controls",
            "model_module_version": "2.0.0",
            "model_name": "ButtonModel",
            "state": {
              "description": "Login",
              "layout": "IPY_MODEL_e62d04de1e25468189fcee63361ec1e1",
              "style": "IPY_MODEL_23bea40f69b34be9890e153dccf33747",
              "tooltip": null
            }
          },
          "5de6aa708c024db4ae28cdbd1cc56c0e": {
            "model_module": "@jupyter-widgets/controls",
            "model_module_version": "2.0.0",
            "model_name": "DescriptionStyleModel",
            "state": {
              "description_width": ""
            }
          },
          "414e86fa23ab4cce8883b19f6f72d7d0": {
            "model_module": "@jupyter-widgets/controls",
            "model_module_version": "2.0.0",
            "model_name": "IntTextModel",
            "state": {
              "description": "Max rows",
              "layout": "IPY_MODEL_c41e5ae8b5a749e682b115ed3609add7",
              "step": 1,
              "style": "IPY_MODEL_503e64b7d1a24d4aadd3609eb9d8355a"
            }
          },
          "1a8f831a60274499900ea7036702fed0": {
            "model_module": "@jupyter-widgets/controls",
            "model_module_version": "2.0.0",
            "model_name": "TextModel",
            "state": {
              "description": "Output Path:",
              "layout": "IPY_MODEL_5ecdef7b8f9a41e6aaf393edfbbb6d9d",
              "style": "IPY_MODEL_be5201e8e99d415a92f45142c08cebab"
            }
          },
          "9537e511ea8a48ca8d8938f7b7fea460": {
            "model_module": "@jupyter-widgets/controls",
            "model_module_version": "2.0.0",
            "model_name": "CheckboxModel",
            "state": {
              "description": "ZIP export (must be .json, .csv)",
              "disabled": false,
              "layout": "IPY_MODEL_608c0fc53b2b473bb36680f708a522de",
              "style": "IPY_MODEL_52396babfa674a90a5c60d8a1857053f",
              "value": false
            }
          },
          "75b02abad74944fa9121637df0011146": {
            "model_module": "@jupyter-widgets/controls",
            "model_module_version": "2.0.0",
            "model_name": "IntTextModel",
            "state": {
              "description": "Max rows",
              "layout": "IPY_MODEL_b7cfa5466dbd4e92a673bc6563cb7c33",
              "step": 1,
              "style": "IPY_MODEL_c4a881f36077432db740651ecdf33512"
            }
          },
          "68394a4149204a42afb9c5ef55576a87": {
            "model_module": "@jupyter-widgets/base",
            "model_module_version": "2.0.0",
            "model_name": "LayoutModel",
            "state": {
              "width": "95%"
            }
          },
          "4c6848db46f347d892a814956b70fb4f": {
            "model_module": "@jupyter-widgets/controls",
            "model_module_version": "2.0.0",
            "model_name": "HBoxModel",
            "state": {
              "children": [
                "IPY_MODEL_43e55d33a55248f286a0a7f7039c9260",
                "IPY_MODEL_29ee62c8c2074979afb22d315c3ba315"
              ],
              "layout": "IPY_MODEL_c713bccfd78f464dbfbf27c1888b3f7e"
            }
          },
          "f789db531ed142f4b2ff8c3d927c2aaa": {
            "model_module": "@jupyter-widgets/controls",
            "model_module_version": "2.0.0",
            "model_name": "TextStyleModel",
            "state": {
              "description_width": "",
              "font_size": null,
              "text_color": null
            }
          },
          "d06b1b36fe2544eead9d31013091325a": {
            "model_module": "@jupyter-widgets/controls",
            "model_module_version": "2.0.0",
            "model_name": "FloatTextModel",
            "state": {
              "description": "Speed",
              "layout": "IPY_MODEL_64b69574722742a4b59248192d9c6699",
              "step": 0.1,
              "style": "IPY_MODEL_d561acf83c4b43fd9dad7f522e9f08da",
              "value": 1
            }
          },
          "ffce96337a464ff784a8470e7c6f6eb9": {
            "model_module": "@jupyter-widgets/controls",
            "model_module_version": "2.0.0",
            "model_name": "ButtonModel",
            "state": {
              "description": "Read more",
              "layout": "IPY_MODEL_b12636c8ea294f46a8ce08ed3663c47e",
              "style": "IPY_MODEL_47a52b16fd394e819387c3e52dee2ced",
              "tooltip": null
            }
          },
          "ee7938f8fee140c5892e3e85b6d3f070": {
            "model_module": "@jupyter-widgets/controls",
            "model_module_version": "2.0.0",
            "model_name": "CheckboxModel",
            "state": {
              "description": "Allow overwrite",
              "disabled": false,
              "layout": "IPY_MODEL_895186d8cd6c41c48528a74ea8b0386e",
              "style": "IPY_MODEL_a980a0c7588945439407aeccb841a39e",
              "value": false
            }
          },
          "27976c16e4b94ebb8f44b3d65d3b9856": {
            "model_module": "@jupyter-widgets/base",
            "model_module_version": "2.0.0",
            "model_name": "LayoutModel",
            "state": {}
          },
          "696bed689f15447697197cdceebfae35": {
            "model_module": "@jupyter-widgets/controls",
            "model_module_version": "2.0.0",
            "model_name": "TextModel",
            "state": {
              "description": "Input Path",
              "layout": "IPY_MODEL_3eb598c755764905af49b7f12fa0bb57",
              "style": "IPY_MODEL_fee69356dd9a4ee1b55cd1a4fbd2fd4a",
              "tooltip": "Path to input directory or archive"
            }
          },
          "fa6728178fc64b39805ed15095d99699": {
            "model_module": "@jupyter-widgets/base",
            "model_module_version": "2.0.0",
            "model_name": "LayoutModel",
            "state": {}
          },
          "4e7d335716494cba870bd5c7fbe557cb": {
            "model_module": "@jupyter-widgets/controls",
            "model_module_version": "2.0.0",
            "model_name": "TextModel",
            "state": {
              "description": "Customer ID: ",
              "layout": "IPY_MODEL_82ea0834b7474bcb97d6223e92be2d34",
              "style": "IPY_MODEL_0a3d342e1c0d4b93986bad5c21f5ef99"
            }
          },
          "8eb37ed85e444b7e97f5a34956418aae": {
            "model_module": "@jupyter-widgets/controls",
            "model_module_version": "2.0.0",
            "model_name": "TextStyleModel",
            "state": {
              "description_width": "",
              "font_size": null,
              "text_color": null
            }
          },
          "5d4c4b7481dd4e8f9dfa0780238813c5": {
            "model_module": "@jupyter-widgets/controls",
            "model_module_version": "2.0.0",
            "model_name": "DescriptionStyleModel",
            "state": {
              "description_width": ""
            }
          },
          "6dcd18edf1e048bfacae6fb0ba7bf3d1": {
            "model_module": "@jupyter-widgets/controls",
            "model_module_version": "2.0.0",
            "model_name": "DescriptionStyleModel",
            "state": {
              "description_width": ""
            }
          },
          "aa02b9b8e0e14ed287242e83be8d92fe": {
            "model_module": "@jupyter-widgets/controls",
            "model_module_version": "2.0.0",
            "model_name": "TextStyleModel",
            "state": {
              "description_width": "",
              "font_size": null,
              "text_color": null
            }
          },
          "7f405496e0524bf59933429bd7057e24": {
            "model_module": "@jupyter-widgets/controls",
            "model_module_version": "2.0.0",
            "model_name": "CheckboxModel",
            "state": {
              "description": "Allow overwrite",
              "disabled": false,
              "layout": "IPY_MODEL_0e9f0e33dbe24f969c85c50b120c2775",
              "style": "IPY_MODEL_2f1bdc3047764ea793c151521cc898be",
              "value": false
            }
          },
          "e8b8ed99241840409b44f96816f866fc": {
            "model_module": "@jupyter-widgets/base",
            "model_module_version": "2.0.0",
            "model_name": "LayoutModel",
            "state": {
              "width": "90%"
            }
          },
          "40a95eedce2a4cada79c655f29ed4df5": {
            "model_module": "@jupyter-widgets/controls",
            "model_module_version": "2.0.0",
            "model_name": "TextStyleModel",
            "state": {
              "description_width": "",
              "font_size": null,
              "text_color": null
            }
          },
          "4f97d3d651714141af50c1b8a083c010": {
            "model_module": "@jupyter-widgets/controls",
            "model_module_version": "2.0.0",
            "model_name": "HTMLStyleModel",
            "state": {
              "description_width": "",
              "font_size": null,
              "text_color": null
            }
          },
          "d36b118bc66549ac8ccd67f93f3d6043": {
            "model_module": "@jupyter-widgets/controls",
            "model_module_version": "2.0.0",
            "model_name": "TextStyleModel",
            "state": {
              "description_width": "",
              "font_size": null,
              "text_color": null
            }
          },
          "1f6828e8bed84b85ba0390583b4a4dbc": {
            "model_module": "@jupyter-widgets/controls",
            "model_module_version": "2.0.0",
            "model_name": "DescriptionStyleModel",
            "state": {
              "description_width": ""
            }
          },
          "ecdb2f5025504a31a485eb64081feeed": {
            "model_module": "@jupyter-widgets/base",
            "model_module_version": "2.0.0",
            "model_name": "LayoutModel",
            "state": {}
          },
          "cc2958ae68944aef9eeea0ade02c70a0": {
            "model_module": "@jupyter-widgets/controls",
            "model_module_version": "2.0.0",
            "model_name": "HBoxModel",
            "state": {
              "children": [
                "IPY_MODEL_d3b1d7841a0447e2ac294b3f06377855",
                "IPY_MODEL_f85f3f5cd5a24beaadd55d188377e19a",
                "IPY_MODEL_3b6bcbc74f1840ed868d9a3df47922cf"
              ],
              "layout": "IPY_MODEL_5c6aaf8e640f4dfa935117759af65062"
            }
          },
          "2438a0e8a24d47dd8915c330f2017f34": {
            "model_module": "@jupyter-widgets/controls",
            "model_module_version": "2.0.0",
            "model_name": "ButtonStyleModel",
            "state": {
              "font_family": null,
              "font_size": null,
              "font_style": null,
              "font_variant": null,
              "font_weight": null,
              "text_color": null,
              "text_decoration": null
            }
          },
          "0ef46dbc4e7949c793c3e0993a786077": {
            "model_module": "@jupyter-widgets/output",
            "model_module_version": "1.0.0",
            "model_name": "OutputModel",
            "state": {
              "layout": "IPY_MODEL_66fea623d6ca4d17b31b9495eab25c3b"
            }
          },
          "987f1f5d9d14421483e41076df3b1a4f": {
            "model_module": "@jupyter-widgets/controls",
            "model_module_version": "2.0.0",
            "model_name": "TextStyleModel",
            "state": {
              "description_width": "",
              "font_size": null,
              "text_color": null
            }
          },
          "14aeb8a11ad540ae94d6687969fd5276": {
            "model_module": "@jupyter-widgets/controls",
            "model_module_version": "2.0.0",
            "model_name": "IntTextModel",
            "state": {
              "description": "Max count:",
              "layout": "IPY_MODEL_b3e698e35c3d4dbe8d13b48888f4a24d",
              "step": 1,
              "style": "IPY_MODEL_5989225faca94eef9dd53e50e7555054"
            }
          },
          "0ddf25def1a8489594e184414662c20c": {
            "model_module": "@jupyter-widgets/base",
            "model_module_version": "2.0.0",
            "model_name": "LayoutModel",
            "state": {}
          },
          "1862817b0ca346f181eb2a0599083e10": {
            "model_module": "@jupyter-widgets/base",
            "model_module_version": "2.0.0",
            "model_name": "LayoutModel",
            "state": {}
          },
          "aca7f34e094f41ef91ff513c45fabb4a": {
            "model_module": "@jupyter-widgets/base",
            "model_module_version": "2.0.0",
            "model_name": "LayoutModel",
            "state": {}
          },
          "c8f12b80ced841d391c71287c9790a85": {
            "model_module": "@jupyter-widgets/base",
            "model_module_version": "2.0.0",
            "model_name": "LayoutModel",
            "state": {
              "width": "40%"
            }
          },
          "c1b79b56d8664724a86237f6a073cf67": {
            "model_module": "@jupyter-widgets/base",
            "model_module_version": "2.0.0",
            "model_name": "LayoutModel",
            "state": {
              "width": "40%"
            }
          },
          "9f586f5e41bf4b1ca71064e69607e7a2": {
            "model_module": "@jupyter-widgets/controls",
            "model_module_version": "2.0.0",
            "model_name": "HBoxModel",
            "state": {
              "children": [
                "IPY_MODEL_86583b50eef748689eff34b6adf6d1d5",
                "IPY_MODEL_4ad2f8ecf22c4918b1a0c856e5f758fe",
                "IPY_MODEL_420e867c2fc6409a828b333be5c6c3eb"
              ],
              "layout": "IPY_MODEL_bce901758c9e461f8ad52051289b7da2"
            }
          },
          "47ec4c73f64e4bfdbb1762d5c02ad899": {
            "model_module": "@jupyter-widgets/base",
            "model_module_version": "2.0.0",
            "model_name": "LayoutModel",
            "state": {}
          },
          "dbc6dee4431641e6b45e6984b848610c": {
            "model_module": "@jupyter-widgets/controls",
            "model_module_version": "2.0.0",
            "model_name": "IntTextModel",
            "state": {
              "description": "Max count:",
              "layout": "IPY_MODEL_01cf30acd582446a9b271eac750247f7",
              "step": 1,
              "style": "IPY_MODEL_ef5137312e9949bebbbc64dcb0e2595b"
            }
          },
          "9840785795f44741a99bd960e08d80d9": {
            "model_module": "@jupyter-widgets/base",
            "model_module_version": "2.0.0",
            "model_name": "LayoutModel",
            "state": {}
          },
          "dada4fda7f6d42ff9a4dc84a6a283d84": {
            "model_module": "@jupyter-widgets/base",
            "model_module_version": "2.0.0",
            "model_name": "LayoutModel",
            "state": {
              "width": "90%"
            }
          },
          "9ad1f3f0564a4c26a9cc2b3cffe81533": {
            "model_module": "@jupyter-widgets/base",
            "model_module_version": "2.0.0",
            "model_name": "LayoutModel",
            "state": {}
          },
          "a45f2cb771754b72817823c64fcbccb4": {
            "model_module": "@jupyter-widgets/controls",
            "model_module_version": "2.0.0",
            "model_name": "IntTextModel",
            "state": {
              "description": "Max count:",
              "layout": "IPY_MODEL_fb27a91285c348fa8e33c0b6c915e3e5",
              "step": 1,
              "style": "IPY_MODEL_92ac046c8ffa4fcc84582504eb94016c"
            }
          },
          "862b1cbc62b84e2eb5e6e165c7da3118": {
            "model_module": "@jupyter-widgets/controls",
            "model_module_version": "2.0.0",
            "model_name": "ButtonModel",
            "state": {
              "description": "Start export",
              "layout": "IPY_MODEL_c0f49c89fe9d4e5ba75b0e4568b8401a",
              "style": "IPY_MODEL_097f34597298459faedf34504874b070",
              "tooltip": null
            }
          },
          "9b291e18280e4ea1a611cebda9c9844f": {
            "model_module": "@jupyter-widgets/base",
            "model_module_version": "2.0.0",
            "model_name": "LayoutModel",
            "state": {}
          },
          "0c9041a8857b409b892336d476b6ce18": {
            "model_module": "@jupyter-widgets/controls",
            "model_module_version": "2.0.0",
            "model_name": "TextStyleModel",
            "state": {
              "description_width": "",
              "font_size": null,
              "text_color": null
            }
          },
          "bb0dc930827a45dd89a01390165400be": {
            "model_module": "@jupyter-widgets/controls",
            "model_module_version": "2.0.0",
            "model_name": "TextModel",
            "state": {
              "description": "Input Path",
              "layout": "IPY_MODEL_8257fa0f067a4ae796bfdb6506c523fb",
              "style": "IPY_MODEL_a179c02ee2444440bd42c037cac6eb8e",
              "tooltip": "Path to PDF directory"
            }
          },
          "754f5f245aa242edb02045d1dc42f251": {
            "model_module": "@jupyter-widgets/base",
            "model_module_version": "2.0.0",
            "model_name": "LayoutModel",
            "state": {}
          },
          "c06b4ec1d28d42988f75eb9b852ea9f9": {
            "model_module": "@jupyter-widgets/controls",
            "model_module_version": "2.0.0",
            "model_name": "DescriptionStyleModel",
            "state": {
              "description_width": ""
            }
          },
          "266a0faf6b594b1788725b332956d5c0": {
            "model_module": "@jupyter-widgets/base",
            "model_module_version": "2.0.0",
            "model_name": "LayoutModel",
            "state": {}
          },
          "1f46f3861c7449a1865ce0de305caf3a": {
            "model_module": "@jupyter-widgets/controls",
            "model_module_version": "2.0.0",
            "model_name": "TextModel",
            "state": {
              "description": "Input Path",
              "layout": "IPY_MODEL_5f94838ae58046e7907443a7d1610eee",
              "style": "IPY_MODEL_a8bb5944a8b9490e80665a4909650bf9",
              "tooltip": "Path to input directory or archive"
            }
          },
          "1829630dfccd49119a71af9335352edf": {
            "model_module": "@jupyter-widgets/controls",
            "model_module_version": "2.0.0",
            "model_name": "CheckboxStyleModel",
            "state": {
              "description_width": ""
            }
          },
          "2355a08375694c63b04e1b133e688bd8": {
            "model_module": "@jupyter-widgets/base",
            "model_module_version": "2.0.0",
            "model_name": "LayoutModel",
            "state": {
              "width": "90%"
            }
          },
          "c35dc70aa7b94577a2afb9958461d680": {
            "model_module": "@jupyter-widgets/base",
            "model_module_version": "2.0.0",
            "model_name": "LayoutModel",
            "state": {
              "width": "90%"
            }
          },
          "e5392204d8ca4d9d97d2b6122f1874fb": {
            "model_module": "@jupyter-widgets/base",
            "model_module_version": "2.0.0",
            "model_name": "LayoutModel",
            "state": {}
          },
          "f05c0ef5e77b49c489d004018de35028": {
            "model_module": "@jupyter-widgets/controls",
            "model_module_version": "2.0.0",
            "model_name": "TextModel",
            "state": {
              "description": "Output Path",
              "layout": "IPY_MODEL_fb6aeb43620041e992806f4b4379003d",
              "style": "IPY_MODEL_1022c36c756646fda252781e8daefe0f"
            }
          },
          "473ac157934942639a00489ad5ea7425": {
            "model_module": "@jupyter-widgets/base",
            "model_module_version": "2.0.0",
            "model_name": "LayoutModel",
            "state": {}
          },
          "080fc159ec43433484a576ecc99b9705": {
            "model_module": "@jupyter-widgets/base",
            "model_module_version": "2.0.0",
            "model_name": "LayoutModel",
            "state": {}
          },
          "7fe51bb315034936a76b6e1bc5d92115": {
            "model_module": "@jupyter-widgets/controls",
            "model_module_version": "2.0.0",
            "model_name": "ButtonStyleModel",
            "state": {
              "font_family": null,
              "font_size": null,
              "font_style": null,
              "font_variant": null,
              "font_weight": null,
              "text_color": null,
              "text_decoration": null
            }
          },
          "9fd18f4a748548cc8f9ffb1c095ea96e": {
            "model_module": "@jupyter-widgets/controls",
            "model_module_version": "2.0.0",
            "model_name": "DescriptionStyleModel",
            "state": {
              "description_width": ""
            }
          },
          "5da14340f45d43968d4b41e3fa22b8a4": {
            "model_module": "@jupyter-widgets/controls",
            "model_module_version": "2.0.0",
            "model_name": "ButtonModel",
            "state": {
              "description": "Start export",
              "layout": "IPY_MODEL_4023ec968ccf4ee49ffe0498a8600716",
              "style": "IPY_MODEL_c89cf90b4dcd467d8d556a4e629ae2c3",
              "tooltip": null
            }
          },
          "54282621fae04cc79c43e49568be572b": {
            "model_module": "@jupyter-widgets/controls",
            "model_module_version": "2.0.0",
            "model_name": "IntTextModel",
            "state": {
              "description": "Max rows",
              "layout": "IPY_MODEL_d7b4c742a01b4fb3971c63b48b99da2c",
              "step": 1,
              "style": "IPY_MODEL_c35409e837844708a06f7dceeb1ad12d"
            }
          },
          "8db27f5af4e6438a8b260516de497557": {
            "model_module": "@jupyter-widgets/controls",
            "model_module_version": "2.0.0",
            "model_name": "CheckboxStyleModel",
            "state": {
              "description_width": ""
            }
          },
          "1f2015b2d96547f19ff4a893c6340ffc": {
            "model_module": "@jupyter-widgets/controls",
            "model_module_version": "2.0.0",
            "model_name": "ButtonStyleModel",
            "state": {
              "font_family": null,
              "font_size": null,
              "font_style": null,
              "font_variant": null,
              "font_weight": null,
              "text_color": null,
              "text_decoration": null
            }
          },
          "df08b476a9f84e3c97b7c2d17e744297": {
            "model_module": "@jupyter-widgets/base",
            "model_module_version": "2.0.0",
            "model_name": "LayoutModel",
            "state": {}
          },
          "95cf7c4de4d04629a9d7815939ce5d86": {
            "model_module": "@jupyter-widgets/controls",
            "model_module_version": "2.0.0",
            "model_name": "CheckboxStyleModel",
            "state": {
              "description_width": ""
            }
          },
          "511047ba210b45e38fd3bb8307ff8624": {
            "model_module": "@jupyter-widgets/base",
            "model_module_version": "2.0.0",
            "model_name": "LayoutModel",
            "state": {}
          },
          "c5bed0419e184085b74cf45651ede6e8": {
            "model_module": "@jupyter-widgets/controls",
            "model_module_version": "2.0.0",
            "model_name": "ButtonStyleModel",
            "state": {
              "font_family": null,
              "font_size": null,
              "font_style": null,
              "font_variant": null,
              "font_weight": null,
              "text_color": null,
              "text_decoration": null
            }
          },
          "e1f937a84f394e9fa20abb43e0ef1990": {
            "model_module": "@jupyter-widgets/controls",
            "model_module_version": "2.0.0",
            "model_name": "ButtonStyleModel",
            "state": {
              "font_family": null,
              "font_size": null,
              "font_style": null,
              "font_variant": null,
              "font_weight": null,
              "text_color": null,
              "text_decoration": null
            }
          },
          "b92a8b24d0a543ab8a26d7c29c47688d": {
            "model_module": "@jupyter-widgets/controls",
            "model_module_version": "2.0.0",
            "model_name": "DescriptionStyleModel",
            "state": {
              "description_width": ""
            }
          },
          "96cc6de46399465abf9efa14e1ea3378": {
            "model_module": "@jupyter-widgets/controls",
            "model_module_version": "2.0.0",
            "model_name": "IntTextModel",
            "state": {
              "description": "Max rows",
              "layout": "IPY_MODEL_10049385cab34b8c831d90d6225f8d63",
              "step": 1,
              "style": "IPY_MODEL_8edebc5c804143818f8beb5e0f71092d"
            }
          },
          "c028ca733a444646ad5eda116bfab4c7": {
            "model_module": "@jupyter-widgets/base",
            "model_module_version": "2.0.0",
            "model_name": "LayoutModel",
            "state": {}
          },
          "cb6dae726ca1433bb541d2c7465f45ed": {
            "model_module": "@jupyter-widgets/base",
            "model_module_version": "2.0.0",
            "model_name": "LayoutModel",
            "state": {}
          },
          "5d38c3d366424f0e9ec32b834b6d1cc2": {
            "model_module": "@jupyter-widgets/base",
            "model_module_version": "2.0.0",
            "model_name": "LayoutModel",
            "state": {
              "width": "95%"
            }
          },
          "818e4c946f8b45f3afdca4f114a5627f": {
            "model_module": "@jupyter-widgets/controls",
            "model_module_version": "2.0.0",
            "model_name": "CheckboxModel",
            "state": {
              "description": "Don't split in batches",
              "disabled": false,
              "layout": "IPY_MODEL_45140a3cee954d14a993717587fd2313",
              "style": "IPY_MODEL_9e0571c8133f4de79567328bea24cd69",
              "value": false
            }
          },
          "e6cb4bf99d734ba08375891970b9bcb6": {
            "model_module": "@jupyter-widgets/controls",
            "model_module_version": "2.0.0",
            "model_name": "HBoxModel",
            "state": {
              "children": [
                "IPY_MODEL_d81fb5651b794b769d77d9104bb59aa2",
                "IPY_MODEL_4cc730d96b4f4278985e7c30a7381ba9"
              ],
              "layout": "IPY_MODEL_38ce72e04c384f519f1c5d4d0e98b394"
            }
          },
          "69875033d3cc49a2a2e307adfd89a102": {
            "model_module": "@jupyter-widgets/base",
            "model_module_version": "2.0.0",
            "model_name": "LayoutModel",
            "state": {
              "width": "40%"
            }
          },
          "33b6f924bb78438d890299ae80a727d1": {
            "model_module": "@jupyter-widgets/base",
            "model_module_version": "2.0.0",
            "model_name": "LayoutModel",
            "state": {
              "width": "95%"
            }
          },
          "4dfa0fab41f240829c040357497d3a9a": {
            "model_module": "@jupyter-widgets/controls",
            "model_module_version": "2.0.0",
            "model_name": "TextStyleModel",
            "state": {
              "description_width": "",
              "font_size": null,
              "text_color": null
            }
          },
          "5ecdef7b8f9a41e6aaf393edfbbb6d9d": {
            "model_module": "@jupyter-widgets/base",
            "model_module_version": "2.0.0",
            "model_name": "LayoutModel",
            "state": {
              "width": "90%"
            }
          },
          "89c15a9ee5da432b8e7d5144a498ac4c": {
            "model_module": "@jupyter-widgets/controls",
            "model_module_version": "2.0.0",
            "model_name": "TextStyleModel",
            "state": {
              "description_width": "",
              "font_size": null,
              "text_color": null
            }
          },
          "796a9ef7b10d491792e3d42117ebac8a": {
            "model_module": "@jupyter-widgets/base",
            "model_module_version": "2.0.0",
            "model_name": "LayoutModel",
            "state": {}
          },
          "554df7f3b9d140d0a619ce72907a9d84": {
            "model_module": "@jupyter-widgets/controls",
            "model_module_version": "2.0.0",
            "model_name": "TextModel",
            "state": {
              "description": "Input Path",
              "layout": "IPY_MODEL_d16b43f614c042389a32f4f8fd6eb666",
              "style": "IPY_MODEL_4dfa0fab41f240829c040357497d3a9a",
              "tooltip": "Path to input directory or archive"
            }
          },
          "c3309308ce9c401db32d15ea5e885db2": {
            "model_module": "@jupyter-widgets/controls",
            "model_module_version": "2.0.0",
            "model_name": "ButtonStyleModel",
            "state": {
              "font_family": null,
              "font_size": null,
              "font_style": null,
              "font_variant": null,
              "font_weight": null,
              "text_color": null,
              "text_decoration": null
            }
          },
          "5d51cb21363e4c32a71329bcbe85ae8d": {
            "model_module": "@jupyter-widgets/controls",
            "model_module_version": "2.0.0",
            "model_name": "CheckboxModel",
            "state": {
              "description": "ZIP export (must be .json, .csv)",
              "disabled": false,
              "layout": "IPY_MODEL_dceb6086e5eb4edf94347530f507b24f",
              "style": "IPY_MODEL_bbca61f7858f4b3d9d81e2e851e3724c",
              "value": false
            }
          },
          "93872809b53a4f4c8a7a7d5cb1b76798": {
            "model_module": "@jupyter-widgets/base",
            "model_module_version": "2.0.0",
            "model_name": "LayoutModel",
            "state": {
              "width": "90%"
            }
          },
          "80d88500eb2e41df89c1710d46caf140": {
            "model_module": "@jupyter-widgets/controls",
            "model_module_version": "2.0.0",
            "model_name": "FloatTextModel",
            "state": {
              "description": "Speed",
              "layout": "IPY_MODEL_c893f750e1bd4fdea5776c02bf0576c2",
              "step": 0.1,
              "style": "IPY_MODEL_412c569579d643b190f0587b5ee469b9",
              "value": 1
            }
          },
          "cdddfed8c84b4cedae984e4b8ee9255f": {
            "model_module": "@jupyter-widgets/controls",
            "model_module_version": "2.0.0",
            "model_name": "ButtonModel",
            "state": {
              "description": "Start archiving",
              "layout": "IPY_MODEL_44d93d81c88d47de930d8fef583ccd8b",
              "style": "IPY_MODEL_1eb755ea42ab42d6b774aae3aa15c554",
              "tooltip": null
            }
          },
          "7086bc13223b43ea8bd5453e647b0bf5": {
            "model_module": "@jupyter-widgets/controls",
            "model_module_version": "2.0.0",
            "model_name": "TextStyleModel",
            "state": {
              "description_width": "",
              "font_size": null,
              "text_color": null
            }
          },
          "d0b9909d1557418891584726f5be0a3b": {
            "model_module": "@jupyter-widgets/controls",
            "model_module_version": "2.0.0",
            "model_name": "ButtonStyleModel",
            "state": {
              "font_family": null,
              "font_size": null,
              "font_style": null,
              "font_variant": null,
              "font_weight": null,
              "text_color": null,
              "text_decoration": null
            }
          },
          "7c99069615ad481981eb9fd224528aef": {
            "model_module": "@jupyter-widgets/controls",
            "model_module_version": "2.0.0",
            "model_name": "TextStyleModel",
            "state": {
              "description_width": "",
              "font_size": null,
              "text_color": null
            }
          },
          "2caea8bb58cb49ed96fcc1dd4115e6b2": {
            "model_module": "@jupyter-widgets/controls",
            "model_module_version": "2.0.0",
            "model_name": "CheckboxModel",
            "state": {
              "description": "ZIP export (must be .json, .csv)",
              "disabled": false,
              "layout": "IPY_MODEL_78eb62d776ea4b9eae4b0d07485428a6",
              "style": "IPY_MODEL_17ebe9423d5b41198e94eaba0c45a53a",
              "value": false
            }
          },
          "5c0aee499b6e423ca7f802dc00d139b8": {
            "model_module": "@jupyter-widgets/base",
            "model_module_version": "2.0.0",
            "model_name": "LayoutModel",
            "state": {}
          },
          "39190015a0194404836994231208e045": {
            "model_module": "@jupyter-widgets/controls",
            "model_module_version": "2.0.0",
            "model_name": "ButtonModel",
            "state": {
              "description": "Start export",
              "layout": "IPY_MODEL_b43320650168421faa5ab379062f6bc3",
              "style": "IPY_MODEL_d0b9909d1557418891584726f5be0a3b",
              "tooltip": null
            }
          },
          "3dcfc4ee1bb342d9bbc1eac955b6df7c": {
            "model_module": "@jupyter-widgets/base",
            "model_module_version": "2.0.0",
            "model_name": "LayoutModel",
            "state": {}
          },
          "548bfc1e2adc431f9fe21065c28ade4c": {
            "model_module": "@jupyter-widgets/controls",
            "model_module_version": "2.0.0",
            "model_name": "DropdownModel",
            "state": {
              "_options_labels": [
                "cases",
                "charges",
                "disposition",
                "filing",
                "fees"
              ],
              "description": "Table:",
              "index": 0,
              "layout": "IPY_MODEL_605b4b20c5c84258910953b94ec9b707",
              "style": "IPY_MODEL_8d56cb4624124290a0b3ca13864c12c4"
            }
          },
          "ad78c11c181f4d0da9e612d661ddfc48": {
            "model_module": "@jupyter-widgets/base",
            "model_module_version": "2.0.0",
            "model_name": "LayoutModel",
            "state": {
              "width": "90%"
            }
          },
          "3b1a570da4cb411aa99c68309ed8309c": {
            "model_module": "@jupyter-widgets/controls",
            "model_module_version": "2.0.0",
            "model_name": "ButtonStyleModel",
            "state": {
              "font_family": null,
              "font_size": null,
              "font_style": null,
              "font_variant": null,
              "font_weight": null,
              "text_color": null,
              "text_decoration": null
            }
          },
          "675f9b2aeda6419b98eff5baa45721a7": {
            "model_module": "@jupyter-widgets/base",
            "model_module_version": "2.0.0",
            "model_name": "LayoutModel",
            "state": {}
          },
          "eefe5dbea53844c89ecd258740b34259": {
            "model_module": "@jupyter-widgets/controls",
            "model_module_version": "2.0.0",
            "model_name": "ButtonStyleModel",
            "state": {
              "font_family": null,
              "font_size": null,
              "font_style": null,
              "font_variant": null,
              "font_weight": null,
              "text_color": null,
              "text_decoration": null
            }
          },
          "86ef809591dc435e96898dce3c4c6274": {
            "model_module": "@jupyter-widgets/controls",
            "model_module_version": "2.0.0",
            "model_name": "ButtonStyleModel",
            "state": {
              "font_family": null,
              "font_size": null,
              "font_style": null,
              "font_variant": null,
              "font_weight": null,
              "text_color": null,
              "text_decoration": null
            }
          },
          "18d48a5e1a644996b42fdd29c2767a91": {
            "model_module": "@jupyter-widgets/controls",
            "model_module_version": "2.0.0",
            "model_name": "TextStyleModel",
            "state": {
              "description_width": "",
              "font_size": null,
              "text_color": null
            }
          },
          "66fea623d6ca4d17b31b9495eab25c3b": {
            "model_module": "@jupyter-widgets/base",
            "model_module_version": "2.0.0",
            "model_name": "LayoutModel",
            "state": {}
          },
          "ed86e2f14e0d484f82dac52476247228": {
            "model_module": "@jupyter-widgets/base",
            "model_module_version": "2.0.0",
            "model_name": "LayoutModel",
            "state": {
              "width": "40%"
            }
          },
          "2d68be3a97a34b97b619bfe72feea3ae": {
            "model_module": "@jupyter-widgets/controls",
            "model_module_version": "2.0.0",
            "model_name": "CheckboxStyleModel",
            "state": {
              "description_width": ""
            }
          },
          "511e40f7e97f45629252cdb0c039fdf0": {
            "model_module": "@jupyter-widgets/base",
            "model_module_version": "2.0.0",
            "model_name": "LayoutModel",
            "state": {}
          },
          "d867d8ff5f3a4b1daf7361e49e63f40b": {
            "model_module": "@jupyter-widgets/base",
            "model_module_version": "2.0.0",
            "model_name": "LayoutModel",
            "state": {
              "width": "90%"
            }
          },
          "1ffe9962d78442b191692c9e8a51130b": {
            "model_module": "@jupyter-widgets/base",
            "model_module_version": "2.0.0",
            "model_name": "LayoutModel",
            "state": {
              "width": "90%"
            }
          },
          "3a85be1e3b21465088be022856b8c892": {
            "model_module": "@jupyter-widgets/base",
            "model_module_version": "2.0.0",
            "model_name": "LayoutModel",
            "state": {}
          },
          "17711a49f5df40979d650174f6467824": {
            "model_module": "@jupyter-widgets/controls",
            "model_module_version": "2.0.0",
            "model_name": "DescriptionStyleModel",
            "state": {
              "description_width": ""
            }
          },
          "696a60e4d6554dd181c0535763af486a": {
            "model_module": "@jupyter-widgets/controls",
            "model_module_version": "2.0.0",
            "model_name": "TextModel",
            "state": {
              "description": "Output Path",
              "layout": "IPY_MODEL_38ec675d84cb47c699e05b48ef199ef1",
              "style": "IPY_MODEL_16681044c3a147bd89d2fc9a7ae1d33e"
            }
          },
          "498abb87485d4372b3839d27087cb3ac": {
            "model_module": "@jupyter-widgets/controls",
            "model_module_version": "2.0.0",
            "model_name": "CheckboxStyleModel",
            "state": {
              "description_width": ""
            }
          },
          "3a1e446653e94b95a23b682e53832b23": {
            "model_module": "@jupyter-widgets/controls",
            "model_module_version": "2.0.0",
            "model_name": "ProgressStyleModel",
            "state": {
              "description_width": ""
            }
          },
          "c1c6d037daf04409bc1d9ee3d45eb264": {
            "model_module": "@jupyter-widgets/controls",
            "model_module_version": "2.0.0",
            "model_name": "CheckboxModel",
            "state": {
              "description": "ZIP export (must be .json, .csv)",
              "disabled": false,
              "layout": "IPY_MODEL_8067d0e062f24806b5225f3ce237061b",
              "style": "IPY_MODEL_4043ed4810394dc6bfcc51578bddb078",
              "value": false
            }
          },
          "dc10d7e13dfd48a7a5bf40ecaf96ba26": {
            "model_module": "@jupyter-widgets/base",
            "model_module_version": "2.0.0",
            "model_name": "LayoutModel",
            "state": {
              "width": "95%"
            }
          },
          "213b38fd15604fd6b61b1ca687d461c7": {
            "model_module": "@jupyter-widgets/base",
            "model_module_version": "2.0.0",
            "model_name": "LayoutModel",
            "state": {}
          },
          "77df9c1634bb4f54af019bc1e30c65da": {
            "model_module": "@jupyter-widgets/controls",
            "model_module_version": "2.0.0",
            "model_name": "IntTextModel",
            "state": {
              "description": "Skip rows",
              "layout": "IPY_MODEL_e761bb8ebf474ec79e3575516a105e5d",
              "step": 1,
              "style": "IPY_MODEL_dbb0092192604769b2d1ba86ba31bc2e"
            }
          },
          "8119d465382a4dfd836c048806cabbfa": {
            "model_module": "@jupyter-widgets/controls",
            "model_module_version": "2.0.0",
            "model_name": "TextModel",
            "state": {
              "description": "Customer ID: ",
              "layout": "IPY_MODEL_064f57b093934e1d827850a426c337ef",
              "style": "IPY_MODEL_394cac46119e464ba0b89648d060a6ca"
            }
          },
          "f5659dadd6b846689b1cb0c0701313ac": {
            "model_module": "@jupyter-widgets/base",
            "model_module_version": "2.0.0",
            "model_name": "LayoutModel",
            "state": {}
          },
          "e6e64ecf9c824cd081ed2af99b1e44c4": {
            "model_module": "@jupyter-widgets/base",
            "model_module_version": "2.0.0",
            "model_name": "LayoutModel",
            "state": {
              "width": "95%"
            }
          },
          "6ebbdd6c1e834cf9b363c544e3640048": {
            "model_module": "@jupyter-widgets/base",
            "model_module_version": "2.0.0",
            "model_name": "LayoutModel",
            "state": {
              "width": "95%"
            }
          },
          "53a3f9882c9643649e40f3ea26d39f97": {
            "model_module": "@jupyter-widgets/base",
            "model_module_version": "2.0.0",
            "model_name": "LayoutModel",
            "state": {
              "width": "90%"
            }
          },
          "848be7a5226848d19ced57a8287a9dde": {
            "model_module": "@jupyter-widgets/controls",
            "model_module_version": "2.0.0",
            "model_name": "HBoxModel",
            "state": {
              "children": [
                "IPY_MODEL_90f385ee7afb4ee5ac09ea96d13b15c6",
                "IPY_MODEL_2e16efd980874d40b1d1e690ae81036d"
              ],
              "layout": "IPY_MODEL_f124eace4d884452a542a3271dd15103"
            }
          },
          "b113d462df034afe941d022ae9ed7c5f": {
            "model_module": "@jupyter-widgets/base",
            "model_module_version": "2.0.0",
            "model_name": "LayoutModel",
            "state": {}
          },
          "032e4dd9e6a84c03b9cfa8b9193507c2": {
            "model_module": "@jupyter-widgets/controls",
            "model_module_version": "2.0.0",
            "model_name": "IntTextModel",
            "state": {
              "description": "Max count:",
              "layout": "IPY_MODEL_e46bcb236a8546aa92461267423d84d2",
              "step": 1,
              "style": "IPY_MODEL_9fd18f4a748548cc8f9ffb1c095ea96e"
            }
          },
          "ff7f688b74644d3ea29cb93ca251f29c": {
            "model_module": "@jupyter-widgets/controls",
            "model_module_version": "2.0.0",
            "model_name": "TextStyleModel",
            "state": {
              "description_width": "",
              "font_size": null,
              "text_color": null
            }
          },
          "84aaef86eb6c4204bd46dbc601011cc0": {
            "model_module": "@jupyter-widgets/controls",
            "model_module_version": "2.0.0",
            "model_name": "DescriptionStyleModel",
            "state": {
              "description_width": ""
            }
          },
          "cc2f84d30ef0431e8efe136f22c0f3e9": {
            "model_module": "@jupyter-widgets/controls",
            "model_module_version": "2.0.0",
            "model_name": "IntTextModel",
            "state": {
              "description": "Max count:",
              "layout": "IPY_MODEL_cf530aee5f974bbca4ee0bd83a7c89ee",
              "step": 1,
              "style": "IPY_MODEL_f63dc546ebc041ad9e6befd0dfa08f50"
            }
          },
          "b0f7ac72069e4068b29034426a50ee38": {
            "model_module": "@jupyter-widgets/controls",
            "model_module_version": "2.0.0",
            "model_name": "TextModel",
            "state": {
              "description": "Customer ID: ",
              "layout": "IPY_MODEL_e35cf447708e4d819e1e1749f25fe063",
              "style": "IPY_MODEL_1de45ffa790a4c27a4026ccf45a3844e"
            }
          },
          "5ad5da884f7d4a39bf94102e76ac2c8f": {
            "model_module": "@jupyter-widgets/controls",
            "model_module_version": "2.0.0",
            "model_name": "ButtonStyleModel",
            "state": {
              "font_family": null,
              "font_size": null,
              "font_style": null,
              "font_variant": null,
              "font_weight": null,
              "text_color": null,
              "text_decoration": null
            }
          },
          "8c08bcd6ac274acfaa9ac1b32d9b03fa": {
            "model_module": "@jupyter-widgets/base",
            "model_module_version": "2.0.0",
            "model_name": "LayoutModel",
            "state": {}
          },
          "80684d40bbb2494496ad9acee3ebc352": {
            "model_module": "@jupyter-widgets/controls",
            "model_module_version": "2.0.0",
            "model_name": "CheckboxStyleModel",
            "state": {
              "description_width": ""
            }
          },
          "2eaac5bb46194a7db09116309bcb0ad7": {
            "model_module": "@jupyter-widgets/base",
            "model_module_version": "2.0.0",
            "model_name": "LayoutModel",
            "state": {
              "width": "95%"
            }
          },
          "7e47ba2f0acb41ddbff10cfb4c7d6f46": {
            "model_module": "@jupyter-widgets/controls",
            "model_module_version": "2.0.0",
            "model_name": "ButtonStyleModel",
            "state": {
              "font_family": null,
              "font_size": null,
              "font_style": null,
              "font_variant": null,
              "font_weight": null,
              "text_color": null,
              "text_decoration": null
            }
          },
          "a239764b0723470f9f4970461fb2c8d5": {
            "model_module": "@jupyter-widgets/controls",
            "model_module_version": "2.0.0",
            "model_name": "RadioButtonsModel",
            "state": {
              "_options_labels": [
                "cases",
                "charges",
                "disposition",
                "filing",
                "fees"
              ],
              "description": "Table:",
              "index": 0,
              "layout": "IPY_MODEL_236f8e64e06b4fe093e00edad6c74e22",
              "style": "IPY_MODEL_aa8c1303930943bf9766945bfdddea19"
            }
          },
          "ad01c422a10f4ae7ae95eca93c6dd113": {
            "model_module": "@jupyter-widgets/output",
            "model_module_version": "1.0.0",
            "model_name": "OutputModel",
            "state": {
              "layout": "IPY_MODEL_41765e8e89a24a09be906cacb4131843"
            }
          },
          "9fdf2b29d0284b6e9051a2239d107d9e": {
            "model_module": "@jupyter-widgets/controls",
            "model_module_version": "2.0.0",
            "model_name": "IntTextModel",
            "state": {
              "description": "Max count:",
              "layout": "IPY_MODEL_86532b90fa7246dfbe31a8b3ac1fc771",
              "step": 1,
              "style": "IPY_MODEL_63a01c275b8244eb8a0d9abd8613c2c1"
            }
          },
          "d9cb75787e8d4ece84ac158d1a2ce1df": {
            "model_module": "@jupyter-widgets/controls",
            "model_module_version": "2.0.0",
            "model_name": "TextStyleModel",
            "state": {
              "description_width": "",
              "font_size": null,
              "text_color": null
            }
          },
          "6aea921235ca4a3184fe34586649da3c": {
            "model_module": "@jupyter-widgets/controls",
            "model_module_version": "2.0.0",
            "model_name": "TextStyleModel",
            "state": {
              "description_width": "",
              "font_size": null,
              "text_color": null
            }
          },
          "d4a00e9447f7491ca196739868345063": {
            "model_module": "@jupyter-widgets/controls",
            "model_module_version": "2.0.0",
            "model_name": "TextModel",
            "state": {
              "description": "Output Path",
              "layout": "IPY_MODEL_1f29041041f24730acdff11a20e9f15d",
              "style": "IPY_MODEL_96ed9e0fe3a749a69c89bb4a5dff4c93"
            }
          },
          "472f2b107454495eb3aba9aef9fa29be": {
            "model_module": "@jupyter-widgets/controls",
            "model_module_version": "2.0.0",
            "model_name": "DescriptionStyleModel",
            "state": {
              "description_width": ""
            }
          },
          "b3f11206d94c4e4aa414397008a150b2": {
            "model_module": "@jupyter-widgets/controls",
            "model_module_version": "2.0.0",
            "model_name": "IntTextModel",
            "state": {
              "description": "Max rows",
              "layout": "IPY_MODEL_ed86e2f14e0d484f82dac52476247228",
              "step": 1,
              "style": "IPY_MODEL_2e7339454be24dda82b7dc9ff0578b14"
            }
          },
          "0769c05a40014e6cbe4dec026a7c9141": {
            "model_module": "@jupyter-widgets/controls",
            "model_module_version": "2.0.0",
            "model_name": "TextModel",
            "state": {
              "description": "Input Path",
              "layout": "IPY_MODEL_21cc3906e33549ea81dfdb8d2cd7c6d0",
              "style": "IPY_MODEL_9ff43c9e20bc4a7c9e45decd8b60abcd",
              "tooltip": "Path to input directory or archive"
            }
          },
          "832652e5ac1a4d479522ce7f54765dd6": {
            "model_module": "@jupyter-widgets/controls",
            "model_module_version": "2.0.0",
            "model_name": "DescriptionStyleModel",
            "state": {
              "description_width": ""
            }
          },
          "1d2b4c52c2ad4ffebf8f870c756470c5": {
            "model_module": "@jupyter-widgets/controls",
            "model_module_version": "2.0.0",
            "model_name": "IntTextModel",
            "state": {
              "description": "Max count:",
              "layout": "IPY_MODEL_8d1df2442819476ca7b994dae74bf1d9",
              "step": 1,
              "style": "IPY_MODEL_a1a6a068eac3462caf3dab10ee4df8f0"
            }
          },
          "c812f307612f43ac8ddc20807c16b2ef": {
            "model_module": "@jupyter-widgets/controls",
            "model_module_version": "2.0.0",
            "model_name": "TextModel",
            "state": {
              "description": "Output Path",
              "layout": "IPY_MODEL_47139d8121144a708f66926f9084652d",
              "style": "IPY_MODEL_8a27187e03844a82be8ba50584435139"
            }
          },
          "24931ea450a54e7c82aee5983a154b89": {
            "model_module": "@jupyter-widgets/base",
            "model_module_version": "2.0.0",
            "model_name": "LayoutModel",
            "state": {
              "width": "95%"
            }
          },
          "160693f837324dcc84bde73800e7722c": {
            "model_module": "@jupyter-widgets/controls",
            "model_module_version": "2.0.0",
            "model_name": "TextModel",
            "state": {
              "description": "Output Path",
              "layout": "IPY_MODEL_ec9a4dc6ac914b5c8e819d3d679a0d28",
              "style": "IPY_MODEL_6eedb6fa40b44210b621eb05e2a9c80d"
            }
          },
          "34be9805d48745459f82a6a44d0ffac7": {
            "model_module": "@jupyter-widgets/controls",
            "model_module_version": "2.0.0",
            "model_name": "IntTextModel",
            "state": {
              "description": "Max count:",
              "layout": "IPY_MODEL_09e0a51a85284fdc80a4efdd1175d6b1",
              "step": 1,
              "style": "IPY_MODEL_536aa84d0f07480f998c11c55c3c23ca"
            }
          },
          "a74321cfbdc74040bb0b7937bc879108": {
            "model_module": "@jupyter-widgets/controls",
            "model_module_version": "2.0.0",
            "model_name": "TextStyleModel",
            "state": {
              "description_width": "",
              "font_size": null,
              "text_color": null
            }
          },
          "c81fb08ea3d243a686ed2d4d2a9604b7": {
            "model_module": "@jupyter-widgets/base",
            "model_module_version": "2.0.0",
            "model_name": "LayoutModel",
            "state": {
              "width": "90%"
            }
          },
          "e0bc72c041bc4b0f8b6bcdff63b575ac": {
            "model_module": "@jupyter-widgets/controls",
            "model_module_version": "2.0.0",
            "model_name": "CheckboxModel",
            "state": {
              "description": "Remove duplicates",
              "disabled": false,
              "layout": "IPY_MODEL_0ca66320cbc9412a82d366f9e16cc1a9",
              "style": "IPY_MODEL_37f78a4626914d2192720c26ed96e9ac",
              "value": false
            }
          },
          "7b17156cfcaf4b4486069d841a55353a": {
            "model_module": "@jupyter-widgets/base",
            "model_module_version": "2.0.0",
            "model_name": "LayoutModel",
            "state": {
              "width": "95%"
            }
          },
          "e047f591bde1446bbd3cd9f9a1515904": {
            "model_module": "@jupyter-widgets/base",
            "model_module_version": "2.0.0",
            "model_name": "LayoutModel",
            "state": {}
          },
          "9b5f93b2896e4d69bf70a11cb0d14561": {
            "model_module": "@jupyter-widgets/base",
            "model_module_version": "2.0.0",
            "model_name": "LayoutModel",
            "state": {}
          },
          "4e294f8e555d4cbfbf4b2e5495c5d589": {
            "model_module": "@jupyter-widgets/base",
            "model_module_version": "2.0.0",
            "model_name": "LayoutModel",
            "state": {}
          },
          "392dc6f7df5e464ba0e6ca78bb862224": {
            "model_module": "@jupyter-widgets/base",
            "model_module_version": "2.0.0",
            "model_name": "LayoutModel",
            "state": {}
          },
          "ccdd08e56d6844a58644a46a671b540d": {
            "model_module": "@jupyter-widgets/base",
            "model_module_version": "2.0.0",
            "model_name": "LayoutModel",
            "state": {}
          },
          "58caae1b0e824abb8468d7169a8f4b4f": {
            "model_module": "@jupyter-widgets/controls",
            "model_module_version": "2.0.0",
            "model_name": "ButtonStyleModel",
            "state": {
              "font_family": null,
              "font_size": null,
              "font_style": null,
              "font_variant": null,
              "font_weight": null,
              "text_color": null,
              "text_decoration": null
            }
          },
          "07e1da54174a40ff98a17753aec99a0a": {
            "model_module": "@jupyter-widgets/controls",
            "model_module_version": "2.0.0",
            "model_name": "HBoxModel",
            "state": {
              "children": [
                "IPY_MODEL_7db45cc0a6e14cbcbb73878fd5837d90",
                "IPY_MODEL_1287179dbbc54e42badd2bfc0b5fa689",
                "IPY_MODEL_e3f70dc400804ceab9e98c04fc3f46e7"
              ],
              "layout": "IPY_MODEL_8bd9cf3adf4f4bb0ae794ea2d9be1fbc"
            }
          },
          "de3962586c7943ae89bad7a8c79b12ca": {
            "model_module": "@jupyter-widgets/controls",
            "model_module_version": "2.0.0",
            "model_name": "PasswordModel",
            "state": {
              "description": "Password: ",
              "layout": "IPY_MODEL_4cd8e05537934db9abf9e6aabedb93f6",
              "style": "IPY_MODEL_0b3db7f3ccef43d4ac745cfc82ae1174"
            }
          },
          "85db2eef160b4f5cafc2e5bcdab85896": {
            "model_module": "@jupyter-widgets/base",
            "model_module_version": "2.0.0",
            "model_name": "LayoutModel",
            "state": {}
          },
          "e0b810b849094eecb3a90eec6f667b2f": {
            "model_module": "@jupyter-widgets/controls",
            "model_module_version": "2.0.0",
            "model_name": "ButtonModel",
            "state": {
              "description": "Login",
              "layout": "IPY_MODEL_43822661b0c047ad8060d71c46fe5221",
              "style": "IPY_MODEL_060536086c74459fbac2d7bf818617e4",
              "tooltip": null
            }
          },
          "9ece14e2184d49de94dcfb7723a1d13b": {
            "model_module": "@jupyter-widgets/controls",
            "model_module_version": "2.0.0",
            "model_name": "TextStyleModel",
            "state": {
              "description_width": "",
              "font_size": null,
              "text_color": null
            }
          },
          "5d186f2e4e9a49cb80f39268f3c2af07": {
            "model_module": "@jupyter-widgets/controls",
            "model_module_version": "2.0.0",
            "model_name": "DescriptionStyleModel",
            "state": {
              "description_width": ""
            }
          },
          "767f4c3828cf41a8b3ac3e64db952d5e": {
            "model_module": "@jupyter-widgets/controls",
            "model_module_version": "2.0.0",
            "model_name": "TextModel",
            "state": {
              "description": "User ID: ",
              "layout": "IPY_MODEL_a4bf3819e95342a6b040de3d2ea1722d",
              "style": "IPY_MODEL_a19d7558b40a492fabf8364e4198e6e1"
            }
          },
          "d2c7c3aa59ed4e1ebeb562d7029e54d6": {
            "model_module": "@jupyter-widgets/controls",
            "model_module_version": "2.0.0",
            "model_name": "CheckboxModel",
            "state": {
              "description": "Allow overwrite",
              "disabled": false,
              "layout": "IPY_MODEL_33311414b1fc429194579f32fee78010",
              "style": "IPY_MODEL_48f961de20294dffbbca187c9d78d9a6",
              "value": false
            }
          },
          "1445a56535344f208531b04f4da248c7": {
            "model_module": "@jupyter-widgets/controls",
            "model_module_version": "2.0.0",
            "model_name": "ButtonModel",
            "state": {
              "description": "Start export",
              "layout": "IPY_MODEL_71fd8d1bb390401eae715e63b749f0f4",
              "style": "IPY_MODEL_57e9018f969241b795dd832a151b42b6",
              "tooltip": null
            }
          },
          "aa8c1303930943bf9766945bfdddea19": {
            "model_module": "@jupyter-widgets/controls",
            "model_module_version": "2.0.0",
            "model_name": "DescriptionStyleModel",
            "state": {
              "description_width": ""
            }
          },
          "888e0d69e0964efb91d92de54f45ad11": {
            "model_module": "@jupyter-widgets/base",
            "model_module_version": "2.0.0",
            "model_name": "LayoutModel",
            "state": {
              "width": "40%"
            }
          },
          "11c9ad0b53fb41c8a9e2efdce82affff": {
            "model_module": "@jupyter-widgets/base",
            "model_module_version": "2.0.0",
            "model_name": "LayoutModel",
            "state": {}
          },
          "cb0577364e1646e5bda76dff29632c1e": {
            "model_module": "@jupyter-widgets/controls",
            "model_module_version": "2.0.0",
            "model_name": "HBoxModel",
            "state": {
              "children": [
                "IPY_MODEL_012aa65eb9244dd6b0fe0deac4906aa2",
                "IPY_MODEL_510817e9fc674c09bbc0ab7773ec2b8b"
              ],
              "layout": "IPY_MODEL_461ead1ee2264a19b74770727805508b"
            }
          },
          "f7ec1d17ebad415cb1cabbb46f3e90f9": {
            "model_module": "@jupyter-widgets/controls",
            "model_module_version": "2.0.0",
            "model_name": "ButtonModel",
            "state": {
              "description": "Start archiving",
              "layout": "IPY_MODEL_198aba4ff38f4fe8816efc8b59e9a93f",
              "style": "IPY_MODEL_018a81d49a2649e7be2758332a0e5f5b",
              "tooltip": null
            }
          },
          "737aaa88729444749c4b066051d629a9": {
            "model_module": "@jupyter-widgets/controls",
            "model_module_version": "2.0.0",
            "model_name": "TextModel",
            "state": {
              "description": "Input Path",
              "layout": "IPY_MODEL_0f116a7a2774463686daaa761f3adbce",
              "style": "IPY_MODEL_3d790a509d1442fdaf90823108b6c216",
              "tooltip": "Path to PDF directory"
            }
          },
          "d889ef1eec014d1bb0bb6eded9128767": {
            "model_module": "@jupyter-widgets/base",
            "model_module_version": "2.0.0",
            "model_name": "LayoutModel",
            "state": {}
          },
          "11a61c50d37d49e1918e42d0dccd6b2f": {
            "model_module": "@jupyter-widgets/controls",
            "model_module_version": "2.0.0",
            "model_name": "IntTextModel",
            "state": {
              "description": "Set max count",
              "layout": "IPY_MODEL_410572dd5d0e456998ad990015e047ff",
              "step": 1,
              "style": "IPY_MODEL_1b439cac69c94744a1232256a675167e"
            }
          },
          "e95056fc4db1416e81d8fe39316bdf19": {
            "model_module": "@jupyter-widgets/controls",
            "model_module_version": "2.0.0",
            "model_name": "HBoxModel",
            "state": {
              "children": [
                "IPY_MODEL_ee7938f8fee140c5892e3e85b6d3f070",
                "IPY_MODEL_1c3f96de16cb428881128f9e7495c43e"
              ],
              "layout": "IPY_MODEL_675f9b2aeda6419b98eff5baa45721a7"
            }
          },
          "7311aaf751cd4a79baeda0e828b507af": {
            "model_module": "@jupyter-widgets/controls",
            "model_module_version": "2.0.0",
            "model_name": "TextStyleModel",
            "state": {
              "description_width": "",
              "font_size": null,
              "text_color": null
            }
          },
          "00cb6bf08e914103978273f09a95ae42": {
            "model_module": "@jupyter-widgets/controls",
            "model_module_version": "2.0.0",
            "model_name": "HTMLStyleModel",
            "state": {
              "description_width": "",
              "font_size": null,
              "text_color": null
            }
          },
          "142bb6afad5248cb8ef765bd7675f9ee": {
            "model_module": "@jupyter-widgets/controls",
            "model_module_version": "2.0.0",
            "model_name": "HBoxModel",
            "state": {
              "children": [
                "IPY_MODEL_c97949332dc34f9dafc0ffd92f580e77",
                "IPY_MODEL_36b2c6b00f83401fb12628f1c6e969ac",
                "IPY_MODEL_a52cfe6d54ab41579713c878c25235c6"
              ],
              "layout": "IPY_MODEL_9340e0f574cb4afd9ceae468b3632dad"
            }
          },
          "9e2736a4f8f44686861bcb4e9e1925bc": {
            "model_module": "@jupyter-widgets/controls",
            "model_module_version": "2.0.0",
            "model_name": "PasswordModel",
            "state": {
              "description": "Password: ",
              "layout": "IPY_MODEL_9d24b2d20c6a4507a2a5e3afe470adb4",
              "style": "IPY_MODEL_1bc8b871c3754272be12a3ee16fc8745"
            }
          },
          "139178854f834a588cf2b5bc52c1431e": {
            "model_module": "@jupyter-widgets/base",
            "model_module_version": "2.0.0",
            "model_name": "LayoutModel",
            "state": {}
          },
          "3144d34e0c1a4012b7fa7a50e135b28e": {
            "model_module": "@jupyter-widgets/controls",
            "model_module_version": "2.0.0",
            "model_name": "TextStyleModel",
            "state": {
              "description_width": "",
              "font_size": null,
              "text_color": null
            }
          },
          "7cb8359f81bd407fa8941c04f7c69f8f": {
            "model_module": "@jupyter-widgets/controls",
            "model_module_version": "2.0.0",
            "model_name": "FloatProgressModel",
            "state": {
              "bar_style": "success",
              "layout": "IPY_MODEL_b0af558eb7054edcbbe00cccb7491d36",
              "max": 999,
              "style": "IPY_MODEL_5449f17890df490fa3413eac6218279d",
              "value": 999
            }
          },
          "d787a00234f64f6d8695ba5c299e551a": {
            "model_module": "@jupyter-widgets/controls",
            "model_module_version": "2.0.0",
            "model_name": "CheckboxStyleModel",
            "state": {
              "description_width": ""
            }
          },
          "ec78168be5544cfcbf9a1409c55c31ba": {
            "model_module": "@jupyter-widgets/base",
            "model_module_version": "2.0.0",
            "model_name": "LayoutModel",
            "state": {}
          },
          "2a1cc5b3a89f4f1db2a46156a3d36f78": {
            "model_module": "@jupyter-widgets/base",
            "model_module_version": "2.0.0",
            "model_name": "LayoutModel",
            "state": {}
          },
          "236f8e64e06b4fe093e00edad6c74e22": {
            "model_module": "@jupyter-widgets/base",
            "model_module_version": "2.0.0",
            "model_name": "LayoutModel",
            "state": {}
          },
          "41c3333e4e054d3bb19a8d77788fc0f1": {
            "model_module": "@jupyter-widgets/output",
            "model_module_version": "1.0.0",
            "model_name": "OutputModel",
            "state": {
              "layout": "IPY_MODEL_38aa52a5db8e49e4aeb2aff83b2b9596"
            }
          },
          "ac46f833e1124a6a95d86b200a70ec01": {
            "model_module": "@jupyter-widgets/controls",
            "model_module_version": "2.0.0",
            "model_name": "DescriptionStyleModel",
            "state": {
              "description_width": ""
            }
          },
          "0bdd0aaca03543a1a15bf23eb27661a5": {
            "model_module": "@jupyter-widgets/base",
            "model_module_version": "2.0.0",
            "model_name": "LayoutModel",
            "state": {}
          },
          "cb21ab4a47164a30a1043aae10b5739e": {
            "model_module": "@jupyter-widgets/base",
            "model_module_version": "2.0.0",
            "model_name": "LayoutModel",
            "state": {}
          },
          "129770bf20cc469aa7574cdbbf03d4ec": {
            "model_module": "@jupyter-widgets/controls",
            "model_module_version": "2.0.0",
            "model_name": "HBoxModel",
            "state": {
              "children": [
                "IPY_MODEL_94c21a708e7f46db81b128bfb1d19ff3",
                "IPY_MODEL_c9501a5440884540be2bf717d4a47ded"
              ],
              "layout": "IPY_MODEL_03216a1cff14406ca7b8c7bbc67d2e1a"
            }
          },
          "55054603f9f9457dac67c27ddc148fc4": {
            "model_module": "@jupyter-widgets/controls",
            "model_module_version": "2.0.0",
            "model_name": "IntTextModel",
            "state": {
              "description": "Max rows",
              "layout": "IPY_MODEL_85a6ed0567e14c55856c1055c2f0fc86",
              "step": 1,
              "style": "IPY_MODEL_d3369a3e485148678f08a6f8aea969bc"
            }
          },
          "849dcbc036cf477195cd283b8e5bea11": {
            "model_module": "@jupyter-widgets/base",
            "model_module_version": "2.0.0",
            "model_name": "LayoutModel",
            "state": {}
          },
          "94d39eb5c4584b7888e87dabf43aa699": {
            "model_module": "@jupyter-widgets/controls",
            "model_module_version": "2.0.0",
            "model_name": "CheckboxModel",
            "state": {
              "description": "Remove duplicates",
              "disabled": false,
              "layout": "IPY_MODEL_392dc6f7df5e464ba0e6ca78bb862224",
              "style": "IPY_MODEL_6f6317f51e094a988bb5c9a92d7cc459",
              "value": false
            }
          },
          "1d7f3d12cffe4ec5aae53d02ee2e700f": {
            "model_module": "@jupyter-widgets/controls",
            "model_module_version": "2.0.0",
            "model_name": "TextModel",
            "state": {
              "description": "Output Path",
              "layout": "IPY_MODEL_753ce0f123924e2da1080552f1380009",
              "style": "IPY_MODEL_fb8cd24fc68a4748aa4102469b836ae4"
            }
          },
          "f63dc546ebc041ad9e6befd0dfa08f50": {
            "model_module": "@jupyter-widgets/controls",
            "model_module_version": "2.0.0",
            "model_name": "DescriptionStyleModel",
            "state": {
              "description_width": ""
            }
          },
          "1104bda51fa94e9d93bbc4dc36fc5ddf": {
            "model_module": "@jupyter-widgets/base",
            "model_module_version": "2.0.0",
            "model_name": "LayoutModel",
            "state": {}
          },
          "5f2b684ac64f48c5a978a253121be36a": {
            "model_module": "@jupyter-widgets/controls",
            "model_module_version": "2.0.0",
            "model_name": "IntTextModel",
            "state": {
              "description": "Max count:",
              "layout": "IPY_MODEL_a68f48238b2d4089a29440905d10e5ae",
              "step": 1,
              "style": "IPY_MODEL_9975ad4b4187462eb1f06f63cdced6c7"
            }
          },
          "4fafa034062047a881046600c1a924d8": {
            "model_module": "@jupyter-widgets/controls",
            "model_module_version": "2.0.0",
            "model_name": "CheckboxModel",
            "state": {
              "description": "ZIP export (must be .json, .csv)",
              "disabled": false,
              "layout": "IPY_MODEL_1df892471f9840f3b9ba3e18741dde62",
              "style": "IPY_MODEL_8265ddb638f8490e8556b6ab981aabb2",
              "value": false
            }
          },
          "3a6a025e5b984299b5014181631b332c": {
            "model_module": "@jupyter-widgets/controls",
            "model_module_version": "2.0.0",
            "model_name": "CheckboxModel",
            "state": {
              "description": "Allow overwrite",
              "disabled": false,
              "layout": "IPY_MODEL_5adf9e113d614ac3b71bfb0cdce96eb9",
              "style": "IPY_MODEL_498abb87485d4372b3839d27087cb3ac",
              "value": false
            }
          },
          "a426ca8f072a49a0a2aee62f8c1a2075": {
            "model_module": "@jupyter-widgets/base",
            "model_module_version": "2.0.0",
            "model_name": "LayoutModel",
            "state": {}
          },
          "f4237d7c2dab4e4da1632d9bfd98e54a": {
            "model_module": "@jupyter-widgets/controls",
            "model_module_version": "2.0.0",
            "model_name": "IntTextModel",
            "state": {
              "description": "Set max count",
              "layout": "IPY_MODEL_3ac6889560b84a94b6b29ed60531008f",
              "step": 1,
              "style": "IPY_MODEL_6276c79914e74c51a7d7cd17f71a8ee7"
            }
          },
          "ea1ff83d52044101bb6dc3e021033025": {
            "model_module": "@jupyter-widgets/controls",
            "model_module_version": "2.0.0",
            "model_name": "FloatTextModel",
            "state": {
              "description": "Speed",
              "layout": "IPY_MODEL_98dc621f136940b793ffbec7b95ebab1",
              "step": 0.1,
              "style": "IPY_MODEL_650bdea2a87f43ce947245429d7cb31b",
              "value": 1
            }
          },
          "8595e70245f24e09a8205e5d7b64dde2": {
            "model_module": "@jupyter-widgets/controls",
            "model_module_version": "2.0.0",
            "model_name": "ButtonStyleModel",
            "state": {
              "font_family": null,
              "font_size": null,
              "font_style": null,
              "font_variant": null,
              "font_weight": null,
              "text_color": null,
              "text_decoration": null
            }
          },
          "348b75e096594206abf1b11e2bf9e426": {
            "model_module": "@jupyter-widgets/controls",
            "model_module_version": "2.0.0",
            "model_name": "DropdownModel",
            "state": {
              "_options_labels": [
                "cases",
                "charges",
                "disposition",
                "filing",
                "fees"
              ],
              "description": "Table:",
              "index": 0,
              "layout": "IPY_MODEL_d8775e5b7f734531af1e46dd62d96741",
              "style": "IPY_MODEL_d9aca4e5286c4e90bf050317884f55e4"
            }
          },
          "61bd3694b44342c5988a9fd7df496f14": {
            "model_module": "@jupyter-widgets/controls",
            "model_module_version": "2.0.0",
            "model_name": "HBoxModel",
            "state": {
              "children": [
                "IPY_MODEL_f2e2738da08049ed815be442cd268842",
                "IPY_MODEL_2ca907d6942e449fa6d3314d1e1d2c58"
              ],
              "layout": "IPY_MODEL_21ca92bc6ab84f348552c3bd2691e0b4"
            }
          },
          "45140a3cee954d14a993717587fd2313": {
            "model_module": "@jupyter-widgets/base",
            "model_module_version": "2.0.0",
            "model_name": "LayoutModel",
            "state": {}
          },
          "06192f75ce744386928354478bbf5ef4": {
            "model_module": "@jupyter-widgets/base",
            "model_module_version": "2.0.0",
            "model_name": "LayoutModel",
            "state": {
              "width": "90%"
            }
          },
          "2a44f0087d964e9da053af3c269c2647": {
            "model_module": "@jupyter-widgets/controls",
            "model_module_version": "2.0.0",
            "model_name": "PasswordModel",
            "state": {
              "description": "Password: ",
              "layout": "IPY_MODEL_b673151e29cd48f6999f35767caf7d07",
              "style": "IPY_MODEL_3fb367871b0f4e8f874f9d7c4f86ed78"
            }
          },
          "7b05283884c04cceb5fea51ebbf9bf91": {
            "model_module": "@jupyter-widgets/controls",
            "model_module_version": "2.0.0",
            "model_name": "TextModel",
            "state": {
              "description": "Input Path",
              "layout": "IPY_MODEL_5b1a8706960d4e0fbdb62188da70f5cc",
              "style": "IPY_MODEL_0f3a8b82761c4b2e814a013ed1e56338",
              "tooltip": "Path to PDF directory",
              "value": "/Users/samuelrobson/Desktop/pdfbin2"
            }
          },
          "e75ebe0fb99b41c08a9a3743271c9ece": {
            "model_module": "@jupyter-widgets/base",
            "model_module_version": "2.0.0",
            "model_name": "LayoutModel",
            "state": {}
          },
          "530ff42c37c74b369d4d7b39ae44dca4": {
            "model_module": "@jupyter-widgets/controls",
            "model_module_version": "2.0.0",
            "model_name": "IntTextModel",
            "state": {
              "description": "Max count:",
              "layout": "IPY_MODEL_5c185275d5f9486caebfee641bc1a0fd",
              "step": 1,
              "style": "IPY_MODEL_b1673d7a088c47c2b7a210053843d505"
            }
          },
          "838e9cf3b4e14caca44a04e2599798db": {
            "model_module": "@jupyter-widgets/controls",
            "model_module_version": "2.0.0",
            "model_name": "DropdownModel",
            "state": {
              "_options_labels": [
                "cases",
                "charges",
                "disposition",
                "filing",
                "fees"
              ],
              "description": "Table:",
              "index": 0,
              "layout": "IPY_MODEL_41d706ee6ebb407a8cc6c94429eea6e1",
              "style": "IPY_MODEL_d06bac7e3315479fbe1960b5f746e5c7"
            }
          },
          "8c41759ff03e474586a2ae0c5a0d606a": {
            "model_module": "@jupyter-widgets/base",
            "model_module_version": "2.0.0",
            "model_name": "LayoutModel",
            "state": {
              "width": "95%"
            }
          },
          "86e5da2ad5734f679cbb9dd54a675e88": {
            "model_module": "@jupyter-widgets/controls",
            "model_module_version": "2.0.0",
            "model_name": "ButtonModel",
            "state": {
              "description": "Login",
              "layout": "IPY_MODEL_5d131e7cbf954114abc7d33322671f17",
              "style": "IPY_MODEL_f333e4199c534a2bafd42951bbc0989f",
              "tooltip": null
            }
          },
          "8067d0e062f24806b5225f3ce237061b": {
            "model_module": "@jupyter-widgets/base",
            "model_module_version": "2.0.0",
            "model_name": "LayoutModel",
            "state": {}
          },
          "40fd9d16cf2944a8bc84975516d76677": {
            "model_module": "@jupyter-widgets/controls",
            "model_module_version": "2.0.0",
            "model_name": "ButtonStyleModel",
            "state": {
              "font_family": null,
              "font_size": null,
              "font_style": null,
              "font_variant": null,
              "font_weight": null,
              "text_color": null,
              "text_decoration": null
            }
          },
          "cd474d3dd51e4935a00f9c5504b7f281": {
            "model_module": "@jupyter-widgets/controls",
            "model_module_version": "2.0.0",
            "model_name": "TextModel",
            "state": {
              "description": "Input Path",
              "layout": "IPY_MODEL_6aa97505c0be4e8caa91bb5ff2824cd3",
              "style": "IPY_MODEL_3687fa2babe2476392cfaf67c3d52bc8",
              "tooltip": "Path to PDF directory",
              "value": "/Users/samuelrobson/Desktop/pdfbin2/"
            }
          },
          "b2fd86dc52364dc7962a0dce1366d9b8": {
            "model_module": "@jupyter-widgets/controls",
            "model_module_version": "2.0.0",
            "model_name": "DescriptionStyleModel",
            "state": {
              "description_width": ""
            }
          },
          "2eea09e05e1544b7a8c25ab9e038db83": {
            "model_module": "@jupyter-widgets/controls",
            "model_module_version": "2.0.0",
            "model_name": "ButtonStyleModel",
            "state": {
              "font_family": null,
              "font_size": null,
              "font_style": null,
              "font_variant": null,
              "font_weight": null,
              "text_color": null,
              "text_decoration": null
            }
          },
          "8a9e8a6f6555436e86851c7d6057789e": {
            "model_module": "@jupyter-widgets/controls",
            "model_module_version": "2.0.0",
            "model_name": "TextModel",
            "state": {
              "description": "User ID: ",
              "layout": "IPY_MODEL_2e7856f3e3964a47b37ad79e25ac1b7b",
              "style": "IPY_MODEL_358719bd18f74a7bad142eef9c5f4dd6"
            }
          },
          "30499712a987412fb1c276dd3b0e22b6": {
            "model_module": "@jupyter-widgets/base",
            "model_module_version": "2.0.0",
            "model_name": "LayoutModel",
            "state": {}
          },
          "98d08796e1114b0db11632f77654957b": {
            "model_module": "@jupyter-widgets/controls",
            "model_module_version": "2.0.0",
            "model_name": "TextStyleModel",
            "state": {
              "description_width": "",
              "font_size": null,
              "text_color": null
            }
          },
          "9e151a6395e54192b5164ba2cb75e287": {
            "model_module": "@jupyter-widgets/controls",
            "model_module_version": "2.0.0",
            "model_name": "ButtonModel",
            "state": {
              "description": "Start archiving",
              "layout": "IPY_MODEL_d42c2a89f02949b4982c32184bca160c",
              "style": "IPY_MODEL_7b5737fc30cb480986fff5018469b1a1",
              "tooltip": null
            }
          },
          "532722e7ba254d2985e87ae0a3c5be49": {
            "model_module": "@jupyter-widgets/controls",
            "model_module_version": "2.0.0",
            "model_name": "TextModel",
            "state": {
              "description": "Output Path",
              "layout": "IPY_MODEL_1ef6677db526419796677ac001747b6f",
              "style": "IPY_MODEL_2b1a7af43ae741dcb035cd1e71406859"
            }
          },
          "dc82a0e6184b462887742fb988236865": {
            "model_module": "@jupyter-widgets/base",
            "model_module_version": "2.0.0",
            "model_name": "LayoutModel",
            "state": {}
          },
          "1946c2bf29734cf08432dada797811b0": {
            "model_module": "@jupyter-widgets/base",
            "model_module_version": "2.0.0",
            "model_name": "LayoutModel",
            "state": {}
          },
          "8faf130efc064fa5a684ae566ed7f835": {
            "model_module": "@jupyter-widgets/controls",
            "model_module_version": "2.0.0",
            "model_name": "IntTextModel",
            "state": {
              "description": "Max count:",
              "layout": "IPY_MODEL_96e9b8cefc2a485d9688797d32520ee3",
              "step": 1,
              "style": "IPY_MODEL_c06b4ec1d28d42988f75eb9b852ea9f9"
            }
          },
          "0ca66320cbc9412a82d366f9e16cc1a9": {
            "model_module": "@jupyter-widgets/base",
            "model_module_version": "2.0.0",
            "model_name": "LayoutModel",
            "state": {}
          },
          "105a30a5a55846829ae0f9b7b5b6f554": {
            "model_module": "@jupyter-widgets/controls",
            "model_module_version": "2.0.0",
            "model_name": "CheckboxStyleModel",
            "state": {
              "description_width": ""
            }
          },
          "90f385ee7afb4ee5ac09ea96d13b15c6": {
            "model_module": "@jupyter-widgets/controls",
            "model_module_version": "2.0.0",
            "model_name": "CheckboxModel",
            "state": {
              "description": "Allow overwrite",
              "disabled": false,
              "layout": "IPY_MODEL_539262d7ff4d4e1dac176b9a10c2aceb",
              "style": "IPY_MODEL_d9591095d5ce4cedb9fcface328bbc35",
              "value": false
            }
          },
          "3ae5b9c5dfdd4e74a60478068a569986": {
            "model_module": "@jupyter-widgets/base",
            "model_module_version": "2.0.0",
            "model_name": "LayoutModel",
            "state": {
              "width": "95%"
            }
          },
          "5ec1fecee2ae46f1a549b28cfff61f09": {
            "model_module": "@jupyter-widgets/base",
            "model_module_version": "2.0.0",
            "model_name": "LayoutModel",
            "state": {}
          },
          "fc20eb00d0c44671ad5bf5c6ce7b6ebb": {
            "model_module": "@jupyter-widgets/base",
            "model_module_version": "2.0.0",
            "model_name": "LayoutModel",
            "state": {}
          },
          "310d0253ee8648acb49c40b0047b4f79": {
            "model_module": "@jupyter-widgets/controls",
            "model_module_version": "2.0.0",
            "model_name": "DescriptionStyleModel",
            "state": {
              "description_width": ""
            }
          },
          "06388a41e7a747efb46f2fa492f6b651": {
            "model_module": "@jupyter-widgets/controls",
            "model_module_version": "2.0.0",
            "model_name": "IntTextModel",
            "state": {
              "description": "Skip rows",
              "layout": "IPY_MODEL_6d2eb475dff244248c9edac16bc62703",
              "step": 1,
              "style": "IPY_MODEL_f92d2ede2db845aab711a4e8cfb088f0"
            }
          },
          "d24e95325b9e4544b35b1f5b3beb7ef7": {
            "model_module": "@jupyter-widgets/controls",
            "model_module_version": "2.0.0",
            "model_name": "ButtonModel",
            "state": {
              "description": "Start archiving",
              "layout": "IPY_MODEL_e4d5d7edbb9240e58d54c0ded082ee0c",
              "style": "IPY_MODEL_a378ca414b704c40ad111fa99505cc55",
              "tooltip": null
            }
          },
          "91e0dce0c1ec48e09230d9b73989bfd0": {
            "model_module": "@jupyter-widgets/controls",
            "model_module_version": "2.0.0",
            "model_name": "TextModel",
            "state": {
              "description": "Input Path:",
              "layout": "IPY_MODEL_e03b5decfe844032ad21d05ff46b845d",
              "style": "IPY_MODEL_4b8782e00688495fa055f09a1304873d",
              "tooltip": "Path to query template spreadsheet (list of names, etc. to search)"
            }
          },
          "b411333e00494956a0bf166d931f160f": {
            "model_module": "@jupyter-widgets/controls",
            "model_module_version": "2.0.0",
            "model_name": "IntTextModel",
            "state": {
              "description": "Max count:",
              "layout": "IPY_MODEL_ec8a8a110cbb44f199ae5f2b98e67377",
              "step": 1,
              "style": "IPY_MODEL_06124cc7f56c4fa4b4b4b1007c783e1b"
            }
          },
          "925fcaa5b15541178fefac2c0b182d48": {
            "model_module": "@jupyter-widgets/controls",
            "model_module_version": "2.0.0",
            "model_name": "TextStyleModel",
            "state": {
              "description_width": "",
              "font_size": null,
              "text_color": null
            }
          },
          "db35f3a2e95e4a4da7027f92004819e9": {
            "model_module": "@jupyter-widgets/controls",
            "model_module_version": "2.0.0",
            "model_name": "DescriptionStyleModel",
            "state": {
              "description_width": ""
            }
          },
          "484729f0f08d45f9a1cf59923dbc4472": {
            "model_module": "@jupyter-widgets/base",
            "model_module_version": "2.0.0",
            "model_name": "LayoutModel",
            "state": {
              "width": "90%"
            }
          },
          "9e0571c8133f4de79567328bea24cd69": {
            "model_module": "@jupyter-widgets/controls",
            "model_module_version": "2.0.0",
            "model_name": "CheckboxStyleModel",
            "state": {
              "description_width": ""
            }
          },
          "596673563bb74cd7bd25c3ab48bb5212": {
            "model_module": "@jupyter-widgets/base",
            "model_module_version": "2.0.0",
            "model_name": "LayoutModel",
            "state": {
              "width": "95%"
            }
          },
          "16931ffb71df4e0e986ef7553b52aadf": {
            "model_module": "@jupyter-widgets/base",
            "model_module_version": "2.0.0",
            "model_name": "LayoutModel",
            "state": {
              "width": "90%"
            }
          },
          "4170aaa3d6ff40dd847d5050f3e77e52": {
            "model_module": "@jupyter-widgets/controls",
            "model_module_version": "2.0.0",
            "model_name": "ButtonModel",
            "state": {
              "description": "Login",
              "layout": "IPY_MODEL_d8e25351d0304cb58c80e3ec179c4e5c",
              "style": "IPY_MODEL_bfb4249bd0d744488ebc6a81bd13ef51",
              "tooltip": null
            }
          },
          "b62319ae8ead47579580a49d65170acd": {
            "model_module": "@jupyter-widgets/controls",
            "model_module_version": "2.0.0",
            "model_name": "HBoxModel",
            "state": {
              "children": [
                "IPY_MODEL_f855cc67b5494c84984cea9122c30427",
                "IPY_MODEL_727519e2fe6c4e5db89acaa7f3b9d2f0",
                "IPY_MODEL_e02aa72a23ae4c398d63aad56dd9db30"
              ],
              "layout": "IPY_MODEL_d806ba3744f74f5190c1593510561f4a"
            }
          },
          "f328e7d6dcb04464a84888f7b87eda4d": {
            "model_module": "@jupyter-widgets/controls",
            "model_module_version": "2.0.0",
            "model_name": "TextStyleModel",
            "state": {
              "description_width": "",
              "font_size": null,
              "text_color": null
            }
          },
          "4fed1b71d8cc4275a777546fc0850158": {
            "model_module": "@jupyter-widgets/controls",
            "model_module_version": "2.0.0",
            "model_name": "TextStyleModel",
            "state": {
              "description_width": "",
              "font_size": null,
              "text_color": null
            }
          },
          "970500e7947a407b8fdbd87be88c2a39": {
            "model_module": "@jupyter-widgets/base",
            "model_module_version": "2.0.0",
            "model_name": "LayoutModel",
            "state": {}
          },
          "bba5629c9d1a42829c7cb7ac1e909234": {
            "model_module": "@jupyter-widgets/controls",
            "model_module_version": "2.0.0",
            "model_name": "IntTextModel",
            "state": {
              "description": "Set max count",
              "layout": "IPY_MODEL_b2bcce2936f545078a64018f0766b967",
              "step": 1,
              "style": "IPY_MODEL_fa2120b6a40a4f2492b86b43d87e53f9"
            }
          },
          "d62403f24cfd48a1b22ae10a8d07cdf1": {
            "model_module": "@jupyter-widgets/controls",
            "model_module_version": "2.0.0",
            "model_name": "CheckboxStyleModel",
            "state": {
              "description_width": ""
            }
          },
          "1e84a8fd97a744b19ce5bebf6f32ce38": {
            "model_module": "@jupyter-widgets/controls",
            "model_module_version": "2.0.0",
            "model_name": "CheckboxStyleModel",
            "state": {
              "description_width": ""
            }
          },
          "781b29c4e83f429eade09c41b2f39183": {
            "model_module": "@jupyter-widgets/controls",
            "model_module_version": "2.0.0",
            "model_name": "HBoxModel",
            "state": {
              "children": [
                "IPY_MODEL_7e6b72f3b183455abbf347d34a52ed24",
                "IPY_MODEL_0aab602e85f54055a1baaf1f3d78262a"
              ],
              "layout": "IPY_MODEL_cedb17c9963f408aaefa3ebb40b941a1"
            }
          },
          "76fbd46586cd47449599b197221a1b9b": {
            "model_module": "@jupyter-widgets/base",
            "model_module_version": "2.0.0",
            "model_name": "LayoutModel",
            "state": {
              "width": "90%"
            }
          },
          "bb40a00452a348408d71ac298f71b90c": {
            "model_module": "@jupyter-widgets/controls",
            "model_module_version": "2.0.0",
            "model_name": "CheckboxStyleModel",
            "state": {
              "description_width": ""
            }
          },
          "375dc19c3c72446d82d2c8ea856638ee": {
            "model_module": "@jupyter-widgets/base",
            "model_module_version": "2.0.0",
            "model_name": "LayoutModel",
            "state": {}
          },
          "1d98ed3d02b2411e93f15ba2b43668aa": {
            "model_module": "@jupyter-widgets/controls",
            "model_module_version": "2.0.0",
            "model_name": "TextModel",
            "state": {
              "description": "Output Path",
              "layout": "IPY_MODEL_c504010d2ac9425e9e6099ec79ee6602",
              "style": "IPY_MODEL_47754a0c69ab474cab8aed38b05f2b14"
            }
          },
          "37dff680f99149d38abe0b26fafa0a09": {
            "model_module": "@jupyter-widgets/controls",
            "model_module_version": "2.0.0",
            "model_name": "HBoxModel",
            "state": {
              "children": [
                "IPY_MODEL_9095c213ac544cf18d9a913d456cd2de",
                "IPY_MODEL_a77595ecc2a14d59886c1fa7a43d3bff",
                "IPY_MODEL_55054603f9f9457dac67c27ddc148fc4"
              ],
              "layout": "IPY_MODEL_596673563bb74cd7bd25c3ab48bb5212"
            }
          },
          "20e02c0eedf343aa8c79e8bd1cf4dd25": {
            "model_module": "@jupyter-widgets/base",
            "model_module_version": "2.0.0",
            "model_name": "LayoutModel",
            "state": {}
          },
          "e31747a42f494139ad04caa696d3991d": {
            "model_module": "@jupyter-widgets/controls",
            "model_module_version": "2.0.0",
            "model_name": "CheckboxStyleModel",
            "state": {
              "description_width": ""
            }
          },
          "6276c79914e74c51a7d7cd17f71a8ee7": {
            "model_module": "@jupyter-widgets/controls",
            "model_module_version": "2.0.0",
            "model_name": "DescriptionStyleModel",
            "state": {
              "description_width": ""
            }
          },
          "2261e9b9ef8a4fc8a595cc1d54034e1c": {
            "model_module": "@jupyter-widgets/controls",
            "model_module_version": "2.0.0",
            "model_name": "IntTextModel",
            "state": {
              "description": "Max count:",
              "layout": "IPY_MODEL_20e02c0eedf343aa8c79e8bd1cf4dd25",
              "step": 1,
              "style": "IPY_MODEL_cd8f5578419449e5be7fc1dd543bd1c2"
            }
          },
          "25bdb8aa99c34078ba392e1c0f741faf": {
            "model_module": "@jupyter-widgets/controls",
            "model_module_version": "2.0.0",
            "model_name": "TextStyleModel",
            "state": {
              "description_width": "",
              "font_size": null,
              "text_color": null
            }
          },
          "2c83bd693ea346e693a11ba07f5e311a": {
            "model_module": "@jupyter-widgets/base",
            "model_module_version": "2.0.0",
            "model_name": "LayoutModel",
            "state": {
              "width": "40%"
            }
          },
          "39efd4599ba443c7bef1fab5de255a9b": {
            "model_module": "@jupyter-widgets/base",
            "model_module_version": "2.0.0",
            "model_name": "LayoutModel",
            "state": {
              "width": "90%"
            }
          },
          "099d06872cb94ea686e2d1daeda9a90d": {
            "model_module": "@jupyter-widgets/controls",
            "model_module_version": "2.0.0",
            "model_name": "ButtonModel",
            "state": {
              "description": "Login",
              "layout": "IPY_MODEL_ccdd08e56d6844a58644a46a671b540d",
              "style": "IPY_MODEL_db0ebdf8231644118f74c2b8f622f24b",
              "tooltip": null
            }
          },
          "9452eb32fcc44e8b891f67711053f29a": {
            "model_module": "@jupyter-widgets/controls",
            "model_module_version": "2.0.0",
            "model_name": "TextStyleModel",
            "state": {
              "description_width": "",
              "font_size": null,
              "text_color": null
            }
          },
          "ec8a8a110cbb44f199ae5f2b98e67377": {
            "model_module": "@jupyter-widgets/base",
            "model_module_version": "2.0.0",
            "model_name": "LayoutModel",
            "state": {}
          },
          "7d19dde755e74106ad26eac85ffd4198": {
            "model_module": "@jupyter-widgets/controls",
            "model_module_version": "2.0.0",
            "model_name": "TextModel",
            "state": {
              "description": "Customer ID: ",
              "layout": "IPY_MODEL_96afb6967bb2476a8cc3c927cb9eaff5",
              "style": "IPY_MODEL_db4bb7e2e4a346f690e0e0f0f0ef87cb"
            }
          },
          "7d1e3e9c7ec74b6391d32f53a02ffcea": {
            "model_module": "@jupyter-widgets/controls",
            "model_module_version": "2.0.0",
            "model_name": "ButtonModel",
            "state": {
              "description": "Start export",
              "layout": "IPY_MODEL_5f07d93827484608b6a27d65954beaec",
              "style": "IPY_MODEL_5ad5da884f7d4a39bf94102e76ac2c8f",
              "tooltip": null
            }
          },
          "037dc0fe81654d82867885f5a8da3df7": {
            "model_module": "@jupyter-widgets/controls",
            "model_module_version": "2.0.0",
            "model_name": "TextModel",
            "state": {
              "description": "Output Path:",
              "layout": "IPY_MODEL_16931ffb71df4e0e986ef7553b52aadf",
              "style": "IPY_MODEL_edd304749d054ad7ade14f5f4f6dac80"
            }
          },
          "6aa97505c0be4e8caa91bb5ff2824cd3": {
            "model_module": "@jupyter-widgets/base",
            "model_module_version": "2.0.0",
            "model_name": "LayoutModel",
            "state": {
              "width": "90%"
            }
          },
          "5977cebaf0ab4ffe83d1adac1f5a772b": {
            "model_module": "@jupyter-widgets/controls",
            "model_module_version": "2.0.0",
            "model_name": "CheckboxModel",
            "state": {
              "description": "Remove duplicates",
              "disabled": false,
              "layout": "IPY_MODEL_c19b1150f02341178fe2ad98e8037406",
              "style": "IPY_MODEL_cd6a0875b9b040fa9b4e1af45892b3ba",
              "value": false
            }
          },
          "cc8675c37b4b40aba91166bc7a68e2e0": {
            "model_module": "@jupyter-widgets/controls",
            "model_module_version": "2.0.0",
            "model_name": "CheckboxModel",
            "state": {
              "description": "Allow overwrite",
              "disabled": false,
              "layout": "IPY_MODEL_4149f35b284e40aa8c997326bef8cc4f",
              "style": "IPY_MODEL_c114e6bbd7a74d4e8fadbe577e89024c",
              "value": false
            }
          },
          "691323e5780a44bf8e80c069a0a1b11a": {
            "model_module": "@jupyter-widgets/base",
            "model_module_version": "2.0.0",
            "model_name": "LayoutModel",
            "state": {
              "width": "40%"
            }
          },
          "5bfe18f36d454ca492d522b85a289ef6": {
            "model_module": "@jupyter-widgets/controls",
            "model_module_version": "2.0.0",
            "model_name": "HBoxModel",
            "state": {
              "children": [
                "IPY_MODEL_1505a04b79904e48bdbdaaff805cb971",
                "IPY_MODEL_dfe3b6c9b6414e73b7a38c30292f7fff",
                "IPY_MODEL_b3e8e484a9fa490a930fa062470c2b1b"
              ],
              "layout": "IPY_MODEL_2e10890dc3f94c5892a401b19a8d9d31"
            }
          },
          "829dfec4214c4b8e889400487cc84df7": {
            "model_module": "@jupyter-widgets/controls",
            "model_module_version": "2.0.0",
            "model_name": "ButtonStyleModel",
            "state": {
              "font_family": null,
              "font_size": null,
              "font_style": null,
              "font_variant": null,
              "font_weight": null,
              "text_color": null,
              "text_decoration": null
            }
          },
          "808f3cfd46a54dd1960076d440f20f8f": {
            "model_module": "@jupyter-widgets/controls",
            "model_module_version": "2.0.0",
            "model_name": "ButtonStyleModel",
            "state": {
              "font_family": null,
              "font_size": null,
              "font_style": null,
              "font_variant": null,
              "font_weight": null,
              "text_color": null,
              "text_decoration": null
            }
          },
          "5ddd77da0ccd4ce5b5fa6f122d3c3992": {
            "model_module": "@jupyter-widgets/controls",
            "model_module_version": "2.0.0",
            "model_name": "IntTextModel",
            "state": {
              "description": "Max count:",
              "layout": "IPY_MODEL_655dc4c27998442ebd2a37c436a9012b",
              "step": 1,
              "style": "IPY_MODEL_6eccb0f06b8f411d88df9b8a51534799"
            }
          },
          "0d5e6bb401c848c89032a485ef17d4d5": {
            "model_module": "@jupyter-widgets/controls",
            "model_module_version": "2.0.0",
            "model_name": "TextModel",
            "state": {
              "description": "Input Path",
              "layout": "IPY_MODEL_a95849bfc68f41a9aa3df09e21e58cd6",
              "style": "IPY_MODEL_ee55cd57b57e41ba8b32f33f4083a0be",
              "tooltip": "Path to input directory or archive"
            }
          },
          "7969cac5419a405ead24a0c74286a8db": {
            "model_module": "@jupyter-widgets/base",
            "model_module_version": "2.0.0",
            "model_name": "LayoutModel",
            "state": {}
          },
          "787add911fa04951a9aa7b8d0a642d07": {
            "model_module": "@jupyter-widgets/controls",
            "model_module_version": "2.0.0",
            "model_name": "TextModel",
            "state": {
              "description": "Customer ID: ",
              "layout": "IPY_MODEL_24181be7b93f46b592df3a04564a6404",
              "style": "IPY_MODEL_925fcaa5b15541178fefac2c0b182d48"
            }
          },
          "ee5aea8d786149a8951707d46e1d8022": {
            "model_module": "@jupyter-widgets/controls",
            "model_module_version": "2.0.0",
            "model_name": "TextStyleModel",
            "state": {
              "description_width": "",
              "font_size": null,
              "text_color": null
            }
          },
          "f41a436428c34aa9a2c15fb0da56e2bb": {
            "model_module": "@jupyter-widgets/base",
            "model_module_version": "2.0.0",
            "model_name": "LayoutModel",
            "state": {}
          },
          "9ceaa9e4cef64ab58b2ac8de81749f7e": {
            "model_module": "@jupyter-widgets/base",
            "model_module_version": "2.0.0",
            "model_name": "LayoutModel",
            "state": {}
          },
          "bd6dbb93d4ee486ca25a06d0ddf3aba8": {
            "model_module": "@jupyter-widgets/controls",
            "model_module_version": "2.0.0",
            "model_name": "TextStyleModel",
            "state": {
              "description_width": "",
              "font_size": null,
              "text_color": null
            }
          },
          "060536086c74459fbac2d7bf818617e4": {
            "model_module": "@jupyter-widgets/controls",
            "model_module_version": "2.0.0",
            "model_name": "ButtonStyleModel",
            "state": {
              "font_family": null,
              "font_size": null,
              "font_style": null,
              "font_variant": null,
              "font_weight": null,
              "text_color": null,
              "text_decoration": null
            }
          },
          "59d5a1746a074885bf99f38bd658e829": {
            "model_module": "@jupyter-widgets/base",
            "model_module_version": "2.0.0",
            "model_name": "LayoutModel",
            "state": {
              "width": "40%"
            }
          },
          "0fbce7d146a54db2a8018b14ef53114c": {
            "model_module": "@jupyter-widgets/controls",
            "model_module_version": "2.0.0",
            "model_name": "TextStyleModel",
            "state": {
              "description_width": "",
              "font_size": null,
              "text_color": null
            }
          },
          "6330593299e140dd8f0627031ab967c9": {
            "model_module": "@jupyter-widgets/controls",
            "model_module_version": "2.0.0",
            "model_name": "CheckboxModel",
            "state": {
              "description": "Allow overwrite",
              "disabled": false,
              "layout": "IPY_MODEL_ed1a7616b39b4347935526ba23277256",
              "style": "IPY_MODEL_ec51959cddd142ddac9dcee55656a38d",
              "value": false
            }
          },
          "2ec0acc77fc64afcac2d010f3bdf0cc1": {
            "model_module": "@jupyter-widgets/controls",
            "model_module_version": "2.0.0",
            "model_name": "TextStyleModel",
            "state": {
              "description_width": "",
              "font_size": null,
              "text_color": null
            }
          },
          "44d93d81c88d47de930d8fef583ccd8b": {
            "model_module": "@jupyter-widgets/base",
            "model_module_version": "2.0.0",
            "model_name": "LayoutModel",
            "state": {}
          },
          "1ff18340c68840fd8be97a54768b2c93": {
            "model_module": "@jupyter-widgets/base",
            "model_module_version": "2.0.0",
            "model_name": "LayoutModel",
            "state": {}
          },
          "3e3566198b5545e3a669a2882b6d1213": {
            "model_module": "@jupyter-widgets/controls",
            "model_module_version": "2.0.0",
            "model_name": "CheckboxStyleModel",
            "state": {
              "description_width": ""
            }
          },
          "e797dbeb0edc4efb9b9c6a24e873a6f5": {
            "model_module": "@jupyter-widgets/controls",
            "model_module_version": "2.0.0",
            "model_name": "TextStyleModel",
            "state": {
              "description_width": "",
              "font_size": null,
              "text_color": null
            }
          },
          "94a1df1e11e641848a7875a39fff77d1": {
            "model_module": "@jupyter-widgets/base",
            "model_module_version": "2.0.0",
            "model_name": "LayoutModel",
            "state": {}
          },
          "d5d0eb05c739458e87ea47a5a5c38329": {
            "model_module": "@jupyter-widgets/base",
            "model_module_version": "2.0.0",
            "model_name": "LayoutModel",
            "state": {}
          },
          "f5c5839330634db487f29783e72ea67f": {
            "model_module": "@jupyter-widgets/base",
            "model_module_version": "2.0.0",
            "model_name": "LayoutModel",
            "state": {
              "width": "40%"
            }
          },
          "21fc0258a86a41f490c9346b7d8b12ba": {
            "model_module": "@jupyter-widgets/controls",
            "model_module_version": "2.0.0",
            "model_name": "CheckboxStyleModel",
            "state": {
              "description_width": ""
            }
          },
          "9e86f83bc27a439ca6d8e0edbcbb5333": {
            "model_module": "@jupyter-widgets/controls",
            "model_module_version": "2.0.0",
            "model_name": "TextModel",
            "state": {
              "description": "Input Path",
              "layout": "IPY_MODEL_36560e585cce4a86a1c433af7e366147",
              "style": "IPY_MODEL_e66fc5a1d1a94ae1a67c49e0ff884887",
              "tooltip": "Path to input directory or archive"
            }
          }
        },
        "version_major": 2,
        "version_minor": 0
      }
    },
    "nteract": {
      "version": "0.28.0"
    }
  },
  "nbformat": 4,
  "nbformat_minor": 5
}