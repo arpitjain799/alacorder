{
  "cells": [
    {
      "cell_type": "markdown",
      "source": [
        "\n",
        "\n",
        "# Getting Started with Alacorder\n",
        "\n",
        "### Alacorder processes case detail PDFs retrieved from Alacourt.com into data tables suitable for research purposes. Alacorder also generates compressed text archives from the source PDFs to speed future data collection from the same set of cases.\n",
        "\n",
        "## Installation\n",
        "\n",
        "**Alacorder can run on most devices. If your device can run Python 3.7 or later, it can run alacorder.**\n",
        "* To install on Windows, open Command Prompt and enter `pip install alacorder`. \n",
        "    * To start the interface, enter `python -m alacorder` or `python3 -m alacorder`.\n",
        "* On Mac, open the Terminal and enter `pip3 install alacorder` then `python3 -m alacorder`.\n",
        "    * To start the interface, enter `python3 -m alacorder` or `python -m alacorder`.\n",
        "* If pip, pip3, python, and python3 do not work from your computer, install [Anaconda Distribution](https://www.anaconda.com/products/distribution), create a virtual environment, open a terminal, and then repeat these instructions. If your copy of alacorder is corrupted, use `pip uninstall alacorder` or `pip3 uninstall alacorder` and then reinstall it. There may be a newer version.\n",
        "\n",
        "#### Open this interactive tutorial on your desktop by installing [Anaconda Distribution](https://www.anaconda.com/) and opening \"Jupyter Lab.\" Open this file in Jupyter then run the `pip` command below. Running the `pip` command below will also update your copy of `alacorder` to the latest version automatically.\n",
        "\n",
        "[GitHub](https://github.com/sbrobson959/alacorder)  | [PyPI](https://pypi.org/project/alacorder/)     \n",
        "[Report an issue](mailto:sbrobson@crimson.ua.edu)\n",
        "\n",
        "<sup>© 2023 Sam Robson</sup>"
      ],
      "metadata": {},
      "id": "792d10b2-198a-4d30-a4d0-08aaf14aff66"
    },
    {
      "cell_type": "code",
      "source": [
        "%pip uninstall -y alacorder\n",
        "%pip install alacorder"
      ],
      "outputs": [
        {
          "output_type": "stream",
          "name": "stdout",
          "text": [
            "\u001b[33mWARNING: Skipping alacorder as it is not installed.\u001b[0m\u001b[33m\n",
            "\u001b[0mNote: you may need to restart the kernel to use updated packages.\n",
            "Collecting alacorder\n",
            "  Using cached alacorder-7.3.1-py3-none-any.whl (11 kB)\n",
            "Collecting pandas\n",
            "  Using cached pandas-1.5.3-cp311-cp311-macosx_11_0_arm64.whl (10.8 MB)\n",
            "Collecting numpy\n",
            "  Using cached numpy-1.24.2-cp311-cp311-macosx_11_0_arm64.whl (13.8 MB)\n",
            "Collecting xlrd\n",
            "  Using cached xlrd-2.0.1-py2.py3-none-any.whl (96 kB)\n",
            "Collecting openpyxl\n",
            "  Using cached openpyxl-3.1.0-py2.py3-none-any.whl (250 kB)\n",
            "Requirement already satisfied: setuptools in /Users/samuelrobson/.pyenv/versions/3.11.1/lib/python3.11/site-packages (from alacorder) (65.5.0)\n",
            "Collecting PyPDF2\n",
            "  Using cached pypdf2-3.0.1-py3-none-any.whl (232 kB)\n",
            "Collecting xlwt\n",
            "  Using cached xlwt-1.3.0-py2.py3-none-any.whl (99 kB)\n",
            "Collecting build\n",
            "  Using cached build-0.10.0-py3-none-any.whl (17 kB)\n",
            "Requirement already satisfied: pip in /Users/samuelrobson/.pyenv/versions/3.11.1/lib/python3.11/site-packages (from alacorder) (22.3.1)\n",
            "Requirement already satisfied: jupyter in /Users/samuelrobson/.pyenv/versions/3.11.1/lib/python3.11/site-packages (from alacorder) (1.0.0)\n",
            "Requirement already satisfied: packaging>=19.0 in /Users/samuelrobson/.pyenv/versions/3.11.1/lib/python3.11/site-packages (from build->alacorder) (23.0)\n",
            "Collecting pyproject_hooks\n",
            "  Using cached pyproject_hooks-1.0.0-py3-none-any.whl (9.3 kB)\n",
            "Requirement already satisfied: notebook in /Users/samuelrobson/.pyenv/versions/3.11.1/lib/python3.11/site-packages (from jupyter->alacorder) (6.5.2)\n",
            "Requirement already satisfied: qtconsole in /Users/samuelrobson/.pyenv/versions/3.11.1/lib/python3.11/site-packages (from jupyter->alacorder) (5.4.0)\n",
            "Requirement already satisfied: jupyter-console in /Users/samuelrobson/.pyenv/versions/3.11.1/lib/python3.11/site-packages (from jupyter->alacorder) (6.4.4)\n",
            "Requirement already satisfied: nbconvert in /Users/samuelrobson/.pyenv/versions/3.11.1/lib/python3.11/site-packages (from jupyter->alacorder) (7.2.9)\n",
            "Requirement already satisfied: ipykernel in /Users/samuelrobson/.pyenv/versions/3.11.1/lib/python3.11/site-packages (from jupyter->alacorder) (6.21.1)\n",
            "Requirement already satisfied: ipywidgets in /Users/samuelrobson/.pyenv/versions/3.11.1/lib/python3.11/site-packages (from jupyter->alacorder) (8.0.4)\n",
            "Collecting et-xmlfile\n",
            "  Using cached et_xmlfile-1.1.0-py3-none-any.whl (4.7 kB)\n",
            "Requirement already satisfied: python-dateutil>=2.8.1 in /Users/samuelrobson/.pyenv/versions/3.11.1/lib/python3.11/site-packages (from pandas->alacorder) (2.8.2)\n",
            "Collecting pytz>=2020.1\n",
            "  Using cached pytz-2022.7.1-py2.py3-none-any.whl (499 kB)\n",
            "Requirement already satisfied: six>=1.5 in /Users/samuelrobson/.pyenv/versions/3.11.1/lib/python3.11/site-packages (from python-dateutil>=2.8.1->pandas->alacorder) (1.16.0)\n",
            "Requirement already satisfied: appnope in /Users/samuelrobson/.pyenv/versions/3.11.1/lib/python3.11/site-packages (from ipykernel->jupyter->alacorder) (0.1.3)\n",
            "Requirement already satisfied: comm>=0.1.1 in /Users/samuelrobson/.pyenv/versions/3.11.1/lib/python3.11/site-packages (from ipykernel->jupyter->alacorder) (0.1.2)\n",
            "Requirement already satisfied: debugpy>=1.6.5 in /Users/samuelrobson/.pyenv/versions/3.11.1/lib/python3.11/site-packages (from ipykernel->jupyter->alacorder) (1.6.6)\n",
            "Requirement already satisfied: ipython>=7.23.1 in /Users/samuelrobson/.pyenv/versions/3.11.1/lib/python3.11/site-packages (from ipykernel->jupyter->alacorder) (8.9.0)\n",
            "Requirement already satisfied: jupyter-client>=6.1.12 in /Users/samuelrobson/.pyenv/versions/3.11.1/lib/python3.11/site-packages (from ipykernel->jupyter->alacorder) (8.0.2)\n",
            "Requirement already satisfied: jupyter-core!=5.0.*,>=4.12 in /Users/samuelrobson/.pyenv/versions/3.11.1/lib/python3.11/site-packages (from ipykernel->jupyter->alacorder) (5.2.0)\n",
            "Requirement already satisfied: matplotlib-inline>=0.1 in /Users/samuelrobson/.pyenv/versions/3.11.1/lib/python3.11/site-packages (from ipykernel->jupyter->alacorder) (0.1.6)\n",
            "Requirement already satisfied: nest-asyncio in /Users/samuelrobson/.pyenv/versions/3.11.1/lib/python3.11/site-packages (from ipykernel->jupyter->alacorder) (1.5.6)\n",
            "Requirement already satisfied: psutil in /Users/samuelrobson/.pyenv/versions/3.11.1/lib/python3.11/site-packages (from ipykernel->jupyter->alacorder) (5.9.4)\n",
            "Requirement already satisfied: pyzmq>=17 in /Users/samuelrobson/.pyenv/versions/3.11.1/lib/python3.11/site-packages (from ipykernel->jupyter->alacorder) (25.0.0)\n",
            "Requirement already satisfied: tornado>=6.1 in /Users/samuelrobson/.pyenv/versions/3.11.1/lib/python3.11/site-packages (from ipykernel->jupyter->alacorder) (6.2)\n",
            "Requirement already satisfied: traitlets>=5.4.0 in /Users/samuelrobson/.pyenv/versions/3.11.1/lib/python3.11/site-packages (from ipykernel->jupyter->alacorder) (5.9.0)\n",
            "Requirement already satisfied: widgetsnbextension~=4.0 in /Users/samuelrobson/.pyenv/versions/3.11.1/lib/python3.11/site-packages (from ipywidgets->jupyter->alacorder) (4.0.5)\n",
            "Requirement already satisfied: jupyterlab-widgets~=3.0 in /Users/samuelrobson/.pyenv/versions/3.11.1/lib/python3.11/site-packages (from ipywidgets->jupyter->alacorder) (3.0.5)\n",
            "Requirement already satisfied: prompt-toolkit!=3.0.0,!=3.0.1,<3.1.0,>=2.0.0 in /Users/samuelrobson/.pyenv/versions/3.11.1/lib/python3.11/site-packages (from jupyter-console->jupyter->alacorder) (3.0.36)\n",
            "Requirement already satisfied: pygments in /Users/samuelrobson/.pyenv/versions/3.11.1/lib/python3.11/site-packages (from jupyter-console->jupyter->alacorder) (2.14.0)\n",
            "Requirement already satisfied: beautifulsoup4 in /Users/samuelrobson/.pyenv/versions/3.11.1/lib/python3.11/site-packages (from nbconvert->jupyter->alacorder) (4.11.2)\n",
            "Requirement already satisfied: bleach in /Users/samuelrobson/.pyenv/versions/3.11.1/lib/python3.11/site-packages (from nbconvert->jupyter->alacorder) (6.0.0)\n",
            "Requirement already satisfied: defusedxml in /Users/samuelrobson/.pyenv/versions/3.11.1/lib/python3.11/site-packages (from nbconvert->jupyter->alacorder) (0.7.1)\n",
            "Requirement already satisfied: jinja2>=3.0 in /Users/samuelrobson/.pyenv/versions/3.11.1/lib/python3.11/site-packages (from nbconvert->jupyter->alacorder) (3.1.2)\n",
            "Requirement already satisfied: jupyterlab-pygments in /Users/samuelrobson/.pyenv/versions/3.11.1/lib/python3.11/site-packages (from nbconvert->jupyter->alacorder) (0.2.2)\n",
            "Requirement already satisfied: markupsafe>=2.0 in /Users/samuelrobson/.pyenv/versions/3.11.1/lib/python3.11/site-packages (from nbconvert->jupyter->alacorder) (2.1.2)\n",
            "Requirement already satisfied: mistune<3,>=2.0.3 in /Users/samuelrobson/.pyenv/versions/3.11.1/lib/python3.11/site-packages (from nbconvert->jupyter->alacorder) (2.0.5)\n",
            "Requirement already satisfied: nbclient>=0.5.0 in /Users/samuelrobson/.pyenv/versions/3.11.1/lib/python3.11/site-packages (from nbconvert->jupyter->alacorder) (0.7.2)\n",
            "Requirement already satisfied: nbformat>=5.1 in /Users/samuelrobson/.pyenv/versions/3.11.1/lib/python3.11/site-packages (from nbconvert->jupyter->alacorder) (5.7.3)\n",
            "Requirement already satisfied: pandocfilters>=1.4.1 in /Users/samuelrobson/.pyenv/versions/3.11.1/lib/python3.11/site-packages (from nbconvert->jupyter->alacorder) (1.5.0)\n",
            "Requirement already satisfied: tinycss2 in /Users/samuelrobson/.pyenv/versions/3.11.1/lib/python3.11/site-packages (from nbconvert->jupyter->alacorder) (1.2.1)\n",
            "Requirement already satisfied: argon2-cffi in /Users/samuelrobson/.pyenv/versions/3.11.1/lib/python3.11/site-packages (from notebook->jupyter->alacorder) (21.3.0)\n",
            "Requirement already satisfied: ipython-genutils in /Users/samuelrobson/.pyenv/versions/3.11.1/lib/python3.11/site-packages (from notebook->jupyter->alacorder) (0.2.0)\n",
            "Requirement already satisfied: Send2Trash>=1.8.0 in /Users/samuelrobson/.pyenv/versions/3.11.1/lib/python3.11/site-packages (from notebook->jupyter->alacorder) (1.8.0)\n",
            "Requirement already satisfied: terminado>=0.8.3 in /Users/samuelrobson/.pyenv/versions/3.11.1/lib/python3.11/site-packages (from notebook->jupyter->alacorder) (0.17.1)\n",
            "Requirement already satisfied: prometheus-client in /Users/samuelrobson/.pyenv/versions/3.11.1/lib/python3.11/site-packages (from notebook->jupyter->alacorder) (0.16.0)\n",
            "Requirement already satisfied: nbclassic>=0.4.7 in /Users/samuelrobson/.pyenv/versions/3.11.1/lib/python3.11/site-packages (from notebook->jupyter->alacorder) (0.5.1)\n",
            "Requirement already satisfied: qtpy>=2.0.1 in /Users/samuelrobson/.pyenv/versions/3.11.1/lib/python3.11/site-packages (from qtconsole->jupyter->alacorder) (2.3.0)\n",
            "Requirement already satisfied: backcall in /Users/samuelrobson/.pyenv/versions/3.11.1/lib/python3.11/site-packages (from ipython>=7.23.1->ipykernel->jupyter->alacorder) (0.2.0)\n",
            "Requirement already satisfied: decorator in /Users/samuelrobson/.pyenv/versions/3.11.1/lib/python3.11/site-packages (from ipython>=7.23.1->ipykernel->jupyter->alacorder) (5.1.1)\n",
            "Requirement already satisfied: jedi>=0.16 in /Users/samuelrobson/.pyenv/versions/3.11.1/lib/python3.11/site-packages (from ipython>=7.23.1->ipykernel->jupyter->alacorder) (0.18.2)\n",
            "Requirement already satisfied: pickleshare in /Users/samuelrobson/.pyenv/versions/3.11.1/lib/python3.11/site-packages (from ipython>=7.23.1->ipykernel->jupyter->alacorder) (0.7.5)\n",
            "Requirement already satisfied: stack-data in /Users/samuelrobson/.pyenv/versions/3.11.1/lib/python3.11/site-packages (from ipython>=7.23.1->ipykernel->jupyter->alacorder) (0.6.2)\n",
            "Requirement already satisfied: pexpect>4.3 in /Users/samuelrobson/.pyenv/versions/3.11.1/lib/python3.11/site-packages (from ipython>=7.23.1->ipykernel->jupyter->alacorder) (4.8.0)\n",
            "Requirement already satisfied: platformdirs>=2.5 in /Users/samuelrobson/.pyenv/versions/3.11.1/lib/python3.11/site-packages (from jupyter-core!=5.0.*,>=4.12->ipykernel->jupyter->alacorder) (3.0.0)\n",
            "Requirement already satisfied: jupyter-server>=1.17.0 in /Users/samuelrobson/.pyenv/versions/3.11.1/lib/python3.11/site-packages (from nbclassic>=0.4.7->notebook->jupyter->alacorder) (2.2.1)\n",
            "Requirement already satisfied: notebook-shim>=0.1.0 in /Users/samuelrobson/.pyenv/versions/3.11.1/lib/python3.11/site-packages (from nbclassic>=0.4.7->notebook->jupyter->alacorder) (0.2.2)\n",
            "Requirement already satisfied: fastjsonschema in /Users/samuelrobson/.pyenv/versions/3.11.1/lib/python3.11/site-packages (from nbformat>=5.1->nbconvert->jupyter->alacorder) (2.16.2)\n",
            "Requirement already satisfied: jsonschema>=2.6 in /Users/samuelrobson/.pyenv/versions/3.11.1/lib/python3.11/site-packages (from nbformat>=5.1->nbconvert->jupyter->alacorder) (4.17.3)\n",
            "Requirement already satisfied: wcwidth in /Users/samuelrobson/.pyenv/versions/3.11.1/lib/python3.11/site-packages (from prompt-toolkit!=3.0.0,!=3.0.1,<3.1.0,>=2.0.0->jupyter-console->jupyter->alacorder) (0.2.6)\n",
            "Requirement already satisfied: ptyprocess in /Users/samuelrobson/.pyenv/versions/3.11.1/lib/python3.11/site-packages (from terminado>=0.8.3->notebook->jupyter->alacorder) (0.7.0)\n",
            "Requirement already satisfied: argon2-cffi-bindings in /Users/samuelrobson/.pyenv/versions/3.11.1/lib/python3.11/site-packages (from argon2-cffi->notebook->jupyter->alacorder) (21.2.0)\n",
            "Requirement already satisfied: soupsieve>1.2 in /Users/samuelrobson/.pyenv/versions/3.11.1/lib/python3.11/site-packages (from beautifulsoup4->nbconvert->jupyter->alacorder) (2.3.2.post1)\n",
            "Requirement already satisfied: webencodings in /Users/samuelrobson/.pyenv/versions/3.11.1/lib/python3.11/site-packages (from bleach->nbconvert->jupyter->alacorder) (0.5.1)\n",
            "Requirement already satisfied: parso<0.9.0,>=0.8.0 in /Users/samuelrobson/.pyenv/versions/3.11.1/lib/python3.11/site-packages (from jedi>=0.16->ipython>=7.23.1->ipykernel->jupyter->alacorder) (0.8.3)\n",
            "Requirement already satisfied: attrs>=17.4.0 in /Users/samuelrobson/.pyenv/versions/3.11.1/lib/python3.11/site-packages (from jsonschema>=2.6->nbformat>=5.1->nbconvert->jupyter->alacorder) (22.2.0)\n",
            "Requirement already satisfied: pyrsistent!=0.17.0,!=0.17.1,!=0.17.2,>=0.14.0 in /Users/samuelrobson/.pyenv/versions/3.11.1/lib/python3.11/site-packages (from jsonschema>=2.6->nbformat>=5.1->nbconvert->jupyter->alacorder) (0.19.3)\n",
            "Requirement already satisfied: anyio>=3.1.0 in /Users/samuelrobson/.pyenv/versions/3.11.1/lib/python3.11/site-packages (from jupyter-server>=1.17.0->nbclassic>=0.4.7->notebook->jupyter->alacorder) (3.6.2)\n",
            "Requirement already satisfied: jupyter-events>=0.4.0 in /Users/samuelrobson/.pyenv/versions/3.11.1/lib/python3.11/site-packages (from jupyter-server>=1.17.0->nbclassic>=0.4.7->notebook->jupyter->alacorder) (0.6.3)\n",
            "Requirement already satisfied: jupyter-server-terminals in /Users/samuelrobson/.pyenv/versions/3.11.1/lib/python3.11/site-packages (from jupyter-server>=1.17.0->nbclassic>=0.4.7->notebook->jupyter->alacorder) (0.4.4)\n",
            "Requirement already satisfied: websocket-client in /Users/samuelrobson/.pyenv/versions/3.11.1/lib/python3.11/site-packages (from jupyter-server>=1.17.0->nbclassic>=0.4.7->notebook->jupyter->alacorder) (1.5.1)\n",
            "Requirement already satisfied: cffi>=1.0.1 in /Users/samuelrobson/.pyenv/versions/3.11.1/lib/python3.11/site-packages (from argon2-cffi-bindings->argon2-cffi->notebook->jupyter->alacorder) (1.15.1)\n",
            "Requirement already satisfied: executing>=1.2.0 in /Users/samuelrobson/.pyenv/versions/3.11.1/lib/python3.11/site-packages (from stack-data->ipython>=7.23.1->ipykernel->jupyter->alacorder) (1.2.0)\n",
            "Requirement already satisfied: asttokens>=2.1.0 in /Users/samuelrobson/.pyenv/versions/3.11.1/lib/python3.11/site-packages (from stack-data->ipython>=7.23.1->ipykernel->jupyter->alacorder) (2.2.1)\n",
            "Requirement already satisfied: pure-eval in /Users/samuelrobson/.pyenv/versions/3.11.1/lib/python3.11/site-packages (from stack-data->ipython>=7.23.1->ipykernel->jupyter->alacorder) (0.2.2)\n",
            "Requirement already satisfied: idna>=2.8 in /Users/samuelrobson/.pyenv/versions/3.11.1/lib/python3.11/site-packages (from anyio>=3.1.0->jupyter-server>=1.17.0->nbclassic>=0.4.7->notebook->jupyter->alacorder) (3.4)\n",
            "Requirement already satisfied: sniffio>=1.1 in /Users/samuelrobson/.pyenv/versions/3.11.1/lib/python3.11/site-packages (from anyio>=3.1.0->jupyter-server>=1.17.0->nbclassic>=0.4.7->notebook->jupyter->alacorder) (1.3.0)\n",
            "Requirement already satisfied: pycparser in /Users/samuelrobson/.pyenv/versions/3.11.1/lib/python3.11/site-packages (from cffi>=1.0.1->argon2-cffi-bindings->argon2-cffi->notebook->jupyter->alacorder) (2.21)\n",
            "Requirement already satisfied: python-json-logger>=2.0.4 in /Users/samuelrobson/.pyenv/versions/3.11.1/lib/python3.11/site-packages (from jupyter-events>=0.4.0->jupyter-server>=1.17.0->nbclassic>=0.4.7->notebook->jupyter->alacorder) (2.0.4)\n",
            "Requirement already satisfied: pyyaml>=5.3 in /Users/samuelrobson/.pyenv/versions/3.11.1/lib/python3.11/site-packages (from jupyter-events>=0.4.0->jupyter-server>=1.17.0->nbclassic>=0.4.7->notebook->jupyter->alacorder) (6.0)\n",
            "Requirement already satisfied: rfc3339-validator in /Users/samuelrobson/.pyenv/versions/3.11.1/lib/python3.11/site-packages (from jupyter-events>=0.4.0->jupyter-server>=1.17.0->nbclassic>=0.4.7->notebook->jupyter->alacorder) (0.1.4)\n",
            "Requirement already satisfied: rfc3986-validator>=0.1.1 in /Users/samuelrobson/.pyenv/versions/3.11.1/lib/python3.11/site-packages (from jupyter-events>=0.4.0->jupyter-server>=1.17.0->nbclassic>=0.4.7->notebook->jupyter->alacorder) (0.1.1)\n",
            "Requirement already satisfied: fqdn in /Users/samuelrobson/.pyenv/versions/3.11.1/lib/python3.11/site-packages (from jsonschema>=2.6->nbformat>=5.1->nbconvert->jupyter->alacorder) (1.5.1)\n",
            "Requirement already satisfied: isoduration in /Users/samuelrobson/.pyenv/versions/3.11.1/lib/python3.11/site-packages (from jsonschema>=2.6->nbformat>=5.1->nbconvert->jupyter->alacorder) (20.11.0)\n",
            "Requirement already satisfied: jsonpointer>1.13 in /Users/samuelrobson/.pyenv/versions/3.11.1/lib/python3.11/site-packages (from jsonschema>=2.6->nbformat>=5.1->nbconvert->jupyter->alacorder) (2.3)\n",
            "Requirement already satisfied: uri-template in /Users/samuelrobson/.pyenv/versions/3.11.1/lib/python3.11/site-packages (from jsonschema>=2.6->nbformat>=5.1->nbconvert->jupyter->alacorder) (1.2.0)\n",
            "Requirement already satisfied: webcolors>=1.11 in /Users/samuelrobson/.pyenv/versions/3.11.1/lib/python3.11/site-packages (from jsonschema>=2.6->nbformat>=5.1->nbconvert->jupyter->alacorder) (1.12)\n",
            "Requirement already satisfied: arrow>=0.15.0 in /Users/samuelrobson/.pyenv/versions/3.11.1/lib/python3.11/site-packages (from isoduration->jsonschema>=2.6->nbformat>=5.1->nbconvert->jupyter->alacorder) (1.2.3)\n",
            "Installing collected packages: xlwt, pytz, xlrd, pyproject_hooks, PyPDF2, numpy, et-xmlfile, pandas, openpyxl, build, alacorder\n",
            "Successfully installed PyPDF2-3.0.1 alacorder-7.3.1 build-0.10.0 et-xmlfile-1.1.0 numpy-1.24.2 openpyxl-3.1.0 pandas-1.5.3 pyproject_hooks-1.0.0 pytz-2022.7.1 xlrd-2.0.1 xlwt-1.3.0\n",
            "\n",
            "\u001b[1m[\u001b[0m\u001b[34;49mnotice\u001b[0m\u001b[1;39;49m]\u001b[0m\u001b[39;49m A new release of pip available: \u001b[0m\u001b[31;49m22.3.1\u001b[0m\u001b[39;49m -> \u001b[0m\u001b[32;49m23.0\u001b[0m\n",
            "\u001b[1m[\u001b[0m\u001b[34;49mnotice\u001b[0m\u001b[1;39;49m]\u001b[0m\u001b[39;49m To update, run: \u001b[0m\u001b[32;49mpip install --upgrade pip\u001b[0m\n",
            "Note: you may need to restart the kernel to use updated packages.\n"
          ]
        }
      ],
      "execution_count": null,
      "metadata": {
        "jupyter": {
          "outputs_hidden": true
        },
        "scrolled": true,
        "tags": []
      },
      "id": "aeb9a2e8-fb66-4070-8ea1-2eabcf1d44e1"
    },
    {
      "cell_type": "markdown",
      "source": [
        "*Alacorder should automatically install dependencies upon setup, but you can also install the dependencies yourself (pandas, numpy, PyPDF2, openpyxl, xlrd, xlwt, build, setuptools, xarray)*"
      ],
      "metadata": {},
      "id": "969715bb-24d4-4947-adfe-3705accdd8e5"
    },
    {
      "cell_type": "markdown",
      "source": [
        "# Using the guided interface\n",
        "\n",
        "#### Once you have a Python environment up and running, you can launch the guided interface by:\n",
        "\n",
        "* Importing the module from your command line. Depending on your Python configuration, enter `python -m alacorder` or `python3 -m alacorder` to launch the command line interface. \n",
        "\n",
        "* Importing the alacorder module in Python. Use the import statement from `alacorder import __main__` to run the command line interface.\n",
        "\n",
        "\n",
        "* **Alacorder can be used without writing any code, and exports to common formats like Excel (.xls), Stata (.dta), CSV, and JSON. Alacorder full text archives are compressed pickle archives (.pkl.xz), a format which can store thousands of PDF's text in a very small file. If you need to unpack a pickle archive without the `alac` module, use a .xz compression tool, then read the pickle into Python with the standard library module `pickle`.**\n",
        "    * Once installed, enter `python -m alacorder` or `python3 -m alacorder` to start the interface. \n",
        "    * If you are using iPython, launch the iPython shell and enter `from alacorder import __main__` to launch guided interface. \n",
        "\n",
        "\n"
      ],
      "metadata": {
        "tags": []
      },
      "id": "bf72ba61-5a6f-4ae9-9b4b-2807921cb46d"
    },
    {
      "cell_type": "code",
      "source": [
        "from alacorder import __main__"
      ],
      "outputs": [
        {
          "output_type": "stream",
          "name": "stdout",
          "text": [
            "\n",
            "\n",
            "\t    ___    __                          __         \n",
            "\t   /   |  / /___ __________  _________/ /__  _____\n",
            "\t  / /| | / / __ `/ ___/ __ \\/ ___/ __  / _ \\/ ___/\n",
            "\t / ___ |/ / /_/ / /__/ /_/ / /  / /_/ /  __/ /    \n",
            "\t/_/  |_/_/\\__,_/\\___/\\____/_/   \\__,_/\\___/_/     \n",
            "\t\t\t\t\t\t\t\t\t\t\t\t\t\t\t\t\t\t\t\t\t\t\t\t\t\t\t\t\t\t\t\t\t\t\t\t\t\t\t\t\t\t\t\t\t\t\n",
            "\t\t\n",
            "\t\tALACORDER beta 7.3.1 (pure-python)\n",
            "\t\tby Sam Robson\t\n",
            "\n",
            "\n",
            "Welcome to Alacorder. Please select an operating mode:\n",
            "\n",
            "\tA.\tMAKE A TABLE FROM DIRECTORY OR ARCHIVE\n",
            "\n",
            "\t\tCreate detailed cases table with convictions, charges,\n",
            "\t\tfees, and voting rights restoration information. \n",
            "\n",
            "\t\tInputs:\t\tText Archive (.pkl.xz) or PDF directory\n",
            "\t\tOutputs:\tRecommend .xls -> all tables in one file\n",
            "\t\t\t\t\tAlso supports .csv, .dta, .json, .txt\n",
            "\n",
            "\tB.\tARCHIVE CASES\n",
            "\n",
            "\t\tCollect text from PDFs in directory and compress to archive.\n",
            "\t\tArchives can be processed into tables upon completion.\n",
            "\n",
            "\t\tInputs:\t\tPDF Directory (./path/to/pdfs)\n",
            "\t\tOutputs:\tfilename.pkl.xz\n",
            "\n",
            ">> Enter A or B:\n",
            "\n"
          ]
        }
      ],
      "execution_count": 2,
      "metadata": {
        "jupyter": {
          "outputs_hidden": true
        },
        "scrolled": true,
        "tags": []
      },
      "id": "1f720d04-b2e6-4f99-b7ec-d937d99f657d"
    },
    {
      "cell_type": "markdown",
      "source": [
        "# Writing basic scripts with `alac` \n",
        "\n",
        "### For more advanced queries, the `alacorder` module `alac` can be used to extract fields and tables from Alacourt records with only a few lines of code.\n",
        "\n",
        "#### The `run` module creates the full text archives and detailed case summary tables outputted by the guided interface. \n",
        "\n",
        "* Call `alac.config(in_path: str, out_path='', flags='', print_log=True, warn=False)` and assign it to a variable to hold your configuration object. This tells the imported alacorder modules where and how to input and output. If `out-path` is left blank, `alac.write` methods will print to console instead of export. \n",
        "\n",
        "* Call `alac.writeArchive(config)` to export a full text archive. It's recommended that you create a full text archive and save it as a .pkl file before making tables from your data. Full text archives can be scanned faster than PDF directories and require much less storage. Full text archives can be used just like PDF directories. \n",
        "\n",
        "* Call `alac.writeTables(config)` to export detailed case information tables. If export type is .xls, the \"cases\",\"fees\", and \"charges\" tables will all be exported. Otherwise, you can select which table you would like to export. \n",
        "\n",
        "* Call `alac.writeCharges(config)` to export charges table only.\n",
        "\n",
        "* Call `alac.writeFees(config)` to export fee tables only."
      ],
      "metadata": {},
      "id": "4daabc54-92dd-43af-96b6-89e903e6c366"
    },
    {
      "cell_type": "code",
      "source": [
        "import warnings\n",
        "warnings.filterwarnings('ignore')\n",
        "\n",
        "from alacorder import alac\n",
        "\n",
        "pdf_directory = \"/Users/crimson/Desktop/Tutwiler/\"\n",
        "archive = \"/Users/crimson/Desktop/Tutwiler.pkl.xz\"\n",
        "tables = \"/Users/crimson/Desktop/Tutwiler.xls\"\n",
        "\n",
        "# make full text archive from PDF directory \n",
        "c = alac.config(pdf_directory, archive)\n",
        "alac.writeArchive(c)\n",
        "\n",
        "print(\"Full text archive complete. Now processing case information into tables at \" + tables)\n",
        "\n",
        "# then scan full text archive for spreadsheet\n",
        "d = alac.config(archive, tables)\n",
        "alac.writeTables(d)"
      ],
      "outputs": [],
      "execution_count": null,
      "metadata": {},
      "id": "df6b939a-5625-43cc-8b78-d3368872001e"
    },
    {
      "cell_type": "markdown",
      "source": [
        "# Custom Parsing with *`alac`*\n",
        "### If you need to conduct a custom search of Alacorder records, the `alac` module has the tools you need to extract custom fields from Alacourt PDFs without any fuss. Try out `alac.write()` and `alac.search()` to search thousands of cases in just a few minutes."
      ],
      "metadata": {},
      "id": "5e43b636-992f-4f39-a0ec-8d7b6b81c532"
    },
    {
      "cell_type": "code",
      "source": [
        "from alacorder import alac\n",
        "import pandas as pd\n",
        "import re\n",
        "\n",
        "archive = \"/Users/crimson/Desktop/Tutwiler.pkl.xz\"\n",
        "tables = \"/Users/crimson/Desktop/Tutwiler.xls\"\n",
        "\n",
        "def findName(text):\n",
        "    name = \"\"\n",
        "    if bool(re.search(r'(?a)(VS\\.|V\\.{1})(.+)(Case)*', text, re.MULTILINE)) == True:\n",
        "        name = re.search(r'(?a)(VS\\.|V\\.{1})(.+)(Case)*', text, re.MULTILINE).group(2).replace(\"Case Number:\",\"\").strip()\n",
        "    else:\n",
        "        if bool(re.search(r'(?:DOB)(.+)(?:Name)', text, re.MULTILINE)) == True:\n",
        "            name = re.search(r'(?:DOB)(.+)(?:Name)', text, re.MULTILINE).group(1).replace(\":\",\"\").replace(\"Case Number:\",\"\").strip()\n",
        "    return name\n",
        "\n",
        "c = alac.config(archive, tables)\n",
        "\n",
        "alac.write(c, findName)"
      ],
      "outputs": [],
      "execution_count": null,
      "metadata": {},
      "id": "39c6e114"
    },
    {
      "cell_type": "markdown",
      "source": [
        "\n",
        "| Method | Description |\n",
        "| ------------- | ------ |\n",
        "| `getPDFText(path) -> text` | Returns full text of case |\n",
        "| `getCaseInfo(text) -> [case_number, name, alias, date_of_birth, race, sex, address, phone]` | Returns basic case details | \n",
        "| `getFeeSheet(text: str, cnum = '') -> [total_amtdue, total_balance, total_d999, feecodes_w_bal, all_fee_codes, table_string, feesheet: pd.DataFrame()]` | Returns fee sheet and summary as strings and pd.DataFrame() |\n",
        "| `getCharges(text: str, cnum = '') -> [convictions_string, disposition_charges, filing_charges, cerv_eligible_convictions, pardon_to_vote_convictions, permanently_disqualifying_convictions, conviction_count, charge_count, cerv_charge_count, pardontovote_charge_count, permanent_dq_charge_count, cerv_convictions_count, pardontovote_convictions_count, charge_codes, conviction_codes, all_charges_string, charges: pd.DataFrame()]` | Returns charges table and summary as strings, int, and pd.DataFrame() |\n",
        "| `getCaseNumber(text) -> case_number: str` | Returns case number\n",
        "\n"
      ],
      "metadata": {},
      "id": "cfb00d2c"
    },
    {
      "cell_type": "markdown",
      "source": [
        "# Working with Python data types"
      ],
      "metadata": {},
      "id": "236e3fc9-6ea1-47fa-b36e-671b8351a52c"
    },
    {
      "cell_type": "markdown",
      "source": [
        "### Out of the box, `alacorder` exports to .xls, .csv, .json, .dta, .pkl.xz, and .txt. But you can use `alac`, [pandas](https://pandas.pydata.org/docs/getting_started/index.html#getting-started), and other python modules to create your own data collection workflows and design custom exports. \n",
        "\n",
        "***The snippet below prints the fee sheets from a directory of case PDFs as it reads them.***"
      ],
      "metadata": {
        "tags": []
      },
      "id": "4cdf6ebb-c223-4040-9d75-577c222d776f"
    },
    {
      "cell_type": "code",
      "source": [
        "from alacorder import alac\n",
        "\n",
        "c = alac.config(\"/Users/crimson/Desktop/Tutwiler/\",\"/Users/crimson/Desktop/Tutwiler.xls\")\n",
        "\n",
        "for path in c['contents']:\n",
        "    text = alac.getPDFText(path)\n",
        "    cnum = alac.getCaseNumber(text)\n",
        "    charges_outputs = alac.getCharges(text, cnum)\n",
        "    if len(charges_outputs[0]) > 1:\n",
        "        print(charges_outputs[0])"
      ],
      "outputs": [],
      "execution_count": null,
      "metadata": {
        "scrolled": true,
        "tags": []
      },
      "id": "f2114a31-22aa-4abc-9823-46e8f9831b06"
    },
    {
      "cell_type": "code",
      "source": [
        "## use alac.search() to make a Series from a custom method. Write a method with a full text string parameter, parse the text to fit your purposes, and return the parsed values. \n",
        "\n",
        "## alac.write() works the same way, but will export the returned values in batches - like alac.writeTables() - instead of merely returning the mapped Series. \n",
        "\n",
        "from alacorder import alac\n",
        "\n",
        "def getRaceAndSex(text):\n",
        "  try:\n",
        "    racesex = re.search(r'(B|W|H|A)\\/(F|M)(?:Alias|XXX)', str(text))\n",
        "    race = racesex.group(1).strip()\n",
        "    sex = racesex.group(2).strip()\n",
        "  except (IndexError, AttributeError):\n",
        "    race = \"\"\n",
        "    sex = \"\"\n",
        "  return [race, sex]\n",
        "    \n",
        "c = alac.config(\"/Users/crimson/Desktop/Tutwiler/\",\"/Users/crimson/Desktop/Tutwiler.xls\")\n",
        "\n",
        "d = alac.search(c, getRaceAndSex)\n",
        "\n",
        "race = d[0]\n",
        "sex = d[1]\n",
        "\n",
        "print(race)\n",
        "print(sex)\n"
      ],
      "outputs": [],
      "execution_count": null,
      "metadata": {
        "collapsed": true,
        "jupyter": {
          "source_hidden": false,
          "outputs_hidden": false
        },
        "nteract": {
          "transient": {
            "deleting": false
          }
        }
      },
      "id": "95fac2b4-8c8d-44ef-9f51-f4c2a07478d7"
    },
    {
      "cell_type": "markdown",
      "source": [
        "## Extending alacorder with `pandas`, `jupyter`, and other tools\n",
        "\n",
        "Alacorder runs on [pandas](https://pandas.pydata.org/docs/getting_started/index.html#getting-started), a python module you can use to perform calculations, process text data, and make tables and charts. Pandas can read from and write to all major data storage formats. It can connect to a wide variety of services to expand the capability of `alacorder` data. When `alacorder` table data is exported to .pkl.xz, it is stored as a pandas DataFrame (like a spreadsheet) and can be imported into other python [modules](https://www.anaconda.com/open-source) and libraries with `pd.read_pickle()` like below:\n",
        "```\n",
        "import pandas as pd\n",
        "contents = pd.read_pickle(\"/path/to/pkl\")\n",
        "```\n",
        "\n",
        "If you would like to visualize data without exporting to Excel or another format, create a `jupyter notebook`, and import a data visualization library like `matplotlib` to get started. The [pandas](https://pandas.pydata.org/docs/getting_started/intro_tutorials/index.html) tutorials and documentation can help you get started. `jupyter` is a Python [notebook](https://docs.jupyter.org/en/latest/start/index.html) kernel you can use to create interactive tools like this notebook. It can be installed using `pip install jupyter` or `pip3 install jupyter` and launched using `jupyter notebook`. Your computer may already be equipped to view `jupyter` notebooks. \n",
        "\n",
        "### Resources to get started\n",
        "\n",
        "* [pandas cheat sheet](https://pandas.pydata.org/Pandas_Cheat_Sheet.pdf)\n",
        "* [regex cheat sheet](https://www.rexegg.com/regex-quickstart.html)\n",
        "* [anaconda (tutorials on python data analysis)](https://www.anaconda.com/open-source)\n",
        "* [The Python Tutorial](https://docs.python.org/3/tutorial/)\n"
      ],
      "metadata": {},
      "id": "737f3fe6"
    }
  ],
  "metadata": {
    "kernelspec": {
      "display_name": "Python 3",
      "language": "python",
      "name": "python3"
    },
    "language_info": {
      "name": "python",
      "version": "3.10.9",
      "mimetype": "text/x-python",
      "codemirror_mode": {
        "name": "ipython",
        "version": 3
      },
      "pygments_lexer": "ipython3",
      "nbconvert_exporter": "python",
      "file_extension": ".py"
    },
    "vscode": {
      "interpreter": {
        "hash": "0a06d46228816a09a363af1e595d105bbb6467fa58d20723a264e13439516ec3"
      }
    },
    "nteract": {
      "version": "0.28.0"
    }
  },
  "nbformat": 4,
  "nbformat_minor": 5
}