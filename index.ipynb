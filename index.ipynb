{
  "cells": [
    {
      "cell_type": "markdown",
      "source": [
        "<a href=\"https://colab.research.google.com/github/sbrobson959/alacorder/blob/main/index.ipynb\" target=\"_parent\"><img src=\"https://colab.research.google.com/assets/colab-badge.svg\" alt=\"Open In Colab\"/></a>"
      ],
      "metadata": {
        "id": "view-in-github",
        "colab_type": "text"
      },
      "id": "d70a527e-f189-44c6-962e-29f73492985a"
    },
    {
      "cell_type": "markdown",
      "source": [
        "```\n",
        "\t    ___    __                          __         \n",
        "\t   /   |  / /___  _________  _________/ /__  _____\n",
        "\t  / /| | / / __ `/ ___/ __ \\/ ___/ __  / _ \\/ ___/\n",
        "\t / ___ |/ / /_/ / /__/ /_/ / /  / /_/ /  __/ /    \n",
        "\t/_/  |_/_/\\__,_/\\___/\\____/_/   \\__,_/\\___/_/     \n",
        "\t\t\t\t\t\t\t\t\t\t\t\t\t\t\t\t\t\t\t\t\t\t\t\t\t\t\t\t\t\t\t\t\t\t\t\t\t\t\t\t\t\t\t\t\t\t\n",
        "\t\tALACORDER beta 71 (jupyter)\n",
        "```\n",
        "\n",
        "# **Getting Started with Alacorder**\n",
        "\n",
        "<sup>[GitHub](https://github.com/sbrobson959/alacorder)  | [PyPI](https://pypi.org/project/alacorder/)     | [Report an issue](mailto:sbrobson@crimson.ua.edu)\n",
        "</sup>\n",
        "\n",
        "### Alacorder processes case detail PDFs into data tables suitable for research purposes. Alacorder also generates compressed text archives from the source PDFs to speed future data collection from the same set of cases.\n",
        "\n",
        "## **Installation**\n",
        "\n",
        "**Alacorder can run on most devices. If your device can run Python 3.11, it can run Alacorder.**\n",
        "* To install on Windows, open Command Prompt and enter `pip install alacorder`. \n",
        "    * To start the interface, enter `python -m alacorder` or `python3 -m alacorder`.\n",
        "* On Mac, open the Terminal and enter `pip3 install alacorder` then `python3 -m alacorder`.\n",
        "    * To start the interface, enter `python3 -m alacorder` or `python -m alacorder`.\n",
        "* Install [Anaconda Distribution](https://www.anaconda.com/products/distribution) to install Alacorder if the above methods do not work, or if you would like to open and edit this interactive tutorial on your desktop.\n",
        "    * After installation, create a virtual environment, open a terminal, and then repeat these instructions. If your copy of Alacorder is corrupted, use `pip uninstall alacorder` or `pip3 uninstall alacorder` and then reinstall it. There may be a newer version."
      ],
      "metadata": {
        "id": "792d10b2-198a-4d30-a4d0-08aaf14aff66"
      },
      "id": "792d10b2-198a-4d30-a4d0-08aaf14aff66"
    },
    {
      "cell_type": "markdown",
      "source": [
        "> **Alacorder should automatically download and install dependencies upon setup, but you can also install the full list of dependencies yourself with `pip`: `pandas`, `numpy`, `PyPDF2`, `openpyxl`, `xlrd`, `xlwt`, `build`, `setuptools`, `xarray`, `jupyter`, `numexpr`, and `bottleneck`.**\n"
      ],
      "metadata": {
        "id": "969715bb-24d4-4947-adfe-3705accdd8e5"
      },
      "id": "969715bb-24d4-4947-adfe-3705accdd8e5"
    },
    {
      "cell_type": "code",
      "source": [
        "%pip uninstall -y alacorder\n",
        "%pip install alacorder"
      ],
      "outputs": [],
      "execution_count": null,
      "metadata": {
        "id": "aeb9a2e8-fb66-4070-8ea1-2eabcf1d44e1",
        "jupyter": {
          "outputs_hidden": true
        },
        "scrolled": true,
        "tags": []
      },
      "id": "aeb9a2e8-fb66-4070-8ea1-2eabcf1d44e1"
    },
    {
      "cell_type": "markdown",
      "source": [
        "# **Using the guided interface**\n",
        "\n",
        "#### **Once you have a Python environment up and running, you can launch the guided interface in two ways:**\n",
        "\n",
        "1.  *Import the module from your command line:* Depending on your Python configuration, enter `python -m alacorder` or `python3 -m alacorder` to launch the command line interface. \n",
        "\n",
        "2.  *Import the `alacorder` module in Python:* Use the import statement `from alacorder import __main__` to run the command line interface.\n",
        "\n",
        "#### **Alacorder can be used without writing any code, and exports to common formats like Excel (`.xlsx`), Stata (`.dta`), CSV (`.csv`), and JSON (`.json`).**\n",
        "\n",
        "* Alacorder compresses case text into `pickle` archives (`.pkl.xz`) to save storage and processing time. If you need to unpack a `pickle` archive without the `alac` module, use a `.xz` compression tool, then read the `pickle` into Python with the standard library module `pickle`.\n",
        "\n",
        "* Once installed, enter `python -m alacorder` or `python3 -m alacorder` to start the interface. If you are using `iPython`, launch the `iPython` shell and enter `from alacorder import __main__` to launch the guided interface. \n"
      ],
      "metadata": {
        "id": "bf72ba61-5a6f-4ae9-9b4b-2807921cb46d",
        "tags": []
      },
      "id": "bf72ba61-5a6f-4ae9-9b4b-2807921cb46d"
    },
    {
      "cell_type": "code",
      "source": [
        "from alacorder import __main__"
      ],
      "outputs": [],
      "execution_count": null,
      "metadata": {
        "id": "1f720d04-b2e6-4f99-b7ec-d937d99f657d",
        "jupyter": {
          "outputs_hidden": true
        },
        "scrolled": true,
        "tags": []
      },
      "id": "1f720d04-b2e6-4f99-b7ec-d937d99f657d"
    },
    {
      "cell_type": "markdown",
      "source": [
        "# **Taking things further with `alac`**\n",
        "\n",
        "### **For more advanced queries, the `alac` module can extract fields and tables from case records with only a few lines of code.**\n",
        "\n",
        "* Call `alac.config(input_path, tables_path = '', archive_path = '')` and assign it to a variable to hold your configuration object. This tells the imported Alacorder methods where and how to input and output. If `tables_path` and `archive_path` are left blank, `alac.parse…()` methods will print to console instead of export. \n",
        "\n",
        "* Call `alac.writeArchive(config)` to export a full text archive. It's recommended that you create a full text archive and save it as a `.pkl` file before making tables from your data. Full text archives can be scanned faster than PDF directories and require much less storage. Full text archives can be used just like PDF directories. \n",
        "\n",
        "* Call `alac.parseTables(config)` to export detailed case information tables. If export type is `.xls`, the `cases`, `fees`, and `charges` tables will all be exported. Otherwise, you can select which table you would like to export. \n",
        "\n",
        "* Call `alac.parseCharges(config)` to export `charges` table only.\n",
        "\n",
        "* Call `alac.parseFees(config)` to export `fee` tables only."
      ],
      "metadata": {
        "id": "4daabc54-92dd-43af-96b6-89e903e6c366"
      },
      "id": "4daabc54-92dd-43af-96b6-89e903e6c366"
    },
    {
      "cell_type": "code",
      "source": [
        "from alacorder import alac\n",
        "\n",
        "pdf_directory = \"/Users/crimson/Desktop/Tutwiler/\"\n",
        "archive = \"/Users/crimson/Desktop/Tutwiler.pkl.xz\"\n",
        "tables = \"/Users/crimson/Desktop/Tutwiler.xls\"\n",
        "\n",
        "# make full text archive from PDF directory \n",
        "c = alac.config(pdf_directory, archive, warn=False)\n",
        "alac.writeArchive(c)\n",
        "\n",
        "print(\"Full text archive complete. Now processing case information into tables at \" + tables)\n",
        "\n",
        "# then scan full text archive for spreadsheet\n",
        "d = alac.config(archive, tables, warn=False)\n",
        "alac.parseTables(d)"
      ],
      "outputs": [],
      "execution_count": null,
      "metadata": {
        "id": "df6b939a-5625-43cc-8b78-d3368872001e"
      },
      "id": "df6b939a-5625-43cc-8b78-d3368872001e"
    },
    {
      "cell_type": "markdown",
      "source": [
        "## **Advanced Queries with `alac.parse()`**\n",
        "### If you need to conduct a custom search of case records, `alac` has the tools you need to extract custom fields from case PDFs without any fuss. Try out `alac.parse(conf, mapFunc)` to search thousands of cases in just a few minutes."
      ],
      "metadata": {
        "id": "5e43b636-992f-4f39-a0ec-8d7b6b81c532"
      },
      "id": "5e43b636-992f-4f39-a0ec-8d7b6b81c532"
    },
    {
      "cell_type": "code",
      "source": [
        "from alacorder import alac\n",
        "import re\n",
        "\n",
        "archive = \"/Users/crimson/Desktop/Tutwiler.pkl.xz\"\n",
        "tables = \"/Users/crimson/Desktop/Tutwiler.xls\"\n",
        "\n",
        "def findName(text):\n",
        "    name = \"\"\n",
        "    if bool(re.search(r'(?a)(VS\\.|V\\.{1})(.+)(Case)*', text, re.MULTILINE)) == True:\n",
        "        name = re.search(r'(?a)(VS\\.|V\\.{1})(.+)(Case)*', text, re.MULTILINE).group(2).replace(\"Case Number:\",\"\").strip()\n",
        "    else:\n",
        "        if bool(re.search(r'(?:DOB)(.+)(?:Name)', text, re.MULTILINE)) == True:\n",
        "            name = re.search(r'(?:DOB)(.+)(?:Name)', text, re.MULTILINE).group(1).replace(\":\",\"\").replace(\"Case Number:\",\"\").strip()\n",
        "    return name\n",
        "\n",
        "c = alac.config(archive, tables)\n",
        "\n",
        "alac.write(c, findName)"
      ],
      "outputs": [],
      "execution_count": null,
      "metadata": {
        "id": "39c6e114"
      },
      "id": "39c6e114"
    },
    {
      "cell_type": "markdown",
      "source": [
        "\n",
        "| Method | Description |\n",
        "| ------------- | ------ |\n",
        "| `getPDFText(path) -> text` | Returns full text of case |\n",
        "| `getCaseInfo(text) -> [case_number, name, alias, date_of_birth, race, sex, address, phone]` | Returns basic case details | \n",
        "| `getFeeSheet(text: str, cnum = '') -> [total_amtdue, total_balance, total_d999, feecodes_w_bal, all_fee_codes, table_string, feesheet: pd.DataFrame()]` | Returns fee sheet and summary as `str` and `pd.DataFrame` |\n",
        "| `getCharges(text: str, cnum = '') -> [convictions_string, disposition_charges, filing_charges, cerv_eligible_convictions, pardon_to_vote_convictions, permanently_disqualifying_convictions, conviction_count, charge_count, cerv_charge_count, pardontovote_charge_count, permanent_dq_charge_count, cerv_convictions_count, pardontovote_convictions_count, charge_codes, conviction_codes, all_charges_string, charges: pd.DataFrame()]` | Returns charges table and summary as `str`, `int`, and `pd.DataFrame` |\n",
        "| `getCaseNumber(text) -> case_number: str` | Returns case number\n",
        "| `getName(text) -> name: str` | Returns name\n",
        "| `getFeeTotals(text) -> [total_row: str, tdue: str, tpaid: str, tbal: str, tdue: str]` | Return totals without parsing fee sheet\n",
        "\n"
      ],
      "metadata": {
        "id": "cfb00d2c"
      },
      "id": "cfb00d2c"
    },
    {
      "cell_type": "markdown",
      "source": [
        "# **Working with case data in Python**\n"
      ],
      "metadata": {
        "id": "236e3fc9-6ea1-47fa-b36e-671b8351a52c"
      },
      "id": "236e3fc9-6ea1-47fa-b36e-671b8351a52c"
    },
    {
      "cell_type": "markdown",
      "source": [
        "### Out of the box, Alacorder exports to `.xlsx`, `.xls`, `.csv`, `.json`, `.dta`, `.pkl.xz`, and `.txt`. But you can use `alac`, `pandas`, and other python modules to create your own data collection workflows and design custom exports. \n",
        "\n",
        "***The snippet below prints the fee sheets from a directory of case PDFs as it reads them.***"
      ],
      "metadata": {
        "id": "4cdf6ebb-c223-4040-9d75-577c222d776f",
        "tags": []
      },
      "id": "4cdf6ebb-c223-4040-9d75-577c222d776f"
    },
    {
      "cell_type": "code",
      "source": [
        "from alacorder import alac\n",
        "\n",
        "c = alac.config(\"/Users/crimson/Desktop/Tutwiler/\",\"/Users/crimson/Desktop/Tutwiler.xls\")\n",
        "\n",
        "for path in c['contents']:\n",
        "    text = alac.getPDFText(path)\n",
        "    cnum = alac.getCaseNumber(text)\n",
        "    charges_outputs = alac.getCharges(text, cnum)\n",
        "    if len(charges_outputs[0]) > 1:\n",
        "        print(charges_outputs[0])"
      ],
      "outputs": [],
      "execution_count": null,
      "metadata": {
        "id": "f2114a31-22aa-4abc-9823-46e8f9831b06",
        "scrolled": true,
        "tags": []
      },
      "id": "f2114a31-22aa-4abc-9823-46e8f9831b06"
    },
    {
      "cell_type": "markdown",
      "source": [
        "## Extending Alacorder with `pandas` and other tools\n",
        "\n",
        "Alacorder runs on [`pandas`](https://pandas.pydata.org/docs/getting_started/index.html#getting-started), a python module you can use to perform calculations, process text data, and make tables and charts. `pandas` can read from and write to all major data storage formats. It can connect to a wide variety of services to expand the capability of Alacorder data. When Alacorder table data is exported to `.pkl.xz`, it is stored as a `DataFrame` and can be imported into other python [modules](https://www.anaconda.com/open-source) and libraries with `pd.read_pickle()` like below:\n",
        "```python\n",
        "import pandas as pd\n",
        "contents = pd.read_pickle(\"/path/to/pkl\")\n",
        "```\n",
        "\n",
        "If you would like to visualize data without exporting to Excel or another format, create a `jupyter notebook`, and import a data visualization library like `matplotlib` to get started. The pandas tutorials and documentation can help you get started. [`jupyter`](https://docs.jupyter.org/en/latest/start/index.html) is a Python kernel you can use to create interactive tools like this notebook. It can be installed using `pip install jupyter` or `pip3 install jupyter` and launched using `jupyter notebook`. Your device may already be able to view `jupyter` notebooks. \n",
        "\n",
        "## **Resources**\n",
        "\n",
        "* [`pandas` cheat sheet](https://pandas.pydata.org/Pandas_Cheat_Sheet.pdf)\n",
        "* [regex cheat sheet](https://www.rexegg.com/regex-quickstart.html)\n",
        "* [anaconda (tutorials on python data analysis)](https://www.anaconda.com/open-source)\n",
        "* [The Python Tutorial](https://docs.python.org/3/tutorial/)\n"
      ],
      "metadata": {
        "id": "737f3fe6"
      },
      "id": "737f3fe6"
    },
    {
      "cell_type": "markdown",
      "source": [
        "\n",
        "\n",
        "\n",
        "\n",
        "<sup>© 2023 Sam Robson</sup>"
      ],
      "metadata": {
        "id": "8rvgQT4jl9HT"
      },
      "id": "8rvgQT4jl9HT"
    }
  ],
  "metadata": {
    "colab": {
      "private_outputs": true,
      "provenance": [],
      "include_colab_link": true
    },
    "kernelspec": {
      "display_name": "Python 3 (ipykernel)",
      "language": "python",
      "name": "python3"
    },
    "language_info": {
      "codemirror_mode": {
        "name": "ipython",
        "version": 3
      },
      "file_extension": ".py",
      "mimetype": "text/x-python",
      "name": "python",
      "nbconvert_exporter": "python",
      "pygments_lexer": "ipython3",
      "version": "3.11.1"
    },
    "nteract": {
      "version": "0.28.0"
    },
    "vscode": {
      "interpreter": {
        "hash": "0a06d46228816a09a363af1e595d105bbb6467fa58d20723a264e13439516ec3"
      }
    }
  },
  "nbformat": 4,
  "nbformat_minor": 5
}