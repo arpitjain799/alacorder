{
  "cells": [
    {
      "cell_type": "code",
      "execution_count": 6,
      "id": "eaa47eef",
      "metadata": {
        "hide_input": false,
        "tags": [],
        "collapsed": true,
        "id": "eaa47eef",
        "outputId": "b7d268e9-b91c-41dc-ef19-bbc85a1cd1e4",
        "colab": {
          "base_uri": "https://localhost:8080/"
        }
      },
      "outputs": [
        {
          "output_type": "stream",
          "name": "stdout",
          "text": [
            "Looking in indexes: https://pypi.org/simple, https://us-python.pkg.dev/colab-wheels/public/simple/\n",
            "Collecting alacorder==77.1.4\n",
            "  Downloading alacorder-77.1.4-py3-none-any.whl (37 kB)\n",
            "Requirement already satisfied: numpy in /usr/local/lib/python3.8/dist-packages (from alacorder==77.1.4) (1.22.4)\n",
            "Collecting itables\n",
            "  Downloading itables-1.4.6-py3-none-any.whl (196 kB)\n",
            "\u001b[2K     \u001b[90m━━━━━━━━━━━━━━━━━━━━━━━━━━━━━━━━━━━━━━━\u001b[0m \u001b[32m196.7/196.7 KB\u001b[0m \u001b[31m7.5 MB/s\u001b[0m eta \u001b[36m0:00:00\u001b[0m\n",
            "\u001b[?25hCollecting selenium\n",
            "  Downloading selenium-4.8.2-py3-none-any.whl (6.9 MB)\n",
            "\u001b[2K     \u001b[90m━━━━━━━━━━━━━━━━━━━━━━━━━━━━━━━━━━━━━━━━\u001b[0m \u001b[32m6.9/6.9 MB\u001b[0m \u001b[31m67.0 MB/s\u001b[0m eta \u001b[36m0:00:00\u001b[0m\n",
            "\u001b[?25hCollecting jupyter\n",
            "  Downloading jupyter-1.0.0-py2.py3-none-any.whl (2.7 kB)\n",
            "Collecting jupyter-nbextensions-configurator\n",
            "  Downloading jupyter_nbextensions_configurator-0.6.1.tar.gz (481 kB)\n",
            "\u001b[2K     \u001b[90m━━━━━━━━━━━━━━━━━━━━━━━━━━━━━━━━━━━━━━\u001b[0m \u001b[32m481.7/481.7 KB\u001b[0m \u001b[31m38.6 MB/s\u001b[0m eta \u001b[36m0:00:00\u001b[0m\n",
            "\u001b[?25h  Preparing metadata (setup.py) ... \u001b[?25l\u001b[?25hdone\n",
            "Collecting bottleneck\n",
            "  Downloading Bottleneck-1.3.6-cp38-cp38-manylinux_2_5_x86_64.manylinux1_x86_64.manylinux_2_17_x86_64.manylinux2014_x86_64.whl (355 kB)\n",
            "\u001b[2K     \u001b[90m━━━━━━━━━━━━━━━━━━━━━━━━━━━━━━━━━━━━━━\u001b[0m \u001b[32m355.2/355.2 KB\u001b[0m \u001b[31m28.7 MB/s\u001b[0m eta \u001b[36m0:00:00\u001b[0m\n",
            "\u001b[?25hRequirement already satisfied: numexpr in /usr/local/lib/python3.8/dist-packages (from alacorder==77.1.4) (2.8.4)\n",
            "Requirement already satisfied: xlrd in /usr/local/lib/python3.8/dist-packages (from alacorder==77.1.4) (1.2.0)\n",
            "Requirement already satisfied: ipywidgets in /usr/local/lib/python3.8/dist-packages (from alacorder==77.1.4) (7.7.1)\n",
            "Requirement already satisfied: tabulate in /usr/local/lib/python3.8/dist-packages (from alacorder==77.1.4) (0.8.10)\n",
            "Collecting PyPDF2\n",
            "  Downloading pypdf2-3.0.1-py3-none-any.whl (232 kB)\n",
            "\u001b[2K     \u001b[90m━━━━━━━━━━━━━━━━━━━━━━━━━━━━━━━━━━━━━━\u001b[0m \u001b[32m232.6/232.6 KB\u001b[0m \u001b[31m23.7 MB/s\u001b[0m eta \u001b[36m0:00:00\u001b[0m\n",
            "\u001b[?25hRequirement already satisfied: tqdm in /usr/local/lib/python3.8/dist-packages (from alacorder==77.1.4) (4.64.1)\n",
            "Requirement already satisfied: numba in /usr/local/lib/python3.8/dist-packages (from alacorder==77.1.4) (0.56.4)\n",
            "Requirement already satisfied: openpyxl in /usr/local/lib/python3.8/dist-packages (from alacorder==77.1.4) (3.0.10)\n",
            "Requirement already satisfied: xarray in /usr/local/lib/python3.8/dist-packages (from alacorder==77.1.4) (2022.12.0)\n",
            "Requirement already satisfied: ipython in /usr/local/lib/python3.8/dist-packages (from alacorder==77.1.4) (7.9.0)\n",
            "Requirement already satisfied: pyarrow in /usr/local/lib/python3.8/dist-packages (from alacorder==77.1.4) (9.0.0)\n",
            "Requirement already satisfied: click in /usr/local/lib/python3.8/dist-packages (from alacorder==77.1.4) (8.1.3)\n",
            "Requirement already satisfied: xlwt in /usr/local/lib/python3.8/dist-packages (from alacorder==77.1.4) (1.3.0)\n",
            "Requirement already satisfied: cython in /usr/local/lib/python3.8/dist-packages (from alacorder==77.1.4) (0.29.33)\n",
            "Requirement already satisfied: pandas in /usr/local/lib/python3.8/dist-packages (from alacorder==77.1.4) (1.3.5)\n",
            "Requirement already satisfied: setuptools>=18.5 in /usr/local/lib/python3.8/dist-packages (from ipython->alacorder==77.1.4) (57.4.0)\n",
            "Collecting jedi>=0.10\n",
            "  Downloading jedi-0.18.2-py2.py3-none-any.whl (1.6 MB)\n",
            "\u001b[2K     \u001b[90m━━━━━━━━━━━━━━━━━━━━━━━━━━━━━━━━━━━━━━━━\u001b[0m \u001b[32m1.6/1.6 MB\u001b[0m \u001b[31m39.3 MB/s\u001b[0m eta \u001b[36m0:00:00\u001b[0m\n",
            "\u001b[?25hRequirement already satisfied: traitlets>=4.2 in /usr/local/lib/python3.8/dist-packages (from ipython->alacorder==77.1.4) (5.7.1)\n",
            "Requirement already satisfied: pickleshare in /usr/local/lib/python3.8/dist-packages (from ipython->alacorder==77.1.4) (0.7.5)\n",
            "Requirement already satisfied: prompt-toolkit<2.1.0,>=2.0.0 in /usr/local/lib/python3.8/dist-packages (from ipython->alacorder==77.1.4) (2.0.10)\n",
            "Requirement already satisfied: pygments in /usr/local/lib/python3.8/dist-packages (from ipython->alacorder==77.1.4) (2.6.1)\n",
            "Requirement already satisfied: decorator in /usr/local/lib/python3.8/dist-packages (from ipython->alacorder==77.1.4) (4.4.2)\n",
            "Requirement already satisfied: pexpect in /usr/local/lib/python3.8/dist-packages (from ipython->alacorder==77.1.4) (4.8.0)\n",
            "Requirement already satisfied: backcall in /usr/local/lib/python3.8/dist-packages (from ipython->alacorder==77.1.4) (0.2.0)\n",
            "Requirement already satisfied: jupyterlab-widgets>=1.0.0 in /usr/local/lib/python3.8/dist-packages (from ipywidgets->alacorder==77.1.4) (3.0.5)\n",
            "Requirement already satisfied: ipython-genutils~=0.2.0 in /usr/local/lib/python3.8/dist-packages (from ipywidgets->alacorder==77.1.4) (0.2.0)\n",
            "Requirement already satisfied: widgetsnbextension~=3.6.0 in /usr/local/lib/python3.8/dist-packages (from ipywidgets->alacorder==77.1.4) (3.6.2)\n",
            "Requirement already satisfied: ipykernel>=4.5.1 in /usr/local/lib/python3.8/dist-packages (from ipywidgets->alacorder==77.1.4) (5.3.4)\n",
            "Requirement already satisfied: jupyter-console in /usr/local/lib/python3.8/dist-packages (from jupyter->alacorder==77.1.4) (6.1.0)\n",
            "Collecting qtconsole\n",
            "  Downloading qtconsole-5.4.0-py3-none-any.whl (121 kB)\n",
            "\u001b[2K     \u001b[90m━━━━━━━━━━━━━━━━━━━━━━━━━━━━━━━━━━━━━━\u001b[0m \u001b[32m121.0/121.0 KB\u001b[0m \u001b[31m14.1 MB/s\u001b[0m eta \u001b[36m0:00:00\u001b[0m\n",
            "\u001b[?25hRequirement already satisfied: notebook in /usr/local/lib/python3.8/dist-packages (from jupyter->alacorder==77.1.4) (6.3.0)\n",
            "Requirement already satisfied: nbconvert in /usr/local/lib/python3.8/dist-packages (from jupyter->alacorder==77.1.4) (6.5.4)\n",
            "Collecting jupyter_contrib_core>=0.3.3\n",
            "  Downloading jupyter_contrib_core-0.4.2.tar.gz (17 kB)\n",
            "  Preparing metadata (setup.py) ... \u001b[?25l\u001b[?25hdone\n",
            "Requirement already satisfied: jupyter_core in /usr/local/lib/python3.8/dist-packages (from jupyter-nbextensions-configurator->alacorder==77.1.4) (5.2.0)\n",
            "Requirement already satisfied: pyyaml in /usr/local/lib/python3.8/dist-packages (from jupyter-nbextensions-configurator->alacorder==77.1.4) (6.0)\n",
            "Requirement already satisfied: tornado in /usr/local/lib/python3.8/dist-packages (from jupyter-nbextensions-configurator->alacorder==77.1.4) (6.2)\n",
            "Requirement already satisfied: llvmlite<0.40,>=0.39.0dev0 in /usr/local/lib/python3.8/dist-packages (from numba->alacorder==77.1.4) (0.39.1)\n",
            "Requirement already satisfied: importlib-metadata in /usr/local/lib/python3.8/dist-packages (from numba->alacorder==77.1.4) (6.0.0)\n",
            "Requirement already satisfied: et-xmlfile in /usr/local/lib/python3.8/dist-packages (from openpyxl->alacorder==77.1.4) (1.1.0)\n",
            "Requirement already satisfied: pytz>=2017.3 in /usr/local/lib/python3.8/dist-packages (from pandas->alacorder==77.1.4) (2022.7.1)\n",
            "Requirement already satisfied: python-dateutil>=2.7.3 in /usr/local/lib/python3.8/dist-packages (from pandas->alacorder==77.1.4) (2.8.2)\n",
            "Requirement already satisfied: typing_extensions>=3.10.0.0 in /usr/local/lib/python3.8/dist-packages (from PyPDF2->alacorder==77.1.4) (4.5.0)\n",
            "Requirement already satisfied: urllib3[socks]~=1.26 in /usr/local/lib/python3.8/dist-packages (from selenium->alacorder==77.1.4) (1.26.14)\n",
            "Requirement already satisfied: certifi>=2021.10.8 in /usr/local/lib/python3.8/dist-packages (from selenium->alacorder==77.1.4) (2022.12.7)\n",
            "Collecting trio-websocket~=0.9\n",
            "  Downloading trio_websocket-0.9.2-py3-none-any.whl (16 kB)\n",
            "Collecting trio~=0.17\n",
            "  Downloading trio-0.22.0-py3-none-any.whl (384 kB)\n",
            "\u001b[2K     \u001b[90m━━━━━━━━━━━━━━━━━━━━━━━━━━━━━━━━━━━━━━\u001b[0m \u001b[32m384.9/384.9 KB\u001b[0m \u001b[31m32.4 MB/s\u001b[0m eta \u001b[36m0:00:00\u001b[0m\n",
            "\u001b[?25hRequirement already satisfied: packaging>=21.3 in /usr/local/lib/python3.8/dist-packages (from xarray->alacorder==77.1.4) (23.0)\n",
            "Requirement already satisfied: jupyter-client in /usr/local/lib/python3.8/dist-packages (from ipykernel>=4.5.1->ipywidgets->alacorder==77.1.4) (6.1.12)\n",
            "Requirement already satisfied: parso<0.9.0,>=0.8.0 in /usr/local/lib/python3.8/dist-packages (from jedi>=0.10->ipython->alacorder==77.1.4) (0.8.3)\n",
            "Requirement already satisfied: argon2-cffi in /usr/local/lib/python3.8/dist-packages (from notebook->jupyter->alacorder==77.1.4) (21.3.0)\n",
            "Requirement already satisfied: jinja2 in /usr/local/lib/python3.8/dist-packages (from notebook->jupyter->alacorder==77.1.4) (3.1.2)\n",
            "Requirement already satisfied: prometheus-client in /usr/local/lib/python3.8/dist-packages (from notebook->jupyter->alacorder==77.1.4) (0.16.0)\n",
            "Requirement already satisfied: terminado>=0.8.3 in /usr/local/lib/python3.8/dist-packages (from notebook->jupyter->alacorder==77.1.4) (0.13.3)\n",
            "Requirement already satisfied: Send2Trash>=1.5.0 in /usr/local/lib/python3.8/dist-packages (from notebook->jupyter->alacorder==77.1.4) (1.8.0)\n",
            "Requirement already satisfied: nbformat in /usr/local/lib/python3.8/dist-packages (from notebook->jupyter->alacorder==77.1.4) (5.7.3)\n",
            "Requirement already satisfied: pyzmq>=17 in /usr/local/lib/python3.8/dist-packages (from notebook->jupyter->alacorder==77.1.4) (23.2.1)\n",
            "Requirement already satisfied: platformdirs>=2.5 in /usr/local/lib/python3.8/dist-packages (from jupyter_core->jupyter-nbextensions-configurator->alacorder==77.1.4) (3.0.0)\n",
            "Requirement already satisfied: six>=1.9.0 in /usr/local/lib/python3.8/dist-packages (from prompt-toolkit<2.1.0,>=2.0.0->ipython->alacorder==77.1.4) (1.15.0)\n",
            "Requirement already satisfied: wcwidth in /usr/local/lib/python3.8/dist-packages (from prompt-toolkit<2.1.0,>=2.0.0->ipython->alacorder==77.1.4) (0.2.6)\n",
            "Requirement already satisfied: idna in /usr/local/lib/python3.8/dist-packages (from trio~=0.17->selenium->alacorder==77.1.4) (2.10)\n",
            "Requirement already satisfied: attrs>=19.2.0 in /usr/local/lib/python3.8/dist-packages (from trio~=0.17->selenium->alacorder==77.1.4) (22.2.0)\n",
            "Collecting async-generator>=1.9\n",
            "  Downloading async_generator-1.10-py3-none-any.whl (18 kB)\n",
            "Collecting exceptiongroup>=1.0.0rc9\n",
            "  Downloading exceptiongroup-1.1.0-py3-none-any.whl (14 kB)\n",
            "Collecting outcome\n",
            "  Downloading outcome-1.2.0-py2.py3-none-any.whl (9.7 kB)\n",
            "Collecting sniffio\n",
            "  Downloading sniffio-1.3.0-py3-none-any.whl (10 kB)\n",
            "Requirement already satisfied: sortedcontainers in /usr/local/lib/python3.8/dist-packages (from trio~=0.17->selenium->alacorder==77.1.4) (2.4.0)\n",
            "Collecting wsproto>=0.14\n",
            "  Downloading wsproto-1.2.0-py3-none-any.whl (24 kB)\n",
            "Requirement already satisfied: PySocks!=1.5.7,<2.0,>=1.5.6 in /usr/local/lib/python3.8/dist-packages (from urllib3[socks]~=1.26->selenium->alacorder==77.1.4) (1.7.1)\n",
            "Requirement already satisfied: zipp>=0.5 in /usr/local/lib/python3.8/dist-packages (from importlib-metadata->numba->alacorder==77.1.4) (3.15.0)\n",
            "Requirement already satisfied: pandocfilters>=1.4.1 in /usr/local/lib/python3.8/dist-packages (from nbconvert->jupyter->alacorder==77.1.4) (1.5.0)\n",
            "Requirement already satisfied: jupyterlab-pygments in /usr/local/lib/python3.8/dist-packages (from nbconvert->jupyter->alacorder==77.1.4) (0.2.2)\n",
            "Requirement already satisfied: lxml in /usr/local/lib/python3.8/dist-packages (from nbconvert->jupyter->alacorder==77.1.4) (4.9.2)\n",
            "Requirement already satisfied: entrypoints>=0.2.2 in /usr/local/lib/python3.8/dist-packages (from nbconvert->jupyter->alacorder==77.1.4) (0.4)\n",
            "Requirement already satisfied: beautifulsoup4 in /usr/local/lib/python3.8/dist-packages (from nbconvert->jupyter->alacorder==77.1.4) (4.6.3)\n",
            "Requirement already satisfied: bleach in /usr/local/lib/python3.8/dist-packages (from nbconvert->jupyter->alacorder==77.1.4) (6.0.0)\n",
            "Requirement already satisfied: mistune<2,>=0.8.1 in /usr/local/lib/python3.8/dist-packages (from nbconvert->jupyter->alacorder==77.1.4) (0.8.4)\n",
            "Requirement already satisfied: nbclient>=0.5.0 in /usr/local/lib/python3.8/dist-packages (from nbconvert->jupyter->alacorder==77.1.4) (0.7.2)\n",
            "Requirement already satisfied: tinycss2 in /usr/local/lib/python3.8/dist-packages (from nbconvert->jupyter->alacorder==77.1.4) (1.2.1)\n",
            "Requirement already satisfied: defusedxml in /usr/local/lib/python3.8/dist-packages (from nbconvert->jupyter->alacorder==77.1.4) (0.7.1)\n",
            "Requirement already satisfied: MarkupSafe>=2.0 in /usr/local/lib/python3.8/dist-packages (from nbconvert->jupyter->alacorder==77.1.4) (2.1.2)\n",
            "Requirement already satisfied: ptyprocess>=0.5 in /usr/local/lib/python3.8/dist-packages (from pexpect->ipython->alacorder==77.1.4) (0.7.0)\n",
            "Collecting qtpy>=2.0.1\n",
            "  Downloading QtPy-2.3.0-py3-none-any.whl (83 kB)\n",
            "\u001b[2K     \u001b[90m━━━━━━━━━━━━━━━━━━━━━━━━━━━━━━━━━━━━━━━━\u001b[0m \u001b[32m83.6/83.6 KB\u001b[0m \u001b[31m9.6 MB/s\u001b[0m eta \u001b[36m0:00:00\u001b[0m\n",
            "\u001b[?25hRequirement already satisfied: jsonschema>=2.6 in /usr/local/lib/python3.8/dist-packages (from nbformat->notebook->jupyter->alacorder==77.1.4) (4.3.3)\n",
            "Requirement already satisfied: fastjsonschema in /usr/local/lib/python3.8/dist-packages (from nbformat->notebook->jupyter->alacorder==77.1.4) (2.16.3)\n",
            "Collecting h11<1,>=0.9.0\n",
            "  Downloading h11-0.14.0-py3-none-any.whl (58 kB)\n",
            "\u001b[2K     \u001b[90m━━━━━━━━━━━━━━━━━━━━━━━━━━━━━━━━━━━━━━━━\u001b[0m \u001b[32m58.3/58.3 KB\u001b[0m \u001b[31m6.9 MB/s\u001b[0m eta \u001b[36m0:00:00\u001b[0m\n",
            "\u001b[?25hRequirement already satisfied: argon2-cffi-bindings in /usr/local/lib/python3.8/dist-packages (from argon2-cffi->notebook->jupyter->alacorder==77.1.4) (21.2.0)\n",
            "Requirement already satisfied: webencodings in /usr/local/lib/python3.8/dist-packages (from bleach->nbconvert->jupyter->alacorder==77.1.4) (0.5.1)\n",
            "Requirement already satisfied: pyrsistent!=0.17.0,!=0.17.1,!=0.17.2,>=0.14.0 in /usr/local/lib/python3.8/dist-packages (from jsonschema>=2.6->nbformat->notebook->jupyter->alacorder==77.1.4) (0.19.3)\n",
            "Requirement already satisfied: importlib-resources>=1.4.0 in /usr/local/lib/python3.8/dist-packages (from jsonschema>=2.6->nbformat->notebook->jupyter->alacorder==77.1.4) (5.12.0)\n",
            "Requirement already satisfied: cffi>=1.0.1 in /usr/local/lib/python3.8/dist-packages (from argon2-cffi-bindings->argon2-cffi->notebook->jupyter->alacorder==77.1.4) (1.15.1)\n",
            "Requirement already satisfied: pycparser in /usr/local/lib/python3.8/dist-packages (from cffi>=1.0.1->argon2-cffi-bindings->argon2-cffi->notebook->jupyter->alacorder==77.1.4) (2.21)\n",
            "Building wheels for collected packages: jupyter-nbextensions-configurator, jupyter_contrib_core\n",
            "  Building wheel for jupyter-nbextensions-configurator (setup.py) ... \u001b[?25l\u001b[?25hdone\n",
            "  Created wheel for jupyter-nbextensions-configurator: filename=jupyter_nbextensions_configurator-0.6.1-py2.py3-none-any.whl size=466845 sha256=1ad5d61f18c6cd3b158601b78363d6207659cd31ca2e30c8ef64c50179d134f2\n",
            "  Stored in directory: /root/.cache/pip/wheels/cc/eb/03/a2589f27b110208168833a41e8582665cfe0b0ac06d4dc8be6\n",
            "  Building wheel for jupyter_contrib_core (setup.py) ... \u001b[?25l\u001b[?25hdone\n",
            "  Created wheel for jupyter_contrib_core: filename=jupyter_contrib_core-0.4.2-py2.py3-none-any.whl size=17490 sha256=5622ff557beedf310147de78d1c46c26bb48734ac7446628b2a8b680fd883e7c\n",
            "  Stored in directory: /root/.cache/pip/wheels/c5/75/d2/b881eea79157be355b125d974ec85f88d6e6742acd14387872\n",
            "Successfully built jupyter-nbextensions-configurator jupyter_contrib_core\n",
            "Installing collected packages: sniffio, qtpy, PyPDF2, outcome, jedi, h11, exceptiongroup, bottleneck, async-generator, wsproto, trio, trio-websocket, itables, selenium, qtconsole, jupyter_contrib_core, jupyter-nbextensions-configurator, jupyter, alacorder\n",
            "Successfully installed PyPDF2-3.0.1 alacorder-77.1.4 async-generator-1.10 bottleneck-1.3.6 exceptiongroup-1.1.0 h11-0.14.0 itables-1.4.6 jedi-0.18.2 jupyter-1.0.0 jupyter-nbextensions-configurator-0.6.1 jupyter_contrib_core-0.4.2 outcome-1.2.0 qtconsole-5.4.0 qtpy-2.3.0 selenium-4.8.2 sniffio-1.3.0 trio-0.22.0 trio-websocket-0.9.2 wsproto-1.2.0\n"
          ]
        }
      ],
      "source": [
        "%pip install alacorder==77.1.4"
      ]
    },
    {
      "cell_type": "code",
      "execution_count": 9,
      "id": "1ae14b32",
      "metadata": {
        "code_folding": [],
        "hide_input": false,
        "init_cell": true,
        "id": "1ae14b32"
      },
      "outputs": [],
      "source": [
        "from alacorder import jalapeno as jac"
      ]
    },
    {
      "cell_type": "markdown",
      "id": "e21197b0",
      "metadata": {
        "hide_input": true,
        "id": "e21197b0"
      },
      "source": [
        "----------------------\n",
        "\n",
        "# ALACORDER `beta`\n",
        "\n",
        "\n",
        "## Alacorder retrieves and processes case detail PDFs into data tables suitable for research purposes. Run all cells to install and start the `jupyter` interface.\n",
        "\n",
        "----------------------\n",
        "\n",
        "<h3> In this notebook: </h3>\n",
        "\n",
        "### 1. [`fetch`](#fetch---Retrieve-case-detail-PDFs-in-bulk-from-Alacourt.com) - Retrieve case detail PDFs in bulk from Alacourt.com\n",
        "### 2. [`archive`](#archive---Create-full-text-archives-from-PDF-directory) - Create full text archives from PDF directory\n",
        "### 3. [`multitable`](#multitable---Export-cases,-charges,-fees-tables-at-once) - Export cases, charges, fees tables at once\n",
        "### 4. [`singletable`](#singletable---Export-table-choice-from-archive-or-directory) - Export table choice from archive or directory\n",
        "\n",
        "-----------------------\n",
        "\n"
      ]
    },
    {
      "cell_type": "markdown",
      "id": "c3d66fea",
      "metadata": {
        "deletable": false,
        "editable": false,
        "hide_input": false,
        "run_control": {
          "frozen": true
        },
        "id": "c3d66fea"
      },
      "source": [
        "---------------------\n",
        "\n",
        "# `fetch` - Retrieve case detail PDFs in bulk from Alacourt.com"
      ]
    },
    {
      "cell_type": "code",
      "execution_count": null,
      "id": "a2a97810",
      "metadata": {
        "hide_input": true,
        "init_cell": true,
        "id": "a2a97810",
        "outputId": "2d1b3eb1-64dd-440d-a84c-2644c785a1c7",
        "colab": {
          "referenced_widgets": [
            "7acb90f038d54add9496f24edf808a32",
            "4bc387219645446793f70e1df8834ff5",
            "9a37c8866502411b91643d90919d9f3c"
          ]
        }
      },
      "outputs": [
        {
          "data": {
            "application/vnd.jupyter.widget-view+json": {
              "model_id": "7acb90f038d54add9496f24edf808a32",
              "version_major": 2,
              "version_minor": 0
            },
            "text/plain": [
              "Output()"
            ]
          },
          "metadata": {},
          "output_type": "display_data"
        },
        {
          "data": {
            "application/vnd.jupyter.widget-view+json": {
              "model_id": "4bc387219645446793f70e1df8834ff5",
              "version_major": 2,
              "version_minor": 0
            },
            "text/plain": [
              "Output()"
            ]
          },
          "metadata": {},
          "output_type": "display_data"
        },
        {
          "data": {
            "application/vnd.jupyter.widget-view+json": {
              "model_id": "9a37c8866502411b91643d90919d9f3c",
              "version_major": 2,
              "version_minor": 0
            },
            "text/plain": [
              "Output()"
            ]
          },
          "metadata": {},
          "output_type": "display_data"
        }
      ],
      "source": [
        "# run cell if archive export options are not visible\n",
        "display(jac.fetch_launcher)\n",
        "display(jac.fetch_logs)\n",
        "display(jac.fetch_table)\n",
        "with jac.fetch_launcher:\n",
        "    jac.showFetch()"
      ]
    },
    {
      "cell_type": "markdown",
      "id": "b32810b7",
      "metadata": {
        "deletable": false,
        "editable": false,
        "run_control": {
          "frozen": true
        },
        "id": "b32810b7"
      },
      "source": [
        "------------------------------------\n",
        "\n",
        "# `archive` - Create full text archives from PDF directory"
      ]
    },
    {
      "cell_type": "code",
      "execution_count": null,
      "id": "16c63d5a",
      "metadata": {
        "code_folding": [
          0
        ],
        "deletable": false,
        "editable": false,
        "hide_input": true,
        "init_cell": true,
        "id": "16c63d5a",
        "outputId": "fa43aafd-04e0-40df-8750-0334683cb8e5",
        "colab": {
          "referenced_widgets": [
            "a069968c0a254d33a4d511fea5e734bf",
            "4025fb871afc4a1581206c6755682f39",
            "3a662da08bae4bb1a89030c9cb3cceab"
          ]
        }
      },
      "outputs": [
        {
          "data": {
            "application/vnd.jupyter.widget-view+json": {
              "model_id": "a069968c0a254d33a4d511fea5e734bf",
              "version_major": 2,
              "version_minor": 0
            },
            "text/plain": [
              "Output()"
            ]
          },
          "metadata": {},
          "output_type": "display_data"
        },
        {
          "data": {
            "application/vnd.jupyter.widget-view+json": {
              "model_id": "4025fb871afc4a1581206c6755682f39",
              "version_major": 2,
              "version_minor": 0
            },
            "text/plain": [
              "Output()"
            ]
          },
          "metadata": {},
          "output_type": "display_data"
        },
        {
          "data": {
            "application/vnd.jupyter.widget-view+json": {
              "model_id": "3a662da08bae4bb1a89030c9cb3cceab",
              "version_major": 2,
              "version_minor": 0
            },
            "text/plain": [
              "Output()"
            ]
          },
          "metadata": {},
          "output_type": "display_data"
        }
      ],
      "source": [
        "# run cell if archive export options are not visible\n",
        "\n",
        "with jac.archive_launcher:\n",
        "    jac.archive_launcher.clear_output()\n",
        "    jac.showArchive()\n",
        "display(jac.archive_launcher)\n",
        "display(jac.archive_logs)\n",
        "display(jac.archive_table)"
      ]
    },
    {
      "cell_type": "markdown",
      "id": "b492cac2",
      "metadata": {
        "deletable": false,
        "editable": false,
        "run_control": {
          "frozen": true
        },
        "id": "b492cac2"
      },
      "source": [
        "-----------------------------------\n",
        "\n",
        "# `multitable` - Export cases, charges, fees tables at once"
      ]
    },
    {
      "cell_type": "code",
      "execution_count": null,
      "id": "2fb5dde1",
      "metadata": {
        "code_folding": [
          0
        ],
        "deletable": false,
        "editable": false,
        "hide_input": true,
        "init_cell": true,
        "id": "2fb5dde1",
        "outputId": "e62ca275-942e-4035-ae76-775e5730ec87",
        "colab": {
          "referenced_widgets": [
            "13133abccbc74dcabda80c9d86b5a60c",
            "53d584b31d3040f6abfa0ae3ef7f5b8b",
            "f7eb3142e0104de18feed9d74603e56b"
          ]
        }
      },
      "outputs": [
        {
          "data": {
            "application/vnd.jupyter.widget-view+json": {
              "model_id": "13133abccbc74dcabda80c9d86b5a60c",
              "version_major": 2,
              "version_minor": 0
            },
            "text/plain": [
              "Output()"
            ]
          },
          "metadata": {},
          "output_type": "display_data"
        },
        {
          "data": {
            "application/vnd.jupyter.widget-view+json": {
              "model_id": "53d584b31d3040f6abfa0ae3ef7f5b8b",
              "version_major": 2,
              "version_minor": 0
            },
            "text/plain": [
              "Output()"
            ]
          },
          "metadata": {},
          "output_type": "display_data"
        },
        {
          "data": {
            "application/vnd.jupyter.widget-view+json": {
              "model_id": "f7eb3142e0104de18feed9d74603e56b",
              "version_major": 2,
              "version_minor": 0
            },
            "text/plain": [
              "Output()"
            ]
          },
          "metadata": {},
          "output_type": "display_data"
        }
      ],
      "source": [
        "# run cell if multitable export options are not visible\n",
        "display(jac.multitable_launcher)\n",
        "display(jac.multitable_logs)\n",
        "display(jac.multitable_table)\n",
        "with jac.multitable_launcher:\n",
        "    jac.multitable_launcher.clear_output()\n",
        "    jac.showMulti()"
      ]
    },
    {
      "cell_type": "markdown",
      "id": "aff56a30",
      "metadata": {
        "deletable": false,
        "editable": false,
        "run_control": {
          "frozen": true
        },
        "id": "aff56a30"
      },
      "source": [
        "---------------------------------------------\n",
        "\n",
        "# `singletable` - Export table choice from archive or directory"
      ]
    },
    {
      "cell_type": "code",
      "execution_count": null,
      "id": "471f2b87",
      "metadata": {
        "code_folding": [
          0
        ],
        "deletable": false,
        "editable": false,
        "hide_input": true,
        "init_cell": true,
        "id": "471f2b87",
        "outputId": "dc5a8e3b-1d74-4444-d270-9e01327bb0b9",
        "colab": {
          "referenced_widgets": [
            "c6a0e2faa59e4dfcb50779586937e5a5",
            "1dc55de642c34745b2a6fef9bd7f9969",
            "8afea63e8dbe452aa0b56ec8248948da"
          ]
        }
      },
      "outputs": [
        {
          "data": {
            "application/vnd.jupyter.widget-view+json": {
              "model_id": "c6a0e2faa59e4dfcb50779586937e5a5",
              "version_major": 2,
              "version_minor": 0
            },
            "text/plain": [
              "Output()"
            ]
          },
          "metadata": {},
          "output_type": "display_data"
        },
        {
          "data": {
            "application/vnd.jupyter.widget-view+json": {
              "model_id": "1dc55de642c34745b2a6fef9bd7f9969",
              "version_major": 2,
              "version_minor": 0
            },
            "text/plain": [
              "Output()"
            ]
          },
          "metadata": {},
          "output_type": "display_data"
        },
        {
          "data": {
            "application/vnd.jupyter.widget-view+json": {
              "model_id": "8afea63e8dbe452aa0b56ec8248948da",
              "version_major": 2,
              "version_minor": 0
            },
            "text/plain": [
              "Output()"
            ]
          },
          "metadata": {},
          "output_type": "display_data"
        }
      ],
      "source": [
        "# run this cell to show singletable export dialog\n",
        "display(jac.singletable_launcher)\n",
        "display(jac.singletable_logs)\n",
        "display(jac.singletable_table)\n",
        "with jac.singletable_launcher:\n",
        "    jac.singletable_launcher.clear_output()\n",
        "    jac.showSingle()"
      ]
    },
    {
      "cell_type": "markdown",
      "id": "81cd8bae",
      "metadata": {
        "hide_input": false,
        "id": "81cd8bae"
      },
      "source": [
        "© 2023 Sam Robson"
      ]
    }
  ],
  "metadata": {
    "kernelspec": {
      "display_name": "Python 3 (ipykernel)",
      "language": "python",
      "name": "python3"
    },
    "language_info": {
      "codemirror_mode": {
        "name": "ipython",
        "version": 3
      },
      "file_extension": ".py",
      "mimetype": "text/x-python",
      "name": "python",
      "nbconvert_exporter": "python",
      "pygments_lexer": "ipython3",
      "version": "3.9.13"
    },
    "nteract": {
      "version": "0.28.0"
    },
    "toc": {
      "base_numbering": 1,
      "nav_menu": {},
      "number_sections": true,
      "sideBar": true,
      "skip_h1_title": false,
      "title_cell": "Table of Contents",
      "title_sidebar": "Contents",
      "toc_cell": true,
      "toc_position": {},
      "toc_section_display": true,
      "toc_window_display": false
    },
    "widgets": {
      "application/vnd.jupyter.widget-state+json": {}
    },
    "colab": {
      "provenance": []
    }
  },
  "nbformat": 4,
  "nbformat_minor": 5
}