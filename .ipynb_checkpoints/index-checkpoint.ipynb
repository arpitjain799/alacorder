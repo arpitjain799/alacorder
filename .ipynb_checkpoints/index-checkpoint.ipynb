{
 "cells": [
  {
   "cell_type": "markdown",
   "id": "792d10b2-198a-4d30-a4d0-08aaf14aff66",
   "metadata": {
    "id": "792d10b2-198a-4d30-a4d0-08aaf14aff66"
   },
   "source": [
    "```\n",
    "\t    ___    __                          __         \n",
    "\t   /   |  / /___  _________  _________/ /__  _____\n",
    "\t  / /| | / / __ `/ ___/ __ \\/ ___/ __  / _ \\/ ___/\n",
    "\t / ___ |/ / /_/ / /__/ /_/ / /  / /_/ /  __/ /    \n",
    "\t/_/  |_/_/\\__,_/\\___/\\____/_/   \\__,_/\\___/_/     \n",
    "\n",
    "\t\tALACORDER beta 75\n",
    "```\n",
    "\n",
    "# **Getting Started with Alacorder**\n",
    "\n",
    "<sup>[GitHub](https://github.com/sbrobson959/alacorder)  | [PyPI](https://pypi.org/project/alacorder/)     | [Report an issue](mailto:sbrobson@crimson.ua.edu)\n",
    "</sup>\n",
    "\n",
    "### Alacorder processes case detail PDFs into data tables suitable for research purposes. Alacorder also generates compressed text archives from the source PDFs to speed future data collection from the same set of cases.\n",
    "\n",
    "## **Installation**\n",
    "\n",
    "**Alacorder can run on most devices. If your device can run Python 3.7 or later, it can run Alacorder.**\n",
    "* To install on Windows and Mac, open Command Prompt (Terminal) and enter `pip install alacorder` or `pip3 install alacorder`. \n",
    "* On Mac, open the Terminal and enter `pip install alacorder` or `pip3 install alacorder`.\n",
    "* Install [Anaconda Distribution](https://www.anaconda.com/products/distribution) to install Alacorder if the above methods do not work, or if you would like to open an interactive browser notebook equipped with Alacorder on your desktop.\n",
    "    * After installation, create a virtual environment, open a terminal, and then repeat these instructions. If your copy of Alacorder is corrupted, use `pip uninstall alacorder` or `pip3 uninstall alacorder` and then reinstall it. There may be a newer version available.\n",
    "\n",
    "> **Alacorder should automatically download and install missing dependencies upon setup, but you can also install them yourself with `pip`: `pandas`, `numpy`, `PyPDF2`, `openpyxl`, `xlrd`, `xlwt`, `xarray`, `numexpr`, `bottleneck`, `jupyter`, and `click`. Recommended dependencies: `xlsxwriter`, `tabulate`, `matplotlib`.**"
   ]
  },
  {
   "cell_type": "code",
   "execution_count": 1,
   "id": "aeb9a2e8-fb66-4070-8ea1-2eabcf1d44e1",
   "metadata": {
    "id": "aeb9a2e8-fb66-4070-8ea1-2eabcf1d44e1",
    "jupyter": {
     "outputs_hidden": true
    },
    "scrolled": true,
    "tags": []
   },
   "outputs": [
    {
     "name": "stdout",
     "output_type": "stream",
     "text": [
      "Requirement already satisfied: alacorder in /Users/samuelrobson/Library/Application Support/JetBrains/DataSpell2022.3/projects/workspace/venv/lib/python3.9/site-packages (74.7.8)\r\n",
      "Collecting alacorder\r\n",
      "  Using cached alacorder-75.1.8-py3-none-any.whl (20 kB)\r\n",
      "Requirement already satisfied: xlrd in /Users/samuelrobson/Library/Application Support/JetBrains/DataSpell2022.3/projects/workspace/venv/lib/python3.9/site-packages (from alacorder) (2.0.1)\r\n",
      "Requirement already satisfied: PyPDF2 in /Users/samuelrobson/Library/Application Support/JetBrains/DataSpell2022.3/projects/workspace/venv/lib/python3.9/site-packages (from alacorder) (3.0.1)\r\n",
      "Requirement already satisfied: click in /Users/samuelrobson/Library/Application Support/JetBrains/DataSpell2022.3/projects/workspace/venv/lib/python3.9/site-packages (from alacorder) (8.1.3)\r\n",
      "Requirement already satisfied: xlwt in /Users/samuelrobson/Library/Application Support/JetBrains/DataSpell2022.3/projects/workspace/venv/lib/python3.9/site-packages (from alacorder) (1.3.0)\r\n",
      "Requirement already satisfied: bottleneck in /Users/samuelrobson/Library/Application Support/JetBrains/DataSpell2022.3/projects/workspace/venv/lib/python3.9/site-packages (from alacorder) (1.3.6)\r\n",
      "Requirement already satisfied: pandas in /Users/samuelrobson/Library/Application Support/JetBrains/DataSpell2022.3/projects/workspace/venv/lib/python3.9/site-packages (from alacorder) (1.5.3)\r\n",
      "Requirement already satisfied: xarray in /Users/samuelrobson/Library/Application Support/JetBrains/DataSpell2022.3/projects/workspace/venv/lib/python3.9/site-packages (from alacorder) (2023.2.0)\r\n",
      "Requirement already satisfied: pyarrow in /Users/samuelrobson/Library/Application Support/JetBrains/DataSpell2022.3/projects/workspace/venv/lib/python3.9/site-packages (from alacorder) (11.0.0)\r\n",
      "Requirement already satisfied: numexpr in /Users/samuelrobson/Library/Application Support/JetBrains/DataSpell2022.3/projects/workspace/venv/lib/python3.9/site-packages (from alacorder) (2.8.4)\r\n",
      "Requirement already satisfied: numpy in /Users/samuelrobson/Library/Application Support/JetBrains/DataSpell2022.3/projects/workspace/venv/lib/python3.9/site-packages (from alacorder) (1.24.2)\r\n",
      "Collecting cython\r\n",
      "  Using cached Cython-0.29.33-py2.py3-none-any.whl (987 kB)\r\n",
      "Requirement already satisfied: jupyter in /Users/samuelrobson/Library/Application Support/JetBrains/DataSpell2022.3/projects/workspace/venv/lib/python3.9/site-packages (from alacorder) (1.0.0)\r\n",
      "Requirement already satisfied: openpyxl in /Users/samuelrobson/Library/Application Support/JetBrains/DataSpell2022.3/projects/workspace/venv/lib/python3.9/site-packages (from alacorder) (3.1.1)\r\n",
      "Requirement already satisfied: qtconsole in /Users/samuelrobson/Library/Application Support/JetBrains/DataSpell2022.3/projects/workspace/venv/lib/python3.9/site-packages (from jupyter->alacorder) (5.4.0)\r\n",
      "Requirement already satisfied: notebook in /Users/samuelrobson/Library/Application Support/JetBrains/DataSpell2022.3/projects/workspace/venv/lib/python3.9/site-packages (from jupyter->alacorder) (6.5.2)\r\n",
      "Requirement already satisfied: jupyter-console in /Users/samuelrobson/Library/Application Support/JetBrains/DataSpell2022.3/projects/workspace/venv/lib/python3.9/site-packages (from jupyter->alacorder) (6.6.1)\r\n",
      "Requirement already satisfied: ipykernel in /Users/samuelrobson/Library/Application Support/JetBrains/DataSpell2022.3/projects/workspace/venv/lib/python3.9/site-packages (from jupyter->alacorder) (6.21.2)\r\n",
      "Requirement already satisfied: nbconvert in /Users/samuelrobson/Library/Application Support/JetBrains/DataSpell2022.3/projects/workspace/venv/lib/python3.9/site-packages (from jupyter->alacorder) (7.2.9)\r\n",
      "Requirement already satisfied: ipywidgets in /Users/samuelrobson/Library/Application Support/JetBrains/DataSpell2022.3/projects/workspace/venv/lib/python3.9/site-packages (from jupyter->alacorder) (8.0.4)\r\n",
      "Requirement already satisfied: et-xmlfile in /Users/samuelrobson/Library/Application Support/JetBrains/DataSpell2022.3/projects/workspace/venv/lib/python3.9/site-packages (from openpyxl->alacorder) (1.1.0)\r\n",
      "Requirement already satisfied: pytz>=2020.1 in /Users/samuelrobson/Library/Application Support/JetBrains/DataSpell2022.3/projects/workspace/venv/lib/python3.9/site-packages (from pandas->alacorder) (2022.7.1)\r\n",
      "Requirement already satisfied: python-dateutil>=2.8.1 in /Users/samuelrobson/Library/Application Support/JetBrains/DataSpell2022.3/projects/workspace/venv/lib/python3.9/site-packages (from pandas->alacorder) (2.8.2)\r\n",
      "Requirement already satisfied: typing_extensions>=3.10.0.0 in /Users/samuelrobson/Library/Application Support/JetBrains/DataSpell2022.3/projects/workspace/venv/lib/python3.9/site-packages (from PyPDF2->alacorder) (4.5.0)\r\n",
      "Requirement already satisfied: packaging>=21.3 in /Users/samuelrobson/Library/Application Support/JetBrains/DataSpell2022.3/projects/workspace/venv/lib/python3.9/site-packages (from xarray->alacorder) (23.0)\r\n",
      "Requirement already satisfied: six>=1.5 in /Users/samuelrobson/Library/Application Support/JetBrains/DataSpell2022.3/projects/workspace/venv/lib/python3.9/site-packages (from python-dateutil>=2.8.1->pandas->alacorder) (1.16.0)\r\n",
      "Requirement already satisfied: jupyter-client>=6.1.12 in /Users/samuelrobson/Library/Application Support/JetBrains/DataSpell2022.3/projects/workspace/venv/lib/python3.9/site-packages (from ipykernel->jupyter->alacorder) (8.0.3)\r\n",
      "Requirement already satisfied: comm>=0.1.1 in /Users/samuelrobson/Library/Application Support/JetBrains/DataSpell2022.3/projects/workspace/venv/lib/python3.9/site-packages (from ipykernel->jupyter->alacorder) (0.1.2)\r\n",
      "Requirement already satisfied: debugpy>=1.6.5 in /Users/samuelrobson/Library/Application Support/JetBrains/DataSpell2022.3/projects/workspace/venv/lib/python3.9/site-packages (from ipykernel->jupyter->alacorder) (1.6.6)\r\n",
      "Requirement already satisfied: appnope in /Users/samuelrobson/Library/Application Support/JetBrains/DataSpell2022.3/projects/workspace/venv/lib/python3.9/site-packages (from ipykernel->jupyter->alacorder) (0.1.3)\r\n",
      "Requirement already satisfied: ipython>=7.23.1 in /Users/samuelrobson/Library/Application Support/JetBrains/DataSpell2022.3/projects/workspace/venv/lib/python3.9/site-packages (from ipykernel->jupyter->alacorder) (8.10.0)\r\n",
      "Requirement already satisfied: psutil in /Users/samuelrobson/Library/Application Support/JetBrains/DataSpell2022.3/projects/workspace/venv/lib/python3.9/site-packages (from ipykernel->jupyter->alacorder) (5.9.4)\r\n",
      "Requirement already satisfied: jupyter-core!=5.0.*,>=4.12 in /Users/samuelrobson/Library/Application Support/JetBrains/DataSpell2022.3/projects/workspace/venv/lib/python3.9/site-packages (from ipykernel->jupyter->alacorder) (5.2.0)\r\n",
      "Requirement already satisfied: matplotlib-inline>=0.1 in /Users/samuelrobson/Library/Application Support/JetBrains/DataSpell2022.3/projects/workspace/venv/lib/python3.9/site-packages (from ipykernel->jupyter->alacorder) (0.1.6)\r\n",
      "Requirement already satisfied: pyzmq>=20 in /Users/samuelrobson/Library/Application Support/JetBrains/DataSpell2022.3/projects/workspace/venv/lib/python3.9/site-packages (from ipykernel->jupyter->alacorder) (25.0.0)\r\n",
      "Requirement already satisfied: nest-asyncio in /Users/samuelrobson/Library/Application Support/JetBrains/DataSpell2022.3/projects/workspace/venv/lib/python3.9/site-packages (from ipykernel->jupyter->alacorder) (1.5.6)\r\n",
      "Requirement already satisfied: tornado>=6.1 in /Users/samuelrobson/Library/Application Support/JetBrains/DataSpell2022.3/projects/workspace/venv/lib/python3.9/site-packages (from ipykernel->jupyter->alacorder) (6.2)\r\n",
      "Requirement already satisfied: traitlets>=5.4.0 in /Users/samuelrobson/Library/Application Support/JetBrains/DataSpell2022.3/projects/workspace/venv/lib/python3.9/site-packages (from ipykernel->jupyter->alacorder) (5.9.0)\r\n",
      "Requirement already satisfied: jupyterlab-widgets~=3.0 in /Users/samuelrobson/Library/Application Support/JetBrains/DataSpell2022.3/projects/workspace/venv/lib/python3.9/site-packages (from ipywidgets->jupyter->alacorder) (3.0.5)\r\n",
      "Requirement already satisfied: widgetsnbextension~=4.0 in /Users/samuelrobson/Library/Application Support/JetBrains/DataSpell2022.3/projects/workspace/venv/lib/python3.9/site-packages (from ipywidgets->jupyter->alacorder) (4.0.5)\r\n",
      "Requirement already satisfied: prompt-toolkit>=3.0.30 in /Users/samuelrobson/Library/Application Support/JetBrains/DataSpell2022.3/projects/workspace/venv/lib/python3.9/site-packages (from jupyter-console->jupyter->alacorder) (3.0.37)\r\n",
      "Requirement already satisfied: pygments in /Users/samuelrobson/Library/Application Support/JetBrains/DataSpell2022.3/projects/workspace/venv/lib/python3.9/site-packages (from jupyter-console->jupyter->alacorder) (2.14.0)\r\n",
      "Requirement already satisfied: defusedxml in /Users/samuelrobson/Library/Application Support/JetBrains/DataSpell2022.3/projects/workspace/venv/lib/python3.9/site-packages (from nbconvert->jupyter->alacorder) (0.7.1)\r\n",
      "Requirement already satisfied: pandocfilters>=1.4.1 in /Users/samuelrobson/Library/Application Support/JetBrains/DataSpell2022.3/projects/workspace/venv/lib/python3.9/site-packages (from nbconvert->jupyter->alacorder) (1.5.0)\r\n",
      "Requirement already satisfied: importlib-metadata>=3.6 in /Users/samuelrobson/Library/Application Support/JetBrains/DataSpell2022.3/projects/workspace/venv/lib/python3.9/site-packages (from nbconvert->jupyter->alacorder) (6.0.0)\r\n",
      "Requirement already satisfied: nbformat>=5.1 in /Users/samuelrobson/Library/Application Support/JetBrains/DataSpell2022.3/projects/workspace/venv/lib/python3.9/site-packages (from nbconvert->jupyter->alacorder) (5.7.3)\r\n",
      "Requirement already satisfied: nbclient>=0.5.0 in /Users/samuelrobson/Library/Application Support/JetBrains/DataSpell2022.3/projects/workspace/venv/lib/python3.9/site-packages (from nbconvert->jupyter->alacorder) (0.7.2)\r\n",
      "Requirement already satisfied: jinja2>=3.0 in /Users/samuelrobson/Library/Application Support/JetBrains/DataSpell2022.3/projects/workspace/venv/lib/python3.9/site-packages (from nbconvert->jupyter->alacorder) (3.1.2)\r\n",
      "Requirement already satisfied: tinycss2 in /Users/samuelrobson/Library/Application Support/JetBrains/DataSpell2022.3/projects/workspace/venv/lib/python3.9/site-packages (from nbconvert->jupyter->alacorder) (1.2.1)\r\n",
      "Requirement already satisfied: beautifulsoup4 in /Users/samuelrobson/Library/Application Support/JetBrains/DataSpell2022.3/projects/workspace/venv/lib/python3.9/site-packages (from nbconvert->jupyter->alacorder) (4.11.2)\r\n",
      "Requirement already satisfied: mistune<3,>=2.0.3 in /Users/samuelrobson/Library/Application Support/JetBrains/DataSpell2022.3/projects/workspace/venv/lib/python3.9/site-packages (from nbconvert->jupyter->alacorder) (2.0.5)\r\n",
      "Requirement already satisfied: jupyterlab-pygments in /Users/samuelrobson/Library/Application Support/JetBrains/DataSpell2022.3/projects/workspace/venv/lib/python3.9/site-packages (from nbconvert->jupyter->alacorder) (0.2.2)\r\n",
      "Requirement already satisfied: bleach in /Users/samuelrobson/Library/Application Support/JetBrains/DataSpell2022.3/projects/workspace/venv/lib/python3.9/site-packages (from nbconvert->jupyter->alacorder) (6.0.0)\r\n",
      "Requirement already satisfied: markupsafe>=2.0 in /Users/samuelrobson/Library/Application Support/JetBrains/DataSpell2022.3/projects/workspace/venv/lib/python3.9/site-packages (from nbconvert->jupyter->alacorder) (2.1.2)\r\n",
      "Requirement already satisfied: Send2Trash>=1.8.0 in /Users/samuelrobson/Library/Application Support/JetBrains/DataSpell2022.3/projects/workspace/venv/lib/python3.9/site-packages (from notebook->jupyter->alacorder) (1.8.0)\r\n",
      "Requirement already satisfied: prometheus-client in /Users/samuelrobson/Library/Application Support/JetBrains/DataSpell2022.3/projects/workspace/venv/lib/python3.9/site-packages (from notebook->jupyter->alacorder) (0.16.0)\r\n",
      "Requirement already satisfied: argon2-cffi in /Users/samuelrobson/Library/Application Support/JetBrains/DataSpell2022.3/projects/workspace/venv/lib/python3.9/site-packages (from notebook->jupyter->alacorder) (21.3.0)\r\n",
      "Requirement already satisfied: nbclassic>=0.4.7 in /Users/samuelrobson/Library/Application Support/JetBrains/DataSpell2022.3/projects/workspace/venv/lib/python3.9/site-packages (from notebook->jupyter->alacorder) (0.5.2)\r\n",
      "Requirement already satisfied: ipython-genutils in /Users/samuelrobson/Library/Application Support/JetBrains/DataSpell2022.3/projects/workspace/venv/lib/python3.9/site-packages (from notebook->jupyter->alacorder) (0.2.0)\r\n",
      "Requirement already satisfied: terminado>=0.8.3 in /Users/samuelrobson/Library/Application Support/JetBrains/DataSpell2022.3/projects/workspace/venv/lib/python3.9/site-packages (from notebook->jupyter->alacorder) (0.17.1)\r\n",
      "Requirement already satisfied: qtpy>=2.0.1 in /Users/samuelrobson/Library/Application Support/JetBrains/DataSpell2022.3/projects/workspace/venv/lib/python3.9/site-packages (from qtconsole->jupyter->alacorder) (2.3.0)\r\n",
      "Requirement already satisfied: zipp>=0.5 in /Users/samuelrobson/Library/Application Support/JetBrains/DataSpell2022.3/projects/workspace/venv/lib/python3.9/site-packages (from importlib-metadata>=3.6->nbconvert->jupyter->alacorder) (3.14.0)\r\n",
      "Requirement already satisfied: jedi>=0.16 in /Users/samuelrobson/Library/Application Support/JetBrains/DataSpell2022.3/projects/workspace/venv/lib/python3.9/site-packages (from ipython>=7.23.1->ipykernel->jupyter->alacorder) (0.18.2)\r\n",
      "Requirement already satisfied: pexpect>4.3 in /Users/samuelrobson/Library/Application Support/JetBrains/DataSpell2022.3/projects/workspace/venv/lib/python3.9/site-packages (from ipython>=7.23.1->ipykernel->jupyter->alacorder) (4.8.0)\r\n",
      "Requirement already satisfied: decorator in /Users/samuelrobson/Library/Application Support/JetBrains/DataSpell2022.3/projects/workspace/venv/lib/python3.9/site-packages (from ipython>=7.23.1->ipykernel->jupyter->alacorder) (5.1.1)\r\n",
      "Requirement already satisfied: backcall in /Users/samuelrobson/Library/Application Support/JetBrains/DataSpell2022.3/projects/workspace/venv/lib/python3.9/site-packages (from ipython>=7.23.1->ipykernel->jupyter->alacorder) (0.2.0)\r\n",
      "Requirement already satisfied: pickleshare in /Users/samuelrobson/Library/Application Support/JetBrains/DataSpell2022.3/projects/workspace/venv/lib/python3.9/site-packages (from ipython>=7.23.1->ipykernel->jupyter->alacorder) (0.7.5)\r\n",
      "Requirement already satisfied: stack-data in /Users/samuelrobson/Library/Application Support/JetBrains/DataSpell2022.3/projects/workspace/venv/lib/python3.9/site-packages (from ipython>=7.23.1->ipykernel->jupyter->alacorder) (0.6.2)\r\n",
      "Requirement already satisfied: platformdirs>=2.5 in /Users/samuelrobson/Library/Application Support/JetBrains/DataSpell2022.3/projects/workspace/venv/lib/python3.9/site-packages (from jupyter-core!=5.0.*,>=4.12->ipykernel->jupyter->alacorder) (3.0.0)\r\n",
      "Requirement already satisfied: jupyter-server>=1.8 in /Users/samuelrobson/Library/Application Support/JetBrains/DataSpell2022.3/projects/workspace/venv/lib/python3.9/site-packages (from nbclassic>=0.4.7->notebook->jupyter->alacorder) (2.3.0)\r\n",
      "Requirement already satisfied: notebook-shim>=0.1.0 in /Users/samuelrobson/Library/Application Support/JetBrains/DataSpell2022.3/projects/workspace/venv/lib/python3.9/site-packages (from nbclassic>=0.4.7->notebook->jupyter->alacorder) (0.2.2)\r\n",
      "Requirement already satisfied: fastjsonschema in /Users/samuelrobson/Library/Application Support/JetBrains/DataSpell2022.3/projects/workspace/venv/lib/python3.9/site-packages (from nbformat>=5.1->nbconvert->jupyter->alacorder) (2.16.2)\r\n",
      "Requirement already satisfied: jsonschema>=2.6 in /Users/samuelrobson/Library/Application Support/JetBrains/DataSpell2022.3/projects/workspace/venv/lib/python3.9/site-packages (from nbformat>=5.1->nbconvert->jupyter->alacorder) (4.17.3)\r\n",
      "Requirement already satisfied: wcwidth in /Users/samuelrobson/Library/Application Support/JetBrains/DataSpell2022.3/projects/workspace/venv/lib/python3.9/site-packages (from prompt-toolkit>=3.0.30->jupyter-console->jupyter->alacorder) (0.2.6)\r\n",
      "Requirement already satisfied: ptyprocess in /Users/samuelrobson/Library/Application Support/JetBrains/DataSpell2022.3/projects/workspace/venv/lib/python3.9/site-packages (from terminado>=0.8.3->notebook->jupyter->alacorder) (0.7.0)\r\n",
      "Requirement already satisfied: argon2-cffi-bindings in /Users/samuelrobson/Library/Application Support/JetBrains/DataSpell2022.3/projects/workspace/venv/lib/python3.9/site-packages (from argon2-cffi->notebook->jupyter->alacorder) (21.2.0)\r\n",
      "Requirement already satisfied: soupsieve>1.2 in /Users/samuelrobson/Library/Application Support/JetBrains/DataSpell2022.3/projects/workspace/venv/lib/python3.9/site-packages (from beautifulsoup4->nbconvert->jupyter->alacorder) (2.4)\r\n",
      "Requirement already satisfied: webencodings in /Users/samuelrobson/Library/Application Support/JetBrains/DataSpell2022.3/projects/workspace/venv/lib/python3.9/site-packages (from bleach->nbconvert->jupyter->alacorder) (0.5.1)\r\n",
      "Requirement already satisfied: parso<0.9.0,>=0.8.0 in /Users/samuelrobson/Library/Application Support/JetBrains/DataSpell2022.3/projects/workspace/venv/lib/python3.9/site-packages (from jedi>=0.16->ipython>=7.23.1->ipykernel->jupyter->alacorder) (0.8.3)\r\n",
      "Requirement already satisfied: pyrsistent!=0.17.0,!=0.17.1,!=0.17.2,>=0.14.0 in /Users/samuelrobson/Library/Application Support/JetBrains/DataSpell2022.3/projects/workspace/venv/lib/python3.9/site-packages (from jsonschema>=2.6->nbformat>=5.1->nbconvert->jupyter->alacorder) (0.19.3)\r\n",
      "Requirement already satisfied: attrs>=17.4.0 in /Users/samuelrobson/Library/Application Support/JetBrains/DataSpell2022.3/projects/workspace/venv/lib/python3.9/site-packages (from jsonschema>=2.6->nbformat>=5.1->nbconvert->jupyter->alacorder) (22.2.0)\r\n",
      "Requirement already satisfied: anyio>=3.1.0 in /Users/samuelrobson/Library/Application Support/JetBrains/DataSpell2022.3/projects/workspace/venv/lib/python3.9/site-packages (from jupyter-server>=1.8->nbclassic>=0.4.7->notebook->jupyter->alacorder) (3.6.2)\r\n",
      "Requirement already satisfied: websocket-client in /Users/samuelrobson/Library/Application Support/JetBrains/DataSpell2022.3/projects/workspace/venv/lib/python3.9/site-packages (from jupyter-server>=1.8->nbclassic>=0.4.7->notebook->jupyter->alacorder) (1.5.1)\r\n",
      "Requirement already satisfied: jupyter-server-terminals in /Users/samuelrobson/Library/Application Support/JetBrains/DataSpell2022.3/projects/workspace/venv/lib/python3.9/site-packages (from jupyter-server>=1.8->nbclassic>=0.4.7->notebook->jupyter->alacorder) (0.4.4)\r\n",
      "Requirement already satisfied: jupyter-events>=0.4.0 in /Users/samuelrobson/Library/Application Support/JetBrains/DataSpell2022.3/projects/workspace/venv/lib/python3.9/site-packages (from jupyter-server>=1.8->nbclassic>=0.4.7->notebook->jupyter->alacorder) (0.6.3)\r\n",
      "Requirement already satisfied: cffi>=1.0.1 in /Users/samuelrobson/Library/Application Support/JetBrains/DataSpell2022.3/projects/workspace/venv/lib/python3.9/site-packages (from argon2-cffi-bindings->argon2-cffi->notebook->jupyter->alacorder) (1.15.1)\r\n",
      "Requirement already satisfied: executing>=1.2.0 in /Users/samuelrobson/Library/Application Support/JetBrains/DataSpell2022.3/projects/workspace/venv/lib/python3.9/site-packages (from stack-data->ipython>=7.23.1->ipykernel->jupyter->alacorder) (1.2.0)\r\n",
      "Requirement already satisfied: pure-eval in /Users/samuelrobson/Library/Application Support/JetBrains/DataSpell2022.3/projects/workspace/venv/lib/python3.9/site-packages (from stack-data->ipython>=7.23.1->ipykernel->jupyter->alacorder) (0.2.2)\r\n",
      "Requirement already satisfied: asttokens>=2.1.0 in /Users/samuelrobson/Library/Application Support/JetBrains/DataSpell2022.3/projects/workspace/venv/lib/python3.9/site-packages (from stack-data->ipython>=7.23.1->ipykernel->jupyter->alacorder) (2.2.1)\r\n",
      "Requirement already satisfied: idna>=2.8 in /Users/samuelrobson/Library/Application Support/JetBrains/DataSpell2022.3/projects/workspace/venv/lib/python3.9/site-packages (from anyio>=3.1.0->jupyter-server>=1.8->nbclassic>=0.4.7->notebook->jupyter->alacorder) (3.4)\r\n",
      "Requirement already satisfied: sniffio>=1.1 in /Users/samuelrobson/Library/Application Support/JetBrains/DataSpell2022.3/projects/workspace/venv/lib/python3.9/site-packages (from anyio>=3.1.0->jupyter-server>=1.8->nbclassic>=0.4.7->notebook->jupyter->alacorder) (1.3.0)\r\n",
      "Requirement already satisfied: pycparser in /Users/samuelrobson/Library/Application Support/JetBrains/DataSpell2022.3/projects/workspace/venv/lib/python3.9/site-packages (from cffi>=1.0.1->argon2-cffi-bindings->argon2-cffi->notebook->jupyter->alacorder) (2.21)\r\n",
      "Requirement already satisfied: python-json-logger>=2.0.4 in /Users/samuelrobson/Library/Application Support/JetBrains/DataSpell2022.3/projects/workspace/venv/lib/python3.9/site-packages (from jupyter-events>=0.4.0->jupyter-server>=1.8->nbclassic>=0.4.7->notebook->jupyter->alacorder) (2.0.7)\r\n",
      "Requirement already satisfied: rfc3986-validator>=0.1.1 in /Users/samuelrobson/Library/Application Support/JetBrains/DataSpell2022.3/projects/workspace/venv/lib/python3.9/site-packages (from jupyter-events>=0.4.0->jupyter-server>=1.8->nbclassic>=0.4.7->notebook->jupyter->alacorder) (0.1.1)\r\n",
      "Requirement already satisfied: pyyaml>=5.3 in /Users/samuelrobson/Library/Application Support/JetBrains/DataSpell2022.3/projects/workspace/venv/lib/python3.9/site-packages (from jupyter-events>=0.4.0->jupyter-server>=1.8->nbclassic>=0.4.7->notebook->jupyter->alacorder) (6.0)\r\n",
      "Requirement already satisfied: rfc3339-validator in /Users/samuelrobson/Library/Application Support/JetBrains/DataSpell2022.3/projects/workspace/venv/lib/python3.9/site-packages (from jupyter-events>=0.4.0->jupyter-server>=1.8->nbclassic>=0.4.7->notebook->jupyter->alacorder) (0.1.4)\r\n",
      "Requirement already satisfied: isoduration in /Users/samuelrobson/Library/Application Support/JetBrains/DataSpell2022.3/projects/workspace/venv/lib/python3.9/site-packages (from jsonschema>=2.6->nbformat>=5.1->nbconvert->jupyter->alacorder) (20.11.0)\r\n",
      "Requirement already satisfied: jsonpointer>1.13 in /Users/samuelrobson/Library/Application Support/JetBrains/DataSpell2022.3/projects/workspace/venv/lib/python3.9/site-packages (from jsonschema>=2.6->nbformat>=5.1->nbconvert->jupyter->alacorder) (2.3)\r\n",
      "Requirement already satisfied: fqdn in /Users/samuelrobson/Library/Application Support/JetBrains/DataSpell2022.3/projects/workspace/venv/lib/python3.9/site-packages (from jsonschema>=2.6->nbformat>=5.1->nbconvert->jupyter->alacorder) (1.5.1)\r\n",
      "Requirement already satisfied: webcolors>=1.11 in /Users/samuelrobson/Library/Application Support/JetBrains/DataSpell2022.3/projects/workspace/venv/lib/python3.9/site-packages (from jsonschema>=2.6->nbformat>=5.1->nbconvert->jupyter->alacorder) (1.12)\r\n",
      "Requirement already satisfied: uri-template in /Users/samuelrobson/Library/Application Support/JetBrains/DataSpell2022.3/projects/workspace/venv/lib/python3.9/site-packages (from jsonschema>=2.6->nbformat>=5.1->nbconvert->jupyter->alacorder) (1.2.0)\r\n",
      "Requirement already satisfied: arrow>=0.15.0 in /Users/samuelrobson/Library/Application Support/JetBrains/DataSpell2022.3/projects/workspace/venv/lib/python3.9/site-packages (from isoduration->jsonschema>=2.6->nbformat>=5.1->nbconvert->jupyter->alacorder) (1.2.3)\r\n",
      "Installing collected packages: cython, alacorder\r\n",
      "  Attempting uninstall: alacorder\r\n",
      "    Found existing installation: alacorder 74.7.8\r\n",
      "    Uninstalling alacorder-74.7.8:\r\n",
      "      Successfully uninstalled alacorder-74.7.8\r\n",
      "Successfully installed alacorder-75.1.8 cython-0.29.33\r\n",
      "\r\n",
      "\u001b[1m[\u001b[0m\u001b[34;49mnotice\u001b[0m\u001b[1;39;49m]\u001b[0m\u001b[39;49m A new release of pip available: \u001b[0m\u001b[31;49m22.3.1\u001b[0m\u001b[39;49m -> \u001b[0m\u001b[32;49m23.0.1\u001b[0m\r\n",
      "\u001b[1m[\u001b[0m\u001b[34;49mnotice\u001b[0m\u001b[1;39;49m]\u001b[0m\u001b[39;49m To update, run: \u001b[0m\u001b[32;49mpip install --upgrade pip\u001b[0m\r\n",
      "Note: you may need to restart the kernel to use updated packages.\n"
     ]
    }
   ],
   "source": [
    "%pip install --upgrade alacorder"
   ]
  },
  {
   "cell_type": "markdown",
   "id": "bf72ba61-5a6f-4ae9-9b4b-2807921cb46d",
   "metadata": {
    "id": "bf72ba61-5a6f-4ae9-9b4b-2807921cb46d",
    "tags": []
   },
   "source": [
    "\n",
    "## **Using the guided interface**\n",
    "\n",
    "#### **Once you have a Python environment up and running, you can launch the guided interface in two ways:**\n",
    "\n",
    "1.  *Utilize the `alacorder` command line tool in Python:* Use the command line tool `python -m alacorder`, or `python3 -m alacorder`. If  the guided version is launched instead of the command line tool, update your installation with `pip install --upgrade alacorder`.\n",
    "\n",
    "2. *Conduct custom searches with `alac`:* Use the import statement `import alacorder as alac` to use the Alacorder APIs to collect custom data from case detail PDFs. See how you can make `alacorder` work for you in the code snippets below.\n",
    "\n",
    "#### **Alacorder can be used without writing any code, and exports to common formats like Excel (`.xls`, `.xlsx`), Stata (`.dta`), CSV (`.csv`), and JSON (`.json`).**\n",
    "\n",
    "* Alacorder compresses case text into `pickle` archives (`.pkl.xz`) to save storage and processing time. If you need to unpack a `pickle` archive without importing `alac`, use a `.xz` compression tool, then read the `pickle` into Python with the `pandas` method [`pd.read_pickle()`](https://pandas.pydata.org/docs/reference/api/pandas.read_pickle.html)."
   ]
  },
  {
   "cell_type": "code",
   "execution_count": null,
   "id": "1f720d04-b2e6-4f99-b7ec-d937d99f657d",
   "metadata": {
    "id": "1f720d04-b2e6-4f99-b7ec-d937d99f657d",
    "jupyter": {
     "outputs_hidden": true
    },
    "scrolled": true,
    "tags": []
   },
   "outputs": [],
   "source": [
    "from alacorder import alac"
   ]
  },
  {
   "cell_type": "markdown",
   "id": "4daabc54-92dd-43af-96b6-89e903e6c366",
   "metadata": {
    "id": "4daabc54-92dd-43af-96b6-89e903e6c366"
   },
   "source": [
    "## **Special Queries with `alac`**\n",
    "\n",
    "### **For more advanced queries, the `alac` module can extract fields and tables from case records with just a few lines of code.**\n",
    "\n",
    "* Call `alac.setpaths(input_path, table_path = '', archive_path = '')` and assign it to a variable to hold your configuration object. This tells the imported methods where and how to input and output. If `table_path` and `archive_path` are left blank, `alac.parse…()` methods will print to console and return the DataFrame object.\n",
    "\n",
    "* Call `alac.archive(config)` to export a full text archive. It's recommended that you create a full text archive (`.pkl.xz`) file before making tables from your data. Full text archives can be scanned faster than PDF directories and require less storage. Full text archives can be imported to Alacorder the same way as PDF directories. \n",
    "\n",
    "* Call `alac.tables(config)` to export detailed case information tables. If export type is `.xls` or `.xlsx`, the `cases`, `fees`, and `charges` tables will be exported.\n",
    "\n",
    "* Call `alac.charges(config)` to export `charges` table only.\n",
    "\n",
    "* Call `alac.fees(config)` to export `fees` table only.\n",
    "\n",
    "* Call `alac.caseinfo(config)` to export `cases` table only. \n"
   ]
  },
  {
   "cell_type": "code",
   "execution_count": 2,
   "id": "df6b939a-5625-43cc-8b78-d3368872001e",
   "metadata": {
    "id": "df6b939a-5625-43cc-8b78-d3368872001e"
   },
   "outputs": [
    {
     "name": "stdout",
     "output_type": "stream",
     "text": [
      "\u001b[93m\u001b[3m\n",
      "Found 14011 cases in input.\u001b[0m\u001b[0m\n",
      "\u001b[93m\u001b[3mOutput path successfully configured for archive export.\n",
      "\u001b[0m\u001b[0m\n",
      "\u001b[32m\u001b[1m\n",
      "* Successfully configured!\n",
      "\u001b[0m\u001b[37m\u001b[1mINPUT: /Users/samuelrobson/Desktop/Tutwiler/\n",
      "ARCHIVE: /Users/samuelrobson/Desktop/Tutwiler.pkl.xz\n",
      "\u001b[0m\u001b[37m\u001b[3m\u001b[0m\u001b[0m\n",
      "\u001b[5m* \u001b[0mWriting full text archive from cases...\n",
      "\u001b[32m\u001b[1m\n",
      "\n",
      "* Task completed!\n",
      "\n",
      "\u001b[0m\n",
      "Full text archive complete. Now processing case information into tables at /Users/samuelrobson/Desktop/Tutwiler.xlsx\n",
      "\u001b[93m\u001b[3m\n",
      "Found 14011 cases in input.\u001b[0m\u001b[0m\n",
      "\u001b[93m\u001b[3mOutput path successfully configured for table export.\n",
      "\u001b[0m\u001b[0m\n",
      "\u001b[32m\u001b[1m\n",
      "* Successfully configured!\n",
      "\u001b[0m\u001b[37m\u001b[1mINPUT: /Users/samuelrobson/Desktop/Tutwiler/\n",
      "TABLE: /Users/samuelrobson/Desktop/Tutwiler.xlsx\n",
      "\u001b[0m\u001b[37m\u001b[3m\u001b[0m\u001b[0m\n"
     ]
    },
    {
     "ename": "AttributeError",
     "evalue": "module 'alacorder.alac' has no attribute 'tables'",
     "output_type": "error",
     "traceback": [
      "\u001b[0;31m---------------------------------------------------------------------------\u001b[0m",
      "\u001b[0;31mAttributeError\u001b[0m                            Traceback (most recent call last)",
      "Cell \u001b[0;32mIn[2], line 18\u001b[0m\n\u001b[1;32m     16\u001b[0m \u001b[38;5;66;03m# write tables to Tutwiler.xlsx\u001b[39;00m\n\u001b[1;32m     17\u001b[0m d \u001b[38;5;241m=\u001b[39m alac\u001b[38;5;241m.\u001b[39msetpaths(pdf_directory, tables)\n\u001b[0;32m---> 18\u001b[0m \u001b[43malac\u001b[49m\u001b[38;5;241;43m.\u001b[39;49m\u001b[43mtables\u001b[49m(d)\n",
      "\u001b[0;31mAttributeError\u001b[0m: module 'alacorder.alac' has no attribute 'tables'"
     ]
    }
   ],
   "source": [
    "import warnings\n",
    "warnings.filterwarnings('ignore')\n",
    "\n",
    "from alacorder import alac\n",
    "\n",
    "pdf_directory = \"/Users/samuelrobson/Desktop/Tutwiler/\"\n",
    "archive = \"/Users/samuelrobson/Desktop/Tutwiler.pkl.xz\"\n",
    "tables = \"/Users/samuelrobson/Desktop/Tutwiler.xlsx\"\n",
    "\n",
    "# write archive to Tutwiler.pkl.xz\n",
    "c = alac.setpaths(pdf_directory, archive)\n",
    "alac.archive(c) \n",
    "\n",
    "print(\"Full text archive complete. Now processing case information into tables at \" + tables)\n",
    "\n",
    "# write tables to Tutwiler.xlsx\n",
    "d = alac.setpaths(pdf_directory, tables)\n",
    "alac.tables(d)\n"
   ]
  },
  {
   "cell_type": "markdown",
   "id": "5e43b636-992f-4f39-a0ec-8d7b6b81c532",
   "metadata": {
    "id": "5e43b636-992f-4f39-a0ec-8d7b6b81c532"
   },
   "source": [
    "## **Advanced Queries with `alac.map()`**\n",
    "### If you need to conduct a custom search of case records, `alacorder` has the tools you need to extract custom fields from case PDFs without any fuss. Try out `alac.map(conf, mapFunc)` to search thousands of cases in just a few minutes."
   ]
  },
  {
   "cell_type": "code",
   "execution_count": null,
   "id": "39c6e114",
   "metadata": {
    "id": "39c6e114"
   },
   "outputs": [],
   "source": [
    "from alacorder import alac\n",
    "import re\n",
    "\n",
    "archive = \"/Users/crimson/Desktop/Tutwiler.pkl.xz\"\n",
    "tables = \"/Users/crimson/Desktop/Tutwiler.xlsx\"\n",
    "\n",
    "def findName(text):\n",
    "    name = \"\"\n",
    "    if bool(re.search(r'(?a)(VS\\.|V\\.{1})(.+)(Case)*', text, re.MULTILINE)) == True:\n",
    "        name = re.search(r'(?a)(VS\\.|V\\.{1})(.+)(Case)*', text, re.MULTILINE).group(2).replace(\"Case Number:\",\"\").strip()\n",
    "    else:\n",
    "        if bool(re.search(r'(?:DOB)(.+)(?:Name)', text, re.MULTILINE)) == True:\n",
    "            name = re.search(r'(?:DOB)(.+)(?:Name)', text, re.MULTILINE).group(1).replace(\":\",\"\").replace(\"Case Number:\",\"\").strip()\n",
    "    return name\n",
    "\n",
    "c = alac.setpaths(archive, tables, count=2000) # set configuration\n",
    "\n",
    "alac.map(c, findName, alac.getConvictions) # Name, Convictions table"
   ]
  },
  {
   "cell_type": "markdown",
   "id": "cfb00d2c",
   "metadata": {
    "id": "cfb00d2c"
   },
   "source": [
    "\n",
    "| Method | Description |\n",
    "| ------------- | ------ |\n",
    "| `getPDFText(path) -> text` | Returns full text of case |\n",
    "| `getCaseInfo(text) -> [case_number, name, alias, date_of_birth, race, sex, address, phone]` | Returns basic case details | \n",
    "| `getFeeSheet(text: str, cnum = '') -> [total_amtdue, total_balance, total_d999, feecodes_w_bal, all_fee_codes, table_string, feesheet: pd.DataFrame()]` | Returns fee sheet and summary as `str` and `pd.DataFrame` |\n",
    "| `getCharges(text: str, cnum = '') -> [convictions_string, disposition_charges, filing_charges, cerv_eligible_convictions, pardon_to_vote_convictions, permanently_disqualifying_convictions, conviction_count, charge_count, cerv_charge_count, pardontovote_charge_count, permanent_dq_charge_count, cerv_convictions_count, pardontovote_convictions_count, charge_codes, conviction_codes, all_charges_string, charges: pd.DataFrame()]` | Returns charges table and summary as `str`, `int`, and `pd.DataFrame` |\n",
    "| `getCaseNumber(text) -> case_number: str` | Returns case number\n",
    "| `getName(text) -> name: str` | Returns name\n",
    "| `getFeeTotals(text) -> [total_row: str, tdue: str, tpaid: str, tbal: str, tdue: str]` | Return totals without parsing fee sheet\n",
    "\n"
   ]
  },
  {
   "cell_type": "markdown",
   "id": "236e3fc9-6ea1-47fa-b36e-671b8351a52c",
   "metadata": {
    "id": "236e3fc9-6ea1-47fa-b36e-671b8351a52c"
   },
   "source": [
    "## **Working with case data in Python**\n",
    "### Out of the box, Alacorder exports to `.xlsx`, `.xls`, `.csv`, `.json`, and `.dta`. But you can use `alac`, `pandas`, and other python modules to create your own data collection workflows and design custom exports.\n",
    "\n",
    "***The snippet below prints the fee sheets from a directory of case PDFs as it reads them.***"
   ]
  },
  {
   "cell_type": "code",
   "execution_count": null,
   "id": "f2114a31-22aa-4abc-9823-46e8f9831b06",
   "metadata": {
    "id": "f2114a31-22aa-4abc-9823-46e8f9831b06",
    "scrolled": true,
    "tags": []
   },
   "outputs": [],
   "source": [
    "from alacorder import alac\n",
    "\n",
    "c = alac.setpaths(\"/Users/crimson/Desktop/Tutwiler/\",\"/Users/crimson/Desktop/Tutwiler.xls\")\n",
    "\n",
    "for path in c['queue']:\n",
    "    text = alac.getPDFText(path)\n",
    "    cnum = alac.getCaseNumber(text)\n",
    "    charges_outputs = alac.get.Charges(text, cnum)\n",
    "    if len(charges_outputs[0]) > 1:\n",
    "        print(charges_outputs[0])"
   ]
  },
  {
   "cell_type": "markdown",
   "id": "737f3fe6",
   "metadata": {
    "id": "737f3fe6"
   },
   "source": [
    "## Extending Alacorder with `pandas` and other tools\n",
    "\n",
    "Alacorder runs on [`pandas`](https://pandas.pydata.org/docs/getting_started/index.html#getting-started), a python module you can use to perform calculations, process text data, and make tables and charts. `pandas` can read from and write to all major data storage formats. It can connect to a wide variety of services to expand the capability of Alacorder data. When Alacorder data is exported to `.pkl`, it is stored as a `DataFrame` and can be imported into other python [modules](https://www.anaconda.com/open-source) and libraries with `pd.read_pickle()` like below:\n",
    "```python\n",
    "import pandas as pd\n",
    "contents = pd.read_pickle(\"/path/to/file.pkl\")\n",
    "```\n",
    "\n",
    "If you would like to visualize data without exporting to Excel or another format, create a `jupyter notebook`, and import a data visualization library like `matplotlib` to get started. The pandas tutorials and documentation can help you get started. [`jupyter`](https://docs.jupyter.org/en/latest/start/index.html) is a Python kernel you can use to create interactive tools like this notebook. It can be installed using `pip install jupyter` or `pip3 install jupyter` and launched using `jupyter notebook`. Your device may already be able to view `jupyter` notebooks. \n",
    "\n",
    "## **Resources**\n",
    "\n",
    "* [`pandas` cheat sheet](https://pandas.pydata.org/Pandas_Cheat_Sheet.pdf)\n",
    "* [regex cheat sheet](https://www.rexegg.com/regex-quickstart.html)\n",
    "* [anaconda (tutorials on python data analysis)](https://www.anaconda.com/open-source)\n",
    "* [The Python Tutorial](https://docs.python.org/3/tutorial/)\n"
   ]
  },
  {
   "cell_type": "markdown",
   "id": "8rvgQT4jl9HT",
   "metadata": {
    "id": "8rvgQT4jl9HT"
   },
   "source": [
    "\n",
    "\n",
    "\n",
    "\n",
    "<sup>© 2023 Sam Robson</sup>"
   ]
  }
 ],
 "metadata": {
  "colab": {
   "include_colab_link": true,
   "private_outputs": true,
   "provenance": []
  },
  "kernelspec": {
   "display_name": "Python 3 (ipykernel)",
   "language": "python",
   "name": "python3"
  },
  "language_info": {
   "codemirror_mode": {
    "name": "ipython",
    "version": 3
   },
   "file_extension": ".py",
   "mimetype": "text/x-python",
   "name": "python",
   "nbconvert_exporter": "python",
   "pygments_lexer": "ipython3",
   "version": "3.9.13"
  },
  "nteract": {
   "version": "0.28.0"
  },
  "vscode": {
   "interpreter": {
    "hash": "0a06d46228816a09a363af1e595d105bbb6467fa58d20723a264e13439516ec3"
   }
  }
 },
 "nbformat": 4,
 "nbformat_minor": 5
}
